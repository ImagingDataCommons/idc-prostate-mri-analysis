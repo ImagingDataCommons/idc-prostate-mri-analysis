{
  "cells": [
    {
      "cell_type": "markdown",
      "metadata": {
        "id": "BZTbIfvIM48x"
      },
      "source": [
        "# Imports\n"
      ]
    },
    {
      "cell_type": "code",
      "source": [
        "!pip install scikit_posthocs"
      ],
      "metadata": {
        "colab": {
          "base_uri": "https://localhost:8080/"
        },
        "id": "cJJpGhfwbUZ2",
        "outputId": "7c1a082f-6dde-40e9-c977-312311cb4a14"
      },
      "execution_count": null,
      "outputs": [
        {
          "output_type": "stream",
          "name": "stdout",
          "text": [
            "Collecting scikit_posthocs\n",
            "  Downloading scikit_posthocs-0.9.1-py3-none-any.whl.metadata (5.8 kB)\n",
            "Requirement already satisfied: numpy in /usr/local/lib/python3.10/dist-packages (from scikit_posthocs) (1.26.4)\n",
            "Requirement already satisfied: scipy>=1.9.0 in /usr/local/lib/python3.10/dist-packages (from scikit_posthocs) (1.13.1)\n",
            "Requirement already satisfied: statsmodels in /usr/local/lib/python3.10/dist-packages (from scikit_posthocs) (0.14.4)\n",
            "Requirement already satisfied: pandas>=0.20.0 in /usr/local/lib/python3.10/dist-packages (from scikit_posthocs) (2.2.2)\n",
            "Requirement already satisfied: seaborn in /usr/local/lib/python3.10/dist-packages (from scikit_posthocs) (0.13.2)\n",
            "Requirement already satisfied: matplotlib in /usr/local/lib/python3.10/dist-packages (from scikit_posthocs) (3.7.1)\n",
            "Requirement already satisfied: python-dateutil>=2.8.2 in /usr/local/lib/python3.10/dist-packages (from pandas>=0.20.0->scikit_posthocs) (2.8.2)\n",
            "Requirement already satisfied: pytz>=2020.1 in /usr/local/lib/python3.10/dist-packages (from pandas>=0.20.0->scikit_posthocs) (2024.2)\n",
            "Requirement already satisfied: tzdata>=2022.7 in /usr/local/lib/python3.10/dist-packages (from pandas>=0.20.0->scikit_posthocs) (2024.2)\n",
            "Requirement already satisfied: contourpy>=1.0.1 in /usr/local/lib/python3.10/dist-packages (from matplotlib->scikit_posthocs) (1.3.0)\n",
            "Requirement already satisfied: cycler>=0.10 in /usr/local/lib/python3.10/dist-packages (from matplotlib->scikit_posthocs) (0.12.1)\n",
            "Requirement already satisfied: fonttools>=4.22.0 in /usr/local/lib/python3.10/dist-packages (from matplotlib->scikit_posthocs) (4.54.1)\n",
            "Requirement already satisfied: kiwisolver>=1.0.1 in /usr/local/lib/python3.10/dist-packages (from matplotlib->scikit_posthocs) (1.4.7)\n",
            "Requirement already satisfied: packaging>=20.0 in /usr/local/lib/python3.10/dist-packages (from matplotlib->scikit_posthocs) (24.1)\n",
            "Requirement already satisfied: pillow>=6.2.0 in /usr/local/lib/python3.10/dist-packages (from matplotlib->scikit_posthocs) (10.4.0)\n",
            "Requirement already satisfied: pyparsing>=2.3.1 in /usr/local/lib/python3.10/dist-packages (from matplotlib->scikit_posthocs) (3.1.4)\n",
            "Requirement already satisfied: patsy>=0.5.6 in /usr/local/lib/python3.10/dist-packages (from statsmodels->scikit_posthocs) (0.5.6)\n",
            "Requirement already satisfied: six in /usr/local/lib/python3.10/dist-packages (from patsy>=0.5.6->statsmodels->scikit_posthocs) (1.16.0)\n",
            "Downloading scikit_posthocs-0.9.1-py3-none-any.whl (32 kB)\n",
            "Installing collected packages: scikit_posthocs\n",
            "Successfully installed scikit_posthocs-0.9.1\n"
          ]
        }
      ]
    },
    {
      "cell_type": "code",
      "execution_count": null,
      "metadata": {
        "id": "qGkJL5__M48y"
      },
      "outputs": [],
      "source": [
        "import os\n",
        "import numpy as np\n",
        "import glob\n",
        "import pandas as pd\n",
        "import sklearn\n",
        "import seaborn as sns\n",
        "import matplotlib.pyplot as plt\n",
        "from scipy import stats\n",
        "import pylab"
      ]
    },
    {
      "cell_type": "code",
      "execution_count": null,
      "metadata": {
        "id": "L5kGJfQFM48z"
      },
      "outputs": [],
      "source": [
        "import plotly.graph_objects as go\n",
        "import plotly.express as px\n",
        "# import colorcet as cc\n",
        "import os\n",
        "import plotly.io as pio\n",
        "import scikit_posthocs as sp"
      ]
    },
    {
      "cell_type": "code",
      "execution_count": null,
      "metadata": {
        "id": "H-dTVvxlM48z"
      },
      "outputs": [],
      "source": [
        "from numpy.random import seed\n",
        "from numpy.random import randn\n",
        "from scipy.stats import shapiro\n",
        "from scipy.stats import friedmanchisquare"
      ]
    },
    {
      "cell_type": "code",
      "source": [
        "# #colab\n",
        "# from google.colab import auth\n",
        "# auth.authenticate_user()\n",
        "# project_id = \"idc-sandbox-003\"\n",
        "# os.environ[\"GCP_PROJECT_ID\"] = project_id\n",
        "# from google.cloud import bigquery\n",
        "# bq_client = bigquery.Client(os.environ[\"GCP_PROJECT_ID\"])"
      ],
      "metadata": {
        "id": "igW36UVGMhuh"
      },
      "execution_count": null,
      "outputs": []
    },
    {
      "cell_type": "code",
      "source": [
        "# selection_query = f\"\"\"\n",
        "# SELECT *\n",
        "# FROM `idc-sandbox-003.prostate_seg_terra_mhub_v3.final_table_looker_studio`\n",
        "#  \"\"\"\n",
        "# selection_result = bq_client.query(selection_query)\n",
        "# data_df = selection_result.result().to_dataframe()\n",
        "!wget https://raw.githubusercontent.com/ImagingDataCommons/idc-prostate-mri-analysis/refs/heads/main/analysis_results/analysis_results.csv -O analysis_results.csv\n",
        "data_df = pd.read_csv(\"analysis_results.csv\")"
      ],
      "metadata": {
        "id": "LQY_5qxfMogl"
      },
      "execution_count": null,
      "outputs": []
    },
    {
      "cell_type": "code",
      "execution_count": null,
      "metadata": {
        "scrolled": true,
        "id": "QXiPG1xvM48z"
      },
      "outputs": [],
      "source": [
        "# pd.set_option('display.max_colwidth', -1)"
      ]
    },
    {
      "cell_type": "code",
      "execution_count": null,
      "metadata": {
        "colab": {
          "base_uri": "https://localhost:8080/",
          "height": 17
        },
        "id": "x9rI-5CJM48z",
        "outputId": "dc83064e-802b-496a-cc05-74de4bb8957a"
      },
      "outputs": [
        {
          "output_type": "display_data",
          "data": {
            "text/plain": [
              "<IPython.core.display.HTML object>"
            ],
            "text/html": [
              "<style>.container { width:100% !important; }</style>"
            ]
          },
          "metadata": {}
        }
      ],
      "source": [
        "from IPython.display import display, HTML\n",
        "display(HTML(\"<style>.container { width:100% !important; }</style>\"))"
      ]
    },
    {
      "cell_type": "code",
      "execution_count": null,
      "metadata": {
        "colab": {
          "base_uri": "https://localhost:8080/"
        },
        "id": "Wcq5dY-VM48z",
        "outputId": "a7153f8c-2257-4446-8ccb-847ef1dc87c1"
      },
      "outputs": [
        {
          "output_type": "stream",
          "name": "stdout",
          "text": [
            "<class 'pandas.core.frame.DataFrame'>\n",
            "RangeIndex: 4909 entries, 0 to 4908\n",
            "Data columns (total 62 columns):\n",
            " #   Column                                Non-Null Count  Dtype  \n",
            "---  ------                                --------------  -----  \n",
            " 0   segmentationInstanceUID               4907 non-null   object \n",
            " 1   sourceSegmentedSeriesUID              4907 non-null   object \n",
            " 2   expert_QuantityCodeMeaning            4909 non-null   object \n",
            " 3   expert_QuantityCodeValue              4909 non-null   object \n",
            " 4   expert_Value                          4909 non-null   object \n",
            " 5   expert_UnitsCodeValue                 4909 non-null   object \n",
            " 6   expert_UnitsCodeMeaning               4909 non-null   object \n",
            " 7   expert_findingSiteCodeValue           4909 non-null   object \n",
            " 8   expert_findingSiteCodeMeaning         4909 non-null   object \n",
            " 9   ai_QuantityCodeMeaning                4907 non-null   object \n",
            " 10  ai_QuantityCodeValue                  4907 non-null   object \n",
            " 11  ai_QuantityCodingSchemeDesignator     4907 non-null   object \n",
            " 12  ai_Value                              4907 non-null   object \n",
            " 13  ai_UnitsCodeValue                     4907 non-null   object \n",
            " 14  ai_UnitsCodeMeaning                   4907 non-null   object \n",
            " 15  ai_findingSiteCodeValue               4907 non-null   object \n",
            " 16  ai_findingSiteCodeMeaning             4907 non-null   object \n",
            " 17  StudyInstanceUID                      4909 non-null   object \n",
            " 18  SeriesInstanceUID                     4909 non-null   object \n",
            " 19  SegmentedPropertyCategoryCodeValue    4909 non-null   object \n",
            " 20  SegmentedPropertyCategoryCodeMeaning  4909 non-null   object \n",
            " 21  SegmentedPropertyTypeCodeValue        4909 non-null   object \n",
            " 22  SegmentedPropertyTypeCodeMeaning      4909 non-null   object \n",
            " 23  SegmentAlgorithmType                  4909 non-null   object \n",
            " 24  SegmentNumber                         4909 non-null   Int64  \n",
            " 25  segmented_SeriesInstanceUID           4909 non-null   object \n",
            " 26  expert_measurements_SOPInstanceUID    4909 non-null   object \n",
            " 27  segmentation_SOPInstanceUID           4909 non-null   object \n",
            " 28  refSerieUID                           4909 non-null   object \n",
            " 29  ai_seg_serieUID                       4909 non-null   object \n",
            " 30  idc_seg_serieUID                      4909 non-null   object \n",
            " 31  aiSegmentNumber                       4909 non-null   Int64  \n",
            " 32  idcSegmentNumber                      4909 non-null   Int64  \n",
            " 33  idcSegmentCodeMeaning                 4909 non-null   object \n",
            " 34  aiSegmentCodeMeaning                  4909 non-null   object \n",
            " 35  aiSegmentCodeValue                    4909 non-null   Int64  \n",
            " 36  idcSegmentCodeValue                   4909 non-null   object \n",
            " 37  aiSegmentCodingScheme                 4909 non-null   object \n",
            " 38  idcSegmentCodingScheme                4909 non-null   object \n",
            " 39  dsc                                   4909 non-null   float64\n",
            " 40  hsdff                                 4909 non-null   float64\n",
            " 41  hsdff_95                              4909 non-null   float64\n",
            " 42  tp                                    4909 non-null   Int64  \n",
            " 43  fp                                    4909 non-null   Int64  \n",
            " 44  tn                                    4909 non-null   Int64  \n",
            " 45  fn                                    4909 non-null   Int64  \n",
            " 46  asd                                   4909 non-null   float64\n",
            " 47  collection_id                         4909 non-null   object \n",
            " 48  image_SeriesInstanceUID               4909 non-null   object \n",
            " 49  image_PixelSpacing                    4909 non-null   object \n",
            " 50  image_SliceThickness                  4909 non-null   float64\n",
            " 51  image_MagneticFieldStrength           4909 non-null   object \n",
            " 52  image_SeriesDate                      4909 non-null   dbdate \n",
            " 53  image_StudyDate                       4909 non-null   dbdate \n",
            " 54  image_StudyDescription                4909 non-null   object \n",
            " 55  image_StudyDescription_1              4909 non-null   object \n",
            " 56  image_Manufacturer                    4909 non-null   object \n",
            " 57  image_ManufacturerModelName           4909 non-null   object \n",
            " 58  image_PatientID                       4909 non-null   object \n",
            " 59  SegmentAlgorithmName                  4909 non-null   object \n",
            " 60  ohif_url                              4909 non-null   object \n",
            " 61  algorithmNameCollection               4909 non-null   object \n",
            "dtypes: Int64(8), dbdate(2), float64(5), object(47)\n",
            "memory usage: 2.4+ MB\n"
          ]
        }
      ],
      "source": [
        "data_df.info()"
      ]
    },
    {
      "cell_type": "code",
      "execution_count": null,
      "metadata": {
        "colab": {
          "base_uri": "https://localhost:8080/",
          "height": 342
        },
        "id": "ddrZoMicM48z",
        "outputId": "0d97acd2-b814-415b-cbd8-9350215fb7ed"
      },
      "outputs": [
        {
          "output_type": "execute_result",
          "data": {
            "text/plain": [
              "                             segmentationInstanceUID  \\\n",
              "0  1.2.276.0.7230010.3.1.4.313263360.645.17286796...   \n",
              "1  1.2.276.0.7230010.3.1.4.313263360.162.17286794...   \n",
              "2  1.2.276.0.7230010.3.1.4.313263360.151.17286799...   \n",
              "3  1.2.276.0.7230010.3.1.4.313263360.150.17286825...   \n",
              "4  1.2.276.0.7230010.3.1.4.313263360.210.17286796...   \n",
              "\n",
              "                            sourceSegmentedSeriesUID  \\\n",
              "0  1.3.6.1.4.1.14519.5.2.1.7310.5101.460054567474...   \n",
              "1  1.3.6.1.4.1.14519.5.2.1.7310.5101.460054567474...   \n",
              "2  1.3.6.1.4.1.14519.5.2.1.7310.5101.460054567474...   \n",
              "3  1.3.6.1.4.1.14519.5.2.1.7310.5101.460054567474...   \n",
              "4  1.3.6.1.4.1.14519.5.2.1.7311.5101.196511587017...   \n",
              "\n",
              "  expert_QuantityCodeMeaning expert_QuantityCodeValue      expert_Value  \\\n",
              "0             Volume of Mesh                     RNU0   58480.969000000   \n",
              "1             Volume of Mesh                     RNU0   58480.969000000   \n",
              "2             Volume of Mesh                     RNU0   58480.969000000   \n",
              "3             Volume of Mesh                     RNU0   58480.969000000   \n",
              "4             Volume of Mesh                     RNU0  131472.031000000   \n",
              "\n",
              "  expert_UnitsCodeValue expert_UnitsCodeMeaning expert_findingSiteCodeValue  \\\n",
              "0                   mm3        cubic millimeter                    41216001   \n",
              "1                   mm3        cubic millimeter                    41216001   \n",
              "2                   mm3        cubic millimeter                    41216001   \n",
              "3                   mm3        cubic millimeter                    41216001   \n",
              "4                   mm3        cubic millimeter                    41216001   \n",
              "\n",
              "  expert_findingSiteCodeMeaning ai_QuantityCodeMeaning  ... image_SeriesDate  \\\n",
              "0                      Prostate         Volume of Mesh  ...       2011-03-03   \n",
              "1                      Prostate         Volume of Mesh  ...       2011-03-03   \n",
              "2                      Prostate         Volume of Mesh  ...       2011-03-03   \n",
              "3                      Prostate         Volume of Mesh  ...       2011-03-03   \n",
              "4                      Prostate         Volume of Mesh  ...       2012-03-27   \n",
              "\n",
              "  image_StudyDate                         image_StudyDescription  \\\n",
              "0      2011-03-03  MR prostaat kanker detectie WDS_mc MCAPRODETW   \n",
              "1      2011-03-03  MR prostaat kanker detectie WDS_mc MCAPRODETW   \n",
              "2      2011-03-03  MR prostaat kanker detectie WDS_mc MCAPRODETW   \n",
              "3      2011-03-03  MR prostaat kanker detectie WDS_mc MCAPRODETW   \n",
              "4      2012-03-27  MR prostaat kanker detectie WDS_mc MCAPRODETW   \n",
              "\n",
              "                        image_StudyDescription_1 image_Manufacturer  \\\n",
              "0  MR prostaat kanker detectie WDS_mc MCAPRODETW            SIEMENS   \n",
              "1  MR prostaat kanker detectie WDS_mc MCAPRODETW            SIEMENS   \n",
              "2  MR prostaat kanker detectie WDS_mc MCAPRODETW            SIEMENS   \n",
              "3  MR prostaat kanker detectie WDS_mc MCAPRODETW            SIEMENS   \n",
              "4  MR prostaat kanker detectie WDS_mc MCAPRODETW            SIEMENS   \n",
              "\n",
              "  image_ManufacturerModelName image_PatientID          SegmentAlgorithmName  \\\n",
              "0                       Skyra  ProstateX-0293  nnunet_prostate_zonal_task05   \n",
              "1                       Skyra  ProstateX-0293             monai_prostate158   \n",
              "2                       Skyra  ProstateX-0293       bamf_nnunet_mr_prostate   \n",
              "3                       Skyra  ProstateX-0293        nnunet_prostate_task24   \n",
              "4                       Skyra  ProstateX-0161       bamf_nnunet_mr_prostate   \n",
              "\n",
              "                                            ohif_url  \\\n",
              "0  https://fir-idc-prostate-ohif.web.app/viewer/1...   \n",
              "1  https://fir-idc-prostate-ohif.web.app/viewer/1...   \n",
              "2  https://fir-idc-prostate-ohif.web.app/viewer/1...   \n",
              "3  https://fir-idc-prostate-ohif.web.app/viewer/1...   \n",
              "4  https://fir-idc-prostate-ohif.web.app/viewer/1...   \n",
              "\n",
              "                  algorithmNameCollection  \n",
              "0  nnunet_prostate_zonal_task05-prostatex  \n",
              "1             monai_prostate158-prostatex  \n",
              "2       bamf_nnunet_mr_prostate-prostatex  \n",
              "3        nnunet_prostate_task24-prostatex  \n",
              "4       bamf_nnunet_mr_prostate-prostatex  \n",
              "\n",
              "[5 rows x 62 columns]"
            ],
            "text/html": [
              "\n",
              "  <div id=\"df-dbf0d6e9-f6dc-4a98-ab16-a3a93450e72a\" class=\"colab-df-container\">\n",
              "    <div>\n",
              "<style scoped>\n",
              "    .dataframe tbody tr th:only-of-type {\n",
              "        vertical-align: middle;\n",
              "    }\n",
              "\n",
              "    .dataframe tbody tr th {\n",
              "        vertical-align: top;\n",
              "    }\n",
              "\n",
              "    .dataframe thead th {\n",
              "        text-align: right;\n",
              "    }\n",
              "</style>\n",
              "<table border=\"1\" class=\"dataframe\">\n",
              "  <thead>\n",
              "    <tr style=\"text-align: right;\">\n",
              "      <th></th>\n",
              "      <th>segmentationInstanceUID</th>\n",
              "      <th>sourceSegmentedSeriesUID</th>\n",
              "      <th>expert_QuantityCodeMeaning</th>\n",
              "      <th>expert_QuantityCodeValue</th>\n",
              "      <th>expert_Value</th>\n",
              "      <th>expert_UnitsCodeValue</th>\n",
              "      <th>expert_UnitsCodeMeaning</th>\n",
              "      <th>expert_findingSiteCodeValue</th>\n",
              "      <th>expert_findingSiteCodeMeaning</th>\n",
              "      <th>ai_QuantityCodeMeaning</th>\n",
              "      <th>...</th>\n",
              "      <th>image_SeriesDate</th>\n",
              "      <th>image_StudyDate</th>\n",
              "      <th>image_StudyDescription</th>\n",
              "      <th>image_StudyDescription_1</th>\n",
              "      <th>image_Manufacturer</th>\n",
              "      <th>image_ManufacturerModelName</th>\n",
              "      <th>image_PatientID</th>\n",
              "      <th>SegmentAlgorithmName</th>\n",
              "      <th>ohif_url</th>\n",
              "      <th>algorithmNameCollection</th>\n",
              "    </tr>\n",
              "  </thead>\n",
              "  <tbody>\n",
              "    <tr>\n",
              "      <th>0</th>\n",
              "      <td>1.2.276.0.7230010.3.1.4.313263360.645.17286796...</td>\n",
              "      <td>1.3.6.1.4.1.14519.5.2.1.7310.5101.460054567474...</td>\n",
              "      <td>Volume of Mesh</td>\n",
              "      <td>RNU0</td>\n",
              "      <td>58480.969000000</td>\n",
              "      <td>mm3</td>\n",
              "      <td>cubic millimeter</td>\n",
              "      <td>41216001</td>\n",
              "      <td>Prostate</td>\n",
              "      <td>Volume of Mesh</td>\n",
              "      <td>...</td>\n",
              "      <td>2011-03-03</td>\n",
              "      <td>2011-03-03</td>\n",
              "      <td>MR prostaat kanker detectie WDS_mc MCAPRODETW</td>\n",
              "      <td>MR prostaat kanker detectie WDS_mc MCAPRODETW</td>\n",
              "      <td>SIEMENS</td>\n",
              "      <td>Skyra</td>\n",
              "      <td>ProstateX-0293</td>\n",
              "      <td>nnunet_prostate_zonal_task05</td>\n",
              "      <td>https://fir-idc-prostate-ohif.web.app/viewer/1...</td>\n",
              "      <td>nnunet_prostate_zonal_task05-prostatex</td>\n",
              "    </tr>\n",
              "    <tr>\n",
              "      <th>1</th>\n",
              "      <td>1.2.276.0.7230010.3.1.4.313263360.162.17286794...</td>\n",
              "      <td>1.3.6.1.4.1.14519.5.2.1.7310.5101.460054567474...</td>\n",
              "      <td>Volume of Mesh</td>\n",
              "      <td>RNU0</td>\n",
              "      <td>58480.969000000</td>\n",
              "      <td>mm3</td>\n",
              "      <td>cubic millimeter</td>\n",
              "      <td>41216001</td>\n",
              "      <td>Prostate</td>\n",
              "      <td>Volume of Mesh</td>\n",
              "      <td>...</td>\n",
              "      <td>2011-03-03</td>\n",
              "      <td>2011-03-03</td>\n",
              "      <td>MR prostaat kanker detectie WDS_mc MCAPRODETW</td>\n",
              "      <td>MR prostaat kanker detectie WDS_mc MCAPRODETW</td>\n",
              "      <td>SIEMENS</td>\n",
              "      <td>Skyra</td>\n",
              "      <td>ProstateX-0293</td>\n",
              "      <td>monai_prostate158</td>\n",
              "      <td>https://fir-idc-prostate-ohif.web.app/viewer/1...</td>\n",
              "      <td>monai_prostate158-prostatex</td>\n",
              "    </tr>\n",
              "    <tr>\n",
              "      <th>2</th>\n",
              "      <td>1.2.276.0.7230010.3.1.4.313263360.151.17286799...</td>\n",
              "      <td>1.3.6.1.4.1.14519.5.2.1.7310.5101.460054567474...</td>\n",
              "      <td>Volume of Mesh</td>\n",
              "      <td>RNU0</td>\n",
              "      <td>58480.969000000</td>\n",
              "      <td>mm3</td>\n",
              "      <td>cubic millimeter</td>\n",
              "      <td>41216001</td>\n",
              "      <td>Prostate</td>\n",
              "      <td>Volume of Mesh</td>\n",
              "      <td>...</td>\n",
              "      <td>2011-03-03</td>\n",
              "      <td>2011-03-03</td>\n",
              "      <td>MR prostaat kanker detectie WDS_mc MCAPRODETW</td>\n",
              "      <td>MR prostaat kanker detectie WDS_mc MCAPRODETW</td>\n",
              "      <td>SIEMENS</td>\n",
              "      <td>Skyra</td>\n",
              "      <td>ProstateX-0293</td>\n",
              "      <td>bamf_nnunet_mr_prostate</td>\n",
              "      <td>https://fir-idc-prostate-ohif.web.app/viewer/1...</td>\n",
              "      <td>bamf_nnunet_mr_prostate-prostatex</td>\n",
              "    </tr>\n",
              "    <tr>\n",
              "      <th>3</th>\n",
              "      <td>1.2.276.0.7230010.3.1.4.313263360.150.17286825...</td>\n",
              "      <td>1.3.6.1.4.1.14519.5.2.1.7310.5101.460054567474...</td>\n",
              "      <td>Volume of Mesh</td>\n",
              "      <td>RNU0</td>\n",
              "      <td>58480.969000000</td>\n",
              "      <td>mm3</td>\n",
              "      <td>cubic millimeter</td>\n",
              "      <td>41216001</td>\n",
              "      <td>Prostate</td>\n",
              "      <td>Volume of Mesh</td>\n",
              "      <td>...</td>\n",
              "      <td>2011-03-03</td>\n",
              "      <td>2011-03-03</td>\n",
              "      <td>MR prostaat kanker detectie WDS_mc MCAPRODETW</td>\n",
              "      <td>MR prostaat kanker detectie WDS_mc MCAPRODETW</td>\n",
              "      <td>SIEMENS</td>\n",
              "      <td>Skyra</td>\n",
              "      <td>ProstateX-0293</td>\n",
              "      <td>nnunet_prostate_task24</td>\n",
              "      <td>https://fir-idc-prostate-ohif.web.app/viewer/1...</td>\n",
              "      <td>nnunet_prostate_task24-prostatex</td>\n",
              "    </tr>\n",
              "    <tr>\n",
              "      <th>4</th>\n",
              "      <td>1.2.276.0.7230010.3.1.4.313263360.210.17286796...</td>\n",
              "      <td>1.3.6.1.4.1.14519.5.2.1.7311.5101.196511587017...</td>\n",
              "      <td>Volume of Mesh</td>\n",
              "      <td>RNU0</td>\n",
              "      <td>131472.031000000</td>\n",
              "      <td>mm3</td>\n",
              "      <td>cubic millimeter</td>\n",
              "      <td>41216001</td>\n",
              "      <td>Prostate</td>\n",
              "      <td>Volume of Mesh</td>\n",
              "      <td>...</td>\n",
              "      <td>2012-03-27</td>\n",
              "      <td>2012-03-27</td>\n",
              "      <td>MR prostaat kanker detectie WDS_mc MCAPRODETW</td>\n",
              "      <td>MR prostaat kanker detectie WDS_mc MCAPRODETW</td>\n",
              "      <td>SIEMENS</td>\n",
              "      <td>Skyra</td>\n",
              "      <td>ProstateX-0161</td>\n",
              "      <td>bamf_nnunet_mr_prostate</td>\n",
              "      <td>https://fir-idc-prostate-ohif.web.app/viewer/1...</td>\n",
              "      <td>bamf_nnunet_mr_prostate-prostatex</td>\n",
              "    </tr>\n",
              "  </tbody>\n",
              "</table>\n",
              "<p>5 rows × 62 columns</p>\n",
              "</div>\n",
              "    <div class=\"colab-df-buttons\">\n",
              "\n",
              "  <div class=\"colab-df-container\">\n",
              "    <button class=\"colab-df-convert\" onclick=\"convertToInteractive('df-dbf0d6e9-f6dc-4a98-ab16-a3a93450e72a')\"\n",
              "            title=\"Convert this dataframe to an interactive table.\"\n",
              "            style=\"display:none;\">\n",
              "\n",
              "  <svg xmlns=\"http://www.w3.org/2000/svg\" height=\"24px\" viewBox=\"0 -960 960 960\">\n",
              "    <path d=\"M120-120v-720h720v720H120Zm60-500h600v-160H180v160Zm220 220h160v-160H400v160Zm0 220h160v-160H400v160ZM180-400h160v-160H180v160Zm440 0h160v-160H620v160ZM180-180h160v-160H180v160Zm440 0h160v-160H620v160Z\"/>\n",
              "  </svg>\n",
              "    </button>\n",
              "\n",
              "  <style>\n",
              "    .colab-df-container {\n",
              "      display:flex;\n",
              "      gap: 12px;\n",
              "    }\n",
              "\n",
              "    .colab-df-convert {\n",
              "      background-color: #E8F0FE;\n",
              "      border: none;\n",
              "      border-radius: 50%;\n",
              "      cursor: pointer;\n",
              "      display: none;\n",
              "      fill: #1967D2;\n",
              "      height: 32px;\n",
              "      padding: 0 0 0 0;\n",
              "      width: 32px;\n",
              "    }\n",
              "\n",
              "    .colab-df-convert:hover {\n",
              "      background-color: #E2EBFA;\n",
              "      box-shadow: 0px 1px 2px rgba(60, 64, 67, 0.3), 0px 1px 3px 1px rgba(60, 64, 67, 0.15);\n",
              "      fill: #174EA6;\n",
              "    }\n",
              "\n",
              "    .colab-df-buttons div {\n",
              "      margin-bottom: 4px;\n",
              "    }\n",
              "\n",
              "    [theme=dark] .colab-df-convert {\n",
              "      background-color: #3B4455;\n",
              "      fill: #D2E3FC;\n",
              "    }\n",
              "\n",
              "    [theme=dark] .colab-df-convert:hover {\n",
              "      background-color: #434B5C;\n",
              "      box-shadow: 0px 1px 3px 1px rgba(0, 0, 0, 0.15);\n",
              "      filter: drop-shadow(0px 1px 2px rgba(0, 0, 0, 0.3));\n",
              "      fill: #FFFFFF;\n",
              "    }\n",
              "  </style>\n",
              "\n",
              "    <script>\n",
              "      const buttonEl =\n",
              "        document.querySelector('#df-dbf0d6e9-f6dc-4a98-ab16-a3a93450e72a button.colab-df-convert');\n",
              "      buttonEl.style.display =\n",
              "        google.colab.kernel.accessAllowed ? 'block' : 'none';\n",
              "\n",
              "      async function convertToInteractive(key) {\n",
              "        const element = document.querySelector('#df-dbf0d6e9-f6dc-4a98-ab16-a3a93450e72a');\n",
              "        const dataTable =\n",
              "          await google.colab.kernel.invokeFunction('convertToInteractive',\n",
              "                                                    [key], {});\n",
              "        if (!dataTable) return;\n",
              "\n",
              "        const docLinkHtml = 'Like what you see? Visit the ' +\n",
              "          '<a target=\"_blank\" href=https://colab.research.google.com/notebooks/data_table.ipynb>data table notebook</a>'\n",
              "          + ' to learn more about interactive tables.';\n",
              "        element.innerHTML = '';\n",
              "        dataTable['output_type'] = 'display_data';\n",
              "        await google.colab.output.renderOutput(dataTable, element);\n",
              "        const docLink = document.createElement('div');\n",
              "        docLink.innerHTML = docLinkHtml;\n",
              "        element.appendChild(docLink);\n",
              "      }\n",
              "    </script>\n",
              "  </div>\n",
              "\n",
              "\n",
              "<div id=\"df-74aad6de-61cf-42c3-9742-0e928405f381\">\n",
              "  <button class=\"colab-df-quickchart\" onclick=\"quickchart('df-74aad6de-61cf-42c3-9742-0e928405f381')\"\n",
              "            title=\"Suggest charts\"\n",
              "            style=\"display:none;\">\n",
              "\n",
              "<svg xmlns=\"http://www.w3.org/2000/svg\" height=\"24px\"viewBox=\"0 0 24 24\"\n",
              "     width=\"24px\">\n",
              "    <g>\n",
              "        <path d=\"M19 3H5c-1.1 0-2 .9-2 2v14c0 1.1.9 2 2 2h14c1.1 0 2-.9 2-2V5c0-1.1-.9-2-2-2zM9 17H7v-7h2v7zm4 0h-2V7h2v10zm4 0h-2v-4h2v4z\"/>\n",
              "    </g>\n",
              "</svg>\n",
              "  </button>\n",
              "\n",
              "<style>\n",
              "  .colab-df-quickchart {\n",
              "      --bg-color: #E8F0FE;\n",
              "      --fill-color: #1967D2;\n",
              "      --hover-bg-color: #E2EBFA;\n",
              "      --hover-fill-color: #174EA6;\n",
              "      --disabled-fill-color: #AAA;\n",
              "      --disabled-bg-color: #DDD;\n",
              "  }\n",
              "\n",
              "  [theme=dark] .colab-df-quickchart {\n",
              "      --bg-color: #3B4455;\n",
              "      --fill-color: #D2E3FC;\n",
              "      --hover-bg-color: #434B5C;\n",
              "      --hover-fill-color: #FFFFFF;\n",
              "      --disabled-bg-color: #3B4455;\n",
              "      --disabled-fill-color: #666;\n",
              "  }\n",
              "\n",
              "  .colab-df-quickchart {\n",
              "    background-color: var(--bg-color);\n",
              "    border: none;\n",
              "    border-radius: 50%;\n",
              "    cursor: pointer;\n",
              "    display: none;\n",
              "    fill: var(--fill-color);\n",
              "    height: 32px;\n",
              "    padding: 0;\n",
              "    width: 32px;\n",
              "  }\n",
              "\n",
              "  .colab-df-quickchart:hover {\n",
              "    background-color: var(--hover-bg-color);\n",
              "    box-shadow: 0 1px 2px rgba(60, 64, 67, 0.3), 0 1px 3px 1px rgba(60, 64, 67, 0.15);\n",
              "    fill: var(--button-hover-fill-color);\n",
              "  }\n",
              "\n",
              "  .colab-df-quickchart-complete:disabled,\n",
              "  .colab-df-quickchart-complete:disabled:hover {\n",
              "    background-color: var(--disabled-bg-color);\n",
              "    fill: var(--disabled-fill-color);\n",
              "    box-shadow: none;\n",
              "  }\n",
              "\n",
              "  .colab-df-spinner {\n",
              "    border: 2px solid var(--fill-color);\n",
              "    border-color: transparent;\n",
              "    border-bottom-color: var(--fill-color);\n",
              "    animation:\n",
              "      spin 1s steps(1) infinite;\n",
              "  }\n",
              "\n",
              "  @keyframes spin {\n",
              "    0% {\n",
              "      border-color: transparent;\n",
              "      border-bottom-color: var(--fill-color);\n",
              "      border-left-color: var(--fill-color);\n",
              "    }\n",
              "    20% {\n",
              "      border-color: transparent;\n",
              "      border-left-color: var(--fill-color);\n",
              "      border-top-color: var(--fill-color);\n",
              "    }\n",
              "    30% {\n",
              "      border-color: transparent;\n",
              "      border-left-color: var(--fill-color);\n",
              "      border-top-color: var(--fill-color);\n",
              "      border-right-color: var(--fill-color);\n",
              "    }\n",
              "    40% {\n",
              "      border-color: transparent;\n",
              "      border-right-color: var(--fill-color);\n",
              "      border-top-color: var(--fill-color);\n",
              "    }\n",
              "    60% {\n",
              "      border-color: transparent;\n",
              "      border-right-color: var(--fill-color);\n",
              "    }\n",
              "    80% {\n",
              "      border-color: transparent;\n",
              "      border-right-color: var(--fill-color);\n",
              "      border-bottom-color: var(--fill-color);\n",
              "    }\n",
              "    90% {\n",
              "      border-color: transparent;\n",
              "      border-bottom-color: var(--fill-color);\n",
              "    }\n",
              "  }\n",
              "</style>\n",
              "\n",
              "  <script>\n",
              "    async function quickchart(key) {\n",
              "      const quickchartButtonEl =\n",
              "        document.querySelector('#' + key + ' button');\n",
              "      quickchartButtonEl.disabled = true;  // To prevent multiple clicks.\n",
              "      quickchartButtonEl.classList.add('colab-df-spinner');\n",
              "      try {\n",
              "        const charts = await google.colab.kernel.invokeFunction(\n",
              "            'suggestCharts', [key], {});\n",
              "      } catch (error) {\n",
              "        console.error('Error during call to suggestCharts:', error);\n",
              "      }\n",
              "      quickchartButtonEl.classList.remove('colab-df-spinner');\n",
              "      quickchartButtonEl.classList.add('colab-df-quickchart-complete');\n",
              "    }\n",
              "    (() => {\n",
              "      let quickchartButtonEl =\n",
              "        document.querySelector('#df-74aad6de-61cf-42c3-9742-0e928405f381 button');\n",
              "      quickchartButtonEl.style.display =\n",
              "        google.colab.kernel.accessAllowed ? 'block' : 'none';\n",
              "    })();\n",
              "  </script>\n",
              "</div>\n",
              "\n",
              "    </div>\n",
              "  </div>\n"
            ],
            "application/vnd.google.colaboratory.intrinsic+json": {
              "type": "dataframe",
              "variable_name": "data_df"
            }
          },
          "metadata": {},
          "execution_count": 12
        }
      ],
      "source": [
        "data_df.head()"
      ]
    },
    {
      "cell_type": "markdown",
      "metadata": {
        "id": "-oAVhMj9M480"
      },
      "source": [
        "# Analysis\n"
      ]
    },
    {
      "cell_type": "markdown",
      "metadata": {
        "id": "sUj3IuAdM480"
      },
      "source": [
        "## Seaborn parameters\n"
      ]
    },
    {
      "cell_type": "code",
      "execution_count": null,
      "metadata": {
        "id": "NRjvfCe8M480"
      },
      "outputs": [],
      "source": [
        "sns.set(rc={'figure.figsize':(10,10)})\n",
        "# Setting the font size by 2.5\n",
        "sns.set(font_scale=1.5)"
      ]
    },
    {
      "cell_type": "markdown",
      "metadata": {
        "id": "JYjP10O2M480"
      },
      "source": [
        "## Mean and STDs of quantitative region and distance based metrics\n"
      ]
    },
    {
      "cell_type": "code",
      "execution_count": null,
      "metadata": {
        "colab": {
          "base_uri": "https://localhost:8080/"
        },
        "id": "jb9rkqFnM480",
        "outputId": "46f91b46-d691-4479-c3ac-3496eab9715d"
      },
      "outputs": [
        {
          "output_type": "execute_result",
          "data": {
            "text/plain": [
              "array(['nnunet_prostate_zonal_task05-prostatex',\n",
              "       'monai_prostate158-prostatex', 'bamf_nnunet_mr_prostate-prostatex',\n",
              "       'nnunet_prostate_task24-prostatex',\n",
              "       'bamf_nnunet_mr_prostate-prostate_mri_us_biopsy',\n",
              "       'nnunet_prostate_task24-prostate_mri_us_biopsy',\n",
              "       'nnunet_prostate_zonal_task05-prostate_mri_us_biopsy',\n",
              "       'monai_prostate158-prostate_mri_us_biopsy',\n",
              "       'bamf_nnunet_mr_prostate-qin_prostate_repeatability',\n",
              "       'nnunet_prostate_zonal_task05-qin_prostate_repeatability',\n",
              "       'monai_prostate158-qin_prostate_repeatability',\n",
              "       'nnunet_prostate_task24-qin_prostate_repeatability'], dtype=object)"
            ]
          },
          "metadata": {},
          "execution_count": 15
        }
      ],
      "source": [
        "data_df.algorithmNameCollection.unique()"
      ]
    },
    {
      "cell_type": "markdown",
      "metadata": {
        "id": "FT1tn8MfM480"
      },
      "source": [
        "### ProstateX\n"
      ]
    },
    {
      "cell_type": "markdown",
      "metadata": {
        "id": "27bTPhLvM480"
      },
      "source": [
        "#### Whole prostate\n"
      ]
    },
    {
      "cell_type": "code",
      "execution_count": null,
      "metadata": {
        "colab": {
          "base_uri": "https://localhost:8080/"
        },
        "id": "C4QHFgZmM480",
        "outputId": "87dd5851-eb83-4c9e-c52c-2597f5a6f662"
      },
      "outputs": [
        {
          "output_type": "stream",
          "name": "stdout",
          "text": [
            "<class 'pandas.core.frame.DataFrame'>\n",
            "Index: 392 entries, 0 to 3553\n",
            "Data columns (total 62 columns):\n",
            " #   Column                                Non-Null Count  Dtype  \n",
            "---  ------                                --------------  -----  \n",
            " 0   segmentationInstanceUID               392 non-null    object \n",
            " 1   sourceSegmentedSeriesUID              392 non-null    object \n",
            " 2   expert_QuantityCodeMeaning            392 non-null    object \n",
            " 3   expert_QuantityCodeValue              392 non-null    object \n",
            " 4   expert_Value                          392 non-null    object \n",
            " 5   expert_UnitsCodeValue                 392 non-null    object \n",
            " 6   expert_UnitsCodeMeaning               392 non-null    object \n",
            " 7   expert_findingSiteCodeValue           392 non-null    object \n",
            " 8   expert_findingSiteCodeMeaning         392 non-null    object \n",
            " 9   ai_QuantityCodeMeaning                392 non-null    object \n",
            " 10  ai_QuantityCodeValue                  392 non-null    object \n",
            " 11  ai_QuantityCodingSchemeDesignator     392 non-null    object \n",
            " 12  ai_Value                              392 non-null    object \n",
            " 13  ai_UnitsCodeValue                     392 non-null    object \n",
            " 14  ai_UnitsCodeMeaning                   392 non-null    object \n",
            " 15  ai_findingSiteCodeValue               392 non-null    object \n",
            " 16  ai_findingSiteCodeMeaning             392 non-null    object \n",
            " 17  StudyInstanceUID                      392 non-null    object \n",
            " 18  SeriesInstanceUID                     392 non-null    object \n",
            " 19  SegmentedPropertyCategoryCodeValue    392 non-null    object \n",
            " 20  SegmentedPropertyCategoryCodeMeaning  392 non-null    object \n",
            " 21  SegmentedPropertyTypeCodeValue        392 non-null    object \n",
            " 22  SegmentedPropertyTypeCodeMeaning      392 non-null    object \n",
            " 23  SegmentAlgorithmType                  392 non-null    object \n",
            " 24  SegmentNumber                         392 non-null    Int64  \n",
            " 25  segmented_SeriesInstanceUID           392 non-null    object \n",
            " 26  expert_measurements_SOPInstanceUID    392 non-null    object \n",
            " 27  segmentation_SOPInstanceUID           392 non-null    object \n",
            " 28  refSerieUID                           392 non-null    object \n",
            " 29  ai_seg_serieUID                       392 non-null    object \n",
            " 30  idc_seg_serieUID                      392 non-null    object \n",
            " 31  aiSegmentNumber                       392 non-null    Int64  \n",
            " 32  idcSegmentNumber                      392 non-null    Int64  \n",
            " 33  idcSegmentCodeMeaning                 392 non-null    object \n",
            " 34  aiSegmentCodeMeaning                  392 non-null    object \n",
            " 35  aiSegmentCodeValue                    392 non-null    Int64  \n",
            " 36  idcSegmentCodeValue                   392 non-null    object \n",
            " 37  aiSegmentCodingScheme                 392 non-null    object \n",
            " 38  idcSegmentCodingScheme                392 non-null    object \n",
            " 39  dsc                                   392 non-null    float64\n",
            " 40  hsdff                                 392 non-null    float64\n",
            " 41  hsdff_95                              392 non-null    float64\n",
            " 42  tp                                    392 non-null    Int64  \n",
            " 43  fp                                    392 non-null    Int64  \n",
            " 44  tn                                    392 non-null    Int64  \n",
            " 45  fn                                    392 non-null    Int64  \n",
            " 46  asd                                   392 non-null    float64\n",
            " 47  collection_id                         392 non-null    object \n",
            " 48  image_SeriesInstanceUID               392 non-null    object \n",
            " 49  image_PixelSpacing                    392 non-null    object \n",
            " 50  image_SliceThickness                  392 non-null    float64\n",
            " 51  image_MagneticFieldStrength           392 non-null    object \n",
            " 52  image_SeriesDate                      392 non-null    dbdate \n",
            " 53  image_StudyDate                       392 non-null    dbdate \n",
            " 54  image_StudyDescription                392 non-null    object \n",
            " 55  image_StudyDescription_1              392 non-null    object \n",
            " 56  image_Manufacturer                    392 non-null    object \n",
            " 57  image_ManufacturerModelName           392 non-null    object \n",
            " 58  image_PatientID                       392 non-null    object \n",
            " 59  SegmentAlgorithmName                  392 non-null    object \n",
            " 60  ohif_url                              392 non-null    object \n",
            " 61  algorithmNameCollection               392 non-null    object \n",
            "dtypes: Int64(8), dbdate(2), float64(5), object(47)\n",
            "memory usage: 196.0+ KB\n"
          ]
        }
      ],
      "source": [
        "prostate_prostatex_df = data_df[(data_df.collection_id == 'prostatex') & (data_df.SegmentedPropertyTypeCodeMeaning.isin(['Prostate', 'Prostatic structure']))]\n",
        "len(prostate_prostatex_df)"
      ]
    },
    {
      "cell_type": "code",
      "execution_count": null,
      "metadata": {
        "colab": {
          "base_uri": "https://localhost:8080/",
          "height": 326
        },
        "id": "8qbAKBl7M480",
        "outputId": "f6ba987b-fce6-4d54-d403-517ef06f85bb"
      },
      "outputs": [
        {
          "output_type": "execute_result",
          "data": {
            "text/plain": [
              "<seaborn.axisgrid.FacetGrid at 0x7cc9c4cbf4c0>"
            ]
          },
          "metadata": {},
          "execution_count": 17
        },
        {
          "output_type": "display_data",
          "data": {
            "text/plain": [
              "<Figure size 1048.37x500 with 1 Axes>"
            ],
            "image/png": "[encoded data removed]"
          },
          "metadata": {}
        }
      ],
      "source": [
        "sns.displot(prostate_prostatex_df,  x='dsc', hue=\"algorithmNameCollection\", kind=\"kde\", multiple=\"stack\")"
      ]
    },
    {
      "cell_type": "code",
      "execution_count": null,
      "metadata": {
        "id": "T4ZnIBilM480"
      },
      "outputs": [],
      "source": [
        "nnnunet_task024_prostate_df = prostate_prostatex_df[prostate_prostatex_df.algorithmNameCollection == 'nnunet_prostate_task24-prostatex']\n",
        "nnnunet_task05_prostate_df = prostate_prostatex_df[prostate_prostatex_df.algorithmNameCollection == 'nnunet_prostate_zonal_task05-prostatex']\n",
        "monai_prostate158_prostate_df = prostate_prostatex_df[prostate_prostatex_df.algorithmNameCollection == 'monai_prostate158-prostatex']\n",
        "bamf_nnunet_mr_prostate_df = prostate_prostatex_df[prostate_prostatex_df.algorithmNameCollection == 'bamf_nnunet_mr_prostate-prostatex']"
      ]
    },
    {
      "cell_type": "code",
      "source": [
        "assert sorted(nnnunet_task024_prostate_df.refSerieUID.unique()) == sorted(nnnunet_task05_prostate_df.refSerieUID.unique()) == sorted(monai_prostate158_prostate_df.refSerieUID.unique()) == sorted(bamf_nnunet_mr_prostate_df.refSerieUID.unique())"
      ],
      "metadata": {
        "id": "GM0EV0B4joqm"
      },
      "execution_count": null,
      "outputs": []
    },
    {
      "cell_type": "code",
      "source": [
        "len(nnnunet_task024_prostate_df)"
      ],
      "metadata": {
        "colab": {
          "base_uri": "https://localhost:8080/"
        },
        "id": "L871-N_x-60-",
        "outputId": "5938e826-7c71-4aea-c476-0765048c8387"
      },
      "execution_count": null,
      "outputs": [
        {
          "output_type": "execute_result",
          "data": {
            "text/plain": [
              "98"
            ]
          },
          "metadata": {},
          "execution_count": 95
        }
      ]
    },
    {
      "cell_type": "code",
      "execution_count": null,
      "metadata": {
        "colab": {
          "base_uri": "https://localhost:8080/",
          "height": 300
        },
        "id": "Fm4-t0HDM480",
        "outputId": "aa92565c-a195-473f-b021-c26d0b7d593b"
      },
      "outputs": [
        {
          "output_type": "execute_result",
          "data": {
            "text/plain": [
              "             dsc        asd      hsdff\n",
              "count  98.000000  98.000000  98.000000\n",
              "mean    0.925558   0.510102   6.895405\n",
              "std     0.028936   0.424957   3.621366\n",
              "min     0.740932   0.000000   3.000000\n",
              "25%     0.914818   0.000000   4.690416\n",
              "50%     0.932957   0.530000   6.000000\n",
              "75%     0.942233   0.835000   6.991048\n",
              "max     0.959794   1.350000  26.196373"
            ],
            "text/html": [
              "\n",
              "  <div id=\"df-42212617-4c51-4977-9c31-1480d0826f5b\" class=\"colab-df-container\">\n",
              "    <div>\n",
              "<style scoped>\n",
              "    .dataframe tbody tr th:only-of-type {\n",
              "        vertical-align: middle;\n",
              "    }\n",
              "\n",
              "    .dataframe tbody tr th {\n",
              "        vertical-align: top;\n",
              "    }\n",
              "\n",
              "    .dataframe thead th {\n",
              "        text-align: right;\n",
              "    }\n",
              "</style>\n",
              "<table border=\"1\" class=\"dataframe\">\n",
              "  <thead>\n",
              "    <tr style=\"text-align: right;\">\n",
              "      <th></th>\n",
              "      <th>dsc</th>\n",
              "      <th>asd</th>\n",
              "      <th>hsdff</th>\n",
              "    </tr>\n",
              "  </thead>\n",
              "  <tbody>\n",
              "    <tr>\n",
              "      <th>count</th>\n",
              "      <td>98.000000</td>\n",
              "      <td>98.000000</td>\n",
              "      <td>98.000000</td>\n",
              "    </tr>\n",
              "    <tr>\n",
              "      <th>mean</th>\n",
              "      <td>0.925558</td>\n",
              "      <td>0.510102</td>\n",
              "      <td>6.895405</td>\n",
              "    </tr>\n",
              "    <tr>\n",
              "      <th>std</th>\n",
              "      <td>0.028936</td>\n",
              "      <td>0.424957</td>\n",
              "      <td>3.621366</td>\n",
              "    </tr>\n",
              "    <tr>\n",
              "      <th>min</th>\n",
              "      <td>0.740932</td>\n",
              "      <td>0.000000</td>\n",
              "      <td>3.000000</td>\n",
              "    </tr>\n",
              "    <tr>\n",
              "      <th>25%</th>\n",
              "      <td>0.914818</td>\n",
              "      <td>0.000000</td>\n",
              "      <td>4.690416</td>\n",
              "    </tr>\n",
              "    <tr>\n",
              "      <th>50%</th>\n",
              "      <td>0.932957</td>\n",
              "      <td>0.530000</td>\n",
              "      <td>6.000000</td>\n",
              "    </tr>\n",
              "    <tr>\n",
              "      <th>75%</th>\n",
              "      <td>0.942233</td>\n",
              "      <td>0.835000</td>\n",
              "      <td>6.991048</td>\n",
              "    </tr>\n",
              "    <tr>\n",
              "      <th>max</th>\n",
              "      <td>0.959794</td>\n",
              "      <td>1.350000</td>\n",
              "      <td>26.196373</td>\n",
              "    </tr>\n",
              "  </tbody>\n",
              "</table>\n",
              "</div>\n",
              "    <div class=\"colab-df-buttons\">\n",
              "\n",
              "  <div class=\"colab-df-container\">\n",
              "    <button class=\"colab-df-convert\" onclick=\"convertToInteractive('df-42212617-4c51-4977-9c31-1480d0826f5b')\"\n",
              "            title=\"Convert this dataframe to an interactive table.\"\n",
              "            style=\"display:none;\">\n",
              "\n",
              "  <svg xmlns=\"http://www.w3.org/2000/svg\" height=\"24px\" viewBox=\"0 -960 960 960\">\n",
              "    <path d=\"M120-120v-720h720v720H120Zm60-500h600v-160H180v160Zm220 220h160v-160H400v160Zm0 220h160v-160H400v160ZM180-400h160v-160H180v160Zm440 0h160v-160H620v160ZM180-180h160v-160H180v160Zm440 0h160v-160H620v160Z\"/>\n",
              "  </svg>\n",
              "    </button>\n",
              "\n",
              "  <style>\n",
              "    .colab-df-container {\n",
              "      display:flex;\n",
              "      gap: 12px;\n",
              "    }\n",
              "\n",
              "    .colab-df-convert {\n",
              "      background-color: #E8F0FE;\n",
              "      border: none;\n",
              "      border-radius: 50%;\n",
              "      cursor: pointer;\n",
              "      display: none;\n",
              "      fill: #1967D2;\n",
              "      height: 32px;\n",
              "      padding: 0 0 0 0;\n",
              "      width: 32px;\n",
              "    }\n",
              "\n",
              "    .colab-df-convert:hover {\n",
              "      background-color: #E2EBFA;\n",
              "      box-shadow: 0px 1px 2px rgba(60, 64, 67, 0.3), 0px 1px 3px 1px rgba(60, 64, 67, 0.15);\n",
              "      fill: #174EA6;\n",
              "    }\n",
              "\n",
              "    .colab-df-buttons div {\n",
              "      margin-bottom: 4px;\n",
              "    }\n",
              "\n",
              "    [theme=dark] .colab-df-convert {\n",
              "      background-color: #3B4455;\n",
              "      fill: #D2E3FC;\n",
              "    }\n",
              "\n",
              "    [theme=dark] .colab-df-convert:hover {\n",
              "      background-color: #434B5C;\n",
              "      box-shadow: 0px 1px 3px 1px rgba(0, 0, 0, 0.15);\n",
              "      filter: drop-shadow(0px 1px 2px rgba(0, 0, 0, 0.3));\n",
              "      fill: #FFFFFF;\n",
              "    }\n",
              "  </style>\n",
              "\n",
              "    <script>\n",
              "      const buttonEl =\n",
              "        document.querySelector('#df-42212617-4c51-4977-9c31-1480d0826f5b button.colab-df-convert');\n",
              "      buttonEl.style.display =\n",
              "        google.colab.kernel.accessAllowed ? 'block' : 'none';\n",
              "\n",
              "      async function convertToInteractive(key) {\n",
              "        const element = document.querySelector('#df-42212617-4c51-4977-9c31-1480d0826f5b');\n",
              "        const dataTable =\n",
              "          await google.colab.kernel.invokeFunction('convertToInteractive',\n",
              "                                                    [key], {});\n",
              "        if (!dataTable) return;\n",
              "\n",
              "        const docLinkHtml = 'Like what you see? Visit the ' +\n",
              "          '<a target=\"_blank\" href=https://colab.research.google.com/notebooks/data_table.ipynb>data table notebook</a>'\n",
              "          + ' to learn more about interactive tables.';\n",
              "        element.innerHTML = '';\n",
              "        dataTable['output_type'] = 'display_data';\n",
              "        await google.colab.output.renderOutput(dataTable, element);\n",
              "        const docLink = document.createElement('div');\n",
              "        docLink.innerHTML = docLinkHtml;\n",
              "        element.appendChild(docLink);\n",
              "      }\n",
              "    </script>\n",
              "  </div>\n",
              "\n",
              "\n",
              "<div id=\"df-e88c8361-3de9-4aac-ae61-858c46638801\">\n",
              "  <button class=\"colab-df-quickchart\" onclick=\"quickchart('df-e88c8361-3de9-4aac-ae61-858c46638801')\"\n",
              "            title=\"Suggest charts\"\n",
              "            style=\"display:none;\">\n",
              "\n",
              "<svg xmlns=\"http://www.w3.org/2000/svg\" height=\"24px\"viewBox=\"0 0 24 24\"\n",
              "     width=\"24px\">\n",
              "    <g>\n",
              "        <path d=\"M19 3H5c-1.1 0-2 .9-2 2v14c0 1.1.9 2 2 2h14c1.1 0 2-.9 2-2V5c0-1.1-.9-2-2-2zM9 17H7v-7h2v7zm4 0h-2V7h2v10zm4 0h-2v-4h2v4z\"/>\n",
              "    </g>\n",
              "</svg>\n",
              "  </button>\n",
              "\n",
              "<style>\n",
              "  .colab-df-quickchart {\n",
              "      --bg-color: #E8F0FE;\n",
              "      --fill-color: #1967D2;\n",
              "      --hover-bg-color: #E2EBFA;\n",
              "      --hover-fill-color: #174EA6;\n",
              "      --disabled-fill-color: #AAA;\n",
              "      --disabled-bg-color: #DDD;\n",
              "  }\n",
              "\n",
              "  [theme=dark] .colab-df-quickchart {\n",
              "      --bg-color: #3B4455;\n",
              "      --fill-color: #D2E3FC;\n",
              "      --hover-bg-color: #434B5C;\n",
              "      --hover-fill-color: #FFFFFF;\n",
              "      --disabled-bg-color: #3B4455;\n",
              "      --disabled-fill-color: #666;\n",
              "  }\n",
              "\n",
              "  .colab-df-quickchart {\n",
              "    background-color: var(--bg-color);\n",
              "    border: none;\n",
              "    border-radius: 50%;\n",
              "    cursor: pointer;\n",
              "    display: none;\n",
              "    fill: var(--fill-color);\n",
              "    height: 32px;\n",
              "    padding: 0;\n",
              "    width: 32px;\n",
              "  }\n",
              "\n",
              "  .colab-df-quickchart:hover {\n",
              "    background-color: var(--hover-bg-color);\n",
              "    box-shadow: 0 1px 2px rgba(60, 64, 67, 0.3), 0 1px 3px 1px rgba(60, 64, 67, 0.15);\n",
              "    fill: var(--button-hover-fill-color);\n",
              "  }\n",
              "\n",
              "  .colab-df-quickchart-complete:disabled,\n",
              "  .colab-df-quickchart-complete:disabled:hover {\n",
              "    background-color: var(--disabled-bg-color);\n",
              "    fill: var(--disabled-fill-color);\n",
              "    box-shadow: none;\n",
              "  }\n",
              "\n",
              "  .colab-df-spinner {\n",
              "    border: 2px solid var(--fill-color);\n",
              "    border-color: transparent;\n",
              "    border-bottom-color: var(--fill-color);\n",
              "    animation:\n",
              "      spin 1s steps(1) infinite;\n",
              "  }\n",
              "\n",
              "  @keyframes spin {\n",
              "    0% {\n",
              "      border-color: transparent;\n",
              "      border-bottom-color: var(--fill-color);\n",
              "      border-left-color: var(--fill-color);\n",
              "    }\n",
              "    20% {\n",
              "      border-color: transparent;\n",
              "      border-left-color: var(--fill-color);\n",
              "      border-top-color: var(--fill-color);\n",
              "    }\n",
              "    30% {\n",
              "      border-color: transparent;\n",
              "      border-left-color: var(--fill-color);\n",
              "      border-top-color: var(--fill-color);\n",
              "      border-right-color: var(--fill-color);\n",
              "    }\n",
              "    40% {\n",
              "      border-color: transparent;\n",
              "      border-right-color: var(--fill-color);\n",
              "      border-top-color: var(--fill-color);\n",
              "    }\n",
              "    60% {\n",
              "      border-color: transparent;\n",
              "      border-right-color: var(--fill-color);\n",
              "    }\n",
              "    80% {\n",
              "      border-color: transparent;\n",
              "      border-right-color: var(--fill-color);\n",
              "      border-bottom-color: var(--fill-color);\n",
              "    }\n",
              "    90% {\n",
              "      border-color: transparent;\n",
              "      border-bottom-color: var(--fill-color);\n",
              "    }\n",
              "  }\n",
              "</style>\n",
              "\n",
              "  <script>\n",
              "    async function quickchart(key) {\n",
              "      const quickchartButtonEl =\n",
              "        document.querySelector('#' + key + ' button');\n",
              "      quickchartButtonEl.disabled = true;  // To prevent multiple clicks.\n",
              "      quickchartButtonEl.classList.add('colab-df-spinner');\n",
              "      try {\n",
              "        const charts = await google.colab.kernel.invokeFunction(\n",
              "            'suggestCharts', [key], {});\n",
              "      } catch (error) {\n",
              "        console.error('Error during call to suggestCharts:', error);\n",
              "      }\n",
              "      quickchartButtonEl.classList.remove('colab-df-spinner');\n",
              "      quickchartButtonEl.classList.add('colab-df-quickchart-complete');\n",
              "    }\n",
              "    (() => {\n",
              "      let quickchartButtonEl =\n",
              "        document.querySelector('#df-e88c8361-3de9-4aac-ae61-858c46638801 button');\n",
              "      quickchartButtonEl.style.display =\n",
              "        google.colab.kernel.accessAllowed ? 'block' : 'none';\n",
              "    })();\n",
              "  </script>\n",
              "</div>\n",
              "\n",
              "    </div>\n",
              "  </div>\n"
            ],
            "application/vnd.google.colaboratory.intrinsic+json": {
              "type": "dataframe",
              "summary": "{\n  \"name\": \"nnnunet_task024_prostate_df[['dsc', 'asd', 'hsdff']]\",\n  \"rows\": 8,\n  \"fields\": [\n    {\n      \"column\": \"dsc\",\n      \"properties\": {\n        \"dtype\": \"number\",\n        \"std\": 34.374634275859364,\n        \"min\": 0.0289358628683878,\n        \"max\": 98.0,\n        \"num_unique_values\": 8,\n        \"samples\": [\n          0.9255584285714286,\n          0.9329575,\n          98.0\n        ],\n        \"semantic_type\": \"\",\n        \"description\": \"\"\n      }\n    },\n    {\n      \"column\": \"asd\",\n      \"properties\": {\n        \"dtype\": \"number\",\n        \"std\": 34.466649716922234,\n        \"min\": 0.0,\n        \"max\": 98.0,\n        \"num_unique_values\": 7,\n        \"samples\": [\n          98.0,\n          0.5101020408163266,\n          0.835\n        ],\n        \"semantic_type\": \"\",\n        \"description\": \"\"\n      }\n    },\n    {\n      \"column\": \"hsdff\",\n      \"properties\": {\n        \"dtype\": \"number\",\n        \"std\": 32.61977943989452,\n        \"min\": 3.0,\n        \"max\": 98.0,\n        \"num_unique_values\": 8,\n        \"samples\": [\n          6.895405275510204,\n          6.0,\n          98.0\n        ],\n        \"semantic_type\": \"\",\n        \"description\": \"\"\n      }\n    }\n  ]\n}"
            }
          },
          "metadata": {},
          "execution_count": 28
        }
      ],
      "source": [
        "nnnunet_task024_prostate_df[['dsc', 'asd', 'hsdff']].describe()"
      ]
    },
    {
      "cell_type": "code",
      "execution_count": null,
      "metadata": {
        "colab": {
          "base_uri": "https://localhost:8080/",
          "height": 300
        },
        "id": "_9qAkTEjM480",
        "outputId": "261c8272-3f11-483e-b432-92e38385a1f6"
      },
      "outputs": [
        {
          "output_type": "execute_result",
          "data": {
            "text/plain": [
              "             dsc   asd      hsdff\n",
              "count  98.000000  98.0  98.000000\n",
              "mean    0.895606   0.0  12.738488\n",
              "std     0.042162   0.0  14.181561\n",
              "min     0.636936   0.0   4.242640\n",
              "25%     0.881353   0.0   6.041523\n",
              "50%     0.902995   0.0   7.424387\n",
              "75%     0.922230   0.0   9.024271\n",
              "max     0.948072   0.0  59.625916"
            ],
            "text/html": [
              "\n",
              "  <div id=\"df-55c73b96-6ce6-4974-a6ab-3957a6b2ccb4\" class=\"colab-df-container\">\n",
              "    <div>\n",
              "<style scoped>\n",
              "    .dataframe tbody tr th:only-of-type {\n",
              "        vertical-align: middle;\n",
              "    }\n",
              "\n",
              "    .dataframe tbody tr th {\n",
              "        vertical-align: top;\n",
              "    }\n",
              "\n",
              "    .dataframe thead th {\n",
              "        text-align: right;\n",
              "    }\n",
              "</style>\n",
              "<table border=\"1\" class=\"dataframe\">\n",
              "  <thead>\n",
              "    <tr style=\"text-align: right;\">\n",
              "      <th></th>\n",
              "      <th>dsc</th>\n",
              "      <th>asd</th>\n",
              "      <th>hsdff</th>\n",
              "    </tr>\n",
              "  </thead>\n",
              "  <tbody>\n",
              "    <tr>\n",
              "      <th>count</th>\n",
              "      <td>98.000000</td>\n",
              "      <td>98.0</td>\n",
              "      <td>98.000000</td>\n",
              "    </tr>\n",
              "    <tr>\n",
              "      <th>mean</th>\n",
              "      <td>0.895606</td>\n",
              "      <td>0.0</td>\n",
              "      <td>12.738488</td>\n",
              "    </tr>\n",
              "    <tr>\n",
              "      <th>std</th>\n",
              "      <td>0.042162</td>\n",
              "      <td>0.0</td>\n",
              "      <td>14.181561</td>\n",
              "    </tr>\n",
              "    <tr>\n",
              "      <th>min</th>\n",
              "      <td>0.636936</td>\n",
              "      <td>0.0</td>\n",
              "      <td>4.242640</td>\n",
              "    </tr>\n",
              "    <tr>\n",
              "      <th>25%</th>\n",
              "      <td>0.881353</td>\n",
              "      <td>0.0</td>\n",
              "      <td>6.041523</td>\n",
              "    </tr>\n",
              "    <tr>\n",
              "      <th>50%</th>\n",
              "      <td>0.902995</td>\n",
              "      <td>0.0</td>\n",
              "      <td>7.424387</td>\n",
              "    </tr>\n",
              "    <tr>\n",
              "      <th>75%</th>\n",
              "      <td>0.922230</td>\n",
              "      <td>0.0</td>\n",
              "      <td>9.024271</td>\n",
              "    </tr>\n",
              "    <tr>\n",
              "      <th>max</th>\n",
              "      <td>0.948072</td>\n",
              "      <td>0.0</td>\n",
              "      <td>59.625916</td>\n",
              "    </tr>\n",
              "  </tbody>\n",
              "</table>\n",
              "</div>\n",
              "    <div class=\"colab-df-buttons\">\n",
              "\n",
              "  <div class=\"colab-df-container\">\n",
              "    <button class=\"colab-df-convert\" onclick=\"convertToInteractive('df-55c73b96-6ce6-4974-a6ab-3957a6b2ccb4')\"\n",
              "            title=\"Convert this dataframe to an interactive table.\"\n",
              "            style=\"display:none;\">\n",
              "\n",
              "  <svg xmlns=\"http://www.w3.org/2000/svg\" height=\"24px\" viewBox=\"0 -960 960 960\">\n",
              "    <path d=\"M120-120v-720h720v720H120Zm60-500h600v-160H180v160Zm220 220h160v-160H400v160Zm0 220h160v-160H400v160ZM180-400h160v-160H180v160Zm440 0h160v-160H620v160ZM180-180h160v-160H180v160Zm440 0h160v-160H620v160Z\"/>\n",
              "  </svg>\n",
              "    </button>\n",
              "\n",
              "  <style>\n",
              "    .colab-df-container {\n",
              "      display:flex;\n",
              "      gap: 12px;\n",
              "    }\n",
              "\n",
              "    .colab-df-convert {\n",
              "      background-color: #E8F0FE;\n",
              "      border: none;\n",
              "      border-radius: 50%;\n",
              "      cursor: pointer;\n",
              "      display: none;\n",
              "      fill: #1967D2;\n",
              "      height: 32px;\n",
              "      padding: 0 0 0 0;\n",
              "      width: 32px;\n",
              "    }\n",
              "\n",
              "    .colab-df-convert:hover {\n",
              "      background-color: #E2EBFA;\n",
              "      box-shadow: 0px 1px 2px rgba(60, 64, 67, 0.3), 0px 1px 3px 1px rgba(60, 64, 67, 0.15);\n",
              "      fill: #174EA6;\n",
              "    }\n",
              "\n",
              "    .colab-df-buttons div {\n",
              "      margin-bottom: 4px;\n",
              "    }\n",
              "\n",
              "    [theme=dark] .colab-df-convert {\n",
              "      background-color: #3B4455;\n",
              "      fill: #D2E3FC;\n",
              "    }\n",
              "\n",
              "    [theme=dark] .colab-df-convert:hover {\n",
              "      background-color: #434B5C;\n",
              "      box-shadow: 0px 1px 3px 1px rgba(0, 0, 0, 0.15);\n",
              "      filter: drop-shadow(0px 1px 2px rgba(0, 0, 0, 0.3));\n",
              "      fill: #FFFFFF;\n",
              "    }\n",
              "  </style>\n",
              "\n",
              "    <script>\n",
              "      const buttonEl =\n",
              "        document.querySelector('#df-55c73b96-6ce6-4974-a6ab-3957a6b2ccb4 button.colab-df-convert');\n",
              "      buttonEl.style.display =\n",
              "        google.colab.kernel.accessAllowed ? 'block' : 'none';\n",
              "\n",
              "      async function convertToInteractive(key) {\n",
              "        const element = document.querySelector('#df-55c73b96-6ce6-4974-a6ab-3957a6b2ccb4');\n",
              "        const dataTable =\n",
              "          await google.colab.kernel.invokeFunction('convertToInteractive',\n",
              "                                                    [key], {});\n",
              "        if (!dataTable) return;\n",
              "\n",
              "        const docLinkHtml = 'Like what you see? Visit the ' +\n",
              "          '<a target=\"_blank\" href=https://colab.research.google.com/notebooks/data_table.ipynb>data table notebook</a>'\n",
              "          + ' to learn more about interactive tables.';\n",
              "        element.innerHTML = '';\n",
              "        dataTable['output_type'] = 'display_data';\n",
              "        await google.colab.output.renderOutput(dataTable, element);\n",
              "        const docLink = document.createElement('div');\n",
              "        docLink.innerHTML = docLinkHtml;\n",
              "        element.appendChild(docLink);\n",
              "      }\n",
              "    </script>\n",
              "  </div>\n",
              "\n",
              "\n",
              "<div id=\"df-961e0923-ca11-4ab7-97f0-a204fc0a4a04\">\n",
              "  <button class=\"colab-df-quickchart\" onclick=\"quickchart('df-961e0923-ca11-4ab7-97f0-a204fc0a4a04')\"\n",
              "            title=\"Suggest charts\"\n",
              "            style=\"display:none;\">\n",
              "\n",
              "<svg xmlns=\"http://www.w3.org/2000/svg\" height=\"24px\"viewBox=\"0 0 24 24\"\n",
              "     width=\"24px\">\n",
              "    <g>\n",
              "        <path d=\"M19 3H5c-1.1 0-2 .9-2 2v14c0 1.1.9 2 2 2h14c1.1 0 2-.9 2-2V5c0-1.1-.9-2-2-2zM9 17H7v-7h2v7zm4 0h-2V7h2v10zm4 0h-2v-4h2v4z\"/>\n",
              "    </g>\n",
              "</svg>\n",
              "  </button>\n",
              "\n",
              "<style>\n",
              "  .colab-df-quickchart {\n",
              "      --bg-color: #E8F0FE;\n",
              "      --fill-color: #1967D2;\n",
              "      --hover-bg-color: #E2EBFA;\n",
              "      --hover-fill-color: #174EA6;\n",
              "      --disabled-fill-color: #AAA;\n",
              "      --disabled-bg-color: #DDD;\n",
              "  }\n",
              "\n",
              "  [theme=dark] .colab-df-quickchart {\n",
              "      --bg-color: #3B4455;\n",
              "      --fill-color: #D2E3FC;\n",
              "      --hover-bg-color: #434B5C;\n",
              "      --hover-fill-color: #FFFFFF;\n",
              "      --disabled-bg-color: #3B4455;\n",
              "      --disabled-fill-color: #666;\n",
              "  }\n",
              "\n",
              "  .colab-df-quickchart {\n",
              "    background-color: var(--bg-color);\n",
              "    border: none;\n",
              "    border-radius: 50%;\n",
              "    cursor: pointer;\n",
              "    display: none;\n",
              "    fill: var(--fill-color);\n",
              "    height: 32px;\n",
              "    padding: 0;\n",
              "    width: 32px;\n",
              "  }\n",
              "\n",
              "  .colab-df-quickchart:hover {\n",
              "    background-color: var(--hover-bg-color);\n",
              "    box-shadow: 0 1px 2px rgba(60, 64, 67, 0.3), 0 1px 3px 1px rgba(60, 64, 67, 0.15);\n",
              "    fill: var(--button-hover-fill-color);\n",
              "  }\n",
              "\n",
              "  .colab-df-quickchart-complete:disabled,\n",
              "  .colab-df-quickchart-complete:disabled:hover {\n",
              "    background-color: var(--disabled-bg-color);\n",
              "    fill: var(--disabled-fill-color);\n",
              "    box-shadow: none;\n",
              "  }\n",
              "\n",
              "  .colab-df-spinner {\n",
              "    border: 2px solid var(--fill-color);\n",
              "    border-color: transparent;\n",
              "    border-bottom-color: var(--fill-color);\n",
              "    animation:\n",
              "      spin 1s steps(1) infinite;\n",
              "  }\n",
              "\n",
              "  @keyframes spin {\n",
              "    0% {\n",
              "      border-color: transparent;\n",
              "      border-bottom-color: var(--fill-color);\n",
              "      border-left-color: var(--fill-color);\n",
              "    }\n",
              "    20% {\n",
              "      border-color: transparent;\n",
              "      border-left-color: var(--fill-color);\n",
              "      border-top-color: var(--fill-color);\n",
              "    }\n",
              "    30% {\n",
              "      border-color: transparent;\n",
              "      border-left-color: var(--fill-color);\n",
              "      border-top-color: var(--fill-color);\n",
              "      border-right-color: var(--fill-color);\n",
              "    }\n",
              "    40% {\n",
              "      border-color: transparent;\n",
              "      border-right-color: var(--fill-color);\n",
              "      border-top-color: var(--fill-color);\n",
              "    }\n",
              "    60% {\n",
              "      border-color: transparent;\n",
              "      border-right-color: var(--fill-color);\n",
              "    }\n",
              "    80% {\n",
              "      border-color: transparent;\n",
              "      border-right-color: var(--fill-color);\n",
              "      border-bottom-color: var(--fill-color);\n",
              "    }\n",
              "    90% {\n",
              "      border-color: transparent;\n",
              "      border-bottom-color: var(--fill-color);\n",
              "    }\n",
              "  }\n",
              "</style>\n",
              "\n",
              "  <script>\n",
              "    async function quickchart(key) {\n",
              "      const quickchartButtonEl =\n",
              "        document.querySelector('#' + key + ' button');\n",
              "      quickchartButtonEl.disabled = true;  // To prevent multiple clicks.\n",
              "      quickchartButtonEl.classList.add('colab-df-spinner');\n",
              "      try {\n",
              "        const charts = await google.colab.kernel.invokeFunction(\n",
              "            'suggestCharts', [key], {});\n",
              "      } catch (error) {\n",
              "        console.error('Error during call to suggestCharts:', error);\n",
              "      }\n",
              "      quickchartButtonEl.classList.remove('colab-df-spinner');\n",
              "      quickchartButtonEl.classList.add('colab-df-quickchart-complete');\n",
              "    }\n",
              "    (() => {\n",
              "      let quickchartButtonEl =\n",
              "        document.querySelector('#df-961e0923-ca11-4ab7-97f0-a204fc0a4a04 button');\n",
              "      quickchartButtonEl.style.display =\n",
              "        google.colab.kernel.accessAllowed ? 'block' : 'none';\n",
              "    })();\n",
              "  </script>\n",
              "</div>\n",
              "\n",
              "    </div>\n",
              "  </div>\n"
            ],
            "application/vnd.google.colaboratory.intrinsic+json": {
              "type": "dataframe",
              "summary": "{\n  \"name\": \"nnnunet_task05_prostate_df[['dsc', 'asd', 'hsdff']]\",\n  \"rows\": 8,\n  \"fields\": [\n    {\n      \"column\": \"dsc\",\n      \"properties\": {\n        \"dtype\": \"number\",\n        \"std\": 34.38544894519213,\n        \"min\": 0.04216150367945911,\n        \"max\": 98.0,\n        \"num_unique_values\": 8,\n        \"samples\": [\n          0.8956061122448977,\n          0.902995,\n          98.0\n        ],\n        \"semantic_type\": \"\",\n        \"description\": \"\"\n      }\n    },\n    {\n      \"column\": \"asd\",\n      \"properties\": {\n        \"dtype\": \"number\",\n        \"std\": 34.64823227814083,\n        \"min\": 0.0,\n        \"max\": 98.0,\n        \"num_unique_values\": 2,\n        \"samples\": [\n          0.0,\n          98.0\n        ],\n        \"semantic_type\": \"\",\n        \"description\": \"\"\n      }\n    },\n    {\n      \"column\": \"hsdff\",\n      \"properties\": {\n        \"dtype\": \"number\",\n        \"std\": 34.08781498709611,\n        \"min\": 4.24264,\n        \"max\": 98.0,\n        \"num_unique_values\": 8,\n        \"samples\": [\n          12.7384876122449,\n          7.4243875\n        ],\n        \"semantic_type\": \"\",\n        \"description\": \"\"\n      }\n    }\n  ]\n}"
            }
          },
          "metadata": {},
          "execution_count": 29
        }
      ],
      "source": [
        "nnnunet_task05_prostate_df[['dsc', 'asd', 'hsdff']].describe()"
      ]
    },
    {
      "cell_type": "code",
      "execution_count": null,
      "metadata": {
        "colab": {
          "base_uri": "https://localhost:8080/",
          "height": 300
        },
        "id": "HP5jpxeBM480",
        "outputId": "28703f73-bce9-40f0-c9e5-ed822143935d"
      },
      "outputs": [
        {
          "output_type": "execute_result",
          "data": {
            "text/plain": [
              "             dsc   asd      hsdff\n",
              "count  98.000000  98.0  98.000000\n",
              "mean    0.919073   0.0   6.940947\n",
              "std     0.018347   0.0   2.465612\n",
              "min     0.860250   0.0   3.535534\n",
              "25%     0.910644   0.0   5.830952\n",
              "50%     0.920005   0.0   6.103278\n",
              "75%     0.930457   0.0   8.111298\n",
              "max     0.956414   0.0  19.685020"
            ],
            "text/html": [
              "\n",
              "  <div id=\"df-cfb552a6-46a7-4c31-bd3a-ffeb0060386f\" class=\"colab-df-container\">\n",
              "    <div>\n",
              "<style scoped>\n",
              "    .dataframe tbody tr th:only-of-type {\n",
              "        vertical-align: middle;\n",
              "    }\n",
              "\n",
              "    .dataframe tbody tr th {\n",
              "        vertical-align: top;\n",
              "    }\n",
              "\n",
              "    .dataframe thead th {\n",
              "        text-align: right;\n",
              "    }\n",
              "</style>\n",
              "<table border=\"1\" class=\"dataframe\">\n",
              "  <thead>\n",
              "    <tr style=\"text-align: right;\">\n",
              "      <th></th>\n",
              "      <th>dsc</th>\n",
              "      <th>asd</th>\n",
              "      <th>hsdff</th>\n",
              "    </tr>\n",
              "  </thead>\n",
              "  <tbody>\n",
              "    <tr>\n",
              "      <th>count</th>\n",
              "      <td>98.000000</td>\n",
              "      <td>98.0</td>\n",
              "      <td>98.000000</td>\n",
              "    </tr>\n",
              "    <tr>\n",
              "      <th>mean</th>\n",
              "      <td>0.919073</td>\n",
              "      <td>0.0</td>\n",
              "      <td>6.940947</td>\n",
              "    </tr>\n",
              "    <tr>\n",
              "      <th>std</th>\n",
              "      <td>0.018347</td>\n",
              "      <td>0.0</td>\n",
              "      <td>2.465612</td>\n",
              "    </tr>\n",
              "    <tr>\n",
              "      <th>min</th>\n",
              "      <td>0.860250</td>\n",
              "      <td>0.0</td>\n",
              "      <td>3.535534</td>\n",
              "    </tr>\n",
              "    <tr>\n",
              "      <th>25%</th>\n",
              "      <td>0.910644</td>\n",
              "      <td>0.0</td>\n",
              "      <td>5.830952</td>\n",
              "    </tr>\n",
              "    <tr>\n",
              "      <th>50%</th>\n",
              "      <td>0.920005</td>\n",
              "      <td>0.0</td>\n",
              "      <td>6.103278</td>\n",
              "    </tr>\n",
              "    <tr>\n",
              "      <th>75%</th>\n",
              "      <td>0.930457</td>\n",
              "      <td>0.0</td>\n",
              "      <td>8.111298</td>\n",
              "    </tr>\n",
              "    <tr>\n",
              "      <th>max</th>\n",
              "      <td>0.956414</td>\n",
              "      <td>0.0</td>\n",
              "      <td>19.685020</td>\n",
              "    </tr>\n",
              "  </tbody>\n",
              "</table>\n",
              "</div>\n",
              "    <div class=\"colab-df-buttons\">\n",
              "\n",
              "  <div class=\"colab-df-container\">\n",
              "    <button class=\"colab-df-convert\" onclick=\"convertToInteractive('df-cfb552a6-46a7-4c31-bd3a-ffeb0060386f')\"\n",
              "            title=\"Convert this dataframe to an interactive table.\"\n",
              "            style=\"display:none;\">\n",
              "\n",
              "  <svg xmlns=\"http://www.w3.org/2000/svg\" height=\"24px\" viewBox=\"0 -960 960 960\">\n",
              "    <path d=\"M120-120v-720h720v720H120Zm60-500h600v-160H180v160Zm220 220h160v-160H400v160Zm0 220h160v-160H400v160ZM180-400h160v-160H180v160Zm440 0h160v-160H620v160ZM180-180h160v-160H180v160Zm440 0h160v-160H620v160Z\"/>\n",
              "  </svg>\n",
              "    </button>\n",
              "\n",
              "  <style>\n",
              "    .colab-df-container {\n",
              "      display:flex;\n",
              "      gap: 12px;\n",
              "    }\n",
              "\n",
              "    .colab-df-convert {\n",
              "      background-color: #E8F0FE;\n",
              "      border: none;\n",
              "      border-radius: 50%;\n",
              "      cursor: pointer;\n",
              "      display: none;\n",
              "      fill: #1967D2;\n",
              "      height: 32px;\n",
              "      padding: 0 0 0 0;\n",
              "      width: 32px;\n",
              "    }\n",
              "\n",
              "    .colab-df-convert:hover {\n",
              "      background-color: #E2EBFA;\n",
              "      box-shadow: 0px 1px 2px rgba(60, 64, 67, 0.3), 0px 1px 3px 1px rgba(60, 64, 67, 0.15);\n",
              "      fill: #174EA6;\n",
              "    }\n",
              "\n",
              "    .colab-df-buttons div {\n",
              "      margin-bottom: 4px;\n",
              "    }\n",
              "\n",
              "    [theme=dark] .colab-df-convert {\n",
              "      background-color: #3B4455;\n",
              "      fill: #D2E3FC;\n",
              "    }\n",
              "\n",
              "    [theme=dark] .colab-df-convert:hover {\n",
              "      background-color: #434B5C;\n",
              "      box-shadow: 0px 1px 3px 1px rgba(0, 0, 0, 0.15);\n",
              "      filter: drop-shadow(0px 1px 2px rgba(0, 0, 0, 0.3));\n",
              "      fill: #FFFFFF;\n",
              "    }\n",
              "  </style>\n",
              "\n",
              "    <script>\n",
              "      const buttonEl =\n",
              "        document.querySelector('#df-cfb552a6-46a7-4c31-bd3a-ffeb0060386f button.colab-df-convert');\n",
              "      buttonEl.style.display =\n",
              "        google.colab.kernel.accessAllowed ? 'block' : 'none';\n",
              "\n",
              "      async function convertToInteractive(key) {\n",
              "        const element = document.querySelector('#df-cfb552a6-46a7-4c31-bd3a-ffeb0060386f');\n",
              "        const dataTable =\n",
              "          await google.colab.kernel.invokeFunction('convertToInteractive',\n",
              "                                                    [key], {});\n",
              "        if (!dataTable) return;\n",
              "\n",
              "        const docLinkHtml = 'Like what you see? Visit the ' +\n",
              "          '<a target=\"_blank\" href=https://colab.research.google.com/notebooks/data_table.ipynb>data table notebook</a>'\n",
              "          + ' to learn more about interactive tables.';\n",
              "        element.innerHTML = '';\n",
              "        dataTable['output_type'] = 'display_data';\n",
              "        await google.colab.output.renderOutput(dataTable, element);\n",
              "        const docLink = document.createElement('div');\n",
              "        docLink.innerHTML = docLinkHtml;\n",
              "        element.appendChild(docLink);\n",
              "      }\n",
              "    </script>\n",
              "  </div>\n",
              "\n",
              "\n",
              "<div id=\"df-4e5295b1-ee59-4b99-bf41-a0f9f7190449\">\n",
              "  <button class=\"colab-df-quickchart\" onclick=\"quickchart('df-4e5295b1-ee59-4b99-bf41-a0f9f7190449')\"\n",
              "            title=\"Suggest charts\"\n",
              "            style=\"display:none;\">\n",
              "\n",
              "<svg xmlns=\"http://www.w3.org/2000/svg\" height=\"24px\"viewBox=\"0 0 24 24\"\n",
              "     width=\"24px\">\n",
              "    <g>\n",
              "        <path d=\"M19 3H5c-1.1 0-2 .9-2 2v14c0 1.1.9 2 2 2h14c1.1 0 2-.9 2-2V5c0-1.1-.9-2-2-2zM9 17H7v-7h2v7zm4 0h-2V7h2v10zm4 0h-2v-4h2v4z\"/>\n",
              "    </g>\n",
              "</svg>\n",
              "  </button>\n",
              "\n",
              "<style>\n",
              "  .colab-df-quickchart {\n",
              "      --bg-color: #E8F0FE;\n",
              "      --fill-color: #1967D2;\n",
              "      --hover-bg-color: #E2EBFA;\n",
              "      --hover-fill-color: #174EA6;\n",
              "      --disabled-fill-color: #AAA;\n",
              "      --disabled-bg-color: #DDD;\n",
              "  }\n",
              "\n",
              "  [theme=dark] .colab-df-quickchart {\n",
              "      --bg-color: #3B4455;\n",
              "      --fill-color: #D2E3FC;\n",
              "      --hover-bg-color: #434B5C;\n",
              "      --hover-fill-color: #FFFFFF;\n",
              "      --disabled-bg-color: #3B4455;\n",
              "      --disabled-fill-color: #666;\n",
              "  }\n",
              "\n",
              "  .colab-df-quickchart {\n",
              "    background-color: var(--bg-color);\n",
              "    border: none;\n",
              "    border-radius: 50%;\n",
              "    cursor: pointer;\n",
              "    display: none;\n",
              "    fill: var(--fill-color);\n",
              "    height: 32px;\n",
              "    padding: 0;\n",
              "    width: 32px;\n",
              "  }\n",
              "\n",
              "  .colab-df-quickchart:hover {\n",
              "    background-color: var(--hover-bg-color);\n",
              "    box-shadow: 0 1px 2px rgba(60, 64, 67, 0.3), 0 1px 3px 1px rgba(60, 64, 67, 0.15);\n",
              "    fill: var(--button-hover-fill-color);\n",
              "  }\n",
              "\n",
              "  .colab-df-quickchart-complete:disabled,\n",
              "  .colab-df-quickchart-complete:disabled:hover {\n",
              "    background-color: var(--disabled-bg-color);\n",
              "    fill: var(--disabled-fill-color);\n",
              "    box-shadow: none;\n",
              "  }\n",
              "\n",
              "  .colab-df-spinner {\n",
              "    border: 2px solid var(--fill-color);\n",
              "    border-color: transparent;\n",
              "    border-bottom-color: var(--fill-color);\n",
              "    animation:\n",
              "      spin 1s steps(1) infinite;\n",
              "  }\n",
              "\n",
              "  @keyframes spin {\n",
              "    0% {\n",
              "      border-color: transparent;\n",
              "      border-bottom-color: var(--fill-color);\n",
              "      border-left-color: var(--fill-color);\n",
              "    }\n",
              "    20% {\n",
              "      border-color: transparent;\n",
              "      border-left-color: var(--fill-color);\n",
              "      border-top-color: var(--fill-color);\n",
              "    }\n",
              "    30% {\n",
              "      border-color: transparent;\n",
              "      border-left-color: var(--fill-color);\n",
              "      border-top-color: var(--fill-color);\n",
              "      border-right-color: var(--fill-color);\n",
              "    }\n",
              "    40% {\n",
              "      border-color: transparent;\n",
              "      border-right-color: var(--fill-color);\n",
              "      border-top-color: var(--fill-color);\n",
              "    }\n",
              "    60% {\n",
              "      border-color: transparent;\n",
              "      border-right-color: var(--fill-color);\n",
              "    }\n",
              "    80% {\n",
              "      border-color: transparent;\n",
              "      border-right-color: var(--fill-color);\n",
              "      border-bottom-color: var(--fill-color);\n",
              "    }\n",
              "    90% {\n",
              "      border-color: transparent;\n",
              "      border-bottom-color: var(--fill-color);\n",
              "    }\n",
              "  }\n",
              "</style>\n",
              "\n",
              "  <script>\n",
              "    async function quickchart(key) {\n",
              "      const quickchartButtonEl =\n",
              "        document.querySelector('#' + key + ' button');\n",
              "      quickchartButtonEl.disabled = true;  // To prevent multiple clicks.\n",
              "      quickchartButtonEl.classList.add('colab-df-spinner');\n",
              "      try {\n",
              "        const charts = await google.colab.kernel.invokeFunction(\n",
              "            'suggestCharts', [key], {});\n",
              "      } catch (error) {\n",
              "        console.error('Error during call to suggestCharts:', error);\n",
              "      }\n",
              "      quickchartButtonEl.classList.remove('colab-df-spinner');\n",
              "      quickchartButtonEl.classList.add('colab-df-quickchart-complete');\n",
              "    }\n",
              "    (() => {\n",
              "      let quickchartButtonEl =\n",
              "        document.querySelector('#df-4e5295b1-ee59-4b99-bf41-a0f9f7190449 button');\n",
              "      quickchartButtonEl.style.display =\n",
              "        google.colab.kernel.accessAllowed ? 'block' : 'none';\n",
              "    })();\n",
              "  </script>\n",
              "</div>\n",
              "\n",
              "    </div>\n",
              "  </div>\n"
            ],
            "application/vnd.google.colaboratory.intrinsic+json": {
              "type": "dataframe",
              "summary": "{\n  \"name\": \"monai_prostate158_prostate_df[['dsc', 'asd', 'hsdff']]\",\n  \"rows\": 8,\n  \"fields\": [\n    {\n      \"column\": \"dsc\",\n      \"properties\": {\n        \"dtype\": \"number\",\n        \"std\": 34.3711193280801,\n        \"min\": 0.018347014928556084,\n        \"max\": 98.0,\n        \"num_unique_values\": 8,\n        \"samples\": [\n          0.9190725000000001,\n          0.9200045,\n          98.0\n        ],\n        \"semantic_type\": \"\",\n        \"description\": \"\"\n      }\n    },\n    {\n      \"column\": \"asd\",\n      \"properties\": {\n        \"dtype\": \"number\",\n        \"std\": 34.64823227814083,\n        \"min\": 0.0,\n        \"max\": 98.0,\n        \"num_unique_values\": 2,\n        \"samples\": [\n          0.0,\n          98.0\n        ],\n        \"semantic_type\": \"\",\n        \"description\": \"\"\n      }\n    },\n    {\n      \"column\": \"hsdff\",\n      \"properties\": {\n        \"dtype\": \"number\",\n        \"std\": 32.420272708572696,\n        \"min\": 2.4656117883907434,\n        \"max\": 98.0,\n        \"num_unique_values\": 8,\n        \"samples\": [\n          6.940946826530611,\n          6.103278\n        ],\n        \"semantic_type\": \"\",\n        \"description\": \"\"\n      }\n    }\n  ]\n}"
            }
          },
          "metadata": {},
          "execution_count": 30
        }
      ],
      "source": [
        "monai_prostate158_prostate_df[['dsc', 'asd', 'hsdff']].describe()"
      ]
    },
    {
      "cell_type": "code",
      "source": [
        "bamf_nnunet_mr_prostate_df[['dsc', 'asd', 'hsdff']].describe()\n"
      ],
      "metadata": {
        "colab": {
          "base_uri": "https://localhost:8080/",
          "height": 300
        },
        "id": "Idr1gJ6F_U8n",
        "outputId": "aca360a0-35d5-42ac-ea37-9a9c55e12ab5"
      },
      "execution_count": null,
      "outputs": [
        {
          "output_type": "execute_result",
          "data": {
            "text/plain": [
              "             dsc        asd      hsdff\n",
              "count  98.000000  98.000000  98.000000\n",
              "mean    0.952376   0.261939   4.679789\n",
              "std     0.011993   0.232976   2.678833\n",
              "min     0.905998   0.000000   3.000000\n",
              "25%     0.946287   0.000000   3.162278\n",
              "50%     0.953210   0.280000   3.552776\n",
              "75%     0.960622   0.397500   5.074265\n",
              "max     0.973736   1.010000  18.466185"
            ],
            "text/html": [
              "\n",
              "  <div id=\"df-853d3474-e3cc-4f76-842a-58b4b665f1e6\" class=\"colab-df-container\">\n",
              "    <div>\n",
              "<style scoped>\n",
              "    .dataframe tbody tr th:only-of-type {\n",
              "        vertical-align: middle;\n",
              "    }\n",
              "\n",
              "    .dataframe tbody tr th {\n",
              "        vertical-align: top;\n",
              "    }\n",
              "\n",
              "    .dataframe thead th {\n",
              "        text-align: right;\n",
              "    }\n",
              "</style>\n",
              "<table border=\"1\" class=\"dataframe\">\n",
              "  <thead>\n",
              "    <tr style=\"text-align: right;\">\n",
              "      <th></th>\n",
              "      <th>dsc</th>\n",
              "      <th>asd</th>\n",
              "      <th>hsdff</th>\n",
              "    </tr>\n",
              "  </thead>\n",
              "  <tbody>\n",
              "    <tr>\n",
              "      <th>count</th>\n",
              "      <td>98.000000</td>\n",
              "      <td>98.000000</td>\n",
              "      <td>98.000000</td>\n",
              "    </tr>\n",
              "    <tr>\n",
              "      <th>mean</th>\n",
              "      <td>0.952376</td>\n",
              "      <td>0.261939</td>\n",
              "      <td>4.679789</td>\n",
              "    </tr>\n",
              "    <tr>\n",
              "      <th>std</th>\n",
              "      <td>0.011993</td>\n",
              "      <td>0.232976</td>\n",
              "      <td>2.678833</td>\n",
              "    </tr>\n",
              "    <tr>\n",
              "      <th>min</th>\n",
              "      <td>0.905998</td>\n",
              "      <td>0.000000</td>\n",
              "      <td>3.000000</td>\n",
              "    </tr>\n",
              "    <tr>\n",
              "      <th>25%</th>\n",
              "      <td>0.946287</td>\n",
              "      <td>0.000000</td>\n",
              "      <td>3.162278</td>\n",
              "    </tr>\n",
              "    <tr>\n",
              "      <th>50%</th>\n",
              "      <td>0.953210</td>\n",
              "      <td>0.280000</td>\n",
              "      <td>3.552776</td>\n",
              "    </tr>\n",
              "    <tr>\n",
              "      <th>75%</th>\n",
              "      <td>0.960622</td>\n",
              "      <td>0.397500</td>\n",
              "      <td>5.074265</td>\n",
              "    </tr>\n",
              "    <tr>\n",
              "      <th>max</th>\n",
              "      <td>0.973736</td>\n",
              "      <td>1.010000</td>\n",
              "      <td>18.466185</td>\n",
              "    </tr>\n",
              "  </tbody>\n",
              "</table>\n",
              "</div>\n",
              "    <div class=\"colab-df-buttons\">\n",
              "\n",
              "  <div class=\"colab-df-container\">\n",
              "    <button class=\"colab-df-convert\" onclick=\"convertToInteractive('df-853d3474-e3cc-4f76-842a-58b4b665f1e6')\"\n",
              "            title=\"Convert this dataframe to an interactive table.\"\n",
              "            style=\"display:none;\">\n",
              "\n",
              "  <svg xmlns=\"http://www.w3.org/2000/svg\" height=\"24px\" viewBox=\"0 -960 960 960\">\n",
              "    <path d=\"M120-120v-720h720v720H120Zm60-500h600v-160H180v160Zm220 220h160v-160H400v160Zm0 220h160v-160H400v160ZM180-400h160v-160H180v160Zm440 0h160v-160H620v160ZM180-180h160v-160H180v160Zm440 0h160v-160H620v160Z\"/>\n",
              "  </svg>\n",
              "    </button>\n",
              "\n",
              "  <style>\n",
              "    .colab-df-container {\n",
              "      display:flex;\n",
              "      gap: 12px;\n",
              "    }\n",
              "\n",
              "    .colab-df-convert {\n",
              "      background-color: #E8F0FE;\n",
              "      border: none;\n",
              "      border-radius: 50%;\n",
              "      cursor: pointer;\n",
              "      display: none;\n",
              "      fill: #1967D2;\n",
              "      height: 32px;\n",
              "      padding: 0 0 0 0;\n",
              "      width: 32px;\n",
              "    }\n",
              "\n",
              "    .colab-df-convert:hover {\n",
              "      background-color: #E2EBFA;\n",
              "      box-shadow: 0px 1px 2px rgba(60, 64, 67, 0.3), 0px 1px 3px 1px rgba(60, 64, 67, 0.15);\n",
              "      fill: #174EA6;\n",
              "    }\n",
              "\n",
              "    .colab-df-buttons div {\n",
              "      margin-bottom: 4px;\n",
              "    }\n",
              "\n",
              "    [theme=dark] .colab-df-convert {\n",
              "      background-color: #3B4455;\n",
              "      fill: #D2E3FC;\n",
              "    }\n",
              "\n",
              "    [theme=dark] .colab-df-convert:hover {\n",
              "      background-color: #434B5C;\n",
              "      box-shadow: 0px 1px 3px 1px rgba(0, 0, 0, 0.15);\n",
              "      filter: drop-shadow(0px 1px 2px rgba(0, 0, 0, 0.3));\n",
              "      fill: #FFFFFF;\n",
              "    }\n",
              "  </style>\n",
              "\n",
              "    <script>\n",
              "      const buttonEl =\n",
              "        document.querySelector('#df-853d3474-e3cc-4f76-842a-58b4b665f1e6 button.colab-df-convert');\n",
              "      buttonEl.style.display =\n",
              "        google.colab.kernel.accessAllowed ? 'block' : 'none';\n",
              "\n",
              "      async function convertToInteractive(key) {\n",
              "        const element = document.querySelector('#df-853d3474-e3cc-4f76-842a-58b4b665f1e6');\n",
              "        const dataTable =\n",
              "          await google.colab.kernel.invokeFunction('convertToInteractive',\n",
              "                                                    [key], {});\n",
              "        if (!dataTable) return;\n",
              "\n",
              "        const docLinkHtml = 'Like what you see? Visit the ' +\n",
              "          '<a target=\"_blank\" href=https://colab.research.google.com/notebooks/data_table.ipynb>data table notebook</a>'\n",
              "          + ' to learn more about interactive tables.';\n",
              "        element.innerHTML = '';\n",
              "        dataTable['output_type'] = 'display_data';\n",
              "        await google.colab.output.renderOutput(dataTable, element);\n",
              "        const docLink = document.createElement('div');\n",
              "        docLink.innerHTML = docLinkHtml;\n",
              "        element.appendChild(docLink);\n",
              "      }\n",
              "    </script>\n",
              "  </div>\n",
              "\n",
              "\n",
              "<div id=\"df-87dd66de-21ad-4a28-9d93-88353ffe50d3\">\n",
              "  <button class=\"colab-df-quickchart\" onclick=\"quickchart('df-87dd66de-21ad-4a28-9d93-88353ffe50d3')\"\n",
              "            title=\"Suggest charts\"\n",
              "            style=\"display:none;\">\n",
              "\n",
              "<svg xmlns=\"http://www.w3.org/2000/svg\" height=\"24px\"viewBox=\"0 0 24 24\"\n",
              "     width=\"24px\">\n",
              "    <g>\n",
              "        <path d=\"M19 3H5c-1.1 0-2 .9-2 2v14c0 1.1.9 2 2 2h14c1.1 0 2-.9 2-2V5c0-1.1-.9-2-2-2zM9 17H7v-7h2v7zm4 0h-2V7h2v10zm4 0h-2v-4h2v4z\"/>\n",
              "    </g>\n",
              "</svg>\n",
              "  </button>\n",
              "\n",
              "<style>\n",
              "  .colab-df-quickchart {\n",
              "      --bg-color: #E8F0FE;\n",
              "      --fill-color: #1967D2;\n",
              "      --hover-bg-color: #E2EBFA;\n",
              "      --hover-fill-color: #174EA6;\n",
              "      --disabled-fill-color: #AAA;\n",
              "      --disabled-bg-color: #DDD;\n",
              "  }\n",
              "\n",
              "  [theme=dark] .colab-df-quickchart {\n",
              "      --bg-color: #3B4455;\n",
              "      --fill-color: #D2E3FC;\n",
              "      --hover-bg-color: #434B5C;\n",
              "      --hover-fill-color: #FFFFFF;\n",
              "      --disabled-bg-color: #3B4455;\n",
              "      --disabled-fill-color: #666;\n",
              "  }\n",
              "\n",
              "  .colab-df-quickchart {\n",
              "    background-color: var(--bg-color);\n",
              "    border: none;\n",
              "    border-radius: 50%;\n",
              "    cursor: pointer;\n",
              "    display: none;\n",
              "    fill: var(--fill-color);\n",
              "    height: 32px;\n",
              "    padding: 0;\n",
              "    width: 32px;\n",
              "  }\n",
              "\n",
              "  .colab-df-quickchart:hover {\n",
              "    background-color: var(--hover-bg-color);\n",
              "    box-shadow: 0 1px 2px rgba(60, 64, 67, 0.3), 0 1px 3px 1px rgba(60, 64, 67, 0.15);\n",
              "    fill: var(--button-hover-fill-color);\n",
              "  }\n",
              "\n",
              "  .colab-df-quickchart-complete:disabled,\n",
              "  .colab-df-quickchart-complete:disabled:hover {\n",
              "    background-color: var(--disabled-bg-color);\n",
              "    fill: var(--disabled-fill-color);\n",
              "    box-shadow: none;\n",
              "  }\n",
              "\n",
              "  .colab-df-spinner {\n",
              "    border: 2px solid var(--fill-color);\n",
              "    border-color: transparent;\n",
              "    border-bottom-color: var(--fill-color);\n",
              "    animation:\n",
              "      spin 1s steps(1) infinite;\n",
              "  }\n",
              "\n",
              "  @keyframes spin {\n",
              "    0% {\n",
              "      border-color: transparent;\n",
              "      border-bottom-color: var(--fill-color);\n",
              "      border-left-color: var(--fill-color);\n",
              "    }\n",
              "    20% {\n",
              "      border-color: transparent;\n",
              "      border-left-color: var(--fill-color);\n",
              "      border-top-color: var(--fill-color);\n",
              "    }\n",
              "    30% {\n",
              "      border-color: transparent;\n",
              "      border-left-color: var(--fill-color);\n",
              "      border-top-color: var(--fill-color);\n",
              "      border-right-color: var(--fill-color);\n",
              "    }\n",
              "    40% {\n",
              "      border-color: transparent;\n",
              "      border-right-color: var(--fill-color);\n",
              "      border-top-color: var(--fill-color);\n",
              "    }\n",
              "    60% {\n",
              "      border-color: transparent;\n",
              "      border-right-color: var(--fill-color);\n",
              "    }\n",
              "    80% {\n",
              "      border-color: transparent;\n",
              "      border-right-color: var(--fill-color);\n",
              "      border-bottom-color: var(--fill-color);\n",
              "    }\n",
              "    90% {\n",
              "      border-color: transparent;\n",
              "      border-bottom-color: var(--fill-color);\n",
              "    }\n",
              "  }\n",
              "</style>\n",
              "\n",
              "  <script>\n",
              "    async function quickchart(key) {\n",
              "      const quickchartButtonEl =\n",
              "        document.querySelector('#' + key + ' button');\n",
              "      quickchartButtonEl.disabled = true;  // To prevent multiple clicks.\n",
              "      quickchartButtonEl.classList.add('colab-df-spinner');\n",
              "      try {\n",
              "        const charts = await google.colab.kernel.invokeFunction(\n",
              "            'suggestCharts', [key], {});\n",
              "      } catch (error) {\n",
              "        console.error('Error during call to suggestCharts:', error);\n",
              "      }\n",
              "      quickchartButtonEl.classList.remove('colab-df-spinner');\n",
              "      quickchartButtonEl.classList.add('colab-df-quickchart-complete');\n",
              "    }\n",
              "    (() => {\n",
              "      let quickchartButtonEl =\n",
              "        document.querySelector('#df-87dd66de-21ad-4a28-9d93-88353ffe50d3 button');\n",
              "      quickchartButtonEl.style.display =\n",
              "        google.colab.kernel.accessAllowed ? 'block' : 'none';\n",
              "    })();\n",
              "  </script>\n",
              "</div>\n",
              "\n",
              "    </div>\n",
              "  </div>\n"
            ],
            "application/vnd.google.colaboratory.intrinsic+json": {
              "type": "dataframe",
              "summary": "{\n  \"name\": \"bamf_nnunet_mr_prostate_df[['dsc', 'asd', 'hsdff']]\",\n  \"rows\": 8,\n  \"fields\": [\n    {\n      \"column\": \"dsc\",\n      \"properties\": {\n        \"dtype\": \"number\",\n        \"std\": 34.36169443897979,\n        \"min\": 0.011992790911271183,\n        \"max\": 98.0,\n        \"num_unique_values\": 8,\n        \"samples\": [\n          0.9523757448979593,\n          0.9532095,\n          98.0\n        ],\n        \"semantic_type\": \"\",\n        \"description\": \"\"\n      }\n    },\n    {\n      \"column\": \"asd\",\n      \"properties\": {\n        \"dtype\": \"number\",\n        \"std\": 34.53944923918001,\n        \"min\": 0.0,\n        \"max\": 98.0,\n        \"num_unique_values\": 7,\n        \"samples\": [\n          98.0,\n          0.2619387755102041,\n          0.3975\n        ],\n        \"semantic_type\": \"\",\n        \"description\": \"\"\n      }\n    },\n    {\n      \"column\": \"hsdff\",\n      \"properties\": {\n        \"dtype\": \"number\",\n        \"std\": 33.01452599871674,\n        \"min\": 2.67883254808522,\n        \"max\": 98.0,\n        \"num_unique_values\": 8,\n        \"samples\": [\n          4.67978869387755,\n          3.5527755,\n          98.0\n        ],\n        \"semantic_type\": \"\",\n        \"description\": \"\"\n      }\n    }\n  ]\n}"
            }
          },
          "metadata": {},
          "execution_count": 31
        }
      ]
    },
    {
      "cell_type": "markdown",
      "metadata": {
        "id": "8wnzl2DVM481"
      },
      "source": [
        "Normality tests\n"
      ]
    },
    {
      "cell_type": "code",
      "execution_count": null,
      "metadata": {
        "colab": {
          "base_uri": "https://localhost:8080/"
        },
        "id": "AKaDCbh5M481",
        "outputId": "85674a8a-3075-4b90-fa32-416989550f98"
      },
      "outputs": [
        {
          "output_type": "stream",
          "name": "stdout",
          "text": [
            "Statistics=0.764, p=0.000\n",
            "Sample does not look Gaussian (reject H0)\n",
            "\n",
            "\n",
            "Statistics=0.726, p=0.000\n",
            "Sample does not look Gaussian (reject H0)\n",
            "\n",
            "\n",
            "Statistics=0.969, p=0.022\n",
            "Sample does not look Gaussian (reject H0)\n",
            "\n",
            "\n",
            "Statistics=0.952, p=0.001\n",
            "Sample does not look Gaussian (reject H0)\n",
            "\n",
            "\n"
          ]
        }
      ],
      "source": [
        "for df_val in [nnnunet_task024_prostate_df,\n",
        "               nnnunet_task05_prostate_df,\n",
        "               monai_prostate158_prostate_df,\n",
        "               bamf_nnunet_mr_prostate_df]:\n",
        "    # normality test\n",
        "    stat, p = shapiro(df_val.dsc.values)\n",
        "    print('Statistics=%.3f, p=%.3f' % (stat, p))\n",
        "    # interpret\n",
        "    alpha = 0.05\n",
        "    if p > alpha:\n",
        "        print('Sample looks Gaussian (fail to reject H0)')\n",
        "    else:\n",
        "        print('Sample does not look Gaussian (reject H0)')\n",
        "    print(\"\\n\")"
      ]
    },
    {
      "cell_type": "code",
      "execution_count": null,
      "metadata": {
        "id": "ygZ_NT_yM481"
      },
      "outputs": [],
      "source": [
        "# sns.histplot(data=monai_prostate158_prostate_df, x=\"dsc\")\n",
        "# plt.show()"
      ]
    },
    {
      "cell_type": "code",
      "execution_count": null,
      "metadata": {
        "colab": {
          "base_uri": "https://localhost:8080/"
        },
        "id": "8D3cmvNxM481",
        "outputId": "3076966c-24df-4a56-8a15-7bd4a8ed398c"
      },
      "outputs": [
        {
          "output_type": "stream",
          "name": "stdout",
          "text": [
            "p-value for normality: 3.033528584386632e-11\n"
          ]
        }
      ],
      "source": [
        "# Checking normality\n",
        "_, p_normality = stats.shapiro(nnnunet_task024_prostate_df['dsc'])\n",
        "print(f'p-value for normality: {p_normality}')"
      ]
    },
    {
      "cell_type": "markdown",
      "metadata": {
        "id": "v82wklSjM481"
      },
      "source": [
        "Mean and STD deviations for prostatex whole prostate results\n"
      ]
    },
    {
      "cell_type": "code",
      "execution_count": null,
      "metadata": {
        "colab": {
          "base_uri": "https://localhost:8080/"
        },
        "id": "b8th-A9GM481",
        "outputId": "47eda4a2-0063-4e05-aec9-4d71fd439160"
      },
      "outputs": [
        {
          "output_type": "stream",
          "name": "stdout",
          "text": [
            "nnunet task024 model DSC mean and std for whole prostate: 0.93/0.03\n",
            "nnunet task05 model DSC mean and std for whole prostate: 0.9/0.04\n",
            "nnunet monai prostate158 DSC model mean and std for whole prostate: 0.92/0.02\n",
            "nnunet monai prostate158 DSC model mean and std for whole prostate: 0.95/0.01\n"
          ]
        }
      ],
      "source": [
        "print(f\"nnunet task024 model DSC mean and std for whole prostate: {round(np.mean(nnnunet_task024_prostate_df.dsc.values),2)}/{round(np.std(nnnunet_task024_prostate_df.dsc.values),2)}\")\n",
        "print(f\"nnunet task05 model DSC mean and std for whole prostate: {round(np.mean(nnnunet_task05_prostate_df.dsc.values),2)}/{round(np.std(nnnunet_task05_prostate_df.dsc.values),2)}\")\n",
        "print(f\"nnunet monai prostate158 DSC model mean and std for whole prostate: {round(np.mean(monai_prostate158_prostate_df.dsc.values),2)}/{round(np.std(monai_prostate158_prostate_df.dsc.values),2)}\")\n",
        "print(f\"nnunet monai prostate158 DSC model mean and std for whole prostate: {round(np.mean(bamf_nnunet_mr_prostate_df.dsc.values),2)}/{round(np.std(bamf_nnunet_mr_prostate_df.dsc.values),2)}\")"
      ]
    },
    {
      "cell_type": "code",
      "execution_count": null,
      "metadata": {
        "colab": {
          "base_uri": "https://localhost:8080/"
        },
        "id": "7mNAgEAKM481",
        "outputId": "b037a5d0-2b32-4f06-d8ca-442e968b2148"
      },
      "outputs": [
        {
          "output_type": "stream",
          "name": "stdout",
          "text": [
            "227.84081632653056\n",
            "4.0517712834878306e-49\n"
          ]
        }
      ],
      "source": [
        "res = friedmanchisquare(nnnunet_task024_prostate_df.sort_values(by=[\"refSerieUID\"]).dsc.values,\n",
        "                        nnnunet_task05_prostate_df.sort_values(by=[\"refSerieUID\"]).dsc.values,\n",
        "                        monai_prostate158_prostate_df.sort_values(by=[\"refSerieUID\"]).dsc.values,\n",
        "                        bamf_nnunet_mr_prostate_df.sort_values(by=[\"refSerieUID\"]).dsc.values)\n",
        "print(res.statistic)\n",
        "print(res.pvalue)"
      ]
    },
    {
      "cell_type": "code",
      "execution_count": null,
      "metadata": {
        "colab": {
          "base_uri": "https://localhost:8080/",
          "height": 264
        },
        "id": "l-g9ZyweM481",
        "outputId": "d3f631a8-f7d7-463f-8763-0acd460a27a6"
      },
      "outputs": [
        {
          "output_type": "execute_result",
          "data": {
            "text/plain": [
              "                                        bamf_nnunet_mr_prostate-prostatex  \\\n",
              "bamf_nnunet_mr_prostate-prostatex                            1.000000e+00   \n",
              "monai_prostate158-prostatex                                  2.024997e-37   \n",
              "nnunet_prostate_task24-prostatex                             1.138467e-22   \n",
              "nnunet_prostate_zonal_task05-prostatex                       4.875891e-60   \n",
              "\n",
              "                                        monai_prostate158-prostatex  \\\n",
              "bamf_nnunet_mr_prostate-prostatex                      2.024997e-37   \n",
              "monai_prostate158-prostatex                            1.000000e+00   \n",
              "nnunet_prostate_task24-prostatex                       1.027319e-03   \n",
              "nnunet_prostate_zonal_task05-prostatex                 9.261635e-07   \n",
              "\n",
              "                                        nnunet_prostate_task24-prostatex  \\\n",
              "bamf_nnunet_mr_prostate-prostatex                           1.138467e-22   \n",
              "monai_prostate158-prostatex                                 1.027319e-03   \n",
              "nnunet_prostate_task24-prostatex                            1.000000e+00   \n",
              "nnunet_prostate_zonal_task05-prostatex                      2.117918e-17   \n",
              "\n",
              "                                        nnunet_prostate_zonal_task05-prostatex  \n",
              "bamf_nnunet_mr_prostate-prostatex                                 4.875891e-60  \n",
              "monai_prostate158-prostatex                                       9.261635e-07  \n",
              "nnunet_prostate_task24-prostatex                                  2.117918e-17  \n",
              "nnunet_prostate_zonal_task05-prostatex                            1.000000e+00  "
            ],
            "text/html": [
              "\n",
              "  <div id=\"df-33ad1648-c94d-4f03-847e-e481612a41cd\" class=\"colab-df-container\">\n",
              "    <div>\n",
              "<style scoped>\n",
              "    .dataframe tbody tr th:only-of-type {\n",
              "        vertical-align: middle;\n",
              "    }\n",
              "\n",
              "    .dataframe tbody tr th {\n",
              "        vertical-align: top;\n",
              "    }\n",
              "\n",
              "    .dataframe thead th {\n",
              "        text-align: right;\n",
              "    }\n",
              "</style>\n",
              "<table border=\"1\" class=\"dataframe\">\n",
              "  <thead>\n",
              "    <tr style=\"text-align: right;\">\n",
              "      <th></th>\n",
              "      <th>bamf_nnunet_mr_prostate-prostatex</th>\n",
              "      <th>monai_prostate158-prostatex</th>\n",
              "      <th>nnunet_prostate_task24-prostatex</th>\n",
              "      <th>nnunet_prostate_zonal_task05-prostatex</th>\n",
              "    </tr>\n",
              "  </thead>\n",
              "  <tbody>\n",
              "    <tr>\n",
              "      <th>bamf_nnunet_mr_prostate-prostatex</th>\n",
              "      <td>1.000000e+00</td>\n",
              "      <td>2.024997e-37</td>\n",
              "      <td>1.138467e-22</td>\n",
              "      <td>4.875891e-60</td>\n",
              "    </tr>\n",
              "    <tr>\n",
              "      <th>monai_prostate158-prostatex</th>\n",
              "      <td>2.024997e-37</td>\n",
              "      <td>1.000000e+00</td>\n",
              "      <td>1.027319e-03</td>\n",
              "      <td>9.261635e-07</td>\n",
              "    </tr>\n",
              "    <tr>\n",
              "      <th>nnunet_prostate_task24-prostatex</th>\n",
              "      <td>1.138467e-22</td>\n",
              "      <td>1.027319e-03</td>\n",
              "      <td>1.000000e+00</td>\n",
              "      <td>2.117918e-17</td>\n",
              "    </tr>\n",
              "    <tr>\n",
              "      <th>nnunet_prostate_zonal_task05-prostatex</th>\n",
              "      <td>4.875891e-60</td>\n",
              "      <td>9.261635e-07</td>\n",
              "      <td>2.117918e-17</td>\n",
              "      <td>1.000000e+00</td>\n",
              "    </tr>\n",
              "  </tbody>\n",
              "</table>\n",
              "</div>\n",
              "    <div class=\"colab-df-buttons\">\n",
              "\n",
              "  <div class=\"colab-df-container\">\n",
              "    <button class=\"colab-df-convert\" onclick=\"convertToInteractive('df-33ad1648-c94d-4f03-847e-e481612a41cd')\"\n",
              "            title=\"Convert this dataframe to an interactive table.\"\n",
              "            style=\"display:none;\">\n",
              "\n",
              "  <svg xmlns=\"http://www.w3.org/2000/svg\" height=\"24px\" viewBox=\"0 -960 960 960\">\n",
              "    <path d=\"M120-120v-720h720v720H120Zm60-500h600v-160H180v160Zm220 220h160v-160H400v160Zm0 220h160v-160H400v160ZM180-400h160v-160H180v160Zm440 0h160v-160H620v160ZM180-180h160v-160H180v160Zm440 0h160v-160H620v160Z\"/>\n",
              "  </svg>\n",
              "    </button>\n",
              "\n",
              "  <style>\n",
              "    .colab-df-container {\n",
              "      display:flex;\n",
              "      gap: 12px;\n",
              "    }\n",
              "\n",
              "    .colab-df-convert {\n",
              "      background-color: #E8F0FE;\n",
              "      border: none;\n",
              "      border-radius: 50%;\n",
              "      cursor: pointer;\n",
              "      display: none;\n",
              "      fill: #1967D2;\n",
              "      height: 32px;\n",
              "      padding: 0 0 0 0;\n",
              "      width: 32px;\n",
              "    }\n",
              "\n",
              "    .colab-df-convert:hover {\n",
              "      background-color: #E2EBFA;\n",
              "      box-shadow: 0px 1px 2px rgba(60, 64, 67, 0.3), 0px 1px 3px 1px rgba(60, 64, 67, 0.15);\n",
              "      fill: #174EA6;\n",
              "    }\n",
              "\n",
              "    .colab-df-buttons div {\n",
              "      margin-bottom: 4px;\n",
              "    }\n",
              "\n",
              "    [theme=dark] .colab-df-convert {\n",
              "      background-color: #3B4455;\n",
              "      fill: #D2E3FC;\n",
              "    }\n",
              "\n",
              "    [theme=dark] .colab-df-convert:hover {\n",
              "      background-color: #434B5C;\n",
              "      box-shadow: 0px 1px 3px 1px rgba(0, 0, 0, 0.15);\n",
              "      filter: drop-shadow(0px 1px 2px rgba(0, 0, 0, 0.3));\n",
              "      fill: #FFFFFF;\n",
              "    }\n",
              "  </style>\n",
              "\n",
              "    <script>\n",
              "      const buttonEl =\n",
              "        document.querySelector('#df-33ad1648-c94d-4f03-847e-e481612a41cd button.colab-df-convert');\n",
              "      buttonEl.style.display =\n",
              "        google.colab.kernel.accessAllowed ? 'block' : 'none';\n",
              "\n",
              "      async function convertToInteractive(key) {\n",
              "        const element = document.querySelector('#df-33ad1648-c94d-4f03-847e-e481612a41cd');\n",
              "        const dataTable =\n",
              "          await google.colab.kernel.invokeFunction('convertToInteractive',\n",
              "                                                    [key], {});\n",
              "        if (!dataTable) return;\n",
              "\n",
              "        const docLinkHtml = 'Like what you see? Visit the ' +\n",
              "          '<a target=\"_blank\" href=https://colab.research.google.com/notebooks/data_table.ipynb>data table notebook</a>'\n",
              "          + ' to learn more about interactive tables.';\n",
              "        element.innerHTML = '';\n",
              "        dataTable['output_type'] = 'display_data';\n",
              "        await google.colab.output.renderOutput(dataTable, element);\n",
              "        const docLink = document.createElement('div');\n",
              "        docLink.innerHTML = docLinkHtml;\n",
              "        element.appendChild(docLink);\n",
              "      }\n",
              "    </script>\n",
              "  </div>\n",
              "\n",
              "\n",
              "<div id=\"df-5ad3b14d-0c56-4793-a5d9-f2acd0bc5fbc\">\n",
              "  <button class=\"colab-df-quickchart\" onclick=\"quickchart('df-5ad3b14d-0c56-4793-a5d9-f2acd0bc5fbc')\"\n",
              "            title=\"Suggest charts\"\n",
              "            style=\"display:none;\">\n",
              "\n",
              "<svg xmlns=\"http://www.w3.org/2000/svg\" height=\"24px\"viewBox=\"0 0 24 24\"\n",
              "     width=\"24px\">\n",
              "    <g>\n",
              "        <path d=\"M19 3H5c-1.1 0-2 .9-2 2v14c0 1.1.9 2 2 2h14c1.1 0 2-.9 2-2V5c0-1.1-.9-2-2-2zM9 17H7v-7h2v7zm4 0h-2V7h2v10zm4 0h-2v-4h2v4z\"/>\n",
              "    </g>\n",
              "</svg>\n",
              "  </button>\n",
              "\n",
              "<style>\n",
              "  .colab-df-quickchart {\n",
              "      --bg-color: #E8F0FE;\n",
              "      --fill-color: #1967D2;\n",
              "      --hover-bg-color: #E2EBFA;\n",
              "      --hover-fill-color: #174EA6;\n",
              "      --disabled-fill-color: #AAA;\n",
              "      --disabled-bg-color: #DDD;\n",
              "  }\n",
              "\n",
              "  [theme=dark] .colab-df-quickchart {\n",
              "      --bg-color: #3B4455;\n",
              "      --fill-color: #D2E3FC;\n",
              "      --hover-bg-color: #434B5C;\n",
              "      --hover-fill-color: #FFFFFF;\n",
              "      --disabled-bg-color: #3B4455;\n",
              "      --disabled-fill-color: #666;\n",
              "  }\n",
              "\n",
              "  .colab-df-quickchart {\n",
              "    background-color: var(--bg-color);\n",
              "    border: none;\n",
              "    border-radius: 50%;\n",
              "    cursor: pointer;\n",
              "    display: none;\n",
              "    fill: var(--fill-color);\n",
              "    height: 32px;\n",
              "    padding: 0;\n",
              "    width: 32px;\n",
              "  }\n",
              "\n",
              "  .colab-df-quickchart:hover {\n",
              "    background-color: var(--hover-bg-color);\n",
              "    box-shadow: 0 1px 2px rgba(60, 64, 67, 0.3), 0 1px 3px 1px rgba(60, 64, 67, 0.15);\n",
              "    fill: var(--button-hover-fill-color);\n",
              "  }\n",
              "\n",
              "  .colab-df-quickchart-complete:disabled,\n",
              "  .colab-df-quickchart-complete:disabled:hover {\n",
              "    background-color: var(--disabled-bg-color);\n",
              "    fill: var(--disabled-fill-color);\n",
              "    box-shadow: none;\n",
              "  }\n",
              "\n",
              "  .colab-df-spinner {\n",
              "    border: 2px solid var(--fill-color);\n",
              "    border-color: transparent;\n",
              "    border-bottom-color: var(--fill-color);\n",
              "    animation:\n",
              "      spin 1s steps(1) infinite;\n",
              "  }\n",
              "\n",
              "  @keyframes spin {\n",
              "    0% {\n",
              "      border-color: transparent;\n",
              "      border-bottom-color: var(--fill-color);\n",
              "      border-left-color: var(--fill-color);\n",
              "    }\n",
              "    20% {\n",
              "      border-color: transparent;\n",
              "      border-left-color: var(--fill-color);\n",
              "      border-top-color: var(--fill-color);\n",
              "    }\n",
              "    30% {\n",
              "      border-color: transparent;\n",
              "      border-left-color: var(--fill-color);\n",
              "      border-top-color: var(--fill-color);\n",
              "      border-right-color: var(--fill-color);\n",
              "    }\n",
              "    40% {\n",
              "      border-color: transparent;\n",
              "      border-right-color: var(--fill-color);\n",
              "      border-top-color: var(--fill-color);\n",
              "    }\n",
              "    60% {\n",
              "      border-color: transparent;\n",
              "      border-right-color: var(--fill-color);\n",
              "    }\n",
              "    80% {\n",
              "      border-color: transparent;\n",
              "      border-right-color: var(--fill-color);\n",
              "      border-bottom-color: var(--fill-color);\n",
              "    }\n",
              "    90% {\n",
              "      border-color: transparent;\n",
              "      border-bottom-color: var(--fill-color);\n",
              "    }\n",
              "  }\n",
              "</style>\n",
              "\n",
              "  <script>\n",
              "    async function quickchart(key) {\n",
              "      const quickchartButtonEl =\n",
              "        document.querySelector('#' + key + ' button');\n",
              "      quickchartButtonEl.disabled = true;  // To prevent multiple clicks.\n",
              "      quickchartButtonEl.classList.add('colab-df-spinner');\n",
              "      try {\n",
              "        const charts = await google.colab.kernel.invokeFunction(\n",
              "            'suggestCharts', [key], {});\n",
              "      } catch (error) {\n",
              "        console.error('Error during call to suggestCharts:', error);\n",
              "      }\n",
              "      quickchartButtonEl.classList.remove('colab-df-spinner');\n",
              "      quickchartButtonEl.classList.add('colab-df-quickchart-complete');\n",
              "    }\n",
              "    (() => {\n",
              "      let quickchartButtonEl =\n",
              "        document.querySelector('#df-5ad3b14d-0c56-4793-a5d9-f2acd0bc5fbc button');\n",
              "      quickchartButtonEl.style.display =\n",
              "        google.colab.kernel.accessAllowed ? 'block' : 'none';\n",
              "    })();\n",
              "  </script>\n",
              "</div>\n",
              "\n",
              "    </div>\n",
              "  </div>\n"
            ],
            "application/vnd.google.colaboratory.intrinsic+json": {
              "type": "dataframe",
              "summary": "{\n  \"name\": \"sp\",\n  \"rows\": 4,\n  \"fields\": [\n    {\n      \"column\": \"bamf_nnunet_mr_prostate-prostatex\",\n      \"properties\": {\n        \"dtype\": \"number\",\n        \"std\": 0.5,\n        \"min\": 4.875891291069216e-60,\n        \"max\": 1.0,\n        \"num_unique_values\": 4,\n        \"samples\": [\n          2.024997010899783e-37,\n          4.875891291069216e-60,\n          1.0\n        ],\n        \"semantic_type\": \"\",\n        \"description\": \"\"\n      }\n    },\n    {\n      \"column\": \"monai_prostate158-prostatex\",\n      \"properties\": {\n        \"dtype\": \"number\",\n        \"std\": 0.4998288602453174,\n        \"min\": 2.024997010899783e-37,\n        \"max\": 1.0,\n        \"num_unique_values\": 4,\n        \"samples\": [\n          1.0,\n          9.261634529155409e-07,\n          2.024997010899783e-37\n        ],\n        \"semantic_type\": \"\",\n        \"description\": \"\"\n      }\n    },\n    {\n      \"column\": \"nnunet_prostate_task24-prostatex\",\n      \"properties\": {\n        \"dtype\": \"number\",\n        \"std\": 0.49982901481713893,\n        \"min\": 1.138467029572332e-22,\n        \"max\": 1.0,\n        \"num_unique_values\": 4,\n        \"samples\": [\n          0.0010273187573138448,\n          2.1179175017964847e-17,\n          1.138467029572332e-22\n        ],\n        \"semantic_type\": \"\",\n        \"description\": \"\"\n      }\n    },\n    {\n      \"column\": \"nnunet_prostate_zonal_task05-prostatex\",\n      \"properties\": {\n        \"dtype\": \"number\",\n        \"std\": 0.49999984563961514,\n        \"min\": 4.875891291069216e-60,\n        \"max\": 1.0,\n        \"num_unique_values\": 4,\n        \"samples\": [\n          9.261634529155409e-07,\n          1.0,\n          4.875891291069216e-60\n        ],\n        \"semantic_type\": \"\",\n        \"description\": \"\"\n      }\n    }\n  ]\n}"
            }
          },
          "metadata": {},
          "execution_count": 37
        }
      ],
      "source": [
        "sp.posthoc_conover(prostate_prostatex_df, val_col='dsc', group_col='algorithmNameCollection', p_adjust = 'bonf')"
      ]
    },
    {
      "cell_type": "markdown",
      "metadata": {
        "id": "-Zhua7GPM481"
      },
      "source": [
        "Conover pairwise post-hoc test tells us that there are significant differences across all models, especially task05 and the rest of the models.\n"
      ]
    },
    {
      "cell_type": "markdown",
      "metadata": {
        "id": "DGmRqt5PM481"
      },
      "source": [
        "Using a significance level of 5%, we would reject the null hypothesis in favor of the alternative hypothesis: “Dice scores are different across models for ProstateX collections”.\n"
      ]
    },
    {
      "cell_type": "markdown",
      "metadata": {
        "id": "4nHYJH5eM481"
      },
      "source": [
        "Friedman test tells us that there are significant differences(x2(3)=54, p=0.12e-13) in dice scores between all 3 models for ProstateX collection.\n"
      ]
    },
    {
      "cell_type": "markdown",
      "metadata": {
        "id": "N_ZPUnm8M482"
      },
      "source": [
        "#### Paired tests on mean DSC, same collection == Wilcoxon signed rank test with Bon.. correction\n"
      ]
    },
    {
      "cell_type": "markdown",
      "metadata": {
        "id": "eAO5SFerM482"
      },
      "source": [
        "The Wilcoxon signed-rank test tests the null hypothesis that two related paired samples come from the same distribution.\n",
        "\n",
        "In particular, it tests whether the distribution of the differences x - y is symmetric about zero.\n",
        "\n",
        "It is a non-parametric version of the paired T-test.\n"
      ]
    },
    {
      "cell_type": "markdown",
      "metadata": {
        "id": "00VO-ditM482"
      },
      "source": [
        "The p-value measures the probability of getting a more extreme value than the one you got from the experiment.\n",
        "\n",
        "If the p-value is greater than alpha, you accept the null hypothesis.\n",
        "\n",
        "If it is less than alpha, you reject the null hypothesis.\n"
      ]
    },
    {
      "cell_type": "markdown",
      "metadata": {
        "id": "uioRcp4dM482"
      },
      "source": [
        "Other infos on statistical testing :\n"
      ]
    },
    {
      "cell_type": "code",
      "execution_count": null,
      "metadata": {
        "id": "vG0ddZcfM482"
      },
      "outputs": [],
      "source": [
        "from scipy.stats import wilcoxon"
      ]
    },
    {
      "cell_type": "markdown",
      "metadata": {
        "id": "WSRtgFFRM482"
      },
      "source": [
        "**Bonferroni correction : 4 paired Wilcoxon tests so alpha = 0.05/4 = 0.0125**\n"
      ]
    },
    {
      "cell_type": "markdown",
      "metadata": {
        "id": "WFDLFheqM482"
      },
      "source": [
        "Pair 1 : task024 dsc differences vs task05\n"
      ]
    },
    {
      "cell_type": "code",
      "execution_count": null,
      "metadata": {
        "id": "WzwjXck-M482"
      },
      "outputs": [],
      "source": [
        "diff = nnnunet_task024_prostate_df.sort_values(by=['refSerieUID']).dsc.values - nnnunet_task05_prostate_df.sort_values(by=['refSerieUID']).dsc.values"
      ]
    },
    {
      "cell_type": "code",
      "execution_count": null,
      "metadata": {
        "colab": {
          "base_uri": "https://localhost:8080/"
        },
        "id": "l_NGDsXFM482",
        "outputId": "491620f7-1155-40c8-eb0e-d6f4f2e84a88"
      },
      "outputs": [
        {
          "output_type": "execute_result",
          "data": {
            "text/plain": [
              "(85.0, 1.0974039719164549e-16)"
            ]
          },
          "metadata": {},
          "execution_count": 40
        }
      ],
      "source": [
        "res = wilcoxon(diff)\n",
        "res.statistic, res.pvalue"
      ]
    },
    {
      "cell_type": "code",
      "execution_count": null,
      "metadata": {
        "colab": {
          "base_uri": "https://localhost:8080/"
        },
        "id": "Jm2Qk7dvM482",
        "outputId": "e2856af2-1d19-499a-a1cf-15215e58f272"
      },
      "outputs": [
        {
          "output_type": "execute_result",
          "data": {
            "text/plain": [
              "(4766.0, 1.0)"
            ]
          },
          "metadata": {},
          "execution_count": 41
        }
      ],
      "source": [
        "res = wilcoxon(diff, alternative='less')\n",
        "res.statistic, res.pvalue"
      ]
    },
    {
      "cell_type": "markdown",
      "metadata": {
        "id": "ZyRazX0uM482"
      },
      "source": [
        "This shows that the null hypothesis that the median of dsc differences is negative can be rejected at a confidence level of 5% in favor of the alternative that the median is greater than zero.\n"
      ]
    },
    {
      "cell_type": "markdown",
      "metadata": {
        "id": "54RRzT1YM482"
      },
      "source": [
        "Pair 2 : task024 dsc differences vs monai\n"
      ]
    },
    {
      "cell_type": "code",
      "execution_count": null,
      "metadata": {
        "colab": {
          "base_uri": "https://localhost:8080/"
        },
        "id": "jW5zr3WTM482",
        "outputId": "74d71b03-7741-4eb8-8764-5ff878526ef5"
      },
      "outputs": [
        {
          "output_type": "execute_result",
          "data": {
            "text/plain": [
              "(1317.0, 8.56355971010145e-05)"
            ]
          },
          "metadata": {},
          "execution_count": 42
        }
      ],
      "source": [
        "diff = nnnunet_task024_prostate_df.sort_values(by=['refSerieUID']).dsc.values - monai_prostate158_prostate_df.sort_values(by=['refSerieUID']).dsc.values\n",
        "res = wilcoxon(diff)\n",
        "res.statistic, res.pvalue"
      ]
    },
    {
      "cell_type": "code",
      "execution_count": null,
      "metadata": {
        "colab": {
          "base_uri": "https://localhost:8080/"
        },
        "id": "F9xZ7Jz0M482",
        "outputId": "e973760f-bd95-4715-99a7-f9746f76cd0d"
      },
      "outputs": [
        {
          "output_type": "execute_result",
          "data": {
            "text/plain": [
              "(3534.0, 0.9999571822014495)"
            ]
          },
          "metadata": {},
          "execution_count": 43
        }
      ],
      "source": [
        "res = wilcoxon(diff, alternative='less')\n",
        "res.statistic, res.pvalue"
      ]
    },
    {
      "cell_type": "markdown",
      "metadata": {
        "id": "-qFaOqf7M482"
      },
      "source": [
        "Pair 3 : task05 dsc differences vs monai\n"
      ]
    },
    {
      "cell_type": "code",
      "execution_count": null,
      "metadata": {
        "colab": {
          "base_uri": "https://localhost:8080/"
        },
        "id": "32Q1ONUxM482",
        "outputId": "2d49cb1d-51b2-448e-a4b9-ae0aec7610cb"
      },
      "outputs": [
        {
          "output_type": "execute_result",
          "data": {
            "text/plain": [
              "(446.0, 2.3075515740758437e-12)"
            ]
          },
          "metadata": {},
          "execution_count": 44
        }
      ],
      "source": [
        "diff = monai_prostate158_prostate_df.sort_values(by=['refSerieUID']).dsc.values - nnnunet_task05_prostate_df.sort_values(by=['refSerieUID']).dsc.values\n",
        "res = wilcoxon(diff)\n",
        "res.statistic, res.pvalue"
      ]
    },
    {
      "cell_type": "code",
      "execution_count": null,
      "metadata": {
        "colab": {
          "base_uri": "https://localhost:8080/"
        },
        "id": "4g2qNd8CM482",
        "outputId": "601540ba-1fa0-4317-842d-7d9d85a3e03e"
      },
      "outputs": [
        {
          "output_type": "execute_result",
          "data": {
            "text/plain": [
              "(4405.0, 1.1537757870379218e-12)"
            ]
          },
          "metadata": {},
          "execution_count": 45
        }
      ],
      "source": [
        "res = wilcoxon(diff, alternative='greater')\n",
        "res.statistic, res.pvalue"
      ]
    },
    {
      "cell_type": "markdown",
      "source": [
        "Pair 4 : bamf_nnunet_mr_prostate vs nnunet_task024"
      ],
      "metadata": {
        "id": "g68jgJW9CfKU"
      }
    },
    {
      "cell_type": "code",
      "execution_count": null,
      "metadata": {
        "colab": {
          "base_uri": "https://localhost:8080/"
        },
        "outputId": "23d241b1-9796-4ef7-ec51-ca2d8756e4f6",
        "id": "H3cqkAqfCu5G"
      },
      "outputs": [
        {
          "output_type": "execute_result",
          "data": {
            "text/plain": [
              "(2.0, 8.860504485789389e-18)"
            ]
          },
          "metadata": {},
          "execution_count": 46
        }
      ],
      "source": [
        "diff = bamf_nnunet_mr_prostate_df.sort_values(by=['refSerieUID']).dsc.values - nnnunet_task024_prostate_df.sort_values(by=['refSerieUID']).dsc.values\n",
        "res = wilcoxon(diff)\n",
        "res.statistic, res.pvalue"
      ]
    },
    {
      "cell_type": "code",
      "execution_count": null,
      "metadata": {
        "colab": {
          "base_uri": "https://localhost:8080/"
        },
        "outputId": "48a6ef6a-1ce7-4a16-8549-2f521795174e",
        "id": "jmoWhaFeCu5P"
      },
      "outputs": [
        {
          "output_type": "execute_result",
          "data": {
            "text/plain": [
              "(4849.0, 4.4302522428946944e-18)"
            ]
          },
          "metadata": {},
          "execution_count": 49
        }
      ],
      "source": [
        "res = wilcoxon(diff, alternative='greater')\n",
        "res.statistic, res.pvalue"
      ]
    },
    {
      "cell_type": "markdown",
      "source": [
        "Pair 5 : bamf_nnunet_mr_prostate vs nnunet_task05"
      ],
      "metadata": {
        "id": "bM79iuvXCnEa"
      }
    },
    {
      "cell_type": "code",
      "execution_count": null,
      "metadata": {
        "colab": {
          "base_uri": "https://localhost:8080/"
        },
        "outputId": "3ab71e27-ac9b-4821-d7d2-43892a22f83a",
        "id": "b5muefc6CvfL"
      },
      "outputs": [
        {
          "output_type": "execute_result",
          "data": {
            "text/plain": [
              "(0.0, 8.33039747348591e-18)"
            ]
          },
          "metadata": {},
          "execution_count": 50
        }
      ],
      "source": [
        "diff = bamf_nnunet_mr_prostate_df.sort_values(by=['refSerieUID']).dsc.values - nnnunet_task05_prostate_df.sort_values(by=['refSerieUID']).dsc.values\n",
        "res = wilcoxon(diff)\n",
        "res.statistic, res.pvalue"
      ]
    },
    {
      "cell_type": "code",
      "execution_count": null,
      "metadata": {
        "colab": {
          "base_uri": "https://localhost:8080/"
        },
        "outputId": "13604c42-58f5-4fe8-ccb7-0d2ac47a4e80",
        "id": "GKtgHH3ECvfM"
      },
      "outputs": [
        {
          "output_type": "execute_result",
          "data": {
            "text/plain": [
              "(4851.0, 4.165198736742955e-18)"
            ]
          },
          "metadata": {},
          "execution_count": 51
        }
      ],
      "source": [
        "res = wilcoxon(diff, alternative='greater')\n",
        "res.statistic, res.pvalue"
      ]
    },
    {
      "cell_type": "markdown",
      "source": [
        "Pair 6 : bamf_nnunet_mr_prostate vs monai prostate158"
      ],
      "metadata": {
        "id": "F0FAP84YCpmB"
      }
    },
    {
      "cell_type": "code",
      "execution_count": null,
      "metadata": {
        "colab": {
          "base_uri": "https://localhost:8080/"
        },
        "outputId": "2424c201-48fd-459f-8964-68e2857ed0c7",
        "id": "acJGMw1zCv6d"
      },
      "outputs": [
        {
          "output_type": "execute_result",
          "data": {
            "text/plain": [
              "(3.0, 9.137907036390102e-18)"
            ]
          },
          "metadata": {},
          "execution_count": 52
        }
      ],
      "source": [
        "diff = bamf_nnunet_mr_prostate_df.sort_values(by=['refSerieUID']).dsc.values - monai_prostate158_prostate_df.sort_values(by=['refSerieUID']).dsc.values\n",
        "res = wilcoxon(diff)\n",
        "res.statistic, res.pvalue"
      ]
    },
    {
      "cell_type": "code",
      "execution_count": null,
      "metadata": {
        "colab": {
          "base_uri": "https://localhost:8080/"
        },
        "outputId": "be7358a3-a44c-4527-a03e-ad8121c58342",
        "id": "NgIKDA_xCv6d"
      },
      "outputs": [
        {
          "output_type": "execute_result",
          "data": {
            "text/plain": [
              "(4848.0, 4.568953518195051e-18)"
            ]
          },
          "metadata": {},
          "execution_count": 53
        }
      ],
      "source": [
        "res = wilcoxon(diff, alternative='greater')\n",
        "res.statistic, res.pvalue"
      ]
    },
    {
      "cell_type": "markdown",
      "metadata": {
        "id": "N7WX4KxcM483"
      },
      "source": [
        "#### Peripheral Zone\n"
      ]
    },
    {
      "cell_type": "code",
      "source": [
        "data_df.SegmentedPropertyTypeCodeMeaning.unique()"
      ],
      "metadata": {
        "colab": {
          "base_uri": "https://localhost:8080/"
        },
        "id": "u-X8zNinHshq",
        "outputId": "aee4e5d6-39e8-4bdd-84af-25a55ada9879"
      },
      "execution_count": null,
      "outputs": [
        {
          "output_type": "execute_result",
          "data": {
            "text/plain": [
              "array(['Prostate', 'Prostatic structure',\n",
              "       'Structure of peripheral glandular zone of prostate (body structure)',\n",
              "       'Structure of transition zone of prostate (body structure)'],\n",
              "      dtype=object)"
            ]
          },
          "metadata": {},
          "execution_count": 67
        }
      ]
    },
    {
      "cell_type": "code",
      "execution_count": null,
      "metadata": {
        "id": "-1qUW_hVM483",
        "colab": {
          "base_uri": "https://localhost:8080/"
        },
        "outputId": "f5bf8bb2-71c7-4e38-9dea-a8799a84ebca"
      },
      "outputs": [
        {
          "output_type": "execute_result",
          "data": {
            "text/plain": [
              "195"
            ]
          },
          "metadata": {},
          "execution_count": 68
        }
      ],
      "source": [
        "pz_prostatex_df = data_df[(data_df.collection_id == 'prostatex') & (data_df.SegmentedPropertyTypeCodeMeaning == 'Structure of peripheral glandular zone of prostate (body structure)')]\n",
        "len(pz_prostatex_df)"
      ]
    },
    {
      "cell_type": "code",
      "execution_count": null,
      "metadata": {
        "colab": {
          "base_uri": "https://localhost:8080/"
        },
        "id": "9BbS8tQ4M483",
        "outputId": "f8ccc4cb-3d06-41f1-d54e-3dbb319bfe7d"
      },
      "outputs": [
        {
          "output_type": "execute_result",
          "data": {
            "text/plain": [
              "array(['nnunet_prostate_zonal_task05-prostatex',\n",
              "       'monai_prostate158-prostatex'], dtype=object)"
            ]
          },
          "metadata": {},
          "execution_count": 69
        }
      ],
      "source": [
        "pz_prostatex_df.algorithmNameCollection.unique()"
      ]
    },
    {
      "cell_type": "code",
      "execution_count": null,
      "metadata": {
        "id": "ArDDSBtZM483"
      },
      "outputs": [],
      "source": [
        "nnunet_pz_prostatex_df =  pz_prostatex_df[pz_prostatex_df.algorithmNameCollection == 'nnunet_prostate_zonal_task05-prostatex']\n",
        "monai_pz_prostatex_df = pz_prostatex_df[pz_prostatex_df.algorithmNameCollection == 'monai_prostate158-prostatex']"
      ]
    },
    {
      "cell_type": "code",
      "source": [
        "len(nnunet_pz_prostatex_df)"
      ],
      "metadata": {
        "colab": {
          "base_uri": "https://localhost:8080/"
        },
        "id": "6Y616MO3Iovm",
        "outputId": "95a9e546-ff77-40bf-d548-fed8c0e11dab"
      },
      "execution_count": null,
      "outputs": [
        {
          "output_type": "execute_result",
          "data": {
            "text/plain": [
              "97"
            ]
          },
          "metadata": {},
          "execution_count": 74
        }
      ]
    },
    {
      "cell_type": "code",
      "source": [
        "len(monai_pz_prostatex_df)"
      ],
      "metadata": {
        "colab": {
          "base_uri": "https://localhost:8080/"
        },
        "id": "6B3lpRxKIqwK",
        "outputId": "9afc9962-c719-4a1c-9be0-63e8addc7284"
      },
      "execution_count": null,
      "outputs": [
        {
          "output_type": "execute_result",
          "data": {
            "text/plain": [
              "98"
            ]
          },
          "metadata": {},
          "execution_count": 75
        }
      ]
    },
    {
      "cell_type": "code",
      "execution_count": null,
      "metadata": {
        "id": "X5ZZ6Mi5M483"
      },
      "outputs": [],
      "source": [
        "# nnunet_pz_prostatex_df = nnunet_pz_prostatex_df.drop_duplicates(subset='refSerieUID', keep=\"last\")"
      ]
    },
    {
      "cell_type": "code",
      "execution_count": null,
      "metadata": {
        "colab": {
          "base_uri": "https://localhost:8080/"
        },
        "id": "sNoBgKEEM483",
        "outputId": "bae26474-e50c-4ecf-b98e-d17596177865"
      },
      "outputs": [
        {
          "output_type": "stream",
          "name": "stdout",
          "text": [
            "nnunet task05 model DSC mean and std for pz: 0.67/0.14\n",
            "monai model DSC mean and std for pz: 0.74/0.08\n"
          ]
        }
      ],
      "source": [
        "print(f\"nnunet task05 model DSC mean and std for pz: {round(np.mean(nnunet_pz_prostatex_df.dsc.values),2)}/{round(np.std(nnunet_pz_prostatex_df.dsc.values),2)}\")\n",
        "print(f\"monai model DSC mean and std for pz: {round(np.mean(monai_pz_prostatex_df.dsc.values),2)}/{round(np.std(monai_pz_prostatex_df.dsc.values),2)}\")"
      ]
    },
    {
      "cell_type": "code",
      "execution_count": null,
      "metadata": {
        "colab": {
          "base_uri": "https://localhost:8080/"
        },
        "id": "3SQHCTnDM483",
        "outputId": "2e578a36-78f5-44af-ac0f-f2ac1a99682f"
      },
      "outputs": [
        {
          "output_type": "execute_result",
          "data": {
            "text/plain": [
              "(737.0, 3.65036478520205e-09)"
            ]
          },
          "metadata": {},
          "execution_count": 77
        }
      ],
      "source": [
        "diff = monai_pz_prostatex_df[monai_pz_prostatex_df.refSerieUID.isin(nnunet_pz_prostatex_df.refSerieUID.unique())].sort_values(by=['refSerieUID']).dsc.values - nnunet_pz_prostatex_df.sort_values(by=['refSerieUID']).dsc.values\n",
        "res = wilcoxon(diff)\n",
        "res.statistic, res.pvalue"
      ]
    },
    {
      "cell_type": "code",
      "execution_count": null,
      "metadata": {
        "colab": {
          "base_uri": "https://localhost:8080/"
        },
        "id": "jheJw84BM483",
        "outputId": "4b72b1a4-51b8-4a34-ad08-5014637c7d35"
      },
      "outputs": [
        {
          "output_type": "execute_result",
          "data": {
            "text/plain": [
              "(4016.0, 1.825182392601025e-09)"
            ]
          },
          "metadata": {},
          "execution_count": 78
        }
      ],
      "source": [
        "res = wilcoxon(diff, alternative='greater')\n",
        "res.statistic, res.pvalue"
      ]
    },
    {
      "cell_type": "code",
      "source": [
        "nnunet_pz_prostatex_df[['dsc', 'asd', 'hsdff']].describe()"
      ],
      "metadata": {
        "colab": {
          "base_uri": "https://localhost:8080/",
          "height": 300
        },
        "id": "MDR6622-0uEz",
        "outputId": "5dde4254-69f3-4d95-aa7c-b24c6ecc5b35"
      },
      "execution_count": null,
      "outputs": [
        {
          "output_type": "execute_result",
          "data": {
            "text/plain": [
              "             dsc        asd      hsdff\n",
              "count  97.000000  97.000000  97.000000\n",
              "mean    0.673065   2.006186  16.862658\n",
              "std     0.138787   2.178992   7.145075\n",
              "min     0.059166   0.620000   7.632169\n",
              "25%     0.635312   1.010000  11.264053\n",
              "50%     0.712014   1.360000  15.378556\n",
              "75%     0.755970   2.280000  20.413403\n",
              "max     0.844456  15.620000  43.934612"
            ],
            "text/html": [
              "\n",
              "  <div id=\"df-9ed25ef2-955a-428f-9887-32a16de026a1\" class=\"colab-df-container\">\n",
              "    <div>\n",
              "<style scoped>\n",
              "    .dataframe tbody tr th:only-of-type {\n",
              "        vertical-align: middle;\n",
              "    }\n",
              "\n",
              "    .dataframe tbody tr th {\n",
              "        vertical-align: top;\n",
              "    }\n",
              "\n",
              "    .dataframe thead th {\n",
              "        text-align: right;\n",
              "    }\n",
              "</style>\n",
              "<table border=\"1\" class=\"dataframe\">\n",
              "  <thead>\n",
              "    <tr style=\"text-align: right;\">\n",
              "      <th></th>\n",
              "      <th>dsc</th>\n",
              "      <th>asd</th>\n",
              "      <th>hsdff</th>\n",
              "    </tr>\n",
              "  </thead>\n",
              "  <tbody>\n",
              "    <tr>\n",
              "      <th>count</th>\n",
              "      <td>97.000000</td>\n",
              "      <td>97.000000</td>\n",
              "      <td>97.000000</td>\n",
              "    </tr>\n",
              "    <tr>\n",
              "      <th>mean</th>\n",
              "      <td>0.673065</td>\n",
              "      <td>2.006186</td>\n",
              "      <td>16.862658</td>\n",
              "    </tr>\n",
              "    <tr>\n",
              "      <th>std</th>\n",
              "      <td>0.138787</td>\n",
              "      <td>2.178992</td>\n",
              "      <td>7.145075</td>\n",
              "    </tr>\n",
              "    <tr>\n",
              "      <th>min</th>\n",
              "      <td>0.059166</td>\n",
              "      <td>0.620000</td>\n",
              "      <td>7.632169</td>\n",
              "    </tr>\n",
              "    <tr>\n",
              "      <th>25%</th>\n",
              "      <td>0.635312</td>\n",
              "      <td>1.010000</td>\n",
              "      <td>11.264053</td>\n",
              "    </tr>\n",
              "    <tr>\n",
              "      <th>50%</th>\n",
              "      <td>0.712014</td>\n",
              "      <td>1.360000</td>\n",
              "      <td>15.378556</td>\n",
              "    </tr>\n",
              "    <tr>\n",
              "      <th>75%</th>\n",
              "      <td>0.755970</td>\n",
              "      <td>2.280000</td>\n",
              "      <td>20.413403</td>\n",
              "    </tr>\n",
              "    <tr>\n",
              "      <th>max</th>\n",
              "      <td>0.844456</td>\n",
              "      <td>15.620000</td>\n",
              "      <td>43.934612</td>\n",
              "    </tr>\n",
              "  </tbody>\n",
              "</table>\n",
              "</div>\n",
              "    <div class=\"colab-df-buttons\">\n",
              "\n",
              "  <div class=\"colab-df-container\">\n",
              "    <button class=\"colab-df-convert\" onclick=\"convertToInteractive('df-9ed25ef2-955a-428f-9887-32a16de026a1')\"\n",
              "            title=\"Convert this dataframe to an interactive table.\"\n",
              "            style=\"display:none;\">\n",
              "\n",
              "  <svg xmlns=\"http://www.w3.org/2000/svg\" height=\"24px\" viewBox=\"0 -960 960 960\">\n",
              "    <path d=\"M120-120v-720h720v720H120Zm60-500h600v-160H180v160Zm220 220h160v-160H400v160Zm0 220h160v-160H400v160ZM180-400h160v-160H180v160Zm440 0h160v-160H620v160ZM180-180h160v-160H180v160Zm440 0h160v-160H620v160Z\"/>\n",
              "  </svg>\n",
              "    </button>\n",
              "\n",
              "  <style>\n",
              "    .colab-df-container {\n",
              "      display:flex;\n",
              "      gap: 12px;\n",
              "    }\n",
              "\n",
              "    .colab-df-convert {\n",
              "      background-color: #E8F0FE;\n",
              "      border: none;\n",
              "      border-radius: 50%;\n",
              "      cursor: pointer;\n",
              "      display: none;\n",
              "      fill: #1967D2;\n",
              "      height: 32px;\n",
              "      padding: 0 0 0 0;\n",
              "      width: 32px;\n",
              "    }\n",
              "\n",
              "    .colab-df-convert:hover {\n",
              "      background-color: #E2EBFA;\n",
              "      box-shadow: 0px 1px 2px rgba(60, 64, 67, 0.3), 0px 1px 3px 1px rgba(60, 64, 67, 0.15);\n",
              "      fill: #174EA6;\n",
              "    }\n",
              "\n",
              "    .colab-df-buttons div {\n",
              "      margin-bottom: 4px;\n",
              "    }\n",
              "\n",
              "    [theme=dark] .colab-df-convert {\n",
              "      background-color: #3B4455;\n",
              "      fill: #D2E3FC;\n",
              "    }\n",
              "\n",
              "    [theme=dark] .colab-df-convert:hover {\n",
              "      background-color: #434B5C;\n",
              "      box-shadow: 0px 1px 3px 1px rgba(0, 0, 0, 0.15);\n",
              "      filter: drop-shadow(0px 1px 2px rgba(0, 0, 0, 0.3));\n",
              "      fill: #FFFFFF;\n",
              "    }\n",
              "  </style>\n",
              "\n",
              "    <script>\n",
              "      const buttonEl =\n",
              "        document.querySelector('#df-9ed25ef2-955a-428f-9887-32a16de026a1 button.colab-df-convert');\n",
              "      buttonEl.style.display =\n",
              "        google.colab.kernel.accessAllowed ? 'block' : 'none';\n",
              "\n",
              "      async function convertToInteractive(key) {\n",
              "        const element = document.querySelector('#df-9ed25ef2-955a-428f-9887-32a16de026a1');\n",
              "        const dataTable =\n",
              "          await google.colab.kernel.invokeFunction('convertToInteractive',\n",
              "                                                    [key], {});\n",
              "        if (!dataTable) return;\n",
              "\n",
              "        const docLinkHtml = 'Like what you see? Visit the ' +\n",
              "          '<a target=\"_blank\" href=https://colab.research.google.com/notebooks/data_table.ipynb>data table notebook</a>'\n",
              "          + ' to learn more about interactive tables.';\n",
              "        element.innerHTML = '';\n",
              "        dataTable['output_type'] = 'display_data';\n",
              "        await google.colab.output.renderOutput(dataTable, element);\n",
              "        const docLink = document.createElement('div');\n",
              "        docLink.innerHTML = docLinkHtml;\n",
              "        element.appendChild(docLink);\n",
              "      }\n",
              "    </script>\n",
              "  </div>\n",
              "\n",
              "\n",
              "<div id=\"df-fb074d47-cbe1-4c0f-b334-dbe81a64c028\">\n",
              "  <button class=\"colab-df-quickchart\" onclick=\"quickchart('df-fb074d47-cbe1-4c0f-b334-dbe81a64c028')\"\n",
              "            title=\"Suggest charts\"\n",
              "            style=\"display:none;\">\n",
              "\n",
              "<svg xmlns=\"http://www.w3.org/2000/svg\" height=\"24px\"viewBox=\"0 0 24 24\"\n",
              "     width=\"24px\">\n",
              "    <g>\n",
              "        <path d=\"M19 3H5c-1.1 0-2 .9-2 2v14c0 1.1.9 2 2 2h14c1.1 0 2-.9 2-2V5c0-1.1-.9-2-2-2zM9 17H7v-7h2v7zm4 0h-2V7h2v10zm4 0h-2v-4h2v4z\"/>\n",
              "    </g>\n",
              "</svg>\n",
              "  </button>\n",
              "\n",
              "<style>\n",
              "  .colab-df-quickchart {\n",
              "      --bg-color: #E8F0FE;\n",
              "      --fill-color: #1967D2;\n",
              "      --hover-bg-color: #E2EBFA;\n",
              "      --hover-fill-color: #174EA6;\n",
              "      --disabled-fill-color: #AAA;\n",
              "      --disabled-bg-color: #DDD;\n",
              "  }\n",
              "\n",
              "  [theme=dark] .colab-df-quickchart {\n",
              "      --bg-color: #3B4455;\n",
              "      --fill-color: #D2E3FC;\n",
              "      --hover-bg-color: #434B5C;\n",
              "      --hover-fill-color: #FFFFFF;\n",
              "      --disabled-bg-color: #3B4455;\n",
              "      --disabled-fill-color: #666;\n",
              "  }\n",
              "\n",
              "  .colab-df-quickchart {\n",
              "    background-color: var(--bg-color);\n",
              "    border: none;\n",
              "    border-radius: 50%;\n",
              "    cursor: pointer;\n",
              "    display: none;\n",
              "    fill: var(--fill-color);\n",
              "    height: 32px;\n",
              "    padding: 0;\n",
              "    width: 32px;\n",
              "  }\n",
              "\n",
              "  .colab-df-quickchart:hover {\n",
              "    background-color: var(--hover-bg-color);\n",
              "    box-shadow: 0 1px 2px rgba(60, 64, 67, 0.3), 0 1px 3px 1px rgba(60, 64, 67, 0.15);\n",
              "    fill: var(--button-hover-fill-color);\n",
              "  }\n",
              "\n",
              "  .colab-df-quickchart-complete:disabled,\n",
              "  .colab-df-quickchart-complete:disabled:hover {\n",
              "    background-color: var(--disabled-bg-color);\n",
              "    fill: var(--disabled-fill-color);\n",
              "    box-shadow: none;\n",
              "  }\n",
              "\n",
              "  .colab-df-spinner {\n",
              "    border: 2px solid var(--fill-color);\n",
              "    border-color: transparent;\n",
              "    border-bottom-color: var(--fill-color);\n",
              "    animation:\n",
              "      spin 1s steps(1) infinite;\n",
              "  }\n",
              "\n",
              "  @keyframes spin {\n",
              "    0% {\n",
              "      border-color: transparent;\n",
              "      border-bottom-color: var(--fill-color);\n",
              "      border-left-color: var(--fill-color);\n",
              "    }\n",
              "    20% {\n",
              "      border-color: transparent;\n",
              "      border-left-color: var(--fill-color);\n",
              "      border-top-color: var(--fill-color);\n",
              "    }\n",
              "    30% {\n",
              "      border-color: transparent;\n",
              "      border-left-color: var(--fill-color);\n",
              "      border-top-color: var(--fill-color);\n",
              "      border-right-color: var(--fill-color);\n",
              "    }\n",
              "    40% {\n",
              "      border-color: transparent;\n",
              "      border-right-color: var(--fill-color);\n",
              "      border-top-color: var(--fill-color);\n",
              "    }\n",
              "    60% {\n",
              "      border-color: transparent;\n",
              "      border-right-color: var(--fill-color);\n",
              "    }\n",
              "    80% {\n",
              "      border-color: transparent;\n",
              "      border-right-color: var(--fill-color);\n",
              "      border-bottom-color: var(--fill-color);\n",
              "    }\n",
              "    90% {\n",
              "      border-color: transparent;\n",
              "      border-bottom-color: var(--fill-color);\n",
              "    }\n",
              "  }\n",
              "</style>\n",
              "\n",
              "  <script>\n",
              "    async function quickchart(key) {\n",
              "      const quickchartButtonEl =\n",
              "        document.querySelector('#' + key + ' button');\n",
              "      quickchartButtonEl.disabled = true;  // To prevent multiple clicks.\n",
              "      quickchartButtonEl.classList.add('colab-df-spinner');\n",
              "      try {\n",
              "        const charts = await google.colab.kernel.invokeFunction(\n",
              "            'suggestCharts', [key], {});\n",
              "      } catch (error) {\n",
              "        console.error('Error during call to suggestCharts:', error);\n",
              "      }\n",
              "      quickchartButtonEl.classList.remove('colab-df-spinner');\n",
              "      quickchartButtonEl.classList.add('colab-df-quickchart-complete');\n",
              "    }\n",
              "    (() => {\n",
              "      let quickchartButtonEl =\n",
              "        document.querySelector('#df-fb074d47-cbe1-4c0f-b334-dbe81a64c028 button');\n",
              "      quickchartButtonEl.style.display =\n",
              "        google.colab.kernel.accessAllowed ? 'block' : 'none';\n",
              "    })();\n",
              "  </script>\n",
              "</div>\n",
              "\n",
              "    </div>\n",
              "  </div>\n"
            ],
            "application/vnd.google.colaboratory.intrinsic+json": {
              "type": "dataframe",
              "summary": "{\n  \"name\": \"nnunet_pz_prostatex_df[['dsc', 'asd', 'hsdff']]\",\n  \"rows\": 8,\n  \"fields\": [\n    {\n      \"column\": \"dsc\",\n      \"properties\": {\n        \"dtype\": \"number\",\n        \"std\": 34.10303279619629,\n        \"min\": 0.059166,\n        \"max\": 97.0,\n        \"num_unique_values\": 8,\n        \"samples\": [\n          0.673064618556701,\n          0.712014,\n          97.0\n        ],\n        \"semantic_type\": \"\",\n        \"description\": \"\"\n      }\n    },\n    {\n      \"column\": \"asd\",\n      \"properties\": {\n        \"dtype\": \"number\",\n        \"std\": 33.39678354526564,\n        \"min\": 0.62,\n        \"max\": 97.0,\n        \"num_unique_values\": 8,\n        \"samples\": [\n          2.0061855670103097,\n          1.36,\n          97.0\n        ],\n        \"semantic_type\": \"\",\n        \"description\": \"\"\n      }\n    },\n    {\n      \"column\": \"hsdff\",\n      \"properties\": {\n        \"dtype\": \"number\",\n        \"std\": 30.4332791597264,\n        \"min\": 7.1450754125520115,\n        \"max\": 97.0,\n        \"num_unique_values\": 8,\n        \"samples\": [\n          16.862657525773194,\n          15.378556,\n          97.0\n        ],\n        \"semantic_type\": \"\",\n        \"description\": \"\"\n      }\n    }\n  ]\n}"
            }
          },
          "metadata": {},
          "execution_count": 79
        }
      ]
    },
    {
      "cell_type": "code",
      "source": [
        "monai_pz_prostatex_df[['dsc', 'asd', 'hsdff']].describe()"
      ],
      "metadata": {
        "colab": {
          "base_uri": "https://localhost:8080/",
          "height": 300
        },
        "id": "x1vMDAwt0w27",
        "outputId": "eba95376-b242-46b2-f521-1c74a0d1fdb3"
      },
      "execution_count": null,
      "outputs": [
        {
          "output_type": "execute_result",
          "data": {
            "text/plain": [
              "             dsc   asd      hsdff\n",
              "count  98.000000  98.0  98.000000\n",
              "mean    0.737500   0.0  12.964193\n",
              "std     0.081039   0.0   5.238738\n",
              "min     0.460548   0.0   5.024938\n",
              "25%     0.697544   0.0   9.243224\n",
              "50%     0.756841   0.0  11.788753\n",
              "75%     0.788580   0.0  15.554309\n",
              "max     0.884381   0.0  30.588818"
            ],
            "text/html": [
              "\n",
              "  <div id=\"df-f76a6831-30fe-478d-818c-801378cb74ca\" class=\"colab-df-container\">\n",
              "    <div>\n",
              "<style scoped>\n",
              "    .dataframe tbody tr th:only-of-type {\n",
              "        vertical-align: middle;\n",
              "    }\n",
              "\n",
              "    .dataframe tbody tr th {\n",
              "        vertical-align: top;\n",
              "    }\n",
              "\n",
              "    .dataframe thead th {\n",
              "        text-align: right;\n",
              "    }\n",
              "</style>\n",
              "<table border=\"1\" class=\"dataframe\">\n",
              "  <thead>\n",
              "    <tr style=\"text-align: right;\">\n",
              "      <th></th>\n",
              "      <th>dsc</th>\n",
              "      <th>asd</th>\n",
              "      <th>hsdff</th>\n",
              "    </tr>\n",
              "  </thead>\n",
              "  <tbody>\n",
              "    <tr>\n",
              "      <th>count</th>\n",
              "      <td>98.000000</td>\n",
              "      <td>98.0</td>\n",
              "      <td>98.000000</td>\n",
              "    </tr>\n",
              "    <tr>\n",
              "      <th>mean</th>\n",
              "      <td>0.737500</td>\n",
              "      <td>0.0</td>\n",
              "      <td>12.964193</td>\n",
              "    </tr>\n",
              "    <tr>\n",
              "      <th>std</th>\n",
              "      <td>0.081039</td>\n",
              "      <td>0.0</td>\n",
              "      <td>5.238738</td>\n",
              "    </tr>\n",
              "    <tr>\n",
              "      <th>min</th>\n",
              "      <td>0.460548</td>\n",
              "      <td>0.0</td>\n",
              "      <td>5.024938</td>\n",
              "    </tr>\n",
              "    <tr>\n",
              "      <th>25%</th>\n",
              "      <td>0.697544</td>\n",
              "      <td>0.0</td>\n",
              "      <td>9.243224</td>\n",
              "    </tr>\n",
              "    <tr>\n",
              "      <th>50%</th>\n",
              "      <td>0.756841</td>\n",
              "      <td>0.0</td>\n",
              "      <td>11.788753</td>\n",
              "    </tr>\n",
              "    <tr>\n",
              "      <th>75%</th>\n",
              "      <td>0.788580</td>\n",
              "      <td>0.0</td>\n",
              "      <td>15.554309</td>\n",
              "    </tr>\n",
              "    <tr>\n",
              "      <th>max</th>\n",
              "      <td>0.884381</td>\n",
              "      <td>0.0</td>\n",
              "      <td>30.588818</td>\n",
              "    </tr>\n",
              "  </tbody>\n",
              "</table>\n",
              "</div>\n",
              "    <div class=\"colab-df-buttons\">\n",
              "\n",
              "  <div class=\"colab-df-container\">\n",
              "    <button class=\"colab-df-convert\" onclick=\"convertToInteractive('df-f76a6831-30fe-478d-818c-801378cb74ca')\"\n",
              "            title=\"Convert this dataframe to an interactive table.\"\n",
              "            style=\"display:none;\">\n",
              "\n",
              "  <svg xmlns=\"http://www.w3.org/2000/svg\" height=\"24px\" viewBox=\"0 -960 960 960\">\n",
              "    <path d=\"M120-120v-720h720v720H120Zm60-500h600v-160H180v160Zm220 220h160v-160H400v160Zm0 220h160v-160H400v160ZM180-400h160v-160H180v160Zm440 0h160v-160H620v160ZM180-180h160v-160H180v160Zm440 0h160v-160H620v160Z\"/>\n",
              "  </svg>\n",
              "    </button>\n",
              "\n",
              "  <style>\n",
              "    .colab-df-container {\n",
              "      display:flex;\n",
              "      gap: 12px;\n",
              "    }\n",
              "\n",
              "    .colab-df-convert {\n",
              "      background-color: #E8F0FE;\n",
              "      border: none;\n",
              "      border-radius: 50%;\n",
              "      cursor: pointer;\n",
              "      display: none;\n",
              "      fill: #1967D2;\n",
              "      height: 32px;\n",
              "      padding: 0 0 0 0;\n",
              "      width: 32px;\n",
              "    }\n",
              "\n",
              "    .colab-df-convert:hover {\n",
              "      background-color: #E2EBFA;\n",
              "      box-shadow: 0px 1px 2px rgba(60, 64, 67, 0.3), 0px 1px 3px 1px rgba(60, 64, 67, 0.15);\n",
              "      fill: #174EA6;\n",
              "    }\n",
              "\n",
              "    .colab-df-buttons div {\n",
              "      margin-bottom: 4px;\n",
              "    }\n",
              "\n",
              "    [theme=dark] .colab-df-convert {\n",
              "      background-color: #3B4455;\n",
              "      fill: #D2E3FC;\n",
              "    }\n",
              "\n",
              "    [theme=dark] .colab-df-convert:hover {\n",
              "      background-color: #434B5C;\n",
              "      box-shadow: 0px 1px 3px 1px rgba(0, 0, 0, 0.15);\n",
              "      filter: drop-shadow(0px 1px 2px rgba(0, 0, 0, 0.3));\n",
              "      fill: #FFFFFF;\n",
              "    }\n",
              "  </style>\n",
              "\n",
              "    <script>\n",
              "      const buttonEl =\n",
              "        document.querySelector('#df-f76a6831-30fe-478d-818c-801378cb74ca button.colab-df-convert');\n",
              "      buttonEl.style.display =\n",
              "        google.colab.kernel.accessAllowed ? 'block' : 'none';\n",
              "\n",
              "      async function convertToInteractive(key) {\n",
              "        const element = document.querySelector('#df-f76a6831-30fe-478d-818c-801378cb74ca');\n",
              "        const dataTable =\n",
              "          await google.colab.kernel.invokeFunction('convertToInteractive',\n",
              "                                                    [key], {});\n",
              "        if (!dataTable) return;\n",
              "\n",
              "        const docLinkHtml = 'Like what you see? Visit the ' +\n",
              "          '<a target=\"_blank\" href=https://colab.research.google.com/notebooks/data_table.ipynb>data table notebook</a>'\n",
              "          + ' to learn more about interactive tables.';\n",
              "        element.innerHTML = '';\n",
              "        dataTable['output_type'] = 'display_data';\n",
              "        await google.colab.output.renderOutput(dataTable, element);\n",
              "        const docLink = document.createElement('div');\n",
              "        docLink.innerHTML = docLinkHtml;\n",
              "        element.appendChild(docLink);\n",
              "      }\n",
              "    </script>\n",
              "  </div>\n",
              "\n",
              "\n",
              "<div id=\"df-1adb8368-b302-4221-8b18-1ac2ba75b78c\">\n",
              "  <button class=\"colab-df-quickchart\" onclick=\"quickchart('df-1adb8368-b302-4221-8b18-1ac2ba75b78c')\"\n",
              "            title=\"Suggest charts\"\n",
              "            style=\"display:none;\">\n",
              "\n",
              "<svg xmlns=\"http://www.w3.org/2000/svg\" height=\"24px\"viewBox=\"0 0 24 24\"\n",
              "     width=\"24px\">\n",
              "    <g>\n",
              "        <path d=\"M19 3H5c-1.1 0-2 .9-2 2v14c0 1.1.9 2 2 2h14c1.1 0 2-.9 2-2V5c0-1.1-.9-2-2-2zM9 17H7v-7h2v7zm4 0h-2V7h2v10zm4 0h-2v-4h2v4z\"/>\n",
              "    </g>\n",
              "</svg>\n",
              "  </button>\n",
              "\n",
              "<style>\n",
              "  .colab-df-quickchart {\n",
              "      --bg-color: #E8F0FE;\n",
              "      --fill-color: #1967D2;\n",
              "      --hover-bg-color: #E2EBFA;\n",
              "      --hover-fill-color: #174EA6;\n",
              "      --disabled-fill-color: #AAA;\n",
              "      --disabled-bg-color: #DDD;\n",
              "  }\n",
              "\n",
              "  [theme=dark] .colab-df-quickchart {\n",
              "      --bg-color: #3B4455;\n",
              "      --fill-color: #D2E3FC;\n",
              "      --hover-bg-color: #434B5C;\n",
              "      --hover-fill-color: #FFFFFF;\n",
              "      --disabled-bg-color: #3B4455;\n",
              "      --disabled-fill-color: #666;\n",
              "  }\n",
              "\n",
              "  .colab-df-quickchart {\n",
              "    background-color: var(--bg-color);\n",
              "    border: none;\n",
              "    border-radius: 50%;\n",
              "    cursor: pointer;\n",
              "    display: none;\n",
              "    fill: var(--fill-color);\n",
              "    height: 32px;\n",
              "    padding: 0;\n",
              "    width: 32px;\n",
              "  }\n",
              "\n",
              "  .colab-df-quickchart:hover {\n",
              "    background-color: var(--hover-bg-color);\n",
              "    box-shadow: 0 1px 2px rgba(60, 64, 67, 0.3), 0 1px 3px 1px rgba(60, 64, 67, 0.15);\n",
              "    fill: var(--button-hover-fill-color);\n",
              "  }\n",
              "\n",
              "  .colab-df-quickchart-complete:disabled,\n",
              "  .colab-df-quickchart-complete:disabled:hover {\n",
              "    background-color: var(--disabled-bg-color);\n",
              "    fill: var(--disabled-fill-color);\n",
              "    box-shadow: none;\n",
              "  }\n",
              "\n",
              "  .colab-df-spinner {\n",
              "    border: 2px solid var(--fill-color);\n",
              "    border-color: transparent;\n",
              "    border-bottom-color: var(--fill-color);\n",
              "    animation:\n",
              "      spin 1s steps(1) infinite;\n",
              "  }\n",
              "\n",
              "  @keyframes spin {\n",
              "    0% {\n",
              "      border-color: transparent;\n",
              "      border-bottom-color: var(--fill-color);\n",
              "      border-left-color: var(--fill-color);\n",
              "    }\n",
              "    20% {\n",
              "      border-color: transparent;\n",
              "      border-left-color: var(--fill-color);\n",
              "      border-top-color: var(--fill-color);\n",
              "    }\n",
              "    30% {\n",
              "      border-color: transparent;\n",
              "      border-left-color: var(--fill-color);\n",
              "      border-top-color: var(--fill-color);\n",
              "      border-right-color: var(--fill-color);\n",
              "    }\n",
              "    40% {\n",
              "      border-color: transparent;\n",
              "      border-right-color: var(--fill-color);\n",
              "      border-top-color: var(--fill-color);\n",
              "    }\n",
              "    60% {\n",
              "      border-color: transparent;\n",
              "      border-right-color: var(--fill-color);\n",
              "    }\n",
              "    80% {\n",
              "      border-color: transparent;\n",
              "      border-right-color: var(--fill-color);\n",
              "      border-bottom-color: var(--fill-color);\n",
              "    }\n",
              "    90% {\n",
              "      border-color: transparent;\n",
              "      border-bottom-color: var(--fill-color);\n",
              "    }\n",
              "  }\n",
              "</style>\n",
              "\n",
              "  <script>\n",
              "    async function quickchart(key) {\n",
              "      const quickchartButtonEl =\n",
              "        document.querySelector('#' + key + ' button');\n",
              "      quickchartButtonEl.disabled = true;  // To prevent multiple clicks.\n",
              "      quickchartButtonEl.classList.add('colab-df-spinner');\n",
              "      try {\n",
              "        const charts = await google.colab.kernel.invokeFunction(\n",
              "            'suggestCharts', [key], {});\n",
              "      } catch (error) {\n",
              "        console.error('Error during call to suggestCharts:', error);\n",
              "      }\n",
              "      quickchartButtonEl.classList.remove('colab-df-spinner');\n",
              "      quickchartButtonEl.classList.add('colab-df-quickchart-complete');\n",
              "    }\n",
              "    (() => {\n",
              "      let quickchartButtonEl =\n",
              "        document.querySelector('#df-1adb8368-b302-4221-8b18-1ac2ba75b78c button');\n",
              "      quickchartButtonEl.style.display =\n",
              "        google.colab.kernel.accessAllowed ? 'block' : 'none';\n",
              "    })();\n",
              "  </script>\n",
              "</div>\n",
              "\n",
              "    </div>\n",
              "  </div>\n"
            ],
            "application/vnd.google.colaboratory.intrinsic+json": {
              "type": "dataframe",
              "summary": "{\n  \"name\": \"monai_pz_prostatex_df[['dsc', 'asd', 'hsdff']]\",\n  \"rows\": 8,\n  \"fields\": [\n    {\n      \"column\": \"dsc\",\n      \"properties\": {\n        \"dtype\": \"number\",\n        \"std\": 34.4266119568212,\n        \"min\": 0.08103921649298743,\n        \"max\": 98.0,\n        \"num_unique_values\": 8,\n        \"samples\": [\n          0.7374995408163266,\n          0.7568405,\n          98.0\n        ],\n        \"semantic_type\": \"\",\n        \"description\": \"\"\n      }\n    },\n    {\n      \"column\": \"asd\",\n      \"properties\": {\n        \"dtype\": \"number\",\n        \"std\": 34.64823227814083,\n        \"min\": 0.0,\n        \"max\": 98.0,\n        \"num_unique_values\": 2,\n        \"samples\": [\n          0.0,\n          98.0\n        ],\n        \"semantic_type\": \"\",\n        \"description\": \"\"\n      }\n    },\n    {\n      \"column\": \"hsdff\",\n      \"properties\": {\n        \"dtype\": \"number\",\n        \"std\": 31.144430537158716,\n        \"min\": 5.024938,\n        \"max\": 98.0,\n        \"num_unique_values\": 8,\n        \"samples\": [\n          12.964192908163264,\n          11.788752500000001\n        ],\n        \"semantic_type\": \"\",\n        \"description\": \"\"\n      }\n    }\n  ]\n}"
            }
          },
          "metadata": {},
          "execution_count": 80
        }
      ]
    },
    {
      "cell_type": "markdown",
      "metadata": {
        "id": "bt6znmJYM483"
      },
      "source": [
        "#### Transition zone\n"
      ]
    },
    {
      "cell_type": "code",
      "execution_count": null,
      "metadata": {
        "id": "M4gjDj4qM483"
      },
      "outputs": [],
      "source": [
        "tz_prostatex_df = data_df[(data_df.collection_id == 'prostatex') & (data_df.SegmentedPropertyTypeCodeMeaning == 'Structure of transition zone of prostate (body structure)')]"
      ]
    },
    {
      "cell_type": "code",
      "execution_count": null,
      "metadata": {
        "id": "SrTlsJmGM483"
      },
      "outputs": [],
      "source": [
        "nnunet_tz_prostatex_df =  tz_prostatex_df[tz_prostatex_df.algorithmNameCollection == 'nnunet_prostate_zonal_task05-prostatex']\n",
        "monai_tz_prostatex_df = tz_prostatex_df[tz_prostatex_df.algorithmNameCollection == 'monai_prostate158-prostatex']"
      ]
    },
    {
      "cell_type": "code",
      "source": [
        "len(nnunet_tz_prostatex_df)"
      ],
      "metadata": {
        "colab": {
          "base_uri": "https://localhost:8080/"
        },
        "id": "F6gju6mLJ492",
        "outputId": "1dc764f7-8ba5-4846-942a-6d1d799a1239"
      },
      "execution_count": null,
      "outputs": [
        {
          "output_type": "execute_result",
          "data": {
            "text/plain": [
              "98"
            ]
          },
          "metadata": {},
          "execution_count": 88
        }
      ]
    },
    {
      "cell_type": "code",
      "source": [
        "len(monai_tz_prostatex_df)"
      ],
      "metadata": {
        "colab": {
          "base_uri": "https://localhost:8080/"
        },
        "id": "KoNG__duJ89L",
        "outputId": "1d79fff6-8cd7-4314-a215-45cef6b21a94"
      },
      "execution_count": null,
      "outputs": [
        {
          "output_type": "execute_result",
          "data": {
            "text/plain": [
              "98"
            ]
          },
          "metadata": {},
          "execution_count": 89
        }
      ]
    },
    {
      "cell_type": "code",
      "source": [
        "nnunet_tz_prostatex_df[['dsc', 'asd', 'hsdff']].describe()"
      ],
      "metadata": {
        "colab": {
          "base_uri": "https://localhost:8080/",
          "height": 300
        },
        "id": "w0y_76y22fO3",
        "outputId": "9f123a82-1c55-4e25-9092-b079f7977ebe"
      },
      "execution_count": null,
      "outputs": [
        {
          "output_type": "execute_result",
          "data": {
            "text/plain": [
              "             dsc   asd      hsdff\n",
              "count  98.000000  98.0  98.000000\n",
              "mean    0.817036   0.0  16.414104\n",
              "std     0.112423   0.0  14.643398\n",
              "min     0.346837   0.0   5.385165\n",
              "25%     0.778567   0.0   9.219544\n",
              "50%     0.847678   0.0  11.378697\n",
              "75%     0.893387   0.0  15.376456\n",
              "max     0.935384   0.0  67.083900"
            ],
            "text/html": [
              "\n",
              "  <div id=\"df-e2a9fb9a-ee14-4743-9946-c76ff145b663\" class=\"colab-df-container\">\n",
              "    <div>\n",
              "<style scoped>\n",
              "    .dataframe tbody tr th:only-of-type {\n",
              "        vertical-align: middle;\n",
              "    }\n",
              "\n",
              "    .dataframe tbody tr th {\n",
              "        vertical-align: top;\n",
              "    }\n",
              "\n",
              "    .dataframe thead th {\n",
              "        text-align: right;\n",
              "    }\n",
              "</style>\n",
              "<table border=\"1\" class=\"dataframe\">\n",
              "  <thead>\n",
              "    <tr style=\"text-align: right;\">\n",
              "      <th></th>\n",
              "      <th>dsc</th>\n",
              "      <th>asd</th>\n",
              "      <th>hsdff</th>\n",
              "    </tr>\n",
              "  </thead>\n",
              "  <tbody>\n",
              "    <tr>\n",
              "      <th>count</th>\n",
              "      <td>98.000000</td>\n",
              "      <td>98.0</td>\n",
              "      <td>98.000000</td>\n",
              "    </tr>\n",
              "    <tr>\n",
              "      <th>mean</th>\n",
              "      <td>0.817036</td>\n",
              "      <td>0.0</td>\n",
              "      <td>16.414104</td>\n",
              "    </tr>\n",
              "    <tr>\n",
              "      <th>std</th>\n",
              "      <td>0.112423</td>\n",
              "      <td>0.0</td>\n",
              "      <td>14.643398</td>\n",
              "    </tr>\n",
              "    <tr>\n",
              "      <th>min</th>\n",
              "      <td>0.346837</td>\n",
              "      <td>0.0</td>\n",
              "      <td>5.385165</td>\n",
              "    </tr>\n",
              "    <tr>\n",
              "      <th>25%</th>\n",
              "      <td>0.778567</td>\n",
              "      <td>0.0</td>\n",
              "      <td>9.219544</td>\n",
              "    </tr>\n",
              "    <tr>\n",
              "      <th>50%</th>\n",
              "      <td>0.847678</td>\n",
              "      <td>0.0</td>\n",
              "      <td>11.378697</td>\n",
              "    </tr>\n",
              "    <tr>\n",
              "      <th>75%</th>\n",
              "      <td>0.893387</td>\n",
              "      <td>0.0</td>\n",
              "      <td>15.376456</td>\n",
              "    </tr>\n",
              "    <tr>\n",
              "      <th>max</th>\n",
              "      <td>0.935384</td>\n",
              "      <td>0.0</td>\n",
              "      <td>67.083900</td>\n",
              "    </tr>\n",
              "  </tbody>\n",
              "</table>\n",
              "</div>\n",
              "    <div class=\"colab-df-buttons\">\n",
              "\n",
              "  <div class=\"colab-df-container\">\n",
              "    <button class=\"colab-df-convert\" onclick=\"convertToInteractive('df-e2a9fb9a-ee14-4743-9946-c76ff145b663')\"\n",
              "            title=\"Convert this dataframe to an interactive table.\"\n",
              "            style=\"display:none;\">\n",
              "\n",
              "  <svg xmlns=\"http://www.w3.org/2000/svg\" height=\"24px\" viewBox=\"0 -960 960 960\">\n",
              "    <path d=\"M120-120v-720h720v720H120Zm60-500h600v-160H180v160Zm220 220h160v-160H400v160Zm0 220h160v-160H400v160ZM180-400h160v-160H180v160Zm440 0h160v-160H620v160ZM180-180h160v-160H180v160Zm440 0h160v-160H620v160Z\"/>\n",
              "  </svg>\n",
              "    </button>\n",
              "\n",
              "  <style>\n",
              "    .colab-df-container {\n",
              "      display:flex;\n",
              "      gap: 12px;\n",
              "    }\n",
              "\n",
              "    .colab-df-convert {\n",
              "      background-color: #E8F0FE;\n",
              "      border: none;\n",
              "      border-radius: 50%;\n",
              "      cursor: pointer;\n",
              "      display: none;\n",
              "      fill: #1967D2;\n",
              "      height: 32px;\n",
              "      padding: 0 0 0 0;\n",
              "      width: 32px;\n",
              "    }\n",
              "\n",
              "    .colab-df-convert:hover {\n",
              "      background-color: #E2EBFA;\n",
              "      box-shadow: 0px 1px 2px rgba(60, 64, 67, 0.3), 0px 1px 3px 1px rgba(60, 64, 67, 0.15);\n",
              "      fill: #174EA6;\n",
              "    }\n",
              "\n",
              "    .colab-df-buttons div {\n",
              "      margin-bottom: 4px;\n",
              "    }\n",
              "\n",
              "    [theme=dark] .colab-df-convert {\n",
              "      background-color: #3B4455;\n",
              "      fill: #D2E3FC;\n",
              "    }\n",
              "\n",
              "    [theme=dark] .colab-df-convert:hover {\n",
              "      background-color: #434B5C;\n",
              "      box-shadow: 0px 1px 3px 1px rgba(0, 0, 0, 0.15);\n",
              "      filter: drop-shadow(0px 1px 2px rgba(0, 0, 0, 0.3));\n",
              "      fill: #FFFFFF;\n",
              "    }\n",
              "  </style>\n",
              "\n",
              "    <script>\n",
              "      const buttonEl =\n",
              "        document.querySelector('#df-e2a9fb9a-ee14-4743-9946-c76ff145b663 button.colab-df-convert');\n",
              "      buttonEl.style.display =\n",
              "        google.colab.kernel.accessAllowed ? 'block' : 'none';\n",
              "\n",
              "      async function convertToInteractive(key) {\n",
              "        const element = document.querySelector('#df-e2a9fb9a-ee14-4743-9946-c76ff145b663');\n",
              "        const dataTable =\n",
              "          await google.colab.kernel.invokeFunction('convertToInteractive',\n",
              "                                                    [key], {});\n",
              "        if (!dataTable) return;\n",
              "\n",
              "        const docLinkHtml = 'Like what you see? Visit the ' +\n",
              "          '<a target=\"_blank\" href=https://colab.research.google.com/notebooks/data_table.ipynb>data table notebook</a>'\n",
              "          + ' to learn more about interactive tables.';\n",
              "        element.innerHTML = '';\n",
              "        dataTable['output_type'] = 'display_data';\n",
              "        await google.colab.output.renderOutput(dataTable, element);\n",
              "        const docLink = document.createElement('div');\n",
              "        docLink.innerHTML = docLinkHtml;\n",
              "        element.appendChild(docLink);\n",
              "      }\n",
              "    </script>\n",
              "  </div>\n",
              "\n",
              "\n",
              "<div id=\"df-4bafef5f-24bb-4a25-b295-f1e073350ed9\">\n",
              "  <button class=\"colab-df-quickchart\" onclick=\"quickchart('df-4bafef5f-24bb-4a25-b295-f1e073350ed9')\"\n",
              "            title=\"Suggest charts\"\n",
              "            style=\"display:none;\">\n",
              "\n",
              "<svg xmlns=\"http://www.w3.org/2000/svg\" height=\"24px\"viewBox=\"0 0 24 24\"\n",
              "     width=\"24px\">\n",
              "    <g>\n",
              "        <path d=\"M19 3H5c-1.1 0-2 .9-2 2v14c0 1.1.9 2 2 2h14c1.1 0 2-.9 2-2V5c0-1.1-.9-2-2-2zM9 17H7v-7h2v7zm4 0h-2V7h2v10zm4 0h-2v-4h2v4z\"/>\n",
              "    </g>\n",
              "</svg>\n",
              "  </button>\n",
              "\n",
              "<style>\n",
              "  .colab-df-quickchart {\n",
              "      --bg-color: #E8F0FE;\n",
              "      --fill-color: #1967D2;\n",
              "      --hover-bg-color: #E2EBFA;\n",
              "      --hover-fill-color: #174EA6;\n",
              "      --disabled-fill-color: #AAA;\n",
              "      --disabled-bg-color: #DDD;\n",
              "  }\n",
              "\n",
              "  [theme=dark] .colab-df-quickchart {\n",
              "      --bg-color: #3B4455;\n",
              "      --fill-color: #D2E3FC;\n",
              "      --hover-bg-color: #434B5C;\n",
              "      --hover-fill-color: #FFFFFF;\n",
              "      --disabled-bg-color: #3B4455;\n",
              "      --disabled-fill-color: #666;\n",
              "  }\n",
              "\n",
              "  .colab-df-quickchart {\n",
              "    background-color: var(--bg-color);\n",
              "    border: none;\n",
              "    border-radius: 50%;\n",
              "    cursor: pointer;\n",
              "    display: none;\n",
              "    fill: var(--fill-color);\n",
              "    height: 32px;\n",
              "    padding: 0;\n",
              "    width: 32px;\n",
              "  }\n",
              "\n",
              "  .colab-df-quickchart:hover {\n",
              "    background-color: var(--hover-bg-color);\n",
              "    box-shadow: 0 1px 2px rgba(60, 64, 67, 0.3), 0 1px 3px 1px rgba(60, 64, 67, 0.15);\n",
              "    fill: var(--button-hover-fill-color);\n",
              "  }\n",
              "\n",
              "  .colab-df-quickchart-complete:disabled,\n",
              "  .colab-df-quickchart-complete:disabled:hover {\n",
              "    background-color: var(--disabled-bg-color);\n",
              "    fill: var(--disabled-fill-color);\n",
              "    box-shadow: none;\n",
              "  }\n",
              "\n",
              "  .colab-df-spinner {\n",
              "    border: 2px solid var(--fill-color);\n",
              "    border-color: transparent;\n",
              "    border-bottom-color: var(--fill-color);\n",
              "    animation:\n",
              "      spin 1s steps(1) infinite;\n",
              "  }\n",
              "\n",
              "  @keyframes spin {\n",
              "    0% {\n",
              "      border-color: transparent;\n",
              "      border-bottom-color: var(--fill-color);\n",
              "      border-left-color: var(--fill-color);\n",
              "    }\n",
              "    20% {\n",
              "      border-color: transparent;\n",
              "      border-left-color: var(--fill-color);\n",
              "      border-top-color: var(--fill-color);\n",
              "    }\n",
              "    30% {\n",
              "      border-color: transparent;\n",
              "      border-left-color: var(--fill-color);\n",
              "      border-top-color: var(--fill-color);\n",
              "      border-right-color: var(--fill-color);\n",
              "    }\n",
              "    40% {\n",
              "      border-color: transparent;\n",
              "      border-right-color: var(--fill-color);\n",
              "      border-top-color: var(--fill-color);\n",
              "    }\n",
              "    60% {\n",
              "      border-color: transparent;\n",
              "      border-right-color: var(--fill-color);\n",
              "    }\n",
              "    80% {\n",
              "      border-color: transparent;\n",
              "      border-right-color: var(--fill-color);\n",
              "      border-bottom-color: var(--fill-color);\n",
              "    }\n",
              "    90% {\n",
              "      border-color: transparent;\n",
              "      border-bottom-color: var(--fill-color);\n",
              "    }\n",
              "  }\n",
              "</style>\n",
              "\n",
              "  <script>\n",
              "    async function quickchart(key) {\n",
              "      const quickchartButtonEl =\n",
              "        document.querySelector('#' + key + ' button');\n",
              "      quickchartButtonEl.disabled = true;  // To prevent multiple clicks.\n",
              "      quickchartButtonEl.classList.add('colab-df-spinner');\n",
              "      try {\n",
              "        const charts = await google.colab.kernel.invokeFunction(\n",
              "            'suggestCharts', [key], {});\n",
              "      } catch (error) {\n",
              "        console.error('Error during call to suggestCharts:', error);\n",
              "      }\n",
              "      quickchartButtonEl.classList.remove('colab-df-spinner');\n",
              "      quickchartButtonEl.classList.add('colab-df-quickchart-complete');\n",
              "    }\n",
              "    (() => {\n",
              "      let quickchartButtonEl =\n",
              "        document.querySelector('#df-4bafef5f-24bb-4a25-b295-f1e073350ed9 button');\n",
              "      quickchartButtonEl.style.display =\n",
              "        google.colab.kernel.accessAllowed ? 'block' : 'none';\n",
              "    })();\n",
              "  </script>\n",
              "</div>\n",
              "\n",
              "    </div>\n",
              "  </div>\n"
            ],
            "application/vnd.google.colaboratory.intrinsic+json": {
              "type": "dataframe",
              "summary": "{\n  \"name\": \"nnunet_tz_prostatex_df[['dsc', 'asd', 'hsdff']]\",\n  \"rows\": 8,\n  \"fields\": [\n    {\n      \"column\": \"dsc\",\n      \"properties\": {\n        \"dtype\": \"number\",\n        \"std\": 34.41051122774264,\n        \"min\": 0.11242297047916149,\n        \"max\": 98.0,\n        \"num_unique_values\": 8,\n        \"samples\": [\n          0.817036112244898,\n          0.8476779999999999,\n          98.0\n        ],\n        \"semantic_type\": \"\",\n        \"description\": \"\"\n      }\n    },\n    {\n      \"column\": \"asd\",\n      \"properties\": {\n        \"dtype\": \"number\",\n        \"std\": 34.64823227814083,\n        \"min\": 0.0,\n        \"max\": 98.0,\n        \"num_unique_values\": 2,\n        \"samples\": [\n          0.0,\n          98.0\n        ],\n        \"semantic_type\": \"\",\n        \"description\": \"\"\n      }\n    },\n    {\n      \"column\": \"hsdff\",\n      \"properties\": {\n        \"dtype\": \"number\",\n        \"std\": 33.84239823682613,\n        \"min\": 5.385165,\n        \"max\": 98.0,\n        \"num_unique_values\": 8,\n        \"samples\": [\n          16.414103551020407,\n          11.3786965\n        ],\n        \"semantic_type\": \"\",\n        \"description\": \"\"\n      }\n    }\n  ]\n}"
            }
          },
          "metadata": {},
          "execution_count": 90
        }
      ]
    },
    {
      "cell_type": "code",
      "source": [
        "monai_tz_prostatex_df[['dsc', 'asd', 'hsdff']].describe()"
      ],
      "metadata": {
        "colab": {
          "base_uri": "https://localhost:8080/",
          "height": 300
        },
        "id": "Md-hPAtE2g8x",
        "outputId": "9f816ef7-dbf4-41a1-8ac9-eb67ff8bc589"
      },
      "execution_count": null,
      "outputs": [
        {
          "output_type": "execute_result",
          "data": {
            "text/plain": [
              "             dsc   asd      hsdff\n",
              "count  98.000000  98.0  98.000000\n",
              "mean    0.850958   0.0  11.866882\n",
              "std     0.069328   0.0   2.378171\n",
              "min     0.592077   0.0   7.365460\n",
              "25%     0.817226   0.0   9.848858\n",
              "50%     0.872059   0.0  11.900212\n",
              "75%     0.900054   0.0  13.453614\n",
              "max     0.942305   0.0  18.661457"
            ],
            "text/html": [
              "\n",
              "  <div id=\"df-724c511a-a532-4a79-b2bb-bcaff29e44ac\" class=\"colab-df-container\">\n",
              "    <div>\n",
              "<style scoped>\n",
              "    .dataframe tbody tr th:only-of-type {\n",
              "        vertical-align: middle;\n",
              "    }\n",
              "\n",
              "    .dataframe tbody tr th {\n",
              "        vertical-align: top;\n",
              "    }\n",
              "\n",
              "    .dataframe thead th {\n",
              "        text-align: right;\n",
              "    }\n",
              "</style>\n",
              "<table border=\"1\" class=\"dataframe\">\n",
              "  <thead>\n",
              "    <tr style=\"text-align: right;\">\n",
              "      <th></th>\n",
              "      <th>dsc</th>\n",
              "      <th>asd</th>\n",
              "      <th>hsdff</th>\n",
              "    </tr>\n",
              "  </thead>\n",
              "  <tbody>\n",
              "    <tr>\n",
              "      <th>count</th>\n",
              "      <td>98.000000</td>\n",
              "      <td>98.0</td>\n",
              "      <td>98.000000</td>\n",
              "    </tr>\n",
              "    <tr>\n",
              "      <th>mean</th>\n",
              "      <td>0.850958</td>\n",
              "      <td>0.0</td>\n",
              "      <td>11.866882</td>\n",
              "    </tr>\n",
              "    <tr>\n",
              "      <th>std</th>\n",
              "      <td>0.069328</td>\n",
              "      <td>0.0</td>\n",
              "      <td>2.378171</td>\n",
              "    </tr>\n",
              "    <tr>\n",
              "      <th>min</th>\n",
              "      <td>0.592077</td>\n",
              "      <td>0.0</td>\n",
              "      <td>7.365460</td>\n",
              "    </tr>\n",
              "    <tr>\n",
              "      <th>25%</th>\n",
              "      <td>0.817226</td>\n",
              "      <td>0.0</td>\n",
              "      <td>9.848858</td>\n",
              "    </tr>\n",
              "    <tr>\n",
              "      <th>50%</th>\n",
              "      <td>0.872059</td>\n",
              "      <td>0.0</td>\n",
              "      <td>11.900212</td>\n",
              "    </tr>\n",
              "    <tr>\n",
              "      <th>75%</th>\n",
              "      <td>0.900054</td>\n",
              "      <td>0.0</td>\n",
              "      <td>13.453614</td>\n",
              "    </tr>\n",
              "    <tr>\n",
              "      <th>max</th>\n",
              "      <td>0.942305</td>\n",
              "      <td>0.0</td>\n",
              "      <td>18.661457</td>\n",
              "    </tr>\n",
              "  </tbody>\n",
              "</table>\n",
              "</div>\n",
              "    <div class=\"colab-df-buttons\">\n",
              "\n",
              "  <div class=\"colab-df-container\">\n",
              "    <button class=\"colab-df-convert\" onclick=\"convertToInteractive('df-724c511a-a532-4a79-b2bb-bcaff29e44ac')\"\n",
              "            title=\"Convert this dataframe to an interactive table.\"\n",
              "            style=\"display:none;\">\n",
              "\n",
              "  <svg xmlns=\"http://www.w3.org/2000/svg\" height=\"24px\" viewBox=\"0 -960 960 960\">\n",
              "    <path d=\"M120-120v-720h720v720H120Zm60-500h600v-160H180v160Zm220 220h160v-160H400v160Zm0 220h160v-160H400v160ZM180-400h160v-160H180v160Zm440 0h160v-160H620v160ZM180-180h160v-160H180v160Zm440 0h160v-160H620v160Z\"/>\n",
              "  </svg>\n",
              "    </button>\n",
              "\n",
              "  <style>\n",
              "    .colab-df-container {\n",
              "      display:flex;\n",
              "      gap: 12px;\n",
              "    }\n",
              "\n",
              "    .colab-df-convert {\n",
              "      background-color: #E8F0FE;\n",
              "      border: none;\n",
              "      border-radius: 50%;\n",
              "      cursor: pointer;\n",
              "      display: none;\n",
              "      fill: #1967D2;\n",
              "      height: 32px;\n",
              "      padding: 0 0 0 0;\n",
              "      width: 32px;\n",
              "    }\n",
              "\n",
              "    .colab-df-convert:hover {\n",
              "      background-color: #E2EBFA;\n",
              "      box-shadow: 0px 1px 2px rgba(60, 64, 67, 0.3), 0px 1px 3px 1px rgba(60, 64, 67, 0.15);\n",
              "      fill: #174EA6;\n",
              "    }\n",
              "\n",
              "    .colab-df-buttons div {\n",
              "      margin-bottom: 4px;\n",
              "    }\n",
              "\n",
              "    [theme=dark] .colab-df-convert {\n",
              "      background-color: #3B4455;\n",
              "      fill: #D2E3FC;\n",
              "    }\n",
              "\n",
              "    [theme=dark] .colab-df-convert:hover {\n",
              "      background-color: #434B5C;\n",
              "      box-shadow: 0px 1px 3px 1px rgba(0, 0, 0, 0.15);\n",
              "      filter: drop-shadow(0px 1px 2px rgba(0, 0, 0, 0.3));\n",
              "      fill: #FFFFFF;\n",
              "    }\n",
              "  </style>\n",
              "\n",
              "    <script>\n",
              "      const buttonEl =\n",
              "        document.querySelector('#df-724c511a-a532-4a79-b2bb-bcaff29e44ac button.colab-df-convert');\n",
              "      buttonEl.style.display =\n",
              "        google.colab.kernel.accessAllowed ? 'block' : 'none';\n",
              "\n",
              "      async function convertToInteractive(key) {\n",
              "        const element = document.querySelector('#df-724c511a-a532-4a79-b2bb-bcaff29e44ac');\n",
              "        const dataTable =\n",
              "          await google.colab.kernel.invokeFunction('convertToInteractive',\n",
              "                                                    [key], {});\n",
              "        if (!dataTable) return;\n",
              "\n",
              "        const docLinkHtml = 'Like what you see? Visit the ' +\n",
              "          '<a target=\"_blank\" href=https://colab.research.google.com/notebooks/data_table.ipynb>data table notebook</a>'\n",
              "          + ' to learn more about interactive tables.';\n",
              "        element.innerHTML = '';\n",
              "        dataTable['output_type'] = 'display_data';\n",
              "        await google.colab.output.renderOutput(dataTable, element);\n",
              "        const docLink = document.createElement('div');\n",
              "        docLink.innerHTML = docLinkHtml;\n",
              "        element.appendChild(docLink);\n",
              "      }\n",
              "    </script>\n",
              "  </div>\n",
              "\n",
              "\n",
              "<div id=\"df-cba7d817-8804-482c-b1b6-b23c5d0a31ee\">\n",
              "  <button class=\"colab-df-quickchart\" onclick=\"quickchart('df-cba7d817-8804-482c-b1b6-b23c5d0a31ee')\"\n",
              "            title=\"Suggest charts\"\n",
              "            style=\"display:none;\">\n",
              "\n",
              "<svg xmlns=\"http://www.w3.org/2000/svg\" height=\"24px\"viewBox=\"0 0 24 24\"\n",
              "     width=\"24px\">\n",
              "    <g>\n",
              "        <path d=\"M19 3H5c-1.1 0-2 .9-2 2v14c0 1.1.9 2 2 2h14c1.1 0 2-.9 2-2V5c0-1.1-.9-2-2-2zM9 17H7v-7h2v7zm4 0h-2V7h2v10zm4 0h-2v-4h2v4z\"/>\n",
              "    </g>\n",
              "</svg>\n",
              "  </button>\n",
              "\n",
              "<style>\n",
              "  .colab-df-quickchart {\n",
              "      --bg-color: #E8F0FE;\n",
              "      --fill-color: #1967D2;\n",
              "      --hover-bg-color: #E2EBFA;\n",
              "      --hover-fill-color: #174EA6;\n",
              "      --disabled-fill-color: #AAA;\n",
              "      --disabled-bg-color: #DDD;\n",
              "  }\n",
              "\n",
              "  [theme=dark] .colab-df-quickchart {\n",
              "      --bg-color: #3B4455;\n",
              "      --fill-color: #D2E3FC;\n",
              "      --hover-bg-color: #434B5C;\n",
              "      --hover-fill-color: #FFFFFF;\n",
              "      --disabled-bg-color: #3B4455;\n",
              "      --disabled-fill-color: #666;\n",
              "  }\n",
              "\n",
              "  .colab-df-quickchart {\n",
              "    background-color: var(--bg-color);\n",
              "    border: none;\n",
              "    border-radius: 50%;\n",
              "    cursor: pointer;\n",
              "    display: none;\n",
              "    fill: var(--fill-color);\n",
              "    height: 32px;\n",
              "    padding: 0;\n",
              "    width: 32px;\n",
              "  }\n",
              "\n",
              "  .colab-df-quickchart:hover {\n",
              "    background-color: var(--hover-bg-color);\n",
              "    box-shadow: 0 1px 2px rgba(60, 64, 67, 0.3), 0 1px 3px 1px rgba(60, 64, 67, 0.15);\n",
              "    fill: var(--button-hover-fill-color);\n",
              "  }\n",
              "\n",
              "  .colab-df-quickchart-complete:disabled,\n",
              "  .colab-df-quickchart-complete:disabled:hover {\n",
              "    background-color: var(--disabled-bg-color);\n",
              "    fill: var(--disabled-fill-color);\n",
              "    box-shadow: none;\n",
              "  }\n",
              "\n",
              "  .colab-df-spinner {\n",
              "    border: 2px solid var(--fill-color);\n",
              "    border-color: transparent;\n",
              "    border-bottom-color: var(--fill-color);\n",
              "    animation:\n",
              "      spin 1s steps(1) infinite;\n",
              "  }\n",
              "\n",
              "  @keyframes spin {\n",
              "    0% {\n",
              "      border-color: transparent;\n",
              "      border-bottom-color: var(--fill-color);\n",
              "      border-left-color: var(--fill-color);\n",
              "    }\n",
              "    20% {\n",
              "      border-color: transparent;\n",
              "      border-left-color: var(--fill-color);\n",
              "      border-top-color: var(--fill-color);\n",
              "    }\n",
              "    30% {\n",
              "      border-color: transparent;\n",
              "      border-left-color: var(--fill-color);\n",
              "      border-top-color: var(--fill-color);\n",
              "      border-right-color: var(--fill-color);\n",
              "    }\n",
              "    40% {\n",
              "      border-color: transparent;\n",
              "      border-right-color: var(--fill-color);\n",
              "      border-top-color: var(--fill-color);\n",
              "    }\n",
              "    60% {\n",
              "      border-color: transparent;\n",
              "      border-right-color: var(--fill-color);\n",
              "    }\n",
              "    80% {\n",
              "      border-color: transparent;\n",
              "      border-right-color: var(--fill-color);\n",
              "      border-bottom-color: var(--fill-color);\n",
              "    }\n",
              "    90% {\n",
              "      border-color: transparent;\n",
              "      border-bottom-color: var(--fill-color);\n",
              "    }\n",
              "  }\n",
              "</style>\n",
              "\n",
              "  <script>\n",
              "    async function quickchart(key) {\n",
              "      const quickchartButtonEl =\n",
              "        document.querySelector('#' + key + ' button');\n",
              "      quickchartButtonEl.disabled = true;  // To prevent multiple clicks.\n",
              "      quickchartButtonEl.classList.add('colab-df-spinner');\n",
              "      try {\n",
              "        const charts = await google.colab.kernel.invokeFunction(\n",
              "            'suggestCharts', [key], {});\n",
              "      } catch (error) {\n",
              "        console.error('Error during call to suggestCharts:', error);\n",
              "      }\n",
              "      quickchartButtonEl.classList.remove('colab-df-spinner');\n",
              "      quickchartButtonEl.classList.add('colab-df-quickchart-complete');\n",
              "    }\n",
              "    (() => {\n",
              "      let quickchartButtonEl =\n",
              "        document.querySelector('#df-cba7d817-8804-482c-b1b6-b23c5d0a31ee button');\n",
              "      quickchartButtonEl.style.display =\n",
              "        google.colab.kernel.accessAllowed ? 'block' : 'none';\n",
              "    })();\n",
              "  </script>\n",
              "</div>\n",
              "\n",
              "    </div>\n",
              "  </div>\n"
            ],
            "application/vnd.google.colaboratory.intrinsic+json": {
              "type": "dataframe",
              "summary": "{\n  \"name\": \"monai_tz_prostatex_df[['dsc', 'asd', 'hsdff']]\",\n  \"rows\": 8,\n  \"fields\": [\n    {\n      \"column\": \"dsc\",\n      \"properties\": {\n        \"dtype\": \"number\",\n        \"std\": 34.394657897202016,\n        \"min\": 0.06932778357166638,\n        \"max\": 98.0,\n        \"num_unique_values\": 8,\n        \"samples\": [\n          0.8509582653061224,\n          0.872059,\n          98.0\n        ],\n        \"semantic_type\": \"\",\n        \"description\": \"\"\n      }\n    },\n    {\n      \"column\": \"asd\",\n      \"properties\": {\n        \"dtype\": \"number\",\n        \"std\": 34.64823227814083,\n        \"min\": 0.0,\n        \"max\": 98.0,\n        \"num_unique_values\": 2,\n        \"samples\": [\n          0.0,\n          98.0\n        ],\n        \"semantic_type\": \"\",\n        \"description\": \"\"\n      }\n    },\n    {\n      \"column\": \"hsdff\",\n      \"properties\": {\n        \"dtype\": \"number\",\n        \"std\": 31.192745017804317,\n        \"min\": 2.378171057199039,\n        \"max\": 98.0,\n        \"num_unique_values\": 8,\n        \"samples\": [\n          11.866881857142857,\n          11.900212\n        ],\n        \"semantic_type\": \"\",\n        \"description\": \"\"\n      }\n    }\n  ]\n}"
            }
          },
          "metadata": {},
          "execution_count": 91
        }
      ]
    },
    {
      "cell_type": "code",
      "execution_count": null,
      "metadata": {
        "colab": {
          "base_uri": "https://localhost:8080/"
        },
        "id": "oySNimZAM483",
        "outputId": "27b88ccd-765e-4887-8a13-204e45163f44"
      },
      "outputs": [
        {
          "output_type": "stream",
          "name": "stdout",
          "text": [
            "nnunet task05 model DSC mean and std for tz: 0.82/0.11\n",
            "monai model DSC mean and std for tz: 0.85/0.07\n"
          ]
        }
      ],
      "source": [
        "print(f\"nnunet task05 model DSC mean and std for tz: {round(np.mean(nnunet_tz_prostatex_df.dsc.values),2)}/{round(np.std(nnunet_tz_prostatex_df.dsc.values),2)}\")\n",
        "print(f\"monai model DSC mean and std for tz: {round(np.mean(monai_tz_prostatex_df.dsc.values),2)}/{round(np.std(monai_tz_prostatex_df.dsc.values),2)}\")"
      ]
    },
    {
      "cell_type": "code",
      "execution_count": null,
      "metadata": {
        "colab": {
          "base_uri": "https://localhost:8080/"
        },
        "id": "npBQnfUSM483",
        "outputId": "23237884-0339-4292-ab23-9b9d1568ddd7"
      },
      "outputs": [
        {
          "output_type": "execute_result",
          "data": {
            "text/plain": [
              "(533.0, 1.9973128891640755e-11)"
            ]
          },
          "metadata": {},
          "execution_count": 93
        }
      ],
      "source": [
        "diff = monai_tz_prostatex_df.sort_values(by=['refSerieUID']).dsc.values - nnunet_tz_prostatex_df.sort_values(by=['refSerieUID']).dsc.values\n",
        "res = wilcoxon(diff)\n",
        "res.statistic, res.pvalue"
      ]
    },
    {
      "cell_type": "code",
      "execution_count": null,
      "metadata": {
        "colab": {
          "base_uri": "https://localhost:8080/"
        },
        "id": "hwGo6kIHM483",
        "outputId": "ad82f759-5efe-423b-a269-4ee0ed3707e0"
      },
      "outputs": [
        {
          "output_type": "execute_result",
          "data": {
            "text/plain": [
              "(4318.0, 9.986564445820377e-12)"
            ]
          },
          "metadata": {},
          "execution_count": 94
        }
      ],
      "source": [
        "res = wilcoxon(diff, alternative='greater')\n",
        "res.statistic, res.pvalue"
      ]
    },
    {
      "cell_type": "markdown",
      "metadata": {
        "id": "UCktGgNXM484"
      },
      "source": [
        "### QIN collection\n"
      ]
    },
    {
      "cell_type": "markdown",
      "metadata": {
        "id": "a9vtfsFAM484"
      },
      "source": [
        "#### Whole prostate\n"
      ]
    },
    {
      "cell_type": "code",
      "execution_count": null,
      "metadata": {
        "colab": {
          "base_uri": "https://localhost:8080/"
        },
        "id": "sL3GJwhhM484",
        "outputId": "de4a5e13-4f7b-4e0f-fb53-7f02701a7bb6"
      },
      "outputs": [
        {
          "output_type": "execute_result",
          "data": {
            "text/plain": [
              "120"
            ]
          },
          "metadata": {},
          "execution_count": 96
        }
      ],
      "source": [
        "prostate_qin_df = data_df[(data_df.collection_id == 'qin_prostate_repeatability') & (data_df.SegmentedPropertyTypeCodeMeaning.isin(['Prostate', 'Prostatic structure']))]\n",
        "len(prostate_qin_df)"
      ]
    },
    {
      "cell_type": "code",
      "execution_count": null,
      "metadata": {
        "colab": {
          "base_uri": "https://localhost:8080/"
        },
        "id": "247Kvmo9M484",
        "outputId": "8c5ca56c-f3e7-4fdf-cfb8-a3d5043b1c46"
      },
      "outputs": [
        {
          "output_type": "execute_result",
          "data": {
            "text/plain": [
              "array(['bamf_nnunet_mr_prostate-qin_prostate_repeatability',\n",
              "       'nnunet_prostate_zonal_task05-qin_prostate_repeatability',\n",
              "       'monai_prostate158-qin_prostate_repeatability',\n",
              "       'nnunet_prostate_task24-qin_prostate_repeatability'], dtype=object)"
            ]
          },
          "metadata": {},
          "execution_count": 97
        }
      ],
      "source": [
        "prostate_qin_df.algorithmNameCollection.unique()"
      ]
    },
    {
      "cell_type": "code",
      "execution_count": null,
      "metadata": {
        "id": "Ss0C13v0M484"
      },
      "outputs": [],
      "source": [
        "nnnunet_task024_prostate_qin_df = prostate_qin_df[prostate_qin_df.algorithmNameCollection == 'nnunet_prostate_task24-qin_prostate_repeatability']\n",
        "nnnunet_task05_prostate_qin_df = prostate_qin_df[prostate_qin_df.algorithmNameCollection == 'nnunet_prostate_zonal_task05-qin_prostate_repeatability']\n",
        "monai_prostate158_prostate_qin_df = prostate_qin_df[prostate_qin_df.algorithmNameCollection == 'monai_prostate158-qin_prostate_repeatability']\n",
        "bamf_nnunet_mr_prostate_qin_df = prostate_qin_df[prostate_qin_df.algorithmNameCollection == 'bamf_nnunet_mr_prostate-qin_prostate_repeatability']"
      ]
    },
    {
      "cell_type": "code",
      "execution_count": null,
      "metadata": {
        "colab": {
          "base_uri": "https://localhost:8080/"
        },
        "id": "9jxz7EFRM484",
        "outputId": "227e9551-e38c-445a-e33c-801887eca087"
      },
      "outputs": [
        {
          "output_type": "stream",
          "name": "stdout",
          "text": [
            "nnunet task024 model DSC mean and std for whole prostate: 0.85/0.05\n",
            "nnunet task05 model DSC mean and std for whole prostate: 0.57/0.27\n",
            "nnunet monai prostate158 DSC model mean and std for whole prostate: 0.83/0.05\n",
            "bamf_nnunet_mr_prostate DSC model mean and std for whole prostate: 0.79/0.16\n"
          ]
        }
      ],
      "source": [
        "print(f\"nnunet task024 model DSC mean and std for whole prostate: {round(np.mean(nnnunet_task024_prostate_qin_df.dsc.values),2)}/{round(np.std(nnnunet_task024_prostate_qin_df.dsc.values),2)}\")\n",
        "print(f\"nnunet task05 model DSC mean and std for whole prostate: {round(np.mean(nnnunet_task05_prostate_qin_df.dsc.values),2)}/{round(np.std(nnnunet_task05_prostate_qin_df.dsc.values),2)}\")\n",
        "print(f\"nnunet monai prostate158 DSC model mean and std for whole prostate: {round(np.mean(monai_prostate158_prostate_qin_df.dsc.values),2)}/{round(np.std(monai_prostate158_prostate_qin_df.dsc.values),2)}\")\n",
        "print(f\"bamf_nnunet_mr_prostate DSC model mean and std for whole prostate: {round(np.mean(bamf_nnunet_mr_prostate_qin_df.dsc.values),2)}/{round(np.std(bamf_nnunet_mr_prostate_qin_df.dsc.values),2)}\")"
      ]
    },
    {
      "cell_type": "code",
      "execution_count": null,
      "metadata": {
        "colab": {
          "base_uri": "https://localhost:8080/"
        },
        "id": "bfesSu56M484",
        "outputId": "f68fd68a-ca8d-4886-f713-1cc51422377c"
      },
      "outputs": [
        {
          "output_type": "stream",
          "name": "stdout",
          "text": [
            "nnunet task024 model HSDFF95 mean and std for whole prostate: 2.6/1.9\n",
            "nnunet task05 model HSDFF95 mean and std for whole prostate: 14.82/12.66\n",
            "nnunet monai prostate158 DSC model mean and std for whole prostate: 3.55/2.34\n",
            "bamf_nnunet_mr_prostate DSC model mean and std for whole prostate: 4.73/4.66\n"
          ]
        }
      ],
      "source": [
        "print(f\"nnunet task024 model HSDFF95 mean and std for whole prostate: {round(np.mean(nnnunet_task024_prostate_qin_df.hsdff_95.values),2)}/{round(np.std(nnnunet_task024_prostate_qin_df.hsdff_95.values),2)}\")\n",
        "print(f\"nnunet task05 model HSDFF95 mean and std for whole prostate: {round(np.mean(nnnunet_task05_prostate_qin_df.hsdff_95.values),2)}/{round(np.std(nnnunet_task05_prostate_qin_df.hsdff_95.values),2)}\")\n",
        "print(f\"nnunet monai prostate158 DSC model mean and std for whole prostate: {round(np.mean(monai_prostate158_prostate_qin_df.hsdff_95.values),2)}/{round(np.std(monai_prostate158_prostate_qin_df.hsdff_95.values),2)}\")\n",
        "print(f\"bamf_nnunet_mr_prostate DSC model mean and std for whole prostate: {round(np.mean(bamf_nnunet_mr_prostate_qin_df.hsdff_95.values),2)}/{round(np.std(bamf_nnunet_mr_prostate_qin_df.hsdff_95.values),2)}\")"
      ]
    },
    {
      "cell_type": "code",
      "execution_count": null,
      "metadata": {
        "colab": {
          "base_uri": "https://localhost:8080/"
        },
        "id": "sZeZY1tdM484",
        "outputId": "25873b38-d27e-46b6-da72-73a8256b2ad3"
      },
      "outputs": [
        {
          "output_type": "stream",
          "name": "stdout",
          "text": [
            "49.24000000000001\n",
            "1.1596706843171837e-10\n"
          ]
        }
      ],
      "source": [
        "res = friedmanchisquare(nnnunet_task024_prostate_qin_df.sort_values(by=[\"refSerieUID\"]).dsc.values,\n",
        "                        nnnunet_task05_prostate_qin_df.sort_values(by=[\"refSerieUID\"]).dsc.values,\n",
        "                        monai_prostate158_prostate_qin_df.sort_values(by=[\"refSerieUID\"]).dsc.values,\n",
        "                        bamf_nnunet_mr_prostate_qin_df.sort_values(by=[\"refSerieUID\"]).dsc.values)\n",
        "print(res.statistic)\n",
        "print(res.pvalue)"
      ]
    },
    {
      "cell_type": "code",
      "execution_count": null,
      "metadata": {
        "id": "31pougkhM484"
      },
      "outputs": [],
      "source": [
        "# sp.posthoc_conover(prostate_qin_df, val_col='dsc', group_col='agorithmNameCollection', p_adjust = 'bonf')"
      ]
    },
    {
      "cell_type": "code",
      "execution_count": null,
      "metadata": {
        "id": "qoP32TzGM484"
      },
      "outputs": [],
      "source": [
        "# nnnunet_task024_prostate_qin_df.sort_values(by=['dsc'],\n",
        "#                                                                       ascending=True)[['image_PatientID', 'dsc', 'asd', 'hsdff',\n",
        "#                              'sr_ai_volume_value', 'sr_idc_volume_value', 'ohif_url']].head(8)"
      ]
    },
    {
      "cell_type": "code",
      "execution_count": null,
      "metadata": {
        "id": "U_-1WzKnM484"
      },
      "outputs": [],
      "source": [
        "# nnnunet_task05_prostate_qin_df.sort_values(by=['dsc'],\n",
        "#                                                                       ascending=True)[['image_PatientID', 'dsc', 'asd', 'hsdff',\n",
        "#                              'sr_ai_volume_value', 'sr_idc_volume_value', 'ohif_url']].head(8)"
      ]
    },
    {
      "cell_type": "code",
      "execution_count": null,
      "metadata": {
        "id": "gvWzHtgQM484"
      },
      "outputs": [],
      "source": [
        "# monai_prostate158_prostate_qin_df.sort_values(by=['dsc'],\n",
        "#                                                                       ascending=True)[['image_PatientID', 'dsc', 'asd', 'hsdff',\n",
        "#                              'sr_ai_volume_value', 'sr_idc_volume_value', 'ohif_url', 'image_studyUID']].head(8)"
      ]
    },
    {
      "cell_type": "code",
      "execution_count": null,
      "metadata": {
        "colab": {
          "base_uri": "https://localhost:8080/",
          "height": 300
        },
        "id": "rpXnuUnVM484",
        "outputId": "9b43278c-6383-42e1-cfa0-9b8ea264aab2"
      },
      "outputs": [
        {
          "output_type": "execute_result",
          "data": {
            "text/plain": [
              "             dsc   asd      hsdff\n",
              "count  30.000000  30.0  30.000000\n",
              "mean    0.853900   0.0  10.121993\n",
              "std     0.048305   0.0   4.388385\n",
              "min     0.722204   0.0   6.000000\n",
              "25%     0.826551   0.0   7.000376\n",
              "50%     0.861006   0.0   9.120458\n",
              "75%     0.892994   0.0  10.501964\n",
              "max     0.919915   0.0  24.000000"
            ],
            "text/html": [
              "\n",
              "  <div id=\"df-1233a8af-c588-4586-b8be-ec698c32658b\" class=\"colab-df-container\">\n",
              "    <div>\n",
              "<style scoped>\n",
              "    .dataframe tbody tr th:only-of-type {\n",
              "        vertical-align: middle;\n",
              "    }\n",
              "\n",
              "    .dataframe tbody tr th {\n",
              "        vertical-align: top;\n",
              "    }\n",
              "\n",
              "    .dataframe thead th {\n",
              "        text-align: right;\n",
              "    }\n",
              "</style>\n",
              "<table border=\"1\" class=\"dataframe\">\n",
              "  <thead>\n",
              "    <tr style=\"text-align: right;\">\n",
              "      <th></th>\n",
              "      <th>dsc</th>\n",
              "      <th>asd</th>\n",
              "      <th>hsdff</th>\n",
              "    </tr>\n",
              "  </thead>\n",
              "  <tbody>\n",
              "    <tr>\n",
              "      <th>count</th>\n",
              "      <td>30.000000</td>\n",
              "      <td>30.0</td>\n",
              "      <td>30.000000</td>\n",
              "    </tr>\n",
              "    <tr>\n",
              "      <th>mean</th>\n",
              "      <td>0.853900</td>\n",
              "      <td>0.0</td>\n",
              "      <td>10.121993</td>\n",
              "    </tr>\n",
              "    <tr>\n",
              "      <th>std</th>\n",
              "      <td>0.048305</td>\n",
              "      <td>0.0</td>\n",
              "      <td>4.388385</td>\n",
              "    </tr>\n",
              "    <tr>\n",
              "      <th>min</th>\n",
              "      <td>0.722204</td>\n",
              "      <td>0.0</td>\n",
              "      <td>6.000000</td>\n",
              "    </tr>\n",
              "    <tr>\n",
              "      <th>25%</th>\n",
              "      <td>0.826551</td>\n",
              "      <td>0.0</td>\n",
              "      <td>7.000376</td>\n",
              "    </tr>\n",
              "    <tr>\n",
              "      <th>50%</th>\n",
              "      <td>0.861006</td>\n",
              "      <td>0.0</td>\n",
              "      <td>9.120458</td>\n",
              "    </tr>\n",
              "    <tr>\n",
              "      <th>75%</th>\n",
              "      <td>0.892994</td>\n",
              "      <td>0.0</td>\n",
              "      <td>10.501964</td>\n",
              "    </tr>\n",
              "    <tr>\n",
              "      <th>max</th>\n",
              "      <td>0.919915</td>\n",
              "      <td>0.0</td>\n",
              "      <td>24.000000</td>\n",
              "    </tr>\n",
              "  </tbody>\n",
              "</table>\n",
              "</div>\n",
              "    <div class=\"colab-df-buttons\">\n",
              "\n",
              "  <div class=\"colab-df-container\">\n",
              "    <button class=\"colab-df-convert\" onclick=\"convertToInteractive('df-1233a8af-c588-4586-b8be-ec698c32658b')\"\n",
              "            title=\"Convert this dataframe to an interactive table.\"\n",
              "            style=\"display:none;\">\n",
              "\n",
              "  <svg xmlns=\"http://www.w3.org/2000/svg\" height=\"24px\" viewBox=\"0 -960 960 960\">\n",
              "    <path d=\"M120-120v-720h720v720H120Zm60-500h600v-160H180v160Zm220 220h160v-160H400v160Zm0 220h160v-160H400v160ZM180-400h160v-160H180v160Zm440 0h160v-160H620v160ZM180-180h160v-160H180v160Zm440 0h160v-160H620v160Z\"/>\n",
              "  </svg>\n",
              "    </button>\n",
              "\n",
              "  <style>\n",
              "    .colab-df-container {\n",
              "      display:flex;\n",
              "      gap: 12px;\n",
              "    }\n",
              "\n",
              "    .colab-df-convert {\n",
              "      background-color: #E8F0FE;\n",
              "      border: none;\n",
              "      border-radius: 50%;\n",
              "      cursor: pointer;\n",
              "      display: none;\n",
              "      fill: #1967D2;\n",
              "      height: 32px;\n",
              "      padding: 0 0 0 0;\n",
              "      width: 32px;\n",
              "    }\n",
              "\n",
              "    .colab-df-convert:hover {\n",
              "      background-color: #E2EBFA;\n",
              "      box-shadow: 0px 1px 2px rgba(60, 64, 67, 0.3), 0px 1px 3px 1px rgba(60, 64, 67, 0.15);\n",
              "      fill: #174EA6;\n",
              "    }\n",
              "\n",
              "    .colab-df-buttons div {\n",
              "      margin-bottom: 4px;\n",
              "    }\n",
              "\n",
              "    [theme=dark] .colab-df-convert {\n",
              "      background-color: #3B4455;\n",
              "      fill: #D2E3FC;\n",
              "    }\n",
              "\n",
              "    [theme=dark] .colab-df-convert:hover {\n",
              "      background-color: #434B5C;\n",
              "      box-shadow: 0px 1px 3px 1px rgba(0, 0, 0, 0.15);\n",
              "      filter: drop-shadow(0px 1px 2px rgba(0, 0, 0, 0.3));\n",
              "      fill: #FFFFFF;\n",
              "    }\n",
              "  </style>\n",
              "\n",
              "    <script>\n",
              "      const buttonEl =\n",
              "        document.querySelector('#df-1233a8af-c588-4586-b8be-ec698c32658b button.colab-df-convert');\n",
              "      buttonEl.style.display =\n",
              "        google.colab.kernel.accessAllowed ? 'block' : 'none';\n",
              "\n",
              "      async function convertToInteractive(key) {\n",
              "        const element = document.querySelector('#df-1233a8af-c588-4586-b8be-ec698c32658b');\n",
              "        const dataTable =\n",
              "          await google.colab.kernel.invokeFunction('convertToInteractive',\n",
              "                                                    [key], {});\n",
              "        if (!dataTable) return;\n",
              "\n",
              "        const docLinkHtml = 'Like what you see? Visit the ' +\n",
              "          '<a target=\"_blank\" href=https://colab.research.google.com/notebooks/data_table.ipynb>data table notebook</a>'\n",
              "          + ' to learn more about interactive tables.';\n",
              "        element.innerHTML = '';\n",
              "        dataTable['output_type'] = 'display_data';\n",
              "        await google.colab.output.renderOutput(dataTable, element);\n",
              "        const docLink = document.createElement('div');\n",
              "        docLink.innerHTML = docLinkHtml;\n",
              "        element.appendChild(docLink);\n",
              "      }\n",
              "    </script>\n",
              "  </div>\n",
              "\n",
              "\n",
              "<div id=\"df-19862427-ba27-448d-a20d-db35c37e055d\">\n",
              "  <button class=\"colab-df-quickchart\" onclick=\"quickchart('df-19862427-ba27-448d-a20d-db35c37e055d')\"\n",
              "            title=\"Suggest charts\"\n",
              "            style=\"display:none;\">\n",
              "\n",
              "<svg xmlns=\"http://www.w3.org/2000/svg\" height=\"24px\"viewBox=\"0 0 24 24\"\n",
              "     width=\"24px\">\n",
              "    <g>\n",
              "        <path d=\"M19 3H5c-1.1 0-2 .9-2 2v14c0 1.1.9 2 2 2h14c1.1 0 2-.9 2-2V5c0-1.1-.9-2-2-2zM9 17H7v-7h2v7zm4 0h-2V7h2v10zm4 0h-2v-4h2v4z\"/>\n",
              "    </g>\n",
              "</svg>\n",
              "  </button>\n",
              "\n",
              "<style>\n",
              "  .colab-df-quickchart {\n",
              "      --bg-color: #E8F0FE;\n",
              "      --fill-color: #1967D2;\n",
              "      --hover-bg-color: #E2EBFA;\n",
              "      --hover-fill-color: #174EA6;\n",
              "      --disabled-fill-color: #AAA;\n",
              "      --disabled-bg-color: #DDD;\n",
              "  }\n",
              "\n",
              "  [theme=dark] .colab-df-quickchart {\n",
              "      --bg-color: #3B4455;\n",
              "      --fill-color: #D2E3FC;\n",
              "      --hover-bg-color: #434B5C;\n",
              "      --hover-fill-color: #FFFFFF;\n",
              "      --disabled-bg-color: #3B4455;\n",
              "      --disabled-fill-color: #666;\n",
              "  }\n",
              "\n",
              "  .colab-df-quickchart {\n",
              "    background-color: var(--bg-color);\n",
              "    border: none;\n",
              "    border-radius: 50%;\n",
              "    cursor: pointer;\n",
              "    display: none;\n",
              "    fill: var(--fill-color);\n",
              "    height: 32px;\n",
              "    padding: 0;\n",
              "    width: 32px;\n",
              "  }\n",
              "\n",
              "  .colab-df-quickchart:hover {\n",
              "    background-color: var(--hover-bg-color);\n",
              "    box-shadow: 0 1px 2px rgba(60, 64, 67, 0.3), 0 1px 3px 1px rgba(60, 64, 67, 0.15);\n",
              "    fill: var(--button-hover-fill-color);\n",
              "  }\n",
              "\n",
              "  .colab-df-quickchart-complete:disabled,\n",
              "  .colab-df-quickchart-complete:disabled:hover {\n",
              "    background-color: var(--disabled-bg-color);\n",
              "    fill: var(--disabled-fill-color);\n",
              "    box-shadow: none;\n",
              "  }\n",
              "\n",
              "  .colab-df-spinner {\n",
              "    border: 2px solid var(--fill-color);\n",
              "    border-color: transparent;\n",
              "    border-bottom-color: var(--fill-color);\n",
              "    animation:\n",
              "      spin 1s steps(1) infinite;\n",
              "  }\n",
              "\n",
              "  @keyframes spin {\n",
              "    0% {\n",
              "      border-color: transparent;\n",
              "      border-bottom-color: var(--fill-color);\n",
              "      border-left-color: var(--fill-color);\n",
              "    }\n",
              "    20% {\n",
              "      border-color: transparent;\n",
              "      border-left-color: var(--fill-color);\n",
              "      border-top-color: var(--fill-color);\n",
              "    }\n",
              "    30% {\n",
              "      border-color: transparent;\n",
              "      border-left-color: var(--fill-color);\n",
              "      border-top-color: var(--fill-color);\n",
              "      border-right-color: var(--fill-color);\n",
              "    }\n",
              "    40% {\n",
              "      border-color: transparent;\n",
              "      border-right-color: var(--fill-color);\n",
              "      border-top-color: var(--fill-color);\n",
              "    }\n",
              "    60% {\n",
              "      border-color: transparent;\n",
              "      border-right-color: var(--fill-color);\n",
              "    }\n",
              "    80% {\n",
              "      border-color: transparent;\n",
              "      border-right-color: var(--fill-color);\n",
              "      border-bottom-color: var(--fill-color);\n",
              "    }\n",
              "    90% {\n",
              "      border-color: transparent;\n",
              "      border-bottom-color: var(--fill-color);\n",
              "    }\n",
              "  }\n",
              "</style>\n",
              "\n",
              "  <script>\n",
              "    async function quickchart(key) {\n",
              "      const quickchartButtonEl =\n",
              "        document.querySelector('#' + key + ' button');\n",
              "      quickchartButtonEl.disabled = true;  // To prevent multiple clicks.\n",
              "      quickchartButtonEl.classList.add('colab-df-spinner');\n",
              "      try {\n",
              "        const charts = await google.colab.kernel.invokeFunction(\n",
              "            'suggestCharts', [key], {});\n",
              "      } catch (error) {\n",
              "        console.error('Error during call to suggestCharts:', error);\n",
              "      }\n",
              "      quickchartButtonEl.classList.remove('colab-df-spinner');\n",
              "      quickchartButtonEl.classList.add('colab-df-quickchart-complete');\n",
              "    }\n",
              "    (() => {\n",
              "      let quickchartButtonEl =\n",
              "        document.querySelector('#df-19862427-ba27-448d-a20d-db35c37e055d button');\n",
              "      quickchartButtonEl.style.display =\n",
              "        google.colab.kernel.accessAllowed ? 'block' : 'none';\n",
              "    })();\n",
              "  </script>\n",
              "</div>\n",
              "\n",
              "    </div>\n",
              "  </div>\n"
            ],
            "application/vnd.google.colaboratory.intrinsic+json": {
              "type": "dataframe",
              "summary": "{\n  \"name\": \"nnnunet_task024_prostate_qin_df[['dsc', 'asd', 'hsdff']]\",\n  \"rows\": 8,\n  \"fields\": [\n    {\n      \"column\": \"dsc\",\n      \"properties\": {\n        \"dtype\": \"number\",\n        \"std\": 10.351684847947938,\n        \"min\": 0.04830454576852419,\n        \"max\": 30.0,\n        \"num_unique_values\": 8,\n        \"samples\": [\n          0.8539004000000001,\n          0.8610055000000001,\n          30.0\n        ],\n        \"semantic_type\": \"\",\n        \"description\": \"\"\n      }\n    },\n    {\n      \"column\": \"asd\",\n      \"properties\": {\n        \"dtype\": \"number\",\n        \"std\": 10.606601717798213,\n        \"min\": 0.0,\n        \"max\": 30.0,\n        \"num_unique_values\": 2,\n        \"samples\": [\n          0.0,\n          30.0\n        ],\n        \"semantic_type\": \"\",\n        \"description\": \"\"\n      }\n    },\n    {\n      \"column\": \"hsdff\",\n      \"properties\": {\n        \"dtype\": \"number\",\n        \"std\": 9.240454763019223,\n        \"min\": 4.388384720133113,\n        \"max\": 30.0,\n        \"num_unique_values\": 8,\n        \"samples\": [\n          10.121993066666667,\n          9.120458\n        ],\n        \"semantic_type\": \"\",\n        \"description\": \"\"\n      }\n    }\n  ]\n}"
            }
          },
          "metadata": {},
          "execution_count": 108
        }
      ],
      "source": [
        "nnnunet_task024_prostate_qin_df[['dsc', 'asd', 'hsdff']].describe()"
      ]
    },
    {
      "cell_type": "code",
      "execution_count": null,
      "metadata": {
        "colab": {
          "base_uri": "https://localhost:8080/",
          "height": 300
        },
        "id": "M7JUpp78M484",
        "outputId": "dfd73edb-a122-424b-e20f-8d8d9446276b"
      },
      "outputs": [
        {
          "output_type": "execute_result",
          "data": {
            "text/plain": [
              "             dsc   asd      hsdff\n",
              "count  30.000000  30.0  30.000000\n",
              "mean    0.565395   0.0  31.488467\n",
              "std     0.274746   0.0  16.131696\n",
              "min     0.000000   0.0   6.659697\n",
              "25%     0.395273   0.0  20.758088\n",
              "50%     0.607371   0.0  27.254463\n",
              "75%     0.795912   0.0  43.921661\n",
              "max     0.866814   0.0  69.067986"
            ],
            "text/html": [
              "\n",
              "  <div id=\"df-fb799cec-1637-4413-9901-220628b77253\" class=\"colab-df-container\">\n",
              "    <div>\n",
              "<style scoped>\n",
              "    .dataframe tbody tr th:only-of-type {\n",
              "        vertical-align: middle;\n",
              "    }\n",
              "\n",
              "    .dataframe tbody tr th {\n",
              "        vertical-align: top;\n",
              "    }\n",
              "\n",
              "    .dataframe thead th {\n",
              "        text-align: right;\n",
              "    }\n",
              "</style>\n",
              "<table border=\"1\" class=\"dataframe\">\n",
              "  <thead>\n",
              "    <tr style=\"text-align: right;\">\n",
              "      <th></th>\n",
              "      <th>dsc</th>\n",
              "      <th>asd</th>\n",
              "      <th>hsdff</th>\n",
              "    </tr>\n",
              "  </thead>\n",
              "  <tbody>\n",
              "    <tr>\n",
              "      <th>count</th>\n",
              "      <td>30.000000</td>\n",
              "      <td>30.0</td>\n",
              "      <td>30.000000</td>\n",
              "    </tr>\n",
              "    <tr>\n",
              "      <th>mean</th>\n",
              "      <td>0.565395</td>\n",
              "      <td>0.0</td>\n",
              "      <td>31.488467</td>\n",
              "    </tr>\n",
              "    <tr>\n",
              "      <th>std</th>\n",
              "      <td>0.274746</td>\n",
              "      <td>0.0</td>\n",
              "      <td>16.131696</td>\n",
              "    </tr>\n",
              "    <tr>\n",
              "      <th>min</th>\n",
              "      <td>0.000000</td>\n",
              "      <td>0.0</td>\n",
              "      <td>6.659697</td>\n",
              "    </tr>\n",
              "    <tr>\n",
              "      <th>25%</th>\n",
              "      <td>0.395273</td>\n",
              "      <td>0.0</td>\n",
              "      <td>20.758088</td>\n",
              "    </tr>\n",
              "    <tr>\n",
              "      <th>50%</th>\n",
              "      <td>0.607371</td>\n",
              "      <td>0.0</td>\n",
              "      <td>27.254463</td>\n",
              "    </tr>\n",
              "    <tr>\n",
              "      <th>75%</th>\n",
              "      <td>0.795912</td>\n",
              "      <td>0.0</td>\n",
              "      <td>43.921661</td>\n",
              "    </tr>\n",
              "    <tr>\n",
              "      <th>max</th>\n",
              "      <td>0.866814</td>\n",
              "      <td>0.0</td>\n",
              "      <td>69.067986</td>\n",
              "    </tr>\n",
              "  </tbody>\n",
              "</table>\n",
              "</div>\n",
              "    <div class=\"colab-df-buttons\">\n",
              "\n",
              "  <div class=\"colab-df-container\">\n",
              "    <button class=\"colab-df-convert\" onclick=\"convertToInteractive('df-fb799cec-1637-4413-9901-220628b77253')\"\n",
              "            title=\"Convert this dataframe to an interactive table.\"\n",
              "            style=\"display:none;\">\n",
              "\n",
              "  <svg xmlns=\"http://www.w3.org/2000/svg\" height=\"24px\" viewBox=\"0 -960 960 960\">\n",
              "    <path d=\"M120-120v-720h720v720H120Zm60-500h600v-160H180v160Zm220 220h160v-160H400v160Zm0 220h160v-160H400v160ZM180-400h160v-160H180v160Zm440 0h160v-160H620v160ZM180-180h160v-160H180v160Zm440 0h160v-160H620v160Z\"/>\n",
              "  </svg>\n",
              "    </button>\n",
              "\n",
              "  <style>\n",
              "    .colab-df-container {\n",
              "      display:flex;\n",
              "      gap: 12px;\n",
              "    }\n",
              "\n",
              "    .colab-df-convert {\n",
              "      background-color: #E8F0FE;\n",
              "      border: none;\n",
              "      border-radius: 50%;\n",
              "      cursor: pointer;\n",
              "      display: none;\n",
              "      fill: #1967D2;\n",
              "      height: 32px;\n",
              "      padding: 0 0 0 0;\n",
              "      width: 32px;\n",
              "    }\n",
              "\n",
              "    .colab-df-convert:hover {\n",
              "      background-color: #E2EBFA;\n",
              "      box-shadow: 0px 1px 2px rgba(60, 64, 67, 0.3), 0px 1px 3px 1px rgba(60, 64, 67, 0.15);\n",
              "      fill: #174EA6;\n",
              "    }\n",
              "\n",
              "    .colab-df-buttons div {\n",
              "      margin-bottom: 4px;\n",
              "    }\n",
              "\n",
              "    [theme=dark] .colab-df-convert {\n",
              "      background-color: #3B4455;\n",
              "      fill: #D2E3FC;\n",
              "    }\n",
              "\n",
              "    [theme=dark] .colab-df-convert:hover {\n",
              "      background-color: #434B5C;\n",
              "      box-shadow: 0px 1px 3px 1px rgba(0, 0, 0, 0.15);\n",
              "      filter: drop-shadow(0px 1px 2px rgba(0, 0, 0, 0.3));\n",
              "      fill: #FFFFFF;\n",
              "    }\n",
              "  </style>\n",
              "\n",
              "    <script>\n",
              "      const buttonEl =\n",
              "        document.querySelector('#df-fb799cec-1637-4413-9901-220628b77253 button.colab-df-convert');\n",
              "      buttonEl.style.display =\n",
              "        google.colab.kernel.accessAllowed ? 'block' : 'none';\n",
              "\n",
              "      async function convertToInteractive(key) {\n",
              "        const element = document.querySelector('#df-fb799cec-1637-4413-9901-220628b77253');\n",
              "        const dataTable =\n",
              "          await google.colab.kernel.invokeFunction('convertToInteractive',\n",
              "                                                    [key], {});\n",
              "        if (!dataTable) return;\n",
              "\n",
              "        const docLinkHtml = 'Like what you see? Visit the ' +\n",
              "          '<a target=\"_blank\" href=https://colab.research.google.com/notebooks/data_table.ipynb>data table notebook</a>'\n",
              "          + ' to learn more about interactive tables.';\n",
              "        element.innerHTML = '';\n",
              "        dataTable['output_type'] = 'display_data';\n",
              "        await google.colab.output.renderOutput(dataTable, element);\n",
              "        const docLink = document.createElement('div');\n",
              "        docLink.innerHTML = docLinkHtml;\n",
              "        element.appendChild(docLink);\n",
              "      }\n",
              "    </script>\n",
              "  </div>\n",
              "\n",
              "\n",
              "<div id=\"df-1180086f-8973-4ab0-83d0-58061d1356ae\">\n",
              "  <button class=\"colab-df-quickchart\" onclick=\"quickchart('df-1180086f-8973-4ab0-83d0-58061d1356ae')\"\n",
              "            title=\"Suggest charts\"\n",
              "            style=\"display:none;\">\n",
              "\n",
              "<svg xmlns=\"http://www.w3.org/2000/svg\" height=\"24px\"viewBox=\"0 0 24 24\"\n",
              "     width=\"24px\">\n",
              "    <g>\n",
              "        <path d=\"M19 3H5c-1.1 0-2 .9-2 2v14c0 1.1.9 2 2 2h14c1.1 0 2-.9 2-2V5c0-1.1-.9-2-2-2zM9 17H7v-7h2v7zm4 0h-2V7h2v10zm4 0h-2v-4h2v4z\"/>\n",
              "    </g>\n",
              "</svg>\n",
              "  </button>\n",
              "\n",
              "<style>\n",
              "  .colab-df-quickchart {\n",
              "      --bg-color: #E8F0FE;\n",
              "      --fill-color: #1967D2;\n",
              "      --hover-bg-color: #E2EBFA;\n",
              "      --hover-fill-color: #174EA6;\n",
              "      --disabled-fill-color: #AAA;\n",
              "      --disabled-bg-color: #DDD;\n",
              "  }\n",
              "\n",
              "  [theme=dark] .colab-df-quickchart {\n",
              "      --bg-color: #3B4455;\n",
              "      --fill-color: #D2E3FC;\n",
              "      --hover-bg-color: #434B5C;\n",
              "      --hover-fill-color: #FFFFFF;\n",
              "      --disabled-bg-color: #3B4455;\n",
              "      --disabled-fill-color: #666;\n",
              "  }\n",
              "\n",
              "  .colab-df-quickchart {\n",
              "    background-color: var(--bg-color);\n",
              "    border: none;\n",
              "    border-radius: 50%;\n",
              "    cursor: pointer;\n",
              "    display: none;\n",
              "    fill: var(--fill-color);\n",
              "    height: 32px;\n",
              "    padding: 0;\n",
              "    width: 32px;\n",
              "  }\n",
              "\n",
              "  .colab-df-quickchart:hover {\n",
              "    background-color: var(--hover-bg-color);\n",
              "    box-shadow: 0 1px 2px rgba(60, 64, 67, 0.3), 0 1px 3px 1px rgba(60, 64, 67, 0.15);\n",
              "    fill: var(--button-hover-fill-color);\n",
              "  }\n",
              "\n",
              "  .colab-df-quickchart-complete:disabled,\n",
              "  .colab-df-quickchart-complete:disabled:hover {\n",
              "    background-color: var(--disabled-bg-color);\n",
              "    fill: var(--disabled-fill-color);\n",
              "    box-shadow: none;\n",
              "  }\n",
              "\n",
              "  .colab-df-spinner {\n",
              "    border: 2px solid var(--fill-color);\n",
              "    border-color: transparent;\n",
              "    border-bottom-color: var(--fill-color);\n",
              "    animation:\n",
              "      spin 1s steps(1) infinite;\n",
              "  }\n",
              "\n",
              "  @keyframes spin {\n",
              "    0% {\n",
              "      border-color: transparent;\n",
              "      border-bottom-color: var(--fill-color);\n",
              "      border-left-color: var(--fill-color);\n",
              "    }\n",
              "    20% {\n",
              "      border-color: transparent;\n",
              "      border-left-color: var(--fill-color);\n",
              "      border-top-color: var(--fill-color);\n",
              "    }\n",
              "    30% {\n",
              "      border-color: transparent;\n",
              "      border-left-color: var(--fill-color);\n",
              "      border-top-color: var(--fill-color);\n",
              "      border-right-color: var(--fill-color);\n",
              "    }\n",
              "    40% {\n",
              "      border-color: transparent;\n",
              "      border-right-color: var(--fill-color);\n",
              "      border-top-color: var(--fill-color);\n",
              "    }\n",
              "    60% {\n",
              "      border-color: transparent;\n",
              "      border-right-color: var(--fill-color);\n",
              "    }\n",
              "    80% {\n",
              "      border-color: transparent;\n",
              "      border-right-color: var(--fill-color);\n",
              "      border-bottom-color: var(--fill-color);\n",
              "    }\n",
              "    90% {\n",
              "      border-color: transparent;\n",
              "      border-bottom-color: var(--fill-color);\n",
              "    }\n",
              "  }\n",
              "</style>\n",
              "\n",
              "  <script>\n",
              "    async function quickchart(key) {\n",
              "      const quickchartButtonEl =\n",
              "        document.querySelector('#' + key + ' button');\n",
              "      quickchartButtonEl.disabled = true;  // To prevent multiple clicks.\n",
              "      quickchartButtonEl.classList.add('colab-df-spinner');\n",
              "      try {\n",
              "        const charts = await google.colab.kernel.invokeFunction(\n",
              "            'suggestCharts', [key], {});\n",
              "      } catch (error) {\n",
              "        console.error('Error during call to suggestCharts:', error);\n",
              "      }\n",
              "      quickchartButtonEl.classList.remove('colab-df-spinner');\n",
              "      quickchartButtonEl.classList.add('colab-df-quickchart-complete');\n",
              "    }\n",
              "    (() => {\n",
              "      let quickchartButtonEl =\n",
              "        document.querySelector('#df-1180086f-8973-4ab0-83d0-58061d1356ae button');\n",
              "      quickchartButtonEl.style.display =\n",
              "        google.colab.kernel.accessAllowed ? 'block' : 'none';\n",
              "    })();\n",
              "  </script>\n",
              "</div>\n",
              "\n",
              "    </div>\n",
              "  </div>\n"
            ],
            "application/vnd.google.colaboratory.intrinsic+json": {
              "type": "dataframe",
              "summary": "{\n  \"name\": \"nnnunet_task05_prostate_qin_df[['dsc', 'asd', 'hsdff']]\",\n  \"rows\": 8,\n  \"fields\": [\n    {\n      \"column\": \"dsc\",\n      \"properties\": {\n        \"dtype\": \"number\",\n        \"std\": 10.433310139041012,\n        \"min\": 0.0,\n        \"max\": 30.0,\n        \"num_unique_values\": 8,\n        \"samples\": [\n          0.5653954,\n          0.607371,\n          30.0\n        ],\n        \"semantic_type\": \"\",\n        \"description\": \"\"\n      }\n    },\n    {\n      \"column\": \"asd\",\n      \"properties\": {\n        \"dtype\": \"number\",\n        \"std\": 10.606601717798213,\n        \"min\": 0.0,\n        \"max\": 30.0,\n        \"num_unique_values\": 2,\n        \"samples\": [\n          0.0,\n          30.0\n        ],\n        \"semantic_type\": \"\",\n        \"description\": \"\"\n      }\n    },\n    {\n      \"column\": \"hsdff\",\n      \"properties\": {\n        \"dtype\": \"number\",\n        \"std\": 19.08214828664989,\n        \"min\": 6.659697,\n        \"max\": 69.067986,\n        \"num_unique_values\": 8,\n        \"samples\": [\n          31.488466733333336,\n          27.254463\n        ],\n        \"semantic_type\": \"\",\n        \"description\": \"\"\n      }\n    }\n  ]\n}"
            }
          },
          "metadata": {},
          "execution_count": 109
        }
      ],
      "source": [
        "nnnunet_task05_prostate_qin_df[['dsc', 'asd', 'hsdff']].describe()"
      ]
    },
    {
      "cell_type": "code",
      "execution_count": null,
      "metadata": {
        "colab": {
          "base_uri": "https://localhost:8080/",
          "height": 300
        },
        "id": "c3oEat0CM484",
        "outputId": "a6154263-0ad3-4928-8941-ac8d80f479a3"
      },
      "outputs": [
        {
          "output_type": "execute_result",
          "data": {
            "text/plain": [
              "             dsc   asd      hsdff\n",
              "count  30.000000  30.0  30.000000\n",
              "mean    0.830429   0.0  13.562133\n",
              "std     0.051353   0.0   7.740125\n",
              "min     0.703789   0.0   5.635060\n",
              "25%     0.796378   0.0   7.972199\n",
              "50%     0.842634   0.0  10.729490\n",
              "75%     0.874580   0.0  16.918558\n",
              "max     0.897631   0.0  36.377495"
            ],
            "text/html": [
              "\n",
              "  <div id=\"df-0c1ba543-277b-4fb1-ae0d-57f6a6d7cb79\" class=\"colab-df-container\">\n",
              "    <div>\n",
              "<style scoped>\n",
              "    .dataframe tbody tr th:only-of-type {\n",
              "        vertical-align: middle;\n",
              "    }\n",
              "\n",
              "    .dataframe tbody tr th {\n",
              "        vertical-align: top;\n",
              "    }\n",
              "\n",
              "    .dataframe thead th {\n",
              "        text-align: right;\n",
              "    }\n",
              "</style>\n",
              "<table border=\"1\" class=\"dataframe\">\n",
              "  <thead>\n",
              "    <tr style=\"text-align: right;\">\n",
              "      <th></th>\n",
              "      <th>dsc</th>\n",
              "      <th>asd</th>\n",
              "      <th>hsdff</th>\n",
              "    </tr>\n",
              "  </thead>\n",
              "  <tbody>\n",
              "    <tr>\n",
              "      <th>count</th>\n",
              "      <td>30.000000</td>\n",
              "      <td>30.0</td>\n",
              "      <td>30.000000</td>\n",
              "    </tr>\n",
              "    <tr>\n",
              "      <th>mean</th>\n",
              "      <td>0.830429</td>\n",
              "      <td>0.0</td>\n",
              "      <td>13.562133</td>\n",
              "    </tr>\n",
              "    <tr>\n",
              "      <th>std</th>\n",
              "      <td>0.051353</td>\n",
              "      <td>0.0</td>\n",
              "      <td>7.740125</td>\n",
              "    </tr>\n",
              "    <tr>\n",
              "      <th>min</th>\n",
              "      <td>0.703789</td>\n",
              "      <td>0.0</td>\n",
              "      <td>5.635060</td>\n",
              "    </tr>\n",
              "    <tr>\n",
              "      <th>25%</th>\n",
              "      <td>0.796378</td>\n",
              "      <td>0.0</td>\n",
              "      <td>7.972199</td>\n",
              "    </tr>\n",
              "    <tr>\n",
              "      <th>50%</th>\n",
              "      <td>0.842634</td>\n",
              "      <td>0.0</td>\n",
              "      <td>10.729490</td>\n",
              "    </tr>\n",
              "    <tr>\n",
              "      <th>75%</th>\n",
              "      <td>0.874580</td>\n",
              "      <td>0.0</td>\n",
              "      <td>16.918558</td>\n",
              "    </tr>\n",
              "    <tr>\n",
              "      <th>max</th>\n",
              "      <td>0.897631</td>\n",
              "      <td>0.0</td>\n",
              "      <td>36.377495</td>\n",
              "    </tr>\n",
              "  </tbody>\n",
              "</table>\n",
              "</div>\n",
              "    <div class=\"colab-df-buttons\">\n",
              "\n",
              "  <div class=\"colab-df-container\">\n",
              "    <button class=\"colab-df-convert\" onclick=\"convertToInteractive('df-0c1ba543-277b-4fb1-ae0d-57f6a6d7cb79')\"\n",
              "            title=\"Convert this dataframe to an interactive table.\"\n",
              "            style=\"display:none;\">\n",
              "\n",
              "  <svg xmlns=\"http://www.w3.org/2000/svg\" height=\"24px\" viewBox=\"0 -960 960 960\">\n",
              "    <path d=\"M120-120v-720h720v720H120Zm60-500h600v-160H180v160Zm220 220h160v-160H400v160Zm0 220h160v-160H400v160ZM180-400h160v-160H180v160Zm440 0h160v-160H620v160ZM180-180h160v-160H180v160Zm440 0h160v-160H620v160Z\"/>\n",
              "  </svg>\n",
              "    </button>\n",
              "\n",
              "  <style>\n",
              "    .colab-df-container {\n",
              "      display:flex;\n",
              "      gap: 12px;\n",
              "    }\n",
              "\n",
              "    .colab-df-convert {\n",
              "      background-color: #E8F0FE;\n",
              "      border: none;\n",
              "      border-radius: 50%;\n",
              "      cursor: pointer;\n",
              "      display: none;\n",
              "      fill: #1967D2;\n",
              "      height: 32px;\n",
              "      padding: 0 0 0 0;\n",
              "      width: 32px;\n",
              "    }\n",
              "\n",
              "    .colab-df-convert:hover {\n",
              "      background-color: #E2EBFA;\n",
              "      box-shadow: 0px 1px 2px rgba(60, 64, 67, 0.3), 0px 1px 3px 1px rgba(60, 64, 67, 0.15);\n",
              "      fill: #174EA6;\n",
              "    }\n",
              "\n",
              "    .colab-df-buttons div {\n",
              "      margin-bottom: 4px;\n",
              "    }\n",
              "\n",
              "    [theme=dark] .colab-df-convert {\n",
              "      background-color: #3B4455;\n",
              "      fill: #D2E3FC;\n",
              "    }\n",
              "\n",
              "    [theme=dark] .colab-df-convert:hover {\n",
              "      background-color: #434B5C;\n",
              "      box-shadow: 0px 1px 3px 1px rgba(0, 0, 0, 0.15);\n",
              "      filter: drop-shadow(0px 1px 2px rgba(0, 0, 0, 0.3));\n",
              "      fill: #FFFFFF;\n",
              "    }\n",
              "  </style>\n",
              "\n",
              "    <script>\n",
              "      const buttonEl =\n",
              "        document.querySelector('#df-0c1ba543-277b-4fb1-ae0d-57f6a6d7cb79 button.colab-df-convert');\n",
              "      buttonEl.style.display =\n",
              "        google.colab.kernel.accessAllowed ? 'block' : 'none';\n",
              "\n",
              "      async function convertToInteractive(key) {\n",
              "        const element = document.querySelector('#df-0c1ba543-277b-4fb1-ae0d-57f6a6d7cb79');\n",
              "        const dataTable =\n",
              "          await google.colab.kernel.invokeFunction('convertToInteractive',\n",
              "                                                    [key], {});\n",
              "        if (!dataTable) return;\n",
              "\n",
              "        const docLinkHtml = 'Like what you see? Visit the ' +\n",
              "          '<a target=\"_blank\" href=https://colab.research.google.com/notebooks/data_table.ipynb>data table notebook</a>'\n",
              "          + ' to learn more about interactive tables.';\n",
              "        element.innerHTML = '';\n",
              "        dataTable['output_type'] = 'display_data';\n",
              "        await google.colab.output.renderOutput(dataTable, element);\n",
              "        const docLink = document.createElement('div');\n",
              "        docLink.innerHTML = docLinkHtml;\n",
              "        element.appendChild(docLink);\n",
              "      }\n",
              "    </script>\n",
              "  </div>\n",
              "\n",
              "\n",
              "<div id=\"df-ef265b27-4de7-4425-be50-7d34db2336e5\">\n",
              "  <button class=\"colab-df-quickchart\" onclick=\"quickchart('df-ef265b27-4de7-4425-be50-7d34db2336e5')\"\n",
              "            title=\"Suggest charts\"\n",
              "            style=\"display:none;\">\n",
              "\n",
              "<svg xmlns=\"http://www.w3.org/2000/svg\" height=\"24px\"viewBox=\"0 0 24 24\"\n",
              "     width=\"24px\">\n",
              "    <g>\n",
              "        <path d=\"M19 3H5c-1.1 0-2 .9-2 2v14c0 1.1.9 2 2 2h14c1.1 0 2-.9 2-2V5c0-1.1-.9-2-2-2zM9 17H7v-7h2v7zm4 0h-2V7h2v10zm4 0h-2v-4h2v4z\"/>\n",
              "    </g>\n",
              "</svg>\n",
              "  </button>\n",
              "\n",
              "<style>\n",
              "  .colab-df-quickchart {\n",
              "      --bg-color: #E8F0FE;\n",
              "      --fill-color: #1967D2;\n",
              "      --hover-bg-color: #E2EBFA;\n",
              "      --hover-fill-color: #174EA6;\n",
              "      --disabled-fill-color: #AAA;\n",
              "      --disabled-bg-color: #DDD;\n",
              "  }\n",
              "\n",
              "  [theme=dark] .colab-df-quickchart {\n",
              "      --bg-color: #3B4455;\n",
              "      --fill-color: #D2E3FC;\n",
              "      --hover-bg-color: #434B5C;\n",
              "      --hover-fill-color: #FFFFFF;\n",
              "      --disabled-bg-color: #3B4455;\n",
              "      --disabled-fill-color: #666;\n",
              "  }\n",
              "\n",
              "  .colab-df-quickchart {\n",
              "    background-color: var(--bg-color);\n",
              "    border: none;\n",
              "    border-radius: 50%;\n",
              "    cursor: pointer;\n",
              "    display: none;\n",
              "    fill: var(--fill-color);\n",
              "    height: 32px;\n",
              "    padding: 0;\n",
              "    width: 32px;\n",
              "  }\n",
              "\n",
              "  .colab-df-quickchart:hover {\n",
              "    background-color: var(--hover-bg-color);\n",
              "    box-shadow: 0 1px 2px rgba(60, 64, 67, 0.3), 0 1px 3px 1px rgba(60, 64, 67, 0.15);\n",
              "    fill: var(--button-hover-fill-color);\n",
              "  }\n",
              "\n",
              "  .colab-df-quickchart-complete:disabled,\n",
              "  .colab-df-quickchart-complete:disabled:hover {\n",
              "    background-color: var(--disabled-bg-color);\n",
              "    fill: var(--disabled-fill-color);\n",
              "    box-shadow: none;\n",
              "  }\n",
              "\n",
              "  .colab-df-spinner {\n",
              "    border: 2px solid var(--fill-color);\n",
              "    border-color: transparent;\n",
              "    border-bottom-color: var(--fill-color);\n",
              "    animation:\n",
              "      spin 1s steps(1) infinite;\n",
              "  }\n",
              "\n",
              "  @keyframes spin {\n",
              "    0% {\n",
              "      border-color: transparent;\n",
              "      border-bottom-color: var(--fill-color);\n",
              "      border-left-color: var(--fill-color);\n",
              "    }\n",
              "    20% {\n",
              "      border-color: transparent;\n",
              "      border-left-color: var(--fill-color);\n",
              "      border-top-color: var(--fill-color);\n",
              "    }\n",
              "    30% {\n",
              "      border-color: transparent;\n",
              "      border-left-color: var(--fill-color);\n",
              "      border-top-color: var(--fill-color);\n",
              "      border-right-color: var(--fill-color);\n",
              "    }\n",
              "    40% {\n",
              "      border-color: transparent;\n",
              "      border-right-color: var(--fill-color);\n",
              "      border-top-color: var(--fill-color);\n",
              "    }\n",
              "    60% {\n",
              "      border-color: transparent;\n",
              "      border-right-color: var(--fill-color);\n",
              "    }\n",
              "    80% {\n",
              "      border-color: transparent;\n",
              "      border-right-color: var(--fill-color);\n",
              "      border-bottom-color: var(--fill-color);\n",
              "    }\n",
              "    90% {\n",
              "      border-color: transparent;\n",
              "      border-bottom-color: var(--fill-color);\n",
              "    }\n",
              "  }\n",
              "</style>\n",
              "\n",
              "  <script>\n",
              "    async function quickchart(key) {\n",
              "      const quickchartButtonEl =\n",
              "        document.querySelector('#' + key + ' button');\n",
              "      quickchartButtonEl.disabled = true;  // To prevent multiple clicks.\n",
              "      quickchartButtonEl.classList.add('colab-df-spinner');\n",
              "      try {\n",
              "        const charts = await google.colab.kernel.invokeFunction(\n",
              "            'suggestCharts', [key], {});\n",
              "      } catch (error) {\n",
              "        console.error('Error during call to suggestCharts:', error);\n",
              "      }\n",
              "      quickchartButtonEl.classList.remove('colab-df-spinner');\n",
              "      quickchartButtonEl.classList.add('colab-df-quickchart-complete');\n",
              "    }\n",
              "    (() => {\n",
              "      let quickchartButtonEl =\n",
              "        document.querySelector('#df-ef265b27-4de7-4425-be50-7d34db2336e5 button');\n",
              "      quickchartButtonEl.style.display =\n",
              "        google.colab.kernel.accessAllowed ? 'block' : 'none';\n",
              "    })();\n",
              "  </script>\n",
              "</div>\n",
              "\n",
              "    </div>\n",
              "  </div>\n"
            ],
            "application/vnd.google.colaboratory.intrinsic+json": {
              "type": "dataframe",
              "summary": "{\n  \"name\": \"monai_prostate158_prostate_qin_df[['dsc', 'asd', 'hsdff']]\",\n  \"rows\": 8,\n  \"fields\": [\n    {\n      \"column\": \"dsc\",\n      \"properties\": {\n        \"dtype\": \"number\",\n        \"std\": 10.35791969988588,\n        \"min\": 0.05135312825288709,\n        \"max\": 30.0,\n        \"num_unique_values\": 8,\n        \"samples\": [\n          0.8304287666666668,\n          0.842634,\n          30.0\n        ],\n        \"semantic_type\": \"\",\n        \"description\": \"\"\n      }\n    },\n    {\n      \"column\": \"asd\",\n      \"properties\": {\n        \"dtype\": \"number\",\n        \"std\": 10.606601717798213,\n        \"min\": 0.0,\n        \"max\": 30.0,\n        \"num_unique_values\": 2,\n        \"samples\": [\n          0.0,\n          30.0\n        ],\n        \"semantic_type\": \"\",\n        \"description\": \"\"\n      }\n    },\n    {\n      \"column\": \"hsdff\",\n      \"properties\": {\n        \"dtype\": \"number\",\n        \"std\": 11.249135440978522,\n        \"min\": 5.63506,\n        \"max\": 36.377495,\n        \"num_unique_values\": 8,\n        \"samples\": [\n          13.562132833333331,\n          10.72949\n        ],\n        \"semantic_type\": \"\",\n        \"description\": \"\"\n      }\n    }\n  ]\n}"
            }
          },
          "metadata": {},
          "execution_count": 110
        }
      ],
      "source": [
        "monai_prostate158_prostate_qin_df[['dsc', 'asd', 'hsdff']].describe()"
      ]
    },
    {
      "cell_type": "code",
      "source": [
        "bamf_nnunet_mr_prostate_qin_df[['dsc', 'asd', 'hsdff']].describe()"
      ],
      "metadata": {
        "colab": {
          "base_uri": "https://localhost:8080/",
          "height": 300
        },
        "id": "coMzsZeoMHn_",
        "outputId": "c6bfbac5-0f6f-46c4-d56a-bb14fa8f06b5"
      },
      "execution_count": null,
      "outputs": [
        {
          "output_type": "execute_result",
          "data": {
            "text/plain": [
              "             dsc   asd      hsdff\n",
              "count  30.000000  30.0  30.000000\n",
              "mean    0.791851   0.0  12.053428\n",
              "std     0.166551   0.0   9.475963\n",
              "min     0.192064   0.0   3.998422\n",
              "25%     0.797459   0.0   5.376774\n",
              "50%     0.845625   0.0   7.349561\n",
              "75%     0.891563   0.0  16.815395\n",
              "max     0.917200   0.0  38.500000"
            ],
            "text/html": [
              "\n",
              "  <div id=\"df-91ea01b8-66d7-49fd-817a-81471e94368d\" class=\"colab-df-container\">\n",
              "    <div>\n",
              "<style scoped>\n",
              "    .dataframe tbody tr th:only-of-type {\n",
              "        vertical-align: middle;\n",
              "    }\n",
              "\n",
              "    .dataframe tbody tr th {\n",
              "        vertical-align: top;\n",
              "    }\n",
              "\n",
              "    .dataframe thead th {\n",
              "        text-align: right;\n",
              "    }\n",
              "</style>\n",
              "<table border=\"1\" class=\"dataframe\">\n",
              "  <thead>\n",
              "    <tr style=\"text-align: right;\">\n",
              "      <th></th>\n",
              "      <th>dsc</th>\n",
              "      <th>asd</th>\n",
              "      <th>hsdff</th>\n",
              "    </tr>\n",
              "  </thead>\n",
              "  <tbody>\n",
              "    <tr>\n",
              "      <th>count</th>\n",
              "      <td>30.000000</td>\n",
              "      <td>30.0</td>\n",
              "      <td>30.000000</td>\n",
              "    </tr>\n",
              "    <tr>\n",
              "      <th>mean</th>\n",
              "      <td>0.791851</td>\n",
              "      <td>0.0</td>\n",
              "      <td>12.053428</td>\n",
              "    </tr>\n",
              "    <tr>\n",
              "      <th>std</th>\n",
              "      <td>0.166551</td>\n",
              "      <td>0.0</td>\n",
              "      <td>9.475963</td>\n",
              "    </tr>\n",
              "    <tr>\n",
              "      <th>min</th>\n",
              "      <td>0.192064</td>\n",
              "      <td>0.0</td>\n",
              "      <td>3.998422</td>\n",
              "    </tr>\n",
              "    <tr>\n",
              "      <th>25%</th>\n",
              "      <td>0.797459</td>\n",
              "      <td>0.0</td>\n",
              "      <td>5.376774</td>\n",
              "    </tr>\n",
              "    <tr>\n",
              "      <th>50%</th>\n",
              "      <td>0.845625</td>\n",
              "      <td>0.0</td>\n",
              "      <td>7.349561</td>\n",
              "    </tr>\n",
              "    <tr>\n",
              "      <th>75%</th>\n",
              "      <td>0.891563</td>\n",
              "      <td>0.0</td>\n",
              "      <td>16.815395</td>\n",
              "    </tr>\n",
              "    <tr>\n",
              "      <th>max</th>\n",
              "      <td>0.917200</td>\n",
              "      <td>0.0</td>\n",
              "      <td>38.500000</td>\n",
              "    </tr>\n",
              "  </tbody>\n",
              "</table>\n",
              "</div>\n",
              "    <div class=\"colab-df-buttons\">\n",
              "\n",
              "  <div class=\"colab-df-container\">\n",
              "    <button class=\"colab-df-convert\" onclick=\"convertToInteractive('df-91ea01b8-66d7-49fd-817a-81471e94368d')\"\n",
              "            title=\"Convert this dataframe to an interactive table.\"\n",
              "            style=\"display:none;\">\n",
              "\n",
              "  <svg xmlns=\"http://www.w3.org/2000/svg\" height=\"24px\" viewBox=\"0 -960 960 960\">\n",
              "    <path d=\"M120-120v-720h720v720H120Zm60-500h600v-160H180v160Zm220 220h160v-160H400v160Zm0 220h160v-160H400v160ZM180-400h160v-160H180v160Zm440 0h160v-160H620v160ZM180-180h160v-160H180v160Zm440 0h160v-160H620v160Z\"/>\n",
              "  </svg>\n",
              "    </button>\n",
              "\n",
              "  <style>\n",
              "    .colab-df-container {\n",
              "      display:flex;\n",
              "      gap: 12px;\n",
              "    }\n",
              "\n",
              "    .colab-df-convert {\n",
              "      background-color: #E8F0FE;\n",
              "      border: none;\n",
              "      border-radius: 50%;\n",
              "      cursor: pointer;\n",
              "      display: none;\n",
              "      fill: #1967D2;\n",
              "      height: 32px;\n",
              "      padding: 0 0 0 0;\n",
              "      width: 32px;\n",
              "    }\n",
              "\n",
              "    .colab-df-convert:hover {\n",
              "      background-color: #E2EBFA;\n",
              "      box-shadow: 0px 1px 2px rgba(60, 64, 67, 0.3), 0px 1px 3px 1px rgba(60, 64, 67, 0.15);\n",
              "      fill: #174EA6;\n",
              "    }\n",
              "\n",
              "    .colab-df-buttons div {\n",
              "      margin-bottom: 4px;\n",
              "    }\n",
              "\n",
              "    [theme=dark] .colab-df-convert {\n",
              "      background-color: #3B4455;\n",
              "      fill: #D2E3FC;\n",
              "    }\n",
              "\n",
              "    [theme=dark] .colab-df-convert:hover {\n",
              "      background-color: #434B5C;\n",
              "      box-shadow: 0px 1px 3px 1px rgba(0, 0, 0, 0.15);\n",
              "      filter: drop-shadow(0px 1px 2px rgba(0, 0, 0, 0.3));\n",
              "      fill: #FFFFFF;\n",
              "    }\n",
              "  </style>\n",
              "\n",
              "    <script>\n",
              "      const buttonEl =\n",
              "        document.querySelector('#df-91ea01b8-66d7-49fd-817a-81471e94368d button.colab-df-convert');\n",
              "      buttonEl.style.display =\n",
              "        google.colab.kernel.accessAllowed ? 'block' : 'none';\n",
              "\n",
              "      async function convertToInteractive(key) {\n",
              "        const element = document.querySelector('#df-91ea01b8-66d7-49fd-817a-81471e94368d');\n",
              "        const dataTable =\n",
              "          await google.colab.kernel.invokeFunction('convertToInteractive',\n",
              "                                                    [key], {});\n",
              "        if (!dataTable) return;\n",
              "\n",
              "        const docLinkHtml = 'Like what you see? Visit the ' +\n",
              "          '<a target=\"_blank\" href=https://colab.research.google.com/notebooks/data_table.ipynb>data table notebook</a>'\n",
              "          + ' to learn more about interactive tables.';\n",
              "        element.innerHTML = '';\n",
              "        dataTable['output_type'] = 'display_data';\n",
              "        await google.colab.output.renderOutput(dataTable, element);\n",
              "        const docLink = document.createElement('div');\n",
              "        docLink.innerHTML = docLinkHtml;\n",
              "        element.appendChild(docLink);\n",
              "      }\n",
              "    </script>\n",
              "  </div>\n",
              "\n",
              "\n",
              "<div id=\"df-2deda4f0-7356-48ca-9c72-b30f41629c0e\">\n",
              "  <button class=\"colab-df-quickchart\" onclick=\"quickchart('df-2deda4f0-7356-48ca-9c72-b30f41629c0e')\"\n",
              "            title=\"Suggest charts\"\n",
              "            style=\"display:none;\">\n",
              "\n",
              "<svg xmlns=\"http://www.w3.org/2000/svg\" height=\"24px\"viewBox=\"0 0 24 24\"\n",
              "     width=\"24px\">\n",
              "    <g>\n",
              "        <path d=\"M19 3H5c-1.1 0-2 .9-2 2v14c0 1.1.9 2 2 2h14c1.1 0 2-.9 2-2V5c0-1.1-.9-2-2-2zM9 17H7v-7h2v7zm4 0h-2V7h2v10zm4 0h-2v-4h2v4z\"/>\n",
              "    </g>\n",
              "</svg>\n",
              "  </button>\n",
              "\n",
              "<style>\n",
              "  .colab-df-quickchart {\n",
              "      --bg-color: #E8F0FE;\n",
              "      --fill-color: #1967D2;\n",
              "      --hover-bg-color: #E2EBFA;\n",
              "      --hover-fill-color: #174EA6;\n",
              "      --disabled-fill-color: #AAA;\n",
              "      --disabled-bg-color: #DDD;\n",
              "  }\n",
              "\n",
              "  [theme=dark] .colab-df-quickchart {\n",
              "      --bg-color: #3B4455;\n",
              "      --fill-color: #D2E3FC;\n",
              "      --hover-bg-color: #434B5C;\n",
              "      --hover-fill-color: #FFFFFF;\n",
              "      --disabled-bg-color: #3B4455;\n",
              "      --disabled-fill-color: #666;\n",
              "  }\n",
              "\n",
              "  .colab-df-quickchart {\n",
              "    background-color: var(--bg-color);\n",
              "    border: none;\n",
              "    border-radius: 50%;\n",
              "    cursor: pointer;\n",
              "    display: none;\n",
              "    fill: var(--fill-color);\n",
              "    height: 32px;\n",
              "    padding: 0;\n",
              "    width: 32px;\n",
              "  }\n",
              "\n",
              "  .colab-df-quickchart:hover {\n",
              "    background-color: var(--hover-bg-color);\n",
              "    box-shadow: 0 1px 2px rgba(60, 64, 67, 0.3), 0 1px 3px 1px rgba(60, 64, 67, 0.15);\n",
              "    fill: var(--button-hover-fill-color);\n",
              "  }\n",
              "\n",
              "  .colab-df-quickchart-complete:disabled,\n",
              "  .colab-df-quickchart-complete:disabled:hover {\n",
              "    background-color: var(--disabled-bg-color);\n",
              "    fill: var(--disabled-fill-color);\n",
              "    box-shadow: none;\n",
              "  }\n",
              "\n",
              "  .colab-df-spinner {\n",
              "    border: 2px solid var(--fill-color);\n",
              "    border-color: transparent;\n",
              "    border-bottom-color: var(--fill-color);\n",
              "    animation:\n",
              "      spin 1s steps(1) infinite;\n",
              "  }\n",
              "\n",
              "  @keyframes spin {\n",
              "    0% {\n",
              "      border-color: transparent;\n",
              "      border-bottom-color: var(--fill-color);\n",
              "      border-left-color: var(--fill-color);\n",
              "    }\n",
              "    20% {\n",
              "      border-color: transparent;\n",
              "      border-left-color: var(--fill-color);\n",
              "      border-top-color: var(--fill-color);\n",
              "    }\n",
              "    30% {\n",
              "      border-color: transparent;\n",
              "      border-left-color: var(--fill-color);\n",
              "      border-top-color: var(--fill-color);\n",
              "      border-right-color: var(--fill-color);\n",
              "    }\n",
              "    40% {\n",
              "      border-color: transparent;\n",
              "      border-right-color: var(--fill-color);\n",
              "      border-top-color: var(--fill-color);\n",
              "    }\n",
              "    60% {\n",
              "      border-color: transparent;\n",
              "      border-right-color: var(--fill-color);\n",
              "    }\n",
              "    80% {\n",
              "      border-color: transparent;\n",
              "      border-right-color: var(--fill-color);\n",
              "      border-bottom-color: var(--fill-color);\n",
              "    }\n",
              "    90% {\n",
              "      border-color: transparent;\n",
              "      border-bottom-color: var(--fill-color);\n",
              "    }\n",
              "  }\n",
              "</style>\n",
              "\n",
              "  <script>\n",
              "    async function quickchart(key) {\n",
              "      const quickchartButtonEl =\n",
              "        document.querySelector('#' + key + ' button');\n",
              "      quickchartButtonEl.disabled = true;  // To prevent multiple clicks.\n",
              "      quickchartButtonEl.classList.add('colab-df-spinner');\n",
              "      try {\n",
              "        const charts = await google.colab.kernel.invokeFunction(\n",
              "            'suggestCharts', [key], {});\n",
              "      } catch (error) {\n",
              "        console.error('Error during call to suggestCharts:', error);\n",
              "      }\n",
              "      quickchartButtonEl.classList.remove('colab-df-spinner');\n",
              "      quickchartButtonEl.classList.add('colab-df-quickchart-complete');\n",
              "    }\n",
              "    (() => {\n",
              "      let quickchartButtonEl =\n",
              "        document.querySelector('#df-2deda4f0-7356-48ca-9c72-b30f41629c0e button');\n",
              "      quickchartButtonEl.style.display =\n",
              "        google.colab.kernel.accessAllowed ? 'block' : 'none';\n",
              "    })();\n",
              "  </script>\n",
              "</div>\n",
              "\n",
              "    </div>\n",
              "  </div>\n"
            ],
            "application/vnd.google.colaboratory.intrinsic+json": {
              "type": "dataframe",
              "summary": "{\n  \"name\": \"bamf_nnunet_mr_prostate_qin_df[['dsc', 'asd', 'hsdff']]\",\n  \"rows\": 8,\n  \"fields\": [\n    {\n      \"column\": \"dsc\",\n      \"properties\": {\n        \"dtype\": \"number\",\n        \"std\": 10.378644375517396,\n        \"min\": 0.16655102798099922,\n        \"max\": 30.0,\n        \"num_unique_values\": 8,\n        \"samples\": [\n          0.7918512999999999,\n          0.8456245,\n          30.0\n        ],\n        \"semantic_type\": \"\",\n        \"description\": \"\"\n      }\n    },\n    {\n      \"column\": \"asd\",\n      \"properties\": {\n        \"dtype\": \"number\",\n        \"std\": 10.606601717798213,\n        \"min\": 0.0,\n        \"max\": 30.0,\n        \"num_unique_values\": 2,\n        \"samples\": [\n          0.0,\n          30.0\n        ],\n        \"semantic_type\": \"\",\n        \"description\": \"\"\n      }\n    },\n    {\n      \"column\": \"hsdff\",\n      \"properties\": {\n        \"dtype\": \"number\",\n        \"std\": 12.48038832849816,\n        \"min\": 3.998422,\n        \"max\": 38.5,\n        \"num_unique_values\": 8,\n        \"samples\": [\n          12.0534278,\n          7.349561\n        ],\n        \"semantic_type\": \"\",\n        \"description\": \"\"\n      }\n    }\n  ]\n}"
            }
          },
          "metadata": {},
          "execution_count": 111
        }
      ]
    },
    {
      "cell_type": "markdown",
      "metadata": {
        "id": "uH1OexGPM484"
      },
      "source": [
        "Pair 1 : task024 dsc differences vs task05\n"
      ]
    },
    {
      "cell_type": "code",
      "execution_count": null,
      "metadata": {
        "colab": {
          "base_uri": "https://localhost:8080/"
        },
        "id": "cPrspW6eM484",
        "outputId": "b6e88b10-e8fe-4ad5-c3df-c5dfd668e753"
      },
      "outputs": [
        {
          "output_type": "execute_result",
          "data": {
            "text/plain": [
              "(1.0, 3.725290298461914e-09)"
            ]
          },
          "metadata": {},
          "execution_count": 112
        }
      ],
      "source": [
        "diff = nnnunet_task024_prostate_qin_df.sort_values(by=['refSerieUID']).dsc.values - nnnunet_task05_prostate_qin_df.sort_values(by=['refSerieUID']).dsc.values\n",
        "res = wilcoxon(diff)\n",
        "res.statistic, res.pvalue"
      ]
    },
    {
      "cell_type": "code",
      "execution_count": null,
      "metadata": {
        "colab": {
          "base_uri": "https://localhost:8080/"
        },
        "id": "2dO6wcmHM484",
        "outputId": "47504fc5-f15b-45d2-fb8f-7ae6725dcff7"
      },
      "outputs": [
        {
          "output_type": "execute_result",
          "data": {
            "text/plain": [
              "(464.0, 1.862645149230957e-09)"
            ]
          },
          "metadata": {},
          "execution_count": 113
        }
      ],
      "source": [
        "res = wilcoxon(diff, alternative='greater')\n",
        "res.statistic, res.pvalue"
      ]
    },
    {
      "cell_type": "markdown",
      "metadata": {
        "id": "cVS-q7iPM485"
      },
      "source": [
        "Pair 2 : task024 dsc differences vs monai\n"
      ]
    },
    {
      "cell_type": "code",
      "execution_count": null,
      "metadata": {
        "colab": {
          "base_uri": "https://localhost:8080/"
        },
        "id": "Nzq3q28dM485",
        "outputId": "b0c082be-f065-4bea-880a-607729b57ac9"
      },
      "outputs": [
        {
          "output_type": "execute_result",
          "data": {
            "text/plain": [
              "(72.0, 0.0005548261106014252)"
            ]
          },
          "metadata": {},
          "execution_count": 114
        }
      ],
      "source": [
        "diff = nnnunet_task024_prostate_qin_df.sort_values(by=['refSerieUID']).dsc.values - monai_prostate158_prostate_qin_df.sort_values(by=['refSerieUID']).dsc.values\n",
        "res = wilcoxon(diff)\n",
        "res.statistic, res.pvalue"
      ]
    },
    {
      "cell_type": "code",
      "execution_count": null,
      "metadata": {
        "colab": {
          "base_uri": "https://localhost:8080/"
        },
        "id": "p9D3GIr_M485",
        "outputId": "a7f8be6b-c383-4568-c79f-cd8e2a9204fc"
      },
      "outputs": [
        {
          "output_type": "execute_result",
          "data": {
            "text/plain": [
              "(393.0, 0.0002774130553007126)"
            ]
          },
          "metadata": {},
          "execution_count": 115
        }
      ],
      "source": [
        "res = wilcoxon(diff, alternative='greater')\n",
        "res.statistic, res.pvalue"
      ]
    },
    {
      "cell_type": "markdown",
      "metadata": {
        "id": "2GHVo7sBM485"
      },
      "source": [
        "Pair 3 : task05 dsc differences vs monai\n"
      ]
    },
    {
      "cell_type": "code",
      "execution_count": null,
      "metadata": {
        "colab": {
          "base_uri": "https://localhost:8080/"
        },
        "id": "LjN76x5ZM485",
        "outputId": "a63dd3cb-ea31-4c35-cd8d-9b464d2ccd37"
      },
      "outputs": [
        {
          "output_type": "execute_result",
          "data": {
            "text/plain": [
              "(26.0, 1.991167664527893e-06)"
            ]
          },
          "metadata": {},
          "execution_count": 116
        }
      ],
      "source": [
        "diff = monai_prostate158_prostate_qin_df.sort_values(by=['refSerieUID']).dsc.values - nnnunet_task05_prostate_qin_df.sort_values(by=['refSerieUID']).dsc.values\n",
        "res = wilcoxon(diff)\n",
        "res.statistic, res.pvalue"
      ]
    },
    {
      "cell_type": "code",
      "execution_count": null,
      "metadata": {
        "colab": {
          "base_uri": "https://localhost:8080/"
        },
        "id": "1K8fCtbEM485",
        "outputId": "d8b1c86f-55b0-461a-c415-9e50eeab558c"
      },
      "outputs": [
        {
          "output_type": "execute_result",
          "data": {
            "text/plain": [
              "(439.0, 0.9999991580843925)"
            ]
          },
          "metadata": {},
          "execution_count": 117
        }
      ],
      "source": [
        "res = wilcoxon(diff, alternative='less')\n",
        "res.statistic, res.pvalue"
      ]
    },
    {
      "cell_type": "markdown",
      "source": [
        "Pair 4 : bamf_nnunet_mr_prostate vs nnunet_task024"
      ],
      "metadata": {
        "id": "jAqYP4XgMWnX"
      }
    },
    {
      "cell_type": "code",
      "execution_count": null,
      "metadata": {
        "colab": {
          "base_uri": "https://localhost:8080/"
        },
        "outputId": "7a439d26-fb55-4213-bc3f-5050777770a5",
        "id": "EZipULGQMWnY"
      },
      "outputs": [
        {
          "output_type": "execute_result",
          "data": {
            "text/plain": [
              "(230.0, 0.9676735773682594)"
            ]
          },
          "metadata": {},
          "execution_count": 119
        }
      ],
      "source": [
        "diff = bamf_nnunet_mr_prostate_qin_df.sort_values(by=['refSerieUID']).dsc.values - nnnunet_task024_prostate_qin_df.sort_values(by=['refSerieUID']).dsc.values\n",
        "res = wilcoxon(diff)\n",
        "res.statistic, res.pvalue"
      ]
    },
    {
      "cell_type": "code",
      "execution_count": null,
      "metadata": {
        "colab": {
          "base_uri": "https://localhost:8080/"
        },
        "outputId": "5978f343-c99e-494b-f511-1c2ec90c0335",
        "id": "c4K-lz_dMWnY"
      },
      "outputs": [
        {
          "output_type": "execute_result",
          "data": {
            "text/plain": [
              "(230.0, 0.5242367628961802)"
            ]
          },
          "metadata": {},
          "execution_count": 120
        }
      ],
      "source": [
        "res = wilcoxon(diff, alternative='greater')\n",
        "res.statistic, res.pvalue"
      ]
    },
    {
      "cell_type": "markdown",
      "source": [
        "Pair 5 : bamf_nnunet_mr_prostate vs nnunet_task05"
      ],
      "metadata": {
        "id": "F0Xq6XX3MWnZ"
      }
    },
    {
      "cell_type": "code",
      "execution_count": null,
      "metadata": {
        "colab": {
          "base_uri": "https://localhost:8080/"
        },
        "outputId": "60b971c1-839a-4dc0-9468-723e4fb15a95",
        "id": "Q7VWU47_MWnZ"
      },
      "outputs": [
        {
          "output_type": "execute_result",
          "data": {
            "text/plain": [
              "(15.0, 2.551823854446411e-07)"
            ]
          },
          "metadata": {},
          "execution_count": 121
        }
      ],
      "source": [
        "diff = bamf_nnunet_mr_prostate_qin_df.sort_values(by=['refSerieUID']).dsc.values - nnnunet_task05_prostate_qin_df.sort_values(by=['refSerieUID']).dsc.values\n",
        "res = wilcoxon(diff)\n",
        "res.statistic, res.pvalue"
      ]
    },
    {
      "cell_type": "code",
      "execution_count": null,
      "metadata": {
        "colab": {
          "base_uri": "https://localhost:8080/"
        },
        "outputId": "4c907f5c-6222-4cb8-d134-94f4f68e9019",
        "id": "ILMme3bWMWnZ"
      },
      "outputs": [
        {
          "output_type": "execute_result",
          "data": {
            "text/plain": [
              "(450.0, 1.2759119272232056e-07)"
            ]
          },
          "metadata": {},
          "execution_count": 122
        }
      ],
      "source": [
        "res = wilcoxon(diff, alternative='greater')\n",
        "res.statistic, res.pvalue"
      ]
    },
    {
      "cell_type": "markdown",
      "source": [
        "Pair 6 : bamf_nnunet_mr_prostate vs monai prostate158"
      ],
      "metadata": {
        "id": "B9QM4yrhMWnZ"
      }
    },
    {
      "cell_type": "code",
      "execution_count": null,
      "metadata": {
        "colab": {
          "base_uri": "https://localhost:8080/"
        },
        "outputId": "b61c464c-9e9e-4f28-91db-aa00e72b6ae6",
        "id": "ZP_sW6dbMWnZ"
      },
      "outputs": [
        {
          "output_type": "execute_result",
          "data": {
            "text/plain": [
              "(203.0, 0.5561132747679949)"
            ]
          },
          "metadata": {},
          "execution_count": 123
        }
      ],
      "source": [
        "diff = bamf_nnunet_mr_prostate_qin_df.sort_values(by=['refSerieUID']).dsc.values - monai_prostate158_prostate_qin_df.sort_values(by=['refSerieUID']).dsc.values\n",
        "res = wilcoxon(diff)\n",
        "res.statistic, res.pvalue"
      ]
    },
    {
      "cell_type": "code",
      "execution_count": null,
      "metadata": {
        "colab": {
          "base_uri": "https://localhost:8080/"
        },
        "outputId": "25cb8c57-aefd-42e2-cad6-09627d3da3b8",
        "id": "aUL3qQTrMWnZ"
      },
      "outputs": [
        {
          "output_type": "execute_result",
          "data": {
            "text/plain": [
              "(262.0, 0.27805663738399744)"
            ]
          },
          "metadata": {},
          "execution_count": 124
        }
      ],
      "source": [
        "res = wilcoxon(diff, alternative='greater')\n",
        "res.statistic, res.pvalue"
      ]
    },
    {
      "cell_type": "markdown",
      "metadata": {
        "id": "NTsva6BrM485"
      },
      "source": [
        "#### Peripheral zone\n"
      ]
    },
    {
      "cell_type": "code",
      "source": [
        "data_df.SegmentedPropertyTypeCodeMeaning.unique()"
      ],
      "metadata": {
        "colab": {
          "base_uri": "https://localhost:8080/"
        },
        "id": "ss71fMKjM7eX",
        "outputId": "644ccefa-5f7c-4c3c-c7ae-d99e20776058"
      },
      "execution_count": null,
      "outputs": [
        {
          "output_type": "execute_result",
          "data": {
            "text/plain": [
              "array(['Prostate', 'Prostatic structure',\n",
              "       'Structure of peripheral glandular zone of prostate (body structure)',\n",
              "       'Structure of transition zone of prostate (body structure)'],\n",
              "      dtype=object)"
            ]
          },
          "metadata": {},
          "execution_count": 130
        }
      ]
    },
    {
      "cell_type": "code",
      "execution_count": null,
      "metadata": {
        "id": "S_2ICc_QM485"
      },
      "outputs": [],
      "source": [
        "pz_qin_df = data_df[(data_df.collection_id == 'qin_prostate_repeatability') & (data_df.SegmentedPropertyTypeCodeMeaning == \"Structure of peripheral glandular zone of prostate (body structure)\")]"
      ]
    },
    {
      "cell_type": "code",
      "execution_count": null,
      "metadata": {
        "colab": {
          "base_uri": "https://localhost:8080/"
        },
        "id": "RTCc9u07M485",
        "outputId": "4383e5de-8c51-488f-dec7-5b62e8a67985"
      },
      "outputs": [
        {
          "output_type": "execute_result",
          "data": {
            "text/plain": [
              "array(['nnunet_prostate_zonal_task05-qin_prostate_repeatability',\n",
              "       'monai_prostate158-qin_prostate_repeatability'], dtype=object)"
            ]
          },
          "metadata": {},
          "execution_count": 132
        }
      ],
      "source": [
        "pz_qin_df.algorithmNameCollection.unique()"
      ]
    },
    {
      "cell_type": "code",
      "execution_count": null,
      "metadata": {
        "id": "0_99lT78M485"
      },
      "outputs": [],
      "source": [
        "monai_prostate158_pz_qin_df = pz_qin_df[pz_qin_df.algorithmNameCollection == 'monai_prostate158-qin_prostate_repeatability']\n",
        "nnnunet_task05_pz_qin_df = pz_qin_df[pz_qin_df.algorithmNameCollection == 'nnunet_prostate_zonal_task05-qin_prostate_repeatability']"
      ]
    },
    {
      "cell_type": "code",
      "source": [
        "print(len(monai_prostate158_pz_qin_df))\n",
        "print(len(nnnunet_task05_pz_qin_df))"
      ],
      "metadata": {
        "colab": {
          "base_uri": "https://localhost:8080/"
        },
        "id": "suXk7na5NX1N",
        "outputId": "51fbaf4a-003f-4685-e6a2-d5fd36cb7865"
      },
      "execution_count": null,
      "outputs": [
        {
          "output_type": "stream",
          "name": "stdout",
          "text": [
            "30\n",
            "29\n"
          ]
        }
      ]
    },
    {
      "cell_type": "code",
      "execution_count": null,
      "metadata": {
        "id": "7cbQ7DibM485"
      },
      "outputs": [],
      "source": [
        "# nnnunet_task05_pz_qin_df = nnnunet_task05_pz_qin_df.drop_duplicates(subset='refSerieUID', keep=\"last\")\n",
        "# monai_prostate158_pz_qin_df = monai_prostate158_pz_qin_df.drop_duplicates(subset='refSerieUID', keep=\"last\")"
      ]
    },
    {
      "cell_type": "code",
      "execution_count": null,
      "metadata": {
        "colab": {
          "base_uri": "https://localhost:8080/"
        },
        "id": "0jducbHFM485",
        "outputId": "0a6e2874-c057-4856-b855-9ccc3f364097"
      },
      "outputs": [
        {
          "output_type": "stream",
          "name": "stdout",
          "text": [
            "nnunet task05 model DSC mean and std for pz: 0.39/0.3\n",
            "nnunet monai prostate158 DSC model mean and std for pz: 0.65/0.16\n"
          ]
        }
      ],
      "source": [
        "print(f\"nnunet task05 model DSC mean and std for pz: {round(np.mean(nnnunet_task05_pz_qin_df.dsc.values),2)}/{round(np.std(nnnunet_task05_pz_qin_df.dsc.values),2)}\")\n",
        "print(f\"nnunet monai prostate158 DSC model mean and std for pz: {round(np.mean(monai_prostate158_pz_qin_df.dsc.values),2)}/{round(np.std(monai_prostate158_pz_qin_df.dsc.values),2)}\")"
      ]
    },
    {
      "cell_type": "code",
      "execution_count": null,
      "metadata": {
        "colab": {
          "base_uri": "https://localhost:8080/"
        },
        "id": "eYMJiGlFM485",
        "outputId": "47f7a7aa-edf0-442d-e386-86686e607821"
      },
      "outputs": [
        {
          "output_type": "execute_result",
          "data": {
            "text/plain": [
              "(19.0, 1.1436641216278076e-06)"
            ]
          },
          "metadata": {},
          "execution_count": 139
        }
      ],
      "source": [
        "diff = monai_prostate158_pz_qin_df[monai_prostate158_pz_qin_df.refSerieUID.isin(nnnunet_task05_pz_qin_df.refSerieUID.unique())].sort_values(by=['refSerieUID']).dsc.values - nnnunet_task05_pz_qin_df.sort_values(by=['refSerieUID']).dsc.values\n",
        "res = wilcoxon(diff)\n",
        "res.statistic, res.pvalue"
      ]
    },
    {
      "cell_type": "code",
      "execution_count": null,
      "metadata": {
        "colab": {
          "base_uri": "https://localhost:8080/"
        },
        "id": "C7Aiyrk-M485",
        "outputId": "6d46574a-df49-42b8-f269-06c2462040a3"
      },
      "outputs": [
        {
          "output_type": "execute_result",
          "data": {
            "text/plain": [
              "(416.0, 5.718320608139038e-07)"
            ]
          },
          "metadata": {},
          "execution_count": 140
        }
      ],
      "source": [
        "res = wilcoxon(diff, alternative='greater')\n",
        "res.statistic, res.pvalue"
      ]
    },
    {
      "cell_type": "code",
      "source": [
        "nnnunet_task05_pz_qin_df[['dsc', 'asd', 'hsdff']].describe()"
      ],
      "metadata": {
        "colab": {
          "base_uri": "https://localhost:8080/",
          "height": 300
        },
        "id": "uIWGyLZ_eYdk",
        "outputId": "eaa8d24d-4b76-457b-aade-70d57a8a3014"
      },
      "execution_count": null,
      "outputs": [
        {
          "output_type": "execute_result",
          "data": {
            "text/plain": [
              "             dsc        asd       hsdff\n",
              "count  29.000000  29.000000   29.000000\n",
              "mean    0.385754   1.594828   28.658644\n",
              "std     0.301435   3.883204   27.453498\n",
              "min     0.000000   0.000000    5.304774\n",
              "25%     0.008434   0.000000    9.919932\n",
              "50%     0.459504   0.000000   15.856929\n",
              "75%     0.641352   1.090000   34.814823\n",
              "max     0.797521  17.100000  119.323219"
            ],
            "text/html": [
              "\n",
              "  <div id=\"df-ef713ffc-e86e-44e5-8d97-6b38eeac935d\" class=\"colab-df-container\">\n",
              "    <div>\n",
              "<style scoped>\n",
              "    .dataframe tbody tr th:only-of-type {\n",
              "        vertical-align: middle;\n",
              "    }\n",
              "\n",
              "    .dataframe tbody tr th {\n",
              "        vertical-align: top;\n",
              "    }\n",
              "\n",
              "    .dataframe thead th {\n",
              "        text-align: right;\n",
              "    }\n",
              "</style>\n",
              "<table border=\"1\" class=\"dataframe\">\n",
              "  <thead>\n",
              "    <tr style=\"text-align: right;\">\n",
              "      <th></th>\n",
              "      <th>dsc</th>\n",
              "      <th>asd</th>\n",
              "      <th>hsdff</th>\n",
              "    </tr>\n",
              "  </thead>\n",
              "  <tbody>\n",
              "    <tr>\n",
              "      <th>count</th>\n",
              "      <td>29.000000</td>\n",
              "      <td>29.000000</td>\n",
              "      <td>29.000000</td>\n",
              "    </tr>\n",
              "    <tr>\n",
              "      <th>mean</th>\n",
              "      <td>0.385754</td>\n",
              "      <td>1.594828</td>\n",
              "      <td>28.658644</td>\n",
              "    </tr>\n",
              "    <tr>\n",
              "      <th>std</th>\n",
              "      <td>0.301435</td>\n",
              "      <td>3.883204</td>\n",
              "      <td>27.453498</td>\n",
              "    </tr>\n",
              "    <tr>\n",
              "      <th>min</th>\n",
              "      <td>0.000000</td>\n",
              "      <td>0.000000</td>\n",
              "      <td>5.304774</td>\n",
              "    </tr>\n",
              "    <tr>\n",
              "      <th>25%</th>\n",
              "      <td>0.008434</td>\n",
              "      <td>0.000000</td>\n",
              "      <td>9.919932</td>\n",
              "    </tr>\n",
              "    <tr>\n",
              "      <th>50%</th>\n",
              "      <td>0.459504</td>\n",
              "      <td>0.000000</td>\n",
              "      <td>15.856929</td>\n",
              "    </tr>\n",
              "    <tr>\n",
              "      <th>75%</th>\n",
              "      <td>0.641352</td>\n",
              "      <td>1.090000</td>\n",
              "      <td>34.814823</td>\n",
              "    </tr>\n",
              "    <tr>\n",
              "      <th>max</th>\n",
              "      <td>0.797521</td>\n",
              "      <td>17.100000</td>\n",
              "      <td>119.323219</td>\n",
              "    </tr>\n",
              "  </tbody>\n",
              "</table>\n",
              "</div>\n",
              "    <div class=\"colab-df-buttons\">\n",
              "\n",
              "  <div class=\"colab-df-container\">\n",
              "    <button class=\"colab-df-convert\" onclick=\"convertToInteractive('df-ef713ffc-e86e-44e5-8d97-6b38eeac935d')\"\n",
              "            title=\"Convert this dataframe to an interactive table.\"\n",
              "            style=\"display:none;\">\n",
              "\n",
              "  <svg xmlns=\"http://www.w3.org/2000/svg\" height=\"24px\" viewBox=\"0 -960 960 960\">\n",
              "    <path d=\"M120-120v-720h720v720H120Zm60-500h600v-160H180v160Zm220 220h160v-160H400v160Zm0 220h160v-160H400v160ZM180-400h160v-160H180v160Zm440 0h160v-160H620v160ZM180-180h160v-160H180v160Zm440 0h160v-160H620v160Z\"/>\n",
              "  </svg>\n",
              "    </button>\n",
              "\n",
              "  <style>\n",
              "    .colab-df-container {\n",
              "      display:flex;\n",
              "      gap: 12px;\n",
              "    }\n",
              "\n",
              "    .colab-df-convert {\n",
              "      background-color: #E8F0FE;\n",
              "      border: none;\n",
              "      border-radius: 50%;\n",
              "      cursor: pointer;\n",
              "      display: none;\n",
              "      fill: #1967D2;\n",
              "      height: 32px;\n",
              "      padding: 0 0 0 0;\n",
              "      width: 32px;\n",
              "    }\n",
              "\n",
              "    .colab-df-convert:hover {\n",
              "      background-color: #E2EBFA;\n",
              "      box-shadow: 0px 1px 2px rgba(60, 64, 67, 0.3), 0px 1px 3px 1px rgba(60, 64, 67, 0.15);\n",
              "      fill: #174EA6;\n",
              "    }\n",
              "\n",
              "    .colab-df-buttons div {\n",
              "      margin-bottom: 4px;\n",
              "    }\n",
              "\n",
              "    [theme=dark] .colab-df-convert {\n",
              "      background-color: #3B4455;\n",
              "      fill: #D2E3FC;\n",
              "    }\n",
              "\n",
              "    [theme=dark] .colab-df-convert:hover {\n",
              "      background-color: #434B5C;\n",
              "      box-shadow: 0px 1px 3px 1px rgba(0, 0, 0, 0.15);\n",
              "      filter: drop-shadow(0px 1px 2px rgba(0, 0, 0, 0.3));\n",
              "      fill: #FFFFFF;\n",
              "    }\n",
              "  </style>\n",
              "\n",
              "    <script>\n",
              "      const buttonEl =\n",
              "        document.querySelector('#df-ef713ffc-e86e-44e5-8d97-6b38eeac935d button.colab-df-convert');\n",
              "      buttonEl.style.display =\n",
              "        google.colab.kernel.accessAllowed ? 'block' : 'none';\n",
              "\n",
              "      async function convertToInteractive(key) {\n",
              "        const element = document.querySelector('#df-ef713ffc-e86e-44e5-8d97-6b38eeac935d');\n",
              "        const dataTable =\n",
              "          await google.colab.kernel.invokeFunction('convertToInteractive',\n",
              "                                                    [key], {});\n",
              "        if (!dataTable) return;\n",
              "\n",
              "        const docLinkHtml = 'Like what you see? Visit the ' +\n",
              "          '<a target=\"_blank\" href=https://colab.research.google.com/notebooks/data_table.ipynb>data table notebook</a>'\n",
              "          + ' to learn more about interactive tables.';\n",
              "        element.innerHTML = '';\n",
              "        dataTable['output_type'] = 'display_data';\n",
              "        await google.colab.output.renderOutput(dataTable, element);\n",
              "        const docLink = document.createElement('div');\n",
              "        docLink.innerHTML = docLinkHtml;\n",
              "        element.appendChild(docLink);\n",
              "      }\n",
              "    </script>\n",
              "  </div>\n",
              "\n",
              "\n",
              "<div id=\"df-58cc7496-f216-4d10-9a6b-9b00027207b9\">\n",
              "  <button class=\"colab-df-quickchart\" onclick=\"quickchart('df-58cc7496-f216-4d10-9a6b-9b00027207b9')\"\n",
              "            title=\"Suggest charts\"\n",
              "            style=\"display:none;\">\n",
              "\n",
              "<svg xmlns=\"http://www.w3.org/2000/svg\" height=\"24px\"viewBox=\"0 0 24 24\"\n",
              "     width=\"24px\">\n",
              "    <g>\n",
              "        <path d=\"M19 3H5c-1.1 0-2 .9-2 2v14c0 1.1.9 2 2 2h14c1.1 0 2-.9 2-2V5c0-1.1-.9-2-2-2zM9 17H7v-7h2v7zm4 0h-2V7h2v10zm4 0h-2v-4h2v4z\"/>\n",
              "    </g>\n",
              "</svg>\n",
              "  </button>\n",
              "\n",
              "<style>\n",
              "  .colab-df-quickchart {\n",
              "      --bg-color: #E8F0FE;\n",
              "      --fill-color: #1967D2;\n",
              "      --hover-bg-color: #E2EBFA;\n",
              "      --hover-fill-color: #174EA6;\n",
              "      --disabled-fill-color: #AAA;\n",
              "      --disabled-bg-color: #DDD;\n",
              "  }\n",
              "\n",
              "  [theme=dark] .colab-df-quickchart {\n",
              "      --bg-color: #3B4455;\n",
              "      --fill-color: #D2E3FC;\n",
              "      --hover-bg-color: #434B5C;\n",
              "      --hover-fill-color: #FFFFFF;\n",
              "      --disabled-bg-color: #3B4455;\n",
              "      --disabled-fill-color: #666;\n",
              "  }\n",
              "\n",
              "  .colab-df-quickchart {\n",
              "    background-color: var(--bg-color);\n",
              "    border: none;\n",
              "    border-radius: 50%;\n",
              "    cursor: pointer;\n",
              "    display: none;\n",
              "    fill: var(--fill-color);\n",
              "    height: 32px;\n",
              "    padding: 0;\n",
              "    width: 32px;\n",
              "  }\n",
              "\n",
              "  .colab-df-quickchart:hover {\n",
              "    background-color: var(--hover-bg-color);\n",
              "    box-shadow: 0 1px 2px rgba(60, 64, 67, 0.3), 0 1px 3px 1px rgba(60, 64, 67, 0.15);\n",
              "    fill: var(--button-hover-fill-color);\n",
              "  }\n",
              "\n",
              "  .colab-df-quickchart-complete:disabled,\n",
              "  .colab-df-quickchart-complete:disabled:hover {\n",
              "    background-color: var(--disabled-bg-color);\n",
              "    fill: var(--disabled-fill-color);\n",
              "    box-shadow: none;\n",
              "  }\n",
              "\n",
              "  .colab-df-spinner {\n",
              "    border: 2px solid var(--fill-color);\n",
              "    border-color: transparent;\n",
              "    border-bottom-color: var(--fill-color);\n",
              "    animation:\n",
              "      spin 1s steps(1) infinite;\n",
              "  }\n",
              "\n",
              "  @keyframes spin {\n",
              "    0% {\n",
              "      border-color: transparent;\n",
              "      border-bottom-color: var(--fill-color);\n",
              "      border-left-color: var(--fill-color);\n",
              "    }\n",
              "    20% {\n",
              "      border-color: transparent;\n",
              "      border-left-color: var(--fill-color);\n",
              "      border-top-color: var(--fill-color);\n",
              "    }\n",
              "    30% {\n",
              "      border-color: transparent;\n",
              "      border-left-color: var(--fill-color);\n",
              "      border-top-color: var(--fill-color);\n",
              "      border-right-color: var(--fill-color);\n",
              "    }\n",
              "    40% {\n",
              "      border-color: transparent;\n",
              "      border-right-color: var(--fill-color);\n",
              "      border-top-color: var(--fill-color);\n",
              "    }\n",
              "    60% {\n",
              "      border-color: transparent;\n",
              "      border-right-color: var(--fill-color);\n",
              "    }\n",
              "    80% {\n",
              "      border-color: transparent;\n",
              "      border-right-color: var(--fill-color);\n",
              "      border-bottom-color: var(--fill-color);\n",
              "    }\n",
              "    90% {\n",
              "      border-color: transparent;\n",
              "      border-bottom-color: var(--fill-color);\n",
              "    }\n",
              "  }\n",
              "</style>\n",
              "\n",
              "  <script>\n",
              "    async function quickchart(key) {\n",
              "      const quickchartButtonEl =\n",
              "        document.querySelector('#' + key + ' button');\n",
              "      quickchartButtonEl.disabled = true;  // To prevent multiple clicks.\n",
              "      quickchartButtonEl.classList.add('colab-df-spinner');\n",
              "      try {\n",
              "        const charts = await google.colab.kernel.invokeFunction(\n",
              "            'suggestCharts', [key], {});\n",
              "      } catch (error) {\n",
              "        console.error('Error during call to suggestCharts:', error);\n",
              "      }\n",
              "      quickchartButtonEl.classList.remove('colab-df-spinner');\n",
              "      quickchartButtonEl.classList.add('colab-df-quickchart-complete');\n",
              "    }\n",
              "    (() => {\n",
              "      let quickchartButtonEl =\n",
              "        document.querySelector('#df-58cc7496-f216-4d10-9a6b-9b00027207b9 button');\n",
              "      quickchartButtonEl.style.display =\n",
              "        google.colab.kernel.accessAllowed ? 'block' : 'none';\n",
              "    })();\n",
              "  </script>\n",
              "</div>\n",
              "\n",
              "    </div>\n",
              "  </div>\n"
            ],
            "application/vnd.google.colaboratory.intrinsic+json": {
              "type": "dataframe",
              "summary": "{\n  \"name\": \"nnnunet_task05_pz_qin_df[['dsc', 'asd', 'hsdff']]\",\n  \"rows\": 8,\n  \"fields\": [\n    {\n      \"column\": \"dsc\",\n      \"properties\": {\n        \"dtype\": \"number\",\n        \"std\": 10.125820284301678,\n        \"min\": 0.0,\n        \"max\": 29.0,\n        \"num_unique_values\": 8,\n        \"samples\": [\n          0.38575351724137924,\n          0.459504,\n          29.0\n        ],\n        \"semantic_type\": \"\",\n        \"description\": \"\"\n      }\n    },\n    {\n      \"column\": \"asd\",\n      \"properties\": {\n        \"dtype\": \"number\",\n        \"std\": 10.727006323573674,\n        \"min\": 0.0,\n        \"max\": 29.0,\n        \"num_unique_values\": 6,\n        \"samples\": [\n          29.0,\n          1.5948275862068966,\n          17.1\n        ],\n        \"semantic_type\": \"\",\n        \"description\": \"\"\n      }\n    },\n    {\n      \"column\": \"hsdff\",\n      \"properties\": {\n        \"dtype\": \"number\",\n        \"std\": 36.07371669350208,\n        \"min\": 5.304774,\n        \"max\": 119.323219,\n        \"num_unique_values\": 8,\n        \"samples\": [\n          28.65864410344827,\n          15.856929,\n          29.0\n        ],\n        \"semantic_type\": \"\",\n        \"description\": \"\"\n      }\n    }\n  ]\n}"
            }
          },
          "metadata": {},
          "execution_count": 141
        }
      ]
    },
    {
      "cell_type": "code",
      "source": [
        "monai_prostate158_pz_qin_df[['dsc', 'asd', 'hsdff']].describe()"
      ],
      "metadata": {
        "colab": {
          "base_uri": "https://localhost:8080/",
          "height": 300
        },
        "id": "jOl7mR2xeY0t",
        "outputId": "f86d3e31-058f-47f5-ed6e-12bef0f9163e"
      },
      "execution_count": null,
      "outputs": [
        {
          "output_type": "execute_result",
          "data": {
            "text/plain": [
              "             dsc   asd      hsdff\n",
              "count  30.000000  30.0  30.000000\n",
              "mean    0.646908   0.0  14.345313\n",
              "std     0.162654   0.0   8.732322\n",
              "min     0.145839   0.0   6.144385\n",
              "25%     0.623231   0.0   9.299276\n",
              "50%     0.708787   0.0  12.778872\n",
              "75%     0.746650   0.0  15.439749\n",
              "max     0.786704   0.0  46.185635"
            ],
            "text/html": [
              "\n",
              "  <div id=\"df-4fe83813-8fb0-47f9-a20d-92c40e2862e1\" class=\"colab-df-container\">\n",
              "    <div>\n",
              "<style scoped>\n",
              "    .dataframe tbody tr th:only-of-type {\n",
              "        vertical-align: middle;\n",
              "    }\n",
              "\n",
              "    .dataframe tbody tr th {\n",
              "        vertical-align: top;\n",
              "    }\n",
              "\n",
              "    .dataframe thead th {\n",
              "        text-align: right;\n",
              "    }\n",
              "</style>\n",
              "<table border=\"1\" class=\"dataframe\">\n",
              "  <thead>\n",
              "    <tr style=\"text-align: right;\">\n",
              "      <th></th>\n",
              "      <th>dsc</th>\n",
              "      <th>asd</th>\n",
              "      <th>hsdff</th>\n",
              "    </tr>\n",
              "  </thead>\n",
              "  <tbody>\n",
              "    <tr>\n",
              "      <th>count</th>\n",
              "      <td>30.000000</td>\n",
              "      <td>30.0</td>\n",
              "      <td>30.000000</td>\n",
              "    </tr>\n",
              "    <tr>\n",
              "      <th>mean</th>\n",
              "      <td>0.646908</td>\n",
              "      <td>0.0</td>\n",
              "      <td>14.345313</td>\n",
              "    </tr>\n",
              "    <tr>\n",
              "      <th>std</th>\n",
              "      <td>0.162654</td>\n",
              "      <td>0.0</td>\n",
              "      <td>8.732322</td>\n",
              "    </tr>\n",
              "    <tr>\n",
              "      <th>min</th>\n",
              "      <td>0.145839</td>\n",
              "      <td>0.0</td>\n",
              "      <td>6.144385</td>\n",
              "    </tr>\n",
              "    <tr>\n",
              "      <th>25%</th>\n",
              "      <td>0.623231</td>\n",
              "      <td>0.0</td>\n",
              "      <td>9.299276</td>\n",
              "    </tr>\n",
              "    <tr>\n",
              "      <th>50%</th>\n",
              "      <td>0.708787</td>\n",
              "      <td>0.0</td>\n",
              "      <td>12.778872</td>\n",
              "    </tr>\n",
              "    <tr>\n",
              "      <th>75%</th>\n",
              "      <td>0.746650</td>\n",
              "      <td>0.0</td>\n",
              "      <td>15.439749</td>\n",
              "    </tr>\n",
              "    <tr>\n",
              "      <th>max</th>\n",
              "      <td>0.786704</td>\n",
              "      <td>0.0</td>\n",
              "      <td>46.185635</td>\n",
              "    </tr>\n",
              "  </tbody>\n",
              "</table>\n",
              "</div>\n",
              "    <div class=\"colab-df-buttons\">\n",
              "\n",
              "  <div class=\"colab-df-container\">\n",
              "    <button class=\"colab-df-convert\" onclick=\"convertToInteractive('df-4fe83813-8fb0-47f9-a20d-92c40e2862e1')\"\n",
              "            title=\"Convert this dataframe to an interactive table.\"\n",
              "            style=\"display:none;\">\n",
              "\n",
              "  <svg xmlns=\"http://www.w3.org/2000/svg\" height=\"24px\" viewBox=\"0 -960 960 960\">\n",
              "    <path d=\"M120-120v-720h720v720H120Zm60-500h600v-160H180v160Zm220 220h160v-160H400v160Zm0 220h160v-160H400v160ZM180-400h160v-160H180v160Zm440 0h160v-160H620v160ZM180-180h160v-160H180v160Zm440 0h160v-160H620v160Z\"/>\n",
              "  </svg>\n",
              "    </button>\n",
              "\n",
              "  <style>\n",
              "    .colab-df-container {\n",
              "      display:flex;\n",
              "      gap: 12px;\n",
              "    }\n",
              "\n",
              "    .colab-df-convert {\n",
              "      background-color: #E8F0FE;\n",
              "      border: none;\n",
              "      border-radius: 50%;\n",
              "      cursor: pointer;\n",
              "      display: none;\n",
              "      fill: #1967D2;\n",
              "      height: 32px;\n",
              "      padding: 0 0 0 0;\n",
              "      width: 32px;\n",
              "    }\n",
              "\n",
              "    .colab-df-convert:hover {\n",
              "      background-color: #E2EBFA;\n",
              "      box-shadow: 0px 1px 2px rgba(60, 64, 67, 0.3), 0px 1px 3px 1px rgba(60, 64, 67, 0.15);\n",
              "      fill: #174EA6;\n",
              "    }\n",
              "\n",
              "    .colab-df-buttons div {\n",
              "      margin-bottom: 4px;\n",
              "    }\n",
              "\n",
              "    [theme=dark] .colab-df-convert {\n",
              "      background-color: #3B4455;\n",
              "      fill: #D2E3FC;\n",
              "    }\n",
              "\n",
              "    [theme=dark] .colab-df-convert:hover {\n",
              "      background-color: #434B5C;\n",
              "      box-shadow: 0px 1px 3px 1px rgba(0, 0, 0, 0.15);\n",
              "      filter: drop-shadow(0px 1px 2px rgba(0, 0, 0, 0.3));\n",
              "      fill: #FFFFFF;\n",
              "    }\n",
              "  </style>\n",
              "\n",
              "    <script>\n",
              "      const buttonEl =\n",
              "        document.querySelector('#df-4fe83813-8fb0-47f9-a20d-92c40e2862e1 button.colab-df-convert');\n",
              "      buttonEl.style.display =\n",
              "        google.colab.kernel.accessAllowed ? 'block' : 'none';\n",
              "\n",
              "      async function convertToInteractive(key) {\n",
              "        const element = document.querySelector('#df-4fe83813-8fb0-47f9-a20d-92c40e2862e1');\n",
              "        const dataTable =\n",
              "          await google.colab.kernel.invokeFunction('convertToInteractive',\n",
              "                                                    [key], {});\n",
              "        if (!dataTable) return;\n",
              "\n",
              "        const docLinkHtml = 'Like what you see? Visit the ' +\n",
              "          '<a target=\"_blank\" href=https://colab.research.google.com/notebooks/data_table.ipynb>data table notebook</a>'\n",
              "          + ' to learn more about interactive tables.';\n",
              "        element.innerHTML = '';\n",
              "        dataTable['output_type'] = 'display_data';\n",
              "        await google.colab.output.renderOutput(dataTable, element);\n",
              "        const docLink = document.createElement('div');\n",
              "        docLink.innerHTML = docLinkHtml;\n",
              "        element.appendChild(docLink);\n",
              "      }\n",
              "    </script>\n",
              "  </div>\n",
              "\n",
              "\n",
              "<div id=\"df-65e6e690-e6a9-47b1-b0af-f8f0848a2c29\">\n",
              "  <button class=\"colab-df-quickchart\" onclick=\"quickchart('df-65e6e690-e6a9-47b1-b0af-f8f0848a2c29')\"\n",
              "            title=\"Suggest charts\"\n",
              "            style=\"display:none;\">\n",
              "\n",
              "<svg xmlns=\"http://www.w3.org/2000/svg\" height=\"24px\"viewBox=\"0 0 24 24\"\n",
              "     width=\"24px\">\n",
              "    <g>\n",
              "        <path d=\"M19 3H5c-1.1 0-2 .9-2 2v14c0 1.1.9 2 2 2h14c1.1 0 2-.9 2-2V5c0-1.1-.9-2-2-2zM9 17H7v-7h2v7zm4 0h-2V7h2v10zm4 0h-2v-4h2v4z\"/>\n",
              "    </g>\n",
              "</svg>\n",
              "  </button>\n",
              "\n",
              "<style>\n",
              "  .colab-df-quickchart {\n",
              "      --bg-color: #E8F0FE;\n",
              "      --fill-color: #1967D2;\n",
              "      --hover-bg-color: #E2EBFA;\n",
              "      --hover-fill-color: #174EA6;\n",
              "      --disabled-fill-color: #AAA;\n",
              "      --disabled-bg-color: #DDD;\n",
              "  }\n",
              "\n",
              "  [theme=dark] .colab-df-quickchart {\n",
              "      --bg-color: #3B4455;\n",
              "      --fill-color: #D2E3FC;\n",
              "      --hover-bg-color: #434B5C;\n",
              "      --hover-fill-color: #FFFFFF;\n",
              "      --disabled-bg-color: #3B4455;\n",
              "      --disabled-fill-color: #666;\n",
              "  }\n",
              "\n",
              "  .colab-df-quickchart {\n",
              "    background-color: var(--bg-color);\n",
              "    border: none;\n",
              "    border-radius: 50%;\n",
              "    cursor: pointer;\n",
              "    display: none;\n",
              "    fill: var(--fill-color);\n",
              "    height: 32px;\n",
              "    padding: 0;\n",
              "    width: 32px;\n",
              "  }\n",
              "\n",
              "  .colab-df-quickchart:hover {\n",
              "    background-color: var(--hover-bg-color);\n",
              "    box-shadow: 0 1px 2px rgba(60, 64, 67, 0.3), 0 1px 3px 1px rgba(60, 64, 67, 0.15);\n",
              "    fill: var(--button-hover-fill-color);\n",
              "  }\n",
              "\n",
              "  .colab-df-quickchart-complete:disabled,\n",
              "  .colab-df-quickchart-complete:disabled:hover {\n",
              "    background-color: var(--disabled-bg-color);\n",
              "    fill: var(--disabled-fill-color);\n",
              "    box-shadow: none;\n",
              "  }\n",
              "\n",
              "  .colab-df-spinner {\n",
              "    border: 2px solid var(--fill-color);\n",
              "    border-color: transparent;\n",
              "    border-bottom-color: var(--fill-color);\n",
              "    animation:\n",
              "      spin 1s steps(1) infinite;\n",
              "  }\n",
              "\n",
              "  @keyframes spin {\n",
              "    0% {\n",
              "      border-color: transparent;\n",
              "      border-bottom-color: var(--fill-color);\n",
              "      border-left-color: var(--fill-color);\n",
              "    }\n",
              "    20% {\n",
              "      border-color: transparent;\n",
              "      border-left-color: var(--fill-color);\n",
              "      border-top-color: var(--fill-color);\n",
              "    }\n",
              "    30% {\n",
              "      border-color: transparent;\n",
              "      border-left-color: var(--fill-color);\n",
              "      border-top-color: var(--fill-color);\n",
              "      border-right-color: var(--fill-color);\n",
              "    }\n",
              "    40% {\n",
              "      border-color: transparent;\n",
              "      border-right-color: var(--fill-color);\n",
              "      border-top-color: var(--fill-color);\n",
              "    }\n",
              "    60% {\n",
              "      border-color: transparent;\n",
              "      border-right-color: var(--fill-color);\n",
              "    }\n",
              "    80% {\n",
              "      border-color: transparent;\n",
              "      border-right-color: var(--fill-color);\n",
              "      border-bottom-color: var(--fill-color);\n",
              "    }\n",
              "    90% {\n",
              "      border-color: transparent;\n",
              "      border-bottom-color: var(--fill-color);\n",
              "    }\n",
              "  }\n",
              "</style>\n",
              "\n",
              "  <script>\n",
              "    async function quickchart(key) {\n",
              "      const quickchartButtonEl =\n",
              "        document.querySelector('#' + key + ' button');\n",
              "      quickchartButtonEl.disabled = true;  // To prevent multiple clicks.\n",
              "      quickchartButtonEl.classList.add('colab-df-spinner');\n",
              "      try {\n",
              "        const charts = await google.colab.kernel.invokeFunction(\n",
              "            'suggestCharts', [key], {});\n",
              "      } catch (error) {\n",
              "        console.error('Error during call to suggestCharts:', error);\n",
              "      }\n",
              "      quickchartButtonEl.classList.remove('colab-df-spinner');\n",
              "      quickchartButtonEl.classList.add('colab-df-quickchart-complete');\n",
              "    }\n",
              "    (() => {\n",
              "      let quickchartButtonEl =\n",
              "        document.querySelector('#df-65e6e690-e6a9-47b1-b0af-f8f0848a2c29 button');\n",
              "      quickchartButtonEl.style.display =\n",
              "        google.colab.kernel.accessAllowed ? 'block' : 'none';\n",
              "    })();\n",
              "  </script>\n",
              "</div>\n",
              "\n",
              "    </div>\n",
              "  </div>\n"
            ],
            "application/vnd.google.colaboratory.intrinsic+json": {
              "type": "dataframe",
              "summary": "{\n  \"name\": \"monai_prostate158_pz_qin_df[['dsc', 'asd', 'hsdff']]\",\n  \"rows\": 8,\n  \"fields\": [\n    {\n      \"column\": \"dsc\",\n      \"properties\": {\n        \"dtype\": \"number\",\n        \"std\": 10.416695442162336,\n        \"min\": 0.145839,\n        \"max\": 30.0,\n        \"num_unique_values\": 8,\n        \"samples\": [\n          0.6469084333333334,\n          0.7087870000000001,\n          30.0\n        ],\n        \"semantic_type\": \"\",\n        \"description\": \"\"\n      }\n    },\n    {\n      \"column\": \"asd\",\n      \"properties\": {\n        \"dtype\": \"number\",\n        \"std\": 10.606601717798213,\n        \"min\": 0.0,\n        \"max\": 30.0,\n        \"num_unique_values\": 2,\n        \"samples\": [\n          0.0,\n          30.0\n        ],\n        \"semantic_type\": \"\",\n        \"description\": \"\"\n      }\n    },\n    {\n      \"column\": \"hsdff\",\n      \"properties\": {\n        \"dtype\": \"number\",\n        \"std\": 13.562582952241035,\n        \"min\": 6.144385,\n        \"max\": 46.185635,\n        \"num_unique_values\": 8,\n        \"samples\": [\n          14.345312933333336,\n          12.778871500000001\n        ],\n        \"semantic_type\": \"\",\n        \"description\": \"\"\n      }\n    }\n  ]\n}"
            }
          },
          "metadata": {},
          "execution_count": 142
        }
      ]
    },
    {
      "cell_type": "markdown",
      "metadata": {
        "id": "1ujRhb7EM485"
      },
      "source": [
        "### Prostate MRI US Biopsy\n"
      ]
    },
    {
      "cell_type": "markdown",
      "metadata": {
        "id": "AVDD_VP1M486"
      },
      "source": [
        "#### Whole prostate\n"
      ]
    },
    {
      "cell_type": "code",
      "execution_count": null,
      "metadata": {
        "colab": {
          "base_uri": "https://localhost:8080/"
        },
        "id": "PuO2cdPSM486",
        "outputId": "979ac96f-6a9f-4e60-86e5-45d5a1d41d87"
      },
      "outputs": [
        {
          "output_type": "stream",
          "name": "stdout",
          "text": [
            "<class 'pandas.core.frame.DataFrame'>\n",
            "Index: 3947 entries, 76 to 4908\n",
            "Data columns (total 62 columns):\n",
            " #   Column                                Non-Null Count  Dtype  \n",
            "---  ------                                --------------  -----  \n",
            " 0   segmentationInstanceUID               3945 non-null   object \n",
            " 1   sourceSegmentedSeriesUID              3945 non-null   object \n",
            " 2   expert_QuantityCodeMeaning            3947 non-null   object \n",
            " 3   expert_QuantityCodeValue              3947 non-null   object \n",
            " 4   expert_Value                          3947 non-null   object \n",
            " 5   expert_UnitsCodeValue                 3947 non-null   object \n",
            " 6   expert_UnitsCodeMeaning               3947 non-null   object \n",
            " 7   expert_findingSiteCodeValue           3947 non-null   object \n",
            " 8   expert_findingSiteCodeMeaning         3947 non-null   object \n",
            " 9   ai_QuantityCodeMeaning                3945 non-null   object \n",
            " 10  ai_QuantityCodeValue                  3945 non-null   object \n",
            " 11  ai_QuantityCodingSchemeDesignator     3945 non-null   object \n",
            " 12  ai_Value                              3945 non-null   object \n",
            " 13  ai_UnitsCodeValue                     3945 non-null   object \n",
            " 14  ai_UnitsCodeMeaning                   3945 non-null   object \n",
            " 15  ai_findingSiteCodeValue               3945 non-null   object \n",
            " 16  ai_findingSiteCodeMeaning             3945 non-null   object \n",
            " 17  StudyInstanceUID                      3947 non-null   object \n",
            " 18  SeriesInstanceUID                     3947 non-null   object \n",
            " 19  SegmentedPropertyCategoryCodeValue    3947 non-null   object \n",
            " 20  SegmentedPropertyCategoryCodeMeaning  3947 non-null   object \n",
            " 21  SegmentedPropertyTypeCodeValue        3947 non-null   object \n",
            " 22  SegmentedPropertyTypeCodeMeaning      3947 non-null   object \n",
            " 23  SegmentAlgorithmType                  3947 non-null   object \n",
            " 24  SegmentNumber                         3947 non-null   Int64  \n",
            " 25  segmented_SeriesInstanceUID           3947 non-null   object \n",
            " 26  expert_measurements_SOPInstanceUID    3947 non-null   object \n",
            " 27  segmentation_SOPInstanceUID           3947 non-null   object \n",
            " 28  refSerieUID                           3947 non-null   object \n",
            " 29  ai_seg_serieUID                       3947 non-null   object \n",
            " 30  idc_seg_serieUID                      3947 non-null   object \n",
            " 31  aiSegmentNumber                       3947 non-null   Int64  \n",
            " 32  idcSegmentNumber                      3947 non-null   Int64  \n",
            " 33  idcSegmentCodeMeaning                 3947 non-null   object \n",
            " 34  aiSegmentCodeMeaning                  3947 non-null   object \n",
            " 35  aiSegmentCodeValue                    3947 non-null   Int64  \n",
            " 36  idcSegmentCodeValue                   3947 non-null   object \n",
            " 37  aiSegmentCodingScheme                 3947 non-null   object \n",
            " 38  idcSegmentCodingScheme                3947 non-null   object \n",
            " 39  dsc                                   3947 non-null   float64\n",
            " 40  hsdff                                 3947 non-null   float64\n",
            " 41  hsdff_95                              3947 non-null   float64\n",
            " 42  tp                                    3947 non-null   Int64  \n",
            " 43  fp                                    3947 non-null   Int64  \n",
            " 44  tn                                    3947 non-null   Int64  \n",
            " 45  fn                                    3947 non-null   Int64  \n",
            " 46  asd                                   3947 non-null   float64\n",
            " 47  collection_id                         3947 non-null   object \n",
            " 48  image_SeriesInstanceUID               3947 non-null   object \n",
            " 49  image_PixelSpacing                    3947 non-null   object \n",
            " 50  image_SliceThickness                  3947 non-null   float64\n",
            " 51  image_MagneticFieldStrength           3947 non-null   object \n",
            " 52  image_SeriesDate                      3947 non-null   dbdate \n",
            " 53  image_StudyDate                       3947 non-null   dbdate \n",
            " 54  image_StudyDescription                3947 non-null   object \n",
            " 55  image_StudyDescription_1              3947 non-null   object \n",
            " 56  image_Manufacturer                    3947 non-null   object \n",
            " 57  image_ManufacturerModelName           3947 non-null   object \n",
            " 58  image_PatientID                       3947 non-null   object \n",
            " 59  SegmentAlgorithmName                  3947 non-null   object \n",
            " 60  ohif_url                              3947 non-null   object \n",
            " 61  algorithmNameCollection               3947 non-null   object \n",
            "dtypes: Int64(8), dbdate(2), float64(5), object(47)\n",
            "memory usage: 1.9+ MB\n"
          ]
        }
      ],
      "source": [
        "prostate_mri_us_biopsy_df = data_df[(data_df.collection_id == 'prostate_mri_us_biopsy') & (data_df.SegmentedPropertyTypeCodeMeaning.isin(['Prostate', 'Prostatic structure']))]\n",
        "prostate_mri_us_biopsy_df.info()"
      ]
    },
    {
      "cell_type": "code",
      "execution_count": null,
      "metadata": {
        "colab": {
          "base_uri": "https://localhost:8080/"
        },
        "id": "lnkvffHfM486",
        "outputId": "7fc11141-494c-4542-fad5-c16bd5a9e53d"
      },
      "outputs": [
        {
          "output_type": "execute_result",
          "data": {
            "text/plain": [
              "array(['bamf_nnunet_mr_prostate-prostate_mri_us_biopsy',\n",
              "       'nnunet_prostate_task24-prostate_mri_us_biopsy',\n",
              "       'nnunet_prostate_zonal_task05-prostate_mri_us_biopsy',\n",
              "       'monai_prostate158-prostate_mri_us_biopsy'], dtype=object)"
            ]
          },
          "metadata": {},
          "execution_count": 144
        }
      ],
      "source": [
        "prostate_mri_us_biopsy_df.algorithmNameCollection.unique()"
      ]
    },
    {
      "cell_type": "code",
      "execution_count": null,
      "metadata": {
        "id": "OBW-KQkXM486"
      },
      "outputs": [],
      "source": [
        "nnunet_task024_prostate_prostate_mri_us_biopsy_df = prostate_mri_us_biopsy_df[prostate_mri_us_biopsy_df.algorithmNameCollection \\\n",
        "    == 'nnunet_prostate_task24-prostate_mri_us_biopsy']\n",
        "monai_prostate158_prostate_prostate_mri_us_biopsy_df = prostate_mri_us_biopsy_df[prostate_mri_us_biopsy_df.algorithmNameCollection \\\n",
        "    == 'monai_prostate158-prostate_mri_us_biopsy']\n",
        "nnunet_task05_prostate_mri_us_biopsy_df = prostate_mri_us_biopsy_df[prostate_mri_us_biopsy_df.algorithmNameCollection \\\n",
        "    == 'nnunet_prostate_zonal_task05-prostate_mri_us_biopsy']\n",
        "bamf_nnunet_mr_prostate_prostate_mri_us_biopsy_df = prostate_mri_us_biopsy_df[prostate_mri_us_biopsy_df.algorithmNameCollection \\\n",
        "    == 'bamf_nnunet_mr_prostate-prostate_mri_us_biopsy']"
      ]
    },
    {
      "cell_type": "code",
      "execution_count": null,
      "metadata": {
        "colab": {
          "base_uri": "https://localhost:8080/"
        },
        "id": "5_ZPv9mBM486",
        "outputId": "85583704-2a32-4d17-c82f-a929c48021a5"
      },
      "outputs": [
        {
          "output_type": "stream",
          "name": "stdout",
          "text": [
            "nnunet task024 model DSC mean and std for prostate:       0.86/0.09\n",
            "nnunet monai prostate158 DSC model mean and std for prostate:       0.88/0.07\n",
            "nnunet_prostate_zonal_task05 DSC model mean and std for prostate:       0.79/0.16\n",
            "bamf_nnunet_mr_prostate DSC model mean and std for prostate:       0.89/0.05\n"
          ]
        }
      ],
      "source": [
        "print(f\"nnunet task024 model DSC mean and std for prostate: \\\n",
        "      {round(np.mean(nnunet_task024_prostate_prostate_mri_us_biopsy_df.dsc.values),2)}/{round(np.std(nnunet_task024_prostate_prostate_mri_us_biopsy_df.dsc.values),2)}\")\n",
        "print(f\"nnunet monai prostate158 DSC model mean and std for prostate: \\\n",
        "      {round(np.mean(monai_prostate158_prostate_prostate_mri_us_biopsy_df.dsc.values),2)}/{round(np.std(monai_prostate158_prostate_prostate_mri_us_biopsy_df.dsc.values),2)}\")\n",
        "print(f\"nnunet_prostate_zonal_task05 DSC model mean and std for prostate: \\\n",
        "      {round(np.mean(nnunet_task05_prostate_mri_us_biopsy_df.dsc.values),2)}/{round(np.std(nnunet_task05_prostate_mri_us_biopsy_df.dsc.values),2)}\")\n",
        "print(f\"bamf_nnunet_mr_prostate DSC model mean and std for prostate: \\\n",
        "      {round(np.mean(bamf_nnunet_mr_prostate_prostate_mri_us_biopsy_df.dsc.values),2)}/{round(np.std(bamf_nnunet_mr_prostate_prostate_mri_us_biopsy_df.dsc.values),2)}\")"
      ]
    },
    {
      "cell_type": "code",
      "source": [
        "print(len(nnunet_task024_prostate_prostate_mri_us_biopsy_df))\n",
        "print(len(monai_prostate158_prostate_prostate_mri_us_biopsy_df))\n",
        "print(len(nnunet_task05_prostate_mri_us_biopsy_df))\n",
        "print(len(bamf_nnunet_mr_prostate_prostate_mri_us_biopsy_df))"
      ],
      "metadata": {
        "colab": {
          "base_uri": "https://localhost:8080/"
        },
        "id": "3CxKRXaePsTf",
        "outputId": "26625ff2-cd9a-449c-eddc-bc90cd0663a5"
      },
      "execution_count": null,
      "outputs": [
        {
          "output_type": "stream",
          "name": "stdout",
          "text": [
            "987\n",
            "987\n",
            "987\n",
            "986\n"
          ]
        }
      ]
    },
    {
      "cell_type": "code",
      "source": [
        "assert sorted(nnunet_task024_prostate_prostate_mri_us_biopsy_df.refSerieUID.unique()) == sorted(monai_prostate158_prostate_prostate_mri_us_biopsy_df.refSerieUID.unique()) \\\n",
        "== sorted(nnunet_task05_prostate_mri_us_biopsy_df.refSerieUID.unique()) \\\n",
        "# == sorted(bamf_nnunet_mr_prostate_prostate_mri_us_biopsy_df.refSerieUID.unique())"
      ],
      "metadata": {
        "id": "9272FyaqQED4"
      },
      "execution_count": null,
      "outputs": []
    },
    {
      "cell_type": "code",
      "execution_count": null,
      "metadata": {
        "colab": {
          "base_uri": "https://localhost:8080/"
        },
        "id": "6j_xQiFlM486",
        "outputId": "470dda94-e557-4859-bdaf-b0f35f729373"
      },
      "outputs": [
        {
          "output_type": "stream",
          "name": "stdout",
          "text": [
            "Statistics=0.621, p=0.000\n",
            "Sample does not look Gaussian (reject H0)\n",
            "\n",
            "\n"
          ]
        }
      ],
      "source": [
        "stat, p = shapiro(nnunet_task024_prostate_prostate_mri_us_biopsy_df.dsc.values)\n",
        "print('Statistics=%.3f, p=%.3f' % (stat, p))\n",
        "# interpret\n",
        "alpha = 0.05\n",
        "if p > alpha:\n",
        "    print('Sample looks Gaussian (fail to reject H0)')\n",
        "else:\n",
        "    print('Sample does not look Gaussian (reject H0)')\n",
        "print(\"\\n\")"
      ]
    },
    {
      "cell_type": "code",
      "execution_count": null,
      "metadata": {
        "id": "znxJhxsCM486"
      },
      "outputs": [],
      "source": [
        "# from statsmodels.stats.anova import AnovaRM\n",
        "\n",
        "# # Create the data\n",
        "\n",
        "# # Conduct the repeated measures ANOVA\n",
        "# print(AnovaRM(data=prostate_mri_us_biopsy_df, depvar='dsc',\n",
        "#               subject='refSerieUID', within=['algorithmNameCollection']).fit())"
      ]
    },
    {
      "cell_type": "markdown",
      "metadata": {
        "id": "2mHpfWsYM487"
      },
      "source": [
        "A one-way repeated measures ANOVA is conducted on 1017 individuals to interpret the effect of 2 different models on the dice score relative to the ground truth for prostate mri us biopsy collection. Results showed that the the two models are statistically significant different in response time (F(2, 1016) = 12.91, p < 0.0003).\n"
      ]
    },
    {
      "cell_type": "code",
      "execution_count": null,
      "metadata": {
        "colab": {
          "base_uri": "https://localhost:8080/",
          "height": 300
        },
        "id": "5nZZCVquM487",
        "outputId": "67f04626-71bd-4562-e4ed-e3278c577eed"
      },
      "outputs": [
        {
          "output_type": "execute_result",
          "data": {
            "text/plain": [
              "              dsc         asd       hsdff\n",
              "count  987.000000  987.000000  987.000000\n",
              "mean     0.860779    2.322057   12.123365\n",
              "std      0.088090    5.260633   16.960390\n",
              "min      0.098355    0.470000    3.327098\n",
              "25%      0.847275    1.070000    6.141153\n",
              "50%      0.883263    1.340000    7.616687\n",
              "75%      0.907840    1.815000   10.139081\n",
              "max      0.945701   55.300000  123.988251"
            ],
            "text/html": [
              "\n",
              "  <div id=\"df-32627b81-7eac-4629-ba85-4cb7abfa4de2\" class=\"colab-df-container\">\n",
              "    <div>\n",
              "<style scoped>\n",
              "    .dataframe tbody tr th:only-of-type {\n",
              "        vertical-align: middle;\n",
              "    }\n",
              "\n",
              "    .dataframe tbody tr th {\n",
              "        vertical-align: top;\n",
              "    }\n",
              "\n",
              "    .dataframe thead th {\n",
              "        text-align: right;\n",
              "    }\n",
              "</style>\n",
              "<table border=\"1\" class=\"dataframe\">\n",
              "  <thead>\n",
              "    <tr style=\"text-align: right;\">\n",
              "      <th></th>\n",
              "      <th>dsc</th>\n",
              "      <th>asd</th>\n",
              "      <th>hsdff</th>\n",
              "    </tr>\n",
              "  </thead>\n",
              "  <tbody>\n",
              "    <tr>\n",
              "      <th>count</th>\n",
              "      <td>987.000000</td>\n",
              "      <td>987.000000</td>\n",
              "      <td>987.000000</td>\n",
              "    </tr>\n",
              "    <tr>\n",
              "      <th>mean</th>\n",
              "      <td>0.860779</td>\n",
              "      <td>2.322057</td>\n",
              "      <td>12.123365</td>\n",
              "    </tr>\n",
              "    <tr>\n",
              "      <th>std</th>\n",
              "      <td>0.088090</td>\n",
              "      <td>5.260633</td>\n",
              "      <td>16.960390</td>\n",
              "    </tr>\n",
              "    <tr>\n",
              "      <th>min</th>\n",
              "      <td>0.098355</td>\n",
              "      <td>0.470000</td>\n",
              "      <td>3.327098</td>\n",
              "    </tr>\n",
              "    <tr>\n",
              "      <th>25%</th>\n",
              "      <td>0.847275</td>\n",
              "      <td>1.070000</td>\n",
              "      <td>6.141153</td>\n",
              "    </tr>\n",
              "    <tr>\n",
              "      <th>50%</th>\n",
              "      <td>0.883263</td>\n",
              "      <td>1.340000</td>\n",
              "      <td>7.616687</td>\n",
              "    </tr>\n",
              "    <tr>\n",
              "      <th>75%</th>\n",
              "      <td>0.907840</td>\n",
              "      <td>1.815000</td>\n",
              "      <td>10.139081</td>\n",
              "    </tr>\n",
              "    <tr>\n",
              "      <th>max</th>\n",
              "      <td>0.945701</td>\n",
              "      <td>55.300000</td>\n",
              "      <td>123.988251</td>\n",
              "    </tr>\n",
              "  </tbody>\n",
              "</table>\n",
              "</div>\n",
              "    <div class=\"colab-df-buttons\">\n",
              "\n",
              "  <div class=\"colab-df-container\">\n",
              "    <button class=\"colab-df-convert\" onclick=\"convertToInteractive('df-32627b81-7eac-4629-ba85-4cb7abfa4de2')\"\n",
              "            title=\"Convert this dataframe to an interactive table.\"\n",
              "            style=\"display:none;\">\n",
              "\n",
              "  <svg xmlns=\"http://www.w3.org/2000/svg\" height=\"24px\" viewBox=\"0 -960 960 960\">\n",
              "    <path d=\"M120-120v-720h720v720H120Zm60-500h600v-160H180v160Zm220 220h160v-160H400v160Zm0 220h160v-160H400v160ZM180-400h160v-160H180v160Zm440 0h160v-160H620v160ZM180-180h160v-160H180v160Zm440 0h160v-160H620v160Z\"/>\n",
              "  </svg>\n",
              "    </button>\n",
              "\n",
              "  <style>\n",
              "    .colab-df-container {\n",
              "      display:flex;\n",
              "      gap: 12px;\n",
              "    }\n",
              "\n",
              "    .colab-df-convert {\n",
              "      background-color: #E8F0FE;\n",
              "      border: none;\n",
              "      border-radius: 50%;\n",
              "      cursor: pointer;\n",
              "      display: none;\n",
              "      fill: #1967D2;\n",
              "      height: 32px;\n",
              "      padding: 0 0 0 0;\n",
              "      width: 32px;\n",
              "    }\n",
              "\n",
              "    .colab-df-convert:hover {\n",
              "      background-color: #E2EBFA;\n",
              "      box-shadow: 0px 1px 2px rgba(60, 64, 67, 0.3), 0px 1px 3px 1px rgba(60, 64, 67, 0.15);\n",
              "      fill: #174EA6;\n",
              "    }\n",
              "\n",
              "    .colab-df-buttons div {\n",
              "      margin-bottom: 4px;\n",
              "    }\n",
              "\n",
              "    [theme=dark] .colab-df-convert {\n",
              "      background-color: #3B4455;\n",
              "      fill: #D2E3FC;\n",
              "    }\n",
              "\n",
              "    [theme=dark] .colab-df-convert:hover {\n",
              "      background-color: #434B5C;\n",
              "      box-shadow: 0px 1px 3px 1px rgba(0, 0, 0, 0.15);\n",
              "      filter: drop-shadow(0px 1px 2px rgba(0, 0, 0, 0.3));\n",
              "      fill: #FFFFFF;\n",
              "    }\n",
              "  </style>\n",
              "\n",
              "    <script>\n",
              "      const buttonEl =\n",
              "        document.querySelector('#df-32627b81-7eac-4629-ba85-4cb7abfa4de2 button.colab-df-convert');\n",
              "      buttonEl.style.display =\n",
              "        google.colab.kernel.accessAllowed ? 'block' : 'none';\n",
              "\n",
              "      async function convertToInteractive(key) {\n",
              "        const element = document.querySelector('#df-32627b81-7eac-4629-ba85-4cb7abfa4de2');\n",
              "        const dataTable =\n",
              "          await google.colab.kernel.invokeFunction('convertToInteractive',\n",
              "                                                    [key], {});\n",
              "        if (!dataTable) return;\n",
              "\n",
              "        const docLinkHtml = 'Like what you see? Visit the ' +\n",
              "          '<a target=\"_blank\" href=https://colab.research.google.com/notebooks/data_table.ipynb>data table notebook</a>'\n",
              "          + ' to learn more about interactive tables.';\n",
              "        element.innerHTML = '';\n",
              "        dataTable['output_type'] = 'display_data';\n",
              "        await google.colab.output.renderOutput(dataTable, element);\n",
              "        const docLink = document.createElement('div');\n",
              "        docLink.innerHTML = docLinkHtml;\n",
              "        element.appendChild(docLink);\n",
              "      }\n",
              "    </script>\n",
              "  </div>\n",
              "\n",
              "\n",
              "<div id=\"df-36ca83e6-1ee7-472b-88fe-d0e01a990a2a\">\n",
              "  <button class=\"colab-df-quickchart\" onclick=\"quickchart('df-36ca83e6-1ee7-472b-88fe-d0e01a990a2a')\"\n",
              "            title=\"Suggest charts\"\n",
              "            style=\"display:none;\">\n",
              "\n",
              "<svg xmlns=\"http://www.w3.org/2000/svg\" height=\"24px\"viewBox=\"0 0 24 24\"\n",
              "     width=\"24px\">\n",
              "    <g>\n",
              "        <path d=\"M19 3H5c-1.1 0-2 .9-2 2v14c0 1.1.9 2 2 2h14c1.1 0 2-.9 2-2V5c0-1.1-.9-2-2-2zM9 17H7v-7h2v7zm4 0h-2V7h2v10zm4 0h-2v-4h2v4z\"/>\n",
              "    </g>\n",
              "</svg>\n",
              "  </button>\n",
              "\n",
              "<style>\n",
              "  .colab-df-quickchart {\n",
              "      --bg-color: #E8F0FE;\n",
              "      --fill-color: #1967D2;\n",
              "      --hover-bg-color: #E2EBFA;\n",
              "      --hover-fill-color: #174EA6;\n",
              "      --disabled-fill-color: #AAA;\n",
              "      --disabled-bg-color: #DDD;\n",
              "  }\n",
              "\n",
              "  [theme=dark] .colab-df-quickchart {\n",
              "      --bg-color: #3B4455;\n",
              "      --fill-color: #D2E3FC;\n",
              "      --hover-bg-color: #434B5C;\n",
              "      --hover-fill-color: #FFFFFF;\n",
              "      --disabled-bg-color: #3B4455;\n",
              "      --disabled-fill-color: #666;\n",
              "  }\n",
              "\n",
              "  .colab-df-quickchart {\n",
              "    background-color: var(--bg-color);\n",
              "    border: none;\n",
              "    border-radius: 50%;\n",
              "    cursor: pointer;\n",
              "    display: none;\n",
              "    fill: var(--fill-color);\n",
              "    height: 32px;\n",
              "    padding: 0;\n",
              "    width: 32px;\n",
              "  }\n",
              "\n",
              "  .colab-df-quickchart:hover {\n",
              "    background-color: var(--hover-bg-color);\n",
              "    box-shadow: 0 1px 2px rgba(60, 64, 67, 0.3), 0 1px 3px 1px rgba(60, 64, 67, 0.15);\n",
              "    fill: var(--button-hover-fill-color);\n",
              "  }\n",
              "\n",
              "  .colab-df-quickchart-complete:disabled,\n",
              "  .colab-df-quickchart-complete:disabled:hover {\n",
              "    background-color: var(--disabled-bg-color);\n",
              "    fill: var(--disabled-fill-color);\n",
              "    box-shadow: none;\n",
              "  }\n",
              "\n",
              "  .colab-df-spinner {\n",
              "    border: 2px solid var(--fill-color);\n",
              "    border-color: transparent;\n",
              "    border-bottom-color: var(--fill-color);\n",
              "    animation:\n",
              "      spin 1s steps(1) infinite;\n",
              "  }\n",
              "\n",
              "  @keyframes spin {\n",
              "    0% {\n",
              "      border-color: transparent;\n",
              "      border-bottom-color: var(--fill-color);\n",
              "      border-left-color: var(--fill-color);\n",
              "    }\n",
              "    20% {\n",
              "      border-color: transparent;\n",
              "      border-left-color: var(--fill-color);\n",
              "      border-top-color: var(--fill-color);\n",
              "    }\n",
              "    30% {\n",
              "      border-color: transparent;\n",
              "      border-left-color: var(--fill-color);\n",
              "      border-top-color: var(--fill-color);\n",
              "      border-right-color: var(--fill-color);\n",
              "    }\n",
              "    40% {\n",
              "      border-color: transparent;\n",
              "      border-right-color: var(--fill-color);\n",
              "      border-top-color: var(--fill-color);\n",
              "    }\n",
              "    60% {\n",
              "      border-color: transparent;\n",
              "      border-right-color: var(--fill-color);\n",
              "    }\n",
              "    80% {\n",
              "      border-color: transparent;\n",
              "      border-right-color: var(--fill-color);\n",
              "      border-bottom-color: var(--fill-color);\n",
              "    }\n",
              "    90% {\n",
              "      border-color: transparent;\n",
              "      border-bottom-color: var(--fill-color);\n",
              "    }\n",
              "  }\n",
              "</style>\n",
              "\n",
              "  <script>\n",
              "    async function quickchart(key) {\n",
              "      const quickchartButtonEl =\n",
              "        document.querySelector('#' + key + ' button');\n",
              "      quickchartButtonEl.disabled = true;  // To prevent multiple clicks.\n",
              "      quickchartButtonEl.classList.add('colab-df-spinner');\n",
              "      try {\n",
              "        const charts = await google.colab.kernel.invokeFunction(\n",
              "            'suggestCharts', [key], {});\n",
              "      } catch (error) {\n",
              "        console.error('Error during call to suggestCharts:', error);\n",
              "      }\n",
              "      quickchartButtonEl.classList.remove('colab-df-spinner');\n",
              "      quickchartButtonEl.classList.add('colab-df-quickchart-complete');\n",
              "    }\n",
              "    (() => {\n",
              "      let quickchartButtonEl =\n",
              "        document.querySelector('#df-36ca83e6-1ee7-472b-88fe-d0e01a990a2a button');\n",
              "      quickchartButtonEl.style.display =\n",
              "        google.colab.kernel.accessAllowed ? 'block' : 'none';\n",
              "    })();\n",
              "  </script>\n",
              "</div>\n",
              "\n",
              "    </div>\n",
              "  </div>\n"
            ],
            "application/vnd.google.colaboratory.intrinsic+json": {
              "type": "dataframe",
              "summary": "{\n  \"name\": \"nnunet_task024_prostate_prostate_mri_us_biopsy_df[['dsc', 'asd', 'hsdff']]\",\n  \"rows\": 8,\n  \"fields\": [\n    {\n      \"column\": \"dsc\",\n      \"properties\": {\n        \"dtype\": \"number\",\n        \"std\": 348.7234669673271,\n        \"min\": 0.0880896583802858,\n        \"max\": 987.0,\n        \"num_unique_values\": 8,\n        \"samples\": [\n          0.8607789138804458,\n          0.883263,\n          987.0\n        ],\n        \"semantic_type\": \"\",\n        \"description\": \"\"\n      }\n    },\n    {\n      \"column\": \"asd\",\n      \"properties\": {\n        \"dtype\": \"number\",\n        \"std\": 346.0490982540089,\n        \"min\": 0.47,\n        \"max\": 987.0,\n        \"num_unique_values\": 8,\n        \"samples\": [\n          2.3220567375886527,\n          1.34,\n          987.0\n        ],\n        \"semantic_type\": \"\",\n        \"description\": \"\"\n      }\n    },\n    {\n      \"column\": \"hsdff\",\n      \"properties\": {\n        \"dtype\": \"number\",\n        \"std\": 342.23296462147556,\n        \"min\": 3.327098,\n        \"max\": 987.0,\n        \"num_unique_values\": 8,\n        \"samples\": [\n          12.123364580547111,\n          7.616687,\n          987.0\n        ],\n        \"semantic_type\": \"\",\n        \"description\": \"\"\n      }\n    }\n  ]\n}"
            }
          },
          "metadata": {},
          "execution_count": 157
        }
      ],
      "source": [
        "nnunet_task024_prostate_prostate_mri_us_biopsy_df[['dsc', 'asd', 'hsdff']].describe()"
      ]
    },
    {
      "cell_type": "code",
      "source": [
        "monai_prostate158_prostate_prostate_mri_us_biopsy_df[['dsc', 'asd', 'hsdff']].describe()"
      ],
      "metadata": {
        "colab": {
          "base_uri": "https://localhost:8080/",
          "height": 300
        },
        "id": "OkmkfK7Vzjzg",
        "outputId": "920f8b5d-24d7-4f6a-f3fa-629072c846d3"
      },
      "execution_count": null,
      "outputs": [
        {
          "output_type": "execute_result",
          "data": {
            "text/plain": [
              "              dsc    asd       hsdff\n",
              "count  987.000000  987.0  987.000000\n",
              "mean     0.877274    0.0    8.167896\n",
              "std      0.070457    0.0    5.249672\n",
              "min      0.118061    0.0    3.280841\n",
              "25%      0.864321    0.0    6.000000\n",
              "50%      0.890998    0.0    7.386908\n",
              "75%      0.911101    0.0    9.000000\n",
              "max      0.947781    0.0   68.047989"
            ],
            "text/html": [
              "\n",
              "  <div id=\"df-793265fc-e220-49ff-b493-b8ca1894ab7e\" class=\"colab-df-container\">\n",
              "    <div>\n",
              "<style scoped>\n",
              "    .dataframe tbody tr th:only-of-type {\n",
              "        vertical-align: middle;\n",
              "    }\n",
              "\n",
              "    .dataframe tbody tr th {\n",
              "        vertical-align: top;\n",
              "    }\n",
              "\n",
              "    .dataframe thead th {\n",
              "        text-align: right;\n",
              "    }\n",
              "</style>\n",
              "<table border=\"1\" class=\"dataframe\">\n",
              "  <thead>\n",
              "    <tr style=\"text-align: right;\">\n",
              "      <th></th>\n",
              "      <th>dsc</th>\n",
              "      <th>asd</th>\n",
              "      <th>hsdff</th>\n",
              "    </tr>\n",
              "  </thead>\n",
              "  <tbody>\n",
              "    <tr>\n",
              "      <th>count</th>\n",
              "      <td>987.000000</td>\n",
              "      <td>987.0</td>\n",
              "      <td>987.000000</td>\n",
              "    </tr>\n",
              "    <tr>\n",
              "      <th>mean</th>\n",
              "      <td>0.877274</td>\n",
              "      <td>0.0</td>\n",
              "      <td>8.167896</td>\n",
              "    </tr>\n",
              "    <tr>\n",
              "      <th>std</th>\n",
              "      <td>0.070457</td>\n",
              "      <td>0.0</td>\n",
              "      <td>5.249672</td>\n",
              "    </tr>\n",
              "    <tr>\n",
              "      <th>min</th>\n",
              "      <td>0.118061</td>\n",
              "      <td>0.0</td>\n",
              "      <td>3.280841</td>\n",
              "    </tr>\n",
              "    <tr>\n",
              "      <th>25%</th>\n",
              "      <td>0.864321</td>\n",
              "      <td>0.0</td>\n",
              "      <td>6.000000</td>\n",
              "    </tr>\n",
              "    <tr>\n",
              "      <th>50%</th>\n",
              "      <td>0.890998</td>\n",
              "      <td>0.0</td>\n",
              "      <td>7.386908</td>\n",
              "    </tr>\n",
              "    <tr>\n",
              "      <th>75%</th>\n",
              "      <td>0.911101</td>\n",
              "      <td>0.0</td>\n",
              "      <td>9.000000</td>\n",
              "    </tr>\n",
              "    <tr>\n",
              "      <th>max</th>\n",
              "      <td>0.947781</td>\n",
              "      <td>0.0</td>\n",
              "      <td>68.047989</td>\n",
              "    </tr>\n",
              "  </tbody>\n",
              "</table>\n",
              "</div>\n",
              "    <div class=\"colab-df-buttons\">\n",
              "\n",
              "  <div class=\"colab-df-container\">\n",
              "    <button class=\"colab-df-convert\" onclick=\"convertToInteractive('df-793265fc-e220-49ff-b493-b8ca1894ab7e')\"\n",
              "            title=\"Convert this dataframe to an interactive table.\"\n",
              "            style=\"display:none;\">\n",
              "\n",
              "  <svg xmlns=\"http://www.w3.org/2000/svg\" height=\"24px\" viewBox=\"0 -960 960 960\">\n",
              "    <path d=\"M120-120v-720h720v720H120Zm60-500h600v-160H180v160Zm220 220h160v-160H400v160Zm0 220h160v-160H400v160ZM180-400h160v-160H180v160Zm440 0h160v-160H620v160ZM180-180h160v-160H180v160Zm440 0h160v-160H620v160Z\"/>\n",
              "  </svg>\n",
              "    </button>\n",
              "\n",
              "  <style>\n",
              "    .colab-df-container {\n",
              "      display:flex;\n",
              "      gap: 12px;\n",
              "    }\n",
              "\n",
              "    .colab-df-convert {\n",
              "      background-color: #E8F0FE;\n",
              "      border: none;\n",
              "      border-radius: 50%;\n",
              "      cursor: pointer;\n",
              "      display: none;\n",
              "      fill: #1967D2;\n",
              "      height: 32px;\n",
              "      padding: 0 0 0 0;\n",
              "      width: 32px;\n",
              "    }\n",
              "\n",
              "    .colab-df-convert:hover {\n",
              "      background-color: #E2EBFA;\n",
              "      box-shadow: 0px 1px 2px rgba(60, 64, 67, 0.3), 0px 1px 3px 1px rgba(60, 64, 67, 0.15);\n",
              "      fill: #174EA6;\n",
              "    }\n",
              "\n",
              "    .colab-df-buttons div {\n",
              "      margin-bottom: 4px;\n",
              "    }\n",
              "\n",
              "    [theme=dark] .colab-df-convert {\n",
              "      background-color: #3B4455;\n",
              "      fill: #D2E3FC;\n",
              "    }\n",
              "\n",
              "    [theme=dark] .colab-df-convert:hover {\n",
              "      background-color: #434B5C;\n",
              "      box-shadow: 0px 1px 3px 1px rgba(0, 0, 0, 0.15);\n",
              "      filter: drop-shadow(0px 1px 2px rgba(0, 0, 0, 0.3));\n",
              "      fill: #FFFFFF;\n",
              "    }\n",
              "  </style>\n",
              "\n",
              "    <script>\n",
              "      const buttonEl =\n",
              "        document.querySelector('#df-793265fc-e220-49ff-b493-b8ca1894ab7e button.colab-df-convert');\n",
              "      buttonEl.style.display =\n",
              "        google.colab.kernel.accessAllowed ? 'block' : 'none';\n",
              "\n",
              "      async function convertToInteractive(key) {\n",
              "        const element = document.querySelector('#df-793265fc-e220-49ff-b493-b8ca1894ab7e');\n",
              "        const dataTable =\n",
              "          await google.colab.kernel.invokeFunction('convertToInteractive',\n",
              "                                                    [key], {});\n",
              "        if (!dataTable) return;\n",
              "\n",
              "        const docLinkHtml = 'Like what you see? Visit the ' +\n",
              "          '<a target=\"_blank\" href=https://colab.research.google.com/notebooks/data_table.ipynb>data table notebook</a>'\n",
              "          + ' to learn more about interactive tables.';\n",
              "        element.innerHTML = '';\n",
              "        dataTable['output_type'] = 'display_data';\n",
              "        await google.colab.output.renderOutput(dataTable, element);\n",
              "        const docLink = document.createElement('div');\n",
              "        docLink.innerHTML = docLinkHtml;\n",
              "        element.appendChild(docLink);\n",
              "      }\n",
              "    </script>\n",
              "  </div>\n",
              "\n",
              "\n",
              "<div id=\"df-b45bbf07-500d-48b0-b9a2-d90943a2f85c\">\n",
              "  <button class=\"colab-df-quickchart\" onclick=\"quickchart('df-b45bbf07-500d-48b0-b9a2-d90943a2f85c')\"\n",
              "            title=\"Suggest charts\"\n",
              "            style=\"display:none;\">\n",
              "\n",
              "<svg xmlns=\"http://www.w3.org/2000/svg\" height=\"24px\"viewBox=\"0 0 24 24\"\n",
              "     width=\"24px\">\n",
              "    <g>\n",
              "        <path d=\"M19 3H5c-1.1 0-2 .9-2 2v14c0 1.1.9 2 2 2h14c1.1 0 2-.9 2-2V5c0-1.1-.9-2-2-2zM9 17H7v-7h2v7zm4 0h-2V7h2v10zm4 0h-2v-4h2v4z\"/>\n",
              "    </g>\n",
              "</svg>\n",
              "  </button>\n",
              "\n",
              "<style>\n",
              "  .colab-df-quickchart {\n",
              "      --bg-color: #E8F0FE;\n",
              "      --fill-color: #1967D2;\n",
              "      --hover-bg-color: #E2EBFA;\n",
              "      --hover-fill-color: #174EA6;\n",
              "      --disabled-fill-color: #AAA;\n",
              "      --disabled-bg-color: #DDD;\n",
              "  }\n",
              "\n",
              "  [theme=dark] .colab-df-quickchart {\n",
              "      --bg-color: #3B4455;\n",
              "      --fill-color: #D2E3FC;\n",
              "      --hover-bg-color: #434B5C;\n",
              "      --hover-fill-color: #FFFFFF;\n",
              "      --disabled-bg-color: #3B4455;\n",
              "      --disabled-fill-color: #666;\n",
              "  }\n",
              "\n",
              "  .colab-df-quickchart {\n",
              "    background-color: var(--bg-color);\n",
              "    border: none;\n",
              "    border-radius: 50%;\n",
              "    cursor: pointer;\n",
              "    display: none;\n",
              "    fill: var(--fill-color);\n",
              "    height: 32px;\n",
              "    padding: 0;\n",
              "    width: 32px;\n",
              "  }\n",
              "\n",
              "  .colab-df-quickchart:hover {\n",
              "    background-color: var(--hover-bg-color);\n",
              "    box-shadow: 0 1px 2px rgba(60, 64, 67, 0.3), 0 1px 3px 1px rgba(60, 64, 67, 0.15);\n",
              "    fill: var(--button-hover-fill-color);\n",
              "  }\n",
              "\n",
              "  .colab-df-quickchart-complete:disabled,\n",
              "  .colab-df-quickchart-complete:disabled:hover {\n",
              "    background-color: var(--disabled-bg-color);\n",
              "    fill: var(--disabled-fill-color);\n",
              "    box-shadow: none;\n",
              "  }\n",
              "\n",
              "  .colab-df-spinner {\n",
              "    border: 2px solid var(--fill-color);\n",
              "    border-color: transparent;\n",
              "    border-bottom-color: var(--fill-color);\n",
              "    animation:\n",
              "      spin 1s steps(1) infinite;\n",
              "  }\n",
              "\n",
              "  @keyframes spin {\n",
              "    0% {\n",
              "      border-color: transparent;\n",
              "      border-bottom-color: var(--fill-color);\n",
              "      border-left-color: var(--fill-color);\n",
              "    }\n",
              "    20% {\n",
              "      border-color: transparent;\n",
              "      border-left-color: var(--fill-color);\n",
              "      border-top-color: var(--fill-color);\n",
              "    }\n",
              "    30% {\n",
              "      border-color: transparent;\n",
              "      border-left-color: var(--fill-color);\n",
              "      border-top-color: var(--fill-color);\n",
              "      border-right-color: var(--fill-color);\n",
              "    }\n",
              "    40% {\n",
              "      border-color: transparent;\n",
              "      border-right-color: var(--fill-color);\n",
              "      border-top-color: var(--fill-color);\n",
              "    }\n",
              "    60% {\n",
              "      border-color: transparent;\n",
              "      border-right-color: var(--fill-color);\n",
              "    }\n",
              "    80% {\n",
              "      border-color: transparent;\n",
              "      border-right-color: var(--fill-color);\n",
              "      border-bottom-color: var(--fill-color);\n",
              "    }\n",
              "    90% {\n",
              "      border-color: transparent;\n",
              "      border-bottom-color: var(--fill-color);\n",
              "    }\n",
              "  }\n",
              "</style>\n",
              "\n",
              "  <script>\n",
              "    async function quickchart(key) {\n",
              "      const quickchartButtonEl =\n",
              "        document.querySelector('#' + key + ' button');\n",
              "      quickchartButtonEl.disabled = true;  // To prevent multiple clicks.\n",
              "      quickchartButtonEl.classList.add('colab-df-spinner');\n",
              "      try {\n",
              "        const charts = await google.colab.kernel.invokeFunction(\n",
              "            'suggestCharts', [key], {});\n",
              "      } catch (error) {\n",
              "        console.error('Error during call to suggestCharts:', error);\n",
              "      }\n",
              "      quickchartButtonEl.classList.remove('colab-df-spinner');\n",
              "      quickchartButtonEl.classList.add('colab-df-quickchart-complete');\n",
              "    }\n",
              "    (() => {\n",
              "      let quickchartButtonEl =\n",
              "        document.querySelector('#df-b45bbf07-500d-48b0-b9a2-d90943a2f85c button');\n",
              "      quickchartButtonEl.style.display =\n",
              "        google.colab.kernel.accessAllowed ? 'block' : 'none';\n",
              "    })();\n",
              "  </script>\n",
              "</div>\n",
              "\n",
              "    </div>\n",
              "  </div>\n"
            ],
            "application/vnd.google.colaboratory.intrinsic+json": {
              "type": "dataframe",
              "summary": "{\n  \"name\": \"monai_prostate158_prostate_prostate_mri_us_biopsy_df[['dsc', 'asd', 'hsdff']]\",\n  \"rows\": 8,\n  \"fields\": [\n    {\n      \"column\": \"dsc\",\n      \"properties\": {\n        \"dtype\": \"number\",\n        \"std\": 348.7210113875452,\n        \"min\": 0.07045734328593922,\n        \"max\": 987.0,\n        \"num_unique_values\": 8,\n        \"samples\": [\n          0.877274323201621,\n          0.890998,\n          987.0\n        ],\n        \"semantic_type\": \"\",\n        \"description\": \"\"\n      }\n    },\n    {\n      \"column\": \"asd\",\n      \"properties\": {\n        \"dtype\": \"number\",\n        \"std\": 348.9571965155612,\n        \"min\": 0.0,\n        \"max\": 987.0,\n        \"num_unique_values\": 2,\n        \"samples\": [\n          0.0,\n          987.0\n        ],\n        \"semantic_type\": \"\",\n        \"description\": \"\"\n      }\n    },\n    {\n      \"column\": \"hsdff\",\n      \"properties\": {\n        \"dtype\": \"number\",\n        \"std\": 344.2248375026341,\n        \"min\": 3.280841,\n        \"max\": 987.0,\n        \"num_unique_values\": 8,\n        \"samples\": [\n          8.167895931104356,\n          7.386908\n        ],\n        \"semantic_type\": \"\",\n        \"description\": \"\"\n      }\n    }\n  ]\n}"
            }
          },
          "metadata": {},
          "execution_count": 156
        }
      ]
    },
    {
      "cell_type": "code",
      "source": [
        "nnunet_task05_prostate_mri_us_biopsy_df[['dsc', 'asd', 'hsdff']].describe()"
      ],
      "metadata": {
        "colab": {
          "base_uri": "https://localhost:8080/",
          "height": 300
        },
        "id": "e6lZ4oWwRFg6",
        "outputId": "fed702b5-70af-4dd0-8d8c-544598dd0bcf"
      },
      "execution_count": null,
      "outputs": [
        {
          "output_type": "execute_result",
          "data": {
            "text/plain": [
              "              dsc    asd       hsdff\n",
              "count  987.000000  987.0  987.000000\n",
              "mean     0.791721    0.0   34.605413\n",
              "std      0.159527    0.0   34.116988\n",
              "min      0.000000    0.0    3.705794\n",
              "25%      0.765055    0.0    7.920339\n",
              "50%      0.849600    0.0   13.516323\n",
              "75%      0.885800    0.0   70.174370\n",
              "max      0.935007    0.0  140.562119"
            ],
            "text/html": [
              "\n",
              "  <div id=\"df-190cef38-4bed-4cd6-9ff8-b56179feb5ba\" class=\"colab-df-container\">\n",
              "    <div>\n",
              "<style scoped>\n",
              "    .dataframe tbody tr th:only-of-type {\n",
              "        vertical-align: middle;\n",
              "    }\n",
              "\n",
              "    .dataframe tbody tr th {\n",
              "        vertical-align: top;\n",
              "    }\n",
              "\n",
              "    .dataframe thead th {\n",
              "        text-align: right;\n",
              "    }\n",
              "</style>\n",
              "<table border=\"1\" class=\"dataframe\">\n",
              "  <thead>\n",
              "    <tr style=\"text-align: right;\">\n",
              "      <th></th>\n",
              "      <th>dsc</th>\n",
              "      <th>asd</th>\n",
              "      <th>hsdff</th>\n",
              "    </tr>\n",
              "  </thead>\n",
              "  <tbody>\n",
              "    <tr>\n",
              "      <th>count</th>\n",
              "      <td>987.000000</td>\n",
              "      <td>987.0</td>\n",
              "      <td>987.000000</td>\n",
              "    </tr>\n",
              "    <tr>\n",
              "      <th>mean</th>\n",
              "      <td>0.791721</td>\n",
              "      <td>0.0</td>\n",
              "      <td>34.605413</td>\n",
              "    </tr>\n",
              "    <tr>\n",
              "      <th>std</th>\n",
              "      <td>0.159527</td>\n",
              "      <td>0.0</td>\n",
              "      <td>34.116988</td>\n",
              "    </tr>\n",
              "    <tr>\n",
              "      <th>min</th>\n",
              "      <td>0.000000</td>\n",
              "      <td>0.0</td>\n",
              "      <td>3.705794</td>\n",
              "    </tr>\n",
              "    <tr>\n",
              "      <th>25%</th>\n",
              "      <td>0.765055</td>\n",
              "      <td>0.0</td>\n",
              "      <td>7.920339</td>\n",
              "    </tr>\n",
              "    <tr>\n",
              "      <th>50%</th>\n",
              "      <td>0.849600</td>\n",
              "      <td>0.0</td>\n",
              "      <td>13.516323</td>\n",
              "    </tr>\n",
              "    <tr>\n",
              "      <th>75%</th>\n",
              "      <td>0.885800</td>\n",
              "      <td>0.0</td>\n",
              "      <td>70.174370</td>\n",
              "    </tr>\n",
              "    <tr>\n",
              "      <th>max</th>\n",
              "      <td>0.935007</td>\n",
              "      <td>0.0</td>\n",
              "      <td>140.562119</td>\n",
              "    </tr>\n",
              "  </tbody>\n",
              "</table>\n",
              "</div>\n",
              "    <div class=\"colab-df-buttons\">\n",
              "\n",
              "  <div class=\"colab-df-container\">\n",
              "    <button class=\"colab-df-convert\" onclick=\"convertToInteractive('df-190cef38-4bed-4cd6-9ff8-b56179feb5ba')\"\n",
              "            title=\"Convert this dataframe to an interactive table.\"\n",
              "            style=\"display:none;\">\n",
              "\n",
              "  <svg xmlns=\"http://www.w3.org/2000/svg\" height=\"24px\" viewBox=\"0 -960 960 960\">\n",
              "    <path d=\"M120-120v-720h720v720H120Zm60-500h600v-160H180v160Zm220 220h160v-160H400v160Zm0 220h160v-160H400v160ZM180-400h160v-160H180v160Zm440 0h160v-160H620v160ZM180-180h160v-160H180v160Zm440 0h160v-160H620v160Z\"/>\n",
              "  </svg>\n",
              "    </button>\n",
              "\n",
              "  <style>\n",
              "    .colab-df-container {\n",
              "      display:flex;\n",
              "      gap: 12px;\n",
              "    }\n",
              "\n",
              "    .colab-df-convert {\n",
              "      background-color: #E8F0FE;\n",
              "      border: none;\n",
              "      border-radius: 50%;\n",
              "      cursor: pointer;\n",
              "      display: none;\n",
              "      fill: #1967D2;\n",
              "      height: 32px;\n",
              "      padding: 0 0 0 0;\n",
              "      width: 32px;\n",
              "    }\n",
              "\n",
              "    .colab-df-convert:hover {\n",
              "      background-color: #E2EBFA;\n",
              "      box-shadow: 0px 1px 2px rgba(60, 64, 67, 0.3), 0px 1px 3px 1px rgba(60, 64, 67, 0.15);\n",
              "      fill: #174EA6;\n",
              "    }\n",
              "\n",
              "    .colab-df-buttons div {\n",
              "      margin-bottom: 4px;\n",
              "    }\n",
              "\n",
              "    [theme=dark] .colab-df-convert {\n",
              "      background-color: #3B4455;\n",
              "      fill: #D2E3FC;\n",
              "    }\n",
              "\n",
              "    [theme=dark] .colab-df-convert:hover {\n",
              "      background-color: #434B5C;\n",
              "      box-shadow: 0px 1px 3px 1px rgba(0, 0, 0, 0.15);\n",
              "      filter: drop-shadow(0px 1px 2px rgba(0, 0, 0, 0.3));\n",
              "      fill: #FFFFFF;\n",
              "    }\n",
              "  </style>\n",
              "\n",
              "    <script>\n",
              "      const buttonEl =\n",
              "        document.querySelector('#df-190cef38-4bed-4cd6-9ff8-b56179feb5ba button.colab-df-convert');\n",
              "      buttonEl.style.display =\n",
              "        google.colab.kernel.accessAllowed ? 'block' : 'none';\n",
              "\n",
              "      async function convertToInteractive(key) {\n",
              "        const element = document.querySelector('#df-190cef38-4bed-4cd6-9ff8-b56179feb5ba');\n",
              "        const dataTable =\n",
              "          await google.colab.kernel.invokeFunction('convertToInteractive',\n",
              "                                                    [key], {});\n",
              "        if (!dataTable) return;\n",
              "\n",
              "        const docLinkHtml = 'Like what you see? Visit the ' +\n",
              "          '<a target=\"_blank\" href=https://colab.research.google.com/notebooks/data_table.ipynb>data table notebook</a>'\n",
              "          + ' to learn more about interactive tables.';\n",
              "        element.innerHTML = '';\n",
              "        dataTable['output_type'] = 'display_data';\n",
              "        await google.colab.output.renderOutput(dataTable, element);\n",
              "        const docLink = document.createElement('div');\n",
              "        docLink.innerHTML = docLinkHtml;\n",
              "        element.appendChild(docLink);\n",
              "      }\n",
              "    </script>\n",
              "  </div>\n",
              "\n",
              "\n",
              "<div id=\"df-8a3cdf96-bcb0-4da0-8bc1-0e01c2a5a647\">\n",
              "  <button class=\"colab-df-quickchart\" onclick=\"quickchart('df-8a3cdf96-bcb0-4da0-8bc1-0e01c2a5a647')\"\n",
              "            title=\"Suggest charts\"\n",
              "            style=\"display:none;\">\n",
              "\n",
              "<svg xmlns=\"http://www.w3.org/2000/svg\" height=\"24px\"viewBox=\"0 0 24 24\"\n",
              "     width=\"24px\">\n",
              "    <g>\n",
              "        <path d=\"M19 3H5c-1.1 0-2 .9-2 2v14c0 1.1.9 2 2 2h14c1.1 0 2-.9 2-2V5c0-1.1-.9-2-2-2zM9 17H7v-7h2v7zm4 0h-2V7h2v10zm4 0h-2v-4h2v4z\"/>\n",
              "    </g>\n",
              "</svg>\n",
              "  </button>\n",
              "\n",
              "<style>\n",
              "  .colab-df-quickchart {\n",
              "      --bg-color: #E8F0FE;\n",
              "      --fill-color: #1967D2;\n",
              "      --hover-bg-color: #E2EBFA;\n",
              "      --hover-fill-color: #174EA6;\n",
              "      --disabled-fill-color: #AAA;\n",
              "      --disabled-bg-color: #DDD;\n",
              "  }\n",
              "\n",
              "  [theme=dark] .colab-df-quickchart {\n",
              "      --bg-color: #3B4455;\n",
              "      --fill-color: #D2E3FC;\n",
              "      --hover-bg-color: #434B5C;\n",
              "      --hover-fill-color: #FFFFFF;\n",
              "      --disabled-bg-color: #3B4455;\n",
              "      --disabled-fill-color: #666;\n",
              "  }\n",
              "\n",
              "  .colab-df-quickchart {\n",
              "    background-color: var(--bg-color);\n",
              "    border: none;\n",
              "    border-radius: 50%;\n",
              "    cursor: pointer;\n",
              "    display: none;\n",
              "    fill: var(--fill-color);\n",
              "    height: 32px;\n",
              "    padding: 0;\n",
              "    width: 32px;\n",
              "  }\n",
              "\n",
              "  .colab-df-quickchart:hover {\n",
              "    background-color: var(--hover-bg-color);\n",
              "    box-shadow: 0 1px 2px rgba(60, 64, 67, 0.3), 0 1px 3px 1px rgba(60, 64, 67, 0.15);\n",
              "    fill: var(--button-hover-fill-color);\n",
              "  }\n",
              "\n",
              "  .colab-df-quickchart-complete:disabled,\n",
              "  .colab-df-quickchart-complete:disabled:hover {\n",
              "    background-color: var(--disabled-bg-color);\n",
              "    fill: var(--disabled-fill-color);\n",
              "    box-shadow: none;\n",
              "  }\n",
              "\n",
              "  .colab-df-spinner {\n",
              "    border: 2px solid var(--fill-color);\n",
              "    border-color: transparent;\n",
              "    border-bottom-color: var(--fill-color);\n",
              "    animation:\n",
              "      spin 1s steps(1) infinite;\n",
              "  }\n",
              "\n",
              "  @keyframes spin {\n",
              "    0% {\n",
              "      border-color: transparent;\n",
              "      border-bottom-color: var(--fill-color);\n",
              "      border-left-color: var(--fill-color);\n",
              "    }\n",
              "    20% {\n",
              "      border-color: transparent;\n",
              "      border-left-color: var(--fill-color);\n",
              "      border-top-color: var(--fill-color);\n",
              "    }\n",
              "    30% {\n",
              "      border-color: transparent;\n",
              "      border-left-color: var(--fill-color);\n",
              "      border-top-color: var(--fill-color);\n",
              "      border-right-color: var(--fill-color);\n",
              "    }\n",
              "    40% {\n",
              "      border-color: transparent;\n",
              "      border-right-color: var(--fill-color);\n",
              "      border-top-color: var(--fill-color);\n",
              "    }\n",
              "    60% {\n",
              "      border-color: transparent;\n",
              "      border-right-color: var(--fill-color);\n",
              "    }\n",
              "    80% {\n",
              "      border-color: transparent;\n",
              "      border-right-color: var(--fill-color);\n",
              "      border-bottom-color: var(--fill-color);\n",
              "    }\n",
              "    90% {\n",
              "      border-color: transparent;\n",
              "      border-bottom-color: var(--fill-color);\n",
              "    }\n",
              "  }\n",
              "</style>\n",
              "\n",
              "  <script>\n",
              "    async function quickchart(key) {\n",
              "      const quickchartButtonEl =\n",
              "        document.querySelector('#' + key + ' button');\n",
              "      quickchartButtonEl.disabled = true;  // To prevent multiple clicks.\n",
              "      quickchartButtonEl.classList.add('colab-df-spinner');\n",
              "      try {\n",
              "        const charts = await google.colab.kernel.invokeFunction(\n",
              "            'suggestCharts', [key], {});\n",
              "      } catch (error) {\n",
              "        console.error('Error during call to suggestCharts:', error);\n",
              "      }\n",
              "      quickchartButtonEl.classList.remove('colab-df-spinner');\n",
              "      quickchartButtonEl.classList.add('colab-df-quickchart-complete');\n",
              "    }\n",
              "    (() => {\n",
              "      let quickchartButtonEl =\n",
              "        document.querySelector('#df-8a3cdf96-bcb0-4da0-8bc1-0e01c2a5a647 button');\n",
              "      quickchartButtonEl.style.display =\n",
              "        google.colab.kernel.accessAllowed ? 'block' : 'none';\n",
              "    })();\n",
              "  </script>\n",
              "</div>\n",
              "\n",
              "    </div>\n",
              "  </div>\n"
            ],
            "application/vnd.google.colaboratory.intrinsic+json": {
              "type": "dataframe",
              "summary": "{\n  \"name\": \"nnunet_task05_prostate_mri_us_biopsy_df[['dsc', 'asd', 'hsdff']]\",\n  \"rows\": 8,\n  \"fields\": [\n    {\n      \"column\": \"dsc\",\n      \"properties\": {\n        \"dtype\": \"number\",\n        \"std\": 348.73581228339435,\n        \"min\": 0.0,\n        \"max\": 987.0,\n        \"num_unique_values\": 8,\n        \"samples\": [\n          0.7917205450861196,\n          0.8496,\n          987.0\n        ],\n        \"semantic_type\": \"\",\n        \"description\": \"\"\n      }\n    },\n    {\n      \"column\": \"asd\",\n      \"properties\": {\n        \"dtype\": \"number\",\n        \"std\": 348.9571965155612,\n        \"min\": 0.0,\n        \"max\": 987.0,\n        \"num_unique_values\": 2,\n        \"samples\": [\n          0.0,\n          987.0\n        ],\n        \"semantic_type\": \"\",\n        \"description\": \"\"\n      }\n    },\n    {\n      \"column\": \"hsdff\",\n      \"properties\": {\n        \"dtype\": \"number\",\n        \"std\": 336.5672414043588,\n        \"min\": 3.705794,\n        \"max\": 987.0,\n        \"num_unique_values\": 8,\n        \"samples\": [\n          34.605413257345496,\n          13.516323\n        ],\n        \"semantic_type\": \"\",\n        \"description\": \"\"\n      }\n    }\n  ]\n}"
            }
          },
          "metadata": {},
          "execution_count": 158
        }
      ]
    },
    {
      "cell_type": "code",
      "source": [
        "bamf_nnunet_mr_prostate_prostate_mri_us_biopsy_df[['dsc', 'asd', 'hsdff']].describe()"
      ],
      "metadata": {
        "id": "BqNerwbNRtkw",
        "outputId": "7932cb93-be0e-4e0e-9dba-3846dbbf84a5",
        "colab": {
          "base_uri": "https://localhost:8080/",
          "height": 300
        }
      },
      "execution_count": null,
      "outputs": [
        {
          "output_type": "execute_result",
          "data": {
            "text/plain": [
              "              dsc         asd       hsdff\n",
              "count  986.000000  986.000000  986.000000\n",
              "mean     0.888093    1.274655    7.354920\n",
              "std      0.053950    0.728535    4.994203\n",
              "min      0.127535    0.260000    2.394311\n",
              "25%      0.871351    0.910000    5.269408\n",
              "50%      0.898211    1.130000    6.450957\n",
              "75%      0.919391    1.447500    7.996040\n",
              "max      0.955951   12.390000   77.254585"
            ],
            "text/html": [
              "\n",
              "  <div id=\"df-b3b03d9c-a429-4018-bbc6-0b29fd52adeb\" class=\"colab-df-container\">\n",
              "    <div>\n",
              "<style scoped>\n",
              "    .dataframe tbody tr th:only-of-type {\n",
              "        vertical-align: middle;\n",
              "    }\n",
              "\n",
              "    .dataframe tbody tr th {\n",
              "        vertical-align: top;\n",
              "    }\n",
              "\n",
              "    .dataframe thead th {\n",
              "        text-align: right;\n",
              "    }\n",
              "</style>\n",
              "<table border=\"1\" class=\"dataframe\">\n",
              "  <thead>\n",
              "    <tr style=\"text-align: right;\">\n",
              "      <th></th>\n",
              "      <th>dsc</th>\n",
              "      <th>asd</th>\n",
              "      <th>hsdff</th>\n",
              "    </tr>\n",
              "  </thead>\n",
              "  <tbody>\n",
              "    <tr>\n",
              "      <th>count</th>\n",
              "      <td>986.000000</td>\n",
              "      <td>986.000000</td>\n",
              "      <td>986.000000</td>\n",
              "    </tr>\n",
              "    <tr>\n",
              "      <th>mean</th>\n",
              "      <td>0.888093</td>\n",
              "      <td>1.274655</td>\n",
              "      <td>7.354920</td>\n",
              "    </tr>\n",
              "    <tr>\n",
              "      <th>std</th>\n",
              "      <td>0.053950</td>\n",
              "      <td>0.728535</td>\n",
              "      <td>4.994203</td>\n",
              "    </tr>\n",
              "    <tr>\n",
              "      <th>min</th>\n",
              "      <td>0.127535</td>\n",
              "      <td>0.260000</td>\n",
              "      <td>2.394311</td>\n",
              "    </tr>\n",
              "    <tr>\n",
              "      <th>25%</th>\n",
              "      <td>0.871351</td>\n",
              "      <td>0.910000</td>\n",
              "      <td>5.269408</td>\n",
              "    </tr>\n",
              "    <tr>\n",
              "      <th>50%</th>\n",
              "      <td>0.898211</td>\n",
              "      <td>1.130000</td>\n",
              "      <td>6.450957</td>\n",
              "    </tr>\n",
              "    <tr>\n",
              "      <th>75%</th>\n",
              "      <td>0.919391</td>\n",
              "      <td>1.447500</td>\n",
              "      <td>7.996040</td>\n",
              "    </tr>\n",
              "    <tr>\n",
              "      <th>max</th>\n",
              "      <td>0.955951</td>\n",
              "      <td>12.390000</td>\n",
              "      <td>77.254585</td>\n",
              "    </tr>\n",
              "  </tbody>\n",
              "</table>\n",
              "</div>\n",
              "    <div class=\"colab-df-buttons\">\n",
              "\n",
              "  <div class=\"colab-df-container\">\n",
              "    <button class=\"colab-df-convert\" onclick=\"convertToInteractive('df-b3b03d9c-a429-4018-bbc6-0b29fd52adeb')\"\n",
              "            title=\"Convert this dataframe to an interactive table.\"\n",
              "            style=\"display:none;\">\n",
              "\n",
              "  <svg xmlns=\"http://www.w3.org/2000/svg\" height=\"24px\" viewBox=\"0 -960 960 960\">\n",
              "    <path d=\"M120-120v-720h720v720H120Zm60-500h600v-160H180v160Zm220 220h160v-160H400v160Zm0 220h160v-160H400v160ZM180-400h160v-160H180v160Zm440 0h160v-160H620v160ZM180-180h160v-160H180v160Zm440 0h160v-160H620v160Z\"/>\n",
              "  </svg>\n",
              "    </button>\n",
              "\n",
              "  <style>\n",
              "    .colab-df-container {\n",
              "      display:flex;\n",
              "      gap: 12px;\n",
              "    }\n",
              "\n",
              "    .colab-df-convert {\n",
              "      background-color: #E8F0FE;\n",
              "      border: none;\n",
              "      border-radius: 50%;\n",
              "      cursor: pointer;\n",
              "      display: none;\n",
              "      fill: #1967D2;\n",
              "      height: 32px;\n",
              "      padding: 0 0 0 0;\n",
              "      width: 32px;\n",
              "    }\n",
              "\n",
              "    .colab-df-convert:hover {\n",
              "      background-color: #E2EBFA;\n",
              "      box-shadow: 0px 1px 2px rgba(60, 64, 67, 0.3), 0px 1px 3px 1px rgba(60, 64, 67, 0.15);\n",
              "      fill: #174EA6;\n",
              "    }\n",
              "\n",
              "    .colab-df-buttons div {\n",
              "      margin-bottom: 4px;\n",
              "    }\n",
              "\n",
              "    [theme=dark] .colab-df-convert {\n",
              "      background-color: #3B4455;\n",
              "      fill: #D2E3FC;\n",
              "    }\n",
              "\n",
              "    [theme=dark] .colab-df-convert:hover {\n",
              "      background-color: #434B5C;\n",
              "      box-shadow: 0px 1px 3px 1px rgba(0, 0, 0, 0.15);\n",
              "      filter: drop-shadow(0px 1px 2px rgba(0, 0, 0, 0.3));\n",
              "      fill: #FFFFFF;\n",
              "    }\n",
              "  </style>\n",
              "\n",
              "    <script>\n",
              "      const buttonEl =\n",
              "        document.querySelector('#df-b3b03d9c-a429-4018-bbc6-0b29fd52adeb button.colab-df-convert');\n",
              "      buttonEl.style.display =\n",
              "        google.colab.kernel.accessAllowed ? 'block' : 'none';\n",
              "\n",
              "      async function convertToInteractive(key) {\n",
              "        const element = document.querySelector('#df-b3b03d9c-a429-4018-bbc6-0b29fd52adeb');\n",
              "        const dataTable =\n",
              "          await google.colab.kernel.invokeFunction('convertToInteractive',\n",
              "                                                    [key], {});\n",
              "        if (!dataTable) return;\n",
              "\n",
              "        const docLinkHtml = 'Like what you see? Visit the ' +\n",
              "          '<a target=\"_blank\" href=https://colab.research.google.com/notebooks/data_table.ipynb>data table notebook</a>'\n",
              "          + ' to learn more about interactive tables.';\n",
              "        element.innerHTML = '';\n",
              "        dataTable['output_type'] = 'display_data';\n",
              "        await google.colab.output.renderOutput(dataTable, element);\n",
              "        const docLink = document.createElement('div');\n",
              "        docLink.innerHTML = docLinkHtml;\n",
              "        element.appendChild(docLink);\n",
              "      }\n",
              "    </script>\n",
              "  </div>\n",
              "\n",
              "\n",
              "<div id=\"df-4968a3e4-e8b5-408f-930c-abb95fc674a3\">\n",
              "  <button class=\"colab-df-quickchart\" onclick=\"quickchart('df-4968a3e4-e8b5-408f-930c-abb95fc674a3')\"\n",
              "            title=\"Suggest charts\"\n",
              "            style=\"display:none;\">\n",
              "\n",
              "<svg xmlns=\"http://www.w3.org/2000/svg\" height=\"24px\"viewBox=\"0 0 24 24\"\n",
              "     width=\"24px\">\n",
              "    <g>\n",
              "        <path d=\"M19 3H5c-1.1 0-2 .9-2 2v14c0 1.1.9 2 2 2h14c1.1 0 2-.9 2-2V5c0-1.1-.9-2-2-2zM9 17H7v-7h2v7zm4 0h-2V7h2v10zm4 0h-2v-4h2v4z\"/>\n",
              "    </g>\n",
              "</svg>\n",
              "  </button>\n",
              "\n",
              "<style>\n",
              "  .colab-df-quickchart {\n",
              "      --bg-color: #E8F0FE;\n",
              "      --fill-color: #1967D2;\n",
              "      --hover-bg-color: #E2EBFA;\n",
              "      --hover-fill-color: #174EA6;\n",
              "      --disabled-fill-color: #AAA;\n",
              "      --disabled-bg-color: #DDD;\n",
              "  }\n",
              "\n",
              "  [theme=dark] .colab-df-quickchart {\n",
              "      --bg-color: #3B4455;\n",
              "      --fill-color: #D2E3FC;\n",
              "      --hover-bg-color: #434B5C;\n",
              "      --hover-fill-color: #FFFFFF;\n",
              "      --disabled-bg-color: #3B4455;\n",
              "      --disabled-fill-color: #666;\n",
              "  }\n",
              "\n",
              "  .colab-df-quickchart {\n",
              "    background-color: var(--bg-color);\n",
              "    border: none;\n",
              "    border-radius: 50%;\n",
              "    cursor: pointer;\n",
              "    display: none;\n",
              "    fill: var(--fill-color);\n",
              "    height: 32px;\n",
              "    padding: 0;\n",
              "    width: 32px;\n",
              "  }\n",
              "\n",
              "  .colab-df-quickchart:hover {\n",
              "    background-color: var(--hover-bg-color);\n",
              "    box-shadow: 0 1px 2px rgba(60, 64, 67, 0.3), 0 1px 3px 1px rgba(60, 64, 67, 0.15);\n",
              "    fill: var(--button-hover-fill-color);\n",
              "  }\n",
              "\n",
              "  .colab-df-quickchart-complete:disabled,\n",
              "  .colab-df-quickchart-complete:disabled:hover {\n",
              "    background-color: var(--disabled-bg-color);\n",
              "    fill: var(--disabled-fill-color);\n",
              "    box-shadow: none;\n",
              "  }\n",
              "\n",
              "  .colab-df-spinner {\n",
              "    border: 2px solid var(--fill-color);\n",
              "    border-color: transparent;\n",
              "    border-bottom-color: var(--fill-color);\n",
              "    animation:\n",
              "      spin 1s steps(1) infinite;\n",
              "  }\n",
              "\n",
              "  @keyframes spin {\n",
              "    0% {\n",
              "      border-color: transparent;\n",
              "      border-bottom-color: var(--fill-color);\n",
              "      border-left-color: var(--fill-color);\n",
              "    }\n",
              "    20% {\n",
              "      border-color: transparent;\n",
              "      border-left-color: var(--fill-color);\n",
              "      border-top-color: var(--fill-color);\n",
              "    }\n",
              "    30% {\n",
              "      border-color: transparent;\n",
              "      border-left-color: var(--fill-color);\n",
              "      border-top-color: var(--fill-color);\n",
              "      border-right-color: var(--fill-color);\n",
              "    }\n",
              "    40% {\n",
              "      border-color: transparent;\n",
              "      border-right-color: var(--fill-color);\n",
              "      border-top-color: var(--fill-color);\n",
              "    }\n",
              "    60% {\n",
              "      border-color: transparent;\n",
              "      border-right-color: var(--fill-color);\n",
              "    }\n",
              "    80% {\n",
              "      border-color: transparent;\n",
              "      border-right-color: var(--fill-color);\n",
              "      border-bottom-color: var(--fill-color);\n",
              "    }\n",
              "    90% {\n",
              "      border-color: transparent;\n",
              "      border-bottom-color: var(--fill-color);\n",
              "    }\n",
              "  }\n",
              "</style>\n",
              "\n",
              "  <script>\n",
              "    async function quickchart(key) {\n",
              "      const quickchartButtonEl =\n",
              "        document.querySelector('#' + key + ' button');\n",
              "      quickchartButtonEl.disabled = true;  // To prevent multiple clicks.\n",
              "      quickchartButtonEl.classList.add('colab-df-spinner');\n",
              "      try {\n",
              "        const charts = await google.colab.kernel.invokeFunction(\n",
              "            'suggestCharts', [key], {});\n",
              "      } catch (error) {\n",
              "        console.error('Error during call to suggestCharts:', error);\n",
              "      }\n",
              "      quickchartButtonEl.classList.remove('colab-df-spinner');\n",
              "      quickchartButtonEl.classList.add('colab-df-quickchart-complete');\n",
              "    }\n",
              "    (() => {\n",
              "      let quickchartButtonEl =\n",
              "        document.querySelector('#df-4968a3e4-e8b5-408f-930c-abb95fc674a3 button');\n",
              "      quickchartButtonEl.style.display =\n",
              "        google.colab.kernel.accessAllowed ? 'block' : 'none';\n",
              "    })();\n",
              "  </script>\n",
              "</div>\n",
              "\n",
              "    </div>\n",
              "  </div>\n"
            ],
            "application/vnd.google.colaboratory.intrinsic+json": {
              "type": "dataframe",
              "summary": "{\n  \"name\": \"bamf_nnunet_mr_prostate_prostate_mri_us_biopsy_df[['dsc', 'asd', 'hsdff']]\",\n  \"rows\": 8,\n  \"fields\": [\n    {\n      \"column\": \"dsc\",\n      \"properties\": {\n        \"dtype\": \"number\",\n        \"std\": 348.3657222868144,\n        \"min\": 0.05395009530832227,\n        \"max\": 986.0,\n        \"num_unique_values\": 8,\n        \"samples\": [\n          0.8880926277890467,\n          0.8982105,\n          986.0\n        ],\n        \"semantic_type\": \"\",\n        \"description\": \"\"\n      }\n    },\n    {\n      \"column\": \"asd\",\n      \"properties\": {\n        \"dtype\": \"number\",\n        \"std\": 347.7105979864658,\n        \"min\": 0.26,\n        \"max\": 986.0,\n        \"num_unique_values\": 8,\n        \"samples\": [\n          1.2746551724137931,\n          1.13,\n          986.0\n        ],\n        \"semantic_type\": \"\",\n        \"description\": \"\"\n      }\n    },\n    {\n      \"column\": \"hsdff\",\n      \"properties\": {\n        \"dtype\": \"number\",\n        \"std\": 343.8771040832022,\n        \"min\": 2.394311,\n        \"max\": 986.0,\n        \"num_unique_values\": 8,\n        \"samples\": [\n          7.354920249492901,\n          6.450957,\n          986.0\n        ],\n        \"semantic_type\": \"\",\n        \"description\": \"\"\n      }\n    }\n  ]\n}"
            }
          },
          "metadata": {},
          "execution_count": 159
        }
      ]
    },
    {
      "cell_type": "markdown",
      "metadata": {
        "id": "oeFe_1fOQr-Y"
      },
      "source": [
        "Pair 1 : task024 dsc differences vs task05\n"
      ]
    },
    {
      "cell_type": "code",
      "execution_count": null,
      "metadata": {
        "colab": {
          "base_uri": "https://localhost:8080/"
        },
        "outputId": "b6e88b10-e8fe-4ad5-c3df-c5dfd668e753",
        "id": "id7KigNJQr-j"
      },
      "outputs": [
        {
          "output_type": "execute_result",
          "data": {
            "text/plain": [
              "(1.0, 3.725290298461914e-09)"
            ]
          },
          "metadata": {},
          "execution_count": 112
        }
      ],
      "source": [
        "diff = nnnunet_task024_prostate_qin_df.sort_values(by=['refSerieUID']).dsc.values - nnnunet_task05_prostate_qin_df.sort_values(by=['refSerieUID']).dsc.values\n",
        "res = wilcoxon(diff)\n",
        "res.statistic, res.pvalue"
      ]
    },
    {
      "cell_type": "code",
      "execution_count": null,
      "metadata": {
        "colab": {
          "base_uri": "https://localhost:8080/"
        },
        "outputId": "47504fc5-f15b-45d2-fb8f-7ae6725dcff7",
        "id": "OuyvgT9zQr-j"
      },
      "outputs": [
        {
          "output_type": "execute_result",
          "data": {
            "text/plain": [
              "(464.0, 1.862645149230957e-09)"
            ]
          },
          "metadata": {},
          "execution_count": 113
        }
      ],
      "source": [
        "res = wilcoxon(diff, alternative='greater')\n",
        "res.statistic, res.pvalue"
      ]
    },
    {
      "cell_type": "markdown",
      "metadata": {
        "id": "DbzgIQwyQr-k"
      },
      "source": [
        "Pair 2 : task024 dsc differences vs monai\n"
      ]
    },
    {
      "cell_type": "code",
      "execution_count": null,
      "metadata": {
        "colab": {
          "base_uri": "https://localhost:8080/"
        },
        "outputId": "b0c082be-f065-4bea-880a-607729b57ac9",
        "id": "BSjTiW9RQr-k"
      },
      "outputs": [
        {
          "output_type": "execute_result",
          "data": {
            "text/plain": [
              "(72.0, 0.0005548261106014252)"
            ]
          },
          "metadata": {},
          "execution_count": 114
        }
      ],
      "source": [
        "diff = nnnunet_task024_prostate_qin_df.sort_values(by=['refSerieUID']).dsc.values - monai_prostate158_prostate_qin_df.sort_values(by=['refSerieUID']).dsc.values\n",
        "res = wilcoxon(diff)\n",
        "res.statistic, res.pvalue"
      ]
    },
    {
      "cell_type": "code",
      "execution_count": null,
      "metadata": {
        "colab": {
          "base_uri": "https://localhost:8080/"
        },
        "outputId": "a7f8be6b-c383-4568-c79f-cd8e2a9204fc",
        "id": "0AdhKH22Qr-k"
      },
      "outputs": [
        {
          "output_type": "execute_result",
          "data": {
            "text/plain": [
              "(393.0, 0.0002774130553007126)"
            ]
          },
          "metadata": {},
          "execution_count": 115
        }
      ],
      "source": [
        "res = wilcoxon(diff, alternative='greater')\n",
        "res.statistic, res.pvalue"
      ]
    },
    {
      "cell_type": "markdown",
      "metadata": {
        "id": "SIdQjUZpQr-k"
      },
      "source": [
        "Pair 3 : task05 dsc differences vs monai\n"
      ]
    },
    {
      "cell_type": "code",
      "execution_count": null,
      "metadata": {
        "colab": {
          "base_uri": "https://localhost:8080/"
        },
        "outputId": "a63dd3cb-ea31-4c35-cd8d-9b464d2ccd37",
        "id": "lHlxjlyYQr-k"
      },
      "outputs": [
        {
          "output_type": "execute_result",
          "data": {
            "text/plain": [
              "(26.0, 1.991167664527893e-06)"
            ]
          },
          "metadata": {},
          "execution_count": 116
        }
      ],
      "source": [
        "diff = monai_prostate158_prostate_qin_df.sort_values(by=['refSerieUID']).dsc.values - nnnunet_task05_prostate_qin_df.sort_values(by=['refSerieUID']).dsc.values\n",
        "res = wilcoxon(diff)\n",
        "res.statistic, res.pvalue"
      ]
    },
    {
      "cell_type": "code",
      "execution_count": null,
      "metadata": {
        "colab": {
          "base_uri": "https://localhost:8080/"
        },
        "outputId": "d8b1c86f-55b0-461a-c415-9e50eeab558c",
        "id": "OMYDKkgEQr-k"
      },
      "outputs": [
        {
          "output_type": "execute_result",
          "data": {
            "text/plain": [
              "(439.0, 0.9999991580843925)"
            ]
          },
          "metadata": {},
          "execution_count": 117
        }
      ],
      "source": [
        "res = wilcoxon(diff, alternative='less')\n",
        "res.statistic, res.pvalue"
      ]
    },
    {
      "cell_type": "markdown",
      "source": [
        "Pair 4 : bamf_nnunet_mr_prostate vs nnunet_task024"
      ],
      "metadata": {
        "id": "qS0-3CvUQr-k"
      }
    },
    {
      "cell_type": "code",
      "execution_count": null,
      "metadata": {
        "colab": {
          "base_uri": "https://localhost:8080/"
        },
        "outputId": "7a439d26-fb55-4213-bc3f-5050777770a5",
        "id": "TNg_C3aRQr-k"
      },
      "outputs": [
        {
          "output_type": "execute_result",
          "data": {
            "text/plain": [
              "(230.0, 0.9676735773682594)"
            ]
          },
          "metadata": {},
          "execution_count": 119
        }
      ],
      "source": [
        "diff = bamf_nnunet_mr_prostate_qin_df.sort_values(by=['refSerieUID']).dsc.values - nnnunet_task024_prostate_qin_df.sort_values(by=['refSerieUID']).dsc.values\n",
        "res = wilcoxon(diff)\n",
        "res.statistic, res.pvalue"
      ]
    },
    {
      "cell_type": "code",
      "execution_count": null,
      "metadata": {
        "colab": {
          "base_uri": "https://localhost:8080/"
        },
        "outputId": "5978f343-c99e-494b-f511-1c2ec90c0335",
        "id": "dDZ24hi-Qr-k"
      },
      "outputs": [
        {
          "output_type": "execute_result",
          "data": {
            "text/plain": [
              "(230.0, 0.5242367628961802)"
            ]
          },
          "metadata": {},
          "execution_count": 120
        }
      ],
      "source": [
        "res = wilcoxon(diff, alternative='greater')\n",
        "res.statistic, res.pvalue"
      ]
    },
    {
      "cell_type": "markdown",
      "source": [
        "Pair 5 : bamf_nnunet_mr_prostate vs nnunet_task05"
      ],
      "metadata": {
        "id": "VFn_bBDYQr-l"
      }
    },
    {
      "cell_type": "code",
      "execution_count": null,
      "metadata": {
        "colab": {
          "base_uri": "https://localhost:8080/"
        },
        "outputId": "60b971c1-839a-4dc0-9468-723e4fb15a95",
        "id": "7Sq8GOs1Qr-l"
      },
      "outputs": [
        {
          "output_type": "execute_result",
          "data": {
            "text/plain": [
              "(15.0, 2.551823854446411e-07)"
            ]
          },
          "metadata": {},
          "execution_count": 121
        }
      ],
      "source": [
        "diff = bamf_nnunet_mr_prostate_qin_df.sort_values(by=['refSerieUID']).dsc.values - nnnunet_task05_prostate_qin_df.sort_values(by=['refSerieUID']).dsc.values\n",
        "res = wilcoxon(diff)\n",
        "res.statistic, res.pvalue"
      ]
    },
    {
      "cell_type": "code",
      "execution_count": null,
      "metadata": {
        "colab": {
          "base_uri": "https://localhost:8080/"
        },
        "outputId": "4c907f5c-6222-4cb8-d134-94f4f68e9019",
        "id": "NMJpw2n9Qr-l"
      },
      "outputs": [
        {
          "output_type": "execute_result",
          "data": {
            "text/plain": [
              "(450.0, 1.2759119272232056e-07)"
            ]
          },
          "metadata": {},
          "execution_count": 122
        }
      ],
      "source": [
        "res = wilcoxon(diff, alternative='greater')\n",
        "res.statistic, res.pvalue"
      ]
    },
    {
      "cell_type": "markdown",
      "source": [
        "Pair 6 : bamf_nnunet_mr_prostate vs monai prostate158"
      ],
      "metadata": {
        "id": "lLzm0R9cQr-l"
      }
    },
    {
      "cell_type": "code",
      "execution_count": null,
      "metadata": {
        "colab": {
          "base_uri": "https://localhost:8080/"
        },
        "outputId": "b61c464c-9e9e-4f28-91db-aa00e72b6ae6",
        "id": "ub4cRgiLQr-l"
      },
      "outputs": [
        {
          "output_type": "execute_result",
          "data": {
            "text/plain": [
              "(203.0, 0.5561132747679949)"
            ]
          },
          "metadata": {},
          "execution_count": 123
        }
      ],
      "source": [
        "diff = bamf_nnunet_mr_prostate_qin_df.sort_values(by=['refSerieUID']).dsc.values - monai_prostate158_prostate_qin_df.sort_values(by=['refSerieUID']).dsc.values\n",
        "res = wilcoxon(diff)\n",
        "res.statistic, res.pvalue"
      ]
    },
    {
      "cell_type": "code",
      "execution_count": null,
      "metadata": {
        "colab": {
          "base_uri": "https://localhost:8080/"
        },
        "outputId": "25cb8c57-aefd-42e2-cad6-09627d3da3b8",
        "id": "EOC4fPJKQr-l"
      },
      "outputs": [
        {
          "output_type": "execute_result",
          "data": {
            "text/plain": [
              "(262.0, 0.27805663738399744)"
            ]
          },
          "metadata": {},
          "execution_count": 124
        }
      ],
      "source": [
        "res = wilcoxon(diff, alternative='greater')\n",
        "res.statistic, res.pvalue"
      ]
    }
  ],
  "metadata": {
    "kernelspec": {
      "display_name": "Python 3 (ipykernel)",
      "language": "python",
      "name": "python3"
    },
    "language_info": {
      "codemirror_mode": {
        "name": "ipython",
        "version": 3
      },
      "file_extension": ".py",
      "mimetype": "text/x-python",
      "name": "python",
      "nbconvert_exporter": "python",
      "pygments_lexer": "ipython3",
      "version": "3.8.15"
    },
    "colab": {
      "provenance": []
    }
  },
  "nbformat": 4,
  "nbformat_minor": 0
}