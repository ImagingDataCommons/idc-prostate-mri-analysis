{
  "nbformat": 4,
  "nbformat_minor": 0,
  "metadata": {
    "colab": {
      "provenance": [],
      "toc_visible": true,
      "authorship_tag": "ABX9TyPiv4dAMqkQbVW9N0W/b2Fe",
      "include_colab_link": true
    },
    "kernelspec": {
      "name": "python3",
      "display_name": "Python 3"
    },
    "language_info": {
      "name": "python"
    }
  },
  "cells": [
    {
      "cell_type": "markdown",
      "metadata": {
        "id": "view-in-github",
        "colab_type": "text"
      },
      "source": [
        "<a href=\"https://colab.research.google.com/github/ccosmin97/idc-prostate-mri-analysis/blob/main/results_bq_qin_prostate_repeatability_analysis_gt.ipynb\" target=\"_parent\"><img src=\"https://colab.research.google.com/assets/colab-badge.svg\" alt=\"Open In Colab\"/></a>"
      ]
    },
    {
      "cell_type": "markdown",
      "source": [
        "# Not meant to be run cell by cell -- need user permissions to google cloud big queries"
      ],
      "metadata": {
        "id": "AHsmij93e9wS"
      }
    },
    {
      "cell_type": "markdown",
      "source": [
        "#Authentification"
      ],
      "metadata": {
        "id": "mGfJwgF9g75l"
      }
    },
    {
      "cell_type": "code",
      "source": [
        "#colab \n",
        "from google.colab import auth\n",
        "auth.authenticate_user()"
      ],
      "metadata": {
        "id": "EET-VTsJg938"
      },
      "execution_count": null,
      "outputs": []
    },
    {
      "cell_type": "markdown",
      "metadata": {
        "id": "y1ZYYVPHz_xm"
      },
      "source": [
        "## Setup GCP Project ID"
      ]
    },
    {
      "cell_type": "code",
      "execution_count": null,
      "metadata": {
        "id": "g1EN9Dnz0CU4"
      },
      "outputs": [],
      "source": [
        "project_id = \"idc-sandbox-003\" # #YOUR_PROJECT ID"
      ]
    },
    {
      "cell_type": "markdown",
      "source": [
        "# Imports"
      ],
      "metadata": {
        "id": "4fTmSAzf0M_R"
      }
    },
    {
      "cell_type": "code",
      "source": [
        "import plotly.graph_objects as go\n",
        "import plotly.express as px\n",
        "import plotly.graph_objects as go\n",
        "import os\n",
        "import pandas as pd\n",
        "from google.cloud import bigquery\n",
        "import numpy as np\n",
        "import datetime\n",
        "import seaborn as sns\n",
        "\n",
        "\n",
        "from bokeh.models import ColumnDataSource, OpenURL, TapTool\n",
        "from bokeh.plotting import figure, output_file, show\n",
        "from bokeh.io import output_notebook\n",
        "from bokeh.colors import RGB\n",
        "from bokeh.transform import jitter\n",
        "\n",
        "from bokeh.models import Legend, LegendItem\n",
        "\n",
        "from bokeh.models import HoverTool, PanTool, WheelZoomTool, BoxZoomTool, ResetTool, TapTool\n",
        "from bokeh.palettes import brewer\n",
        "\n",
        "output_notebook()"
      ],
      "metadata": {
        "id": "IUm_QoHy0OfP"
      },
      "execution_count": null,
      "outputs": []
    },
    {
      "cell_type": "markdown",
      "source": [
        "# Custom functions"
      ],
      "metadata": {
        "id": "5qJouHeJRnEW"
      }
    },
    {
      "cell_type": "code",
      "source": [
        "def calculate_time_index(row, df_input): #assumes only two studies per PatientID\n",
        "  other_study_time = df_input[(df_input[\"PatientID\"] == row[\"PatientID\"]) \n",
        "    & (df_input[\"StudyInstanceUID\"] != row[\"StudyInstanceUID\"])].study_date.values[0]\n",
        "  if row.study_date < other_study_time:\n",
        "    return \"T0\"\n",
        "  elif row.study_date > other_study_time:\n",
        "    return \"T1\"\n",
        "  else:\n",
        "    return \"T\""
      ],
      "metadata": {
        "id": "BsMgoBOpgmTh"
      },
      "execution_count": null,
      "outputs": []
    },
    {
      "cell_type": "code",
      "source": [
        "def add_ohif_url_prostate(row):\n",
        "    studyUID = row['StudyInstanceUID']\n",
        "    return \"https://fir-idc-prostate-ohif.web.app/projects/idc-sandbox-003/locations/us-central1/datasets/prostate-seg/dicomStores/prostatex_datastore/study/\"+studyUID"
      ],
      "metadata": {
        "id": "UsmObtDmI4k-"
      },
      "execution_count": null,
      "outputs": []
    },
    {
      "cell_type": "code",
      "source": [
        "def add_ohif_url_pz_tz(row):\n",
        "    studyUID = row['StudyInstanceUID']\n",
        "    return \"https://fir-idc-prostate-ohif.web.app/projects/idc-sandbox-003/locations/us-central1/datasets/prostate-seg/dicomStores/prostatex_no_gt_datastore/study/\"+studyUID"
      ],
      "metadata": {
        "id": "c3LzspqbJ5Hn"
      },
      "execution_count": null,
      "outputs": []
    },
    {
      "cell_type": "code",
      "source": [
        "def color_list_generator(df, treatment_col):\n",
        "    \"\"\" Create a list of colors per treatment given a dataframe and \n",
        "        column representing the treatments.\n",
        "         \n",
        "        Args:\n",
        "            df - dataframe to get data from\n",
        "            treatment_col - column to use to get unique treatments.\n",
        "                 \n",
        "        Inspired by creating colors for each treatment \n",
        "        Rough Source: http://bokeh.pydata.org/en/latest/docs/gallery/brewer.html#gallery-brewer\n",
        "        Fine Tune Source: http://bokeh.pydata.org/en/latest/docs/gallery/iris.html\n",
        "    \"\"\"\n",
        "    # Get the number of colors we'll need for the plot.\n",
        "    colors = [\"#ff0000\", \"#04b404\", \"#f7fe2e\"]#brewer[\"Spectral\"][len(df[treatment_col].unique())]\n",
        " \n",
        "    # Create a map between treatment and color.\n",
        "    colormap = {i: colors[k] for k,i in enumerate(df[treatment_col].unique())}\n",
        " \n",
        "    # Return a list of colors for each value that we will be looking at.\n",
        "    return colormap, [colormap[x] for x in df[treatment_col]]"
      ],
      "metadata": {
        "id": "vu2h52ixxxZA"
      },
      "execution_count": null,
      "outputs": []
    },
    {
      "cell_type": "markdown",
      "source": [
        "# Query nnunet prediction results"
      ],
      "metadata": {
        "id": "x3iyNN3_0qky"
      }
    },
    {
      "cell_type": "markdown",
      "source": [
        "Query BigQuery table containing metadata about nnunet segmentations for **peripheral zone -- transition zone structures**"
      ],
      "metadata": {
        "id": "_rWCUOeKeMfL"
      }
    },
    {
      "cell_type": "code",
      "source": [
        "from google.cloud import bigquery\n",
        "bq_client = bigquery.Client(project_id)\n",
        "selection_query = f\"\"\"\n",
        "  SELECT  \n",
        "  *\n",
        "FROM \n",
        "  `idc-sandbox-003.qin_prostate_repeatability.pz_tz_dcm` \"\"\""
      ],
      "metadata": {
        "id": "9PSuCm79z-zN"
      },
      "execution_count": null,
      "outputs": []
    },
    {
      "cell_type": "code",
      "source": [
        "selection_result = bq_client.query(selection_query)\n",
        "selection_df = selection_result.result().to_dataframe()"
      ],
      "metadata": {
        "id": "1rm8YZAq0p_s"
      },
      "execution_count": null,
      "outputs": []
    },
    {
      "cell_type": "markdown",
      "source": [
        "Query BigQuery table containing metadata about nnunet segmentations for **whole prostate gland**"
      ],
      "metadata": {
        "id": "mQHvicLZB2BD"
      }
    },
    {
      "cell_type": "code",
      "source": [
        "selection_query = f\"\"\"\n",
        "  SELECT  \n",
        "  *\n",
        "FROM \n",
        "  `idc-sandbox-003.qin_prostate_repeatability.whole_prostate_dcm` \"\"\"\n",
        "selection_result = bq_client.query(selection_query)\n",
        "selection_prostate_df = selection_result.result().to_dataframe()"
      ],
      "metadata": {
        "id": "2S-TDItXB466"
      },
      "execution_count": null,
      "outputs": []
    },
    {
      "cell_type": "markdown",
      "source": [
        "## metadata pre-processing of dfs"
      ],
      "metadata": {
        "id": "J5KTzaRHRtxd"
      }
    },
    {
      "cell_type": "markdown",
      "source": [
        "### peripheral/transition zone segments"
      ],
      "metadata": {
        "id": "qXox6a6iermG"
      }
    },
    {
      "cell_type": "code",
      "source": [
        "unique_patIDS_no_labels = selection_df[selection_df[\"PZ_RefSerieUID\"].isna()].patientID.unique()\n",
        "unique_patIDS_with_labels = selection_df[selection_df[\"PZ_RefSerieUID\"].notna()].patientID.unique()\n",
        "print(f\"patientIDs with no ground truth segs for PZ and TZ structures : {len(unique_patIDS_no_labels)}\")\n",
        "print(f\"patientIDs with ground truth segs for PZ and TZ structures : {len(unique_patIDS_with_labels)}\")"
      ],
      "metadata": {
        "colab": {
          "base_uri": "https://localhost:8080/"
        },
        "outputId": "6ebc9232-77f1-4a75-e509-02c87983c900",
        "id": "sHrYGxaIRtxd"
      },
      "execution_count": null,
      "outputs": [
        {
          "output_type": "stream",
          "name": "stdout",
          "text": [
            "patientIDs with no ground truth segs for PZ and TZ structures : 0\n",
            "patientIDs with ground truth segs for PZ and TZ structures : 15\n"
          ]
        }
      ]
    },
    {
      "cell_type": "markdown",
      "source": [
        "Select PZ segments wihtout empty rows"
      ],
      "metadata": {
        "id": "LjklrpA1fhpy"
      }
    },
    {
      "cell_type": "code",
      "source": [
        "gt_selection_df = selection_df[selection_df[\"PZ_RefSerieUID\"].notna()]"
      ],
      "metadata": {
        "id": "vDxrZIxZRtxe"
      },
      "execution_count": null,
      "outputs": []
    },
    {
      "cell_type": "markdown",
      "source": [
        "Selection of DCM metadata only "
      ],
      "metadata": {
        "id": "0qy7IAz6fzAc"
      }
    },
    {
      "cell_type": "code",
      "source": [
        "#PZ\n",
        "gt_pz_selection_df = gt_selection_df.loc[:, ['ReferencedSeriesInstanceUID', 'StudyInstanceUID', 'patientID',\n",
        "       'SOPClassUID', 'SOPInstanceUID', 'SeriesInstanceUID', 'Modality',\n",
        "       'SeriesDescription', 'studydesc', 'series_time', 'study_time',\n",
        "       'series_date', 'study_date', 'ohif_url', 'cloud_storage_path'] \\\n",
        "  +list(gt_selection_df.filter(regex=(\"PZ.*\"),axis=1).columns.values)]\n",
        "\n",
        "gt_pz_selection_df.columns = gt_pz_selection_df.columns.str.replace('PZ_', '')\n",
        "gt_pz_selection_df[\"regions\"] = gt_pz_selection_df.apply(lambda x : \"PZ\" ,axis=1)\n",
        "gt_pz_selection_df = gt_pz_selection_df.reset_index(drop=True)"
      ],
      "metadata": {
        "id": "rk-JYgqxRtxe"
      },
      "execution_count": null,
      "outputs": []
    },
    {
      "cell_type": "code",
      "source": [
        "# df_all = pd.concat([gt_pz_selection_df, gt_tz_selection_df])"
      ],
      "metadata": {
        "id": "I6wgelEdRtxe"
      },
      "execution_count": null,
      "outputs": []
    },
    {
      "cell_type": "markdown",
      "source": [
        "### Whole Prostate segment -- same process"
      ],
      "metadata": {
        "id": "oxsTJiBKCIJZ"
      }
    },
    {
      "cell_type": "code",
      "source": [
        "unique_patIDS_no_labels = selection_prostate_df[selection_prostate_df[\"PROSTATE_RefSerieUID\"].isna()].patientID.unique()\n",
        "unique_patIDS_with_labels = selection_prostate_df[selection_prostate_df[\"PROSTATE_RefSerieUID\"].notna()].patientID.unique()\n",
        "print(f\"patientIDs with no ground truth segs for PZ and TZ structures : {len(unique_patIDS_no_labels)}\")\n",
        "print(f\"patientIDs with ground truth segs for PZ and TZ structures : {len(unique_patIDS_with_labels)}\")"
      ],
      "metadata": {
        "colab": {
          "base_uri": "https://localhost:8080/"
        },
        "id": "7xCdmJYKCKtW",
        "outputId": "83ec8c52-ef7f-4d73-d86b-2bd1b0a9388f"
      },
      "execution_count": null,
      "outputs": [
        {
          "output_type": "stream",
          "name": "stdout",
          "text": [
            "patientIDs with no ground truth segs for PZ and TZ structures : 0\n",
            "patientIDs with ground truth segs for PZ and TZ structures : 15\n"
          ]
        }
      ]
    },
    {
      "cell_type": "code",
      "source": [
        "#PZ\n",
        "cleaned_prostate_df = selection_prostate_df.loc[:, ['ReferencedSeriesInstanceUID', 'StudyInstanceUID', 'patientID',\n",
        "       'SOPClassUID', 'SOPInstanceUID', 'SeriesInstanceUID', 'Modality',\n",
        "       'SeriesDescription', 'studydesc', 'series_time', 'study_time',\n",
        "       'series_date', 'study_date', 'ohif_url', 'cloud_storage_path'] \\\n",
        "  +list(selection_prostate_df.filter(regex=(\"PROSTATE.*\"),axis=1).columns.values)]\n",
        "\n",
        "cleaned_prostate_df.columns = cleaned_prostate_df.columns.str.replace('PROSTATE_', '')\n",
        "cleaned_prostate_df[\"regions\"] = cleaned_prostate_df.apply(lambda x : \"Prostate\" ,axis=1)\n",
        "cleaned_prostate_df = cleaned_prostate_df.reset_index(drop=True)"
      ],
      "metadata": {
        "id": "iPjxqifACc5S"
      },
      "execution_count": null,
      "outputs": []
    },
    {
      "cell_type": "markdown",
      "source": [
        "Merge processed PZ/TZ and whole prostate dataframe"
      ],
      "metadata": {
        "id": "VzOg3pUTguVW"
      }
    },
    {
      "cell_type": "code",
      "source": [
        "df_all = pd.concat([gt_pz_selection_df, cleaned_prostate_df])"
      ],
      "metadata": {
        "id": "QeKem1qeCz0q"
      },
      "execution_count": null,
      "outputs": []
    },
    {
      "cell_type": "code",
      "source": [
        "df_all.info()"
      ],
      "metadata": {
        "colab": {
          "base_uri": "https://localhost:8080/"
        },
        "id": "M6FCTz2mLy3T",
        "outputId": "8dc8ea01-4b29-4add-cceb-da176e121a7d"
      },
      "execution_count": null,
      "outputs": [
        {
          "output_type": "stream",
          "name": "stdout",
          "text": [
            "<class 'pandas.core.frame.DataFrame'>\n",
            "Int64Index: 60 entries, 0 to 29\n",
            "Data columns (total 25 columns):\n",
            " #   Column                       Non-Null Count  Dtype  \n",
            "---  ------                       --------------  -----  \n",
            " 0   ReferencedSeriesInstanceUID  60 non-null     object \n",
            " 1   StudyInstanceUID             60 non-null     object \n",
            " 2   patientID                    60 non-null     object \n",
            " 3   SOPClassUID                  60 non-null     object \n",
            " 4   SOPInstanceUID               60 non-null     object \n",
            " 5   SeriesInstanceUID            60 non-null     object \n",
            " 6   Modality                     60 non-null     object \n",
            " 7   SeriesDescription            60 non-null     object \n",
            " 8   studydesc                    60 non-null     object \n",
            " 9   series_time                  60 non-null     object \n",
            " 10  study_time                   60 non-null     object \n",
            " 11  series_date                  60 non-null     object \n",
            " 12  study_date                   60 non-null     object \n",
            " 13  ohif_url                     60 non-null     object \n",
            " 14  cloud_storage_path           60 non-null     object \n",
            " 15  segment                      60 non-null     object \n",
            " 16  PatientID                    60 non-null     object \n",
            " 17  studyUID                     60 non-null     object \n",
            " 18  serieUID                     60 non-null     object \n",
            " 19  RefSerieUID                  60 non-null     object \n",
            " 20  dice_score                   60 non-null     float64\n",
            " 21  center_mass_pred             60 non-null     object \n",
            " 22  center_mass_ref              60 non-null     object \n",
            " 23  hausdorff_dist               60 non-null     float64\n",
            " 24  regions                      60 non-null     object \n",
            "dtypes: float64(2), object(23)\n",
            "memory usage: 12.2+ KB\n"
          ]
        }
      ]
    },
    {
      "cell_type": "code",
      "source": [
        "df_all.sort_values('dice_score')[[\"dice_score\", \"SeriesInstanceUID\", \"PatientID\"]].head()"
      ],
      "metadata": {
        "colab": {
          "base_uri": "https://localhost:8080/",
          "height": 206
        },
        "id": "190NEq-FPDQX",
        "outputId": "bda102dc-8d2a-47ee-b555-80d0cf47887e"
      },
      "execution_count": null,
      "outputs": [
        {
          "output_type": "execute_result",
          "data": {
            "text/plain": [
              "    dice_score                                  SeriesInstanceUID  \\\n",
              "8     0.000000  1.2.276.0.7230010.3.1.3.481034752.5602.1666822...   \n",
              "9     0.000000  1.2.276.0.7230010.3.1.3.481034752.5593.1666822...   \n",
              "24    0.058837  1.2.276.0.7230010.3.1.3.481034752.5647.1666822...   \n",
              "15    0.157301  1.2.276.0.7230010.3.1.3.481034752.5599.1666822...   \n",
              "14    0.171580  1.2.276.0.7230010.3.1.3.481034752.5611.1666822...   \n",
              "\n",
              "         PatientID  \n",
              "8   PCAMPMRI-00012  \n",
              "9   PCAMPMRI-00012  \n",
              "24  PCAMPMRI-00005  \n",
              "15  PCAMPMRI-00015  \n",
              "14  PCAMPMRI-00015  "
            ],
            "text/html": [
              "\n",
              "  <div id=\"df-23b24c9b-cc9f-413b-8651-9c078b3402dc\">\n",
              "    <div class=\"colab-df-container\">\n",
              "      <div>\n",
              "<style scoped>\n",
              "    .dataframe tbody tr th:only-of-type {\n",
              "        vertical-align: middle;\n",
              "    }\n",
              "\n",
              "    .dataframe tbody tr th {\n",
              "        vertical-align: top;\n",
              "    }\n",
              "\n",
              "    .dataframe thead th {\n",
              "        text-align: right;\n",
              "    }\n",
              "</style>\n",
              "<table border=\"1\" class=\"dataframe\">\n",
              "  <thead>\n",
              "    <tr style=\"text-align: right;\">\n",
              "      <th></th>\n",
              "      <th>dice_score</th>\n",
              "      <th>SeriesInstanceUID</th>\n",
              "      <th>PatientID</th>\n",
              "    </tr>\n",
              "  </thead>\n",
              "  <tbody>\n",
              "    <tr>\n",
              "      <th>8</th>\n",
              "      <td>0.000000</td>\n",
              "      <td>1.2.276.0.7230010.3.1.3.481034752.5602.1666822...</td>\n",
              "      <td>PCAMPMRI-00012</td>\n",
              "    </tr>\n",
              "    <tr>\n",
              "      <th>9</th>\n",
              "      <td>0.000000</td>\n",
              "      <td>1.2.276.0.7230010.3.1.3.481034752.5593.1666822...</td>\n",
              "      <td>PCAMPMRI-00012</td>\n",
              "    </tr>\n",
              "    <tr>\n",
              "      <th>24</th>\n",
              "      <td>0.058837</td>\n",
              "      <td>1.2.276.0.7230010.3.1.3.481034752.5647.1666822...</td>\n",
              "      <td>PCAMPMRI-00005</td>\n",
              "    </tr>\n",
              "    <tr>\n",
              "      <th>15</th>\n",
              "      <td>0.157301</td>\n",
              "      <td>1.2.276.0.7230010.3.1.3.481034752.5599.1666822...</td>\n",
              "      <td>PCAMPMRI-00015</td>\n",
              "    </tr>\n",
              "    <tr>\n",
              "      <th>14</th>\n",
              "      <td>0.171580</td>\n",
              "      <td>1.2.276.0.7230010.3.1.3.481034752.5611.1666822...</td>\n",
              "      <td>PCAMPMRI-00015</td>\n",
              "    </tr>\n",
              "  </tbody>\n",
              "</table>\n",
              "</div>\n",
              "      <button class=\"colab-df-convert\" onclick=\"convertToInteractive('df-23b24c9b-cc9f-413b-8651-9c078b3402dc')\"\n",
              "              title=\"Convert this dataframe to an interactive table.\"\n",
              "              style=\"display:none;\">\n",
              "        \n",
              "  <svg xmlns=\"http://www.w3.org/2000/svg\" height=\"24px\"viewBox=\"0 0 24 24\"\n",
              "       width=\"24px\">\n",
              "    <path d=\"M0 0h24v24H0V0z\" fill=\"none\"/>\n",
              "    <path d=\"M18.56 5.44l.94 2.06.94-2.06 2.06-.94-2.06-.94-.94-2.06-.94 2.06-2.06.94zm-11 1L8.5 8.5l.94-2.06 2.06-.94-2.06-.94L8.5 2.5l-.94 2.06-2.06.94zm10 10l.94 2.06.94-2.06 2.06-.94-2.06-.94-.94-2.06-.94 2.06-2.06.94z\"/><path d=\"M17.41 7.96l-1.37-1.37c-.4-.4-.92-.59-1.43-.59-.52 0-1.04.2-1.43.59L10.3 9.45l-7.72 7.72c-.78.78-.78 2.05 0 2.83L4 21.41c.39.39.9.59 1.41.59.51 0 1.02-.2 1.41-.59l7.78-7.78 2.81-2.81c.8-.78.8-2.07 0-2.86zM5.41 20L4 18.59l7.72-7.72 1.47 1.35L5.41 20z\"/>\n",
              "  </svg>\n",
              "      </button>\n",
              "      \n",
              "  <style>\n",
              "    .colab-df-container {\n",
              "      display:flex;\n",
              "      flex-wrap:wrap;\n",
              "      gap: 12px;\n",
              "    }\n",
              "\n",
              "    .colab-df-convert {\n",
              "      background-color: #E8F0FE;\n",
              "      border: none;\n",
              "      border-radius: 50%;\n",
              "      cursor: pointer;\n",
              "      display: none;\n",
              "      fill: #1967D2;\n",
              "      height: 32px;\n",
              "      padding: 0 0 0 0;\n",
              "      width: 32px;\n",
              "    }\n",
              "\n",
              "    .colab-df-convert:hover {\n",
              "      background-color: #E2EBFA;\n",
              "      box-shadow: 0px 1px 2px rgba(60, 64, 67, 0.3), 0px 1px 3px 1px rgba(60, 64, 67, 0.15);\n",
              "      fill: #174EA6;\n",
              "    }\n",
              "\n",
              "    [theme=dark] .colab-df-convert {\n",
              "      background-color: #3B4455;\n",
              "      fill: #D2E3FC;\n",
              "    }\n",
              "\n",
              "    [theme=dark] .colab-df-convert:hover {\n",
              "      background-color: #434B5C;\n",
              "      box-shadow: 0px 1px 3px 1px rgba(0, 0, 0, 0.15);\n",
              "      filter: drop-shadow(0px 1px 2px rgba(0, 0, 0, 0.3));\n",
              "      fill: #FFFFFF;\n",
              "    }\n",
              "  </style>\n",
              "\n",
              "      <script>\n",
              "        const buttonEl =\n",
              "          document.querySelector('#df-23b24c9b-cc9f-413b-8651-9c078b3402dc button.colab-df-convert');\n",
              "        buttonEl.style.display =\n",
              "          google.colab.kernel.accessAllowed ? 'block' : 'none';\n",
              "\n",
              "        async function convertToInteractive(key) {\n",
              "          const element = document.querySelector('#df-23b24c9b-cc9f-413b-8651-9c078b3402dc');\n",
              "          const dataTable =\n",
              "            await google.colab.kernel.invokeFunction('convertToInteractive',\n",
              "                                                     [key], {});\n",
              "          if (!dataTable) return;\n",
              "\n",
              "          const docLinkHtml = 'Like what you see? Visit the ' +\n",
              "            '<a target=\"_blank\" href=https://colab.research.google.com/notebooks/data_table.ipynb>data table notebook</a>'\n",
              "            + ' to learn more about interactive tables.';\n",
              "          element.innerHTML = '';\n",
              "          dataTable['output_type'] = 'display_data';\n",
              "          await google.colab.output.renderOutput(dataTable, element);\n",
              "          const docLink = document.createElement('div');\n",
              "          docLink.innerHTML = docLinkHtml;\n",
              "          element.appendChild(docLink);\n",
              "        }\n",
              "      </script>\n",
              "    </div>\n",
              "  </div>\n",
              "  "
            ]
          },
          "metadata": {},
          "execution_count": 101
        }
      ]
    },
    {
      "cell_type": "markdown",
      "source": [
        "# Visualization of results"
      ],
      "metadata": {
        "id": "QK93Aclp2qL6"
      }
    },
    {
      "cell_type": "markdown",
      "source": [
        "## Dice score"
      ],
      "metadata": {
        "id": "u_57e0kA2kR1"
      }
    },
    {
      "cell_type": "code",
      "source": [
        "# Get a color for each region \n",
        "colormap, colors = color_list_generator(df_all, 'regions')\n",
        "df_all['colors'] = colors\n",
        "colormap_list_keys = list(colormap.keys())\n",
        "print('colormap: ' + str(colormap))\n",
        "print('colormap_list_keys: ' + str(colormap_list_keys))\n",
        "regions = colormap_list_keys \n",
        "print('regions: ' + str(regions)) \n",
        "\n",
        "colors = list(colormap.values())\n",
        "print('colors: ' + str(colors))\n",
        "\n",
        "hover = HoverTool(tooltips=[\n",
        "    (\"(dice_score)\", \"($y)\")\n",
        "])\n",
        "\n",
        "wZoom = WheelZoomTool()\n",
        "bZoom = BoxZoomTool()\n",
        "reset = ResetTool()\n",
        "tap = TapTool()\n",
        "pan = PanTool()\n",
        "\n",
        "cats = df_all.regions.unique()\n",
        "print('cats: ' + str(cats))\n",
        "print('regions: ' + str(regions))\n",
        "\n",
        "p = figure(tools = [hover, wZoom, bZoom, reset, tap, pan],\n",
        "           x_range=regions,\n",
        "           # x_range=cats, \n",
        "           title=\"Dice score of nnUNet predictions per label\")\n",
        "\n",
        "p.circle(y='dice_score', x=jitter('regions', width=0.6, range=p.x_range), source=df_all, alpha=1, color='colors')\n",
        "\n",
        "### Include the box plots ### \n",
        "# find the quartiles and IQR for each category\n",
        "\n",
        "# regions are in order we want \n",
        "category_region = pd.api.types.CategoricalDtype(categories=regions, ordered=True)\n",
        "df_all['regions'] = df_all['regions'].astype(category_region)\n",
        "\n",
        "groups = df_all.groupby('regions')\n",
        "q1 = groups.quantile(q=0.25)\n",
        "q2 = groups.quantile(q=0.5)\n",
        "q3 = groups.quantile(q=0.75)\n",
        "iqr = q3 - q1\n",
        "upper = q3 + 1.5*iqr#groups.max()#q3 + 1.5*iqr\n",
        "lower = q1 - 1.5*iqr#groups.min()#q1 - 1.5*iqr\n",
        " \n",
        "# Form the source data to call vbar for upper and lower\n",
        "# boxes to be formed later.\n",
        "upper_source = ColumnDataSource(data=dict(\n",
        "    x=cats, \n",
        "    bottom=q2.dice_score,\n",
        "    top=q3.dice_score,\n",
        "    fill_color=colors,\n",
        "    legend=cats\n",
        "))\n",
        " \n",
        "lower_source = ColumnDataSource(data=dict(\n",
        "    x=cats, \n",
        "    bottom=q1.dice_score,\n",
        "    top=q2.dice_score,\n",
        "    fill_color=colors\n",
        "))\n",
        " \n",
        " \n",
        "# p = figure(tools=\"save\", title=\"\", x_range=df_plot.regions.unique())\n",
        " \n",
        "# stems (Don't need colors of treatment)\n",
        "p.segment(cats, upper.dice_score, cats, q3.dice_score, line_color=\"black\")\n",
        "p.segment(cats, lower.dice_score, cats, q1.dice_score, line_color=\"black\")\n",
        " \n",
        "# Add the upper and lower quartiles\n",
        "l=p.vbar(source = upper_source, x='x', width=0.7, bottom='bottom', top='top', fill_color='fill_color', line_color=\"black\")\n",
        "p.vbar(source = lower_source, x='x', width=0.7, bottom='bottom', top='top', fill_color='fill_color', line_color=\"black\")\n",
        " \n",
        "# whiskers (almost-0 height rects simpler than segments)\n",
        "p.rect(cats, lower.dice_score, 0.2, 0.000001, line_color=\"black\") # was 0.01\n",
        "p.rect(cats, upper.dice_score, 0.2, 0.000001, line_color=\"black\")\n",
        "\n",
        "# Using the newer autogrouped syntax.\n",
        "# Grab a renderer, in this case upper quartile and then\n",
        "# create the legend explicitly.  \n",
        "# Guidance from: https://groups.google.com/a/continuum.io/forum/#!msg/bokeh/uEliQlgj390/Jyhsc5HqAAAJ\n",
        "legend = Legend(items=[LegendItem(label=dict(field=\"x\"), renderers=[l])])\n",
        " \n",
        "p.add_layout(legend, 'below')    \n",
        " \n",
        "# Setup plot titles and such.\n",
        "p.title.text = \"dice_score of nnUNet predictions per label\"\n",
        "p.xgrid.grid_line_color = None\n",
        "p.ygrid.grid_line_color = \"white\"\n",
        "p.grid.grid_line_width = 2\n",
        "p.xaxis.major_label_text_font_size=\"0pt\"\n",
        "p.xaxis.major_label_orientation = np.pi/4\n",
        "p.xaxis.axis_label=\"label\"\n",
        "p.yaxis.axis_label=\"dice_score\"\n",
        "p.legend.location = (100,10)\n",
        " \n",
        "# show(p)\n",
        "########\n",
        "# p.legend.visible=False \n",
        "\n",
        "url=\"@ohif_url\"#SeriesInstanceUID\"\n",
        "taptool = p.select(type=TapTool)\n",
        "taptool.callback = OpenURL(url=url)\n",
        "\n",
        "show(p)"
      ],
      "metadata": {
        "colab": {
          "base_uri": "https://localhost:8080/",
          "height": 949
        },
        "id": "e7H957yP3BkJ",
        "outputId": "88e48fa1-49a2-423f-96de-8a35ec73055e"
      },
      "execution_count": null,
      "outputs": [
        {
          "output_type": "stream",
          "name": "stdout",
          "text": [
            "colormap: {'PZ': '#ff0000', 'Prostate': '#04b404'}\n",
            "colormap_list_keys: ['PZ', 'Prostate']\n",
            "regions: ['PZ', 'Prostate']\n",
            "colors: ['#ff0000', '#04b404']\n",
            "cats: ['PZ' 'Prostate']\n",
            "regions: ['PZ', 'Prostate']\n"
          ]
        },
        {
          "output_type": "stream",
          "name": "stderr",
          "text": [
            "<ipython-input-102-768a927d9830>:49: FutureWarning:\n",
            "\n",
            "Dropping invalid columns in DataFrameGroupBy.quantile is deprecated. In a future version, a TypeError will be raised. Before calling .quantile, select only columns which should be valid for the function.\n",
            "\n",
            "<ipython-input-102-768a927d9830>:50: FutureWarning:\n",
            "\n",
            "Dropping invalid columns in DataFrameGroupBy.quantile is deprecated. In a future version, a TypeError will be raised. Before calling .quantile, select only columns which should be valid for the function.\n",
            "\n",
            "<ipython-input-102-768a927d9830>:51: FutureWarning:\n",
            "\n",
            "Dropping invalid columns in DataFrameGroupBy.quantile is deprecated. In a future version, a TypeError will be raised. Before calling .quantile, select only columns which should be valid for the function.\n",
            "\n"
          ]
        },
        {
          "output_type": "display_data",
          "data": {
            "application/javascript": [
              "\n",
              "(function(root) {\n",
              "  function now() {\n",
              "    return new Date();\n",
              "  }\n",
              "\n",
              "  var force = true;\n",
              "\n",
              "  if (typeof root._bokeh_onload_callbacks === \"undefined\" || force === true) {\n",
              "    root._bokeh_onload_callbacks = [];\n",
              "    root._bokeh_is_loading = undefined;\n",
              "  }\n",
              "\n",
              "  var JS_MIME_TYPE = 'application/javascript';\n",
              "  var HTML_MIME_TYPE = 'text/html';\n",
              "  var EXEC_MIME_TYPE = 'application/vnd.bokehjs_exec.v0+json';\n",
              "  var CLASS_NAME = 'output_bokeh rendered_html';\n",
              "\n",
              "  /**\n",
              "   * Render data to the DOM node\n",
              "   */\n",
              "  function render(props, node) {\n",
              "    var script = document.createElement(\"script\");\n",
              "    node.appendChild(script);\n",
              "  }\n",
              "\n",
              "  /**\n",
              "   * Handle when an output is cleared or removed\n",
              "   */\n",
              "  function handleClearOutput(event, handle) {\n",
              "    var cell = handle.cell;\n",
              "\n",
              "    var id = cell.output_area._bokeh_element_id;\n",
              "    var server_id = cell.output_area._bokeh_server_id;\n",
              "    // Clean up Bokeh references\n",
              "    if (id != null && id in Bokeh.index) {\n",
              "      Bokeh.index[id].model.document.clear();\n",
              "      delete Bokeh.index[id];\n",
              "    }\n",
              "\n",
              "    if (server_id !== undefined) {\n",
              "      // Clean up Bokeh references\n",
              "      var cmd = \"from bokeh.io.state import curstate; print(curstate().uuid_to_server['\" + server_id + \"'].get_sessions()[0].document.roots[0]._id)\";\n",
              "      cell.notebook.kernel.execute(cmd, {\n",
              "        iopub: {\n",
              "          output: function(msg) {\n",
              "            var id = msg.content.text.trim();\n",
              "            if (id in Bokeh.index) {\n",
              "              Bokeh.index[id].model.document.clear();\n",
              "              delete Bokeh.index[id];\n",
              "            }\n",
              "          }\n",
              "        }\n",
              "      });\n",
              "      // Destroy server and session\n",
              "      var cmd = \"import bokeh.io.notebook as ion; ion.destroy_server('\" + server_id + \"')\";\n",
              "      cell.notebook.kernel.execute(cmd);\n",
              "    }\n",
              "  }\n",
              "\n",
              "  /**\n",
              "   * Handle when a new output is added\n",
              "   */\n",
              "  function handleAddOutput(event, handle) {\n",
              "    var output_area = handle.output_area;\n",
              "    var output = handle.output;\n",
              "\n",
              "    // limit handleAddOutput to display_data with EXEC_MIME_TYPE content only\n",
              "    if ((output.output_type != \"display_data\") || (!Object.prototype.hasOwnProperty.call(output.data, EXEC_MIME_TYPE))) {\n",
              "      return\n",
              "    }\n",
              "\n",
              "    var toinsert = output_area.element.find(\".\" + CLASS_NAME.split(' ')[0]);\n",
              "\n",
              "    if (output.metadata[EXEC_MIME_TYPE][\"id\"] !== undefined) {\n",
              "      toinsert[toinsert.length - 1].firstChild.textContent = output.data[JS_MIME_TYPE];\n",
              "      // store reference to embed id on output_area\n",
              "      output_area._bokeh_element_id = output.metadata[EXEC_MIME_TYPE][\"id\"];\n",
              "    }\n",
              "    if (output.metadata[EXEC_MIME_TYPE][\"server_id\"] !== undefined) {\n",
              "      var bk_div = document.createElement(\"div\");\n",
              "      bk_div.innerHTML = output.data[HTML_MIME_TYPE];\n",
              "      var script_attrs = bk_div.children[0].attributes;\n",
              "      for (var i = 0; i < script_attrs.length; i++) {\n",
              "        toinsert[toinsert.length - 1].firstChild.setAttribute(script_attrs[i].name, script_attrs[i].value);\n",
              "        toinsert[toinsert.length - 1].firstChild.textContent = bk_div.children[0].textContent\n",
              "      }\n",
              "      // store reference to server id on output_area\n",
              "      output_area._bokeh_server_id = output.metadata[EXEC_MIME_TYPE][\"server_id\"];\n",
              "    }\n",
              "  }\n",
              "\n",
              "  function register_renderer(events, OutputArea) {\n",
              "\n",
              "    function append_mime(data, metadata, element) {\n",
              "      // create a DOM node to render to\n",
              "      var toinsert = this.create_output_subarea(\n",
              "        metadata,\n",
              "        CLASS_NAME,\n",
              "        EXEC_MIME_TYPE\n",
              "      );\n",
              "      this.keyboard_manager.register_events(toinsert);\n",
              "      // Render to node\n",
              "      var props = {data: data, metadata: metadata[EXEC_MIME_TYPE]};\n",
              "      render(props, toinsert[toinsert.length - 1]);\n",
              "      element.append(toinsert);\n",
              "      return toinsert\n",
              "    }\n",
              "\n",
              "    /* Handle when an output is cleared or removed */\n",
              "    events.on('clear_output.CodeCell', handleClearOutput);\n",
              "    events.on('delete.Cell', handleClearOutput);\n",
              "\n",
              "    /* Handle when a new output is added */\n",
              "    events.on('output_added.OutputArea', handleAddOutput);\n",
              "\n",
              "    /**\n",
              "     * Register the mime type and append_mime function with output_area\n",
              "     */\n",
              "    OutputArea.prototype.register_mime_type(EXEC_MIME_TYPE, append_mime, {\n",
              "      /* Is output safe? */\n",
              "      safe: true,\n",
              "      /* Index of renderer in `output_area.display_order` */\n",
              "      index: 0\n",
              "    });\n",
              "  }\n",
              "\n",
              "  // register the mime type if in Jupyter Notebook environment and previously unregistered\n",
              "  if (root.Jupyter !== undefined) {\n",
              "    var events = require('base/js/events');\n",
              "    var OutputArea = require('notebook/js/outputarea').OutputArea;\n",
              "\n",
              "    if (OutputArea.prototype.mime_types().indexOf(EXEC_MIME_TYPE) == -1) {\n",
              "      register_renderer(events, OutputArea);\n",
              "    }\n",
              "  }\n",
              "\n",
              "  \n",
              "  if (typeof (root._bokeh_timeout) === \"undefined\" || force === true) {\n",
              "    root._bokeh_timeout = Date.now() + 5000;\n",
              "    root._bokeh_failed_load = false;\n",
              "  }\n",
              "\n",
              "  var NB_LOAD_WARNING = {'data': {'text/html':\n",
              "     \"<div style='background-color: #fdd'>\\n\"+\n",
              "     \"<p>\\n\"+\n",
              "     \"BokehJS does not appear to have successfully loaded. If loading BokehJS from CDN, this \\n\"+\n",
              "     \"may be due to a slow or bad network connection. Possible fixes:\\n\"+\n",
              "     \"</p>\\n\"+\n",
              "     \"<ul>\\n\"+\n",
              "     \"<li>re-rerun `output_notebook()` to attempt to load from CDN again, or</li>\\n\"+\n",
              "     \"<li>use INLINE resources instead, as so:</li>\\n\"+\n",
              "     \"</ul>\\n\"+\n",
              "     \"<code>\\n\"+\n",
              "     \"from bokeh.resources import INLINE\\n\"+\n",
              "     \"output_notebook(resources=INLINE)\\n\"+\n",
              "     \"</code>\\n\"+\n",
              "     \"</div>\"}};\n",
              "\n",
              "  function display_loaded() {\n",
              "    var el = document.getElementById(null);\n",
              "    if (el != null) {\n",
              "      el.textContent = \"BokehJS is loading...\";\n",
              "    }\n",
              "    if (root.Bokeh !== undefined) {\n",
              "      if (el != null) {\n",
              "        el.textContent = \"BokehJS \" + root.Bokeh.version + \" successfully loaded.\";\n",
              "      }\n",
              "    } else if (Date.now() < root._bokeh_timeout) {\n",
              "      setTimeout(display_loaded, 100)\n",
              "    }\n",
              "  }\n",
              "\n",
              "\n",
              "  function run_callbacks() {\n",
              "    try {\n",
              "      root._bokeh_onload_callbacks.forEach(function(callback) {\n",
              "        if (callback != null)\n",
              "          callback();\n",
              "      });\n",
              "    } finally {\n",
              "      delete root._bokeh_onload_callbacks\n",
              "    }\n",
              "    console.debug(\"Bokeh: all callbacks have finished\");\n",
              "  }\n",
              "\n",
              "  function load_libs(css_urls, js_urls, callback) {\n",
              "    if (css_urls == null) css_urls = [];\n",
              "    if (js_urls == null) js_urls = [];\n",
              "\n",
              "    root._bokeh_onload_callbacks.push(callback);\n",
              "    if (root._bokeh_is_loading > 0) {\n",
              "      console.debug(\"Bokeh: BokehJS is being loaded, scheduling callback at\", now());\n",
              "      return null;\n",
              "    }\n",
              "    if (js_urls == null || js_urls.length === 0) {\n",
              "      run_callbacks();\n",
              "      return null;\n",
              "    }\n",
              "    console.debug(\"Bokeh: BokehJS not loaded, scheduling load and callback at\", now());\n",
              "    root._bokeh_is_loading = css_urls.length + js_urls.length;\n",
              "\n",
              "    function on_load() {\n",
              "      root._bokeh_is_loading--;\n",
              "      if (root._bokeh_is_loading === 0) {\n",
              "        console.debug(\"Bokeh: all BokehJS libraries/stylesheets loaded\");\n",
              "        run_callbacks()\n",
              "      }\n",
              "    }\n",
              "\n",
              "    function on_error(url) {\n",
              "      console.error(\"failed to load \" + url);\n",
              "    }\n",
              "\n",
              "    for (let i = 0; i < css_urls.length; i++) {\n",
              "      const url = css_urls[i];\n",
              "      const element = document.createElement(\"link\");\n",
              "      element.onload = on_load;\n",
              "      element.onerror = on_error.bind(null, url);\n",
              "      element.rel = \"stylesheet\";\n",
              "      element.type = \"text/css\";\n",
              "      element.href = url;\n",
              "      console.debug(\"Bokeh: injecting link tag for BokehJS stylesheet: \", url);\n",
              "      document.body.appendChild(element);\n",
              "    }\n",
              "\n",
              "    const hashes = {\"https://cdn.bokeh.org/bokeh/release/bokeh-2.3.3.min.js\": \"dM3QQsP+wXdHg42wTqW85BjZQdLNNIXqlPw/BgKoExPmTG7ZLML4EGqLMfqHT6ON\", \"https://cdn.bokeh.org/bokeh/release/bokeh-tables-2.3.3.min.js\": \"8x57I4YuIfu8XyZfFo0XVr2WAT8EK4rh/uDe3wF7YuW2FNUSNEpJbsPaB1nJ2fz2\", \"https://cdn.bokeh.org/bokeh/release/bokeh-widgets-2.3.3.min.js\": \"3QTqdz9LyAm2i0sG5XTePsHec3UHWwVsrOL68SYRoAXsafvfAyqtQ+h440+qIBhS\"};\n",
              "\n",
              "    for (let i = 0; i < js_urls.length; i++) {\n",
              "      const url = js_urls[i];\n",
              "      const element = document.createElement('script');\n",
              "      element.onload = on_load;\n",
              "      element.onerror = on_error.bind(null, url);\n",
              "      element.async = false;\n",
              "      element.src = url;\n",
              "      if (url in hashes) {\n",
              "        element.crossOrigin = \"anonymous\";\n",
              "        element.integrity = \"sha384-\" + hashes[url];\n",
              "      }\n",
              "      console.debug(\"Bokeh: injecting script tag for BokehJS library: \", url);\n",
              "      document.head.appendChild(element);\n",
              "    }\n",
              "  };\n",
              "\n",
              "  function inject_raw_css(css) {\n",
              "    const element = document.createElement(\"style\");\n",
              "    element.appendChild(document.createTextNode(css));\n",
              "    document.body.appendChild(element);\n",
              "  }\n",
              "\n",
              "  \n",
              "  var js_urls = [\"https://cdn.bokeh.org/bokeh/release/bokeh-2.3.3.min.js\", \"https://cdn.bokeh.org/bokeh/release/bokeh-widgets-2.3.3.min.js\", \"https://cdn.bokeh.org/bokeh/release/bokeh-tables-2.3.3.min.js\"];\n",
              "  var css_urls = [];\n",
              "  \n",
              "\n",
              "  var inline_js = [\n",
              "    function(Bokeh) {\n",
              "      Bokeh.set_log_level(\"info\");\n",
              "    },\n",
              "    function(Bokeh) {\n",
              "    \n",
              "    \n",
              "    }\n",
              "  ];\n",
              "\n",
              "  function run_inline_js() {\n",
              "    \n",
              "    if (root.Bokeh !== undefined || force === true) {\n",
              "      \n",
              "    for (var i = 0; i < inline_js.length; i++) {\n",
              "      inline_js[i].call(root, root.Bokeh);\n",
              "    }\n",
              "    } else if (Date.now() < root._bokeh_timeout) {\n",
              "      setTimeout(run_inline_js, 100);\n",
              "    } else if (!root._bokeh_failed_load) {\n",
              "      console.log(\"Bokeh: BokehJS failed to load within specified timeout.\");\n",
              "      root._bokeh_failed_load = true;\n",
              "    } else if (force !== true) {\n",
              "      var cell = $(document.getElementById(null)).parents('.cell').data().cell;\n",
              "      cell.output_area.append_execute_result(NB_LOAD_WARNING)\n",
              "    }\n",
              "\n",
              "  }\n",
              "\n",
              "  if (root._bokeh_is_loading === 0) {\n",
              "    console.debug(\"Bokeh: BokehJS loaded, going straight to plotting\");\n",
              "    run_inline_js();\n",
              "  } else {\n",
              "    load_libs(css_urls, js_urls, function() {\n",
              "      console.debug(\"Bokeh: BokehJS plotting callback run at\", now());\n",
              "      run_inline_js();\n",
              "    });\n",
              "  }\n",
              "}(window));"
            ],
            "application/vnd.bokehjs_load.v0+json": "\n(function(root) {\n  function now() {\n    return new Date();\n  }\n\n  var force = true;\n\n  if (typeof root._bokeh_onload_callbacks === \"undefined\" || force === true) {\n    root._bokeh_onload_callbacks = [];\n    root._bokeh_is_loading = undefined;\n  }\n\n  \n\n  \n  if (typeof (root._bokeh_timeout) === \"undefined\" || force === true) {\n    root._bokeh_timeout = Date.now() + 5000;\n    root._bokeh_failed_load = false;\n  }\n\n  var NB_LOAD_WARNING = {'data': {'text/html':\n     \"<div style='background-color: #fdd'>\\n\"+\n     \"<p>\\n\"+\n     \"BokehJS does not appear to have successfully loaded. If loading BokehJS from CDN, this \\n\"+\n     \"may be due to a slow or bad network connection. Possible fixes:\\n\"+\n     \"</p>\\n\"+\n     \"<ul>\\n\"+\n     \"<li>re-rerun `output_notebook()` to attempt to load from CDN again, or</li>\\n\"+\n     \"<li>use INLINE resources instead, as so:</li>\\n\"+\n     \"</ul>\\n\"+\n     \"<code>\\n\"+\n     \"from bokeh.resources import INLINE\\n\"+\n     \"output_notebook(resources=INLINE)\\n\"+\n     \"</code>\\n\"+\n     \"</div>\"}};\n\n  function display_loaded() {\n    var el = document.getElementById(null);\n    if (el != null) {\n      el.textContent = \"BokehJS is loading...\";\n    }\n    if (root.Bokeh !== undefined) {\n      if (el != null) {\n        el.textContent = \"BokehJS \" + root.Bokeh.version + \" successfully loaded.\";\n      }\n    } else if (Date.now() < root._bokeh_timeout) {\n      setTimeout(display_loaded, 100)\n    }\n  }\n\n\n  function run_callbacks() {\n    try {\n      root._bokeh_onload_callbacks.forEach(function(callback) {\n        if (callback != null)\n          callback();\n      });\n    } finally {\n      delete root._bokeh_onload_callbacks\n    }\n    console.debug(\"Bokeh: all callbacks have finished\");\n  }\n\n  function load_libs(css_urls, js_urls, callback) {\n    if (css_urls == null) css_urls = [];\n    if (js_urls == null) js_urls = [];\n\n    root._bokeh_onload_callbacks.push(callback);\n    if (root._bokeh_is_loading > 0) {\n      console.debug(\"Bokeh: BokehJS is being loaded, scheduling callback at\", now());\n      return null;\n    }\n    if (js_urls == null || js_urls.length === 0) {\n      run_callbacks();\n      return null;\n    }\n    console.debug(\"Bokeh: BokehJS not loaded, scheduling load and callback at\", now());\n    root._bokeh_is_loading = css_urls.length + js_urls.length;\n\n    function on_load() {\n      root._bokeh_is_loading--;\n      if (root._bokeh_is_loading === 0) {\n        console.debug(\"Bokeh: all BokehJS libraries/stylesheets loaded\");\n        run_callbacks()\n      }\n    }\n\n    function on_error(url) {\n      console.error(\"failed to load \" + url);\n    }\n\n    for (let i = 0; i < css_urls.length; i++) {\n      const url = css_urls[i];\n      const element = document.createElement(\"link\");\n      element.onload = on_load;\n      element.onerror = on_error.bind(null, url);\n      element.rel = \"stylesheet\";\n      element.type = \"text/css\";\n      element.href = url;\n      console.debug(\"Bokeh: injecting link tag for BokehJS stylesheet: \", url);\n      document.body.appendChild(element);\n    }\n\n    const hashes = {\"https://cdn.bokeh.org/bokeh/release/bokeh-2.3.3.min.js\": \"dM3QQsP+wXdHg42wTqW85BjZQdLNNIXqlPw/BgKoExPmTG7ZLML4EGqLMfqHT6ON\", \"https://cdn.bokeh.org/bokeh/release/bokeh-tables-2.3.3.min.js\": \"8x57I4YuIfu8XyZfFo0XVr2WAT8EK4rh/uDe3wF7YuW2FNUSNEpJbsPaB1nJ2fz2\", \"https://cdn.bokeh.org/bokeh/release/bokeh-widgets-2.3.3.min.js\": \"3QTqdz9LyAm2i0sG5XTePsHec3UHWwVsrOL68SYRoAXsafvfAyqtQ+h440+qIBhS\"};\n\n    for (let i = 0; i < js_urls.length; i++) {\n      const url = js_urls[i];\n      const element = document.createElement('script');\n      element.onload = on_load;\n      element.onerror = on_error.bind(null, url);\n      element.async = false;\n      element.src = url;\n      if (url in hashes) {\n        element.crossOrigin = \"anonymous\";\n        element.integrity = \"sha384-\" + hashes[url];\n      }\n      console.debug(\"Bokeh: injecting script tag for BokehJS library: \", url);\n      document.head.appendChild(element);\n    }\n  };\n\n  function inject_raw_css(css) {\n    const element = document.createElement(\"style\");\n    element.appendChild(document.createTextNode(css));\n    document.body.appendChild(element);\n  }\n\n  \n  var js_urls = [\"https://cdn.bokeh.org/bokeh/release/bokeh-2.3.3.min.js\", \"https://cdn.bokeh.org/bokeh/release/bokeh-widgets-2.3.3.min.js\", \"https://cdn.bokeh.org/bokeh/release/bokeh-tables-2.3.3.min.js\"];\n  var css_urls = [];\n  \n\n  var inline_js = [\n    function(Bokeh) {\n      Bokeh.set_log_level(\"info\");\n    },\n    function(Bokeh) {\n    \n    \n    }\n  ];\n\n  function run_inline_js() {\n    \n    if (root.Bokeh !== undefined || force === true) {\n      \n    for (var i = 0; i < inline_js.length; i++) {\n      inline_js[i].call(root, root.Bokeh);\n    }\n    } else if (Date.now() < root._bokeh_timeout) {\n      setTimeout(run_inline_js, 100);\n    } else if (!root._bokeh_failed_load) {\n      console.log(\"Bokeh: BokehJS failed to load within specified timeout.\");\n      root._bokeh_failed_load = true;\n    } else if (force !== true) {\n      var cell = $(document.getElementById(null)).parents('.cell').data().cell;\n      cell.output_area.append_execute_result(NB_LOAD_WARNING)\n    }\n\n  }\n\n  if (root._bokeh_is_loading === 0) {\n    console.debug(\"Bokeh: BokehJS loaded, going straight to plotting\");\n    run_inline_js();\n  } else {\n    load_libs(css_urls, js_urls, function() {\n      console.debug(\"Bokeh: BokehJS plotting callback run at\", now());\n      run_inline_js();\n    });\n  }\n}(window));"
          },
          "metadata": {}
        },
        {
          "output_type": "display_data",
          "data": {
            "text/html": [
              "\n",
              "\n",
              "\n",
              "\n",
              "\n",
              "\n",
              "  <div class=\"bk-root\" id=\"f44180c1-ecad-4512-b41b-6ab184677a90\" data-root-id=\"1486\"></div>\n"
            ]
          },
          "metadata": {}
        },
        {
          "output_type": "display_data",
          "data": {
            "application/javascript": [
              "(function(root) {\n",
              "  function embed_document(root) {\n",
              "    \n",
              "  var docs_json = {\"121df6f9-0c6c-4b04-84f3-d9e29c6bb210\":{\"defs\":[],\"roots\":{\"references\":[{\"attributes\":{\"below\":[{\"id\":\"1497\"},{\"id\":\"1552\"}],\"center\":[{\"id\":\"1499\"},{\"id\":\"1503\"}],\"left\":[{\"id\":\"1500\"}],\"renderers\":[{\"id\":\"1517\"},{\"id\":\"1524\"},{\"id\":\"1529\"},{\"id\":\"1534\"},{\"id\":\"1539\"},{\"id\":\"1544\"},{\"id\":\"1549\"}],\"title\":{\"id\":\"1487\"},\"toolbar\":{\"id\":\"1505\"},\"x_range\":{\"id\":\"1489\"},\"x_scale\":{\"id\":\"1493\"},\"y_range\":{\"id\":\"1491\"},\"y_scale\":{\"id\":\"1495\"}},\"id\":\"1486\",\"subtype\":\"Figure\",\"type\":\"Plot\"},{\"attributes\":{\"callback\":null,\"tooltips\":[[\"(dice_score)\",\"($y)\"]]},\"id\":\"1480\",\"type\":\"HoverTool\"},{\"attributes\":{\"axis\":{\"id\":\"1500\"},\"dimension\":1,\"grid_line_color\":\"white\",\"grid_line_width\":2,\"ticker\":null},\"id\":\"1503\",\"type\":\"Grid\"},{\"attributes\":{\"active_multi\":null,\"tools\":[{\"id\":\"1480\"},{\"id\":\"1481\"},{\"id\":\"1482\"},{\"id\":\"1483\"},{\"id\":\"1484\"},{\"id\":\"1485\"}]},\"id\":\"1505\",\"type\":\"Toolbar\"},{\"attributes\":{},\"id\":\"1493\",\"type\":\"CategoricalScale\"},{\"attributes\":{\"line_alpha\":{\"value\":0.1},\"x0\":{\"field\":\"x0\"},\"x1\":{\"field\":\"x1\"},\"y0\":{\"field\":\"y0\"},\"y1\":{\"field\":\"y1\"}},\"id\":\"1523\",\"type\":\"Segment\"},{\"attributes\":{\"x0\":{\"field\":\"x0\"},\"x1\":{\"field\":\"x1\"},\"y0\":{\"field\":\"y0\"},\"y1\":{\"field\":\"y1\"}},\"id\":\"1527\",\"type\":\"Segment\"},{\"attributes\":{\"data_source\":{\"id\":\"1513\"},\"glyph\":{\"id\":\"1515\"},\"hover_glyph\":null,\"muted_glyph\":null,\"nonselection_glyph\":{\"id\":\"1516\"},\"view\":{\"id\":\"1518\"}},\"id\":\"1517\",\"type\":\"GlyphRenderer\"},{\"attributes\":{\"axis_label\":\"dice_score\",\"formatter\":{\"id\":\"1555\"},\"major_label_policy\":{\"id\":\"1556\"},\"ticker\":{\"id\":\"1501\"}},\"id\":\"1500\",\"type\":\"LinearAxis\"},{\"attributes\":{},\"id\":\"1501\",\"type\":\"BasicTicker\"},{\"attributes\":{\"x0\":{\"field\":\"x0\"},\"x1\":{\"field\":\"x1\"},\"y0\":{\"field\":\"y0\"},\"y1\":{\"field\":\"y1\"}},\"id\":\"1522\",\"type\":\"Segment\"},{\"attributes\":{\"overlay\":{\"id\":\"1504\"}},\"id\":\"1482\",\"type\":\"BoxZoomTool\"},{\"attributes\":{},\"id\":\"1483\",\"type\":\"ResetTool\"},{\"attributes\":{},\"id\":\"1481\",\"type\":\"WheelZoomTool\"},{\"attributes\":{\"callback\":{\"id\":\"1575\"}},\"id\":\"1484\",\"type\":\"TapTool\"},{\"attributes\":{},\"id\":\"1485\",\"type\":\"PanTool\"},{\"attributes\":{},\"id\":\"1491\",\"type\":\"DataRange1d\"},{\"attributes\":{\"text\":\"dice_score of nnUNet predictions per label\"},\"id\":\"1487\",\"type\":\"Title\"},{\"attributes\":{},\"id\":\"1495\",\"type\":\"LinearScale\"},{\"attributes\":{\"factors\":[\"PZ\",\"Prostate\"]},\"id\":\"1489\",\"type\":\"FactorRange\"},{\"attributes\":{\"fill_color\":{\"field\":\"colors\"},\"line_color\":{\"field\":\"colors\"},\"x\":{\"field\":\"regions\",\"transform\":{\"id\":\"1512\"}},\"y\":{\"field\":\"dice_score\"}},\"id\":\"1515\",\"type\":\"Circle\"},{\"attributes\":{\"bottom_units\":\"screen\",\"fill_alpha\":0.5,\"fill_color\":\"lightgrey\",\"left_units\":\"screen\",\"level\":\"overlay\",\"line_alpha\":1.0,\"line_color\":\"black\",\"line_dash\":[4,4],\"line_width\":2,\"right_units\":\"screen\",\"syncable\":false,\"top_units\":\"screen\"},\"id\":\"1504\",\"type\":\"BoxAnnotation\"},{\"attributes\":{\"fill_alpha\":{\"value\":0.1},\"fill_color\":{\"field\":\"colors\"},\"line_alpha\":{\"value\":0.1},\"line_color\":{\"field\":\"colors\"},\"x\":{\"field\":\"regions\",\"transform\":{\"id\":\"1512\"}},\"y\":{\"field\":\"dice_score\"}},\"id\":\"1516\",\"type\":\"Circle\"},{\"attributes\":{\"source\":{\"id\":\"1513\"}},\"id\":\"1518\",\"type\":\"CDSView\"},{\"attributes\":{\"source\":{\"id\":\"1519\"}},\"id\":\"1535\",\"type\":\"CDSView\"},{\"attributes\":{},\"id\":\"1558\",\"type\":\"CategoricalTickFormatter\"},{\"attributes\":{\"source\":{\"id\":\"1526\"}},\"id\":\"1530\",\"type\":\"CDSView\"},{\"attributes\":{},\"id\":\"1566\",\"type\":\"Selection\"},{\"attributes\":{\"data\":{\"x0\":[\"PZ\",\"Prostate\"],\"x1\":[\"PZ\",\"Prostate\"],\"y0\":{\"__ndarray__\":\"ahDmdi+39j/6vU1/9sPvPw==\",\"dtype\":\"float64\",\"order\":\"little\",\"shape\":[2]},\"y1\":{\"__ndarray__\":\"E2HD0ytl5z/G+3H75ZPsPw==\",\"dtype\":\"float64\",\"order\":\"little\",\"shape\":[2]}},\"selected\":{\"id\":\"1562\"},\"selection_policy\":{\"id\":\"1563\"}},\"id\":\"1521\",\"type\":\"ColumnDataSource\"},{\"attributes\":{},\"id\":\"1559\",\"type\":\"AllLabels\"},{\"attributes\":{\"bottom\":{\"field\":\"bottom\"},\"fill_alpha\":{\"value\":0.1},\"fill_color\":{\"field\":\"fill_color\"},\"line_alpha\":{\"value\":0.1},\"top\":{\"field\":\"top\"},\"width\":{\"value\":0.7},\"x\":{\"field\":\"x\"}},\"id\":\"1538\",\"type\":\"VBar\"},{\"attributes\":{},\"id\":\"1567\",\"type\":\"UnionRenderers\"},{\"attributes\":{\"data\":{\"x0\":[\"PZ\",\"Prostate\"],\"x1\":[\"PZ\",\"Prostate\"],\"y0\":{\"__ndarray__\":\"tmeWBKip2r8auAN1ykPnPw==\",\"dtype\":\"float64\",\"order\":\"little\",\"shape\":[2]},\"y1\":{\"__ndarray__\":\"zhd7L75o0T9Oet/42nPqPw==\",\"dtype\":\"float64\",\"order\":\"little\",\"shape\":[2]}},\"selected\":{\"id\":\"1564\"},\"selection_policy\":{\"id\":\"1565\"}},\"id\":\"1526\",\"type\":\"ColumnDataSource\"},{\"attributes\":{\"bottom\":{\"field\":\"bottom\"},\"fill_color\":{\"field\":\"fill_color\"},\"top\":{\"field\":\"top\"},\"width\":{\"value\":0.7},\"x\":{\"field\":\"x\"}},\"id\":\"1537\",\"type\":\"VBar\"},{\"attributes\":{\"source\":{\"id\":\"1520\"}},\"id\":\"1540\",\"type\":\"CDSView\"},{\"attributes\":{\"bottom\":{\"field\":\"bottom\"},\"fill_alpha\":{\"value\":0.1},\"fill_color\":{\"field\":\"fill_color\"},\"line_alpha\":{\"value\":0.1},\"top\":{\"field\":\"top\"},\"width\":{\"value\":0.7},\"x\":{\"field\":\"x\"}},\"id\":\"1533\",\"type\":\"VBar\"},{\"attributes\":{\"data_source\":{\"id\":\"1519\"},\"glyph\":{\"id\":\"1532\"},\"hover_glyph\":null,\"muted_glyph\":null,\"nonselection_glyph\":{\"id\":\"1533\"},\"view\":{\"id\":\"1535\"}},\"id\":\"1534\",\"type\":\"GlyphRenderer\"},{\"attributes\":{},\"id\":\"1568\",\"type\":\"Selection\"},{\"attributes\":{\"fill_alpha\":{\"value\":0.1},\"fill_color\":{\"value\":\"#1f77b4\"},\"height\":{\"value\":1e-06},\"line_alpha\":{\"value\":0.1},\"width\":{\"value\":0.2},\"x\":{\"field\":\"x\"},\"y\":{\"field\":\"y\"}},\"id\":\"1543\",\"type\":\"Rect\"},{\"attributes\":{\"fill_color\":{\"value\":\"#1f77b4\"},\"height\":{\"value\":1e-06},\"width\":{\"value\":0.2},\"x\":{\"field\":\"x\"},\"y\":{\"field\":\"y\"}},\"id\":\"1542\",\"type\":\"Rect\"},{\"attributes\":{},\"id\":\"1569\",\"type\":\"UnionRenderers\"},{\"attributes\":{\"data\":{\"x\":[\"PZ\",\"Prostate\"],\"y\":{\"__ndarray__\":\"tmeWBKip2r8auAN1ykPnPw==\",\"dtype\":\"float64\",\"order\":\"little\",\"shape\":[2]}},\"selected\":{\"id\":\"1570\"},\"selection_policy\":{\"id\":\"1571\"}},\"id\":\"1541\",\"type\":\"ColumnDataSource\"},{\"attributes\":{\"data_source\":{\"id\":\"1521\"},\"glyph\":{\"id\":\"1522\"},\"hover_glyph\":null,\"muted_glyph\":null,\"nonselection_glyph\":{\"id\":\"1523\"},\"view\":{\"id\":\"1525\"}},\"id\":\"1524\",\"type\":\"GlyphRenderer\"},{\"attributes\":{\"data_source\":{\"id\":\"1541\"},\"glyph\":{\"id\":\"1542\"},\"hover_glyph\":null,\"muted_glyph\":null,\"nonselection_glyph\":{\"id\":\"1543\"},\"view\":{\"id\":\"1545\"}},\"id\":\"1544\",\"type\":\"GlyphRenderer\"},{\"attributes\":{\"data_source\":{\"id\":\"1520\"},\"glyph\":{\"id\":\"1537\"},\"hover_glyph\":null,\"muted_glyph\":null,\"nonselection_glyph\":{\"id\":\"1538\"},\"view\":{\"id\":\"1540\"}},\"id\":\"1539\",\"type\":\"GlyphRenderer\"},{\"attributes\":{\"items\":[{\"id\":\"1551\"}],\"location\":[100,10]},\"id\":\"1552\",\"type\":\"Legend\"},{\"attributes\":{\"fill_color\":{\"value\":\"#1f77b4\"},\"height\":{\"value\":1e-06},\"width\":{\"value\":0.2},\"x\":{\"field\":\"x\"},\"y\":{\"field\":\"y\"}},\"id\":\"1547\",\"type\":\"Rect\"},{\"attributes\":{\"data\":{\"x\":[\"PZ\",\"Prostate\"],\"y\":{\"__ndarray__\":\"ahDmdi+39j/6vU1/9sPvPw==\",\"dtype\":\"float64\",\"order\":\"little\",\"shape\":[2]}},\"selected\":{\"id\":\"1572\"},\"selection_policy\":{\"id\":\"1573\"}},\"id\":\"1546\",\"type\":\"ColumnDataSource\"},{\"attributes\":{\"label\":{\"field\":\"x\"},\"renderers\":[{\"id\":\"1534\"}]},\"id\":\"1551\",\"type\":\"LegendItem\"},{\"attributes\":{\"fill_alpha\":{\"value\":0.1},\"fill_color\":{\"value\":\"#1f77b4\"},\"height\":{\"value\":1e-06},\"line_alpha\":{\"value\":0.1},\"width\":{\"value\":0.2},\"x\":{\"field\":\"x\"},\"y\":{\"field\":\"y\"}},\"id\":\"1548\",\"type\":\"Rect\"},{\"attributes\":{\"source\":{\"id\":\"1541\"}},\"id\":\"1545\",\"type\":\"CDSView\"},{\"attributes\":{\"data_source\":{\"id\":\"1546\"},\"glyph\":{\"id\":\"1547\"},\"hover_glyph\":null,\"muted_glyph\":null,\"nonselection_glyph\":{\"id\":\"1548\"},\"view\":{\"id\":\"1550\"}},\"id\":\"1549\",\"type\":\"GlyphRenderer\"},{\"attributes\":{},\"id\":\"1570\",\"type\":\"Selection\"},{\"attributes\":{\"source\":{\"id\":\"1546\"}},\"id\":\"1550\",\"type\":\"CDSView\"},{\"attributes\":{},\"id\":\"1571\",\"type\":\"UnionRenderers\"},{\"attributes\":{\"data\":{\"Modality\":[\"SEG\",\"SEG\",\"SEG\",\"SEG\",\"SEG\",\"SEG\",\"SEG\",\"SEG\",\"SEG\",\"SEG\",\"SEG\",\"SEG\",\"SEG\",\"SEG\",\"SEG\",\"SEG\",\"SEG\",\"SEG\",\"SEG\",\"SEG\",\"SEG\",\"SEG\",\"SEG\",\"SEG\",\"SEG\",\"SEG\",\"SEG\",\"SEG\",\"SEG\",\"SEG\",\"SEG\",\"SEG\",\"SEG\",\"SEG\",\"SEG\",\"SEG\",\"SEG\",\"SEG\",\"SEG\",\"SEG\",\"SEG\",\"SEG\",\"SEG\",\"SEG\",\"SEG\",\"SEG\",\"SEG\",\"SEG\",\"SEG\",\"SEG\",\"SEG\",\"SEG\",\"SEG\",\"SEG\",\"SEG\",\"SEG\",\"SEG\",\"SEG\",\"SEG\",\"SEG\"],\"PatientID\":[\"PCAMPMRI-00008\",\"PCAMPMRI-00008\",\"PCAMPMRI-00009\",\"PCAMPMRI-00009\",\"PCAMPMRI-00010\",\"PCAMPMRI-00010\",\"PCAMPMRI-00011\",\"PCAMPMRI-00011\",\"PCAMPMRI-00012\",\"PCAMPMRI-00012\",\"PCAMPMRI-00013\",\"PCAMPMRI-00013\",\"PCAMPMRI-00014\",\"PCAMPMRI-00014\",\"PCAMPMRI-00015\",\"PCAMPMRI-00015\",\"PCAMPMRI-00001\",\"PCAMPMRI-00002\",\"PCAMPMRI-00002\",\"PCAMPMRI-00001\",\"PCAMPMRI-00003\",\"PCAMPMRI-00003\",\"PCAMPMRI-00004\",\"PCAMPMRI-00007\",\"PCAMPMRI-00005\",\"PCAMPMRI-00006\",\"PCAMPMRI-00006\",\"PCAMPMRI-00007\",\"PCAMPMRI-00004\",\"PCAMPMRI-00005\",\"PCAMPMRI-00008\",\"PCAMPMRI-00008\",\"PCAMPMRI-00009\",\"PCAMPMRI-00009\",\"PCAMPMRI-00010\",\"PCAMPMRI-00010\",\"PCAMPMRI-00011\",\"PCAMPMRI-00011\",\"PCAMPMRI-00012\",\"PCAMPMRI-00012\",\"PCAMPMRI-00013\",\"PCAMPMRI-00013\",\"PCAMPMRI-00014\",\"PCAMPMRI-00014\",\"PCAMPMRI-00015\",\"PCAMPMRI-00015\",\"PCAMPMRI-00001\",\"PCAMPMRI-00002\",\"PCAMPMRI-00002\",\"PCAMPMRI-00001\",\"PCAMPMRI-00003\",\"PCAMPMRI-00003\",\"PCAMPMRI-00004\",\"PCAMPMRI-00007\",\"PCAMPMRI-00005\",\"PCAMPMRI-00006\",\"PCAMPMRI-00006\",\"PCAMPMRI-00007\",\"PCAMPMRI-00004\",\"PCAMPMRI-00005\"],\"RefSerieUID\":[\"1.3.6.1.4.1.14519.5.2.1.3671.4754.289381776301402611413405156513\",\"1.3.6.1.4.1.14519.5.2.1.3671.4754.331664318047739623745747449088\",\"1.3.6.1.4.1.14519.5.2.1.3671.4754.117459950571016749056636056931\",\"1.3.6.1.4.1.14519.5.2.1.3671.4754.192331874422392619419648373709\",\"1.3.6.1.4.1.14519.5.2.1.3671.4754.105976129314091491952445656147\",\"1.3.6.1.4.1.14519.5.2.1.3671.4754.218938411300600171613807256501\",\"1.3.6.1.4.1.14519.5.2.1.3671.4754.212083125906384321957172108223\",\"1.3.6.1.4.1.14519.5.2.1.3671.4754.338491148696735703564376647888\",\"1.3.6.1.4.1.14519.5.2.1.3671.4754.112304063989226412927473616890\",\"1.3.6.1.4.1.14519.5.2.1.3671.4754.230497515093449653192531406300\",\"1.3.6.1.4.1.14519.5.2.1.3671.4754.300394189684830993064983395096\",\"1.3.6.1.4.1.14519.5.2.1.3671.4754.130390636778604536980897019189\",\"1.3.6.1.4.1.14519.5.2.1.3671.4754.654327272206188613770270554127\",\"1.3.6.1.4.1.14519.5.2.1.3671.4754.155463265953508142920250222172\",\"1.3.6.1.4.1.14519.5.2.1.3671.4754.621341845114918594203879249474\",\"1.3.6.1.4.1.14519.5.2.1.3671.4754.212056086412825832650405216150\",\"1.3.6.1.4.1.14519.5.2.1.3671.4754.609837242670719860929372097937\",\"1.3.6.1.4.1.14519.5.2.1.3671.4754.322350301601580056579486694857\",\"1.3.6.1.4.1.14519.5.2.1.3671.4754.191214456779267394167353214845\",\"1.3.6.1.4.1.14519.5.2.1.3671.4754.983460207615355998147518323000\",\"1.3.6.1.4.1.14519.5.2.1.3671.4754.325025234684823400088057259802\",\"1.3.6.1.4.1.14519.5.2.1.3671.4754.165941479363091869002475812419\",\"1.3.6.1.4.1.14519.5.2.1.3671.4754.159133597250698591956627534407\",\"1.3.6.1.4.1.14519.5.2.1.3671.4754.330807155674174304012309699936\",\"1.3.6.1.4.1.14519.5.2.1.3671.4754.286942517091753799015309738287\",\"1.3.6.1.4.1.14519.5.2.1.3671.4754.124813816937601110554342446480\",\"1.3.6.1.4.1.14519.5.2.1.3671.4754.330595492110314365252888110460\",\"1.3.6.1.4.1.14519.5.2.1.3671.4754.251062001905949495873517695182\",\"1.3.6.1.4.1.14519.5.2.1.3671.4754.242851658965322332393259472017\",\"1.3.6.1.4.1.14519.5.2.1.3671.4754.614440195550629594157279113517\",\"1.3.6.1.4.1.14519.5.2.1.3671.4754.289381776301402611413405156513\",\"1.3.6.1.4.1.14519.5.2.1.3671.4754.331664318047739623745747449088\",\"1.3.6.1.4.1.14519.5.2.1.3671.4754.117459950571016749056636056931\",\"1.3.6.1.4.1.14519.5.2.1.3671.4754.192331874422392619419648373709\",\"1.3.6.1.4.1.14519.5.2.1.3671.4754.105976129314091491952445656147\",\"1.3.6.1.4.1.14519.5.2.1.3671.4754.218938411300600171613807256501\",\"1.3.6.1.4.1.14519.5.2.1.3671.4754.212083125906384321957172108223\",\"1.3.6.1.4.1.14519.5.2.1.3671.4754.338491148696735703564376647888\",\"1.3.6.1.4.1.14519.5.2.1.3671.4754.230497515093449653192531406300\",\"1.3.6.1.4.1.14519.5.2.1.3671.4754.112304063989226412927473616890\",\"1.3.6.1.4.1.14519.5.2.1.3671.4754.130390636778604536980897019189\",\"1.3.6.1.4.1.14519.5.2.1.3671.4754.300394189684830993064983395096\",\"1.3.6.1.4.1.14519.5.2.1.3671.4754.155463265953508142920250222172\",\"1.3.6.1.4.1.14519.5.2.1.3671.4754.654327272206188613770270554127\",\"1.3.6.1.4.1.14519.5.2.1.3671.4754.621341845114918594203879249474\",\"1.3.6.1.4.1.14519.5.2.1.3671.4754.212056086412825832650405216150\",\"1.3.6.1.4.1.14519.5.2.1.3671.4754.609837242670719860929372097937\",\"1.3.6.1.4.1.14519.5.2.1.3671.4754.322350301601580056579486694857\",\"1.3.6.1.4.1.14519.5.2.1.3671.4754.191214456779267394167353214845\",\"1.3.6.1.4.1.14519.5.2.1.3671.4754.983460207615355998147518323000\",\"1.3.6.1.4.1.14519.5.2.1.3671.4754.165941479363091869002475812419\",\"1.3.6.1.4.1.14519.5.2.1.3671.4754.325025234684823400088057259802\",\"1.3.6.1.4.1.14519.5.2.1.3671.4754.159133597250698591956627534407\",\"1.3.6.1.4.1.14519.5.2.1.3671.4754.330807155674174304012309699936\",\"1.3.6.1.4.1.14519.5.2.1.3671.4754.286942517091753799015309738287\",\"1.3.6.1.4.1.14519.5.2.1.3671.4754.124813816937601110554342446480\",\"1.3.6.1.4.1.14519.5.2.1.3671.4754.330595492110314365252888110460\",\"1.3.6.1.4.1.14519.5.2.1.3671.4754.251062001905949495873517695182\",\"1.3.6.1.4.1.14519.5.2.1.3671.4754.242851658965322332393259472017\",\"1.3.6.1.4.1.14519.5.2.1.3671.4754.614440195550629594157279113517\"],\"ReferencedSeriesInstanceUID\":[\"1.3.6.1.4.1.14519.5.2.1.3671.4754.289381776301402611413405156513\",\"1.3.6.1.4.1.14519.5.2.1.3671.4754.331664318047739623745747449088\",\"1.3.6.1.4.1.14519.5.2.1.3671.4754.117459950571016749056636056931\",\"1.3.6.1.4.1.14519.5.2.1.3671.4754.192331874422392619419648373709\",\"1.3.6.1.4.1.14519.5.2.1.3671.4754.105976129314091491952445656147\",\"1.3.6.1.4.1.14519.5.2.1.3671.4754.218938411300600171613807256501\",\"1.3.6.1.4.1.14519.5.2.1.3671.4754.212083125906384321957172108223\",\"1.3.6.1.4.1.14519.5.2.1.3671.4754.338491148696735703564376647888\",\"1.3.6.1.4.1.14519.5.2.1.3671.4754.112304063989226412927473616890\",\"1.3.6.1.4.1.14519.5.2.1.3671.4754.230497515093449653192531406300\",\"1.3.6.1.4.1.14519.5.2.1.3671.4754.300394189684830993064983395096\",\"1.3.6.1.4.1.14519.5.2.1.3671.4754.130390636778604536980897019189\",\"1.3.6.1.4.1.14519.5.2.1.3671.4754.654327272206188613770270554127\",\"1.3.6.1.4.1.14519.5.2.1.3671.4754.155463265953508142920250222172\",\"1.3.6.1.4.1.14519.5.2.1.3671.4754.621341845114918594203879249474\",\"1.3.6.1.4.1.14519.5.2.1.3671.4754.212056086412825832650405216150\",\"1.3.6.1.4.1.14519.5.2.1.3671.4754.609837242670719860929372097937\",\"1.3.6.1.4.1.14519.5.2.1.3671.4754.322350301601580056579486694857\",\"1.3.6.1.4.1.14519.5.2.1.3671.4754.191214456779267394167353214845\",\"1.3.6.1.4.1.14519.5.2.1.3671.4754.983460207615355998147518323000\",\"1.3.6.1.4.1.14519.5.2.1.3671.4754.325025234684823400088057259802\",\"1.3.6.1.4.1.14519.5.2.1.3671.4754.165941479363091869002475812419\",\"1.3.6.1.4.1.14519.5.2.1.3671.4754.159133597250698591956627534407\",\"1.3.6.1.4.1.14519.5.2.1.3671.4754.330807155674174304012309699936\",\"1.3.6.1.4.1.14519.5.2.1.3671.4754.286942517091753799015309738287\",\"1.3.6.1.4.1.14519.5.2.1.3671.4754.124813816937601110554342446480\",\"1.3.6.1.4.1.14519.5.2.1.3671.4754.330595492110314365252888110460\",\"1.3.6.1.4.1.14519.5.2.1.3671.4754.251062001905949495873517695182\",\"1.3.6.1.4.1.14519.5.2.1.3671.4754.242851658965322332393259472017\",\"1.3.6.1.4.1.14519.5.2.1.3671.4754.614440195550629594157279113517\",\"1.3.6.1.4.1.14519.5.2.1.3671.4754.289381776301402611413405156513\",\"1.3.6.1.4.1.14519.5.2.1.3671.4754.331664318047739623745747449088\",\"1.3.6.1.4.1.14519.5.2.1.3671.4754.117459950571016749056636056931\",\"1.3.6.1.4.1.14519.5.2.1.3671.4754.192331874422392619419648373709\",\"1.3.6.1.4.1.14519.5.2.1.3671.4754.105976129314091491952445656147\",\"1.3.6.1.4.1.14519.5.2.1.3671.4754.218938411300600171613807256501\",\"1.3.6.1.4.1.14519.5.2.1.3671.4754.212083125906384321957172108223\",\"1.3.6.1.4.1.14519.5.2.1.3671.4754.338491148696735703564376647888\",\"1.3.6.1.4.1.14519.5.2.1.3671.4754.230497515093449653192531406300\",\"1.3.6.1.4.1.14519.5.2.1.3671.4754.112304063989226412927473616890\",\"1.3.6.1.4.1.14519.5.2.1.3671.4754.130390636778604536980897019189\",\"1.3.6.1.4.1.14519.5.2.1.3671.4754.300394189684830993064983395096\",\"1.3.6.1.4.1.14519.5.2.1.3671.4754.155463265953508142920250222172\",\"1.3.6.1.4.1.14519.5.2.1.3671.4754.654327272206188613770270554127\",\"1.3.6.1.4.1.14519.5.2.1.3671.4754.621341845114918594203879249474\",\"1.3.6.1.4.1.14519.5.2.1.3671.4754.212056086412825832650405216150\",\"1.3.6.1.4.1.14519.5.2.1.3671.4754.609837242670719860929372097937\",\"1.3.6.1.4.1.14519.5.2.1.3671.4754.322350301601580056579486694857\",\"1.3.6.1.4.1.14519.5.2.1.3671.4754.191214456779267394167353214845\",\"1.3.6.1.4.1.14519.5.2.1.3671.4754.983460207615355998147518323000\",\"1.3.6.1.4.1.14519.5.2.1.3671.4754.165941479363091869002475812419\",\"1.3.6.1.4.1.14519.5.2.1.3671.4754.325025234684823400088057259802\",\"1.3.6.1.4.1.14519.5.2.1.3671.4754.159133597250698591956627534407\",\"1.3.6.1.4.1.14519.5.2.1.3671.4754.330807155674174304012309699936\",\"1.3.6.1.4.1.14519.5.2.1.3671.4754.286942517091753799015309738287\",\"1.3.6.1.4.1.14519.5.2.1.3671.4754.124813816937601110554342446480\",\"1.3.6.1.4.1.14519.5.2.1.3671.4754.330595492110314365252888110460\",\"1.3.6.1.4.1.14519.5.2.1.3671.4754.251062001905949495873517695182\",\"1.3.6.1.4.1.14519.5.2.1.3671.4754.242851658965322332393259472017\",\"1.3.6.1.4.1.14519.5.2.1.3671.4754.614440195550629594157279113517\"],\"SOPClassUID\":[\"1.2.840.10008.5.1.4.1.1.66.4\",\"1.2.840.10008.5.1.4.1.1.66.4\",\"1.2.840.10008.5.1.4.1.1.66.4\",\"1.2.840.10008.5.1.4.1.1.66.4\",\"1.2.840.10008.5.1.4.1.1.66.4\",\"1.2.840.10008.5.1.4.1.1.66.4\",\"1.2.840.10008.5.1.4.1.1.66.4\",\"1.2.840.10008.5.1.4.1.1.66.4\",\"1.2.840.10008.5.1.4.1.1.66.4\",\"1.2.840.10008.5.1.4.1.1.66.4\",\"1.2.840.10008.5.1.4.1.1.66.4\",\"1.2.840.10008.5.1.4.1.1.66.4\",\"1.2.840.10008.5.1.4.1.1.66.4\",\"1.2.840.10008.5.1.4.1.1.66.4\",\"1.2.840.10008.5.1.4.1.1.66.4\",\"1.2.840.10008.5.1.4.1.1.66.4\",\"1.2.840.10008.5.1.4.1.1.66.4\",\"1.2.840.10008.5.1.4.1.1.66.4\",\"1.2.840.10008.5.1.4.1.1.66.4\",\"1.2.840.10008.5.1.4.1.1.66.4\",\"1.2.840.10008.5.1.4.1.1.66.4\",\"1.2.840.10008.5.1.4.1.1.66.4\",\"1.2.840.10008.5.1.4.1.1.66.4\",\"1.2.840.10008.5.1.4.1.1.66.4\",\"1.2.840.10008.5.1.4.1.1.66.4\",\"1.2.840.10008.5.1.4.1.1.66.4\",\"1.2.840.10008.5.1.4.1.1.66.4\",\"1.2.840.10008.5.1.4.1.1.66.4\",\"1.2.840.10008.5.1.4.1.1.66.4\",\"1.2.840.10008.5.1.4.1.1.66.4\",\"1.2.840.10008.5.1.4.1.1.66.4\",\"1.2.840.10008.5.1.4.1.1.66.4\",\"1.2.840.10008.5.1.4.1.1.66.4\",\"1.2.840.10008.5.1.4.1.1.66.4\",\"1.2.840.10008.5.1.4.1.1.66.4\",\"1.2.840.10008.5.1.4.1.1.66.4\",\"1.2.840.10008.5.1.4.1.1.66.4\",\"1.2.840.10008.5.1.4.1.1.66.4\",\"1.2.840.10008.5.1.4.1.1.66.4\",\"1.2.840.10008.5.1.4.1.1.66.4\",\"1.2.840.10008.5.1.4.1.1.66.4\",\"1.2.840.10008.5.1.4.1.1.66.4\",\"1.2.840.10008.5.1.4.1.1.66.4\",\"1.2.840.10008.5.1.4.1.1.66.4\",\"1.2.840.10008.5.1.4.1.1.66.4\",\"1.2.840.10008.5.1.4.1.1.66.4\",\"1.2.840.10008.5.1.4.1.1.66.4\",\"1.2.840.10008.5.1.4.1.1.66.4\",\"1.2.840.10008.5.1.4.1.1.66.4\",\"1.2.840.10008.5.1.4.1.1.66.4\",\"1.2.840.10008.5.1.4.1.1.66.4\",\"1.2.840.10008.5.1.4.1.1.66.4\",\"1.2.840.10008.5.1.4.1.1.66.4\",\"1.2.840.10008.5.1.4.1.1.66.4\",\"1.2.840.10008.5.1.4.1.1.66.4\",\"1.2.840.10008.5.1.4.1.1.66.4\",\"1.2.840.10008.5.1.4.1.1.66.4\",\"1.2.840.10008.5.1.4.1.1.66.4\",\"1.2.840.10008.5.1.4.1.1.66.4\",\"1.2.840.10008.5.1.4.1.1.66.4\"],\"SOPInstanceUID\":[\"1.2.276.0.7230010.3.1.4.481034752.5623.1666822888.804516\",\"1.2.276.0.7230010.3.1.4.481034752.5620.1666822888.466944\",\"1.2.276.0.7230010.3.1.4.481034752.5575.1666822883.435844\",\"1.2.276.0.7230010.3.1.4.481034752.5605.1666822886.794825\",\"1.2.276.0.7230010.3.1.4.481034752.5635.1666822890.170552\",\"1.2.276.0.7230010.3.1.4.481034752.5608.1666822887.132339\",\"1.2.276.0.7230010.3.1.4.481034752.5617.1666822888.138740\",\"1.2.276.0.7230010.3.1.4.481034752.5629.1666822889.489098\",\"1.2.276.0.7230010.3.1.4.481034752.5602.1666822886.462398\",\"1.2.276.0.7230010.3.1.4.481034752.5593.1666822885.461407\",\"1.2.276.0.7230010.3.1.4.481034752.5581.1666822884.103379\",\"1.2.276.0.7230010.3.1.4.481034752.5641.1666822890.832131\",\"1.2.276.0.7230010.3.1.4.481034752.5656.1666822892.533639\",\"1.2.276.0.7230010.3.1.4.481034752.5572.1666822883.78064\",\"1.2.276.0.7230010.3.1.4.481034752.5611.1666822887.470701\",\"1.2.276.0.7230010.3.1.4.481034752.5599.1666822886.123581\",\"1.2.276.0.7230010.3.1.4.481034752.5644.1666822891.177972\",\"1.2.276.0.7230010.3.1.4.481034752.5578.1666822883.770630\",\"1.2.276.0.7230010.3.1.4.481034752.5596.1666822885.789995\",\"1.2.276.0.7230010.3.1.4.481034752.5614.1666822887.804003\",\"1.2.276.0.7230010.3.1.4.481034752.5626.1666822889.165624\",\"1.2.276.0.7230010.3.1.4.481034752.5650.1666822891.856721\",\"1.2.276.0.7230010.3.1.4.481034752.5659.1666822892.887527\",\"1.2.276.0.7230010.3.1.4.481034752.5638.1666822890.497819\",\"1.2.276.0.7230010.3.1.4.481034752.5647.1666822891.524404\",\"1.2.276.0.7230010.3.1.4.481034752.5632.1666822889.844709\",\"1.2.276.0.7230010.3.1.4.481034752.5584.1666822884.461334\",\"1.2.276.0.7230010.3.1.4.481034752.5653.1666822892.205099\",\"1.2.276.0.7230010.3.1.4.481034752.5590.1666822885.130020\",\"1.2.276.0.7230010.3.1.4.481034752.5587.1666822884.794968\",\"1.2.276.0.7230010.3.1.4.481034752.4032.1665501458.674194\",\"1.2.276.0.7230010.3.1.4.481034752.4073.1665501463.263354\",\"1.2.276.0.7230010.3.1.4.481034752.4088.1665501464.949327\",\"1.2.276.0.7230010.3.1.4.481034752.4038.1665501459.282515\",\"1.2.276.0.7230010.3.1.4.481034752.4106.1665501466.979879\",\"1.2.276.0.7230010.3.1.4.481034752.4097.1665501465.960321\",\"1.2.276.0.7230010.3.1.4.481034752.4058.1665501461.296223\",\"1.2.276.0.7230010.3.1.4.481034752.4103.1665501466.640514\",\"1.2.276.0.7230010.3.1.4.481034752.4044.1665501459.961514\",\"1.2.276.0.7230010.3.1.4.481034752.4052.1665501460.621506\",\"1.2.276.0.7230010.3.1.4.481034752.4112.1665501467.646275\",\"1.2.276.0.7230010.3.1.4.481034752.4118.1665501468.327093\",\"1.2.276.0.7230010.3.1.4.481034752.4076.1665501463.610641\",\"1.2.276.0.7230010.3.1.4.481034752.4047.1665501460.288960\",\"1.2.276.0.7230010.3.1.4.481034752.4061.1665501461.703895\",\"1.2.276.0.7230010.3.1.4.481034752.4082.1665501464.278391\",\"1.2.276.0.7230010.3.1.4.481034752.4035.1665501458.949407\",\"1.2.276.0.7230010.3.1.4.481034752.4094.1665501465.634009\",\"1.2.276.0.7230010.3.1.4.481034752.4091.1665501465.291744\",\"1.2.276.0.7230010.3.1.4.481034752.4115.1665501467.998878\",\"1.2.276.0.7230010.3.1.4.481034752.4121.1665501468.662251\",\"1.2.276.0.7230010.3.1.4.481034752.4109.1665501467.317350\",\"1.2.276.0.7230010.3.1.4.481034752.4064.1665501462.332457\",\"1.2.276.0.7230010.3.1.4.481034752.4100.1665501466.305262\",\"1.2.276.0.7230010.3.1.4.481034752.4070.1665501462.943133\",\"1.2.276.0.7230010.3.1.4.481034752.4067.1665501462.611631\",\"1.2.276.0.7230010.3.1.4.481034752.4055.1665501460.976612\",\"1.2.276.0.7230010.3.1.4.481034752.4085.1665501464.626434\",\"1.2.276.0.7230010.3.1.4.481034752.4041.1665501459.630680\",\"1.2.276.0.7230010.3.1.4.481034752.4079.1665501463.960923\"],\"SeriesDescription\":[\"Segmentation of prostate -- nnunet -- pz and tz segments\",\"Segmentation of prostate -- nnunet -- pz and tz segments\",\"Segmentation of prostate -- nnunet -- pz and tz segments\",\"Segmentation of prostate -- nnunet -- pz and tz segments\",\"Segmentation of prostate -- nnunet -- pz and tz segments\",\"Segmentation of prostate -- nnunet -- pz and tz segments\",\"Segmentation of prostate -- nnunet -- pz and tz segments\",\"Segmentation of prostate -- nnunet -- pz and tz segments\",\"Segmentation of prostate -- nnunet -- pz and tz segments\",\"Segmentation of prostate -- nnunet -- pz and tz segments\",\"Segmentation of prostate -- nnunet -- pz and tz segments\",\"Segmentation of prostate -- nnunet -- pz and tz segments\",\"Segmentation of prostate -- nnunet -- pz and tz segments\",\"Segmentation of prostate -- nnunet -- pz and tz segments\",\"Segmentation of prostate -- nnunet -- pz and tz segments\",\"Segmentation of prostate -- nnunet -- pz and tz segments\",\"Segmentation of prostate -- nnunet -- pz and tz segments\",\"Segmentation of prostate -- nnunet -- pz and tz segments\",\"Segmentation of prostate -- nnunet -- pz and tz segments\",\"Segmentation of prostate -- nnunet -- pz and tz segments\",\"Segmentation of prostate -- nnunet -- pz and tz segments\",\"Segmentation of prostate -- nnunet -- pz and tz segments\",\"Segmentation of prostate -- nnunet -- pz and tz segments\",\"Segmentation of prostate -- nnunet -- pz and tz segments\",\"Segmentation of prostate -- nnunet -- pz and tz segments\",\"Segmentation of prostate -- nnunet -- pz and tz segments\",\"Segmentation of prostate -- nnunet -- pz and tz segments\",\"Segmentation of prostate -- nnunet -- pz and tz segments\",\"Segmentation of prostate -- nnunet -- pz and tz segments\",\"Segmentation of prostate -- nnunet -- pz and tz segments\",\"Segmentation\",\"Segmentation\",\"Segmentation\",\"Segmentation\",\"Segmentation\",\"Segmentation\",\"Segmentation\",\"Segmentation\",\"Segmentation\",\"Segmentation\",\"Segmentation\",\"Segmentation\",\"Segmentation\",\"Segmentation\",\"Segmentation\",\"Segmentation\",\"Segmentation\",\"Segmentation\",\"Segmentation\",\"Segmentation\",\"Segmentation\",\"Segmentation\",\"Segmentation\",\"Segmentation\",\"Segmentation\",\"Segmentation\",\"Segmentation\",\"Segmentation\",\"Segmentation\",\"Segmentation\"],\"SeriesInstanceUID\":[\"1.2.276.0.7230010.3.1.3.481034752.5623.1666822888.804515\",\"1.2.276.0.7230010.3.1.3.481034752.5620.1666822888.466943\",\"1.2.276.0.7230010.3.1.3.481034752.5575.1666822883.435843\",\"1.2.276.0.7230010.3.1.3.481034752.5605.1666822886.794824\",\"1.2.276.0.7230010.3.1.3.481034752.5635.1666822890.170551\",\"1.2.276.0.7230010.3.1.3.481034752.5608.1666822887.132338\",\"1.2.276.0.7230010.3.1.3.481034752.5617.1666822888.138739\",\"1.2.276.0.7230010.3.1.3.481034752.5629.1666822889.489097\",\"1.2.276.0.7230010.3.1.3.481034752.5602.1666822886.462397\",\"1.2.276.0.7230010.3.1.3.481034752.5593.1666822885.461406\",\"1.2.276.0.7230010.3.1.3.481034752.5581.1666822884.103378\",\"1.2.276.0.7230010.3.1.3.481034752.5641.1666822890.832130\",\"1.2.276.0.7230010.3.1.3.481034752.5656.1666822892.533638\",\"1.2.276.0.7230010.3.1.3.481034752.5572.1666822883.78063\",\"1.2.276.0.7230010.3.1.3.481034752.5611.1666822887.470700\",\"1.2.276.0.7230010.3.1.3.481034752.5599.1666822886.123580\",\"1.2.276.0.7230010.3.1.3.481034752.5644.1666822891.177971\",\"1.2.276.0.7230010.3.1.3.481034752.5578.1666822883.770629\",\"1.2.276.0.7230010.3.1.3.481034752.5596.1666822885.789994\",\"1.2.276.0.7230010.3.1.3.481034752.5614.1666822887.804002\",\"1.2.276.0.7230010.3.1.3.481034752.5626.1666822889.165623\",\"1.2.276.0.7230010.3.1.3.481034752.5650.1666822891.856720\",\"1.2.276.0.7230010.3.1.3.481034752.5659.1666822892.887526\",\"1.2.276.0.7230010.3.1.3.481034752.5638.1666822890.497818\",\"1.2.276.0.7230010.3.1.3.481034752.5647.1666822891.524403\",\"1.2.276.0.7230010.3.1.3.481034752.5632.1666822889.844708\",\"1.2.276.0.7230010.3.1.3.481034752.5584.1666822884.461333\",\"1.2.276.0.7230010.3.1.3.481034752.5653.1666822892.205098\",\"1.2.276.0.7230010.3.1.3.481034752.5590.1666822885.130019\",\"1.2.276.0.7230010.3.1.3.481034752.5587.1666822884.794967\",\"1.2.276.0.7230010.3.1.3.481034752.4032.1665501458.674193\",\"1.2.276.0.7230010.3.1.3.481034752.4073.1665501463.263353\",\"1.2.276.0.7230010.3.1.3.481034752.4088.1665501464.949326\",\"1.2.276.0.7230010.3.1.3.481034752.4038.1665501459.282514\",\"1.2.276.0.7230010.3.1.3.481034752.4106.1665501466.979878\",\"1.2.276.0.7230010.3.1.3.481034752.4097.1665501465.960320\",\"1.2.276.0.7230010.3.1.3.481034752.4058.1665501461.296222\",\"1.2.276.0.7230010.3.1.3.481034752.4103.1665501466.640513\",\"1.2.276.0.7230010.3.1.3.481034752.4044.1665501459.961513\",\"1.2.276.0.7230010.3.1.3.481034752.4052.1665501460.621505\",\"1.2.276.0.7230010.3.1.3.481034752.4112.1665501467.646274\",\"1.2.276.0.7230010.3.1.3.481034752.4118.1665501468.327092\",\"1.2.276.0.7230010.3.1.3.481034752.4076.1665501463.610640\",\"1.2.276.0.7230010.3.1.3.481034752.4047.1665501460.288959\",\"1.2.276.0.7230010.3.1.3.481034752.4061.1665501461.703894\",\"1.2.276.0.7230010.3.1.3.481034752.4082.1665501464.278390\",\"1.2.276.0.7230010.3.1.3.481034752.4035.1665501458.949406\",\"1.2.276.0.7230010.3.1.3.481034752.4094.1665501465.634008\",\"1.2.276.0.7230010.3.1.3.481034752.4091.1665501465.291743\",\"1.2.276.0.7230010.3.1.3.481034752.4115.1665501467.998877\",\"1.2.276.0.7230010.3.1.3.481034752.4121.1665501468.662250\",\"1.2.276.0.7230010.3.1.3.481034752.4109.1665501467.317349\",\"1.2.276.0.7230010.3.1.3.481034752.4064.1665501462.332456\",\"1.2.276.0.7230010.3.1.3.481034752.4100.1665501466.305261\",\"1.2.276.0.7230010.3.1.3.481034752.4070.1665501462.943132\",\"1.2.276.0.7230010.3.1.3.481034752.4067.1665501462.611630\",\"1.2.276.0.7230010.3.1.3.481034752.4055.1665501460.976611\",\"1.2.276.0.7230010.3.1.3.481034752.4085.1665501464.626433\",\"1.2.276.0.7230010.3.1.3.481034752.4041.1665501459.630679\",\"1.2.276.0.7230010.3.1.3.481034752.4079.1665501463.960922\"],\"StudyInstanceUID\":[\"1.3.6.1.4.1.14519.5.2.1.3671.4754.173585825705285812758858023242\",\"1.3.6.1.4.1.14519.5.2.1.3671.4754.266963586071007736606548226859\",\"1.3.6.1.4.1.14519.5.2.1.3671.4754.864607788085827202303582199118\",\"1.3.6.1.4.1.14519.5.2.1.3671.4754.181478254003851548055481596513\",\"1.3.6.1.4.1.14519.5.2.1.3671.4754.318227959935022390930294557376\",\"1.3.6.1.4.1.14519.5.2.1.3671.4754.217251077299095981018478951589\",\"1.3.6.1.4.1.14519.5.2.1.3671.4754.131608903441424620949571415524\",\"1.3.6.1.4.1.14519.5.2.1.3671.4754.117496148504386222592571043379\",\"1.3.6.1.4.1.14519.5.2.1.3671.4754.264231410930579591639987629694\",\"1.3.6.1.4.1.14519.5.2.1.3671.4754.298665348758363466150039312520\",\"1.3.6.1.4.1.14519.5.2.1.3671.4754.245461598867316286839568962369\",\"1.3.6.1.4.1.14519.5.2.1.3671.4754.211895462561589970837377570121\",\"1.3.6.1.4.1.14519.5.2.1.3671.4754.288453744990673175783381845880\",\"1.3.6.1.4.1.14519.5.2.1.3671.4754.194890890650697728529329442454\",\"1.3.6.1.4.1.14519.5.2.1.3671.4754.431678793261759442965045820561\",\"1.3.6.1.4.1.14519.5.2.1.3671.4754.182983245842036631781777324507\",\"1.3.6.1.4.1.14519.5.2.1.3671.4754.288848219213026850354055725664\",\"1.3.6.1.4.1.14519.5.2.1.3671.4754.568383070573576760578239627478\",\"1.3.6.1.4.1.14519.5.2.1.3671.4754.304001015100152820571364796240\",\"1.3.6.1.4.1.14519.5.2.1.3671.4754.121472087445374646718121301133\",\"1.3.6.1.4.1.14519.5.2.1.3671.4754.263464522348816475234793721892\",\"1.3.6.1.4.1.14519.5.2.1.3671.4754.162322077241419864654545266845\",\"1.3.6.1.4.1.14519.5.2.1.3671.4754.394942238206951812120962051099\",\"1.3.6.1.4.1.14519.5.2.1.3671.4754.962865348146140991373362412648\",\"1.3.6.1.4.1.14519.5.2.1.3671.4754.240823776621155108064488841063\",\"1.3.6.1.4.1.14519.5.2.1.3671.4754.287814201869490350714498330797\",\"1.3.6.1.4.1.14519.5.2.1.3671.4754.133806669697115873569905534398\",\"1.3.6.1.4.1.14519.5.2.1.3671.4754.240243858523310211919840278205\",\"1.3.6.1.4.1.14519.5.2.1.3671.4754.204078048920967920419177848890\",\"1.3.6.1.4.1.14519.5.2.1.3671.4754.233298968565250099224990877587\",\"1.3.6.1.4.1.14519.5.2.1.3671.4754.173585825705285812758858023242\",\"1.3.6.1.4.1.14519.5.2.1.3671.4754.266963586071007736606548226859\",\"1.3.6.1.4.1.14519.5.2.1.3671.4754.864607788085827202303582199118\",\"1.3.6.1.4.1.14519.5.2.1.3671.4754.181478254003851548055481596513\",\"1.3.6.1.4.1.14519.5.2.1.3671.4754.318227959935022390930294557376\",\"1.3.6.1.4.1.14519.5.2.1.3671.4754.217251077299095981018478951589\",\"1.3.6.1.4.1.14519.5.2.1.3671.4754.131608903441424620949571415524\",\"1.3.6.1.4.1.14519.5.2.1.3671.4754.117496148504386222592571043379\",\"1.3.6.1.4.1.14519.5.2.1.3671.4754.298665348758363466150039312520\",\"1.3.6.1.4.1.14519.5.2.1.3671.4754.264231410930579591639987629694\",\"1.3.6.1.4.1.14519.5.2.1.3671.4754.211895462561589970837377570121\",\"1.3.6.1.4.1.14519.5.2.1.3671.4754.245461598867316286839568962369\",\"1.3.6.1.4.1.14519.5.2.1.3671.4754.194890890650697728529329442454\",\"1.3.6.1.4.1.14519.5.2.1.3671.4754.288453744990673175783381845880\",\"1.3.6.1.4.1.14519.5.2.1.3671.4754.431678793261759442965045820561\",\"1.3.6.1.4.1.14519.5.2.1.3671.4754.182983245842036631781777324507\",\"1.3.6.1.4.1.14519.5.2.1.3671.4754.288848219213026850354055725664\",\"1.3.6.1.4.1.14519.5.2.1.3671.4754.568383070573576760578239627478\",\"1.3.6.1.4.1.14519.5.2.1.3671.4754.304001015100152820571364796240\",\"1.3.6.1.4.1.14519.5.2.1.3671.4754.121472087445374646718121301133\",\"1.3.6.1.4.1.14519.5.2.1.3671.4754.162322077241419864654545266845\",\"1.3.6.1.4.1.14519.5.2.1.3671.4754.263464522348816475234793721892\",\"1.3.6.1.4.1.14519.5.2.1.3671.4754.394942238206951812120962051099\",\"1.3.6.1.4.1.14519.5.2.1.3671.4754.962865348146140991373362412648\",\"1.3.6.1.4.1.14519.5.2.1.3671.4754.240823776621155108064488841063\",\"1.3.6.1.4.1.14519.5.2.1.3671.4754.287814201869490350714498330797\",\"1.3.6.1.4.1.14519.5.2.1.3671.4754.133806669697115873569905534398\",\"1.3.6.1.4.1.14519.5.2.1.3671.4754.240243858523310211919840278205\",\"1.3.6.1.4.1.14519.5.2.1.3671.4754.204078048920967920419177848890\",\"1.3.6.1.4.1.14519.5.2.1.3671.4754.233298968565250099224990877587\"],\"center_mass_pred\":[\"-6.68841 27.5626 -28.4569\",\"6.11968 25.0165 19.8151\",\"5.04334 16.4899 -68.7878\",\"-24.9902 15.1442 -65.8728\",\"-34.0958 25.7827 -87.7744\",\"-38.9711 19.9097 28.666\",\"-17.534 27.6119 85.7534\",\"0.0889989 26.0966 -57.6907\",\"-17.9295 34 0.470807\",\"-31.2915 -15.0526 14.7528\",\"-18.8871 32.2015 54.283\",\"-16.7123 30.8482 -145.988\",\"-53.7418 25.8729 -79.3568\",\"15.4246 31.8179 -14.178\",\"-34.0403 36.6277 165.62\",\"-54.5935 38.8181 -28.0512\",\"-5.88389 -4.93435 18.8295\",\"-14.6661 -17.4511 -29.4795\",\"1.82887 -14.0207 -105.432\",\"-3.00249 -4.86159 -11.6496\",\"-2.24777 -34.1985 27.9319\",\"6.06745 -33.7504 22.7916\",\"-16.4793 -6.67444 10.1535\",\"-10.0852 -25.3143 4.54057\",\"-25.194 -10.3965 44.9948\",\"-4.27155 -32.3191 -24.1293\",\"-2.57916 -38.5777 -40.0526\",\"-5.14262 -29.5555 -8.35282\",\"-10.3622 -13.069 -8.39646\",\"-24.6351 -8.39439 36.0761\",\"2.5991 20.0723 -21.7455\",\"23.8355 19.3544 27.8324\",\"27.9132 10.2071 -60.3691\",\"-2.20815 6.34654 -57.9455\",\"-18.8285 15.0086 -87.8657\",\"-25.8901 14.8628 31.038\",\"-14.2221 23.1511 88.1552\",\"0.219321 22.0024 -54.245\",\"-27.6816 20.3551 11.8506\",\"-19.4391 21.7775 18.239\",\"-16.8334 26.3268 -143.669\",\"-19.0434 27.5524 55.1099\",\"15.0926 27.6339 -9.18437\",\"-39.1348 21.4024 -74.4854\",\"-18.0506 26.4652 178.644\",\"-37.8312 27.1122 -20.2762\",\"-6.47964 -12.6785 20.9264\",\"-14.1932 -21.5168 -29.0996\",\"0.281691 -19.6013 -104.456\",\"-2.42416 -10.6941 -7.04411\",\"7.45552 -39.2088 24.8737\",\"-0.451583 -40.421 32.128\",\"-16.3959 -11.1958 10.8638\",\"-10.749 -33.89 6.73951\",\"-5.00394 -19.3492 49.6828\",\"-3.83394 -43.509 -21.7402\",\"-3.85503 -48.4445 -36.096\",\"-4.74705 -36.9054 -9.57494\",\"-10.3847 -17.1475 -10.9311\",\"-10.5842 -17.1515 49.079\"],\"center_mass_ref\":[\"2.606 31.0047 -26.048\",\"24.4374 29.522 25.6669\",\"24.2982 25.8465 -60.1863\",\"-2.78756 22.5681 -60.9708\",\"-21.6338 27.4291 -92.6402\",\"-29.6332 26.4221 26.6478\",\"-14.618 28.0266 87.3199\",\"0.177373 26.606 -55.6959\",\"-18.5126 39.4261 22.0803\",\"-24.0031 39.1036 16.9828\",\"-19.1238 31.8864 52.4761\",\"-16.9579 30.7219 -146.564\",\"-39.5494 26.6038 -75.5417\",\"15.7361 32.1181 -12.1905\",\"-17.1967 41.5181 167.082\",\"-35.4326 41.3948 -27.8787\",\"-7.31893 -4.98139 20.5164\",\"-14.9419 -15.145 -31.4674\",\"0.308765 -13.3927 -106.853\",\"-1.33917 -2.29206 -10.2477\",\"-0.63932 -34.9353 27.5199\",\"7.84751 -34.8261 26.4629\",\"-16.0409 -6.15955 11.1454\",\"-12.1005 -23.8657 4.76299\",\"-8.20076 -3.01974 35.0017\",\"-4.09753 -31.3994 -29.7813\",\"-2.69319 -36.53 -42.0481\",\"-6.616 -28.6252 -10.1675\",\"-9.68783 -11.579 -11.0348\",\"-10.6724 -1.12843 37.3293\",\"2.76197 21.6273 -22.9721\",\"24.2615 20.0248 28.3808\",\"27.489 10.2303 -59.2112\",\"-2.28461 7.35752 -60.914\",\"-18.7217 16.2322 -89.2432\",\"-26.4317 16.3979 29.607\",\"-14.0761 24.4441 89.1028\",\"-0.00618441 22.2745 -54.2772\",\"-27.8739 21.6619 10.6853\",\"-19.5938 23.7048 17.5483\",\"-16.7329 26.2308 -144.191\",\"-19.0084 27.6994 55.1434\",\"15.4043 29.1591 -13.3879\",\"-38.7469 23.4971 -76.3126\",\"-17.8722 26.6277 175.505\",\"-37.9309 27.2218 -20.5485\",\"-6.24773 -11.938 20.6382\",\"-14.3149 -20.876 -29.3325\",\"0.224025 -18.7905 -105.772\",\"-2.33888 -10.0889 -7.05327\",\"7.51262 -38.7839 27.7451\",\"-0.529547 -39.6013 30.6812\",\"-15.803 -11.1465 12.769\",\"-10.3057 -33.5313 6.95216\",\"-4.18534 -21.2749 53.8256\",\"-3.27877 -42.2916 -23.4861\",\"-3.41169 -47.2623 -36.9217\",\"-4.56253 -36.9405 -7.37964\",\"-10.1563 -16.0894 -12.4812\",\"-10.5385 -15.5058 43.1845\"],\"cloud_storage_path\":[\"prostate-seg-use-case/data/qin_prostate_repeatability/all/seg_pred/task05\",\"prostate-seg-use-case/data/qin_prostate_repeatability/all/seg_pred/task05\",\"prostate-seg-use-case/data/qin_prostate_repeatability/all/seg_pred/task05\",\"prostate-seg-use-case/data/qin_prostate_repeatability/all/seg_pred/task05\",\"prostate-seg-use-case/data/qin_prostate_repeatability/all/seg_pred/task05\",\"prostate-seg-use-case/data/qin_prostate_repeatability/all/seg_pred/task05\",\"prostate-seg-use-case/data/qin_prostate_repeatability/all/seg_pred/task05\",\"prostate-seg-use-case/data/qin_prostate_repeatability/all/seg_pred/task05\",\"prostate-seg-use-case/data/qin_prostate_repeatability/all/seg_pred/task05\",\"prostate-seg-use-case/data/qin_prostate_repeatability/all/seg_pred/task05\",\"prostate-seg-use-case/data/qin_prostate_repeatability/all/seg_pred/task05\",\"prostate-seg-use-case/data/qin_prostate_repeatability/all/seg_pred/task05\",\"prostate-seg-use-case/data/qin_prostate_repeatability/all/seg_pred/task05\",\"prostate-seg-use-case/data/qin_prostate_repeatability/all/seg_pred/task05\",\"prostate-seg-use-case/data/qin_prostate_repeatability/all/seg_pred/task05\",\"prostate-seg-use-case/data/qin_prostate_repeatability/all/seg_pred/task05\",\"prostate-seg-use-case/data/qin_prostate_repeatability/all/seg_pred/task05\",\"prostate-seg-use-case/data/qin_prostate_repeatability/all/seg_pred/task05\",\"prostate-seg-use-case/data/qin_prostate_repeatability/all/seg_pred/task05\",\"prostate-seg-use-case/data/qin_prostate_repeatability/all/seg_pred/task05\",\"prostate-seg-use-case/data/qin_prostate_repeatability/all/seg_pred/task05\",\"prostate-seg-use-case/data/qin_prostate_repeatability/all/seg_pred/task05\",\"prostate-seg-use-case/data/qin_prostate_repeatability/all/seg_pred/task05\",\"prostate-seg-use-case/data/qin_prostate_repeatability/all/seg_pred/task05\",\"prostate-seg-use-case/data/qin_prostate_repeatability/all/seg_pred/task05\",\"prostate-seg-use-case/data/qin_prostate_repeatability/all/seg_pred/task05\",\"prostate-seg-use-case/data/qin_prostate_repeatability/all/seg_pred/task05\",\"prostate-seg-use-case/data/qin_prostate_repeatability/all/seg_pred/task05\",\"prostate-seg-use-case/data/qin_prostate_repeatability/all/seg_pred/task05\",\"prostate-seg-use-case/data/qin_prostate_repeatability/all/seg_pred/task05\",\"prostate-seg-use-case/data/qin_prostate_repeatability/all/seg_pred/task24_whole_prostate\",\"prostate-seg-use-case/data/qin_prostate_repeatability/all/seg_pred/task24_whole_prostate\",\"prostate-seg-use-case/data/qin_prostate_repeatability/all/seg_pred/task24_whole_prostate\",\"prostate-seg-use-case/data/qin_prostate_repeatability/all/seg_pred/task24_whole_prostate\",\"prostate-seg-use-case/data/qin_prostate_repeatability/all/seg_pred/task24_whole_prostate\",\"prostate-seg-use-case/data/qin_prostate_repeatability/all/seg_pred/task24_whole_prostate\",\"prostate-seg-use-case/data/qin_prostate_repeatability/all/seg_pred/task24_whole_prostate\",\"prostate-seg-use-case/data/qin_prostate_repeatability/all/seg_pred/task24_whole_prostate\",\"prostate-seg-use-case/data/qin_prostate_repeatability/all/seg_pred/task24_whole_prostate\",\"prostate-seg-use-case/data/qin_prostate_repeatability/all/seg_pred/task24_whole_prostate\",\"prostate-seg-use-case/data/qin_prostate_repeatability/all/seg_pred/task24_whole_prostate\",\"prostate-seg-use-case/data/qin_prostate_repeatability/all/seg_pred/task24_whole_prostate\",\"prostate-seg-use-case/data/qin_prostate_repeatability/all/seg_pred/task24_whole_prostate\",\"prostate-seg-use-case/data/qin_prostate_repeatability/all/seg_pred/task24_whole_prostate\",\"prostate-seg-use-case/data/qin_prostate_repeatability/all/seg_pred/task24_whole_prostate\",\"prostate-seg-use-case/data/qin_prostate_repeatability/all/seg_pred/task24_whole_prostate\",\"prostate-seg-use-case/data/qin_prostate_repeatability/all/seg_pred/task24_whole_prostate\",\"prostate-seg-use-case/data/qin_prostate_repeatability/all/seg_pred/task24_whole_prostate\",\"prostate-seg-use-case/data/qin_prostate_repeatability/all/seg_pred/task24_whole_prostate\",\"prostate-seg-use-case/data/qin_prostate_repeatability/all/seg_pred/task24_whole_prostate\",\"prostate-seg-use-case/data/qin_prostate_repeatability/all/seg_pred/task24_whole_prostate\",\"prostate-seg-use-case/data/qin_prostate_repeatability/all/seg_pred/task24_whole_prostate\",\"prostate-seg-use-case/data/qin_prostate_repeatability/all/seg_pred/task24_whole_prostate\",\"prostate-seg-use-case/data/qin_prostate_repeatability/all/seg_pred/task24_whole_prostate\",\"prostate-seg-use-case/data/qin_prostate_repeatability/all/seg_pred/task24_whole_prostate\",\"prostate-seg-use-case/data/qin_prostate_repeatability/all/seg_pred/task24_whole_prostate\",\"prostate-seg-use-case/data/qin_prostate_repeatability/all/seg_pred/task24_whole_prostate\",\"prostate-seg-use-case/data/qin_prostate_repeatability/all/seg_pred/task24_whole_prostate\",\"prostate-seg-use-case/data/qin_prostate_repeatability/all/seg_pred/task24_whole_prostate\",\"prostate-seg-use-case/data/qin_prostate_repeatability/all/seg_pred/task24_whole_prostate\"],\"colors\":[\"#ff0000\",\"#ff0000\",\"#ff0000\",\"#ff0000\",\"#ff0000\",\"#ff0000\",\"#ff0000\",\"#ff0000\",\"#ff0000\",\"#ff0000\",\"#ff0000\",\"#ff0000\",\"#ff0000\",\"#ff0000\",\"#ff0000\",\"#ff0000\",\"#ff0000\",\"#ff0000\",\"#ff0000\",\"#ff0000\",\"#ff0000\",\"#ff0000\",\"#ff0000\",\"#ff0000\",\"#ff0000\",\"#ff0000\",\"#ff0000\",\"#ff0000\",\"#ff0000\",\"#ff0000\",\"#04b404\",\"#04b404\",\"#04b404\",\"#04b404\",\"#04b404\",\"#04b404\",\"#04b404\",\"#04b404\",\"#04b404\",\"#04b404\",\"#04b404\",\"#04b404\",\"#04b404\",\"#04b404\",\"#04b404\",\"#04b404\",\"#04b404\",\"#04b404\",\"#04b404\",\"#04b404\",\"#04b404\",\"#04b404\",\"#04b404\",\"#04b404\",\"#04b404\",\"#04b404\",\"#04b404\",\"#04b404\",\"#04b404\",\"#04b404\"],\"dice_score\":{\"__ndarray__\":\"uyakNQad3D+NeohGdxDUP6G9+njou9A/7Z48LNSazj+/mC1ZFeHZP1cm/FI/b9M/hnDMsieB5z+ZDTLJyFnpPwAAAAAAAAAAAAAAAAAAAAB3TN2VXbDoP7e0GhL32Og/L6hvmdNl3z/j4T0HliPnPy7nUlxV9sU/c2VQbXAixD+uEiwOZ/7kP+KwNPCjGuc/2LeTiPCv6T+eCU0SS8riP4NPc/IiE+g/qfi/IypU5z9bC7PQzmnoPzKQZ5dv/eI/vOmWHeIfrj+MLm8O12rnPygoRSv3AuU/0H6kiAwr5D8YtftVgG/mPzEHQUerWsg/MuTYeobw6z/1ona/CnDtP0ZcABqly+w/zA2GOqzw7D/WyK60jNTpP3qLh/ccWOs/kbjH0oeu6j89nStKCcHqPzqvsUtU7+s/0qsBSkON7D87bY0IxkHrPzboS29/rus/OiF00CUc5z+zXDY656fpPwIrhxbZzuw/JLn8h/Rb7T8V4/xNKETqP1k1CHO7F+w/wmuXNhyW7D9agLbVrDPrPzgQkgVMYOo/EW4yqgzj6j9IFjCBW3fsP3l1jgHZa+s/NpGZC1we6T9OJQNAFbfsP64pkNlZ9Ow/fCjRksfT6z8jSnuDL0zpPy9szVZecug/\",\"dtype\":\"float64\",\"order\":\"little\",\"shape\":[60]},\"hausdorff_dist\":{\"__ndarray__\":\"FqWEYFU5MkAq4Qm9/sBCQGO1+X/VmUdAP3EA/b69RkDZBu5AnU48QK5hhsYTvTVAAAAAAAAAJUAAAAAAAAAcQGb0o+GUp0FA9u0kIvzVTEAkmGpmLS0iQH5Rgv5CZyFAvqHw2TpAOkCox7YMOMseQKlKW1zjuz5A95MxPsxiQUBYAFMGDtgiQGMmUS/4xClAIHwo0ZK3F0BX6INlbHAmQAAAAAAAABhAv4HJjSKrGUBtAgzLn58aQNMXQs779yRAByRh304kQkDPhvwzg4AjQGXiVkEM7CZA/z9OmDBKKUDIRbWIKIYiQK7UsyCUxzxAAAAAAAAAJUAAAAAAAAAcQAAAAAAAACVAkE5d+SwvJUAAAAAAAAAsQAAAAAAAACVAOngmNElMJEBAL9y5MMIcQAAAAAAAACxAAAAAAAAAJUCzQLtDigEcQAAAAAAAABxAAAAAAAAALEBUxVT6CW8hQEqyDkdXASVAAAAAAAAAJUDq6/ma5aIbQAAAAAAAABhA4nZoWIxKGEAc0NIVbJMZQAGh9fBlAihAR60wfa/RGUAAAAAAAAAiQPt1pztPjBxA4zPZP09zN0CRKopXWXsiQAKaCBuebhlACI7LuKmBIUAAAAAAAAAiQAAAAAAAADhA\",\"dtype\":\"float64\",\"order\":\"little\",\"shape\":[60]},\"index\":[0,1,2,3,4,5,6,7,8,9,10,11,12,13,14,15,16,17,18,19,20,21,22,23,24,25,26,27,28,29,0,1,2,3,4,5,6,7,8,9,10,11,12,13,14,15,16,17,18,19,20,21,22,23,24,25,26,27,28,29],\"ohif_url\":[\"https://fir-idc-prostate-ohif.web.app/viewer/1.3.6.1.4.1.14519.5.2.1.3671.4754.173585825705285812758858023242!secondGoogleServer=/projects/idc-sandbox-003/locations/us-central1/datasets/prostate-seg/dicomStores/qin_prostate_repeatability_segnnUNet_datastore\",\"https://fir-idc-prostate-ohif.web.app/viewer/1.3.6.1.4.1.14519.5.2.1.3671.4754.266963586071007736606548226859!secondGoogleServer=/projects/idc-sandbox-003/locations/us-central1/datasets/prostate-seg/dicomStores/qin_prostate_repeatability_segnnUNet_datastore\",\"https://fir-idc-prostate-ohif.web.app/viewer/1.3.6.1.4.1.14519.5.2.1.3671.4754.864607788085827202303582199118!secondGoogleServer=/projects/idc-sandbox-003/locations/us-central1/datasets/prostate-seg/dicomStores/qin_prostate_repeatability_segnnUNet_datastore\",\"https://fir-idc-prostate-ohif.web.app/viewer/1.3.6.1.4.1.14519.5.2.1.3671.4754.181478254003851548055481596513!secondGoogleServer=/projects/idc-sandbox-003/locations/us-central1/datasets/prostate-seg/dicomStores/qin_prostate_repeatability_segnnUNet_datastore\",\"https://fir-idc-prostate-ohif.web.app/viewer/1.3.6.1.4.1.14519.5.2.1.3671.4754.318227959935022390930294557376!secondGoogleServer=/projects/idc-sandbox-003/locations/us-central1/datasets/prostate-seg/dicomStores/qin_prostate_repeatability_segnnUNet_datastore\",\"https://fir-idc-prostate-ohif.web.app/viewer/1.3.6.1.4.1.14519.5.2.1.3671.4754.217251077299095981018478951589!secondGoogleServer=/projects/idc-sandbox-003/locations/us-central1/datasets/prostate-seg/dicomStores/qin_prostate_repeatability_segnnUNet_datastore\",\"https://fir-idc-prostate-ohif.web.app/viewer/1.3.6.1.4.1.14519.5.2.1.3671.4754.131608903441424620949571415524!secondGoogleServer=/projects/idc-sandbox-003/locations/us-central1/datasets/prostate-seg/dicomStores/qin_prostate_repeatability_segnnUNet_datastore\",\"https://fir-idc-prostate-ohif.web.app/viewer/1.3.6.1.4.1.14519.5.2.1.3671.4754.117496148504386222592571043379!secondGoogleServer=/projects/idc-sandbox-003/locations/us-central1/datasets/prostate-seg/dicomStores/qin_prostate_repeatability_segnnUNet_datastore\",\"https://fir-idc-prostate-ohif.web.app/viewer/1.3.6.1.4.1.14519.5.2.1.3671.4754.264231410930579591639987629694!secondGoogleServer=/projects/idc-sandbox-003/locations/us-central1/datasets/prostate-seg/dicomStores/qin_prostate_repeatability_segnnUNet_datastore\",\"https://fir-idc-prostate-ohif.web.app/viewer/1.3.6.1.4.1.14519.5.2.1.3671.4754.298665348758363466150039312520!secondGoogleServer=/projects/idc-sandbox-003/locations/us-central1/datasets/prostate-seg/dicomStores/qin_prostate_repeatability_segnnUNet_datastore\",\"https://fir-idc-prostate-ohif.web.app/viewer/1.3.6.1.4.1.14519.5.2.1.3671.4754.245461598867316286839568962369!secondGoogleServer=/projects/idc-sandbox-003/locations/us-central1/datasets/prostate-seg/dicomStores/qin_prostate_repeatability_segnnUNet_datastore\",\"https://fir-idc-prostate-ohif.web.app/viewer/1.3.6.1.4.1.14519.5.2.1.3671.4754.211895462561589970837377570121!secondGoogleServer=/projects/idc-sandbox-003/locations/us-central1/datasets/prostate-seg/dicomStores/qin_prostate_repeatability_segnnUNet_datastore\",\"https://fir-idc-prostate-ohif.web.app/viewer/1.3.6.1.4.1.14519.5.2.1.3671.4754.288453744990673175783381845880!secondGoogleServer=/projects/idc-sandbox-003/locations/us-central1/datasets/prostate-seg/dicomStores/qin_prostate_repeatability_segnnUNet_datastore\",\"https://fir-idc-prostate-ohif.web.app/viewer/1.3.6.1.4.1.14519.5.2.1.3671.4754.194890890650697728529329442454!secondGoogleServer=/projects/idc-sandbox-003/locations/us-central1/datasets/prostate-seg/dicomStores/qin_prostate_repeatability_segnnUNet_datastore\",\"https://fir-idc-prostate-ohif.web.app/viewer/1.3.6.1.4.1.14519.5.2.1.3671.4754.431678793261759442965045820561!secondGoogleServer=/projects/idc-sandbox-003/locations/us-central1/datasets/prostate-seg/dicomStores/qin_prostate_repeatability_segnnUNet_datastore\",\"https://fir-idc-prostate-ohif.web.app/viewer/1.3.6.1.4.1.14519.5.2.1.3671.4754.182983245842036631781777324507!secondGoogleServer=/projects/idc-sandbox-003/locations/us-central1/datasets/prostate-seg/dicomStores/qin_prostate_repeatability_segnnUNet_datastore\",\"https://fir-idc-prostate-ohif.web.app/viewer/1.3.6.1.4.1.14519.5.2.1.3671.4754.288848219213026850354055725664!secondGoogleServer=/projects/idc-sandbox-003/locations/us-central1/datasets/prostate-seg/dicomStores/qin_prostate_repeatability_segnnUNet_datastore\",\"https://fir-idc-prostate-ohif.web.app/viewer/1.3.6.1.4.1.14519.5.2.1.3671.4754.568383070573576760578239627478!secondGoogleServer=/projects/idc-sandbox-003/locations/us-central1/datasets/prostate-seg/dicomStores/qin_prostate_repeatability_segnnUNet_datastore\",\"https://fir-idc-prostate-ohif.web.app/viewer/1.3.6.1.4.1.14519.5.2.1.3671.4754.304001015100152820571364796240!secondGoogleServer=/projects/idc-sandbox-003/locations/us-central1/datasets/prostate-seg/dicomStores/qin_prostate_repeatability_segnnUNet_datastore\",\"https://fir-idc-prostate-ohif.web.app/viewer/1.3.6.1.4.1.14519.5.2.1.3671.4754.121472087445374646718121301133!secondGoogleServer=/projects/idc-sandbox-003/locations/us-central1/datasets/prostate-seg/dicomStores/qin_prostate_repeatability_segnnUNet_datastore\",\"https://fir-idc-prostate-ohif.web.app/viewer/1.3.6.1.4.1.14519.5.2.1.3671.4754.263464522348816475234793721892!secondGoogleServer=/projects/idc-sandbox-003/locations/us-central1/datasets/prostate-seg/dicomStores/qin_prostate_repeatability_segnnUNet_datastore\",\"https://fir-idc-prostate-ohif.web.app/viewer/1.3.6.1.4.1.14519.5.2.1.3671.4754.162322077241419864654545266845!secondGoogleServer=/projects/idc-sandbox-003/locations/us-central1/datasets/prostate-seg/dicomStores/qin_prostate_repeatability_segnnUNet_datastore\",\"https://fir-idc-prostate-ohif.web.app/viewer/1.3.6.1.4.1.14519.5.2.1.3671.4754.394942238206951812120962051099!secondGoogleServer=/projects/idc-sandbox-003/locations/us-central1/datasets/prostate-seg/dicomStores/qin_prostate_repeatability_segnnUNet_datastore\",\"https://fir-idc-prostate-ohif.web.app/viewer/1.3.6.1.4.1.14519.5.2.1.3671.4754.962865348146140991373362412648!secondGoogleServer=/projects/idc-sandbox-003/locations/us-central1/datasets/prostate-seg/dicomStores/qin_prostate_repeatability_segnnUNet_datastore\",\"https://fir-idc-prostate-ohif.web.app/viewer/1.3.6.1.4.1.14519.5.2.1.3671.4754.240823776621155108064488841063!secondGoogleServer=/projects/idc-sandbox-003/locations/us-central1/datasets/prostate-seg/dicomStores/qin_prostate_repeatability_segnnUNet_datastore\",\"https://fir-idc-prostate-ohif.web.app/viewer/1.3.6.1.4.1.14519.5.2.1.3671.4754.287814201869490350714498330797!secondGoogleServer=/projects/idc-sandbox-003/locations/us-central1/datasets/prostate-seg/dicomStores/qin_prostate_repeatability_segnnUNet_datastore\",\"https://fir-idc-prostate-ohif.web.app/viewer/1.3.6.1.4.1.14519.5.2.1.3671.4754.133806669697115873569905534398!secondGoogleServer=/projects/idc-sandbox-003/locations/us-central1/datasets/prostate-seg/dicomStores/qin_prostate_repeatability_segnnUNet_datastore\",\"https://fir-idc-prostate-ohif.web.app/viewer/1.3.6.1.4.1.14519.5.2.1.3671.4754.240243858523310211919840278205!secondGoogleServer=/projects/idc-sandbox-003/locations/us-central1/datasets/prostate-seg/dicomStores/qin_prostate_repeatability_segnnUNet_datastore\",\"https://fir-idc-prostate-ohif.web.app/viewer/1.3.6.1.4.1.14519.5.2.1.3671.4754.204078048920967920419177848890!secondGoogleServer=/projects/idc-sandbox-003/locations/us-central1/datasets/prostate-seg/dicomStores/qin_prostate_repeatability_segnnUNet_datastore\",\"https://fir-idc-prostate-ohif.web.app/viewer/1.3.6.1.4.1.14519.5.2.1.3671.4754.233298968565250099224990877587!secondGoogleServer=/projects/idc-sandbox-003/locations/us-central1/datasets/prostate-seg/dicomStores/qin_prostate_repeatability_segnnUNet_datastore\",\"https://fir-idc-prostate-ohif.web.app/viewer/1.3.6.1.4.1.14519.5.2.1.3671.4754.173585825705285812758858023242!secondGoogleServer=/projects/idc-sandbox-003/locations/us-central1/datasets/prostate-seg/dicomStores/qin_prostate_repeatability_segnnUNet_datastore\",\"https://fir-idc-prostate-ohif.web.app/viewer/1.3.6.1.4.1.14519.5.2.1.3671.4754.266963586071007736606548226859!secondGoogleServer=/projects/idc-sandbox-003/locations/us-central1/datasets/prostate-seg/dicomStores/qin_prostate_repeatability_segnnUNet_datastore\",\"https://fir-idc-prostate-ohif.web.app/viewer/1.3.6.1.4.1.14519.5.2.1.3671.4754.864607788085827202303582199118!secondGoogleServer=/projects/idc-sandbox-003/locations/us-central1/datasets/prostate-seg/dicomStores/qin_prostate_repeatability_segnnUNet_datastore\",\"https://fir-idc-prostate-ohif.web.app/viewer/1.3.6.1.4.1.14519.5.2.1.3671.4754.181478254003851548055481596513!secondGoogleServer=/projects/idc-sandbox-003/locations/us-central1/datasets/prostate-seg/dicomStores/qin_prostate_repeatability_segnnUNet_datastore\",\"https://fir-idc-prostate-ohif.web.app/viewer/1.3.6.1.4.1.14519.5.2.1.3671.4754.318227959935022390930294557376!secondGoogleServer=/projects/idc-sandbox-003/locations/us-central1/datasets/prostate-seg/dicomStores/qin_prostate_repeatability_segnnUNet_datastore\",\"https://fir-idc-prostate-ohif.web.app/viewer/1.3.6.1.4.1.14519.5.2.1.3671.4754.217251077299095981018478951589!secondGoogleServer=/projects/idc-sandbox-003/locations/us-central1/datasets/prostate-seg/dicomStores/qin_prostate_repeatability_segnnUNet_datastore\",\"https://fir-idc-prostate-ohif.web.app/viewer/1.3.6.1.4.1.14519.5.2.1.3671.4754.131608903441424620949571415524!secondGoogleServer=/projects/idc-sandbox-003/locations/us-central1/datasets/prostate-seg/dicomStores/qin_prostate_repeatability_segnnUNet_datastore\",\"https://fir-idc-prostate-ohif.web.app/viewer/1.3.6.1.4.1.14519.5.2.1.3671.4754.117496148504386222592571043379!secondGoogleServer=/projects/idc-sandbox-003/locations/us-central1/datasets/prostate-seg/dicomStores/qin_prostate_repeatability_segnnUNet_datastore\",\"https://fir-idc-prostate-ohif.web.app/viewer/1.3.6.1.4.1.14519.5.2.1.3671.4754.298665348758363466150039312520!secondGoogleServer=/projects/idc-sandbox-003/locations/us-central1/datasets/prostate-seg/dicomStores/qin_prostate_repeatability_segnnUNet_datastore\",\"https://fir-idc-prostate-ohif.web.app/viewer/1.3.6.1.4.1.14519.5.2.1.3671.4754.264231410930579591639987629694!secondGoogleServer=/projects/idc-sandbox-003/locations/us-central1/datasets/prostate-seg/dicomStores/qin_prostate_repeatability_segnnUNet_datastore\",\"https://fir-idc-prostate-ohif.web.app/viewer/1.3.6.1.4.1.14519.5.2.1.3671.4754.211895462561589970837377570121!secondGoogleServer=/projects/idc-sandbox-003/locations/us-central1/datasets/prostate-seg/dicomStores/qin_prostate_repeatability_segnnUNet_datastore\",\"https://fir-idc-prostate-ohif.web.app/viewer/1.3.6.1.4.1.14519.5.2.1.3671.4754.245461598867316286839568962369!secondGoogleServer=/projects/idc-sandbox-003/locations/us-central1/datasets/prostate-seg/dicomStores/qin_prostate_repeatability_segnnUNet_datastore\",\"https://fir-idc-prostate-ohif.web.app/viewer/1.3.6.1.4.1.14519.5.2.1.3671.4754.194890890650697728529329442454!secondGoogleServer=/projects/idc-sandbox-003/locations/us-central1/datasets/prostate-seg/dicomStores/qin_prostate_repeatability_segnnUNet_datastore\",\"https://fir-idc-prostate-ohif.web.app/viewer/1.3.6.1.4.1.14519.5.2.1.3671.4754.288453744990673175783381845880!secondGoogleServer=/projects/idc-sandbox-003/locations/us-central1/datasets/prostate-seg/dicomStores/qin_prostate_repeatability_segnnUNet_datastore\",\"https://fir-idc-prostate-ohif.web.app/viewer/1.3.6.1.4.1.14519.5.2.1.3671.4754.431678793261759442965045820561!secondGoogleServer=/projects/idc-sandbox-003/locations/us-central1/datasets/prostate-seg/dicomStores/qin_prostate_repeatability_segnnUNet_datastore\",\"https://fir-idc-prostate-ohif.web.app/viewer/1.3.6.1.4.1.14519.5.2.1.3671.4754.182983245842036631781777324507!secondGoogleServer=/projects/idc-sandbox-003/locations/us-central1/datasets/prostate-seg/dicomStores/qin_prostate_repeatability_segnnUNet_datastore\",\"https://fir-idc-prostate-ohif.web.app/viewer/1.3.6.1.4.1.14519.5.2.1.3671.4754.288848219213026850354055725664!secondGoogleServer=/projects/idc-sandbox-003/locations/us-central1/datasets/prostate-seg/dicomStores/qin_prostate_repeatability_segnnUNet_datastore\",\"https://fir-idc-prostate-ohif.web.app/viewer/1.3.6.1.4.1.14519.5.2.1.3671.4754.568383070573576760578239627478!secondGoogleServer=/projects/idc-sandbox-003/locations/us-central1/datasets/prostate-seg/dicomStores/qin_prostate_repeatability_segnnUNet_datastore\",\"https://fir-idc-prostate-ohif.web.app/viewer/1.3.6.1.4.1.14519.5.2.1.3671.4754.304001015100152820571364796240!secondGoogleServer=/projects/idc-sandbox-003/locations/us-central1/datasets/prostate-seg/dicomStores/qin_prostate_repeatability_segnnUNet_datastore\",\"https://fir-idc-prostate-ohif.web.app/viewer/1.3.6.1.4.1.14519.5.2.1.3671.4754.121472087445374646718121301133!secondGoogleServer=/projects/idc-sandbox-003/locations/us-central1/datasets/prostate-seg/dicomStores/qin_prostate_repeatability_segnnUNet_datastore\",\"https://fir-idc-prostate-ohif.web.app/viewer/1.3.6.1.4.1.14519.5.2.1.3671.4754.162322077241419864654545266845!secondGoogleServer=/projects/idc-sandbox-003/locations/us-central1/datasets/prostate-seg/dicomStores/qin_prostate_repeatability_segnnUNet_datastore\",\"https://fir-idc-prostate-ohif.web.app/viewer/1.3.6.1.4.1.14519.5.2.1.3671.4754.263464522348816475234793721892!secondGoogleServer=/projects/idc-sandbox-003/locations/us-central1/datasets/prostate-seg/dicomStores/qin_prostate_repeatability_segnnUNet_datastore\",\"https://fir-idc-prostate-ohif.web.app/viewer/1.3.6.1.4.1.14519.5.2.1.3671.4754.394942238206951812120962051099!secondGoogleServer=/projects/idc-sandbox-003/locations/us-central1/datasets/prostate-seg/dicomStores/qin_prostate_repeatability_segnnUNet_datastore\",\"https://fir-idc-prostate-ohif.web.app/viewer/1.3.6.1.4.1.14519.5.2.1.3671.4754.962865348146140991373362412648!secondGoogleServer=/projects/idc-sandbox-003/locations/us-central1/datasets/prostate-seg/dicomStores/qin_prostate_repeatability_segnnUNet_datastore\",\"https://fir-idc-prostate-ohif.web.app/viewer/1.3.6.1.4.1.14519.5.2.1.3671.4754.240823776621155108064488841063!secondGoogleServer=/projects/idc-sandbox-003/locations/us-central1/datasets/prostate-seg/dicomStores/qin_prostate_repeatability_segnnUNet_datastore\",\"https://fir-idc-prostate-ohif.web.app/viewer/1.3.6.1.4.1.14519.5.2.1.3671.4754.287814201869490350714498330797!secondGoogleServer=/projects/idc-sandbox-003/locations/us-central1/datasets/prostate-seg/dicomStores/qin_prostate_repeatability_segnnUNet_datastore\",\"https://fir-idc-prostate-ohif.web.app/viewer/1.3.6.1.4.1.14519.5.2.1.3671.4754.133806669697115873569905534398!secondGoogleServer=/projects/idc-sandbox-003/locations/us-central1/datasets/prostate-seg/dicomStores/qin_prostate_repeatability_segnnUNet_datastore\",\"https://fir-idc-prostate-ohif.web.app/viewer/1.3.6.1.4.1.14519.5.2.1.3671.4754.240243858523310211919840278205!secondGoogleServer=/projects/idc-sandbox-003/locations/us-central1/datasets/prostate-seg/dicomStores/qin_prostate_repeatability_segnnUNet_datastore\",\"https://fir-idc-prostate-ohif.web.app/viewer/1.3.6.1.4.1.14519.5.2.1.3671.4754.204078048920967920419177848890!secondGoogleServer=/projects/idc-sandbox-003/locations/us-central1/datasets/prostate-seg/dicomStores/qin_prostate_repeatability_segnnUNet_datastore\",\"https://fir-idc-prostate-ohif.web.app/viewer/1.3.6.1.4.1.14519.5.2.1.3671.4754.233298968565250099224990877587!secondGoogleServer=/projects/idc-sandbox-003/locations/us-central1/datasets/prostate-seg/dicomStores/qin_prostate_repeatability_segnnUNet_datastore\"],\"patientID\":[\"PCAMPMRI-00008\",\"PCAMPMRI-00008\",\"PCAMPMRI-00009\",\"PCAMPMRI-00009\",\"PCAMPMRI-00010\",\"PCAMPMRI-00010\",\"PCAMPMRI-00011\",\"PCAMPMRI-00011\",\"PCAMPMRI-00012\",\"PCAMPMRI-00012\",\"PCAMPMRI-00013\",\"PCAMPMRI-00013\",\"PCAMPMRI-00014\",\"PCAMPMRI-00014\",\"PCAMPMRI-00015\",\"PCAMPMRI-00015\",\"PCAMPMRI-00001\",\"PCAMPMRI-00002\",\"PCAMPMRI-00002\",\"PCAMPMRI-00001\",\"PCAMPMRI-00003\",\"PCAMPMRI-00003\",\"PCAMPMRI-00004\",\"PCAMPMRI-00007\",\"PCAMPMRI-00005\",\"PCAMPMRI-00006\",\"PCAMPMRI-00006\",\"PCAMPMRI-00007\",\"PCAMPMRI-00004\",\"PCAMPMRI-00005\",\"PCAMPMRI-00008\",\"PCAMPMRI-00008\",\"PCAMPMRI-00009\",\"PCAMPMRI-00009\",\"PCAMPMRI-00010\",\"PCAMPMRI-00010\",\"PCAMPMRI-00011\",\"PCAMPMRI-00011\",\"PCAMPMRI-00012\",\"PCAMPMRI-00012\",\"PCAMPMRI-00013\",\"PCAMPMRI-00013\",\"PCAMPMRI-00014\",\"PCAMPMRI-00014\",\"PCAMPMRI-00015\",\"PCAMPMRI-00015\",\"PCAMPMRI-00001\",\"PCAMPMRI-00002\",\"PCAMPMRI-00002\",\"PCAMPMRI-00001\",\"PCAMPMRI-00003\",\"PCAMPMRI-00003\",\"PCAMPMRI-00004\",\"PCAMPMRI-00007\",\"PCAMPMRI-00005\",\"PCAMPMRI-00006\",\"PCAMPMRI-00006\",\"PCAMPMRI-00007\",\"PCAMPMRI-00004\",\"PCAMPMRI-00005\"],\"regions\":[\"PZ\",\"PZ\",\"PZ\",\"PZ\",\"PZ\",\"PZ\",\"PZ\",\"PZ\",\"PZ\",\"PZ\",\"PZ\",\"PZ\",\"PZ\",\"PZ\",\"PZ\",\"PZ\",\"PZ\",\"PZ\",\"PZ\",\"PZ\",\"PZ\",\"PZ\",\"PZ\",\"PZ\",\"PZ\",\"PZ\",\"PZ\",\"PZ\",\"PZ\",\"PZ\",\"Prostate\",\"Prostate\",\"Prostate\",\"Prostate\",\"Prostate\",\"Prostate\",\"Prostate\",\"Prostate\",\"Prostate\",\"Prostate\",\"Prostate\",\"Prostate\",\"Prostate\",\"Prostate\",\"Prostate\",\"Prostate\",\"Prostate\",\"Prostate\",\"Prostate\",\"Prostate\",\"Prostate\",\"Prostate\",\"Prostate\",\"Prostate\",\"Prostate\",\"Prostate\",\"Prostate\",\"Prostate\",\"Prostate\",\"Prostate\"],\"segment\":[\"PZ\",\"PZ\",\"PZ\",\"PZ\",\"PZ\",\"PZ\",\"PZ\",\"PZ\",\"PZ\",\"PZ\",\"PZ\",\"PZ\",\"PZ\",\"PZ\",\"PZ\",\"PZ\",\"PZ\",\"PZ\",\"PZ\",\"PZ\",\"PZ\",\"PZ\",\"PZ\",\"PZ\",\"PZ\",\"PZ\",\"PZ\",\"PZ\",\"PZ\",\"PZ\",\"prostate\",\"prostate\",\"prostate\",\"prostate\",\"prostate\",\"prostate\",\"prostate\",\"prostate\",\"prostate\",\"prostate\",\"prostate\",\"prostate\",\"prostate\",\"prostate\",\"prostate\",\"prostate\",\"prostate\",\"prostate\",\"prostate\",\"prostate\",\"prostate\",\"prostate\",\"prostate\",\"prostate\",\"prostate\",\"prostate\",\"prostate\",\"prostate\",\"prostate\",\"prostate\"],\"serieUID\":[\"1.2.276.0.7230010.3.1.3.481034752.5623.1666822888.804515\",\"1.2.276.0.7230010.3.1.3.481034752.5620.1666822888.466943\",\"1.2.276.0.7230010.3.1.3.481034752.5575.1666822883.435843\",\"1.2.276.0.7230010.3.1.3.481034752.5605.1666822886.794824\",\"1.2.276.0.7230010.3.1.3.481034752.5635.1666822890.170551\",\"1.2.276.0.7230010.3.1.3.481034752.5608.1666822887.132338\",\"1.2.276.0.7230010.3.1.3.481034752.5617.1666822888.138739\",\"1.2.276.0.7230010.3.1.3.481034752.5629.1666822889.489097\",\"1.2.276.0.7230010.3.1.3.481034752.5602.1666822886.462397\",\"1.2.276.0.7230010.3.1.3.481034752.5593.1666822885.461406\",\"1.2.276.0.7230010.3.1.3.481034752.5581.1666822884.103378\",\"1.2.276.0.7230010.3.1.3.481034752.5641.1666822890.832130\",\"1.2.276.0.7230010.3.1.3.481034752.5656.1666822892.533638\",\"1.2.276.0.7230010.3.1.3.481034752.5572.1666822883.78063\",\"1.2.276.0.7230010.3.1.3.481034752.5611.1666822887.470700\",\"1.2.276.0.7230010.3.1.3.481034752.5599.1666822886.123580\",\"1.2.276.0.7230010.3.1.3.481034752.5644.1666822891.177971\",\"1.2.276.0.7230010.3.1.3.481034752.5578.1666822883.770629\",\"1.2.276.0.7230010.3.1.3.481034752.5596.1666822885.789994\",\"1.2.276.0.7230010.3.1.3.481034752.5614.1666822887.804002\",\"1.2.276.0.7230010.3.1.3.481034752.5626.1666822889.165623\",\"1.2.276.0.7230010.3.1.3.481034752.5650.1666822891.856720\",\"1.2.276.0.7230010.3.1.3.481034752.5659.1666822892.887526\",\"1.2.276.0.7230010.3.1.3.481034752.5638.1666822890.497818\",\"1.2.276.0.7230010.3.1.3.481034752.5647.1666822891.524403\",\"1.2.276.0.7230010.3.1.3.481034752.5632.1666822889.844708\",\"1.2.276.0.7230010.3.1.3.481034752.5584.1666822884.461333\",\"1.2.276.0.7230010.3.1.3.481034752.5653.1666822892.205098\",\"1.2.276.0.7230010.3.1.3.481034752.5590.1666822885.130019\",\"1.2.276.0.7230010.3.1.3.481034752.5587.1666822884.794967\",\"1.2.276.0.7230010.3.1.3.481034752.4032.1665501458.674193\",\"1.2.276.0.7230010.3.1.3.481034752.4073.1665501463.263353\",\"1.2.276.0.7230010.3.1.3.481034752.4088.1665501464.949326\",\"1.2.276.0.7230010.3.1.3.481034752.4038.1665501459.282514\",\"1.2.276.0.7230010.3.1.3.481034752.4106.1665501466.979878\",\"1.2.276.0.7230010.3.1.3.481034752.4097.1665501465.960320\",\"1.2.276.0.7230010.3.1.3.481034752.4058.1665501461.296222\",\"1.2.276.0.7230010.3.1.3.481034752.4103.1665501466.640513\",\"1.2.276.0.7230010.3.1.3.481034752.4044.1665501459.961513\",\"1.2.276.0.7230010.3.1.3.481034752.4052.1665501460.621505\",\"1.2.276.0.7230010.3.1.3.481034752.4112.1665501467.646274\",\"1.2.276.0.7230010.3.1.3.481034752.4118.1665501468.327092\",\"1.2.276.0.7230010.3.1.3.481034752.4076.1665501463.610640\",\"1.2.276.0.7230010.3.1.3.481034752.4047.1665501460.288959\",\"1.2.276.0.7230010.3.1.3.481034752.4061.1665501461.703894\",\"1.2.276.0.7230010.3.1.3.481034752.4082.1665501464.278390\",\"1.2.276.0.7230010.3.1.3.481034752.4035.1665501458.949406\",\"1.2.276.0.7230010.3.1.3.481034752.4094.1665501465.634008\",\"1.2.276.0.7230010.3.1.3.481034752.4091.1665501465.291743\",\"1.2.276.0.7230010.3.1.3.481034752.4115.1665501467.998877\",\"1.2.276.0.7230010.3.1.3.481034752.4121.1665501468.662250\",\"1.2.276.0.7230010.3.1.3.481034752.4109.1665501467.317349\",\"1.2.276.0.7230010.3.1.3.481034752.4064.1665501462.332456\",\"1.2.276.0.7230010.3.1.3.481034752.4100.1665501466.305261\",\"1.2.276.0.7230010.3.1.3.481034752.4070.1665501462.943132\",\"1.2.276.0.7230010.3.1.3.481034752.4067.1665501462.611630\",\"1.2.276.0.7230010.3.1.3.481034752.4055.1665501460.976611\",\"1.2.276.0.7230010.3.1.3.481034752.4085.1665501464.626433\",\"1.2.276.0.7230010.3.1.3.481034752.4041.1665501459.630679\",\"1.2.276.0.7230010.3.1.3.481034752.4079.1665501463.960922\"],\"series_date\":[\"20221026\",\"20221026\",\"20221026\",\"20221026\",\"20221026\",\"20221026\",\"20221026\",\"20221026\",\"20221026\",\"20221026\",\"20221026\",\"20221026\",\"20221026\",\"20221026\",\"20221026\",\"20221026\",\"20221026\",\"20221026\",\"20221026\",\"20221026\",\"20221026\",\"20221026\",\"20221026\",\"20221026\",\"20221026\",\"20221026\",\"20221026\",\"20221026\",\"20221026\",\"20221026\",\"20221011\",\"20221011\",\"20221011\",\"20221011\",\"20221011\",\"20221011\",\"20221011\",\"20221011\",\"20221011\",\"20221011\",\"20221011\",\"20221011\",\"20221011\",\"20221011\",\"20221011\",\"20221011\",\"20221011\",\"20221011\",\"20221011\",\"20221011\",\"20221011\",\"20221011\",\"20221011\",\"20221011\",\"20221011\",\"20221011\",\"20221011\",\"20221011\",\"20221011\",\"20221011\"],\"series_time\":[\"222128\",\"222128\",\"222123\",\"222126\",\"222130\",\"222127\",\"222128\",\"222129\",\"222126\",\"222125\",\"222124\",\"222130\",\"222132\",\"222123\",\"222127\",\"222126\",\"222131\",\"222123\",\"222125\",\"222127\",\"222129\",\"222132\",\"222133\",\"222130\",\"222131\",\"222130\",\"222124\",\"222132\",\"222125\",\"222124\",\"151738\",\"151743\",\"151745\",\"151739\",\"151747\",\"151746\",\"151741\",\"151746\",\"151740\",\"151740\",\"151747\",\"151748\",\"151743\",\"151740\",\"151741\",\"151744\",\"151739\",\"151745\",\"151745\",\"151748\",\"151748\",\"151747\",\"151742\",\"151746\",\"151743\",\"151742\",\"151741\",\"151744\",\"151739\",\"151744\"],\"studyUID\":[\"1.3.6.1.4.1.14519.5.2.1.3671.4754.173585825705285812758858023242\",\"1.3.6.1.4.1.14519.5.2.1.3671.4754.266963586071007736606548226859\",\"1.3.6.1.4.1.14519.5.2.1.3671.4754.864607788085827202303582199118\",\"1.3.6.1.4.1.14519.5.2.1.3671.4754.181478254003851548055481596513\",\"1.3.6.1.4.1.14519.5.2.1.3671.4754.318227959935022390930294557376\",\"1.3.6.1.4.1.14519.5.2.1.3671.4754.217251077299095981018478951589\",\"1.3.6.1.4.1.14519.5.2.1.3671.4754.131608903441424620949571415524\",\"1.3.6.1.4.1.14519.5.2.1.3671.4754.117496148504386222592571043379\",\"1.3.6.1.4.1.14519.5.2.1.3671.4754.264231410930579591639987629694\",\"1.3.6.1.4.1.14519.5.2.1.3671.4754.298665348758363466150039312520\",\"1.3.6.1.4.1.14519.5.2.1.3671.4754.245461598867316286839568962369\",\"1.3.6.1.4.1.14519.5.2.1.3671.4754.211895462561589970837377570121\",\"1.3.6.1.4.1.14519.5.2.1.3671.4754.288453744990673175783381845880\",\"1.3.6.1.4.1.14519.5.2.1.3671.4754.194890890650697728529329442454\",\"1.3.6.1.4.1.14519.5.2.1.3671.4754.431678793261759442965045820561\",\"1.3.6.1.4.1.14519.5.2.1.3671.4754.182983245842036631781777324507\",\"1.3.6.1.4.1.14519.5.2.1.3671.4754.288848219213026850354055725664\",\"1.3.6.1.4.1.14519.5.2.1.3671.4754.568383070573576760578239627478\",\"1.3.6.1.4.1.14519.5.2.1.3671.4754.304001015100152820571364796240\",\"1.3.6.1.4.1.14519.5.2.1.3671.4754.121472087445374646718121301133\",\"1.3.6.1.4.1.14519.5.2.1.3671.4754.263464522348816475234793721892\",\"1.3.6.1.4.1.14519.5.2.1.3671.4754.162322077241419864654545266845\",\"1.3.6.1.4.1.14519.5.2.1.3671.4754.394942238206951812120962051099\",\"1.3.6.1.4.1.14519.5.2.1.3671.4754.962865348146140991373362412648\",\"1.3.6.1.4.1.14519.5.2.1.3671.4754.240823776621155108064488841063\",\"1.3.6.1.4.1.14519.5.2.1.3671.4754.287814201869490350714498330797\",\"1.3.6.1.4.1.14519.5.2.1.3671.4754.133806669697115873569905534398\",\"1.3.6.1.4.1.14519.5.2.1.3671.4754.240243858523310211919840278205\",\"1.3.6.1.4.1.14519.5.2.1.3671.4754.204078048920967920419177848890\",\"1.3.6.1.4.1.14519.5.2.1.3671.4754.233298968565250099224990877587\",\"1.3.6.1.4.1.14519.5.2.1.3671.4754.173585825705285812758858023242\",\"1.3.6.1.4.1.14519.5.2.1.3671.4754.266963586071007736606548226859\",\"1.3.6.1.4.1.14519.5.2.1.3671.4754.864607788085827202303582199118\",\"1.3.6.1.4.1.14519.5.2.1.3671.4754.181478254003851548055481596513\",\"1.3.6.1.4.1.14519.5.2.1.3671.4754.318227959935022390930294557376\",\"1.3.6.1.4.1.14519.5.2.1.3671.4754.217251077299095981018478951589\",\"1.3.6.1.4.1.14519.5.2.1.3671.4754.131608903441424620949571415524\",\"1.3.6.1.4.1.14519.5.2.1.3671.4754.117496148504386222592571043379\",\"1.3.6.1.4.1.14519.5.2.1.3671.4754.298665348758363466150039312520\",\"1.3.6.1.4.1.14519.5.2.1.3671.4754.264231410930579591639987629694\",\"1.3.6.1.4.1.14519.5.2.1.3671.4754.211895462561589970837377570121\",\"1.3.6.1.4.1.14519.5.2.1.3671.4754.245461598867316286839568962369\",\"1.3.6.1.4.1.14519.5.2.1.3671.4754.194890890650697728529329442454\",\"1.3.6.1.4.1.14519.5.2.1.3671.4754.288453744990673175783381845880\",\"1.3.6.1.4.1.14519.5.2.1.3671.4754.431678793261759442965045820561\",\"1.3.6.1.4.1.14519.5.2.1.3671.4754.182983245842036631781777324507\",\"1.3.6.1.4.1.14519.5.2.1.3671.4754.288848219213026850354055725664\",\"1.3.6.1.4.1.14519.5.2.1.3671.4754.568383070573576760578239627478\",\"1.3.6.1.4.1.14519.5.2.1.3671.4754.304001015100152820571364796240\",\"1.3.6.1.4.1.14519.5.2.1.3671.4754.121472087445374646718121301133\",\"1.3.6.1.4.1.14519.5.2.1.3671.4754.162322077241419864654545266845\",\"1.3.6.1.4.1.14519.5.2.1.3671.4754.263464522348816475234793721892\",\"1.3.6.1.4.1.14519.5.2.1.3671.4754.394942238206951812120962051099\",\"1.3.6.1.4.1.14519.5.2.1.3671.4754.962865348146140991373362412648\",\"1.3.6.1.4.1.14519.5.2.1.3671.4754.240823776621155108064488841063\",\"1.3.6.1.4.1.14519.5.2.1.3671.4754.287814201869490350714498330797\",\"1.3.6.1.4.1.14519.5.2.1.3671.4754.133806669697115873569905534398\",\"1.3.6.1.4.1.14519.5.2.1.3671.4754.240243858523310211919840278205\",\"1.3.6.1.4.1.14519.5.2.1.3671.4754.204078048920967920419177848890\",\"1.3.6.1.4.1.14519.5.2.1.3671.4754.233298968565250099224990877587\"],\"study_date\":[\"19950617\",\"19950701\",\"19950701\",\"19950708\",\"19950709\",\"19950706\",\"19950826\",\"19950908\",\"19951223\",\"19951215\",\"19960307\",\"19960222\",\"19960316\",\"19960324\",\"19960516\",\"19960502\",\"19940702\",\"19940723\",\"19940709\",\"19940620\",\"19940825\",\"19940811\",\"19940903\",\"19941008\",\"19940910\",\"19940924\",\"19941001\",\"19941001\",\"19940912\",\"19940917\",\"19950617\",\"19950701\",\"19950701\",\"19950708\",\"19950709\",\"19950706\",\"19950826\",\"19950908\",\"19951215\",\"19951223\",\"19960222\",\"19960307\",\"19960324\",\"19960316\",\"19960516\",\"19960502\",\"19940702\",\"19940723\",\"19940709\",\"19940620\",\"19940811\",\"19940825\",\"19940903\",\"19941008\",\"19940910\",\"19940924\",\"19941001\",\"19941001\",\"19940912\",\"19940917\"],\"study_time\":[\"111335\",\"131106\",\"142721\",\"163440\",\"150441\",\"110656\",\"161817\",\"160430\",\"113757\",\"131445\",\"163449\",\"152346\",\"130727\",\"162549\",\"114812\",\"111555\",\"132531\",\"132116\",\"121716\",\"092715\",\"113959\",\"141233\",\"104120\",\"113910\",\"101927\",\"132134\",\"133534\",\"103506\",\"144338\",\"115624\",\"111335\",\"131106\",\"142721\",\"163440\",\"150441\",\"110656\",\"161817\",\"160430\",\"131445\",\"113757\",\"152346\",\"163449\",\"162549\",\"130727\",\"114812\",\"111555\",\"132531\",\"132116\",\"121716\",\"092715\",\"141233\",\"113959\",\"104120\",\"113910\",\"101927\",\"132134\",\"133534\",\"103506\",\"144338\",\"115624\"],\"studydesc\":[\"PCAMPMRI\",\"PCAMPMRI\",\"PCAMPMRI\",\"PCAMPMRI\",\"PCAMPMRI\",\"PCAMPMRI\",\"PCAMPMRI\",\"PCAMPMRI\",\"PCAMPMRI\",\"PCAMPMRI\",\"PCAMPMRI\",\"PCAMPMRI\",\"PCAMPMRI\",\"PCAMPMRI\",\"PCAMPMRI\",\"PCAMPMRI\",\"BD/PRO Pelvis w\",\"BD/PRO Pelvis w\",\"MR RECTUM (SCH)\",\"PRO/BD Pelvis w\",\"PRO/BD Pelvis w\",\"PRO/BD Pelvis w\",\"PRO/BD Pelvis w\",\"PRO/BD Pelvis w\",\"/BD/PRO   Pelvis w&w/oCon\",\"/BD/PRO   Pelvis w&w/oCon\",\"/BD/PRO   Pelvis w&w/oCon\",\"/BD/PRO   Pelvis w&w/oCon\",\"/PRO/BD   Pelvis w&w/oCon\",\"/PRO/BD   Pelvis w&w/oCon\",\"PCAMPMRI\",\"PCAMPMRI\",\"PCAMPMRI\",\"PCAMPMRI\",\"PCAMPMRI\",\"PCAMPMRI\",\"PCAMPMRI\",\"PCAMPMRI\",\"PCAMPMRI\",\"PCAMPMRI\",\"PCAMPMRI\",\"PCAMPMRI\",\"PCAMPMRI\",\"PCAMPMRI\",\"PCAMPMRI\",\"PCAMPMRI\",\"BD/PRO Pelvis w\",\"BD/PRO Pelvis w\",\"MR RECTUM (SCH)\",\"PRO/BD Pelvis w\",\"PRO/BD Pelvis w\",\"PRO/BD Pelvis w\",\"PRO/BD Pelvis w\",\"PRO/BD Pelvis w\",\"/BD/PRO   Pelvis w&w/oCon\",\"/BD/PRO   Pelvis w&w/oCon\",\"/BD/PRO   Pelvis w&w/oCon\",\"/BD/PRO   Pelvis w&w/oCon\",\"/PRO/BD   Pelvis w&w/oCon\",\"/PRO/BD   Pelvis w&w/oCon\"]},\"selected\":{\"id\":\"1560\"},\"selection_policy\":{\"id\":\"1561\"}},\"id\":\"1513\",\"type\":\"ColumnDataSource\"},{\"attributes\":{},\"id\":\"1560\",\"type\":\"Selection\"},{\"attributes\":{\"url\":\"@ohif_url\"},\"id\":\"1575\",\"type\":\"OpenURL\"},{\"attributes\":{},\"id\":\"1561\",\"type\":\"UnionRenderers\"},{\"attributes\":{},\"id\":\"1498\",\"type\":\"CategoricalTicker\"},{\"attributes\":{},\"id\":\"1555\",\"type\":\"BasicTickFormatter\"},{\"attributes\":{},\"id\":\"1556\",\"type\":\"AllLabels\"},{\"attributes\":{},\"id\":\"1572\",\"type\":\"Selection\"},{\"attributes\":{\"axis\":{\"id\":\"1497\"},\"grid_line_color\":null,\"grid_line_width\":2,\"ticker\":null},\"id\":\"1499\",\"type\":\"Grid\"},{\"attributes\":{\"range\":{\"id\":\"1489\"},\"width\":0.6},\"id\":\"1512\",\"type\":\"Jitter\"},{\"attributes\":{},\"id\":\"1573\",\"type\":\"UnionRenderers\"},{\"attributes\":{\"axis_label\":\"label\",\"formatter\":{\"id\":\"1558\"},\"major_label_orientation\":0.7853981633974483,\"major_label_policy\":{\"id\":\"1559\"},\"major_label_text_font_size\":\"0pt\",\"ticker\":{\"id\":\"1498\"}},\"id\":\"1497\",\"type\":\"CategoricalAxis\"},{\"attributes\":{},\"id\":\"1562\",\"type\":\"Selection\"},{\"attributes\":{\"line_alpha\":{\"value\":0.1},\"x0\":{\"field\":\"x0\"},\"x1\":{\"field\":\"x1\"},\"y0\":{\"field\":\"y0\"},\"y1\":{\"field\":\"y1\"}},\"id\":\"1528\",\"type\":\"Segment\"},{\"attributes\":{},\"id\":\"1563\",\"type\":\"UnionRenderers\"},{\"attributes\":{\"data\":{\"bottom\":{\"__ndarray__\":\"gQcGED6U4z/YLm04LI3rPw==\",\"dtype\":\"float64\",\"order\":\"little\",\"shape\":[2]},\"fill_color\":[\"#ff0000\",\"#04b404\"],\"legend\":[\"PZ\",\"Prostate\"],\"top\":{\"__ndarray__\":\"E2HD0ytl5z/G+3H75ZPsPw==\",\"dtype\":\"float64\",\"order\":\"little\",\"shape\":[2]},\"x\":[\"PZ\",\"Prostate\"]},\"selected\":{\"id\":\"1566\"},\"selection_policy\":{\"id\":\"1567\"}},\"id\":\"1519\",\"type\":\"ColumnDataSource\"},{\"attributes\":{\"data_source\":{\"id\":\"1526\"},\"glyph\":{\"id\":\"1527\"},\"hover_glyph\":null,\"muted_glyph\":null,\"nonselection_glyph\":{\"id\":\"1528\"},\"view\":{\"id\":\"1530\"}},\"id\":\"1529\",\"type\":\"GlyphRenderer\"},{\"attributes\":{\"source\":{\"id\":\"1521\"}},\"id\":\"1525\",\"type\":\"CDSView\"},{\"attributes\":{\"bottom\":{\"field\":\"bottom\"},\"fill_color\":{\"field\":\"fill_color\"},\"top\":{\"field\":\"top\"},\"width\":{\"value\":0.7},\"x\":{\"field\":\"x\"}},\"id\":\"1532\",\"type\":\"VBar\"},{\"attributes\":{},\"id\":\"1564\",\"type\":\"Selection\"},{\"attributes\":{},\"id\":\"1565\",\"type\":\"UnionRenderers\"},{\"attributes\":{\"data\":{\"bottom\":{\"__ndarray__\":\"zhd7L75o0T9Oet/42nPqPw==\",\"dtype\":\"float64\",\"order\":\"little\",\"shape\":[2]},\"fill_color\":[\"#ff0000\",\"#04b404\"],\"top\":{\"__ndarray__\":\"gQcGED6U4z/YLm04LI3rPw==\",\"dtype\":\"float64\",\"order\":\"little\",\"shape\":[2]},\"x\":[\"PZ\",\"Prostate\"]},\"selected\":{\"id\":\"1568\"},\"selection_policy\":{\"id\":\"1569\"}},\"id\":\"1520\",\"type\":\"ColumnDataSource\"}],\"root_ids\":[\"1486\"]},\"title\":\"Bokeh Application\",\"version\":\"2.3.3\"}};\n",
              "  var render_items = [{\"docid\":\"121df6f9-0c6c-4b04-84f3-d9e29c6bb210\",\"root_ids\":[\"1486\"],\"roots\":{\"1486\":\"f44180c1-ecad-4512-b41b-6ab184677a90\"}}];\n",
              "  root.Bokeh.embed.embed_items_notebook(docs_json, render_items);\n",
              "\n",
              "  }\n",
              "  if (root.Bokeh !== undefined) {\n",
              "    embed_document(root);\n",
              "  } else {\n",
              "    var attempts = 0;\n",
              "    var timer = setInterval(function(root) {\n",
              "      if (root.Bokeh !== undefined) {\n",
              "        clearInterval(timer);\n",
              "        embed_document(root);\n",
              "      } else {\n",
              "        attempts++;\n",
              "        if (attempts > 100) {\n",
              "          clearInterval(timer);\n",
              "          console.log(\"Bokeh: ERROR: Unable to run BokehJS code because BokehJS library is missing\");\n",
              "        }\n",
              "      }\n",
              "    }, 10, root)\n",
              "  }\n",
              "})(window);"
            ],
            "application/vnd.bokehjs_exec.v0+json": ""
          },
          "metadata": {
            "application/vnd.bokehjs_exec.v0+json": {
              "id": "1486"
            }
          }
        }
      ]
    },
    {
      "cell_type": "markdown",
      "source": [
        "## Hausdorff distance"
      ],
      "metadata": {
        "id": "G-m6BYCT2xqF"
      }
    },
    {
      "cell_type": "code",
      "source": [
        "# Get a color for each region \n",
        "colormap, colors = color_list_generator(df_all, 'regions')\n",
        "df_all['colors'] = colors\n",
        "colormap_list_keys = list(colormap.keys())\n",
        "print('colormap: ' + str(colormap))\n",
        "print('colormap_list_keys: ' + str(colormap_list_keys))\n",
        "regions = colormap_list_keys \n",
        "print('regions: ' + str(regions)) \n",
        "\n",
        "# Get a list of unique colors that match the order of the regions\n",
        "# num_colors = len(list(set(colors)))\n",
        "# colors = [] \n",
        "# for n in range(0,num_colors):\n",
        "#   c = df_plot[df_plot['regions']==colormap_list_keys[n]]['colors'].values[0]\n",
        "#   colors.append(c)\n",
        "\n",
        "colors = list(colormap.values())\n",
        "print('colors: ' + str(colors))\n",
        "\n",
        "hover = HoverTool(tooltips=[\n",
        "    (\"(hausdorff_dist)\", \"($y)\")\n",
        "])\n",
        "\n",
        "wZoom = WheelZoomTool()\n",
        "bZoom = BoxZoomTool()\n",
        "reset = ResetTool()\n",
        "tap = TapTool()\n",
        "pan = PanTool()\n",
        "\n",
        "cats = df_all.regions.unique()\n",
        "print('cats: ' + str(cats))\n",
        "print('regions: ' + str(regions))\n",
        "\n",
        "p = figure(tools = [hover, wZoom, bZoom, reset, tap, pan],\n",
        "           x_range=regions,\n",
        "           # x_range=cats, \n",
        "           title=\"hausdorff_dist of nnUNet predictions per label\")\n",
        "\n",
        "p.circle(y='hausdorff_dist', x=jitter('regions', width=0.6, range=p.x_range), source=df_all, alpha=1, color='colors')\n",
        "\n",
        "### Include the box plots ### \n",
        "# find the quartiles and IQR for each category\n",
        "\n",
        "# regions are in order we want \n",
        "category_region = pd.api.types.CategoricalDtype(categories=regions, ordered=True)\n",
        "df_all['regions'] = df_all['regions'].astype(category_region)\n",
        "\n",
        "groups = df_all.groupby('regions')\n",
        "q1 = groups.quantile(q=0.25)\n",
        "q2 = groups.quantile(q=0.5)\n",
        "q3 = groups.quantile(q=0.75)\n",
        "iqr = q3 - q1\n",
        "upper = q3 + 1.5*iqr\n",
        "lower = q1 - 1.5*iqr\n",
        " \n",
        "# Form the source data to call vbar for upper and lower\n",
        "# boxes to be formed later.\n",
        "upper_source = ColumnDataSource(data=dict(\n",
        "    x=cats, \n",
        "    bottom=q2.hausdorff_dist,\n",
        "    top=q3.hausdorff_dist,\n",
        "    fill_color=colors,\n",
        "    legend=cats\n",
        "))\n",
        " \n",
        "lower_source = ColumnDataSource(data=dict(\n",
        "    x=cats, \n",
        "    bottom=q1.hausdorff_dist,\n",
        "    top=q2.hausdorff_dist,\n",
        "    fill_color=colors\n",
        "))\n",
        " \n",
        " \n",
        "# p = figure(tools=\"save\", title=\"\", x_range=df_plot.regions.unique())\n",
        " \n",
        "# stems (Don't need colors of treatment)\n",
        "p.segment(cats, upper.hausdorff_dist, cats, q3.hausdorff_dist, line_color=\"black\")\n",
        "p.segment(cats, lower.hausdorff_dist, cats, q1.hausdorff_dist, line_color=\"black\")\n",
        " \n",
        "# Add the upper and lower quartiles\n",
        "l=p.vbar(source = upper_source, x='x', width=0.7, bottom='bottom', top='top', fill_color='fill_color', line_color=\"black\")\n",
        "p.vbar(source = lower_source, x='x', width=0.7, bottom='bottom', top='top', fill_color='fill_color', line_color=\"black\")\n",
        " \n",
        "# whiskers (almost-0 height rects simpler than segments)\n",
        "p.rect(cats, lower.hausdorff_dist, 0.2, 0.000001, line_color=\"black\") # was 0.01\n",
        "p.rect(cats, upper.hausdorff_dist, 0.2, 0.000001, line_color=\"black\")\n",
        "\n",
        "# Using the newer autogrouped syntax.\n",
        "# Grab a renderer, in this case upper quartile and then\n",
        "# create the legend explicitly.  \n",
        "# Guidance from: https://groups.google.com/a/continuum.io/forum/#!msg/bokeh/uEliQlgj390/Jyhsc5HqAAAJ\n",
        "legend = Legend(items=[LegendItem(label=dict(field=\"x\"), renderers=[l])])\n",
        " \n",
        "p.add_layout(legend, 'below')    \n",
        " \n",
        "# Setup plot titles and such.\n",
        "p.title.text = \"Hausdorff distance of nnUNet predictions per label\"\n",
        "p.xgrid.grid_line_color = None\n",
        "p.ygrid.grid_line_color = \"white\"\n",
        "p.grid.grid_line_width = 2\n",
        "p.xaxis.major_label_text_font_size=\"0pt\"\n",
        "p.xaxis.major_label_orientation = np.pi/4\n",
        "p.xaxis.axis_label=\"label\"\n",
        "p.yaxis.axis_label=\"hausdorff_dist\"\n",
        "p.legend.location = (100,10)\n",
        " \n",
        "# show(p)\n",
        "########\n",
        "# p.legend.visible=False \n",
        "\n",
        "url=\"@ohif_url\"\n",
        "taptool = p.select(type=TapTool)\n",
        "taptool.callback = OpenURL(url=url)\n",
        "\n",
        "show(p)"
      ],
      "metadata": {
        "colab": {
          "base_uri": "https://localhost:8080/",
          "height": 967
        },
        "id": "gLFvsM8y20Kf",
        "outputId": "310105b6-f07f-4664-f197-89ce58c80713"
      },
      "execution_count": null,
      "outputs": [
        {
          "output_type": "stream",
          "name": "stdout",
          "text": [
            "colormap: {'PZ': '#ff0000', 'Prostate': '#04b404'}\n",
            "colormap_list_keys: ['PZ', 'Prostate']\n",
            "regions: ['PZ', 'Prostate']\n",
            "colors: ['#ff0000', '#04b404']\n",
            "cats: ['PZ', 'Prostate']\n",
            "Categories (2, object): ['PZ' < 'Prostate']\n",
            "regions: ['PZ', 'Prostate']\n"
          ]
        },
        {
          "output_type": "stream",
          "name": "stderr",
          "text": [
            "<ipython-input-103-1661755805db>:49: FutureWarning:\n",
            "\n",
            "Dropping invalid columns in DataFrameGroupBy.quantile is deprecated. In a future version, a TypeError will be raised. Before calling .quantile, select only columns which should be valid for the function.\n",
            "\n",
            "<ipython-input-103-1661755805db>:50: FutureWarning:\n",
            "\n",
            "Dropping invalid columns in DataFrameGroupBy.quantile is deprecated. In a future version, a TypeError will be raised. Before calling .quantile, select only columns which should be valid for the function.\n",
            "\n",
            "<ipython-input-103-1661755805db>:51: FutureWarning:\n",
            "\n",
            "Dropping invalid columns in DataFrameGroupBy.quantile is deprecated. In a future version, a TypeError will be raised. Before calling .quantile, select only columns which should be valid for the function.\n",
            "\n"
          ]
        },
        {
          "output_type": "display_data",
          "data": {
            "application/javascript": [
              "\n",
              "(function(root) {\n",
              "  function now() {\n",
              "    return new Date();\n",
              "  }\n",
              "\n",
              "  var force = true;\n",
              "\n",
              "  if (typeof root._bokeh_onload_callbacks === \"undefined\" || force === true) {\n",
              "    root._bokeh_onload_callbacks = [];\n",
              "    root._bokeh_is_loading = undefined;\n",
              "  }\n",
              "\n",
              "  var JS_MIME_TYPE = 'application/javascript';\n",
              "  var HTML_MIME_TYPE = 'text/html';\n",
              "  var EXEC_MIME_TYPE = 'application/vnd.bokehjs_exec.v0+json';\n",
              "  var CLASS_NAME = 'output_bokeh rendered_html';\n",
              "\n",
              "  /**\n",
              "   * Render data to the DOM node\n",
              "   */\n",
              "  function render(props, node) {\n",
              "    var script = document.createElement(\"script\");\n",
              "    node.appendChild(script);\n",
              "  }\n",
              "\n",
              "  /**\n",
              "   * Handle when an output is cleared or removed\n",
              "   */\n",
              "  function handleClearOutput(event, handle) {\n",
              "    var cell = handle.cell;\n",
              "\n",
              "    var id = cell.output_area._bokeh_element_id;\n",
              "    var server_id = cell.output_area._bokeh_server_id;\n",
              "    // Clean up Bokeh references\n",
              "    if (id != null && id in Bokeh.index) {\n",
              "      Bokeh.index[id].model.document.clear();\n",
              "      delete Bokeh.index[id];\n",
              "    }\n",
              "\n",
              "    if (server_id !== undefined) {\n",
              "      // Clean up Bokeh references\n",
              "      var cmd = \"from bokeh.io.state import curstate; print(curstate().uuid_to_server['\" + server_id + \"'].get_sessions()[0].document.roots[0]._id)\";\n",
              "      cell.notebook.kernel.execute(cmd, {\n",
              "        iopub: {\n",
              "          output: function(msg) {\n",
              "            var id = msg.content.text.trim();\n",
              "            if (id in Bokeh.index) {\n",
              "              Bokeh.index[id].model.document.clear();\n",
              "              delete Bokeh.index[id];\n",
              "            }\n",
              "          }\n",
              "        }\n",
              "      });\n",
              "      // Destroy server and session\n",
              "      var cmd = \"import bokeh.io.notebook as ion; ion.destroy_server('\" + server_id + \"')\";\n",
              "      cell.notebook.kernel.execute(cmd);\n",
              "    }\n",
              "  }\n",
              "\n",
              "  /**\n",
              "   * Handle when a new output is added\n",
              "   */\n",
              "  function handleAddOutput(event, handle) {\n",
              "    var output_area = handle.output_area;\n",
              "    var output = handle.output;\n",
              "\n",
              "    // limit handleAddOutput to display_data with EXEC_MIME_TYPE content only\n",
              "    if ((output.output_type != \"display_data\") || (!Object.prototype.hasOwnProperty.call(output.data, EXEC_MIME_TYPE))) {\n",
              "      return\n",
              "    }\n",
              "\n",
              "    var toinsert = output_area.element.find(\".\" + CLASS_NAME.split(' ')[0]);\n",
              "\n",
              "    if (output.metadata[EXEC_MIME_TYPE][\"id\"] !== undefined) {\n",
              "      toinsert[toinsert.length - 1].firstChild.textContent = output.data[JS_MIME_TYPE];\n",
              "      // store reference to embed id on output_area\n",
              "      output_area._bokeh_element_id = output.metadata[EXEC_MIME_TYPE][\"id\"];\n",
              "    }\n",
              "    if (output.metadata[EXEC_MIME_TYPE][\"server_id\"] !== undefined) {\n",
              "      var bk_div = document.createElement(\"div\");\n",
              "      bk_div.innerHTML = output.data[HTML_MIME_TYPE];\n",
              "      var script_attrs = bk_div.children[0].attributes;\n",
              "      for (var i = 0; i < script_attrs.length; i++) {\n",
              "        toinsert[toinsert.length - 1].firstChild.setAttribute(script_attrs[i].name, script_attrs[i].value);\n",
              "        toinsert[toinsert.length - 1].firstChild.textContent = bk_div.children[0].textContent\n",
              "      }\n",
              "      // store reference to server id on output_area\n",
              "      output_area._bokeh_server_id = output.metadata[EXEC_MIME_TYPE][\"server_id\"];\n",
              "    }\n",
              "  }\n",
              "\n",
              "  function register_renderer(events, OutputArea) {\n",
              "\n",
              "    function append_mime(data, metadata, element) {\n",
              "      // create a DOM node to render to\n",
              "      var toinsert = this.create_output_subarea(\n",
              "        metadata,\n",
              "        CLASS_NAME,\n",
              "        EXEC_MIME_TYPE\n",
              "      );\n",
              "      this.keyboard_manager.register_events(toinsert);\n",
              "      // Render to node\n",
              "      var props = {data: data, metadata: metadata[EXEC_MIME_TYPE]};\n",
              "      render(props, toinsert[toinsert.length - 1]);\n",
              "      element.append(toinsert);\n",
              "      return toinsert\n",
              "    }\n",
              "\n",
              "    /* Handle when an output is cleared or removed */\n",
              "    events.on('clear_output.CodeCell', handleClearOutput);\n",
              "    events.on('delete.Cell', handleClearOutput);\n",
              "\n",
              "    /* Handle when a new output is added */\n",
              "    events.on('output_added.OutputArea', handleAddOutput);\n",
              "\n",
              "    /**\n",
              "     * Register the mime type and append_mime function with output_area\n",
              "     */\n",
              "    OutputArea.prototype.register_mime_type(EXEC_MIME_TYPE, append_mime, {\n",
              "      /* Is output safe? */\n",
              "      safe: true,\n",
              "      /* Index of renderer in `output_area.display_order` */\n",
              "      index: 0\n",
              "    });\n",
              "  }\n",
              "\n",
              "  // register the mime type if in Jupyter Notebook environment and previously unregistered\n",
              "  if (root.Jupyter !== undefined) {\n",
              "    var events = require('base/js/events');\n",
              "    var OutputArea = require('notebook/js/outputarea').OutputArea;\n",
              "\n",
              "    if (OutputArea.prototype.mime_types().indexOf(EXEC_MIME_TYPE) == -1) {\n",
              "      register_renderer(events, OutputArea);\n",
              "    }\n",
              "  }\n",
              "\n",
              "  \n",
              "  if (typeof (root._bokeh_timeout) === \"undefined\" || force === true) {\n",
              "    root._bokeh_timeout = Date.now() + 5000;\n",
              "    root._bokeh_failed_load = false;\n",
              "  }\n",
              "\n",
              "  var NB_LOAD_WARNING = {'data': {'text/html':\n",
              "     \"<div style='background-color: #fdd'>\\n\"+\n",
              "     \"<p>\\n\"+\n",
              "     \"BokehJS does not appear to have successfully loaded. If loading BokehJS from CDN, this \\n\"+\n",
              "     \"may be due to a slow or bad network connection. Possible fixes:\\n\"+\n",
              "     \"</p>\\n\"+\n",
              "     \"<ul>\\n\"+\n",
              "     \"<li>re-rerun `output_notebook()` to attempt to load from CDN again, or</li>\\n\"+\n",
              "     \"<li>use INLINE resources instead, as so:</li>\\n\"+\n",
              "     \"</ul>\\n\"+\n",
              "     \"<code>\\n\"+\n",
              "     \"from bokeh.resources import INLINE\\n\"+\n",
              "     \"output_notebook(resources=INLINE)\\n\"+\n",
              "     \"</code>\\n\"+\n",
              "     \"</div>\"}};\n",
              "\n",
              "  function display_loaded() {\n",
              "    var el = document.getElementById(null);\n",
              "    if (el != null) {\n",
              "      el.textContent = \"BokehJS is loading...\";\n",
              "    }\n",
              "    if (root.Bokeh !== undefined) {\n",
              "      if (el != null) {\n",
              "        el.textContent = \"BokehJS \" + root.Bokeh.version + \" successfully loaded.\";\n",
              "      }\n",
              "    } else if (Date.now() < root._bokeh_timeout) {\n",
              "      setTimeout(display_loaded, 100)\n",
              "    }\n",
              "  }\n",
              "\n",
              "\n",
              "  function run_callbacks() {\n",
              "    try {\n",
              "      root._bokeh_onload_callbacks.forEach(function(callback) {\n",
              "        if (callback != null)\n",
              "          callback();\n",
              "      });\n",
              "    } finally {\n",
              "      delete root._bokeh_onload_callbacks\n",
              "    }\n",
              "    console.debug(\"Bokeh: all callbacks have finished\");\n",
              "  }\n",
              "\n",
              "  function load_libs(css_urls, js_urls, callback) {\n",
              "    if (css_urls == null) css_urls = [];\n",
              "    if (js_urls == null) js_urls = [];\n",
              "\n",
              "    root._bokeh_onload_callbacks.push(callback);\n",
              "    if (root._bokeh_is_loading > 0) {\n",
              "      console.debug(\"Bokeh: BokehJS is being loaded, scheduling callback at\", now());\n",
              "      return null;\n",
              "    }\n",
              "    if (js_urls == null || js_urls.length === 0) {\n",
              "      run_callbacks();\n",
              "      return null;\n",
              "    }\n",
              "    console.debug(\"Bokeh: BokehJS not loaded, scheduling load and callback at\", now());\n",
              "    root._bokeh_is_loading = css_urls.length + js_urls.length;\n",
              "\n",
              "    function on_load() {\n",
              "      root._bokeh_is_loading--;\n",
              "      if (root._bokeh_is_loading === 0) {\n",
              "        console.debug(\"Bokeh: all BokehJS libraries/stylesheets loaded\");\n",
              "        run_callbacks()\n",
              "      }\n",
              "    }\n",
              "\n",
              "    function on_error(url) {\n",
              "      console.error(\"failed to load \" + url);\n",
              "    }\n",
              "\n",
              "    for (let i = 0; i < css_urls.length; i++) {\n",
              "      const url = css_urls[i];\n",
              "      const element = document.createElement(\"link\");\n",
              "      element.onload = on_load;\n",
              "      element.onerror = on_error.bind(null, url);\n",
              "      element.rel = \"stylesheet\";\n",
              "      element.type = \"text/css\";\n",
              "      element.href = url;\n",
              "      console.debug(\"Bokeh: injecting link tag for BokehJS stylesheet: \", url);\n",
              "      document.body.appendChild(element);\n",
              "    }\n",
              "\n",
              "    const hashes = {\"https://cdn.bokeh.org/bokeh/release/bokeh-2.3.3.min.js\": \"dM3QQsP+wXdHg42wTqW85BjZQdLNNIXqlPw/BgKoExPmTG7ZLML4EGqLMfqHT6ON\", \"https://cdn.bokeh.org/bokeh/release/bokeh-tables-2.3.3.min.js\": \"8x57I4YuIfu8XyZfFo0XVr2WAT8EK4rh/uDe3wF7YuW2FNUSNEpJbsPaB1nJ2fz2\", \"https://cdn.bokeh.org/bokeh/release/bokeh-widgets-2.3.3.min.js\": \"3QTqdz9LyAm2i0sG5XTePsHec3UHWwVsrOL68SYRoAXsafvfAyqtQ+h440+qIBhS\"};\n",
              "\n",
              "    for (let i = 0; i < js_urls.length; i++) {\n",
              "      const url = js_urls[i];\n",
              "      const element = document.createElement('script');\n",
              "      element.onload = on_load;\n",
              "      element.onerror = on_error.bind(null, url);\n",
              "      element.async = false;\n",
              "      element.src = url;\n",
              "      if (url in hashes) {\n",
              "        element.crossOrigin = \"anonymous\";\n",
              "        element.integrity = \"sha384-\" + hashes[url];\n",
              "      }\n",
              "      console.debug(\"Bokeh: injecting script tag for BokehJS library: \", url);\n",
              "      document.head.appendChild(element);\n",
              "    }\n",
              "  };\n",
              "\n",
              "  function inject_raw_css(css) {\n",
              "    const element = document.createElement(\"style\");\n",
              "    element.appendChild(document.createTextNode(css));\n",
              "    document.body.appendChild(element);\n",
              "  }\n",
              "\n",
              "  \n",
              "  var js_urls = [\"https://cdn.bokeh.org/bokeh/release/bokeh-2.3.3.min.js\", \"https://cdn.bokeh.org/bokeh/release/bokeh-widgets-2.3.3.min.js\", \"https://cdn.bokeh.org/bokeh/release/bokeh-tables-2.3.3.min.js\"];\n",
              "  var css_urls = [];\n",
              "  \n",
              "\n",
              "  var inline_js = [\n",
              "    function(Bokeh) {\n",
              "      Bokeh.set_log_level(\"info\");\n",
              "    },\n",
              "    function(Bokeh) {\n",
              "    \n",
              "    \n",
              "    }\n",
              "  ];\n",
              "\n",
              "  function run_inline_js() {\n",
              "    \n",
              "    if (root.Bokeh !== undefined || force === true) {\n",
              "      \n",
              "    for (var i = 0; i < inline_js.length; i++) {\n",
              "      inline_js[i].call(root, root.Bokeh);\n",
              "    }\n",
              "    } else if (Date.now() < root._bokeh_timeout) {\n",
              "      setTimeout(run_inline_js, 100);\n",
              "    } else if (!root._bokeh_failed_load) {\n",
              "      console.log(\"Bokeh: BokehJS failed to load within specified timeout.\");\n",
              "      root._bokeh_failed_load = true;\n",
              "    } else if (force !== true) {\n",
              "      var cell = $(document.getElementById(null)).parents('.cell').data().cell;\n",
              "      cell.output_area.append_execute_result(NB_LOAD_WARNING)\n",
              "    }\n",
              "\n",
              "  }\n",
              "\n",
              "  if (root._bokeh_is_loading === 0) {\n",
              "    console.debug(\"Bokeh: BokehJS loaded, going straight to plotting\");\n",
              "    run_inline_js();\n",
              "  } else {\n",
              "    load_libs(css_urls, js_urls, function() {\n",
              "      console.debug(\"Bokeh: BokehJS plotting callback run at\", now());\n",
              "      run_inline_js();\n",
              "    });\n",
              "  }\n",
              "}(window));"
            ],
            "application/vnd.bokehjs_load.v0+json": "\n(function(root) {\n  function now() {\n    return new Date();\n  }\n\n  var force = true;\n\n  if (typeof root._bokeh_onload_callbacks === \"undefined\" || force === true) {\n    root._bokeh_onload_callbacks = [];\n    root._bokeh_is_loading = undefined;\n  }\n\n  \n\n  \n  if (typeof (root._bokeh_timeout) === \"undefined\" || force === true) {\n    root._bokeh_timeout = Date.now() + 5000;\n    root._bokeh_failed_load = false;\n  }\n\n  var NB_LOAD_WARNING = {'data': {'text/html':\n     \"<div style='background-color: #fdd'>\\n\"+\n     \"<p>\\n\"+\n     \"BokehJS does not appear to have successfully loaded. If loading BokehJS from CDN, this \\n\"+\n     \"may be due to a slow or bad network connection. Possible fixes:\\n\"+\n     \"</p>\\n\"+\n     \"<ul>\\n\"+\n     \"<li>re-rerun `output_notebook()` to attempt to load from CDN again, or</li>\\n\"+\n     \"<li>use INLINE resources instead, as so:</li>\\n\"+\n     \"</ul>\\n\"+\n     \"<code>\\n\"+\n     \"from bokeh.resources import INLINE\\n\"+\n     \"output_notebook(resources=INLINE)\\n\"+\n     \"</code>\\n\"+\n     \"</div>\"}};\n\n  function display_loaded() {\n    var el = document.getElementById(null);\n    if (el != null) {\n      el.textContent = \"BokehJS is loading...\";\n    }\n    if (root.Bokeh !== undefined) {\n      if (el != null) {\n        el.textContent = \"BokehJS \" + root.Bokeh.version + \" successfully loaded.\";\n      }\n    } else if (Date.now() < root._bokeh_timeout) {\n      setTimeout(display_loaded, 100)\n    }\n  }\n\n\n  function run_callbacks() {\n    try {\n      root._bokeh_onload_callbacks.forEach(function(callback) {\n        if (callback != null)\n          callback();\n      });\n    } finally {\n      delete root._bokeh_onload_callbacks\n    }\n    console.debug(\"Bokeh: all callbacks have finished\");\n  }\n\n  function load_libs(css_urls, js_urls, callback) {\n    if (css_urls == null) css_urls = [];\n    if (js_urls == null) js_urls = [];\n\n    root._bokeh_onload_callbacks.push(callback);\n    if (root._bokeh_is_loading > 0) {\n      console.debug(\"Bokeh: BokehJS is being loaded, scheduling callback at\", now());\n      return null;\n    }\n    if (js_urls == null || js_urls.length === 0) {\n      run_callbacks();\n      return null;\n    }\n    console.debug(\"Bokeh: BokehJS not loaded, scheduling load and callback at\", now());\n    root._bokeh_is_loading = css_urls.length + js_urls.length;\n\n    function on_load() {\n      root._bokeh_is_loading--;\n      if (root._bokeh_is_loading === 0) {\n        console.debug(\"Bokeh: all BokehJS libraries/stylesheets loaded\");\n        run_callbacks()\n      }\n    }\n\n    function on_error(url) {\n      console.error(\"failed to load \" + url);\n    }\n\n    for (let i = 0; i < css_urls.length; i++) {\n      const url = css_urls[i];\n      const element = document.createElement(\"link\");\n      element.onload = on_load;\n      element.onerror = on_error.bind(null, url);\n      element.rel = \"stylesheet\";\n      element.type = \"text/css\";\n      element.href = url;\n      console.debug(\"Bokeh: injecting link tag for BokehJS stylesheet: \", url);\n      document.body.appendChild(element);\n    }\n\n    const hashes = {\"https://cdn.bokeh.org/bokeh/release/bokeh-2.3.3.min.js\": \"dM3QQsP+wXdHg42wTqW85BjZQdLNNIXqlPw/BgKoExPmTG7ZLML4EGqLMfqHT6ON\", \"https://cdn.bokeh.org/bokeh/release/bokeh-tables-2.3.3.min.js\": \"8x57I4YuIfu8XyZfFo0XVr2WAT8EK4rh/uDe3wF7YuW2FNUSNEpJbsPaB1nJ2fz2\", \"https://cdn.bokeh.org/bokeh/release/bokeh-widgets-2.3.3.min.js\": \"3QTqdz9LyAm2i0sG5XTePsHec3UHWwVsrOL68SYRoAXsafvfAyqtQ+h440+qIBhS\"};\n\n    for (let i = 0; i < js_urls.length; i++) {\n      const url = js_urls[i];\n      const element = document.createElement('script');\n      element.onload = on_load;\n      element.onerror = on_error.bind(null, url);\n      element.async = false;\n      element.src = url;\n      if (url in hashes) {\n        element.crossOrigin = \"anonymous\";\n        element.integrity = \"sha384-\" + hashes[url];\n      }\n      console.debug(\"Bokeh: injecting script tag for BokehJS library: \", url);\n      document.head.appendChild(element);\n    }\n  };\n\n  function inject_raw_css(css) {\n    const element = document.createElement(\"style\");\n    element.appendChild(document.createTextNode(css));\n    document.body.appendChild(element);\n  }\n\n  \n  var js_urls = [\"https://cdn.bokeh.org/bokeh/release/bokeh-2.3.3.min.js\", \"https://cdn.bokeh.org/bokeh/release/bokeh-widgets-2.3.3.min.js\", \"https://cdn.bokeh.org/bokeh/release/bokeh-tables-2.3.3.min.js\"];\n  var css_urls = [];\n  \n\n  var inline_js = [\n    function(Bokeh) {\n      Bokeh.set_log_level(\"info\");\n    },\n    function(Bokeh) {\n    \n    \n    }\n  ];\n\n  function run_inline_js() {\n    \n    if (root.Bokeh !== undefined || force === true) {\n      \n    for (var i = 0; i < inline_js.length; i++) {\n      inline_js[i].call(root, root.Bokeh);\n    }\n    } else if (Date.now() < root._bokeh_timeout) {\n      setTimeout(run_inline_js, 100);\n    } else if (!root._bokeh_failed_load) {\n      console.log(\"Bokeh: BokehJS failed to load within specified timeout.\");\n      root._bokeh_failed_load = true;\n    } else if (force !== true) {\n      var cell = $(document.getElementById(null)).parents('.cell').data().cell;\n      cell.output_area.append_execute_result(NB_LOAD_WARNING)\n    }\n\n  }\n\n  if (root._bokeh_is_loading === 0) {\n    console.debug(\"Bokeh: BokehJS loaded, going straight to plotting\");\n    run_inline_js();\n  } else {\n    load_libs(css_urls, js_urls, function() {\n      console.debug(\"Bokeh: BokehJS plotting callback run at\", now());\n      run_inline_js();\n    });\n  }\n}(window));"
          },
          "metadata": {}
        },
        {
          "output_type": "display_data",
          "data": {
            "text/html": [
              "\n",
              "\n",
              "\n",
              "\n",
              "\n",
              "\n",
              "  <div class=\"bk-root\" id=\"99aca0b5-7347-4ff3-a02d-19fa42448026\" data-root-id=\"1758\"></div>\n"
            ]
          },
          "metadata": {}
        },
        {
          "output_type": "display_data",
          "data": {
            "application/javascript": [
              "(function(root) {\n",
              "  function embed_document(root) {\n",
              "    \n",
              "  var docs_json = {\"b6bf49c1-5590-415c-8919-6fff24378ee0\":{\"defs\":[],\"roots\":{\"references\":[{\"attributes\":{\"below\":[{\"id\":\"1769\"},{\"id\":\"1824\"}],\"center\":[{\"id\":\"1771\"},{\"id\":\"1775\"}],\"left\":[{\"id\":\"1772\"}],\"renderers\":[{\"id\":\"1789\"},{\"id\":\"1796\"},{\"id\":\"1801\"},{\"id\":\"1806\"},{\"id\":\"1811\"},{\"id\":\"1816\"},{\"id\":\"1821\"}],\"title\":{\"id\":\"1759\"},\"toolbar\":{\"id\":\"1777\"},\"x_range\":{\"id\":\"1761\"},\"x_scale\":{\"id\":\"1765\"},\"y_range\":{\"id\":\"1763\"},\"y_scale\":{\"id\":\"1767\"}},\"id\":\"1758\",\"subtype\":\"Figure\",\"type\":\"Plot\"},{\"attributes\":{},\"id\":\"1834\",\"type\":\"Selection\"},{\"attributes\":{},\"id\":\"1835\",\"type\":\"UnionRenderers\"},{\"attributes\":{},\"id\":\"1836\",\"type\":\"Selection\"},{\"attributes\":{},\"id\":\"1837\",\"type\":\"UnionRenderers\"},{\"attributes\":{},\"id\":\"1838\",\"type\":\"Selection\"},{\"attributes\":{},\"id\":\"1839\",\"type\":\"UnionRenderers\"},{\"attributes\":{\"axis\":{\"id\":\"1772\"},\"dimension\":1,\"grid_line_color\":\"white\",\"grid_line_width\":2,\"ticker\":null},\"id\":\"1775\",\"type\":\"Grid\"},{\"attributes\":{\"axis_label\":\"hausdorff_dist\",\"formatter\":{\"id\":\"1827\"},\"major_label_policy\":{\"id\":\"1828\"},\"ticker\":{\"id\":\"1773\"}},\"id\":\"1772\",\"type\":\"LinearAxis\"},{\"attributes\":{},\"id\":\"1840\",\"type\":\"Selection\"},{\"attributes\":{},\"id\":\"1773\",\"type\":\"BasicTicker\"},{\"attributes\":{},\"id\":\"1841\",\"type\":\"UnionRenderers\"},{\"attributes\":{\"data\":{\"Modality\":[\"SEG\",\"SEG\",\"SEG\",\"SEG\",\"SEG\",\"SEG\",\"SEG\",\"SEG\",\"SEG\",\"SEG\",\"SEG\",\"SEG\",\"SEG\",\"SEG\",\"SEG\",\"SEG\",\"SEG\",\"SEG\",\"SEG\",\"SEG\",\"SEG\",\"SEG\",\"SEG\",\"SEG\",\"SEG\",\"SEG\",\"SEG\",\"SEG\",\"SEG\",\"SEG\",\"SEG\",\"SEG\",\"SEG\",\"SEG\",\"SEG\",\"SEG\",\"SEG\",\"SEG\",\"SEG\",\"SEG\",\"SEG\",\"SEG\",\"SEG\",\"SEG\",\"SEG\",\"SEG\",\"SEG\",\"SEG\",\"SEG\",\"SEG\",\"SEG\",\"SEG\",\"SEG\",\"SEG\",\"SEG\",\"SEG\",\"SEG\",\"SEG\",\"SEG\",\"SEG\"],\"PatientID\":[\"PCAMPMRI-00008\",\"PCAMPMRI-00008\",\"PCAMPMRI-00009\",\"PCAMPMRI-00009\",\"PCAMPMRI-00010\",\"PCAMPMRI-00010\",\"PCAMPMRI-00011\",\"PCAMPMRI-00011\",\"PCAMPMRI-00012\",\"PCAMPMRI-00012\",\"PCAMPMRI-00013\",\"PCAMPMRI-00013\",\"PCAMPMRI-00014\",\"PCAMPMRI-00014\",\"PCAMPMRI-00015\",\"PCAMPMRI-00015\",\"PCAMPMRI-00001\",\"PCAMPMRI-00002\",\"PCAMPMRI-00002\",\"PCAMPMRI-00001\",\"PCAMPMRI-00003\",\"PCAMPMRI-00003\",\"PCAMPMRI-00004\",\"PCAMPMRI-00007\",\"PCAMPMRI-00005\",\"PCAMPMRI-00006\",\"PCAMPMRI-00006\",\"PCAMPMRI-00007\",\"PCAMPMRI-00004\",\"PCAMPMRI-00005\",\"PCAMPMRI-00008\",\"PCAMPMRI-00008\",\"PCAMPMRI-00009\",\"PCAMPMRI-00009\",\"PCAMPMRI-00010\",\"PCAMPMRI-00010\",\"PCAMPMRI-00011\",\"PCAMPMRI-00011\",\"PCAMPMRI-00012\",\"PCAMPMRI-00012\",\"PCAMPMRI-00013\",\"PCAMPMRI-00013\",\"PCAMPMRI-00014\",\"PCAMPMRI-00014\",\"PCAMPMRI-00015\",\"PCAMPMRI-00015\",\"PCAMPMRI-00001\",\"PCAMPMRI-00002\",\"PCAMPMRI-00002\",\"PCAMPMRI-00001\",\"PCAMPMRI-00003\",\"PCAMPMRI-00003\",\"PCAMPMRI-00004\",\"PCAMPMRI-00007\",\"PCAMPMRI-00005\",\"PCAMPMRI-00006\",\"PCAMPMRI-00006\",\"PCAMPMRI-00007\",\"PCAMPMRI-00004\",\"PCAMPMRI-00005\"],\"RefSerieUID\":[\"1.3.6.1.4.1.14519.5.2.1.3671.4754.289381776301402611413405156513\",\"1.3.6.1.4.1.14519.5.2.1.3671.4754.331664318047739623745747449088\",\"1.3.6.1.4.1.14519.5.2.1.3671.4754.117459950571016749056636056931\",\"1.3.6.1.4.1.14519.5.2.1.3671.4754.192331874422392619419648373709\",\"1.3.6.1.4.1.14519.5.2.1.3671.4754.105976129314091491952445656147\",\"1.3.6.1.4.1.14519.5.2.1.3671.4754.218938411300600171613807256501\",\"1.3.6.1.4.1.14519.5.2.1.3671.4754.212083125906384321957172108223\",\"1.3.6.1.4.1.14519.5.2.1.3671.4754.338491148696735703564376647888\",\"1.3.6.1.4.1.14519.5.2.1.3671.4754.112304063989226412927473616890\",\"1.3.6.1.4.1.14519.5.2.1.3671.4754.230497515093449653192531406300\",\"1.3.6.1.4.1.14519.5.2.1.3671.4754.300394189684830993064983395096\",\"1.3.6.1.4.1.14519.5.2.1.3671.4754.130390636778604536980897019189\",\"1.3.6.1.4.1.14519.5.2.1.3671.4754.654327272206188613770270554127\",\"1.3.6.1.4.1.14519.5.2.1.3671.4754.155463265953508142920250222172\",\"1.3.6.1.4.1.14519.5.2.1.3671.4754.621341845114918594203879249474\",\"1.3.6.1.4.1.14519.5.2.1.3671.4754.212056086412825832650405216150\",\"1.3.6.1.4.1.14519.5.2.1.3671.4754.609837242670719860929372097937\",\"1.3.6.1.4.1.14519.5.2.1.3671.4754.322350301601580056579486694857\",\"1.3.6.1.4.1.14519.5.2.1.3671.4754.191214456779267394167353214845\",\"1.3.6.1.4.1.14519.5.2.1.3671.4754.983460207615355998147518323000\",\"1.3.6.1.4.1.14519.5.2.1.3671.4754.325025234684823400088057259802\",\"1.3.6.1.4.1.14519.5.2.1.3671.4754.165941479363091869002475812419\",\"1.3.6.1.4.1.14519.5.2.1.3671.4754.159133597250698591956627534407\",\"1.3.6.1.4.1.14519.5.2.1.3671.4754.330807155674174304012309699936\",\"1.3.6.1.4.1.14519.5.2.1.3671.4754.286942517091753799015309738287\",\"1.3.6.1.4.1.14519.5.2.1.3671.4754.124813816937601110554342446480\",\"1.3.6.1.4.1.14519.5.2.1.3671.4754.330595492110314365252888110460\",\"1.3.6.1.4.1.14519.5.2.1.3671.4754.251062001905949495873517695182\",\"1.3.6.1.4.1.14519.5.2.1.3671.4754.242851658965322332393259472017\",\"1.3.6.1.4.1.14519.5.2.1.3671.4754.614440195550629594157279113517\",\"1.3.6.1.4.1.14519.5.2.1.3671.4754.289381776301402611413405156513\",\"1.3.6.1.4.1.14519.5.2.1.3671.4754.331664318047739623745747449088\",\"1.3.6.1.4.1.14519.5.2.1.3671.4754.117459950571016749056636056931\",\"1.3.6.1.4.1.14519.5.2.1.3671.4754.192331874422392619419648373709\",\"1.3.6.1.4.1.14519.5.2.1.3671.4754.105976129314091491952445656147\",\"1.3.6.1.4.1.14519.5.2.1.3671.4754.218938411300600171613807256501\",\"1.3.6.1.4.1.14519.5.2.1.3671.4754.212083125906384321957172108223\",\"1.3.6.1.4.1.14519.5.2.1.3671.4754.338491148696735703564376647888\",\"1.3.6.1.4.1.14519.5.2.1.3671.4754.230497515093449653192531406300\",\"1.3.6.1.4.1.14519.5.2.1.3671.4754.112304063989226412927473616890\",\"1.3.6.1.4.1.14519.5.2.1.3671.4754.130390636778604536980897019189\",\"1.3.6.1.4.1.14519.5.2.1.3671.4754.300394189684830993064983395096\",\"1.3.6.1.4.1.14519.5.2.1.3671.4754.155463265953508142920250222172\",\"1.3.6.1.4.1.14519.5.2.1.3671.4754.654327272206188613770270554127\",\"1.3.6.1.4.1.14519.5.2.1.3671.4754.621341845114918594203879249474\",\"1.3.6.1.4.1.14519.5.2.1.3671.4754.212056086412825832650405216150\",\"1.3.6.1.4.1.14519.5.2.1.3671.4754.609837242670719860929372097937\",\"1.3.6.1.4.1.14519.5.2.1.3671.4754.322350301601580056579486694857\",\"1.3.6.1.4.1.14519.5.2.1.3671.4754.191214456779267394167353214845\",\"1.3.6.1.4.1.14519.5.2.1.3671.4754.983460207615355998147518323000\",\"1.3.6.1.4.1.14519.5.2.1.3671.4754.165941479363091869002475812419\",\"1.3.6.1.4.1.14519.5.2.1.3671.4754.325025234684823400088057259802\",\"1.3.6.1.4.1.14519.5.2.1.3671.4754.159133597250698591956627534407\",\"1.3.6.1.4.1.14519.5.2.1.3671.4754.330807155674174304012309699936\",\"1.3.6.1.4.1.14519.5.2.1.3671.4754.286942517091753799015309738287\",\"1.3.6.1.4.1.14519.5.2.1.3671.4754.124813816937601110554342446480\",\"1.3.6.1.4.1.14519.5.2.1.3671.4754.330595492110314365252888110460\",\"1.3.6.1.4.1.14519.5.2.1.3671.4754.251062001905949495873517695182\",\"1.3.6.1.4.1.14519.5.2.1.3671.4754.242851658965322332393259472017\",\"1.3.6.1.4.1.14519.5.2.1.3671.4754.614440195550629594157279113517\"],\"ReferencedSeriesInstanceUID\":[\"1.3.6.1.4.1.14519.5.2.1.3671.4754.289381776301402611413405156513\",\"1.3.6.1.4.1.14519.5.2.1.3671.4754.331664318047739623745747449088\",\"1.3.6.1.4.1.14519.5.2.1.3671.4754.117459950571016749056636056931\",\"1.3.6.1.4.1.14519.5.2.1.3671.4754.192331874422392619419648373709\",\"1.3.6.1.4.1.14519.5.2.1.3671.4754.105976129314091491952445656147\",\"1.3.6.1.4.1.14519.5.2.1.3671.4754.218938411300600171613807256501\",\"1.3.6.1.4.1.14519.5.2.1.3671.4754.212083125906384321957172108223\",\"1.3.6.1.4.1.14519.5.2.1.3671.4754.338491148696735703564376647888\",\"1.3.6.1.4.1.14519.5.2.1.3671.4754.112304063989226412927473616890\",\"1.3.6.1.4.1.14519.5.2.1.3671.4754.230497515093449653192531406300\",\"1.3.6.1.4.1.14519.5.2.1.3671.4754.300394189684830993064983395096\",\"1.3.6.1.4.1.14519.5.2.1.3671.4754.130390636778604536980897019189\",\"1.3.6.1.4.1.14519.5.2.1.3671.4754.654327272206188613770270554127\",\"1.3.6.1.4.1.14519.5.2.1.3671.4754.155463265953508142920250222172\",\"1.3.6.1.4.1.14519.5.2.1.3671.4754.621341845114918594203879249474\",\"1.3.6.1.4.1.14519.5.2.1.3671.4754.212056086412825832650405216150\",\"1.3.6.1.4.1.14519.5.2.1.3671.4754.609837242670719860929372097937\",\"1.3.6.1.4.1.14519.5.2.1.3671.4754.322350301601580056579486694857\",\"1.3.6.1.4.1.14519.5.2.1.3671.4754.191214456779267394167353214845\",\"1.3.6.1.4.1.14519.5.2.1.3671.4754.983460207615355998147518323000\",\"1.3.6.1.4.1.14519.5.2.1.3671.4754.325025234684823400088057259802\",\"1.3.6.1.4.1.14519.5.2.1.3671.4754.165941479363091869002475812419\",\"1.3.6.1.4.1.14519.5.2.1.3671.4754.159133597250698591956627534407\",\"1.3.6.1.4.1.14519.5.2.1.3671.4754.330807155674174304012309699936\",\"1.3.6.1.4.1.14519.5.2.1.3671.4754.286942517091753799015309738287\",\"1.3.6.1.4.1.14519.5.2.1.3671.4754.124813816937601110554342446480\",\"1.3.6.1.4.1.14519.5.2.1.3671.4754.330595492110314365252888110460\",\"1.3.6.1.4.1.14519.5.2.1.3671.4754.251062001905949495873517695182\",\"1.3.6.1.4.1.14519.5.2.1.3671.4754.242851658965322332393259472017\",\"1.3.6.1.4.1.14519.5.2.1.3671.4754.614440195550629594157279113517\",\"1.3.6.1.4.1.14519.5.2.1.3671.4754.289381776301402611413405156513\",\"1.3.6.1.4.1.14519.5.2.1.3671.4754.331664318047739623745747449088\",\"1.3.6.1.4.1.14519.5.2.1.3671.4754.117459950571016749056636056931\",\"1.3.6.1.4.1.14519.5.2.1.3671.4754.192331874422392619419648373709\",\"1.3.6.1.4.1.14519.5.2.1.3671.4754.105976129314091491952445656147\",\"1.3.6.1.4.1.14519.5.2.1.3671.4754.218938411300600171613807256501\",\"1.3.6.1.4.1.14519.5.2.1.3671.4754.212083125906384321957172108223\",\"1.3.6.1.4.1.14519.5.2.1.3671.4754.338491148696735703564376647888\",\"1.3.6.1.4.1.14519.5.2.1.3671.4754.230497515093449653192531406300\",\"1.3.6.1.4.1.14519.5.2.1.3671.4754.112304063989226412927473616890\",\"1.3.6.1.4.1.14519.5.2.1.3671.4754.130390636778604536980897019189\",\"1.3.6.1.4.1.14519.5.2.1.3671.4754.300394189684830993064983395096\",\"1.3.6.1.4.1.14519.5.2.1.3671.4754.155463265953508142920250222172\",\"1.3.6.1.4.1.14519.5.2.1.3671.4754.654327272206188613770270554127\",\"1.3.6.1.4.1.14519.5.2.1.3671.4754.621341845114918594203879249474\",\"1.3.6.1.4.1.14519.5.2.1.3671.4754.212056086412825832650405216150\",\"1.3.6.1.4.1.14519.5.2.1.3671.4754.609837242670719860929372097937\",\"1.3.6.1.4.1.14519.5.2.1.3671.4754.322350301601580056579486694857\",\"1.3.6.1.4.1.14519.5.2.1.3671.4754.191214456779267394167353214845\",\"1.3.6.1.4.1.14519.5.2.1.3671.4754.983460207615355998147518323000\",\"1.3.6.1.4.1.14519.5.2.1.3671.4754.165941479363091869002475812419\",\"1.3.6.1.4.1.14519.5.2.1.3671.4754.325025234684823400088057259802\",\"1.3.6.1.4.1.14519.5.2.1.3671.4754.159133597250698591956627534407\",\"1.3.6.1.4.1.14519.5.2.1.3671.4754.330807155674174304012309699936\",\"1.3.6.1.4.1.14519.5.2.1.3671.4754.286942517091753799015309738287\",\"1.3.6.1.4.1.14519.5.2.1.3671.4754.124813816937601110554342446480\",\"1.3.6.1.4.1.14519.5.2.1.3671.4754.330595492110314365252888110460\",\"1.3.6.1.4.1.14519.5.2.1.3671.4754.251062001905949495873517695182\",\"1.3.6.1.4.1.14519.5.2.1.3671.4754.242851658965322332393259472017\",\"1.3.6.1.4.1.14519.5.2.1.3671.4754.614440195550629594157279113517\"],\"SOPClassUID\":[\"1.2.840.10008.5.1.4.1.1.66.4\",\"1.2.840.10008.5.1.4.1.1.66.4\",\"1.2.840.10008.5.1.4.1.1.66.4\",\"1.2.840.10008.5.1.4.1.1.66.4\",\"1.2.840.10008.5.1.4.1.1.66.4\",\"1.2.840.10008.5.1.4.1.1.66.4\",\"1.2.840.10008.5.1.4.1.1.66.4\",\"1.2.840.10008.5.1.4.1.1.66.4\",\"1.2.840.10008.5.1.4.1.1.66.4\",\"1.2.840.10008.5.1.4.1.1.66.4\",\"1.2.840.10008.5.1.4.1.1.66.4\",\"1.2.840.10008.5.1.4.1.1.66.4\",\"1.2.840.10008.5.1.4.1.1.66.4\",\"1.2.840.10008.5.1.4.1.1.66.4\",\"1.2.840.10008.5.1.4.1.1.66.4\",\"1.2.840.10008.5.1.4.1.1.66.4\",\"1.2.840.10008.5.1.4.1.1.66.4\",\"1.2.840.10008.5.1.4.1.1.66.4\",\"1.2.840.10008.5.1.4.1.1.66.4\",\"1.2.840.10008.5.1.4.1.1.66.4\",\"1.2.840.10008.5.1.4.1.1.66.4\",\"1.2.840.10008.5.1.4.1.1.66.4\",\"1.2.840.10008.5.1.4.1.1.66.4\",\"1.2.840.10008.5.1.4.1.1.66.4\",\"1.2.840.10008.5.1.4.1.1.66.4\",\"1.2.840.10008.5.1.4.1.1.66.4\",\"1.2.840.10008.5.1.4.1.1.66.4\",\"1.2.840.10008.5.1.4.1.1.66.4\",\"1.2.840.10008.5.1.4.1.1.66.4\",\"1.2.840.10008.5.1.4.1.1.66.4\",\"1.2.840.10008.5.1.4.1.1.66.4\",\"1.2.840.10008.5.1.4.1.1.66.4\",\"1.2.840.10008.5.1.4.1.1.66.4\",\"1.2.840.10008.5.1.4.1.1.66.4\",\"1.2.840.10008.5.1.4.1.1.66.4\",\"1.2.840.10008.5.1.4.1.1.66.4\",\"1.2.840.10008.5.1.4.1.1.66.4\",\"1.2.840.10008.5.1.4.1.1.66.4\",\"1.2.840.10008.5.1.4.1.1.66.4\",\"1.2.840.10008.5.1.4.1.1.66.4\",\"1.2.840.10008.5.1.4.1.1.66.4\",\"1.2.840.10008.5.1.4.1.1.66.4\",\"1.2.840.10008.5.1.4.1.1.66.4\",\"1.2.840.10008.5.1.4.1.1.66.4\",\"1.2.840.10008.5.1.4.1.1.66.4\",\"1.2.840.10008.5.1.4.1.1.66.4\",\"1.2.840.10008.5.1.4.1.1.66.4\",\"1.2.840.10008.5.1.4.1.1.66.4\",\"1.2.840.10008.5.1.4.1.1.66.4\",\"1.2.840.10008.5.1.4.1.1.66.4\",\"1.2.840.10008.5.1.4.1.1.66.4\",\"1.2.840.10008.5.1.4.1.1.66.4\",\"1.2.840.10008.5.1.4.1.1.66.4\",\"1.2.840.10008.5.1.4.1.1.66.4\",\"1.2.840.10008.5.1.4.1.1.66.4\",\"1.2.840.10008.5.1.4.1.1.66.4\",\"1.2.840.10008.5.1.4.1.1.66.4\",\"1.2.840.10008.5.1.4.1.1.66.4\",\"1.2.840.10008.5.1.4.1.1.66.4\",\"1.2.840.10008.5.1.4.1.1.66.4\"],\"SOPInstanceUID\":[\"1.2.276.0.7230010.3.1.4.481034752.5623.1666822888.804516\",\"1.2.276.0.7230010.3.1.4.481034752.5620.1666822888.466944\",\"1.2.276.0.7230010.3.1.4.481034752.5575.1666822883.435844\",\"1.2.276.0.7230010.3.1.4.481034752.5605.1666822886.794825\",\"1.2.276.0.7230010.3.1.4.481034752.5635.1666822890.170552\",\"1.2.276.0.7230010.3.1.4.481034752.5608.1666822887.132339\",\"1.2.276.0.7230010.3.1.4.481034752.5617.1666822888.138740\",\"1.2.276.0.7230010.3.1.4.481034752.5629.1666822889.489098\",\"1.2.276.0.7230010.3.1.4.481034752.5602.1666822886.462398\",\"1.2.276.0.7230010.3.1.4.481034752.5593.1666822885.461407\",\"1.2.276.0.7230010.3.1.4.481034752.5581.1666822884.103379\",\"1.2.276.0.7230010.3.1.4.481034752.5641.1666822890.832131\",\"1.2.276.0.7230010.3.1.4.481034752.5656.1666822892.533639\",\"1.2.276.0.7230010.3.1.4.481034752.5572.1666822883.78064\",\"1.2.276.0.7230010.3.1.4.481034752.5611.1666822887.470701\",\"1.2.276.0.7230010.3.1.4.481034752.5599.1666822886.123581\",\"1.2.276.0.7230010.3.1.4.481034752.5644.1666822891.177972\",\"1.2.276.0.7230010.3.1.4.481034752.5578.1666822883.770630\",\"1.2.276.0.7230010.3.1.4.481034752.5596.1666822885.789995\",\"1.2.276.0.7230010.3.1.4.481034752.5614.1666822887.804003\",\"1.2.276.0.7230010.3.1.4.481034752.5626.1666822889.165624\",\"1.2.276.0.7230010.3.1.4.481034752.5650.1666822891.856721\",\"1.2.276.0.7230010.3.1.4.481034752.5659.1666822892.887527\",\"1.2.276.0.7230010.3.1.4.481034752.5638.1666822890.497819\",\"1.2.276.0.7230010.3.1.4.481034752.5647.1666822891.524404\",\"1.2.276.0.7230010.3.1.4.481034752.5632.1666822889.844709\",\"1.2.276.0.7230010.3.1.4.481034752.5584.1666822884.461334\",\"1.2.276.0.7230010.3.1.4.481034752.5653.1666822892.205099\",\"1.2.276.0.7230010.3.1.4.481034752.5590.1666822885.130020\",\"1.2.276.0.7230010.3.1.4.481034752.5587.1666822884.794968\",\"1.2.276.0.7230010.3.1.4.481034752.4032.1665501458.674194\",\"1.2.276.0.7230010.3.1.4.481034752.4073.1665501463.263354\",\"1.2.276.0.7230010.3.1.4.481034752.4088.1665501464.949327\",\"1.2.276.0.7230010.3.1.4.481034752.4038.1665501459.282515\",\"1.2.276.0.7230010.3.1.4.481034752.4106.1665501466.979879\",\"1.2.276.0.7230010.3.1.4.481034752.4097.1665501465.960321\",\"1.2.276.0.7230010.3.1.4.481034752.4058.1665501461.296223\",\"1.2.276.0.7230010.3.1.4.481034752.4103.1665501466.640514\",\"1.2.276.0.7230010.3.1.4.481034752.4044.1665501459.961514\",\"1.2.276.0.7230010.3.1.4.481034752.4052.1665501460.621506\",\"1.2.276.0.7230010.3.1.4.481034752.4112.1665501467.646275\",\"1.2.276.0.7230010.3.1.4.481034752.4118.1665501468.327093\",\"1.2.276.0.7230010.3.1.4.481034752.4076.1665501463.610641\",\"1.2.276.0.7230010.3.1.4.481034752.4047.1665501460.288960\",\"1.2.276.0.7230010.3.1.4.481034752.4061.1665501461.703895\",\"1.2.276.0.7230010.3.1.4.481034752.4082.1665501464.278391\",\"1.2.276.0.7230010.3.1.4.481034752.4035.1665501458.949407\",\"1.2.276.0.7230010.3.1.4.481034752.4094.1665501465.634009\",\"1.2.276.0.7230010.3.1.4.481034752.4091.1665501465.291744\",\"1.2.276.0.7230010.3.1.4.481034752.4115.1665501467.998878\",\"1.2.276.0.7230010.3.1.4.481034752.4121.1665501468.662251\",\"1.2.276.0.7230010.3.1.4.481034752.4109.1665501467.317350\",\"1.2.276.0.7230010.3.1.4.481034752.4064.1665501462.332457\",\"1.2.276.0.7230010.3.1.4.481034752.4100.1665501466.305262\",\"1.2.276.0.7230010.3.1.4.481034752.4070.1665501462.943133\",\"1.2.276.0.7230010.3.1.4.481034752.4067.1665501462.611631\",\"1.2.276.0.7230010.3.1.4.481034752.4055.1665501460.976612\",\"1.2.276.0.7230010.3.1.4.481034752.4085.1665501464.626434\",\"1.2.276.0.7230010.3.1.4.481034752.4041.1665501459.630680\",\"1.2.276.0.7230010.3.1.4.481034752.4079.1665501463.960923\"],\"SeriesDescription\":[\"Segmentation of prostate -- nnunet -- pz and tz segments\",\"Segmentation of prostate -- nnunet -- pz and tz segments\",\"Segmentation of prostate -- nnunet -- pz and tz segments\",\"Segmentation of prostate -- nnunet -- pz and tz segments\",\"Segmentation of prostate -- nnunet -- pz and tz segments\",\"Segmentation of prostate -- nnunet -- pz and tz segments\",\"Segmentation of prostate -- nnunet -- pz and tz segments\",\"Segmentation of prostate -- nnunet -- pz and tz segments\",\"Segmentation of prostate -- nnunet -- pz and tz segments\",\"Segmentation of prostate -- nnunet -- pz and tz segments\",\"Segmentation of prostate -- nnunet -- pz and tz segments\",\"Segmentation of prostate -- nnunet -- pz and tz segments\",\"Segmentation of prostate -- nnunet -- pz and tz segments\",\"Segmentation of prostate -- nnunet -- pz and tz segments\",\"Segmentation of prostate -- nnunet -- pz and tz segments\",\"Segmentation of prostate -- nnunet -- pz and tz segments\",\"Segmentation of prostate -- nnunet -- pz and tz segments\",\"Segmentation of prostate -- nnunet -- pz and tz segments\",\"Segmentation of prostate -- nnunet -- pz and tz segments\",\"Segmentation of prostate -- nnunet -- pz and tz segments\",\"Segmentation of prostate -- nnunet -- pz and tz segments\",\"Segmentation of prostate -- nnunet -- pz and tz segments\",\"Segmentation of prostate -- nnunet -- pz and tz segments\",\"Segmentation of prostate -- nnunet -- pz and tz segments\",\"Segmentation of prostate -- nnunet -- pz and tz segments\",\"Segmentation of prostate -- nnunet -- pz and tz segments\",\"Segmentation of prostate -- nnunet -- pz and tz segments\",\"Segmentation of prostate -- nnunet -- pz and tz segments\",\"Segmentation of prostate -- nnunet -- pz and tz segments\",\"Segmentation of prostate -- nnunet -- pz and tz segments\",\"Segmentation\",\"Segmentation\",\"Segmentation\",\"Segmentation\",\"Segmentation\",\"Segmentation\",\"Segmentation\",\"Segmentation\",\"Segmentation\",\"Segmentation\",\"Segmentation\",\"Segmentation\",\"Segmentation\",\"Segmentation\",\"Segmentation\",\"Segmentation\",\"Segmentation\",\"Segmentation\",\"Segmentation\",\"Segmentation\",\"Segmentation\",\"Segmentation\",\"Segmentation\",\"Segmentation\",\"Segmentation\",\"Segmentation\",\"Segmentation\",\"Segmentation\",\"Segmentation\",\"Segmentation\"],\"SeriesInstanceUID\":[\"1.2.276.0.7230010.3.1.3.481034752.5623.1666822888.804515\",\"1.2.276.0.7230010.3.1.3.481034752.5620.1666822888.466943\",\"1.2.276.0.7230010.3.1.3.481034752.5575.1666822883.435843\",\"1.2.276.0.7230010.3.1.3.481034752.5605.1666822886.794824\",\"1.2.276.0.7230010.3.1.3.481034752.5635.1666822890.170551\",\"1.2.276.0.7230010.3.1.3.481034752.5608.1666822887.132338\",\"1.2.276.0.7230010.3.1.3.481034752.5617.1666822888.138739\",\"1.2.276.0.7230010.3.1.3.481034752.5629.1666822889.489097\",\"1.2.276.0.7230010.3.1.3.481034752.5602.1666822886.462397\",\"1.2.276.0.7230010.3.1.3.481034752.5593.1666822885.461406\",\"1.2.276.0.7230010.3.1.3.481034752.5581.1666822884.103378\",\"1.2.276.0.7230010.3.1.3.481034752.5641.1666822890.832130\",\"1.2.276.0.7230010.3.1.3.481034752.5656.1666822892.533638\",\"1.2.276.0.7230010.3.1.3.481034752.5572.1666822883.78063\",\"1.2.276.0.7230010.3.1.3.481034752.5611.1666822887.470700\",\"1.2.276.0.7230010.3.1.3.481034752.5599.1666822886.123580\",\"1.2.276.0.7230010.3.1.3.481034752.5644.1666822891.177971\",\"1.2.276.0.7230010.3.1.3.481034752.5578.1666822883.770629\",\"1.2.276.0.7230010.3.1.3.481034752.5596.1666822885.789994\",\"1.2.276.0.7230010.3.1.3.481034752.5614.1666822887.804002\",\"1.2.276.0.7230010.3.1.3.481034752.5626.1666822889.165623\",\"1.2.276.0.7230010.3.1.3.481034752.5650.1666822891.856720\",\"1.2.276.0.7230010.3.1.3.481034752.5659.1666822892.887526\",\"1.2.276.0.7230010.3.1.3.481034752.5638.1666822890.497818\",\"1.2.276.0.7230010.3.1.3.481034752.5647.1666822891.524403\",\"1.2.276.0.7230010.3.1.3.481034752.5632.1666822889.844708\",\"1.2.276.0.7230010.3.1.3.481034752.5584.1666822884.461333\",\"1.2.276.0.7230010.3.1.3.481034752.5653.1666822892.205098\",\"1.2.276.0.7230010.3.1.3.481034752.5590.1666822885.130019\",\"1.2.276.0.7230010.3.1.3.481034752.5587.1666822884.794967\",\"1.2.276.0.7230010.3.1.3.481034752.4032.1665501458.674193\",\"1.2.276.0.7230010.3.1.3.481034752.4073.1665501463.263353\",\"1.2.276.0.7230010.3.1.3.481034752.4088.1665501464.949326\",\"1.2.276.0.7230010.3.1.3.481034752.4038.1665501459.282514\",\"1.2.276.0.7230010.3.1.3.481034752.4106.1665501466.979878\",\"1.2.276.0.7230010.3.1.3.481034752.4097.1665501465.960320\",\"1.2.276.0.7230010.3.1.3.481034752.4058.1665501461.296222\",\"1.2.276.0.7230010.3.1.3.481034752.4103.1665501466.640513\",\"1.2.276.0.7230010.3.1.3.481034752.4044.1665501459.961513\",\"1.2.276.0.7230010.3.1.3.481034752.4052.1665501460.621505\",\"1.2.276.0.7230010.3.1.3.481034752.4112.1665501467.646274\",\"1.2.276.0.7230010.3.1.3.481034752.4118.1665501468.327092\",\"1.2.276.0.7230010.3.1.3.481034752.4076.1665501463.610640\",\"1.2.276.0.7230010.3.1.3.481034752.4047.1665501460.288959\",\"1.2.276.0.7230010.3.1.3.481034752.4061.1665501461.703894\",\"1.2.276.0.7230010.3.1.3.481034752.4082.1665501464.278390\",\"1.2.276.0.7230010.3.1.3.481034752.4035.1665501458.949406\",\"1.2.276.0.7230010.3.1.3.481034752.4094.1665501465.634008\",\"1.2.276.0.7230010.3.1.3.481034752.4091.1665501465.291743\",\"1.2.276.0.7230010.3.1.3.481034752.4115.1665501467.998877\",\"1.2.276.0.7230010.3.1.3.481034752.4121.1665501468.662250\",\"1.2.276.0.7230010.3.1.3.481034752.4109.1665501467.317349\",\"1.2.276.0.7230010.3.1.3.481034752.4064.1665501462.332456\",\"1.2.276.0.7230010.3.1.3.481034752.4100.1665501466.305261\",\"1.2.276.0.7230010.3.1.3.481034752.4070.1665501462.943132\",\"1.2.276.0.7230010.3.1.3.481034752.4067.1665501462.611630\",\"1.2.276.0.7230010.3.1.3.481034752.4055.1665501460.976611\",\"1.2.276.0.7230010.3.1.3.481034752.4085.1665501464.626433\",\"1.2.276.0.7230010.3.1.3.481034752.4041.1665501459.630679\",\"1.2.276.0.7230010.3.1.3.481034752.4079.1665501463.960922\"],\"StudyInstanceUID\":[\"1.3.6.1.4.1.14519.5.2.1.3671.4754.173585825705285812758858023242\",\"1.3.6.1.4.1.14519.5.2.1.3671.4754.266963586071007736606548226859\",\"1.3.6.1.4.1.14519.5.2.1.3671.4754.864607788085827202303582199118\",\"1.3.6.1.4.1.14519.5.2.1.3671.4754.181478254003851548055481596513\",\"1.3.6.1.4.1.14519.5.2.1.3671.4754.318227959935022390930294557376\",\"1.3.6.1.4.1.14519.5.2.1.3671.4754.217251077299095981018478951589\",\"1.3.6.1.4.1.14519.5.2.1.3671.4754.131608903441424620949571415524\",\"1.3.6.1.4.1.14519.5.2.1.3671.4754.117496148504386222592571043379\",\"1.3.6.1.4.1.14519.5.2.1.3671.4754.264231410930579591639987629694\",\"1.3.6.1.4.1.14519.5.2.1.3671.4754.298665348758363466150039312520\",\"1.3.6.1.4.1.14519.5.2.1.3671.4754.245461598867316286839568962369\",\"1.3.6.1.4.1.14519.5.2.1.3671.4754.211895462561589970837377570121\",\"1.3.6.1.4.1.14519.5.2.1.3671.4754.288453744990673175783381845880\",\"1.3.6.1.4.1.14519.5.2.1.3671.4754.194890890650697728529329442454\",\"1.3.6.1.4.1.14519.5.2.1.3671.4754.431678793261759442965045820561\",\"1.3.6.1.4.1.14519.5.2.1.3671.4754.182983245842036631781777324507\",\"1.3.6.1.4.1.14519.5.2.1.3671.4754.288848219213026850354055725664\",\"1.3.6.1.4.1.14519.5.2.1.3671.4754.568383070573576760578239627478\",\"1.3.6.1.4.1.14519.5.2.1.3671.4754.304001015100152820571364796240\",\"1.3.6.1.4.1.14519.5.2.1.3671.4754.121472087445374646718121301133\",\"1.3.6.1.4.1.14519.5.2.1.3671.4754.263464522348816475234793721892\",\"1.3.6.1.4.1.14519.5.2.1.3671.4754.162322077241419864654545266845\",\"1.3.6.1.4.1.14519.5.2.1.3671.4754.394942238206951812120962051099\",\"1.3.6.1.4.1.14519.5.2.1.3671.4754.962865348146140991373362412648\",\"1.3.6.1.4.1.14519.5.2.1.3671.4754.240823776621155108064488841063\",\"1.3.6.1.4.1.14519.5.2.1.3671.4754.287814201869490350714498330797\",\"1.3.6.1.4.1.14519.5.2.1.3671.4754.133806669697115873569905534398\",\"1.3.6.1.4.1.14519.5.2.1.3671.4754.240243858523310211919840278205\",\"1.3.6.1.4.1.14519.5.2.1.3671.4754.204078048920967920419177848890\",\"1.3.6.1.4.1.14519.5.2.1.3671.4754.233298968565250099224990877587\",\"1.3.6.1.4.1.14519.5.2.1.3671.4754.173585825705285812758858023242\",\"1.3.6.1.4.1.14519.5.2.1.3671.4754.266963586071007736606548226859\",\"1.3.6.1.4.1.14519.5.2.1.3671.4754.864607788085827202303582199118\",\"1.3.6.1.4.1.14519.5.2.1.3671.4754.181478254003851548055481596513\",\"1.3.6.1.4.1.14519.5.2.1.3671.4754.318227959935022390930294557376\",\"1.3.6.1.4.1.14519.5.2.1.3671.4754.217251077299095981018478951589\",\"1.3.6.1.4.1.14519.5.2.1.3671.4754.131608903441424620949571415524\",\"1.3.6.1.4.1.14519.5.2.1.3671.4754.117496148504386222592571043379\",\"1.3.6.1.4.1.14519.5.2.1.3671.4754.298665348758363466150039312520\",\"1.3.6.1.4.1.14519.5.2.1.3671.4754.264231410930579591639987629694\",\"1.3.6.1.4.1.14519.5.2.1.3671.4754.211895462561589970837377570121\",\"1.3.6.1.4.1.14519.5.2.1.3671.4754.245461598867316286839568962369\",\"1.3.6.1.4.1.14519.5.2.1.3671.4754.194890890650697728529329442454\",\"1.3.6.1.4.1.14519.5.2.1.3671.4754.288453744990673175783381845880\",\"1.3.6.1.4.1.14519.5.2.1.3671.4754.431678793261759442965045820561\",\"1.3.6.1.4.1.14519.5.2.1.3671.4754.182983245842036631781777324507\",\"1.3.6.1.4.1.14519.5.2.1.3671.4754.288848219213026850354055725664\",\"1.3.6.1.4.1.14519.5.2.1.3671.4754.568383070573576760578239627478\",\"1.3.6.1.4.1.14519.5.2.1.3671.4754.304001015100152820571364796240\",\"1.3.6.1.4.1.14519.5.2.1.3671.4754.121472087445374646718121301133\",\"1.3.6.1.4.1.14519.5.2.1.3671.4754.162322077241419864654545266845\",\"1.3.6.1.4.1.14519.5.2.1.3671.4754.263464522348816475234793721892\",\"1.3.6.1.4.1.14519.5.2.1.3671.4754.394942238206951812120962051099\",\"1.3.6.1.4.1.14519.5.2.1.3671.4754.962865348146140991373362412648\",\"1.3.6.1.4.1.14519.5.2.1.3671.4754.240823776621155108064488841063\",\"1.3.6.1.4.1.14519.5.2.1.3671.4754.287814201869490350714498330797\",\"1.3.6.1.4.1.14519.5.2.1.3671.4754.133806669697115873569905534398\",\"1.3.6.1.4.1.14519.5.2.1.3671.4754.240243858523310211919840278205\",\"1.3.6.1.4.1.14519.5.2.1.3671.4754.204078048920967920419177848890\",\"1.3.6.1.4.1.14519.5.2.1.3671.4754.233298968565250099224990877587\"],\"center_mass_pred\":[\"-6.68841 27.5626 -28.4569\",\"6.11968 25.0165 19.8151\",\"5.04334 16.4899 -68.7878\",\"-24.9902 15.1442 -65.8728\",\"-34.0958 25.7827 -87.7744\",\"-38.9711 19.9097 28.666\",\"-17.534 27.6119 85.7534\",\"0.0889989 26.0966 -57.6907\",\"-17.9295 34 0.470807\",\"-31.2915 -15.0526 14.7528\",\"-18.8871 32.2015 54.283\",\"-16.7123 30.8482 -145.988\",\"-53.7418 25.8729 -79.3568\",\"15.4246 31.8179 -14.178\",\"-34.0403 36.6277 165.62\",\"-54.5935 38.8181 -28.0512\",\"-5.88389 -4.93435 18.8295\",\"-14.6661 -17.4511 -29.4795\",\"1.82887 -14.0207 -105.432\",\"-3.00249 -4.86159 -11.6496\",\"-2.24777 -34.1985 27.9319\",\"6.06745 -33.7504 22.7916\",\"-16.4793 -6.67444 10.1535\",\"-10.0852 -25.3143 4.54057\",\"-25.194 -10.3965 44.9948\",\"-4.27155 -32.3191 -24.1293\",\"-2.57916 -38.5777 -40.0526\",\"-5.14262 -29.5555 -8.35282\",\"-10.3622 -13.069 -8.39646\",\"-24.6351 -8.39439 36.0761\",\"2.5991 20.0723 -21.7455\",\"23.8355 19.3544 27.8324\",\"27.9132 10.2071 -60.3691\",\"-2.20815 6.34654 -57.9455\",\"-18.8285 15.0086 -87.8657\",\"-25.8901 14.8628 31.038\",\"-14.2221 23.1511 88.1552\",\"0.219321 22.0024 -54.245\",\"-27.6816 20.3551 11.8506\",\"-19.4391 21.7775 18.239\",\"-16.8334 26.3268 -143.669\",\"-19.0434 27.5524 55.1099\",\"15.0926 27.6339 -9.18437\",\"-39.1348 21.4024 -74.4854\",\"-18.0506 26.4652 178.644\",\"-37.8312 27.1122 -20.2762\",\"-6.47964 -12.6785 20.9264\",\"-14.1932 -21.5168 -29.0996\",\"0.281691 -19.6013 -104.456\",\"-2.42416 -10.6941 -7.04411\",\"7.45552 -39.2088 24.8737\",\"-0.451583 -40.421 32.128\",\"-16.3959 -11.1958 10.8638\",\"-10.749 -33.89 6.73951\",\"-5.00394 -19.3492 49.6828\",\"-3.83394 -43.509 -21.7402\",\"-3.85503 -48.4445 -36.096\",\"-4.74705 -36.9054 -9.57494\",\"-10.3847 -17.1475 -10.9311\",\"-10.5842 -17.1515 49.079\"],\"center_mass_ref\":[\"2.606 31.0047 -26.048\",\"24.4374 29.522 25.6669\",\"24.2982 25.8465 -60.1863\",\"-2.78756 22.5681 -60.9708\",\"-21.6338 27.4291 -92.6402\",\"-29.6332 26.4221 26.6478\",\"-14.618 28.0266 87.3199\",\"0.177373 26.606 -55.6959\",\"-18.5126 39.4261 22.0803\",\"-24.0031 39.1036 16.9828\",\"-19.1238 31.8864 52.4761\",\"-16.9579 30.7219 -146.564\",\"-39.5494 26.6038 -75.5417\",\"15.7361 32.1181 -12.1905\",\"-17.1967 41.5181 167.082\",\"-35.4326 41.3948 -27.8787\",\"-7.31893 -4.98139 20.5164\",\"-14.9419 -15.145 -31.4674\",\"0.308765 -13.3927 -106.853\",\"-1.33917 -2.29206 -10.2477\",\"-0.63932 -34.9353 27.5199\",\"7.84751 -34.8261 26.4629\",\"-16.0409 -6.15955 11.1454\",\"-12.1005 -23.8657 4.76299\",\"-8.20076 -3.01974 35.0017\",\"-4.09753 -31.3994 -29.7813\",\"-2.69319 -36.53 -42.0481\",\"-6.616 -28.6252 -10.1675\",\"-9.68783 -11.579 -11.0348\",\"-10.6724 -1.12843 37.3293\",\"2.76197 21.6273 -22.9721\",\"24.2615 20.0248 28.3808\",\"27.489 10.2303 -59.2112\",\"-2.28461 7.35752 -60.914\",\"-18.7217 16.2322 -89.2432\",\"-26.4317 16.3979 29.607\",\"-14.0761 24.4441 89.1028\",\"-0.00618441 22.2745 -54.2772\",\"-27.8739 21.6619 10.6853\",\"-19.5938 23.7048 17.5483\",\"-16.7329 26.2308 -144.191\",\"-19.0084 27.6994 55.1434\",\"15.4043 29.1591 -13.3879\",\"-38.7469 23.4971 -76.3126\",\"-17.8722 26.6277 175.505\",\"-37.9309 27.2218 -20.5485\",\"-6.24773 -11.938 20.6382\",\"-14.3149 -20.876 -29.3325\",\"0.224025 -18.7905 -105.772\",\"-2.33888 -10.0889 -7.05327\",\"7.51262 -38.7839 27.7451\",\"-0.529547 -39.6013 30.6812\",\"-15.803 -11.1465 12.769\",\"-10.3057 -33.5313 6.95216\",\"-4.18534 -21.2749 53.8256\",\"-3.27877 -42.2916 -23.4861\",\"-3.41169 -47.2623 -36.9217\",\"-4.56253 -36.9405 -7.37964\",\"-10.1563 -16.0894 -12.4812\",\"-10.5385 -15.5058 43.1845\"],\"cloud_storage_path\":[\"prostate-seg-use-case/data/qin_prostate_repeatability/all/seg_pred/task05\",\"prostate-seg-use-case/data/qin_prostate_repeatability/all/seg_pred/task05\",\"prostate-seg-use-case/data/qin_prostate_repeatability/all/seg_pred/task05\",\"prostate-seg-use-case/data/qin_prostate_repeatability/all/seg_pred/task05\",\"prostate-seg-use-case/data/qin_prostate_repeatability/all/seg_pred/task05\",\"prostate-seg-use-case/data/qin_prostate_repeatability/all/seg_pred/task05\",\"prostate-seg-use-case/data/qin_prostate_repeatability/all/seg_pred/task05\",\"prostate-seg-use-case/data/qin_prostate_repeatability/all/seg_pred/task05\",\"prostate-seg-use-case/data/qin_prostate_repeatability/all/seg_pred/task05\",\"prostate-seg-use-case/data/qin_prostate_repeatability/all/seg_pred/task05\",\"prostate-seg-use-case/data/qin_prostate_repeatability/all/seg_pred/task05\",\"prostate-seg-use-case/data/qin_prostate_repeatability/all/seg_pred/task05\",\"prostate-seg-use-case/data/qin_prostate_repeatability/all/seg_pred/task05\",\"prostate-seg-use-case/data/qin_prostate_repeatability/all/seg_pred/task05\",\"prostate-seg-use-case/data/qin_prostate_repeatability/all/seg_pred/task05\",\"prostate-seg-use-case/data/qin_prostate_repeatability/all/seg_pred/task05\",\"prostate-seg-use-case/data/qin_prostate_repeatability/all/seg_pred/task05\",\"prostate-seg-use-case/data/qin_prostate_repeatability/all/seg_pred/task05\",\"prostate-seg-use-case/data/qin_prostate_repeatability/all/seg_pred/task05\",\"prostate-seg-use-case/data/qin_prostate_repeatability/all/seg_pred/task05\",\"prostate-seg-use-case/data/qin_prostate_repeatability/all/seg_pred/task05\",\"prostate-seg-use-case/data/qin_prostate_repeatability/all/seg_pred/task05\",\"prostate-seg-use-case/data/qin_prostate_repeatability/all/seg_pred/task05\",\"prostate-seg-use-case/data/qin_prostate_repeatability/all/seg_pred/task05\",\"prostate-seg-use-case/data/qin_prostate_repeatability/all/seg_pred/task05\",\"prostate-seg-use-case/data/qin_prostate_repeatability/all/seg_pred/task05\",\"prostate-seg-use-case/data/qin_prostate_repeatability/all/seg_pred/task05\",\"prostate-seg-use-case/data/qin_prostate_repeatability/all/seg_pred/task05\",\"prostate-seg-use-case/data/qin_prostate_repeatability/all/seg_pred/task05\",\"prostate-seg-use-case/data/qin_prostate_repeatability/all/seg_pred/task05\",\"prostate-seg-use-case/data/qin_prostate_repeatability/all/seg_pred/task24_whole_prostate\",\"prostate-seg-use-case/data/qin_prostate_repeatability/all/seg_pred/task24_whole_prostate\",\"prostate-seg-use-case/data/qin_prostate_repeatability/all/seg_pred/task24_whole_prostate\",\"prostate-seg-use-case/data/qin_prostate_repeatability/all/seg_pred/task24_whole_prostate\",\"prostate-seg-use-case/data/qin_prostate_repeatability/all/seg_pred/task24_whole_prostate\",\"prostate-seg-use-case/data/qin_prostate_repeatability/all/seg_pred/task24_whole_prostate\",\"prostate-seg-use-case/data/qin_prostate_repeatability/all/seg_pred/task24_whole_prostate\",\"prostate-seg-use-case/data/qin_prostate_repeatability/all/seg_pred/task24_whole_prostate\",\"prostate-seg-use-case/data/qin_prostate_repeatability/all/seg_pred/task24_whole_prostate\",\"prostate-seg-use-case/data/qin_prostate_repeatability/all/seg_pred/task24_whole_prostate\",\"prostate-seg-use-case/data/qin_prostate_repeatability/all/seg_pred/task24_whole_prostate\",\"prostate-seg-use-case/data/qin_prostate_repeatability/all/seg_pred/task24_whole_prostate\",\"prostate-seg-use-case/data/qin_prostate_repeatability/all/seg_pred/task24_whole_prostate\",\"prostate-seg-use-case/data/qin_prostate_repeatability/all/seg_pred/task24_whole_prostate\",\"prostate-seg-use-case/data/qin_prostate_repeatability/all/seg_pred/task24_whole_prostate\",\"prostate-seg-use-case/data/qin_prostate_repeatability/all/seg_pred/task24_whole_prostate\",\"prostate-seg-use-case/data/qin_prostate_repeatability/all/seg_pred/task24_whole_prostate\",\"prostate-seg-use-case/data/qin_prostate_repeatability/all/seg_pred/task24_whole_prostate\",\"prostate-seg-use-case/data/qin_prostate_repeatability/all/seg_pred/task24_whole_prostate\",\"prostate-seg-use-case/data/qin_prostate_repeatability/all/seg_pred/task24_whole_prostate\",\"prostate-seg-use-case/data/qin_prostate_repeatability/all/seg_pred/task24_whole_prostate\",\"prostate-seg-use-case/data/qin_prostate_repeatability/all/seg_pred/task24_whole_prostate\",\"prostate-seg-use-case/data/qin_prostate_repeatability/all/seg_pred/task24_whole_prostate\",\"prostate-seg-use-case/data/qin_prostate_repeatability/all/seg_pred/task24_whole_prostate\",\"prostate-seg-use-case/data/qin_prostate_repeatability/all/seg_pred/task24_whole_prostate\",\"prostate-seg-use-case/data/qin_prostate_repeatability/all/seg_pred/task24_whole_prostate\",\"prostate-seg-use-case/data/qin_prostate_repeatability/all/seg_pred/task24_whole_prostate\",\"prostate-seg-use-case/data/qin_prostate_repeatability/all/seg_pred/task24_whole_prostate\",\"prostate-seg-use-case/data/qin_prostate_repeatability/all/seg_pred/task24_whole_prostate\",\"prostate-seg-use-case/data/qin_prostate_repeatability/all/seg_pred/task24_whole_prostate\"],\"colors\":[\"#ff0000\",\"#ff0000\",\"#ff0000\",\"#ff0000\",\"#ff0000\",\"#ff0000\",\"#ff0000\",\"#ff0000\",\"#ff0000\",\"#ff0000\",\"#ff0000\",\"#ff0000\",\"#ff0000\",\"#ff0000\",\"#ff0000\",\"#ff0000\",\"#ff0000\",\"#ff0000\",\"#ff0000\",\"#ff0000\",\"#ff0000\",\"#ff0000\",\"#ff0000\",\"#ff0000\",\"#ff0000\",\"#ff0000\",\"#ff0000\",\"#ff0000\",\"#ff0000\",\"#ff0000\",\"#04b404\",\"#04b404\",\"#04b404\",\"#04b404\",\"#04b404\",\"#04b404\",\"#04b404\",\"#04b404\",\"#04b404\",\"#04b404\",\"#04b404\",\"#04b404\",\"#04b404\",\"#04b404\",\"#04b404\",\"#04b404\",\"#04b404\",\"#04b404\",\"#04b404\",\"#04b404\",\"#04b404\",\"#04b404\",\"#04b404\",\"#04b404\",\"#04b404\",\"#04b404\",\"#04b404\",\"#04b404\",\"#04b404\",\"#04b404\"],\"dice_score\":{\"__ndarray__\":\"uyakNQad3D+NeohGdxDUP6G9+njou9A/7Z48LNSazj+/mC1ZFeHZP1cm/FI/b9M/hnDMsieB5z+ZDTLJyFnpPwAAAAAAAAAAAAAAAAAAAAB3TN2VXbDoP7e0GhL32Og/L6hvmdNl3z/j4T0HliPnPy7nUlxV9sU/c2VQbXAixD+uEiwOZ/7kP+KwNPCjGuc/2LeTiPCv6T+eCU0SS8riP4NPc/IiE+g/qfi/IypU5z9bC7PQzmnoPzKQZ5dv/eI/vOmWHeIfrj+MLm8O12rnPygoRSv3AuU/0H6kiAwr5D8YtftVgG/mPzEHQUerWsg/MuTYeobw6z/1ona/CnDtP0ZcABqly+w/zA2GOqzw7D/WyK60jNTpP3qLh/ccWOs/kbjH0oeu6j89nStKCcHqPzqvsUtU7+s/0qsBSkON7D87bY0IxkHrPzboS29/rus/OiF00CUc5z+zXDY656fpPwIrhxbZzuw/JLn8h/Rb7T8V4/xNKETqP1k1CHO7F+w/wmuXNhyW7D9agLbVrDPrPzgQkgVMYOo/EW4yqgzj6j9IFjCBW3fsP3l1jgHZa+s/NpGZC1we6T9OJQNAFbfsP64pkNlZ9Ow/fCjRksfT6z8jSnuDL0zpPy9szVZecug/\",\"dtype\":\"float64\",\"order\":\"little\",\"shape\":[60]},\"hausdorff_dist\":{\"__ndarray__\":\"FqWEYFU5MkAq4Qm9/sBCQGO1+X/VmUdAP3EA/b69RkDZBu5AnU48QK5hhsYTvTVAAAAAAAAAJUAAAAAAAAAcQGb0o+GUp0FA9u0kIvzVTEAkmGpmLS0iQH5Rgv5CZyFAvqHw2TpAOkCox7YMOMseQKlKW1zjuz5A95MxPsxiQUBYAFMGDtgiQGMmUS/4xClAIHwo0ZK3F0BX6INlbHAmQAAAAAAAABhAv4HJjSKrGUBtAgzLn58aQNMXQs779yRAByRh304kQkDPhvwzg4AjQGXiVkEM7CZA/z9OmDBKKUDIRbWIKIYiQK7UsyCUxzxAAAAAAAAAJUAAAAAAAAAcQAAAAAAAACVAkE5d+SwvJUAAAAAAAAAsQAAAAAAAACVAOngmNElMJEBAL9y5MMIcQAAAAAAAACxAAAAAAAAAJUCzQLtDigEcQAAAAAAAABxAAAAAAAAALEBUxVT6CW8hQEqyDkdXASVAAAAAAAAAJUDq6/ma5aIbQAAAAAAAABhA4nZoWIxKGEAc0NIVbJMZQAGh9fBlAihAR60wfa/RGUAAAAAAAAAiQPt1pztPjBxA4zPZP09zN0CRKopXWXsiQAKaCBuebhlACI7LuKmBIUAAAAAAAAAiQAAAAAAAADhA\",\"dtype\":\"float64\",\"order\":\"little\",\"shape\":[60]},\"index\":[0,1,2,3,4,5,6,7,8,9,10,11,12,13,14,15,16,17,18,19,20,21,22,23,24,25,26,27,28,29,0,1,2,3,4,5,6,7,8,9,10,11,12,13,14,15,16,17,18,19,20,21,22,23,24,25,26,27,28,29],\"ohif_url\":[\"https://fir-idc-prostate-ohif.web.app/viewer/1.3.6.1.4.1.14519.5.2.1.3671.4754.173585825705285812758858023242!secondGoogleServer=/projects/idc-sandbox-003/locations/us-central1/datasets/prostate-seg/dicomStores/qin_prostate_repeatability_segnnUNet_datastore\",\"https://fir-idc-prostate-ohif.web.app/viewer/1.3.6.1.4.1.14519.5.2.1.3671.4754.266963586071007736606548226859!secondGoogleServer=/projects/idc-sandbox-003/locations/us-central1/datasets/prostate-seg/dicomStores/qin_prostate_repeatability_segnnUNet_datastore\",\"https://fir-idc-prostate-ohif.web.app/viewer/1.3.6.1.4.1.14519.5.2.1.3671.4754.864607788085827202303582199118!secondGoogleServer=/projects/idc-sandbox-003/locations/us-central1/datasets/prostate-seg/dicomStores/qin_prostate_repeatability_segnnUNet_datastore\",\"https://fir-idc-prostate-ohif.web.app/viewer/1.3.6.1.4.1.14519.5.2.1.3671.4754.181478254003851548055481596513!secondGoogleServer=/projects/idc-sandbox-003/locations/us-central1/datasets/prostate-seg/dicomStores/qin_prostate_repeatability_segnnUNet_datastore\",\"https://fir-idc-prostate-ohif.web.app/viewer/1.3.6.1.4.1.14519.5.2.1.3671.4754.318227959935022390930294557376!secondGoogleServer=/projects/idc-sandbox-003/locations/us-central1/datasets/prostate-seg/dicomStores/qin_prostate_repeatability_segnnUNet_datastore\",\"https://fir-idc-prostate-ohif.web.app/viewer/1.3.6.1.4.1.14519.5.2.1.3671.4754.217251077299095981018478951589!secondGoogleServer=/projects/idc-sandbox-003/locations/us-central1/datasets/prostate-seg/dicomStores/qin_prostate_repeatability_segnnUNet_datastore\",\"https://fir-idc-prostate-ohif.web.app/viewer/1.3.6.1.4.1.14519.5.2.1.3671.4754.131608903441424620949571415524!secondGoogleServer=/projects/idc-sandbox-003/locations/us-central1/datasets/prostate-seg/dicomStores/qin_prostate_repeatability_segnnUNet_datastore\",\"https://fir-idc-prostate-ohif.web.app/viewer/1.3.6.1.4.1.14519.5.2.1.3671.4754.117496148504386222592571043379!secondGoogleServer=/projects/idc-sandbox-003/locations/us-central1/datasets/prostate-seg/dicomStores/qin_prostate_repeatability_segnnUNet_datastore\",\"https://fir-idc-prostate-ohif.web.app/viewer/1.3.6.1.4.1.14519.5.2.1.3671.4754.264231410930579591639987629694!secondGoogleServer=/projects/idc-sandbox-003/locations/us-central1/datasets/prostate-seg/dicomStores/qin_prostate_repeatability_segnnUNet_datastore\",\"https://fir-idc-prostate-ohif.web.app/viewer/1.3.6.1.4.1.14519.5.2.1.3671.4754.298665348758363466150039312520!secondGoogleServer=/projects/idc-sandbox-003/locations/us-central1/datasets/prostate-seg/dicomStores/qin_prostate_repeatability_segnnUNet_datastore\",\"https://fir-idc-prostate-ohif.web.app/viewer/1.3.6.1.4.1.14519.5.2.1.3671.4754.245461598867316286839568962369!secondGoogleServer=/projects/idc-sandbox-003/locations/us-central1/datasets/prostate-seg/dicomStores/qin_prostate_repeatability_segnnUNet_datastore\",\"https://fir-idc-prostate-ohif.web.app/viewer/1.3.6.1.4.1.14519.5.2.1.3671.4754.211895462561589970837377570121!secondGoogleServer=/projects/idc-sandbox-003/locations/us-central1/datasets/prostate-seg/dicomStores/qin_prostate_repeatability_segnnUNet_datastore\",\"https://fir-idc-prostate-ohif.web.app/viewer/1.3.6.1.4.1.14519.5.2.1.3671.4754.288453744990673175783381845880!secondGoogleServer=/projects/idc-sandbox-003/locations/us-central1/datasets/prostate-seg/dicomStores/qin_prostate_repeatability_segnnUNet_datastore\",\"https://fir-idc-prostate-ohif.web.app/viewer/1.3.6.1.4.1.14519.5.2.1.3671.4754.194890890650697728529329442454!secondGoogleServer=/projects/idc-sandbox-003/locations/us-central1/datasets/prostate-seg/dicomStores/qin_prostate_repeatability_segnnUNet_datastore\",\"https://fir-idc-prostate-ohif.web.app/viewer/1.3.6.1.4.1.14519.5.2.1.3671.4754.431678793261759442965045820561!secondGoogleServer=/projects/idc-sandbox-003/locations/us-central1/datasets/prostate-seg/dicomStores/qin_prostate_repeatability_segnnUNet_datastore\",\"https://fir-idc-prostate-ohif.web.app/viewer/1.3.6.1.4.1.14519.5.2.1.3671.4754.182983245842036631781777324507!secondGoogleServer=/projects/idc-sandbox-003/locations/us-central1/datasets/prostate-seg/dicomStores/qin_prostate_repeatability_segnnUNet_datastore\",\"https://fir-idc-prostate-ohif.web.app/viewer/1.3.6.1.4.1.14519.5.2.1.3671.4754.288848219213026850354055725664!secondGoogleServer=/projects/idc-sandbox-003/locations/us-central1/datasets/prostate-seg/dicomStores/qin_prostate_repeatability_segnnUNet_datastore\",\"https://fir-idc-prostate-ohif.web.app/viewer/1.3.6.1.4.1.14519.5.2.1.3671.4754.568383070573576760578239627478!secondGoogleServer=/projects/idc-sandbox-003/locations/us-central1/datasets/prostate-seg/dicomStores/qin_prostate_repeatability_segnnUNet_datastore\",\"https://fir-idc-prostate-ohif.web.app/viewer/1.3.6.1.4.1.14519.5.2.1.3671.4754.304001015100152820571364796240!secondGoogleServer=/projects/idc-sandbox-003/locations/us-central1/datasets/prostate-seg/dicomStores/qin_prostate_repeatability_segnnUNet_datastore\",\"https://fir-idc-prostate-ohif.web.app/viewer/1.3.6.1.4.1.14519.5.2.1.3671.4754.121472087445374646718121301133!secondGoogleServer=/projects/idc-sandbox-003/locations/us-central1/datasets/prostate-seg/dicomStores/qin_prostate_repeatability_segnnUNet_datastore\",\"https://fir-idc-prostate-ohif.web.app/viewer/1.3.6.1.4.1.14519.5.2.1.3671.4754.263464522348816475234793721892!secondGoogleServer=/projects/idc-sandbox-003/locations/us-central1/datasets/prostate-seg/dicomStores/qin_prostate_repeatability_segnnUNet_datastore\",\"https://fir-idc-prostate-ohif.web.app/viewer/1.3.6.1.4.1.14519.5.2.1.3671.4754.162322077241419864654545266845!secondGoogleServer=/projects/idc-sandbox-003/locations/us-central1/datasets/prostate-seg/dicomStores/qin_prostate_repeatability_segnnUNet_datastore\",\"https://fir-idc-prostate-ohif.web.app/viewer/1.3.6.1.4.1.14519.5.2.1.3671.4754.394942238206951812120962051099!secondGoogleServer=/projects/idc-sandbox-003/locations/us-central1/datasets/prostate-seg/dicomStores/qin_prostate_repeatability_segnnUNet_datastore\",\"https://fir-idc-prostate-ohif.web.app/viewer/1.3.6.1.4.1.14519.5.2.1.3671.4754.962865348146140991373362412648!secondGoogleServer=/projects/idc-sandbox-003/locations/us-central1/datasets/prostate-seg/dicomStores/qin_prostate_repeatability_segnnUNet_datastore\",\"https://fir-idc-prostate-ohif.web.app/viewer/1.3.6.1.4.1.14519.5.2.1.3671.4754.240823776621155108064488841063!secondGoogleServer=/projects/idc-sandbox-003/locations/us-central1/datasets/prostate-seg/dicomStores/qin_prostate_repeatability_segnnUNet_datastore\",\"https://fir-idc-prostate-ohif.web.app/viewer/1.3.6.1.4.1.14519.5.2.1.3671.4754.287814201869490350714498330797!secondGoogleServer=/projects/idc-sandbox-003/locations/us-central1/datasets/prostate-seg/dicomStores/qin_prostate_repeatability_segnnUNet_datastore\",\"https://fir-idc-prostate-ohif.web.app/viewer/1.3.6.1.4.1.14519.5.2.1.3671.4754.133806669697115873569905534398!secondGoogleServer=/projects/idc-sandbox-003/locations/us-central1/datasets/prostate-seg/dicomStores/qin_prostate_repeatability_segnnUNet_datastore\",\"https://fir-idc-prostate-ohif.web.app/viewer/1.3.6.1.4.1.14519.5.2.1.3671.4754.240243858523310211919840278205!secondGoogleServer=/projects/idc-sandbox-003/locations/us-central1/datasets/prostate-seg/dicomStores/qin_prostate_repeatability_segnnUNet_datastore\",\"https://fir-idc-prostate-ohif.web.app/viewer/1.3.6.1.4.1.14519.5.2.1.3671.4754.204078048920967920419177848890!secondGoogleServer=/projects/idc-sandbox-003/locations/us-central1/datasets/prostate-seg/dicomStores/qin_prostate_repeatability_segnnUNet_datastore\",\"https://fir-idc-prostate-ohif.web.app/viewer/1.3.6.1.4.1.14519.5.2.1.3671.4754.233298968565250099224990877587!secondGoogleServer=/projects/idc-sandbox-003/locations/us-central1/datasets/prostate-seg/dicomStores/qin_prostate_repeatability_segnnUNet_datastore\",\"https://fir-idc-prostate-ohif.web.app/viewer/1.3.6.1.4.1.14519.5.2.1.3671.4754.173585825705285812758858023242!secondGoogleServer=/projects/idc-sandbox-003/locations/us-central1/datasets/prostate-seg/dicomStores/qin_prostate_repeatability_segnnUNet_datastore\",\"https://fir-idc-prostate-ohif.web.app/viewer/1.3.6.1.4.1.14519.5.2.1.3671.4754.266963586071007736606548226859!secondGoogleServer=/projects/idc-sandbox-003/locations/us-central1/datasets/prostate-seg/dicomStores/qin_prostate_repeatability_segnnUNet_datastore\",\"https://fir-idc-prostate-ohif.web.app/viewer/1.3.6.1.4.1.14519.5.2.1.3671.4754.864607788085827202303582199118!secondGoogleServer=/projects/idc-sandbox-003/locations/us-central1/datasets/prostate-seg/dicomStores/qin_prostate_repeatability_segnnUNet_datastore\",\"https://fir-idc-prostate-ohif.web.app/viewer/1.3.6.1.4.1.14519.5.2.1.3671.4754.181478254003851548055481596513!secondGoogleServer=/projects/idc-sandbox-003/locations/us-central1/datasets/prostate-seg/dicomStores/qin_prostate_repeatability_segnnUNet_datastore\",\"https://fir-idc-prostate-ohif.web.app/viewer/1.3.6.1.4.1.14519.5.2.1.3671.4754.318227959935022390930294557376!secondGoogleServer=/projects/idc-sandbox-003/locations/us-central1/datasets/prostate-seg/dicomStores/qin_prostate_repeatability_segnnUNet_datastore\",\"https://fir-idc-prostate-ohif.web.app/viewer/1.3.6.1.4.1.14519.5.2.1.3671.4754.217251077299095981018478951589!secondGoogleServer=/projects/idc-sandbox-003/locations/us-central1/datasets/prostate-seg/dicomStores/qin_prostate_repeatability_segnnUNet_datastore\",\"https://fir-idc-prostate-ohif.web.app/viewer/1.3.6.1.4.1.14519.5.2.1.3671.4754.131608903441424620949571415524!secondGoogleServer=/projects/idc-sandbox-003/locations/us-central1/datasets/prostate-seg/dicomStores/qin_prostate_repeatability_segnnUNet_datastore\",\"https://fir-idc-prostate-ohif.web.app/viewer/1.3.6.1.4.1.14519.5.2.1.3671.4754.117496148504386222592571043379!secondGoogleServer=/projects/idc-sandbox-003/locations/us-central1/datasets/prostate-seg/dicomStores/qin_prostate_repeatability_segnnUNet_datastore\",\"https://fir-idc-prostate-ohif.web.app/viewer/1.3.6.1.4.1.14519.5.2.1.3671.4754.298665348758363466150039312520!secondGoogleServer=/projects/idc-sandbox-003/locations/us-central1/datasets/prostate-seg/dicomStores/qin_prostate_repeatability_segnnUNet_datastore\",\"https://fir-idc-prostate-ohif.web.app/viewer/1.3.6.1.4.1.14519.5.2.1.3671.4754.264231410930579591639987629694!secondGoogleServer=/projects/idc-sandbox-003/locations/us-central1/datasets/prostate-seg/dicomStores/qin_prostate_repeatability_segnnUNet_datastore\",\"https://fir-idc-prostate-ohif.web.app/viewer/1.3.6.1.4.1.14519.5.2.1.3671.4754.211895462561589970837377570121!secondGoogleServer=/projects/idc-sandbox-003/locations/us-central1/datasets/prostate-seg/dicomStores/qin_prostate_repeatability_segnnUNet_datastore\",\"https://fir-idc-prostate-ohif.web.app/viewer/1.3.6.1.4.1.14519.5.2.1.3671.4754.245461598867316286839568962369!secondGoogleServer=/projects/idc-sandbox-003/locations/us-central1/datasets/prostate-seg/dicomStores/qin_prostate_repeatability_segnnUNet_datastore\",\"https://fir-idc-prostate-ohif.web.app/viewer/1.3.6.1.4.1.14519.5.2.1.3671.4754.194890890650697728529329442454!secondGoogleServer=/projects/idc-sandbox-003/locations/us-central1/datasets/prostate-seg/dicomStores/qin_prostate_repeatability_segnnUNet_datastore\",\"https://fir-idc-prostate-ohif.web.app/viewer/1.3.6.1.4.1.14519.5.2.1.3671.4754.288453744990673175783381845880!secondGoogleServer=/projects/idc-sandbox-003/locations/us-central1/datasets/prostate-seg/dicomStores/qin_prostate_repeatability_segnnUNet_datastore\",\"https://fir-idc-prostate-ohif.web.app/viewer/1.3.6.1.4.1.14519.5.2.1.3671.4754.431678793261759442965045820561!secondGoogleServer=/projects/idc-sandbox-003/locations/us-central1/datasets/prostate-seg/dicomStores/qin_prostate_repeatability_segnnUNet_datastore\",\"https://fir-idc-prostate-ohif.web.app/viewer/1.3.6.1.4.1.14519.5.2.1.3671.4754.182983245842036631781777324507!secondGoogleServer=/projects/idc-sandbox-003/locations/us-central1/datasets/prostate-seg/dicomStores/qin_prostate_repeatability_segnnUNet_datastore\",\"https://fir-idc-prostate-ohif.web.app/viewer/1.3.6.1.4.1.14519.5.2.1.3671.4754.288848219213026850354055725664!secondGoogleServer=/projects/idc-sandbox-003/locations/us-central1/datasets/prostate-seg/dicomStores/qin_prostate_repeatability_segnnUNet_datastore\",\"https://fir-idc-prostate-ohif.web.app/viewer/1.3.6.1.4.1.14519.5.2.1.3671.4754.568383070573576760578239627478!secondGoogleServer=/projects/idc-sandbox-003/locations/us-central1/datasets/prostate-seg/dicomStores/qin_prostate_repeatability_segnnUNet_datastore\",\"https://fir-idc-prostate-ohif.web.app/viewer/1.3.6.1.4.1.14519.5.2.1.3671.4754.304001015100152820571364796240!secondGoogleServer=/projects/idc-sandbox-003/locations/us-central1/datasets/prostate-seg/dicomStores/qin_prostate_repeatability_segnnUNet_datastore\",\"https://fir-idc-prostate-ohif.web.app/viewer/1.3.6.1.4.1.14519.5.2.1.3671.4754.121472087445374646718121301133!secondGoogleServer=/projects/idc-sandbox-003/locations/us-central1/datasets/prostate-seg/dicomStores/qin_prostate_repeatability_segnnUNet_datastore\",\"https://fir-idc-prostate-ohif.web.app/viewer/1.3.6.1.4.1.14519.5.2.1.3671.4754.162322077241419864654545266845!secondGoogleServer=/projects/idc-sandbox-003/locations/us-central1/datasets/prostate-seg/dicomStores/qin_prostate_repeatability_segnnUNet_datastore\",\"https://fir-idc-prostate-ohif.web.app/viewer/1.3.6.1.4.1.14519.5.2.1.3671.4754.263464522348816475234793721892!secondGoogleServer=/projects/idc-sandbox-003/locations/us-central1/datasets/prostate-seg/dicomStores/qin_prostate_repeatability_segnnUNet_datastore\",\"https://fir-idc-prostate-ohif.web.app/viewer/1.3.6.1.4.1.14519.5.2.1.3671.4754.394942238206951812120962051099!secondGoogleServer=/projects/idc-sandbox-003/locations/us-central1/datasets/prostate-seg/dicomStores/qin_prostate_repeatability_segnnUNet_datastore\",\"https://fir-idc-prostate-ohif.web.app/viewer/1.3.6.1.4.1.14519.5.2.1.3671.4754.962865348146140991373362412648!secondGoogleServer=/projects/idc-sandbox-003/locations/us-central1/datasets/prostate-seg/dicomStores/qin_prostate_repeatability_segnnUNet_datastore\",\"https://fir-idc-prostate-ohif.web.app/viewer/1.3.6.1.4.1.14519.5.2.1.3671.4754.240823776621155108064488841063!secondGoogleServer=/projects/idc-sandbox-003/locations/us-central1/datasets/prostate-seg/dicomStores/qin_prostate_repeatability_segnnUNet_datastore\",\"https://fir-idc-prostate-ohif.web.app/viewer/1.3.6.1.4.1.14519.5.2.1.3671.4754.287814201869490350714498330797!secondGoogleServer=/projects/idc-sandbox-003/locations/us-central1/datasets/prostate-seg/dicomStores/qin_prostate_repeatability_segnnUNet_datastore\",\"https://fir-idc-prostate-ohif.web.app/viewer/1.3.6.1.4.1.14519.5.2.1.3671.4754.133806669697115873569905534398!secondGoogleServer=/projects/idc-sandbox-003/locations/us-central1/datasets/prostate-seg/dicomStores/qin_prostate_repeatability_segnnUNet_datastore\",\"https://fir-idc-prostate-ohif.web.app/viewer/1.3.6.1.4.1.14519.5.2.1.3671.4754.240243858523310211919840278205!secondGoogleServer=/projects/idc-sandbox-003/locations/us-central1/datasets/prostate-seg/dicomStores/qin_prostate_repeatability_segnnUNet_datastore\",\"https://fir-idc-prostate-ohif.web.app/viewer/1.3.6.1.4.1.14519.5.2.1.3671.4754.204078048920967920419177848890!secondGoogleServer=/projects/idc-sandbox-003/locations/us-central1/datasets/prostate-seg/dicomStores/qin_prostate_repeatability_segnnUNet_datastore\",\"https://fir-idc-prostate-ohif.web.app/viewer/1.3.6.1.4.1.14519.5.2.1.3671.4754.233298968565250099224990877587!secondGoogleServer=/projects/idc-sandbox-003/locations/us-central1/datasets/prostate-seg/dicomStores/qin_prostate_repeatability_segnnUNet_datastore\"],\"patientID\":[\"PCAMPMRI-00008\",\"PCAMPMRI-00008\",\"PCAMPMRI-00009\",\"PCAMPMRI-00009\",\"PCAMPMRI-00010\",\"PCAMPMRI-00010\",\"PCAMPMRI-00011\",\"PCAMPMRI-00011\",\"PCAMPMRI-00012\",\"PCAMPMRI-00012\",\"PCAMPMRI-00013\",\"PCAMPMRI-00013\",\"PCAMPMRI-00014\",\"PCAMPMRI-00014\",\"PCAMPMRI-00015\",\"PCAMPMRI-00015\",\"PCAMPMRI-00001\",\"PCAMPMRI-00002\",\"PCAMPMRI-00002\",\"PCAMPMRI-00001\",\"PCAMPMRI-00003\",\"PCAMPMRI-00003\",\"PCAMPMRI-00004\",\"PCAMPMRI-00007\",\"PCAMPMRI-00005\",\"PCAMPMRI-00006\",\"PCAMPMRI-00006\",\"PCAMPMRI-00007\",\"PCAMPMRI-00004\",\"PCAMPMRI-00005\",\"PCAMPMRI-00008\",\"PCAMPMRI-00008\",\"PCAMPMRI-00009\",\"PCAMPMRI-00009\",\"PCAMPMRI-00010\",\"PCAMPMRI-00010\",\"PCAMPMRI-00011\",\"PCAMPMRI-00011\",\"PCAMPMRI-00012\",\"PCAMPMRI-00012\",\"PCAMPMRI-00013\",\"PCAMPMRI-00013\",\"PCAMPMRI-00014\",\"PCAMPMRI-00014\",\"PCAMPMRI-00015\",\"PCAMPMRI-00015\",\"PCAMPMRI-00001\",\"PCAMPMRI-00002\",\"PCAMPMRI-00002\",\"PCAMPMRI-00001\",\"PCAMPMRI-00003\",\"PCAMPMRI-00003\",\"PCAMPMRI-00004\",\"PCAMPMRI-00007\",\"PCAMPMRI-00005\",\"PCAMPMRI-00006\",\"PCAMPMRI-00006\",\"PCAMPMRI-00007\",\"PCAMPMRI-00004\",\"PCAMPMRI-00005\"],\"regions\":[\"PZ\",\"PZ\",\"PZ\",\"PZ\",\"PZ\",\"PZ\",\"PZ\",\"PZ\",\"PZ\",\"PZ\",\"PZ\",\"PZ\",\"PZ\",\"PZ\",\"PZ\",\"PZ\",\"PZ\",\"PZ\",\"PZ\",\"PZ\",\"PZ\",\"PZ\",\"PZ\",\"PZ\",\"PZ\",\"PZ\",\"PZ\",\"PZ\",\"PZ\",\"PZ\",\"Prostate\",\"Prostate\",\"Prostate\",\"Prostate\",\"Prostate\",\"Prostate\",\"Prostate\",\"Prostate\",\"Prostate\",\"Prostate\",\"Prostate\",\"Prostate\",\"Prostate\",\"Prostate\",\"Prostate\",\"Prostate\",\"Prostate\",\"Prostate\",\"Prostate\",\"Prostate\",\"Prostate\",\"Prostate\",\"Prostate\",\"Prostate\",\"Prostate\",\"Prostate\",\"Prostate\",\"Prostate\",\"Prostate\",\"Prostate\"],\"segment\":[\"PZ\",\"PZ\",\"PZ\",\"PZ\",\"PZ\",\"PZ\",\"PZ\",\"PZ\",\"PZ\",\"PZ\",\"PZ\",\"PZ\",\"PZ\",\"PZ\",\"PZ\",\"PZ\",\"PZ\",\"PZ\",\"PZ\",\"PZ\",\"PZ\",\"PZ\",\"PZ\",\"PZ\",\"PZ\",\"PZ\",\"PZ\",\"PZ\",\"PZ\",\"PZ\",\"prostate\",\"prostate\",\"prostate\",\"prostate\",\"prostate\",\"prostate\",\"prostate\",\"prostate\",\"prostate\",\"prostate\",\"prostate\",\"prostate\",\"prostate\",\"prostate\",\"prostate\",\"prostate\",\"prostate\",\"prostate\",\"prostate\",\"prostate\",\"prostate\",\"prostate\",\"prostate\",\"prostate\",\"prostate\",\"prostate\",\"prostate\",\"prostate\",\"prostate\",\"prostate\"],\"serieUID\":[\"1.2.276.0.7230010.3.1.3.481034752.5623.1666822888.804515\",\"1.2.276.0.7230010.3.1.3.481034752.5620.1666822888.466943\",\"1.2.276.0.7230010.3.1.3.481034752.5575.1666822883.435843\",\"1.2.276.0.7230010.3.1.3.481034752.5605.1666822886.794824\",\"1.2.276.0.7230010.3.1.3.481034752.5635.1666822890.170551\",\"1.2.276.0.7230010.3.1.3.481034752.5608.1666822887.132338\",\"1.2.276.0.7230010.3.1.3.481034752.5617.1666822888.138739\",\"1.2.276.0.7230010.3.1.3.481034752.5629.1666822889.489097\",\"1.2.276.0.7230010.3.1.3.481034752.5602.1666822886.462397\",\"1.2.276.0.7230010.3.1.3.481034752.5593.1666822885.461406\",\"1.2.276.0.7230010.3.1.3.481034752.5581.1666822884.103378\",\"1.2.276.0.7230010.3.1.3.481034752.5641.1666822890.832130\",\"1.2.276.0.7230010.3.1.3.481034752.5656.1666822892.533638\",\"1.2.276.0.7230010.3.1.3.481034752.5572.1666822883.78063\",\"1.2.276.0.7230010.3.1.3.481034752.5611.1666822887.470700\",\"1.2.276.0.7230010.3.1.3.481034752.5599.1666822886.123580\",\"1.2.276.0.7230010.3.1.3.481034752.5644.1666822891.177971\",\"1.2.276.0.7230010.3.1.3.481034752.5578.1666822883.770629\",\"1.2.276.0.7230010.3.1.3.481034752.5596.1666822885.789994\",\"1.2.276.0.7230010.3.1.3.481034752.5614.1666822887.804002\",\"1.2.276.0.7230010.3.1.3.481034752.5626.1666822889.165623\",\"1.2.276.0.7230010.3.1.3.481034752.5650.1666822891.856720\",\"1.2.276.0.7230010.3.1.3.481034752.5659.1666822892.887526\",\"1.2.276.0.7230010.3.1.3.481034752.5638.1666822890.497818\",\"1.2.276.0.7230010.3.1.3.481034752.5647.1666822891.524403\",\"1.2.276.0.7230010.3.1.3.481034752.5632.1666822889.844708\",\"1.2.276.0.7230010.3.1.3.481034752.5584.1666822884.461333\",\"1.2.276.0.7230010.3.1.3.481034752.5653.1666822892.205098\",\"1.2.276.0.7230010.3.1.3.481034752.5590.1666822885.130019\",\"1.2.276.0.7230010.3.1.3.481034752.5587.1666822884.794967\",\"1.2.276.0.7230010.3.1.3.481034752.4032.1665501458.674193\",\"1.2.276.0.7230010.3.1.3.481034752.4073.1665501463.263353\",\"1.2.276.0.7230010.3.1.3.481034752.4088.1665501464.949326\",\"1.2.276.0.7230010.3.1.3.481034752.4038.1665501459.282514\",\"1.2.276.0.7230010.3.1.3.481034752.4106.1665501466.979878\",\"1.2.276.0.7230010.3.1.3.481034752.4097.1665501465.960320\",\"1.2.276.0.7230010.3.1.3.481034752.4058.1665501461.296222\",\"1.2.276.0.7230010.3.1.3.481034752.4103.1665501466.640513\",\"1.2.276.0.7230010.3.1.3.481034752.4044.1665501459.961513\",\"1.2.276.0.7230010.3.1.3.481034752.4052.1665501460.621505\",\"1.2.276.0.7230010.3.1.3.481034752.4112.1665501467.646274\",\"1.2.276.0.7230010.3.1.3.481034752.4118.1665501468.327092\",\"1.2.276.0.7230010.3.1.3.481034752.4076.1665501463.610640\",\"1.2.276.0.7230010.3.1.3.481034752.4047.1665501460.288959\",\"1.2.276.0.7230010.3.1.3.481034752.4061.1665501461.703894\",\"1.2.276.0.7230010.3.1.3.481034752.4082.1665501464.278390\",\"1.2.276.0.7230010.3.1.3.481034752.4035.1665501458.949406\",\"1.2.276.0.7230010.3.1.3.481034752.4094.1665501465.634008\",\"1.2.276.0.7230010.3.1.3.481034752.4091.1665501465.291743\",\"1.2.276.0.7230010.3.1.3.481034752.4115.1665501467.998877\",\"1.2.276.0.7230010.3.1.3.481034752.4121.1665501468.662250\",\"1.2.276.0.7230010.3.1.3.481034752.4109.1665501467.317349\",\"1.2.276.0.7230010.3.1.3.481034752.4064.1665501462.332456\",\"1.2.276.0.7230010.3.1.3.481034752.4100.1665501466.305261\",\"1.2.276.0.7230010.3.1.3.481034752.4070.1665501462.943132\",\"1.2.276.0.7230010.3.1.3.481034752.4067.1665501462.611630\",\"1.2.276.0.7230010.3.1.3.481034752.4055.1665501460.976611\",\"1.2.276.0.7230010.3.1.3.481034752.4085.1665501464.626433\",\"1.2.276.0.7230010.3.1.3.481034752.4041.1665501459.630679\",\"1.2.276.0.7230010.3.1.3.481034752.4079.1665501463.960922\"],\"series_date\":[\"20221026\",\"20221026\",\"20221026\",\"20221026\",\"20221026\",\"20221026\",\"20221026\",\"20221026\",\"20221026\",\"20221026\",\"20221026\",\"20221026\",\"20221026\",\"20221026\",\"20221026\",\"20221026\",\"20221026\",\"20221026\",\"20221026\",\"20221026\",\"20221026\",\"20221026\",\"20221026\",\"20221026\",\"20221026\",\"20221026\",\"20221026\",\"20221026\",\"20221026\",\"20221026\",\"20221011\",\"20221011\",\"20221011\",\"20221011\",\"20221011\",\"20221011\",\"20221011\",\"20221011\",\"20221011\",\"20221011\",\"20221011\",\"20221011\",\"20221011\",\"20221011\",\"20221011\",\"20221011\",\"20221011\",\"20221011\",\"20221011\",\"20221011\",\"20221011\",\"20221011\",\"20221011\",\"20221011\",\"20221011\",\"20221011\",\"20221011\",\"20221011\",\"20221011\",\"20221011\"],\"series_time\":[\"222128\",\"222128\",\"222123\",\"222126\",\"222130\",\"222127\",\"222128\",\"222129\",\"222126\",\"222125\",\"222124\",\"222130\",\"222132\",\"222123\",\"222127\",\"222126\",\"222131\",\"222123\",\"222125\",\"222127\",\"222129\",\"222132\",\"222133\",\"222130\",\"222131\",\"222130\",\"222124\",\"222132\",\"222125\",\"222124\",\"151738\",\"151743\",\"151745\",\"151739\",\"151747\",\"151746\",\"151741\",\"151746\",\"151740\",\"151740\",\"151747\",\"151748\",\"151743\",\"151740\",\"151741\",\"151744\",\"151739\",\"151745\",\"151745\",\"151748\",\"151748\",\"151747\",\"151742\",\"151746\",\"151743\",\"151742\",\"151741\",\"151744\",\"151739\",\"151744\"],\"studyUID\":[\"1.3.6.1.4.1.14519.5.2.1.3671.4754.173585825705285812758858023242\",\"1.3.6.1.4.1.14519.5.2.1.3671.4754.266963586071007736606548226859\",\"1.3.6.1.4.1.14519.5.2.1.3671.4754.864607788085827202303582199118\",\"1.3.6.1.4.1.14519.5.2.1.3671.4754.181478254003851548055481596513\",\"1.3.6.1.4.1.14519.5.2.1.3671.4754.318227959935022390930294557376\",\"1.3.6.1.4.1.14519.5.2.1.3671.4754.217251077299095981018478951589\",\"1.3.6.1.4.1.14519.5.2.1.3671.4754.131608903441424620949571415524\",\"1.3.6.1.4.1.14519.5.2.1.3671.4754.117496148504386222592571043379\",\"1.3.6.1.4.1.14519.5.2.1.3671.4754.264231410930579591639987629694\",\"1.3.6.1.4.1.14519.5.2.1.3671.4754.298665348758363466150039312520\",\"1.3.6.1.4.1.14519.5.2.1.3671.4754.245461598867316286839568962369\",\"1.3.6.1.4.1.14519.5.2.1.3671.4754.211895462561589970837377570121\",\"1.3.6.1.4.1.14519.5.2.1.3671.4754.288453744990673175783381845880\",\"1.3.6.1.4.1.14519.5.2.1.3671.4754.194890890650697728529329442454\",\"1.3.6.1.4.1.14519.5.2.1.3671.4754.431678793261759442965045820561\",\"1.3.6.1.4.1.14519.5.2.1.3671.4754.182983245842036631781777324507\",\"1.3.6.1.4.1.14519.5.2.1.3671.4754.288848219213026850354055725664\",\"1.3.6.1.4.1.14519.5.2.1.3671.4754.568383070573576760578239627478\",\"1.3.6.1.4.1.14519.5.2.1.3671.4754.304001015100152820571364796240\",\"1.3.6.1.4.1.14519.5.2.1.3671.4754.121472087445374646718121301133\",\"1.3.6.1.4.1.14519.5.2.1.3671.4754.263464522348816475234793721892\",\"1.3.6.1.4.1.14519.5.2.1.3671.4754.162322077241419864654545266845\",\"1.3.6.1.4.1.14519.5.2.1.3671.4754.394942238206951812120962051099\",\"1.3.6.1.4.1.14519.5.2.1.3671.4754.962865348146140991373362412648\",\"1.3.6.1.4.1.14519.5.2.1.3671.4754.240823776621155108064488841063\",\"1.3.6.1.4.1.14519.5.2.1.3671.4754.287814201869490350714498330797\",\"1.3.6.1.4.1.14519.5.2.1.3671.4754.133806669697115873569905534398\",\"1.3.6.1.4.1.14519.5.2.1.3671.4754.240243858523310211919840278205\",\"1.3.6.1.4.1.14519.5.2.1.3671.4754.204078048920967920419177848890\",\"1.3.6.1.4.1.14519.5.2.1.3671.4754.233298968565250099224990877587\",\"1.3.6.1.4.1.14519.5.2.1.3671.4754.173585825705285812758858023242\",\"1.3.6.1.4.1.14519.5.2.1.3671.4754.266963586071007736606548226859\",\"1.3.6.1.4.1.14519.5.2.1.3671.4754.864607788085827202303582199118\",\"1.3.6.1.4.1.14519.5.2.1.3671.4754.181478254003851548055481596513\",\"1.3.6.1.4.1.14519.5.2.1.3671.4754.318227959935022390930294557376\",\"1.3.6.1.4.1.14519.5.2.1.3671.4754.217251077299095981018478951589\",\"1.3.6.1.4.1.14519.5.2.1.3671.4754.131608903441424620949571415524\",\"1.3.6.1.4.1.14519.5.2.1.3671.4754.117496148504386222592571043379\",\"1.3.6.1.4.1.14519.5.2.1.3671.4754.298665348758363466150039312520\",\"1.3.6.1.4.1.14519.5.2.1.3671.4754.264231410930579591639987629694\",\"1.3.6.1.4.1.14519.5.2.1.3671.4754.211895462561589970837377570121\",\"1.3.6.1.4.1.14519.5.2.1.3671.4754.245461598867316286839568962369\",\"1.3.6.1.4.1.14519.5.2.1.3671.4754.194890890650697728529329442454\",\"1.3.6.1.4.1.14519.5.2.1.3671.4754.288453744990673175783381845880\",\"1.3.6.1.4.1.14519.5.2.1.3671.4754.431678793261759442965045820561\",\"1.3.6.1.4.1.14519.5.2.1.3671.4754.182983245842036631781777324507\",\"1.3.6.1.4.1.14519.5.2.1.3671.4754.288848219213026850354055725664\",\"1.3.6.1.4.1.14519.5.2.1.3671.4754.568383070573576760578239627478\",\"1.3.6.1.4.1.14519.5.2.1.3671.4754.304001015100152820571364796240\",\"1.3.6.1.4.1.14519.5.2.1.3671.4754.121472087445374646718121301133\",\"1.3.6.1.4.1.14519.5.2.1.3671.4754.162322077241419864654545266845\",\"1.3.6.1.4.1.14519.5.2.1.3671.4754.263464522348816475234793721892\",\"1.3.6.1.4.1.14519.5.2.1.3671.4754.394942238206951812120962051099\",\"1.3.6.1.4.1.14519.5.2.1.3671.4754.962865348146140991373362412648\",\"1.3.6.1.4.1.14519.5.2.1.3671.4754.240823776621155108064488841063\",\"1.3.6.1.4.1.14519.5.2.1.3671.4754.287814201869490350714498330797\",\"1.3.6.1.4.1.14519.5.2.1.3671.4754.133806669697115873569905534398\",\"1.3.6.1.4.1.14519.5.2.1.3671.4754.240243858523310211919840278205\",\"1.3.6.1.4.1.14519.5.2.1.3671.4754.204078048920967920419177848890\",\"1.3.6.1.4.1.14519.5.2.1.3671.4754.233298968565250099224990877587\"],\"study_date\":[\"19950617\",\"19950701\",\"19950701\",\"19950708\",\"19950709\",\"19950706\",\"19950826\",\"19950908\",\"19951223\",\"19951215\",\"19960307\",\"19960222\",\"19960316\",\"19960324\",\"19960516\",\"19960502\",\"19940702\",\"19940723\",\"19940709\",\"19940620\",\"19940825\",\"19940811\",\"19940903\",\"19941008\",\"19940910\",\"19940924\",\"19941001\",\"19941001\",\"19940912\",\"19940917\",\"19950617\",\"19950701\",\"19950701\",\"19950708\",\"19950709\",\"19950706\",\"19950826\",\"19950908\",\"19951215\",\"19951223\",\"19960222\",\"19960307\",\"19960324\",\"19960316\",\"19960516\",\"19960502\",\"19940702\",\"19940723\",\"19940709\",\"19940620\",\"19940811\",\"19940825\",\"19940903\",\"19941008\",\"19940910\",\"19940924\",\"19941001\",\"19941001\",\"19940912\",\"19940917\"],\"study_time\":[\"111335\",\"131106\",\"142721\",\"163440\",\"150441\",\"110656\",\"161817\",\"160430\",\"113757\",\"131445\",\"163449\",\"152346\",\"130727\",\"162549\",\"114812\",\"111555\",\"132531\",\"132116\",\"121716\",\"092715\",\"113959\",\"141233\",\"104120\",\"113910\",\"101927\",\"132134\",\"133534\",\"103506\",\"144338\",\"115624\",\"111335\",\"131106\",\"142721\",\"163440\",\"150441\",\"110656\",\"161817\",\"160430\",\"131445\",\"113757\",\"152346\",\"163449\",\"162549\",\"130727\",\"114812\",\"111555\",\"132531\",\"132116\",\"121716\",\"092715\",\"141233\",\"113959\",\"104120\",\"113910\",\"101927\",\"132134\",\"133534\",\"103506\",\"144338\",\"115624\"],\"studydesc\":[\"PCAMPMRI\",\"PCAMPMRI\",\"PCAMPMRI\",\"PCAMPMRI\",\"PCAMPMRI\",\"PCAMPMRI\",\"PCAMPMRI\",\"PCAMPMRI\",\"PCAMPMRI\",\"PCAMPMRI\",\"PCAMPMRI\",\"PCAMPMRI\",\"PCAMPMRI\",\"PCAMPMRI\",\"PCAMPMRI\",\"PCAMPMRI\",\"BD/PRO Pelvis w\",\"BD/PRO Pelvis w\",\"MR RECTUM (SCH)\",\"PRO/BD Pelvis w\",\"PRO/BD Pelvis w\",\"PRO/BD Pelvis w\",\"PRO/BD Pelvis w\",\"PRO/BD Pelvis w\",\"/BD/PRO   Pelvis w&w/oCon\",\"/BD/PRO   Pelvis w&w/oCon\",\"/BD/PRO   Pelvis w&w/oCon\",\"/BD/PRO   Pelvis w&w/oCon\",\"/PRO/BD   Pelvis w&w/oCon\",\"/PRO/BD   Pelvis w&w/oCon\",\"PCAMPMRI\",\"PCAMPMRI\",\"PCAMPMRI\",\"PCAMPMRI\",\"PCAMPMRI\",\"PCAMPMRI\",\"PCAMPMRI\",\"PCAMPMRI\",\"PCAMPMRI\",\"PCAMPMRI\",\"PCAMPMRI\",\"PCAMPMRI\",\"PCAMPMRI\",\"PCAMPMRI\",\"PCAMPMRI\",\"PCAMPMRI\",\"BD/PRO Pelvis w\",\"BD/PRO Pelvis w\",\"MR RECTUM (SCH)\",\"PRO/BD Pelvis w\",\"PRO/BD Pelvis w\",\"PRO/BD Pelvis w\",\"PRO/BD Pelvis w\",\"PRO/BD Pelvis w\",\"/BD/PRO   Pelvis w&w/oCon\",\"/BD/PRO   Pelvis w&w/oCon\",\"/BD/PRO   Pelvis w&w/oCon\",\"/BD/PRO   Pelvis w&w/oCon\",\"/PRO/BD   Pelvis w&w/oCon\",\"/PRO/BD   Pelvis w&w/oCon\"]},\"selected\":{\"id\":\"1832\"},\"selection_policy\":{\"id\":\"1833\"}},\"id\":\"1785\",\"type\":\"ColumnDataSource\"},{\"attributes\":{\"url\":\"@ohif_url\"},\"id\":\"1847\",\"type\":\"OpenURL\"},{\"attributes\":{\"active_multi\":null,\"tools\":[{\"id\":\"1752\"},{\"id\":\"1753\"},{\"id\":\"1754\"},{\"id\":\"1755\"},{\"id\":\"1756\"},{\"id\":\"1757\"}]},\"id\":\"1777\",\"type\":\"Toolbar\"},{\"attributes\":{},\"id\":\"1842\",\"type\":\"Selection\"},{\"attributes\":{},\"id\":\"1843\",\"type\":\"UnionRenderers\"},{\"attributes\":{},\"id\":\"1827\",\"type\":\"BasicTickFormatter\"},{\"attributes\":{\"data\":{\"bottom\":{\"__ndarray__\":\"MpHSbB4bKEBIFcWrrD0iQA==\",\"dtype\":\"float64\",\"order\":\"little\",\"shape\":[2]},\"fill_color\":[\"#ff0000\",\"#04b404\"],\"legend\":[\"PZ\",\"Prostate\"],\"top\":{\"__ndarray__\":\"Km1xjc8+PkC4BUt1AQElQA==\",\"dtype\":\"float64\",\"order\":\"little\",\"shape\":[2]},\"x\":[\"PZ\",\"Prostate\"]},\"selected\":{\"id\":\"1838\"},\"selection_policy\":{\"id\":\"1839\"}},\"id\":\"1791\",\"type\":\"ColumnDataSource\"},{\"attributes\":{},\"id\":\"1828\",\"type\":\"AllLabels\"},{\"attributes\":{},\"id\":\"1767\",\"type\":\"LinearScale\"},{\"attributes\":{},\"id\":\"1765\",\"type\":\"CategoricalScale\"},{\"attributes\":{\"text\":\"Hausdorff distance of nnUNet predictions per label\"},\"id\":\"1759\",\"type\":\"Title\"},{\"attributes\":{\"data\":{\"bottom\":{\"__ndarray__\":\"jUP9LmxDIkAt0O6QYgAcQA==\",\"dtype\":\"float64\",\"order\":\"little\",\"shape\":[2]},\"fill_color\":[\"#ff0000\",\"#04b404\"],\"top\":{\"__ndarray__\":\"MpHSbB4bKEBIFcWrrD0iQA==\",\"dtype\":\"float64\",\"order\":\"little\",\"shape\":[2]},\"x\":[\"PZ\",\"Prostate\"]},\"selected\":{\"id\":\"1840\"},\"selection_policy\":{\"id\":\"1841\"}},\"id\":\"1792\",\"type\":\"ColumnDataSource\"},{\"attributes\":{\"bottom_units\":\"screen\",\"fill_alpha\":0.5,\"fill_color\":\"lightgrey\",\"left_units\":\"screen\",\"level\":\"overlay\",\"line_alpha\":1.0,\"line_color\":\"black\",\"line_dash\":[4,4],\"line_width\":2,\"right_units\":\"screen\",\"syncable\":false,\"top_units\":\"screen\"},\"id\":\"1776\",\"type\":\"BoxAnnotation\"},{\"attributes\":{\"fill_alpha\":{\"value\":0.1},\"fill_color\":{\"field\":\"colors\"},\"line_alpha\":{\"value\":0.1},\"line_color\":{\"field\":\"colors\"},\"x\":{\"field\":\"regions\",\"transform\":{\"id\":\"1784\"}},\"y\":{\"field\":\"hausdorff_dist\"}},\"id\":\"1788\",\"type\":\"Circle\"},{\"attributes\":{\"data\":{\"x0\":[\"PZ\",\"Prostate\"],\"x1\":[\"PZ\",\"Prostate\"],\"y0\":{\"__ndarray__\":\"IM8u3zr1TkAqcoi4OYIvQA==\",\"dtype\":\"float64\",\"order\":\"little\",\"shape\":[2]},\"y1\":{\"__ndarray__\":\"Km1xjc8+PkC4BUt1AQElQA==\",\"dtype\":\"float64\",\"order\":\"little\",\"shape\":[2]}},\"selected\":{\"id\":\"1834\"},\"selection_policy\":{\"id\":\"1835\"}},\"id\":\"1793\",\"type\":\"ColumnDataSource\"},{\"attributes\":{\"range\":{\"id\":\"1761\"},\"width\":0.6},\"id\":\"1784\",\"type\":\"Jitter\"},{\"attributes\":{},\"id\":\"1763\",\"type\":\"DataRange1d\"},{\"attributes\":{\"line_alpha\":{\"value\":0.1},\"x0\":{\"field\":\"x0\"},\"x1\":{\"field\":\"x1\"},\"y0\":{\"field\":\"y0\"},\"y1\":{\"field\":\"y1\"}},\"id\":\"1795\",\"type\":\"Segment\"},{\"attributes\":{\"x0\":{\"field\":\"x0\"},\"x1\":{\"field\":\"x1\"},\"y0\":{\"field\":\"y0\"},\"y1\":{\"field\":\"y1\"}},\"id\":\"1794\",\"type\":\"Segment\"},{\"attributes\":{\"axis\":{\"id\":\"1769\"},\"grid_line_color\":null,\"grid_line_width\":2,\"ticker\":null},\"id\":\"1771\",\"type\":\"Grid\"},{\"attributes\":{\"axis_label\":\"label\",\"formatter\":{\"id\":\"1830\"},\"major_label_orientation\":0.7853981633974483,\"major_label_policy\":{\"id\":\"1831\"},\"major_label_text_font_size\":\"0pt\",\"ticker\":{\"id\":\"1770\"}},\"id\":\"1769\",\"type\":\"CategoricalAxis\"},{\"attributes\":{\"factors\":[\"PZ\",\"Prostate\"]},\"id\":\"1761\",\"type\":\"FactorRange\"},{\"attributes\":{\"fill_color\":{\"field\":\"colors\"},\"line_color\":{\"field\":\"colors\"},\"x\":{\"field\":\"regions\",\"transform\":{\"id\":\"1784\"}},\"y\":{\"field\":\"hausdorff_dist\"}},\"id\":\"1787\",\"type\":\"Circle\"},{\"attributes\":{\"x0\":{\"field\":\"x0\"},\"x1\":{\"field\":\"x1\"},\"y0\":{\"field\":\"y0\"},\"y1\":{\"field\":\"y1\"}},\"id\":\"1799\",\"type\":\"Segment\"},{\"attributes\":{},\"id\":\"1770\",\"type\":\"CategoricalTicker\"},{\"attributes\":{\"data\":{\"x0\":[\"PZ\",\"Prostate\"],\"x1\":[\"PZ\",\"Prostate\"],\"y0\":{\"__ndarray__\":\"UI9tGfCJNsAk3c8pyPf7Pw==\",\"dtype\":\"float64\",\"order\":\"little\",\"shape\":[2]},\"y1\":{\"__ndarray__\":\"jUP9LmxDIkAt0O6QYgAcQA==\",\"dtype\":\"float64\",\"order\":\"little\",\"shape\":[2]}},\"selected\":{\"id\":\"1836\"},\"selection_policy\":{\"id\":\"1837\"}},\"id\":\"1798\",\"type\":\"ColumnDataSource\"},{\"attributes\":{\"callback\":{\"id\":\"1847\"}},\"id\":\"1756\",\"type\":\"TapTool\"},{\"attributes\":{\"data_source\":{\"id\":\"1793\"},\"glyph\":{\"id\":\"1794\"},\"hover_glyph\":null,\"muted_glyph\":null,\"nonselection_glyph\":{\"id\":\"1795\"},\"view\":{\"id\":\"1797\"}},\"id\":\"1796\",\"type\":\"GlyphRenderer\"},{\"attributes\":{},\"id\":\"1757\",\"type\":\"PanTool\"},{\"attributes\":{\"source\":{\"id\":\"1793\"}},\"id\":\"1797\",\"type\":\"CDSView\"},{\"attributes\":{},\"id\":\"1755\",\"type\":\"ResetTool\"},{\"attributes\":{\"bottom\":{\"field\":\"bottom\"},\"fill_color\":{\"field\":\"fill_color\"},\"top\":{\"field\":\"top\"},\"width\":{\"value\":0.7},\"x\":{\"field\":\"x\"}},\"id\":\"1804\",\"type\":\"VBar\"},{\"attributes\":{},\"id\":\"1830\",\"type\":\"CategoricalTickFormatter\"},{\"attributes\":{\"callback\":null,\"tooltips\":[[\"(hausdorff_dist)\",\"($y)\"]]},\"id\":\"1752\",\"type\":\"HoverTool\"},{\"attributes\":{\"line_alpha\":{\"value\":0.1},\"x0\":{\"field\":\"x0\"},\"x1\":{\"field\":\"x1\"},\"y0\":{\"field\":\"y0\"},\"y1\":{\"field\":\"y1\"}},\"id\":\"1800\",\"type\":\"Segment\"},{\"attributes\":{},\"id\":\"1831\",\"type\":\"AllLabels\"},{\"attributes\":{\"overlay\":{\"id\":\"1776\"}},\"id\":\"1754\",\"type\":\"BoxZoomTool\"},{\"attributes\":{},\"id\":\"1753\",\"type\":\"WheelZoomTool\"},{\"attributes\":{\"bottom\":{\"field\":\"bottom\"},\"fill_alpha\":{\"value\":0.1},\"fill_color\":{\"field\":\"fill_color\"},\"line_alpha\":{\"value\":0.1},\"top\":{\"field\":\"top\"},\"width\":{\"value\":0.7},\"x\":{\"field\":\"x\"}},\"id\":\"1810\",\"type\":\"VBar\"},{\"attributes\":{},\"id\":\"1845\",\"type\":\"UnionRenderers\"},{\"attributes\":{\"source\":{\"id\":\"1791\"}},\"id\":\"1807\",\"type\":\"CDSView\"},{\"attributes\":{\"data_source\":{\"id\":\"1798\"},\"glyph\":{\"id\":\"1799\"},\"hover_glyph\":null,\"muted_glyph\":null,\"nonselection_glyph\":{\"id\":\"1800\"},\"view\":{\"id\":\"1802\"}},\"id\":\"1801\",\"type\":\"GlyphRenderer\"},{\"attributes\":{\"source\":{\"id\":\"1798\"}},\"id\":\"1802\",\"type\":\"CDSView\"},{\"attributes\":{\"bottom\":{\"field\":\"bottom\"},\"fill_alpha\":{\"value\":0.1},\"fill_color\":{\"field\":\"fill_color\"},\"line_alpha\":{\"value\":0.1},\"top\":{\"field\":\"top\"},\"width\":{\"value\":0.7},\"x\":{\"field\":\"x\"}},\"id\":\"1805\",\"type\":\"VBar\"},{\"attributes\":{\"bottom\":{\"field\":\"bottom\"},\"fill_color\":{\"field\":\"fill_color\"},\"top\":{\"field\":\"top\"},\"width\":{\"value\":0.7},\"x\":{\"field\":\"x\"}},\"id\":\"1809\",\"type\":\"VBar\"},{\"attributes\":{\"source\":{\"id\":\"1792\"}},\"id\":\"1812\",\"type\":\"CDSView\"},{\"attributes\":{\"data_source\":{\"id\":\"1791\"},\"glyph\":{\"id\":\"1804\"},\"hover_glyph\":null,\"muted_glyph\":null,\"nonselection_glyph\":{\"id\":\"1805\"},\"view\":{\"id\":\"1807\"}},\"id\":\"1806\",\"type\":\"GlyphRenderer\"},{\"attributes\":{\"fill_alpha\":{\"value\":0.1},\"fill_color\":{\"value\":\"#1f77b4\"},\"height\":{\"value\":1e-06},\"line_alpha\":{\"value\":0.1},\"width\":{\"value\":0.2},\"x\":{\"field\":\"x\"},\"y\":{\"field\":\"y\"}},\"id\":\"1815\",\"type\":\"Rect\"},{\"attributes\":{\"fill_color\":{\"value\":\"#1f77b4\"},\"height\":{\"value\":1e-06},\"width\":{\"value\":0.2},\"x\":{\"field\":\"x\"},\"y\":{\"field\":\"y\"}},\"id\":\"1814\",\"type\":\"Rect\"},{\"attributes\":{\"data\":{\"x\":[\"PZ\",\"Prostate\"],\"y\":{\"__ndarray__\":\"UI9tGfCJNsAk3c8pyPf7Pw==\",\"dtype\":\"float64\",\"order\":\"little\",\"shape\":[2]}},\"selected\":{\"id\":\"1842\"},\"selection_policy\":{\"id\":\"1843\"}},\"id\":\"1813\",\"type\":\"ColumnDataSource\"},{\"attributes\":{\"fill_alpha\":{\"value\":0.1},\"fill_color\":{\"value\":\"#1f77b4\"},\"height\":{\"value\":1e-06},\"line_alpha\":{\"value\":0.1},\"width\":{\"value\":0.2},\"x\":{\"field\":\"x\"},\"y\":{\"field\":\"y\"}},\"id\":\"1820\",\"type\":\"Rect\"},{\"attributes\":{\"data_source\":{\"id\":\"1792\"},\"glyph\":{\"id\":\"1809\"},\"hover_glyph\":null,\"muted_glyph\":null,\"nonselection_glyph\":{\"id\":\"1810\"},\"view\":{\"id\":\"1812\"}},\"id\":\"1811\",\"type\":\"GlyphRenderer\"},{\"attributes\":{\"label\":{\"field\":\"x\"},\"renderers\":[{\"id\":\"1806\"}]},\"id\":\"1823\",\"type\":\"LegendItem\"},{\"attributes\":{},\"id\":\"1844\",\"type\":\"Selection\"},{\"attributes\":{\"fill_color\":{\"value\":\"#1f77b4\"},\"height\":{\"value\":1e-06},\"width\":{\"value\":0.2},\"x\":{\"field\":\"x\"},\"y\":{\"field\":\"y\"}},\"id\":\"1819\",\"type\":\"Rect\"},{\"attributes\":{\"data\":{\"x\":[\"PZ\",\"Prostate\"],\"y\":{\"__ndarray__\":\"IM8u3zr1TkAqcoi4OYIvQA==\",\"dtype\":\"float64\",\"order\":\"little\",\"shape\":[2]}},\"selected\":{\"id\":\"1844\"},\"selection_policy\":{\"id\":\"1845\"}},\"id\":\"1818\",\"type\":\"ColumnDataSource\"},{\"attributes\":{\"items\":[{\"id\":\"1823\"}],\"location\":[100,10]},\"id\":\"1824\",\"type\":\"Legend\"},{\"attributes\":{\"data_source\":{\"id\":\"1813\"},\"glyph\":{\"id\":\"1814\"},\"hover_glyph\":null,\"muted_glyph\":null,\"nonselection_glyph\":{\"id\":\"1815\"},\"view\":{\"id\":\"1817\"}},\"id\":\"1816\",\"type\":\"GlyphRenderer\"},{\"attributes\":{\"source\":{\"id\":\"1813\"}},\"id\":\"1817\",\"type\":\"CDSView\"},{\"attributes\":{\"data_source\":{\"id\":\"1818\"},\"glyph\":{\"id\":\"1819\"},\"hover_glyph\":null,\"muted_glyph\":null,\"nonselection_glyph\":{\"id\":\"1820\"},\"view\":{\"id\":\"1822\"}},\"id\":\"1821\",\"type\":\"GlyphRenderer\"},{\"attributes\":{\"source\":{\"id\":\"1785\"}},\"id\":\"1790\",\"type\":\"CDSView\"},{\"attributes\":{\"source\":{\"id\":\"1818\"}},\"id\":\"1822\",\"type\":\"CDSView\"},{\"attributes\":{\"data_source\":{\"id\":\"1785\"},\"glyph\":{\"id\":\"1787\"},\"hover_glyph\":null,\"muted_glyph\":null,\"nonselection_glyph\":{\"id\":\"1788\"},\"view\":{\"id\":\"1790\"}},\"id\":\"1789\",\"type\":\"GlyphRenderer\"},{\"attributes\":{},\"id\":\"1832\",\"type\":\"Selection\"},{\"attributes\":{},\"id\":\"1833\",\"type\":\"UnionRenderers\"}],\"root_ids\":[\"1758\"]},\"title\":\"Bokeh Application\",\"version\":\"2.3.3\"}};\n",
              "  var render_items = [{\"docid\":\"b6bf49c1-5590-415c-8919-6fff24378ee0\",\"root_ids\":[\"1758\"],\"roots\":{\"1758\":\"99aca0b5-7347-4ff3-a02d-19fa42448026\"}}];\n",
              "  root.Bokeh.embed.embed_items_notebook(docs_json, render_items);\n",
              "\n",
              "  }\n",
              "  if (root.Bokeh !== undefined) {\n",
              "    embed_document(root);\n",
              "  } else {\n",
              "    var attempts = 0;\n",
              "    var timer = setInterval(function(root) {\n",
              "      if (root.Bokeh !== undefined) {\n",
              "        clearInterval(timer);\n",
              "        embed_document(root);\n",
              "      } else {\n",
              "        attempts++;\n",
              "        if (attempts > 100) {\n",
              "          clearInterval(timer);\n",
              "          console.log(\"Bokeh: ERROR: Unable to run BokehJS code because BokehJS library is missing\");\n",
              "        }\n",
              "      }\n",
              "    }, 10, root)\n",
              "  }\n",
              "})(window);"
            ],
            "application/vnd.bokehjs_exec.v0+json": ""
          },
          "metadata": {
            "application/vnd.bokehjs_exec.v0+json": {
              "id": "1758"
            }
          }
        }
      ]
    },
    {
      "cell_type": "markdown",
      "source": [
        "## Regression plots"
      ],
      "metadata": {
        "id": "fMJYJar--6la"
      }
    },
    {
      "cell_type": "markdown",
      "source": [
        "### PZ - hausdorff dist against dice_score"
      ],
      "metadata": {
        "id": "IO0ufIil_Jvh"
      }
    },
    {
      "cell_type": "code",
      "source": [
        "# ax=gt_pz_selection_df.plot.scatter(x='hausdorff_dist', y='dice_score')\n",
        "# gt_pz_selection_df.plot(x='hausdorff_dist',y='dice_score',legend=True,ax=ax)\n",
        "sns.regplot(gt_pz_selection_df['hausdorff_dist'],gt_pz_selection_df['dice_score'])"
      ],
      "metadata": {
        "colab": {
          "base_uri": "https://localhost:8080/",
          "height": 387
        },
        "id": "EvK2FDdX-2l-",
        "outputId": "9f6e54ca-f4be-4f83-99f3-120a619a88fd"
      },
      "execution_count": null,
      "outputs": [
        {
          "output_type": "stream",
          "name": "stderr",
          "text": [
            "/usr/local/lib/python3.8/dist-packages/seaborn/_decorators.py:36: FutureWarning:\n",
            "\n",
            "Pass the following variables as keyword args: x, y. From version 0.12, the only valid positional argument will be `data`, and passing other arguments without an explicit keyword will result in an error or misinterpretation.\n",
            "\n"
          ]
        },
        {
          "output_type": "execute_result",
          "data": {
            "text/plain": [
              "<matplotlib.axes._subplots.AxesSubplot at 0x7fe915c279a0>"
            ]
          },
          "metadata": {},
          "execution_count": 104
        },
        {
          "output_type": "display_data",
          "data": {
            "text/plain": [
              "<Figure size 432x288 with 1 Axes>"
            ],
            "image/png": "[encoded data removed]"
          },
          "metadata": {
            "needs_background": "light"
          }
        }
      ]
    },
    {
      "cell_type": "code",
      "source": [
        "print(f\"Qin-Prostate-Repeatability : Average dice score for Peripheral Zone : {round(np.average(df_all[df_all.regions == 'PZ'].dice_score), 2)}\")\n",
        "print(f\"Qin-Prostate-Repeatability : Average dice score for Whole Prostate Gland : {round(np.average(df_all[df_all.regions == 'Prostate'].dice_score), 2)}\")"
      ],
      "metadata": {
        "colab": {
          "base_uri": "https://localhost:8080/"
        },
        "id": "JnaxwEXh331U",
        "outputId": "a4ea791d-0424-4e99-fb3f-5d3cd9b14a04"
      },
      "execution_count": null,
      "outputs": [
        {
          "output_type": "stream",
          "name": "stdout",
          "text": [
            "Qin-Prostate-Repeatability : Average dice score for Peripheral Zone : 0.51\n",
            "Qin-Prostate-Repeatability : Average dice score for Whole Prostate Gland : 0.85\n"
          ]
        }
      ]
    },
    {
      "cell_type": "code",
      "source": [
        "df_all.info()"
      ],
      "metadata": {
        "colab": {
          "base_uri": "https://localhost:8080/"
        },
        "id": "d2Rf4yp4Cg5J",
        "outputId": "627ea3b4-1b5a-4849-fae3-0619e8994e66"
      },
      "execution_count": null,
      "outputs": [
        {
          "output_type": "stream",
          "name": "stdout",
          "text": [
            "<class 'pandas.core.frame.DataFrame'>\n",
            "Int64Index: 60 entries, 0 to 29\n",
            "Data columns (total 26 columns):\n",
            " #   Column                       Non-Null Count  Dtype   \n",
            "---  ------                       --------------  -----   \n",
            " 0   ReferencedSeriesInstanceUID  60 non-null     object  \n",
            " 1   StudyInstanceUID             60 non-null     object  \n",
            " 2   patientID                    60 non-null     object  \n",
            " 3   SOPClassUID                  60 non-null     object  \n",
            " 4   SOPInstanceUID               60 non-null     object  \n",
            " 5   SeriesInstanceUID            60 non-null     object  \n",
            " 6   Modality                     60 non-null     object  \n",
            " 7   SeriesDescription            60 non-null     object  \n",
            " 8   studydesc                    60 non-null     object  \n",
            " 9   series_time                  60 non-null     object  \n",
            " 10  study_time                   60 non-null     object  \n",
            " 11  series_date                  60 non-null     object  \n",
            " 12  study_date                   60 non-null     object  \n",
            " 13  ohif_url                     60 non-null     object  \n",
            " 14  cloud_storage_path           60 non-null     object  \n",
            " 15  segment                      60 non-null     object  \n",
            " 16  PatientID                    60 non-null     object  \n",
            " 17  studyUID                     60 non-null     object  \n",
            " 18  serieUID                     60 non-null     object  \n",
            " 19  RefSerieUID                  60 non-null     object  \n",
            " 20  dice_score                   60 non-null     float64 \n",
            " 21  center_mass_pred             60 non-null     object  \n",
            " 22  center_mass_ref              60 non-null     object  \n",
            " 23  hausdorff_dist               60 non-null     float64 \n",
            " 24  regions                      60 non-null     category\n",
            " 25  colors                       60 non-null     object  \n",
            "dtypes: category(1), float64(2), object(23)\n",
            "memory usage: 12.4+ KB\n"
          ]
        }
      ]
    },
    {
      "cell_type": "code",
      "source": [
        "df_all[df_all.StudyInstanceUID == '1.3.6.1.4.1.14519.5.2.1.3671.4754.298665348758363466150039312520'][['dice_score', 'center_mass_pred', 'center_mass_ref', 'hausdorff_dist', 'segment', 'patientID']]"
      ],
      "metadata": {
        "colab": {
          "base_uri": "https://localhost:8080/",
          "height": 112
        },
        "id": "_mk8dWsZCbzk",
        "outputId": "b885ef81-1795-407e-a1df-fc5eb3ad7e12"
      },
      "execution_count": null,
      "outputs": [
        {
          "output_type": "execute_result",
          "data": {
            "text/plain": [
              "   dice_score           center_mass_pred           center_mass_ref  \\\n",
              "9    0.000000  -31.2915 -15.0526 14.7528  -24.0031 39.1036 16.9828   \n",
              "8    0.872965   -27.6816 20.3551 11.8506  -27.8739 21.6619 10.6853   \n",
              "\n",
              "   hausdorff_dist   segment       patientID  \n",
              "9       57.671757        PZ  PCAMPMRI-00012  \n",
              "8       14.000000  prostate  PCAMPMRI-00012  "
            ],
            "text/html": [
              "\n",
              "  <div id=\"df-ba5b5857-ca46-48a4-9175-2ca7f9099dbd\">\n",
              "    <div class=\"colab-df-container\">\n",
              "      <div>\n",
              "<style scoped>\n",
              "    .dataframe tbody tr th:only-of-type {\n",
              "        vertical-align: middle;\n",
              "    }\n",
              "\n",
              "    .dataframe tbody tr th {\n",
              "        vertical-align: top;\n",
              "    }\n",
              "\n",
              "    .dataframe thead th {\n",
              "        text-align: right;\n",
              "    }\n",
              "</style>\n",
              "<table border=\"1\" class=\"dataframe\">\n",
              "  <thead>\n",
              "    <tr style=\"text-align: right;\">\n",
              "      <th></th>\n",
              "      <th>dice_score</th>\n",
              "      <th>center_mass_pred</th>\n",
              "      <th>center_mass_ref</th>\n",
              "      <th>hausdorff_dist</th>\n",
              "      <th>segment</th>\n",
              "      <th>patientID</th>\n",
              "    </tr>\n",
              "  </thead>\n",
              "  <tbody>\n",
              "    <tr>\n",
              "      <th>9</th>\n",
              "      <td>0.000000</td>\n",
              "      <td>-31.2915 -15.0526 14.7528</td>\n",
              "      <td>-24.0031 39.1036 16.9828</td>\n",
              "      <td>57.671757</td>\n",
              "      <td>PZ</td>\n",
              "      <td>PCAMPMRI-00012</td>\n",
              "    </tr>\n",
              "    <tr>\n",
              "      <th>8</th>\n",
              "      <td>0.872965</td>\n",
              "      <td>-27.6816 20.3551 11.8506</td>\n",
              "      <td>-27.8739 21.6619 10.6853</td>\n",
              "      <td>14.000000</td>\n",
              "      <td>prostate</td>\n",
              "      <td>PCAMPMRI-00012</td>\n",
              "    </tr>\n",
              "  </tbody>\n",
              "</table>\n",
              "</div>\n",
              "      <button class=\"colab-df-convert\" onclick=\"convertToInteractive('df-ba5b5857-ca46-48a4-9175-2ca7f9099dbd')\"\n",
              "              title=\"Convert this dataframe to an interactive table.\"\n",
              "              style=\"display:none;\">\n",
              "        \n",
              "  <svg xmlns=\"http://www.w3.org/2000/svg\" height=\"24px\"viewBox=\"0 0 24 24\"\n",
              "       width=\"24px\">\n",
              "    <path d=\"M0 0h24v24H0V0z\" fill=\"none\"/>\n",
              "    <path d=\"M18.56 5.44l.94 2.06.94-2.06 2.06-.94-2.06-.94-.94-2.06-.94 2.06-2.06.94zm-11 1L8.5 8.5l.94-2.06 2.06-.94-2.06-.94L8.5 2.5l-.94 2.06-2.06.94zm10 10l.94 2.06.94-2.06 2.06-.94-2.06-.94-.94-2.06-.94 2.06-2.06.94z\"/><path d=\"M17.41 7.96l-1.37-1.37c-.4-.4-.92-.59-1.43-.59-.52 0-1.04.2-1.43.59L10.3 9.45l-7.72 7.72c-.78.78-.78 2.05 0 2.83L4 21.41c.39.39.9.59 1.41.59.51 0 1.02-.2 1.41-.59l7.78-7.78 2.81-2.81c.8-.78.8-2.07 0-2.86zM5.41 20L4 18.59l7.72-7.72 1.47 1.35L5.41 20z\"/>\n",
              "  </svg>\n",
              "      </button>\n",
              "      \n",
              "  <style>\n",
              "    .colab-df-container {\n",
              "      display:flex;\n",
              "      flex-wrap:wrap;\n",
              "      gap: 12px;\n",
              "    }\n",
              "\n",
              "    .colab-df-convert {\n",
              "      background-color: #E8F0FE;\n",
              "      border: none;\n",
              "      border-radius: 50%;\n",
              "      cursor: pointer;\n",
              "      display: none;\n",
              "      fill: #1967D2;\n",
              "      height: 32px;\n",
              "      padding: 0 0 0 0;\n",
              "      width: 32px;\n",
              "    }\n",
              "\n",
              "    .colab-df-convert:hover {\n",
              "      background-color: #E2EBFA;\n",
              "      box-shadow: 0px 1px 2px rgba(60, 64, 67, 0.3), 0px 1px 3px 1px rgba(60, 64, 67, 0.15);\n",
              "      fill: #174EA6;\n",
              "    }\n",
              "\n",
              "    [theme=dark] .colab-df-convert {\n",
              "      background-color: #3B4455;\n",
              "      fill: #D2E3FC;\n",
              "    }\n",
              "\n",
              "    [theme=dark] .colab-df-convert:hover {\n",
              "      background-color: #434B5C;\n",
              "      box-shadow: 0px 1px 3px 1px rgba(0, 0, 0, 0.15);\n",
              "      filter: drop-shadow(0px 1px 2px rgba(0, 0, 0, 0.3));\n",
              "      fill: #FFFFFF;\n",
              "    }\n",
              "  </style>\n",
              "\n",
              "      <script>\n",
              "        const buttonEl =\n",
              "          document.querySelector('#df-ba5b5857-ca46-48a4-9175-2ca7f9099dbd button.colab-df-convert');\n",
              "        buttonEl.style.display =\n",
              "          google.colab.kernel.accessAllowed ? 'block' : 'none';\n",
              "\n",
              "        async function convertToInteractive(key) {\n",
              "          const element = document.querySelector('#df-ba5b5857-ca46-48a4-9175-2ca7f9099dbd');\n",
              "          const dataTable =\n",
              "            await google.colab.kernel.invokeFunction('convertToInteractive',\n",
              "                                                     [key], {});\n",
              "          if (!dataTable) return;\n",
              "\n",
              "          const docLinkHtml = 'Like what you see? Visit the ' +\n",
              "            '<a target=\"_blank\" href=https://colab.research.google.com/notebooks/data_table.ipynb>data table notebook</a>'\n",
              "            + ' to learn more about interactive tables.';\n",
              "          element.innerHTML = '';\n",
              "          dataTable['output_type'] = 'display_data';\n",
              "          await google.colab.output.renderOutput(dataTable, element);\n",
              "          const docLink = document.createElement('div');\n",
              "          docLink.innerHTML = docLinkHtml;\n",
              "          element.appendChild(docLink);\n",
              "        }\n",
              "      </script>\n",
              "    </div>\n",
              "  </div>\n",
              "  "
            ]
          },
          "metadata": {},
          "execution_count": 107
        }
      ]
    },
    {
      "cell_type": "code",
      "source": [
        "df_all[df_all.patientID == 'PCAMPMRI-00014'][['dice_score', 'center_mass_pred', 'center_mass_ref', 'hausdorff_dist', 'segment', 'patientID', 'StudyInstanceUID']]"
      ],
      "metadata": {
        "colab": {
          "base_uri": "https://localhost:8080/",
          "height": 175
        },
        "id": "xM2Ek-KtHhY-",
        "outputId": "db3da5e0-8f92-4ace-b38a-cf75b595e8e8"
      },
      "execution_count": null,
      "outputs": [
        {
          "output_type": "execute_result",
          "data": {
            "text/plain": [
              "    dice_score           center_mass_pred            center_mass_ref  \\\n",
              "12    0.490590  -53.7418 25.8729 -79.3568  -39.5494 26.6038 -75.5417   \n",
              "13    0.723094    15.4246 31.8179 -14.178   15.7361 32.1181 -12.1905   \n",
              "12    0.722186   15.0926 27.6339 -9.18437   15.4043 29.1591 -13.3879   \n",
              "13    0.801746  -39.1348 21.4024 -74.4854  -38.7469 23.4971 -76.3126   \n",
              "\n",
              "    hausdorff_dist   segment       patientID  \\\n",
              "12       26.250898        PZ  PCAMPMRI-00014   \n",
              "13        7.698456        PZ  PCAMPMRI-00014   \n",
              "12       14.000000  prostate  PCAMPMRI-00014   \n",
              "13        8.716873  prostate  PCAMPMRI-00014   \n",
              "\n",
              "                                     StudyInstanceUID  \n",
              "12  1.3.6.1.4.1.14519.5.2.1.3671.4754.288453744990...  \n",
              "13  1.3.6.1.4.1.14519.5.2.1.3671.4754.194890890650...  \n",
              "12  1.3.6.1.4.1.14519.5.2.1.3671.4754.194890890650...  \n",
              "13  1.3.6.1.4.1.14519.5.2.1.3671.4754.288453744990...  "
            ],
            "text/html": [
              "\n",
              "  <div id=\"df-8fba1d79-6af4-4676-b5ae-9fbe7cf3f15f\">\n",
              "    <div class=\"colab-df-container\">\n",
              "      <div>\n",
              "<style scoped>\n",
              "    .dataframe tbody tr th:only-of-type {\n",
              "        vertical-align: middle;\n",
              "    }\n",
              "\n",
              "    .dataframe tbody tr th {\n",
              "        vertical-align: top;\n",
              "    }\n",
              "\n",
              "    .dataframe thead th {\n",
              "        text-align: right;\n",
              "    }\n",
              "</style>\n",
              "<table border=\"1\" class=\"dataframe\">\n",
              "  <thead>\n",
              "    <tr style=\"text-align: right;\">\n",
              "      <th></th>\n",
              "      <th>dice_score</th>\n",
              "      <th>center_mass_pred</th>\n",
              "      <th>center_mass_ref</th>\n",
              "      <th>hausdorff_dist</th>\n",
              "      <th>segment</th>\n",
              "      <th>patientID</th>\n",
              "      <th>StudyInstanceUID</th>\n",
              "    </tr>\n",
              "  </thead>\n",
              "  <tbody>\n",
              "    <tr>\n",
              "      <th>12</th>\n",
              "      <td>0.490590</td>\n",
              "      <td>-53.7418 25.8729 -79.3568</td>\n",
              "      <td>-39.5494 26.6038 -75.5417</td>\n",
              "      <td>26.250898</td>\n",
              "      <td>PZ</td>\n",
              "      <td>PCAMPMRI-00014</td>\n",
              "      <td>1.3.6.1.4.1.14519.5.2.1.3671.4754.288453744990...</td>\n",
              "    </tr>\n",
              "    <tr>\n",
              "      <th>13</th>\n",
              "      <td>0.723094</td>\n",
              "      <td>15.4246 31.8179 -14.178</td>\n",
              "      <td>15.7361 32.1181 -12.1905</td>\n",
              "      <td>7.698456</td>\n",
              "      <td>PZ</td>\n",
              "      <td>PCAMPMRI-00014</td>\n",
              "      <td>1.3.6.1.4.1.14519.5.2.1.3671.4754.194890890650...</td>\n",
              "    </tr>\n",
              "    <tr>\n",
              "      <th>12</th>\n",
              "      <td>0.722186</td>\n",
              "      <td>15.0926 27.6339 -9.18437</td>\n",
              "      <td>15.4043 29.1591 -13.3879</td>\n",
              "      <td>14.000000</td>\n",
              "      <td>prostate</td>\n",
              "      <td>PCAMPMRI-00014</td>\n",
              "      <td>1.3.6.1.4.1.14519.5.2.1.3671.4754.194890890650...</td>\n",
              "    </tr>\n",
              "    <tr>\n",
              "      <th>13</th>\n",
              "      <td>0.801746</td>\n",
              "      <td>-39.1348 21.4024 -74.4854</td>\n",
              "      <td>-38.7469 23.4971 -76.3126</td>\n",
              "      <td>8.716873</td>\n",
              "      <td>prostate</td>\n",
              "      <td>PCAMPMRI-00014</td>\n",
              "      <td>1.3.6.1.4.1.14519.5.2.1.3671.4754.288453744990...</td>\n",
              "    </tr>\n",
              "  </tbody>\n",
              "</table>\n",
              "</div>\n",
              "      <button class=\"colab-df-convert\" onclick=\"convertToInteractive('df-8fba1d79-6af4-4676-b5ae-9fbe7cf3f15f')\"\n",
              "              title=\"Convert this dataframe to an interactive table.\"\n",
              "              style=\"display:none;\">\n",
              "        \n",
              "  <svg xmlns=\"http://www.w3.org/2000/svg\" height=\"24px\"viewBox=\"0 0 24 24\"\n",
              "       width=\"24px\">\n",
              "    <path d=\"M0 0h24v24H0V0z\" fill=\"none\"/>\n",
              "    <path d=\"M18.56 5.44l.94 2.06.94-2.06 2.06-.94-2.06-.94-.94-2.06-.94 2.06-2.06.94zm-11 1L8.5 8.5l.94-2.06 2.06-.94-2.06-.94L8.5 2.5l-.94 2.06-2.06.94zm10 10l.94 2.06.94-2.06 2.06-.94-2.06-.94-.94-2.06-.94 2.06-2.06.94z\"/><path d=\"M17.41 7.96l-1.37-1.37c-.4-.4-.92-.59-1.43-.59-.52 0-1.04.2-1.43.59L10.3 9.45l-7.72 7.72c-.78.78-.78 2.05 0 2.83L4 21.41c.39.39.9.59 1.41.59.51 0 1.02-.2 1.41-.59l7.78-7.78 2.81-2.81c.8-.78.8-2.07 0-2.86zM5.41 20L4 18.59l7.72-7.72 1.47 1.35L5.41 20z\"/>\n",
              "  </svg>\n",
              "      </button>\n",
              "      \n",
              "  <style>\n",
              "    .colab-df-container {\n",
              "      display:flex;\n",
              "      flex-wrap:wrap;\n",
              "      gap: 12px;\n",
              "    }\n",
              "\n",
              "    .colab-df-convert {\n",
              "      background-color: #E8F0FE;\n",
              "      border: none;\n",
              "      border-radius: 50%;\n",
              "      cursor: pointer;\n",
              "      display: none;\n",
              "      fill: #1967D2;\n",
              "      height: 32px;\n",
              "      padding: 0 0 0 0;\n",
              "      width: 32px;\n",
              "    }\n",
              "\n",
              "    .colab-df-convert:hover {\n",
              "      background-color: #E2EBFA;\n",
              "      box-shadow: 0px 1px 2px rgba(60, 64, 67, 0.3), 0px 1px 3px 1px rgba(60, 64, 67, 0.15);\n",
              "      fill: #174EA6;\n",
              "    }\n",
              "\n",
              "    [theme=dark] .colab-df-convert {\n",
              "      background-color: #3B4455;\n",
              "      fill: #D2E3FC;\n",
              "    }\n",
              "\n",
              "    [theme=dark] .colab-df-convert:hover {\n",
              "      background-color: #434B5C;\n",
              "      box-shadow: 0px 1px 3px 1px rgba(0, 0, 0, 0.15);\n",
              "      filter: drop-shadow(0px 1px 2px rgba(0, 0, 0, 0.3));\n",
              "      fill: #FFFFFF;\n",
              "    }\n",
              "  </style>\n",
              "\n",
              "      <script>\n",
              "        const buttonEl =\n",
              "          document.querySelector('#df-8fba1d79-6af4-4676-b5ae-9fbe7cf3f15f button.colab-df-convert');\n",
              "        buttonEl.style.display =\n",
              "          google.colab.kernel.accessAllowed ? 'block' : 'none';\n",
              "\n",
              "        async function convertToInteractive(key) {\n",
              "          const element = document.querySelector('#df-8fba1d79-6af4-4676-b5ae-9fbe7cf3f15f');\n",
              "          const dataTable =\n",
              "            await google.colab.kernel.invokeFunction('convertToInteractive',\n",
              "                                                     [key], {});\n",
              "          if (!dataTable) return;\n",
              "\n",
              "          const docLinkHtml = 'Like what you see? Visit the ' +\n",
              "            '<a target=\"_blank\" href=https://colab.research.google.com/notebooks/data_table.ipynb>data table notebook</a>'\n",
              "            + ' to learn more about interactive tables.';\n",
              "          element.innerHTML = '';\n",
              "          dataTable['output_type'] = 'display_data';\n",
              "          await google.colab.output.renderOutput(dataTable, element);\n",
              "          const docLink = document.createElement('div');\n",
              "          docLink.innerHTML = docLinkHtml;\n",
              "          element.appendChild(docLink);\n",
              "        }\n",
              "      </script>\n",
              "    </div>\n",
              "  </div>\n",
              "  "
            ]
          },
          "metadata": {},
          "execution_count": 108
        }
      ]
    },
    {
      "cell_type": "markdown",
      "source": [
        "## Evolution of dice score between time points -- nnUnet preds vs GT -- Whole prostate gland"
      ],
      "metadata": {
        "id": "_44pmD1kf-id"
      }
    },
    {
      "cell_type": "code",
      "source": [
        "df_all.info()"
      ],
      "metadata": {
        "colab": {
          "base_uri": "https://localhost:8080/"
        },
        "id": "P_5b3rZ-z_Pd",
        "outputId": "c33e974b-db4d-437a-d2ee-5d641e728433"
      },
      "execution_count": null,
      "outputs": [
        {
          "output_type": "stream",
          "name": "stdout",
          "text": [
            "<class 'pandas.core.frame.DataFrame'>\n",
            "Int64Index: 60 entries, 0 to 29\n",
            "Data columns (total 26 columns):\n",
            " #   Column                       Non-Null Count  Dtype   \n",
            "---  ------                       --------------  -----   \n",
            " 0   ReferencedSeriesInstanceUID  60 non-null     object  \n",
            " 1   StudyInstanceUID             60 non-null     object  \n",
            " 2   patientID                    60 non-null     object  \n",
            " 3   SOPClassUID                  60 non-null     object  \n",
            " 4   SOPInstanceUID               60 non-null     object  \n",
            " 5   SeriesInstanceUID            60 non-null     object  \n",
            " 6   Modality                     60 non-null     object  \n",
            " 7   SeriesDescription            60 non-null     object  \n",
            " 8   studydesc                    60 non-null     object  \n",
            " 9   series_time                  60 non-null     object  \n",
            " 10  study_time                   60 non-null     object  \n",
            " 11  series_date                  60 non-null     object  \n",
            " 12  study_date                   60 non-null     object  \n",
            " 13  ohif_url                     60 non-null     object  \n",
            " 14  cloud_storage_path           60 non-null     object  \n",
            " 15  segment                      60 non-null     object  \n",
            " 16  PatientID                    60 non-null     object  \n",
            " 17  studyUID                     60 non-null     object  \n",
            " 18  serieUID                     60 non-null     object  \n",
            " 19  RefSerieUID                  60 non-null     object  \n",
            " 20  dice_score                   60 non-null     float64 \n",
            " 21  center_mass_pred             60 non-null     object  \n",
            " 22  center_mass_ref              60 non-null     object  \n",
            " 23  hausdorff_dist               60 non-null     float64 \n",
            " 24  regions                      60 non-null     category\n",
            " 25  colors                       60 non-null     object  \n",
            "dtypes: category(1), float64(2), object(23)\n",
            "memory usage: 12.4+ KB\n"
          ]
        }
      ]
    },
    {
      "cell_type": "code",
      "source": [
        "df_all['time_index'] = df_all.apply(calculate_time_index, args = (df_all, ), axis=1)\n",
        "df_all[\"PID\"] = df_all.apply(lambda x: \"PID_\"+x[\"PatientID\"].split('-')[1]+\"_\"+x[\"time_index\"], axis=1)\n",
        "df_all = df_all.sort_values(by=['PID'], ascending=True)"
      ],
      "metadata": {
        "id": "zS2fkqZfgC31"
      },
      "execution_count": null,
      "outputs": []
    },
    {
      "cell_type": "code",
      "source": [
        "df_all.regions.unique()"
      ],
      "metadata": {
        "colab": {
          "base_uri": "https://localhost:8080/"
        },
        "id": "TTgqRL_71G_f",
        "outputId": "4dbe2749-d946-4d0b-e795-807f99a0a875"
      },
      "execution_count": null,
      "outputs": [
        {
          "output_type": "execute_result",
          "data": {
            "text/plain": [
              "['Prostate', 'PZ']\n",
              "Categories (2, object): ['PZ' < 'Prostate']"
            ]
          },
          "metadata": {},
          "execution_count": 112
        }
      ]
    },
    {
      "cell_type": "code",
      "source": [
        "# scatter plot using plotly\n",
        "fig = px.line(df_all[df_all[\"regions\"] == \"Prostate\"],\n",
        "             x = \"PID\",\n",
        "             y=\"dice_score\",\n",
        "            #  points=\"all\",\n",
        "             color=\"PatientID\",\n",
        "             hover_data=[\"PatientID\", \"SeriesInstanceUID\", \"time_index\", \"dice_score\", \"hausdorff_dist\", \"StudyInstanceUID\", \"study_date\", \"study_time\"],\n",
        "             template=\"plotly_white\",\n",
        "             title=\"Dice Scores for qin-rep-repeat for nnunet preds based on pre-trained model for whole prostate gland\")\n",
        "\n",
        "            #  notched=True)\n",
        "  \n",
        "# initializing showlegend to \"False\"\n",
        "\n",
        "fig.update_layout(showlegend=False)\n",
        "\n",
        "fig.show()"
      ],
      "metadata": {
        "colab": {
          "base_uri": "https://localhost:8080/",
          "height": 542
        },
        "id": "H4A73zB9gILe",
        "outputId": "8b9b8b64-00f0-408e-c713-91efe2abaac3"
      },
      "execution_count": null,
      "outputs": [
        {
          "output_type": "display_data",
          "data": {
            "text/html": [
              "<html>\n",
              "<head><meta charset=\"utf-8\" /></head>\n",
              "<body>\n",
              "    <div>            <script src=\"https://cdnjs.cloudflare.com/ajax/libs/mathjax/2.7.5/MathJax.js?config=TeX-AMS-MML_SVG\"></script><script type=\"text/javascript\">if (window.MathJax) {MathJax.Hub.Config({SVG: {font: \"STIX-Web\"}});}</script>                <script type=\"text/javascript\">window.PlotlyConfig = {MathJaxConfig: 'local'};</script>\n",
              "        <script src=\"https://cdn.plot.ly/plotly-2.8.3.min.js\"></script>                <div id=\"aeaa7605-6e07-41c7-b070-17a736a5bcd5\" class=\"plotly-graph-div\" style=\"height:525px; width:100%;\"></div>            <script type=\"text/javascript\">                                    window.PLOTLYENV=window.PLOTLYENV || {};                                    if (document.getElementById(\"aeaa7605-6e07-41c7-b070-17a736a5bcd5\")) {                    Plotly.newPlot(                        \"aeaa7605-6e07-41c7-b070-17a736a5bcd5\",                        [{\"customdata\":[[\"PCAMPMRI-00001\",\"1.2.276.0.7230010.3.1.3.481034752.4115.1665501467.998877\",\"T0\",6.393967,\"1.3.6.1.4.1.14519.5.2.1.3671.4754.121472087445374646718121301133\",\"19940620\",\"092715\"],[\"PCAMPMRI-00001\",\"1.2.276.0.7230010.3.1.3.481034752.4035.1665501458.949406\",\"T1\",6.909079,\"1.3.6.1.4.1.14519.5.2.1.3671.4754.288848219213026850354055725664\",\"19940702\",\"132531\"]],\"hovertemplate\":\"PatientID=%{customdata[0]}<br>PID=%{x}<br>dice_score=%{y}<br>SeriesInstanceUID=%{customdata[1]}<br>time_index=%{customdata[2]}<br>hausdorff_dist=%{customdata[3]}<br>StudyInstanceUID=%{customdata[4]}<br>study_date=%{customdata[5]}<br>study_time=%{customdata[6]}<extra></extra>\",\"legendgroup\":\"PCAMPMRI-00001\",\"line\":{\"color\":\"#636efa\",\"dash\":\"solid\"},\"marker\":{\"symbol\":\"circle\"},\"mode\":\"lines\",\"name\":\"PCAMPMRI-00001\",\"orientation\":\"v\",\"showlegend\":true,\"x\":[\"PID_00001_T0\",\"PID_00001_T1\"],\"xaxis\":\"x\",\"y\":[0.850058,0.82082],\"yaxis\":\"y\",\"type\":\"scatter\"},{\"customdata\":[[\"PCAMPMRI-00002\",\"1.2.276.0.7230010.3.1.3.481034752.4091.1665501465.291743\",\"T0\",6.072801,\"1.3.6.1.4.1.14519.5.2.1.3671.4754.304001015100152820571364796240\",\"19940709\",\"121716\"],[\"PCAMPMRI-00002\",\"1.2.276.0.7230010.3.1.3.481034752.4094.1665501465.634008\",\"T1\",6.0,\"1.3.6.1.4.1.14519.5.2.1.3671.4754.568383070573576760578239627478\",\"19940723\",\"132116\"]],\"hovertemplate\":\"PatientID=%{customdata[0]}<br>PID=%{x}<br>dice_score=%{y}<br>SeriesInstanceUID=%{customdata[1]}<br>time_index=%{customdata[2]}<br>hausdorff_dist=%{customdata[3]}<br>StudyInstanceUID=%{customdata[4]}<br>study_date=%{customdata[5]}<br>study_time=%{customdata[6]}<extra></extra>\",\"legendgroup\":\"PCAMPMRI-00002\",\"line\":{\"color\":\"#EF553B\",\"dash\":\"solid\"},\"marker\":{\"symbol\":\"circle\"},\"mode\":\"lines\",\"name\":\"PCAMPMRI-00002\",\"orientation\":\"v\",\"showlegend\":true,\"x\":[\"PID_00002_T0\",\"PID_00002_T1\"],\"xaxis\":\"x\",\"y\":[0.893324,0.877897],\"yaxis\":\"y\",\"type\":\"scatter\"},{\"customdata\":[[\"PCAMPMRI-00003\",\"1.2.276.0.7230010.3.1.3.481034752.4121.1665501468.662250\",\"T0\",12.004684,\"1.3.6.1.4.1.14519.5.2.1.3671.4754.162322077241419864654545266845\",\"19940811\",\"141233\"],[\"PCAMPMRI-00003\",\"1.2.276.0.7230010.3.1.3.481034752.4109.1665501467.317349\",\"T1\",6.454771,\"1.3.6.1.4.1.14519.5.2.1.3671.4754.263464522348816475234793721892\",\"19940825\",\"113959\"]],\"hovertemplate\":\"PatientID=%{customdata[0]}<br>PID=%{x}<br>dice_score=%{y}<br>SeriesInstanceUID=%{customdata[1]}<br>time_index=%{customdata[2]}<br>hausdorff_dist=%{customdata[3]}<br>StudyInstanceUID=%{customdata[4]}<br>study_date=%{customdata[5]}<br>study_time=%{customdata[6]}<extra></extra>\",\"legendgroup\":\"PCAMPMRI-00003\",\"line\":{\"color\":\"#00cc96\",\"dash\":\"solid\"},\"marker\":{\"symbol\":\"circle\"},\"mode\":\"lines\",\"name\":\"PCAMPMRI-00003\",\"orientation\":\"v\",\"showlegend\":true,\"x\":[\"PID_00003_T0\",\"PID_00003_T1\"],\"xaxis\":\"x\",\"y\":[0.824255,0.840216],\"yaxis\":\"y\",\"type\":\"scatter\"},{\"customdata\":[[\"PCAMPMRI-00004\",\"1.2.276.0.7230010.3.1.3.481034752.4064.1665501462.332456\",\"T0\",9.0,\"1.3.6.1.4.1.14519.5.2.1.3671.4754.394942238206951812120962051099\",\"19940903\",\"104120\"],[\"PCAMPMRI-00004\",\"1.2.276.0.7230010.3.1.3.481034752.4041.1665501459.630679\",\"T1\",9.0,\"1.3.6.1.4.1.14519.5.2.1.3671.4754.204078048920967920419177848890\",\"19940912\",\"144338\"]],\"hovertemplate\":\"PatientID=%{customdata[0]}<br>PID=%{x}<br>dice_score=%{y}<br>SeriesInstanceUID=%{customdata[1]}<br>time_index=%{customdata[2]}<br>hausdorff_dist=%{customdata[3]}<br>StudyInstanceUID=%{customdata[4]}<br>study_date=%{customdata[5]}<br>study_time=%{customdata[6]}<extra></extra>\",\"legendgroup\":\"PCAMPMRI-00004\",\"line\":{\"color\":\"#ab63fa\",\"dash\":\"solid\"},\"marker\":{\"symbol\":\"circle\"},\"mode\":\"lines\",\"name\":\"PCAMPMRI-00004\",\"orientation\":\"v\",\"showlegend\":true,\"x\":[\"PID_00004_T0\",\"PID_00004_T1\"],\"xaxis\":\"x\",\"y\":[0.88957,0.79055],\"yaxis\":\"y\",\"type\":\"scatter\"},{\"customdata\":[[\"PCAMPMRI-00005\",\"1.2.276.0.7230010.3.1.3.481034752.4070.1665501462.943132\",\"T0\",23.450428,\"1.3.6.1.4.1.14519.5.2.1.3671.4754.240823776621155108064488841063\",\"19940910\",\"101927\"],[\"PCAMPMRI-00005\",\"1.2.276.0.7230010.3.1.3.481034752.4079.1665501463.960922\",\"T1\",24.0,\"1.3.6.1.4.1.14519.5.2.1.3671.4754.233298968565250099224990877587\",\"19940917\",\"115624\"]],\"hovertemplate\":\"PatientID=%{customdata[0]}<br>PID=%{x}<br>dice_score=%{y}<br>SeriesInstanceUID=%{customdata[1]}<br>time_index=%{customdata[2]}<br>hausdorff_dist=%{customdata[3]}<br>StudyInstanceUID=%{customdata[4]}<br>study_date=%{customdata[5]}<br>study_time=%{customdata[6]}<extra></extra>\",\"legendgroup\":\"PCAMPMRI-00005\",\"line\":{\"color\":\"#FFA15A\",\"dash\":\"solid\"},\"marker\":{\"symbol\":\"circle\"},\"mode\":\"lines\",\"name\":\"PCAMPMRI-00005\",\"orientation\":\"v\",\"showlegend\":true,\"x\":[\"PID_00005_T0\",\"PID_00005_T1\"],\"xaxis\":\"x\",\"y\":[0.784956,0.763961],\"yaxis\":\"y\",\"type\":\"scatter\"},{\"customdata\":[[\"PCAMPMRI-00006\",\"1.2.276.0.7230010.3.1.3.481034752.4067.1665501462.611630\",\"T0\",9.240916,\"1.3.6.1.4.1.14519.5.2.1.3671.4754.287814201869490350714498330797\",\"19940924\",\"132134\"],[\"PCAMPMRI-00006\",\"1.2.276.0.7230010.3.1.3.481034752.4055.1665501460.976611\",\"T1\",6.358025,\"1.3.6.1.4.1.14519.5.2.1.3671.4754.133806669697115873569905534398\",\"19941001\",\"133534\"]],\"hovertemplate\":\"PatientID=%{customdata[0]}<br>PID=%{x}<br>dice_score=%{y}<br>SeriesInstanceUID=%{customdata[1]}<br>time_index=%{customdata[2]}<br>hausdorff_dist=%{customdata[3]}<br>StudyInstanceUID=%{customdata[4]}<br>study_date=%{customdata[5]}<br>study_time=%{customdata[6]}<extra></extra>\",\"legendgroup\":\"PCAMPMRI-00006\",\"line\":{\"color\":\"#19d3f3\",\"dash\":\"solid\"},\"marker\":{\"symbol\":\"circle\"},\"mode\":\"lines\",\"name\":\"PCAMPMRI-00006\",\"orientation\":\"v\",\"showlegend\":true,\"x\":[\"PID_00006_T0\",\"PID_00006_T1\"],\"xaxis\":\"x\",\"y\":[0.897349,0.904828],\"yaxis\":\"y\",\"type\":\"scatter\"},{\"customdata\":[[\"PCAMPMRI-00007\",\"1.2.276.0.7230010.3.1.3.481034752.4085.1665501464.626433\",\"T0\",8.753248,\"1.3.6.1.4.1.14519.5.2.1.3671.4754.240243858523310211919840278205\",\"19941001\",\"103506\"],[\"PCAMPMRI-00007\",\"1.2.276.0.7230010.3.1.3.481034752.4100.1665501466.305261\",\"T1\",7.137021,\"1.3.6.1.4.1.14519.5.2.1.3671.4754.962865348146140991373362412648\",\"19941008\",\"113910\"]],\"hovertemplate\":\"PatientID=%{customdata[0]}<br>PID=%{x}<br>dice_score=%{y}<br>SeriesInstanceUID=%{customdata[1]}<br>time_index=%{customdata[2]}<br>hausdorff_dist=%{customdata[3]}<br>StudyInstanceUID=%{customdata[4]}<br>study_date=%{customdata[5]}<br>study_time=%{customdata[6]}<extra></extra>\",\"legendgroup\":\"PCAMPMRI-00007\",\"line\":{\"color\":\"#FF6692\",\"dash\":\"solid\"},\"marker\":{\"symbol\":\"circle\"},\"mode\":\"lines\",\"name\":\"PCAMPMRI-00007\",\"orientation\":\"v\",\"showlegend\":true,\"x\":[\"PID_00007_T0\",\"PID_00007_T1\"],\"xaxis\":\"x\",\"y\":[0.869602,0.856915],\"yaxis\":\"y\",\"type\":\"scatter\"},{\"customdata\":[[\"PCAMPMRI-00008\",\"1.2.276.0.7230010.3.1.3.481034752.4032.1665501458.674193\",\"T0\",10.5,\"1.3.6.1.4.1.14519.5.2.1.3671.4754.173585825705285812758858023242\",\"19950617\",\"111335\"],[\"PCAMPMRI-00008\",\"1.2.276.0.7230010.3.1.3.481034752.4073.1665501463.263353\",\"T1\",7.0,\"1.3.6.1.4.1.14519.5.2.1.3671.4754.266963586071007736606548226859\",\"19950701\",\"131106\"]],\"hovertemplate\":\"PatientID=%{customdata[0]}<br>PID=%{x}<br>dice_score=%{y}<br>SeriesInstanceUID=%{customdata[1]}<br>time_index=%{customdata[2]}<br>hausdorff_dist=%{customdata[3]}<br>StudyInstanceUID=%{customdata[4]}<br>study_date=%{customdata[5]}<br>study_time=%{customdata[6]}<extra></extra>\",\"legendgroup\":\"PCAMPMRI-00008\",\"line\":{\"color\":\"#B6E880\",\"dash\":\"solid\"},\"marker\":{\"symbol\":\"circle\"},\"mode\":\"lines\",\"name\":\"PCAMPMRI-00008\",\"orientation\":\"v\",\"showlegend\":true,\"x\":[\"PID_00008_T0\",\"PID_00008_T1\"],\"xaxis\":\"x\",\"y\":[0.873111,0.919927],\"yaxis\":\"y\",\"type\":\"scatter\"},{\"customdata\":[[\"PCAMPMRI-00009\",\"1.2.276.0.7230010.3.1.3.481034752.4088.1665501464.949326\",\"T0\",10.5,\"1.3.6.1.4.1.14519.5.2.1.3671.4754.864607788085827202303582199118\",\"19950701\",\"142721\"],[\"PCAMPMRI-00009\",\"1.2.276.0.7230010.3.1.3.481034752.4038.1665501459.282514\",\"T1\",10.59214,\"1.3.6.1.4.1.14519.5.2.1.3671.4754.181478254003851548055481596513\",\"19950708\",\"163440\"]],\"hovertemplate\":\"PatientID=%{customdata[0]}<br>PID=%{x}<br>dice_score=%{y}<br>SeriesInstanceUID=%{customdata[1]}<br>time_index=%{customdata[2]}<br>hausdorff_dist=%{customdata[3]}<br>StudyInstanceUID=%{customdata[4]}<br>study_date=%{customdata[5]}<br>study_time=%{customdata[6]}<extra></extra>\",\"legendgroup\":\"PCAMPMRI-00009\",\"line\":{\"color\":\"#FF97FF\",\"dash\":\"solid\"},\"marker\":{\"symbol\":\"circle\"},\"mode\":\"lines\",\"name\":\"PCAMPMRI-00009\",\"orientation\":\"v\",\"showlegend\":true,\"x\":[\"PID_00009_T0\",\"PID_00009_T1\"],\"xaxis\":\"x\",\"y\":[0.899859,0.904379],\"yaxis\":\"y\",\"type\":\"scatter\"},{\"customdata\":[[\"PCAMPMRI-00010\",\"1.2.276.0.7230010.3.1.3.481034752.4097.1665501465.960320\",\"T0\",10.5,\"1.3.6.1.4.1.14519.5.2.1.3671.4754.217251077299095981018478951589\",\"19950706\",\"110656\"],[\"PCAMPMRI-00010\",\"1.2.276.0.7230010.3.1.3.481034752.4106.1665501466.979878\",\"T1\",14.0,\"1.3.6.1.4.1.14519.5.2.1.3671.4754.318227959935022390930294557376\",\"19950709\",\"150441\"]],\"hovertemplate\":\"PatientID=%{customdata[0]}<br>PID=%{x}<br>dice_score=%{y}<br>SeriesInstanceUID=%{customdata[1]}<br>time_index=%{customdata[2]}<br>hausdorff_dist=%{customdata[3]}<br>StudyInstanceUID=%{customdata[4]}<br>study_date=%{customdata[5]}<br>study_time=%{customdata[6]}<extra></extra>\",\"legendgroup\":\"PCAMPMRI-00010\",\"line\":{\"color\":\"#FECB52\",\"dash\":\"solid\"},\"marker\":{\"symbol\":\"circle\"},\"mode\":\"lines\",\"name\":\"PCAMPMRI-00010\",\"orientation\":\"v\",\"showlegend\":true,\"x\":[\"PID_00010_T0\",\"PID_00010_T1\"],\"xaxis\":\"x\",\"y\":[0.854506,0.807196],\"yaxis\":\"y\",\"type\":\"scatter\"},{\"customdata\":[[\"PCAMPMRI-00011\",\"1.2.276.0.7230010.3.1.3.481034752.4058.1665501461.296222\",\"T0\",10.148996,\"1.3.6.1.4.1.14519.5.2.1.3671.4754.131608903441424620949571415524\",\"19950826\",\"161817\"],[\"PCAMPMRI-00011\",\"1.2.276.0.7230010.3.1.3.481034752.4103.1665501466.640513\",\"T1\",7.189639,\"1.3.6.1.4.1.14519.5.2.1.3671.4754.117496148504386222592571043379\",\"19950908\",\"160430\"]],\"hovertemplate\":\"PatientID=%{customdata[0]}<br>PID=%{x}<br>dice_score=%{y}<br>SeriesInstanceUID=%{customdata[1]}<br>time_index=%{customdata[2]}<br>hausdorff_dist=%{customdata[3]}<br>StudyInstanceUID=%{customdata[4]}<br>study_date=%{customdata[5]}<br>study_time=%{customdata[6]}<extra></extra>\",\"legendgroup\":\"PCAMPMRI-00011\",\"line\":{\"color\":\"#636efa\",\"dash\":\"solid\"},\"marker\":{\"symbol\":\"circle\"},\"mode\":\"lines\",\"name\":\"PCAMPMRI-00011\",\"orientation\":\"v\",\"showlegend\":true,\"x\":[\"PID_00011_T0\",\"PID_00011_T1\"],\"xaxis\":\"x\",\"y\":[0.833805,0.836064],\"yaxis\":\"y\",\"type\":\"scatter\"},{\"customdata\":[[\"PCAMPMRI-00012\",\"1.2.276.0.7230010.3.1.3.481034752.4044.1665501459.961513\",\"T0\",14.0,\"1.3.6.1.4.1.14519.5.2.1.3671.4754.298665348758363466150039312520\",\"19951215\",\"131445\"],[\"PCAMPMRI-00012\",\"1.2.276.0.7230010.3.1.3.481034752.4052.1665501460.621505\",\"T1\",10.5,\"1.3.6.1.4.1.14519.5.2.1.3671.4754.264231410930579591639987629694\",\"19951223\",\"113757\"]],\"hovertemplate\":\"PatientID=%{customdata[0]}<br>PID=%{x}<br>dice_score=%{y}<br>SeriesInstanceUID=%{customdata[1]}<br>time_index=%{customdata[2]}<br>hausdorff_dist=%{customdata[3]}<br>StudyInstanceUID=%{customdata[4]}<br>study_date=%{customdata[5]}<br>study_time=%{customdata[6]}<extra></extra>\",\"legendgroup\":\"PCAMPMRI-00012\",\"line\":{\"color\":\"#EF553B\",\"dash\":\"solid\"},\"marker\":{\"symbol\":\"circle\"},\"mode\":\"lines\",\"name\":\"PCAMPMRI-00012\",\"orientation\":\"v\",\"showlegend\":true,\"x\":[\"PID_00012_T0\",\"PID_00012_T1\"],\"xaxis\":\"x\",\"y\":[0.872965,0.892244],\"yaxis\":\"y\",\"type\":\"scatter\"},{\"customdata\":[[\"PCAMPMRI-00013\",\"1.2.276.0.7230010.3.1.3.481034752.4112.1665501467.646274\",\"T0\",7.001504,\"1.3.6.1.4.1.14519.5.2.1.3671.4754.211895462561589970837377570121\",\"19960222\",\"152346\"],[\"PCAMPMRI-00013\",\"1.2.276.0.7230010.3.1.3.481034752.4118.1665501468.327092\",\"T1\",7.0,\"1.3.6.1.4.1.14519.5.2.1.3671.4754.245461598867316286839568962369\",\"19960307\",\"163449\"]],\"hovertemplate\":\"PatientID=%{customdata[0]}<br>PID=%{x}<br>dice_score=%{y}<br>SeriesInstanceUID=%{customdata[1]}<br>time_index=%{customdata[2]}<br>hausdorff_dist=%{customdata[3]}<br>StudyInstanceUID=%{customdata[4]}<br>study_date=%{customdata[5]}<br>study_time=%{customdata[6]}<extra></extra>\",\"legendgroup\":\"PCAMPMRI-00013\",\"line\":{\"color\":\"#00cc96\",\"dash\":\"solid\"},\"marker\":{\"symbol\":\"circle\"},\"mode\":\"lines\",\"name\":\"PCAMPMRI-00013\",\"orientation\":\"v\",\"showlegend\":true,\"x\":[\"PID_00013_T0\",\"PID_00013_T1\"],\"xaxis\":\"x\",\"y\":[0.851779,0.865051],\"yaxis\":\"y\",\"type\":\"scatter\"},{\"customdata\":[[\"PCAMPMRI-00014\",\"1.2.276.0.7230010.3.1.3.481034752.4047.1665501460.288959\",\"T0\",8.716873,\"1.3.6.1.4.1.14519.5.2.1.3671.4754.288453744990673175783381845880\",\"19960316\",\"130727\"],[\"PCAMPMRI-00014\",\"1.2.276.0.7230010.3.1.3.481034752.4076.1665501463.610640\",\"T1\",14.0,\"1.3.6.1.4.1.14519.5.2.1.3671.4754.194890890650697728529329442454\",\"19960324\",\"162549\"]],\"hovertemplate\":\"PatientID=%{customdata[0]}<br>PID=%{x}<br>dice_score=%{y}<br>SeriesInstanceUID=%{customdata[1]}<br>time_index=%{customdata[2]}<br>hausdorff_dist=%{customdata[3]}<br>StudyInstanceUID=%{customdata[4]}<br>study_date=%{customdata[5]}<br>study_time=%{customdata[6]}<extra></extra>\",\"legendgroup\":\"PCAMPMRI-00014\",\"line\":{\"color\":\"#ab63fa\",\"dash\":\"solid\"},\"marker\":{\"symbol\":\"circle\"},\"mode\":\"lines\",\"name\":\"PCAMPMRI-00014\",\"orientation\":\"v\",\"showlegend\":true,\"x\":[\"PID_00014_T0\",\"PID_00014_T1\"],\"xaxis\":\"x\",\"y\":[0.801746,0.722186],\"yaxis\":\"y\",\"type\":\"scatter\"},{\"customdata\":[[\"PCAMPMRI-00015\",\"1.2.276.0.7230010.3.1.3.481034752.4082.1665501464.278390\",\"T0\",10.5,\"1.3.6.1.4.1.14519.5.2.1.3671.4754.182983245842036631781777324507\",\"19960502\",\"111555\"],[\"PCAMPMRI-00015\",\"1.2.276.0.7230010.3.1.3.481034752.4061.1665501461.703894\",\"T1\",10.502619,\"1.3.6.1.4.1.14519.5.2.1.3671.4754.431678793261759442965045820561\",\"19960516\",\"114812\"]],\"hovertemplate\":\"PatientID=%{customdata[0]}<br>PID=%{x}<br>dice_score=%{y}<br>SeriesInstanceUID=%{customdata[1]}<br>time_index=%{customdata[2]}<br>hausdorff_dist=%{customdata[3]}<br>StudyInstanceUID=%{customdata[4]}<br>study_date=%{customdata[5]}<br>study_time=%{customdata[6]}<extra></extra>\",\"legendgroup\":\"PCAMPMRI-00015\",\"line\":{\"color\":\"#FFA15A\",\"dash\":\"solid\"},\"marker\":{\"symbol\":\"circle\"},\"mode\":\"lines\",\"name\":\"PCAMPMRI-00015\",\"orientation\":\"v\",\"showlegend\":true,\"x\":[\"PID_00015_T0\",\"PID_00015_T1\"],\"xaxis\":\"x\",\"y\":[0.917475,0.90025],\"yaxis\":\"y\",\"type\":\"scatter\"}],                        {\"template\":{\"data\":{\"barpolar\":[{\"marker\":{\"line\":{\"color\":\"white\",\"width\":0.5},\"pattern\":{\"fillmode\":\"overlay\",\"size\":10,\"solidity\":0.2}},\"type\":\"barpolar\"}],\"bar\":[{\"error_x\":{\"color\":\"#2a3f5f\"},\"error_y\":{\"color\":\"#2a3f5f\"},\"marker\":{\"line\":{\"color\":\"white\",\"width\":0.5},\"pattern\":{\"fillmode\":\"overlay\",\"size\":10,\"solidity\":0.2}},\"type\":\"bar\"}],\"carpet\":[{\"aaxis\":{\"endlinecolor\":\"#2a3f5f\",\"gridcolor\":\"#C8D4E3\",\"linecolor\":\"#C8D4E3\",\"minorgridcolor\":\"#C8D4E3\",\"startlinecolor\":\"#2a3f5f\"},\"baxis\":{\"endlinecolor\":\"#2a3f5f\",\"gridcolor\":\"#C8D4E3\",\"linecolor\":\"#C8D4E3\",\"minorgridcolor\":\"#C8D4E3\",\"startlinecolor\":\"#2a3f5f\"},\"type\":\"carpet\"}],\"choropleth\":[{\"colorbar\":{\"outlinewidth\":0,\"ticks\":\"\"},\"type\":\"choropleth\"}],\"contourcarpet\":[{\"colorbar\":{\"outlinewidth\":0,\"ticks\":\"\"},\"type\":\"contourcarpet\"}],\"contour\":[{\"colorbar\":{\"outlinewidth\":0,\"ticks\":\"\"},\"colorscale\":[[0.0,\"#0d0887\"],[0.1111111111111111,\"#46039f\"],[0.2222222222222222,\"#7201a8\"],[0.3333333333333333,\"#9c179e\"],[0.4444444444444444,\"#bd3786\"],[0.5555555555555556,\"#d8576b\"],[0.6666666666666666,\"#ed7953\"],[0.7777777777777778,\"#fb9f3a\"],[0.8888888888888888,\"#fdca26\"],[1.0,\"#f0f921\"]],\"type\":\"contour\"}],\"heatmapgl\":[{\"colorbar\":{\"outlinewidth\":0,\"ticks\":\"\"},\"colorscale\":[[0.0,\"#0d0887\"],[0.1111111111111111,\"#46039f\"],[0.2222222222222222,\"#7201a8\"],[0.3333333333333333,\"#9c179e\"],[0.4444444444444444,\"#bd3786\"],[0.5555555555555556,\"#d8576b\"],[0.6666666666666666,\"#ed7953\"],[0.7777777777777778,\"#fb9f3a\"],[0.8888888888888888,\"#fdca26\"],[1.0,\"#f0f921\"]],\"type\":\"heatmapgl\"}],\"heatmap\":[{\"colorbar\":{\"outlinewidth\":0,\"ticks\":\"\"},\"colorscale\":[[0.0,\"#0d0887\"],[0.1111111111111111,\"#46039f\"],[0.2222222222222222,\"#7201a8\"],[0.3333333333333333,\"#9c179e\"],[0.4444444444444444,\"#bd3786\"],[0.5555555555555556,\"#d8576b\"],[0.6666666666666666,\"#ed7953\"],[0.7777777777777778,\"#fb9f3a\"],[0.8888888888888888,\"#fdca26\"],[1.0,\"#f0f921\"]],\"type\":\"heatmap\"}],\"histogram2dcontour\":[{\"colorbar\":{\"outlinewidth\":0,\"ticks\":\"\"},\"colorscale\":[[0.0,\"#0d0887\"],[0.1111111111111111,\"#46039f\"],[0.2222222222222222,\"#7201a8\"],[0.3333333333333333,\"#9c179e\"],[0.4444444444444444,\"#bd3786\"],[0.5555555555555556,\"#d8576b\"],[0.6666666666666666,\"#ed7953\"],[0.7777777777777778,\"#fb9f3a\"],[0.8888888888888888,\"#fdca26\"],[1.0,\"#f0f921\"]],\"type\":\"histogram2dcontour\"}],\"histogram2d\":[{\"colorbar\":{\"outlinewidth\":0,\"ticks\":\"\"},\"colorscale\":[[0.0,\"#0d0887\"],[0.1111111111111111,\"#46039f\"],[0.2222222222222222,\"#7201a8\"],[0.3333333333333333,\"#9c179e\"],[0.4444444444444444,\"#bd3786\"],[0.5555555555555556,\"#d8576b\"],[0.6666666666666666,\"#ed7953\"],[0.7777777777777778,\"#fb9f3a\"],[0.8888888888888888,\"#fdca26\"],[1.0,\"#f0f921\"]],\"type\":\"histogram2d\"}],\"histogram\":[{\"marker\":{\"pattern\":{\"fillmode\":\"overlay\",\"size\":10,\"solidity\":0.2}},\"type\":\"histogram\"}],\"mesh3d\":[{\"colorbar\":{\"outlinewidth\":0,\"ticks\":\"\"},\"type\":\"mesh3d\"}],\"parcoords\":[{\"line\":{\"colorbar\":{\"outlinewidth\":0,\"ticks\":\"\"}},\"type\":\"parcoords\"}],\"pie\":[{\"automargin\":true,\"type\":\"pie\"}],\"scatter3d\":[{\"line\":{\"colorbar\":{\"outlinewidth\":0,\"ticks\":\"\"}},\"marker\":{\"colorbar\":{\"outlinewidth\":0,\"ticks\":\"\"}},\"type\":\"scatter3d\"}],\"scattercarpet\":[{\"marker\":{\"colorbar\":{\"outlinewidth\":0,\"ticks\":\"\"}},\"type\":\"scattercarpet\"}],\"scattergeo\":[{\"marker\":{\"colorbar\":{\"outlinewidth\":0,\"ticks\":\"\"}},\"type\":\"scattergeo\"}],\"scattergl\":[{\"marker\":{\"colorbar\":{\"outlinewidth\":0,\"ticks\":\"\"}},\"type\":\"scattergl\"}],\"scattermapbox\":[{\"marker\":{\"colorbar\":{\"outlinewidth\":0,\"ticks\":\"\"}},\"type\":\"scattermapbox\"}],\"scatterpolargl\":[{\"marker\":{\"colorbar\":{\"outlinewidth\":0,\"ticks\":\"\"}},\"type\":\"scatterpolargl\"}],\"scatterpolar\":[{\"marker\":{\"colorbar\":{\"outlinewidth\":0,\"ticks\":\"\"}},\"type\":\"scatterpolar\"}],\"scatter\":[{\"marker\":{\"colorbar\":{\"outlinewidth\":0,\"ticks\":\"\"}},\"type\":\"scatter\"}],\"scatterternary\":[{\"marker\":{\"colorbar\":{\"outlinewidth\":0,\"ticks\":\"\"}},\"type\":\"scatterternary\"}],\"surface\":[{\"colorbar\":{\"outlinewidth\":0,\"ticks\":\"\"},\"colorscale\":[[0.0,\"#0d0887\"],[0.1111111111111111,\"#46039f\"],[0.2222222222222222,\"#7201a8\"],[0.3333333333333333,\"#9c179e\"],[0.4444444444444444,\"#bd3786\"],[0.5555555555555556,\"#d8576b\"],[0.6666666666666666,\"#ed7953\"],[0.7777777777777778,\"#fb9f3a\"],[0.8888888888888888,\"#fdca26\"],[1.0,\"#f0f921\"]],\"type\":\"surface\"}],\"table\":[{\"cells\":{\"fill\":{\"color\":\"#EBF0F8\"},\"line\":{\"color\":\"white\"}},\"header\":{\"fill\":{\"color\":\"#C8D4E3\"},\"line\":{\"color\":\"white\"}},\"type\":\"table\"}]},\"layout\":{\"annotationdefaults\":{\"arrowcolor\":\"#2a3f5f\",\"arrowhead\":0,\"arrowwidth\":1},\"autotypenumbers\":\"strict\",\"coloraxis\":{\"colorbar\":{\"outlinewidth\":0,\"ticks\":\"\"}},\"colorscale\":{\"diverging\":[[0,\"#8e0152\"],[0.1,\"#c51b7d\"],[0.2,\"#de77ae\"],[0.3,\"#f1b6da\"],[0.4,\"#fde0ef\"],[0.5,\"#f7f7f7\"],[0.6,\"#e6f5d0\"],[0.7,\"#b8e186\"],[0.8,\"#7fbc41\"],[0.9,\"#4d9221\"],[1,\"#276419\"]],\"sequential\":[[0.0,\"#0d0887\"],[0.1111111111111111,\"#46039f\"],[0.2222222222222222,\"#7201a8\"],[0.3333333333333333,\"#9c179e\"],[0.4444444444444444,\"#bd3786\"],[0.5555555555555556,\"#d8576b\"],[0.6666666666666666,\"#ed7953\"],[0.7777777777777778,\"#fb9f3a\"],[0.8888888888888888,\"#fdca26\"],[1.0,\"#f0f921\"]],\"sequentialminus\":[[0.0,\"#0d0887\"],[0.1111111111111111,\"#46039f\"],[0.2222222222222222,\"#7201a8\"],[0.3333333333333333,\"#9c179e\"],[0.4444444444444444,\"#bd3786\"],[0.5555555555555556,\"#d8576b\"],[0.6666666666666666,\"#ed7953\"],[0.7777777777777778,\"#fb9f3a\"],[0.8888888888888888,\"#fdca26\"],[1.0,\"#f0f921\"]]},\"colorway\":[\"#636efa\",\"#EF553B\",\"#00cc96\",\"#ab63fa\",\"#FFA15A\",\"#19d3f3\",\"#FF6692\",\"#B6E880\",\"#FF97FF\",\"#FECB52\"],\"font\":{\"color\":\"#2a3f5f\"},\"geo\":{\"bgcolor\":\"white\",\"lakecolor\":\"white\",\"landcolor\":\"white\",\"showlakes\":true,\"showland\":true,\"subunitcolor\":\"#C8D4E3\"},\"hoverlabel\":{\"align\":\"left\"},\"hovermode\":\"closest\",\"mapbox\":{\"style\":\"light\"},\"paper_bgcolor\":\"white\",\"plot_bgcolor\":\"white\",\"polar\":{\"angularaxis\":{\"gridcolor\":\"#EBF0F8\",\"linecolor\":\"#EBF0F8\",\"ticks\":\"\"},\"bgcolor\":\"white\",\"radialaxis\":{\"gridcolor\":\"#EBF0F8\",\"linecolor\":\"#EBF0F8\",\"ticks\":\"\"}},\"scene\":{\"xaxis\":{\"backgroundcolor\":\"white\",\"gridcolor\":\"#DFE8F3\",\"gridwidth\":2,\"linecolor\":\"#EBF0F8\",\"showbackground\":true,\"ticks\":\"\",\"zerolinecolor\":\"#EBF0F8\"},\"yaxis\":{\"backgroundcolor\":\"white\",\"gridcolor\":\"#DFE8F3\",\"gridwidth\":2,\"linecolor\":\"#EBF0F8\",\"showbackground\":true,\"ticks\":\"\",\"zerolinecolor\":\"#EBF0F8\"},\"zaxis\":{\"backgroundcolor\":\"white\",\"gridcolor\":\"#DFE8F3\",\"gridwidth\":2,\"linecolor\":\"#EBF0F8\",\"showbackground\":true,\"ticks\":\"\",\"zerolinecolor\":\"#EBF0F8\"}},\"shapedefaults\":{\"line\":{\"color\":\"#2a3f5f\"}},\"ternary\":{\"aaxis\":{\"gridcolor\":\"#DFE8F3\",\"linecolor\":\"#A2B1C6\",\"ticks\":\"\"},\"baxis\":{\"gridcolor\":\"#DFE8F3\",\"linecolor\":\"#A2B1C6\",\"ticks\":\"\"},\"bgcolor\":\"white\",\"caxis\":{\"gridcolor\":\"#DFE8F3\",\"linecolor\":\"#A2B1C6\",\"ticks\":\"\"}},\"title\":{\"x\":0.05},\"xaxis\":{\"automargin\":true,\"gridcolor\":\"#EBF0F8\",\"linecolor\":\"#EBF0F8\",\"ticks\":\"\",\"title\":{\"standoff\":15},\"zerolinecolor\":\"#EBF0F8\",\"zerolinewidth\":2},\"yaxis\":{\"automargin\":true,\"gridcolor\":\"#EBF0F8\",\"linecolor\":\"#EBF0F8\",\"ticks\":\"\",\"title\":{\"standoff\":15},\"zerolinecolor\":\"#EBF0F8\",\"zerolinewidth\":2}}},\"xaxis\":{\"anchor\":\"y\",\"domain\":[0.0,1.0],\"title\":{\"text\":\"PID\"}},\"yaxis\":{\"anchor\":\"x\",\"domain\":[0.0,1.0],\"title\":{\"text\":\"dice_score\"}},\"legend\":{\"title\":{\"text\":\"PatientID\"},\"tracegroupgap\":0},\"title\":{\"text\":\"Dice Scores for qin-rep-repeat for nnunet preds based on pre-trained model for PZ\"},\"showlegend\":false},                        {\"responsive\": true}                    ).then(function(){\n",
              "                            \n",
              "var gd = document.getElementById('aeaa7605-6e07-41c7-b070-17a736a5bcd5');\n",
              "var x = new MutationObserver(function (mutations, observer) {{\n",
              "        var display = window.getComputedStyle(gd).display;\n",
              "        if (!display || display === 'none') {{\n",
              "            console.log([gd, 'removed!']);\n",
              "            Plotly.purge(gd);\n",
              "            observer.disconnect();\n",
              "        }}\n",
              "}});\n",
              "\n",
              "// Listen for the removal of the full notebook cells\n",
              "var notebookContainer = gd.closest('#notebook-container');\n",
              "if (notebookContainer) {{\n",
              "    x.observe(notebookContainer, {childList: true});\n",
              "}}\n",
              "\n",
              "// Listen for the clearing of the current output cell\n",
              "var outputEl = gd.closest('.output');\n",
              "if (outputEl) {{\n",
              "    x.observe(outputEl, {childList: true});\n",
              "}}\n",
              "\n",
              "                        })                };                            </script>        </div>\n",
              "</body>\n",
              "</html>"
            ]
          },
          "metadata": {}
        }
      ]
    },
    {
      "cell_type": "code",
      "source": [
        "# scatter plot using plotly\n",
        "fig = px.line(df_all[df_all[\"regions\"] == \"PZ\"],\n",
        "             x = \"PID\",\n",
        "             y=\"dice_score\",\n",
        "            #  points=\"all\",\n",
        "             color=\"PatientID\",\n",
        "             hover_data=[\"PatientID\", \"SeriesInstanceUID\", \"time_index\", \"dice_score\", \"hausdorff_dist\", \"StudyInstanceUID\", \"study_date\", \"study_time\"],\n",
        "             template=\"plotly_white\",\n",
        "             title=\"Dice Scores for qin-rep-repeat for nnunet preds based on pre-trained models for peripheral zone\")\n",
        "\n",
        "            #  notched=True)\n",
        "  \n",
        "# initializing showlegend to \"False\"\n",
        "\n",
        "fig.update_layout(showlegend=False)\n",
        "\n",
        "fig.show()"
      ],
      "metadata": {
        "colab": {
          "base_uri": "https://localhost:8080/",
          "height": 542
        },
        "id": "2LD26hXk1Nx6",
        "outputId": "47af2a1f-3e75-44e9-8790-b6b2fee69009"
      },
      "execution_count": null,
      "outputs": [
        {
          "output_type": "display_data",
          "data": {
            "text/html": [
              "<html>\n",
              "<head><meta charset=\"utf-8\" /></head>\n",
              "<body>\n",
              "    <div>            <script src=\"https://cdnjs.cloudflare.com/ajax/libs/mathjax/2.7.5/MathJax.js?config=TeX-AMS-MML_SVG\"></script><script type=\"text/javascript\">if (window.MathJax) {MathJax.Hub.Config({SVG: {font: \"STIX-Web\"}});}</script>                <script type=\"text/javascript\">window.PlotlyConfig = {MathJaxConfig: 'local'};</script>\n",
              "        <script src=\"https://cdn.plot.ly/plotly-2.8.3.min.js\"></script>                <div id=\"6fc08a8d-5475-4057-ade7-9096c11d891f\" class=\"plotly-graph-div\" style=\"height:525px; width:100%;\"></div>            <script type=\"text/javascript\">                                    window.PLOTLYENV=window.PLOTLYENV || {};                                    if (document.getElementById(\"6fc08a8d-5475-4057-ade7-9096c11d891f\")) {                    Plotly.newPlot(                        \"6fc08a8d-5475-4057-ade7-9096c11d891f\",                        [{\"customdata\":[[\"PCAMPMRI-00001\",\"1.2.276.0.7230010.3.1.3.481034752.5614.1666822887.804002\",\"T0\",11.219577,\"1.3.6.1.4.1.14519.5.2.1.3671.4754.121472087445374646718121301133\",\"19940620\",\"092715\"],[\"PCAMPMRI-00001\",\"1.2.276.0.7230010.3.1.3.481034752.5644.1666822891.177971\",\"T1\",9.421982,\"1.3.6.1.4.1.14519.5.2.1.3671.4754.288848219213026850354055725664\",\"19940702\",\"132531\"]],\"hovertemplate\":\"PatientID=%{customdata[0]}<br>PID=%{x}<br>dice_score=%{y}<br>SeriesInstanceUID=%{customdata[1]}<br>time_index=%{customdata[2]}<br>hausdorff_dist=%{customdata[3]}<br>StudyInstanceUID=%{customdata[4]}<br>study_date=%{customdata[5]}<br>study_time=%{customdata[6]}<extra></extra>\",\"legendgroup\":\"PCAMPMRI-00001\",\"line\":{\"color\":\"#636efa\",\"dash\":\"solid\"},\"marker\":{\"symbol\":\"circle\"},\"mode\":\"lines\",\"name\":\"PCAMPMRI-00001\",\"orientation\":\"v\",\"showlegend\":true,\"x\":[\"PID_00001_T0\",\"PID_00001_T1\"],\"xaxis\":\"x\",\"y\":[0.587194,0.656055],\"yaxis\":\"y\",\"type\":\"scatter\"},{\"customdata\":[[\"PCAMPMRI-00002\",\"1.2.276.0.7230010.3.1.3.481034752.5596.1666822885.789994\",\"T0\",5.929271,\"1.3.6.1.4.1.14519.5.2.1.3671.4754.304001015100152820571364796240\",\"19940709\",\"121716\"],[\"PCAMPMRI-00002\",\"1.2.276.0.7230010.3.1.3.481034752.5578.1666822883.770629\",\"T1\",12.884706,\"1.3.6.1.4.1.14519.5.2.1.3671.4754.568383070573576760578239627478\",\"19940723\",\"132116\"]],\"hovertemplate\":\"PatientID=%{customdata[0]}<br>PID=%{x}<br>dice_score=%{y}<br>SeriesInstanceUID=%{customdata[1]}<br>time_index=%{customdata[2]}<br>hausdorff_dist=%{customdata[3]}<br>StudyInstanceUID=%{customdata[4]}<br>study_date=%{customdata[5]}<br>study_time=%{customdata[6]}<extra></extra>\",\"legendgroup\":\"PCAMPMRI-00002\",\"line\":{\"color\":\"#EF553B\",\"dash\":\"solid\"},\"marker\":{\"symbol\":\"circle\"},\"mode\":\"lines\",\"name\":\"PCAMPMRI-00002\",\"orientation\":\"v\",\"showlegend\":true,\"x\":[\"PID_00002_T0\",\"PID_00002_T1\"],\"xaxis\":\"x\",\"y\":[0.802727,0.722002],\"yaxis\":\"y\",\"type\":\"scatter\"},{\"customdata\":[[\"PCAMPMRI-00003\",\"1.2.276.0.7230010.3.1.3.481034752.5650.1666822891.856720\",\"T0\",6.417124,\"1.3.6.1.4.1.14519.5.2.1.3671.4754.162322077241419864654545266845\",\"19940811\",\"141233\"],[\"PCAMPMRI-00003\",\"1.2.276.0.7230010.3.1.3.481034752.5626.1666822889.165623\",\"T1\",6.0,\"1.3.6.1.4.1.14519.5.2.1.3671.4754.263464522348816475234793721892\",\"19940825\",\"113959\"]],\"hovertemplate\":\"PatientID=%{customdata[0]}<br>PID=%{x}<br>dice_score=%{y}<br>SeriesInstanceUID=%{customdata[1]}<br>time_index=%{customdata[2]}<br>hausdorff_dist=%{customdata[3]}<br>StudyInstanceUID=%{customdata[4]}<br>study_date=%{customdata[5]}<br>study_time=%{customdata[6]}<extra></extra>\",\"legendgroup\":\"PCAMPMRI-00003\",\"line\":{\"color\":\"#00cc96\",\"dash\":\"solid\"},\"marker\":{\"symbol\":\"circle\"},\"mode\":\"lines\",\"name\":\"PCAMPMRI-00003\",\"orientation\":\"v\",\"showlegend\":true,\"x\":[\"PID_00003_T0\",\"PID_00003_T1\"],\"xaxis\":\"x\",\"y\":[0.729024,0.752336],\"yaxis\":\"y\",\"type\":\"scatter\"},{\"customdata\":[[\"PCAMPMRI-00004\",\"1.2.276.0.7230010.3.1.3.481034752.5659.1666822892.887526\",\"T0\",6.655883,\"1.3.6.1.4.1.14519.5.2.1.3671.4754.394942238206951812120962051099\",\"19940903\",\"104120\"],[\"PCAMPMRI-00004\",\"1.2.276.0.7230010.3.1.3.481034752.5590.1666822885.130019\",\"T1\",9.262028,\"1.3.6.1.4.1.14519.5.2.1.3671.4754.204078048920967920419177848890\",\"19940912\",\"144338\"]],\"hovertemplate\":\"PatientID=%{customdata[0]}<br>PID=%{x}<br>dice_score=%{y}<br>SeriesInstanceUID=%{customdata[1]}<br>time_index=%{customdata[2]}<br>hausdorff_dist=%{customdata[3]}<br>StudyInstanceUID=%{customdata[4]}<br>study_date=%{customdata[5]}<br>study_time=%{customdata[6]}<extra></extra>\",\"legendgroup\":\"PCAMPMRI-00004\",\"line\":{\"color\":\"#ab63fa\",\"dash\":\"solid\"},\"marker\":{\"symbol\":\"circle\"},\"mode\":\"lines\",\"name\":\"PCAMPMRI-00004\",\"orientation\":\"v\",\"showlegend\":true,\"x\":[\"PID_00004_T0\",\"PID_00004_T1\"],\"xaxis\":\"x\",\"y\":[0.762916,0.701111],\"yaxis\":\"y\",\"type\":\"scatter\"},{\"customdata\":[[\"PCAMPMRI-00005\",\"1.2.276.0.7230010.3.1.3.481034752.5647.1666822891.524403\",\"T0\",36.283657,\"1.3.6.1.4.1.14519.5.2.1.3671.4754.240823776621155108064488841063\",\"19940910\",\"101927\"],[\"PCAMPMRI-00005\",\"1.2.276.0.7230010.3.1.3.481034752.5587.1666822884.794967\",\"T1\",28.779604,\"1.3.6.1.4.1.14519.5.2.1.3671.4754.233298968565250099224990877587\",\"19940917\",\"115624\"]],\"hovertemplate\":\"PatientID=%{customdata[0]}<br>PID=%{x}<br>dice_score=%{y}<br>SeriesInstanceUID=%{customdata[1]}<br>time_index=%{customdata[2]}<br>hausdorff_dist=%{customdata[3]}<br>StudyInstanceUID=%{customdata[4]}<br>study_date=%{customdata[5]}<br>study_time=%{customdata[6]}<extra></extra>\",\"legendgroup\":\"PCAMPMRI-00005\",\"line\":{\"color\":\"#FFA15A\",\"dash\":\"solid\"},\"marker\":{\"symbol\":\"circle\"},\"mode\":\"lines\",\"name\":\"PCAMPMRI-00005\",\"orientation\":\"v\",\"showlegend\":true,\"x\":[\"PID_00005_T0\",\"PID_00005_T1\"],\"xaxis\":\"x\",\"y\":[0.058837,0.190267],\"yaxis\":\"y\",\"type\":\"scatter\"},{\"customdata\":[[\"PCAMPMRI-00006\",\"1.2.276.0.7230010.3.1.3.481034752.5632.1666822889.844708\",\"T0\",9.751001,\"1.3.6.1.4.1.14519.5.2.1.3671.4754.287814201869490350714498330797\",\"19940924\",\"132134\"],[\"PCAMPMRI-00006\",\"1.2.276.0.7230010.3.1.3.481034752.5584.1666822884.461333\",\"T1\",11.461031,\"1.3.6.1.4.1.14519.5.2.1.3671.4754.133806669697115873569905534398\",\"19941001\",\"133534\"]],\"hovertemplate\":\"PatientID=%{customdata[0]}<br>PID=%{x}<br>dice_score=%{y}<br>SeriesInstanceUID=%{customdata[1]}<br>time_index=%{customdata[2]}<br>hausdorff_dist=%{customdata[3]}<br>StudyInstanceUID=%{customdata[4]}<br>study_date=%{customdata[5]}<br>study_time=%{customdata[6]}<extra></extra>\",\"legendgroup\":\"PCAMPMRI-00006\",\"line\":{\"color\":\"#19d3f3\",\"dash\":\"solid\"},\"marker\":{\"symbol\":\"circle\"},\"mode\":\"lines\",\"name\":\"PCAMPMRI-00006\",\"orientation\":\"v\",\"showlegend\":true,\"x\":[\"PID_00006_T0\",\"PID_00006_T1\"],\"xaxis\":\"x\",\"y\":[0.731792,0.656612],\"yaxis\":\"y\",\"type\":\"scatter\"},{\"customdata\":[[\"PCAMPMRI-00007\",\"1.2.276.0.7230010.3.1.3.481034752.5653.1666822892.205098\",\"T0\",12.644902,\"1.3.6.1.4.1.14519.5.2.1.3671.4754.240243858523310211919840278205\",\"19941001\",\"103506\"],[\"PCAMPMRI-00007\",\"1.2.276.0.7230010.3.1.3.481034752.5638.1666822890.497818\",\"T1\",10.484343,\"1.3.6.1.4.1.14519.5.2.1.3671.4754.962865348146140991373362412648\",\"19941008\",\"113910\"]],\"hovertemplate\":\"PatientID=%{customdata[0]}<br>PID=%{x}<br>dice_score=%{y}<br>SeriesInstanceUID=%{customdata[1]}<br>time_index=%{customdata[2]}<br>hausdorff_dist=%{customdata[3]}<br>StudyInstanceUID=%{customdata[4]}<br>study_date=%{customdata[5]}<br>study_time=%{customdata[6]}<extra></extra>\",\"legendgroup\":\"PCAMPMRI-00007\",\"line\":{\"color\":\"#FF6692\",\"dash\":\"solid\"},\"marker\":{\"symbol\":\"circle\"},\"mode\":\"lines\",\"name\":\"PCAMPMRI-00007\",\"orientation\":\"v\",\"showlegend\":true,\"x\":[\"PID_00007_T0\",\"PID_00007_T1\"],\"xaxis\":\"x\",\"y\":[0.630255,0.593437],\"yaxis\":\"y\",\"type\":\"scatter\"},{\"customdata\":[[\"PCAMPMRI-00008\",\"1.2.276.0.7230010.3.1.3.481034752.5623.1666822888.804515\",\"T0\",18.223959,\"1.3.6.1.4.1.14519.5.2.1.3671.4754.173585825705285812758858023242\",\"19950617\",\"111335\"],[\"PCAMPMRI-00008\",\"1.2.276.0.7230010.3.1.3.481034752.5620.1666822888.466943\",\"T1\",37.507774,\"1.3.6.1.4.1.14519.5.2.1.3671.4754.266963586071007736606548226859\",\"19950701\",\"131106\"]],\"hovertemplate\":\"PatientID=%{customdata[0]}<br>PID=%{x}<br>dice_score=%{y}<br>SeriesInstanceUID=%{customdata[1]}<br>time_index=%{customdata[2]}<br>hausdorff_dist=%{customdata[3]}<br>StudyInstanceUID=%{customdata[4]}<br>study_date=%{customdata[5]}<br>study_time=%{customdata[6]}<extra></extra>\",\"legendgroup\":\"PCAMPMRI-00008\",\"line\":{\"color\":\"#B6E880\",\"dash\":\"solid\"},\"marker\":{\"symbol\":\"circle\"},\"mode\":\"lines\",\"name\":\"PCAMPMRI-00008\",\"orientation\":\"v\",\"showlegend\":true,\"x\":[\"PID_00008_T0\",\"PID_00008_T1\"],\"xaxis\":\"x\",\"y\":[0.447084,0.313505],\"yaxis\":\"y\",\"type\":\"scatter\"},{\"customdata\":[[\"PCAMPMRI-00009\",\"1.2.276.0.7230010.3.1.3.481034752.5575.1666822883.435843\",\"T0\",47.201828,\"1.3.6.1.4.1.14519.5.2.1.3671.4754.864607788085827202303582199118\",\"19950701\",\"142721\"],[\"PCAMPMRI-00009\",\"1.2.276.0.7230010.3.1.3.481034752.5605.1666822886.794824\",\"T1\",45.482391,\"1.3.6.1.4.1.14519.5.2.1.3671.4754.181478254003851548055481596513\",\"19950708\",\"163440\"]],\"hovertemplate\":\"PatientID=%{customdata[0]}<br>PID=%{x}<br>dice_score=%{y}<br>SeriesInstanceUID=%{customdata[1]}<br>time_index=%{customdata[2]}<br>hausdorff_dist=%{customdata[3]}<br>StudyInstanceUID=%{customdata[4]}<br>study_date=%{customdata[5]}<br>study_time=%{customdata[6]}<extra></extra>\",\"legendgroup\":\"PCAMPMRI-00009\",\"line\":{\"color\":\"#FF97FF\",\"dash\":\"solid\"},\"marker\":{\"symbol\":\"circle\"},\"mode\":\"lines\",\"name\":\"PCAMPMRI-00009\",\"orientation\":\"v\",\"showlegend\":true,\"x\":[\"PID_00009_T0\",\"PID_00009_T1\"],\"xaxis\":\"x\",\"y\":[0.261469,0.2391],\"yaxis\":\"y\",\"type\":\"scatter\"},{\"customdata\":[[\"PCAMPMRI-00010\",\"1.2.276.0.7230010.3.1.3.481034752.5608.1666822887.132338\",\"T0\",21.738583,\"1.3.6.1.4.1.14519.5.2.1.3671.4754.217251077299095981018478951589\",\"19950706\",\"110656\"],[\"PCAMPMRI-00010\",\"1.2.276.0.7230010.3.1.3.481034752.5635.1666822890.170551\",\"T1\",28.307087,\"1.3.6.1.4.1.14519.5.2.1.3671.4754.318227959935022390930294557376\",\"19950709\",\"150441\"]],\"hovertemplate\":\"PatientID=%{customdata[0]}<br>PID=%{x}<br>dice_score=%{y}<br>SeriesInstanceUID=%{customdata[1]}<br>time_index=%{customdata[2]}<br>hausdorff_dist=%{customdata[3]}<br>StudyInstanceUID=%{customdata[4]}<br>study_date=%{customdata[5]}<br>study_time=%{customdata[6]}<extra></extra>\",\"legendgroup\":\"PCAMPMRI-00010\",\"line\":{\"color\":\"#FECB52\",\"dash\":\"solid\"},\"marker\":{\"symbol\":\"circle\"},\"mode\":\"lines\",\"name\":\"PCAMPMRI-00010\",\"orientation\":\"v\",\"showlegend\":true,\"x\":[\"PID_00010_T0\",\"PID_00010_T1\"],\"xaxis\":\"x\",\"y\":[0.303665,0.404363],\"yaxis\":\"y\",\"type\":\"scatter\"},{\"customdata\":[[\"PCAMPMRI-00011\",\"1.2.276.0.7230010.3.1.3.481034752.5617.1666822888.138739\",\"T0\",10.5,\"1.3.6.1.4.1.14519.5.2.1.3671.4754.131608903441424620949571415524\",\"19950826\",\"161817\"],[\"PCAMPMRI-00011\",\"1.2.276.0.7230010.3.1.3.481034752.5629.1666822889.489097\",\"T1\",7.0,\"1.3.6.1.4.1.14519.5.2.1.3671.4754.117496148504386222592571043379\",\"19950908\",\"160430\"]],\"hovertemplate\":\"PatientID=%{customdata[0]}<br>PID=%{x}<br>dice_score=%{y}<br>SeriesInstanceUID=%{customdata[1]}<br>time_index=%{customdata[2]}<br>hausdorff_dist=%{customdata[3]}<br>StudyInstanceUID=%{customdata[4]}<br>study_date=%{customdata[5]}<br>study_time=%{customdata[6]}<extra></extra>\",\"legendgroup\":\"PCAMPMRI-00011\",\"line\":{\"color\":\"#636efa\",\"dash\":\"solid\"},\"marker\":{\"symbol\":\"circle\"},\"mode\":\"lines\",\"name\":\"PCAMPMRI-00011\",\"orientation\":\"v\",\"showlegend\":true,\"x\":[\"PID_00011_T0\",\"PID_00011_T1\"],\"xaxis\":\"x\",\"y\":[0.734516,0.79221],\"yaxis\":\"y\",\"type\":\"scatter\"},{\"customdata\":[[\"PCAMPMRI-00012\",\"1.2.276.0.7230010.3.1.3.481034752.5593.1666822885.461406\",\"T0\",57.671757,\"1.3.6.1.4.1.14519.5.2.1.3671.4754.298665348758363466150039312520\",\"19951215\",\"131445\"],[\"PCAMPMRI-00012\",\"1.2.276.0.7230010.3.1.3.481034752.5602.1666822886.462397\",\"T1\",35.309231,\"1.3.6.1.4.1.14519.5.2.1.3671.4754.264231410930579591639987629694\",\"19951223\",\"113757\"]],\"hovertemplate\":\"PatientID=%{customdata[0]}<br>PID=%{x}<br>dice_score=%{y}<br>SeriesInstanceUID=%{customdata[1]}<br>time_index=%{customdata[2]}<br>hausdorff_dist=%{customdata[3]}<br>StudyInstanceUID=%{customdata[4]}<br>study_date=%{customdata[5]}<br>study_time=%{customdata[6]}<extra></extra>\",\"legendgroup\":\"PCAMPMRI-00012\",\"line\":{\"color\":\"#EF553B\",\"dash\":\"solid\"},\"marker\":{\"symbol\":\"circle\"},\"mode\":\"lines\",\"name\":\"PCAMPMRI-00012\",\"orientation\":\"v\",\"showlegend\":true,\"x\":[\"PID_00012_T0\",\"PID_00012_T1\"],\"xaxis\":\"x\",\"y\":[0.0,0.0],\"yaxis\":\"y\",\"type\":\"scatter\"},{\"customdata\":[[\"PCAMPMRI-00013\",\"1.2.276.0.7230010.3.1.3.481034752.5641.1666822890.832130\",\"T0\",8.701683,\"1.3.6.1.4.1.14519.5.2.1.3671.4754.211895462561589970837377570121\",\"19960222\",\"152346\"],[\"PCAMPMRI-00013\",\"1.2.276.0.7230010.3.1.3.481034752.5581.1666822884.103378\",\"T1\",9.088237,\"1.3.6.1.4.1.14519.5.2.1.3671.4754.245461598867316286839568962369\",\"19960307\",\"163449\"]],\"hovertemplate\":\"PatientID=%{customdata[0]}<br>PID=%{x}<br>dice_score=%{y}<br>SeriesInstanceUID=%{customdata[1]}<br>time_index=%{customdata[2]}<br>hausdorff_dist=%{customdata[3]}<br>StudyInstanceUID=%{customdata[4]}<br>study_date=%{customdata[5]}<br>study_time=%{customdata[6]}<extra></extra>\",\"legendgroup\":\"PCAMPMRI-00013\",\"line\":{\"color\":\"#00cc96\",\"dash\":\"solid\"},\"marker\":{\"symbol\":\"circle\"},\"mode\":\"lines\",\"name\":\"PCAMPMRI-00013\",\"orientation\":\"v\",\"showlegend\":true,\"x\":[\"PID_00013_T0\",\"PID_00013_T1\"],\"xaxis\":\"x\",\"y\":[0.776485,0.771529],\"yaxis\":\"y\",\"type\":\"scatter\"},{\"customdata\":[[\"PCAMPMRI-00014\",\"1.2.276.0.7230010.3.1.3.481034752.5656.1666822892.533638\",\"T0\",26.250898,\"1.3.6.1.4.1.14519.5.2.1.3671.4754.288453744990673175783381845880\",\"19960316\",\"130727\"],[\"PCAMPMRI-00014\",\"1.2.276.0.7230010.3.1.3.481034752.5572.1666822883.78063\",\"T1\",7.698456,\"1.3.6.1.4.1.14519.5.2.1.3671.4754.194890890650697728529329442454\",\"19960324\",\"162549\"]],\"hovertemplate\":\"PatientID=%{customdata[0]}<br>PID=%{x}<br>dice_score=%{y}<br>SeriesInstanceUID=%{customdata[1]}<br>time_index=%{customdata[2]}<br>hausdorff_dist=%{customdata[3]}<br>StudyInstanceUID=%{customdata[4]}<br>study_date=%{customdata[5]}<br>study_time=%{customdata[6]}<extra></extra>\",\"legendgroup\":\"PCAMPMRI-00014\",\"line\":{\"color\":\"#ab63fa\",\"dash\":\"solid\"},\"marker\":{\"symbol\":\"circle\"},\"mode\":\"lines\",\"name\":\"PCAMPMRI-00014\",\"orientation\":\"v\",\"showlegend\":true,\"x\":[\"PID_00014_T0\",\"PID_00014_T1\"],\"xaxis\":\"x\",\"y\":[0.49059,0.723094],\"yaxis\":\"y\",\"type\":\"scatter\"},{\"customdata\":[[\"PCAMPMRI-00015\",\"1.2.276.0.7230010.3.1.3.481034752.5599.1666822886.123580\",\"T0\",34.771858,\"1.3.6.1.4.1.14519.5.2.1.3671.4754.182983245842036631781777324507\",\"19960502\",\"111555\"],[\"PCAMPMRI-00015\",\"1.2.276.0.7230010.3.1.3.481034752.5611.1666822887.470700\",\"T1\",30.733938,\"1.3.6.1.4.1.14519.5.2.1.3671.4754.431678793261759442965045820561\",\"19960516\",\"114812\"]],\"hovertemplate\":\"PatientID=%{customdata[0]}<br>PID=%{x}<br>dice_score=%{y}<br>SeriesInstanceUID=%{customdata[1]}<br>time_index=%{customdata[2]}<br>hausdorff_dist=%{customdata[3]}<br>StudyInstanceUID=%{customdata[4]}<br>study_date=%{customdata[5]}<br>study_time=%{customdata[6]}<extra></extra>\",\"legendgroup\":\"PCAMPMRI-00015\",\"line\":{\"color\":\"#FFA15A\",\"dash\":\"solid\"},\"marker\":{\"symbol\":\"circle\"},\"mode\":\"lines\",\"name\":\"PCAMPMRI-00015\",\"orientation\":\"v\",\"showlegend\":true,\"x\":[\"PID_00015_T0\",\"PID_00015_T1\"],\"xaxis\":\"x\",\"y\":[0.157301,0.17158],\"yaxis\":\"y\",\"type\":\"scatter\"}],                        {\"template\":{\"data\":{\"barpolar\":[{\"marker\":{\"line\":{\"color\":\"white\",\"width\":0.5},\"pattern\":{\"fillmode\":\"overlay\",\"size\":10,\"solidity\":0.2}},\"type\":\"barpolar\"}],\"bar\":[{\"error_x\":{\"color\":\"#2a3f5f\"},\"error_y\":{\"color\":\"#2a3f5f\"},\"marker\":{\"line\":{\"color\":\"white\",\"width\":0.5},\"pattern\":{\"fillmode\":\"overlay\",\"size\":10,\"solidity\":0.2}},\"type\":\"bar\"}],\"carpet\":[{\"aaxis\":{\"endlinecolor\":\"#2a3f5f\",\"gridcolor\":\"#C8D4E3\",\"linecolor\":\"#C8D4E3\",\"minorgridcolor\":\"#C8D4E3\",\"startlinecolor\":\"#2a3f5f\"},\"baxis\":{\"endlinecolor\":\"#2a3f5f\",\"gridcolor\":\"#C8D4E3\",\"linecolor\":\"#C8D4E3\",\"minorgridcolor\":\"#C8D4E3\",\"startlinecolor\":\"#2a3f5f\"},\"type\":\"carpet\"}],\"choropleth\":[{\"colorbar\":{\"outlinewidth\":0,\"ticks\":\"\"},\"type\":\"choropleth\"}],\"contourcarpet\":[{\"colorbar\":{\"outlinewidth\":0,\"ticks\":\"\"},\"type\":\"contourcarpet\"}],\"contour\":[{\"colorbar\":{\"outlinewidth\":0,\"ticks\":\"\"},\"colorscale\":[[0.0,\"#0d0887\"],[0.1111111111111111,\"#46039f\"],[0.2222222222222222,\"#7201a8\"],[0.3333333333333333,\"#9c179e\"],[0.4444444444444444,\"#bd3786\"],[0.5555555555555556,\"#d8576b\"],[0.6666666666666666,\"#ed7953\"],[0.7777777777777778,\"#fb9f3a\"],[0.8888888888888888,\"#fdca26\"],[1.0,\"#f0f921\"]],\"type\":\"contour\"}],\"heatmapgl\":[{\"colorbar\":{\"outlinewidth\":0,\"ticks\":\"\"},\"colorscale\":[[0.0,\"#0d0887\"],[0.1111111111111111,\"#46039f\"],[0.2222222222222222,\"#7201a8\"],[0.3333333333333333,\"#9c179e\"],[0.4444444444444444,\"#bd3786\"],[0.5555555555555556,\"#d8576b\"],[0.6666666666666666,\"#ed7953\"],[0.7777777777777778,\"#fb9f3a\"],[0.8888888888888888,\"#fdca26\"],[1.0,\"#f0f921\"]],\"type\":\"heatmapgl\"}],\"heatmap\":[{\"colorbar\":{\"outlinewidth\":0,\"ticks\":\"\"},\"colorscale\":[[0.0,\"#0d0887\"],[0.1111111111111111,\"#46039f\"],[0.2222222222222222,\"#7201a8\"],[0.3333333333333333,\"#9c179e\"],[0.4444444444444444,\"#bd3786\"],[0.5555555555555556,\"#d8576b\"],[0.6666666666666666,\"#ed7953\"],[0.7777777777777778,\"#fb9f3a\"],[0.8888888888888888,\"#fdca26\"],[1.0,\"#f0f921\"]],\"type\":\"heatmap\"}],\"histogram2dcontour\":[{\"colorbar\":{\"outlinewidth\":0,\"ticks\":\"\"},\"colorscale\":[[0.0,\"#0d0887\"],[0.1111111111111111,\"#46039f\"],[0.2222222222222222,\"#7201a8\"],[0.3333333333333333,\"#9c179e\"],[0.4444444444444444,\"#bd3786\"],[0.5555555555555556,\"#d8576b\"],[0.6666666666666666,\"#ed7953\"],[0.7777777777777778,\"#fb9f3a\"],[0.8888888888888888,\"#fdca26\"],[1.0,\"#f0f921\"]],\"type\":\"histogram2dcontour\"}],\"histogram2d\":[{\"colorbar\":{\"outlinewidth\":0,\"ticks\":\"\"},\"colorscale\":[[0.0,\"#0d0887\"],[0.1111111111111111,\"#46039f\"],[0.2222222222222222,\"#7201a8\"],[0.3333333333333333,\"#9c179e\"],[0.4444444444444444,\"#bd3786\"],[0.5555555555555556,\"#d8576b\"],[0.6666666666666666,\"#ed7953\"],[0.7777777777777778,\"#fb9f3a\"],[0.8888888888888888,\"#fdca26\"],[1.0,\"#f0f921\"]],\"type\":\"histogram2d\"}],\"histogram\":[{\"marker\":{\"pattern\":{\"fillmode\":\"overlay\",\"size\":10,\"solidity\":0.2}},\"type\":\"histogram\"}],\"mesh3d\":[{\"colorbar\":{\"outlinewidth\":0,\"ticks\":\"\"},\"type\":\"mesh3d\"}],\"parcoords\":[{\"line\":{\"colorbar\":{\"outlinewidth\":0,\"ticks\":\"\"}},\"type\":\"parcoords\"}],\"pie\":[{\"automargin\":true,\"type\":\"pie\"}],\"scatter3d\":[{\"line\":{\"colorbar\":{\"outlinewidth\":0,\"ticks\":\"\"}},\"marker\":{\"colorbar\":{\"outlinewidth\":0,\"ticks\":\"\"}},\"type\":\"scatter3d\"}],\"scattercarpet\":[{\"marker\":{\"colorbar\":{\"outlinewidth\":0,\"ticks\":\"\"}},\"type\":\"scattercarpet\"}],\"scattergeo\":[{\"marker\":{\"colorbar\":{\"outlinewidth\":0,\"ticks\":\"\"}},\"type\":\"scattergeo\"}],\"scattergl\":[{\"marker\":{\"colorbar\":{\"outlinewidth\":0,\"ticks\":\"\"}},\"type\":\"scattergl\"}],\"scattermapbox\":[{\"marker\":{\"colorbar\":{\"outlinewidth\":0,\"ticks\":\"\"}},\"type\":\"scattermapbox\"}],\"scatterpolargl\":[{\"marker\":{\"colorbar\":{\"outlinewidth\":0,\"ticks\":\"\"}},\"type\":\"scatterpolargl\"}],\"scatterpolar\":[{\"marker\":{\"colorbar\":{\"outlinewidth\":0,\"ticks\":\"\"}},\"type\":\"scatterpolar\"}],\"scatter\":[{\"marker\":{\"colorbar\":{\"outlinewidth\":0,\"ticks\":\"\"}},\"type\":\"scatter\"}],\"scatterternary\":[{\"marker\":{\"colorbar\":{\"outlinewidth\":0,\"ticks\":\"\"}},\"type\":\"scatterternary\"}],\"surface\":[{\"colorbar\":{\"outlinewidth\":0,\"ticks\":\"\"},\"colorscale\":[[0.0,\"#0d0887\"],[0.1111111111111111,\"#46039f\"],[0.2222222222222222,\"#7201a8\"],[0.3333333333333333,\"#9c179e\"],[0.4444444444444444,\"#bd3786\"],[0.5555555555555556,\"#d8576b\"],[0.6666666666666666,\"#ed7953\"],[0.7777777777777778,\"#fb9f3a\"],[0.8888888888888888,\"#fdca26\"],[1.0,\"#f0f921\"]],\"type\":\"surface\"}],\"table\":[{\"cells\":{\"fill\":{\"color\":\"#EBF0F8\"},\"line\":{\"color\":\"white\"}},\"header\":{\"fill\":{\"color\":\"#C8D4E3\"},\"line\":{\"color\":\"white\"}},\"type\":\"table\"}]},\"layout\":{\"annotationdefaults\":{\"arrowcolor\":\"#2a3f5f\",\"arrowhead\":0,\"arrowwidth\":1},\"autotypenumbers\":\"strict\",\"coloraxis\":{\"colorbar\":{\"outlinewidth\":0,\"ticks\":\"\"}},\"colorscale\":{\"diverging\":[[0,\"#8e0152\"],[0.1,\"#c51b7d\"],[0.2,\"#de77ae\"],[0.3,\"#f1b6da\"],[0.4,\"#fde0ef\"],[0.5,\"#f7f7f7\"],[0.6,\"#e6f5d0\"],[0.7,\"#b8e186\"],[0.8,\"#7fbc41\"],[0.9,\"#4d9221\"],[1,\"#276419\"]],\"sequential\":[[0.0,\"#0d0887\"],[0.1111111111111111,\"#46039f\"],[0.2222222222222222,\"#7201a8\"],[0.3333333333333333,\"#9c179e\"],[0.4444444444444444,\"#bd3786\"],[0.5555555555555556,\"#d8576b\"],[0.6666666666666666,\"#ed7953\"],[0.7777777777777778,\"#fb9f3a\"],[0.8888888888888888,\"#fdca26\"],[1.0,\"#f0f921\"]],\"sequentialminus\":[[0.0,\"#0d0887\"],[0.1111111111111111,\"#46039f\"],[0.2222222222222222,\"#7201a8\"],[0.3333333333333333,\"#9c179e\"],[0.4444444444444444,\"#bd3786\"],[0.5555555555555556,\"#d8576b\"],[0.6666666666666666,\"#ed7953\"],[0.7777777777777778,\"#fb9f3a\"],[0.8888888888888888,\"#fdca26\"],[1.0,\"#f0f921\"]]},\"colorway\":[\"#636efa\",\"#EF553B\",\"#00cc96\",\"#ab63fa\",\"#FFA15A\",\"#19d3f3\",\"#FF6692\",\"#B6E880\",\"#FF97FF\",\"#FECB52\"],\"font\":{\"color\":\"#2a3f5f\"},\"geo\":{\"bgcolor\":\"white\",\"lakecolor\":\"white\",\"landcolor\":\"white\",\"showlakes\":true,\"showland\":true,\"subunitcolor\":\"#C8D4E3\"},\"hoverlabel\":{\"align\":\"left\"},\"hovermode\":\"closest\",\"mapbox\":{\"style\":\"light\"},\"paper_bgcolor\":\"white\",\"plot_bgcolor\":\"white\",\"polar\":{\"angularaxis\":{\"gridcolor\":\"#EBF0F8\",\"linecolor\":\"#EBF0F8\",\"ticks\":\"\"},\"bgcolor\":\"white\",\"radialaxis\":{\"gridcolor\":\"#EBF0F8\",\"linecolor\":\"#EBF0F8\",\"ticks\":\"\"}},\"scene\":{\"xaxis\":{\"backgroundcolor\":\"white\",\"gridcolor\":\"#DFE8F3\",\"gridwidth\":2,\"linecolor\":\"#EBF0F8\",\"showbackground\":true,\"ticks\":\"\",\"zerolinecolor\":\"#EBF0F8\"},\"yaxis\":{\"backgroundcolor\":\"white\",\"gridcolor\":\"#DFE8F3\",\"gridwidth\":2,\"linecolor\":\"#EBF0F8\",\"showbackground\":true,\"ticks\":\"\",\"zerolinecolor\":\"#EBF0F8\"},\"zaxis\":{\"backgroundcolor\":\"white\",\"gridcolor\":\"#DFE8F3\",\"gridwidth\":2,\"linecolor\":\"#EBF0F8\",\"showbackground\":true,\"ticks\":\"\",\"zerolinecolor\":\"#EBF0F8\"}},\"shapedefaults\":{\"line\":{\"color\":\"#2a3f5f\"}},\"ternary\":{\"aaxis\":{\"gridcolor\":\"#DFE8F3\",\"linecolor\":\"#A2B1C6\",\"ticks\":\"\"},\"baxis\":{\"gridcolor\":\"#DFE8F3\",\"linecolor\":\"#A2B1C6\",\"ticks\":\"\"},\"bgcolor\":\"white\",\"caxis\":{\"gridcolor\":\"#DFE8F3\",\"linecolor\":\"#A2B1C6\",\"ticks\":\"\"}},\"title\":{\"x\":0.05},\"xaxis\":{\"automargin\":true,\"gridcolor\":\"#EBF0F8\",\"linecolor\":\"#EBF0F8\",\"ticks\":\"\",\"title\":{\"standoff\":15},\"zerolinecolor\":\"#EBF0F8\",\"zerolinewidth\":2},\"yaxis\":{\"automargin\":true,\"gridcolor\":\"#EBF0F8\",\"linecolor\":\"#EBF0F8\",\"ticks\":\"\",\"title\":{\"standoff\":15},\"zerolinecolor\":\"#EBF0F8\",\"zerolinewidth\":2}}},\"xaxis\":{\"anchor\":\"y\",\"domain\":[0.0,1.0],\"title\":{\"text\":\"PID\"}},\"yaxis\":{\"anchor\":\"x\",\"domain\":[0.0,1.0],\"title\":{\"text\":\"dice_score\"}},\"legend\":{\"title\":{\"text\":\"PatientID\"},\"tracegroupgap\":0},\"title\":{\"text\":\"Dice Scores for qin-rep-repeat for nnunet preds based on pre-trained models for whole prostate gland\"},\"showlegend\":false},                        {\"responsive\": true}                    ).then(function(){\n",
              "                            \n",
              "var gd = document.getElementById('6fc08a8d-5475-4057-ade7-9096c11d891f');\n",
              "var x = new MutationObserver(function (mutations, observer) {{\n",
              "        var display = window.getComputedStyle(gd).display;\n",
              "        if (!display || display === 'none') {{\n",
              "            console.log([gd, 'removed!']);\n",
              "            Plotly.purge(gd);\n",
              "            observer.disconnect();\n",
              "        }}\n",
              "}});\n",
              "\n",
              "// Listen for the removal of the full notebook cells\n",
              "var notebookContainer = gd.closest('#notebook-container');\n",
              "if (notebookContainer) {{\n",
              "    x.observe(notebookContainer, {childList: true});\n",
              "}}\n",
              "\n",
              "// Listen for the clearing of the current output cell\n",
              "var outputEl = gd.closest('.output');\n",
              "if (outputEl) {{\n",
              "    x.observe(outputEl, {childList: true});\n",
              "}}\n",
              "\n",
              "                        })                };                            </script>        </div>\n",
              "</body>\n",
              "</html>"
            ]
          },
          "metadata": {}
        }
      ]
    },
    {
      "cell_type": "markdown",
      "source": [
        "# Radiomics"
      ],
      "metadata": {
        "id": "mrTp1uZDfM2E"
      }
    },
    {
      "cell_type": "markdown",
      "source": [
        "## Dataframe import and merging"
      ],
      "metadata": {
        "id": "1x7yitoxfO13"
      }
    },
    {
      "cell_type": "markdown",
      "source": [
        "### Whole prostate nnUNet preds"
      ],
      "metadata": {
        "id": "Y8-mrbjufbtP"
      }
    },
    {
      "cell_type": "code",
      "source": [
        "from google.cloud import bigquery\n",
        "bq_client = bigquery.Client(project_id)\n",
        "selection_query = f\"\"\"\n",
        "  SELECT  \n",
        "  *\n",
        "FROM \n",
        "  `idc-sandbox-003.qin_prostate_repeatability.whole_prostate_dcm_radiomics` \"\"\""
      ],
      "metadata": {
        "id": "YI4f2H4gfUmG"
      },
      "execution_count": null,
      "outputs": []
    },
    {
      "cell_type": "code",
      "source": [
        "selection_result_whole_prostate_rad = bq_client.query(selection_query)\n",
        "selection_whole_prostate_rad_df = selection_result_whole_prostate_rad.result().to_dataframe()"
      ],
      "metadata": {
        "id": "VT8FmVYrfUmG"
      },
      "execution_count": null,
      "outputs": []
    },
    {
      "cell_type": "code",
      "source": [
        "selection_whole_prostate_rad_df.info()"
      ],
      "metadata": {
        "colab": {
          "base_uri": "https://localhost:8080/"
        },
        "id": "jiJtYUNQf65D",
        "outputId": "2a6d0cae-169c-4052-d23d-1fd7cd0644c9"
      },
      "execution_count": null,
      "outputs": [
        {
          "output_type": "stream",
          "name": "stdout",
          "text": [
            "<class 'pandas.core.frame.DataFrame'>\n",
            "RangeIndex: 30 entries, 0 to 29\n",
            "Columns: 155 entries, seg_nnUNet_ReferencedSeriesInstanceUID to SeriesInstanceUID\n",
            "dtypes: Int64(5), float64(113), object(37)\n",
            "memory usage: 36.6+ KB\n"
          ]
        }
      ]
    },
    {
      "cell_type": "code",
      "source": [
        "selection_whole_prostate_rad_df.columns.values"
      ],
      "metadata": {
        "colab": {
          "base_uri": "https://localhost:8080/"
        },
        "id": "VpLy3hXmf80W",
        "outputId": "cffd7981-f0a8-49c4-bbfb-c24e26eacd44"
      },
      "execution_count": null,
      "outputs": [
        {
          "output_type": "execute_result",
          "data": {
            "text/plain": [
              "array(['seg_nnUNet_ReferencedSeriesInstanceUID',\n",
              "       'seg_nnUNet_StudyInstanceUID', 'seg_nnUNet_patientID',\n",
              "       'seg_nnUNet_SOPClassUID', 'seg_nnUNet_SOPInstanceUID',\n",
              "       'seg_nnUNet_SeriesInstanceUID', 'seg_nnUNet_Modality',\n",
              "       'seg_nnUNet_SeriesDescription', 'seg_nnUNet_studydesc',\n",
              "       'seg_nnUNet_series_time', 'seg_nnUNet_study_time',\n",
              "       'seg_nnUNet_series_date', 'seg_nnUNet_study_date',\n",
              "       'ReferencedSegment', 'label_name',\n",
              "       'diagnostics_Versions_PyRadiomics', 'diagnostics_Versions_Numpy',\n",
              "       'diagnostics_Versions_SimpleITK', 'diagnostics_Versions_PyWavelet',\n",
              "       'diagnostics_Versions_Python',\n",
              "       'diagnostics_Configuration_Settings',\n",
              "       'diagnostics_Configuration_EnabledImageTypes',\n",
              "       'diagnostics_Image_original_Hash',\n",
              "       'diagnostics_Image_original_Dimensionality',\n",
              "       'diagnostics_Image_original_Spacing',\n",
              "       'diagnostics_Image_original_Size',\n",
              "       'diagnostics_Image_original_Mean',\n",
              "       'diagnostics_Image_original_Minimum',\n",
              "       'diagnostics_Image_original_Maximum',\n",
              "       'diagnostics_Mask_original_Hash',\n",
              "       'diagnostics_Mask_original_Spacing',\n",
              "       'diagnostics_Mask_original_Size',\n",
              "       'diagnostics_Mask_original_BoundingBox',\n",
              "       'diagnostics_Mask_original_VoxelNum',\n",
              "       'diagnostics_Mask_original_VolumeNum',\n",
              "       'diagnostics_Mask_original_CenterOfMassIndex',\n",
              "       'diagnostics_Mask_original_CenterOfMass',\n",
              "       'diagnostics_Mask_corrected_Spacing',\n",
              "       'diagnostics_Mask_corrected_Size',\n",
              "       'diagnostics_Mask_corrected_BoundingBox',\n",
              "       'diagnostics_Mask_corrected_VoxelNum',\n",
              "       'diagnostics_Mask_corrected_VolumeNum',\n",
              "       'diagnostics_Mask_corrected_CenterOfMassIndex',\n",
              "       'diagnostics_Mask_corrected_CenterOfMass',\n",
              "       'diagnostics_Mask_corrected_Mean',\n",
              "       'diagnostics_Mask_corrected_Minimum',\n",
              "       'diagnostics_Mask_corrected_Maximum', 'Elongation', 'Flatness',\n",
              "       'LeastAxisLength', 'MajorAxisLength', 'Maximum2DDiameterColumn',\n",
              "       'Maximum2DDiameterRow', 'Maximum2DDiameterSlice',\n",
              "       'Maximum3DDiameter', 'MeshVolume', 'MinorAxisLength', 'Sphericity',\n",
              "       'SurfaceArea', 'SurfaceVolumeRatio', 'VoxelVolume',\n",
              "       'original_firstorder_10Percentile',\n",
              "       'original_firstorder_90Percentile', 'original_firstorder_Energy',\n",
              "       'original_firstorder_Entropy',\n",
              "       'original_firstorder_InterquartileRange',\n",
              "       'original_firstorder_Kurtosis', 'original_firstorder_Maximum',\n",
              "       'original_firstorder_MeanAbsoluteDeviation',\n",
              "       'original_firstorder_Mean', 'original_firstorder_Median',\n",
              "       'original_firstorder_Minimum', 'original_firstorder_Range',\n",
              "       'original_firstorder_RobustMeanAbsoluteDeviation',\n",
              "       'original_firstorder_RootMeanSquared',\n",
              "       'original_firstorder_Skewness', 'original_firstorder_TotalEnergy',\n",
              "       'original_firstorder_Uniformity', 'original_firstorder_Variance',\n",
              "       'original_glcm_Autocorrelation', 'original_glcm_ClusterProminence',\n",
              "       'original_glcm_ClusterShade', 'original_glcm_ClusterTendency',\n",
              "       'original_glcm_Contrast', 'original_glcm_Correlation',\n",
              "       'original_glcm_DifferenceAverage',\n",
              "       'original_glcm_DifferenceEntropy',\n",
              "       'original_glcm_DifferenceVariance', 'original_glcm_Id',\n",
              "       'original_glcm_Idm', 'original_glcm_Idmn', 'original_glcm_Idn',\n",
              "       'original_glcm_Imc1', 'original_glcm_Imc2',\n",
              "       'original_glcm_InverseVariance', 'original_glcm_JointAverage',\n",
              "       'original_glcm_JointEnergy', 'original_glcm_JointEntropy',\n",
              "       'original_glcm_MCC', 'original_glcm_MaximumProbability',\n",
              "       'original_glcm_SumAverage', 'original_glcm_SumEntropy',\n",
              "       'original_glcm_SumSquares', 'original_gldm_DependenceEntropy',\n",
              "       'original_gldm_DependenceNonUniformity',\n",
              "       'original_gldm_DependenceNonUniformityNormalized',\n",
              "       'original_gldm_DependenceVariance',\n",
              "       'original_gldm_GrayLevelNonUniformity',\n",
              "       'original_gldm_GrayLevelVariance',\n",
              "       'original_gldm_HighGrayLevelEmphasis',\n",
              "       'original_gldm_LargeDependenceEmphasis',\n",
              "       'original_gldm_LargeDependenceHighGrayLevelEmphasis',\n",
              "       'original_gldm_LargeDependenceLowGrayLevelEmphasis',\n",
              "       'original_gldm_LowGrayLevelEmphasis',\n",
              "       'original_gldm_SmallDependenceEmphasis',\n",
              "       'original_gldm_SmallDependenceHighGrayLevelEmphasis',\n",
              "       'original_gldm_SmallDependenceLowGrayLevelEmphasis',\n",
              "       'original_glrlm_GrayLevelNonUniformity',\n",
              "       'original_glrlm_GrayLevelNonUniformityNormalized',\n",
              "       'original_glrlm_GrayLevelVariance',\n",
              "       'original_glrlm_HighGrayLevelRunEmphasis',\n",
              "       'original_glrlm_LongRunEmphasis',\n",
              "       'original_glrlm_LongRunHighGrayLevelEmphasis',\n",
              "       'original_glrlm_LongRunLowGrayLevelEmphasis',\n",
              "       'original_glrlm_LowGrayLevelRunEmphasis',\n",
              "       'original_glrlm_RunEntropy',\n",
              "       'original_glrlm_RunLengthNonUniformity',\n",
              "       'original_glrlm_RunLengthNonUniformityNormalized',\n",
              "       'original_glrlm_RunPercentage', 'original_glrlm_RunVariance',\n",
              "       'original_glrlm_ShortRunEmphasis',\n",
              "       'original_glrlm_ShortRunHighGrayLevelEmphasis',\n",
              "       'original_glrlm_ShortRunLowGrayLevelEmphasis',\n",
              "       'original_glszm_GrayLevelNonUniformity',\n",
              "       'original_glszm_GrayLevelNonUniformityNormalized',\n",
              "       'original_glszm_GrayLevelVariance',\n",
              "       'original_glszm_HighGrayLevelZoneEmphasis',\n",
              "       'original_glszm_LargeAreaEmphasis',\n",
              "       'original_glszm_LargeAreaHighGrayLevelEmphasis',\n",
              "       'original_glszm_LargeAreaLowGrayLevelEmphasis',\n",
              "       'original_glszm_LowGrayLevelZoneEmphasis',\n",
              "       'original_glszm_SizeZoneNonUniformity',\n",
              "       'original_glszm_SizeZoneNonUniformityNormalized',\n",
              "       'original_glszm_SmallAreaEmphasis',\n",
              "       'original_glszm_SmallAreaHighGrayLevelEmphasis',\n",
              "       'original_glszm_SmallAreaLowGrayLevelEmphasis',\n",
              "       'original_glszm_ZoneEntropy', 'original_glszm_ZonePercentage',\n",
              "       'original_glszm_ZoneVariance', 'original_ngtdm_Busyness',\n",
              "       'original_ngtdm_Coarseness', 'original_ngtdm_Complexity',\n",
              "       'original_ngtdm_Contrast', 'original_ngtdm_Strength',\n",
              "       'SeriesInstanceUID'], dtype=object)"
            ]
          },
          "metadata": {},
          "execution_count": 118
        }
      ]
    },
    {
      "cell_type": "markdown",
      "source": [
        "### Whole prostate idc ground-truth "
      ],
      "metadata": {
        "id": "mgUI821df-W3"
      }
    },
    {
      "cell_type": "code",
      "source": [
        "from google.cloud import bigquery\n",
        "bq_client = bigquery.Client(project_id)\n",
        "selection_query = f\"\"\"\n",
        "  SELECT  \n",
        "  *\n",
        "FROM \n",
        "  `idc-sandbox-003.qin_prostate_repeatability.whole_prostate_gt_idc_dcm_radiomics` \"\"\""
      ],
      "metadata": {
        "id": "y9Ydgy85f-W4"
      },
      "execution_count": null,
      "outputs": []
    },
    {
      "cell_type": "code",
      "source": [
        "selection_result_whole_prostate_gt_rad = bq_client.query(selection_query)\n",
        "selection_whole_prostate_gt_rad_df = selection_result_whole_prostate_gt_rad.result().to_dataframe()"
      ],
      "metadata": {
        "id": "Qyg-fkFPf-W4"
      },
      "execution_count": null,
      "outputs": []
    },
    {
      "cell_type": "code",
      "source": [
        "selection_whole_prostate_gt_rad_df.info()"
      ],
      "metadata": {
        "outputId": "5bf6cc5c-3296-46cd-baad-83d220d5fbc5",
        "colab": {
          "base_uri": "https://localhost:8080/"
        },
        "id": "0qa896Ygf-W4"
      },
      "execution_count": null,
      "outputs": [
        {
          "output_type": "stream",
          "name": "stdout",
          "text": [
            "<class 'pandas.core.frame.DataFrame'>\n",
            "RangeIndex: 30 entries, 0 to 29\n",
            "Columns: 155 entries, gt_idc_ReferencedSeriesInstanceUID to SeriesInstanceUID\n",
            "dtypes: Int64(5), float64(113), object(37)\n",
            "memory usage: 36.6+ KB\n"
          ]
        }
      ]
    },
    {
      "cell_type": "code",
      "source": [
        "selection_whole_prostate_gt_rad_df.head()"
      ],
      "metadata": {
        "colab": {
          "base_uri": "https://localhost:8080/",
          "height": 386
        },
        "id": "J49-A-WcgO_t",
        "outputId": "753bd006-efbd-4c4c-98e4-5f42eefd05e1"
      },
      "execution_count": null,
      "outputs": [
        {
          "output_type": "execute_result",
          "data": {
            "text/plain": [
              "                  gt_idc_ReferencedSeriesInstanceUID  \\\n",
              "0  1.3.6.1.4.1.14519.5.2.1.3671.4754.330595492110...   \n",
              "1  1.3.6.1.4.1.14519.5.2.1.3671.4754.621341845114...   \n",
              "2  1.3.6.1.4.1.14519.5.2.1.3671.4754.325025234684...   \n",
              "3  1.3.6.1.4.1.14519.5.2.1.3671.4754.165941479363...   \n",
              "4  1.3.6.1.4.1.14519.5.2.1.3671.4754.242851658965...   \n",
              "\n",
              "                             gt_idc_StudyInstanceUID gt_idc_patientID  \\\n",
              "0  1.3.6.1.4.1.14519.5.2.1.3671.4754.133806669697...   PCAMPMRI-00006   \n",
              "1  1.3.6.1.4.1.14519.5.2.1.3671.4754.431678793261...   PCAMPMRI-00015   \n",
              "2  1.3.6.1.4.1.14519.5.2.1.3671.4754.263464522348...   PCAMPMRI-00003   \n",
              "3  1.3.6.1.4.1.14519.5.2.1.3671.4754.162322077241...   PCAMPMRI-00003   \n",
              "4  1.3.6.1.4.1.14519.5.2.1.3671.4754.204078048920...   PCAMPMRI-00004   \n",
              "\n",
              "             gt_idc_SOPClassUID  \\\n",
              "0  1.2.840.10008.5.1.4.1.1.66.4   \n",
              "1  1.2.840.10008.5.1.4.1.1.66.4   \n",
              "2  1.2.840.10008.5.1.4.1.1.66.4   \n",
              "3  1.2.840.10008.5.1.4.1.1.66.4   \n",
              "4  1.2.840.10008.5.1.4.1.1.66.4   \n",
              "\n",
              "                               gt_idc_SOPInstanceUID  \\\n",
              "0  1.2.276.0.7230010.3.1.4.1426846371.2776.151320...   \n",
              "1  1.2.276.0.7230010.3.1.4.1426846371.10800.15132...   \n",
              "2  1.2.276.0.7230010.3.1.4.1426846371.1952.151320...   \n",
              "3  1.2.276.0.7230010.3.1.4.1426846371.13172.15132...   \n",
              "4  1.2.276.0.7230010.3.1.4.1426846371.10580.15132...   \n",
              "\n",
              "                            gt_idc_SeriesInstanceUID gt_idc_Modality  \\\n",
              "0  1.2.276.0.7230010.3.1.3.1426846371.2776.151320...             SEG   \n",
              "1  1.2.276.0.7230010.3.1.3.1426846371.10800.15132...             SEG   \n",
              "2  1.2.276.0.7230010.3.1.3.1426846371.1952.151320...             SEG   \n",
              "3  1.2.276.0.7230010.3.1.3.1426846371.13172.15132...             SEG   \n",
              "4  1.2.276.0.7230010.3.1.3.1426846371.10580.15132...             SEG   \n",
              "\n",
              "          gt_idc_SeriesDescription           gt_idc_studydesc  \\\n",
              "0  T2 Weighted Axial Segmentations  /BD/PRO   Pelvis w&w/oCon   \n",
              "1  T2 Weighted Axial Segmentations                   PCAMPMRI   \n",
              "2  T2 Weighted Axial Segmentations            PRO/BD Pelvis w   \n",
              "3  T2 Weighted Axial Segmentations            PRO/BD Pelvis w   \n",
              "4  T2 Weighted Axial Segmentations  /PRO/BD   Pelvis w&w/oCon   \n",
              "\n",
              "  gt_idc_series_time  ... original_glszm_SmallAreaLowGrayLevelEmphasis  \\\n",
              "0             174544  ...                                     0.000931   \n",
              "1             174649  ...                                     0.000843   \n",
              "2             174530  ...                                     0.000369   \n",
              "3             174527  ...                                     0.000238   \n",
              "4             174535  ...                                     0.000300   \n",
              "\n",
              "  original_glszm_ZoneEntropy original_glszm_ZonePercentage  \\\n",
              "0                   9.027539                      0.320274   \n",
              "1                   8.458713                      0.176229   \n",
              "2                   8.732689                      0.427202   \n",
              "3                   8.730304                      0.590037   \n",
              "4                   8.598785                      0.567338   \n",
              "\n",
              "   original_glszm_ZoneVariance original_ngtdm_Busyness  \\\n",
              "0                   274.281231                0.234091   \n",
              "1                  2549.252650                5.128078   \n",
              "2                    39.269419                0.210938   \n",
              "3                     5.166084                0.127573   \n",
              "4                    17.870707                0.268627   \n",
              "\n",
              "  original_ngtdm_Coarseness original_ngtdm_Complexity original_ngtdm_Contrast  \\\n",
              "0                  0.000187             405693.942280                0.057120   \n",
              "1                  0.000061              12949.168175                0.082928   \n",
              "2                  0.000351             138613.688451                0.183815   \n",
              "3                  0.000283             477669.350398                0.271542   \n",
              "4                  0.000276             149922.471658                0.414879   \n",
              "\n",
              "  original_ngtdm_Strength                                  SeriesInstanceUID  \n",
              "0               63.170726  1.2.276.0.7230010.3.1.3.1426846371.2776.151320...  \n",
              "1                0.366629  1.2.276.0.7230010.3.1.3.1426846371.10800.15132...  \n",
              "2               13.884955  1.2.276.0.7230010.3.1.3.1426846371.1952.151320...  \n",
              "3               26.073291  1.2.276.0.7230010.3.1.3.1426846371.13172.15132...  \n",
              "4                6.030982  1.2.276.0.7230010.3.1.3.1426846371.10580.15132...  \n",
              "\n",
              "[5 rows x 155 columns]"
            ],
            "text/html": [
              "\n",
              "  <div id=\"df-165a8e74-8d3b-4b29-9870-a682bad790e7\">\n",
              "    <div class=\"colab-df-container\">\n",
              "      <div>\n",
              "<style scoped>\n",
              "    .dataframe tbody tr th:only-of-type {\n",
              "        vertical-align: middle;\n",
              "    }\n",
              "\n",
              "    .dataframe tbody tr th {\n",
              "        vertical-align: top;\n",
              "    }\n",
              "\n",
              "    .dataframe thead th {\n",
              "        text-align: right;\n",
              "    }\n",
              "</style>\n",
              "<table border=\"1\" class=\"dataframe\">\n",
              "  <thead>\n",
              "    <tr style=\"text-align: right;\">\n",
              "      <th></th>\n",
              "      <th>gt_idc_ReferencedSeriesInstanceUID</th>\n",
              "      <th>gt_idc_StudyInstanceUID</th>\n",
              "      <th>gt_idc_patientID</th>\n",
              "      <th>gt_idc_SOPClassUID</th>\n",
              "      <th>gt_idc_SOPInstanceUID</th>\n",
              "      <th>gt_idc_SeriesInstanceUID</th>\n",
              "      <th>gt_idc_Modality</th>\n",
              "      <th>gt_idc_SeriesDescription</th>\n",
              "      <th>gt_idc_studydesc</th>\n",
              "      <th>gt_idc_series_time</th>\n",
              "      <th>...</th>\n",
              "      <th>original_glszm_SmallAreaLowGrayLevelEmphasis</th>\n",
              "      <th>original_glszm_ZoneEntropy</th>\n",
              "      <th>original_glszm_ZonePercentage</th>\n",
              "      <th>original_glszm_ZoneVariance</th>\n",
              "      <th>original_ngtdm_Busyness</th>\n",
              "      <th>original_ngtdm_Coarseness</th>\n",
              "      <th>original_ngtdm_Complexity</th>\n",
              "      <th>original_ngtdm_Contrast</th>\n",
              "      <th>original_ngtdm_Strength</th>\n",
              "      <th>SeriesInstanceUID</th>\n",
              "    </tr>\n",
              "  </thead>\n",
              "  <tbody>\n",
              "    <tr>\n",
              "      <th>0</th>\n",
              "      <td>1.3.6.1.4.1.14519.5.2.1.3671.4754.330595492110...</td>\n",
              "      <td>1.3.6.1.4.1.14519.5.2.1.3671.4754.133806669697...</td>\n",
              "      <td>PCAMPMRI-00006</td>\n",
              "      <td>1.2.840.10008.5.1.4.1.1.66.4</td>\n",
              "      <td>1.2.276.0.7230010.3.1.4.1426846371.2776.151320...</td>\n",
              "      <td>1.2.276.0.7230010.3.1.3.1426846371.2776.151320...</td>\n",
              "      <td>SEG</td>\n",
              "      <td>T2 Weighted Axial Segmentations</td>\n",
              "      <td>/BD/PRO   Pelvis w&amp;w/oCon</td>\n",
              "      <td>174544</td>\n",
              "      <td>...</td>\n",
              "      <td>0.000931</td>\n",
              "      <td>9.027539</td>\n",
              "      <td>0.320274</td>\n",
              "      <td>274.281231</td>\n",
              "      <td>0.234091</td>\n",
              "      <td>0.000187</td>\n",
              "      <td>405693.942280</td>\n",
              "      <td>0.057120</td>\n",
              "      <td>63.170726</td>\n",
              "      <td>1.2.276.0.7230010.3.1.3.1426846371.2776.151320...</td>\n",
              "    </tr>\n",
              "    <tr>\n",
              "      <th>1</th>\n",
              "      <td>1.3.6.1.4.1.14519.5.2.1.3671.4754.621341845114...</td>\n",
              "      <td>1.3.6.1.4.1.14519.5.2.1.3671.4754.431678793261...</td>\n",
              "      <td>PCAMPMRI-00015</td>\n",
              "      <td>1.2.840.10008.5.1.4.1.1.66.4</td>\n",
              "      <td>1.2.276.0.7230010.3.1.4.1426846371.10800.15132...</td>\n",
              "      <td>1.2.276.0.7230010.3.1.3.1426846371.10800.15132...</td>\n",
              "      <td>SEG</td>\n",
              "      <td>T2 Weighted Axial Segmentations</td>\n",
              "      <td>PCAMPMRI</td>\n",
              "      <td>174649</td>\n",
              "      <td>...</td>\n",
              "      <td>0.000843</td>\n",
              "      <td>8.458713</td>\n",
              "      <td>0.176229</td>\n",
              "      <td>2549.252650</td>\n",
              "      <td>5.128078</td>\n",
              "      <td>0.000061</td>\n",
              "      <td>12949.168175</td>\n",
              "      <td>0.082928</td>\n",
              "      <td>0.366629</td>\n",
              "      <td>1.2.276.0.7230010.3.1.3.1426846371.10800.15132...</td>\n",
              "    </tr>\n",
              "    <tr>\n",
              "      <th>2</th>\n",
              "      <td>1.3.6.1.4.1.14519.5.2.1.3671.4754.325025234684...</td>\n",
              "      <td>1.3.6.1.4.1.14519.5.2.1.3671.4754.263464522348...</td>\n",
              "      <td>PCAMPMRI-00003</td>\n",
              "      <td>1.2.840.10008.5.1.4.1.1.66.4</td>\n",
              "      <td>1.2.276.0.7230010.3.1.4.1426846371.1952.151320...</td>\n",
              "      <td>1.2.276.0.7230010.3.1.3.1426846371.1952.151320...</td>\n",
              "      <td>SEG</td>\n",
              "      <td>T2 Weighted Axial Segmentations</td>\n",
              "      <td>PRO/BD Pelvis w</td>\n",
              "      <td>174530</td>\n",
              "      <td>...</td>\n",
              "      <td>0.000369</td>\n",
              "      <td>8.732689</td>\n",
              "      <td>0.427202</td>\n",
              "      <td>39.269419</td>\n",
              "      <td>0.210938</td>\n",
              "      <td>0.000351</td>\n",
              "      <td>138613.688451</td>\n",
              "      <td>0.183815</td>\n",
              "      <td>13.884955</td>\n",
              "      <td>1.2.276.0.7230010.3.1.3.1426846371.1952.151320...</td>\n",
              "    </tr>\n",
              "    <tr>\n",
              "      <th>3</th>\n",
              "      <td>1.3.6.1.4.1.14519.5.2.1.3671.4754.165941479363...</td>\n",
              "      <td>1.3.6.1.4.1.14519.5.2.1.3671.4754.162322077241...</td>\n",
              "      <td>PCAMPMRI-00003</td>\n",
              "      <td>1.2.840.10008.5.1.4.1.1.66.4</td>\n",
              "      <td>1.2.276.0.7230010.3.1.4.1426846371.13172.15132...</td>\n",
              "      <td>1.2.276.0.7230010.3.1.3.1426846371.13172.15132...</td>\n",
              "      <td>SEG</td>\n",
              "      <td>T2 Weighted Axial Segmentations</td>\n",
              "      <td>PRO/BD Pelvis w</td>\n",
              "      <td>174527</td>\n",
              "      <td>...</td>\n",
              "      <td>0.000238</td>\n",
              "      <td>8.730304</td>\n",
              "      <td>0.590037</td>\n",
              "      <td>5.166084</td>\n",
              "      <td>0.127573</td>\n",
              "      <td>0.000283</td>\n",
              "      <td>477669.350398</td>\n",
              "      <td>0.271542</td>\n",
              "      <td>26.073291</td>\n",
              "      <td>1.2.276.0.7230010.3.1.3.1426846371.13172.15132...</td>\n",
              "    </tr>\n",
              "    <tr>\n",
              "      <th>4</th>\n",
              "      <td>1.3.6.1.4.1.14519.5.2.1.3671.4754.242851658965...</td>\n",
              "      <td>1.3.6.1.4.1.14519.5.2.1.3671.4754.204078048920...</td>\n",
              "      <td>PCAMPMRI-00004</td>\n",
              "      <td>1.2.840.10008.5.1.4.1.1.66.4</td>\n",
              "      <td>1.2.276.0.7230010.3.1.4.1426846371.10580.15132...</td>\n",
              "      <td>1.2.276.0.7230010.3.1.3.1426846371.10580.15132...</td>\n",
              "      <td>SEG</td>\n",
              "      <td>T2 Weighted Axial Segmentations</td>\n",
              "      <td>/PRO/BD   Pelvis w&amp;w/oCon</td>\n",
              "      <td>174535</td>\n",
              "      <td>...</td>\n",
              "      <td>0.000300</td>\n",
              "      <td>8.598785</td>\n",
              "      <td>0.567338</td>\n",
              "      <td>17.870707</td>\n",
              "      <td>0.268627</td>\n",
              "      <td>0.000276</td>\n",
              "      <td>149922.471658</td>\n",
              "      <td>0.414879</td>\n",
              "      <td>6.030982</td>\n",
              "      <td>1.2.276.0.7230010.3.1.3.1426846371.10580.15132...</td>\n",
              "    </tr>\n",
              "  </tbody>\n",
              "</table>\n",
              "<p>5 rows × 155 columns</p>\n",
              "</div>\n",
              "      <button class=\"colab-df-convert\" onclick=\"convertToInteractive('df-165a8e74-8d3b-4b29-9870-a682bad790e7')\"\n",
              "              title=\"Convert this dataframe to an interactive table.\"\n",
              "              style=\"display:none;\">\n",
              "        \n",
              "  <svg xmlns=\"http://www.w3.org/2000/svg\" height=\"24px\"viewBox=\"0 0 24 24\"\n",
              "       width=\"24px\">\n",
              "    <path d=\"M0 0h24v24H0V0z\" fill=\"none\"/>\n",
              "    <path d=\"M18.56 5.44l.94 2.06.94-2.06 2.06-.94-2.06-.94-.94-2.06-.94 2.06-2.06.94zm-11 1L8.5 8.5l.94-2.06 2.06-.94-2.06-.94L8.5 2.5l-.94 2.06-2.06.94zm10 10l.94 2.06.94-2.06 2.06-.94-2.06-.94-.94-2.06-.94 2.06-2.06.94z\"/><path d=\"M17.41 7.96l-1.37-1.37c-.4-.4-.92-.59-1.43-.59-.52 0-1.04.2-1.43.59L10.3 9.45l-7.72 7.72c-.78.78-.78 2.05 0 2.83L4 21.41c.39.39.9.59 1.41.59.51 0 1.02-.2 1.41-.59l7.78-7.78 2.81-2.81c.8-.78.8-2.07 0-2.86zM5.41 20L4 18.59l7.72-7.72 1.47 1.35L5.41 20z\"/>\n",
              "  </svg>\n",
              "      </button>\n",
              "      \n",
              "  <style>\n",
              "    .colab-df-container {\n",
              "      display:flex;\n",
              "      flex-wrap:wrap;\n",
              "      gap: 12px;\n",
              "    }\n",
              "\n",
              "    .colab-df-convert {\n",
              "      background-color: #E8F0FE;\n",
              "      border: none;\n",
              "      border-radius: 50%;\n",
              "      cursor: pointer;\n",
              "      display: none;\n",
              "      fill: #1967D2;\n",
              "      height: 32px;\n",
              "      padding: 0 0 0 0;\n",
              "      width: 32px;\n",
              "    }\n",
              "\n",
              "    .colab-df-convert:hover {\n",
              "      background-color: #E2EBFA;\n",
              "      box-shadow: 0px 1px 2px rgba(60, 64, 67, 0.3), 0px 1px 3px 1px rgba(60, 64, 67, 0.15);\n",
              "      fill: #174EA6;\n",
              "    }\n",
              "\n",
              "    [theme=dark] .colab-df-convert {\n",
              "      background-color: #3B4455;\n",
              "      fill: #D2E3FC;\n",
              "    }\n",
              "\n",
              "    [theme=dark] .colab-df-convert:hover {\n",
              "      background-color: #434B5C;\n",
              "      box-shadow: 0px 1px 3px 1px rgba(0, 0, 0, 0.15);\n",
              "      filter: drop-shadow(0px 1px 2px rgba(0, 0, 0, 0.3));\n",
              "      fill: #FFFFFF;\n",
              "    }\n",
              "  </style>\n",
              "\n",
              "      <script>\n",
              "        const buttonEl =\n",
              "          document.querySelector('#df-165a8e74-8d3b-4b29-9870-a682bad790e7 button.colab-df-convert');\n",
              "        buttonEl.style.display =\n",
              "          google.colab.kernel.accessAllowed ? 'block' : 'none';\n",
              "\n",
              "        async function convertToInteractive(key) {\n",
              "          const element = document.querySelector('#df-165a8e74-8d3b-4b29-9870-a682bad790e7');\n",
              "          const dataTable =\n",
              "            await google.colab.kernel.invokeFunction('convertToInteractive',\n",
              "                                                     [key], {});\n",
              "          if (!dataTable) return;\n",
              "\n",
              "          const docLinkHtml = 'Like what you see? Visit the ' +\n",
              "            '<a target=\"_blank\" href=https://colab.research.google.com/notebooks/data_table.ipynb>data table notebook</a>'\n",
              "            + ' to learn more about interactive tables.';\n",
              "          element.innerHTML = '';\n",
              "          dataTable['output_type'] = 'display_data';\n",
              "          await google.colab.output.renderOutput(dataTable, element);\n",
              "          const docLink = document.createElement('div');\n",
              "          docLink.innerHTML = docLinkHtml;\n",
              "          element.appendChild(docLink);\n",
              "        }\n",
              "      </script>\n",
              "    </div>\n",
              "  </div>\n",
              "  "
            ]
          },
          "metadata": {},
          "execution_count": 122
        }
      ]
    },
    {
      "cell_type": "code",
      "source": [
        "selection_whole_prostate_gt_rad_df.columns.values"
      ],
      "metadata": {
        "colab": {
          "base_uri": "https://localhost:8080/"
        },
        "id": "evhxnJ23hT3c",
        "outputId": "bc479864-fa12-4f23-9e44-b9c178676ce6"
      },
      "execution_count": null,
      "outputs": [
        {
          "output_type": "execute_result",
          "data": {
            "text/plain": [
              "array(['gt_idc_ReferencedSeriesInstanceUID', 'gt_idc_StudyInstanceUID',\n",
              "       'gt_idc_patientID', 'gt_idc_SOPClassUID', 'gt_idc_SOPInstanceUID',\n",
              "       'gt_idc_SeriesInstanceUID', 'gt_idc_Modality',\n",
              "       'gt_idc_SeriesDescription', 'gt_idc_studydesc',\n",
              "       'gt_idc_series_time', 'gt_idc_study_time', 'gt_idc_series_date',\n",
              "       'gt_idc_study_date', 'ReferencedSegment', 'label_name',\n",
              "       'diagnostics_Versions_PyRadiomics', 'diagnostics_Versions_Numpy',\n",
              "       'diagnostics_Versions_SimpleITK', 'diagnostics_Versions_PyWavelet',\n",
              "       'diagnostics_Versions_Python',\n",
              "       'diagnostics_Configuration_Settings',\n",
              "       'diagnostics_Configuration_EnabledImageTypes',\n",
              "       'diagnostics_Image_original_Hash',\n",
              "       'diagnostics_Image_original_Dimensionality',\n",
              "       'diagnostics_Image_original_Spacing',\n",
              "       'diagnostics_Image_original_Size',\n",
              "       'diagnostics_Image_original_Mean',\n",
              "       'diagnostics_Image_original_Minimum',\n",
              "       'diagnostics_Image_original_Maximum',\n",
              "       'diagnostics_Mask_original_Hash',\n",
              "       'diagnostics_Mask_original_Spacing',\n",
              "       'diagnostics_Mask_original_Size',\n",
              "       'diagnostics_Mask_original_BoundingBox',\n",
              "       'diagnostics_Mask_original_VoxelNum',\n",
              "       'diagnostics_Mask_original_VolumeNum',\n",
              "       'diagnostics_Mask_original_CenterOfMassIndex',\n",
              "       'diagnostics_Mask_original_CenterOfMass',\n",
              "       'diagnostics_Mask_corrected_Spacing',\n",
              "       'diagnostics_Mask_corrected_Size',\n",
              "       'diagnostics_Mask_corrected_BoundingBox',\n",
              "       'diagnostics_Mask_corrected_VoxelNum',\n",
              "       'diagnostics_Mask_corrected_VolumeNum',\n",
              "       'diagnostics_Mask_corrected_CenterOfMassIndex',\n",
              "       'diagnostics_Mask_corrected_CenterOfMass',\n",
              "       'diagnostics_Mask_corrected_Mean',\n",
              "       'diagnostics_Mask_corrected_Minimum',\n",
              "       'diagnostics_Mask_corrected_Maximum', 'Elongation', 'Flatness',\n",
              "       'LeastAxisLength', 'MajorAxisLength', 'Maximum2DDiameterColumn',\n",
              "       'Maximum2DDiameterRow', 'Maximum2DDiameterSlice',\n",
              "       'Maximum3DDiameter', 'MeshVolume', 'MinorAxisLength', 'Sphericity',\n",
              "       'SurfaceArea', 'SurfaceVolumeRatio', 'VoxelVolume',\n",
              "       'original_firstorder_10Percentile',\n",
              "       'original_firstorder_90Percentile', 'original_firstorder_Energy',\n",
              "       'original_firstorder_Entropy',\n",
              "       'original_firstorder_InterquartileRange',\n",
              "       'original_firstorder_Kurtosis', 'original_firstorder_Maximum',\n",
              "       'original_firstorder_MeanAbsoluteDeviation',\n",
              "       'original_firstorder_Mean', 'original_firstorder_Median',\n",
              "       'original_firstorder_Minimum', 'original_firstorder_Range',\n",
              "       'original_firstorder_RobustMeanAbsoluteDeviation',\n",
              "       'original_firstorder_RootMeanSquared',\n",
              "       'original_firstorder_Skewness', 'original_firstorder_TotalEnergy',\n",
              "       'original_firstorder_Uniformity', 'original_firstorder_Variance',\n",
              "       'original_glcm_Autocorrelation', 'original_glcm_ClusterProminence',\n",
              "       'original_glcm_ClusterShade', 'original_glcm_ClusterTendency',\n",
              "       'original_glcm_Contrast', 'original_glcm_Correlation',\n",
              "       'original_glcm_DifferenceAverage',\n",
              "       'original_glcm_DifferenceEntropy',\n",
              "       'original_glcm_DifferenceVariance', 'original_glcm_Id',\n",
              "       'original_glcm_Idm', 'original_glcm_Idmn', 'original_glcm_Idn',\n",
              "       'original_glcm_Imc1', 'original_glcm_Imc2',\n",
              "       'original_glcm_InverseVariance', 'original_glcm_JointAverage',\n",
              "       'original_glcm_JointEnergy', 'original_glcm_JointEntropy',\n",
              "       'original_glcm_MCC', 'original_glcm_MaximumProbability',\n",
              "       'original_glcm_SumAverage', 'original_glcm_SumEntropy',\n",
              "       'original_glcm_SumSquares', 'original_gldm_DependenceEntropy',\n",
              "       'original_gldm_DependenceNonUniformity',\n",
              "       'original_gldm_DependenceNonUniformityNormalized',\n",
              "       'original_gldm_DependenceVariance',\n",
              "       'original_gldm_GrayLevelNonUniformity',\n",
              "       'original_gldm_GrayLevelVariance',\n",
              "       'original_gldm_HighGrayLevelEmphasis',\n",
              "       'original_gldm_LargeDependenceEmphasis',\n",
              "       'original_gldm_LargeDependenceHighGrayLevelEmphasis',\n",
              "       'original_gldm_LargeDependenceLowGrayLevelEmphasis',\n",
              "       'original_gldm_LowGrayLevelEmphasis',\n",
              "       'original_gldm_SmallDependenceEmphasis',\n",
              "       'original_gldm_SmallDependenceHighGrayLevelEmphasis',\n",
              "       'original_gldm_SmallDependenceLowGrayLevelEmphasis',\n",
              "       'original_glrlm_GrayLevelNonUniformity',\n",
              "       'original_glrlm_GrayLevelNonUniformityNormalized',\n",
              "       'original_glrlm_GrayLevelVariance',\n",
              "       'original_glrlm_HighGrayLevelRunEmphasis',\n",
              "       'original_glrlm_LongRunEmphasis',\n",
              "       'original_glrlm_LongRunHighGrayLevelEmphasis',\n",
              "       'original_glrlm_LongRunLowGrayLevelEmphasis',\n",
              "       'original_glrlm_LowGrayLevelRunEmphasis',\n",
              "       'original_glrlm_RunEntropy',\n",
              "       'original_glrlm_RunLengthNonUniformity',\n",
              "       'original_glrlm_RunLengthNonUniformityNormalized',\n",
              "       'original_glrlm_RunPercentage', 'original_glrlm_RunVariance',\n",
              "       'original_glrlm_ShortRunEmphasis',\n",
              "       'original_glrlm_ShortRunHighGrayLevelEmphasis',\n",
              "       'original_glrlm_ShortRunLowGrayLevelEmphasis',\n",
              "       'original_glszm_GrayLevelNonUniformity',\n",
              "       'original_glszm_GrayLevelNonUniformityNormalized',\n",
              "       'original_glszm_GrayLevelVariance',\n",
              "       'original_glszm_HighGrayLevelZoneEmphasis',\n",
              "       'original_glszm_LargeAreaEmphasis',\n",
              "       'original_glszm_LargeAreaHighGrayLevelEmphasis',\n",
              "       'original_glszm_LargeAreaLowGrayLevelEmphasis',\n",
              "       'original_glszm_LowGrayLevelZoneEmphasis',\n",
              "       'original_glszm_SizeZoneNonUniformity',\n",
              "       'original_glszm_SizeZoneNonUniformityNormalized',\n",
              "       'original_glszm_SmallAreaEmphasis',\n",
              "       'original_glszm_SmallAreaHighGrayLevelEmphasis',\n",
              "       'original_glszm_SmallAreaLowGrayLevelEmphasis',\n",
              "       'original_glszm_ZoneEntropy', 'original_glszm_ZonePercentage',\n",
              "       'original_glszm_ZoneVariance', 'original_ngtdm_Busyness',\n",
              "       'original_ngtdm_Coarseness', 'original_ngtdm_Complexity',\n",
              "       'original_ngtdm_Contrast', 'original_ngtdm_Strength',\n",
              "       'SeriesInstanceUID'], dtype=object)"
            ]
          },
          "metadata": {},
          "execution_count": 123
        }
      ]
    },
    {
      "cell_type": "markdown",
      "source": [
        "### Merge nnUNet preds for ohif_url and patID formatting with radiomics nnUnet/gt idc pdf"
      ],
      "metadata": {
        "id": "cooKwZj9iocU"
      }
    },
    {
      "cell_type": "code",
      "source": [
        "cleaned_prostate_time_pts_df = cleaned_prostate_df.copy()\n",
        "cleaned_prostate_time_pts_df['time_index'] = cleaned_prostate_time_pts_df.apply(calculate_time_index, args = (cleaned_prostate_time_pts_df, ), axis=1)\n",
        "cleaned_prostate_time_pts_df[\"PID\"] = cleaned_prostate_time_pts_df.apply(lambda x: \"PID_\"+x[\"PatientID\"].split('-')[1]+\"_\"+x[\"time_index\"], axis=1)\n",
        "cleaned_prostate_time_pts_df = cleaned_prostate_time_pts_df.sort_values(by=['PID'], ascending=True)"
      ],
      "metadata": {
        "id": "qyYEldiYiyyw"
      },
      "execution_count": null,
      "outputs": []
    },
    {
      "cell_type": "code",
      "source": [
        "merged_df_nnuNet = pd.merge(cleaned_prostate_time_pts_df, selection_whole_prostate_rad_df, \n",
        "                              left_on='ReferencedSeriesInstanceUID', right_on='seg_nnUNet_ReferencedSeriesInstanceUID', how='inner')"
      ],
      "metadata": {
        "id": "gNNsMoKJi5bU"
      },
      "execution_count": null,
      "outputs": []
    },
    {
      "cell_type": "code",
      "source": [
        "merged_df_nnuNet.info()"
      ],
      "metadata": {
        "colab": {
          "base_uri": "https://localhost:8080/"
        },
        "id": "k9DRDzSojT4M",
        "outputId": "c6c7e5cd-cdb5-4314-e7e5-9a9ed6778bbe"
      },
      "execution_count": null,
      "outputs": [
        {
          "output_type": "stream",
          "name": "stdout",
          "text": [
            "<class 'pandas.core.frame.DataFrame'>\n",
            "Int64Index: 30 entries, 0 to 29\n",
            "Columns: 182 entries, ReferencedSeriesInstanceUID to SeriesInstanceUID_y\n",
            "dtypes: Int64(5), float64(115), object(62)\n",
            "memory usage: 43.0+ KB\n"
          ]
        }
      ]
    },
    {
      "cell_type": "code",
      "source": [
        "merged_df_nnuNet.VoxelVolume.values"
      ],
      "metadata": {
        "colab": {
          "base_uri": "https://localhost:8080/"
        },
        "id": "yiTo_pBxjaX_",
        "outputId": "bf6177e8-8d78-4e2a-cc97-9daa3ea9430a"
      },
      "execution_count": null,
      "outputs": [
        {
          "output_type": "execute_result",
          "data": {
            "text/plain": [
              "array([ 36224.12109375,  34153.05930294,  36563.37890625,  36236.1328125 ,\n",
              "        25292.70469733,  25951.7578125 ,  25604.296875  ,  28533.10546875,\n",
              "        92786.90764296,  90471.38671875,  65529.19921875,  65182.23676331,\n",
              "        36391.77990679,  36675.13137627,  65728.26196672,  65377.43427158,\n",
              "       109185.89812916, 111657.38898368,  47177.29922686,  45707.2762448 ,\n",
              "        32207.34281883,  34878.18542853, 101509.28585602, 102912.0734036 ,\n",
              "        32874.98383057,  32226.17920515,  33184.74197544,  38144.46713899,\n",
              "        74632.64036457,  69189.16543321])"
            ]
          },
          "metadata": {},
          "execution_count": 127
        }
      ]
    },
    {
      "cell_type": "markdown",
      "source": [
        "### merge gt IDC df and nnUNet preds(dsc) for ohif_url and patid formatting"
      ],
      "metadata": {
        "id": "-YXgZwq32gex"
      }
    },
    {
      "cell_type": "code",
      "source": [
        "merged_df_gt_idc = pd.merge(cleaned_prostate_time_pts_df, selection_whole_prostate_gt_rad_df, \n",
        "                              left_on='ReferencedSeriesInstanceUID', right_on='gt_idc_ReferencedSeriesInstanceUID', how='inner')"
      ],
      "metadata": {
        "id": "Mp0aJlCRlBvv"
      },
      "execution_count": null,
      "outputs": []
    },
    {
      "cell_type": "markdown",
      "source": [
        "## Whole prostate"
      ],
      "metadata": {
        "id": "vwzCrpnH37rd"
      }
    },
    {
      "cell_type": "markdown",
      "source": [
        "### Mesh volumes"
      ],
      "metadata": {
        "id": "3ykiM4Y63ar_"
      }
    },
    {
      "cell_type": "code",
      "source": [
        "# #scale volumes back to mL\n",
        "merged_df_nnuNet[\"MeshVolume\"] = merged_df_nnuNet.MeshVolume.apply(lambda x : x/1000)\n",
        "# #same for gt idc data\n",
        "merged_df_gt_idc[\"MeshVolume\"] = merged_df_gt_idc.MeshVolume.apply(lambda x : x/1000)"
      ],
      "metadata": {
        "id": "Wc803UgNgU7B"
      },
      "execution_count": null,
      "outputs": []
    },
    {
      "cell_type": "markdown",
      "source": [
        "#### nnUNet preds"
      ],
      "metadata": {
        "id": "wYNbyJab3v7j"
      }
    },
    {
      "cell_type": "code",
      "source": [
        "# scatter plot using plotly\n",
        "pio.templates[\"custom_nnUNet\"] = go.layout.Template(layout=go.Layout(colorway=['#ff0000']))\n",
        "pio.templates.default = 'custom_nnUNet'\n",
        "fig_nnUNet = px.line(merged_df_nnuNet,\n",
        "             x = \"PID\",\n",
        "             y=\"MeshVolume\",\n",
        "            #  points=\"all\",\n",
        "             color=\"PatientID\",\n",
        "             hover_data=[\"PatientID\", \"SeriesInstanceUID_x\", \"time_index\", \"dice_score\", \"hausdorff_dist\", \"StudyInstanceUID\", \"study_date\", \"study_time\"],\n",
        "             title=\"Mesh Volumes for qin-rep-repeat for nnunet preds based on pre-trained model for prostate\")\n",
        "\n",
        "            #  notched=True)\n",
        "  \n",
        "# initializing showlegend to \"False\"\n",
        "\n",
        "fig_nnUNet.update_layout(showlegend=False)\n",
        "\n",
        "fig_nnUNet.show()"
      ],
      "metadata": {
        "colab": {
          "base_uri": "https://localhost:8080/",
          "height": 542
        },
        "id": "95ieuvCT3dfE",
        "outputId": "9552b708-d7c6-4da4-8305-e7c53b0cffe3"
      },
      "execution_count": null,
      "outputs": [
        {
          "output_type": "display_data",
          "data": {
            "text/html": [
              "<html>\n",
              "<head><meta charset=\"utf-8\" /></head>\n",
              "<body>\n",
              "    <div>            <script src=\"https://cdnjs.cloudflare.com/ajax/libs/mathjax/2.7.5/MathJax.js?config=TeX-AMS-MML_SVG\"></script><script type=\"text/javascript\">if (window.MathJax) {MathJax.Hub.Config({SVG: {font: \"STIX-Web\"}});}</script>                <script type=\"text/javascript\">window.PlotlyConfig = {MathJaxConfig: 'local'};</script>\n",
              "        <script src=\"https://cdn.plot.ly/plotly-2.8.3.min.js\"></script>                <div id=\"20b32766-e5f0-4f02-969a-8771646e231a\" class=\"plotly-graph-div\" style=\"height:525px; width:100%;\"></div>            <script type=\"text/javascript\">                                    window.PLOTLYENV=window.PLOTLYENV || {};                                    if (document.getElementById(\"20b32766-e5f0-4f02-969a-8771646e231a\")) {                    Plotly.newPlot(                        \"20b32766-e5f0-4f02-969a-8771646e231a\",                        [{\"customdata\":[[\"PCAMPMRI-00001\",\"1.2.276.0.7230010.3.1.3.481034752.4115.1665501467.998877\",\"T0\",0.850058,6.393967,\"1.3.6.1.4.1.14519.5.2.1.3671.4754.121472087445374646718121301133\",\"19940620\",\"092715\"],[\"PCAMPMRI-00001\",\"1.2.276.0.7230010.3.1.3.481034752.4035.1665501458.949406\",\"T1\",0.82082,6.909079,\"1.3.6.1.4.1.14519.5.2.1.3671.4754.288848219213026850354055725664\",\"19940702\",\"132531\"]],\"hovertemplate\":\"PatientID=%{customdata[0]}<br>PID=%{x}<br>MeshVolume=%{y}<br>SeriesInstanceUID_x=%{customdata[1]}<br>time_index=%{customdata[2]}<br>dice_score=%{customdata[3]}<br>hausdorff_dist=%{customdata[4]}<br>StudyInstanceUID=%{customdata[5]}<br>study_date=%{customdata[6]}<br>study_time=%{customdata[7]}<extra></extra>\",\"legendgroup\":\"PCAMPMRI-00001\",\"line\":{\"color\":\"#ff0000\",\"dash\":\"solid\"},\"marker\":{\"symbol\":\"circle\"},\"mode\":\"lines\",\"name\":\"PCAMPMRI-00001\",\"orientation\":\"v\",\"showlegend\":true,\"x\":[\"PID_00001_T0\",\"PID_00001_T1\"],\"xaxis\":\"x\",\"y\":[36.194140625,34.126794877380306],\"yaxis\":\"y\",\"type\":\"scatter\"},{\"customdata\":[[\"PCAMPMRI-00002\",\"1.2.276.0.7230010.3.1.3.481034752.4091.1665501465.291743\",\"T0\",0.893324,6.072801,\"1.3.6.1.4.1.14519.5.2.1.3671.4754.304001015100152820571364796240\",\"19940709\",\"121716\"],[\"PCAMPMRI-00002\",\"1.2.276.0.7230010.3.1.3.481034752.4094.1665501465.634008\",\"T1\",0.877897,6.0,\"1.3.6.1.4.1.14519.5.2.1.3671.4754.568383070573576760578239627478\",\"19940723\",\"132116\"]],\"hovertemplate\":\"PatientID=%{customdata[0]}<br>PID=%{x}<br>MeshVolume=%{y}<br>SeriesInstanceUID_x=%{customdata[1]}<br>time_index=%{customdata[2]}<br>dice_score=%{customdata[3]}<br>hausdorff_dist=%{customdata[4]}<br>StudyInstanceUID=%{customdata[5]}<br>study_date=%{customdata[6]}<br>study_time=%{customdata[7]}<extra></extra>\",\"legendgroup\":\"PCAMPMRI-00002\",\"line\":{\"color\":\"#ff0000\",\"dash\":\"solid\"},\"marker\":{\"symbol\":\"circle\"},\"mode\":\"lines\",\"name\":\"PCAMPMRI-00002\",\"orientation\":\"v\",\"showlegend\":true,\"x\":[\"PID_00002_T0\",\"PID_00002_T1\"],\"xaxis\":\"x\",\"y\":[36.5326171875,36.20535888671875],\"yaxis\":\"y\",\"type\":\"scatter\"},{\"customdata\":[[\"PCAMPMRI-00003\",\"1.2.276.0.7230010.3.1.3.481034752.4121.1665501468.662250\",\"T0\",0.824255,12.004684,\"1.3.6.1.4.1.14519.5.2.1.3671.4754.162322077241419864654545266845\",\"19940811\",\"141233\"],[\"PCAMPMRI-00003\",\"1.2.276.0.7230010.3.1.3.481034752.4109.1665501467.317349\",\"T1\",0.840216,6.454771,\"1.3.6.1.4.1.14519.5.2.1.3671.4754.263464522348816475234793721892\",\"19940825\",\"113959\"]],\"hovertemplate\":\"PatientID=%{customdata[0]}<br>PID=%{x}<br>MeshVolume=%{y}<br>SeriesInstanceUID_x=%{customdata[1]}<br>time_index=%{customdata[2]}<br>dice_score=%{customdata[3]}<br>hausdorff_dist=%{customdata[4]}<br>StudyInstanceUID=%{customdata[5]}<br>study_date=%{customdata[6]}<br>study_time=%{customdata[7]}<extra></extra>\",\"legendgroup\":\"PCAMPMRI-00003\",\"line\":{\"color\":\"#ff0000\",\"dash\":\"solid\"},\"marker\":{\"symbol\":\"circle\"},\"mode\":\"lines\",\"name\":\"PCAMPMRI-00003\",\"orientation\":\"v\",\"showlegend\":true,\"x\":[\"PID_00003_T0\",\"PID_00003_T1\"],\"xaxis\":\"x\",\"y\":[25.26765458320733,25.9263427734375],\"yaxis\":\"y\",\"type\":\"scatter\"},{\"customdata\":[[\"PCAMPMRI-00004\",\"1.2.276.0.7230010.3.1.3.481034752.4064.1665501462.332456\",\"T0\",0.88957,9.0,\"1.3.6.1.4.1.14519.5.2.1.3671.4754.394942238206951812120962051099\",\"19940903\",\"104120\"],[\"PCAMPMRI-00004\",\"1.2.276.0.7230010.3.1.3.481034752.4041.1665501459.630679\",\"T1\",0.79055,9.0,\"1.3.6.1.4.1.14519.5.2.1.3671.4754.204078048920967920419177848890\",\"19940912\",\"144338\"]],\"hovertemplate\":\"PatientID=%{customdata[0]}<br>PID=%{x}<br>MeshVolume=%{y}<br>SeriesInstanceUID_x=%{customdata[1]}<br>time_index=%{customdata[2]}<br>dice_score=%{customdata[3]}<br>hausdorff_dist=%{customdata[4]}<br>StudyInstanceUID=%{customdata[5]}<br>study_date=%{customdata[6]}<br>study_time=%{customdata[7]}<extra></extra>\",\"legendgroup\":\"PCAMPMRI-00004\",\"line\":{\"color\":\"#ff0000\",\"dash\":\"solid\"},\"marker\":{\"symbol\":\"circle\"},\"mode\":\"lines\",\"name\":\"PCAMPMRI-00004\",\"orientation\":\"v\",\"showlegend\":true,\"x\":[\"PID_00004_T0\",\"PID_00004_T1\"],\"xaxis\":\"x\",\"y\":[25.57796630859375,28.50657958984375],\"yaxis\":\"y\",\"type\":\"scatter\"},{\"customdata\":[[\"PCAMPMRI-00005\",\"1.2.276.0.7230010.3.1.3.481034752.4070.1665501462.943132\",\"T0\",0.784956,23.450428,\"1.3.6.1.4.1.14519.5.2.1.3671.4754.240823776621155108064488841063\",\"19940910\",\"101927\"],[\"PCAMPMRI-00005\",\"1.2.276.0.7230010.3.1.3.481034752.4079.1665501463.960922\",\"T1\",0.763961,24.0,\"1.3.6.1.4.1.14519.5.2.1.3671.4754.233298968565250099224990877587\",\"19940917\",\"115624\"]],\"hovertemplate\":\"PatientID=%{customdata[0]}<br>PID=%{x}<br>MeshVolume=%{y}<br>SeriesInstanceUID_x=%{customdata[1]}<br>time_index=%{customdata[2]}<br>dice_score=%{customdata[3]}<br>hausdorff_dist=%{customdata[4]}<br>StudyInstanceUID=%{customdata[5]}<br>study_date=%{customdata[6]}<br>study_time=%{customdata[7]}<extra></extra>\",\"legendgroup\":\"PCAMPMRI-00005\",\"line\":{\"color\":\"#ff0000\",\"dash\":\"solid\"},\"marker\":{\"symbol\":\"circle\"},\"mode\":\"lines\",\"name\":\"PCAMPMRI-00005\",\"orientation\":\"v\",\"showlegend\":true,\"x\":[\"PID_00005_T0\",\"PID_00005_T1\"],\"xaxis\":\"x\",\"y\":[92.74368614198464,90.416259765625],\"yaxis\":\"y\",\"type\":\"scatter\"},{\"customdata\":[[\"PCAMPMRI-00006\",\"1.2.276.0.7230010.3.1.3.481034752.4067.1665501462.611630\",\"T0\",0.897349,9.240916,\"1.3.6.1.4.1.14519.5.2.1.3671.4754.287814201869490350714498330797\",\"19940924\",\"132134\"],[\"PCAMPMRI-00006\",\"1.2.276.0.7230010.3.1.3.481034752.4055.1665501460.976611\",\"T1\",0.904828,6.358025,\"1.3.6.1.4.1.14519.5.2.1.3671.4754.133806669697115873569905534398\",\"19941001\",\"133534\"]],\"hovertemplate\":\"PatientID=%{customdata[0]}<br>PID=%{x}<br>MeshVolume=%{y}<br>SeriesInstanceUID_x=%{customdata[1]}<br>time_index=%{customdata[2]}<br>dice_score=%{customdata[3]}<br>hausdorff_dist=%{customdata[4]}<br>StudyInstanceUID=%{customdata[5]}<br>study_date=%{customdata[6]}<br>study_time=%{customdata[7]}<extra></extra>\",\"legendgroup\":\"PCAMPMRI-00006\",\"line\":{\"color\":\"#ff0000\",\"dash\":\"solid\"},\"marker\":{\"symbol\":\"circle\"},\"mode\":\"lines\",\"name\":\"PCAMPMRI-00006\",\"orientation\":\"v\",\"showlegend\":true,\"x\":[\"PID_00006_T0\",\"PID_00006_T1\"],\"xaxis\":\"x\",\"y\":[65.49542236328125,65.13955576550413],\"yaxis\":\"y\",\"type\":\"scatter\"},{\"customdata\":[[\"PCAMPMRI-00007\",\"1.2.276.0.7230010.3.1.3.481034752.4085.1665501464.626433\",\"T0\",0.869602,8.753248,\"1.3.6.1.4.1.14519.5.2.1.3671.4754.240243858523310211919840278205\",\"19941001\",\"103506\"],[\"PCAMPMRI-00007\",\"1.2.276.0.7230010.3.1.3.481034752.4100.1665501466.305261\",\"T1\",0.856915,7.137021,\"1.3.6.1.4.1.14519.5.2.1.3671.4754.962865348146140991373362412648\",\"19941008\",\"113910\"]],\"hovertemplate\":\"PatientID=%{customdata[0]}<br>PID=%{x}<br>MeshVolume=%{y}<br>SeriesInstanceUID_x=%{customdata[1]}<br>time_index=%{customdata[2]}<br>dice_score=%{customdata[3]}<br>hausdorff_dist=%{customdata[4]}<br>StudyInstanceUID=%{customdata[5]}<br>study_date=%{customdata[6]}<br>study_time=%{customdata[7]}<extra></extra>\",\"legendgroup\":\"PCAMPMRI-00007\",\"line\":{\"color\":\"#ff0000\",\"dash\":\"solid\"},\"marker\":{\"symbol\":\"circle\"},\"mode\":\"lines\",\"name\":\"PCAMPMRI-00007\",\"orientation\":\"v\",\"showlegend\":true,\"x\":[\"PID_00007_T0\",\"PID_00007_T1\"],\"xaxis\":\"x\",\"y\":[36.363278720092296,36.646580852448814],\"yaxis\":\"y\",\"type\":\"scatter\"},{\"customdata\":[[\"PCAMPMRI-00008\",\"1.2.276.0.7230010.3.1.3.481034752.4032.1665501458.674193\",\"T0\",0.873111,10.5,\"1.3.6.1.4.1.14519.5.2.1.3671.4754.173585825705285812758858023242\",\"19950617\",\"111335\"],[\"PCAMPMRI-00008\",\"1.2.276.0.7230010.3.1.3.481034752.4073.1665501463.263353\",\"T1\",0.919927,7.0,\"1.3.6.1.4.1.14519.5.2.1.3671.4754.266963586071007736606548226859\",\"19950701\",\"131106\"]],\"hovertemplate\":\"PatientID=%{customdata[0]}<br>PID=%{x}<br>MeshVolume=%{y}<br>SeriesInstanceUID_x=%{customdata[1]}<br>time_index=%{customdata[2]}<br>dice_score=%{customdata[3]}<br>hausdorff_dist=%{customdata[4]}<br>StudyInstanceUID=%{customdata[5]}<br>study_date=%{customdata[6]}<br>study_time=%{customdata[7]}<extra></extra>\",\"legendgroup\":\"PCAMPMRI-00008\",\"line\":{\"color\":\"#ff0000\",\"dash\":\"solid\"},\"marker\":{\"symbol\":\"circle\"},\"mode\":\"lines\",\"name\":\"PCAMPMRI-00008\",\"orientation\":\"v\",\"showlegend\":true,\"x\":[\"PID_00008_T0\",\"PID_00008_T1\"],\"xaxis\":\"x\",\"y\":[65.69245321149754,65.34123309167143],\"yaxis\":\"y\",\"type\":\"scatter\"},{\"customdata\":[[\"PCAMPMRI-00009\",\"1.2.276.0.7230010.3.1.3.481034752.4088.1665501464.949326\",\"T0\",0.899859,10.5,\"1.3.6.1.4.1.14519.5.2.1.3671.4754.864607788085827202303582199118\",\"19950701\",\"142721\"],[\"PCAMPMRI-00009\",\"1.2.276.0.7230010.3.1.3.481034752.4038.1665501459.282514\",\"T1\",0.904379,10.59214,\"1.3.6.1.4.1.14519.5.2.1.3671.4754.181478254003851548055481596513\",\"19950708\",\"163440\"]],\"hovertemplate\":\"PatientID=%{customdata[0]}<br>PID=%{x}<br>MeshVolume=%{y}<br>SeriesInstanceUID_x=%{customdata[1]}<br>time_index=%{customdata[2]}<br>dice_score=%{customdata[3]}<br>hausdorff_dist=%{customdata[4]}<br>StudyInstanceUID=%{customdata[5]}<br>study_date=%{customdata[6]}<br>study_time=%{customdata[7]}<extra></extra>\",\"legendgroup\":\"PCAMPMRI-00009\",\"line\":{\"color\":\"#ff0000\",\"dash\":\"solid\"},\"marker\":{\"symbol\":\"circle\"},\"mode\":\"lines\",\"name\":\"PCAMPMRI-00009\",\"orientation\":\"v\",\"showlegend\":true,\"x\":[\"PID_00009_T0\",\"PID_00009_T1\"],\"xaxis\":\"x\",\"y\":[109.14160863988084,111.61265256620061],\"yaxis\":\"y\",\"type\":\"scatter\"},{\"customdata\":[[\"PCAMPMRI-00010\",\"1.2.276.0.7230010.3.1.3.481034752.4097.1665501465.960320\",\"T0\",0.854506,10.5,\"1.3.6.1.4.1.14519.5.2.1.3671.4754.217251077299095981018478951589\",\"19950706\",\"110656\"],[\"PCAMPMRI-00010\",\"1.2.276.0.7230010.3.1.3.481034752.4106.1665501466.979878\",\"T1\",0.807196,14.0,\"1.3.6.1.4.1.14519.5.2.1.3671.4754.318227959935022390930294557376\",\"19950709\",\"150441\"]],\"hovertemplate\":\"PatientID=%{customdata[0]}<br>PID=%{x}<br>MeshVolume=%{y}<br>SeriesInstanceUID_x=%{customdata[1]}<br>time_index=%{customdata[2]}<br>dice_score=%{customdata[3]}<br>hausdorff_dist=%{customdata[4]}<br>StudyInstanceUID=%{customdata[5]}<br>study_date=%{customdata[6]}<br>study_time=%{customdata[7]}<extra></extra>\",\"legendgroup\":\"PCAMPMRI-00010\",\"line\":{\"color\":\"#ff0000\",\"dash\":\"solid\"},\"marker\":{\"symbol\":\"circle\"},\"mode\":\"lines\",\"name\":\"PCAMPMRI-00010\",\"orientation\":\"v\",\"showlegend\":true,\"x\":[\"PID_00010_T0\",\"PID_00010_T1\"],\"xaxis\":\"x\",\"y\":[47.14344169451931,45.674497880417654],\"yaxis\":\"y\",\"type\":\"scatter\"},{\"customdata\":[[\"PCAMPMRI-00011\",\"1.2.276.0.7230010.3.1.3.481034752.4058.1665501461.296222\",\"T0\",0.833805,10.148996,\"1.3.6.1.4.1.14519.5.2.1.3671.4754.131608903441424620949571415524\",\"19950826\",\"161817\"],[\"PCAMPMRI-00011\",\"1.2.276.0.7230010.3.1.3.481034752.4103.1665501466.640513\",\"T1\",0.836064,7.189639,\"1.3.6.1.4.1.14519.5.2.1.3671.4754.117496148504386222592571043379\",\"19950908\",\"160430\"]],\"hovertemplate\":\"PatientID=%{customdata[0]}<br>PID=%{x}<br>MeshVolume=%{y}<br>SeriesInstanceUID_x=%{customdata[1]}<br>time_index=%{customdata[2]}<br>dice_score=%{customdata[3]}<br>hausdorff_dist=%{customdata[4]}<br>StudyInstanceUID=%{customdata[5]}<br>study_date=%{customdata[6]}<br>study_time=%{customdata[7]}<extra></extra>\",\"legendgroup\":\"PCAMPMRI-00011\",\"line\":{\"color\":\"#ff0000\",\"dash\":\"solid\"},\"marker\":{\"symbol\":\"circle\"},\"mode\":\"lines\",\"name\":\"PCAMPMRI-00011\",\"orientation\":\"v\",\"showlegend\":true,\"x\":[\"PID_00011_T0\",\"PID_00011_T1\"],\"xaxis\":\"x\",\"y\":[32.177246023348104,34.84705306782558],\"yaxis\":\"y\",\"type\":\"scatter\"},{\"customdata\":[[\"PCAMPMRI-00012\",\"1.2.276.0.7230010.3.1.3.481034752.4044.1665501459.961513\",\"T0\",0.872965,14.0,\"1.3.6.1.4.1.14519.5.2.1.3671.4754.298665348758363466150039312520\",\"19951215\",\"131445\"],[\"PCAMPMRI-00012\",\"1.2.276.0.7230010.3.1.3.481034752.4052.1665501460.621505\",\"T1\",0.892244,10.5,\"1.3.6.1.4.1.14519.5.2.1.3671.4754.264231410930579591639987629694\",\"19951223\",\"113757\"]],\"hovertemplate\":\"PatientID=%{customdata[0]}<br>PID=%{x}<br>MeshVolume=%{y}<br>SeriesInstanceUID_x=%{customdata[1]}<br>time_index=%{customdata[2]}<br>dice_score=%{customdata[3]}<br>hausdorff_dist=%{customdata[4]}<br>StudyInstanceUID=%{customdata[5]}<br>study_date=%{customdata[6]}<br>study_time=%{customdata[7]}<extra></extra>\",\"legendgroup\":\"PCAMPMRI-00012\",\"line\":{\"color\":\"#ff0000\",\"dash\":\"solid\"},\"marker\":{\"symbol\":\"circle\"},\"mode\":\"lines\",\"name\":\"PCAMPMRI-00012\",\"orientation\":\"v\",\"showlegend\":true,\"x\":[\"PID_00012_T0\",\"PID_00012_T1\"],\"xaxis\":\"x\",\"y\":[101.46610823665611,102.8689611884316],\"yaxis\":\"y\",\"type\":\"scatter\"},{\"customdata\":[[\"PCAMPMRI-00013\",\"1.2.276.0.7230010.3.1.3.481034752.4112.1665501467.646274\",\"T0\",0.851779,7.001504,\"1.3.6.1.4.1.14519.5.2.1.3671.4754.211895462561589970837377570121\",\"19960222\",\"152346\"],[\"PCAMPMRI-00013\",\"1.2.276.0.7230010.3.1.3.481034752.4118.1665501468.327092\",\"T1\",0.865051,7.0,\"1.3.6.1.4.1.14519.5.2.1.3671.4754.245461598867316286839568962369\",\"19960307\",\"163449\"]],\"hovertemplate\":\"PatientID=%{customdata[0]}<br>PID=%{x}<br>MeshVolume=%{y}<br>SeriesInstanceUID_x=%{customdata[1]}<br>time_index=%{customdata[2]}<br>dice_score=%{customdata[3]}<br>hausdorff_dist=%{customdata[4]}<br>StudyInstanceUID=%{customdata[5]}<br>study_date=%{customdata[6]}<br>study_time=%{customdata[7]}<extra></extra>\",\"legendgroup\":\"PCAMPMRI-00013\",\"line\":{\"color\":\"#ff0000\",\"dash\":\"solid\"},\"marker\":{\"symbol\":\"circle\"},\"mode\":\"lines\",\"name\":\"PCAMPMRI-00013\",\"orientation\":\"v\",\"showlegend\":true,\"x\":[\"PID_00013_T0\",\"PID_00013_T1\"],\"xaxis\":\"x\",\"y\":[32.845840037311525,32.196867259088734],\"yaxis\":\"y\",\"type\":\"scatter\"},{\"customdata\":[[\"PCAMPMRI-00014\",\"1.2.276.0.7230010.3.1.3.481034752.4047.1665501460.288959\",\"T0\",0.801746,8.716873,\"1.3.6.1.4.1.14519.5.2.1.3671.4754.288453744990673175783381845880\",\"19960316\",\"130727\"],[\"PCAMPMRI-00014\",\"1.2.276.0.7230010.3.1.3.481034752.4076.1665501463.610640\",\"T1\",0.722186,14.0,\"1.3.6.1.4.1.14519.5.2.1.3671.4754.194890890650697728529329442454\",\"19960324\",\"162549\"]],\"hovertemplate\":\"PatientID=%{customdata[0]}<br>PID=%{x}<br>MeshVolume=%{y}<br>SeriesInstanceUID_x=%{customdata[1]}<br>time_index=%{customdata[2]}<br>dice_score=%{customdata[3]}<br>hausdorff_dist=%{customdata[4]}<br>StudyInstanceUID=%{customdata[5]}<br>study_date=%{customdata[6]}<br>study_time=%{customdata[7]}<extra></extra>\",\"legendgroup\":\"PCAMPMRI-00014\",\"line\":{\"color\":\"#ff0000\",\"dash\":\"solid\"},\"marker\":{\"symbol\":\"circle\"},\"mode\":\"lines\",\"name\":\"PCAMPMRI-00014\",\"orientation\":\"v\",\"showlegend\":true,\"x\":[\"PID_00014_T0\",\"PID_00014_T1\"],\"xaxis\":\"x\",\"y\":[33.15462337857709,38.11363999750272],\"yaxis\":\"y\",\"type\":\"scatter\"},{\"customdata\":[[\"PCAMPMRI-00015\",\"1.2.276.0.7230010.3.1.3.481034752.4082.1665501464.278390\",\"T0\",0.917475,10.5,\"1.3.6.1.4.1.14519.5.2.1.3671.4754.182983245842036631781777324507\",\"19960502\",\"111555\"],[\"PCAMPMRI-00015\",\"1.2.276.0.7230010.3.1.3.481034752.4061.1665501461.703894\",\"T1\",0.90025,10.502619,\"1.3.6.1.4.1.14519.5.2.1.3671.4754.431678793261759442965045820561\",\"19960516\",\"114812\"]],\"hovertemplate\":\"PatientID=%{customdata[0]}<br>PID=%{x}<br>MeshVolume=%{y}<br>SeriesInstanceUID_x=%{customdata[1]}<br>time_index=%{customdata[2]}<br>dice_score=%{customdata[3]}<br>hausdorff_dist=%{customdata[4]}<br>StudyInstanceUID=%{customdata[5]}<br>study_date=%{customdata[6]}<br>study_time=%{customdata[7]}<extra></extra>\",\"legendgroup\":\"PCAMPMRI-00015\",\"line\":{\"color\":\"#ff0000\",\"dash\":\"solid\"},\"marker\":{\"symbol\":\"circle\"},\"mode\":\"lines\",\"name\":\"PCAMPMRI-00015\",\"orientation\":\"v\",\"showlegend\":true,\"x\":[\"PID_00015_T0\",\"PID_00015_T1\"],\"xaxis\":\"x\",\"y\":[74.59447706108375,69.1507527400413],\"yaxis\":\"y\",\"type\":\"scatter\"}],                        {\"template\":{\"layout\":{\"colorway\":[\"#ff0000\"]}},\"xaxis\":{\"anchor\":\"y\",\"domain\":[0.0,1.0],\"title\":{\"text\":\"PID\"}},\"yaxis\":{\"anchor\":\"x\",\"domain\":[0.0,1.0],\"title\":{\"text\":\"MeshVolume\"}},\"legend\":{\"title\":{\"text\":\"PatientID\"},\"tracegroupgap\":0},\"title\":{\"text\":\"Mesh Volumes for qin-rep-repeat for nnunet preds based on pre-trained model for prostate\"},\"showlegend\":false},                        {\"responsive\": true}                    ).then(function(){\n",
              "                            \n",
              "var gd = document.getElementById('20b32766-e5f0-4f02-969a-8771646e231a');\n",
              "var x = new MutationObserver(function (mutations, observer) {{\n",
              "        var display = window.getComputedStyle(gd).display;\n",
              "        if (!display || display === 'none') {{\n",
              "            console.log([gd, 'removed!']);\n",
              "            Plotly.purge(gd);\n",
              "            observer.disconnect();\n",
              "        }}\n",
              "}});\n",
              "\n",
              "// Listen for the removal of the full notebook cells\n",
              "var notebookContainer = gd.closest('#notebook-container');\n",
              "if (notebookContainer) {{\n",
              "    x.observe(notebookContainer, {childList: true});\n",
              "}}\n",
              "\n",
              "// Listen for the clearing of the current output cell\n",
              "var outputEl = gd.closest('.output');\n",
              "if (outputEl) {{\n",
              "    x.observe(outputEl, {childList: true});\n",
              "}}\n",
              "\n",
              "                        })                };                            </script>        </div>\n",
              "</body>\n",
              "</html>"
            ]
          },
          "metadata": {}
        }
      ]
    },
    {
      "cell_type": "markdown",
      "source": [
        "#### seg gt idc"
      ],
      "metadata": {
        "id": "e27AT10K3z8w"
      }
    },
    {
      "cell_type": "code",
      "source": [
        "# scatter plot using plotly\n",
        "#00FF0\n",
        "pio.templates[\"custom_gt_idc\"] = go.layout.Template(layout=go.Layout(colorway=['#00ff00']))\n",
        "pio.templates.default = 'custom_gt_idc'\n",
        "fig_gt_idc = px.line(merged_df_gt_idc,\n",
        "             x = \"PID\",\n",
        "             y=\"MeshVolume\",\n",
        "            #  points=\"all\",\n",
        "             color=\"PatientID\",\n",
        "             hover_data=[\"PatientID\", \"SeriesInstanceUID_x\", \"time_index\", \"dice_score\", \"hausdorff_dist\", \"StudyInstanceUID\", \"study_date\", \"study_time\"],\n",
        "             title=\"Mesh Volumes for qin-rep-repeat for gt idc segs\")\n",
        "\n",
        "            #  notched=True)\n",
        "  \n",
        "# initializing showlegend to \"False\"\n",
        "\n",
        "fig_gt_idc.update_layout(showlegend=False)\n",
        "\n",
        "fig_gt_idc.show()"
      ],
      "metadata": {
        "colab": {
          "base_uri": "https://localhost:8080/",
          "height": 542
        },
        "id": "Ifkz7V-V3jnR",
        "outputId": "9c44a434-5d18-4a94-d3f9-028b8eed9006"
      },
      "execution_count": null,
      "outputs": [
        {
          "output_type": "display_data",
          "data": {
            "text/html": [
              "<html>\n",
              "<head><meta charset=\"utf-8\" /></head>\n",
              "<body>\n",
              "    <div>            <script src=\"https://cdnjs.cloudflare.com/ajax/libs/mathjax/2.7.5/MathJax.js?config=TeX-AMS-MML_SVG\"></script><script type=\"text/javascript\">if (window.MathJax) {MathJax.Hub.Config({SVG: {font: \"STIX-Web\"}});}</script>                <script type=\"text/javascript\">window.PlotlyConfig = {MathJaxConfig: 'local'};</script>\n",
              "        <script src=\"https://cdn.plot.ly/plotly-2.8.3.min.js\"></script>                <div id=\"7389b55a-874f-4f3c-ab9f-eb6defede1d1\" class=\"plotly-graph-div\" style=\"height:525px; width:100%;\"></div>            <script type=\"text/javascript\">                                    window.PLOTLYENV=window.PLOTLYENV || {};                                    if (document.getElementById(\"7389b55a-874f-4f3c-ab9f-eb6defede1d1\")) {                    Plotly.newPlot(                        \"7389b55a-874f-4f3c-ab9f-eb6defede1d1\",                        [{\"customdata\":[[\"PCAMPMRI-00001\",\"1.2.276.0.7230010.3.1.3.481034752.4115.1665501467.998877\",\"T0\",0.850058,6.393967,\"1.3.6.1.4.1.14519.5.2.1.3671.4754.121472087445374646718121301133\",\"19940620\",\"092715\"],[\"PCAMPMRI-00001\",\"1.2.276.0.7230010.3.1.3.481034752.4035.1665501458.949406\",\"T1\",0.82082,6.909079,\"1.3.6.1.4.1.14519.5.2.1.3671.4754.288848219213026850354055725664\",\"19940702\",\"132531\"]],\"hovertemplate\":\"PatientID=%{customdata[0]}<br>PID=%{x}<br>MeshVolume=%{y}<br>SeriesInstanceUID_x=%{customdata[1]}<br>time_index=%{customdata[2]}<br>dice_score=%{customdata[3]}<br>hausdorff_dist=%{customdata[4]}<br>StudyInstanceUID=%{customdata[5]}<br>study_date=%{customdata[6]}<br>study_time=%{customdata[7]}<extra></extra>\",\"legendgroup\":\"PCAMPMRI-00001\",\"line\":{\"color\":\"#00ff00\",\"dash\":\"solid\"},\"marker\":{\"symbol\":\"circle\"},\"mode\":\"lines\",\"name\":\"PCAMPMRI-00001\",\"orientation\":\"v\",\"showlegend\":true,\"x\":[\"PID_00001_T0\",\"PID_00001_T1\"],\"xaxis\":\"x\",\"y\":[27.70462646484375,23.89660958018508],\"yaxis\":\"y\",\"type\":\"scatter\"},{\"customdata\":[[\"PCAMPMRI-00002\",\"1.2.276.0.7230010.3.1.3.481034752.4091.1665501465.291743\",\"T0\",0.893324,6.072801,\"1.3.6.1.4.1.14519.5.2.1.3671.4754.304001015100152820571364796240\",\"19940709\",\"121716\"],[\"PCAMPMRI-00002\",\"1.2.276.0.7230010.3.1.3.481034752.4094.1665501465.634008\",\"T1\",0.877897,6.0,\"1.3.6.1.4.1.14519.5.2.1.3671.4754.568383070573576760578239627478\",\"19940723\",\"132116\"]],\"hovertemplate\":\"PatientID=%{customdata[0]}<br>PID=%{x}<br>MeshVolume=%{y}<br>SeriesInstanceUID_x=%{customdata[1]}<br>time_index=%{customdata[2]}<br>dice_score=%{customdata[3]}<br>hausdorff_dist=%{customdata[4]}<br>StudyInstanceUID=%{customdata[5]}<br>study_date=%{customdata[6]}<br>study_time=%{customdata[7]}<extra></extra>\",\"legendgroup\":\"PCAMPMRI-00002\",\"line\":{\"color\":\"#00ff00\",\"dash\":\"solid\"},\"marker\":{\"symbol\":\"circle\"},\"mode\":\"lines\",\"name\":\"PCAMPMRI-00002\",\"orientation\":\"v\",\"showlegend\":true,\"x\":[\"PID_00002_T0\",\"PID_00002_T1\"],\"xaxis\":\"x\",\"y\":[32.54202880859375,29.76400146484375],\"yaxis\":\"y\",\"type\":\"scatter\"},{\"customdata\":[[\"PCAMPMRI-00003\",\"1.2.276.0.7230010.3.1.3.481034752.4121.1665501468.662250\",\"T0\",0.824255,12.004684,\"1.3.6.1.4.1.14519.5.2.1.3671.4754.162322077241419864654545266845\",\"19940811\",\"141233\"],[\"PCAMPMRI-00003\",\"1.2.276.0.7230010.3.1.3.481034752.4109.1665501467.317349\",\"T1\",0.840216,6.454771,\"1.3.6.1.4.1.14519.5.2.1.3671.4754.263464522348816475234793721892\",\"19940825\",\"113959\"]],\"hovertemplate\":\"PatientID=%{customdata[0]}<br>PID=%{x}<br>MeshVolume=%{y}<br>SeriesInstanceUID_x=%{customdata[1]}<br>time_index=%{customdata[2]}<br>dice_score=%{customdata[3]}<br>hausdorff_dist=%{customdata[4]}<br>StudyInstanceUID=%{customdata[5]}<br>study_date=%{customdata[6]}<br>study_time=%{customdata[7]}<extra></extra>\",\"legendgroup\":\"PCAMPMRI-00003\",\"line\":{\"color\":\"#00ff00\",\"dash\":\"solid\"},\"marker\":{\"symbol\":\"circle\"},\"mode\":\"lines\",\"name\":\"PCAMPMRI-00003\",\"orientation\":\"v\",\"showlegend\":true,\"x\":[\"PID_00003_T0\",\"PID_00003_T1\"],\"xaxis\":\"x\",\"y\":[19.03889243548037,19.50565185546875],\"yaxis\":\"y\",\"type\":\"scatter\"},{\"customdata\":[[\"PCAMPMRI-00004\",\"1.2.276.0.7230010.3.1.3.481034752.4064.1665501462.332456\",\"T0\",0.88957,9.0,\"1.3.6.1.4.1.14519.5.2.1.3671.4754.394942238206951812120962051099\",\"19940903\",\"104120\"],[\"PCAMPMRI-00004\",\"1.2.276.0.7230010.3.1.3.481034752.4041.1665501459.630679\",\"T1\",0.79055,9.0,\"1.3.6.1.4.1.14519.5.2.1.3671.4754.204078048920967920419177848890\",\"19940912\",\"144338\"]],\"hovertemplate\":\"PatientID=%{customdata[0]}<br>PID=%{x}<br>MeshVolume=%{y}<br>SeriesInstanceUID_x=%{customdata[1]}<br>time_index=%{customdata[2]}<br>dice_score=%{customdata[3]}<br>hausdorff_dist=%{customdata[4]}<br>StudyInstanceUID=%{customdata[5]}<br>study_date=%{customdata[6]}<br>study_time=%{customdata[7]}<extra></extra>\",\"legendgroup\":\"PCAMPMRI-00004\",\"line\":{\"color\":\"#00ff00\",\"dash\":\"solid\"},\"marker\":{\"symbol\":\"circle\"},\"mode\":\"lines\",\"name\":\"PCAMPMRI-00004\",\"orientation\":\"v\",\"showlegend\":true,\"x\":[\"PID_00004_T0\",\"PID_00004_T1\"],\"xaxis\":\"x\",\"y\":[22.24384765625,19.6135986328125],\"yaxis\":\"y\",\"type\":\"scatter\"},{\"customdata\":[[\"PCAMPMRI-00005\",\"1.2.276.0.7230010.3.1.3.481034752.4070.1665501462.943132\",\"T0\",0.784956,23.450428,\"1.3.6.1.4.1.14519.5.2.1.3671.4754.240823776621155108064488841063\",\"19940910\",\"101927\"],[\"PCAMPMRI-00005\",\"1.2.276.0.7230010.3.1.3.481034752.4079.1665501463.960922\",\"T1\",0.763961,24.0,\"1.3.6.1.4.1.14519.5.2.1.3671.4754.233298968565250099224990877587\",\"19940917\",\"115624\"]],\"hovertemplate\":\"PatientID=%{customdata[0]}<br>PID=%{x}<br>MeshVolume=%{y}<br>SeriesInstanceUID_x=%{customdata[1]}<br>time_index=%{customdata[2]}<br>dice_score=%{customdata[3]}<br>hausdorff_dist=%{customdata[4]}<br>StudyInstanceUID=%{customdata[5]}<br>study_date=%{customdata[6]}<br>study_time=%{customdata[7]}<extra></extra>\",\"legendgroup\":\"PCAMPMRI-00005\",\"line\":{\"color\":\"#00ff00\",\"dash\":\"solid\"},\"marker\":{\"symbol\":\"circle\"},\"mode\":\"lines\",\"name\":\"PCAMPMRI-00005\",\"orientation\":\"v\",\"showlegend\":true,\"x\":[\"PID_00005_T0\",\"PID_00005_T1\"],\"xaxis\":\"x\",\"y\":[85.96074228393263,61.2610595703125],\"yaxis\":\"y\",\"type\":\"scatter\"},{\"customdata\":[[\"PCAMPMRI-00006\",\"1.2.276.0.7230010.3.1.3.481034752.4067.1665501462.611630\",\"T0\",0.897349,9.240916,\"1.3.6.1.4.1.14519.5.2.1.3671.4754.287814201869490350714498330797\",\"19940924\",\"132134\"],[\"PCAMPMRI-00006\",\"1.2.276.0.7230010.3.1.3.481034752.4055.1665501460.976611\",\"T1\",0.904828,6.358025,\"1.3.6.1.4.1.14519.5.2.1.3671.4754.133806669697115873569905534398\",\"19941001\",\"133534\"]],\"hovertemplate\":\"PatientID=%{customdata[0]}<br>PID=%{x}<br>MeshVolume=%{y}<br>SeriesInstanceUID_x=%{customdata[1]}<br>time_index=%{customdata[2]}<br>dice_score=%{customdata[3]}<br>hausdorff_dist=%{customdata[4]}<br>StudyInstanceUID=%{customdata[5]}<br>study_date=%{customdata[6]}<br>study_time=%{customdata[7]}<extra></extra>\",\"legendgroup\":\"PCAMPMRI-00006\",\"line\":{\"color\":\"#00ff00\",\"dash\":\"solid\"},\"marker\":{\"symbol\":\"circle\"},\"mode\":\"lines\",\"name\":\"PCAMPMRI-00006\",\"orientation\":\"v\",\"showlegend\":true,\"x\":[\"PID_00006_T0\",\"PID_00006_T1\"],\"xaxis\":\"x\",\"y\":[60.092431640625,56.92611456354471],\"yaxis\":\"y\",\"type\":\"scatter\"},{\"customdata\":[[\"PCAMPMRI-00007\",\"1.2.276.0.7230010.3.1.3.481034752.4085.1665501464.626433\",\"T0\",0.869602,8.753248,\"1.3.6.1.4.1.14519.5.2.1.3671.4754.240243858523310211919840278205\",\"19941001\",\"103506\"],[\"PCAMPMRI-00007\",\"1.2.276.0.7230010.3.1.3.481034752.4100.1665501466.305261\",\"T1\",0.856915,7.137021,\"1.3.6.1.4.1.14519.5.2.1.3671.4754.962865348146140991373362412648\",\"19941008\",\"113910\"]],\"hovertemplate\":\"PatientID=%{customdata[0]}<br>PID=%{x}<br>MeshVolume=%{y}<br>SeriesInstanceUID_x=%{customdata[1]}<br>time_index=%{customdata[2]}<br>dice_score=%{customdata[3]}<br>hausdorff_dist=%{customdata[4]}<br>StudyInstanceUID=%{customdata[5]}<br>study_date=%{customdata[6]}<br>study_time=%{customdata[7]}<extra></extra>\",\"legendgroup\":\"PCAMPMRI-00007\",\"line\":{\"color\":\"#00ff00\",\"dash\":\"solid\"},\"marker\":{\"symbol\":\"circle\"},\"mode\":\"lines\",\"name\":\"PCAMPMRI-00007\",\"orientation\":\"v\",\"showlegend\":true,\"x\":[\"PID_00007_T0\",\"PID_00007_T1\"],\"xaxis\":\"x\",\"y\":[29.70227675175508,28.316199581467664],\"yaxis\":\"y\",\"type\":\"scatter\"},{\"customdata\":[[\"PCAMPMRI-00008\",\"1.2.276.0.7230010.3.1.3.481034752.4032.1665501458.674193\",\"T0\",0.873111,10.5,\"1.3.6.1.4.1.14519.5.2.1.3671.4754.173585825705285812758858023242\",\"19950617\",\"111335\"],[\"PCAMPMRI-00008\",\"1.2.276.0.7230010.3.1.3.481034752.4073.1665501463.263353\",\"T1\",0.919927,7.0,\"1.3.6.1.4.1.14519.5.2.1.3671.4754.266963586071007736606548226859\",\"19950701\",\"131106\"]],\"hovertemplate\":\"PatientID=%{customdata[0]}<br>PID=%{x}<br>MeshVolume=%{y}<br>SeriesInstanceUID_x=%{customdata[1]}<br>time_index=%{customdata[2]}<br>dice_score=%{customdata[3]}<br>hausdorff_dist=%{customdata[4]}<br>StudyInstanceUID=%{customdata[5]}<br>study_date=%{customdata[6]}<br>study_time=%{customdata[7]}<extra></extra>\",\"legendgroup\":\"PCAMPMRI-00008\",\"line\":{\"color\":\"#00ff00\",\"dash\":\"solid\"},\"marker\":{\"symbol\":\"circle\"},\"mode\":\"lines\",\"name\":\"PCAMPMRI-00008\",\"orientation\":\"v\",\"showlegend\":true,\"x\":[\"PID_00008_T0\",\"PID_00008_T1\"],\"xaxis\":\"x\",\"y\":[53.568993075821034,64.47043174858356],\"yaxis\":\"y\",\"type\":\"scatter\"},{\"customdata\":[[\"PCAMPMRI-00009\",\"1.2.276.0.7230010.3.1.3.481034752.4088.1665501464.949326\",\"T0\",0.899859,10.5,\"1.3.6.1.4.1.14519.5.2.1.3671.4754.864607788085827202303582199118\",\"19950701\",\"142721\"],[\"PCAMPMRI-00009\",\"1.2.276.0.7230010.3.1.3.481034752.4038.1665501459.282514\",\"T1\",0.904379,10.59214,\"1.3.6.1.4.1.14519.5.2.1.3671.4754.181478254003851548055481596513\",\"19950708\",\"163440\"]],\"hovertemplate\":\"PatientID=%{customdata[0]}<br>PID=%{x}<br>MeshVolume=%{y}<br>SeriesInstanceUID_x=%{customdata[1]}<br>time_index=%{customdata[2]}<br>dice_score=%{customdata[3]}<br>hausdorff_dist=%{customdata[4]}<br>StudyInstanceUID=%{customdata[5]}<br>study_date=%{customdata[6]}<br>study_time=%{customdata[7]}<extra></extra>\",\"legendgroup\":\"PCAMPMRI-00009\",\"line\":{\"color\":\"#00ff00\",\"dash\":\"solid\"},\"marker\":{\"symbol\":\"circle\"},\"mode\":\"lines\",\"name\":\"PCAMPMRI-00009\",\"orientation\":\"v\",\"showlegend\":true,\"x\":[\"PID_00009_T0\",\"PID_00009_T1\"],\"xaxis\":\"x\",\"y\":[97.03678867806777,115.87448307622964],\"yaxis\":\"y\",\"type\":\"scatter\"},{\"customdata\":[[\"PCAMPMRI-00010\",\"1.2.276.0.7230010.3.1.3.481034752.4097.1665501465.960320\",\"T0\",0.854506,10.5,\"1.3.6.1.4.1.14519.5.2.1.3671.4754.217251077299095981018478951589\",\"19950706\",\"110656\"],[\"PCAMPMRI-00010\",\"1.2.276.0.7230010.3.1.3.481034752.4106.1665501466.979878\",\"T1\",0.807196,14.0,\"1.3.6.1.4.1.14519.5.2.1.3671.4754.318227959935022390930294557376\",\"19950709\",\"150441\"]],\"hovertemplate\":\"PatientID=%{customdata[0]}<br>PID=%{x}<br>MeshVolume=%{y}<br>SeriesInstanceUID_x=%{customdata[1]}<br>time_index=%{customdata[2]}<br>dice_score=%{customdata[3]}<br>hausdorff_dist=%{customdata[4]}<br>StudyInstanceUID=%{customdata[5]}<br>study_date=%{customdata[6]}<br>study_time=%{customdata[7]}<extra></extra>\",\"legendgroup\":\"PCAMPMRI-00010\",\"line\":{\"color\":\"#00ff00\",\"dash\":\"solid\"},\"marker\":{\"symbol\":\"circle\"},\"mode\":\"lines\",\"name\":\"PCAMPMRI-00010\",\"orientation\":\"v\",\"showlegend\":true,\"x\":[\"PID_00010_T0\",\"PID_00010_T1\"],\"xaxis\":\"x\",\"y\":[43.004407418108634,33.68667498721738],\"yaxis\":\"y\",\"type\":\"scatter\"},{\"customdata\":[[\"PCAMPMRI-00011\",\"1.2.276.0.7230010.3.1.3.481034752.4058.1665501461.296222\",\"T0\",0.833805,10.148996,\"1.3.6.1.4.1.14519.5.2.1.3671.4754.131608903441424620949571415524\",\"19950826\",\"161817\"],[\"PCAMPMRI-00011\",\"1.2.276.0.7230010.3.1.3.481034752.4103.1665501466.640513\",\"T1\",0.836064,7.189639,\"1.3.6.1.4.1.14519.5.2.1.3671.4754.117496148504386222592571043379\",\"19950908\",\"160430\"]],\"hovertemplate\":\"PatientID=%{customdata[0]}<br>PID=%{x}<br>MeshVolume=%{y}<br>SeriesInstanceUID_x=%{customdata[1]}<br>time_index=%{customdata[2]}<br>dice_score=%{customdata[3]}<br>hausdorff_dist=%{customdata[4]}<br>StudyInstanceUID=%{customdata[5]}<br>study_date=%{customdata[6]}<br>study_time=%{customdata[7]}<extra></extra>\",\"legendgroup\":\"PCAMPMRI-00011\",\"line\":{\"color\":\"#00ff00\",\"dash\":\"solid\"},\"marker\":{\"symbol\":\"circle\"},\"mode\":\"lines\",\"name\":\"PCAMPMRI-00011\",\"orientation\":\"v\",\"showlegend\":true,\"x\":[\"PID_00011_T0\",\"PID_00011_T1\"],\"xaxis\":\"x\",\"y\":[25.557531613663286,26.82757060074021],\"yaxis\":\"y\",\"type\":\"scatter\"},{\"customdata\":[[\"PCAMPMRI-00012\",\"1.2.276.0.7230010.3.1.3.481034752.4044.1665501459.961513\",\"T0\",0.872965,14.0,\"1.3.6.1.4.1.14519.5.2.1.3671.4754.298665348758363466150039312520\",\"19951215\",\"131445\"],[\"PCAMPMRI-00012\",\"1.2.276.0.7230010.3.1.3.481034752.4052.1665501460.621505\",\"T1\",0.892244,10.5,\"1.3.6.1.4.1.14519.5.2.1.3671.4754.264231410930579591639987629694\",\"19951223\",\"113757\"]],\"hovertemplate\":\"PatientID=%{customdata[0]}<br>PID=%{x}<br>MeshVolume=%{y}<br>SeriesInstanceUID_x=%{customdata[1]}<br>time_index=%{customdata[2]}<br>dice_score=%{customdata[3]}<br>hausdorff_dist=%{customdata[4]}<br>StudyInstanceUID=%{customdata[5]}<br>study_date=%{customdata[6]}<br>study_time=%{customdata[7]}<extra></extra>\",\"legendgroup\":\"PCAMPMRI-00012\",\"line\":{\"color\":\"#00ff00\",\"dash\":\"solid\"},\"marker\":{\"symbol\":\"circle\"},\"mode\":\"lines\",\"name\":\"PCAMPMRI-00012\",\"orientation\":\"v\",\"showlegend\":true,\"x\":[\"PID_00012_T0\",\"PID_00012_T1\"],\"xaxis\":\"x\",\"y\":[94.54151252555225,95.30075624275732],\"yaxis\":\"y\",\"type\":\"scatter\"},{\"customdata\":[[\"PCAMPMRI-00013\",\"1.2.276.0.7230010.3.1.3.481034752.4112.1665501467.646274\",\"T0\",0.851779,7.001504,\"1.3.6.1.4.1.14519.5.2.1.3671.4754.211895462561589970837377570121\",\"19960222\",\"152346\"],[\"PCAMPMRI-00013\",\"1.2.276.0.7230010.3.1.3.481034752.4118.1665501468.327092\",\"T1\",0.865051,7.0,\"1.3.6.1.4.1.14519.5.2.1.3671.4754.245461598867316286839568962369\",\"19960307\",\"163449\"]],\"hovertemplate\":\"PatientID=%{customdata[0]}<br>PID=%{x}<br>MeshVolume=%{y}<br>SeriesInstanceUID_x=%{customdata[1]}<br>time_index=%{customdata[2]}<br>dice_score=%{customdata[3]}<br>hausdorff_dist=%{customdata[4]}<br>StudyInstanceUID=%{customdata[5]}<br>study_date=%{customdata[6]}<br>study_time=%{customdata[7]}<extra></extra>\",\"legendgroup\":\"PCAMPMRI-00013\",\"line\":{\"color\":\"#00ff00\",\"dash\":\"solid\"},\"marker\":{\"symbol\":\"circle\"},\"mode\":\"lines\",\"name\":\"PCAMPMRI-00013\",\"orientation\":\"v\",\"showlegend\":true,\"x\":[\"PID_00013_T0\",\"PID_00013_T1\"],\"xaxis\":\"x\",\"y\":[24.964433759381606,25.10030231735407],\"yaxis\":\"y\",\"type\":\"scatter\"},{\"customdata\":[[\"PCAMPMRI-00014\",\"1.2.276.0.7230010.3.1.3.481034752.4047.1665501460.288959\",\"T0\",0.801746,8.716873,\"1.3.6.1.4.1.14519.5.2.1.3671.4754.288453744990673175783381845880\",\"19960316\",\"130727\"],[\"PCAMPMRI-00014\",\"1.2.276.0.7230010.3.1.3.481034752.4076.1665501463.610640\",\"T1\",0.722186,14.0,\"1.3.6.1.4.1.14519.5.2.1.3671.4754.194890890650697728529329442454\",\"19960324\",\"162549\"]],\"hovertemplate\":\"PatientID=%{customdata[0]}<br>PID=%{x}<br>MeshVolume=%{y}<br>SeriesInstanceUID_x=%{customdata[1]}<br>time_index=%{customdata[2]}<br>dice_score=%{customdata[3]}<br>hausdorff_dist=%{customdata[4]}<br>StudyInstanceUID=%{customdata[5]}<br>study_date=%{customdata[6]}<br>study_time=%{customdata[7]}<extra></extra>\",\"legendgroup\":\"PCAMPMRI-00014\",\"line\":{\"color\":\"#00ff00\",\"dash\":\"solid\"},\"marker\":{\"symbol\":\"circle\"},\"mode\":\"lines\",\"name\":\"PCAMPMRI-00014\",\"orientation\":\"v\",\"showlegend\":true,\"x\":[\"PID_00014_T0\",\"PID_00014_T1\"],\"xaxis\":\"x\",\"y\":[24.539919824458025,22.5217122177226],\"yaxis\":\"y\",\"type\":\"scatter\"},{\"customdata\":[[\"PCAMPMRI-00015\",\"1.2.276.0.7230010.3.1.3.481034752.4082.1665501464.278390\",\"T0\",0.917475,10.5,\"1.3.6.1.4.1.14519.5.2.1.3671.4754.182983245842036631781777324507\",\"19960502\",\"111555\"],[\"PCAMPMRI-00015\",\"1.2.276.0.7230010.3.1.3.481034752.4061.1665501461.703894\",\"T1\",0.90025,10.502619,\"1.3.6.1.4.1.14519.5.2.1.3671.4754.431678793261759442965045820561\",\"19960516\",\"114812\"]],\"hovertemplate\":\"PatientID=%{customdata[0]}<br>PID=%{x}<br>MeshVolume=%{y}<br>SeriesInstanceUID_x=%{customdata[1]}<br>time_index=%{customdata[2]}<br>dice_score=%{customdata[3]}<br>hausdorff_dist=%{customdata[4]}<br>StudyInstanceUID=%{customdata[5]}<br>study_date=%{customdata[6]}<br>study_time=%{customdata[7]}<extra></extra>\",\"legendgroup\":\"PCAMPMRI-00015\",\"line\":{\"color\":\"#00ff00\",\"dash\":\"solid\"},\"marker\":{\"symbol\":\"circle\"},\"mode\":\"lines\",\"name\":\"PCAMPMRI-00015\",\"orientation\":\"v\",\"showlegend\":true,\"x\":[\"PID_00015_T0\",\"PID_00015_T1\"],\"xaxis\":\"x\",\"y\":[67.49433669414816,62.4537073892146],\"yaxis\":\"y\",\"type\":\"scatter\"}],                        {\"template\":{\"layout\":{\"colorway\":[\"#00ff00\"]}},\"xaxis\":{\"anchor\":\"y\",\"domain\":[0.0,1.0],\"title\":{\"text\":\"PID\"}},\"yaxis\":{\"anchor\":\"x\",\"domain\":[0.0,1.0],\"title\":{\"text\":\"MeshVolume\"}},\"legend\":{\"title\":{\"text\":\"PatientID\"},\"tracegroupgap\":0},\"title\":{\"text\":\"Mesh Volumes for qin-rep-repeat for gt idc segs\"},\"showlegend\":false},                        {\"responsive\": true}                    ).then(function(){\n",
              "                            \n",
              "var gd = document.getElementById('7389b55a-874f-4f3c-ab9f-eb6defede1d1');\n",
              "var x = new MutationObserver(function (mutations, observer) {{\n",
              "        var display = window.getComputedStyle(gd).display;\n",
              "        if (!display || display === 'none') {{\n",
              "            console.log([gd, 'removed!']);\n",
              "            Plotly.purge(gd);\n",
              "            observer.disconnect();\n",
              "        }}\n",
              "}});\n",
              "\n",
              "// Listen for the removal of the full notebook cells\n",
              "var notebookContainer = gd.closest('#notebook-container');\n",
              "if (notebookContainer) {{\n",
              "    x.observe(notebookContainer, {childList: true});\n",
              "}}\n",
              "\n",
              "// Listen for the clearing of the current output cell\n",
              "var outputEl = gd.closest('.output');\n",
              "if (outputEl) {{\n",
              "    x.observe(outputEl, {childList: true});\n",
              "}}\n",
              "\n",
              "                        })                };                            </script>        </div>\n",
              "</body>\n",
              "</html>"
            ]
          },
          "metadata": {}
        }
      ]
    },
    {
      "cell_type": "markdown",
      "source": [
        "#### nnUNet and GT combined"
      ],
      "metadata": {
        "id": "E5YuBwAxcJsK"
      }
    },
    {
      "cell_type": "code",
      "source": [
        "#rename gt_cols\n",
        "# merged_df_gt_idc.columns = 'idc_' + merged_df_gt_idc.columns.values\n",
        "# merged_combined_df_idc = merged_df_nnuNet.merge(merged_df_gt_idc, left_on='PID', right_on='idc_PID', suffixes=(False, False))\n",
        "\n",
        "fig = go.Figure(data = fig_gt_idc.data + fig_nnUNet.data)\n",
        "fig.update_layout(showlegend=False)\n",
        "fig.show()"
      ],
      "metadata": {
        "colab": {
          "base_uri": "https://localhost:8080/",
          "height": 542
        },
        "outputId": "9cac532b-998d-4ac6-b413-13def1fd227e",
        "id": "QounU_owcJsK"
      },
      "execution_count": null,
      "outputs": [
        {
          "output_type": "display_data",
          "data": {
            "text/html": [
              "<html>\n",
              "<head><meta charset=\"utf-8\" /></head>\n",
              "<body>\n",
              "    <div>            <script src=\"https://cdnjs.cloudflare.com/ajax/libs/mathjax/2.7.5/MathJax.js?config=TeX-AMS-MML_SVG\"></script><script type=\"text/javascript\">if (window.MathJax) {MathJax.Hub.Config({SVG: {font: \"STIX-Web\"}});}</script>                <script type=\"text/javascript\">window.PlotlyConfig = {MathJaxConfig: 'local'};</script>\n",
              "        <script src=\"https://cdn.plot.ly/plotly-2.8.3.min.js\"></script>                <div id=\"cb43f1a1-23e9-498d-8db1-12c928190d12\" class=\"plotly-graph-div\" style=\"height:525px; width:100%;\"></div>            <script type=\"text/javascript\">                                    window.PLOTLYENV=window.PLOTLYENV || {};                                    if (document.getElementById(\"cb43f1a1-23e9-498d-8db1-12c928190d12\")) {                    Plotly.newPlot(                        \"cb43f1a1-23e9-498d-8db1-12c928190d12\",                        [{\"customdata\":[[\"PCAMPMRI-00001\",\"1.2.276.0.7230010.3.1.3.481034752.4115.1665501467.998877\",\"T0\",0.850058,6.393967,\"1.3.6.1.4.1.14519.5.2.1.3671.4754.121472087445374646718121301133\",\"19940620\",\"092715\"],[\"PCAMPMRI-00001\",\"1.2.276.0.7230010.3.1.3.481034752.4035.1665501458.949406\",\"T1\",0.82082,6.909079,\"1.3.6.1.4.1.14519.5.2.1.3671.4754.288848219213026850354055725664\",\"19940702\",\"132531\"]],\"hovertemplate\":\"PatientID=%{customdata[0]}<br>PID=%{x}<br>MeshVolume=%{y}<br>SeriesInstanceUID_x=%{customdata[1]}<br>time_index=%{customdata[2]}<br>dice_score=%{customdata[3]}<br>hausdorff_dist=%{customdata[4]}<br>StudyInstanceUID=%{customdata[5]}<br>study_date=%{customdata[6]}<br>study_time=%{customdata[7]}<extra></extra>\",\"legendgroup\":\"PCAMPMRI-00001\",\"line\":{\"color\":\"#00ff00\",\"dash\":\"solid\"},\"marker\":{\"symbol\":\"circle\"},\"mode\":\"lines\",\"name\":\"PCAMPMRI-00001\",\"orientation\":\"v\",\"showlegend\":true,\"x\":[\"PID_00001_T0\",\"PID_00001_T1\"],\"xaxis\":\"x\",\"y\":[27.70462646484375,23.89660958018508],\"yaxis\":\"y\",\"type\":\"scatter\"},{\"customdata\":[[\"PCAMPMRI-00002\",\"1.2.276.0.7230010.3.1.3.481034752.4091.1665501465.291743\",\"T0\",0.893324,6.072801,\"1.3.6.1.4.1.14519.5.2.1.3671.4754.304001015100152820571364796240\",\"19940709\",\"121716\"],[\"PCAMPMRI-00002\",\"1.2.276.0.7230010.3.1.3.481034752.4094.1665501465.634008\",\"T1\",0.877897,6.0,\"1.3.6.1.4.1.14519.5.2.1.3671.4754.568383070573576760578239627478\",\"19940723\",\"132116\"]],\"hovertemplate\":\"PatientID=%{customdata[0]}<br>PID=%{x}<br>MeshVolume=%{y}<br>SeriesInstanceUID_x=%{customdata[1]}<br>time_index=%{customdata[2]}<br>dice_score=%{customdata[3]}<br>hausdorff_dist=%{customdata[4]}<br>StudyInstanceUID=%{customdata[5]}<br>study_date=%{customdata[6]}<br>study_time=%{customdata[7]}<extra></extra>\",\"legendgroup\":\"PCAMPMRI-00002\",\"line\":{\"color\":\"#00ff00\",\"dash\":\"solid\"},\"marker\":{\"symbol\":\"circle\"},\"mode\":\"lines\",\"name\":\"PCAMPMRI-00002\",\"orientation\":\"v\",\"showlegend\":true,\"x\":[\"PID_00002_T0\",\"PID_00002_T1\"],\"xaxis\":\"x\",\"y\":[32.54202880859375,29.76400146484375],\"yaxis\":\"y\",\"type\":\"scatter\"},{\"customdata\":[[\"PCAMPMRI-00003\",\"1.2.276.0.7230010.3.1.3.481034752.4121.1665501468.662250\",\"T0\",0.824255,12.004684,\"1.3.6.1.4.1.14519.5.2.1.3671.4754.162322077241419864654545266845\",\"19940811\",\"141233\"],[\"PCAMPMRI-00003\",\"1.2.276.0.7230010.3.1.3.481034752.4109.1665501467.317349\",\"T1\",0.840216,6.454771,\"1.3.6.1.4.1.14519.5.2.1.3671.4754.263464522348816475234793721892\",\"19940825\",\"113959\"]],\"hovertemplate\":\"PatientID=%{customdata[0]}<br>PID=%{x}<br>MeshVolume=%{y}<br>SeriesInstanceUID_x=%{customdata[1]}<br>time_index=%{customdata[2]}<br>dice_score=%{customdata[3]}<br>hausdorff_dist=%{customdata[4]}<br>StudyInstanceUID=%{customdata[5]}<br>study_date=%{customdata[6]}<br>study_time=%{customdata[7]}<extra></extra>\",\"legendgroup\":\"PCAMPMRI-00003\",\"line\":{\"color\":\"#00ff00\",\"dash\":\"solid\"},\"marker\":{\"symbol\":\"circle\"},\"mode\":\"lines\",\"name\":\"PCAMPMRI-00003\",\"orientation\":\"v\",\"showlegend\":true,\"x\":[\"PID_00003_T0\",\"PID_00003_T1\"],\"xaxis\":\"x\",\"y\":[19.03889243548037,19.50565185546875],\"yaxis\":\"y\",\"type\":\"scatter\"},{\"customdata\":[[\"PCAMPMRI-00004\",\"1.2.276.0.7230010.3.1.3.481034752.4064.1665501462.332456\",\"T0\",0.88957,9.0,\"1.3.6.1.4.1.14519.5.2.1.3671.4754.394942238206951812120962051099\",\"19940903\",\"104120\"],[\"PCAMPMRI-00004\",\"1.2.276.0.7230010.3.1.3.481034752.4041.1665501459.630679\",\"T1\",0.79055,9.0,\"1.3.6.1.4.1.14519.5.2.1.3671.4754.204078048920967920419177848890\",\"19940912\",\"144338\"]],\"hovertemplate\":\"PatientID=%{customdata[0]}<br>PID=%{x}<br>MeshVolume=%{y}<br>SeriesInstanceUID_x=%{customdata[1]}<br>time_index=%{customdata[2]}<br>dice_score=%{customdata[3]}<br>hausdorff_dist=%{customdata[4]}<br>StudyInstanceUID=%{customdata[5]}<br>study_date=%{customdata[6]}<br>study_time=%{customdata[7]}<extra></extra>\",\"legendgroup\":\"PCAMPMRI-00004\",\"line\":{\"color\":\"#00ff00\",\"dash\":\"solid\"},\"marker\":{\"symbol\":\"circle\"},\"mode\":\"lines\",\"name\":\"PCAMPMRI-00004\",\"orientation\":\"v\",\"showlegend\":true,\"x\":[\"PID_00004_T0\",\"PID_00004_T1\"],\"xaxis\":\"x\",\"y\":[22.24384765625,19.6135986328125],\"yaxis\":\"y\",\"type\":\"scatter\"},{\"customdata\":[[\"PCAMPMRI-00005\",\"1.2.276.0.7230010.3.1.3.481034752.4070.1665501462.943132\",\"T0\",0.784956,23.450428,\"1.3.6.1.4.1.14519.5.2.1.3671.4754.240823776621155108064488841063\",\"19940910\",\"101927\"],[\"PCAMPMRI-00005\",\"1.2.276.0.7230010.3.1.3.481034752.4079.1665501463.960922\",\"T1\",0.763961,24.0,\"1.3.6.1.4.1.14519.5.2.1.3671.4754.233298968565250099224990877587\",\"19940917\",\"115624\"]],\"hovertemplate\":\"PatientID=%{customdata[0]}<br>PID=%{x}<br>MeshVolume=%{y}<br>SeriesInstanceUID_x=%{customdata[1]}<br>time_index=%{customdata[2]}<br>dice_score=%{customdata[3]}<br>hausdorff_dist=%{customdata[4]}<br>StudyInstanceUID=%{customdata[5]}<br>study_date=%{customdata[6]}<br>study_time=%{customdata[7]}<extra></extra>\",\"legendgroup\":\"PCAMPMRI-00005\",\"line\":{\"color\":\"#00ff00\",\"dash\":\"solid\"},\"marker\":{\"symbol\":\"circle\"},\"mode\":\"lines\",\"name\":\"PCAMPMRI-00005\",\"orientation\":\"v\",\"showlegend\":true,\"x\":[\"PID_00005_T0\",\"PID_00005_T1\"],\"xaxis\":\"x\",\"y\":[85.96074228393263,61.2610595703125],\"yaxis\":\"y\",\"type\":\"scatter\"},{\"customdata\":[[\"PCAMPMRI-00006\",\"1.2.276.0.7230010.3.1.3.481034752.4067.1665501462.611630\",\"T0\",0.897349,9.240916,\"1.3.6.1.4.1.14519.5.2.1.3671.4754.287814201869490350714498330797\",\"19940924\",\"132134\"],[\"PCAMPMRI-00006\",\"1.2.276.0.7230010.3.1.3.481034752.4055.1665501460.976611\",\"T1\",0.904828,6.358025,\"1.3.6.1.4.1.14519.5.2.1.3671.4754.133806669697115873569905534398\",\"19941001\",\"133534\"]],\"hovertemplate\":\"PatientID=%{customdata[0]}<br>PID=%{x}<br>MeshVolume=%{y}<br>SeriesInstanceUID_x=%{customdata[1]}<br>time_index=%{customdata[2]}<br>dice_score=%{customdata[3]}<br>hausdorff_dist=%{customdata[4]}<br>StudyInstanceUID=%{customdata[5]}<br>study_date=%{customdata[6]}<br>study_time=%{customdata[7]}<extra></extra>\",\"legendgroup\":\"PCAMPMRI-00006\",\"line\":{\"color\":\"#00ff00\",\"dash\":\"solid\"},\"marker\":{\"symbol\":\"circle\"},\"mode\":\"lines\",\"name\":\"PCAMPMRI-00006\",\"orientation\":\"v\",\"showlegend\":true,\"x\":[\"PID_00006_T0\",\"PID_00006_T1\"],\"xaxis\":\"x\",\"y\":[60.092431640625,56.92611456354471],\"yaxis\":\"y\",\"type\":\"scatter\"},{\"customdata\":[[\"PCAMPMRI-00007\",\"1.2.276.0.7230010.3.1.3.481034752.4085.1665501464.626433\",\"T0\",0.869602,8.753248,\"1.3.6.1.4.1.14519.5.2.1.3671.4754.240243858523310211919840278205\",\"19941001\",\"103506\"],[\"PCAMPMRI-00007\",\"1.2.276.0.7230010.3.1.3.481034752.4100.1665501466.305261\",\"T1\",0.856915,7.137021,\"1.3.6.1.4.1.14519.5.2.1.3671.4754.962865348146140991373362412648\",\"19941008\",\"113910\"]],\"hovertemplate\":\"PatientID=%{customdata[0]}<br>PID=%{x}<br>MeshVolume=%{y}<br>SeriesInstanceUID_x=%{customdata[1]}<br>time_index=%{customdata[2]}<br>dice_score=%{customdata[3]}<br>hausdorff_dist=%{customdata[4]}<br>StudyInstanceUID=%{customdata[5]}<br>study_date=%{customdata[6]}<br>study_time=%{customdata[7]}<extra></extra>\",\"legendgroup\":\"PCAMPMRI-00007\",\"line\":{\"color\":\"#00ff00\",\"dash\":\"solid\"},\"marker\":{\"symbol\":\"circle\"},\"mode\":\"lines\",\"name\":\"PCAMPMRI-00007\",\"orientation\":\"v\",\"showlegend\":true,\"x\":[\"PID_00007_T0\",\"PID_00007_T1\"],\"xaxis\":\"x\",\"y\":[29.70227675175508,28.316199581467664],\"yaxis\":\"y\",\"type\":\"scatter\"},{\"customdata\":[[\"PCAMPMRI-00008\",\"1.2.276.0.7230010.3.1.3.481034752.4032.1665501458.674193\",\"T0\",0.873111,10.5,\"1.3.6.1.4.1.14519.5.2.1.3671.4754.173585825705285812758858023242\",\"19950617\",\"111335\"],[\"PCAMPMRI-00008\",\"1.2.276.0.7230010.3.1.3.481034752.4073.1665501463.263353\",\"T1\",0.919927,7.0,\"1.3.6.1.4.1.14519.5.2.1.3671.4754.266963586071007736606548226859\",\"19950701\",\"131106\"]],\"hovertemplate\":\"PatientID=%{customdata[0]}<br>PID=%{x}<br>MeshVolume=%{y}<br>SeriesInstanceUID_x=%{customdata[1]}<br>time_index=%{customdata[2]}<br>dice_score=%{customdata[3]}<br>hausdorff_dist=%{customdata[4]}<br>StudyInstanceUID=%{customdata[5]}<br>study_date=%{customdata[6]}<br>study_time=%{customdata[7]}<extra></extra>\",\"legendgroup\":\"PCAMPMRI-00008\",\"line\":{\"color\":\"#00ff00\",\"dash\":\"solid\"},\"marker\":{\"symbol\":\"circle\"},\"mode\":\"lines\",\"name\":\"PCAMPMRI-00008\",\"orientation\":\"v\",\"showlegend\":true,\"x\":[\"PID_00008_T0\",\"PID_00008_T1\"],\"xaxis\":\"x\",\"y\":[53.568993075821034,64.47043174858356],\"yaxis\":\"y\",\"type\":\"scatter\"},{\"customdata\":[[\"PCAMPMRI-00009\",\"1.2.276.0.7230010.3.1.3.481034752.4088.1665501464.949326\",\"T0\",0.899859,10.5,\"1.3.6.1.4.1.14519.5.2.1.3671.4754.864607788085827202303582199118\",\"19950701\",\"142721\"],[\"PCAMPMRI-00009\",\"1.2.276.0.7230010.3.1.3.481034752.4038.1665501459.282514\",\"T1\",0.904379,10.59214,\"1.3.6.1.4.1.14519.5.2.1.3671.4754.181478254003851548055481596513\",\"19950708\",\"163440\"]],\"hovertemplate\":\"PatientID=%{customdata[0]}<br>PID=%{x}<br>MeshVolume=%{y}<br>SeriesInstanceUID_x=%{customdata[1]}<br>time_index=%{customdata[2]}<br>dice_score=%{customdata[3]}<br>hausdorff_dist=%{customdata[4]}<br>StudyInstanceUID=%{customdata[5]}<br>study_date=%{customdata[6]}<br>study_time=%{customdata[7]}<extra></extra>\",\"legendgroup\":\"PCAMPMRI-00009\",\"line\":{\"color\":\"#00ff00\",\"dash\":\"solid\"},\"marker\":{\"symbol\":\"circle\"},\"mode\":\"lines\",\"name\":\"PCAMPMRI-00009\",\"orientation\":\"v\",\"showlegend\":true,\"x\":[\"PID_00009_T0\",\"PID_00009_T1\"],\"xaxis\":\"x\",\"y\":[97.03678867806777,115.87448307622964],\"yaxis\":\"y\",\"type\":\"scatter\"},{\"customdata\":[[\"PCAMPMRI-00010\",\"1.2.276.0.7230010.3.1.3.481034752.4097.1665501465.960320\",\"T0\",0.854506,10.5,\"1.3.6.1.4.1.14519.5.2.1.3671.4754.217251077299095981018478951589\",\"19950706\",\"110656\"],[\"PCAMPMRI-00010\",\"1.2.276.0.7230010.3.1.3.481034752.4106.1665501466.979878\",\"T1\",0.807196,14.0,\"1.3.6.1.4.1.14519.5.2.1.3671.4754.318227959935022390930294557376\",\"19950709\",\"150441\"]],\"hovertemplate\":\"PatientID=%{customdata[0]}<br>PID=%{x}<br>MeshVolume=%{y}<br>SeriesInstanceUID_x=%{customdata[1]}<br>time_index=%{customdata[2]}<br>dice_score=%{customdata[3]}<br>hausdorff_dist=%{customdata[4]}<br>StudyInstanceUID=%{customdata[5]}<br>study_date=%{customdata[6]}<br>study_time=%{customdata[7]}<extra></extra>\",\"legendgroup\":\"PCAMPMRI-00010\",\"line\":{\"color\":\"#00ff00\",\"dash\":\"solid\"},\"marker\":{\"symbol\":\"circle\"},\"mode\":\"lines\",\"name\":\"PCAMPMRI-00010\",\"orientation\":\"v\",\"showlegend\":true,\"x\":[\"PID_00010_T0\",\"PID_00010_T1\"],\"xaxis\":\"x\",\"y\":[43.004407418108634,33.68667498721738],\"yaxis\":\"y\",\"type\":\"scatter\"},{\"customdata\":[[\"PCAMPMRI-00011\",\"1.2.276.0.7230010.3.1.3.481034752.4058.1665501461.296222\",\"T0\",0.833805,10.148996,\"1.3.6.1.4.1.14519.5.2.1.3671.4754.131608903441424620949571415524\",\"19950826\",\"161817\"],[\"PCAMPMRI-00011\",\"1.2.276.0.7230010.3.1.3.481034752.4103.1665501466.640513\",\"T1\",0.836064,7.189639,\"1.3.6.1.4.1.14519.5.2.1.3671.4754.117496148504386222592571043379\",\"19950908\",\"160430\"]],\"hovertemplate\":\"PatientID=%{customdata[0]}<br>PID=%{x}<br>MeshVolume=%{y}<br>SeriesInstanceUID_x=%{customdata[1]}<br>time_index=%{customdata[2]}<br>dice_score=%{customdata[3]}<br>hausdorff_dist=%{customdata[4]}<br>StudyInstanceUID=%{customdata[5]}<br>study_date=%{customdata[6]}<br>study_time=%{customdata[7]}<extra></extra>\",\"legendgroup\":\"PCAMPMRI-00011\",\"line\":{\"color\":\"#00ff00\",\"dash\":\"solid\"},\"marker\":{\"symbol\":\"circle\"},\"mode\":\"lines\",\"name\":\"PCAMPMRI-00011\",\"orientation\":\"v\",\"showlegend\":true,\"x\":[\"PID_00011_T0\",\"PID_00011_T1\"],\"xaxis\":\"x\",\"y\":[25.557531613663286,26.82757060074021],\"yaxis\":\"y\",\"type\":\"scatter\"},{\"customdata\":[[\"PCAMPMRI-00012\",\"1.2.276.0.7230010.3.1.3.481034752.4044.1665501459.961513\",\"T0\",0.872965,14.0,\"1.3.6.1.4.1.14519.5.2.1.3671.4754.298665348758363466150039312520\",\"19951215\",\"131445\"],[\"PCAMPMRI-00012\",\"1.2.276.0.7230010.3.1.3.481034752.4052.1665501460.621505\",\"T1\",0.892244,10.5,\"1.3.6.1.4.1.14519.5.2.1.3671.4754.264231410930579591639987629694\",\"19951223\",\"113757\"]],\"hovertemplate\":\"PatientID=%{customdata[0]}<br>PID=%{x}<br>MeshVolume=%{y}<br>SeriesInstanceUID_x=%{customdata[1]}<br>time_index=%{customdata[2]}<br>dice_score=%{customdata[3]}<br>hausdorff_dist=%{customdata[4]}<br>StudyInstanceUID=%{customdata[5]}<br>study_date=%{customdata[6]}<br>study_time=%{customdata[7]}<extra></extra>\",\"legendgroup\":\"PCAMPMRI-00012\",\"line\":{\"color\":\"#00ff00\",\"dash\":\"solid\"},\"marker\":{\"symbol\":\"circle\"},\"mode\":\"lines\",\"name\":\"PCAMPMRI-00012\",\"orientation\":\"v\",\"showlegend\":true,\"x\":[\"PID_00012_T0\",\"PID_00012_T1\"],\"xaxis\":\"x\",\"y\":[94.54151252555225,95.30075624275732],\"yaxis\":\"y\",\"type\":\"scatter\"},{\"customdata\":[[\"PCAMPMRI-00013\",\"1.2.276.0.7230010.3.1.3.481034752.4112.1665501467.646274\",\"T0\",0.851779,7.001504,\"1.3.6.1.4.1.14519.5.2.1.3671.4754.211895462561589970837377570121\",\"19960222\",\"152346\"],[\"PCAMPMRI-00013\",\"1.2.276.0.7230010.3.1.3.481034752.4118.1665501468.327092\",\"T1\",0.865051,7.0,\"1.3.6.1.4.1.14519.5.2.1.3671.4754.245461598867316286839568962369\",\"19960307\",\"163449\"]],\"hovertemplate\":\"PatientID=%{customdata[0]}<br>PID=%{x}<br>MeshVolume=%{y}<br>SeriesInstanceUID_x=%{customdata[1]}<br>time_index=%{customdata[2]}<br>dice_score=%{customdata[3]}<br>hausdorff_dist=%{customdata[4]}<br>StudyInstanceUID=%{customdata[5]}<br>study_date=%{customdata[6]}<br>study_time=%{customdata[7]}<extra></extra>\",\"legendgroup\":\"PCAMPMRI-00013\",\"line\":{\"color\":\"#00ff00\",\"dash\":\"solid\"},\"marker\":{\"symbol\":\"circle\"},\"mode\":\"lines\",\"name\":\"PCAMPMRI-00013\",\"orientation\":\"v\",\"showlegend\":true,\"x\":[\"PID_00013_T0\",\"PID_00013_T1\"],\"xaxis\":\"x\",\"y\":[24.964433759381606,25.10030231735407],\"yaxis\":\"y\",\"type\":\"scatter\"},{\"customdata\":[[\"PCAMPMRI-00014\",\"1.2.276.0.7230010.3.1.3.481034752.4047.1665501460.288959\",\"T0\",0.801746,8.716873,\"1.3.6.1.4.1.14519.5.2.1.3671.4754.288453744990673175783381845880\",\"19960316\",\"130727\"],[\"PCAMPMRI-00014\",\"1.2.276.0.7230010.3.1.3.481034752.4076.1665501463.610640\",\"T1\",0.722186,14.0,\"1.3.6.1.4.1.14519.5.2.1.3671.4754.194890890650697728529329442454\",\"19960324\",\"162549\"]],\"hovertemplate\":\"PatientID=%{customdata[0]}<br>PID=%{x}<br>MeshVolume=%{y}<br>SeriesInstanceUID_x=%{customdata[1]}<br>time_index=%{customdata[2]}<br>dice_score=%{customdata[3]}<br>hausdorff_dist=%{customdata[4]}<br>StudyInstanceUID=%{customdata[5]}<br>study_date=%{customdata[6]}<br>study_time=%{customdata[7]}<extra></extra>\",\"legendgroup\":\"PCAMPMRI-00014\",\"line\":{\"color\":\"#00ff00\",\"dash\":\"solid\"},\"marker\":{\"symbol\":\"circle\"},\"mode\":\"lines\",\"name\":\"PCAMPMRI-00014\",\"orientation\":\"v\",\"showlegend\":true,\"x\":[\"PID_00014_T0\",\"PID_00014_T1\"],\"xaxis\":\"x\",\"y\":[24.539919824458025,22.5217122177226],\"yaxis\":\"y\",\"type\":\"scatter\"},{\"customdata\":[[\"PCAMPMRI-00015\",\"1.2.276.0.7230010.3.1.3.481034752.4082.1665501464.278390\",\"T0\",0.917475,10.5,\"1.3.6.1.4.1.14519.5.2.1.3671.4754.182983245842036631781777324507\",\"19960502\",\"111555\"],[\"PCAMPMRI-00015\",\"1.2.276.0.7230010.3.1.3.481034752.4061.1665501461.703894\",\"T1\",0.90025,10.502619,\"1.3.6.1.4.1.14519.5.2.1.3671.4754.431678793261759442965045820561\",\"19960516\",\"114812\"]],\"hovertemplate\":\"PatientID=%{customdata[0]}<br>PID=%{x}<br>MeshVolume=%{y}<br>SeriesInstanceUID_x=%{customdata[1]}<br>time_index=%{customdata[2]}<br>dice_score=%{customdata[3]}<br>hausdorff_dist=%{customdata[4]}<br>StudyInstanceUID=%{customdata[5]}<br>study_date=%{customdata[6]}<br>study_time=%{customdata[7]}<extra></extra>\",\"legendgroup\":\"PCAMPMRI-00015\",\"line\":{\"color\":\"#00ff00\",\"dash\":\"solid\"},\"marker\":{\"symbol\":\"circle\"},\"mode\":\"lines\",\"name\":\"PCAMPMRI-00015\",\"orientation\":\"v\",\"showlegend\":true,\"x\":[\"PID_00015_T0\",\"PID_00015_T1\"],\"xaxis\":\"x\",\"y\":[67.49433669414816,62.4537073892146],\"yaxis\":\"y\",\"type\":\"scatter\"},{\"customdata\":[[\"PCAMPMRI-00001\",\"1.2.276.0.7230010.3.1.3.481034752.4115.1665501467.998877\",\"T0\",0.850058,6.393967,\"1.3.6.1.4.1.14519.5.2.1.3671.4754.121472087445374646718121301133\",\"19940620\",\"092715\"],[\"PCAMPMRI-00001\",\"1.2.276.0.7230010.3.1.3.481034752.4035.1665501458.949406\",\"T1\",0.82082,6.909079,\"1.3.6.1.4.1.14519.5.2.1.3671.4754.288848219213026850354055725664\",\"19940702\",\"132531\"]],\"hovertemplate\":\"PatientID=%{customdata[0]}<br>PID=%{x}<br>MeshVolume=%{y}<br>SeriesInstanceUID_x=%{customdata[1]}<br>time_index=%{customdata[2]}<br>dice_score=%{customdata[3]}<br>hausdorff_dist=%{customdata[4]}<br>StudyInstanceUID=%{customdata[5]}<br>study_date=%{customdata[6]}<br>study_time=%{customdata[7]}<extra></extra>\",\"legendgroup\":\"PCAMPMRI-00001\",\"line\":{\"color\":\"#ff0000\",\"dash\":\"solid\"},\"marker\":{\"symbol\":\"circle\"},\"mode\":\"lines\",\"name\":\"PCAMPMRI-00001\",\"orientation\":\"v\",\"showlegend\":true,\"x\":[\"PID_00001_T0\",\"PID_00001_T1\"],\"xaxis\":\"x\",\"y\":[36.194140625,34.126794877380306],\"yaxis\":\"y\",\"type\":\"scatter\"},{\"customdata\":[[\"PCAMPMRI-00002\",\"1.2.276.0.7230010.3.1.3.481034752.4091.1665501465.291743\",\"T0\",0.893324,6.072801,\"1.3.6.1.4.1.14519.5.2.1.3671.4754.304001015100152820571364796240\",\"19940709\",\"121716\"],[\"PCAMPMRI-00002\",\"1.2.276.0.7230010.3.1.3.481034752.4094.1665501465.634008\",\"T1\",0.877897,6.0,\"1.3.6.1.4.1.14519.5.2.1.3671.4754.568383070573576760578239627478\",\"19940723\",\"132116\"]],\"hovertemplate\":\"PatientID=%{customdata[0]}<br>PID=%{x}<br>MeshVolume=%{y}<br>SeriesInstanceUID_x=%{customdata[1]}<br>time_index=%{customdata[2]}<br>dice_score=%{customdata[3]}<br>hausdorff_dist=%{customdata[4]}<br>StudyInstanceUID=%{customdata[5]}<br>study_date=%{customdata[6]}<br>study_time=%{customdata[7]}<extra></extra>\",\"legendgroup\":\"PCAMPMRI-00002\",\"line\":{\"color\":\"#ff0000\",\"dash\":\"solid\"},\"marker\":{\"symbol\":\"circle\"},\"mode\":\"lines\",\"name\":\"PCAMPMRI-00002\",\"orientation\":\"v\",\"showlegend\":true,\"x\":[\"PID_00002_T0\",\"PID_00002_T1\"],\"xaxis\":\"x\",\"y\":[36.5326171875,36.20535888671875],\"yaxis\":\"y\",\"type\":\"scatter\"},{\"customdata\":[[\"PCAMPMRI-00003\",\"1.2.276.0.7230010.3.1.3.481034752.4121.1665501468.662250\",\"T0\",0.824255,12.004684,\"1.3.6.1.4.1.14519.5.2.1.3671.4754.162322077241419864654545266845\",\"19940811\",\"141233\"],[\"PCAMPMRI-00003\",\"1.2.276.0.7230010.3.1.3.481034752.4109.1665501467.317349\",\"T1\",0.840216,6.454771,\"1.3.6.1.4.1.14519.5.2.1.3671.4754.263464522348816475234793721892\",\"19940825\",\"113959\"]],\"hovertemplate\":\"PatientID=%{customdata[0]}<br>PID=%{x}<br>MeshVolume=%{y}<br>SeriesInstanceUID_x=%{customdata[1]}<br>time_index=%{customdata[2]}<br>dice_score=%{customdata[3]}<br>hausdorff_dist=%{customdata[4]}<br>StudyInstanceUID=%{customdata[5]}<br>study_date=%{customdata[6]}<br>study_time=%{customdata[7]}<extra></extra>\",\"legendgroup\":\"PCAMPMRI-00003\",\"line\":{\"color\":\"#ff0000\",\"dash\":\"solid\"},\"marker\":{\"symbol\":\"circle\"},\"mode\":\"lines\",\"name\":\"PCAMPMRI-00003\",\"orientation\":\"v\",\"showlegend\":true,\"x\":[\"PID_00003_T0\",\"PID_00003_T1\"],\"xaxis\":\"x\",\"y\":[25.26765458320733,25.9263427734375],\"yaxis\":\"y\",\"type\":\"scatter\"},{\"customdata\":[[\"PCAMPMRI-00004\",\"1.2.276.0.7230010.3.1.3.481034752.4064.1665501462.332456\",\"T0\",0.88957,9.0,\"1.3.6.1.4.1.14519.5.2.1.3671.4754.394942238206951812120962051099\",\"19940903\",\"104120\"],[\"PCAMPMRI-00004\",\"1.2.276.0.7230010.3.1.3.481034752.4041.1665501459.630679\",\"T1\",0.79055,9.0,\"1.3.6.1.4.1.14519.5.2.1.3671.4754.204078048920967920419177848890\",\"19940912\",\"144338\"]],\"hovertemplate\":\"PatientID=%{customdata[0]}<br>PID=%{x}<br>MeshVolume=%{y}<br>SeriesInstanceUID_x=%{customdata[1]}<br>time_index=%{customdata[2]}<br>dice_score=%{customdata[3]}<br>hausdorff_dist=%{customdata[4]}<br>StudyInstanceUID=%{customdata[5]}<br>study_date=%{customdata[6]}<br>study_time=%{customdata[7]}<extra></extra>\",\"legendgroup\":\"PCAMPMRI-00004\",\"line\":{\"color\":\"#ff0000\",\"dash\":\"solid\"},\"marker\":{\"symbol\":\"circle\"},\"mode\":\"lines\",\"name\":\"PCAMPMRI-00004\",\"orientation\":\"v\",\"showlegend\":true,\"x\":[\"PID_00004_T0\",\"PID_00004_T1\"],\"xaxis\":\"x\",\"y\":[25.57796630859375,28.50657958984375],\"yaxis\":\"y\",\"type\":\"scatter\"},{\"customdata\":[[\"PCAMPMRI-00005\",\"1.2.276.0.7230010.3.1.3.481034752.4070.1665501462.943132\",\"T0\",0.784956,23.450428,\"1.3.6.1.4.1.14519.5.2.1.3671.4754.240823776621155108064488841063\",\"19940910\",\"101927\"],[\"PCAMPMRI-00005\",\"1.2.276.0.7230010.3.1.3.481034752.4079.1665501463.960922\",\"T1\",0.763961,24.0,\"1.3.6.1.4.1.14519.5.2.1.3671.4754.233298968565250099224990877587\",\"19940917\",\"115624\"]],\"hovertemplate\":\"PatientID=%{customdata[0]}<br>PID=%{x}<br>MeshVolume=%{y}<br>SeriesInstanceUID_x=%{customdata[1]}<br>time_index=%{customdata[2]}<br>dice_score=%{customdata[3]}<br>hausdorff_dist=%{customdata[4]}<br>StudyInstanceUID=%{customdata[5]}<br>study_date=%{customdata[6]}<br>study_time=%{customdata[7]}<extra></extra>\",\"legendgroup\":\"PCAMPMRI-00005\",\"line\":{\"color\":\"#ff0000\",\"dash\":\"solid\"},\"marker\":{\"symbol\":\"circle\"},\"mode\":\"lines\",\"name\":\"PCAMPMRI-00005\",\"orientation\":\"v\",\"showlegend\":true,\"x\":[\"PID_00005_T0\",\"PID_00005_T1\"],\"xaxis\":\"x\",\"y\":[92.74368614198464,90.416259765625],\"yaxis\":\"y\",\"type\":\"scatter\"},{\"customdata\":[[\"PCAMPMRI-00006\",\"1.2.276.0.7230010.3.1.3.481034752.4067.1665501462.611630\",\"T0\",0.897349,9.240916,\"1.3.6.1.4.1.14519.5.2.1.3671.4754.287814201869490350714498330797\",\"19940924\",\"132134\"],[\"PCAMPMRI-00006\",\"1.2.276.0.7230010.3.1.3.481034752.4055.1665501460.976611\",\"T1\",0.904828,6.358025,\"1.3.6.1.4.1.14519.5.2.1.3671.4754.133806669697115873569905534398\",\"19941001\",\"133534\"]],\"hovertemplate\":\"PatientID=%{customdata[0]}<br>PID=%{x}<br>MeshVolume=%{y}<br>SeriesInstanceUID_x=%{customdata[1]}<br>time_index=%{customdata[2]}<br>dice_score=%{customdata[3]}<br>hausdorff_dist=%{customdata[4]}<br>StudyInstanceUID=%{customdata[5]}<br>study_date=%{customdata[6]}<br>study_time=%{customdata[7]}<extra></extra>\",\"legendgroup\":\"PCAMPMRI-00006\",\"line\":{\"color\":\"#ff0000\",\"dash\":\"solid\"},\"marker\":{\"symbol\":\"circle\"},\"mode\":\"lines\",\"name\":\"PCAMPMRI-00006\",\"orientation\":\"v\",\"showlegend\":true,\"x\":[\"PID_00006_T0\",\"PID_00006_T1\"],\"xaxis\":\"x\",\"y\":[65.49542236328125,65.13955576550413],\"yaxis\":\"y\",\"type\":\"scatter\"},{\"customdata\":[[\"PCAMPMRI-00007\",\"1.2.276.0.7230010.3.1.3.481034752.4085.1665501464.626433\",\"T0\",0.869602,8.753248,\"1.3.6.1.4.1.14519.5.2.1.3671.4754.240243858523310211919840278205\",\"19941001\",\"103506\"],[\"PCAMPMRI-00007\",\"1.2.276.0.7230010.3.1.3.481034752.4100.1665501466.305261\",\"T1\",0.856915,7.137021,\"1.3.6.1.4.1.14519.5.2.1.3671.4754.962865348146140991373362412648\",\"19941008\",\"113910\"]],\"hovertemplate\":\"PatientID=%{customdata[0]}<br>PID=%{x}<br>MeshVolume=%{y}<br>SeriesInstanceUID_x=%{customdata[1]}<br>time_index=%{customdata[2]}<br>dice_score=%{customdata[3]}<br>hausdorff_dist=%{customdata[4]}<br>StudyInstanceUID=%{customdata[5]}<br>study_date=%{customdata[6]}<br>study_time=%{customdata[7]}<extra></extra>\",\"legendgroup\":\"PCAMPMRI-00007\",\"line\":{\"color\":\"#ff0000\",\"dash\":\"solid\"},\"marker\":{\"symbol\":\"circle\"},\"mode\":\"lines\",\"name\":\"PCAMPMRI-00007\",\"orientation\":\"v\",\"showlegend\":true,\"x\":[\"PID_00007_T0\",\"PID_00007_T1\"],\"xaxis\":\"x\",\"y\":[36.363278720092296,36.646580852448814],\"yaxis\":\"y\",\"type\":\"scatter\"},{\"customdata\":[[\"PCAMPMRI-00008\",\"1.2.276.0.7230010.3.1.3.481034752.4032.1665501458.674193\",\"T0\",0.873111,10.5,\"1.3.6.1.4.1.14519.5.2.1.3671.4754.173585825705285812758858023242\",\"19950617\",\"111335\"],[\"PCAMPMRI-00008\",\"1.2.276.0.7230010.3.1.3.481034752.4073.1665501463.263353\",\"T1\",0.919927,7.0,\"1.3.6.1.4.1.14519.5.2.1.3671.4754.266963586071007736606548226859\",\"19950701\",\"131106\"]],\"hovertemplate\":\"PatientID=%{customdata[0]}<br>PID=%{x}<br>MeshVolume=%{y}<br>SeriesInstanceUID_x=%{customdata[1]}<br>time_index=%{customdata[2]}<br>dice_score=%{customdata[3]}<br>hausdorff_dist=%{customdata[4]}<br>StudyInstanceUID=%{customdata[5]}<br>study_date=%{customdata[6]}<br>study_time=%{customdata[7]}<extra></extra>\",\"legendgroup\":\"PCAMPMRI-00008\",\"line\":{\"color\":\"#ff0000\",\"dash\":\"solid\"},\"marker\":{\"symbol\":\"circle\"},\"mode\":\"lines\",\"name\":\"PCAMPMRI-00008\",\"orientation\":\"v\",\"showlegend\":true,\"x\":[\"PID_00008_T0\",\"PID_00008_T1\"],\"xaxis\":\"x\",\"y\":[65.69245321149754,65.34123309167143],\"yaxis\":\"y\",\"type\":\"scatter\"},{\"customdata\":[[\"PCAMPMRI-00009\",\"1.2.276.0.7230010.3.1.3.481034752.4088.1665501464.949326\",\"T0\",0.899859,10.5,\"1.3.6.1.4.1.14519.5.2.1.3671.4754.864607788085827202303582199118\",\"19950701\",\"142721\"],[\"PCAMPMRI-00009\",\"1.2.276.0.7230010.3.1.3.481034752.4038.1665501459.282514\",\"T1\",0.904379,10.59214,\"1.3.6.1.4.1.14519.5.2.1.3671.4754.181478254003851548055481596513\",\"19950708\",\"163440\"]],\"hovertemplate\":\"PatientID=%{customdata[0]}<br>PID=%{x}<br>MeshVolume=%{y}<br>SeriesInstanceUID_x=%{customdata[1]}<br>time_index=%{customdata[2]}<br>dice_score=%{customdata[3]}<br>hausdorff_dist=%{customdata[4]}<br>StudyInstanceUID=%{customdata[5]}<br>study_date=%{customdata[6]}<br>study_time=%{customdata[7]}<extra></extra>\",\"legendgroup\":\"PCAMPMRI-00009\",\"line\":{\"color\":\"#ff0000\",\"dash\":\"solid\"},\"marker\":{\"symbol\":\"circle\"},\"mode\":\"lines\",\"name\":\"PCAMPMRI-00009\",\"orientation\":\"v\",\"showlegend\":true,\"x\":[\"PID_00009_T0\",\"PID_00009_T1\"],\"xaxis\":\"x\",\"y\":[109.14160863988084,111.61265256620061],\"yaxis\":\"y\",\"type\":\"scatter\"},{\"customdata\":[[\"PCAMPMRI-00010\",\"1.2.276.0.7230010.3.1.3.481034752.4097.1665501465.960320\",\"T0\",0.854506,10.5,\"1.3.6.1.4.1.14519.5.2.1.3671.4754.217251077299095981018478951589\",\"19950706\",\"110656\"],[\"PCAMPMRI-00010\",\"1.2.276.0.7230010.3.1.3.481034752.4106.1665501466.979878\",\"T1\",0.807196,14.0,\"1.3.6.1.4.1.14519.5.2.1.3671.4754.318227959935022390930294557376\",\"19950709\",\"150441\"]],\"hovertemplate\":\"PatientID=%{customdata[0]}<br>PID=%{x}<br>MeshVolume=%{y}<br>SeriesInstanceUID_x=%{customdata[1]}<br>time_index=%{customdata[2]}<br>dice_score=%{customdata[3]}<br>hausdorff_dist=%{customdata[4]}<br>StudyInstanceUID=%{customdata[5]}<br>study_date=%{customdata[6]}<br>study_time=%{customdata[7]}<extra></extra>\",\"legendgroup\":\"PCAMPMRI-00010\",\"line\":{\"color\":\"#ff0000\",\"dash\":\"solid\"},\"marker\":{\"symbol\":\"circle\"},\"mode\":\"lines\",\"name\":\"PCAMPMRI-00010\",\"orientation\":\"v\",\"showlegend\":true,\"x\":[\"PID_00010_T0\",\"PID_00010_T1\"],\"xaxis\":\"x\",\"y\":[47.14344169451931,45.674497880417654],\"yaxis\":\"y\",\"type\":\"scatter\"},{\"customdata\":[[\"PCAMPMRI-00011\",\"1.2.276.0.7230010.3.1.3.481034752.4058.1665501461.296222\",\"T0\",0.833805,10.148996,\"1.3.6.1.4.1.14519.5.2.1.3671.4754.131608903441424620949571415524\",\"19950826\",\"161817\"],[\"PCAMPMRI-00011\",\"1.2.276.0.7230010.3.1.3.481034752.4103.1665501466.640513\",\"T1\",0.836064,7.189639,\"1.3.6.1.4.1.14519.5.2.1.3671.4754.117496148504386222592571043379\",\"19950908\",\"160430\"]],\"hovertemplate\":\"PatientID=%{customdata[0]}<br>PID=%{x}<br>MeshVolume=%{y}<br>SeriesInstanceUID_x=%{customdata[1]}<br>time_index=%{customdata[2]}<br>dice_score=%{customdata[3]}<br>hausdorff_dist=%{customdata[4]}<br>StudyInstanceUID=%{customdata[5]}<br>study_date=%{customdata[6]}<br>study_time=%{customdata[7]}<extra></extra>\",\"legendgroup\":\"PCAMPMRI-00011\",\"line\":{\"color\":\"#ff0000\",\"dash\":\"solid\"},\"marker\":{\"symbol\":\"circle\"},\"mode\":\"lines\",\"name\":\"PCAMPMRI-00011\",\"orientation\":\"v\",\"showlegend\":true,\"x\":[\"PID_00011_T0\",\"PID_00011_T1\"],\"xaxis\":\"x\",\"y\":[32.177246023348104,34.84705306782558],\"yaxis\":\"y\",\"type\":\"scatter\"},{\"customdata\":[[\"PCAMPMRI-00012\",\"1.2.276.0.7230010.3.1.3.481034752.4044.1665501459.961513\",\"T0\",0.872965,14.0,\"1.3.6.1.4.1.14519.5.2.1.3671.4754.298665348758363466150039312520\",\"19951215\",\"131445\"],[\"PCAMPMRI-00012\",\"1.2.276.0.7230010.3.1.3.481034752.4052.1665501460.621505\",\"T1\",0.892244,10.5,\"1.3.6.1.4.1.14519.5.2.1.3671.4754.264231410930579591639987629694\",\"19951223\",\"113757\"]],\"hovertemplate\":\"PatientID=%{customdata[0]}<br>PID=%{x}<br>MeshVolume=%{y}<br>SeriesInstanceUID_x=%{customdata[1]}<br>time_index=%{customdata[2]}<br>dice_score=%{customdata[3]}<br>hausdorff_dist=%{customdata[4]}<br>StudyInstanceUID=%{customdata[5]}<br>study_date=%{customdata[6]}<br>study_time=%{customdata[7]}<extra></extra>\",\"legendgroup\":\"PCAMPMRI-00012\",\"line\":{\"color\":\"#ff0000\",\"dash\":\"solid\"},\"marker\":{\"symbol\":\"circle\"},\"mode\":\"lines\",\"name\":\"PCAMPMRI-00012\",\"orientation\":\"v\",\"showlegend\":true,\"x\":[\"PID_00012_T0\",\"PID_00012_T1\"],\"xaxis\":\"x\",\"y\":[101.46610823665611,102.8689611884316],\"yaxis\":\"y\",\"type\":\"scatter\"},{\"customdata\":[[\"PCAMPMRI-00013\",\"1.2.276.0.7230010.3.1.3.481034752.4112.1665501467.646274\",\"T0\",0.851779,7.001504,\"1.3.6.1.4.1.14519.5.2.1.3671.4754.211895462561589970837377570121\",\"19960222\",\"152346\"],[\"PCAMPMRI-00013\",\"1.2.276.0.7230010.3.1.3.481034752.4118.1665501468.327092\",\"T1\",0.865051,7.0,\"1.3.6.1.4.1.14519.5.2.1.3671.4754.245461598867316286839568962369\",\"19960307\",\"163449\"]],\"hovertemplate\":\"PatientID=%{customdata[0]}<br>PID=%{x}<br>MeshVolume=%{y}<br>SeriesInstanceUID_x=%{customdata[1]}<br>time_index=%{customdata[2]}<br>dice_score=%{customdata[3]}<br>hausdorff_dist=%{customdata[4]}<br>StudyInstanceUID=%{customdata[5]}<br>study_date=%{customdata[6]}<br>study_time=%{customdata[7]}<extra></extra>\",\"legendgroup\":\"PCAMPMRI-00013\",\"line\":{\"color\":\"#ff0000\",\"dash\":\"solid\"},\"marker\":{\"symbol\":\"circle\"},\"mode\":\"lines\",\"name\":\"PCAMPMRI-00013\",\"orientation\":\"v\",\"showlegend\":true,\"x\":[\"PID_00013_T0\",\"PID_00013_T1\"],\"xaxis\":\"x\",\"y\":[32.845840037311525,32.196867259088734],\"yaxis\":\"y\",\"type\":\"scatter\"},{\"customdata\":[[\"PCAMPMRI-00014\",\"1.2.276.0.7230010.3.1.3.481034752.4047.1665501460.288959\",\"T0\",0.801746,8.716873,\"1.3.6.1.4.1.14519.5.2.1.3671.4754.288453744990673175783381845880\",\"19960316\",\"130727\"],[\"PCAMPMRI-00014\",\"1.2.276.0.7230010.3.1.3.481034752.4076.1665501463.610640\",\"T1\",0.722186,14.0,\"1.3.6.1.4.1.14519.5.2.1.3671.4754.194890890650697728529329442454\",\"19960324\",\"162549\"]],\"hovertemplate\":\"PatientID=%{customdata[0]}<br>PID=%{x}<br>MeshVolume=%{y}<br>SeriesInstanceUID_x=%{customdata[1]}<br>time_index=%{customdata[2]}<br>dice_score=%{customdata[3]}<br>hausdorff_dist=%{customdata[4]}<br>StudyInstanceUID=%{customdata[5]}<br>study_date=%{customdata[6]}<br>study_time=%{customdata[7]}<extra></extra>\",\"legendgroup\":\"PCAMPMRI-00014\",\"line\":{\"color\":\"#ff0000\",\"dash\":\"solid\"},\"marker\":{\"symbol\":\"circle\"},\"mode\":\"lines\",\"name\":\"PCAMPMRI-00014\",\"orientation\":\"v\",\"showlegend\":true,\"x\":[\"PID_00014_T0\",\"PID_00014_T1\"],\"xaxis\":\"x\",\"y\":[33.15462337857709,38.11363999750272],\"yaxis\":\"y\",\"type\":\"scatter\"},{\"customdata\":[[\"PCAMPMRI-00015\",\"1.2.276.0.7230010.3.1.3.481034752.4082.1665501464.278390\",\"T0\",0.917475,10.5,\"1.3.6.1.4.1.14519.5.2.1.3671.4754.182983245842036631781777324507\",\"19960502\",\"111555\"],[\"PCAMPMRI-00015\",\"1.2.276.0.7230010.3.1.3.481034752.4061.1665501461.703894\",\"T1\",0.90025,10.502619,\"1.3.6.1.4.1.14519.5.2.1.3671.4754.431678793261759442965045820561\",\"19960516\",\"114812\"]],\"hovertemplate\":\"PatientID=%{customdata[0]}<br>PID=%{x}<br>MeshVolume=%{y}<br>SeriesInstanceUID_x=%{customdata[1]}<br>time_index=%{customdata[2]}<br>dice_score=%{customdata[3]}<br>hausdorff_dist=%{customdata[4]}<br>StudyInstanceUID=%{customdata[5]}<br>study_date=%{customdata[6]}<br>study_time=%{customdata[7]}<extra></extra>\",\"legendgroup\":\"PCAMPMRI-00015\",\"line\":{\"color\":\"#ff0000\",\"dash\":\"solid\"},\"marker\":{\"symbol\":\"circle\"},\"mode\":\"lines\",\"name\":\"PCAMPMRI-00015\",\"orientation\":\"v\",\"showlegend\":true,\"x\":[\"PID_00015_T0\",\"PID_00015_T1\"],\"xaxis\":\"x\",\"y\":[74.59447706108375,69.1507527400413],\"yaxis\":\"y\",\"type\":\"scatter\"}],                        {\"template\":{\"layout\":{\"colorway\":[\"#00ff00\"]}},\"showlegend\":false},                        {\"responsive\": true}                    ).then(function(){\n",
              "                            \n",
              "var gd = document.getElementById('cb43f1a1-23e9-498d-8db1-12c928190d12');\n",
              "var x = new MutationObserver(function (mutations, observer) {{\n",
              "        var display = window.getComputedStyle(gd).display;\n",
              "        if (!display || display === 'none') {{\n",
              "            console.log([gd, 'removed!']);\n",
              "            Plotly.purge(gd);\n",
              "            observer.disconnect();\n",
              "        }}\n",
              "}});\n",
              "\n",
              "// Listen for the removal of the full notebook cells\n",
              "var notebookContainer = gd.closest('#notebook-container');\n",
              "if (notebookContainer) {{\n",
              "    x.observe(notebookContainer, {childList: true});\n",
              "}}\n",
              "\n",
              "// Listen for the clearing of the current output cell\n",
              "var outputEl = gd.closest('.output');\n",
              "if (outputEl) {{\n",
              "    x.observe(outputEl, {childList: true});\n",
              "}}\n",
              "\n",
              "                        })                };                            </script>        </div>\n",
              "</body>\n",
              "</html>"
            ]
          },
          "metadata": {}
        }
      ]
    },
    {
      "cell_type": "code",
      "source": [],
      "metadata": {
        "id": "gl_WvsFocH7S"
      },
      "execution_count": null,
      "outputs": []
    },
    {
      "cell_type": "markdown",
      "source": [
        "### Sphericity"
      ],
      "metadata": {
        "id": "huSFSVvh4ZjQ"
      }
    },
    {
      "cell_type": "code",
      "source": [
        "# Sphericity"
      ],
      "metadata": {
        "id": "3h8ruMTL4jdq"
      },
      "execution_count": null,
      "outputs": []
    },
    {
      "cell_type": "markdown",
      "source": [
        "#### nnUNet preds"
      ],
      "metadata": {
        "id": "THqY1F-d4dmw"
      }
    },
    {
      "cell_type": "code",
      "source": [
        "# scatter plot using plotly\n",
        "fig = px.line(merged_df_nnuNet,\n",
        "             x = \"PID\",\n",
        "             y=\"Sphericity\",\n",
        "            #  points=\"all\",\n",
        "             color=\"PatientID\",\n",
        "             hover_data=[\"PatientID\", \"SeriesInstanceUID_x\", \"time_index\", \"dice_score\", \"hausdorff_dist\", \"StudyInstanceUID\", \"study_date\", \"study_time\"],\n",
        "             template=\"plotly_white\",\n",
        "             title=\"Sphericity values for qin-rep-repeat for nnunet preds based on pre-trained model for prostate\")\n",
        "\n",
        "            #  notched=True)\n",
        "  \n",
        "# initializing showlegend to \"False\"\n",
        "\n",
        "fig.update_layout(showlegend=False)\n",
        "\n",
        "fig.show()"
      ],
      "metadata": {
        "colab": {
          "base_uri": "https://localhost:8080/",
          "height": 542
        },
        "id": "PdNenCUd4lnl",
        "outputId": "e22c4a82-3069-4a3d-e3df-8a3513f83eb6"
      },
      "execution_count": null,
      "outputs": [
        {
          "output_type": "display_data",
          "data": {
            "text/html": [
              "<html>\n",
              "<head><meta charset=\"utf-8\" /></head>\n",
              "<body>\n",
              "    <div>            <script src=\"https://cdnjs.cloudflare.com/ajax/libs/mathjax/2.7.5/MathJax.js?config=TeX-AMS-MML_SVG\"></script><script type=\"text/javascript\">if (window.MathJax) {MathJax.Hub.Config({SVG: {font: \"STIX-Web\"}});}</script>                <script type=\"text/javascript\">window.PlotlyConfig = {MathJaxConfig: 'local'};</script>\n",
              "        <script src=\"https://cdn.plot.ly/plotly-2.8.3.min.js\"></script>                <div id=\"57d2eec8-20d3-4884-99da-0196547785a5\" class=\"plotly-graph-div\" style=\"height:525px; width:100%;\"></div>            <script type=\"text/javascript\">                                    window.PLOTLYENV=window.PLOTLYENV || {};                                    if (document.getElementById(\"57d2eec8-20d3-4884-99da-0196547785a5\")) {                    Plotly.newPlot(                        \"57d2eec8-20d3-4884-99da-0196547785a5\",                        [{\"customdata\":[[\"PCAMPMRI-00001\",\"1.2.276.0.7230010.3.1.3.481034752.4115.1665501467.998877\",\"T0\",0.850058,6.393967,\"1.3.6.1.4.1.14519.5.2.1.3671.4754.121472087445374646718121301133\",\"19940620\",\"092715\"],[\"PCAMPMRI-00001\",\"1.2.276.0.7230010.3.1.3.481034752.4035.1665501458.949406\",\"T1\",0.82082,6.909079,\"1.3.6.1.4.1.14519.5.2.1.3671.4754.288848219213026850354055725664\",\"19940702\",\"132531\"]],\"hovertemplate\":\"PatientID=%{customdata[0]}<br>PID=%{x}<br>Sphericity=%{y}<br>SeriesInstanceUID_x=%{customdata[1]}<br>time_index=%{customdata[2]}<br>dice_score=%{customdata[3]}<br>hausdorff_dist=%{customdata[4]}<br>StudyInstanceUID=%{customdata[5]}<br>study_date=%{customdata[6]}<br>study_time=%{customdata[7]}<extra></extra>\",\"legendgroup\":\"PCAMPMRI-00001\",\"line\":{\"color\":\"#636efa\",\"dash\":\"solid\"},\"marker\":{\"symbol\":\"circle\"},\"mode\":\"lines\",\"name\":\"PCAMPMRI-00001\",\"orientation\":\"v\",\"showlegend\":true,\"x\":[\"PID_00001_T0\",\"PID_00001_T1\"],\"xaxis\":\"x\",\"y\":[0.7439875314820829,0.744542479360122],\"yaxis\":\"y\",\"type\":\"scatter\"},{\"customdata\":[[\"PCAMPMRI-00002\",\"1.2.276.0.7230010.3.1.3.481034752.4091.1665501465.291743\",\"T0\",0.893324,6.072801,\"1.3.6.1.4.1.14519.5.2.1.3671.4754.304001015100152820571364796240\",\"19940709\",\"121716\"],[\"PCAMPMRI-00002\",\"1.2.276.0.7230010.3.1.3.481034752.4094.1665501465.634008\",\"T1\",0.877897,6.0,\"1.3.6.1.4.1.14519.5.2.1.3671.4754.568383070573576760578239627478\",\"19940723\",\"132116\"]],\"hovertemplate\":\"PatientID=%{customdata[0]}<br>PID=%{x}<br>Sphericity=%{y}<br>SeriesInstanceUID_x=%{customdata[1]}<br>time_index=%{customdata[2]}<br>dice_score=%{customdata[3]}<br>hausdorff_dist=%{customdata[4]}<br>StudyInstanceUID=%{customdata[5]}<br>study_date=%{customdata[6]}<br>study_time=%{customdata[7]}<extra></extra>\",\"legendgroup\":\"PCAMPMRI-00002\",\"line\":{\"color\":\"#EF553B\",\"dash\":\"solid\"},\"marker\":{\"symbol\":\"circle\"},\"mode\":\"lines\",\"name\":\"PCAMPMRI-00002\",\"orientation\":\"v\",\"showlegend\":true,\"x\":[\"PID_00002_T0\",\"PID_00002_T1\"],\"xaxis\":\"x\",\"y\":[0.7273272157806849,0.7224204128574407],\"yaxis\":\"y\",\"type\":\"scatter\"},{\"customdata\":[[\"PCAMPMRI-00003\",\"1.2.276.0.7230010.3.1.3.481034752.4121.1665501468.662250\",\"T0\",0.824255,12.004684,\"1.3.6.1.4.1.14519.5.2.1.3671.4754.162322077241419864654545266845\",\"19940811\",\"141233\"],[\"PCAMPMRI-00003\",\"1.2.276.0.7230010.3.1.3.481034752.4109.1665501467.317349\",\"T1\",0.840216,6.454771,\"1.3.6.1.4.1.14519.5.2.1.3671.4754.263464522348816475234793721892\",\"19940825\",\"113959\"]],\"hovertemplate\":\"PatientID=%{customdata[0]}<br>PID=%{x}<br>Sphericity=%{y}<br>SeriesInstanceUID_x=%{customdata[1]}<br>time_index=%{customdata[2]}<br>dice_score=%{customdata[3]}<br>hausdorff_dist=%{customdata[4]}<br>StudyInstanceUID=%{customdata[5]}<br>study_date=%{customdata[6]}<br>study_time=%{customdata[7]}<extra></extra>\",\"legendgroup\":\"PCAMPMRI-00003\",\"line\":{\"color\":\"#00cc96\",\"dash\":\"solid\"},\"marker\":{\"symbol\":\"circle\"},\"mode\":\"lines\",\"name\":\"PCAMPMRI-00003\",\"orientation\":\"v\",\"showlegend\":true,\"x\":[\"PID_00003_T0\",\"PID_00003_T1\"],\"xaxis\":\"x\",\"y\":[0.7375587133080654,0.7470815513225126],\"yaxis\":\"y\",\"type\":\"scatter\"},{\"customdata\":[[\"PCAMPMRI-00004\",\"1.2.276.0.7230010.3.1.3.481034752.4064.1665501462.332456\",\"T0\",0.88957,9.0,\"1.3.6.1.4.1.14519.5.2.1.3671.4754.394942238206951812120962051099\",\"19940903\",\"104120\"],[\"PCAMPMRI-00004\",\"1.2.276.0.7230010.3.1.3.481034752.4041.1665501459.630679\",\"T1\",0.79055,9.0,\"1.3.6.1.4.1.14519.5.2.1.3671.4754.204078048920967920419177848890\",\"19940912\",\"144338\"]],\"hovertemplate\":\"PatientID=%{customdata[0]}<br>PID=%{x}<br>Sphericity=%{y}<br>SeriesInstanceUID_x=%{customdata[1]}<br>time_index=%{customdata[2]}<br>dice_score=%{customdata[3]}<br>hausdorff_dist=%{customdata[4]}<br>StudyInstanceUID=%{customdata[5]}<br>study_date=%{customdata[6]}<br>study_time=%{customdata[7]}<extra></extra>\",\"legendgroup\":\"PCAMPMRI-00004\",\"line\":{\"color\":\"#ab63fa\",\"dash\":\"solid\"},\"marker\":{\"symbol\":\"circle\"},\"mode\":\"lines\",\"name\":\"PCAMPMRI-00004\",\"orientation\":\"v\",\"showlegend\":true,\"x\":[\"PID_00004_T0\",\"PID_00004_T1\"],\"xaxis\":\"x\",\"y\":[0.7326930459250965,0.7506609258576623],\"yaxis\":\"y\",\"type\":\"scatter\"},{\"customdata\":[[\"PCAMPMRI-00005\",\"1.2.276.0.7230010.3.1.3.481034752.4070.1665501462.943132\",\"T0\",0.784956,23.450428,\"1.3.6.1.4.1.14519.5.2.1.3671.4754.240823776621155108064488841063\",\"19940910\",\"101927\"],[\"PCAMPMRI-00005\",\"1.2.276.0.7230010.3.1.3.481034752.4079.1665501463.960922\",\"T1\",0.763961,24.0,\"1.3.6.1.4.1.14519.5.2.1.3671.4754.233298968565250099224990877587\",\"19940917\",\"115624\"]],\"hovertemplate\":\"PatientID=%{customdata[0]}<br>PID=%{x}<br>Sphericity=%{y}<br>SeriesInstanceUID_x=%{customdata[1]}<br>time_index=%{customdata[2]}<br>dice_score=%{customdata[3]}<br>hausdorff_dist=%{customdata[4]}<br>StudyInstanceUID=%{customdata[5]}<br>study_date=%{customdata[6]}<br>study_time=%{customdata[7]}<extra></extra>\",\"legendgroup\":\"PCAMPMRI-00005\",\"line\":{\"color\":\"#FFA15A\",\"dash\":\"solid\"},\"marker\":{\"symbol\":\"circle\"},\"mode\":\"lines\",\"name\":\"PCAMPMRI-00005\",\"orientation\":\"v\",\"showlegend\":true,\"x\":[\"PID_00005_T0\",\"PID_00005_T1\"],\"xaxis\":\"x\",\"y\":[0.7158712761210788,0.7218626397904142],\"yaxis\":\"y\",\"type\":\"scatter\"},{\"customdata\":[[\"PCAMPMRI-00006\",\"1.2.276.0.7230010.3.1.3.481034752.4067.1665501462.611630\",\"T0\",0.897349,9.240916,\"1.3.6.1.4.1.14519.5.2.1.3671.4754.287814201869490350714498330797\",\"19940924\",\"132134\"],[\"PCAMPMRI-00006\",\"1.2.276.0.7230010.3.1.3.481034752.4055.1665501460.976611\",\"T1\",0.904828,6.358025,\"1.3.6.1.4.1.14519.5.2.1.3671.4754.133806669697115873569905534398\",\"19941001\",\"133534\"]],\"hovertemplate\":\"PatientID=%{customdata[0]}<br>PID=%{x}<br>Sphericity=%{y}<br>SeriesInstanceUID_x=%{customdata[1]}<br>time_index=%{customdata[2]}<br>dice_score=%{customdata[3]}<br>hausdorff_dist=%{customdata[4]}<br>StudyInstanceUID=%{customdata[5]}<br>study_date=%{customdata[6]}<br>study_time=%{customdata[7]}<extra></extra>\",\"legendgroup\":\"PCAMPMRI-00006\",\"line\":{\"color\":\"#19d3f3\",\"dash\":\"solid\"},\"marker\":{\"symbol\":\"circle\"},\"mode\":\"lines\",\"name\":\"PCAMPMRI-00006\",\"orientation\":\"v\",\"showlegend\":true,\"x\":[\"PID_00006_T0\",\"PID_00006_T1\"],\"xaxis\":\"x\",\"y\":[0.7593661795715153,0.7633555545461126],\"yaxis\":\"y\",\"type\":\"scatter\"},{\"customdata\":[[\"PCAMPMRI-00007\",\"1.2.276.0.7230010.3.1.3.481034752.4085.1665501464.626433\",\"T0\",0.869602,8.753248,\"1.3.6.1.4.1.14519.5.2.1.3671.4754.240243858523310211919840278205\",\"19941001\",\"103506\"],[\"PCAMPMRI-00007\",\"1.2.276.0.7230010.3.1.3.481034752.4100.1665501466.305261\",\"T1\",0.856915,7.137021,\"1.3.6.1.4.1.14519.5.2.1.3671.4754.962865348146140991373362412648\",\"19941008\",\"113910\"]],\"hovertemplate\":\"PatientID=%{customdata[0]}<br>PID=%{x}<br>Sphericity=%{y}<br>SeriesInstanceUID_x=%{customdata[1]}<br>time_index=%{customdata[2]}<br>dice_score=%{customdata[3]}<br>hausdorff_dist=%{customdata[4]}<br>StudyInstanceUID=%{customdata[5]}<br>study_date=%{customdata[6]}<br>study_time=%{customdata[7]}<extra></extra>\",\"legendgroup\":\"PCAMPMRI-00007\",\"line\":{\"color\":\"#FF6692\",\"dash\":\"solid\"},\"marker\":{\"symbol\":\"circle\"},\"mode\":\"lines\",\"name\":\"PCAMPMRI-00007\",\"orientation\":\"v\",\"showlegend\":true,\"x\":[\"PID_00007_T0\",\"PID_00007_T1\"],\"xaxis\":\"x\",\"y\":[0.7542510305083053,0.7516217011636454],\"yaxis\":\"y\",\"type\":\"scatter\"},{\"customdata\":[[\"PCAMPMRI-00008\",\"1.2.276.0.7230010.3.1.3.481034752.4032.1665501458.674193\",\"T0\",0.873111,10.5,\"1.3.6.1.4.1.14519.5.2.1.3671.4754.173585825705285812758858023242\",\"19950617\",\"111335\"],[\"PCAMPMRI-00008\",\"1.2.276.0.7230010.3.1.3.481034752.4073.1665501463.263353\",\"T1\",0.919927,7.0,\"1.3.6.1.4.1.14519.5.2.1.3671.4754.266963586071007736606548226859\",\"19950701\",\"131106\"]],\"hovertemplate\":\"PatientID=%{customdata[0]}<br>PID=%{x}<br>Sphericity=%{y}<br>SeriesInstanceUID_x=%{customdata[1]}<br>time_index=%{customdata[2]}<br>dice_score=%{customdata[3]}<br>hausdorff_dist=%{customdata[4]}<br>StudyInstanceUID=%{customdata[5]}<br>study_date=%{customdata[6]}<br>study_time=%{customdata[7]}<extra></extra>\",\"legendgroup\":\"PCAMPMRI-00008\",\"line\":{\"color\":\"#B6E880\",\"dash\":\"solid\"},\"marker\":{\"symbol\":\"circle\"},\"mode\":\"lines\",\"name\":\"PCAMPMRI-00008\",\"orientation\":\"v\",\"showlegend\":true,\"x\":[\"PID_00008_T0\",\"PID_00008_T1\"],\"xaxis\":\"x\",\"y\":[0.7361064070334282,0.7269639198079934],\"yaxis\":\"y\",\"type\":\"scatter\"},{\"customdata\":[[\"PCAMPMRI-00009\",\"1.2.276.0.7230010.3.1.3.481034752.4088.1665501464.949326\",\"T0\",0.899859,10.5,\"1.3.6.1.4.1.14519.5.2.1.3671.4754.864607788085827202303582199118\",\"19950701\",\"142721\"],[\"PCAMPMRI-00009\",\"1.2.276.0.7230010.3.1.3.481034752.4038.1665501459.282514\",\"T1\",0.904379,10.59214,\"1.3.6.1.4.1.14519.5.2.1.3671.4754.181478254003851548055481596513\",\"19950708\",\"163440\"]],\"hovertemplate\":\"PatientID=%{customdata[0]}<br>PID=%{x}<br>Sphericity=%{y}<br>SeriesInstanceUID_x=%{customdata[1]}<br>time_index=%{customdata[2]}<br>dice_score=%{customdata[3]}<br>hausdorff_dist=%{customdata[4]}<br>StudyInstanceUID=%{customdata[5]}<br>study_date=%{customdata[6]}<br>study_time=%{customdata[7]}<extra></extra>\",\"legendgroup\":\"PCAMPMRI-00009\",\"line\":{\"color\":\"#FF97FF\",\"dash\":\"solid\"},\"marker\":{\"symbol\":\"circle\"},\"mode\":\"lines\",\"name\":\"PCAMPMRI-00009\",\"orientation\":\"v\",\"showlegend\":true,\"x\":[\"PID_00009_T0\",\"PID_00009_T1\"],\"xaxis\":\"x\",\"y\":[0.718638247255719,0.7342804075887703],\"yaxis\":\"y\",\"type\":\"scatter\"},{\"customdata\":[[\"PCAMPMRI-00010\",\"1.2.276.0.7230010.3.1.3.481034752.4097.1665501465.960320\",\"T0\",0.854506,10.5,\"1.3.6.1.4.1.14519.5.2.1.3671.4754.217251077299095981018478951589\",\"19950706\",\"110656\"],[\"PCAMPMRI-00010\",\"1.2.276.0.7230010.3.1.3.481034752.4106.1665501466.979878\",\"T1\",0.807196,14.0,\"1.3.6.1.4.1.14519.5.2.1.3671.4754.318227959935022390930294557376\",\"19950709\",\"150441\"]],\"hovertemplate\":\"PatientID=%{customdata[0]}<br>PID=%{x}<br>Sphericity=%{y}<br>SeriesInstanceUID_x=%{customdata[1]}<br>time_index=%{customdata[2]}<br>dice_score=%{customdata[3]}<br>hausdorff_dist=%{customdata[4]}<br>StudyInstanceUID=%{customdata[5]}<br>study_date=%{customdata[6]}<br>study_time=%{customdata[7]}<extra></extra>\",\"legendgroup\":\"PCAMPMRI-00010\",\"line\":{\"color\":\"#FECB52\",\"dash\":\"solid\"},\"marker\":{\"symbol\":\"circle\"},\"mode\":\"lines\",\"name\":\"PCAMPMRI-00010\",\"orientation\":\"v\",\"showlegend\":true,\"x\":[\"PID_00010_T0\",\"PID_00010_T1\"],\"xaxis\":\"x\",\"y\":[0.7231083359732521,0.7388901424964213],\"yaxis\":\"y\",\"type\":\"scatter\"},{\"customdata\":[[\"PCAMPMRI-00011\",\"1.2.276.0.7230010.3.1.3.481034752.4058.1665501461.296222\",\"T0\",0.833805,10.148996,\"1.3.6.1.4.1.14519.5.2.1.3671.4754.131608903441424620949571415524\",\"19950826\",\"161817\"],[\"PCAMPMRI-00011\",\"1.2.276.0.7230010.3.1.3.481034752.4103.1665501466.640513\",\"T1\",0.836064,7.189639,\"1.3.6.1.4.1.14519.5.2.1.3671.4754.117496148504386222592571043379\",\"19950908\",\"160430\"]],\"hovertemplate\":\"PatientID=%{customdata[0]}<br>PID=%{x}<br>Sphericity=%{y}<br>SeriesInstanceUID_x=%{customdata[1]}<br>time_index=%{customdata[2]}<br>dice_score=%{customdata[3]}<br>hausdorff_dist=%{customdata[4]}<br>StudyInstanceUID=%{customdata[5]}<br>study_date=%{customdata[6]}<br>study_time=%{customdata[7]}<extra></extra>\",\"legendgroup\":\"PCAMPMRI-00011\",\"line\":{\"color\":\"#636efa\",\"dash\":\"solid\"},\"marker\":{\"symbol\":\"circle\"},\"mode\":\"lines\",\"name\":\"PCAMPMRI-00011\",\"orientation\":\"v\",\"showlegend\":true,\"x\":[\"PID_00011_T0\",\"PID_00011_T1\"],\"xaxis\":\"x\",\"y\":[0.7377231846868509,0.7359489331177459],\"yaxis\":\"y\",\"type\":\"scatter\"},{\"customdata\":[[\"PCAMPMRI-00012\",\"1.2.276.0.7230010.3.1.3.481034752.4044.1665501459.961513\",\"T0\",0.872965,14.0,\"1.3.6.1.4.1.14519.5.2.1.3671.4754.298665348758363466150039312520\",\"19951215\",\"131445\"],[\"PCAMPMRI-00012\",\"1.2.276.0.7230010.3.1.3.481034752.4052.1665501460.621505\",\"T1\",0.892244,10.5,\"1.3.6.1.4.1.14519.5.2.1.3671.4754.264231410930579591639987629694\",\"19951223\",\"113757\"]],\"hovertemplate\":\"PatientID=%{customdata[0]}<br>PID=%{x}<br>Sphericity=%{y}<br>SeriesInstanceUID_x=%{customdata[1]}<br>time_index=%{customdata[2]}<br>dice_score=%{customdata[3]}<br>hausdorff_dist=%{customdata[4]}<br>StudyInstanceUID=%{customdata[5]}<br>study_date=%{customdata[6]}<br>study_time=%{customdata[7]}<extra></extra>\",\"legendgroup\":\"PCAMPMRI-00012\",\"line\":{\"color\":\"#EF553B\",\"dash\":\"solid\"},\"marker\":{\"symbol\":\"circle\"},\"mode\":\"lines\",\"name\":\"PCAMPMRI-00012\",\"orientation\":\"v\",\"showlegend\":true,\"x\":[\"PID_00012_T0\",\"PID_00012_T1\"],\"xaxis\":\"x\",\"y\":[0.7363814943135583,0.7432217842719658],\"yaxis\":\"y\",\"type\":\"scatter\"},{\"customdata\":[[\"PCAMPMRI-00013\",\"1.2.276.0.7230010.3.1.3.481034752.4112.1665501467.646274\",\"T0\",0.851779,7.001504,\"1.3.6.1.4.1.14519.5.2.1.3671.4754.211895462561589970837377570121\",\"19960222\",\"152346\"],[\"PCAMPMRI-00013\",\"1.2.276.0.7230010.3.1.3.481034752.4118.1665501468.327092\",\"T1\",0.865051,7.0,\"1.3.6.1.4.1.14519.5.2.1.3671.4754.245461598867316286839568962369\",\"19960307\",\"163449\"]],\"hovertemplate\":\"PatientID=%{customdata[0]}<br>PID=%{x}<br>Sphericity=%{y}<br>SeriesInstanceUID_x=%{customdata[1]}<br>time_index=%{customdata[2]}<br>dice_score=%{customdata[3]}<br>hausdorff_dist=%{customdata[4]}<br>StudyInstanceUID=%{customdata[5]}<br>study_date=%{customdata[6]}<br>study_time=%{customdata[7]}<extra></extra>\",\"legendgroup\":\"PCAMPMRI-00013\",\"line\":{\"color\":\"#00cc96\",\"dash\":\"solid\"},\"marker\":{\"symbol\":\"circle\"},\"mode\":\"lines\",\"name\":\"PCAMPMRI-00013\",\"orientation\":\"v\",\"showlegend\":true,\"x\":[\"PID_00013_T0\",\"PID_00013_T1\"],\"xaxis\":\"x\",\"y\":[0.7313771058864239,0.7354556785350077],\"yaxis\":\"y\",\"type\":\"scatter\"},{\"customdata\":[[\"PCAMPMRI-00014\",\"1.2.276.0.7230010.3.1.3.481034752.4047.1665501460.288959\",\"T0\",0.801746,8.716873,\"1.3.6.1.4.1.14519.5.2.1.3671.4754.288453744990673175783381845880\",\"19960316\",\"130727\"],[\"PCAMPMRI-00014\",\"1.2.276.0.7230010.3.1.3.481034752.4076.1665501463.610640\",\"T1\",0.722186,14.0,\"1.3.6.1.4.1.14519.5.2.1.3671.4754.194890890650697728529329442454\",\"19960324\",\"162549\"]],\"hovertemplate\":\"PatientID=%{customdata[0]}<br>PID=%{x}<br>Sphericity=%{y}<br>SeriesInstanceUID_x=%{customdata[1]}<br>time_index=%{customdata[2]}<br>dice_score=%{customdata[3]}<br>hausdorff_dist=%{customdata[4]}<br>StudyInstanceUID=%{customdata[5]}<br>study_date=%{customdata[6]}<br>study_time=%{customdata[7]}<extra></extra>\",\"legendgroup\":\"PCAMPMRI-00014\",\"line\":{\"color\":\"#ab63fa\",\"dash\":\"solid\"},\"marker\":{\"symbol\":\"circle\"},\"mode\":\"lines\",\"name\":\"PCAMPMRI-00014\",\"orientation\":\"v\",\"showlegend\":true,\"x\":[\"PID_00014_T0\",\"PID_00014_T1\"],\"xaxis\":\"x\",\"y\":[0.7189545048269039,0.7303418896743062],\"yaxis\":\"y\",\"type\":\"scatter\"},{\"customdata\":[[\"PCAMPMRI-00015\",\"1.2.276.0.7230010.3.1.3.481034752.4082.1665501464.278390\",\"T0\",0.917475,10.5,\"1.3.6.1.4.1.14519.5.2.1.3671.4754.182983245842036631781777324507\",\"19960502\",\"111555\"],[\"PCAMPMRI-00015\",\"1.2.276.0.7230010.3.1.3.481034752.4061.1665501461.703894\",\"T1\",0.90025,10.502619,\"1.3.6.1.4.1.14519.5.2.1.3671.4754.431678793261759442965045820561\",\"19960516\",\"114812\"]],\"hovertemplate\":\"PatientID=%{customdata[0]}<br>PID=%{x}<br>Sphericity=%{y}<br>SeriesInstanceUID_x=%{customdata[1]}<br>time_index=%{customdata[2]}<br>dice_score=%{customdata[3]}<br>hausdorff_dist=%{customdata[4]}<br>StudyInstanceUID=%{customdata[5]}<br>study_date=%{customdata[6]}<br>study_time=%{customdata[7]}<extra></extra>\",\"legendgroup\":\"PCAMPMRI-00015\",\"line\":{\"color\":\"#FFA15A\",\"dash\":\"solid\"},\"marker\":{\"symbol\":\"circle\"},\"mode\":\"lines\",\"name\":\"PCAMPMRI-00015\",\"orientation\":\"v\",\"showlegend\":true,\"x\":[\"PID_00015_T0\",\"PID_00015_T1\"],\"xaxis\":\"x\",\"y\":[0.7362698168191939,0.7405625838304113],\"yaxis\":\"y\",\"type\":\"scatter\"}],                        {\"template\":{\"data\":{\"barpolar\":[{\"marker\":{\"line\":{\"color\":\"white\",\"width\":0.5},\"pattern\":{\"fillmode\":\"overlay\",\"size\":10,\"solidity\":0.2}},\"type\":\"barpolar\"}],\"bar\":[{\"error_x\":{\"color\":\"#2a3f5f\"},\"error_y\":{\"color\":\"#2a3f5f\"},\"marker\":{\"line\":{\"color\":\"white\",\"width\":0.5},\"pattern\":{\"fillmode\":\"overlay\",\"size\":10,\"solidity\":0.2}},\"type\":\"bar\"}],\"carpet\":[{\"aaxis\":{\"endlinecolor\":\"#2a3f5f\",\"gridcolor\":\"#C8D4E3\",\"linecolor\":\"#C8D4E3\",\"minorgridcolor\":\"#C8D4E3\",\"startlinecolor\":\"#2a3f5f\"},\"baxis\":{\"endlinecolor\":\"#2a3f5f\",\"gridcolor\":\"#C8D4E3\",\"linecolor\":\"#C8D4E3\",\"minorgridcolor\":\"#C8D4E3\",\"startlinecolor\":\"#2a3f5f\"},\"type\":\"carpet\"}],\"choropleth\":[{\"colorbar\":{\"outlinewidth\":0,\"ticks\":\"\"},\"type\":\"choropleth\"}],\"contourcarpet\":[{\"colorbar\":{\"outlinewidth\":0,\"ticks\":\"\"},\"type\":\"contourcarpet\"}],\"contour\":[{\"colorbar\":{\"outlinewidth\":0,\"ticks\":\"\"},\"colorscale\":[[0.0,\"#0d0887\"],[0.1111111111111111,\"#46039f\"],[0.2222222222222222,\"#7201a8\"],[0.3333333333333333,\"#9c179e\"],[0.4444444444444444,\"#bd3786\"],[0.5555555555555556,\"#d8576b\"],[0.6666666666666666,\"#ed7953\"],[0.7777777777777778,\"#fb9f3a\"],[0.8888888888888888,\"#fdca26\"],[1.0,\"#f0f921\"]],\"type\":\"contour\"}],\"heatmapgl\":[{\"colorbar\":{\"outlinewidth\":0,\"ticks\":\"\"},\"colorscale\":[[0.0,\"#0d0887\"],[0.1111111111111111,\"#46039f\"],[0.2222222222222222,\"#7201a8\"],[0.3333333333333333,\"#9c179e\"],[0.4444444444444444,\"#bd3786\"],[0.5555555555555556,\"#d8576b\"],[0.6666666666666666,\"#ed7953\"],[0.7777777777777778,\"#fb9f3a\"],[0.8888888888888888,\"#fdca26\"],[1.0,\"#f0f921\"]],\"type\":\"heatmapgl\"}],\"heatmap\":[{\"colorbar\":{\"outlinewidth\":0,\"ticks\":\"\"},\"colorscale\":[[0.0,\"#0d0887\"],[0.1111111111111111,\"#46039f\"],[0.2222222222222222,\"#7201a8\"],[0.3333333333333333,\"#9c179e\"],[0.4444444444444444,\"#bd3786\"],[0.5555555555555556,\"#d8576b\"],[0.6666666666666666,\"#ed7953\"],[0.7777777777777778,\"#fb9f3a\"],[0.8888888888888888,\"#fdca26\"],[1.0,\"#f0f921\"]],\"type\":\"heatmap\"}],\"histogram2dcontour\":[{\"colorbar\":{\"outlinewidth\":0,\"ticks\":\"\"},\"colorscale\":[[0.0,\"#0d0887\"],[0.1111111111111111,\"#46039f\"],[0.2222222222222222,\"#7201a8\"],[0.3333333333333333,\"#9c179e\"],[0.4444444444444444,\"#bd3786\"],[0.5555555555555556,\"#d8576b\"],[0.6666666666666666,\"#ed7953\"],[0.7777777777777778,\"#fb9f3a\"],[0.8888888888888888,\"#fdca26\"],[1.0,\"#f0f921\"]],\"type\":\"histogram2dcontour\"}],\"histogram2d\":[{\"colorbar\":{\"outlinewidth\":0,\"ticks\":\"\"},\"colorscale\":[[0.0,\"#0d0887\"],[0.1111111111111111,\"#46039f\"],[0.2222222222222222,\"#7201a8\"],[0.3333333333333333,\"#9c179e\"],[0.4444444444444444,\"#bd3786\"],[0.5555555555555556,\"#d8576b\"],[0.6666666666666666,\"#ed7953\"],[0.7777777777777778,\"#fb9f3a\"],[0.8888888888888888,\"#fdca26\"],[1.0,\"#f0f921\"]],\"type\":\"histogram2d\"}],\"histogram\":[{\"marker\":{\"pattern\":{\"fillmode\":\"overlay\",\"size\":10,\"solidity\":0.2}},\"type\":\"histogram\"}],\"mesh3d\":[{\"colorbar\":{\"outlinewidth\":0,\"ticks\":\"\"},\"type\":\"mesh3d\"}],\"parcoords\":[{\"line\":{\"colorbar\":{\"outlinewidth\":0,\"ticks\":\"\"}},\"type\":\"parcoords\"}],\"pie\":[{\"automargin\":true,\"type\":\"pie\"}],\"scatter3d\":[{\"line\":{\"colorbar\":{\"outlinewidth\":0,\"ticks\":\"\"}},\"marker\":{\"colorbar\":{\"outlinewidth\":0,\"ticks\":\"\"}},\"type\":\"scatter3d\"}],\"scattercarpet\":[{\"marker\":{\"colorbar\":{\"outlinewidth\":0,\"ticks\":\"\"}},\"type\":\"scattercarpet\"}],\"scattergeo\":[{\"marker\":{\"colorbar\":{\"outlinewidth\":0,\"ticks\":\"\"}},\"type\":\"scattergeo\"}],\"scattergl\":[{\"marker\":{\"colorbar\":{\"outlinewidth\":0,\"ticks\":\"\"}},\"type\":\"scattergl\"}],\"scattermapbox\":[{\"marker\":{\"colorbar\":{\"outlinewidth\":0,\"ticks\":\"\"}},\"type\":\"scattermapbox\"}],\"scatterpolargl\":[{\"marker\":{\"colorbar\":{\"outlinewidth\":0,\"ticks\":\"\"}},\"type\":\"scatterpolargl\"}],\"scatterpolar\":[{\"marker\":{\"colorbar\":{\"outlinewidth\":0,\"ticks\":\"\"}},\"type\":\"scatterpolar\"}],\"scatter\":[{\"marker\":{\"colorbar\":{\"outlinewidth\":0,\"ticks\":\"\"}},\"type\":\"scatter\"}],\"scatterternary\":[{\"marker\":{\"colorbar\":{\"outlinewidth\":0,\"ticks\":\"\"}},\"type\":\"scatterternary\"}],\"surface\":[{\"colorbar\":{\"outlinewidth\":0,\"ticks\":\"\"},\"colorscale\":[[0.0,\"#0d0887\"],[0.1111111111111111,\"#46039f\"],[0.2222222222222222,\"#7201a8\"],[0.3333333333333333,\"#9c179e\"],[0.4444444444444444,\"#bd3786\"],[0.5555555555555556,\"#d8576b\"],[0.6666666666666666,\"#ed7953\"],[0.7777777777777778,\"#fb9f3a\"],[0.8888888888888888,\"#fdca26\"],[1.0,\"#f0f921\"]],\"type\":\"surface\"}],\"table\":[{\"cells\":{\"fill\":{\"color\":\"#EBF0F8\"},\"line\":{\"color\":\"white\"}},\"header\":{\"fill\":{\"color\":\"#C8D4E3\"},\"line\":{\"color\":\"white\"}},\"type\":\"table\"}]},\"layout\":{\"annotationdefaults\":{\"arrowcolor\":\"#2a3f5f\",\"arrowhead\":0,\"arrowwidth\":1},\"autotypenumbers\":\"strict\",\"coloraxis\":{\"colorbar\":{\"outlinewidth\":0,\"ticks\":\"\"}},\"colorscale\":{\"diverging\":[[0,\"#8e0152\"],[0.1,\"#c51b7d\"],[0.2,\"#de77ae\"],[0.3,\"#f1b6da\"],[0.4,\"#fde0ef\"],[0.5,\"#f7f7f7\"],[0.6,\"#e6f5d0\"],[0.7,\"#b8e186\"],[0.8,\"#7fbc41\"],[0.9,\"#4d9221\"],[1,\"#276419\"]],\"sequential\":[[0.0,\"#0d0887\"],[0.1111111111111111,\"#46039f\"],[0.2222222222222222,\"#7201a8\"],[0.3333333333333333,\"#9c179e\"],[0.4444444444444444,\"#bd3786\"],[0.5555555555555556,\"#d8576b\"],[0.6666666666666666,\"#ed7953\"],[0.7777777777777778,\"#fb9f3a\"],[0.8888888888888888,\"#fdca26\"],[1.0,\"#f0f921\"]],\"sequentialminus\":[[0.0,\"#0d0887\"],[0.1111111111111111,\"#46039f\"],[0.2222222222222222,\"#7201a8\"],[0.3333333333333333,\"#9c179e\"],[0.4444444444444444,\"#bd3786\"],[0.5555555555555556,\"#d8576b\"],[0.6666666666666666,\"#ed7953\"],[0.7777777777777778,\"#fb9f3a\"],[0.8888888888888888,\"#fdca26\"],[1.0,\"#f0f921\"]]},\"colorway\":[\"#636efa\",\"#EF553B\",\"#00cc96\",\"#ab63fa\",\"#FFA15A\",\"#19d3f3\",\"#FF6692\",\"#B6E880\",\"#FF97FF\",\"#FECB52\"],\"font\":{\"color\":\"#2a3f5f\"},\"geo\":{\"bgcolor\":\"white\",\"lakecolor\":\"white\",\"landcolor\":\"white\",\"showlakes\":true,\"showland\":true,\"subunitcolor\":\"#C8D4E3\"},\"hoverlabel\":{\"align\":\"left\"},\"hovermode\":\"closest\",\"mapbox\":{\"style\":\"light\"},\"paper_bgcolor\":\"white\",\"plot_bgcolor\":\"white\",\"polar\":{\"angularaxis\":{\"gridcolor\":\"#EBF0F8\",\"linecolor\":\"#EBF0F8\",\"ticks\":\"\"},\"bgcolor\":\"white\",\"radialaxis\":{\"gridcolor\":\"#EBF0F8\",\"linecolor\":\"#EBF0F8\",\"ticks\":\"\"}},\"scene\":{\"xaxis\":{\"backgroundcolor\":\"white\",\"gridcolor\":\"#DFE8F3\",\"gridwidth\":2,\"linecolor\":\"#EBF0F8\",\"showbackground\":true,\"ticks\":\"\",\"zerolinecolor\":\"#EBF0F8\"},\"yaxis\":{\"backgroundcolor\":\"white\",\"gridcolor\":\"#DFE8F3\",\"gridwidth\":2,\"linecolor\":\"#EBF0F8\",\"showbackground\":true,\"ticks\":\"\",\"zerolinecolor\":\"#EBF0F8\"},\"zaxis\":{\"backgroundcolor\":\"white\",\"gridcolor\":\"#DFE8F3\",\"gridwidth\":2,\"linecolor\":\"#EBF0F8\",\"showbackground\":true,\"ticks\":\"\",\"zerolinecolor\":\"#EBF0F8\"}},\"shapedefaults\":{\"line\":{\"color\":\"#2a3f5f\"}},\"ternary\":{\"aaxis\":{\"gridcolor\":\"#DFE8F3\",\"linecolor\":\"#A2B1C6\",\"ticks\":\"\"},\"baxis\":{\"gridcolor\":\"#DFE8F3\",\"linecolor\":\"#A2B1C6\",\"ticks\":\"\"},\"bgcolor\":\"white\",\"caxis\":{\"gridcolor\":\"#DFE8F3\",\"linecolor\":\"#A2B1C6\",\"ticks\":\"\"}},\"title\":{\"x\":0.05},\"xaxis\":{\"automargin\":true,\"gridcolor\":\"#EBF0F8\",\"linecolor\":\"#EBF0F8\",\"ticks\":\"\",\"title\":{\"standoff\":15},\"zerolinecolor\":\"#EBF0F8\",\"zerolinewidth\":2},\"yaxis\":{\"automargin\":true,\"gridcolor\":\"#EBF0F8\",\"linecolor\":\"#EBF0F8\",\"ticks\":\"\",\"title\":{\"standoff\":15},\"zerolinecolor\":\"#EBF0F8\",\"zerolinewidth\":2}}},\"xaxis\":{\"anchor\":\"y\",\"domain\":[0.0,1.0],\"title\":{\"text\":\"PID\"}},\"yaxis\":{\"anchor\":\"x\",\"domain\":[0.0,1.0],\"title\":{\"text\":\"Sphericity\"}},\"legend\":{\"title\":{\"text\":\"PatientID\"},\"tracegroupgap\":0},\"title\":{\"text\":\"Sphericity values for qin-rep-repeat for nnunet preds based on pre-trained model for prostate\"},\"showlegend\":false},                        {\"responsive\": true}                    ).then(function(){\n",
              "                            \n",
              "var gd = document.getElementById('57d2eec8-20d3-4884-99da-0196547785a5');\n",
              "var x = new MutationObserver(function (mutations, observer) {{\n",
              "        var display = window.getComputedStyle(gd).display;\n",
              "        if (!display || display === 'none') {{\n",
              "            console.log([gd, 'removed!']);\n",
              "            Plotly.purge(gd);\n",
              "            observer.disconnect();\n",
              "        }}\n",
              "}});\n",
              "\n",
              "// Listen for the removal of the full notebook cells\n",
              "var notebookContainer = gd.closest('#notebook-container');\n",
              "if (notebookContainer) {{\n",
              "    x.observe(notebookContainer, {childList: true});\n",
              "}}\n",
              "\n",
              "// Listen for the clearing of the current output cell\n",
              "var outputEl = gd.closest('.output');\n",
              "if (outputEl) {{\n",
              "    x.observe(outputEl, {childList: true});\n",
              "}}\n",
              "\n",
              "                        })                };                            </script>        </div>\n",
              "</body>\n",
              "</html>"
            ]
          },
          "metadata": {}
        }
      ]
    },
    {
      "cell_type": "markdown",
      "source": [
        "#### seg gt idc"
      ],
      "metadata": {
        "id": "xM0FNihn4gPz"
      }
    },
    {
      "cell_type": "code",
      "source": [
        "# scatter plot using plotly\n",
        "fig = px.line(merged_df_gt_idc,\n",
        "             x = \"PID\",\n",
        "             y=\"Sphericity\",\n",
        "            #  points=\"all\",\n",
        "             color=\"PatientID\",\n",
        "             hover_data=[\"PatientID\", \"SeriesInstanceUID_x\", \"time_index\", \"dice_score\", \"hausdorff_dist\", \"StudyInstanceUID\", \"study_date\", \"study_time\"],\n",
        "             template=\"plotly_white\",\n",
        "             title=\"Sphericity values for qin-rep-repeat for gt idc segs\")\n",
        "\n",
        "            #  notched=True)\n",
        "  \n",
        "# initializing showlegend to \"False\"\n",
        "\n",
        "fig.update_layout(showlegend=False)\n",
        "\n",
        "fig.show()"
      ],
      "metadata": {
        "colab": {
          "base_uri": "https://localhost:8080/",
          "height": 542
        },
        "id": "EAvx7rry4t-6",
        "outputId": "ae53241b-b4a2-4412-fe15-028e09621038"
      },
      "execution_count": null,
      "outputs": [
        {
          "output_type": "display_data",
          "data": {
            "text/html": [
              "<html>\n",
              "<head><meta charset=\"utf-8\" /></head>\n",
              "<body>\n",
              "    <div>            <script src=\"https://cdnjs.cloudflare.com/ajax/libs/mathjax/2.7.5/MathJax.js?config=TeX-AMS-MML_SVG\"></script><script type=\"text/javascript\">if (window.MathJax) {MathJax.Hub.Config({SVG: {font: \"STIX-Web\"}});}</script>                <script type=\"text/javascript\">window.PlotlyConfig = {MathJaxConfig: 'local'};</script>\n",
              "        <script src=\"https://cdn.plot.ly/plotly-2.8.3.min.js\"></script>                <div id=\"47440f53-19a6-433f-9e73-d2a873d7b052\" class=\"plotly-graph-div\" style=\"height:525px; width:100%;\"></div>            <script type=\"text/javascript\">                                    window.PLOTLYENV=window.PLOTLYENV || {};                                    if (document.getElementById(\"47440f53-19a6-433f-9e73-d2a873d7b052\")) {                    Plotly.newPlot(                        \"47440f53-19a6-433f-9e73-d2a873d7b052\",                        [{\"customdata\":[[\"PCAMPMRI-00001\",\"1.2.276.0.7230010.3.1.3.481034752.4115.1665501467.998877\",\"T0\",0.850058,6.393967,\"1.3.6.1.4.1.14519.5.2.1.3671.4754.121472087445374646718121301133\",\"19940620\",\"092715\"],[\"PCAMPMRI-00001\",\"1.2.276.0.7230010.3.1.3.481034752.4035.1665501458.949406\",\"T1\",0.82082,6.909079,\"1.3.6.1.4.1.14519.5.2.1.3671.4754.288848219213026850354055725664\",\"19940702\",\"132531\"]],\"hovertemplate\":\"PatientID=%{customdata[0]}<br>PID=%{x}<br>Sphericity=%{y}<br>SeriesInstanceUID_x=%{customdata[1]}<br>time_index=%{customdata[2]}<br>dice_score=%{customdata[3]}<br>hausdorff_dist=%{customdata[4]}<br>StudyInstanceUID=%{customdata[5]}<br>study_date=%{customdata[6]}<br>study_time=%{customdata[7]}<extra></extra>\",\"legendgroup\":\"PCAMPMRI-00001\",\"line\":{\"color\":\"#636efa\",\"dash\":\"solid\"},\"marker\":{\"symbol\":\"circle\"},\"mode\":\"lines\",\"name\":\"PCAMPMRI-00001\",\"orientation\":\"v\",\"showlegend\":true,\"x\":[\"PID_00001_T0\",\"PID_00001_T1\"],\"xaxis\":\"x\",\"y\":[0.6950126594427963,0.6817364406850651],\"yaxis\":\"y\",\"type\":\"scatter\"},{\"customdata\":[[\"PCAMPMRI-00002\",\"1.2.276.0.7230010.3.1.3.481034752.4091.1665501465.291743\",\"T0\",0.893324,6.072801,\"1.3.6.1.4.1.14519.5.2.1.3671.4754.304001015100152820571364796240\",\"19940709\",\"121716\"],[\"PCAMPMRI-00002\",\"1.2.276.0.7230010.3.1.3.481034752.4094.1665501465.634008\",\"T1\",0.877897,6.0,\"1.3.6.1.4.1.14519.5.2.1.3671.4754.568383070573576760578239627478\",\"19940723\",\"132116\"]],\"hovertemplate\":\"PatientID=%{customdata[0]}<br>PID=%{x}<br>Sphericity=%{y}<br>SeriesInstanceUID_x=%{customdata[1]}<br>time_index=%{customdata[2]}<br>dice_score=%{customdata[3]}<br>hausdorff_dist=%{customdata[4]}<br>StudyInstanceUID=%{customdata[5]}<br>study_date=%{customdata[6]}<br>study_time=%{customdata[7]}<extra></extra>\",\"legendgroup\":\"PCAMPMRI-00002\",\"line\":{\"color\":\"#EF553B\",\"dash\":\"solid\"},\"marker\":{\"symbol\":\"circle\"},\"mode\":\"lines\",\"name\":\"PCAMPMRI-00002\",\"orientation\":\"v\",\"showlegend\":true,\"x\":[\"PID_00002_T0\",\"PID_00002_T1\"],\"xaxis\":\"x\",\"y\":[0.6634080671759955,0.7027509996610907],\"yaxis\":\"y\",\"type\":\"scatter\"},{\"customdata\":[[\"PCAMPMRI-00003\",\"1.2.276.0.7230010.3.1.3.481034752.4121.1665501468.662250\",\"T0\",0.824255,12.004684,\"1.3.6.1.4.1.14519.5.2.1.3671.4754.162322077241419864654545266845\",\"19940811\",\"141233\"],[\"PCAMPMRI-00003\",\"1.2.276.0.7230010.3.1.3.481034752.4109.1665501467.317349\",\"T1\",0.840216,6.454771,\"1.3.6.1.4.1.14519.5.2.1.3671.4754.263464522348816475234793721892\",\"19940825\",\"113959\"]],\"hovertemplate\":\"PatientID=%{customdata[0]}<br>PID=%{x}<br>Sphericity=%{y}<br>SeriesInstanceUID_x=%{customdata[1]}<br>time_index=%{customdata[2]}<br>dice_score=%{customdata[3]}<br>hausdorff_dist=%{customdata[4]}<br>StudyInstanceUID=%{customdata[5]}<br>study_date=%{customdata[6]}<br>study_time=%{customdata[7]}<extra></extra>\",\"legendgroup\":\"PCAMPMRI-00003\",\"line\":{\"color\":\"#00cc96\",\"dash\":\"solid\"},\"marker\":{\"symbol\":\"circle\"},\"mode\":\"lines\",\"name\":\"PCAMPMRI-00003\",\"orientation\":\"v\",\"showlegend\":true,\"x\":[\"PID_00003_T0\",\"PID_00003_T1\"],\"xaxis\":\"x\",\"y\":[0.6718412612782199,0.6936064515380964],\"yaxis\":\"y\",\"type\":\"scatter\"},{\"customdata\":[[\"PCAMPMRI-00004\",\"1.2.276.0.7230010.3.1.3.481034752.4064.1665501462.332456\",\"T0\",0.88957,9.0,\"1.3.6.1.4.1.14519.5.2.1.3671.4754.394942238206951812120962051099\",\"19940903\",\"104120\"],[\"PCAMPMRI-00004\",\"1.2.276.0.7230010.3.1.3.481034752.4041.1665501459.630679\",\"T1\",0.79055,9.0,\"1.3.6.1.4.1.14519.5.2.1.3671.4754.204078048920967920419177848890\",\"19940912\",\"144338\"]],\"hovertemplate\":\"PatientID=%{customdata[0]}<br>PID=%{x}<br>Sphericity=%{y}<br>SeriesInstanceUID_x=%{customdata[1]}<br>time_index=%{customdata[2]}<br>dice_score=%{customdata[3]}<br>hausdorff_dist=%{customdata[4]}<br>StudyInstanceUID=%{customdata[5]}<br>study_date=%{customdata[6]}<br>study_time=%{customdata[7]}<extra></extra>\",\"legendgroup\":\"PCAMPMRI-00004\",\"line\":{\"color\":\"#ab63fa\",\"dash\":\"solid\"},\"marker\":{\"symbol\":\"circle\"},\"mode\":\"lines\",\"name\":\"PCAMPMRI-00004\",\"orientation\":\"v\",\"showlegend\":true,\"x\":[\"PID_00004_T0\",\"PID_00004_T1\"],\"xaxis\":\"x\",\"y\":[0.7074287518189704,0.6671321029177676],\"yaxis\":\"y\",\"type\":\"scatter\"},{\"customdata\":[[\"PCAMPMRI-00005\",\"1.2.276.0.7230010.3.1.3.481034752.4070.1665501462.943132\",\"T0\",0.784956,23.450428,\"1.3.6.1.4.1.14519.5.2.1.3671.4754.240823776621155108064488841063\",\"19940910\",\"101927\"],[\"PCAMPMRI-00005\",\"1.2.276.0.7230010.3.1.3.481034752.4079.1665501463.960922\",\"T1\",0.763961,24.0,\"1.3.6.1.4.1.14519.5.2.1.3671.4754.233298968565250099224990877587\",\"19940917\",\"115624\"]],\"hovertemplate\":\"PatientID=%{customdata[0]}<br>PID=%{x}<br>Sphericity=%{y}<br>SeriesInstanceUID_x=%{customdata[1]}<br>time_index=%{customdata[2]}<br>dice_score=%{customdata[3]}<br>hausdorff_dist=%{customdata[4]}<br>StudyInstanceUID=%{customdata[5]}<br>study_date=%{customdata[6]}<br>study_time=%{customdata[7]}<extra></extra>\",\"legendgroup\":\"PCAMPMRI-00005\",\"line\":{\"color\":\"#FFA15A\",\"dash\":\"solid\"},\"marker\":{\"symbol\":\"circle\"},\"mode\":\"lines\",\"name\":\"PCAMPMRI-00005\",\"orientation\":\"v\",\"showlegend\":true,\"x\":[\"PID_00005_T0\",\"PID_00005_T1\"],\"xaxis\":\"x\",\"y\":[0.4789380850359316,0.6642058720791378],\"yaxis\":\"y\",\"type\":\"scatter\"},{\"customdata\":[[\"PCAMPMRI-00006\",\"1.2.276.0.7230010.3.1.3.481034752.4067.1665501462.611630\",\"T0\",0.897349,9.240916,\"1.3.6.1.4.1.14519.5.2.1.3671.4754.287814201869490350714498330797\",\"19940924\",\"132134\"],[\"PCAMPMRI-00006\",\"1.2.276.0.7230010.3.1.3.481034752.4055.1665501460.976611\",\"T1\",0.904828,6.358025,\"1.3.6.1.4.1.14519.5.2.1.3671.4754.133806669697115873569905534398\",\"19941001\",\"133534\"]],\"hovertemplate\":\"PatientID=%{customdata[0]}<br>PID=%{x}<br>Sphericity=%{y}<br>SeriesInstanceUID_x=%{customdata[1]}<br>time_index=%{customdata[2]}<br>dice_score=%{customdata[3]}<br>hausdorff_dist=%{customdata[4]}<br>StudyInstanceUID=%{customdata[5]}<br>study_date=%{customdata[6]}<br>study_time=%{customdata[7]}<extra></extra>\",\"legendgroup\":\"PCAMPMRI-00006\",\"line\":{\"color\":\"#19d3f3\",\"dash\":\"solid\"},\"marker\":{\"symbol\":\"circle\"},\"mode\":\"lines\",\"name\":\"PCAMPMRI-00006\",\"orientation\":\"v\",\"showlegend\":true,\"x\":[\"PID_00006_T0\",\"PID_00006_T1\"],\"xaxis\":\"x\",\"y\":[0.7236238523132109,0.7280103628487404],\"yaxis\":\"y\",\"type\":\"scatter\"},{\"customdata\":[[\"PCAMPMRI-00007\",\"1.2.276.0.7230010.3.1.3.481034752.4085.1665501464.626433\",\"T0\",0.869602,8.753248,\"1.3.6.1.4.1.14519.5.2.1.3671.4754.240243858523310211919840278205\",\"19941001\",\"103506\"],[\"PCAMPMRI-00007\",\"1.2.276.0.7230010.3.1.3.481034752.4100.1665501466.305261\",\"T1\",0.856915,7.137021,\"1.3.6.1.4.1.14519.5.2.1.3671.4754.962865348146140991373362412648\",\"19941008\",\"113910\"]],\"hovertemplate\":\"PatientID=%{customdata[0]}<br>PID=%{x}<br>Sphericity=%{y}<br>SeriesInstanceUID_x=%{customdata[1]}<br>time_index=%{customdata[2]}<br>dice_score=%{customdata[3]}<br>hausdorff_dist=%{customdata[4]}<br>StudyInstanceUID=%{customdata[5]}<br>study_date=%{customdata[6]}<br>study_time=%{customdata[7]}<extra></extra>\",\"legendgroup\":\"PCAMPMRI-00007\",\"line\":{\"color\":\"#FF6692\",\"dash\":\"solid\"},\"marker\":{\"symbol\":\"circle\"},\"mode\":\"lines\",\"name\":\"PCAMPMRI-00007\",\"orientation\":\"v\",\"showlegend\":true,\"x\":[\"PID_00007_T0\",\"PID_00007_T1\"],\"xaxis\":\"x\",\"y\":[0.7061419942384283,0.7102909069438067],\"yaxis\":\"y\",\"type\":\"scatter\"},{\"customdata\":[[\"PCAMPMRI-00008\",\"1.2.276.0.7230010.3.1.3.481034752.4032.1665501458.674193\",\"T0\",0.873111,10.5,\"1.3.6.1.4.1.14519.5.2.1.3671.4754.173585825705285812758858023242\",\"19950617\",\"111335\"],[\"PCAMPMRI-00008\",\"1.2.276.0.7230010.3.1.3.481034752.4073.1665501463.263353\",\"T1\",0.919927,7.0,\"1.3.6.1.4.1.14519.5.2.1.3671.4754.266963586071007736606548226859\",\"19950701\",\"131106\"]],\"hovertemplate\":\"PatientID=%{customdata[0]}<br>PID=%{x}<br>Sphericity=%{y}<br>SeriesInstanceUID_x=%{customdata[1]}<br>time_index=%{customdata[2]}<br>dice_score=%{customdata[3]}<br>hausdorff_dist=%{customdata[4]}<br>StudyInstanceUID=%{customdata[5]}<br>study_date=%{customdata[6]}<br>study_time=%{customdata[7]}<extra></extra>\",\"legendgroup\":\"PCAMPMRI-00008\",\"line\":{\"color\":\"#B6E880\",\"dash\":\"solid\"},\"marker\":{\"symbol\":\"circle\"},\"mode\":\"lines\",\"name\":\"PCAMPMRI-00008\",\"orientation\":\"v\",\"showlegend\":true,\"x\":[\"PID_00008_T0\",\"PID_00008_T1\"],\"xaxis\":\"x\",\"y\":[0.6848350629619196,0.6796165842665143],\"yaxis\":\"y\",\"type\":\"scatter\"},{\"customdata\":[[\"PCAMPMRI-00009\",\"1.2.276.0.7230010.3.1.3.481034752.4088.1665501464.949326\",\"T0\",0.899859,10.5,\"1.3.6.1.4.1.14519.5.2.1.3671.4754.864607788085827202303582199118\",\"19950701\",\"142721\"],[\"PCAMPMRI-00009\",\"1.2.276.0.7230010.3.1.3.481034752.4038.1665501459.282514\",\"T1\",0.904379,10.59214,\"1.3.6.1.4.1.14519.5.2.1.3671.4754.181478254003851548055481596513\",\"19950708\",\"163440\"]],\"hovertemplate\":\"PatientID=%{customdata[0]}<br>PID=%{x}<br>Sphericity=%{y}<br>SeriesInstanceUID_x=%{customdata[1]}<br>time_index=%{customdata[2]}<br>dice_score=%{customdata[3]}<br>hausdorff_dist=%{customdata[4]}<br>StudyInstanceUID=%{customdata[5]}<br>study_date=%{customdata[6]}<br>study_time=%{customdata[7]}<extra></extra>\",\"legendgroup\":\"PCAMPMRI-00009\",\"line\":{\"color\":\"#FF97FF\",\"dash\":\"solid\"},\"marker\":{\"symbol\":\"circle\"},\"mode\":\"lines\",\"name\":\"PCAMPMRI-00009\",\"orientation\":\"v\",\"showlegend\":true,\"x\":[\"PID_00009_T0\",\"PID_00009_T1\"],\"xaxis\":\"x\",\"y\":[0.7188591018329097,0.6733249765800708],\"yaxis\":\"y\",\"type\":\"scatter\"},{\"customdata\":[[\"PCAMPMRI-00010\",\"1.2.276.0.7230010.3.1.3.481034752.4097.1665501465.960320\",\"T0\",0.854506,10.5,\"1.3.6.1.4.1.14519.5.2.1.3671.4754.217251077299095981018478951589\",\"19950706\",\"110656\"],[\"PCAMPMRI-00010\",\"1.2.276.0.7230010.3.1.3.481034752.4106.1665501466.979878\",\"T1\",0.807196,14.0,\"1.3.6.1.4.1.14519.5.2.1.3671.4754.318227959935022390930294557376\",\"19950709\",\"150441\"]],\"hovertemplate\":\"PatientID=%{customdata[0]}<br>PID=%{x}<br>Sphericity=%{y}<br>SeriesInstanceUID_x=%{customdata[1]}<br>time_index=%{customdata[2]}<br>dice_score=%{customdata[3]}<br>hausdorff_dist=%{customdata[4]}<br>StudyInstanceUID=%{customdata[5]}<br>study_date=%{customdata[6]}<br>study_time=%{customdata[7]}<extra></extra>\",\"legendgroup\":\"PCAMPMRI-00010\",\"line\":{\"color\":\"#FECB52\",\"dash\":\"solid\"},\"marker\":{\"symbol\":\"circle\"},\"mode\":\"lines\",\"name\":\"PCAMPMRI-00010\",\"orientation\":\"v\",\"showlegend\":true,\"x\":[\"PID_00010_T0\",\"PID_00010_T1\"],\"xaxis\":\"x\",\"y\":[0.6963858417182726,0.7163684988761327],\"yaxis\":\"y\",\"type\":\"scatter\"},{\"customdata\":[[\"PCAMPMRI-00011\",\"1.2.276.0.7230010.3.1.3.481034752.4058.1665501461.296222\",\"T0\",0.833805,10.148996,\"1.3.6.1.4.1.14519.5.2.1.3671.4754.131608903441424620949571415524\",\"19950826\",\"161817\"],[\"PCAMPMRI-00011\",\"1.2.276.0.7230010.3.1.3.481034752.4103.1665501466.640513\",\"T1\",0.836064,7.189639,\"1.3.6.1.4.1.14519.5.2.1.3671.4754.117496148504386222592571043379\",\"19950908\",\"160430\"]],\"hovertemplate\":\"PatientID=%{customdata[0]}<br>PID=%{x}<br>Sphericity=%{y}<br>SeriesInstanceUID_x=%{customdata[1]}<br>time_index=%{customdata[2]}<br>dice_score=%{customdata[3]}<br>hausdorff_dist=%{customdata[4]}<br>StudyInstanceUID=%{customdata[5]}<br>study_date=%{customdata[6]}<br>study_time=%{customdata[7]}<extra></extra>\",\"legendgroup\":\"PCAMPMRI-00011\",\"line\":{\"color\":\"#636efa\",\"dash\":\"solid\"},\"marker\":{\"symbol\":\"circle\"},\"mode\":\"lines\",\"name\":\"PCAMPMRI-00011\",\"orientation\":\"v\",\"showlegend\":true,\"x\":[\"PID_00011_T0\",\"PID_00011_T1\"],\"xaxis\":\"x\",\"y\":[0.671865759735631,0.7038884933937485],\"yaxis\":\"y\",\"type\":\"scatter\"},{\"customdata\":[[\"PCAMPMRI-00012\",\"1.2.276.0.7230010.3.1.3.481034752.4044.1665501459.961513\",\"T0\",0.872965,14.0,\"1.3.6.1.4.1.14519.5.2.1.3671.4754.298665348758363466150039312520\",\"19951215\",\"131445\"],[\"PCAMPMRI-00012\",\"1.2.276.0.7230010.3.1.3.481034752.4052.1665501460.621505\",\"T1\",0.892244,10.5,\"1.3.6.1.4.1.14519.5.2.1.3671.4754.264231410930579591639987629694\",\"19951223\",\"113757\"]],\"hovertemplate\":\"PatientID=%{customdata[0]}<br>PID=%{x}<br>Sphericity=%{y}<br>SeriesInstanceUID_x=%{customdata[1]}<br>time_index=%{customdata[2]}<br>dice_score=%{customdata[3]}<br>hausdorff_dist=%{customdata[4]}<br>StudyInstanceUID=%{customdata[5]}<br>study_date=%{customdata[6]}<br>study_time=%{customdata[7]}<extra></extra>\",\"legendgroup\":\"PCAMPMRI-00012\",\"line\":{\"color\":\"#EF553B\",\"dash\":\"solid\"},\"marker\":{\"symbol\":\"circle\"},\"mode\":\"lines\",\"name\":\"PCAMPMRI-00012\",\"orientation\":\"v\",\"showlegend\":true,\"x\":[\"PID_00012_T0\",\"PID_00012_T1\"],\"xaxis\":\"x\",\"y\":[0.7103296579558817,0.6974330189276357],\"yaxis\":\"y\",\"type\":\"scatter\"},{\"customdata\":[[\"PCAMPMRI-00013\",\"1.2.276.0.7230010.3.1.3.481034752.4112.1665501467.646274\",\"T0\",0.851779,7.001504,\"1.3.6.1.4.1.14519.5.2.1.3671.4754.211895462561589970837377570121\",\"19960222\",\"152346\"],[\"PCAMPMRI-00013\",\"1.2.276.0.7230010.3.1.3.481034752.4118.1665501468.327092\",\"T1\",0.865051,7.0,\"1.3.6.1.4.1.14519.5.2.1.3671.4754.245461598867316286839568962369\",\"19960307\",\"163449\"]],\"hovertemplate\":\"PatientID=%{customdata[0]}<br>PID=%{x}<br>Sphericity=%{y}<br>SeriesInstanceUID_x=%{customdata[1]}<br>time_index=%{customdata[2]}<br>dice_score=%{customdata[3]}<br>hausdorff_dist=%{customdata[4]}<br>StudyInstanceUID=%{customdata[5]}<br>study_date=%{customdata[6]}<br>study_time=%{customdata[7]}<extra></extra>\",\"legendgroup\":\"PCAMPMRI-00013\",\"line\":{\"color\":\"#00cc96\",\"dash\":\"solid\"},\"marker\":{\"symbol\":\"circle\"},\"mode\":\"lines\",\"name\":\"PCAMPMRI-00013\",\"orientation\":\"v\",\"showlegend\":true,\"x\":[\"PID_00013_T0\",\"PID_00013_T1\"],\"xaxis\":\"x\",\"y\":[0.6965472170383377,0.7298929183239662],\"yaxis\":\"y\",\"type\":\"scatter\"},{\"customdata\":[[\"PCAMPMRI-00014\",\"1.2.276.0.7230010.3.1.3.481034752.4047.1665501460.288959\",\"T0\",0.801746,8.716873,\"1.3.6.1.4.1.14519.5.2.1.3671.4754.288453744990673175783381845880\",\"19960316\",\"130727\"],[\"PCAMPMRI-00014\",\"1.2.276.0.7230010.3.1.3.481034752.4076.1665501463.610640\",\"T1\",0.722186,14.0,\"1.3.6.1.4.1.14519.5.2.1.3671.4754.194890890650697728529329442454\",\"19960324\",\"162549\"]],\"hovertemplate\":\"PatientID=%{customdata[0]}<br>PID=%{x}<br>Sphericity=%{y}<br>SeriesInstanceUID_x=%{customdata[1]}<br>time_index=%{customdata[2]}<br>dice_score=%{customdata[3]}<br>hausdorff_dist=%{customdata[4]}<br>StudyInstanceUID=%{customdata[5]}<br>study_date=%{customdata[6]}<br>study_time=%{customdata[7]}<extra></extra>\",\"legendgroup\":\"PCAMPMRI-00014\",\"line\":{\"color\":\"#ab63fa\",\"dash\":\"solid\"},\"marker\":{\"symbol\":\"circle\"},\"mode\":\"lines\",\"name\":\"PCAMPMRI-00014\",\"orientation\":\"v\",\"showlegend\":true,\"x\":[\"PID_00014_T0\",\"PID_00014_T1\"],\"xaxis\":\"x\",\"y\":[0.663199379153464,0.70526296294883],\"yaxis\":\"y\",\"type\":\"scatter\"},{\"customdata\":[[\"PCAMPMRI-00015\",\"1.2.276.0.7230010.3.1.3.481034752.4082.1665501464.278390\",\"T0\",0.917475,10.5,\"1.3.6.1.4.1.14519.5.2.1.3671.4754.182983245842036631781777324507\",\"19960502\",\"111555\"],[\"PCAMPMRI-00015\",\"1.2.276.0.7230010.3.1.3.481034752.4061.1665501461.703894\",\"T1\",0.90025,10.502619,\"1.3.6.1.4.1.14519.5.2.1.3671.4754.431678793261759442965045820561\",\"19960516\",\"114812\"]],\"hovertemplate\":\"PatientID=%{customdata[0]}<br>PID=%{x}<br>Sphericity=%{y}<br>SeriesInstanceUID_x=%{customdata[1]}<br>time_index=%{customdata[2]}<br>dice_score=%{customdata[3]}<br>hausdorff_dist=%{customdata[4]}<br>StudyInstanceUID=%{customdata[5]}<br>study_date=%{customdata[6]}<br>study_time=%{customdata[7]}<extra></extra>\",\"legendgroup\":\"PCAMPMRI-00015\",\"line\":{\"color\":\"#FFA15A\",\"dash\":\"solid\"},\"marker\":{\"symbol\":\"circle\"},\"mode\":\"lines\",\"name\":\"PCAMPMRI-00015\",\"orientation\":\"v\",\"showlegend\":true,\"x\":[\"PID_00015_T0\",\"PID_00015_T1\"],\"xaxis\":\"x\",\"y\":[0.7281401771621094,0.736562599546456],\"yaxis\":\"y\",\"type\":\"scatter\"}],                        {\"template\":{\"data\":{\"barpolar\":[{\"marker\":{\"line\":{\"color\":\"white\",\"width\":0.5},\"pattern\":{\"fillmode\":\"overlay\",\"size\":10,\"solidity\":0.2}},\"type\":\"barpolar\"}],\"bar\":[{\"error_x\":{\"color\":\"#2a3f5f\"},\"error_y\":{\"color\":\"#2a3f5f\"},\"marker\":{\"line\":{\"color\":\"white\",\"width\":0.5},\"pattern\":{\"fillmode\":\"overlay\",\"size\":10,\"solidity\":0.2}},\"type\":\"bar\"}],\"carpet\":[{\"aaxis\":{\"endlinecolor\":\"#2a3f5f\",\"gridcolor\":\"#C8D4E3\",\"linecolor\":\"#C8D4E3\",\"minorgridcolor\":\"#C8D4E3\",\"startlinecolor\":\"#2a3f5f\"},\"baxis\":{\"endlinecolor\":\"#2a3f5f\",\"gridcolor\":\"#C8D4E3\",\"linecolor\":\"#C8D4E3\",\"minorgridcolor\":\"#C8D4E3\",\"startlinecolor\":\"#2a3f5f\"},\"type\":\"carpet\"}],\"choropleth\":[{\"colorbar\":{\"outlinewidth\":0,\"ticks\":\"\"},\"type\":\"choropleth\"}],\"contourcarpet\":[{\"colorbar\":{\"outlinewidth\":0,\"ticks\":\"\"},\"type\":\"contourcarpet\"}],\"contour\":[{\"colorbar\":{\"outlinewidth\":0,\"ticks\":\"\"},\"colorscale\":[[0.0,\"#0d0887\"],[0.1111111111111111,\"#46039f\"],[0.2222222222222222,\"#7201a8\"],[0.3333333333333333,\"#9c179e\"],[0.4444444444444444,\"#bd3786\"],[0.5555555555555556,\"#d8576b\"],[0.6666666666666666,\"#ed7953\"],[0.7777777777777778,\"#fb9f3a\"],[0.8888888888888888,\"#fdca26\"],[1.0,\"#f0f921\"]],\"type\":\"contour\"}],\"heatmapgl\":[{\"colorbar\":{\"outlinewidth\":0,\"ticks\":\"\"},\"colorscale\":[[0.0,\"#0d0887\"],[0.1111111111111111,\"#46039f\"],[0.2222222222222222,\"#7201a8\"],[0.3333333333333333,\"#9c179e\"],[0.4444444444444444,\"#bd3786\"],[0.5555555555555556,\"#d8576b\"],[0.6666666666666666,\"#ed7953\"],[0.7777777777777778,\"#fb9f3a\"],[0.8888888888888888,\"#fdca26\"],[1.0,\"#f0f921\"]],\"type\":\"heatmapgl\"}],\"heatmap\":[{\"colorbar\":{\"outlinewidth\":0,\"ticks\":\"\"},\"colorscale\":[[0.0,\"#0d0887\"],[0.1111111111111111,\"#46039f\"],[0.2222222222222222,\"#7201a8\"],[0.3333333333333333,\"#9c179e\"],[0.4444444444444444,\"#bd3786\"],[0.5555555555555556,\"#d8576b\"],[0.6666666666666666,\"#ed7953\"],[0.7777777777777778,\"#fb9f3a\"],[0.8888888888888888,\"#fdca26\"],[1.0,\"#f0f921\"]],\"type\":\"heatmap\"}],\"histogram2dcontour\":[{\"colorbar\":{\"outlinewidth\":0,\"ticks\":\"\"},\"colorscale\":[[0.0,\"#0d0887\"],[0.1111111111111111,\"#46039f\"],[0.2222222222222222,\"#7201a8\"],[0.3333333333333333,\"#9c179e\"],[0.4444444444444444,\"#bd3786\"],[0.5555555555555556,\"#d8576b\"],[0.6666666666666666,\"#ed7953\"],[0.7777777777777778,\"#fb9f3a\"],[0.8888888888888888,\"#fdca26\"],[1.0,\"#f0f921\"]],\"type\":\"histogram2dcontour\"}],\"histogram2d\":[{\"colorbar\":{\"outlinewidth\":0,\"ticks\":\"\"},\"colorscale\":[[0.0,\"#0d0887\"],[0.1111111111111111,\"#46039f\"],[0.2222222222222222,\"#7201a8\"],[0.3333333333333333,\"#9c179e\"],[0.4444444444444444,\"#bd3786\"],[0.5555555555555556,\"#d8576b\"],[0.6666666666666666,\"#ed7953\"],[0.7777777777777778,\"#fb9f3a\"],[0.8888888888888888,\"#fdca26\"],[1.0,\"#f0f921\"]],\"type\":\"histogram2d\"}],\"histogram\":[{\"marker\":{\"pattern\":{\"fillmode\":\"overlay\",\"size\":10,\"solidity\":0.2}},\"type\":\"histogram\"}],\"mesh3d\":[{\"colorbar\":{\"outlinewidth\":0,\"ticks\":\"\"},\"type\":\"mesh3d\"}],\"parcoords\":[{\"line\":{\"colorbar\":{\"outlinewidth\":0,\"ticks\":\"\"}},\"type\":\"parcoords\"}],\"pie\":[{\"automargin\":true,\"type\":\"pie\"}],\"scatter3d\":[{\"line\":{\"colorbar\":{\"outlinewidth\":0,\"ticks\":\"\"}},\"marker\":{\"colorbar\":{\"outlinewidth\":0,\"ticks\":\"\"}},\"type\":\"scatter3d\"}],\"scattercarpet\":[{\"marker\":{\"colorbar\":{\"outlinewidth\":0,\"ticks\":\"\"}},\"type\":\"scattercarpet\"}],\"scattergeo\":[{\"marker\":{\"colorbar\":{\"outlinewidth\":0,\"ticks\":\"\"}},\"type\":\"scattergeo\"}],\"scattergl\":[{\"marker\":{\"colorbar\":{\"outlinewidth\":0,\"ticks\":\"\"}},\"type\":\"scattergl\"}],\"scattermapbox\":[{\"marker\":{\"colorbar\":{\"outlinewidth\":0,\"ticks\":\"\"}},\"type\":\"scattermapbox\"}],\"scatterpolargl\":[{\"marker\":{\"colorbar\":{\"outlinewidth\":0,\"ticks\":\"\"}},\"type\":\"scatterpolargl\"}],\"scatterpolar\":[{\"marker\":{\"colorbar\":{\"outlinewidth\":0,\"ticks\":\"\"}},\"type\":\"scatterpolar\"}],\"scatter\":[{\"marker\":{\"colorbar\":{\"outlinewidth\":0,\"ticks\":\"\"}},\"type\":\"scatter\"}],\"scatterternary\":[{\"marker\":{\"colorbar\":{\"outlinewidth\":0,\"ticks\":\"\"}},\"type\":\"scatterternary\"}],\"surface\":[{\"colorbar\":{\"outlinewidth\":0,\"ticks\":\"\"},\"colorscale\":[[0.0,\"#0d0887\"],[0.1111111111111111,\"#46039f\"],[0.2222222222222222,\"#7201a8\"],[0.3333333333333333,\"#9c179e\"],[0.4444444444444444,\"#bd3786\"],[0.5555555555555556,\"#d8576b\"],[0.6666666666666666,\"#ed7953\"],[0.7777777777777778,\"#fb9f3a\"],[0.8888888888888888,\"#fdca26\"],[1.0,\"#f0f921\"]],\"type\":\"surface\"}],\"table\":[{\"cells\":{\"fill\":{\"color\":\"#EBF0F8\"},\"line\":{\"color\":\"white\"}},\"header\":{\"fill\":{\"color\":\"#C8D4E3\"},\"line\":{\"color\":\"white\"}},\"type\":\"table\"}]},\"layout\":{\"annotationdefaults\":{\"arrowcolor\":\"#2a3f5f\",\"arrowhead\":0,\"arrowwidth\":1},\"autotypenumbers\":\"strict\",\"coloraxis\":{\"colorbar\":{\"outlinewidth\":0,\"ticks\":\"\"}},\"colorscale\":{\"diverging\":[[0,\"#8e0152\"],[0.1,\"#c51b7d\"],[0.2,\"#de77ae\"],[0.3,\"#f1b6da\"],[0.4,\"#fde0ef\"],[0.5,\"#f7f7f7\"],[0.6,\"#e6f5d0\"],[0.7,\"#b8e186\"],[0.8,\"#7fbc41\"],[0.9,\"#4d9221\"],[1,\"#276419\"]],\"sequential\":[[0.0,\"#0d0887\"],[0.1111111111111111,\"#46039f\"],[0.2222222222222222,\"#7201a8\"],[0.3333333333333333,\"#9c179e\"],[0.4444444444444444,\"#bd3786\"],[0.5555555555555556,\"#d8576b\"],[0.6666666666666666,\"#ed7953\"],[0.7777777777777778,\"#fb9f3a\"],[0.8888888888888888,\"#fdca26\"],[1.0,\"#f0f921\"]],\"sequentialminus\":[[0.0,\"#0d0887\"],[0.1111111111111111,\"#46039f\"],[0.2222222222222222,\"#7201a8\"],[0.3333333333333333,\"#9c179e\"],[0.4444444444444444,\"#bd3786\"],[0.5555555555555556,\"#d8576b\"],[0.6666666666666666,\"#ed7953\"],[0.7777777777777778,\"#fb9f3a\"],[0.8888888888888888,\"#fdca26\"],[1.0,\"#f0f921\"]]},\"colorway\":[\"#636efa\",\"#EF553B\",\"#00cc96\",\"#ab63fa\",\"#FFA15A\",\"#19d3f3\",\"#FF6692\",\"#B6E880\",\"#FF97FF\",\"#FECB52\"],\"font\":{\"color\":\"#2a3f5f\"},\"geo\":{\"bgcolor\":\"white\",\"lakecolor\":\"white\",\"landcolor\":\"white\",\"showlakes\":true,\"showland\":true,\"subunitcolor\":\"#C8D4E3\"},\"hoverlabel\":{\"align\":\"left\"},\"hovermode\":\"closest\",\"mapbox\":{\"style\":\"light\"},\"paper_bgcolor\":\"white\",\"plot_bgcolor\":\"white\",\"polar\":{\"angularaxis\":{\"gridcolor\":\"#EBF0F8\",\"linecolor\":\"#EBF0F8\",\"ticks\":\"\"},\"bgcolor\":\"white\",\"radialaxis\":{\"gridcolor\":\"#EBF0F8\",\"linecolor\":\"#EBF0F8\",\"ticks\":\"\"}},\"scene\":{\"xaxis\":{\"backgroundcolor\":\"white\",\"gridcolor\":\"#DFE8F3\",\"gridwidth\":2,\"linecolor\":\"#EBF0F8\",\"showbackground\":true,\"ticks\":\"\",\"zerolinecolor\":\"#EBF0F8\"},\"yaxis\":{\"backgroundcolor\":\"white\",\"gridcolor\":\"#DFE8F3\",\"gridwidth\":2,\"linecolor\":\"#EBF0F8\",\"showbackground\":true,\"ticks\":\"\",\"zerolinecolor\":\"#EBF0F8\"},\"zaxis\":{\"backgroundcolor\":\"white\",\"gridcolor\":\"#DFE8F3\",\"gridwidth\":2,\"linecolor\":\"#EBF0F8\",\"showbackground\":true,\"ticks\":\"\",\"zerolinecolor\":\"#EBF0F8\"}},\"shapedefaults\":{\"line\":{\"color\":\"#2a3f5f\"}},\"ternary\":{\"aaxis\":{\"gridcolor\":\"#DFE8F3\",\"linecolor\":\"#A2B1C6\",\"ticks\":\"\"},\"baxis\":{\"gridcolor\":\"#DFE8F3\",\"linecolor\":\"#A2B1C6\",\"ticks\":\"\"},\"bgcolor\":\"white\",\"caxis\":{\"gridcolor\":\"#DFE8F3\",\"linecolor\":\"#A2B1C6\",\"ticks\":\"\"}},\"title\":{\"x\":0.05},\"xaxis\":{\"automargin\":true,\"gridcolor\":\"#EBF0F8\",\"linecolor\":\"#EBF0F8\",\"ticks\":\"\",\"title\":{\"standoff\":15},\"zerolinecolor\":\"#EBF0F8\",\"zerolinewidth\":2},\"yaxis\":{\"automargin\":true,\"gridcolor\":\"#EBF0F8\",\"linecolor\":\"#EBF0F8\",\"ticks\":\"\",\"title\":{\"standoff\":15},\"zerolinecolor\":\"#EBF0F8\",\"zerolinewidth\":2}}},\"xaxis\":{\"anchor\":\"y\",\"domain\":[0.0,1.0],\"title\":{\"text\":\"PID\"}},\"yaxis\":{\"anchor\":\"x\",\"domain\":[0.0,1.0],\"title\":{\"text\":\"Sphericity\"}},\"legend\":{\"title\":{\"text\":\"PatientID\"},\"tracegroupgap\":0},\"title\":{\"text\":\"Sphericity values for qin-rep-repeat for gt idc segs\"},\"showlegend\":false},                        {\"responsive\": true}                    ).then(function(){\n",
              "                            \n",
              "var gd = document.getElementById('47440f53-19a6-433f-9e73-d2a873d7b052');\n",
              "var x = new MutationObserver(function (mutations, observer) {{\n",
              "        var display = window.getComputedStyle(gd).display;\n",
              "        if (!display || display === 'none') {{\n",
              "            console.log([gd, 'removed!']);\n",
              "            Plotly.purge(gd);\n",
              "            observer.disconnect();\n",
              "        }}\n",
              "}});\n",
              "\n",
              "// Listen for the removal of the full notebook cells\n",
              "var notebookContainer = gd.closest('#notebook-container');\n",
              "if (notebookContainer) {{\n",
              "    x.observe(notebookContainer, {childList: true});\n",
              "}}\n",
              "\n",
              "// Listen for the clearing of the current output cell\n",
              "var outputEl = gd.closest('.output');\n",
              "if (outputEl) {{\n",
              "    x.observe(outputEl, {childList: true});\n",
              "}}\n",
              "\n",
              "                        })                };                            </script>        </div>\n",
              "</body>\n",
              "</html>"
            ]
          },
          "metadata": {}
        }
      ]
    },
    {
      "cell_type": "markdown",
      "source": [
        "# OHIF URLS for PIDs"
      ],
      "metadata": {
        "id": "sYb2IzvHWUPA"
      }
    },
    {
      "cell_type": "code",
      "source": [
        "ohif_pts_df = merged_df_gt_idc[[\"PID\", \"ohif_url\"]]"
      ],
      "metadata": {
        "id": "Wfjl-4GletQI"
      },
      "execution_count": null,
      "outputs": []
    },
    {
      "cell_type": "code",
      "source": [
        "for index, pid  in enumerate(ohif_pts_df.PID.values) :\n",
        "  print(f\"pid/url : {pid}/{ohif_pts_df.ohif_url.values[index]}\\n\")"
      ],
      "metadata": {
        "colab": {
          "base_uri": "https://localhost:8080/"
        },
        "id": "2v08PkFXeuJq",
        "outputId": "043c4bd6-185e-443e-8e2d-de60113b58b4"
      },
      "execution_count": null,
      "outputs": [
        {
          "output_type": "stream",
          "name": "stdout",
          "text": [
            "pid/url : PID_00001_T0/https://fir-idc-prostate-ohif.web.app/viewer/1.3.6.1.4.1.14519.5.2.1.3671.4754.121472087445374646718121301133!secondGoogleServer=/projects/idc-sandbox-003/locations/us-central1/datasets/prostate-seg/dicomStores/qin_prostate_repeatability_segnnUNet_datastore\n",
            "\n",
            "pid/url : PID_00001_T1/https://fir-idc-prostate-ohif.web.app/viewer/1.3.6.1.4.1.14519.5.2.1.3671.4754.288848219213026850354055725664!secondGoogleServer=/projects/idc-sandbox-003/locations/us-central1/datasets/prostate-seg/dicomStores/qin_prostate_repeatability_segnnUNet_datastore\n",
            "\n",
            "pid/url : PID_00002_T0/https://fir-idc-prostate-ohif.web.app/viewer/1.3.6.1.4.1.14519.5.2.1.3671.4754.304001015100152820571364796240!secondGoogleServer=/projects/idc-sandbox-003/locations/us-central1/datasets/prostate-seg/dicomStores/qin_prostate_repeatability_segnnUNet_datastore\n",
            "\n",
            "pid/url : PID_00002_T1/https://fir-idc-prostate-ohif.web.app/viewer/1.3.6.1.4.1.14519.5.2.1.3671.4754.568383070573576760578239627478!secondGoogleServer=/projects/idc-sandbox-003/locations/us-central1/datasets/prostate-seg/dicomStores/qin_prostate_repeatability_segnnUNet_datastore\n",
            "\n",
            "pid/url : PID_00003_T0/https://fir-idc-prostate-ohif.web.app/viewer/1.3.6.1.4.1.14519.5.2.1.3671.4754.162322077241419864654545266845!secondGoogleServer=/projects/idc-sandbox-003/locations/us-central1/datasets/prostate-seg/dicomStores/qin_prostate_repeatability_segnnUNet_datastore\n",
            "\n",
            "pid/url : PID_00003_T1/https://fir-idc-prostate-ohif.web.app/viewer/1.3.6.1.4.1.14519.5.2.1.3671.4754.263464522348816475234793721892!secondGoogleServer=/projects/idc-sandbox-003/locations/us-central1/datasets/prostate-seg/dicomStores/qin_prostate_repeatability_segnnUNet_datastore\n",
            "\n",
            "pid/url : PID_00004_T0/https://fir-idc-prostate-ohif.web.app/viewer/1.3.6.1.4.1.14519.5.2.1.3671.4754.394942238206951812120962051099!secondGoogleServer=/projects/idc-sandbox-003/locations/us-central1/datasets/prostate-seg/dicomStores/qin_prostate_repeatability_segnnUNet_datastore\n",
            "\n",
            "pid/url : PID_00004_T1/https://fir-idc-prostate-ohif.web.app/viewer/1.3.6.1.4.1.14519.5.2.1.3671.4754.204078048920967920419177848890!secondGoogleServer=/projects/idc-sandbox-003/locations/us-central1/datasets/prostate-seg/dicomStores/qin_prostate_repeatability_segnnUNet_datastore\n",
            "\n",
            "pid/url : PID_00005_T0/https://fir-idc-prostate-ohif.web.app/viewer/1.3.6.1.4.1.14519.5.2.1.3671.4754.240823776621155108064488841063!secondGoogleServer=/projects/idc-sandbox-003/locations/us-central1/datasets/prostate-seg/dicomStores/qin_prostate_repeatability_segnnUNet_datastore\n",
            "\n",
            "pid/url : PID_00005_T1/https://fir-idc-prostate-ohif.web.app/viewer/1.3.6.1.4.1.14519.5.2.1.3671.4754.233298968565250099224990877587!secondGoogleServer=/projects/idc-sandbox-003/locations/us-central1/datasets/prostate-seg/dicomStores/qin_prostate_repeatability_segnnUNet_datastore\n",
            "\n",
            "pid/url : PID_00006_T0/https://fir-idc-prostate-ohif.web.app/viewer/1.3.6.1.4.1.14519.5.2.1.3671.4754.287814201869490350714498330797!secondGoogleServer=/projects/idc-sandbox-003/locations/us-central1/datasets/prostate-seg/dicomStores/qin_prostate_repeatability_segnnUNet_datastore\n",
            "\n",
            "pid/url : PID_00006_T1/https://fir-idc-prostate-ohif.web.app/viewer/1.3.6.1.4.1.14519.5.2.1.3671.4754.133806669697115873569905534398!secondGoogleServer=/projects/idc-sandbox-003/locations/us-central1/datasets/prostate-seg/dicomStores/qin_prostate_repeatability_segnnUNet_datastore\n",
            "\n",
            "pid/url : PID_00007_T0/https://fir-idc-prostate-ohif.web.app/viewer/1.3.6.1.4.1.14519.5.2.1.3671.4754.240243858523310211919840278205!secondGoogleServer=/projects/idc-sandbox-003/locations/us-central1/datasets/prostate-seg/dicomStores/qin_prostate_repeatability_segnnUNet_datastore\n",
            "\n",
            "pid/url : PID_00007_T1/https://fir-idc-prostate-ohif.web.app/viewer/1.3.6.1.4.1.14519.5.2.1.3671.4754.962865348146140991373362412648!secondGoogleServer=/projects/idc-sandbox-003/locations/us-central1/datasets/prostate-seg/dicomStores/qin_prostate_repeatability_segnnUNet_datastore\n",
            "\n",
            "pid/url : PID_00008_T0/https://fir-idc-prostate-ohif.web.app/viewer/1.3.6.1.4.1.14519.5.2.1.3671.4754.173585825705285812758858023242!secondGoogleServer=/projects/idc-sandbox-003/locations/us-central1/datasets/prostate-seg/dicomStores/qin_prostate_repeatability_segnnUNet_datastore\n",
            "\n",
            "pid/url : PID_00008_T1/https://fir-idc-prostate-ohif.web.app/viewer/1.3.6.1.4.1.14519.5.2.1.3671.4754.266963586071007736606548226859!secondGoogleServer=/projects/idc-sandbox-003/locations/us-central1/datasets/prostate-seg/dicomStores/qin_prostate_repeatability_segnnUNet_datastore\n",
            "\n",
            "pid/url : PID_00009_T0/https://fir-idc-prostate-ohif.web.app/viewer/1.3.6.1.4.1.14519.5.2.1.3671.4754.864607788085827202303582199118!secondGoogleServer=/projects/idc-sandbox-003/locations/us-central1/datasets/prostate-seg/dicomStores/qin_prostate_repeatability_segnnUNet_datastore\n",
            "\n",
            "pid/url : PID_00009_T1/https://fir-idc-prostate-ohif.web.app/viewer/1.3.6.1.4.1.14519.5.2.1.3671.4754.181478254003851548055481596513!secondGoogleServer=/projects/idc-sandbox-003/locations/us-central1/datasets/prostate-seg/dicomStores/qin_prostate_repeatability_segnnUNet_datastore\n",
            "\n",
            "pid/url : PID_00010_T0/https://fir-idc-prostate-ohif.web.app/viewer/1.3.6.1.4.1.14519.5.2.1.3671.4754.217251077299095981018478951589!secondGoogleServer=/projects/idc-sandbox-003/locations/us-central1/datasets/prostate-seg/dicomStores/qin_prostate_repeatability_segnnUNet_datastore\n",
            "\n",
            "pid/url : PID_00010_T1/https://fir-idc-prostate-ohif.web.app/viewer/1.3.6.1.4.1.14519.5.2.1.3671.4754.318227959935022390930294557376!secondGoogleServer=/projects/idc-sandbox-003/locations/us-central1/datasets/prostate-seg/dicomStores/qin_prostate_repeatability_segnnUNet_datastore\n",
            "\n",
            "pid/url : PID_00011_T0/https://fir-idc-prostate-ohif.web.app/viewer/1.3.6.1.4.1.14519.5.2.1.3671.4754.131608903441424620949571415524!secondGoogleServer=/projects/idc-sandbox-003/locations/us-central1/datasets/prostate-seg/dicomStores/qin_prostate_repeatability_segnnUNet_datastore\n",
            "\n",
            "pid/url : PID_00011_T1/https://fir-idc-prostate-ohif.web.app/viewer/1.3.6.1.4.1.14519.5.2.1.3671.4754.117496148504386222592571043379!secondGoogleServer=/projects/idc-sandbox-003/locations/us-central1/datasets/prostate-seg/dicomStores/qin_prostate_repeatability_segnnUNet_datastore\n",
            "\n",
            "pid/url : PID_00012_T0/https://fir-idc-prostate-ohif.web.app/viewer/1.3.6.1.4.1.14519.5.2.1.3671.4754.298665348758363466150039312520!secondGoogleServer=/projects/idc-sandbox-003/locations/us-central1/datasets/prostate-seg/dicomStores/qin_prostate_repeatability_segnnUNet_datastore\n",
            "\n",
            "pid/url : PID_00012_T1/https://fir-idc-prostate-ohif.web.app/viewer/1.3.6.1.4.1.14519.5.2.1.3671.4754.264231410930579591639987629694!secondGoogleServer=/projects/idc-sandbox-003/locations/us-central1/datasets/prostate-seg/dicomStores/qin_prostate_repeatability_segnnUNet_datastore\n",
            "\n",
            "pid/url : PID_00013_T0/https://fir-idc-prostate-ohif.web.app/viewer/1.3.6.1.4.1.14519.5.2.1.3671.4754.211895462561589970837377570121!secondGoogleServer=/projects/idc-sandbox-003/locations/us-central1/datasets/prostate-seg/dicomStores/qin_prostate_repeatability_segnnUNet_datastore\n",
            "\n",
            "pid/url : PID_00013_T1/https://fir-idc-prostate-ohif.web.app/viewer/1.3.6.1.4.1.14519.5.2.1.3671.4754.245461598867316286839568962369!secondGoogleServer=/projects/idc-sandbox-003/locations/us-central1/datasets/prostate-seg/dicomStores/qin_prostate_repeatability_segnnUNet_datastore\n",
            "\n",
            "pid/url : PID_00014_T0/https://fir-idc-prostate-ohif.web.app/viewer/1.3.6.1.4.1.14519.5.2.1.3671.4754.288453744990673175783381845880!secondGoogleServer=/projects/idc-sandbox-003/locations/us-central1/datasets/prostate-seg/dicomStores/qin_prostate_repeatability_segnnUNet_datastore\n",
            "\n",
            "pid/url : PID_00014_T1/https://fir-idc-prostate-ohif.web.app/viewer/1.3.6.1.4.1.14519.5.2.1.3671.4754.194890890650697728529329442454!secondGoogleServer=/projects/idc-sandbox-003/locations/us-central1/datasets/prostate-seg/dicomStores/qin_prostate_repeatability_segnnUNet_datastore\n",
            "\n",
            "pid/url : PID_00015_T0/https://fir-idc-prostate-ohif.web.app/viewer/1.3.6.1.4.1.14519.5.2.1.3671.4754.182983245842036631781777324507!secondGoogleServer=/projects/idc-sandbox-003/locations/us-central1/datasets/prostate-seg/dicomStores/qin_prostate_repeatability_segnnUNet_datastore\n",
            "\n",
            "pid/url : PID_00015_T1/https://fir-idc-prostate-ohif.web.app/viewer/1.3.6.1.4.1.14519.5.2.1.3671.4754.431678793261759442965045820561!secondGoogleServer=/projects/idc-sandbox-003/locations/us-central1/datasets/prostate-seg/dicomStores/qin_prostate_repeatability_segnnUNet_datastore\n",
            "\n"
          ]
        }
      ]
    }
  ]
}