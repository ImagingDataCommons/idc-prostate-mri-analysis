{
  "nbformat": 4,
  "nbformat_minor": 0,
  "metadata": {
    "colab": {
      "provenance": [],
      "collapsed_sections": [
        "Db4ansTyzqZ1",
        "L1NfmfU4kjxB",
        "ZxaZ6eMwQVOb",
        "rDE69us5SosB",
        "OD6gtoaucXn5"
      ],
      "gpuType": "T4",
      "authorship_tag": "ABX9TyNkXCgInBM95FEW+r45H9cO",
      "include_colab_link": true
    },
    "kernelspec": {
      "name": "python3",
      "display_name": "Python 3"
    },
    "language_info": {
      "name": "python"
    },
    "accelerator": "GPU",
    "gpuClass": "standard"
  },
  "cells": [
    {
      "cell_type": "markdown",
      "metadata": {
        "id": "view-in-github",
        "colab_type": "text"
      },
      "source": [
        "<a href=\"https://colab.research.google.com/github/ccosmin97/idc-prostate-mri-analysis/blob/main/MONAI_prostate158_cancer_qin_prost_rep.ipynb\" target=\"_parent\"><img src=\"https://colab.research.google.com/assets/colab-badge.svg\" alt=\"Open In Colab\"/></a>"
      ]
    },
    {
      "cell_type": "markdown",
      "metadata": {
        "id": "Db4ansTyzqZ1"
      },
      "source": [
        "# Auth login"
      ]
    },
    {
      "cell_type": "code",
      "source": [
        "from google.cloud import bigquery\n",
        "import os\n",
        "import pandas as pd\n",
        "import numpy as np"
      ],
      "metadata": {
        "id": "LIokk4AH-y03"
      },
      "execution_count": 1,
      "outputs": []
    },
    {
      "cell_type": "code",
      "execution_count": 2,
      "metadata": {
        "id": "XSg6W2HXzsoG"
      },
      "outputs": [],
      "source": [
        "#colab \n",
        "from google.colab import auth\n",
        "auth.authenticate_user()"
      ]
    },
    {
      "cell_type": "code",
      "source": [
        "project_id = \"idc-nlst-unet-seg\"\n",
        "os.environ[\"GCP_PROJECT_ID\"] = project_id"
      ],
      "metadata": {
        "id": "JdD9rcds-s2x"
      },
      "execution_count": 3,
      "outputs": []
    },
    {
      "cell_type": "markdown",
      "source": [
        "# Env setup"
      ],
      "metadata": {
        "id": "UyRk18CbHC7E"
      }
    },
    {
      "cell_type": "markdown",
      "metadata": {
        "id": "40E3HnI5A0SX"
      },
      "source": [
        "## Install command-line tools\n"
      ]
    },
    {
      "cell_type": "code",
      "execution_count": 4,
      "metadata": {
        "id": "ZZL6-ByHA7XY"
      },
      "outputs": [],
      "source": [
        "%%capture\n",
        "!sudo apt update\n",
        "\n",
        "!sudo apt install plastimatch"
      ]
    },
    {
      "cell_type": "code",
      "execution_count": 5,
      "metadata": {
        "colab": {
          "base_uri": "https://localhost:8080/"
        },
        "id": "LMovHnKgBEfC",
        "outputId": "09512257-d588-472e-8a91-bd979d45ba5a"
      },
      "outputs": [
        {
          "output_type": "stream",
          "name": "stdout",
          "text": [
            "plastimatch version 1.8.0\n"
          ]
        }
      ],
      "source": [
        "!echo $(plastimatch --version)"
      ]
    },
    {
      "cell_type": "markdown",
      "metadata": {
        "id": "K_8zlhmdo0HD"
      },
      "source": [
        "[dcmqi](https://github.com/QIICR/dcmqi) is an open source library that can help with the conversion between imaging research formats and the standard DICOM representation for image analysis results. More specifically, you can use dcmqi convert DICOM Segmentation objects (DICOM SEG) into research formats, such as NIfTI and NRRD."
      ]
    },
    {
      "cell_type": "code",
      "execution_count": 6,
      "metadata": {
        "id": "KAkmz4jApGh8"
      },
      "outputs": [],
      "source": [
        "%%capture\n",
        "!wget https://github.com/QIICR/dcmqi/releases/download/v1.2.5/dcmqi-1.2.5-linux.tar.gz\n",
        "!tar zxvf dcmqi-1.2.5-linux.tar.gz\n",
        "!cp dcmqi-1.2.5-linux/bin/* /usr/local/bin/"
      ]
    },
    {
      "cell_type": "markdown",
      "metadata": {
        "id": "fFRWendbBH72"
      },
      "source": [
        "Finally, we are going to install [Subversion](https://subversion.apache.org/), a tool that will allow us to clone GitHub repositories only partially (to save time and space)."
      ]
    },
    {
      "cell_type": "code",
      "execution_count": 7,
      "metadata": {
        "id": "YBEJRe-2BKah"
      },
      "outputs": [],
      "source": [
        "%%capture\n",
        "\n",
        "!sudo apt install subversion"
      ]
    },
    {
      "cell_type": "code",
      "execution_count": 8,
      "metadata": {
        "colab": {
          "base_uri": "https://localhost:8080/"
        },
        "id": "WI1_BixWBN1O",
        "outputId": "507fe72b-15a9-454d-e4c2-63b09eb9d7b8"
      },
      "outputs": [
        {
          "output_type": "stream",
          "name": "stdout",
          "text": [
            "svn, version 1.13.0 (r1867053) compiled May 12 2022, 20:47:08 on x86_64-pc-linux-gnu\n"
          ]
        }
      ],
      "source": [
        "!echo $(svn --version | head -n 2)"
      ]
    },
    {
      "cell_type": "markdown",
      "source": [
        "## MONAI Prostate cancer environment setup"
      ],
      "metadata": {
        "id": "99HsWHmzTk-w"
      }
    },
    {
      "cell_type": "markdown",
      "metadata": {
        "id": "lcN1DsBl4NRE"
      },
      "source": [
        "### Monai setup and imports"
      ]
    },
    {
      "cell_type": "code",
      "source": [
        "%%capture\n",
        "!pip install simpleitk\n",
        "!pip install -U \"monai[all]\" pyyaml munch pandas"
      ],
      "metadata": {
        "id": "wJ32ePoDTxtK"
      },
      "execution_count": 9,
      "outputs": []
    },
    {
      "cell_type": "code",
      "source": [
        "%%capture\n",
        "!sudo apt update\n",
        "!sudo apt install plastimatch\n",
        "!sudo apt install subversion\n",
        "# PyPlastimatch - paython wrapper for Plastimatch (and interactive notebook visualisation)\n",
        "!svn checkout https://github.com/AIM-Harvard/pyplastimatch/trunk/pyplastimatch pyplastimatch"
      ],
      "metadata": {
        "id": "aQTdnXgnTzUS"
      },
      "execution_count": 10,
      "outputs": []
    },
    {
      "cell_type": "code",
      "source": [
        "%%capture\n",
        "!pip install protobuf==3.9.2\n",
        "!pip install grpcio\n",
        "!pip install grpcio-tools\n",
        "!pip install google-cloud-bigquery\n",
        "!pip install pydicom\n",
        "!pip install nibabel\n",
        "!pip install dcm2niix"
      ],
      "metadata": {
        "id": "6o569TmhT2EE"
      },
      "execution_count": 11,
      "outputs": []
    },
    {
      "cell_type": "code",
      "source": [
        "%%capture\n",
        "!pip install 'itkwidgets>=1.0a16'"
      ],
      "metadata": {
        "id": "GsA19mrjUCF_"
      },
      "execution_count": 12,
      "outputs": []
    },
    {
      "cell_type": "markdown",
      "metadata": {
        "id": "sDm_rg-FcT2i"
      },
      "source": [
        "Imports"
      ]
    },
    {
      "cell_type": "code",
      "execution_count": 13,
      "metadata": {
        "id": "rgdz9rbOODDE"
      },
      "outputs": [],
      "source": [
        "from pyplastimatch import pyplastimatch as pypla\n",
        "from pyplastimatch.utils import viz as viz_utils\n",
        "from pyplastimatch.utils import data as data_utils\n",
        "import nibabel as nib\n",
        "import pandas as pd\n",
        "import pydicom\n",
        "import nibabel as nib\n",
        "from scipy import ndimage\n",
        "import numpy as np\n",
        "import glob\n",
        "import json\n",
        "import os"
      ]
    },
    {
      "cell_type": "markdown",
      "source": [
        "Sort dicom data package"
      ],
      "metadata": {
        "id": "oHrKBPP4Vm7Y"
      }
    },
    {
      "cell_type": "code",
      "source": [
        "# dicomsort is the pythong package that can sort DICOM files into\n",
        "# folder organization based on user-specified DICOM attributes\n",
        "!git clone https://github.com/pieper/dicomsort.git"
      ],
      "metadata": {
        "colab": {
          "base_uri": "https://localhost:8080/"
        },
        "id": "ae6PRvE8VpB1",
        "outputId": "81ea3c35-f082-4c53-a30d-8a93a221b3bd"
      },
      "execution_count": 14,
      "outputs": [
        {
          "output_type": "stream",
          "name": "stdout",
          "text": [
            "Cloning into 'dicomsort'...\n",
            "remote: Enumerating objects: 169, done.\u001b[K\n",
            "remote: Counting objects: 100% (43/43), done.\u001b[K\n",
            "remote: Compressing objects: 100% (26/26), done.\u001b[K\n",
            "remote: Total 169 (delta 23), reused 34 (delta 17), pack-reused 126\u001b[K\n",
            "Receiving objects: 100% (169/169), 87.85 KiB | 2.51 MiB/s, done.\n",
            "Resolving deltas: 100% (86/86), done.\n"
          ]
        }
      ]
    },
    {
      "cell_type": "markdown",
      "metadata": {
        "id": "Yh-pjeumw0ie"
      },
      "source": [
        "Colab imports"
      ]
    },
    {
      "cell_type": "code",
      "execution_count": 15,
      "metadata": {
        "id": "FZ6GwZRHw3jf"
      },
      "outputs": [],
      "source": [
        "#colab \n",
        "from google.colab import auth\n",
        "auth.authenticate_user()"
      ]
    },
    {
      "cell_type": "markdown",
      "source": [],
      "metadata": {
        "id": "LzQc7DlNRKsf"
      }
    },
    {
      "cell_type": "markdown",
      "metadata": {
        "id": "7INoX4rgTp7O"
      },
      "source": [
        "# QIN Prostate Repeatability -- Data selection -- BigQuery"
      ]
    },
    {
      "cell_type": "markdown",
      "source": [
        "We select here all T2W, ADC and DWI images within a study that has T2W segmentation objects with lesion segmented"
      ],
      "metadata": {
        "id": "Ic6ElgeIRDHH"
      }
    },
    {
      "cell_type": "code",
      "execution_count": 16,
      "metadata": {
        "id": "joRbZ81GWNz1"
      },
      "outputs": [],
      "source": [
        "bq_client = bigquery.Client(os.environ[\"GCP_PROJECT_ID\"])\n",
        "selection_query = f\"\"\"\n",
        "WITH\n",
        "  dwi_series AS(\n",
        "  SELECT\n",
        "    StudyInstanceUID,\n",
        "    SeriesInstanceUID,\n",
        "    SOPInstanceUID,\n",
        "    PatientID,\n",
        "    Modality,\n",
        "    collection_id,\n",
        "    StudyDescription,\n",
        "    SeriesDescription,\n",
        "    StudyDate,\n",
        "    SeriesDate,\n",
        "    gcs_url,\n",
        "    (\n",
        "    SELECT\n",
        "      SeriesInstanceUID\n",
        "    FROM\n",
        "      UNNEST(ReferencedSeriesSequence)) AS RefSerieUID,\n",
        "  FROM\n",
        "    `bigquery-public-data.idc_current.dicom_all`\n",
        "  LEFT JOIN\n",
        "    UNNEST (OtherElements ) AS oe_unnested\n",
        "  WHERE\n",
        "    collection_id = \"qin_prostate_repeatability\"\n",
        "    AND SeriesDescription = \"DWI\"\n",
        "    AND oe_unnested.Tag = \"Tag_00431039\"\n",
        "    AND oe_unnested.Data[\n",
        "  OFFSET\n",
        "    (0)] = \"1400\"),\n",
        "\n",
        "  \n",
        "  t2_seg_lesion_series AS (\n",
        "  SELECT\n",
        "    DISTINCT(StudyInstanceUID)\n",
        "  FROM\n",
        "    `bigquery-public-data.idc_v14.dicom_all` AS dc_all\n",
        "  CROSS JOIN\n",
        "    UNNEST(SegmentSequence) AS segSeq\n",
        "  WHERE\n",
        "    collection_id = 'qin_prostate_repeatability'\n",
        "    AND segSeq.SegmentedPropertyTypeCodeSequence[SAFE_OFFSET(0)].CodeMeaning = 'Lesion'\n",
        "    AND SeriesDescription = 'T2 Weighted Axial Segmentations'),\n",
        "\n",
        "  adc_t2_dwi_series AS (\n",
        "  SELECT\n",
        "    dc_all.StudyInstanceUID,\n",
        "    dc_all.SeriesInstanceUID,\n",
        "    dc_all.SOPInstanceUID,\n",
        "    dc_all.PatientID,\n",
        "    dc_all.Modality,\n",
        "    dc_all.collection_id,\n",
        "    dc_all.StudyDescription,\n",
        "    dc_all.SeriesDescription,\n",
        "    dc_all.StudyDate,\n",
        "    dc_all.SeriesDate,\n",
        "    dc_all.gcs_url,\n",
        "    (\n",
        "    SELECT\n",
        "      SeriesInstanceUID\n",
        "    FROM\n",
        "      UNNEST(dc_all.ReferencedSeriesSequence)) AS RefSerieUID\n",
        "  FROM\n",
        "    `bigquery-public-data.idc_v14.dicom_all` as dc_all\n",
        "  RIGHT JOIN\n",
        "    t2_seg_lesion_series as lesions\n",
        "  ON\n",
        "    dc_all.StudyInstanceUID = lesions.StudyInstanceUID \n",
        "  WHERE\n",
        "    collection_id = 'qin_prostate_repeatability'\n",
        "    AND SeriesDescription IN ('T2 Weighted Axial',\n",
        "      'Apparent Diffusion Coefficient',\n",
        "      'T2 Weighted Axial Segmentations',\n",
        "      'Apparent Diffusion Coefficient Segmentations'))\n",
        "SELECT\n",
        "  *\n",
        "FROM\n",
        "  adc_t2_dwi_series\n",
        "UNION ALL\n",
        "SELECT\n",
        "  dwi.*\n",
        "FROM\n",
        "  dwi_series as dwi\n",
        "RIGHT JOIN\n",
        "    t2_seg_lesion_series as lesions\n",
        "  ON\n",
        "    dwi.StudyInstanceUID = lesions.StudyInstanceUID\"\"\" "
      ]
    },
    {
      "cell_type": "markdown",
      "source": [
        "Lesion data to retrieve as ground-truth"
      ],
      "metadata": {
        "id": "K0Q5A7MEMOQV"
      }
    },
    {
      "cell_type": "markdown",
      "source": [
        "![image.png](data:image/png;base64,iVBORw0KGgoAAAANSUhEUgAAAnAAAAEbCAYAAABayLmnAAABDWlDQ1BJQ0MgUHJvZmlsZQAAKJFjYGCSSCwoyGESYGDIzSspCnJ3UoiIjFJgf87AyiDOIMCgz6CSmFxc4BgQ4MMABDAaFXy7xsAIoi/rgszClMcLuFJSi5OB9B8gTkkuKCphYGBMALKVy0sKQOwWIFskKRvMngFiFwEdCGSvAbHTIewDYDUQ9hWwmpAgZyD7BZDNlwRh/wCx08FsJg4QG2ov2A2OQHenKgB9T6LjCYGS1IoSEO2cX1BZlJmeUaIAsckzL1lPR8HIwMiYgQEU3hDVnwPB4cgodgYhhgAIscq9wJgIYmBg2YkQCwP6b40+A4MsM0JMTYmBQaiegWFjQXJpURnUGEbGswwMhPgAoxlLsufWS3gAAAA4ZVhJZk1NACoAAAAIAAGHaQAEAAAAAQAAABoAAAAAAAKgAgAEAAAAAQAAAnCgAwAEAAAAAQAAARsAAAAA3SCN8QAAQABJREFUeAHsXQV8FUcTn0ILfBWguFtxinuAIMEhuBYpWrQ4Ibi7W6G4e5BgQUIIEQgR3DVYoSXBKYEC3/4n3PXl5d0jSUMbmckv7+7W9393u7MzszeffZsq3XsSEgQEAUFAEBAEBAFBQBCINQgkiDUtlYYKAoKAICAICAKCgCAgCDACn5vi4Onuanop54KAICAICAKCgCAgCAgCMRCBz0SFGgPvijRJEBAEBAFBQBAQBAQBKwiICtUKOBIlCAgCgoAgIAgIAoJATERAGLiYeFekTYKAICAICAKCgCAgCFhBIMoMXLJkyWjUiGFhik6cKFGYa+0iUaIvtNMIHxMmTGg1rVGZX3zxBX322Wfh8iIMcZbIvK5JE8fR55+HMQ+0lE3CDBAwwg73wBxrgyLiZLARLrGxs0UKF6KiRQrHxqZzm2PjvYhqm9OmTUu1ataI0L3C+2lp/IxQZkkkCAgC/yoCUWbg1q5eQd5Hj3FjS5cqSadP+JHf8aN0cP9eypgxA4enSZOGXPY4k//xY3TudADZViivdy5x4sQ0dvRI8vY4TPXs6+rh3bt1oUMH99GRwwdp+tTJ4QYTozIx8MybM4tOBRynyxfPUo/uXfUyO3ZoR5cunOG4xb/+ojNy332Xg9avXUVurvtom9MmwqQECgg4QRPHj9Xzy0nEEBg21JE81EYYf/UcbN28gXCvQAkSJKDJk8bTmZP+6t+Pfl0wn5IkSRKxQuNAKiNcYkrXsmbJQiVLlohUc2pUr0a1atXkPK4HXPjeBvgdU+/Sfhrs6EDJkyeLVHn/NPGXX35JtT+0x1pZxYsXo317dvIzunPHVqpfz95aco5DnmxZs3403adK0OqHluTj7UHHvI/QimVLqHChgpGqKqca537u2d1qnhQpvqVf5s0hT/dDfC+nTZmkj5NWM0qkICAI/GcIRImBq2hbge7evUf7Dxzkhk+dMpGGDh9JhYqWIE9PLxrYvy+H9+n9M504eYoKFytJffs70IxpU/SOrlqxlL766itq064DOe/cxeE5smen1mqwql23PlWsXI3y589HlStV1PPgxKjMmjWqUZ7cuahE6XJkW8mO+vbuxYxk6lSpaNgQR6pStQYVL2VD6dOn1wftgf370fYdzip9VVq0eCn17dOb69q02YlKlSqhM6JhGiAXFhGoVMmWypezIbtqNalI8VJ09JgPzZ09g9MC/8yZMlHNOvaMdcjrEJoza7rFcuJaoDVcYkpfbWzKUMf27aLcnCRJElOHzl2oWIkyVK9BY8qYIQP91KljlMuLSsaUKVPQlEkTrGaFJGrNymU0Z958fka7dOtBk5W0HcyLNWr/Y1sqX76ctSSfLA7jX++fe9BPXbtTCTV+bdy0mcBcRTdh4fzHH39Q2fIV1ThZlrJkyUxdu3SO7mqkPEFAEIhGBMIxcL3UYDF+3BjCqtyIOnZoT4fc3DgakrS8efLQgYOu9P79e2bqsGIFlcRqd/8BevfuHbkddqdMmTPxyhySLqwih40YRc+ePee0+En4eULq3W8AvXr1iv766y+6cOEiM1x6AnViVGaJ4sXJ3cODXr58Sb/9dp/OnT/PKp5Cqp5Lly/TnTt36c8//6QjRzyoePGiXOSYceNpi9M2Pv/j4UP67rvselXbtjtT2zat9Ws5sY5AxvQZ+F6+fv2Gn4OFi5bQipWrOdMPLZvTrNnz+B48DAqiKVOnU4P69chI5W69ptgVaw2XnDm/Ywk1pNAwR/j666+5c2D6zp4KoN07txOkdxvXr+HwlcuXcrpNG9bSxfOnqVXLFrRuzUolWfZlSbIm9TIqF1LwCUqyDEnZLudtlD1bNmrSuBENUAsuO7vKOgNUt04t8jxyiA7u20OQXmsEKc7VS+cJ7dDecS1OOz579ozWb9hINWpU5yBIjDCenPD3oUyZMrK0Hf1F/xbMn0v/+9//9HQjhg1hSTj6Zl+3tlYkDXIYwBIoSHUrVrTl8G5df6JFC+czfmjXmlXLKVXqVCxdw9gCSaBGQ9UCAmkqK1xvBt6i3Xtc+Bm9d+83GjdhMuXOlYuTDujXh455HWEpMhaAIGgJqlevSv369iJIwkCW2gOTjiWLFtCFsydZc+Ck2ooFDQgaBqM+a9hg0QsptUY7tm0haDYaNWpAO9QC99TpMxy112UfeXkfJSxMQUMGDyI/H2/WcGDs1giLbEi89+52pmZNG2vBjPfypYvI95gXS8K/y5GD4zKo9/fR48d8HhISQo6Dh9Exn+N8bfQ8YTGN52HDutV8L3r36snpoZ1B20FgmtF3EO61pbrxjKDvSAdJY7WqdpweqtzxY0crzY4331f7unWslsOR8iMIxCMEwjFwq1avocCbgbRSScjwYmkvoikmefPkppOnTnNQqlQpeeUGpgt0MzCQUqVMyecpVdytwNt8/ubNGyW1u0spVRyYqucvXtDSxQtpy6Z1PJAg0ZUrV8nX14/TY7CvoFa9LmrAMiWjMhEe+KEupA9U7UBdaJ9puGn7MIDnVlK7kcOHKungZBo6bKRe1aVLl5VEL7d+LSfWEdjitJUZdQzC7du15cSYbKBGhXrLPyBALwDM9N179yhv3jx6WFw9McIF/V2/ZhVNnjKdytlWJtiU1qkdqpIcNmQwDRk2gurYN6AnT55SchUHSpYsKQU/ekTNWrTiCXbunJk0c/ZcliZhcVKnVi1OZ1Ru6tSp6bBaSEFSduLEScW8NVQLmK00bfpMcnV1IwfHIbxwgySrUZMWZK+kaT+2bc2S6KRJk1IPJaWpUasute/YmRdYXJnZDyZs5NmzZy/HJE36Db1XC7jSZctToi8S0ZTJE6ht+45USl1Dcle/Xqj5BNJhMdewcTPq3ae/kpoP5vyNGzWksmVKk23lqtSn30CaMjGUyflSMQOZM2dWWLSmufN+odZt29PDPx5Sjdr2zOwAK03V2KhhfV5gFixYkDyUhsCU1qxdx4xK+vTpKF++vFRBSe8hRcYzDFOQ4SNH0/79B2nGzDm0dt16MmpPRVtbyqAkj5BgjZ84iXLlzMkqSGgVrPVZw2aDkqw1btiQ86BeaBP8/AOoUMHvWath2uZRY8YRFpwtmjflMbJazdpUrWYd1l5kVotk0HDFDA8eOoxq1alHV65e07NPUMz01WvXGf+Drq7Uu3co0zVrzlxq2qQRmz7AXi7w1i19LLb0POF5BRNdtXot6tGzN4+1GjOOuEQf7KETJPhMl3Aa1Y17/+rPV/wejBg1Rjd/adumFY8R0Ma0/rEDjR41nE0vjMrROykngkA8QSAcA/f48RNatGQpv5jXr19nKYC5NA7i9asmg4Kp0SukcPjXyDyOVBQGugsXLlHLVm1ZVQpbtKJFi2hZWLUK5nHw0OEUFBysh2snlspEnFqw6WTaDqNwJH754iXdun2b0G/TNtxTDEbWrMZSSL0iOWEEQl6/puYtW1P3nr2onE1ZlgphJZ0wYYJwdozI8Nebv9g2Lq7DZ4QL3ql06dIqVX1JchjYXz3zX1L1alVZsgJ7q1279zA0/moSV2+UDtPpM6GSGEhHIM3EggfPeoBiyGByYFSuVsBhd3c+RfoCBfJrwfoRUiNIYsDAQKIDiTbaBVWez3E/uqbGBEjUT31YwGkZly9ZxJISLMrOnD1HS5at0KLI9ZAbQTJbvrwN+fj48tiBcleqxSIksRqdPHWKTyG1BzMAZsSuSmWWnEPa01JJcr/55mvKlSsnp/NWkqinT59q2cMcYQYB+zYsEsDcXrx4iZ/Ft0qyb4kgtR85eqySVjWhsWNGcVqtHtP0Ru3Bs75TScowjgQHP6IbN2/yfftYnzVsbt++QxcvXWKGDAzUdued9PbtW970A22EJapSuRJt27aDHj16TFiMOu/axX0Go44xGpJGEJh1jdB+MEx45qA5qWZXhd/Py5evUHnbKrRsxUrq2aMb+Rz1YLs/o+cJz8Nx9TxgQYwx2tfPX6vC8GhUNzIcdj+iP8facwmbaWhCXqjFPtS7NWrWVc/eW34mLPXBsGKJEATiKALhtlpi9deh3Y/UoEE9cnNzp9I2FXg1Ztr/589fUKaMGTk8KCiYMGBAyoJBGS+8xnQFPQyi7Nmz8aCPHaCwjQkKDiIwhunV5AXC5OPn70/FFAOHgQbpVi5fwrYeB10PcRrTH6MyEY7VrkZZVDug1v1TrexMw03bB+kQmLflK1apCXOvUkV40Zy583mCSp48OfdHK0+O1hEoU7oUXb9xkyWznX7qxgblWCmXLFOOXqoJFMyx34dBHtKObNmyqgnrsvVC40CsES5NmrWkkJDXbCaAbsJc4PEHFRak2WCSPkamCyXTtEblmqYxOkeZYELQHhCOV65epQL58zMjZJSvfaefdImNUZqXL//kyViLf//uvb7RRQvTjmgHpDg4gjnR2uM4ZDi3T0tndNy8xYmgasbkr5lJBCr1KTZfmBIYSIwBYGCctzvRSCUBgj2sJr0zTYtzo/ZgUflCjX/mFJk+b9q8RTG09krVnIkmTAq1F0abbcqWYbWpVjaY2dWr1/L4hP5p9E7hmVaNaZ9/npBCXoVwW7U47Yj2Y/H94MHvHATVLDYZgUnHeItxEP9Q7UIlOktJeC09Txg7TevWyrd2tFS36WLcPC/wfK3sZTWC1BFkVA7ChQSB+IRAOAkcVn8vlFQKovEBDo50TYnbzQmrLk1ahckGK0e7KpU4mZ1a0UFqAPJTajM7u8q8witXrixvfMDkgM0PtspGI2WKFAQbOqz6Dx48xOnmzp7Jq7nFS5ZxGfjBAPN9gQJ8bVQmVHSQ/GB3I8otpNQl2EBx+sxZgg0HmAbYqVRQqzp//xNc1oL5c3g1hwuobM+dv6BPnPmVOuWGYkiEIoaAvbLzgb3Q5x8+v4L7iucEhAn05x7debKGnRcmoL0u+60yBBGrNeanMsIFKiosZB4plSg28fj6+dGz589ZNfa7kjZg0gZFVs1sVK41pF6pyT5x4kScZJdSfWZTkmdIt9Cu3+7fJyzSXA8d4vdUs72KbLtQuMu+/fyOYsGHXeONGzUgLy9vvWlg6kGwkX33/h2PPU5btzGzv0/lRXsw3miMrp5RnaAPiT70AeEYtx4pSVjnzh1p69btnBQbljAuaLvhMU5MGDeaYDJSqmQJHp927tqjJGjBaoGZnhImSMj5YBMGdS/IqD1gfmCjBbtObM7SVJkf6zMX+uFnh/MuZqSw4Udb7GzYuIkaNqiv7HNDbdVgA1i3Tm1eJG/bsZMaKvUw3rVvvvlGfSqkOnkqPCFNDH4UTFg8gEzvFdqfQvUbWLrs28fvICR9joMGUJvWP3xoCXE/8P4aPU+wgbatUI7Vo1i8a+MzCgCzrdUJKZ9Gluq2tlDZpe5Fndq1eUxBHw+47OaxPbLlaPXLURCIawiEk8AtWbr8o33EoFu8WFHewYnEDoOGsHHqyOHD6FXIK1aNInyWMlxfv3YV+SrJFgYY7PoCgYlbsXI1eXu50301QTg5beeBAswj7DDAENazDzVYvX//AXVUO9yctmygPPkKGpYJhgDGwjDoTawG23nzF/CAjPomTppKXkcOKxubZywhct65E8HKgHkSjR45XA1eA3liGDd+IofjB/YwHp6e+rWcWEdgvMISu+PwGRdIYB8qiSikGSAcYWN4xO0AM9j/+9+XVLJ0qIG39VJjf6w1XIaondsOA/rRKPUMQmrSp+8A7vD0GTPZMBx2pkFKTRpZMirXqBxM+rADxc7gXsr+bPTY8Vw/0kNF2blLd1bTYQckDMoPu3voDI1RmZbCnysGdf4vC+mopzszrpeU1MvBcaieFIb3kATB9nXgoFAbOPcjHlRG2cAd2L9HqRTf8eIQakdzgort3LnzvPmiUpXqbKMHNSqYREjYQGBsMAZh4YZFKlTQUJvieUU9XX7qxMb92ACFMM2EYs9eF5o1YxqrNFcpyZel9nB+xSxiswbw1OhjfdbS4fjkyRNWU19VEk+NwFDmypmLN5TcUTbEsB/VsMGO/xbNmvInUcCEwY4O6mcQbCux+QWL2FtqsaDRIrUwHjLYgQ4fOqBsEr+gXxYu4qh27TvTvLmz2P4M0juMwbC1A1l6nqAmBr74ZNBZhbvphqR16zfQ/LmzmfG8rDaQaWRUtxZvfoS6HxtHMKa/VarTRYuW8n2JbDnm5cq1IBBXEIiSL1QYKq9Vu75gMIyBQyMYOluySQHzhoHMXMQNiRjE/kY2Hlq5WIHCeLh123ZaEDOElsqE7QzKe/PmjZ4WJ5AMQSUDNa85YXWHVbZGkMZhZ5U2EWjhcvw4ApCWAmdtU4tpDtwDrNa7qc8TNG3SmKrWqBUhdZhpGbH13BoueGZhp6URJFSQzMEAvLP6HAc2BYGpiiyZl2stPyRiuG+m7bCUHxJuS/fWWtnmcZbq2rplI29GwCYD9Bs2c6aEZ8dSuGkanGOswUINhIVZsJIewqbXnCAls6QCBCMCu0VzQr8xrmhjlXl70CdsNoG5ANKcVIycTYXKzJShLEt9Nq8D19gdjAXx+QsXwkTj+cE4ZXp/tATmbdPC0UaoKM3HQsQjD8Y88zEZdWBM1/qplYWj0fOAcrAzFzRp8lQ+4scalpbq1jOanaDe1+qemM41SGLUB7PscikIxFkEwkngItLTBw8e8OoLAyQkDBpZYt4Qpw2oWjrtaD5Ia+HmR6w8saPKlIzKtDTAIZ/p4GtaDs5NmTdcQ5I0ctRYi4MY4oWMEYBKxGiCxz3AMzJZfUYEq3dIYuMLWcPF/JmFVA7fK3z0+BF/CufHdp2iBJN5udYKweRont78GvmN7q21ss3jLNWlpbHEOCDOKFzLpx0xLsCOdtzYUazyrVq9thYV5miJeUMCS8wbws37bd6e75SKEx8Jx8fNixUpolSt23XmDfmt9Rnx+JzH0CGDWCNhzrwhHs+PpfuBOPO2IQxk3sbQ0NBfozzmY6FpHkv1G5WDfBHF0rQOS+eW6kU6a3VbKkfCBIG4hkCUJHAaCCVKFNdtNbSwuHCMq/2KC/cmvvQBn7fB5xhgC2UuJYmLGMDuDapOqOb+KUHaBTsx9yNH/tVFAqR/6AdswKCejQxhUwDyQm0Y0YVtZMr/1GmzZ8vGVWD3rZAgIAj8Owj8Iwbu32mi1CIICAKCgCAgCAgCgoAgYIpAuF2oppFyLggIAoKAICAICAKCgCAQ8xAQBi7m3RNpkSAgCAgCgoAgIAgIAlYRCLOJwdPd1WpiiRQEBAFBQBAQBAQBQUAQ+O8REBu4//4eSAsEAUFAEBAEBAFBQBCIFAKiQo0UXJJYEBAEBAFBQBAQBASB/x4BYeD++3sgLRAEBAFBQBAQBAQBQSBSCEQ7A4dvV40aEfaju5Fq0SdKDK8Plggf/bTkUBlhiNMoT57c6qv4HbRLOQoCsQoBo+c8VnVCGisICAKCgCCgIxDtDNza1Sv4a+Tffpuc7t66TgF+x/T/7Vs3c8WuB1zozEl/PRxp4D5o3JhRdOnCmTDh8I9qKbxF86Z6J3BiqUw4sccHMl32OCuffcfo3OkA3ZE1PvY5b84s9t15+eJZ9gGoFdixQztuB/x64uvqmPwuXbqsHDbnpwb162nJ5CgIfBSBssqPJ54/ENyI1a5V86N5opoAbpA2b1zH2fGuwZWStec8qvVIPkFAEBAEBIH/HoEwu1D/aXPgjPru3Xu0/8BBSpHiW0qoJpBiJcqEKzaJcjbfQTmo9/X1CxP3hZKSLVy4mGbOnhMmvFIlW4vhpomMypwwfiw7dK5dtwFVtauinKpPoRLKkXrNGtUoj/rafYnS5dQX75OSx+FDtH2HM70OeU3DhjhShUp2ypF4ME+I9evZ0xanrTR+4hTaumUD7XDeGS++jm+Kr5xHDYFQH6iJOXPKlCloyqQJBOfon4K+/74AXb12jRk3MHNwpVSndk2LzzneUyFBQBAQBASB2ItAOAlcr5970PhxYyhrlixhevXrgvnUvVsXdhYdJsLkomOH9nTIzc0k5L8/LVm8GO3bf4B9CboddqdMmTNR8uTJqETx4uTu4cHO7X/77T6dO3+e/U4WKlSQLl2+THfu3GXfg0eOeFDx4kW5I7///rvyVfiAKpQv9993TFoQqxDIlSsnrVm1nFKlTkX79uzktsNJ9/Kli8j3mBfh/YI/TND5MyeoT++f6fChA3TM6wjZ161NB1x2s9Qa76YlQn4wh7YVytPG9WvU+5tZ+dZ0NHzOLZUhYYKAICAICAKxB4FwDNyq1Wso8GYgrVyxlFYsW0KlS5Xk3kyaPJVSpkhBh5T6E1ItcwYPifIqO7GTp07rvU+g7Mh+aNFc/8+UKaMeV62qnR5erFgog4TIwoUL6uFQn2pkZ1eZRo8czv+DBvbXgsMcOykGUkvTvFkTjkuZKiXdCrzN52/evFESwruUMmVKQnjgh3BEBgYGcngqs/CbKjyVSq8RVKmwhxMSBCKDwJUrV6l12/b08I+HVKO2PWedoJixq9euU6my5emgqyv17t2Tw6H2P+LhSZWqVCMPTy+aOnkiNWn+A0uO7ZWPT0vv3qDBQ+jq1WvUt58D7d9/kObOX0Cz58wzfM4j03ZJKwgIAoKAIBDzEAjHwD1+/IQWLVlKVavXouvXr9Pundt5woCT4rHjJ6rJpy7lUrZlztudwvUmi1r1YxLRCBsB0qdPp/8nSZJEi6LUqVLp4cmSJtXDkyqH0FqeVCqNRlD5+Pr58f+Jk6e04DDHCxcv6mkwMWpkukmBHYO/D41RzdMJ4ZrTcKNwJL57757FCVQvSE4EgQgiYFelMiVN+g05qAVJ3jx5qJpS8WvP6pkzZ7kUn+O+dPSYDz158oRCQkLo/IULlD9/vnA14L3F+xdw4gTl+C47Id/z5885nbXnOVxBEiAICAKCgCAQKxAIZwOXMWMG6tDuR2rQoB65ublTaZsKFHjrFhUtWoQ6tm9HZcqUonXrNlKXbj3CdfD58xeUKWNGTo/It+/e0fSZs8OlQ8C6DRvD2cAh3MPTO5wNHMIvXrxEu3bvxakheXkfDVdm0MMgyp49G11TzCg2I2TMkIGCgoMI4TmyZ9fLyqJUxgcOuiq16asw4ZB2BAUH6+mSJ09OL16+1K/lRBCIKgJYMGDB8+DB71zEqdNndAbOtExtYWEaZnoOtanjoIGUO1cuZaO5kYoULkT58+WjKVOnGz7npvnlXBAQBAQBQSD2IRCOgYPa8sWLlyyBe/Tosd6jls2bKebKk/oNGEivX7/Rw01PoG4EoweG79+gpEpyl+Lbbwn1GpFfQABB/ep6yI3KlSvLmywgrfBX4b1/7kmQCn6ldgcWKliQNzugb9i9CilgUFAQVVCT4+o1oTv7UAcmxt179hhVJ+GCgCECr16FUKLEifR4p63b1GafFLR4yTLCZ24q2tqyraaeIIInULcGBz+iDu1/pAEOjuSy25ns6zfi3NigY+k5j2DRkkwQEAQEAUEghiIQjoFbsnS5xaY6OA6xGG4a6OXlTcWVPRt2c0Y39ejelVq1aqEXu2DhIiW5eECNGjagDp26cPjyJYvoVcgrPU2nzl1p1ux5tH7tKvL18eINGJrkcK/LfqpnX5f8fLwpsdoVO0/ZDGk78yZOmkpeRw7Ts2fP2KbPeWeo0TkKzq2M0Yd6H9PrkBNBIKII/PHHH3Tu3HnyPHJI2bdVV6YKy2jIYAferJBISYd/Uc90VKmw2nxz6vRp+u67HGxXp5Vj7TnX0shREBAEBAFBIPYhEK2+UNOmTUtr1U47GGm/ffv2k6MxfepkpYK6Sgt+XfzRur5RtnWwCTJXR2EnID63gA0OpoRvaCVKlIh3qWrh+IZXg/r29FPX8OpjLY0cBYGPIYBnEYsDjSAFhn2b+bOpxUfH0eg5j46ypQxBQBAQBASBfx+BhP/78utR0VXtixcvWCVZQ31jzUOpdT414VtXm7Y4RUjt9Pr1a4vNAfP2TtnqmRPCTJk6fNduxvSpSoXsQE+fPjVPLteCQIQRMH8W8Qx+ajJ6zj91vVK+ICAICAKCwKdBIFolcFoTS5QoTn5+/tplnDhCuphYSeRu3Q79JEmc6JR0QhAQBAQBQUAQEARiJQKfhIGLlUhIowUBQUAQEAQEAUFAEIglCIT7Dlwsabc0UxAQBAQBQUAQEAQEgXiLgDBw8fbWS8cFAUFAEBAEBAFBILYiEOYzIp7urrG1H9JuQUAQEAQEAUFAEBAE4g0CYgMXb261dFQQEAQEAUFAEBAE4goCokKNK3dS+iEICAKCgCAgCAgC8QaBaGfgkiVLRqNGDNMBhHNu+CC1RPgshyWCWyEjSpgwoVEUh1vLayljRNuXJ09u6typg6UiJMwEAdwfzSG7SbCcKgTwceioED5hAxd30U3wofpdjhzRXayUJwjESgSszQVGHTKabzDnGY2DRvOeUR0SLggYIRDtDNza1SvI+2ioq6mOHdrRpQtn6FTAcVr86y86I1e6VEk6fcKP/I4fpYP791LGjBm4fWnSpCGXPc7kf/wYnTsdQJhgNGrRvCm5ue4nd7cDNGniOC1YP1rLi+/SzZg2hVYsW6Knx0lk2nfp0mX6vkB+5YmhXpgy5CIUAXzo+Jd5c8jT/RCdOelP06ZM0u+36wEXKl68WBio4HTdrkrlMGFx9QJ937dnp3quj9LOHVupfj37SHU1p3KP9XPP7oZ5cufORRfOnmR/qqaJ8L5Ur1bVNCjMeetWLalEibD3JUwCuRAEYiECGG/WrVkZruXdunSme7dvEOYKczKaCyCQaN+uLR1w2U1lSpfSsxnNN1jAzpszi+e8yxfPElxAamQ072nxchQEIotAtDJwFW0rsD/R/QcOUupUqWjYEEeqUrUGFS9lo5zDp9cnrqlTJtLQ4SOpUNES5OnpRQP79+V29+n9MzuUL1ysJPXt78BMFyKwYhkxbAg1a/4DVaxcjYoULkRly5QO01ejvNWq2tGAfn3oz1evCI69NYpK+8ZPnEID+vcxXFlpZcfHY/duXQi+PsuWr6jud1nKkiUzdVUDJiiJ8jWbIEHYRw1eND4mTY0LOEJ6tmblMpozbz4VKV6K4It3slqAgOGNLrp8+Qo9+P0Pqlypkl5kvnx5KVOmjOR22F0PkxNBID4ggPEGi/8smTOH6W77dj/ytblkzNpcMH/ubBYwgJEzJaP5pqbyQpRHLahKlC5HtpXsqG/vXrqAwmjeMy1XzgWByCAQdlZVOXv93IPGjxtDWbNkCVPOrwvmEyZp+HE0oo4d2tMhNzeOLqSca1+6fJnu3LlLf/75Jx054qGkMEUJE3fePHnowEFX9v0IZk+TzpSEpGL/AXZthYknU+ZMlDx5MkqqXp5EiRLTk6dP2MfqvXu/UbZsWcM0wygv6mnxQxtydT0UJn1U2vf777/T/fsPqEL5cmHKkguiDOkz0KPHjxkK+PV0HDyMjvkcj/fQVK5kSzcDb9HuPS78vOPZHTdhMuXOlYuxqWdfl7w9DtPZUwG0YP5cgs9SEBZDkGTu3e1MzZo25jDtZ5DDAPLx9qCtmzdQxYq2HLxhwyZq3KiBloQaNWxATlu3sTs4OLjfs2sH1+Ok8uDalDChQVqgTWxo00zlNg6E9ixfuoh8j3kRxgBRuZoiJ+cxFYG9LvuoTZtWevPK2ZSlh0FB9PBhkB6mnRjNBYhv3bYdjRs/iR5/GNu0PEbzTYnixcndw4N9aP/22306d/48FS1S2Oq8p5UpR0EgsgiEY+BWrV5DgTcDaeWKpaxyhNgXNGnyVEqZIgUdUuLpCePHhmPwkCavshM7eeo0TilVqpQUGPi326mbgYGUKmVKDoek5pWSiIG0cJynVHlufcgDP6R3796llCoP0i9fuYqctzvR0sULKbli6Jx37kYWnYzy6gnMTqLSPhQBVSrs4YTCIjBrzlxq2qQRMxWw1wq8dYt8ff30RJ0Ucz965HD933yBoCeMYycFCxYkDyVlNqU1a9cxc5sje3aaMnkCtW3fkUqVLc+Syvr16nLS4UriPHjoMKpVpx5duXpNz964UUOWPttWrkp9+g2kKRPHc9wWp61U1c6OfREjoFHD+gSmDmRftw79smAh2VSoRJjYenbvxuGmP3g3NUqcOJFaqH3NlxPUYu7qtevcvoOurtS7d08tmRwFgRiLwKbNTtSiWVPd7rTdj21o+YqVlFhJ58zJaC4wT2d6bTTfINx03gtU8x7mMNRhNO+ZlivngkBkEAjHwD1+/IQWLVlKVavXouvXr9PunduZWbtx8yaNHT+RatSuS7lyfsfMlHlFUJtdNZls1MJep/fv37MEAgHaSh/npuGW4ug9sW1PsaJFyD/gJJ0+c5YlcunTp0PyMGReLvJao6i07+69exaZV2v1xIc4qPHK21ahZWqQ7NmjG/kc9aBsWf+Wkl64eJF8/fz0/+fPn8cHWJSaOAG9NXBWX768Dfn4+PI78/LlS1qpFk+wsUydOjWroCG1A504cVLHCnaDkGhDhdOyZXNmtHLlysnShaPHjlGN6tWoqHpXQl6F6Iup+b8spCdPntJgRwcl2bOlfPny6OV97AT1JU36DTkM7M+S82p2VcK8vx/LL/GCwH+BAKRtp06fIag0IXiwKVuGnJ13sTkO2gNpN2zlYLMNMpoLONLgx2i+MSrLPD3mPiFB4J8gEG5bHDYUdFC2Ag0a1CM3N3cqbVOBpSmYFDq2b0dlypSides2si2PecXPn7+gTBkzcnqIqiFh0AgSl6DgYAoKCuYJ6ssvv2QxsxaOdEEqT/bs2eiaYhyxiydjhgwqTxDZKPF3kiRJaOiwEUhGCT5LQO1/bMt2dBygfozyavHmx6i0D2UkT56cXqjJVuhvBDAw1axRnQ4qNfWu3Xv5H2r43r16KlvGgZzQy/toGIlct65d/i4gDp8FKvUpmCpTApN26/Zt9fz/SS9evNCj3r97zwbWn3+ekBkwSwM8wqCGvXDhIudzHDJcqXee8PmGjZupSeNGymzhDq3fGCp9Q0QvtQEiu3oXV6xazfm6dunE6SPyg/qwKHvw4HdOjkkR99tS2yJSnqQRBP4NBLDje4XS2sAON6taSDpt3U4hr1/rdre9+/ajz9SfEisok5jyFucqa+00mm8QbjrvZVHzHsx4rM171uqROEHAGgLhJHBQf7148ZIlcAMcHOmaUp+AWjZvplRBnmSjjNRnzJpNwcGPwpULdSgYPRAkZTmVpA6SMmy1rqCMSv39T7Dq9OKlS2oHYiUkIzu1ovf3D+Bzv4AAdV2ZJ4hy5cryhghMTtev3aB06dLq4vCsWTPT5StX2DD++wIFrOblSAs/UWkfismfLx/dVNJIob8RwGTuOGgAtWn9gx6IjSd4HuI7bd/hTIWUGlXbUQ1pwIRxo9lMwWXffoJtDiRu2NABGzYvL2+C7Uzwo2B911vevH9LzGDXBvvPfSqv885d/D5p9jn79u+nkmpXaYP69gQVkkZgIDcohs7Pz58yZEhPCROE/RQP7h9MA7R6YKOqEepLodqMulz27WPp37t377RoOQoCMRaBQ26HWSDQrctPtHLVmjDtfP36DTN0OBrNBWEymF0YzVX+ag7DOw2BA951vPsnTp6yOu+ZFS2XgkCEEQgngVuydLnFzA6OQyyGmwZi8ilerChh0oK+f+KkqeR15DA9e/aM1TnOO3dycodBQ9gweuTwYfQq5BW1bNWWw2fNnkfr164iXx8v3iyBHXsgSCvWrFmvRN571QaH96zaxQQF1Y7Tlg2UJ19BMsrLBVj4iUr7UExupa4a6h36mRQLxcbboHbtO9O8ubN42zzUd2DSR40ZF2/x0DoOZgzP8YL5c3hhBNXOyNFjWRqNNFBvHvV0p0ePHqlNP1fIwXEoZ508ZTptXL+GB/9byp5QI3e1GaiM2oF9YP8etaHnHS9+XA+5cTQmI6hdweA9ePBAy0Kz586j2bOmsxTtstpYlCVrFj1OO5k3fwGrk7BgCwl5rSacPzlq0ZJlNGSwAx0+dIASKan4LwsXaVnkKAjEaASw0MC8YWtbnrU6Ro21NhcY5TGab/a67CdsAvLz8WZ7O7xXd+/e42KM5j2jOiRcEPgYAtHqSgufTFi7armyk7Pn3aKoHKLsREoaAxsfc0qaNCk9ffrUPJiZN9hImatpoLrBJAJROKhhg/pKatGQdwpphWCXrKW8Wrz5MTLtq12rJks3fuoaylialyXX6pMvapfx27dv6S8Du6/4jNFXX30VRmWqYQHpG94R2LaZEp5NPPPY0GNOiEuQ4DMC0xYRwmdcUI+lsrT8MFvAvbMkYYNEAbuLzd9JLa8cBYHYjoC1ucCob0bzDXZvYwy09L4ZzXtGdUi4IGCEQLQycKjkp04dKXWa1DR+wiSjOqMtvGTJEuqzHvfp9u070VamUUH4btemDeuofcfO/0p9Ru2QcEFAEBAEBAFBQBAQBKKdgQOk8HwAe5u4RJAuwq4L6lwhQUAQEAQEAUFAEBAE/ksEPgkD9192SOoWBAQBQUAQEAQEAUEgriMQbhdqXO+w9E8QEAQEAUFAEBAEBIHYjoAwcLH9Dkr7BQFBQBAQBAQBQSDeIRDmMyKe7q7xDgDpsCAgCAgCgoAgIAgIArENAbGBi213TNorCAgCgoAgIAgIAvEeAVGhxvtHQAAQBAQBQUAQEAQEgdiGgDBwse2OSXsFAUFAEBAEBAFBIN4jEO0MXLJkyWjUiGE6sPiSPL7wbonwXTVLBN+pRoSvyVsja3kt5bPWPtO68uTJTZ07dbBUhISZIADMgKlQeATwpfeoEL5BCB/FGpk+l1pYZI8RbUub1q3Y53Bky48J6aMDp5jQD2lD1BAwmneiVprkEgRiHgLRzsCtXb2CvI+G+grt2KEdXbpwhk4FHKfFv/6iM3KlS5Wk0yf8yO/4UTq4fy9lzJiBkUmTJg257HEm/+PH6NzpAN0BOCJbNG9Kbq77yd3tAE2aGN7HprW8+LDwjGlTaMWyJWHugFH7qlW1I+ftTuRx2JX9Q8IBOJx9f18gv3KlVS9MGXIRigA8Vfwybw55uh+iMyf9adqUSfr9dj3gQsWLFwsD1dYtG8muSuUwYXH1An3ft2eneq6P0s4dW6l+PftIdTXndzno557dOQ/egxnTJkcqv2niYUMdyUNtVkJbtm7eQHhvrNH0qZOUOzzriyZr+SMbh2cFz0+A3zF+92wrlI9sEXp6n6MelClTRv06Ok6yZslC8AAjFHMRKFqkMPsRxlh00v84tW8X6mu7bp1adOPqRX62fLw9aPbMaZQ/Xz7CPIDnDf93Aq+p+cqXz6dOnhhzOyktEwQUAtHKwFW0rcCOe/cfOEipU6WiYUMcqUrVGlS8lA2lT59en7imTplIQ4ePpEJFS5CnpxcN7N+Xb0af3j+z8+7CxUpS3/4OzHQhApK6EcOGULPmP1DFytWoSOFCVFY59DYlo7xgxgb060N/vnpFyZIl1bMYtQ8+IydPGk+9evcjmwqV6LJyMN6pQ3vON37iFBrQv49ImHQU/z7p3q0LwSl02fIV1f0uS1myZKauXTpzgiRJEoeT4sBnanyQkEB6tmblMpozbz4VKV6KHdtPVgsQMLxRoQ0bN1P/gY5RyUqVKtlS+XI2ZFetJrfl6DEfmjt7RpTK+lSZ8Kx06NyFSpetQE5bt/NCoFTJklGqrmy5inTnzt0o5TXKZGNThjq2b2cULeExAIGJE8bS0mUrqLRNBX7WHQcNpKJFi6gxKCEFnDhJxUqUofIVq9C5cxdozOgRnBZh+A8JeU217evz+cBBg2NAb6QJgoAxAuEYuF4/96Dx48YQVpqm9OuC+YRJGs57jaijYnQOublxdKFCBenS5cs8gMJJ95EjHkoKU5SdnefNk4cOHHRlx9hg9jTpTElIKvYfYGfabofdKVPmTJQ8eTJKqtSyiRIlpidPn7Cz7Xv3fqNs2bKGaYZRXtTT4oc25Op6KEx6o/ahfyNHjaGbgYGc/szZc8x84uL3339XvlcfUIXy5cKUJRdEGdJnoEePHzMUcHruOHgYHfM5Hu+hqayYppuBt2j3Hhd+3vHsjpswmXLnysXY1LOvS94eh+nsqQBaMH8uwQk2CIshSKL27namZk0bcxh+mjdroiadkXwNiTIWG8gPiQIWK6DM6r2BZBthgxwG0Al/H5aGZlT36Nmz5/T69Rtuy8JFS2jFytWcB6YP69euIn/foyy9KJA/P4fjZ8K4sSyR2OW8jbJny8bhaOfypYvI95gXYWz4LkcODl+5fCmbUGzasJYunj9NrVq2oHVrVrJUA+XjfQblzPkdS9vRdphcfP311xyu/cAJ+NZt22nzFidluhC6gDKqM1eunOSkpIkoC/WnSpmSi3Fz3Ufp0qXj8969etK1yxe4zZC89OvTm8Mh6Z8wPnz/vlNSzz27dnCZKBvXTRo3Ugu4vmRnV5mmTJrA+Y3uH+4NxlFgH91SQK5YfiwigAV4urTpKPjRI44PCg6mNm070ONHoWOTlgnP18bNW9RYXp4FBFq4HAWB2IRAOAZu1eo1FHgzkFauWMoqR6g7QZMmT6WUKVLQIaXiwIBnzuAhTV5lJ3by1GmcUqpUKSkw8Daf4wcMEQZWhENS80pJxEzDcZ5Sxd36kAcv2N27dymlyoP0y1euYrXm0sULKbmabJx37ub82o9RXi3e/GjUvidPntDOXXs4OWwounTuSOvWb9CzQ5UKezihsAjMmjOXmjZpxGo52GsF3rpFvr5+eiJIMUePHK7/W3p+9MRx6KRgwYLkoaTMprRm7TpmbnNkz05TJk+gtu07Uqmy5QnSp/r16nLS4UriPHjoMKpVpx5duXpNzw7J5ddff8XXSZN+Q6/+fEXlbCvTCLXo6NG9K4cDa5/jvhyOBRKw/uwzoi1OW3lxBEZHUyvtddnHeaYpqTgWKyVLl6NFi5fSiOFD9DpRBqQTJ5T0oknjhhw+QTEnV69d53YfdHWl3r17cjik3Jg8m7VoxUz83DkzaebsuSzxw0KuTq1anG79mlU0ecp0biOYxzq1a+r1mZ6gbphAgIzqHNCvLzk5bWOJecCJE1Tzg71gim+/VVLeBJQ0aVJefFavVYc6du5KqVOnpq+++pLLxPlhtVg075993Tr0y4KFXCYw6tm9G+M3bfpMtRh0IwfHIWTt/uHevH/3TkkSy0e7FJAbLj8WEXinMB8+chQtX7KI8OxB8nbc15du3LzJ6WH7iXkMDPnwoYPJy8uLQl6/tliWBAoCMR2BcAzc48dPaNGSpVS1ei26fv067d65nScAvABjx0+kGrXrUi61eoaNmDlBbXbVZLLBpKHR+/fvedWPa1Mjd9NwS3H0npT07Qsqpl5E/4CTdPrMWZbIpU8furLWyjfKaxpvfm7UPi3d5Injycv7aJgJ+O69exaZVy1PfD1eVqrm8rZVaNmKldSzRzeC/VG2rH9LSS9cvEi+fn76//Pnz+MFVGAg3v71l8W+li9vQz4+vvzOvHz5klaqxRNsLMFU4F2C1A4ExsmIDrsf4fcKqqECykYTBEnchg0b6S9VL/KGvmPEE1Xzlq2pe89eVM6mLEvFNKldBWVrtn79RmbwXA+5KROGgXqVh93d+dy0DtgvgklxGNhfLdzyUDW7Kvp7ffrMGU4PCezDoCBm5NEG5M+fPx+/P+nSpaVSanGI/GCmqlerqtdnfvIZhQ4kRnXiuYLmoFvXn5jJAoNsSpUq2qo2+NM1xXBigj958pQaVtTA8oEs9W/+LwvpyZOnNNjRQUlDbSlfvjxacv1odP+0BMAR0k6hfxcBLMCxIDp39jwtWbSANqxbrRZHSbgRhZVmCJLgjevWsOanVdv2/27jpDZBIBoRCMfAYUMBViaYgLFyhR0BpClYycybM4v2u+ymo0d9qHLV6uGa8fz5C8qUMSOHP3wYxCtULRGkABBnBwUF8wT15ZehK2AtHOmCVJ7s2bOpMwpV+WTIoPIEkY2abPACDh02gmbPmUe7d++l9j+GGqZyYvVjlFeLNz8atU9L5zCgH337bXKl7pqkBfExefLk9EJNtkJ/IwCGHFI3rG53qXtTx76BUoUfJKitNAIjjDjtH89CfKBApT4tW7ZMmK6CSStWrCi9fPknvXjxQo97/+49byrApoGQVyH6gkdPEMET3A+UbU5lSpfi8iEl7/RTN+rZqw9LtZAODGTI6xA9C1S91ggMGRZrFy5cpFOnz9AgpTI3XZhpeZHOEsHWCHnxj2di5ao1lpKxNM0/IIDjjOpcsnQ5tWzVVi30EvHCsnGjUCmhVmAoHn/jrIVbO/ZSm0aaN2vKph5OW7dZTGp0/ywmlsB/BQFI12DnCWnvwkWLqYSyv4Ydap3aoZJf/4ATVL1WXfVfhzfPpVGLJSFBILYiEI6Bw0T84sVLlsANcHDkVSs617J5MyWJ8iQbZaQ+Y9ZsCg4OtTEw7TjUpGD0QJCUwc4FkjJI0LDC9/c/warTi5cuqR2IlZBM2ZNUUeGhA7SfGqjt7CrzRFCuXFneEAGJ4PVrN5QtS1pmEJAna9bMdPnKFTaM/75AAQSRUV6OtPBj1D4kbdumFZVWk12Xbj14xW6aHbuWbn4Qx5uGx+dzTKyOgwZQm9Y/6DBg44lmR6gHxsOT7TucqZBSo2q7KTHBTBg3ms0UXPbtZ0kYJG7Y0NG4UQOl0vGm3367r9SQwQSGC5Q3b3jpjzUoDyp7T5QFgrpfY6zslb3dWGU/p31CBOpY7R7tUlILbXcsnvEtm9Zbq0JtMNimNmKkUKYMu8hl3z6eMCHdighhQQjp/iOlakV+SNCemUlkYb4ANWZTZXe2fMUqLtaoTtjYQRqIxd3CXxcruyabMM2AlBISR2xcAkUEzxrVq9GGjZvIz8+fsAs9oTKAB71SjHXixIn43Oj+caT8/CcIQLKKZzdfvrxcP96rL774nIUQpg3C/PWrelaGD5ONCqa4yHnsQiDch6mwmrVEsPn4GGHyKa4kC5i0YLc2cdJU8jpyWBlOP2PbOOedO7kIh0FD2Jh45PBh9CrkFa+eETFr9jwWb/v6ePFmCTBQoFu3b9OaNevJ9cBexVC958F/02YnHrSdtmygPPkKGublAiz8GLUPRtbTp07mOvHZEo2aNGvJE2tuZTA91PuYFizHDwi0a9+Z5s2dxXZYkB6BSR81Zly8xwfMGJ7jBfPn8MIIKsWRo8eyNBrgQFV31NOdmZlLSg3t4DiUMYN92Mb1a3hX9i3F8ESGsDFh86Z1VL++PXmrZ1WTgo1X0mR83gWf9YEEFFJobNgBYdfe6lXLqK367hsYvN59+1utctGSZTRksAMdPnSAEilm65eFi6ymN48conahQ8o9StlFQuLYp+8APQnsl8AMYpE2aPBQ8lTjCsioTjB4K5YvoT9+/4Peqny9+vTTy8IJ7Fo3btrCGzSOeHjxRorrN26ESWN+MXvuPJo9azo9ePC72ol+mbJkDd3UhbaMHD6U5qi4Xn36G94/8/Lk+t9BAIzZD61/pFVqMwvsqN+9f6cWGPuZEceGE1PCMxugNu1AGh6gJHNCgkBsQyBafaFCVL121XJlJ2fPu0UBBiYDqDagojEnqGifPn1qHszMG2yktIlHSwBJAiYLzei0YYP6StLQkFq3baclMcyrJzA7sdY+s6RUu1ZNZaNkTz91DWUszePlWn3yRUl13r59y/ZXgkdYBL766qswKlMtFlICvCNQ+5gSnk0885iIIkP4RAl2m6JcbCzC96yq1ayjF4GdeqhP20ikR6gT7MLGgiuiBNMG7Do2f1cjmh87S837/bG8RnUa4YvyIOVEv9Bn2EBhoQobNWsEnIChOf7m98v82lqZEvfvIWDtefj3WiE1CQKfDoFoZeDQzJ86daTUaVITVvufmvBBzfv379Pt23c+dVX83a5NG9ZR+46d/5X6PnmHpII4iwAWNdg9feLUKVYdTp02k3Y4h0q/42ynrXQM6vzt27bQxYuXlD1UGmZSGzRqqi8yrWSVKEFAEBAEYiwC0c7AoafY9g/bkbhEkC5iIoA6V0gQiOkI4Ptn2C1+XH3KBRKy+E6wqcO3H6FONd0pH99xkf4LAoJA7EXgkzBwsRcOabkgIAgIAoKAICAICAIxH4Fwu1BjfpOlhYKAICAICAKCgCAgCMRvBISBi9/3X3ovCAgCgoAgIAgIArEQgTCfEfF0d42FXZAmCwKCgCAgCAgCgoAgEL8QEBu4+HW/pbeCgCAgCAgCgoAgEAcQEBVqHLiJ0gVBQBAQBAQBQUAQiF8ICAMXv+639FYQEAQEAUFAEBAE4gAC0c7AJUuWjEaNGKZDgy/J4xtMlgjfVbNE8J1qRPjquTWyltdSPmvtM00Pn5KdO3UwDZLzSCIAzwLxmaLaf3yDED6KYxJ97D2MSW2VtggCnwKBNsrtHLx1RJTgeahRw1AfxRHNY5ouqu+cab25cuUkm7JlTIuN0nl0lfOxyuGTGN+0NKKojqlG5cW28Ig/fRHs2drVK8j7aKiv0I4d2tGlC2fY9+LiX3/RGbnSpUrS6RN+5Hf8KB3cv5cyZszApadJk4Zc9jiT//FjdO50gO4AHJEtmjcl+CZ1dztAkyaG97FpLS8+LDxj2hRasWxJmF4YtU9LVLRoEboTeI3g3PvSpcv0fYH8ypVWPS1ajmYIuB5w4Y84mwUTmPpVK5bRmZN+fN+HDnE0TxKnr4sXL0b79uxUz/VR2rljq+40PqKdzvldDvq5Z3eryceNGUUXzp5kV2amCQurj9feu30j0nWalmHpfNbMadS0SSNLURImCPynCGAcWrdmZbg2dOvSmd8FzBXRQdOnTmI/vhEtK3WqVDRsaNTHPp+jHpQpU8aIVqenM623bJnS1KJFMz0uIid9ev9Me3c7h0lqWk7WLFkIXpE+BfXo3pXy5M4Vrmjg6KE2XWJM3bp5A2n3NLrbgoUzXLLFVIpWBq6ibQW6e/ce7T9wkPihURN1lao1qHgpG0qfPr0+iUydMpGGKmfWhYqWIE9PLxrYvy/jgwflxMlTVLhYSerb34GZLkRAUjdi2BBq1vwHqli5GhUpXIjwAJmSUd5qVe1oQL8+9KfygZgsWVI9i7X2IRGkhvAhGRLymv1RImz8xCk0oH8f/RphQn8jkCRJYkrwWfhHavmSXwkO2Uvb2FLDJs2oTOlShME0PhCkZ2tWLqM58+ZTkeKl2LH9ZLUAgb/S6KQvlNQajDJ89ZpSux/b8mV0r1T79htIm7dsNa1KzgWBGIEAxiHbCuUpS+bMYdrTvt2PfA2tS2yksuUq0p07d//VpgOrVi1bUKqUKSlfvrwW67axKUMd27ezGPcpAitVsqXy5WzIrlpNHlOPHvOhubNncFXR3ZaJ48dSGuVHOaZSuNm21889aPy4MQRO1pR+XTCfunfrwn4ETcNNzzt2aE+H3EIdRMNtzaXLl/mBg7PqI0c8qHjxoiwhyJsnDx046MoOsMHsQUIBKglJxf4D9O7dO3I77E6ZMmei5MmTUVI1MSVKlJiePH3C/gvv3fuNsmXLalq1YV7U0+KHNuTqeihMeqP2aYl6Kxz2q7b8/vvvWhCf37//gCqUL6eHyYl1BCD+tlEv28TJU+np06d07dp1WrR4KTVr1tR6xjgSW1kNNjcDb9HuPS78vOPZHTdhMuXOFbqqrGdfl7w9DtPZUwG0YP5cgnN3EBZDZ07688q3WdPGYdAY5DCAfLw9eOVZsaKtHrd7z17SGDYEYuVYq2Z19U6662lQ/vKli8j3mBfhnf4uRw6Oq16tKnl5uPE/wjWzB0itJ08az21EnVgQgSZPHK8vyCAtn6AGugC/Y7TLeRtlz5aN02RW7y8k7MiHNp/w99HL5QTyIwh8IgT2uuyjNm1a6aWXsylLD4OC6OHDID3M6N27eO4UDXZ0YG0P5qYdykRaOywAAEAASURBVI/uxAlj6fyZE7R+7aowEpkJ48I/919++aXS9iymk/7Hyc/HmypXqqjXaXoyZPAgjsf7g3lXo969etK1yxf4PZ2tJN39+vTmKDfXfbo6saWSoh3zOkJHDh8khwH9tKwsrEA4pFN9e/fSw81PIJmHRksjaEUsSfmhbr2t3EcuWrKUWv/QUkuuH5s0bqSEGn3Jzq4yTZk0gcNzKhd+0KRhXIM51ddff81zPKR4ixbO1wUzlsYxmEBBWwdtAvqe1oK0NGP6DPTs2XN6/foNj6kLFy2hFStXk3lbcO9M64TgABpCjcaPHc2aPVxbwhP3PV26tLRi+WIq+H0BzgvtIQgLc/QP1K3rT9wv9BlaCaMxlhNH8084Bm7V6jUUeDOQVq5YyipHrcGT1AScMkUKOqTE0xiszRk8tCuvshM7eeo0NzFVqpQUGPi339CbgYHMxSP8jz/+oFdKIgbSwnGeUsXd+pDnzZs3Spp3l1Iqzh/pl69cRc7bnWjp4oWUXDF0zjt3I4tORnn1BGYnRu1DstxKZFunTm2aNWeuWS5iVSrs4YQihkChgt+zX9wXL17oGTy9vHg1F91SIb2CGHRSsGBB8lBSZlNas3YdHfM5TjmyZ6cpkydQ2/YdqVTZ8gTJQf16dTnpcCVxHjx0GNWqU4+uXL2mZ4ejekifbStXpT5KCjZFMVIa+fkFUIpvv6W8efNwUJPGDXlB9Pr1375QJ6jF2VXFRKO+g66u1Lt3T06Lgad1m/ZUrkJltchKRJjcQEmTfkOv/nxF5Wwr04hRYwgqDdA333zN7cV5arVCPawWXMVKlKETJ06qgbQhgqmTWtD5HPflvFioYcz4LHYKP7g/8hN7ENi02YlaqEWiNsa0+7ENLV+xkhKrdwxk7d1Loea5s2fPUqUq1elzZXMNn8LTps2ksuUrqWc+CWGxoxGea/PnHgue3+7fp5JlylHXHj+zJkdLrx1hEgRBQLWatdV/HWaOsOCBvRoEJdVr1aGOnbvyu/XVV19yNrzbCRMmIMw/wxTD1aR5S6pavRZhEQdzn/Tp0/G4WqGSHUun2rdrq5snafVqx1Onz7BGCowcqFHD+ixU0eK14w9K+rZpixNt3bqdpfvawk6L3+K0laZNn6kEJG7k4DiEg9evWUWTp0zn9x5agTq1a37AMSdNmTaD+g1wIKNxrKKtLTOpZctXpFFjxukLWq0+HFEnhDxgoNBHEBh287aE3ru/60Tb0R6Nvv76K76fRnjWb9iEILBp174znTl7jvMmSpSIsydI8JmuRflSLYozK2lvsxatWSthNMZq9UbnMRwD9/jxE+a28WBcv36ddu/czgPvjZs3aez4iVSjdl1+oMFMmVOWLJnDOIo2Hazfv3/P3DLymIqwTcMtxdF7UtK3L6iYekD9A07S6TNnWSKHh9WczMtFXmtkqX0wSp05fSo/jODwzenuvXsWmVfzdHIdigAGUNP7gtA3b/6iz/BnegPiKGAYcN/+9ZfF3pUvb0M+Pr78zrx8+ZJWqsUTbCzBEOFdgtQOBKZII7sqlQkSbZgMtGzZnBmpXMowGZRIMV4r1ELnx7at+RrSuOUrVrH0mgPUD/KDKXMY2F8tuPJQNbsqfB/6D3Sk77/PT7Cly5Qpk5oIQplA5DvsfoTf3QDVjgLKDtQSHXYPlfKZpoG0bsOGjfSX6j/6EPquW8otYYJA9CIAaRuYlJo1qrHgAZIkZ+ddbI6DmozePa0V0ATheQXdvn2HgoKD6cmTJ7RFmQ3gHdLI0nNvV7kSrV69To1zb3jx+jDoIRUtUljLwscqKs22bTvo0aPHBKm8865dLNGupJgxX19/1lSASTmpTIrUzBkmL/ri4enN2i3MUdAwXblylX777T6NHD2WmjVtQmPVe4yxRxsbwhTw4QJMbv169rzgw5hy8eKlMMkgOatWzY527trD/Ydwpkb1v5nXMIk/XGCRBqlVKSWpwhgD5lNjeK9du6bzB0bjGNLuVMIZ8CHABgIecwp5/Zqat2xN3Xv2IkhWTwX46poB87SmdZrHaddGeGrxETl6ex9lDRPSGo2xESknsmk+N8+ADQUdlK1Agwb1yE2pXkrbVKBAZb8EDh967jJlStG6dRvZlsc87/PnLyhTxoycHqJqrHI0wo3FSxAUFMwTFMTMmLS0cKQLUnmyZ89G1xTjCG45Y4YMKk8Q2aibhJXP0GEjkIztrNqryQl2dBoZ5dXizY9G7YP0IF/evNSjm5I0dCNewYwdM5JGqRcDzGPy5MnphWq3UMQQOHX6NIvPIVbGIAHCyvPS5Us8wEWslNibKlCpT7GTypTApN1SaomXL/8kU8nk+3fv2Rj3888TUsirEH0CMc2LSQUD/oULFznYcchwHuxw8XnCz2n1mrV01NOdduzYyatUDLoYyDVC/qtKovfgQahpACY5MNJQ+RxUZgbr1m+MNsYa5aKPQoLAv40AFo5YzHRVtrZZs2YlJyVBwsSv7eQ0evc+1k68P5BQWyPzst99eK+fPn2mZ8PcZ/ruIw3UhWAWX778W1uhZzA5QV5TqfqzZ6HlguGCYGWkkpTDTEWTrplkDXO6WUnWNm1Yy+3Y4rQtTBwuGjaoT0kSJ2Z1LK4haYKAY9fuvbg0JNiNa+MTjo8fPw6X1mgc++KLz+nlh3kiXKYPAVCFXr9xk7V9nX7qRrVr1SRIvWAuFRUywjMqZSGP0RiL8Oimv0f2DyVj18WLFy9ZNDvAwZFXAohq2byZ4vo9yUaJNmfMmk3BwY/CtQXcMhg9EJgd6MIhKYMErYIyKvX3P8Gq04uXLikutRKSKd15FRUewOd+AQGsS8fAX65cWd4QAU78+rUbzNXjpQRlzZqZLl+5wg/T9wUKWM3LkRZ+jNoHkTjE2mPHT+D/35X6dvGSZax2QjHYkXpTSSOFIoYANrXg/mIjCZg4PA8dO7SjrWr1GR9o+w5nKqTUqDCqBsEMYcK40QQzBZd9+3kFCYkbJpbGjRqQl5c3r6SDHwXzZg/k0VSiOHfauo1g/7lP5XXeuYvfJ9MBEu+L2+Ejyo5kAduFII8pIT9URMjrsm8fM9W4L5Bww44E7yYmvIQJEppmi9I5GEL0CQQ1RXyQuEYJKMn0SRA45HaYBQLduvxEK1etCVOH0bsXJtGHizRp0/DYhfmnppofXQ+5WUqmh21T7zxUpCAIMfD1Am2O0xJtUwushkptmVgxSN988w3bqnqqdx/SbkiVsMkOZPrua3ld9h1goYamDpwzazpVVfNoKbUTFOMtJGbBSliSPl16q+8x7JEfqXm8c+eOrCLVyteOrX9oQT+278QqYqiJCxctyV8ZgP2XKb1Si02NqYWwB5q7R48e8Rjj6+dHz54/N03O50bj2P4DrmRftzZLSmHDC7WyOdkr846xo0fq6nFgqEnqTNtinu+i+pIEdvRjrMV/rg92yEZ4In9IiOrbB7U7mFHtfkB7YUSWxlhIUz8FhWPglixdzgwaxJemBP32xk1b2HDQNNz0HJNP8WJFOQh2axMnTSWvI4eVwbQ3Swmcd+7kOIdBQ9guAAaeMLKePnM2h8+aPY9KlypFvj6hBtYDBjlyOKQVa9asJ9cDe9nwEg88xL9QBTlt2WA1L0da+DFqHyZAPNja/xslor51C9KSUKlb7lw5ydv7mIUSJQgILF/6q/o8jLf+j7C2P3YgbBrxV+GwobysxP2z58xDVJwnqDW6dOuhNijMoeNHPWn1quWs5oA0+rka2Ob/spAlZjA8TpEipdrpPJkxgQ3JxvVraPvWzWFW0u5HPJQpwQk6sH8PvwtQOZgPDrAX5XdDMWvmtEgtRiBlP3zoAB12PcDGuJAE/KpW7NjEsGXjOs6SNWsW86yRvgZDiE8WoFzYw32KFWikGyUZ4g0CeC8wb1y5epW1OqYdt/bumabDORYzkyaMpePHPCmdYub27N1nniTM9bLlK5ihwvy2dctG6qbs4KDSNSV8feGPPx7yZzA83Q9xmVDbQk2Ledbf9yitWbVC/zyGaV6kWbt2A4+xsANLoNp3xMODMDZgnsIGJZgBYYz52HuMeRSLScyxppRLzXMw4zji4akHQ4K5e/cenTnVIsB4Fi1ShMBIgoYozRg2ROBzLhvWrYZISkuqH43GMTDdYJSxIQqbIkyllFrm8RMm8WbGUwHHeRNHm9Y/0JixobbA5m3R8uCIOR+28/gcy/Kli+kLVQ/ICE/Ebd22nTcvYEPEuvUbCJq/Pbt26LbKSGNOlsZY8zTRdR2tvlDBma9VE1SN2vYMMBqJmwHDP40BMm04DDaxM9GcwKDhBTMf8LGCT6RUq3iQQBDxwhiyddt2fI0fo7x6ArMTa+0zS8qiWnym4aeuf+8YMk8j18YIYKUEuxBzhsM4R9yKwYrS0oCE1SDeEU3FrPUazyaeeWBmToiDIa0lO03ztJauYZKA1aXpO4bP9WjvlqU8kQ3Dp1KwWwz9wwYnfJYHBttCgkBMQcDo3dPah018Y0aN4DnN1AxEi7d2hEoT85g1wnsIG1H8awSJPNSi2OiHXa8QqliS+mEMwL+2IVDLH5n32HHQQApWZk3YZfpPyBKOEcHLaByLSF6oczFumvffUltM+2aEjxGeuI8Yt7Wx0ii/aR04tzTGmqf5p9fRysChMT916kip06QmcMmfmvDxwPtqt8/t23c+dVW842TThnXUvmPnf6W+T94hqUAQ+MQIYHHVRalnTpw6xWqhqWon3w7nUCn8J65aihcEogUBUwYuWgr8SCFgDrarz1dgQ0FaJe2DQKJBo6a6QOQj2SMcDRvzcWNH8ffUqlavHW7xGOGCJOF/ikC0M3DoDTwf+Pn5/6cdi+7KIV3Ey2Uuao7ueqQ8QSAuIYDvAOZStrDHff1Y4heX+iZ9ifsIwM7sO2U3FaDMFv4tAnMFkxOo9rDh6FMQpFR11aey3I8c0TdBfYp6pMxPi8AnYeA+bZOldEFAEBAEBAFBQBAQBOI3AuE2McRvOKT3goAgIAgIAoKAICAIxHwEQrdhfGinp3K/ISQICAKCgCAgCAgCgoAgELMREBVqzL4/0jpBQBAQBAQBQUAQEATCISAq1HCQSIAgIAgIAoKAICAICAIxGwFh4GL2/ZHWCQKCgCAgCAgCgoAgEA6BKDNw2F49asSwMAXiMxuWCK60IkvY5myNjMrEFmxLLnsQhriI0KSJ43Q3HRFJL2kijkBE70HES4w9KfGhyPhO+EgpfBcKCQKfGoGPzSGfun4pXxD41AhEmYFbu3oFeR8NdSmFjx2ePuGnXHscpYP797KrHjQ8jXLO67LHWbkLOUbnTgfo/iARh6/yw58ZXIHUU77NNOrerQsdOriPXWRMnzo5HDNmVCZe1nlzZhHca1y+eJZ6dO+qFcm+Ny9dOMNxi3/9JRwjh48lwnUHfHSC8M2fiePH8rn8RAwBfFR5356wH2nFV74HOzpwAUWLFGbXUHAbc9L/OLVv1zZiBceBVMOGOrJDaH/1fmzdvMGie5z/sptZs2Qh3D/Qt98mp3u3byhfxZXDNAlh+Dr6P6Uc2bNR75/Fk8k/xVHyGyMA93Jwd+Tmuo+WLfmVkidPZpxYYgSBWIxAlBi4irYV2GkuHL+Dpk6ZSEOV/7NCRUsQfLwN7N+Xw/v0/plOnDxFhYuVpL79HWjGtCkcjp9VK5YSXAu1adeBnd4iDI5/W//QkmrXrU8VK1ej/PnzUeVKFRGlk1GZNWtUozy5c1GJ0uXItpId9e3dixlJOAUeNsSRqlStQcVL2Shn6umVHzN7vTycQJL4P+XS5POEoRIS+IcrVaqEzoiGSSwXFhFIADdniik3Jfia0/zNTVS+BJcuW0GlbSqQXbWaBOauqHKgHtepUiVb/to5+lykeCk6esyH5s6eEaO6bWNThjq2b8dtgqQaLmDwrsKFjEYIsyTZ1uLlKAjEBASwkMdY07VbTzUPVCX4Im7WpElMaJq0QRCIdgTCMXC91Op4/LgxhFW5EXXs0J4OublxNCRpefPkoQMHXdlXGJg6OH4FlVRHOOiF70u3w+6UKXMmXg0VKVyIHXQPGzGKfSVyYvWT8POE1LvfAPZtBt9wFy5cZIZLi8fRqMwSxYuTu3LoC5+reGnPnT+vHOwW5i9aX7p8me7cucvuQo4oh7/FixfVi7QpW4Zy5MhOu/e46GE42bbdmdq2aR0mTC6ihgB81qVLm46CHz3iAuBkuU3bDvT40eOoFRiLcmVMn4GfcfgshS+9hYuWEJy8g3IqDwWQUEMKjUWExjCB6Tt7KoB279xOkN7BqT1o5fKlnG7ThrV08fxpatWyBa1bs1JJln3ZZ6ImaTAqF1LwCUqyDGnzLudtlD1bNmrSuBENUAsuO7vK7Dwa9bx585d6Xw/TyOFDcRmGypQuxc6dtcDxY0frzq3PnzlBWGAdPnSAjnkdIfu6temAy246c9KfxxQtz7fffsuTLMLh7BoLORAkfMuXLmJn3L8umE/f5cjB4RfPnWJJrrvbAb6WH0HACAEsMuzrN9I95vzx8CHl+C67UXIJFwRiNQLhGLhVq9dQ4M1AWqkkZCuWLSGoR80JjqlPnjrNwalSpaQ//vhDdyh7MzCQUqVMyXEpVdytwNt8Dofcd+/epZQqDm5CnivnsEsXL6Qtm9YRBmvQlStXyVe53AFlypSRKpQvRy4u+/ha+zEqE+GBH+pC2kDVDtSF9pmGm7YPzCfs3foPGKQ7qtXquXTpspLo5dYu5fgPEAADP3zkKFq+ZBHNnTOTJW/HfX3pxs2b/6DU2JF1i9NWXsCASdPUxns/PNPr16yiyVOmUznbygSb0jq1Q23Dhg0ZTEOGjaA69g2UO52nlFzFgZIlS8pMcLMWrchx8DDGcubsuSzZ+/PPP6lOrVqczqhc2J8dVgupYiXK0IkTJxXz1pDQvmnTZ5Krqxs5OA7h/PgZMWos1axRnbDAMSXYMKKtGn399VcsscM1zBuOeHhSpSrVyENJ4uG8vknzH5RU3IbsldsebVGYXKlp58ydT2XK2fJ7V7tWDS5uglo4Xr12nUqVLU8HXV2pd++eHJ4iRQo6e/asKrc6X8uPIGCEABb+9+79RtWq2rEUuZZ6huf/stAouYQLArEagXAM3OPHT2jRkqVUtXotun79OksBtIFX62mWLJnD+GgzVa1AyoB/jczjSEVlyJBBSdcuUctWbVlVCl9zpuo0rMjBPA4eOpwgrTEnS2UijVp86WTaDqPwQQP7k9PW7XT9xg09n3Zy7949yprVWAqppZNjxBDYuWsPT8znzp6nJYsWsOQFarm4TiGvX1Pzlq2pe89e7NAd0jJMLnin0qVLq1T1JclBPYdfffUlwXYHKv9sWbPSrt17GBp//wD1yvz9Pp0+c4bDj/kcp4dBQbzgwbMeoBgymBwYlavhfNjdnU+RvkCB/FpwuOPTp09pgIMjzZk1Q2fQwiWyEHDmzFkO9Tnuy+pi+HMMCQmh8xcucPsQeeP6DZaSv1CLuG3bdygziUqcB3Z3SZN+w3hAql/NroqutoUk33Rc4QzyIwgYIABpf+CtW/SF2liH+UVIEIiLCIRj4DJmzEDDhw4mn6MeajBNyjZLeBFM6fnzF5QpY0YOCgoKJqzsv/zyS77GBKIxXUEPgyh79mwcjpV7RsW4BQUHMWMYrI4gDMp+/v5U7IM9FNKtXL6ENm7arFbhhziN6Y9RmQiHDZ1GWVQ7ghXz99AsXGtflsyZ1UaHblSyRAlmFu2UCqlVqxbUrGljLiJ58uSsjtXKk6N1BJ4+e8aTr2kqbA5BeEolQSlfzoZV2AsXLaYSyhYxbdq0SuIUKjEyzRPXzqFyhGQKEutOP3Wjnr36ECRNoJCQ12wmAFOBXbv30spVoarSV69esdTuY1gYMTRG5X6sPPN4ME0BJ07QYGWvGBUyap9pWUiTJEmo7STO4bwbeJw6fYYGKSmj6WLNNJ+cCwKWEMD8gfEGC5/Zc+bxf7cuP1lKKmGCQKxHIBwDV6tmDXrx4iVL4LACv6ZUGuYENaQmMcNkc/HSJbVrrRIns1OrZrw8IL+AALatwSBcrlxZ3vgACR/s5GzVRgi8aFBjYnI/ePAQD9ZzZ88kXz9/WrxkGZeBnwTKhur7AgX42qhMf1VXOZuyLC1AuYUKFuQNFKeVRAA2QenTpyN8eqRChfKqfSfowe+/k02FijRy9BgaO34C+ak69+0/yKokVJQ/X166ceMm1yk/H0cAky4kKrgHIOxmxOcitm3bwRKkLZvWUz6FKQiGxl988TmvkDkgDv/Yqx3W2G2tfUIEzzveHyyKIOF+pCQFzjt3qWfej549f06w2fldmSRoqsu8efNECh2jcq0V8upViHoPE1lM4jhkmL6oQYKLyrQgp5Jo4B7iP1euXBbzWQuEBD9Fim8ZEzwjePdBTlu3qfAUjIfLvn3M8EP9LiQIRBQBvGdHDh/k5wt58KxhMSAkCMRFBMJ9mGrJ0uUf7aeXlzcVL1aUtu9w5rQOg4aw8fHI4cPoVcgrVo0iYtbseWxc7evjRZDGdOkW+vkAMHEw5Pb2cqf79++Tk9N2ntDAPDZt0ogZwnr2dbjs+/cfUMfOXchpywbKk6+gYZl7Xfbz50j8fLwpsVrRz5u/gBlGFDJx0lTyOnJYGZM/Y0mI886dBKNyU+YUtkYP/3ioSw/BbHh4enIb5CdiCAweMpz69e1NUyZP4AxTp8/QmbQfWv9Iq5QRPmwh371/Ry779jPTHLGSY2+q8RMm0bQpk/gTNpBMQyI8clSoBG6I2rntMKAfjRo5XDEzCalP3wHc0ekzZrKKGVK7IKUmjSwZlWtUjqd6n7FhYc6s6TRqzLgwyYKDHylThhH8OQZEwN7VeedultCfP39R32UcJtNHLoAD7PyqVK7E5e3eG7qBaJFatA0Z7MCbIBIpScovCxd9pCSJFgTCIgBb0LHjJ9LmjetZu4P5A4IIIUEgLiIQJV+oUH+tXbWcatS2p7dv3+q4QOUK2xlzAvP2XEkXzFUqkIi9e/eeYHhqjRo2qE+NGzWk1m3b6cmMysRONpQHRsGUsDJLpOwhsEv1Y4QNFNgdB6Ppj7XtY2XFx3jspoQ0zvx+AwvYNyIuvhGkyHj+ILE2JzyzmHg0gkkCJHMJEnxGnTt15E1Bo8eO16IjfDQv11pGSNPQPtN2WEuPj3bDvu+fkFH7YBsJuzlLz88/qU/yxi8EIO3GcyQkCMRVBKLEwAGMn9TEkjpNaoKE4VMTPjIKSd3t23c+dVVcPpg3qHBdD7n9K/VJJYKAKQLYvYnvFT56/Ig/hfNju0507Xp4UwbTPHIuCAgCgoAgEL8QiDIDB5hKlCgeJ9VgcbVf8evRjt29za0+So3PdcA2UyRRsfteSusFAUFAEPgUCPwjBu5TNEjKFAQEAUFAEBAEBAFBQBCwjkC4XajWk0usICAICAKCgCAgCAgCgsB/jYAwcP/1HZD6BQFBQBAQBAQBQUAQiCQCn5um93R3Nb2Uc0FAEBAEBAFBQBAQBASBGIiA2MDFwJsiTRIEBAFBQBAQBAQBQcAaAqJCtYaOxAkCgoAgIAgIAoKAIBADEQijQo2B7ZMmCQKCgCAgCAgCEULg/s+hfnUjlPgTJUo3Vz4e/ImglWLNEIiyBA7fqBo1YliY4vB1dksEjwuRJXwZ3hoZlQlnxpYcYCMMcRGhSRPH6b4rI5Je0kQMAc0faMRSx71UcbX/bVq3Yn/FEb1jtsof8Xc5ckQ0uaQTBP4TBN6+tz4H/SeNkkoFARMEoszArV29gryPHuOiSpcqSadP+JHf8aN0cP9eypgxA4enSZOGXPY4k//xY3TudABh4NYIbk7g5Nvb4zD7MNXCu3frQocO7mOHxNOnTg7HjBmVCYZv3pxZ7HPy8sWz1KN7V61I6tihHV26cIbjFv/6i87IgaG7E3iNbly9qP+nS5eOAgJO0MTxY/X8chIxBFwPuPDHnc1Tg9lftWIZnTnpx8/J0CHxyzfhsKGO5KE2CPmr92Pr5g2EZzgmUdYsWQjeTkDffpucAq9fjlTzpk+dxL5cI5qpdauW6jkpFtHkkk4QiBQC5bZ+TcdfZ41UHvPEa4Py0c+n/lkZ5mXKtSAQ3QhEiYGraFuBHcXvP3CQ2zN1ykQaqhxzFypagjw9vWhg/74c3qf3z3Ti5CkqXKwk9e3vQDOmTdHbv2rFUvaL2aZdB+UcexeH58ienVr/0JJq161PFStXo/z581HlShX1PDgxKrNmjWqUR329vkTpcmRbyY769u7FjGTqVKmU42xHqlK1BhUvZcMuiurXs+cy06ZNQ7du3absOfPq/3DZtWmzE5UqVUJnRMM0QC4MEUiSJDEl+Cz8I7V8ya8K51tU2saWGjZpRmVKl6JuXToblhOXIipVsqXy5WzIrlpNKlK8FB095kNzZ8+IUV20sSlDHdu34zZBUp0kyf9iVPukMYJAZBB4FfKa3r3/7P/sXQV8FcfznwIF/vyAUgLFvRQr7logOAQvDsWltDjBpbi7huAuQYJDEiIkSASXUCw4hQSHAAX+851wx8vLuxcptCTs8CF3b3dvb+97d7uz35m9ic4hEcq2tDlHswoFRUhXCQqBzwmBCKNtj9+709gxowizciPp0L4duR0IixMKJi13rly038VVQv5AqStaNGx2XZy3e/ft54D1b+mAuwdlzJSRUqT4hgoVLEAFC+SnocNH0pMnT/XTxE8Qn3r26ScBvxFE/ty586Jw6QV4x6jOYkWLkoeXlwSrv337Dp05e1biSBbg8wReuEA3btyUQN2enl7cvsJSJdi2W7dvk03KlJQkSRLT09CWrc7UpnWrcGnqR/QRAMZlWIEZP3EyPX78mC5dukwOixZTkyY/R7+yWHhEhnTp5Rl/9eq1vB8LHBxp2fKVciXff59DGGqw0HBHSJo0qaRD6Tt9IoB2bt9KYO/Wr10l6cuXLpZyG9atpvNnT1LL5s1ozarlzCz70trVK+TdQkGjesGCj2NmOcDvMO1w3kLZsmalxo0aUj+ecNnaVqJJE8bJeYz+VKtahby9Dsj/hfPn6kw2yvfq8Tsd9HQTRh1hwCAIVr90sQP5HvYmlFdmU4FF/fmPEPjz77RUyfkbKrImIQ29kIuevAubqEwIykOlNiahMk7/o5XMvEHWhOShQWezy/6zd4mphXcmyrX4Df24/Ctyff69pPu+zELVdttQQ/d0lHPR39T6UGZSZleBRv35lxCIoMCtWLmKgq4G0XJmyJYtcSSYR80ld64f6PiJk5KcKpUN3bt3T5QuJFwNCqJUNjaSZ8N514Kuy/7r16+ZtbtJNpwHperps2e0eNEC2rRhjXTuKPTnnxfJ19dPymfMmIHKlytLe/bsld/aH6M6kR70/lwoG8TtwLnQPtN00/alS5tG2KD1PCD6HfGmvr17aqehwMALzOj9oP9WOzFDoED+HyWe5zO+35oc9PamPHlyfxF+hpucNssEBkpau7ZtBILd75/ptatW0MRJU6lshUoS97R2rRqSP3TwIBo8dDjVtqtPjx49phRsgoZ8801yCnnwgJo0a0kDBw2l2bOm0/SZs4XZe/HiBdWuWVPKGdWbOnVqcueJVJFipejYseOsvDUgtG/K1Onk6nqA7AcOluON/vzcuCG1at2OypavRIkSJQzn+uDLMVsrVKzCE59t1J3dICDjeCJ4kRX2EqXLkYurK/Xs+ZtR1SpdIfDJEWi45i8aWiU1+Td/TQ9f/E3bH2SlS2/S0nK3s+Tzcyg5N4xPK4/+RS/ffU0v3xA9wR+WPsfSU/pvE9Pp9glpSfPM1HPjJUn/+108On3hKs0s/5rOd0xEQXcf0mFW6pQoBP4tBCIocA8fPiIHx8VUpVpNunz5srAA5mxc5syZ6OLFsIcYDTVdNIDA26bBt83z6B1R+vTpmV0LpOYt24ipNEeO7FS4cCH9mv/3v/+J8jhoyDAKDgnR07UdS3Ui7ysT1ty0HUbpe/buF7MqrrXcT5Xp125dKVmyZHKaW7duUZYsxiyk1ha1tY4AHPdN7xdKv379N32Ff6Y3xno1sTb35atX1LR5K/r1tx5UtkxpYcuqVrEVhjstTyBK8ATJvn9fdidIQmC4YPLPmiUL7di5S67Z3z+AXxl+ad7LyVOnZO/wkaN0PzhYJjx41gNYIYPLAd5VS/Vqx7t7eMguyufLl1dLjtK2b/+B9OOPeWnMqJGUMWNGVsJz6cd5+/iIorp67Tp2e6go6baVK1Hy5Mnk+sDSV7Wt/EXccx0UtfPZIBD0JjXduvsXHb6bgMZdzUVPQ/+m3YHPKFW8x/Q191Hdj2WlEy++o101H1Kir16Ha/e+o+eoXc7n9PVXb6hEwiBK/W1yCngVNjb8kC0jZYp/n+JzXqHs39HpR4nDHat+KAQ+JQIRPiOCBQjt2/5C9evXpQMHPNhvqTwFsf+SqTx9+owyZsgg6cHBIYSZPUyQz58/lwFEU7qC7wdTtmw8y2FFEAsGMrDiFhwSLIoh2C8IBh8/f38qwgocWAGUW77UkdZv2MizdjcpY/rHqE6kw4dOk8w8kMGs++JFaLh0DHBa+2DieciMBiQk5AGdPnNGzK6eXgfZHJVCrkerT21jhsCJkyfFpA6swRJBwKwGXghkRS58RxmzM3zeR8Hf7/KVq8JYd+zcjWrVrCHMVOMmzekl++rATQCC7cOHD2U/NDRUlCH5YeWP6UTJtJhRvaZlYrK/bMkieSfXrF1vqIihTQmZnYNgHxO9uzxwQk6cPGV4nBRQfxQCnxCBRAkTUV6bsMlQXpvElPLrv+mbr56Tb6uvye1ZAlp+MpQGX0tIXk3C90v/+7/ElDTeK71l8eLFo7uvElOKBOHL6QXUjkLgX0IgAgNXs0Z1evbsuTBw/ewHis+SeVtghtQYMww25wMDybZyRSlmy7NssAYQv4AA8a0B01K2bGlZ+ACGD35yFXghBHzP4EMHJ28XFzfp3GfPnE4wxyxyXCJ14A9emB/z5ZPfRnX687nAcCROnFjqLZA/vyygOHnqtPgEpUuXlvDpkfK8Etbf/5jUVadWTRoz+g/Zx0rJH3J+T0ffm3DzsonvCg+8Sv4ZAjdv3pLnoV+fXuIThfvQoX1b2rxl2z+rOJYcbWdXR1Zba58QwfOO9weTIjDcD3gCgUU8vn5+9OTpU7p3/z79xS4JZUqXkivMnfsDyxWVSzaq19qxoaEvxSRqrQxYcUyy4L+H9z0Ls4Tx4334zELBggXl8Lp16og5Fj+cNm+hlPyO4/r27N0rCjz8YZUoBP5tBLLEv0c5s2YgG1baGiQPpFJJ71HS+H/Tvmc5qfeJTFQz6QVaVuoG3bkfQvffhrksaG38uVwuWnUtlfy8/CYNnTh/kYr9746WrbYKgf8MgQgMnOPipZE2xtvbh4oWKUxbtzlLWfsBg8VZecSwoRT6MlRMo8iYMXOOOFf7sn8ZTJNdunWX8lDiMBD4eHsQVn06OW2VAQ3KI/xsMEDUtastZe/cuUsdOnUhp03rKFee/IZ17t6zT3xy/I74UCJeDTln7nxRGFHJ+AmTydvTnZ3JnwgT4rx9u9S9kf1/KlX6ifD5CyiZY8dP0n354KPldfCglFN/oo7A0sUL6QUr9ZoU45W/bX5pTwvmz+HPaPgIzlu2baeZs+ZoReL0duy4CTRl0gT5hA2Y3/vMFI8YOUqueTCv3Lbv14dGjhgmn+Ho1bufpE+dNp3WrVkpz2owm0mjK0b1GtVzkN/nEcOG0KwZU2nkqDHMgifgTwL56MXxWZ3OXbvTQl58gkUMVy5foefMbGsuBlhwVL1aFZowbgylZwUdJmOIA0/CBg+yJ3e3/ZSQmfV5Cxz0OtWOQuBTItBiWSD9H0+WNDnTlmhyzW9p7MFnNOhhUvr77xc0v35SKve/a7T0WWoqvOZrSsLjRrtqP1D6eGDFP3zqp3O2v6ip89+01vMrev33LVrapTSl/uoCXaQwX2/tHGqrEPi3EYhRLNQ0adLQ6hVLqXotO3rzJszREw1Pnjy5rDQ0vwgob0+ZXTA3+YARe/v2Hb9Mf5sfEu53g/r1qFHDBtSqTVs93ahOmOpQn7l5DgxIQv7QMMy85oIPEMNXSRMsoMAAWrFytUjbph2jtpEjAPYJ9+VLZGHAIuP5A2NtLqbmZeTBJQHMXLx4X1Gnjh1kUdAfo8eaHxbpb/N6rR2A7yiifZqZ26is+btiWg739xW/R+bvOVjxly9fRkg3PVbtKwQ+BgJRicTwnBJREgofLeHFu0SUkP4WXzajdmDVarKvwtxAjMogXUVisIaOyvuYCMRIgUMDOvPAkvq71ASG4VMLPjIKpu769Ruf+lRSP5Q3mHBd3Q78K+dTJ1EImCIweeJ4+XzOg4cPxCfzl7YdxY/UtIzaVwgoBCIiEBUFLuJRHzdFKXAfF09VmzECMVbgUGWxYkXlExHG1cfOnLh6XbHzbnyZrca31OCX6cf+oOaM1peJiLpqhUDkCCgFLnKMVIm4g8A/UuDiDgzqShQCCgGFgEJAIaAQUAjEHgQirEKNPU1XLVUIKAQUAgoBhYBCQCHwZSKgFLgv876rq1YIKAQUAgoBhYBCIBYjEO4zIgc9XGPxpaimKwQUAgoBhYBCQCGgEPgyEFA+cF/GfVZXqRBQCCgEFAIKAYVAHEJAmVDj0M1Ul6IQUAgoBBQCCgGFwJeBQIwVOHziYOTwoeFQwkc+LQk+2BtdwYdFrYlRnYilailIOtKQFxWZMH4Mfxk/nHU5KoepMu8RiCrOXxpg6pkyvuORve/mR0a3vPnx6rdC4L9GQD3D//UdiP3nj7ECt3rlMvI5dFgQKFmiOJ085sfhdw6Ry77dlCFDekn/7rvvaM8uZw6hdJjOnAygChyHVBN8tX30HyPIx8tdQmBp6b9260JuLnvJ092Fpk6eGEEZM6oTL8OcWTMkZNGF86ep+69dtSol9mbguVOSt2jhvHCKXPr06WiJ40IJHaS1G6GDxo8drR+vdqKGQOFCBWn92lV00MONjvsfpXZt28iB8+bMogC/w/KMXL96Ufbxu1nTn6NWcSwvNXTIQPJi/1J/fj82b1xHeIY/J8mSOTPhY9mQb79NQTevXZZ7dPTQQcK9y5Qp4ydtLp6DaVMmWj1HkiRJqFbNGnqZGdOnSNg9PUHtKAQYAcRZRt+C/zeCLnGf7yv7+Dj2vyVjx4wijDdoA8LIIUwd3isIiIRRI4fTqeP+dPqEv4SgTJo0qd60W9evEOIOGwnCPuJY1H3AdR8NGmhPKVJ8Q21at5Q07dpRBnWlTPmtUVXyHddpUybRsiWOhmVUxueNQIwUuJ84ED2ClCMoPWTypPE0hOM6FihcjA4e9Kb+fXtLeq+ev0tA+YJFilPvvvbcSU+SdPxZsWyxPKit27aXYNdIy54tG7Vq0Zxq1alHP1WqSnnz5qFKFX9Cli5GddaoXpVy8cdPi5UsSxUq2lLvnj1EkUydKhUNHTyQKlepTkU5Lme6dOmoXl07qQ8vzv49O+nIEV+qXqOOHjt1w0YnKlGimK6I6idXO1YRGD9uNC1esoxKlilPtlVr0MAB/akwB0D/9bceVKRYKWrWorUEa8c+/q9bv9FqfXEhs2LFClSubBnBo1DREnTo8BGaPXPaZ3VpZcqUog7t2kqbMMDEZ/YZ96dazdp05uxZ2rhujYTz+lSNxnPQt/9Aq9Xb2KSkSRPG6WV69+lPGzdt1n+rHYUAEED/o/UvL1++olp29eR3/wGD/jWAvub3Z8GCRXJeu3oNZcz5pU1rOT/GpR/z5SWklylfUWIjL5j3IS40ws5Zk8Qcr7U9xwbHNdat34gypE8vUZFWrFytXzfydu/ZS5s2b6GQkAcWq6taxZb69eklcau/+Sa5xTIq8fNHIIIC1+P37oQZBGblRtKhfTtyOxAWZgpMWu5cuWi/i6t8MR5KXdGiReTQ4rzdu2+/xL484O5BGXkmj9lCoYIFqGCB/DR0+EgOMP9UP038BPGpZ59+Ei8S8UzPnTsvD79egHeM6ixWtCh5eHlJrNPbt+/IwANGqACfJ/DCBbpx46bEefT09OL2FZYqMWvx8z9G6zZspFCO1WgqW7Y686ymlWmS2reCAGJ9pk2TlkI4hicEgdtbt2lPDx88tHJU3M/KkC69POOvXr2W92OBgyMtW75SLvz773MIQw0WGu4I2kwcSt/pEwG0c/tWAnsHVhOyfOliKbdh3Wo6f/YktWzejNasWi4sw9rVK+TdQjmjesGCj2NmGbP0Hc5bKFvWrNS4UUPqxxMuW9tK4RQk1PPw4SOaO28B3bl7l2rXrokkQnzVpYsdyPewNy2cP5dyZM8u6Tlzfk9OzC7iWtDOVDZhgb7xroOVB5sHhhzxktE/7N7pTA4L5sqkrmmTxjSK2XgI2IDhQwfTFqcNco12dWoR6l7FsZdTpU5Fe3dtl3ITx4/VJ2KIWgGmH5jt2rGNsmbJotc1ccJYadMRHy/CoKXky0QAExNYZrCF1LWrQ9OnTpb9qL5XRs9Zt66d5VnGM/hz44ZSp/bnyZMnQlBoz16L5k1p1tx5dDUoiOMdP6QJEycTyAe8F9EV1L123XqqXr1auENBelSpUpkGDxkeLt30B8ZrTKhdXd1Mk9V+LEMgggK3YuUqCroaRMuZIUNnCvOoueTO9QMdP3FSklOlsqF79+7pQbrxYGqdtw3nXQu6LuUQxPzmzZtkwx07lKqnz57R4kULaNOGNTIQoNCff14kX18/KY+A8uXLlaU9PJMwFaM6kR70/lwoH8TtwLnQPtN00/ZhcEmXNg2biWaSB1PdXTt30k8VGHiBGb0f9N9qxzoCCFA/bMRIWuroQLNnTRfm7aivL125etX6gXE8d5PTZpnAQLHRTMqYHUPWrlpBEydNpbIVKknYrNq1wkyEQwcPosFDh1Ntu/r06NFjSsH+phDMlKEgN2nWkgYOGio4T585m8DsIQh97ZphSpZRvalTpyZ3nkhhhn7s2HFW3hoQ2jdl6nTuyA+Q/cDBch7zP5iUIbwcZBxP7i5eukwlSpcjF1dX6tnzN0nv16c3OTltEVYh4NgxqlGjugyWUDARLxnl0U/80qYVJWB3h5zff0+TpkyjPv3sCZPApEnDzEbJkycThbdBoybUs1dfZs8HSb/Qqk07un/vPlWvFcaeJ0uWlMBGQBC7eMFCR8pfqCjt3LWb+vbtJemoK/RFqOA7fOSocG4VUkD9+aIQ0MYlXHSiRAkJzxAkqu+V0XOWhCc1mTJl4veylc4KJ/lfErJJmVImK3ALwvuFCRrGtUOHjsh58QcT3fOBgZSPrU3RlTRp0sj7tIufeU1AkMyaMY26/9aTnj79QI5o+WobtxCIoMBh1u3guJiqVKtJly9fFhbAnI3LnDkTXbx4SUdCm9UgAXEbTWM3mufRO6L0TPueOxdIzVu2EVNpjhzZZcDXKoQPAJTHQUOGyQOupWtbS3Ui7/3kSoqZtsMoHe3YvGUbtWzdlqpUr0m9e/fQ/eNu3bpFWbIYs5BaW9T2AwLbd+ySgfrM6bPk6DBfBtbITAIfjo6bey9fvaKmzVuJGblsmdLClmE2jncqLU8eSvAEyb5/X3YnSELVqlYhmPzBIO3YuUsA8fcP4FeGX5r3cvLUKdk7fOQo3Q8OlgkPnvUAVsjgcmBUr3a8u4eH7KJ8PjblRFW+ojDmwrZyJWYLkkmbwbxXta0sipqvnx+BvQcbAaVw1eo1wgS+ffuOwL5DwDasXbte9i9duhSuD5HE93+Onzghe2DvwfhZ88EDA5gsWTLa5rxd+h2wm2iTtpDG3cNT0qN7vabtUftxH4HI3qvInjMfn0P0+PFjHahmTX4msOKYwJw/H0jTZswkWCnCDVLvS79+/XdYnn609R1Mkv2O+ggBcur0GXJks7EmUyZNICc2ncJVQ0ncRyCCAgdH/mFDBtGRQ15C68KfKejatXBIPH36jDJmyCBpwcEhhJk9nIwhGEAwq4AE3w+mbNmy8h5Jhwp7fXBIsCiGIbyFYPDx8/enIuwrBUHHu3ypI61ns6aLBXrXqE6kw4dOk8zcjhBux32zdNP2QUFFeyBQXMEQZM8eVkeKFCnEHKvVp7bWEcBsE75eYIIWOCyiYuxviBli7Vo1rR8Yx3NLlSwhixbAWHfs3I1+69FLWCxcNnx04CaA/zt27qblK8JMpaGhocLaRQaN6UTJtKxRvaZlorNfk9k0/4AAOQTnxOQNbT5x8hQNYCYQEyrHxUtlQpaQV6I7b3WiRg0byLMQ+jJUPxWUWSid0RGcD3UayfMXz+kZ90caFmCCsUL+S584GOGl0iNHQHuWTEtG9zlbsnQ5+5DWoc5du0u/iEV2UPBADJQqVVKvGowZfOJOnzmrp0W2065jZ+lf69RtQLPnzGOW/pEc0rBBfcrF1rFxEyZGVoXKjyMIRFDg0Fk/e/ZcGLh+9gPpEptLzAVmSDinQzDYgAK2rVwRP9mXpjKBNYD4cadva1tJOviyZUvLIgEoSjDJVOCFEBj0YT7BwO/i4iblZs+cTr5+/rTIcYnUgT+YufyYL5/8NqoTAwwYDnTcqLdA/vyygOLkqdPCBKRLl5YHgq+pPK+E9We/N8jOXXuoQf16ojSC2sZsH6ZTSN48uenKlauyr/5EjgBYok0b1lIexg2CDuvrrxNEUP4jrylulbBjXxusttY+IYLnHe8PJkWYQDxgk6jz9h38zPvREzZ53Lt/n/7iiUSZ0qUEiNy5c0ULEKN6rVUSGvpSTErmZaAIde7YQRbz4F2BYHafkt8vtHnP3r2ipEFpAtMAZm7mrDlszlzE7g9lxO8U73uB/D/Ksa1bsemXF7ZEJlmzhvmwwcXh7bu30gehjQnZ7GUu8He9feeO9CHIq1/Pjs4x4wH/ICUKAQ0BKGXo27X3CexxdCSmz5kHM8C3bt+m1q1ayOmw8OZXZqkxHoH06NXjd/Jgv2xNCYtOm0zLor5xY/6grt1+J/jbKvkyEIjwsTPMpCMTb28fKlqkMG3d5ixF7QcMFsfmEcOG8mKAUJmJI2PGzDlCI/se8RYzR5du3aU8OnWYOny8PegOd75OTltlQIPyCCdQKIR17WpL2Tt37lIHXnXjtGkd5cqT37DO3Xv2iWOq3xEfSsS+MXPmztdXlY6fMJm8Pd2lUwcT4rw9zBH6gLs7NW/WhHDMX3/9RcOG/yHnxB8oIl4HD+q/1Y51BLDaqUWrX2gFO7DD3xED7569+8iPlfEvWeD/BbPGiYCjwkyDER7B/liQwbxy275fHxo5YhgrePGpV+9+kj512nQxP+NZDY4mY2WtXqncwp+D/D7jUwezZkylkaPGUEJmwWGigRIOX7lGjZvJ+4FDHXhiNXiQvXweAeXmLXCQGpcuW0HLmDm/99c9esMKXY9efSR93PiJhEUXUEoxMWzP7EFm9heyJljlDnMyfGC11YNgx88wS3HQ040qVq4W7vDRY8axE/k88fl59foVtW33wZc1XEH144tGAGMCPn8FUgIsdWjoi2jhEdPnbNTosfI+Q3mbOGkKTRg3htz4cyBQKmEC7di5a7TaYalwu7a/CPO8fFn4T4L82r0nwRdZSdxEIEahtGAaW82rwuBQ/ObNGx0ZrKQx9QPQMuCjAodKc2oajBh8ZLDi1JqAJYNJplWbtnoxozrBoqE+KBGmAgYEppjnz5+bJss+joHpTxOwcXBYxUARWdu0Y9T2AwLwYXzGi1SUfEAALDKePzDW5mL+/MElAcxcvHhfUSdmwOB8/QcPAtEV83qtHQ9lDe0zfQ+slQfT/ZJXbpu/00b3Hg7cUXGq3rxpvZiFvPhzRLh+czYB770RuxbVc1i7LpUXtxGAiw7GLLDGMZWP8ZyhP0Bb8A5ZEnw/DhYMU6lkWy3C+2Cab2k//4/5aMH8D58pQRlMhGDaVRL7EYiRAofLhmkl9XepZYXZp4YBHxkFU3f9+o1PfSqpH8obTLiubgf+lfOpkygETBHAR0fxvcIHDx8QPoXzS9uOdOlyRFcG02Piyr6mwGkLH+LKdanrUAgoBBQCHxuBGCtwaAg+LRAXTWRx9bo+9sOj6vt0COCbU/BBw/tlznJ9urP+9zXD7+3a9euGHyD971uoWqAQUAgoBD4PBP6RAvd5XIJqhUJAIaAQUAgoBBQCCoEvC4EIq1C/rMtXV6sQUAgoBBQCCgGFgEIg9iGgFLjYd89UixUCCgGFgEJAIaAQ+MIRCLfM5aCH6xcOh7p8hYBCQCGgEFAIKAQUAp8/AsoH7vO/R6qFCgGFgEJAIaAQUAgoBMIhoEyo4eBQPxQCCgGFgEJAIaAQUAh8/ggoBe7zv0eqhQoBhYBCQCGgEFAIKATCIRBjBQ7fqBo5fGi4yhLxl9wtCSIuRFfwZXhrYlQnvm6N4NrmgjTkWRLzc00YP0aPXWmpvEqzjoAW99NSKaN7YKlsXEuzhktsudYKHEs4R/bsH6W55u+dVikiUdSqWUP7qbYKAYWAQkAhYAGBGCtwiCnnc+iwVFmyRHE6ecyP4yceIpd9uyX4NTK+++472rPLmfyPHqYzJwMInb8mCOqNIN8+Xu4Sw1RL/7VbF3Jz2Uue7i40dfLECMqYUZ0YDObMmiExJy+cP03df/0QX65D+7YUeO6U5C1aOE9X5FKm/JaWLXGUc+3asY1wHZCAgGM0fuxorUlqG0UEgCeCmgf4HiaPA/upf9/e+pGIKLB+7So66OFGx/2PUru2bfS8uL4zdMhA8uIFQv78fmzeuE7ei8/pmrNkzkyIdmIqCMOFd6aKbWXTZGrVsjl/wLtIuLSY/pgxfYrEPsbxRYsWoaxZwoLYZ8+WlXr+HvNQP/PmzKIAv8PSJ12/elH28btZ059j2lR1XCxCwJXjjKIfMpduXTrRretXwr1/Rs856sB7ayqbNqwl28qVJOnalT8JIbU0Qfze7ds2az9l26vn77R7Z1i8cC2jdq0aEh9c+622CoF/gkCMFDg8rDdv3qJ9+13k3JMnjachHJi7QOFidJBjGGoDNx7gY8dPUMEixal3X3uaNmWS3tYVyxYT4ia2btueg8vvkPTs2bJRqxbNqVadevRTpaqUN28eqlTxJ/0Y7BjVWaN6VcrFX68vVrIsVahoS7179hBFMnWqVDR08ECqXKU6FS1RRkIU1atrJ3U2b9aUbt66RWXLV6Kp02bQoIH2kr5hoxOVKFFMV0QlUf2JFIHVK5fTaY6zV7JMeapZux5VqlRR7/DGjxtNi5cskzzbqjVo4ID+VLhwoUjrjO0FKlasQOXKliFcc6GiJejQ4SM0e+a0z+qyypQpRR3atQ3Xprp2telByANW2FqES/+YP3r36U8I8A1p90sbKsfB6z+G/PpbDypSrBQ1a9Ga7t2/L/v4vW79xo9RvarjM0cgceJEQhZkzpQpXEsR8B1iaqExes5Rx+/du1PBAvn1OkA6aKwxYgGbCmKbmlqgcI6WzZtJHOM8eXLrRePFix+unJ6hdhQCMUAgggLXg2e+Y8eMIszKjaRD+3bkdiAsTige6ty5ctF+F1cJ+QOlDrNpSHHe7t23XwIHI7ZhxkwZKUWKbwjhcvBiDB0+kgNTP9VPEz9BfOrZp58E/EYQ+XPnzovCpRewUmexokXJw8tLgtXfvn2Hzpw9K3EkC/B5Ai9coBs3bkqgbk9PL25fYakSM/5brMBBrt+4oTMA+L1lqzO1ad0Ku0qigEDGjBlEIZsxc7bg/Pz5cxo9ZhylTZuWg5LHo7Rp0lIIB2iHBIeEUOs27enhg4dRqDl2F8mQLr084wjKjpBYCxwcadnylXJR33+fQxhqsNBwR9Bm9FD6Tp8IoJ3btwoLAOYSsnzpYim3Yd1qOn/2pAwQYBpOBPjKrB7vFsSoXrDg45hZBhu1w3kLZcsxOoMdAABAAElEQVSalRo3akj9mCm1ta1EkyaMk+PxpyVPpPr0s6eiRQqTTcqUerrpjlE7kyRJwsz2ImFa/Y746JOwbl07k8OCuXLNPzduSBPHjyVMpsDEV6tWhfr07iHnxTlSpEgh1wRmf/GiBfrAefbUMZnEIdj3YW9PsqtTi/bv2UmnjvtLv2XaPvP9Th3b08QJY/XkbVs2CesOFn740MG0xWmD4Io6NRlg34+O+HgJc/rTTxW0ZLX9zBHYvWcvtW7dUm9l2TKl6X5wMN2/H6ynYcfac75i5SqaPWu6brEJd2AkP8qULsWxu6+Tg+NiISUiKa6yFQIxQiCCAoeHNuhqEC1nhgwdm2ZWNK09d64f6PiJk5KUKpUN3bt3T5QuJFwNCpJZB/ZtOO9a0HXs0uvXr5m1u0k2NjYEperps2fSMW/asIYWzp8rZf788yL5+vrJPhSC8jwj38MvoqkY1Yn0oPfnQvkgbgfOhfaZppu2b978hWJWmcWMyLLFi1ihHKGfKjDwAjN6P+i/1Y51BArkzy+mZyhumoBtWr1mrSjww0aMpKWODtIhgnk76utLV65e1YrG2e0mp81y/VDSNLMxBhfI2lUraOKkqVS2QiWJewrzCmTo4EE0eOhwqm1Xnx49ekwp2N8U8s03yUUJbtKsJQ0cNFSwnM4KM5i9Fy9eUO2aNaWcUb3wLXPniRTYqGPHjrPy1oDQvilTp5Or6wGyHzhYjsfEJn36dOIiAXb858aNJN38j1E7oSTdvnOHipcqS127/06TJ46XQ5OwWTYTsyJNmrUS5i1ZsqQEpmPYiD9o3z4XmjZ9ljwvKIx3F+0pXKwkgUkp8d7ECxcKT6+DVLFyVfJith91N27agpn3MmRXu5bVieeevfuoUYMGMiBnyJBeGHs//wBKnjyZKNkNGjWhnr36Cv5oQ6OGDah0qZJUoVIV6sVs4SRWOJXEDgRgRWnW5Gfdl7ntL61p6bLllIifN00ie87BDsPSFBNzfgtm3zZscqLNm7dS/Xp2MVICtXaqrULACIEICtzDh49k1lClWk26fPmysADmbFzmzJno4sVLep2mlDRYBtPg2+Z59I54cEjP7FogNW/ZRkylOXJkD2dOg2kVyuOgIcOErdFP9H7HUp3IYtZaF9N2GKUjYHjoi1A6efIUXb5yldmGMOYQlYCZy5LFmIXUT6R2BIH48eMRWFMj2b5jF5UoXY7OnD5Ljg7zad2alTx4hzdDGB0bm9NfvnpFTZu3Ipj1wAKALataxVYUjbRp07CpvjjZ9+/L7gRJqFrVKgSTPwaWHTt3yWX7s4LBb5QOwclTp2T/8JGjwihgwoNnPYAVMrgc4F21VK9WgbuHh+yifL58ebXkcNvmzZuyYrdF0tZv2EgtWzYLl48f1tppy6bzlSvXyKTNz8+f23lf2HAc5+NziB4/foxdq3Lp0iVmMG7Qmzdv6OSp0+Haeop/Q44c9RWT9KNHj+jly5d09tw5wcCoYtR3PjBQJoY1a1Snrc7bpX6UP37ihBwGiwH8ojKxtQD+TlCM4bYBTKBw5sz5vVH1Kv0zQgBs2wnu1+FaAwYZjJiz845w5suoPOdgoTt16kC5mLSIqoBJr1rVltDnwdoAsqM6M8xKFAIfG4FwkRhQOWam7dlXoH79unTggIf4LAVduxbuvE+fPqOMGTIQ0oODQwgze5hNwL5gAMFDCwlmujpbtqx0iRVBrD7MwIpbcEiwKIbpePCCYPDx8/enIszKgBVAueVLHQkDh4urm5Qx/WNUJ9LhQ6dJZm4HzLovWEEzTTdtX+9ev9PoseNlRr9y1Ro6d/oEzZozlx6waQ8mHFM2SatXbS0jEBR0jYqxyRx+IFBaIFi4kI3viYeHJ8EP5KC3D5sQF9HCRY6yUKV2rZrktDlMUbBca+xPLVWyhEwO0Il37NxNVleOYxeFxk2as9LxStwEcJVwF3j4MMykHBoaKqxdZFdvOlEyLWtUr2kZo32Yu5s3bSLZTX4OY94w4YLbg8a6a8catfP58xf0jBl2Td6+fRfOcVxL/xhbIwyM6t6wcZMwIhkzZqRxEz745JqWR50J+TnG9tat2/o9Gjh4GN+jR6ZF1f5nikCCBAnYVWEFdeWFC1l4QuTETBj6Jc2HLarPOdxxxo6bQLNnTKPXJhPUx4+fCHP79GmYC1Dy5Mnp8ZMngkaD+vUoMbsWYeESBMwzzrdj5275rf4oBD4WAhEYOMxMnz17TmDg+tkPpEuXLkc4F8yQmgM6OnHMam0rV5RytrxqDawBxC8gQHxrwJiVLVta6Gh0gPCTq8ALITAzgg8dnLxdXNzEuXT2zOnky7P2RY5LpA78wcP/Y7588tuoTn8+FxgOsDqoFyY9LKDA7B0+QenSpeVO+Wsqzyth/f2PSV0X2GSLlxuSOnUqYQbwYkLyssJxhVk5JVFD4NTpM3SRWZPOnTuK2QKK+MgRw9g09UQYJKzg0px50Yl+/XUCmQBErfbYW8rOro74eGFAgeB5x/uDyQ8Y7gfsFwgzpa+fHz3hwQBO93+xSwIYA0ju3LlkG9U/RvVaOz409CW3K6EUwQKl27dvy4IkmFrxfzwrOvAVMhVr7dyyzVlf8YnJ04/M9Gl9gmkdpvtg0GBO/dSyjVkYMJ2ZWIEDO6hJ1qxh/QAU1bfv3kq/h8kF0vey6RX3CH2dpmRrx6nt54uA2wF3IRC6delMy1esCtfQqD7nOGjFytX0nJlYzYyPNJhHseAOYxvGFbgZwFwKadWiGf3SrqO+eKZg4eK8crsopUkTRlpIIfVHIfAREIjAwDkuXhpptd7MpMC5eSt31BD7AYNp6WIHGjFsKIW+DBXTKNJnzJwjjsi+R7zZ/JCMunQL+zQAlDg4cvt4e9Ad9pVxctoqAxqURzg3QyHE6iDInTt3qUOnLuS0aR3lypPfsM7de/bJ50jgNA0/hzlz54vCiDrGT5hM3p7uokyARXDevh3JNGv2XJowbgzBP+Ld27c0fOQo3aQCZcPr4EEpp/5EjgDYinbtO9NCdlLv1KE9PXj4gBV1V2FBcXSLVr/QCnbChy8kBkj4I5kOoJGfIXaWwOx9yqQJ8gkbMNNwoh7BzxlkMK/ctu/XRxTdBAniU6/e/SR96rTpYmLGsxrMpqDoilG9RvWAGR0xbAjNmjFVmHQMTqaykX97HnCVRUem6UbtXLJ0mdxrDGpQXLuxHxxMWtZk1+49NGPaFHn/zp49Z63oP8qDufXIUT92AbkYrh4M6FDs4Hfbf8AgyfPw9KJS7AO3f98ubtdbUUJd3Q6EO079+HwReMt9+qpVa5ksKCdWINOWtmQlK6rPOY6Db6S314d7P2/+AvGV9PY8IOPN9u07afPWbWJih4sR/DQ1AfO3k10i8Bmby5evyDPld9RHy6ZFi5aIVUJPUDsKgSgiEKNYqJhJrF6xlKrXstMVHpxPaGQL/i1Q3kA1Y5A3FcxcYF6x5juF8qCk4VDcqk1b/XCjOuG/gvqgKJgKBhKYRSyZRcHaYXatCRZQwEerYuVqkbZNO0ZtPyCgmdM/pHzYg3+jqXntQ07c3gOLjOfP9DnTrhjPLHytNIFLApi5ePG+ok4dO8iioD9GR9+B3rxerX5LW7CiaJ9pOyyVM02LrJ3wBdJMTKbHGe3jPcS7G1l/YHR8VNOxAheTTvjMQTZvWk+z58yTRRHAHCuGTQV9h6V00zJq/8tEQPt0iOY28mWioK76v0IgAgMXlYbcvXuXsMoH3/ICw6CJkXMyzGiWxLyjtFQGaTd49eqgIUPDZRvVaTQAWRsYzAdVMCYjRo7+5ANJuAuKQz8sKcna5X2JyhuuHWyA+XOmYWL+zIKVS5cunbCY8CP8pW1HrWi0tub1WjsYiwWiUx51RdbO6ChvqM8IH+R9DEEEiSGDBwjrrylvpvUaKY5G6abHqv0vEwGluH2Z9/1zueoYMXBa42HXj4tmsLh6Xdp9U9vPHwGskEa4Orxf5sz159T62NJOYIZPkMDHDStxTSePSLt2/TqF8IeLlSgEFAIKgdiCwD9S4GLLRap2KgQUAgoBhYBCQCGgEIhLCERYhRqXLk5di0JAIaAQUAgoBBQCCoG4iIBS4OLiXVXXpBBQCCgEFAIKAYVAnEYg3CKGg+8/PBinr1hdnEJAIaAQUAgoBBQCCoFYjoDygYvlN1A1XyGgEFAIKAQUAgqBLw8BZUL98u65umKFgEJAIaAQUAgoBGI5AkqBi+U3UDVfIaAQUAgoBBQCCoEvD4EYK3D4RtXI4eE/rqt9ldocRkRciK5oQYeNjjOqEzE4EZ/OXJCGvKjKhPFjJAxQVMurclFDIDr3IGo1qlKfGwK/tGll8R00amf1alUpbdq0Rtl6emR9gl7Qwg5C9CFCyD+Rf3L+qJ4X0S1q1awR1eKRlvsY1x3pSWJZgY95H43GPEuQRPe80S1v6Zz/dVpcuIb/GkNr54+xArd65TLyOXRY6i5ZojidPOZHfkcPkcu+3ZQhQ3pJx4cz9+xyJv+jh+nMyQCqwIHkNUFQ79F/jCAfL3eJYaql/9qtC7m57CVPdxeaOnlihIHAqE48KHNmzZCYkxfOn6buv3bVqqQO7dtS4LlTkrdo4TxdkRszaqSkH/M/Qgiv065tG/2YgIBjNH7saP232rGOQPHixWjvrrAYs1pJROoYNNBefiKiwPq1q+ighxsd9z8aDmutfFzc1qldk65cPE8BfofpiI8XzZw+hfLmyRMXL1W/pulTJ3Poqah3LXhXc/GHi7/9NgXdvHZZsDp66CDNmzOLMmXKqNc7g7GDQhIT+WPEMKk/usfiOsZxP4D+Dc8uorSksrGRavr27knDhw6Wfa0vwX3W/iP2Ja4p6PKFKJ82e7as1PP3sJjRpgchXvPK5eHjVEPZu/zneavXFdPrNj13bNwvzTFstzhtkPFHa3+OHNklNvcB172Shw84a2I0HiEf2Lvs3UVjR/+hFSdLYx4mIV4WFgJWrWJLzludyMvdlTBupk+fTj7SjbHP9D/6CcTiRVtmzZxGaCfOa/rMD+jfl65d+VP6FJQH0aCJ+TUbtQfj8PWrF/U63N32W20P6sfH7adNmUTLljhqpyM8/6btxzgKzCGFCxei7ds2yzXjucWzquTjIxD1Xtbk3Aj8fPPmLQ5W7iKpkyeNpyEcmLtA4WJ08KA39e/bW9J79fydjh0/QQWLFKfefe3lAdCqWbFsMSEuZuu27Tm4/A5Jzp4tG7Vq0Zxq1alHP1WqSnnz5qFKFX/SDrFaZ43qVWUQKFayLFWoaEu9e/YQRTJ1qlQcdHggVa5SnYqWKCMhiurVtZO6vmZmcMGCRVS4aEkJCda4UUPq1rWz5CFUWIkSxXRlNFwj1I8ICMRjhjMhdzym8jXHkMR/yPhxo2nxkmVUskx5sq1aQ8Kw4SWP6xIvXnwKOHacihQrReV+qkxnzpyjUX8Mj+uXHaPrA0sen58XYFWtZm06c/YsbVy3RleYevfpTxs3bY5R3TE9CBOQrFkyc3vqyP1DmDhtcogYqRqjrPUlaLv2f936jTIBTZz4/2J6ev04BEuvVLFCOGWtfj07mUQ/ePBQL6d2iDCZnDtnJi1bvpLq1W+sQ9K/bx/aus2Zx4cq5LBoMfXu1VPPszQeIfP3336VONzDR46iocNH6uUtjXl37tyhu3f/ojKlS+nlMAGYOGEs9ejZh8qUr0gXLvxJHdu3o0ePHslvpOF/vYY/U3BwCB06fIQVtkbE4VeknU2bt+JJwhDdGpSRJzS/9ehN2b7PLf8HDhoq57J0zZbag8JQINeu26DXUbFyVavtgQLar08vesHxwr/5Jrl+bVOnzwx3Dbt276VtzmGTeITZm7/AQfIvXrxIbZmVV/LxEYigwPXg2d/YMaMoS+bMhmfrwA+g24EDko/ZQu5cuWi/i6uE/IFSV7RoEckrztu9+/ZLHMgD7h6Ehy9Fim8knE3BAvnlhXjy5Kl+nvgJ4lPPPv0kJiLiD547d14ULr0A7xjVWaxoUfLw8pJg9bdv35HOH6xPAT5P4IULdOPGTYn16Onpxe0rbFql7OPFGTN2PPXgF1aTLVudqU1r9eBpeMR0i04sbZq0FMIB2iHBISHUuk17eviFDTyvX7+m9Rs38Sy7HMH0gmDzSxc7kO9hb1o4fy4hVicE7glrV68gf99Dwlrmy5tX0hG2Coz26RMBtGvHNlYsskg6WGuwVXNnz6SLgWdp2JBBwm77HfURRlxTlJcvXSxuDxvWrabzZ09Sy+bNaM2q5cxM+8r58G5CjNoFFh1sFBgmMNbZsmaV8hkzZhCmAKzZ0CEDJU37M8C+nzCPmzeuo59+qiDJcH8AE37u9HFhJNMwU28uDx8+ornzFtAdjrtcm1lMyMTxY0mbfMHMCMb3oKeb9FfIR7+zbcsmmSycPXVMrgmTRHPBYHTY21PYEkz0II4O86lhg/qyDxzAEidOnJgaN2pAC3mwx2CIeLGz586XMh/jj6V2oN5vv/1WruHUcX9at2alTHTxzhxw9yS7OrX1U6O96zeEMR7VqlYhb68D8h/PkqZYaoVLlSwh7I/2G2wSGELI99/nkOcKbArcYpImTaoVi5Xb3kwcYGJ+5KgvveZxRJNRY8bSJqct8vPe/fuUI0c22QcTZ2k8wnPa8/ffCEpS0LVrekg7a2PeylVrqCWTEJokS5aM42qPoqtBQZJ06vSZCGMaMrp07kDLV66S+Nu7d+/h2N9hk7ynz56J6T8F9wmQdMzyIRa5ZuWSRP5jdM3m7UF5MHO3bt+WOtA3WxLT9mBsb9aiNbm6ulkqKml4Z2rzO4lJCwR9061bt2T/+o0blOV9XyUJ6s9HQyDC3VvBD1HQ1SBazgwZ6FJQxeaSO9cPdPzESUlOlcqG7t27pweixoOqmRhsOO9a0HUph8HrJgelt2HzA5QqPJiLFy2gTRvWyOCFQn/+eZF8ff2kPAYF0Ml79uyV39ofozqRHvT+XCgbxO3AudA+03TT9ml1atujfO5EiRITzg0JDLzArN4PWrbaxhABBHIfNmIkLXV0oNmzpgu9ftTXl65cvRrDGmPXYWBqbFKm5AEjuyhX3t7ehCDY43iidPHSZSpRuhy5uLpSz56/yYVNYUYbHX1xZpPBFAwfFmamw2C+YKEj5S9UlHbu2k19+/aS8v9j3y4bm5Q8M+8lLBFYAwz4xZhxXrtuPXXq0F7KYfYMJbpJs5YyKOFeTJ85mwoVLSGTm9o1wxQlo3bBDOLOEzEwTMeYVYRyA0H9h48cldn2zp27JQ1/GjVsQDDrVKhUhXoxezaJFTDITxUqyCBSutxPNHLUGFEYJcPCH0wIYb6BJEuWlJWqMJZ30oRx1KnLr8LUp0ubhn7Ml48SsBtFTlZGpkyZTqXLVRQFDIqNqaRLl5by5MlN5ZmlBxMMtwkMhi48OGnXg2OOnzhBCVnJTp8uPR3myZ0m6Ov+GB12HVqatrW1rUQwWeI/TF3WxKgdOCYFm11nzZ5LpcpWEKWhVs3qUtW69et1JRN9FBQvTJAhMLO1at2OypavxH1YwnBuKciHQoeJgSZJk/5P8MHvtatW0MRJU6lshUpSpnatj+eDp53v39xCIcO9gLsClFLNdefWrduESdCIYUPYGjSRhgwdIc0yGo8yZczEuCWgIYMH0IJ5c2j3TmdWvtLKmGI05u3es0fGLShuEDBt23fskn3cgy6dOtCatevkt/YHk4ymP/9My1eskiS8u1CswGJtZ9PrjFmz6X5wsOSl5Wd9wfw5tGn9WpnAaJM+o2s2bw8qQR2Y9K1YtoR8j3hTjerVpG7tj3l7tHRr2w7t2srkNJRZOsiIP0YLZrNmTJV3bObsOdYOV3kxRCCCAoeZr4PjYqpSrSZdvnyZdm7fGoGNy5w5E128eEk/JUwfmiDwtmnwbfM8egcKNz2za4HUvGUb6YAxsGksAerBAwTlcdCQYTIQaXVrW0t1Is+kGdIGrR1G6Vp95lutfswgsrD5RMk/RwCdGBSVM6fPCtsBZQQMx5cgmN2DUVu/ZpWwRC3btJPLtq1ciZInT0b2PNiDxa5qW1lMbuXZR2Xt2vXCXLu6HWD3g/7CzmFQgIkCzzXMQyivMS2nTp+WdDBF165dp93vJz7w5YQrgiYnT52SXShcGBQwYUJ9MPNq5YzahQMRCB6C8vnyhTGDUHjWcHvBmsNlQhPU8+LFC4IrRfPmTUUBy5nze0J5mATR18D8h0mVNfmKPvQvWjlfPz+CT1yjhvWpZ+9+dPrMGcm6fv2G9BkYODdt2kxog6mAncfg0uTnxjR61EiKHz8eoU14PkuVLMltTCaLCJw2b5E8HIsJSFQEbiVoF/6b4mDpWKN2oOyVy1cI+c94krtl6zY2nVaUKvbtdxXlE37ADerXoy1bttGrV68lr2//gfTjj3kJvngZM2bkcrkkPbI/sLRgQC/BE3U8h//7XxK5P5Ed97nmwxca+MCaIuZHZr80kzfa/PzZc7p2/bo8e9qYYzQewdT46NFj6tLtN7Kr11DeFbjZQLQxAvt4f7SxBvdjB0+uGtSvi6xwAgbZ2+cQebGbkam0ad2Stu/cRY8fP9aT8S6BubrEzwJMshpT1rhJC5nYYfIDH/SWLZrxc2p8zZbaM2bsBKkDExj7AYOpT68wFlo7uaX2aHmWtmAkf2nTmhwXL9WzwYZjgn7y1GnBHD6uSj4+AhEUOMxGYYI5csiLB5fk4rME+thUnj59RhkzhLFUsNtjZq6t8EKHgBkEJPh+MGXLlpX3wmaAGVhxCw4JFsUwhLcQPPh+/v5U5L0/FAak5Usd2TSwUWbFUsjkj1GdSIcPnSaZuR0h3I77Zumm7dPKaluwBa9evyIMApAUKVKISVbLV1tjBB4/eSLKiGkJDIZIB/tUrmwZGcwXOCwSZihNmjRUu1YY42N6TFzc92clCj5U8OvC+/Xde4dePPuYCMFV4MTJUzSATTUYGOBn9fLVSx0KMAfPXzynZ/zeaQMFlAowKkZKsFZOr8TCjlEZo3ZZqEKS8M5CUTMX1IO24/rwf+DgYTJwgtV4bqG8+fH4XbNGdfIPCIiQ1b5jFxo7fiKbvgrI4gIwK+aC84ONMhWYB+FQ/vgxT1SZ3cQgCYGyBBa0fr26VJwZv337XES5DA19QcV4MNIkZcpvxb9W+226PX8+kHYwA4n/mn+wab7pvlE7TMtgH9egsY6wYsCHqz778ILdXLs+zHyKcsuWLOIFH5lEkT7Cynl05OXLV/o9Qts1Jig6dXwuZWHmxnilMVZQpjVFDYodlLely1ZQh05dxewIxQhEhaXx6PKVK6wgv6In3IdBUBfGKWtjHsqtXr2WWrdsgV1dwKZhQcuYcRP0NOyEsXIdaeHCRXo6yr3l64CfWrfuv4s5siCzilDUXnG/AOUOAtNmSTaNW7tmlDNvT2JWuDRl0YNdin78MZ+4dKCspfYg3Zo0b9ZE3JfASkKgC4BpBMZQ6oaO+IP68/Ur+fgIRFDg0GE+41kKGLh+9gPpEpt4zAUzZu2lAGV6PjCQZ7oVpZgtswL+/mEdrh93vLa2lWRQKlu2tCx8wKwbnVuFCuVlYIf2jsHdxcVNys2eOZ1fFH9a5LhEPy1eMphIIEZ1opMvW6a0DGhQGArkzy+zYMwAYGoA9Q2fBrAb/v7H9Lq1HTiBwl9nIZuoNMnLppYrV65qP9XWCgIYoDEI4h5A0AnBTwksAc9P2VS+VtgD5KEjwiBuPjFAXlyWkJAH0lEPGzpILhMsT0p+VrGIZ8/evaIEQTHbwWyQ5uuFFavADozMbWbX8K5A4MB+jhUGbXCRxI/0x6hdRtXv5fcZTBgkF7tXaIJ6smbNQnv37pNrRF/x8OFDfv9d2ZerlgwaYNtNV5pqx0I57dyxgyi8O3ft0ZJlCxeN3Tu38YKQs7J4CmwX3nfId2m+E5NsggQJqAb3ZWAwTaUEv+dgysC4YYKXLm06is8LTSBYuAQfPviawcQNgZLUqWN78d3F765dOuv7+B1TsdYOWDigKOIa8A6hb9RkHQ/qMH/BhxJmbAgwhGIBVhZ9MfyNtGvSjjvP7iDfs6UD7x7+58wZpvDiHYQC84BN63gOoaQ8efrBL1k7PjZtd/HzAoYVUoXHIw2/+XNn6YwsTNBnzp4TdtVoPMJzggko2CRMrMDmoi5rYx7OicU38Rhj7V0AowVFq0u37hHY3IYN6ok7kmlf2LZNG331PsZH3F9tHN61fZssQsB5KvICP7g0QIyuGXnm7flj5HDdxI7+Gq5D2vNuqT2ow0gwNv/2azeaP99BL4LJHIgT+OtBQJpcuPCnnq92Ph4CCcyrMqVBzfO0397ePlS0SGGZDSINNCycsUcMG0qhL0PFNIr0GTPniOkIdnawMXiAIVDi0Nn4eHuIc7CT01YZzKE8wpcDnVBdu9pS9s6du6zJdyGnTesoV578hnXu3rNPHkq/Iz6UiP1k5rCzMV5AyPgJk8nb010GO/juOW/fLun4A3ody8T/+usv2rxlK803mQnBV8br4EG9rNqxjsAgZlj68NLySRPHScHJU6fpSlqLVr/QCnaiB4vw9t1bVlj2kR8r6l+azFvgQAG8OKEIvz8OPEkZPMiesIw/IbNYyINgte7KFUuoTauWMoj37B3mTzV6zDhyWDCPnvIAC6a4bbtOnwQ+o3YZnWwJt3cj+7LWY6XS08tb94fF7L4Us9r79+1iluCtTOygULkdcJdP+2AxhLuHlyj+Wt3AAYsvoGRAQWnUuJm8m1o+tmBX3NzcZSECHLrB+OOdLlyokCguE8aNlona/Xv3CSvjTAVt6tK5oywcwcCGYzU3CXcPTykKxVOT0WPGiy+VL/crME+j/xg1aqyWHW6LvqRly2Z6GlbhwQSKyQquSROYtbt172GxHVBK0aahgwdR5UoVxb94Jzu1awJlFQPkOrZQaIKJExZaYBEDzK/PX4Tq16SVATvizGZrWFbOnj2vrw5H/mD+ggAYopHsu5cgQXzqxSbp2CxwAcLnOrBIB2Y8mMwhYL/gn4jPG0EJg5kVYjQeIQ/+jqtXLJVnDvfNecdOJBuOeZLJf1avCWPhpkybLp/DAvN3wHWflk2NmzSXSRn8Vfv0HaCnY2fZihU0Y9pUct0fdt+nzZipM2a4luXsXpSA35MrzBDi6w8Qo2uWTP6jtQcraafx6lGsosWCRfQl4ydM0orJqlvz9uiZFnZgRbnGk4Cz587puWCNhzHrBoUZq8rhzqC1Uy+kdj4KAjGKhQrzFx7q6rXshL7VWgKTq0bNamnYQnnDg4IbaypgxN6+fadTwqZ5pvvw94DJoFWbtnqyUZ1YQQeKGYqCqWA2C6dkmKeiIpihwU+rYuVqkbYvKvV9SWVgHsKgYn6/gQFmk8hT8gEBmEFfvnwZAS8845YYNuCL9+lTi1G7jM6L8hgYzQXvXrx4X+n+Wlo+3lVLplctP7JtGJP7tX5OLLgaxewC+qXI6gaDpbEO2nnA+rnydyzxqRuYpUwF5d8wO6qZr0zz/sm+pXZo9UV2DVo5bWutrqiUie75tDo/163R9YDVwvtmLkbjEdg3HGPp2TYa8/AsYbFEn35h38E0P1dUfhu1E8ca5Rlds6X2GNURlbZFtYxRnxDV41U56wjESIFDlTBvpP4utXw/zfop/nkuzJuY/V6/Huav8s9rjLwGKG8w45qbYCI/UpVQCCgE/gsETBW46J4fbNdAdqFYw6t2YR1QohBQCCgEPncEYqzA4cKwvD+umsHi8rV97g+lap9CICYIgGXIwX5eMHVFV/LDkZsZxLjan0UXD1VeIaAQ+PwR+EcK3Od/eaqFCgGFgEJAIaAQUAgoBOIeAhFWoca9S1RXpBBQCCgEFAIKAYWAQiBuIRBuFepBC4F449blqqtRCCgEFAIKAYWAQkAhEPsRUCbU2H8P1RUoBBQCCgGFgEJAIfCFIaBMqF/YDVeXqxBQCCgEFAIKAYVA7EdAKXCx/x6qK1AIKAQUAgoBhYBC4AtDIMYKHJbsjxw+NBxc+JCkJcEHEqMr+EinNTGqE7Hc8OFFc0Ea8iIThD9B6BwlMUcAH261JLgHkd1XS8fFlTQjXGLj9RXi2IyFCxWMjU3/V9oc03uNj6QjIk1UBO+Spb4uKseqMgoBhUDsRyDGChxClfgcOiwI4AOaJ4/5cbiYQ+TCXzJHwG4Iggfv2eVM/kcP05mTAVSB45Bqgq9Aj/5jBPl4uetx2ZCHOH9uLnvJ091FQpCYd1BGdaIzmzNrBp0IOEoXzp+WEFnauTq0b0uB505J3qKF83RFbsyokZKOkD7a/+zZsnHc1bwS1Fo7Xm2jhgDiSHrxQhh/fg42b1wn9x9HIl7exAlj6dRxf/7vRwvnzzUMwh61M8WuUka4fC5XgViF+Fh2dKR6tapUk+N0QhDyB/cW7xDCBQ0aaP9R4oVGpz0IoI24odbE97C3tPH8mRN0MfCs/s7j23EfS1q2aE5HfLzosI8nB5h3pIIFwmK0RrV+xCtFeCVrgjip8+bMooMeboL7lEkT9D7N2nEqTyGgEIhbCMRIgfuJA9EjziiCAEMQVw2xzgoULkYHD3pT/769Jb1Xz98loHzBIsWpd197mjblQ8y1FcsWS1il1m3bSxBlHADlqRV3gLXq1KOfKlWlvHnzUCUO2GsqRnXWqF6Vcv2Qk4qVLEsVKtpS7549RJFMnSoVxxUcSJWrVKeiJcpwUPt0eqDwr5kZXLBgERUpVkr/v3vPXho7fhL169tLzW5NgY9kv2LFChJo3bZqDSpUtAQdOnyEZs+cJkcB/0wZM1KN2nZ8b6pwCKOXNGvG1EhqjBvZ1nD5XK6wTJlS1KFd2xg3JzHHHm7P8YrxHtWt34gypE8vkVpiXGEMDrSxSUmTJoyzemTxUmWljdOmz6Jde/bo77wWKNzqwVHIRF/Vk+NLdu76KxXjvmY9xyuFcvWxBZNcxDYtXe4n7tNKU+bMmahrl04f+zSqPoWAQuAzRyCCAocAt2PHjCLMyo2kQ/t2HJD6gGSDScudKxftd3GVWI5Q6ooWLSJ5xXm7d99+jnf6lg64e1DGTBllZg7zC2amCKz75MmHmI7xOZByzz79JOYcYg6eO3deFC7TdhjVWaxoUfLw8pJYp7dv3yEEqoaJpwCfJ/DCBbpx46bEXfT09OL2FTatMsI+AtvfuXOXypcrGyFPJVhGIEO69HIvX716Lc/BAgdHPSRRi+ZNacbMOXIPEIh80uSpwnAamdwtnyF2plrD5fvvcwhDDRYa7giIcQqB0nf6RADt3L6VwN6tX7tK0pcvXSzlNqxbTefPnpRg3WtWLWdm2ZfWrl6hs15G9YIFHzd2tDBPO5y3ULasWalxo4Y8WelNtraVdAWoTu2adNDTjVz27pKg83Jy/gNmCMwV2qG941qetkXs1rUcjqp69WqSBBYK/ckx/yOE+MJ17eoI647rmz93tsQsRUGUGz50MG1x2iDXZlenllYlDeAQV2C1wOr+9FMFSe/WtTM5LJgr+KFdqzg2c6rUqWjvru3St5gGDh/CEwhrrJajw3xq2KC+1JsixTd03P+oMMSwKvTp1VOCxCNQfM6c30sZxJtcutiBwOiBTc6RPYzBa9iwPm3bvoNOnDwl5TAZ9PY5RJhEQgYPGkB+R3zEGoF+VhNMiMFg7t7pTE1+bqQlCzaWzpOe37UHDx9KOcT0HDhoKB0+clR+G907THxx7xAiELj17PGblIclBRYUCMy3eBYhRteI+wQ2HeVwT6pWsZXysJSMHf0HW2F85B7Y1alttR7JVH8UAgqBf4RABAVuxcpVFHQ1iJYzQ4aXVXu5Tc+Sm/3Ejp84KUmpUtnIbFAL9Hs1KIhS2dhIng3nXQu6LvsILn/z5k2y4TwoVU85oPniRQto04Y10gmi0J9/XiRfXz8pj84eCtQe7gRNxahOpAe9PxfKB3E7cC60zzTdtH0oV7BgfmrRrKn8N/U9CQy8QPCHUxI1BDY5bRZFHR17u7Zt5CAMYDB5w7zlHxCgVwRl+uatW5Q7dy49La7uGOGC6127agVNnDSVylaoRPAprV0rzAQ4dPAgGjx0ONW2q0+PHj2mFJwH+eab5BTy4AE1adZSBu3Zs6bT9JmzhfFEUPjaNWtKOaN6U6dOTe48kQJTduzYcVbeGhDaN2XqdHJ1PUD2AwfLxA1MVsPGzciO2bRf2rQSJhtBu7sz81O9Zh1q16GTYVB3KAE4Zteu3dKW5MmT0TuewJUsXY4Sfp2QJk0cR23adaAS/BvMXb26dfRymMw1aNSEevbqy6z5IElv1LABlS5VkipUqkK9+vSnSePHSnoSVqIyZcrEWLSi2XPmUas27ej+vfsSyB4KFLDSzJcNG9STCaYcaOGPi6ubYIGsalWrcN92QiaRadOmIS9vb7EG7NvnQl07d5Kjx7FCevHSZbkGF1dX6tkzTBkqkP9HsUCYnmLkqDF07/59atb0Z+nPqtaoRVVr1BZLQyae0EKGseI6aMhQqlm7Lv158ZJ+uNF5ZsyaTT83bigKLfqsoGvXpN/EpNvSvcOzBYW3SrWa1P23ntIvQkGDIC9hwoSyHy/eVwTzLMTo3LifoS9C5ZkdPnKU7qrSpnVLeZ9hOWn1S3v6Y+QwUYKN6pGTqD8KAYXAP0IgggL38OEjcnBcLC/75cuXhQUwZ+NA2V806WhM/dTevXsnDIzWKvM8ekeUnk0s584FUvOWbaRzhA9K4cKFtEPEtArlcdCQYRQcEqKnazuW6kQeTwJ1MW2HUToKJ0+WjFm+tPI/1fuZMtKhYJhfN9KVWEbg5atX1LR5K/r1tx5UtkxpYYUwO48fP55FU/Tfr/8W3zjLtcWdVCNc8GxBQSjB7Id9/778zCcR5QFsTdYsWWjHzl0Cgr9/AL8y/NK8l5OnwtgdMC5gMzHhwbMewAoZXA6M6tWOd/fwkF2Uz8e+nuZSrmwZYXeghIMlev78ubQL5sEjR/3oEvcJYNRPvJ/AaccvdXQQ9gWTslOnz5DjkmVaFrm6HSAws+XKlaEjR3yl70C9y3myWL9eXb0cFCcIWHsoGFBwbCtXEuYcDFJzZnKTJUuqM2E+zG49fvxYP950Z8NGJ3GVwCQByu3584Gm2eH2t+/YRaVKluS6k4kfndPmLXr+CW4TrAEIcF+5ckVJR5ugyOC+wfpQ1bayPOPww0VZS1K5UkXasmUbPXjwkG7duk3OO3ZI+6BUoz/duWuPHAbFWhOj81y48CeVq1CZlixbTr9170ZHDnnJM2Pt3h3le4fJK/pTXz9/7RSGW6Nz4wB3D0/9mdOeIfg3b9nqTM94Yg7zbvUadfg5eSP3zxJWhidWGQoBhUCUEYiwXBALENq3/YXq169LBw54UMky5WWGZ1rj06fPKGOGDJIeHBxC6ITAsqBTxgCiKV3B94MpW7as0uljBSh8Y4JDggmKYToevCAYfPz8/akIK3DovFBu+VJH8R/BzNhcjOpEOnzoNMnM7YBZ9wXPFk3TTduHsl4HfZjFmKUdpm9TpEhBz/h6lEQNgVIlS9DlK1eFme3YuZsMhJh9w+/oOQ+gUNC1QOFQmLNmzULnmeWM62KES+Mmzenly1fiJgAM4C7w8L1ZDGw2lKTIBO+OJTGq11JZ8zTUiUkc2gPB9s+LFylf3ryiCJmX136369hZZ8+1NPPt8+cvZIDX0t+9facvdNHStC3aAWYIWyg8WnsGDh4m7dPKGW03bnIimJqhUGxy+qCQWSqPMmDSoEwWL1aUunT9YN7Uyr9995YSs7sIBG3CBPbu3b/kNxg/TCqDgq5RmdKlxGwqGfwHiufKlaulb8R5NHnL156G2ekE7DbyMvSl1KnlaVtL58GCILCE6Bt37Nwt/2GihkkUyrzRvTM9t1a/ta2lc5tOnM2PRV/5in1bNQHrCDGqB+lKFAIKgX+GQAQGDpT8s2fPhYHrZz+QLDn4YianMWYYbM4HBvJMq6K0xJZno2ANIH5sNrO1rSSdW9mypWXhAzoY+MlVYL8Pm5QpCT50mDm6uLhJudkzp8sMcZHjEqkDf9Bp/Zgvn/w2qhMmOjA/iRMnlnoL5M8vCyhOnjpN8AmC0oBPj5TnmaK//zG9bqOdvHny0NWrV42yVboZAnbs24RVxdrnE3Bf8ZxAMID+3v1XGazh54VBbfeefVYVArPqY+1PI1xg9sJE5gGbRJ3Zb8rXz4+ePH0q5ra/mMGAIgCJrpnZqF5rAIayApEoUZgZbQebPrNmyUxgt9Cu23fuECZprm5u8p5q/lzRbRfOv2fvPnlHMeEDW9WoYX3y9vbRmwalHgIfWShM6HvAhiF9Lx+L9qC/0RRd/UDewTUkfH8NSMexD0IeUKdOHWjz5q2mRS3ug7GDv+EBd09eZPNKL5OF2VAIfPdcmEmEoE0pue9Ce/bs3SvPMRTudes3UIP69Uhb1Qp/vTq1a8mEdsu27dSATbl4L8D01axRjQ7ytcNfN+RBCDOAJaRuU1wtnefNmzc0cEA/at2qhZTHH/iS4l0zunfwV65QvqyYRzHR1vpSHAvFWDsn2ERNLJ3b2qRiB7OYtWvVkvcf17h/z07ph6Nbj3Z+tVUIKAQiRyACA+e4eGmkR6HTLVqkMG3d5ixl7QcMFqfeEcOGUujLUDGNIgOO62tXryDfI97SaXXpFjazhRIHk4SPtwcvFrhDTk5bhc2D8gjfDiiEde3CnGCxmKBDpy7ktGkd5cqT37BOKAToZOEknIh9a+bMnS8KI9oxfsJk8vZ0Zyf7J8IQOW/fjmSr8gM7LA/xOWy1jMr8gMDYcRNkxR0+4wIG9j4zoiPYRwaC7bQpE8nzwH5RsP/v/5JQ8ZJlPhwch/es4TKYV27b9+tDI0cMEyamV+9+gsTUadPF2Rx+psFsJo2uGNVrVA8UiRHDhsjK4B7sf/bH6LFyfpSHibJTl1/F9IdVlXBSd/fwEv81o/qM0p+ygjp33gI6dNBDFNdANgXaDxyiF4czP9gl+L72HxDmA+fBi45KsQ/c/n276M2btzI5hEnWXGC2O3PmrCy+qFi5mpgyoZRBSbx2PcwP1/wY098wC0KgcJhKxw7tqEihQrIAA76HEAeeXA4eZE/ubvvZr+9rmrfAQdJhis35fU5Z/HGD/X3h66ldB1bnN2vys3xiB0rYOsYSpmII/CCxUOXY8RN0jRV7TYzO07ZdJ5oze4b4n4G9Q38JXzvga+nehbAiCyzweZ/TjJHp4qE1a9fR3NkzRfG8wIu9NDE6t5ZvvoVpHp9QQf/7hk2nDg6LpR+Ibj3m9arfCgGFgDECMYqFCkfl1bzqq3otO+5U3+i1w9HZkk8KZpzoXMxpczBiMCUY+Y1oFWNWC2fmVm3aakmiEFqqE74zqA+LJkwFzBBMMjDzRib4nlT9enb8OYCIppTIjv3S88GWAmdtUYspHrgHYAC68ScPfm7ciKpUrxklc5hpHbF13xoueGbhp6UJGCowc3Aq79SxgywKwsAcXTGv19rxYMRw30zbYel4MNyW7q21us3zLJ1r86b1shjBixUdXDd85kwFz46ldNMy2Edfg4kaZOCA/hTC7CF8eiMTOPO78jcs4TKi9Wl/3b5OGbNk5/OymZNXe5r3X8DCUjruNVgoUyy18+MY9E/mfR6uDyZK834LxxmdB+dAW83rwjFG9w7txapeyISJk2WLP1DqTJlHLcPo3Fq++RbnfcUMpoahlh/derTj1FYhoBAwRiACA2dc9EPO3bt3ZUaHDhIMgyaWlDfkaR2qVk7bmnfSWrr5FrNZrNIyFaM6LXWaOM5Sp2lan7aPVVh9eveUlXZamtpGHQGYWYwGeNwDPCMT+TMiYATAxH4pYg0X82cWrBy+V/jg4QP5FM4vbTvGCCbzeq1VggHXvLz5bxxvdG+t1W2eZ+lcWhlLygjyjNK147Qt+gX40Y4ZPVJMvlWqffgciVbGfIsFBgNZqZkzb34ExQNlja7ZKB332hJ21uqydn1G54EyZiSWzm9UD+qwpLwh3doxyDcXS+dFmejWY16v+q0QUAhERCBGDJxWTTF2+NUc07W02L4Fu4jZaFTMLrH9WlX7P18EfuCPUoMVwvtlzvx8vq2Oecvg94Z3Dua+fypg+OB75uHpGaVJQv4f87HbReIIfRm+x+fB5uK4hn+2rFkF4ivKx/efPmrqeIXAf4rAP1Lg/tOWq5MrBBQCCgGFgEJAIaAQ+EIRiLAK9QvFQV22QkAhoBBQCCgEFAIKgViDgFLgYs2tUg1VCCgEFAIKAYWAQkAhEIZAuEUMBz1cFS4KAYWAQkAhoBBQCCgEFAKfOQLKB+4zv0GqeQoBhYBCQCGgEFAIKATMEVAmVHNE1G+FgEJAIaAQUAgoBBQCnzkCSoH7zG+Qap5CQCGgEFAIKAQUAgoBcwQ+ugKHb1eNHB7+o7vmJ/0vfiPqgyXBRz8tBWlGGvI0yZXrB/4qfnvtp9oqBGIVAkbPeay6CNVYhYBCQCGgENAR+OgK3OqVy8jn0GH69tsUdPPaZQrwO6z/37p5o5zYdf8eOnXcX09HGYQPGjNqJAWeOxUuHfFRLaU3a/qzfhHYsVQngth/9913tGeXM8cBPExnTgZwUOdychw+9jln1gxC7M4L509LXEGtwg7t20o7kLdo4TxR5AIDL3AQ6LwcYquuVkxtFQKRIlCa43ji+YMgjBjCtH0qQWiljevXSPV41xCeydpz/qnaoepVCCgEFAIKgU+PQLhVqP/0dAhGffPmLdq334UQkio+DyBFipWKUG1iDjbfngPU+/r6hcv7mlmyBQsW0fSZs8Kl44voltJNCxnVOW7saAkSXatOfapiW5mDqk+iYhxIvUb1qpSLv3ZfrGRZ/uJ9cvJyd6Ot25zp1ctXNHTwQCpf0ZYDiYfIgFivrh1tctpMY8dPos2b1tE25+1x7uvspliq/Y+HQFgM1ERSoY1NSpo0YRzt2r3n453ApKYfOaLAxUuXRHGDMofwTLVr1bD4nOM9VaIQUAgoBBQCsReBCAxcj9+709gxoyhL5szhrmrh/Ln0a7cuEiw6XIbJjw7t25HbgQMmKf/9bvGiRWjvvv2E+IQH3D0oY6aMlCLFN1SsaFHy8PKS4Pa3b9+hM2fPStzJAgXyU+CFC3Tjxk2JZ+jp6UVFixaWC/nrr7/ozp27VL5c2f/+wlQLYhUCOXN+T6tWLKVUqVPR3l3bpe0I/L10sQP5HvYmvF85smeX9LOnjlGvnr+Tu9t+OuztSXZ1atH+PTuFtca7aUlwPJRDMMzr167i9zcTDeGJiNFzbqkOlaYQUAgoBBQCsQeBCArcipWrKOhqEC1ftpiWLXGkkiWKy9VMmDiZbFKmJDc2f4LVMlfwUCg3+4kdP3FSv/p47EfWollT/X/GjBn0vKpVbPX0IkXCFCRkFiyYX0+H+VQTW9tK9MeIYfJ/QP++WnK4bUdWILUyTZs0ljybVDZ0Lei67L9+/ZoZwptkY2NDSA96n47MoKAgSU9lln6V01NxeU1gSoU/nBKFQHQQ+PPPi9SqTTu6f+8+Va9lJ4eOY2Xs4qXLVKJ0OXJxdaWePX+TdJj9Pb0OUsXKVcnroDdNnjieGjdtIcyxHcf4tPTuDRg0mC5evES9+9jTvn0uNHvufJo5a47hcx6dtquyCgGFgEJAIfD5IRBBgXv48BE5OC6mKtVq0uXLl2nn9q0yYCDw8eix43nwqUM52bfMeatThKvJzLN+DCKaYCFAunRp9f+JOWC0JqlTpdLTv0meXEum5MmS6empuIwmMPn4+vnJ/2PHT2jJ4bbnzp/Xy2Bg1MR0kYIEpn4XlsPN0wXpWtBqo3QUvnnrlsUBVK9I7SgEooiAbeVKlDx5MrLnCUnuXLmoKpv4tWf11KnTUsuRo7506PARevToEb18+ZLOnjtHefPmiXAGvLd4/wKOHaPsObIRjnv69KmUs/Y8R6hIJSgEFAIKAYVArEAggg9chgzpqX3bX6h+/bp04IAHlSxTnoKuXaPChQtRh3ZtqVSpErRmzXrq0q17hAt8+vQZZcyQQcoj8w2bLadOnxmhHBLWrFsfwQcO6V4HfSL4wCH9/PlA2rFzN3YNxdvnUIQ6g+8HU7ZsWekSK6NYiZchfXoKDgkmpGfPlk2vKzObjPe7uLLZNDRcOtiO4JAQvVyKFCno2fPn+m+1oxCIKQKYMGDCc/fuX1LFiZOndAXOtE5tYmGaZroPs+nAAf3ph5w52UdzPRUqWIDy5slDkyZPNXzOTY9X+woBhYBCQCEQ+xCIoMDBbPns2XNh4B48eKhfUfOmTVi5Okh9+vWnV69e6+mmOzA3QtGDwvdvSHJm7lJ++y3hvEbiFxBAML+6uh2gsmVLyyILsBX+nN7z998IrOD/eHVggfz5ZbEDrg2rV8EcBgcHU3keHFeuClvZh3NgYNy5a5fR6VS6QsAQgdDQl5QwUUI932nzFl7sk5IWOS4hfObmpwoVxFdTLxDFHZhbQ0IeUPt2v1A/+4G0Z6cz2dVrKEdjgY6l5zyKVatiCgGFgEJAIfCZIhBBgXNcvNRiU+0HDraYbpro7e1DRdmfDas5P7Z0/7UrtWzZTK92/gIHZi7uUsMG9al9xy6SvtTRgUJfhuplOnbqSjNmzqG1q1eQ7xFvWYChMYe79+yjunZ1yO+IDyXiVbFz2GdIW5k3fsJk8vZ0pydPnohPn/P2MKdzVPwDO6MP8Tmsn0PtKASiisC9e/fozJmzdNDTjf3bqrGrwhIaPMheFiskZHZ4Hj/TMZWCvPjmxMmTlCNHdvGr0+qx9pxrZdRWIaAQUAgoBGIfAh81FmqaNGloNa+0g5P2mzdvPjkaUydPZBPURZq/cFGk50rGvnXwCTI3R2ElID63gAUOpoJvaCVMmFBWqWrp+IZX/Xp21LlrRPOxVkZtFQKRIYBnEZMDTcACw7/N/NnU8j/G1ug5/xh1qzoUAgoBhYBC4N9HIP7/JUk68mOd9tmzZ2KSrM7fWPNis86nFnzrasMmpyiZnV69emWxOVDe8IkRc0GaqVKH79pNmzqZTcj29PjxY/Pi6rdCIMoImD+LeAY/tRg955/6vKp+hYBCQCGgEPg0CHxUBk5rYrH/b+864Ksovu4RFPzo0qQHpEuRDin0Ir0XUUGqgCKd0EHpTaX3GkIvQuiEEAIECCSh+qeX0AQ09JKgkG/OxH289/JeDDHBlHvzy9vdmbkzs2fL3DlzZ6dMafj7BxiHCWJLdjG5YuSuXQ//JEmCOCk5CUFAEBAEBAFBQBCIlwjEigEXL5GQSgsCgoAgIAgIAoKAIBBPEIjwHbh4Um+ppiAgCAgCgoAgIAgIAokWATHgEu2llxMXBAQBQUAQEAQEgfiKgMVnRA74eMXX85B6CwKCgCAgCAgCgoAgkGgQEB+4RHOp5UQFAUFAEBAEBAFBIKEgIEOoCeVKynkIAoKAICAICAKCQKJBIMYNuLRp0+L74UNNAHJxbq5Bakv4WQ5bwmWF7EnSpEntRenwyHRtKUa1fgULFkDnTh1sZSFhZgjw+hgLspsFy65CgB+Hjo7wEzZc4i6mhWuo5v3oo5jOVvITBOIlApG1BW96Qmzz7L0H7bV7b1qGpBcEYtyAW75sCQ4eCl9qqmOHdjh35hROBB7B/LmzTIZc+XJlcfKYP/yPHMLuXduRPXs2fSUyZ86MHds8EHDkMH49GQg2MIZ81qoFvL12wcfbE+PHjTaCTdvIdPldup8mT8SSRQtM6bnzJvU7d+48ihb5WK3E0NAiDzkIR4AfOp41YxoO+OzBqeMBmDxxvOl6e3nuQOnSpSyg4qLr1atVtQhLqAc8953bNqv7+hA2b9qARg0bvNGp5lPLY33X/Ru7OgUK5MeZ08f1eqrmifi81KpZwzzIYv/LL1qjTBnL62KRSrGCwgAAKk1JREFUQA4EgXiIAN83K9yXRqh5ty6dcev6FbCtsBZ7bQEJifbt2sJzx1ZUKF/OpEYDrV7d2nB3W4KePbqbwtmBnTFtim7zzp89DS4BaYi9ds+Il60g8KYIxKgBV7lSRb2e6C7P3ciUMSOGDh6IajU+RelyTmpx+KymhmvSxHEYMmwEipcsgwMHfNG/b29d7149v9MLyn9Sqix693XVRhcj2GMZPnQwWrb6HJWr1kSJT4rDsUJ5i3O1p1uzRnX069MLz0NCwIW9DYlO/caMm4h+fXvZ7VkZeSfG7TfduoBrfTq6VFbX2xG5cuVEV/XCpLyv1ppNksTyVuMqGv/EpiYEHMmeuS9dhGkzZqJE6XLgWrwTVAeEBm9MyfnzF3Dn7u+oWqWKKcvChQshR47s8N7rYwqTHUEgMSDA9w07/7ly5rQ43fbtvtLH1sxYZG3BzOlTNcFAQ85c+vTuiU9r1VRtAfCeGbNeW61CVFB1qMqUd0alKtXRu2cPE0Fhr90zz1f2BYE3QcCyVVWaPb77FmNGj4RDrlwW+cydPRNspLmOoz3p2KE99nh76+jianHtc+fP48aNm3j+/Dn27duvWJiSYMNdqGBBeO720ms/0tgz2JmyZCp2eeqlrdjw5MiZA+nSpUUa9fAkS5YcDx891Gus3rr1G3LndrCohj1dlvPZ523g5bXHIn106nf37l3cvn0HFV2cLfKSAyBb1my4/+CBhoLreg4cNBSH/Y4kemiqVqmEq0HXsHXbDn2/894dPXYCCuTPr7Fp2KA+Du7fi9MnAjF75nRwzVIKO0NkMrdv9UDLFs10mPEzwLUf/A7ux4a1q1C5ciUdvGrVGjRr2thIgqZNGmP9hl/0cnBc4H7blk26nPVKh8fmwgaNbIHRsLFOP6tl4yisz+KF83D0sC/4DpAhV3PkZD+uIrB9x060afOFqXrOTo74IzgYf/wRbAozduy1BYz/sm07jB4zHg/+frcZOhMmTkaPXn3BkRlzKVO6NHz279draP/22238+r//oWSJTyJt98z1ZV8QeBMEIhhwbsvcEXQ1CEuXLNRDjqR9KeMnTEKG9OmxR9HTY8eMimDgMU0h5Sd2/MRJ7iJjxgwICnq97NTVoCBkzJBBh5OpCVGMGMUI534GpXPtbx2uQ3rz5k1kUDpMv3ipGzw2rsfC+XOQThl0Hpu3UsUk9nRNCax2olM/ZsEHlv5wIpYITJk2HS2aN9VGBf21gq5dw9Gj/qZEnZRx/8OIYaZ/6w6CKWEC2ylWrBj2K5bZXNyXr9DG7Ud58mDihLFo274jyjm6aKayUcP6OukwxTgPGjIUdeo1xIWLl0zqzZo20exzpao10KtPf0wcN0bHrVu/ATWqV9drETOgaZNGoFFHaVC/HmbNngOnilXAhq37N910uPkPn01DkidPpjpqqfThWNWZu3jpsq7fbi8v9Oz5erjISC9bQSCuIbBm7Xp81rKFye+03VdtsHjJUiRX7Jy12GsLrNNF5ZjtkHm7F6TaPbZhLMNeuxeVfCWNIGALgQgG3IMHDzFvwULUqFUHly9fxtbNG7WxduXqVYwaMw6f1q2P/PnyamPKOkMOm100a2xUx94kYWFhmoFggNHT5755uK04hEH79pQqWQIBgcdx8tRpzchlzZqFyS3EOl/qRibRqd/NW7dsGq+RlZMY4jiM51KpGhapl2T3b7vB79B+5HZ4zZKeOXsWR/39Tf9PnjxJDLCoYeIkeGlnsXoXFyf4+R3Vz8yzZ8+wVHWe6GOZKVMmPQRN1o5y7NhxE1b0GySjTZeB1q1baUMrf/58ml04dPiwHtYpqZ6V0JBQU2dq5qw5ePjwEQYNdFXMXiUULlzQlN8/7bC8NGlSw7V/X82c16xezeL5/Sd9iRcE/gsEyLadOHkKHNIk8eDkWAEeHlu0Ow7rQ7abvnL02abYawt05Bv+2MvLun1i2yciCPwbBCJMi+OEgg7KV6Bx44bw9vZBeaeKmk1ho9CxfTtUqFAOK1as1r481gU/efIUObJn1+lJVZNhMISMS/C9ewgOvqcbqBQpUmia2QhnumClkydPblxShiOdRLNny6Z0guGk6O/3338fQ4YOZzIkeScJ2n/VVvvR6QD1Y0/XiLfeRqd+zCNdunR4qhpbkdcI8MVU+9Na2K2Gqbds3a7/OQxP597effvrhL4HD1kwct26dnmdQQLeC1LDp/SVMRcaadeuX1f3/3M8ffrUFBX2Kkw7WL/7blJtgNl6wTOMw7BnzpzVegMHD1PDOw/1/qrVa9G8WVPltnADK1eHs2+M6KEmQORRz+ISt2Var2uXTjp9VH5YHjtld+7c1cnZKPJ626pbVPKTNILA20CAM76XqFEb+uE6qI7k+g0bEfrihcnvtmfvPnhH/SlaQbnEuNhsq6JTT7ZD5u1eLtXu0Y0nsnYvOuWIjiBABCIwcBz+evr0mWbg+rkOxCU1fEJp3aqlGgo6ACflpP7TlKm4d+++Djf/4XAoDT0KmbJ8iqkjU8ZPe1RUTqUBAcf00OnZc+fUDMQqTIbqqkcfEBCo9/0DA9VxVd1AODs76gkRbJwuX7qCLFk+NNHhDg45cf7CBe0YX7RIkUh1daSNn+jUj9l8XLgwrio2UuQ1AmzMBw7ohzZffm4K5MQT3g+JXTZu8kBxNYxqzKgmGzB29A/aTWHHzl2gbw4ZN07ooA+br+9B0Hfm3v17pllvhQq9Zszo10b/z51K12PzFv08Gf45O3ftQlk1q7RxowbgEJIhNCBXKYPO3z8A2bJlRdIklp/i4fWja4BRDn1UDWF56VWdWdaOnTs1+/fq1SsjWraCQJxFYI/3Xk0IdOvyNZa6uVvU88WLP7VBx629tsBCIYoHAaoN4zNNwoHPOp/9Y8dPRNruRTFrSSYIREAgAgO3YOHiCIkY4DpwsM1w80A2PqVLlQQbLY73jxs/Cb779uLx48d6OMdj82ad3HXAYO0YPWLYUISEhqD1F211+JSpM7ByuRuO+vnqyRKcsUchW+HuvlJR3tvVBIcwPbTLBopDO+vXrULBwsVgT1dnYOMnOvVjNgXUcNWQg+GfSbGRbaINate+M2ZMn6KnzXP4jkb69yNHJ1o8jBOnMcb7ePbMabpjxKGdET+M0mw003B489ABH9y/f19N+rmgnrMhWnXCxB+xeqW7fvlfU/6EhvioyUAV1Axsz13b1ISeV7rz47XHW0ezMeKwKw28O3fuGCqYOn0Gpk75UbNo59XEolwOuUxxxs6MmbP1cBI7bKGhL1SD81xHzVuwCIMHuWLvHk8kU6z4rDnzDBXZCgJxGgF2NNhuVKrkokd17FU2srbAno698O07doGTgPz9Dmp/Oz5XN2/e0snttXv28pJwQeCfEIjRpbT4yYTlbouVn1wDPVuUhZPKTqbYGPr4WEuaNGnw6NEj62BtvNFHynqYhkM3bERIhVOaNG6kWIsmeqaQkQlnydrSNeKtt29Sv7p1amt24+uu4YaldV5yrD75omYZv3z5En/Z8ftKzBilTJnSYsjUwILsG58R+raZC+9N3vOc0GMtjEuS5B3QaIuK8DMuLMdWXoY+3RZ47WwxbGQUOLvY+pk0dGUrCMR3BCJrC9703Dh7m+9AW8+bvXbvTcuQ9IJAjBpwhPPrTh2RKXMmjBk7PtbRLVu2jPqsx21cv34j1svid7vWrFqB9h07v5XyYv2EpABBQBAQBAQBQUAQiLcIxLgBRyS48gH9bRKSkF2kXxeHc0UEAUFAEBAEBAFBQBD4LxGIFQPuvzwhKVsQEAQEAUFAEBAEBIGEjkCEWagJ/YTl/AQBQUAQEAQEAUFAEIjvCIgBF9+voNRfEBAEBAFBQBAQBBIdAhafETng45XoAJATFgQEAUFAEBAEBAFBIL4hID5w8e2KSX0FAUFAEBAEBAFBINEjIEOoif4WEAAEAUFAEBAEBAFBIL4hIAZcfLtiUl9BQBAQBAQBQUAQSPQIxLgBlzZtWnw/fKgJWH5Jnl94tyX8rpot4dqp9oRfk49MItO1pRdZ/czLKliwADp36mArCwkzQ4CYEVORiAjwS+/REX6DkGsUG2J+Xxphb7qNal3afPmFXnP4TfOPC+ljAqe4cB5Sh+ghYK/diV5uoiUIxD0EYtyAW75sCQ4eCl8rtGOHdjh35hROBB7B/LmzTIZc+XJlcfKYP/yPHMLuXduRPXs2jUzmzJmxY5sHAo4cxq8nA00LgDPys1Yt4O21Cz7enhg/LuIam5Hp8sPCP02eiCWLFlhcAXv1q1mjOjw2rsf+vV56fUguAM7FvosW+VgtpdXQIg85CEeAK1XMmjENB3z24NTxAEyeON50vb08d6B06VIWUG1YtxrVq1W1CEuoBzz3nds2q/v6EDZv2oBGDRu80anmy/sRvuv+jdbhc/DT5AlvpG+eeOiQgdivJiuxLhvWrgKfm8jkx0nj1XJ4kXeaItN/0zjeK7x/Av0P62evUkWXN83ClN7v0H7kyJHddBwTOw65coErwIjEXQRKlvhEryPMd9HxgCNo3y58re369ergysWz+t7yO7gfU3+ejI8LFwbbAd5v/L8RdEm1V0f1/qQJ4+LuSUrNBAGFQIwacJUrVdQL9+7y3I1MGTNi6OCBqFbjU5Qu54SsWbOaGq5JE8dhyLARKF6yDA4c8EX/vr31xejV8zu9ePcnpcqid19XbXQxgkzd8KGD0bLV56hctSZKfFIcjmpBb3Oxp0tjrF+fXngeEoK0adOYVOzVj2tGThg/Bj169oFTxSo4rxYY79ShvdYbM24i+vXtJQyTCcXXO9906wIuCu3oUlldb0fkypUTXbt01gnefz95BBaHa6YmBoaE7Jn70kWYNmMmSpQupxe2n6A6IDR4oyOrVq9F3/4Do6OKKlUqwcXZCdVr1tZ1OXTYD9On/hStvGJLifdKh85dUN6xItZv2Kg7AuXKlo1WcY7OlXHjxs1o6dpTcnKqgI7t29mLlvA4gMC4saOwcNESlHeqqO/1gQP6o2TJEuodlBSBx46jVJkKcKlcDb/+egYjfxiu0zKM/6GhL1C3QSO933/AoDhwNlIFQcA+AhEMuB7ffYsxo0eCPU1zmTt7JthIc7F4e9JRGTp7vL11dPHixXDu/Hn9AuUi3fv27VcsTEm92HmhggXhudtLL4xNY89gZ8qSqdjlqRfT9t7rgxw5cyBdurRIo4ZlkyVLjoePHurFtm/d+g25cztYVMOeLsv57PM28PLaY5HeXv14fiO+H4mrQUE6/anTv2rjkwd3795Va6/eQUUXZ4u85ADIljUb7j94oKHgoucDBw3FYb8jiR6aqspouhp0DVu37dD3O+/d0WMnoED+/Bqbhg3q4+D+vTh9IhCzZ04HF8GmsDNEJmr7Vg+0bNFMh/GnVcvmqtEZoY/JKLOzQX0yCuysUHKq54bMNsMGuPbDsQA/zYZmV9fo8eMnePHiT12XOfMWYMnSZVqHrg8rl7sh4OghzV4U+fhjHc6fsaNHaUZii8cvyJM7tw5nPRcvnIejh33Bd0Pejz7S4UsXL9QuFGtWLcfZ/53EF60/wwr3pZrVYP58nin58uXVbDvrTpeLVKlS6XDjh4uAb/hlI9auW69cF8I7UPbKzJ8/H9YrNpF5sfyMGTLobLy9diJLlix6v2eP7rh0/oyuM5mXPr166nAy/WPHRDy/vIr13LZlk86TefO4ebOmqgPXG9WrV8XE8WO1vr3rx2vD9yixj2kWUBcsPzYRYAc8y4dZcO/+fR0ffO8e2rTtgAf3w99NhhLvr9Vr16l3uYsmCIxw2QoC8QmBCAac2zJ3BF0NwtIlC/WQI4c7KeMnTEKG9OmxRw1x8IVnbeAxTSHlJ3b8xEnuImPGDAgKuq73+UODiC9WhpOpCVGMmHk49zOouGt/6/ABu3nzJjIoHaZfvNRND2sunD8H6VRj47F5q9Y3fuzpGvHWW3v1e/jwITZv2aaT04eiS+eOWLFylUmdQ6n0hxOxRGDKtOlo0bypHpajv1bQtWs4etTflIgs5g8jhpn+bd0/psQJaKdYsWLYr1hmc3FfvkIbtx/lyYOJE8aibfuOKOfoArJPjRrW10mHKcZ50JChqFOvIS5cvGRSJ3OZKlVKfZwmTWqEPA+Bc6WqGK46Hd9+01WHE2u/I0d1ODtIxPqdd4B16zfozhENHWNYafuOnVpnsmLF2VkpW94Z8+YvxPBhg01lMg+yE8cUe9G8WRMdPlYZJxcvXdb13u3lhZ49u+twstxsPFt+9oU24qdP+xk/T52uGT925OrVqaPTrXR3w4SJP+o60nisV7e2qTzzHZZNFwiKvTL79emN9et/0Yx54LFjqP23v2D6Dz5QLG8SpEmTRnc+a9Wph46duyJTpkxImTKFzpP7e1Vn0fr8GtSvh1mz5+g8iVH3b7pp/Cb/+LPqDHrDdeBgRHb9eG3CXr1STKJLjLOAuuLyYxOBVwrzYSO+x+IF88B7j8zbkaNHceXqVZ2evp9sx2iQDxsyCL6+vgh98cJmXhIoCMR1BCIYcA8ePMS8BQtRo1YdXL58GVs3b9QNAB+AUWPG4dO69ZFf9Z7pI2YtHDa7aNbYsNEwJCwsTPf6eWzu5G4ebisOYVDs23sopR7EgMDjOHnqtGbksmYN71kb+dvTNY+33rdXPyPdhHFj4HvwkEUDfPPWLZvGq6GTWLfn1VCzS6VqWLRkKbp/2w30P8rt8JolPXP2LI76+5v+nzx5kiigogHx8q+/bJ6ri4sT/PyO6mfm2bNnWKo6T/SxpFHBZ4msHYWGkz3Z67NPP1ccGiqifDQpZOJWrVqNv1S51A1/xqAbqlatv8Q33XvA2clRs2IGa1dR+ZqtXLlaG3hee7yVC0N/U5F7fXz0vnkZ9F+kkeLav6/quBVEzerVTM/1yVOndHoysH8EB2tDnnWg/scfF9bPT5YsH6Kc6hxSn8ZUrZo1TOVZ77yD8BeJvTJ5X3HkoFvXr7WRRQPZXKpUrqTqEIBLyuBkA3/8+An1WlEvlr/F1vnNnDUHDx8+wqCBrooNrYTChQsayU1be9fPSEAcyXaKvF0E2AFnh+jX0//DgnmzsWrFMtU5el9X4hM1MkQmePUKdz3y80Xb9m+3clKaIBCDCEQw4DihgD0TNsDsudKPgGwKezIzpk3Brh1bceiQH6rWqBWhGk+ePEWO7Nl1+B9/BOseqpGILADp7ODge7qBSpEivAdshDNdsNLJkye32kP4kE+2bEonGE6qseEDOGTocEydNgNbt25H+6/CHVN1YvVjT9eIt97aq5+RzrVfH3zwQTo13DXeCNLbdOnS4alqbEVeI0CDnKwbe7db1LWp16CxGgrfDQ5bGUJDmHHGP++FxCBBavjU0bGCxanSSCtVqiSePXuOp0+fmuLCXoXpSQWcNBAaEmrq8JgSRHGH14N5W0uF8uV0/mTJO33dDd179NKsFtPRgAx9EWpS4VBvZEKDjJ21M2fO4sTJUxighszNO2aGLtPZEvoaUZf/vCeWurnbSqbZtIDAQB1nr8wFCxej9RdtVUcvme5YNmsazhIaGYbj8RpnIzyybQ81aaRVyxba1WP9hl9sJrV3/WwmlsC3ggDZNfp5ku2dM28+yij/a/qh1qsbzvwGBB5DrTr11X89PXkus+osiQgC8RWBCAYcG+KnT59pBq6f60Dda+XJtW7VUjFRB+CknNR/mjIV9+6F+xiYnziHSWnoUciU0c+FTBkZNPbwAwKO6aHTs+fOqRmIVZhM+ZNUU+HhL2h/9aKuXr2qbgicnR31hAgygpcvXVG+LB9qA4E6Dg45cf7CBe0YX7RIEQbBnq6OtPFjr35M2rbNFyivGrsu3b7VPXZzdc5auvo3HW8enpj32bAOHNAPbb783AQDJ54YfoSmwES4s3GTB4qrYVRjNiUbmLGjf9BuCjt27tJMGBk3Tuho1rSxGtI5iN9+u62GIe+BBhelUKGI7E9kUO5W/p7Mi8LhfsOwaqD87UYp/znjEyIcjjWu0RbFWhizY3mPr1uzMrIi1ASDX9REjPTKlWELduzcqRtMsltREXYIye7fV0Ot1CeD9tiKkaX7AocxWyi/s8VL3HS29sqkjx3ZQHbu5sydr/yanCyqQZaSjCMnLlGiguentWpi1eo18PcPAGehJ1UO8JQQZVgnT55M79u7fjpSfv4TBMis8t4tXLiQLp/P1XvvvatJCPMKsf2aq+6VYUNlooI5LrIfvxCI8GEq9mZtCX0+/knY+JRWzAIbLfqtjRs/Cb779irH6cfaN85j82adheuAwdqZeMSwoQgJDdG9Z0ZMmTpD09tH/Xz1ZAkaUJRr16/D3X0lvDy3K4MqTL/816xdr1/a69etQsHCxezq6gxs/NirH52sf5w0QZfJz5YY0rxla92wFlAO00MOHjaCZfs3Au3ad8aM6VO0HxbZIxrp348cnejxoTHG+3j2zGm6Y8QhxRE/jNJsNMHhUN2hAz7amDmnhqFdBw7RmNE/bPVKdz0r+5oyeN5EODFh7ZoVaNSoAQ6qe9VgwcYoNpmfd+FnfciAkoXmhB0KZ+0tc1uEtuq7bzTwevbuG2mR8xYswuBBrti7xxPJlLE1a868SNNbRw5Ws9DJcn+v/CLJOPbq3c+UhP5LNAbZSRswaAgOqPcKxV6ZNPCWLF6A3+/+jpdKr0evPqa8uEO/1tVr1ukJGvv2++qJFJevXLFIY30wdfoMTJ3yI+7cuatmop9HLofwSV2sy4hhQzBNxfXo1dfu9bPOT47fDgI0zD7/8iu4qcks9KN+FfZKdTB2aUOcE07MhfdsoJq0QzY8UDFzIoJAfEMgRtdCJVW93G2x8pNroGeLEgw2Bhza4BCNtXCI9tGjR9bB2nijj5TR8BgJyCSwsTCcTps0bqSYhib4sm07I4ldXVMCq53I6meVFHXr1FY+Sg3wdddww9I6Xo7VJ18Uq/Py5UvtfyV4WCKQMmVKiyFTI5YsAZ8RDvuYC+9N3vNsiN5E+IkSzjZlvpxYxO9Z1axdz5QFZ+qxPGMikSlC7XAWNjtcURW6NnDWsfWzGlV9ziy1Pu9/0rVXpj18mR9ZTp4Xz5k+UOyo0kctMiFOxNAaf+vrZX0cWZ4S9/YQiOx+eHu1kJIEgdhDIEYNOFbz604dkSlzJrC3H9vCD2revn0b16/fiO2i9He71qxagfYdO7+V8mL9hKSABIsAOzWcPX3sxAk9dDhp8s/Y5BHOfifYk47kxDicv/GXdTh79pzyh8qsjdTGTVuYOpmRqEqUICAICAJxFoEYN+B4ppz2T9+RhCRkF9kQcDhXRBCI6wjw+2ecLX5EfcqFDFliF/rU8duPHE41nymf2HGR8xcEBIH4i0CsGHDxFw6puSAgCAgCgoAgIAgIAnEfgQizUON+laWGgoAgIAgIAoKAICAIJG4ExIBL3Ndfzl4QEAQEAUFAEBAE4iECFp8ROeDjFQ9PQaosCAgCgoAgIAgIAoJA4kJAfOAS1/WWsxUEBAFBQBAQBASBBICADKEmgIsopyAICAKCgCAgCAgCiQsBiyHUxHXqcraCgCAgCAgCCQmBe7/f/s9PJ32mLP95HaQCiQOBGGfg0qZNi++HDzWhxy/J8xtMtoTfVbMlXDvVnvCr55FJZLq29CKrn3l6rinZuVMH8yDZf0MEuLJAYpbonj+/Qcg1iuOS/NNzGJfqKnURBKKDwMuXkbc10clTdASBmEQgxg245cuW4OCh8LVCO3Zoh3NnTum1F+fPnWUy5MqXK4uTx/zhf+QQdu/ajuzZs+lzypw5M3Zs80DAkcP49WSgaQFwRn7WqgW4NqmPtyfGjxsdAYPIdPlh4Z8mT8SSRQss9OzVz0hUsmQJ3Ai6BC7ufe7ceRQt8rFaSquhES1bKwS8PHfojzhbBYNGvduSRTh13F9f9yGDB1onSdDHpUuXws5tm9V9fQibN20wLRof1ZPOl/cjfNf9m0iTjx75Pc6cPq6XMjNP+In6eO2t61feuEzzPGztT/l5Mlo0b2orSsIEgf8UgbJlC+Pw4aL/qg5ubs7o2tXpX+UhyoJAbCMQowZc5UoVcfPmLezy3I1MGTNiqGqoq9X4FKXLOSFr1qymRmTSxHEYohazLl6yDA4c8EX/vr31efbq+Z1evPuTUmXRu6+rNroYQaZu+NDBaNnqc1SuWhMlPikOxwrlLbCxp1uzRnX069MLz9UaiGnTpjHpRFY/JiJryDUkQ0Nf6PUoGTZm3ET069vLdMwwkdcIvP9+ciR5J+IttXjBXHBB9vJOldCkeUtUKF8O3bp0fq2YgPfInrkvXYRpM2aiROlyemH7CaoDwvVKY1LeU6w1DWWu1Wsu7b5qqw+jy/6Z52W+37tPf6xdt8E8SPYFgTiBQEiIWsT+1Tv/qi5t2/pi9uxD/yoPURYEYhuBCK1tj+++xZjRI+GQK5dF2XNnz8Q33brodQQtIswOOnZojz3e4QtEc9mac+fP48aNm3qx6n379qN06ZKaIShUsCA8d3vpBbBp7JGhoJQlU7HLUz18r+C91wc5cuZAunRpkUY1TMmSJcfDRw/1+oW3bv2G3LkdzEq2r8tyPvu8Dby89likt1c/I1FPhcMuVZe7d+8aQXr/9u07qOjibAqTncgR4JJOTs5OGDdhEh49eoRLly5j3vyFaNmyReSKCSS2apVKuBp0DVu37dD3O+/d0WMnoED+/PoMGzaoj4P79+L0iUDMnjkdXNydws7QqeMB2L7VAy1bNNNhxs8A137wO7gfG9auQuXKlYxgVcZ2GAYbA7mYd53atdQz6WNKw/wXL5yHo4d9wWc670cf6bhaNWvAd7+3/me44fZA1nrC+DG6jiyTHSLKhHFjTB0ysuVjx4xCoP9hbPH4BXly59Zpcqrnlww79VjnYwF+pnx1AvkRBN4iAufO5YGzczEULZoPAwZUxuPHqXTpo0dXQalShdToQWEsXuyiw5Ytc0a/fuHv+adPU6JFiwrIkycHChTIrdqF0jqNn18RVK1aAg0alIWDQzZ89pmjap9k2PUtXtJEX1QEA85tmTuCrgZh6ZKFesiRw52U8aoBzpA+PfaoYTK+rK0NPKYppPzEjp84yV1kzJgBQUHX9T5/rgYFIWOGDDr8999/R4hixMzDuZ9B6Vz7W+fPP/9UbN5NZFA6TL94qRs8Nq7HwvlzkE4ZdB6bt2p948eerhFvvbVXP6YrUCA/6tWriynTplur6aFU+sOJRA2B4sWK6nVxnz59alI44OuLwoULIaZZIVMBcWinWLFi2K9YZnNxX74Ch/2O4KM8eTBxwli0bd8R5RxdQAazUcP6OukwxTgPGjIUdeo1xIWLl0zqXKie7HOlqjXQS7FgE5UhZYi/fyDSf/ABChUqqIOaN2uiO0QvXrxeC3Ws6pxdVEY0y9vt5YWePbvrtBwO/bJNezhXrKo6WclAw5KSJk1qhDwPgXOlqhj+/Uh8+01XHZ46dSpdXx5kypQJe1WHq1SZCjh27DhYLqWT6tD5HTmqddlR4ztDucSKCAL/CQING4ZhxIhkOHXqEh48eIWNGz/BhQu5ldF2Sb2jzmPHjjtwc3uiRl2Sq/YpiTLwXup6fvddSWTLlhznzzM+Fbp3D9bhf/2VROV1DTNm3MLly3dw9eojHDxY5D85Nyk0cSIQwYB78OAh5i1YiBq16qib8jK2bt6oX7xXrl7FqDHj8Gnd+nqRbBpT1pIrV06LhaLNX9ZhYWGagaAOJw4YYh5uKw5hUOzbeyil/NECAo/j5KnTmpHLmjXiTB/rfKkbmZhVQ9eNdUmSJAl+/nESXAcOxosXf0ZQv3nrlk3jNUJCCdAI0Egzvy4M/PPPv/AO/8wvQALFK2nSJHj51182z87FxQl+fkf1M/Ps2TMsVZ0n+ljSIOKzRNaOQqPIkOrVqmpGmy4DrVu3Uox4KuTPn09HJ1OG1xLV0fmq7Zf6mGzc4iVumr0216dR5tq/r+pwFUTN6tX0dejbf6BiJj4Gfely5MihDOxwI5B6e3326ecjUNWjiPIDtSV7fXx0sHkasnWrVq3GX+r8eQ7hz7otbQkTBGIXgStXcuLWrd+VgZUaP/xQGU+evMTWra+QOfM9xQq/i6+/dkZgYB54ep5WHZjXHR7WaufOC+jU6ZZK9ycqVDitns/UyuArrCtcoEA2xb7dRNKkL1GyZAacPJkudk9EchcEzBCIMC2QEwo6tPsKjRs3hLcaeinvVBFByn+JDv0d27dTN3A5rFixWvvymOWjd588eYoc2bPr9H/8EawZBiMNe9/B9+4hOPiebqBSpEgBNlpGONMFK508eXLjkjIcOYSTPVs2pRMMJydH1dt/H0OGDmcy7WfVXjVO9KMzxJ6uEW+9tVc/sgeFCxXCt90U09ANeoLFqJEj8P0Po7TxmC5dOjxV9RaJGgInTp7UQ+Qcunv+/LlW4hD0ufPnlCEX0UCOWq7xJ1WQGj79tFZNiwrTSLt2/bq6/5/DnJkMexWmGpTMiplMitCQUFOHx1yZRhCHYc+cOauDBw4eptiEh3r/3aTvYpn7chw64INNmzZrVwQy4jQiDaH+RcXo3bkT7hpw4uQpbcAtWTRfMXJ7sGLl6hgzrGmg8xxFBIG4gEDy5MlVJyV85KdoUSg/1FDlN/oIJ06EKsMto2Likquh1byqU3XForopU/4fUqUK12NEkiTv4PbtVPjgg9dhFgpyIAi8JQRev9n/LpCfK3j69Jlm4Pq5DtQ+S4xq3aqlGgo6ACeXyvhpylTcu3c/QhU5TEpDj0KmLF++vGryQhbNoFWs6IKAgGN66PTsuXOoXq0Kk6G6YgACAgL1vn9goDquqhsQZ2dHPSGCjdPlS1eQJcuHpiE3B4ecOH/hgmbLihYJp6zt6eqMbfzYqx+HemrWrqvYxrH6/64avp2/YJEedmI2nJF6VbGRIlFDgJNaeH05kYRGHO+Hjh3aYcMvm6KWQTxPtXGTB4qrYdRK6v6n0A1h7OgftJvCjp274Kw6J2Tc+FmOZk0bw9f3IH777Tbu3b+nJ3tQxxgS5f76Db+A/p87la7H5i36eXrw4AGjtPB58d67D/PnzlZs3DIj2LSlfnpVB+ru2LlTG9W8LmS4mZ7PpoODA5Im+fe+PDQIeU4Uuh0kBsbVBLTsxCkE8uS5rpjqbMolJwTNmx+Go+NVxV6HYvv2MmpItBzq1z+K5csPK8PsvvJ1zmBR95Ytc6uh07w67OJFB2XwXUb58pct0siBIPBfIBCBgVuwcLHNenBI8Z+EjU/pUiXBRot+a+PGT4Lvvr3Kl+Cx9o3z2LxZZ+E6YLB2pB4xbChCQkPQ+ou2OnzK1BlYudwNR/189WSJLt2+1eFkK9zdV8LLc7tiFcL00O6ateu1f876datQsHAx2NO1V2d79eOwqcFoUPdPdXztGtmScNatgBquGnIw/DMp9vJOzOGLF87VM34NDMqoGchtv+qAObNnqM9oHNSN+C+KHZo6bYaRJEFvaYzxPp49c5ruGP0RHIwRis0lG02ZOWuOZszu37+vWMkLauh+iA6fMPFHrF7prmdlcwavIT779isWvDw8d21TDtOvtHHstcfbiNZb+ovWq1tbG3sWEepgnuqMDB7kir17PJFMsdyz5szTLOBcNbGEkxiuXL6CZ8rnzcEhl7XqGx/TIFy7ZgUaqZmxB9UzQ/ZPRBB4Gwi0bPm76jA6mIq6cCEIP/8MjBz5LlxdC6th/VeYPz9MTQL6HxYuLK5cA/IiRYpk6NDhQ+VCsFfphbslMINu3c6iWbMMysDLrd0/3NyKqE6Xn/KJy8ZoEUHgP0MgRtdC5ScTlrstVn5yDfRsUZ4VfaCSJUtmMoDMzzRNmjR6ZqJ5GPdTp06tfBSeRHjhswfPRif0xQut0qRxI9XDb4Iv27bTx/yxp2tKYLUTWf2skqJundr6Mw1fdw03LK3j5ThyBDiEwWFTzjJOjMJZoeZDpgYGZN/4jBhDzEa44T9oa6iZcRzKseWnaehHtqVLQmio5TAtP9djPFuR6UY1jp9Kefz4iWYXOcGJn+WpWbteVNUlnSDwxghEZSWGZ89SKGPN0g3m+fP/U8/gC+3LZq9QzlpNnfqJvWhTuKzEYIJCdmIZgRg14FjXrzt1RKbMmTBm7PhYrrr6dEjZMoryvo3r12/EellsjNasWoH2HTu/lfJi/YSkAEEglhFg56pL5444duKEHiqeNPlnbPIIZ+FjuWjJPpEiEBUDLrahEQMuthGW/A0EYtyAY8Zc+cDfP8AoI0FsyS6SoeBwroggIAhEDQF+BzC/8oU9ctRfM35R05JUgkD0EBADLnq4iVb8RCBWDLj4CYXUWhAQBAQBQUAQEAQEgfiBQIRZqPGj2lJLQUAQEAQEAUFAEBAEEi8C75qf+gEfL/ND2RcEBAFBQBAQBAQBQUAQiIMIyBBqHLwoUiVBQBAQBAQBQUAQEAQiQ+D/Aa8vHlpGbl9kAAAAAElFTkSuQmCC)"
      ],
      "metadata": {
        "id": "h7II_1ubXkn_"
      }
    },
    {
      "cell_type": "code",
      "execution_count": 17,
      "metadata": {
        "id": "j1PtIeNJ8Qf7"
      },
      "outputs": [],
      "source": [
        "selection_result = bq_client.query(selection_query)\n",
        "selection_df = selection_result.result().to_dataframe()\n",
        "#select only one study\n",
        "selection_df = selection_df[selection_df.StudyInstanceUID \\\n",
        "                            == selection_df.StudyInstanceUID.values[0]]"
      ]
    },
    {
      "cell_type": "code",
      "source": [
        "len(selection_df.StudyInstanceUID.unique())"
      ],
      "metadata": {
        "colab": {
          "base_uri": "https://localhost:8080/"
        },
        "id": "mvhKD5BkQ47V",
        "outputId": "e197ecb0-4366-49a0-d78f-2e308c91a613"
      },
      "execution_count": 18,
      "outputs": [
        {
          "output_type": "execute_result",
          "data": {
            "text/plain": [
              "1"
            ]
          },
          "metadata": {},
          "execution_count": 18
        }
      ]
    },
    {
      "cell_type": "markdown",
      "metadata": {
        "id": "L1NfmfU4kjxB"
      },
      "source": [
        "## Download"
      ]
    },
    {
      "cell_type": "code",
      "source": [
        "!rm -rf idc_downloads\n",
        "!mkdir -p idc_downloads\n",
        "#\n",
        "!rm -rf idc_downloads_sorted\n",
        "!mkdir -p idc_downloads_sorted"
      ],
      "metadata": {
        "id": "EjKwVqFdGGEB"
      },
      "execution_count": 19,
      "outputs": []
    },
    {
      "cell_type": "code",
      "execution_count": 20,
      "metadata": {
        "id": "X4YXrk6PIkJe"
      },
      "outputs": [],
      "source": [
        "# save the list of GCS URLs into a file\n",
        "selection_manifest = os.path.join(\"idc_downloads\", \"idc_manifest.txt\")\n",
        "selection_df[\"gcs_url\"].to_csv(selection_manifest, header=False, index=False)"
      ]
    },
    {
      "cell_type": "code",
      "execution_count": 21,
      "metadata": {
        "colab": {
          "base_uri": "https://localhost:8080/"
        },
        "id": "mIKSKvW8mdsN",
        "outputId": "1596e91c-fffc-4efc-e553-fda405143e33"
      },
      "outputs": [
        {
          "output_type": "stream",
          "name": "stdout",
          "text": [
            "     78      78    8034\n"
          ]
        }
      ],
      "source": [
        "# confirm the resulting manifest has as many lines as the number of rows in the\n",
        "# dataframe we initialized earlier\n",
        "!cat {selection_manifest} |wc"
      ]
    },
    {
      "cell_type": "code",
      "execution_count": 22,
      "metadata": {
        "id": "KdZSVftdjFPl",
        "colab": {
          "base_uri": "https://localhost:8080/"
        },
        "outputId": "465f4d19-46b2-42b9-94f0-5ca76d702b50"
      },
      "outputs": [
        {
          "output_type": "stream",
          "name": "stdout",
          "text": [
            "idc_downloads/idc_manifest.txt\n"
          ]
        }
      ],
      "source": [
        "# let's make sure the download folder is clean, in case you ran this cell earlier\n",
        "# for a different dataset\n",
        "!rm -rf {\"idc_downloads\"+\"/*.dcm\"}\n",
        "\n",
        "print(selection_manifest)"
      ]
    },
    {
      "cell_type": "code",
      "execution_count": 23,
      "metadata": {
        "id": "6ydwu1tSYScJ"
      },
      "outputs": [],
      "source": [
        "# download is this simple!\n",
        "%%capture\n",
        "!cat {selection_manifest} | gsutil -m cp -I idc_downloads/"
      ]
    },
    {
      "cell_type": "markdown",
      "metadata": {
        "id": "ZvlSBfPRdRpz"
      },
      "source": [
        "To facilitate preparation of the data, we will sort the downloaded files into the PatientID/StudyInstanceUID/SeriesInstanceUID hierarchy."
      ]
    },
    {
      "cell_type": "code",
      "source": [
        "!rm -rf idc_downloads_sorted"
      ],
      "metadata": {
        "id": "N5Z_SW_BYK5P"
      },
      "execution_count": 24,
      "outputs": []
    },
    {
      "cell_type": "code",
      "source": [
        "!mkdir -p idc_downloads_sorted"
      ],
      "metadata": {
        "id": "ftaWG034GU4N"
      },
      "execution_count": 25,
      "outputs": []
    },
    {
      "cell_type": "code",
      "execution_count": 26,
      "metadata": {
        "colab": {
          "base_uri": "https://localhost:8080/"
        },
        "id": "q9aVI7qAbaT0",
        "outputId": "de7328ef-fdf1-49fc-aaff-3c1a4aa19adc"
      },
      "outputs": [
        {
          "output_type": "stream",
          "name": "stdout",
          "text": [
            "100% 79/79 [00:00<00:00, 132.71it/s]\n",
            "Files sorted\n"
          ]
        }
      ],
      "source": [
        "!python dicomsort/dicomsort.py -k -u idc_downloads idc_downloads_sorted/%PatientID/%StudyInstanceUID/%SeriesInstanceUID/%SOPInstanceUID.dcm"
      ]
    },
    {
      "cell_type": "markdown",
      "source": [
        "# Conversion to nifti and resampling"
      ],
      "metadata": {
        "id": "LAtIAPP_KlBB"
      }
    },
    {
      "cell_type": "markdown",
      "source": [
        "## NIFTI Conversion"
      ],
      "metadata": {
        "id": "SMXrWKCnKvlZ"
      }
    },
    {
      "cell_type": "markdown",
      "metadata": {
        "id": "4Z5QylRmj9gw"
      },
      "source": [
        "\n",
        "Dicom files are assumed to be sorted this way for further processing :\n",
        "\n",
        "* PatientID\n",
        "  * StudyUID\n",
        "    * SeriesUID\n",
        "      * *.dcm file(s)"
      ]
    },
    {
      "cell_type": "markdown",
      "metadata": {
        "id": "ZxaZ6eMwQVOb"
      },
      "source": [
        "### conversion methods"
      ]
    },
    {
      "cell_type": "markdown",
      "source": [
        "Use of dcm2niix for images and dmcqi segimage2itkimage for segmentation objects"
      ],
      "metadata": {
        "id": "5pqRbxnUAVm1"
      }
    },
    {
      "cell_type": "code",
      "execution_count": 27,
      "metadata": {
        "id": "RkSLspMHgqOV"
      },
      "outputs": [],
      "source": [
        "def convert_mr_to_nii_nrrd(input_path, output_path_root, modality, target_format=\"nii.gz\"):\n",
        "  output_path = os.path.join(output_path_root+\"_\"+modality)#,glob.glob(os.path.join(input_path, \"**\", \"*.dcm\"), recursive=True)[0].split('/')[-2]+\".nii.gz\")\n",
        "  if not os.path.exists(output_path): \n",
        "    !mkdir -p $output_path\n",
        "  !dcm2niix -z y -m y -o $output_path $input_path"
      ]
    },
    {
      "cell_type": "code",
      "execution_count": 28,
      "metadata": {
        "id": "Eav6vNsTg9TL"
      },
      "outputs": [],
      "source": [
        "def convert_seg_to_nii(input_path, output_path):\n",
        "  if not os.path.exists(output_path): \n",
        "    !mkdir -p $output_path\n",
        "  \n",
        "  print(f'input path : {input_path}')\n",
        "  print(f'output_path : {output_path}')\n",
        "  !segimage2itkimage --inputDICOM $input_path --outputDirectory $output_path \\\n",
        "  --outputType nii "
      ]
    },
    {
      "cell_type": "markdown",
      "source": [
        "Main function for conversion, incorporates modality information into file naming based on SeriesDescription information coming for selection_df(big query)"
      ],
      "metadata": {
        "id": "cFLJzZjrAdVF"
      }
    },
    {
      "cell_type": "code",
      "execution_count": 29,
      "metadata": {
        "id": "-1tYQCkFQZ7A"
      },
      "outputs": [],
      "source": [
        "def convert_dcm_sorted(input_path,output_path):\n",
        "  path_dicom = input_path#os.environ[\"qin_prostate_rep_dicom\"] \n",
        "  for serie_folder in sorted(glob.glob(os.path.join(input_path, \"**\", \"**\", \"*\"))):#, recursive = True):\n",
        "    path_serie_dcm_lst = glob.glob(os.path.join(serie_folder, \"*.dcm\"))\n",
        "    modality = selection_df[selection_df[\"SeriesInstanceUID\"] == path_serie_dcm_lst[0].split('/')[-2]][\"Modality\"].iloc[0]#'SEG' if pydicom.dcmread(path_serie_dcm_lst[0]).Modality == \"SEG\" else \"MR\"\n",
        "    seriesInstanceUID = serie_folder.split(\"/\")[-1]\n",
        "    studyInstanceUID = serie_folder.split(\"/\")[-2]\n",
        "    patientID = serie_folder.split(\"/\")[-3]\n",
        "    SeriesDescription = selection_df[selection_df[\"SeriesInstanceUID\"] == path_serie_dcm_lst[0].split('/')[-2]][\"SeriesDescription\"].iloc[0]\n",
        "    type_serie = [\"T2\" if \"T2\" in SeriesDescription  \\\n",
        "                  else \"ADC\" if \"Apparent Diffusion Coefficient\" in SeriesDescription \\\n",
        "                  else \"DWI\" if \"DWI\" in SeriesDescription else SeriesDescription][0]\n",
        "    if modality == \"SEG\":\n",
        "      #convert to nrrd\n",
        "      convert_seg_to_nii(input_path=path_serie_dcm_lst[0],\n",
        "                              output_path=os.path.join(output_path, \"nii\", \n",
        "                                                       patientID, studyInstanceUID, seriesInstanceUID + \"_{}_\".format(type_serie) +\"SEG\"))\n",
        "    elif modality == \"MR\":\n",
        "      #convert to nii\n",
        "      convert_mr_to_nii_nrrd(input_path=serie_folder,\n",
        "                              output_path_root=os.path.join(output_path, \"nii\", \n",
        "                                                       patientID, studyInstanceUID, seriesInstanceUID + \"_MR\"), \n",
        "                             modality=type_serie, target_format=\"nii.gz\")\n",
        "    else:\n",
        "      print(f\"modality MR not present\")"
      ]
    },
    {
      "cell_type": "markdown",
      "metadata": {
        "id": "rDE69us5SosB"
      },
      "source": [
        "### Conversion to NII"
      ]
    },
    {
      "cell_type": "code",
      "execution_count": 30,
      "metadata": {
        "id": "iQrcemmAW7tC"
      },
      "outputs": [],
      "source": [
        "!rm -rf /content/qin_prostate_root_data/nii/*\n",
        "!mkdir -p /content/qin_prostate_root_data/nii/"
      ]
    },
    {
      "cell_type": "code",
      "execution_count": 31,
      "metadata": {
        "colab": {
          "base_uri": "https://localhost:8080/"
        },
        "id": "hB1YhW33y32e",
        "outputId": "598e4311-1c33-4607-c2cf-faef0b5bb738"
      },
      "outputs": [
        {
          "output_type": "stream",
          "name": "stdout",
          "text": [
            "input path : /content/idc_downloads_sorted/PCAMPMRI-00010/1.3.6.1.4.1.14519.5.2.1.3671.4754.217251077299095981018478951589/1.2.276.0.7230010.3.1.3.1426846371.18344.1513205168.159/1.2.276.0.7230010.3.1.4.1426846371.18344.1513205168.160.dcm\n",
            "output_path : /content/qin_prostate_root_data/nii/nii/PCAMPMRI-00010/1.3.6.1.4.1.14519.5.2.1.3671.4754.217251077299095981018478951589/1.2.276.0.7230010.3.1.3.1426846371.18344.1513205168.159_ADC_SEG\n",
            "dcmqi repository URL: git@github.com:QIICR/dcmqi.git revision: 1153738 tag: v1.2.5\n",
            "W: CodeValue (0008,0100) empty in CodeSequenceMacro (type 1C)\n",
            "Row direction: 0.999063 0.0432741 -0.000180629\n",
            "Col direction: -0.0427421 0.987428 0.15218\n",
            "Z direction: 0.00676382 -0.15203 0.988353\n",
            "Total frames: 96\n",
            "Total frames with unique IPP: 24\n",
            "Total overlapping frames: 24\n",
            "Origin: [-113.348, -60.7389, -24.2662]\n",
            "input path : /content/idc_downloads_sorted/PCAMPMRI-00010/1.3.6.1.4.1.14519.5.2.1.3671.4754.217251077299095981018478951589/1.2.276.0.7230010.3.1.3.1426846371.4124.1513205167.5/1.2.276.0.7230010.3.1.4.1426846371.4124.1513205167.6.dcm\n",
            "output_path : /content/qin_prostate_root_data/nii/nii/PCAMPMRI-00010/1.3.6.1.4.1.14519.5.2.1.3671.4754.217251077299095981018478951589/1.2.276.0.7230010.3.1.3.1426846371.4124.1513205167.5_T2_SEG\n",
            "dcmqi repository URL: git@github.com:QIICR/dcmqi.git revision: 1153738 tag: v1.2.5\n",
            "W: CodeValue (0008,0100) empty in CodeSequenceMacro (type 1C)\n",
            "Row direction: 0.999063 0.0432736 -0.000182882\n",
            "Col direction: -0.0427396 0.987428 0.15218\n",
            "Z direction: 0.00676595 -0.15203 0.988353\n",
            "Total frames: 112\n",
            "Total frames with unique IPP: 28\n",
            "Total overlapping frames: 28\n",
            "Origin: [-94.4352, -40.1562, -22.4942]\n",
            "Chris Rorden's dcm2niiX version v1.0.20220505  GCC9.4.0 x86-64 (64-bit Linux)\n",
            "Found 28 DICOM file(s)\n",
            "Convert 28 DICOM as /content/qin_prostate_root_data/nii/nii/PCAMPMRI-00010/1.3.6.1.4.1.14519.5.2.1.3671.4754.217251077299095981018478951589/1.3.6.1.4.1.14519.5.2.1.3671.4754.218938411300600171613807256501_MR_T2/1.3.6.1.4.1.14519.5.2.1.3671.4754.218938411300600171613807256501_Prostate_With_e-coil_C-_19950706110656_4 (512x512x28x1)\n",
            "Conversion required 1.130297 seconds (1.109983 for core code).\n",
            "Chris Rorden's dcm2niiX version v1.0.20220505  GCC9.4.0 x86-64 (64-bit Linux)\n",
            "Found 24 DICOM file(s)\n",
            "DICOM images may be missing, expected 48 spatial locations per volume, but found 24 slices.\n",
            "Warning: This diffusion series does not have a B0 (reference) volume\n",
            "Warning: Some images had bval>0 but bvec=0 (either Trace or b=0, see issue 245)\n",
            "GE DTI directions require head first supine acquisition\n",
            "Convert 24 DICOM as /content/qin_prostate_root_data/nii/nii/PCAMPMRI-00010/1.3.6.1.4.1.14519.5.2.1.3671.4754.217251077299095981018478951589/1.3.6.1.4.1.14519.5.2.1.3671.4754.301965004788702079527239108078_MR_DWI/1.3.6.1.4.1.14519.5.2.1.3671.4754.301965004788702079527239108078_Prostate_With_e-coil_C-_19950706110656_7 (256x256x24x1)\n",
            "Conversion required 0.256122 seconds (0.254365 for core code).\n",
            "Chris Rorden's dcm2niiX version v1.0.20220505  GCC9.4.0 x86-64 (64-bit Linux)\n",
            "Found 24 DICOM file(s)\n",
            "DICOM images may be missing, expected 48 spatial locations per volume, but found 24 slices.\n",
            "Convert 24 DICOM as /content/qin_prostate_root_data/nii/nii/PCAMPMRI-00010/1.3.6.1.4.1.14519.5.2.1.3671.4754.217251077299095981018478951589/1.3.6.1.4.1.14519.5.2.1.3671.4754.325101422645606089647294436948_MR_ADC/1.3.6.1.4.1.14519.5.2.1.3671.4754.325101422645606089647294436948_Prostate_With_e-coil_C-_19950706110656_701 (256x256x24x1)\n",
            "Conversion required 0.190996 seconds (0.189443 for core code).\n"
          ]
        }
      ],
      "source": [
        "convert_dcm_sorted(input_path=\"/content/idc_downloads_sorted/\",\n",
        "                   output_path=\"/content/qin_prostate_root_data/nii/\")"
      ]
    },
    {
      "cell_type": "markdown",
      "metadata": {
        "id": "hwhGpo_iY8Pt"
      },
      "source": [
        "## Resampling ground truth segmentations to desired grid"
      ]
    },
    {
      "cell_type": "markdown",
      "source": [
        "Resampling based on a fixed grid volume, here T2W !"
      ],
      "metadata": {
        "id": "dRiDhwlu_F2E"
      }
    },
    {
      "cell_type": "code",
      "source": [
        "desired_grid = \"T2\""
      ],
      "metadata": {
        "id": "rPp8KmTz_Kvo"
      },
      "execution_count": 32,
      "outputs": []
    },
    {
      "cell_type": "code",
      "source": [
        "!rm -rf /content/qin_prostate_root_data/resampled/nii/*\n",
        "!mkdir -p /content/qin_prostate_root_data/resampled/nii/"
      ],
      "metadata": {
        "id": "t5CRZaLT_Qw3"
      },
      "execution_count": 33,
      "outputs": []
    },
    {
      "cell_type": "code",
      "source": [
        "def get_CodeMeaning_from_labelID(json_path : str, labelID : int):\n",
        "  \"\"\"\n",
        "  returns : segmentPropertyTypeCodeSequence_CodeMeaning for provided labelID\n",
        "  \"\"\"\n",
        "  json_dict = json.load(open(json_path))\n",
        "  return [x[0][\"SegmentedPropertyTypeCodeSequence\"][\"CodeMeaning\"] \\\n",
        "          for x in json_dict[\"segmentAttributes\"] if int(x[0][\"labelID\"]) == int(labelID)][0]"
      ],
      "metadata": {
        "id": "_1b8ty9bwMLb"
      },
      "execution_count": 34,
      "outputs": []
    },
    {
      "cell_type": "code",
      "execution_count": 35,
      "metadata": {
        "colab": {
          "base_uri": "https://localhost:8080/"
        },
        "id": "7jId7-hwAGnh",
        "outputId": "76a6faf4-8358-4ac4-e639-194696250125"
      },
      "outputs": [
        {
          "output_type": "stream",
          "name": "stdout",
          "text": [
            "\n",
            "Running 'plastimatch resample' with the specified arguments:\n",
            "  --input /content/qin_prostate_root_data/nii/nii/PCAMPMRI-00010/1.3.6.1.4.1.14519.5.2.1.3671.4754.217251077299095981018478951589/1.2.276.0.7230010.3.1.3.1426846371.18344.1513205168.159_ADC_SEG/1.nii.gz\n",
            "  --output /content/qin_prostate_root_data/resampled/nii/PCAMPMRI-00010/1.3.6.1.4.1.14519.5.2.1.3671.4754.217251077299095981018478951589/1.2.276.0.7230010.3.1.3.1426846371.18344.1513205168.159_ADC_SEG_Normal.nii.gz.nii.gz\n",
            "  --fixed /content/qin_prostate_root_data/nii/nii/PCAMPMRI-00010/1.3.6.1.4.1.14519.5.2.1.3671.4754.217251077299095981018478951589/1.3.6.1.4.1.14519.5.2.1.3671.4754.218938411300600171613807256501_MR_T2/1.3.6.1.4.1.14519.5.2.1.3671.4754.218938411300600171613807256501_Prostate_With_e-coil_C-_19950706110656_4.nii.gz\n",
            "  --interpolation nn\n",
            "... Done.\n",
            "patientID : PCAMPMRI-00010\n",
            "studyUID : 1.3.6.1.4.1.14519.5.2.1.3671.4754.217251077299095981018478951589\n",
            "serieUID 1.2.276.0.7230010.3.1.3.1426846371.18344.1513205168.159\n",
            "type serie : ADC_SEG\n",
            "refSerieUID  : 1.3.6.1.4.1.14519.5.2.1.3671.4754.325101422645606089647294436948\n",
            "matched mod : /content/qin_prostate_root_data/nii/nii/PCAMPMRI-00010/1.3.6.1.4.1.14519.5.2.1.3671.4754.217251077299095981018478951589/1.3.6.1.4.1.14519.5.2.1.3671.4754.218938411300600171613807256501_MR_T2/1.3.6.1.4.1.14519.5.2.1.3671.4754.218938411300600171613807256501_Prostate_With_e-coil_C-_19950706110656_4.nii.gz\n",
            "output_path_seg_root : /content/qin_prostate_root_data/resampled/nii/PCAMPMRI-00010/1.3.6.1.4.1.14519.5.2.1.3671.4754.217251077299095981018478951589/1.2.276.0.7230010.3.1.3.1426846371.18344.1513205168.159_ADC_SEG_Normal.nii.gz\n",
            "\n",
            "\n",
            "Running 'plastimatch resample' with the specified arguments:\n",
            "  --input /content/qin_prostate_root_data/nii/nii/PCAMPMRI-00010/1.3.6.1.4.1.14519.5.2.1.3671.4754.217251077299095981018478951589/1.2.276.0.7230010.3.1.3.1426846371.18344.1513205168.159_ADC_SEG/2.nii.gz\n",
            "  --output /content/qin_prostate_root_data/resampled/nii/PCAMPMRI-00010/1.3.6.1.4.1.14519.5.2.1.3671.4754.217251077299095981018478951589/1.2.276.0.7230010.3.1.3.1426846371.18344.1513205168.159_ADC_SEG_Peripheral_zone_of_the_prostate.nii.gz.nii.gz\n",
            "  --fixed /content/qin_prostate_root_data/nii/nii/PCAMPMRI-00010/1.3.6.1.4.1.14519.5.2.1.3671.4754.217251077299095981018478951589/1.3.6.1.4.1.14519.5.2.1.3671.4754.218938411300600171613807256501_MR_T2/1.3.6.1.4.1.14519.5.2.1.3671.4754.218938411300600171613807256501_Prostate_With_e-coil_C-_19950706110656_4.nii.gz\n",
            "  --interpolation nn\n",
            "... Done.\n",
            "patientID : PCAMPMRI-00010\n",
            "studyUID : 1.3.6.1.4.1.14519.5.2.1.3671.4754.217251077299095981018478951589\n",
            "serieUID 1.2.276.0.7230010.3.1.3.1426846371.18344.1513205168.159\n",
            "type serie : ADC_SEG\n",
            "refSerieUID  : 1.3.6.1.4.1.14519.5.2.1.3671.4754.325101422645606089647294436948\n",
            "matched mod : /content/qin_prostate_root_data/nii/nii/PCAMPMRI-00010/1.3.6.1.4.1.14519.5.2.1.3671.4754.217251077299095981018478951589/1.3.6.1.4.1.14519.5.2.1.3671.4754.218938411300600171613807256501_MR_T2/1.3.6.1.4.1.14519.5.2.1.3671.4754.218938411300600171613807256501_Prostate_With_e-coil_C-_19950706110656_4.nii.gz\n",
            "output_path_seg_root : /content/qin_prostate_root_data/resampled/nii/PCAMPMRI-00010/1.3.6.1.4.1.14519.5.2.1.3671.4754.217251077299095981018478951589/1.2.276.0.7230010.3.1.3.1426846371.18344.1513205168.159_ADC_SEG_Peripheral_zone_of_the_prostate.nii.gz\n",
            "\n",
            "\n",
            "Running 'plastimatch resample' with the specified arguments:\n",
            "  --input /content/qin_prostate_root_data/nii/nii/PCAMPMRI-00010/1.3.6.1.4.1.14519.5.2.1.3671.4754.217251077299095981018478951589/1.2.276.0.7230010.3.1.3.1426846371.18344.1513205168.159_ADC_SEG/3.nii.gz\n",
            "  --output /content/qin_prostate_root_data/resampled/nii/PCAMPMRI-00010/1.3.6.1.4.1.14519.5.2.1.3671.4754.217251077299095981018478951589/1.2.276.0.7230010.3.1.3.1426846371.18344.1513205168.159_ADC_SEG_Lesion.nii.gz.nii.gz\n",
            "  --fixed /content/qin_prostate_root_data/nii/nii/PCAMPMRI-00010/1.3.6.1.4.1.14519.5.2.1.3671.4754.217251077299095981018478951589/1.3.6.1.4.1.14519.5.2.1.3671.4754.218938411300600171613807256501_MR_T2/1.3.6.1.4.1.14519.5.2.1.3671.4754.218938411300600171613807256501_Prostate_With_e-coil_C-_19950706110656_4.nii.gz\n",
            "  --interpolation nn\n",
            "... Done.\n",
            "patientID : PCAMPMRI-00010\n",
            "studyUID : 1.3.6.1.4.1.14519.5.2.1.3671.4754.217251077299095981018478951589\n",
            "serieUID 1.2.276.0.7230010.3.1.3.1426846371.18344.1513205168.159\n",
            "type serie : ADC_SEG\n",
            "refSerieUID  : 1.3.6.1.4.1.14519.5.2.1.3671.4754.325101422645606089647294436948\n",
            "matched mod : /content/qin_prostate_root_data/nii/nii/PCAMPMRI-00010/1.3.6.1.4.1.14519.5.2.1.3671.4754.217251077299095981018478951589/1.3.6.1.4.1.14519.5.2.1.3671.4754.218938411300600171613807256501_MR_T2/1.3.6.1.4.1.14519.5.2.1.3671.4754.218938411300600171613807256501_Prostate_With_e-coil_C-_19950706110656_4.nii.gz\n",
            "output_path_seg_root : /content/qin_prostate_root_data/resampled/nii/PCAMPMRI-00010/1.3.6.1.4.1.14519.5.2.1.3671.4754.217251077299095981018478951589/1.2.276.0.7230010.3.1.3.1426846371.18344.1513205168.159_ADC_SEG_Lesion.nii.gz\n",
            "\n",
            "\n",
            "Running 'plastimatch resample' with the specified arguments:\n",
            "  --input /content/qin_prostate_root_data/nii/nii/PCAMPMRI-00010/1.3.6.1.4.1.14519.5.2.1.3671.4754.217251077299095981018478951589/1.2.276.0.7230010.3.1.3.1426846371.18344.1513205168.159_ADC_SEG/4.nii.gz\n",
            "  --output /content/qin_prostate_root_data/resampled/nii/PCAMPMRI-00010/1.3.6.1.4.1.14519.5.2.1.3671.4754.217251077299095981018478951589/1.2.276.0.7230010.3.1.3.1426846371.18344.1513205168.159_ADC_SEG_Prostate.nii.gz.nii.gz\n",
            "  --fixed /content/qin_prostate_root_data/nii/nii/PCAMPMRI-00010/1.3.6.1.4.1.14519.5.2.1.3671.4754.217251077299095981018478951589/1.3.6.1.4.1.14519.5.2.1.3671.4754.218938411300600171613807256501_MR_T2/1.3.6.1.4.1.14519.5.2.1.3671.4754.218938411300600171613807256501_Prostate_With_e-coil_C-_19950706110656_4.nii.gz\n",
            "  --interpolation nn\n",
            "... Done.\n",
            "patientID : PCAMPMRI-00010\n",
            "studyUID : 1.3.6.1.4.1.14519.5.2.1.3671.4754.217251077299095981018478951589\n",
            "serieUID 1.2.276.0.7230010.3.1.3.1426846371.18344.1513205168.159\n",
            "type serie : ADC_SEG\n",
            "refSerieUID  : 1.3.6.1.4.1.14519.5.2.1.3671.4754.325101422645606089647294436948\n",
            "matched mod : /content/qin_prostate_root_data/nii/nii/PCAMPMRI-00010/1.3.6.1.4.1.14519.5.2.1.3671.4754.217251077299095981018478951589/1.3.6.1.4.1.14519.5.2.1.3671.4754.218938411300600171613807256501_MR_T2/1.3.6.1.4.1.14519.5.2.1.3671.4754.218938411300600171613807256501_Prostate_With_e-coil_C-_19950706110656_4.nii.gz\n",
            "output_path_seg_root : /content/qin_prostate_root_data/resampled/nii/PCAMPMRI-00010/1.3.6.1.4.1.14519.5.2.1.3671.4754.217251077299095981018478951589/1.2.276.0.7230010.3.1.3.1426846371.18344.1513205168.159_ADC_SEG_Prostate.nii.gz\n",
            "\n",
            "\n",
            "Running 'plastimatch resample' with the specified arguments:\n",
            "  --input /content/qin_prostate_root_data/nii/nii/PCAMPMRI-00010/1.3.6.1.4.1.14519.5.2.1.3671.4754.217251077299095981018478951589/1.2.276.0.7230010.3.1.3.1426846371.4124.1513205167.5_T2_SEG/1.nii.gz\n",
            "  --output /content/qin_prostate_root_data/resampled/nii/PCAMPMRI-00010/1.3.6.1.4.1.14519.5.2.1.3671.4754.217251077299095981018478951589/1.2.276.0.7230010.3.1.3.1426846371.4124.1513205167.5_T2_SEG_Normal.nii.gz.nii.gz\n",
            "  --fixed /content/qin_prostate_root_data/nii/nii/PCAMPMRI-00010/1.3.6.1.4.1.14519.5.2.1.3671.4754.217251077299095981018478951589/1.3.6.1.4.1.14519.5.2.1.3671.4754.218938411300600171613807256501_MR_T2/1.3.6.1.4.1.14519.5.2.1.3671.4754.218938411300600171613807256501_Prostate_With_e-coil_C-_19950706110656_4.nii.gz\n",
            "  --interpolation nn\n",
            "... Done.\n",
            "patientID : PCAMPMRI-00010\n",
            "studyUID : 1.3.6.1.4.1.14519.5.2.1.3671.4754.217251077299095981018478951589\n",
            "serieUID 1.2.276.0.7230010.3.1.3.1426846371.4124.1513205167.5\n",
            "type serie : T2_SEG\n",
            "refSerieUID  : 1.3.6.1.4.1.14519.5.2.1.3671.4754.218938411300600171613807256501\n",
            "matched mod : /content/qin_prostate_root_data/nii/nii/PCAMPMRI-00010/1.3.6.1.4.1.14519.5.2.1.3671.4754.217251077299095981018478951589/1.3.6.1.4.1.14519.5.2.1.3671.4754.218938411300600171613807256501_MR_T2/1.3.6.1.4.1.14519.5.2.1.3671.4754.218938411300600171613807256501_Prostate_With_e-coil_C-_19950706110656_4.nii.gz\n",
            "output_path_seg_root : /content/qin_prostate_root_data/resampled/nii/PCAMPMRI-00010/1.3.6.1.4.1.14519.5.2.1.3671.4754.217251077299095981018478951589/1.2.276.0.7230010.3.1.3.1426846371.4124.1513205167.5_T2_SEG_Normal.nii.gz\n",
            "\n",
            "\n",
            "Running 'plastimatch resample' with the specified arguments:\n",
            "  --input /content/qin_prostate_root_data/nii/nii/PCAMPMRI-00010/1.3.6.1.4.1.14519.5.2.1.3671.4754.217251077299095981018478951589/1.2.276.0.7230010.3.1.3.1426846371.4124.1513205167.5_T2_SEG/2.nii.gz\n",
            "  --output /content/qin_prostate_root_data/resampled/nii/PCAMPMRI-00010/1.3.6.1.4.1.14519.5.2.1.3671.4754.217251077299095981018478951589/1.2.276.0.7230010.3.1.3.1426846371.4124.1513205167.5_T2_SEG_Peripheral_zone_of_the_prostate.nii.gz.nii.gz\n",
            "  --fixed /content/qin_prostate_root_data/nii/nii/PCAMPMRI-00010/1.3.6.1.4.1.14519.5.2.1.3671.4754.217251077299095981018478951589/1.3.6.1.4.1.14519.5.2.1.3671.4754.218938411300600171613807256501_MR_T2/1.3.6.1.4.1.14519.5.2.1.3671.4754.218938411300600171613807256501_Prostate_With_e-coil_C-_19950706110656_4.nii.gz\n",
            "  --interpolation nn\n",
            "... Done.\n",
            "patientID : PCAMPMRI-00010\n",
            "studyUID : 1.3.6.1.4.1.14519.5.2.1.3671.4754.217251077299095981018478951589\n",
            "serieUID 1.2.276.0.7230010.3.1.3.1426846371.4124.1513205167.5\n",
            "type serie : T2_SEG\n",
            "refSerieUID  : 1.3.6.1.4.1.14519.5.2.1.3671.4754.218938411300600171613807256501\n",
            "matched mod : /content/qin_prostate_root_data/nii/nii/PCAMPMRI-00010/1.3.6.1.4.1.14519.5.2.1.3671.4754.217251077299095981018478951589/1.3.6.1.4.1.14519.5.2.1.3671.4754.218938411300600171613807256501_MR_T2/1.3.6.1.4.1.14519.5.2.1.3671.4754.218938411300600171613807256501_Prostate_With_e-coil_C-_19950706110656_4.nii.gz\n",
            "output_path_seg_root : /content/qin_prostate_root_data/resampled/nii/PCAMPMRI-00010/1.3.6.1.4.1.14519.5.2.1.3671.4754.217251077299095981018478951589/1.2.276.0.7230010.3.1.3.1426846371.4124.1513205167.5_T2_SEG_Peripheral_zone_of_the_prostate.nii.gz\n",
            "\n",
            "\n",
            "Running 'plastimatch resample' with the specified arguments:\n",
            "  --input /content/qin_prostate_root_data/nii/nii/PCAMPMRI-00010/1.3.6.1.4.1.14519.5.2.1.3671.4754.217251077299095981018478951589/1.2.276.0.7230010.3.1.3.1426846371.4124.1513205167.5_T2_SEG/3.nii.gz\n",
            "  --output /content/qin_prostate_root_data/resampled/nii/PCAMPMRI-00010/1.3.6.1.4.1.14519.5.2.1.3671.4754.217251077299095981018478951589/1.2.276.0.7230010.3.1.3.1426846371.4124.1513205167.5_T2_SEG_Lesion.nii.gz.nii.gz\n",
            "  --fixed /content/qin_prostate_root_data/nii/nii/PCAMPMRI-00010/1.3.6.1.4.1.14519.5.2.1.3671.4754.217251077299095981018478951589/1.3.6.1.4.1.14519.5.2.1.3671.4754.218938411300600171613807256501_MR_T2/1.3.6.1.4.1.14519.5.2.1.3671.4754.218938411300600171613807256501_Prostate_With_e-coil_C-_19950706110656_4.nii.gz\n",
            "  --interpolation nn\n",
            "... Done.\n",
            "patientID : PCAMPMRI-00010\n",
            "studyUID : 1.3.6.1.4.1.14519.5.2.1.3671.4754.217251077299095981018478951589\n",
            "serieUID 1.2.276.0.7230010.3.1.3.1426846371.4124.1513205167.5\n",
            "type serie : T2_SEG\n",
            "refSerieUID  : 1.3.6.1.4.1.14519.5.2.1.3671.4754.218938411300600171613807256501\n",
            "matched mod : /content/qin_prostate_root_data/nii/nii/PCAMPMRI-00010/1.3.6.1.4.1.14519.5.2.1.3671.4754.217251077299095981018478951589/1.3.6.1.4.1.14519.5.2.1.3671.4754.218938411300600171613807256501_MR_T2/1.3.6.1.4.1.14519.5.2.1.3671.4754.218938411300600171613807256501_Prostate_With_e-coil_C-_19950706110656_4.nii.gz\n",
            "output_path_seg_root : /content/qin_prostate_root_data/resampled/nii/PCAMPMRI-00010/1.3.6.1.4.1.14519.5.2.1.3671.4754.217251077299095981018478951589/1.2.276.0.7230010.3.1.3.1426846371.4124.1513205167.5_T2_SEG_Lesion.nii.gz\n",
            "\n",
            "\n",
            "Running 'plastimatch resample' with the specified arguments:\n",
            "  --input /content/qin_prostate_root_data/nii/nii/PCAMPMRI-00010/1.3.6.1.4.1.14519.5.2.1.3671.4754.217251077299095981018478951589/1.2.276.0.7230010.3.1.3.1426846371.4124.1513205167.5_T2_SEG/4.nii.gz\n",
            "  --output /content/qin_prostate_root_data/resampled/nii/PCAMPMRI-00010/1.3.6.1.4.1.14519.5.2.1.3671.4754.217251077299095981018478951589/1.2.276.0.7230010.3.1.3.1426846371.4124.1513205167.5_T2_SEG_Prostate.nii.gz.nii.gz\n",
            "  --fixed /content/qin_prostate_root_data/nii/nii/PCAMPMRI-00010/1.3.6.1.4.1.14519.5.2.1.3671.4754.217251077299095981018478951589/1.3.6.1.4.1.14519.5.2.1.3671.4754.218938411300600171613807256501_MR_T2/1.3.6.1.4.1.14519.5.2.1.3671.4754.218938411300600171613807256501_Prostate_With_e-coil_C-_19950706110656_4.nii.gz\n",
            "  --interpolation nn\n",
            "... Done.\n",
            "patientID : PCAMPMRI-00010\n",
            "studyUID : 1.3.6.1.4.1.14519.5.2.1.3671.4754.217251077299095981018478951589\n",
            "serieUID 1.2.276.0.7230010.3.1.3.1426846371.4124.1513205167.5\n",
            "type serie : T2_SEG\n",
            "refSerieUID  : 1.3.6.1.4.1.14519.5.2.1.3671.4754.218938411300600171613807256501\n",
            "matched mod : /content/qin_prostate_root_data/nii/nii/PCAMPMRI-00010/1.3.6.1.4.1.14519.5.2.1.3671.4754.217251077299095981018478951589/1.3.6.1.4.1.14519.5.2.1.3671.4754.218938411300600171613807256501_MR_T2/1.3.6.1.4.1.14519.5.2.1.3671.4754.218938411300600171613807256501_Prostate_With_e-coil_C-_19950706110656_4.nii.gz\n",
            "output_path_seg_root : /content/qin_prostate_root_data/resampled/nii/PCAMPMRI-00010/1.3.6.1.4.1.14519.5.2.1.3671.4754.217251077299095981018478951589/1.2.276.0.7230010.3.1.3.1426846371.4124.1513205167.5_T2_SEG_Prostate.nii.gz\n",
            "\n"
          ]
        }
      ],
      "source": [
        "nii_lst = glob.glob(os.path.join(\"/content/qin_prostate_root_data/nii/nii/\", \"**\", \"*_SEG\", \"*.nii.gz\"), recursive=True)\n",
        "for seg_nii in sorted(nii_lst) :\n",
        "  patientID = seg_nii.split('/')[-4]\n",
        "  studyUID = seg_nii.split('/')[-3]\n",
        "  serieUID = seg_nii.split('/')[-2].split('_')[0] #standard serieUID without T2_SEG custom suffix\n",
        "  # print()\n",
        "  type_serie = '_'.join(seg_nii.split('/')[-2].split('_')[1:])\n",
        "  #get referencedSerieUID from seg corresponding to T2 MR volume \n",
        "  referencedSerieUID = str(selection_df[selection_df[\"SeriesInstanceUID\"] == serieUID][\"RefSerieUID\"].iloc[0])\t\n",
        "  matched_mod = glob.glob(os.path.join(\"/content/qin_prostate_root_data/nii/nii/\", \n",
        "                                            patientID, studyUID, \"**\" + f\"_MR_{desired_grid}\", \"*.nii*\"), recursive=True)[0]\n",
        "  json_dcmqi = glob.glob(os.path.join(\"/\".join(seg_nii.split('/')[:-1]), \"*.json\"))[0]\n",
        "  labelID = seg_nii.split('/')[-1].split(\".\")[0]\n",
        "  segmentLabel = get_CodeMeaning_from_labelID(json_dcmqi, int(labelID)).replace(\" \",\"_\")\n",
        "  output_path_seg = os.path.join(\"/content/qin_prostate_root_data/resampled/nii/\",\n",
        "                                  patientID, studyUID,\n",
        "                                  serieUID + f\"_{type_serie}_{segmentLabel}.nii.gz\")\n",
        "  if not os.path.exists(\"/\".join(output_path_seg.split(\"/\")[:-1])):\n",
        "    !mkdir -p {\"/\".join(output_path_seg.split(\"/\")[:-1])}\n",
        "  assert os.path.exists(seg_nii)\n",
        "  assert os.path.exists(matched_mod)\n",
        "  resample_args = {\"input\" : seg_nii,\n",
        "                   \"output\" : f\"{output_path_seg}.nii.gz\",\n",
        "                   \"fixed\" : matched_mod,\n",
        "                   \"interpolation\" : \"nn\"}\n",
        "  #resample to t2 mod based on study -- not uniform across studies\n",
        "  pypla.resample(verbose = True, **resample_args)\n",
        "  print(f\"patientID : {patientID}\")\n",
        "  print(f\"studyUID : {studyUID}\")\n",
        "  print(f\"serieUID {serieUID}\")\n",
        "  print(f\"type serie : {type_serie}\")\n",
        "  print(f\"refSerieUID  : {referencedSerieUID}\")\n",
        "  print(f\"matched mod : {matched_mod}\")\n",
        "  print(f\"output_path_seg_root : {output_path_seg}\")\n",
        "  print()"
      ]
    },
    {
      "cell_type": "markdown",
      "metadata": {
        "id": "OD6gtoaucXn5"
      },
      "source": [
        "## Resampling input data(T2--ADC--DWI) to desired resampling grid -- here T2"
      ]
    },
    {
      "cell_type": "code",
      "execution_count": 36,
      "metadata": {
        "colab": {
          "base_uri": "https://localhost:8080/"
        },
        "id": "NHGOxrRbcXn_",
        "outputId": "d9d37e0a-1da9-4c45-d859-6c2e9876ee40"
      },
      "outputs": [
        {
          "output_type": "stream",
          "name": "stdout",
          "text": [
            "type_serie : T2\n",
            "serieUID : 1.3.6.1.4.1.14519.5.2.1.3671.4754.218938411300600171613807256501\n",
            "\n",
            "type_serie : DWI\n",
            "serieUID : 1.3.6.1.4.1.14519.5.2.1.3671.4754.301965004788702079527239108078\n",
            "need to resample\n",
            "match_des_grid : /content/qin_prostate_root_data/nii/nii/PCAMPMRI-00010/1.3.6.1.4.1.14519.5.2.1.3671.4754.217251077299095981018478951589/1.3.6.1.4.1.14519.5.2.1.3671.4754.218938411300600171613807256501_MR_T2/1.3.6.1.4.1.14519.5.2.1.3671.4754.218938411300600171613807256501_Prostate_With_e-coil_C-_19950706110656_4.nii.gz\n",
            "\n",
            "type_serie : ADC\n",
            "serieUID : 1.3.6.1.4.1.14519.5.2.1.3671.4754.325101422645606089647294436948\n",
            "need to resample\n",
            "match_des_grid : /content/qin_prostate_root_data/nii/nii/PCAMPMRI-00010/1.3.6.1.4.1.14519.5.2.1.3671.4754.217251077299095981018478951589/1.3.6.1.4.1.14519.5.2.1.3671.4754.218938411300600171613807256501_MR_T2/1.3.6.1.4.1.14519.5.2.1.3671.4754.218938411300600171613807256501_Prostate_With_e-coil_C-_19950706110656_4.nii.gz\n",
            "\n"
          ]
        }
      ],
      "source": [
        "nii_lst = glob.glob(os.path.join(\"/content/qin_prostate_root_data/nii/nii/\", \n",
        "                                 \"**\", \"*_MR*\", \"*.nii.gz\"), recursive=True)\n",
        "for mr_nii in sorted(nii_lst) :\n",
        "  patientID = mr_nii.split('/')[-4]\n",
        "  studyUID = mr_nii.split('/')[-3]\n",
        "  serieUID = mr_nii.split('/')[-2].split('_')[0] #standard serieUID without T2_SEG custom suffix\n",
        "  sopInstanceUID = mr_nii.split('/')[-1]\n",
        "  type_serie = mr_nii.split('/')[-2].split('_')[-1]\n",
        "  print(f'type_serie : {type_serie}')\n",
        "  print(f'serieUID : {serieUID}')\n",
        "  output_path_root = os.path.join(\"/content/qin_prostate_root_data/resampled/nii/\",\n",
        "                                  patientID, studyUID) \n",
        "  output_path = os.path.join(output_path_root, f\"{mr_nii.split('/')[-2]}.nii.gz\")\n",
        "  if not os.path.exists(output_path_root):\n",
        "    !mkdir -p $output_path_root\n",
        "  if desired_grid != type_serie:\n",
        "    print(\"need to resample\")\n",
        "    match_des_grid = glob.glob(os.path.join(\"/content/qin_prostate_root_data/nii/nii/\",\n",
        "                                         patientID, studyUID, \n",
        "                                         f\"*_MR_{desired_grid}\", #serieUID\n",
        "                                         \"*.nii*\"))[0] #SOPUID\n",
        "    print(f\"match_des_grid : {match_des_grid}\")\n",
        "    resample_args = {\"input\" : mr_nii, \n",
        "                        \"output\" : output_path,\n",
        "                        \"fixed\" : match_des_grid}\n",
        "    #resample based on study -- not uniform across studies\n",
        "    pypla.resample(verbose = False, **resample_args)\n",
        "  elif desired_grid == type_serie :#just cp other volume for now, no fixed resampling grid option implemented yet\n",
        "    !cp $mr_nii $output_path\n",
        "  else:\n",
        "    pass\n",
        "  print()"
      ]
    },
    {
      "cell_type": "markdown",
      "source": [
        "# Formatting images for prostate158 inference"
      ],
      "metadata": {
        "id": "KZEABU6ECHkU"
      }
    },
    {
      "cell_type": "markdown",
      "source": [
        "nnUNet expects caseID_modality.nii.gz format for inference.\n",
        "\n",
        "In our use case, **caseID** will be PatientID_StudyUID and **modality**(T2/ADC/DWI) will be  0000/0001/0002).nii.gz for prostate cancer detection using picai challenge pre-trained models.\n"
      ],
      "metadata": {
        "id": "QyUoWg7oCKXT"
      }
    },
    {
      "cell_type": "code",
      "source": [
        "!rm -rf prostate158_images\n",
        "!mkdir prostate158_images"
      ],
      "metadata": {
        "id": "MEEbYSt_CbcW"
      },
      "execution_count": 37,
      "outputs": []
    },
    {
      "cell_type": "code",
      "source": [
        "for image_nii in sorted(glob.glob(os.path.join(\"/content/qin_prostate_root_data/resampled/nii/\", \"**\", \"*MR*.nii.gz\"), recursive=True)):\n",
        "  print(image_nii)\n",
        "  mapping_modality_index = {\"T2\" : \"0000\", \"ADC\" : \"0001\", \"DWI\" : \"0002\"}  \n",
        "  patID = image_nii.split(\"/\")[-3]\n",
        "  studyUID = image_nii.split(\"/\")[-2]\n",
        "  modality = image_nii.split(\"/\")[-1][:-7].split(\"_\")[-1]\n",
        "  modality_index = mapping_modality_index[modality]\n",
        "  out_path_nnunet = os.path.join(\"prostate158_images\", f\"{patID}_{studyUID}_{modality_index}.nii.gz\")\n",
        "  !cp $image_nii $out_path_nnunet\n",
        "  print(f\"patID : {patID}\")\n",
        "  print(f\"studyUID : {studyUID}\")\n",
        "  print(f\"modality : {modality}\")\n",
        "  print(f\"modality_index : {modality_index}\")\n",
        "  print(f\"out path nnunet : {out_path_nnunet}\")\n",
        "  print()"
      ],
      "metadata": {
        "colab": {
          "base_uri": "https://localhost:8080/"
        },
        "id": "d5Wvft2pDx4N",
        "outputId": "bb16c1c8-69cb-46cb-aead-b343075b9fff"
      },
      "execution_count": 38,
      "outputs": [
        {
          "output_type": "stream",
          "name": "stdout",
          "text": [
            "/content/qin_prostate_root_data/resampled/nii/PCAMPMRI-00010/1.3.6.1.4.1.14519.5.2.1.3671.4754.217251077299095981018478951589/1.3.6.1.4.1.14519.5.2.1.3671.4754.218938411300600171613807256501_MR_T2.nii.gz\n",
            "patID : PCAMPMRI-00010\n",
            "studyUID : 1.3.6.1.4.1.14519.5.2.1.3671.4754.217251077299095981018478951589\n",
            "modality : T2\n",
            "modality_index : 0000\n",
            "out path nnunet : prostate158_images/PCAMPMRI-00010_1.3.6.1.4.1.14519.5.2.1.3671.4754.217251077299095981018478951589_0000.nii.gz\n",
            "\n",
            "/content/qin_prostate_root_data/resampled/nii/PCAMPMRI-00010/1.3.6.1.4.1.14519.5.2.1.3671.4754.217251077299095981018478951589/1.3.6.1.4.1.14519.5.2.1.3671.4754.301965004788702079527239108078_MR_DWI.nii.gz\n",
            "patID : PCAMPMRI-00010\n",
            "studyUID : 1.3.6.1.4.1.14519.5.2.1.3671.4754.217251077299095981018478951589\n",
            "modality : DWI\n",
            "modality_index : 0002\n",
            "out path nnunet : prostate158_images/PCAMPMRI-00010_1.3.6.1.4.1.14519.5.2.1.3671.4754.217251077299095981018478951589_0002.nii.gz\n",
            "\n",
            "/content/qin_prostate_root_data/resampled/nii/PCAMPMRI-00010/1.3.6.1.4.1.14519.5.2.1.3671.4754.217251077299095981018478951589/1.3.6.1.4.1.14519.5.2.1.3671.4754.325101422645606089647294436948_MR_ADC.nii.gz\n",
            "patID : PCAMPMRI-00010\n",
            "studyUID : 1.3.6.1.4.1.14519.5.2.1.3671.4754.217251077299095981018478951589\n",
            "modality : ADC\n",
            "modality_index : 0001\n",
            "out path nnunet : prostate158_images/PCAMPMRI-00010_1.3.6.1.4.1.14519.5.2.1.3671.4754.217251077299095981018478951589_0001.nii.gz\n",
            "\n"
          ]
        }
      ]
    },
    {
      "cell_type": "markdown",
      "source": [
        "# Formating ground-truth manually delineated lesions for prostate158 pre-trained models evaluation"
      ],
      "metadata": {
        "id": "-x4WnwvIDlxX"
      }
    },
    {
      "cell_type": "code",
      "source": [
        "!rm -rf prostate158_labels\n",
        "!mkdir prostate158_labels"
      ],
      "metadata": {
        "id": "R7zWf-OkLfd-"
      },
      "execution_count": 39,
      "outputs": []
    },
    {
      "cell_type": "code",
      "source": [
        "lesion_nifti_lst = []"
      ],
      "metadata": {
        "id": "OYC6_dQxNO3H"
      },
      "execution_count": 40,
      "outputs": []
    },
    {
      "cell_type": "code",
      "source": [
        "for seg_nii in sorted(glob.glob(os.path.join(\"/content/qin_prostate_root_data/resampled/nii/\", \"**\", \"*Lesion*.nii.gz\"), recursive=True)):\n",
        "  print(seg_nii)\n",
        "  patID = seg_nii.split(\"/\")[-3]\n",
        "  studyUID = seg_nii.split(\"/\")[-2]\n",
        "  out_path_nnunet = os.path.join(\"prostate158_labels\", f\"{patID}_{studyUID}.nii.gz\")\n",
        "  !cp $seg_nii $out_path_nnunet\n",
        "  print(f\"patID : {patID}\")\n",
        "  print(f\"studyUID : {studyUID}\")\n",
        "  print(f\"out path : {out_path_nnunet}\")\n",
        "  print()"
      ],
      "metadata": {
        "id": "4bv-9PUWDxUe",
        "colab": {
          "base_uri": "https://localhost:8080/"
        },
        "outputId": "59387f42-2dba-456e-dfcd-ea9405e400c2"
      },
      "execution_count": 41,
      "outputs": [
        {
          "output_type": "stream",
          "name": "stdout",
          "text": [
            "/content/qin_prostate_root_data/resampled/nii/PCAMPMRI-00010/1.3.6.1.4.1.14519.5.2.1.3671.4754.217251077299095981018478951589/1.2.276.0.7230010.3.1.3.1426846371.18344.1513205168.159_ADC_SEG_Lesion.nii.gz\n",
            "patID : PCAMPMRI-00010\n",
            "studyUID : 1.3.6.1.4.1.14519.5.2.1.3671.4754.217251077299095981018478951589\n",
            "out path : prostate158_labels/PCAMPMRI-00010_1.3.6.1.4.1.14519.5.2.1.3671.4754.217251077299095981018478951589.nii.gz\n",
            "\n",
            "/content/qin_prostate_root_data/resampled/nii/PCAMPMRI-00010/1.3.6.1.4.1.14519.5.2.1.3671.4754.217251077299095981018478951589/1.2.276.0.7230010.3.1.3.1426846371.4124.1513205167.5_T2_SEG_Lesion.nii.gz\n",
            "patID : PCAMPMRI-00010\n",
            "studyUID : 1.3.6.1.4.1.14519.5.2.1.3671.4754.217251077299095981018478951589\n",
            "out path : prostate158_labels/PCAMPMRI-00010_1.3.6.1.4.1.14519.5.2.1.3671.4754.217251077299095981018478951589.nii.gz\n",
            "\n"
          ]
        }
      ]
    },
    {
      "cell_type": "markdown",
      "metadata": {
        "id": "crlbOe069qnD"
      },
      "source": [
        "# Setup of working directory for inference using MONAI prostate158 cancer model"
      ]
    },
    {
      "cell_type": "code",
      "source": [
        "!rm -rf monai_pcdetection_bundle"
      ],
      "metadata": {
        "id": "zVAreYCAdC6a"
      },
      "execution_count": 42,
      "outputs": []
    },
    {
      "cell_type": "markdown",
      "metadata": {
        "id": "tpLO_5VIcQjo"
      },
      "source": [
        "Download PC segmentation bundle from github"
      ]
    },
    {
      "cell_type": "markdown",
      "source": [
        "To use the bundle on our own data, we need to modify the inference.json file, also included in the bundle.\n",
        "\n",
        "The variables that we need to modify are the locations of the **data, model and output** directories paths."
      ],
      "metadata": {
        "id": "GqRcbdzYWB2Z"
      }
    },
    {
      "cell_type": "code",
      "execution_count": 43,
      "metadata": {
        "id": "pDvydOpcD2V1",
        "colab": {
          "base_uri": "https://localhost:8080/"
        },
        "outputId": "bf27b029-ff2a-42c7-dca5-b4702cefa35b"
      },
      "outputs": [
        {
          "output_type": "stream",
          "name": "stdout",
          "text": [
            "A    monai_pcdetection_bundle/configs\n",
            "A    monai_pcdetection_bundle/configs/datalist.json\n",
            "A    monai_pcdetection_bundle/configs/inference.json\n",
            "A    monai_pcdetection_bundle/configs/metadata.json\n",
            "A    monai_pcdetection_bundle/large_files.yml\n",
            "Checked out revision 11.\n"
          ]
        }
      ],
      "source": [
        "!svn checkout https://github.com/ImagingDataCommons/idc-prostate-mri-analysis.git/trunk/pcDetectionBundle/ monai_pcdetection_bundle"
      ]
    },
    {
      "cell_type": "markdown",
      "source": [
        "Definition of inference paths in our local environment, later used to overwite downloaded inference.json file"
      ],
      "metadata": {
        "id": "dCVK8RDcSQ2i"
      }
    },
    {
      "cell_type": "code",
      "execution_count": 44,
      "metadata": {
        "id": "3Ov9CLFE9_JV"
      },
      "outputs": [],
      "source": [
        "#Definition of paths\n",
        "os.environ[\"monai_workspace\"] = \"monai_pcdetection_bundle\"\n",
        "os.environ[\"monai_workspace_eval\"] = os.path.join(os.environ[\"monai_workspace\"], \"eval/\")\n",
        "os.environ[\"monai_workspace_dataset\"] = os.path.join(os.environ[\"monai_workspace\"], \"dataset/\")\n",
        "os.environ[\"monai_workspace_model_dir\"] = os.path.join(os.environ[\"monai_workspace\"], \"models\")\n",
        "os.environ[\"monai_workspace_model_path\"] = os.path.join(os.environ[\"monai_workspace\"], \"models\", \"cancer.pt\")"
      ]
    },
    {
      "cell_type": "code",
      "execution_count": 45,
      "metadata": {
        "id": "Vote_JKY93vT"
      },
      "outputs": [],
      "source": [
        "#Make sure these folders exists, otherwise created\n",
        "!mkdir -p {os.environ[\"monai_workspace\"]}\n",
        "!mkdir -p {os.environ[\"monai_workspace_eval\"]}\n",
        "!mkdir -p {os.environ[\"monai_workspace_dataset\"]}\n",
        "!mkdir -p {os.environ[\"monai_workspace_model_dir\"]}"
      ]
    },
    {
      "cell_type": "markdown",
      "source": [
        "Download pre-trained PC model to local model path : bundle/models/placeholder.pt "
      ],
      "metadata": {
        "id": "0nqi-avDTjX_"
      }
    },
    {
      "cell_type": "code",
      "execution_count": 46,
      "metadata": {
        "colab": {
          "base_uri": "https://localhost:8080/"
        },
        "id": "kXU4Nw47905V",
        "outputId": "71070f3d-b65b-4a7c-b36a-d293804c397c"
      },
      "outputs": [
        {
          "output_type": "stream",
          "name": "stdout",
          "text": [
            "Copying gs://projectweek38/pcdetection/models/cancer.pt...\n",
            "| [1/1 files][145.7 MiB/145.7 MiB] 100% Done                                    \n",
            "Operation completed over 1 objects/145.7 MiB.                                    \n"
          ]
        }
      ],
      "source": [
        "!gsutil -m cp -r gs://projectweek38/pcdetection/models/cancer.pt \\\n",
        "{os.environ[\"monai_workspace_model_dir\"]}/cancer.pt"
      ]
    },
    {
      "cell_type": "markdown",
      "metadata": {
        "id": "ss8UinEgXE6h"
      },
      "source": [
        "Copy QIN-PROSTATE-REPEATABILITY T2,ADC,DWI data as an input for the inference pipeline."
      ]
    },
    {
      "cell_type": "markdown",
      "source": [
        "Since we are dealing with multi-modality input data([t2,adc,dwi]), monai bundle expects a certain format :\n"
      ],
      "metadata": {
        "id": "wdCnryXoTvlg"
      }
    },
    {
      "cell_type": "markdown",
      "source": [
        "![Screen Shot 2023-02-06 at 2.49.14 PM.png](data:image/png;base64,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)"
      ],
      "metadata": {
        "id": "oIN4-F0gUZS6"
      }
    },
    {
      "cell_type": "markdown",
      "source": [
        "Please also keep in mind that the loading method used here needs relative paths to the bundle root folder to work properly, not absolute paths.\n",
        "\n",
        "During inference, writing to disk of the model ouputs only takes into account the file name, so please make sure your input nifti samples have different naming, even across modalities of the same sample, convention used here is caseID_modality.nii.gz"
      ],
      "metadata": {
        "id": "2IeTILelUaNs"
      }
    },
    {
      "cell_type": "markdown",
      "source": [
        "The pipeline below showcases :\n",
        "\n",
        "input_nifti_data_paths \n",
        "\n",
        "**-->** \n",
        "\n",
        "```\n",
        "[[caseID1_t2.nii.gz, caseID1_adc.nii.gz, caseID1_dwi.nii.gz],\n",
        "\n",
        "[caseID2_t2.nii.gz, caseID2_adc.nii.gz, caseID2_dwi.nii.gz],...]\n",
        "```\n",
        "\n",
        "**-->** dump to json : datalist.json\n",
        "\n",
        "\n",
        "This datalist.json is later loaded in the inference.json and looks like this :\n",
        "\n",
        "\n",
        "\n",
        "```\n",
        "{\"testing\" : [relative_path/caseID1_t2.nii.gz, relative_path/caseID1_adc.nii.gz, relative_pathcaseID1_dwi.nii.gz],\n",
        "\n",
        "[relative_path/caseID2_t2.nii.gz, relative_path/caseID2_adc.nii.gz, relative_path/caseID2_dwi.nii.gz],...}\n",
        "```\n",
        "\n",
        "\n"
      ],
      "metadata": {
        "id": "HLWswK5pUi3-"
      }
    },
    {
      "cell_type": "markdown",
      "source": [
        "Move QIN-PROST-REP data to monai workspaces folder"
      ],
      "metadata": {
        "id": "I4vX5e5pVg9_"
      }
    },
    {
      "cell_type": "code",
      "source": [
        "!cp /content/prostate158_images/* {os.environ['monai_workspace_dataset']}/"
      ],
      "metadata": {
        "id": "1sp6rg06Wlqo"
      },
      "execution_count": 47,
      "outputs": []
    },
    {
      "cell_type": "code",
      "execution_count": 48,
      "metadata": {
        "id": "C_jhHJJao5pF"
      },
      "outputs": [],
      "source": [
        "eval_lst = list(zip(sorted(glob.glob(os.path.join(os.environ['monai_workspace_dataset'], \"*0000.nii.gz\"))), \n",
        "         sorted(glob.glob(os.path.join(os.environ['monai_workspace_dataset'], \"*0001.nii.gz\"))),\n",
        "         sorted(glob.glob(os.path.join(os.environ['monai_workspace_dataset'], \"*0002.nii.gz\")))))\n",
        "\n",
        "input_gt_lst = sorted(glob.glob(os.path.join(\"/content/prostate158_labels\", \"*.nii.gz\")))\n",
        "\n",
        "for x in eval_lst : \n",
        "    assert os.path.exists(x[0])\n",
        "    assert os.path.exists(x[1])\n",
        "    assert os.path.exists(x[2]) \n",
        "for x in input_gt_lst : assert os.path.exists(x)\n",
        "#change absolute path to relative to monai workspace paths for input images\n",
        "eval_lst = [(os.path.join(\"dataset\", x[0].split(\"/\")[-1]),\n",
        "             os.path.join(\"dataset\", x[1].split(\"/\")[-1]),\n",
        "             os.path.join(\"dataset\", x[2].split(\"/\")[-1])) for x in eval_lst]\n",
        "\n",
        "#select one sample only \n",
        "eval_lst = [eval_lst[0]]\n",
        "input_gt_lst = [input_gt_lst[0]]"
      ]
    },
    {
      "cell_type": "code",
      "source": [
        "!rm -rf {os.path.join(os.environ[\"monai_workspace\"], 'datalist.json')}"
      ],
      "metadata": {
        "id": "tQKWKemCdkBq"
      },
      "execution_count": 49,
      "outputs": []
    },
    {
      "cell_type": "code",
      "execution_count": 50,
      "metadata": {
        "id": "zlCLTkR4sCfD"
      },
      "outputs": [],
      "source": [
        "for index, item in enumerate(eval_lst) :\n",
        "  eval_lst[index]={\"image\" : item}\n",
        "with open(os.path.join(os.environ[\"monai_workspace\"],'datalist.json'), 'w') as fp:\n",
        "  json.dump({\"testing\" : eval_lst}, fp)"
      ]
    },
    {
      "cell_type": "markdown",
      "metadata": {
        "id": "oMwzuvQnh9bc"
      },
      "source": [
        "Setup of inference.json parameters"
      ]
    },
    {
      "cell_type": "code",
      "execution_count": 51,
      "metadata": {
        "id": "XD-BOU6v-79-"
      },
      "outputs": [],
      "source": [
        "inference_json = json.load(open(os.environ[\"monai_workspace\"]+\"/configs/inference.json\"))\n",
        "#setup variables\n",
        "inference_json[\"bundle_root\"] = os.environ[\"monai_workspace\"]\n",
        "inference_json[\"output_dir\"] = os.environ[\"monai_workspace_eval\"]\n",
        "inference_json[\"dataset_dir\"] = os.environ[\"monai_workspace_dataset\"]\n",
        "inference_json[\"handlers\"][0][\"load_path\"] = os.environ[\"monai_workspace_model_path\"]\n",
        "inference_json[\"test_datalist\"] = \"$monai.data.load_decathlon_datalist('/content/monai_pcdetection_bundle/datalist.json', data_list_key='testing')\""
      ]
    },
    {
      "cell_type": "markdown",
      "metadata": {
        "id": "Euy1QBsgiBq1"
      },
      "source": [
        "Overriding of inference.json to local workspace"
      ]
    },
    {
      "cell_type": "code",
      "execution_count": 52,
      "metadata": {
        "id": "9KcMdEHGb_AD"
      },
      "outputs": [],
      "source": [
        "# !rm -rf {os.path.join(os.environ[\"monai_workspace\"],'/configs/inference.json')}\n",
        "with open(os.environ[\"monai_workspace\"]+'/configs/inference.json', 'w') as fp:\n",
        "    json.dump(inference_json, fp, indent=4)"
      ]
    },
    {
      "cell_type": "markdown",
      "source": [
        "# Inference"
      ],
      "metadata": {
        "id": "2XxUaRafeYWd"
      }
    },
    {
      "cell_type": "code",
      "source": [
        "!python -m monai.bundle run evaluating --meta_file /content/monai_pcdetection_bundle/configs/metadata.json --config_file /content/monai_pcdetection_bundle/configs/inference.json "
      ],
      "metadata": {
        "id": "1p3mWcGkeaDX",
        "colab": {
          "base_uri": "https://localhost:8080/"
        },
        "outputId": "3bb9715c-2156-4714-dc85-5d203d9ba274"
      },
      "execution_count": 53,
      "outputs": [
        {
          "output_type": "stream",
          "name": "stdout",
          "text": [
            "2023-05-24 21:53:09,244 - INFO - --- input summary of monai.bundle.scripts.run ---\n",
            "2023-05-24 21:53:09,244 - INFO - > runner_id: 'evaluating'\n",
            "2023-05-24 21:53:09,244 - INFO - > meta_file: '/content/monai_pcdetection_bundle/configs/metadata.json'\n",
            "2023-05-24 21:53:09,244 - INFO - > config_file: '/content/monai_pcdetection_bundle/configs/inference.json'\n",
            "2023-05-24 21:53:09,244 - INFO - ---\n",
            "\n",
            "\n",
            "This DataLoader will create 4 worker processes in total. Our suggested max number of worker in current system is 2, which is smaller than what this DataLoader is going to create. Please be aware that excessive worker creation might get DataLoader running slow or even freeze, lower the worker number to avoid potential slowness/freeze if necessary.\n",
            "2023-05-24 21:53:12,482 - Engine run resuming from iteration 0, epoch 0 until 1 epochs\n",
            "2023-05-24 21:53:12,687 - Restored all variables from monai_pcdetection_bundle/models/cancer.pt\n",
            "2023-05-24 21:53:30,190 INFO image_writer.py:194 - writing: monai_pcdetection_bundle/eval/PCAMPMRI-00010_1.3.6.1.4.1.14519.5.2.1.3671.4754.217251077299095981018478951589_0000/PCAMPMRI-00010_1.3.6.1.4.1.14519.5.2.1.3671.4754.217251077299095981018478951589_0000_trans.nii.gz\n",
            "2023-05-24 21:53:30,825 - Epoch[1] Complete. Time taken: 00:00:17.930\n",
            "2023-05-24 21:53:30,825 - Engine run complete. Time taken: 00:00:18.344\n",
            "[null, null]\n"
          ]
        }
      ]
    },
    {
      "cell_type": "markdown",
      "source": [
        "# Evaluation of prostate158 tumors"
      ],
      "metadata": {
        "id": "tgpLFU6ffM5w"
      }
    },
    {
      "cell_type": "markdown",
      "source": [
        "## DSC Computation"
      ],
      "metadata": {
        "id": "zFjAgYSwv78B"
      }
    },
    {
      "cell_type": "code",
      "source": [
        "for pred in glob.glob(\"/content/monai_pcdetection_bundle/eval/**/*.nii.gz\", recursive=True):\n",
        "  print(pred)\n",
        "  gt_path = glob.glob(f\"/content/prostate158_labels/{'_'.join(pred.split('/')[-1].split('_')[0:2])+'.nii.gz'}\")[0]\n",
        "  print(f\"prediction analyzed : {pred}\")\n",
        "  print(f\"corresponding ground-truth : {gt_path}\")\n",
        "  print(\"Dice coefficient/HSDFF/... results\")\n",
        "  !plastimatch dice --dice $gt_path $pred\n",
        "  print(\"Done!\")\n",
        "  print('\\n')"
      ],
      "metadata": {
        "id": "XwVCxW-2w3cz"
      },
      "execution_count": null,
      "outputs": []
    }
  ]
}