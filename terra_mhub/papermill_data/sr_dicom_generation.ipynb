{
 "cells": [
  {
   "cell_type": "markdown",
   "id": "9d66f855",
   "metadata": {
    "id": "9d66f855",
    "papermill": {
     "duration": 0.008699,
     "end_time": "2024-09-10T04:38:19.072984",
     "exception": false,
     "start_time": "2024-09-10T04:38:19.064285",
     "status": "completed"
    },
    "tags": []
   },
   "source": [
    "# Setup"
   ]
  },
  {
   "cell_type": "code",
   "execution_count": 1,
   "id": "Myw8MvN7khmz",
   "metadata": {
    "id": "Myw8MvN7khmz"
   },
   "outputs": [],
   "source": [
    "# from google.colab import auth\n",
    "# auth.authenticate_user()"
   ]
  },
  {
   "cell_type": "code",
   "execution_count": null,
   "id": "7438a39a",
   "metadata": {
    "execution": {
     "iopub.execute_input": "2024-09-10T04:38:19.089996Z",
     "iopub.status.busy": "2024-09-10T04:38:19.089585Z",
     "iopub.status.idle": "2024-09-10T04:38:19.094536Z",
     "shell.execute_reply": "2024-09-10T04:38:19.093711Z"
    },
    "id": "7438a39a",
    "papermill": {
     "duration": 0.015936,
     "end_time": "2024-09-10T04:38:19.096576",
     "exception": false,
     "start_time": "2024-09-10T04:38:19.080640",
     "status": "completed"
    },
    "tags": []
   },
   "outputs": [],
   "source": [
    "# !apt-get install lz4"
   ]
  },
  {
   "cell_type": "code",
   "execution_count": null,
   "id": "IDZcNC2zB2O6",
   "metadata": {
    "id": "IDZcNC2zB2O6"
   },
   "outputs": [],
   "source": [
    "# !pip install pylibjpeg pylibjpeg-openjpeg pylibjpeg-libjpeg"
   ]
  },
  {
   "cell_type": "code",
   "execution_count": null,
   "id": "e0d58ac2",
   "metadata": {
    "execution": {
     "iopub.execute_input": "2024-09-10T04:38:19.113557Z",
     "iopub.status.busy": "2024-09-10T04:38:19.112695Z",
     "iopub.status.idle": "2024-09-10T04:38:19.116674Z",
     "shell.execute_reply": "2024-09-10T04:38:19.115802Z"
    },
    "id": "e0d58ac2",
    "papermill": {
     "duration": 0.0146,
     "end_time": "2024-09-10T04:38:19.118637",
     "exception": false,
     "start_time": "2024-09-10T04:38:19.104037",
     "status": "completed"
    },
    "tags": []
   },
   "outputs": [],
   "source": [
    "# !pip install dcm2niix pyaml idc-index pyradiomics SimpleITK==2.3.0  pyplastimatch==0.4.2 highdicom==0.21.0 pydicom==2.4.3\n",
    "# from pyplastimatch.utils.install import install_precompiled_binaries\n",
    "# install_precompiled_binaries()"
   ]
  },
  {
   "cell_type": "code",
   "execution_count": null,
   "id": "9556f4af",
   "metadata": {
    "execution": {
     "iopub.execute_input": "2024-09-10T04:38:19.157509Z",
     "iopub.status.busy": "2024-09-10T04:38:19.156613Z",
     "iopub.status.idle": "2024-09-10T04:38:19.160837Z",
     "shell.execute_reply": "2024-09-10T04:38:19.159958Z"
    },
    "id": "9556f4af",
    "papermill": {
     "duration": 0.015328,
     "end_time": "2024-09-10T04:38:19.162895",
     "exception": false,
     "start_time": "2024-09-10T04:38:19.147567",
     "status": "completed"
    },
    "tags": []
   },
   "outputs": [],
   "source": [
    "# dcmqi_release_url = \"https://github.com/QIICR/dcmqi/releases/download/v1.3.4/dcmqi-1.3.4-linux.tar.gz\"\n",
    "# dcmqi_download_path = \"dcmqi-1.3.4-linux.tar.gz\"\n",
    "# dcmqi_path = \"dcmqi-1.3.4-linux\"\n",
    "# !wget -O $dcmqi_download_path $dcmqi_release_url\\\n",
    "# && tar -xvf $dcmqi_download_path\\\n",
    "# && mv $dcmqi_path/bin/* /bin\\\n",
    "# && rm -r $dcmqi_download_path $dcmqi_path"
   ]
  },
  {
   "cell_type": "code",
   "execution_count": 6,
   "id": "271a85f2",
   "metadata": {
    "execution": {
     "iopub.execute_input": "2024-09-10T04:38:19.179890Z",
     "iopub.status.busy": "2024-09-10T04:38:19.179164Z",
     "iopub.status.idle": "2024-09-10T04:38:22.503594Z",
     "shell.execute_reply": "2024-09-10T04:38:22.502290Z"
    },
    "id": "271a85f2",
    "papermill": {
     "duration": 3.336256,
     "end_time": "2024-09-10T04:38:22.506622",
     "exception": false,
     "start_time": "2024-09-10T04:38:19.170366",
     "status": "completed"
    },
    "tags": []
   },
   "outputs": [],
   "source": [
    "# Imports\n",
    "\n",
    "import os\n",
    "import json\n",
    "import glob\n",
    "\n",
    "import numpy as np\n",
    "\n",
    "import shutil\n",
    "\n",
    "import pyplastimatch as pypla\n",
    "\n",
    "import math\n",
    "import pandas as pd\n",
    "import SimpleITK as sitk\n",
    "\n",
    "from os.path import abspath\n",
    "\n",
    "import pydicom\n",
    "\n",
    "from idc_index import index\n",
    "client = index.IDCClient()"
   ]
  },
  {
   "cell_type": "markdown",
   "id": "418fc7dc",
   "metadata": {
    "id": "418fc7dc",
    "papermill": {
     "duration": 0.007524,
     "end_time": "2024-09-10T04:38:22.522124",
     "exception": false,
     "start_time": "2024-09-10T04:38:22.514600",
     "status": "completed"
    },
    "tags": []
   },
   "source": [
    "# Global Variables\n"
   ]
  },
  {
   "cell_type": "code",
   "execution_count": 9,
   "id": "b3a5f11a",
   "metadata": {
    "execution": {
     "iopub.execute_input": "2024-09-10T04:38:22.538981Z",
     "iopub.status.busy": "2024-09-10T04:38:22.538171Z",
     "iopub.status.idle": "2024-09-10T04:38:22.543154Z",
     "shell.execute_reply": "2024-09-10T04:38:22.542216Z"
    },
    "id": "b3a5f11a",
    "papermill": {
     "duration": 0.015778,
     "end_time": "2024-09-10T04:38:22.545195",
     "exception": false,
     "start_time": "2024-09-10T04:38:22.529417",
     "status": "completed"
    },
    "tags": [
     "parameters"
    ]
   },
   "outputs": [],
   "source": [
    "#absolute path output\n",
    "OUTPUT_PATH = \"\"#\"TEST\"#\"radiomics_task\"#\"\"\n",
    "#input MHUB zip file\n",
    "SEG_OUTPUT = \"\"#\"ai_combination_archive.tar.lz4\"#\"/content/radiomics_idc_output.tar.lz4\"#\"\"\n",
    "#segments parameters\n",
    "dicom_sr_CodeValues_lst = []#[ \"41216001\", \"279706003\", \"399384005\" ]\n",
    "dicom_sr_codeMeaning_lst = []#[ \"Prostatic_structure\", \"Structure_of_peripheral_glandular_zone_of_prostate_(body_structure)\", \"Structure_of_transition_zone_of_prostate_(body_structure)\" ]\n",
    "dicom_sr_CodingSchemeDesignator_lst = []#[ \"SCT\", \"SCT\", \"SCT\" ]\n",
    "#AlgorithmName\n",
    "terraRadSeriesDescription = \"\"#\"bamf_nnunet_mr_prostate\""
   ]
  },
  {
   "cell_type": "code",
   "execution_count": 10,
   "id": "679c81c6",
   "metadata": {
    "execution": {
     "iopub.execute_input": "2024-09-10T04:38:22.585223Z",
     "iopub.status.busy": "2024-09-10T04:38:22.584303Z",
     "iopub.status.idle": "2024-09-10T04:38:22.590385Z",
     "shell.execute_reply": "2024-09-10T04:38:22.589526Z"
    },
    "id": "679c81c6",
    "papermill": {
     "duration": 0.017031,
     "end_time": "2024-09-10T04:38:22.592311",
     "exception": false,
     "start_time": "2024-09-10T04:38:22.575280",
     "status": "completed"
    },
    "tags": []
   },
   "outputs": [],
   "source": [
    "SEG_OUTPUT_UNZIP = os.path.join(OUTPUT_PATH, \"seg_unzip\")\n",
    "\n",
    "seg_base_folder = os.path.join(OUTPUT_PATH, \"seg_objects\")\n",
    "\n",
    "seg_nii_folder = os.path.join(seg_base_folder, \"nii\")\n",
    "seg_nii_resampled_folder = os.path.join(seg_base_folder, \"nii_resampled\")\n",
    "seg_nii_resampled_renamed_folder = os.path.join(seg_base_folder, \"nii_resampled_renamed\")\n",
    "seg_sr_dicom_folder = os.path.join(seg_base_folder, \"dicom_sr\")\n",
    "seg_sr_json_dicom_folder = os.path.join(seg_base_folder, \"dicom_sr_json\")\n",
    "\n",
    "#IDC EVALUATION DATA\n",
    "## Image\n",
    "IDC_IMAGE_DICOM = os.path.join(OUTPUT_PATH, \"idc_image_data/dicom\")\n",
    "IDC_IMAGE_NII = os.path.join(OUTPUT_PATH, \"idc_image_data/nii\")\n",
    "IDC_IMAGE_NRRD = os.path.join(OUTPUT_PATH,\"idc_image_data/nrrd\")"
   ]
  },
  {
   "cell_type": "code",
   "execution_count": 11,
   "id": "9039b951",
   "metadata": {
    "execution": {
     "iopub.execute_input": "2024-09-10T04:38:22.609862Z",
     "iopub.status.busy": "2024-09-10T04:38:22.609056Z",
     "iopub.status.idle": "2024-09-10T04:38:22.615376Z",
     "shell.execute_reply": "2024-09-10T04:38:22.614583Z"
    },
    "id": "9039b951",
    "papermill": {
     "duration": 0.017386,
     "end_time": "2024-09-10T04:38:22.617186",
     "exception": false,
     "start_time": "2024-09-10T04:38:22.599800",
     "status": "completed"
    },
    "tags": []
   },
   "outputs": [],
   "source": [
    "def setup_folders():\n",
    "\t\"\"\"\n",
    "\tcreates environment data and results folder, first deletes current ones and then creates new ones\n",
    "\t\"\"\"\n",
    "\tfor folder_setup in [OUTPUT_PATH, SEG_OUTPUT_UNZIP, seg_base_folder,\n",
    "\t\t\t\t\t\t\t\t\t\t\t seg_nii_folder, seg_nii_resampled_folder,\n",
    "\t\t\t\t\t\t\t\t\t\t\t seg_sr_dicom_folder, seg_sr_json_dicom_folder,\n",
    "\t\t\t\t\t\t\t\t\t\t\t IDC_IMAGE_DICOM, IDC_IMAGE_NII, IDC_IMAGE_NRRD]:\n",
    "\t\t!rm -rf $folder_setup\n",
    "\t\t!mkdir -p $folder_setup"
   ]
  },
  {
   "cell_type": "code",
   "execution_count": 12,
   "id": "5e0ac0b5",
   "metadata": {
    "execution": {
     "iopub.execute_input": "2024-09-10T04:38:22.634226Z",
     "iopub.status.busy": "2024-09-10T04:38:22.633437Z",
     "iopub.status.idle": "2024-09-10T04:38:25.032586Z",
     "shell.execute_reply": "2024-09-10T04:38:25.031115Z"
    },
    "id": "5e0ac0b5",
    "papermill": {
     "duration": 2.411405,
     "end_time": "2024-09-10T04:38:25.036098",
     "exception": false,
     "start_time": "2024-09-10T04:38:22.624693",
     "status": "completed"
    },
    "tags": []
   },
   "outputs": [],
   "source": [
    "setup_folders()"
   ]
  },
  {
   "cell_type": "markdown",
   "id": "924ea23b",
   "metadata": {
    "id": "924ea23b",
    "papermill": {
     "duration": 0.00769,
     "end_time": "2024-09-10T04:38:25.059217",
     "exception": false,
     "start_time": "2024-09-10T04:38:25.051527",
     "status": "completed"
    },
    "tags": []
   },
   "source": [
    "# Utility functions"
   ]
  },
  {
   "cell_type": "markdown",
   "id": "869990f5",
   "metadata": {
    "id": "869990f5",
    "papermill": {
     "duration": 0.00729,
     "end_time": "2024-09-10T04:38:25.073964",
     "exception": false,
     "start_time": "2024-09-10T04:38:25.066674",
     "status": "completed"
    },
    "tags": []
   },
   "source": [
    "## Conversion DICOM <---> NII"
   ]
  },
  {
   "cell_type": "code",
   "execution_count": 37,
   "id": "72c8ec12",
   "metadata": {
    "execution": {
     "iopub.execute_input": "2024-09-10T04:38:25.091229Z",
     "iopub.status.busy": "2024-09-10T04:38:25.090846Z",
     "iopub.status.idle": "2024-09-10T04:38:25.098073Z",
     "shell.execute_reply": "2024-09-10T04:38:25.097125Z"
    },
    "id": "72c8ec12",
    "papermill": {
     "duration": 0.018701,
     "end_time": "2024-09-10T04:38:25.100165",
     "exception": false,
     "start_time": "2024-09-10T04:38:25.081464",
     "status": "completed"
    },
    "tags": []
   },
   "outputs": [],
   "source": [
    "def convert_image_dcm_to_nii(input_path, output_path_root, prefix=\"\", format=\"nii\"):\n",
    "\t\"\"\"\n",
    "\tConversion of DICOM MR data to NIFTI using dcm2niix\n",
    "\tinput_path : str, folder containing DICOM instances .dcm\n",
    "\toutput_path_root : str, output folder\n",
    "\tprefix : str, prefix for output file name\n",
    "\t\"\"\"\n",
    "\tif not os.path.exists(output_path_root):\n",
    "\t\t!mkdir -p $output_path_root\n",
    "\t!dcm2niix -z y -m y -f %i_{prefix} -o $output_path_root $input_path"
   ]
  },
  {
   "cell_type": "markdown",
   "id": "d91c3b07",
   "metadata": {
    "id": "d91c3b07",
    "papermill": {
     "duration": 0.007366,
     "end_time": "2024-09-10T04:38:25.115078",
     "exception": false,
     "start_time": "2024-09-10T04:38:25.107712",
     "status": "completed"
    },
    "tags": []
   },
   "source": [
    "## Resampling"
   ]
  },
  {
   "cell_type": "code",
   "execution_count": 38,
   "id": "6f192dc1",
   "metadata": {
    "execution": {
     "iopub.execute_input": "2024-09-10T04:38:25.132478Z",
     "iopub.status.busy": "2024-09-10T04:38:25.131626Z",
     "iopub.status.idle": "2024-09-10T04:38:25.139979Z",
     "shell.execute_reply": "2024-09-10T04:38:25.138800Z"
    },
    "id": "6f192dc1",
    "papermill": {
     "duration": 0.019664,
     "end_time": "2024-09-10T04:38:25.142074",
     "exception": false,
     "start_time": "2024-09-10T04:38:25.122410",
     "status": "completed"
    },
    "tags": []
   },
   "outputs": [],
   "source": [
    "def resample_preds(input_path_nnunet_preds=\"\", input_path_t2_idc=\"\", output_path=\"\"):\n",
    "\t\"\"\"\n",
    "\tResampling of nnunet_preds to reference MR T2 volumes used as input image\n",
    "\tinput_path_nnunet_preds : str, folder containing nnunet preds\n",
    "\tinput_path_t2_idc : str, folder containing NIFTI IDC MR T2 volumes\n",
    "\toutput_path : str, folder output\n",
    "\t\"\"\"\n",
    "\tfor pred_path in sorted(glob.glob(os.path.join(input_path_nnunet_preds, \"*.nii.gz\"))):\n",
    "\t\tprint(f\"pred path : {pred_path}\")\n",
    "\t\tresample_args_to_t2_origin = {\"input\" : pred_path,#change to pred path if no largest_component_retrieval necessary\n",
    "\t\t\t\t\t\t\t\t\t\t\t\t\t\"output\" : os.path.join(output_path,\n",
    "\t\t\t\t\t\t\t\t\t\t\t\t\t\t\t\t\t\t\t\t\t\t\t\t\tf\"{pred_path.split('/')[-1][:-7]}.nii.gz\"),\n",
    "\t\t\t\t\t\t\t\t\t\t\t\t\t\"fixed\" : input_path_t2_idc,\n",
    "\t\t\t\t\t\t\t\t\t\t\t\t\t\"interpolation\" : \"nn\"}\n",
    "\n",
    "\t\tpypla.resample(verbose = False, **resample_args_to_t2_origin)\n",
    "\t\tprint()"
   ]
  },
  {
   "cell_type": "markdown",
   "id": "0f3ef5cf",
   "metadata": {
    "id": "0f3ef5cf",
    "papermill": {
     "duration": 0.007378,
     "end_time": "2024-09-10T04:38:25.157032",
     "exception": false,
     "start_time": "2024-09-10T04:38:25.149654",
     "status": "completed"
    },
    "tags": []
   },
   "source": [
    "## Combine segs"
   ]
  },
  {
   "cell_type": "code",
   "execution_count": 39,
   "id": "aac8d52c",
   "metadata": {
    "execution": {
     "iopub.execute_input": "2024-09-10T04:38:25.174972Z",
     "iopub.status.busy": "2024-09-10T04:38:25.174039Z",
     "iopub.status.idle": "2024-09-10T04:38:25.182038Z",
     "shell.execute_reply": "2024-09-10T04:38:25.181045Z"
    },
    "id": "aac8d52c",
    "papermill": {
     "duration": 0.019369,
     "end_time": "2024-09-10T04:38:25.183975",
     "exception": false,
     "start_time": "2024-09-10T04:38:25.164606",
     "status": "completed"
    },
    "tags": []
   },
   "outputs": [],
   "source": [
    "def add_segments_json(input_json, segmentAttributesProstate_lst):\n",
    "\tassert os.path.exists(input_json)\n",
    "\tinp_json = json.load(open(input_json)).copy()\n",
    "\tprint(inp_json[\"segmentAttributes\"])\n",
    "\tprint(type(inp_json[\"segmentAttributes\"]))\n",
    "\ttemp_lst = inp_json[\"segmentAttributes\"].copy()\n",
    "\ttemp_lst.append(segmentAttributesProstate_lst)\n",
    "\tinp_json[\"segmentAttributes\"] = temp_lst\n",
    "\tprint(inp_json[\"segmentAttributes\"])\n",
    "\n",
    "\treturn inp_json"
   ]
  },
  {
   "cell_type": "code",
   "execution_count": 40,
   "id": "ff7c498f",
   "metadata": {
    "execution": {
     "iopub.execute_input": "2024-09-10T04:38:25.201790Z",
     "iopub.status.busy": "2024-09-10T04:38:25.201400Z",
     "iopub.status.idle": "2024-09-10T04:38:25.209733Z",
     "shell.execute_reply": "2024-09-10T04:38:25.208785Z"
    },
    "id": "ff7c498f",
    "papermill": {
     "duration": 0.020599,
     "end_time": "2024-09-10T04:38:25.212509",
     "exception": false,
     "start_time": "2024-09-10T04:38:25.191910",
     "status": "completed"
    },
    "tags": []
   },
   "outputs": [],
   "source": [
    "def retrieve_meta_df_from_json(meta_json_path):\n",
    "\tout_segment_list = []\n",
    "\tjson_dic = json.load(open(meta_json_path))\n",
    "\tfor segment_iter in json_dic[\"segmentAttributes\"]:\n",
    "\t\ttemp_dic = {}\n",
    "\t\ttemp_dic = segment_iter\n",
    "\t\tout_segment_list.append(temp_dic[0])\n",
    "\tout_df = pd.DataFrame.from_dict(out_segment_list)\n",
    "\tdf_SegmentedPropertyTypeCodeSequence = pd.json_normalize(out_df['SegmentedPropertyTypeCodeSequence']).rename(columns={'CodeMeaning': 'FindingSite_CodeMeaning',\n",
    "\t\t\t\t\t\t\t\t\t\t\t\t\t\t\t\t\t\t\t\t\t\t\t\t\t\t\t\t\t\t\t\t\t\t\t\t\t\t\t\t\t\t\t\t\t\t\t\t\t\t\t\t\t\t\t\t\t\t\t\t'CodeValue':'FindingSite_CodeValue',\n",
    "\t\t\t\t\t\t\t\t\t\t\t\t\t\t\t\t\t\t\t\t\t\t\t\t\t\t\t\t\t\t\t\t\t\t\t\t\t\t\t\t\t\t\t\t\t\t\t\t\t\t\t\t\t\t\t\t\t\t\t\t'CodingSchemeDesignator': 'FindingSite_CodingSchemeDesignator'})\n",
    "\tdf_SegmentedPropertyCategoryCodeSequence = pd.json_normalize(out_df['SegmentedPropertyCategoryCodeSequence']).rename(columns={'CodeMeaning': 'Finding_CodeMeaning',\n",
    "\t\t\t\t\t\t\t\t\t\t\t\t\t\t\t\t\t\t\t\t\t\t\t\t\t\t\t\t\t\t\t\t\t\t\t\t\t\t\t\t\t\t\t\t\t\t\t\t\t\t\t\t\t\t\t\t\t\t\t\t'CodeValue':'Finding_CodeValue',\n",
    "\t\t\t\t\t\t\t\t\t\t\t\t\t\t\t\t\t\t\t\t\t\t\t\t\t\t\t\t\t\t\t\t\t\t\t\t\t\t\t\t\t\t\t\t\t\t\t\t\t\t\t\t\t\t\t\t\t\t\t\t'CodingSchemeDesignator': 'Finding_CodingSchemeDesignator'})\n",
    "\tdf_columns_lst = list(out_df.columns.values)\n",
    "\tcols_to_retrieve = []\n",
    "\tfor col_test in [\"SegmentAlgorithmName\",\"SegmentAlgorithmType\",\n",
    "\t\t\t\t\t\t\t\t\t \"SegmentDescription\",\"SegmentLabel\"]:\n",
    "\t\tif col_test in df_columns_lst:\n",
    "\t\t\t\tcols_to_retrieve.append(col_test)\n",
    "\t\telse:\n",
    "\t\t\tpass\n",
    "\tdf_final = df_SegmentedPropertyTypeCodeSequence.join(df_SegmentedPropertyCategoryCodeSequence).join(out_df[[\"labelID\"]\\\n",
    "\t\t+ cols_to_retrieve])\n",
    "\tdf_final[\"segment\"] = df_final[\"FindingSite_CodeMeaning\"]\n",
    "\tdf_final[\"SeriesDescription\"] = json_dic[\"SeriesDescription\"]\n",
    "\tdf_final[\"SeriesNumber\"] = json_dic[\"SeriesNumber\"]\n",
    "\tdf_final[\"BodyPartExamined\"] = json_dic[\"BodyPartExamined\"]\n",
    "\tdf_final = df_final.reset_index().drop(columns=[\"index\"])\n",
    "\treturn df_final"
   ]
  },
  {
   "cell_type": "code",
   "execution_count": 41,
   "id": "484865d1",
   "metadata": {
    "execution": {
     "iopub.execute_input": "2024-09-10T04:38:25.241187Z",
     "iopub.status.busy": "2024-09-10T04:38:25.240822Z",
     "iopub.status.idle": "2024-09-10T04:38:25.249081Z",
     "shell.execute_reply": "2024-09-10T04:38:25.248099Z"
    },
    "id": "484865d1",
    "papermill": {
     "duration": 0.023501,
     "end_time": "2024-09-10T04:38:25.251519",
     "exception": false,
     "start_time": "2024-09-10T04:38:25.228018",
     "status": "completed"
    },
    "tags": []
   },
   "outputs": [],
   "source": [
    "def generateProstateDcmqiMetadata(labelID, SegmentAlgorithmType,\n",
    "\t\t\t\t\t\t\t\t\t\t\t\t\t\t\t\t\tSegmentAlgorithmName,\n",
    "\t\t\t\t\t\t\t\t\t\t\t\t\t\t\t\t\tSegmentLabel,\n",
    "\t\t\t\t\t\t\t\t\t\t\t\t\t\t\t\t\tSegmentDescription,\n",
    "\t\t\t\t\t\t\t\t\t\t\t\t\t\t\t\t\tSegmentedPropertyCategoryCodeSequenceCodeValue,\n",
    "\t\t\t\t\t\t\t\t\t\t\t\t\t\t\t\t\tSegmentedPropertyCategoryCodeSequenceCodingSchemeDesignator,\n",
    "\t\t\t\t\t\t\t\t\t\t\t\t\t\t\t\t\tSegmentedPropertyCategoryCodeSequenceCodeMeaning,\n",
    "\t\t\t\t\t\t\t\t\t\t\t\t\t\t\t\t\tSegmentedPropertyTypeCodeSequenceCodeValue,\n",
    "\t\t\t\t\t\t\t\t\t\t\t\t\t\t\t\t\tSegmentedPropertyTypeCodeSequenceCodingSchemeDesignator,\n",
    "\t\t\t\t\t\t\t\t\t\t\t\t\t\t\t\t\tSegmentedPropertyTypeCodeSequenceCodeMeaning,\n",
    "\t\t\t\t\t\t\t\t\t\t\t\t\t\t\t\t\trecommendedDisplayRGBValue):\n",
    "\tout_lst = []\n",
    "\tif SegmentAlgorithmName is not None:\n",
    "\t\tout_lst.append({\"SegmentAlgorithmName\" : SegmentAlgorithmName,\n",
    "\t\t\t\t\t\t\t\t\t\t\"SegmentAlgorithmType\" : SegmentAlgorithmType,\n",
    "\t\t\t\t\t\t\t\t\t\t\"SegmentLabel\" : SegmentLabel,\n",
    "\t\t\t\t\t\t\t\t\t\t\"SegmentDescription\" : SegmentDescription,\n",
    "\t\t\t\t\t\t\t\t\t\t\"SegmentedPropertyCategoryCodeSequence\" : {\n",
    "\t\t\t\t\t\t\t\t\t\t\t\"CodeMeaning\" : SegmentedPropertyCategoryCodeSequenceCodeMeaning,\n",
    "\t\t\t\t\t\t\t\t\t\t\t\"CodeValue\" : SegmentedPropertyCategoryCodeSequenceCodeValue,\n",
    "\t\t\t\t\t\t\t\t\t\t\t\"CodingSchemeDesignator\" : SegmentedPropertyCategoryCodeSequenceCodingSchemeDesignator,\n",
    "\t\t\t\t\t\t\t\t\t\t},\n",
    "\t\t\t\t\t\t\t\t\t\t\"SegmentedPropertyTypeCodeSequence\" : {\n",
    "\t\t\t\t\t\t\t\t\t\t\t\t\"CodeMeaning\" : SegmentedPropertyTypeCodeSequenceCodeMeaning,\n",
    "\t\t\t\t\t\t\t\t\t\t\t\t\"CodeValue\" : SegmentedPropertyTypeCodeSequenceCodeValue,\n",
    "\t\t\t\t\t\t\t\t\t\t\t\t\"CodingSchemeDesignator\" : SegmentedPropertyTypeCodeSequenceCodingSchemeDesignator,\n",
    "\t\t\t\t\t\t\t\t\t\t},\n",
    "\t\t\t\t\t\t\t\t\t\t\"labelID\" : int(labelID),\n",
    "\t\t\t\t\t\t\t\t\t\t\"recommendedDisplayRGBValue\" : [int(x) for x in recommendedDisplayRGBValue]})\n",
    "\telse:\n",
    "\t\tout_lst.append({\"SegmentAlgorithmType\" : SegmentAlgorithmType,\n",
    "\t\t\t\t\t\t\t\t\t\t\"SegmentLabel\" : SegmentLabel,\n",
    "\t\t\t\t\t\t\t\t\t\t\"SegmentDescription\" : SegmentDescription,\n",
    "\t\t\t\t\t\t\t\t\t\t\"SegmentedPropertyCategoryCodeSequence\" : {\n",
    "\t\t\t\t\t\t\t\t\t\t\t\"CodeMeaning\" : SegmentedPropertyCategoryCodeSequenceCodeMeaning,\n",
    "\t\t\t\t\t\t\t\t\t\t\t\"CodeValue\" : SegmentedPropertyCategoryCodeSequenceCodeValue,\n",
    "\t\t\t\t\t\t\t\t\t\t\t\"CodingSchemeDesignator\" : SegmentedPropertyCategoryCodeSequenceCodingSchemeDesignator,\n",
    "\t\t\t\t\t\t\t\t\t\t},\n",
    "\t\t\t\t\t\t\t\t\t\t\"SegmentedPropertyTypeCodeSequence\" : {\n",
    "\t\t\t\t\t\t\t\t\t\t\t\t\"CodeMeaning\" : SegmentedPropertyTypeCodeSequenceCodeMeaning,\n",
    "\t\t\t\t\t\t\t\t\t\t\t\t\"CodeValue\" : SegmentedPropertyTypeCodeSequenceCodeValue,\n",
    "\t\t\t\t\t\t\t\t\t\t\t\t\"CodingSchemeDesignator\" : SegmentedPropertyTypeCodeSequenceCodingSchemeDesignator,\n",
    "\t\t\t\t\t\t\t\t\t\t},\n",
    "\t\t\t\t\t\t\t\t\t\t\"labelID\" : int(labelID),\n",
    "\t\t\t\t\t\t\t\t\t\t\"recommendedDisplayRGBValue\" : [int(x) for x in recommendedDisplayRGBValue]})\n",
    "\treturn out_lst"
   ]
  },
  {
   "cell_type": "code",
   "execution_count": 42,
   "id": "aec3d03c",
   "metadata": {
    "execution": {
     "iopub.execute_input": "2024-09-10T04:38:25.282043Z",
     "iopub.status.busy": "2024-09-10T04:38:25.281563Z",
     "iopub.status.idle": "2024-09-10T04:38:25.288203Z",
     "shell.execute_reply": "2024-09-10T04:38:25.287241Z"
    },
    "id": "aec3d03c",
    "papermill": {
     "duration": 0.022993,
     "end_time": "2024-09-10T04:38:25.290388",
     "exception": false,
     "start_time": "2024-09-10T04:38:25.267395",
     "status": "completed"
    },
    "tags": []
   },
   "outputs": [],
   "source": [
    "def combine_ind_seg(input_nii_folder, output_file_path):\n",
    "\tassert os.path.exists(input_nii_folder)\n",
    "\tout_arr = np.zeros_like(sitk.GetArrayFromImage(sitk.ReadImage(glob.glob(os.path.join(input_nii_folder, \"*.nii.gz\"))[0])))\n",
    "\tfor segment_processed in sorted(glob.glob(os.path.join(input_nii_folder, \"*.nii.gz\"))):\n",
    "\t\tout_arr += sitk.GetArrayFromImage(sitk.ReadImage(segment_processed))\n",
    "\tres_img = sitk.GetImageFromArray(out_arr)\n",
    "\tres_img.CopyInformation(sitk.ReadImage(glob.glob(os.path.join(input_nii_folder, \"*.nii.gz\"))[0]))\n",
    "\t# Save output segment\n",
    "\tsitk.WriteImage(res_img, output_file_path)"
   ]
  },
  {
   "cell_type": "markdown",
   "id": "9e10d843",
   "metadata": {
    "id": "9e10d843",
    "papermill": {
     "duration": 0.007904,
     "end_time": "2024-09-10T04:38:25.306199",
     "exception": false,
     "start_time": "2024-09-10T04:38:25.298295",
     "status": "completed"
    },
    "tags": []
   },
   "source": [
    "## DICOM metadata"
   ]
  },
  {
   "cell_type": "code",
   "execution_count": 43,
   "id": "d6898f52",
   "metadata": {
    "execution": {
     "iopub.execute_input": "2024-09-10T04:38:25.324407Z",
     "iopub.status.busy": "2024-09-10T04:38:25.323360Z",
     "iopub.status.idle": "2024-09-10T04:38:25.329098Z",
     "shell.execute_reply": "2024-09-10T04:38:25.328095Z"
    },
    "id": "d6898f52",
    "papermill": {
     "duration": 0.017169,
     "end_time": "2024-09-10T04:38:25.331122",
     "exception": false,
     "start_time": "2024-09-10T04:38:25.313953",
     "status": "completed"
    },
    "tags": []
   },
   "outputs": [],
   "source": [
    "def retrieve_image_serieUID_dcm_seg(inp_dicom_seg):\n",
    "\treturn str(pydicom.dcmread(inp_dicom_seg).ReferencedSeriesSequence[0].SeriesInstanceUID)"
   ]
  },
  {
   "cell_type": "code",
   "execution_count": 44,
   "id": "01ffe471",
   "metadata": {
    "execution": {
     "iopub.execute_input": "2024-09-10T04:38:25.348700Z",
     "iopub.status.busy": "2024-09-10T04:38:25.348183Z",
     "iopub.status.idle": "2024-09-10T04:38:25.354087Z",
     "shell.execute_reply": "2024-09-10T04:38:25.352800Z"
    },
    "id": "01ffe471",
    "papermill": {
     "duration": 0.017189,
     "end_time": "2024-09-10T04:38:25.356158",
     "exception": false,
     "start_time": "2024-09-10T04:38:25.338969",
     "status": "completed"
    },
    "tags": []
   },
   "outputs": [],
   "source": [
    "def get_tag_pydicom(path_dcm_file : str, tag_name : str):\n",
    "\tdataset = pydicom.dcmread(path_dcm_file)\n",
    "\treturn dataset[tag_name]"
   ]
  },
  {
   "cell_type": "code",
   "execution_count": 45,
   "id": "70288c9b",
   "metadata": {
    "execution": {
     "iopub.execute_input": "2024-09-10T04:38:25.376557Z",
     "iopub.status.busy": "2024-09-10T04:38:25.376074Z",
     "iopub.status.idle": "2024-09-10T04:38:25.385176Z",
     "shell.execute_reply": "2024-09-10T04:38:25.383954Z"
    },
    "id": "70288c9b",
    "papermill": {
     "duration": 0.021994,
     "end_time": "2024-09-10T04:38:25.387155",
     "exception": false,
     "start_time": "2024-09-10T04:38:25.365161",
     "status": "completed"
    },
    "tags": []
   },
   "outputs": [],
   "source": [
    "def retrieve_meta_df_from_json(meta_json_path):\n",
    "\tout_segment_list = []\n",
    "\tjson_dic = json.load(open(meta_json_path))\n",
    "\tfor segment_iter in json_dic[\"segmentAttributes\"]:\n",
    "\t\ttemp_dic = {}\n",
    "\t\ttemp_dic = segment_iter\n",
    "\t\tout_segment_list.append(temp_dic[0])\n",
    "\tout_df = pd.DataFrame.from_dict(out_segment_list)\n",
    "\tdf_SegmentedPropertyTypeCodeSequence = pd.json_normalize(out_df['SegmentedPropertyTypeCodeSequence']).rename(columns={'CodeMeaning': 'FindingSite_CodeMeaning',\n",
    "\t\t\t\t\t\t\t\t\t\t\t\t\t\t\t\t\t\t\t\t\t\t\t\t\t\t\t\t\t\t\t\t\t\t\t\t\t\t\t\t\t\t\t\t\t\t\t\t\t\t\t\t\t\t\t\t\t\t\t\t'CodeValue':'FindingSite_CodeValue',\n",
    "\t\t\t\t\t\t\t\t\t\t\t\t\t\t\t\t\t\t\t\t\t\t\t\t\t\t\t\t\t\t\t\t\t\t\t\t\t\t\t\t\t\t\t\t\t\t\t\t\t\t\t\t\t\t\t\t\t\t\t\t'CodingSchemeDesignator': 'FindingSite_CodingSchemeDesignator'})\n",
    "\tdf_SegmentedPropertyCategoryCodeSequence = pd.json_normalize(out_df['SegmentedPropertyCategoryCodeSequence']).rename(columns={'CodeMeaning': 'Finding_CodeMeaning',\n",
    "\t\t\t\t\t\t\t\t\t\t\t\t\t\t\t\t\t\t\t\t\t\t\t\t\t\t\t\t\t\t\t\t\t\t\t\t\t\t\t\t\t\t\t\t\t\t\t\t\t\t\t\t\t\t\t\t\t\t\t\t'CodeValue':'Finding_CodeValue',\n",
    "\t\t\t\t\t\t\t\t\t\t\t\t\t\t\t\t\t\t\t\t\t\t\t\t\t\t\t\t\t\t\t\t\t\t\t\t\t\t\t\t\t\t\t\t\t\t\t\t\t\t\t\t\t\t\t\t\t\t\t\t'CodingSchemeDesignator': 'Finding_CodingSchemeDesignator'})\n",
    "\tdf_columns_lst = list(out_df.columns.values)\n",
    "\tcols_to_retrieve = []\n",
    "\tfor col_test in [\"SegmentAlgorithmName\",\"SegmentAlgorithmType\",\n",
    "\t\t\t\t\t\t\t\t\t \"SegmentDescription\",\"SegmentLabel\"]:\n",
    "\t\tif col_test in df_columns_lst:\n",
    "\t\t\t\tcols_to_retrieve.append(col_test)\n",
    "\t\telse:\n",
    "\t\t\tpass\n",
    "\tdf_final = df_SegmentedPropertyTypeCodeSequence.join(df_SegmentedPropertyCategoryCodeSequence).join(out_df[[\"labelID\"]\\\n",
    "\t\t+ cols_to_retrieve])\n",
    "\tdf_final[\"segment\"] = df_final[\"FindingSite_CodeMeaning\"]\n",
    "\tdf_final[\"SeriesDescription\"] = json_dic[\"SeriesDescription\"]\n",
    "\tdf_final[\"SeriesNumber\"] = json_dic[\"SeriesNumber\"]\n",
    "\tdf_final[\"BodyPartExamined\"] = json_dic[\"BodyPartExamined\"]\n",
    "\tdf_final = df_final.reset_index().drop(columns=[\"index\"])\n",
    "\treturn df_final"
   ]
  },
  {
   "cell_type": "code",
   "execution_count": 46,
   "id": "af52ff09",
   "metadata": {
    "execution": {
     "iopub.execute_input": "2024-09-10T04:38:25.404647Z",
     "iopub.status.busy": "2024-09-10T04:38:25.404326Z",
     "iopub.status.idle": "2024-09-10T04:38:25.412777Z",
     "shell.execute_reply": "2024-09-10T04:38:25.411687Z"
    },
    "id": "af52ff09",
    "papermill": {
     "duration": 0.019814,
     "end_time": "2024-09-10T04:38:25.414867",
     "exception": false,
     "start_time": "2024-09-10T04:38:25.395053",
     "status": "completed"
    },
    "tags": []
   },
   "outputs": [],
   "source": [
    "def generateProstateDcmqiMetadata(labelID, SegmentAlgorithmType,\n",
    "\t\t\t\t\t\t\t\t\t\t\t\t\t\t\t\t\tSegmentAlgorithmName,\n",
    "\t\t\t\t\t\t\t\t\t\t\t\t\t\t\t\t\tSegmentLabel,\n",
    "\t\t\t\t\t\t\t\t\t\t\t\t\t\t\t\t\tSegmentDescription,\n",
    "\t\t\t\t\t\t\t\t\t\t\t\t\t\t\t\t\tSegmentedPropertyCategoryCodeSequenceCodeValue,\n",
    "\t\t\t\t\t\t\t\t\t\t\t\t\t\t\t\t\tSegmentedPropertyCategoryCodeSequenceCodingSchemeDesignator,\n",
    "\t\t\t\t\t\t\t\t\t\t\t\t\t\t\t\t\tSegmentedPropertyCategoryCodeSequenceCodeMeaning,\n",
    "\t\t\t\t\t\t\t\t\t\t\t\t\t\t\t\t\tSegmentedPropertyTypeCodeSequenceCodeValue,\n",
    "\t\t\t\t\t\t\t\t\t\t\t\t\t\t\t\t\tSegmentedPropertyTypeCodeSequenceCodingSchemeDesignator,\n",
    "\t\t\t\t\t\t\t\t\t\t\t\t\t\t\t\t\tSegmentedPropertyTypeCodeSequenceCodeMeaning,\n",
    "\t\t\t\t\t\t\t\t\t\t\t\t\t\t\t\t\trecommendedDisplayRGBValue):\n",
    "\tout_lst = []\n",
    "\tif SegmentAlgorithmName is not None:\n",
    "\t\tout_lst.append({\"SegmentAlgorithmName\" : SegmentAlgorithmName,\n",
    "\t\t\t\t\t\t\t\t\t\t\"SegmentAlgorithmType\" : SegmentAlgorithmType,\n",
    "\t\t\t\t\t\t\t\t\t\t\"SegmentLabel\" : SegmentLabel,\n",
    "\t\t\t\t\t\t\t\t\t\t\"SegmentDescription\" : SegmentDescription,\n",
    "\t\t\t\t\t\t\t\t\t\t\"SegmentedPropertyCategoryCodeSequence\" : {\n",
    "\t\t\t\t\t\t\t\t\t\t\t\"CodeMeaning\" : SegmentedPropertyCategoryCodeSequenceCodeMeaning,\n",
    "\t\t\t\t\t\t\t\t\t\t\t\"CodeValue\" : SegmentedPropertyCategoryCodeSequenceCodeValue,\n",
    "\t\t\t\t\t\t\t\t\t\t\t\"CodingSchemeDesignator\" : SegmentedPropertyCategoryCodeSequenceCodingSchemeDesignator,\n",
    "\t\t\t\t\t\t\t\t\t\t},\n",
    "\t\t\t\t\t\t\t\t\t\t\"SegmentedPropertyTypeCodeSequence\" : {\n",
    "\t\t\t\t\t\t\t\t\t\t\t\t\"CodeMeaning\" : SegmentedPropertyTypeCodeSequenceCodeMeaning,\n",
    "\t\t\t\t\t\t\t\t\t\t\t\t\"CodeValue\" : SegmentedPropertyTypeCodeSequenceCodeValue,\n",
    "\t\t\t\t\t\t\t\t\t\t\t\t\"CodingSchemeDesignator\" : SegmentedPropertyTypeCodeSequenceCodingSchemeDesignator,\n",
    "\t\t\t\t\t\t\t\t\t\t},\n",
    "\t\t\t\t\t\t\t\t\t\t\"labelID\" : int(labelID),\n",
    "\t\t\t\t\t\t\t\t\t\t\"recommendedDisplayRGBValue\" : [int(x) for x in recommendedDisplayRGBValue]})\n",
    "\telse:\n",
    "\t\tout_lst.append({\"SegmentAlgorithmType\" : SegmentAlgorithmType,\n",
    "\t\t\t\t\t\t\t\t\t\t\"SegmentLabel\" : SegmentLabel,\n",
    "\t\t\t\t\t\t\t\t\t\t\"SegmentDescription\" : SegmentDescription,\n",
    "\t\t\t\t\t\t\t\t\t\t\"SegmentedPropertyCategoryCodeSequence\" : {\n",
    "\t\t\t\t\t\t\t\t\t\t\t\"CodeMeaning\" : SegmentedPropertyCategoryCodeSequenceCodeMeaning,\n",
    "\t\t\t\t\t\t\t\t\t\t\t\"CodeValue\" : SegmentedPropertyCategoryCodeSequenceCodeValue,\n",
    "\t\t\t\t\t\t\t\t\t\t\t\"CodingSchemeDesignator\" : SegmentedPropertyCategoryCodeSequenceCodingSchemeDesignator,\n",
    "\t\t\t\t\t\t\t\t\t\t},\n",
    "\t\t\t\t\t\t\t\t\t\t\"SegmentedPropertyTypeCodeSequence\" : {\n",
    "\t\t\t\t\t\t\t\t\t\t\t\t\"CodeMeaning\" : SegmentedPropertyTypeCodeSequenceCodeMeaning,\n",
    "\t\t\t\t\t\t\t\t\t\t\t\t\"CodeValue\" : SegmentedPropertyTypeCodeSequenceCodeValue,\n",
    "\t\t\t\t\t\t\t\t\t\t\t\t\"CodingSchemeDesignator\" : SegmentedPropertyTypeCodeSequenceCodingSchemeDesignator,\n",
    "\t\t\t\t\t\t\t\t\t\t},\n",
    "\t\t\t\t\t\t\t\t\t\t\"labelID\" : int(labelID),\n",
    "\t\t\t\t\t\t\t\t\t\t\"recommendedDisplayRGBValue\" : [int(x) for x in recommendedDisplayRGBValue]})\n",
    "\treturn out_lst"
   ]
  },
  {
   "cell_type": "code",
   "execution_count": 47,
   "id": "9be9380a",
   "metadata": {
    "execution": {
     "iopub.execute_input": "2024-09-10T04:38:25.433577Z",
     "iopub.status.busy": "2024-09-10T04:38:25.432548Z",
     "iopub.status.idle": "2024-09-10T04:38:25.439598Z",
     "shell.execute_reply": "2024-09-10T04:38:25.438527Z"
    },
    "id": "9be9380a",
    "papermill": {
     "duration": 0.018595,
     "end_time": "2024-09-10T04:38:25.441641",
     "exception": false,
     "start_time": "2024-09-10T04:38:25.423046",
     "status": "completed"
    },
    "tags": []
   },
   "outputs": [],
   "source": [
    "def add_segments_json(input_json, segmentAttributesProstate_lst):\n",
    "\tassert os.path.exists(input_json)\n",
    "\tinp_json = json.load(open(input_json)).copy()\n",
    "\tprint(inp_json[\"segmentAttributes\"])\n",
    "\tprint(type(inp_json[\"segmentAttributes\"]))\n",
    "\ttemp_lst = inp_json[\"segmentAttributes\"].copy()\n",
    "\ttemp_lst.append(segmentAttributesProstate_lst)\n",
    "\tinp_json[\"segmentAttributes\"] = temp_lst\n",
    "\tprint(inp_json[\"segmentAttributes\"])\n",
    "\n",
    "\treturn inp_json"
   ]
  },
  {
   "cell_type": "markdown",
   "id": "d1a0068d",
   "metadata": {
    "id": "d1a0068d",
    "papermill": {
     "duration": 0.007978,
     "end_time": "2024-09-10T04:38:25.457680",
     "exception": false,
     "start_time": "2024-09-10T04:38:25.449702",
     "status": "completed"
    },
    "tags": []
   },
   "source": [
    "## SR reports creation"
   ]
  },
  {
   "cell_type": "code",
   "execution_count": 48,
   "id": "d2219585",
   "metadata": {
    "execution": {
     "iopub.execute_input": "2024-09-10T04:38:25.475420Z",
     "iopub.status.busy": "2024-09-10T04:38:25.475045Z",
     "iopub.status.idle": "2024-09-10T04:38:25.482005Z",
     "shell.execute_reply": "2024-09-10T04:38:25.480912Z"
    },
    "id": "d2219585",
    "papermill": {
     "duration": 0.018482,
     "end_time": "2024-09-10T04:38:25.484119",
     "exception": false,
     "start_time": "2024-09-10T04:38:25.465637",
     "status": "completed"
    },
    "tags": []
   },
   "outputs": [],
   "source": [
    "def get_label_and_names_from_metadata_json(dicomseg_json):\n",
    "\n",
    "\t\"\"\"Returns two lists containing the label values and the corresponding\n",
    "\t\t CodeMeaning values\n",
    "\n",
    "\tInputs:\n",
    "\t\tdicomseg_json : metajson file\n",
    "\n",
    "\tOutputs:\n",
    "\t\tlabel_values  : label values from the metajson file\n",
    "\t\tlabel_names   : the corresponding CodeMeaning values\n",
    "\n",
    "\t\"\"\"\n",
    "\n",
    "\tf = open(dicomseg_json)\n",
    "\tmeta_json = json.load(f)\n",
    "\n",
    "\tprint(meta_json)\n",
    "\n",
    "\tnum_regions = len(meta_json['segmentAttributes'][0])\n",
    "\tprint ('num_regions: ' + str(num_regions))\n",
    "\n",
    "\tlabel_values = []\n",
    "\tlabel_names = []\n",
    "\tfor n in range(0,num_regions):\n",
    "\t\t# label_values.append(n)\n",
    "\t\tlabel_value = meta_json['segmentAttributes'][0][n]['labelID']\n",
    "\t\tlabel_name = meta_json['segmentAttributes'][0][n]['SegmentedPropertyTypeCodeSequence']['CodeMeaning']\n",
    "\t\tlabel_values.append(label_value)\n",
    "\t\tlabel_names.append(label_name)\n",
    "\n",
    "\treturn label_values, label_names"
   ]
  },
  {
   "cell_type": "code",
   "execution_count": 49,
   "id": "5afc2bc3",
   "metadata": {
    "execution": {
     "iopub.execute_input": "2024-09-10T04:38:25.502045Z",
     "iopub.status.busy": "2024-09-10T04:38:25.501667Z",
     "iopub.status.idle": "2024-09-10T04:38:25.509124Z",
     "shell.execute_reply": "2024-09-10T04:38:25.508008Z"
    },
    "id": "5afc2bc3",
    "papermill": {
     "duration": 0.019029,
     "end_time": "2024-09-10T04:38:25.511302",
     "exception": false,
     "start_time": "2024-09-10T04:38:25.492273",
     "status": "completed"
    },
    "tags": []
   },
   "outputs": [],
   "source": [
    "def split_nii(input_file, output_directory, label_names):\n",
    "\n",
    "\t\"\"\"Function to split a single multilabel nii into individual nii files. Used\n",
    "\t\t for pyradiomics feature extraction.\n",
    "\n",
    "\tInputs:\n",
    "\t\tinput_file       : input multi-label nii file\n",
    "\t\toutput_directory : where to save the individual nii segments\n",
    "\t\tlabel_names      : the names of the labels that correspond to the order of\n",
    "\t\t\t\t\t\t\t\t\t\t\t the values in the nii input_file\n",
    "\n",
    "\tOutputs:\n",
    "\t\tsaves the individual nii files to the output_directory\n",
    "\n",
    "\t\"\"\"\n",
    "\n",
    "\tif not os.path.isdir(output_directory):\n",
    "\t\tos.mkdir(output_directory)\n",
    "\n",
    "\t# save with the values in the files\n",
    "\tnii = nib.load(input_file)\n",
    "\theader = nii.header\n",
    "\timg = nii.get_fdata()\n",
    "\tunique_labels = list(np.unique(img))\n",
    "\tunique_labels.remove(0) # remove the background\n",
    "\n",
    "\t# split and save\n",
    "\tnum_labels = len(unique_labels)\n",
    "\tfor n in range(0,num_labels):\n",
    "\t\tind = np.where(img==unique_labels[n])\n",
    "\t\tvol = np.zeros((img.shape))\n",
    "\t\tvol[ind] = 1\n",
    "\t\tnew_img = nib.Nifti1Image(vol, nii.affine, nii.header)\n",
    "\t\toutput_filename = os.path.join(output_directory, label_names[n] + '.nii.gz')\n",
    "\t\tnib.save(new_img, output_filename)\n",
    "\n",
    "\treturn"
   ]
  },
  {
   "cell_type": "code",
   "execution_count": 50,
   "id": "b891ca4f",
   "metadata": {
    "execution": {
     "iopub.execute_input": "2024-09-10T04:38:25.529322Z",
     "iopub.status.busy": "2024-09-10T04:38:25.528954Z",
     "iopub.status.idle": "2024-09-10T04:38:25.538855Z",
     "shell.execute_reply": "2024-09-10T04:38:25.537747Z"
    },
    "id": "b891ca4f",
    "papermill": {
     "duration": 0.021577,
     "end_time": "2024-09-10T04:38:25.541050",
     "exception": false,
     "start_time": "2024-09-10T04:38:25.519473",
     "status": "completed"
    },
    "tags": []
   },
   "outputs": [],
   "source": [
    "def compute_pyradiomics_3D_features(ct_nifti_path,\n",
    "\t\t\t\t\t\t\t\t\t\t\t\t\t\t\t\t\t\tlabel_values,\n",
    "\t\t\t\t\t\t\t\t\t\t\t\t\t\t\t\t\t\tlabel_names,\n",
    "\t\t\t\t\t\t\t\t\t\t\t\t\t\t\t\t\t\tsplit_pred_nifti_path,\n",
    "\t\t\t\t\t\t\t\t\t\t\t\t\t\t\t\t\t\tnnunet_shape_features_code_mapping_df):\n",
    "\n",
    "\t\"\"\"Function to compute pyradiomics 3D features for each label in a nifti file.\n",
    "\n",
    "\tInputs:\n",
    "\t\tct_nifti_path            : the CT nifti file\n",
    "\t\tlabel_values             : the label value for each of the segments from the json file\n",
    "\t\tlabel_names              : the corresponding label name for each of the segments\n",
    "\t\tsplit_pred_nifti_path    : where to save the individual nii segments needed\n",
    "\t\t\t\t\t\t\t\t\t\t\t\t\t\t\t for pyradiomics\n",
    "\t\tnnunet_shape_features_code_mapping_df : the df where we will obtain the\n",
    "\t\t\t\t\t\t\t\t\t\t\t\t\t\t\t\t\t\t\t\t\t\tlist of the shape features to\n",
    "\t\t\t\t\t\t\t\t\t\t\t\t\t\t\t\t\t\t\t\t\t\tcompute\n",
    "\n",
    "\tOutputs:\n",
    "\t\tWrites the features_csv_path_nnunet to disk.\n",
    "\t\"\"\"\n",
    "\n",
    "\t# Get the names of the features from the nnunet_shape_features_code_mapping_df\n",
    "\tshape_features = list(nnunet_shape_features_code_mapping_df['shape_feature'].values)\n",
    "\n",
    "\n",
    "\n",
    "\t# Calculate features for each label and create a dataframe\n",
    "\t# num_labels = len(label_names)#len([f for f in os.listdir(split_pred_nifti_path) if f.endswith('.nii.gz')])\n",
    "\tdf_list = []\n",
    "\tfor idxLabelValue, labelValue in enumerate(label_values):\n",
    "\t\tmask_path = os.path.join(split_pred_nifti_path, label_names[idxLabelValue] + '.nii.gz')\n",
    "\t\t# Run the extractor\n",
    "\t\tprint(f\"ct nifti path : {ct_nifti_path}\")\n",
    "\t\tprint(f\" mask path : {mask_path}\")\n",
    "\t\tprint(f\"labelValue : {labelValue}\")\n",
    "\t\tprint(f\"label_name : {str(label_names[idxLabelValue])}\")\n",
    "\t\t# Instantiate the extractor and modify the settings to keep the 3D shape features\n",
    "\t\textractor = featureextractor.RadiomicsFeatureExtractor(correctMask=True,\n",
    "\t\t\t\t\t\t\t\t\t\t\t\t\t\t\t\t\t\t\t\t\t\t\t\t\t\t\t\t\t geometryTolerance=float(1e-4),\n",
    "\t\t\t\t\t\t\t\t\t\t\t\t\t\t\t\t\t\t\t\t\t\t\t\t\t\t\t\t\t label=int(labelValue))\n",
    "\t\textractor.settings['minimumROIDimensions'] = 2\n",
    "\t\textractor.disableAllFeatures()\n",
    "\t\textractor.enableFeaturesByName(shape=shape_features)\n",
    "\t\tresult = extractor.execute(ct_nifti_path, mask_path) # dictionary\n",
    "\t\t# keep only the features we want\n",
    "\t\t# Get the corresponding label number -- all might not be present\n",
    "\t\t# corresponding_label_value = labelValue#label_values[label_names.index(label_names[n])]\n",
    "\t\tdict_keep = {'ReferencedSegment': int(labelValue),\n",
    "\t\t\t\t\t\t\t\t 'label_name': str(label_names[idxLabelValue])}\n",
    "\t\tkeys_keep = [f for f in result.keys() if 'original_shape' in f]\n",
    "\t\t# Just keep the feature keys we want\n",
    "\t\tdict_keep_new_values = {key_keep: result[key_keep] for key_keep in keys_keep}\n",
    "\t\tdict_keep.update(dict_keep_new_values)\n",
    "\t\tdf1 = pd.DataFrame([dict_keep])\n",
    "\t\t# change values of columns to remove original_shape_\n",
    "\t\tdf1.columns = df1.columns.str.replace('original_shape_', '')\n",
    "\t\t# Append to the ReferencedSegment and label_name df\n",
    "\t\tdf_list.append(df1)\n",
    "\n",
    "\t# concat all label features\n",
    "\tdf = pd.concat(df_list)\n",
    "\n",
    "\treturn df"
   ]
  },
  {
   "cell_type": "code",
   "execution_count": 51,
   "id": "c3b7e047",
   "metadata": {
    "execution": {
     "iopub.execute_input": "2024-09-10T04:38:25.560444Z",
     "iopub.status.busy": "2024-09-10T04:38:25.559478Z",
     "iopub.status.idle": "2024-09-10T04:38:25.572131Z",
     "shell.execute_reply": "2024-09-10T04:38:25.571011Z"
    },
    "id": "c3b7e047",
    "papermill": {
     "duration": 0.024709,
     "end_time": "2024-09-10T04:38:25.574120",
     "exception": false,
     "start_time": "2024-09-10T04:38:25.549411",
     "status": "completed"
    },
    "tags": []
   },
   "outputs": [],
   "source": [
    "def order_dicom_files_image_position(dcm_directory):\n",
    "\t\"\"\"\n",
    "\tOrders the dicom files according to image position and orientation.\n",
    "\n",
    "\tArguments:\n",
    "\t\tdcm_directory : input directory of dcm files to put in order\n",
    "\n",
    "\tOutputs:\n",
    "\t\tfiles_sorted   : dcm files in sorted order\n",
    "\t\tsop_all_sorted : the SOPInstanceUIDs in sorted order\n",
    "\t\tpos_all_sorted : the image position in sorted order\n",
    "\n",
    "\t\"\"\"\n",
    "\tfiles = [os.path.join(dcm_directory,f) for f in os.listdir(dcm_directory)]\n",
    "\n",
    "\tnum_files = len(files)\n",
    "\n",
    "\tpos_all = []\n",
    "\tsop_all = []\n",
    "\n",
    "\tfor n in range(0,num_files):\n",
    "\t\t# read dcm file\n",
    "\t\tfilename = files[n]\n",
    "\t\tds = dcmread(filename)\n",
    "\n",
    "\t\t# get ImageOrientation (0020, 0037)\n",
    "\t\t# ImageOrientation = ds['0x0020','0x0037'].value\n",
    "\t\tImageOrientation = ds.ImageOrientationPatient\n",
    "\n",
    "\t\t# get ImagePositionPatient (0020, 0032)\n",
    "\t\t# ImagePositionPatient = ds['0x0020','0x0032'].value\n",
    "\t\tImagePositionPatient = ds.ImagePositionPatient\n",
    "\n",
    "\t\t# calculate z value\n",
    "\t\tx_vector = ImageOrientation[0:3]\n",
    "\t\ty_vector = ImageOrientation[3:]\n",
    "\t\tz_vector = np.cross(x_vector,y_vector)\n",
    "\n",
    "\t\t# multiple z_vector by ImagePositionPatient\n",
    "\t\tpos = np.dot(z_vector,ImagePositionPatient)\n",
    "\t\tpos_all.append(pos)\n",
    "\n",
    "\t\t# get the SOPInstanceUID\n",
    "\t\t# sop = ds['0x0008', '0x0018'].value\n",
    "\t\tsop = ds.SOPInstanceUID\n",
    "\t\tsop_all.append(sop)\n",
    "\n",
    "\n",
    "\t#----- order the SOPInstanceUID/files by z value ----#\n",
    "\n",
    "\tsorted_ind = np.argsort(pos_all)\n",
    "\tpos_all_sorted = np.array(pos_all)[sorted_ind.astype(int)]\n",
    "\tsop_all_sorted = np.array(sop_all)[sorted_ind.astype(int)]\n",
    "\tfiles_sorted = np.array(files)[sorted_ind.astype(int)]\n",
    "\n",
    "\treturn files_sorted, sop_all_sorted, pos_all_sorted"
   ]
  },
  {
   "cell_type": "code",
   "execution_count": 52,
   "id": "c68f06d7",
   "metadata": {
    "execution": {
     "iopub.execute_input": "2024-09-10T04:38:25.593862Z",
     "iopub.status.busy": "2024-09-10T04:38:25.592962Z",
     "iopub.status.idle": "2024-09-10T04:38:25.618948Z",
     "shell.execute_reply": "2024-09-10T04:38:25.617823Z"
    },
    "id": "c68f06d7",
    "papermill": {
     "duration": 0.038489,
     "end_time": "2024-09-10T04:38:25.621198",
     "exception": false,
     "start_time": "2024-09-10T04:38:25.582709",
     "status": "completed"
    },
    "tags": []
   },
   "outputs": [],
   "source": [
    "def create_structured_report_metajson_for_shape_features(SeriesInstanceUID,\n",
    "\t\t\t\t\t\t\t\t\t\t\t\t\t\t\t\t\t\t\t\t\t\t\t\t\t\t\t\t SOPInstanceUID_seg,\n",
    "\t\t\t\t\t\t\t\t\t\t\t\t\t\t\t\t\t\t\t\t\t\t\t\t\t\t\t\t seg_file,\n",
    "\t\t\t\t\t\t\t\t\t\t\t\t\t\t\t\t\t\t\t\t\t\t\t\t\t\t\t\t dcm_directory,\n",
    "\t\t\t\t\t\t\t\t\t\t\t\t\t\t\t\t\t\t\t\t\t\t\t\t\t\t\t\t segments_code_mapping_df,\n",
    "\t\t\t\t\t\t\t\t\t\t\t\t\t\t\t\t\t\t\t\t\t\t\t\t\t\t\t\t shape_features_code_mapping_df,\n",
    "\t\t\t\t\t\t\t\t\t\t\t\t\t\t\t\t\t\t\t\t\t\t\t\t\t\t\t\t df_features,\n",
    "\t\t\t\t\t\t\t\t\t\t\t\t\t\t\t\t\t\t\t\t\t\t\t\t\t\t\t\t SegmentAlgorithmName,\n",
    "\t\t\t\t\t\t\t\t\t\t\t\t\t\t\t\t\t\t\t\t\t\t\t\t\t\t\t\t SeriesDescriptionPrefix\n",
    "\t\t\t\t\t\t\t\t\t\t\t\t\t\t\t\t\t\t\t\t\t\t\t\t\t\t\t\t ):\n",
    "\n",
    "\t\"\"\"Function that creates the metajson necessary for the creation of a\n",
    "\tstructured report from a pandas dataframe of label names and features for\n",
    "\teach.\n",
    "\n",
    "\tInputs:\n",
    "\t\tSeriesInstanceUID               : SeriesInstanceUID of the corresponding CT\n",
    "\t\t\t\t\t\t\t\t\t\t\t\t\t\t\t\t\t\t\tfile\n",
    "\t\tSOPInstanceUID_seg              : SOPInstanceUID of the corresponding SEG file\n",
    "\t\tseg_file                        : filename of SEG DCM file\n",
    "\t\tdcm_directory                   : ct directory that will be sorted in\n",
    "\t\t\t\t\t\t\t\t\t\t\t\t\t\t\t\t\t\t\tterms of axial ordering according to the\n",
    "\t\t\t\t\t\t\t\t\t\t\t\t\t\t\t\t\t\t\tImagePositionPatient and ImageOrientation\n",
    "\t\t\t\t\t\t\t\t\t\t\t\t\t\t\t\t\t\t\tfields\n",
    "\t\tsegments_code_mapping_df        : dataframe that holds the names of the\n",
    "\t\t\t\t\t\t\t\t\t\t\t\t\t\t\t\t\t\t\tsegments and the associated code values etc.\n",
    "\t\tshape_features_code_mapping_df  : dataframe that holds the names of the\n",
    "\t\t\t\t\t\t\t\t\t\t\t\t\t\t\t\t\t\t\tfeatures and the associated code values etc.\n",
    "\t\tdf_features                     : a pandas dataframe holding the segments and a\n",
    "\t\t\t\t\t\t\t\t\t\t\t\t\t\t\t\t\t\t\tset of 3D shape features for each\n",
    "\t\tSegmentAlgorithmName            : the name of the algorithm used to create the\n",
    "\t\t\t\t\t\t\t\t\t\t\t\t\t\t\t\t\t\t\tsegmentations - e.g. '3d_fullres_tta_nnUnet'\n",
    "\n",
    "\tOutputs:\n",
    "\t\tReturns the metajson for the structured report that will then be used by\n",
    "\t\tdcmqi tid1500writer to create a structured report\n",
    "\t\"\"\"\n",
    "\n",
    "\t# --- Get the version number for the pyradiomics package --- #\n",
    "\n",
    "\tpyradiomics_version_number = str(radiomics.__version__)\n",
    "\n",
    "\t# --- Sort the dcm files first according to --- #\n",
    "\t# --- ImagePositionPatient and ImageOrientation --- #\n",
    "\n",
    "\tfiles_sorted, sop_all_sorted, pos_all_sorted = order_dicom_files_image_position(dcm_directory)\n",
    "\tfiles_sorted = [os.path.basename(f) for f in files_sorted]\n",
    "\n",
    "\t# --- Create the header for the json --- #\n",
    "\n",
    "\tinputMetadata = {}\n",
    "\tinputMetadata[\"@schema\"]= \"https://raw.githubusercontent.com/qiicr/dcmqi/master/doc/schemas/sr-tid1500-schema.json#\"\n",
    "\t# inputMetadata[\"SeriesDescription\"] = \"Measurements\"\n",
    "\tinputMetadata[\"SeriesDescription\"] = SeriesDescriptionPrefix + '_' + \"Measurements\"\n",
    "\tinputMetadata[\"SeriesNumber\"] = \"1001\"\n",
    "\tinputMetadata[\"InstanceNumber\"] = \"1\"\n",
    "\n",
    "\tinputMetadata[\"compositeContext\"] = [abspath(seg_file)] # not full path\n",
    "\n",
    "\tinputMetadata[\"imageLibrary\"] = files_sorted # not full path\n",
    "\n",
    "\t# inputMetadata[\"observerContext\"] = {\n",
    "\t#                                     \"ObserverType\": \"PERSON\",\n",
    "\t#                                     \"PersonObserverName\": \"Reader1\"\n",
    "\t#                                   }\n",
    "\t# inputMetadata[\"observerContext\"] = {\n",
    "\t#                     \"ObserverType\": \"DEVICE\",\n",
    "\t#                     \"DeviceObserverName\": \"pyradiomics\",\n",
    "\t#                     \"DeviceObserverModelName\": \"v3.0.1\"\n",
    "\t#                   }\n",
    "\tinputMetadata[\"observerContext\"] = {\n",
    "\t\t\t\t\t\t\t\t\t\t\t\"ObserverType\": \"DEVICE\",\n",
    "\t\t\t\t\t\t\t\t\t\t\t\"DeviceObserverName\": \"pyradiomics\",\n",
    "\t\t\t\t\t\t\t\t\t\t\t\"DeviceObserverModelName\": pyradiomics_version_number\n",
    "\t\t\t\t\t\t\t\t\t\t}\n",
    "\n",
    "\tinputMetadata[\"VerificationFlag\"]  = \"UNVERIFIED\"\n",
    "\tinputMetadata[\"CompletionFlag\"] =  \"COMPLETE\"\n",
    "\tinputMetadata[\"activitySession\"] = \"1\"\n",
    "\tinputMetadata[\"timePoint\"] = \"1\"\n",
    "\n",
    "\t# ------------------------------------------------------------------------- #\n",
    "\t# --- Create the measurement_dict for each segment - holds all features --- #\n",
    "\n",
    "\tmeasurement = []\n",
    "\n",
    "\t# --- Now create the dict for all features and all segments --- #\n",
    "\n",
    "\t# --- Loop over the number of segments --- #\n",
    "\n",
    "\t# number of rows in the df_features\n",
    "\tnum_segments = df_features.shape[0]\n",
    "\n",
    "\t# Array of dictionaries - one dictionary for each segment\n",
    "\tmeasurement_across_segments_combined = []\n",
    "\n",
    "\tfor segment_id in range(0,num_segments):\n",
    "\n",
    "\t\tReferencedSegment = int(df_features['ReferencedSegment'].values[segment_id])\n",
    "\t\tFindingSite = df_features['label_name'].values[segment_id]\n",
    "\n",
    "\t\tprint('segment_id: ' + str(segment_id))\n",
    "\t\tprint('ReferencedSegment: ' + str(ReferencedSegment))\n",
    "\t\tprint('FindingSite: ' + str(FindingSite))\n",
    "\n",
    "\t\t# --- Create the dict for the Measurements group --- #\n",
    "\t\tTrackingIdentifier = \"Measurements group \" + str(ReferencedSegment)\n",
    "\n",
    "\t\tsegment_row = segments_code_mapping_df[segments_code_mapping_df[\"segment\"] == FindingSite]\n",
    "\t\t# print(segment_row)\n",
    "\n",
    "\t\tmy_dict = {\n",
    "\t\t\t\"TrackingIdentifier\": str(TrackingIdentifier),\n",
    "\t\t\t\"ReferencedSegment\": int(ReferencedSegment),\n",
    "\t\t\t\"SourceSeriesForImageSegmentation\": str(SeriesInstanceUID),\n",
    "\t\t\t\"segmentationSOPInstanceUID\": str(SOPInstanceUID_seg),\n",
    "\t\t\t\"measurementAlgorithmIdentification\": {\n",
    "\t\t\t\t\t\t\t\t\"AlgorithmName\": \"pyradiomics\",\n",
    "\t\t\t\t\t\t\t\t\"AlgorithmVersion\": str(pyradiomics_version_number)\n",
    "\t\t\t\t\t\t},\n",
    "\t\t\t\"Finding\": {\n",
    "\t\t\t\t\"CodeValue\": \"113343008\",\n",
    "\t\t\t\t\"CodingSchemeDesignator\": \"SCT\",\n",
    "\t\t\t\t\"CodeMeaning\": \"Organ\"\n",
    "\t\t\t},\n",
    "\t\t\t\"FindingSite\": {\n",
    "\t\t\t\t\"CodeValue\": str(segment_row[\"FindingSite_CodeValue\"].values[0]),\n",
    "\t\t\t\t\"CodingSchemeDesignator\": str(segment_row[\"FindingSite_CodingSchemeDesignator\"].values[0]),\n",
    "\t\t\t\t\"CodeMeaning\": str(segment_row[\"FindingSite_CodeMeaning\"].values[0])\n",
    "\t\t\t}\n",
    "\t\t}\n",
    "\n",
    "\t\tmeasurement = []\n",
    "\t\t# number of features - number of columns in df_features - 2 (label_name and ReferencedSegment)\n",
    "\t\tnum_values = len(df_features.columns)-2\n",
    "\n",
    "\t\tfeature_list = df_features.columns[2:] # remove first two\n",
    "\n",
    "\n",
    "\t\t# For each measurement per region segment\n",
    "\t\tfor n in range(0,num_values):\n",
    "\t\t\tmeasurement_dict = {}\n",
    "\t\t\trow = df_features.loc[df_features['label_name'] == FindingSite]\n",
    "\t\t\tfeature_row = shape_features_code_mapping_df.loc[shape_features_code_mapping_df[\"shape_feature\"] == feature_list[n]]\n",
    "\t\t\tvalue = str(np.round(row[feature_list[n]].values[0],3))\n",
    "\t\t\tmeasurement_dict[\"value\"] = value\n",
    "\t\t\tmeasurement_dict[\"quantity\"] = {}\n",
    "\t\t\tmeasurement_dict[\"quantity\"][\"CodeValue\"] = str(feature_row[\"quantity_CodeValue\"].values[0])\n",
    "\t\t\tmeasurement_dict[\"quantity\"][\"CodingSchemeDesignator\"] = str(feature_row[\"quantity_CodingSchemeDesignator\"].values[0])\n",
    "\t\t\tmeasurement_dict[\"quantity\"][\"CodeMeaning\"] = str(feature_row[\"quantity_CodeMeaning\"].values[0])\n",
    "\t\t\tmeasurement_dict[\"units\"] = {}\n",
    "\t\t\tmeasurement_dict[\"units\"][\"CodeValue\"] = str(feature_row[\"units_CodeValue\"].values[0])\n",
    "\t\t\tmeasurement_dict[\"units\"][\"CodingSchemeDesignator\"] = str(feature_row[\"units_CodingSchemeDesignator\"].values[0])\n",
    "\t\t\tmeasurement_dict[\"units\"][\"CodeMeaning\"] = str(feature_row[\"units_CodeMeaning\"].values[0])\n",
    "\t\t\t# measurement_dict[\"measurementAlgorithmIdentification\"] = {}\n",
    "\t\t\t# measurement_dict[\"measurementAlgorithmIdentification\"][\"AlgorithmName\"] = \"pyradiomics\"\n",
    "\t\t\t# measurement_dict[\"measurementAlgorithmIdentification\"][\"AlgorithmVersion\"] = str(pyradiomics_version_number)\n",
    "\t\t\tmeasurement.append(measurement_dict)\n",
    "\n",
    "\t\tmeasurement_combined_dict = {}\n",
    "\t\tmeasurement_combined_dict['measurementItems'] = measurement # measurement is an array of dictionaries\n",
    "\n",
    "\t\toutput_dict_one_segment = {**my_dict, **measurement_combined_dict}\n",
    "\n",
    "\t\t# append to array for all segments\n",
    "\n",
    "\t\tmeasurement_across_segments_combined.append(output_dict_one_segment)\n",
    "\n",
    "\t# --- Add the measurement data --- #\n",
    "\n",
    "\tinputMetadata[\"Measurements\"] = {}\n",
    "\tinputMetadata[\"Measurements\"] = measurement_across_segments_combined\n",
    "\n",
    "\treturn inputMetadata"
   ]
  },
  {
   "cell_type": "code",
   "execution_count": 53,
   "id": "07a41162",
   "metadata": {
    "execution": {
     "iopub.execute_input": "2024-09-10T04:38:25.639075Z",
     "iopub.status.busy": "2024-09-10T04:38:25.638713Z",
     "iopub.status.idle": "2024-09-10T04:38:25.653478Z",
     "shell.execute_reply": "2024-09-10T04:38:25.652444Z"
    },
    "id": "07a41162",
    "papermill": {
     "duration": 0.026308,
     "end_time": "2024-09-10T04:38:25.655687",
     "exception": false,
     "start_time": "2024-09-10T04:38:25.629379",
     "status": "completed"
    },
    "tags": []
   },
   "outputs": [],
   "source": [
    "def save_structured_report_for_shape_features_idc_seg(SeriesInstanceUID,\n",
    "\t\t\t\t\t\t\t\t\t\t\t\t\t\t\t\t\t\t\t\t\t\t\tlabel_values,\n",
    "\t\t\t\t\t\t\t\t\t\t\t\t\t\t\t\t\t\t\t\t\t\t\tlabel_names,\n",
    "\t\t\t\t\t\t\t\t\t\t\t\t\t\t\t\t\t\t\t\t\t\t\tSOPInstanceUID_seg,\n",
    "\t\t\t\t\t\t\t\t\t\t\t\t\t\t\t\t\t\t\t\t\t\t\tpred_dicomseg_path,\n",
    "\t\t\t\t\t\t\t\t\t\t\t\t\t\t\t\t\t\t\t\t\t\t\tdicomseg_json_path,\n",
    "\t\t\t\t\t\t\t\t\t\t\t\t\t\t\t\t\t\t\t\t\t\t\tdcm_directory,\n",
    "\t\t\t\t\t\t\t\t\t\t\t\t\t\t\t\t\t\t\t\t\t\t\tsplit_pred_nii_path,\n",
    "\t\t\t\t\t\t\t\t\t\t\t\t\t\t\t\t\t\t\t\t\t\t\tct_nifti_path,\n",
    "\t\t\t\t\t\t\t\t\t\t\t\t\t\t\t\t\t\t\t\t\t\t\tsegments_code_mapping_df,\n",
    "\t\t\t\t\t\t\t\t\t\t\t\t\t\t\t\t\t\t\t\t\t\t\tshape_features_code_mapping_df,\n",
    "\t\t\t\t\t\t\t\t\t\t\t\t\t\t\t\t\t\t\t\t\t\t\tsr_json_path,\n",
    "\t\t\t\t\t\t\t\t\t\t\t\t\t\t\t\t\t\t\t\t\t\t\tsr_path,\n",
    "\t\t\t\t\t\t\t\t\t\t\t\t\t\t\t\t\t\t\t\t\t\t\tSegmentAlgorithmName,\n",
    "\t\t\t\t\t\t\t\t\t\t\t\t\t\t\t\t\t\t\t\t\t\t\tSeriesDescriptionPrefix\n",
    "\t\t\t\t\t\t\t\t\t\t\t\t\t\t\t\t\t\t\t\t\t\t\t):\n",
    "\n",
    "\t\"\"\" This function creates the SR necessary for the nnUNet shape features\n",
    "\n",
    "\tInputs:\n",
    "\tSeriesInstanceUID               : SeriesInstanceUID of the corresponding CT\n",
    "\t\t\t\t\t\t\t\t\t\t\t\t\t\t\t\t\t\tfile\n",
    "\tSOPInstanceUID_seg              : SOPInstanceUID of the corresponding SEG file\n",
    "\tpred_dicomseg_path              : filename of DICOM SEG file\n",
    "\tdicomseg_json_path              : json file for DICOM SEG file\n",
    "\tdcm_directory                   : list of ct files that will be sorted in\n",
    "\t\t\t\t\t\t\t\t\t\t\t\t\t\t\t\t\t\tterms of axial ordering according to the\n",
    "\t\t\t\t\t\t\t\t\t\t\t\t\t\t\t\t\t\tImagePositionPatient and ImageOrientation\n",
    "\t\t\t\t\t\t\t\t\t\t\t\t\t\t\t\t\t\tfields\n",
    "\tnnunet_base_path                : path to hold the split nifti files\n",
    "\tct_nifti_path                   : filename for CT nifti file\n",
    "\tsegments_code_mapping_df        : dataframe that holds the names of the\n",
    "\t\t\t\t\t\t\t\t\t\t\t\t\t\t\t\t\t\tsegments and the associated code values etc.\n",
    "\tshape_features_code_mapping_df  : dataframe that holds the names of the\n",
    "\t\t\t\t\t\t\t\t\t\t\t\t\t\t\t\t\t\tfeatures and the associated code values etc.\n",
    "\tsr_json_path                    : the path that the metajson for the SR for\n",
    "\t\t\t\t\t\t\t\t\t\t\t\t\t\t\t\t\t\tthe 3D shape features will be saved\n",
    "\tsr_path                         : the path that the SR for the 3D shape\n",
    "\t\t\t\t\t\t\t\t\t\t\t\t\t\t\t\t\t\tfeatures will be saved\n",
    "\tSegmentAlgorithmName            : the name of the algorithm used to create the\n",
    "\t\t\t\t\t\t\t\t\t\t\t\t\t\t\t\t\t\tsegmentations - e.g. '3d_fullres_tta_nnUnet'\n",
    "\n",
    "\tOutputs:\n",
    "\t\tReturns the metajson for the structured report that will then be used by\n",
    "\t\tdcmqi tid1500writer to create a structured report\n",
    "\n",
    "\t\"\"\"\n",
    "\n",
    "\t# --- get label values and names from metajson file --- #\n",
    "\tlabel_values, label_names = label_values, label_names#get_label_and_names_from_metadata_json(dicomseg_json_path)\n",
    "\n",
    "\tdf_features = compute_pyradiomics_3D_features(ct_nifti_path,\n",
    "\t\t\t\t\t\t\t\t\t\t\t\t\t\t\t\t\t\t\t\t\t\t\t\tlabel_values,\n",
    "\t\t\t\t\t\t\t\t\t\t\t\t\t\t\t\t\t\t\t\t\t\t\t\tlabel_names,\n",
    "\t\t\t\t\t\t\t\t\t\t\t\t\t\t\t\t\t\t\t\t\t\t\t\tsplit_pred_nii_path,\n",
    "\t\t\t\t\t\t\t\t\t\t\t\t\t\t\t\t\t\t\t\t\t\t\t\tnnunet_shape_features_code_mapping_df)\n",
    "\tprint ('created df_features')\n",
    "\n",
    "\t# --- upload csv file to bucket --- #\n",
    "\t# !$s5cmd_path --endpoint-url https://storage.googleapis.com cp $pred_features_csv_path $gs_uri_features_csv_file\n",
    "\n",
    "\t# remove nii files after saving out pyradiomics results\n",
    "\t!rm $split_pred_nii_path/*\n",
    "\t# remove csv\n",
    "\t# !rm $pred_features_csv_path\n",
    "\n",
    "\t# --- Create the final metadata for the SR --- #\n",
    "\tinputMetadata = create_structured_report_metajson_for_shape_features(SeriesInstanceUID,\n",
    "\t\t\t\t\t\t\t\t\t\t\t\t\t\t\t\t\t\t\t\t\t\t\t\t\t\t\t\t\t\t\t\t\t\t\t SOPInstanceUID_seg,\n",
    "\t\t\t\t\t\t\t\t\t\t\t\t\t\t\t\t\t\t\t\t\t\t\t\t\t\t\t\t\t\t\t\t\t\t\t pred_dicomseg_path,\n",
    "\t\t\t\t\t\t\t\t\t\t\t\t\t\t\t\t\t\t\t\t\t\t\t\t\t\t\t\t\t\t\t\t\t\t\t dcm_directory,\n",
    "\t\t\t\t\t\t\t\t\t\t\t\t\t\t\t\t\t\t\t\t\t\t\t\t\t\t\t\t\t\t\t\t\t\t\t segments_code_mapping_df,\n",
    "\t\t\t\t\t\t\t\t\t\t\t\t\t\t\t\t\t\t\t\t\t\t\t\t\t\t\t\t\t\t\t\t\t\t\t nnunet_shape_features_code_mapping_df,\n",
    "\t\t\t\t\t\t\t\t\t\t\t\t\t\t\t\t\t\t\t\t\t\t\t\t\t\t\t\t\t\t\t\t\t\t\t df_features,\n",
    "\t\t\t\t\t\t\t\t\t\t\t\t\t\t\t\t\t\t\t\t\t\t\t\t\t\t\t\t\t\t\t\t\t\t\t SegmentAlgorithmName,\n",
    "\t\t\t\t\t\t\t\t\t\t\t\t\t\t\t\t\t\t\t\t\t\t\t\t\t\t\t\t\t\t\t\t\t\t\t SeriesDescriptionPrefix)\n",
    "\n",
    "\tprint ('created SR json for shape features')\n",
    "\n",
    "\t# --- Write out json --- #\n",
    "\n",
    "\twith open(sr_json_path, 'w') as f:\n",
    "\t\tjson.dump(inputMetadata, f, indent=2)\n",
    "\tprint ('wrote out json for shape features')\n",
    "\n",
    "\t# --- Save the SR for nnUNet shape features --- #\n",
    "\tinputImageLibraryDirectory = dcm_directory\n",
    "\toutputDICOM = sr_path\n",
    "\t# the name of the folder where the seg files are located\n",
    "\tinputCompositeContextDirectory = os.path.basename(pred_dicomseg_path) # might need to check this\n",
    "\tinputMetadata_json = sr_json_path\n",
    "\n",
    "\tprint ('inputImageLibraryDirectory: ' + str(inputImageLibraryDirectory))\n",
    "\tprint ('outputDICOM: ' + str(outputDICOM))\n",
    "\tprint ('inputCompositeContextDirectory: ' + str(inputCompositeContextDirectory))\n",
    "\tprint ('inputMetadata_json: ' + str(inputMetadata_json))\n",
    "\t!tid1500writer --inputImageLibraryDirectory $inputImageLibraryDirectory \\\n",
    "\t\t\t\t\t\t\t\t--outputDICOM $outputDICOM  \\\n",
    "\t\t\t\t\t\t\t\t--inputCompositeContextDirectory $inputCompositeContextDirectory \\\n",
    "\t\t\t\t\t\t\t\t--inputMetadata $inputMetadata_json\n",
    "\tprint ('wrote out SR for shape features')\n",
    "\n",
    "\treturn"
   ]
  },
  {
   "cell_type": "markdown",
   "id": "9a2b21cb",
   "metadata": {
    "id": "9a2b21cb",
    "papermill": {
     "duration": 0.007977,
     "end_time": "2024-09-10T04:38:25.671861",
     "exception": false,
     "start_time": "2024-09-10T04:38:25.663884",
     "status": "completed"
    },
    "tags": []
   },
   "source": [
    "# Imports"
   ]
  },
  {
   "cell_type": "code",
   "execution_count": 54,
   "id": "5e7bfbf8",
   "metadata": {
    "execution": {
     "iopub.execute_input": "2024-09-10T04:38:25.723542Z",
     "iopub.status.busy": "2024-09-10T04:38:25.723167Z",
     "iopub.status.idle": "2024-09-10T04:38:26.030753Z",
     "shell.execute_reply": "2024-09-10T04:38:26.029235Z"
    },
    "id": "5e7bfbf8",
    "papermill": {
     "duration": 0.32011,
     "end_time": "2024-09-10T04:38:26.033113",
     "exception": false,
     "start_time": "2024-09-10T04:38:25.713003",
     "status": "completed"
    },
    "tags": []
   },
   "outputs": [],
   "source": [
    "# Packages for the structured report\n",
    "import radiomics\n",
    "from radiomics import featureextractor\n",
    "\n",
    "import highdicom\n",
    "\n",
    "from pathlib import Path\n",
    "\n",
    "import highdicom as hd\n",
    "\n",
    "from pydicom.uid import generate_uid\n",
    "from pydicom.filereader import dcmread\n",
    "from pydicom.sr.codedict import codes\n",
    "\n",
    "from highdicom.sr.content import (\n",
    "\tFindingSite,\n",
    "\tImageRegion,\n",
    "\tImageRegion3D,\n",
    "\tSourceImageForRegion,\n",
    "\tSourceImageForMeasurement,\n",
    "\tSourceImageForMeasurementGroup\n",
    ")\n",
    "from highdicom.sr.enum import GraphicTypeValues3D\n",
    "from highdicom.sr.enum import GraphicTypeValues\n",
    "from highdicom.sr.sop import Comprehensive3DSR, ComprehensiveSR\n",
    "from highdicom.sr.templates import (\n",
    "\tDeviceObserverIdentifyingAttributes,\n",
    "\tMeasurement,\n",
    "\tMeasurementProperties,\n",
    "\tMeasurementReport,\n",
    "\tMeasurementsAndQualitativeEvaluations,\n",
    "\tObservationContext,\n",
    "\tObserverContext,\n",
    "\tPersonObserverIdentifyingAttributes,\n",
    "\tPlanarROIMeasurementsAndQualitativeEvaluations,\n",
    "\tRelationshipTypeValues,\n",
    "\tTrackingIdentifier,\n",
    "\tQualitativeEvaluation,\n",
    "\tImageLibrary,\n",
    "\tImageLibraryEntryDescriptors\n",
    ")\n",
    "from highdicom.sr.value_types import (\n",
    "\tCodedConcept,\n",
    "\tCodeContentItem,\n",
    ")\n",
    "\n",
    "import logging\n",
    "logger = logging.getLogger(\"highdicom.sr.sop\")\n",
    "logger.setLevel(logging.INFO)"
   ]
  },
  {
   "cell_type": "markdown",
   "id": "257aa7d2",
   "metadata": {
    "id": "257aa7d2",
    "papermill": {
     "duration": 0.008944,
     "end_time": "2024-09-10T04:38:26.052990",
     "exception": false,
     "start_time": "2024-09-10T04:38:26.044046",
     "status": "completed"
    },
    "tags": []
   },
   "source": [
    "# Input setup"
   ]
  },
  {
   "cell_type": "code",
   "execution_count": null,
   "id": "e811f1b6",
   "metadata": {
    "execution": {
     "iopub.execute_input": "2024-09-10T04:38:26.072611Z",
     "iopub.status.busy": "2024-09-10T04:38:26.071481Z",
     "iopub.status.idle": "2024-09-10T04:38:26.263047Z",
     "shell.execute_reply": "2024-09-10T04:38:26.261689Z"
    },
    "id": "e811f1b6",
    "papermill": {
     "duration": 0.203891,
     "end_time": "2024-09-10T04:38:26.265421",
     "exception": false,
     "start_time": "2024-09-10T04:38:26.061530",
     "status": "completed"
    },
    "tags": []
   },
   "outputs": [],
   "source": [
    "!lz4 -dc < $SEG_OUTPUT | tar xvf - -C $SEG_OUTPUT_UNZIP"
   ]
  },
  {
   "cell_type": "code",
   "execution_count": null,
   "id": "147b399e",
   "metadata": {
    "execution": {
     "iopub.execute_input": "2024-09-10T04:38:26.352517Z",
     "iopub.status.busy": "2024-09-10T04:38:26.352147Z",
     "iopub.status.idle": "2024-09-10T04:38:26.671425Z",
     "shell.execute_reply": "2024-09-10T04:38:26.670382Z"
    },
    "id": "147b399e",
    "papermill": {
     "duration": 0.331665,
     "end_time": "2024-09-10T04:38:26.673746",
     "exception": false,
     "start_time": "2024-09-10T04:38:26.342081",
     "status": "completed"
    },
    "tags": []
   },
   "outputs": [],
   "source": [
    "#nnunet code mapping\n",
    "import pandas as pd\n",
    "#radiomics df\n",
    "!wget -N https://raw.githubusercontent.com/ImagingDataCommons/ai_medima_misc/main/nnunet/data/nnunet_shape_features_code_mapping.csv\n",
    "nnunet_shape_features_code_mapping_df = pd.read_csv(\"nnunet_shape_features_code_mapping.csv\")"
   ]
  },
  {
   "cell_type": "markdown",
   "id": "8462b617",
   "metadata": {
    "id": "8462b617",
    "papermill": {
     "duration": 0.009138,
     "end_time": "2024-09-10T04:38:26.691938",
     "exception": false,
     "start_time": "2024-09-10T04:38:26.682800",
     "status": "completed"
    },
    "tags": []
   },
   "source": [
    "# Radiomics computation\n",
    "\n"
   ]
  },
  {
   "cell_type": "code",
   "execution_count": 57,
   "id": "3bd31df1",
   "metadata": {
    "execution": {
     "iopub.execute_input": "2024-09-10T04:38:26.711750Z",
     "iopub.status.busy": "2024-09-10T04:38:26.711334Z",
     "iopub.status.idle": "2024-09-10T04:38:26.719695Z",
     "shell.execute_reply": "2024-09-10T04:38:26.718671Z"
    },
    "id": "3bd31df1",
    "papermill": {
     "duration": 0.021092,
     "end_time": "2024-09-10T04:38:26.721863",
     "exception": false,
     "start_time": "2024-09-10T04:38:26.700771",
     "status": "completed"
    },
    "tags": []
   },
   "outputs": [],
   "source": [
    "seg_dicom_objects = glob.glob(os.path.join(SEG_OUTPUT_UNZIP, \"**\",\n",
    "\t\t\t\t\t\t\t\t\t\t \"*.dcm\"), recursive=True)\n",
    "assert os.path.exists(seg_dicom_objects[0])"
   ]
  },
  {
   "cell_type": "code",
   "execution_count": null,
   "id": "5312978e",
   "metadata": {
    "execution": {
     "iopub.execute_input": "2024-09-10T04:38:26.742200Z",
     "iopub.status.busy": "2024-09-10T04:38:26.741840Z",
     "iopub.status.idle": "2024-09-10T04:39:35.855435Z",
     "shell.execute_reply": "2024-09-10T04:39:35.854387Z"
    },
    "id": "5312978e",
    "papermill": {
     "duration": 69.126673,
     "end_time": "2024-09-10T04:39:35.857506",
     "exception": false,
     "start_time": "2024-09-10T04:38:26.730833",
     "status": "completed"
    },
    "tags": []
   },
   "outputs": [],
   "source": [
    "for serieUID_path in seg_dicom_objects:\n",
    "\ttry:\n",
    "\t\t#convert AI SEG DICOM object to NIFTI SEG\n",
    "\t\tserieUID_image = str(pydicom.dcmread(serieUID_path).ReferencedSeriesSequence[0].SeriesInstanceUID)\n",
    "\t\tprint(f\"serieUID image referenced : {serieUID_image}\")\n",
    "\t\t!mkdir -p {os.path.join(seg_nii_folder, serieUID_image)}\n",
    "\t\tassert os.path.exists(serieUID_path)\n",
    "\t\t!segimage2itkimage --inputDICOM $serieUID_path \\\n",
    "\t\t--outputDirectory {os.path.join(seg_nii_folder, serieUID_image)} --outputType nii\n",
    "\t\t#download IDC reference image for downstream resampling\n",
    "\t\tout_image_dicom = os.path.join(IDC_IMAGE_DICOM, serieUID_image)\n",
    "\t\t!rm -rf $out_image_dicom\n",
    "\t\t!mkdir -p $out_image_dicom\n",
    "\t\tclient.download_from_selection(seriesInstanceUID=list([serieUID_image]),\n",
    "\t\t\t\t\t\t\t\t\t\t\t\t\t\t\t\t\t\t\t\t\t\t\t\tdownloadDir=out_image_dicom,)\n",
    "\t\t#convert idc reference image to NIFTI/NRRD\n",
    "\t\tout_image_nii = os.path.join(IDC_IMAGE_NII, serieUID_image)\n",
    "\t\tout_image_nrrd = os.path.join(IDC_IMAGE_NRRD, serieUID_image)\n",
    "\t\t##nii\n",
    "\t\t!rm -rf $out_image_nii\n",
    "\t\t!mkdir -p $out_image_nii\n",
    "\t\t##nrrd\n",
    "\t\t!rm -rf $out_image_nrrd\n",
    "\t\t!mkdir -p $out_image_nrrd\n",
    "\t\t#convert image dicom to nii\n",
    "\t\t!dcm2niix -z y -m y -f %i_{serieUID_image} -o $out_image_nii $out_image_dicom\n",
    "\t\t#convert image dicom to nrrd\n",
    "\t\tout_image_dicom_for_nrrd = \"/\".join(glob.glob(os.path.join(out_image_dicom, \"**\", \"*.dcm\"), recursive=True)[0].split(\"/\")[:-1])\n",
    "\t\tout_img_nrrd_file_path = os.path.join(out_image_nrrd, f\"{serieUID_image}.nrrd\")\n",
    "\t\tconvert_nrrd_args = {\"input\":out_image_dicom_for_nrrd, \"output-img\":out_img_nrrd_file_path}\n",
    "\t\tpypla.convert(verbose=True, **convert_nrrd_args)\n",
    "\t\tref_image_nii_path = glob.glob(os.path.join(out_image_nii, '*.nii.gz'))[0]\n",
    "\t\tref_image_nrrd_path = glob.glob(os.path.join(out_image_nrrd, '*.nrrd'))[0]\n",
    "\t\t#resample AI NIFTI SEG object to the reference image space\n",
    "\t\toutput_serie_resampled = os.path.join(seg_nii_resampled_folder, serieUID_image)\n",
    "\t\t!rm -rf $output_serie_resampled\n",
    "\t\t!mkdir -p $output_serie_resampled\n",
    "\t\tfor ai_segment_path in glob.glob(os.path.join(seg_nii_folder, serieUID_image, \"*.nii.gz\")):\n",
    "\t\t\tprint(ai_segment_path)\n",
    "\t\t\tout_segment_path = os.path.join(output_serie_resampled, ai_segment_path.split('/')[-1])\n",
    "\t\t\t# !plastimatch resample --input $ai_segment_path \\\n",
    "\t\t\t# --fixed $ref_image_nii_path --output $out_segment_path --interpolation nn\n",
    "\t\t\tresample_args = {\"input\" : ai_segment_path,#change to pred path if no largest_component_retrieval necessary\n",
    "\t\t\t\t\t\t\t\t\t\t\t\t\t\t\"output\" : out_segment_path,\n",
    "\t\t\t\t\t\t\t\t\t\t\t\t\t\t\"fixed\" : ref_image_nrrd_path,#ref_image_nii_path,\n",
    "\t\t\t\t\t\t\t\t\t\t\t\t\t\t\"interpolation\" : \"nn\"}\n",
    "\t\t\tpypla.resample(verbose = False, **resample_args)\n",
    "\t\t#compute radiomics\n",
    "\t\t##get parameters for radiomics computation\n",
    "\t\tSeriesInstanceUID = serieUID_image # image reference serieUID\n",
    "\t\tSOPInstanceUID = get_tag_pydicom(serieUID_path, \"SOPInstanceUID\").value #SOPInstanceUID of AI DICOM SEG\n",
    "\t\tct_nifti_path = abspath(glob.glob(os.path.join(out_image_nrrd, \"*.nrrd\"))[0])#abspath(glob.glob(f\"{out_image_nii}/*.nii.gz\")[0])\n",
    "\t\tct_nifti_path = abspath(ct_nifti_path)\n",
    "\t\tpred_dicomseg_path = serieUID_path\n",
    "\t\tdicomseg_json_path = abspath(glob.glob(os.path.join(seg_nii_folder, serieUID_image, \"meta.json\"))[0])\n",
    "\t\tmhub_ai_meta_df = retrieve_meta_df_from_json(dicomseg_json_path)\n",
    "\t\tdcm_directory = abspath(\"/\".join(glob.glob(os.path.join(out_image_dicom, \"**/*.dcm\"), recursive=True)[0].split(\"/\")[:-1]))\n",
    "\t\tsegments_code_mapping_df = mhub_ai_meta_df#idc_seg_segments_code_mapping_df\n",
    "\t\tshape_features_code_mapping_df = nnunet_shape_features_code_mapping_df\n",
    "\t\tmhub_serieUID_sr_path = abspath(os.path.join(seg_sr_dicom_folder, serieUID_image))\n",
    "\t\tmhub_serieUID_sr_json_path = abspath(os.path.join(seg_sr_json_dicom_folder, serieUID_image))\n",
    "\t\t!mkdir -p $mhub_serieUID_sr_path\n",
    "\t\t!mkdir -p $mhub_serieUID_sr_json_path\n",
    "\t\tsr_json_path = abspath(os.path.join(mhub_serieUID_sr_json_path, serieUID_image+\"_SR.json\"))\n",
    "\t\tsr_path = abspath(os.path.join(mhub_serieUID_sr_path, serieUID_image+\"_SR.dcm\"))\n",
    "\t\tif \"SegmentAlgorithmName\" in list(mhub_ai_meta_df.columns.values):\n",
    "\t\t\tSegmentAlgorithmName = str(mhub_ai_meta_df.SegmentAlgorithmName.unique()[0])\n",
    "\t\telse:#if SegmentAlgorithmName not in dcmqi.meta.json, that means its likely that it is an expert annotation\n",
    "\t\t\tSegmentAlgorithmName = \"MANUAL\"\n",
    "\t\tprint(f\"SegmentAlgorithmName : {SegmentAlgorithmName}\")\n",
    "\t\tsegseriesDescription = \"\"\n",
    "\t\tif len(terraRadSeriesDescription) > 0:\n",
    "\t\t\tsegseriesDescription = terraRadSeriesDescription\n",
    "\t\telse:\n",
    "\t\t\tsegseriesDescription = SegmentAlgorithmName\n",
    "\t\tlabel_values_lst = []\n",
    "\t\tlabel_names_lst = []\n",
    "\t\tfor analyzed_segmentCodeValue,analyzed_segmentCodingSchemeDesignator \\\n",
    "\t\tin zip(dicom_sr_CodeValues_lst, dicom_sr_CodingSchemeDesignator_lst):\n",
    "\t\t\tif analyzed_segmentCodeValue in mhub_ai_meta_df.FindingSite_CodeValue.values \\\n",
    "\t\t\tand analyzed_segmentCodingSchemeDesignator in mhub_ai_meta_df.FindingSite_CodingSchemeDesignator.values:\n",
    "\t\t\t\tlabel_values_lst.append(int(mhub_ai_meta_df[(mhub_ai_meta_df.FindingSite_CodeValue \\\n",
    "\t\t\t\t\t\t\t\t\t\t\t\t\t\t\t\t\t\t\t\t\t\t\t\t\t\t== str(analyzed_segmentCodeValue))\\\n",
    "\t\t\t\t\t\t\t\t\t\t\t\t\t\t\t\t\t\t\t\t\t\t\t\t\t\t&(mhub_ai_meta_df.FindingSite_CodingSchemeDesignator\\\n",
    "\t\t\t\t\t\t\t\t\t\t\t\t\t\t\t\t\t\t\t\t\t\t\t\t\t\t\t== str(analyzed_segmentCodingSchemeDesignator))].labelID.unique()[0]))\n",
    "\t\t\t\tlabel_names_lst.append(str(mhub_ai_meta_df[(mhub_ai_meta_df.FindingSite_CodeValue \\\n",
    "\t\t\t\t\t\t\t\t\t\t\t\t\t\t\t\t\t\t\t\t\t\t\t\t\t== str(analyzed_segmentCodeValue))\\\n",
    "\t\t\t\t\t\t\t\t\t\t\t\t\t\t\t\t\t\t\t\t\t\t\t\t\t&(mhub_ai_meta_df.FindingSite_CodingSchemeDesignator\\\n",
    "\t\t\t\t\t\t\t\t\t\t\t\t\t\t\t\t\t\t\t\t\t\t\t\t\t\t\t== str(analyzed_segmentCodingSchemeDesignator))].FindingSite_CodeMeaning.unique()[0]))\n",
    "\t\t\tlabel_values = label_values_lst\n",
    "\t\t\tlabel_names = label_names_lst\n",
    "\t\tprint(f\"label_values: {label_values}\")\n",
    "\t\tprint(f\"label_names: {label_names}\")\n",
    "\t\t#rename dcmqi seg output by segmentCodeMeaning for SR computation\n",
    "\t\tout_serieUID_renamed_path = os.path.join(seg_nii_resampled_renamed_folder, serieUID_image)\n",
    "\t\t!rm -rf $out_serieUID_renamed_path && mkdir -p $out_serieUID_renamed_path\n",
    "\t\tfor segment_dcmqi_path in glob.glob(f\"{output_serie_resampled}/*nii.gz\"):\n",
    "\t\t\tsegment_name = str(mhub_ai_meta_df[mhub_ai_meta_df.labelID == \\\n",
    "\t\t\t\t\t\t\t\t\t\t\t\t\t\t\t\t\t\tint(segment_dcmqi_path.split(\"/\")[-1][:-7])].FindingSite_CodeMeaning.unique()[0])\n",
    "\t\t\tshutil.copy(segment_dcmqi_path, os.path.join(out_serieUID_renamed_path, f\"{segment_name}.nii.gz\"))\n",
    "\t\tsplit_pred_nii_path = abspath(out_serieUID_renamed_path)\n",
    "\t\tnnunet_features_metajson = save_structured_report_for_shape_features_idc_seg(SeriesInstanceUID=SeriesInstanceUID,\n",
    "\t\t\t\t\t\t\t\t\t\t\t\t\t\t\t\t\t\t\t\t\t\t\t\t\t\t\t\t\t\t\t\t\t\t\tSOPInstanceUID_seg=SOPInstanceUID,\n",
    "\t\t\t\t\t\t\t\t\t\t\t\t\t\t\t\t\t\t\t\t\t\t\t\t\t\t\t\t\t\t\t\t\t\t\tlabel_values=label_values,\n",
    "\t\t\t\t\t\t\t\t\t\t\t\t\t\t\t\t\t\t\t\t\t\t\t\t\t\t\t\t\t\t\t\t\t\t\tlabel_names = label_names,\n",
    "\t\t\t\t\t\t\t\t\t\t\t\t\t\t\t\t\t\t\t\t\t\t\t\t\t\t\t\t\t\t\t\t\t\t\tpred_dicomseg_path=pred_dicomseg_path,\n",
    "\t\t\t\t\t\t\t\t\t\t\t\t\t\t\t\t\t\t\t\t\t\t\t\t\t\t\t\t\t\t\t\t\t\t\tdicomseg_json_path=dicomseg_json_path,\n",
    "\t\t\t\t\t\t\t\t\t\t\t\t\t\t\t\t\t\t\t\t\t\t\t\t\t\t\t\t\t\t\t\t\t\t\tdcm_directory=dcm_directory,\n",
    "\t\t\t\t\t\t\t\t\t\t\t\t\t\t\t\t\t\t\t\t\t\t\t\t\t\t\t\t\t\t\t\t\t\t\tsplit_pred_nii_path=split_pred_nii_path,\n",
    "\t\t\t\t\t\t\t\t\t\t\t\t\t\t\t\t\t\t\t\t\t\t\t\t\t\t\t\t\t\t\t\t\t\t\tct_nifti_path=ct_nifti_path,\n",
    "\t\t\t\t\t\t\t\t\t\t\t\t\t\t\t\t\t\t\t\t\t\t\t\t\t\t\t\t\t\t\t\t\t\t\tsegments_code_mapping_df=segments_code_mapping_df,\n",
    "\t\t\t\t\t\t\t\t\t\t\t\t\t\t\t\t\t\t\t\t\t\t\t\t\t\t\t\t\t\t\t\t\t\t\tshape_features_code_mapping_df=shape_features_code_mapping_df,\n",
    "\t\t\t\t\t\t\t\t\t\t\t\t\t\t\t\t\t\t\t\t\t\t\t\t\t\t\t\t\t\t\t\t\t\t\tsr_json_path=sr_json_path,\n",
    "\t\t\t\t\t\t\t\t\t\t\t\t\t\t\t\t\t\t\t\t\t\t\t\t\t\t\t\t\t\t\t\t\t\t\tsr_path=sr_path,\n",
    "\t\t\t\t\t\t\t\t\t\t\t\t\t\t\t\t\t\t\t\t\t\t\t\t\t\t\t\t\t\t\t\t\t\t\tSegmentAlgorithmName=SegmentAlgorithmName,\n",
    "\t\t\t\t\t\t\t\t\t\t\t\t\t\t\t\t\t\t\t\t\t\t\t\t\t\t\t\t\t\t\t\t\t\t\tSeriesDescriptionPrefix=segseriesDescription)\n",
    "\t\tprint(\"\\n\")\n",
    "\texcept:\n",
    "\t\tprint(\"DID NOT WORK FOR SERIEUID : {serieUID_image}\")"
   ]
  }
 ],
 "metadata": {
  "celltoolbar": "Tags",
  "colab": {
   "collapsed_sections": [
    "924ea23b",
    "869990f5",
    "9a2b21cb"
   ],
   "gpuType": "T4",
   "machine_shape": "hm",
   "provenance": []
  },
  "kernelspec": {
   "display_name": "Python 3 (ipykernel)",
   "language": "python",
   "name": "python3"
  },
  "language_info": {
   "codemirror_mode": {
    "name": "ipython",
    "version": 3
   },
   "file_extension": ".py",
   "mimetype": "text/x-python",
   "name": "python",
   "nbconvert_exporter": "python",
   "pygments_lexer": "ipython3",
   "version": "3.8.15"
  },
  "papermill": {
   "default_parameters": {},
   "duration": 78.931592,
   "end_time": "2024-09-10T04:39:36.772148",
   "environment_variables": {},
   "exception": null,
   "input_path": "/app/data/sr_dicom_generation.ipynb",
   "output_path": "/app/data/sr_dicom_generation-output.ipynb",
   "parameters": {
    "OUTPUT_PATH": "/app/data/output_sr",
    "SEG_OUTPUT": "/cromwell_root/fc-5af492dc-6993-4c91-bbf6-3e2747868642/submissions/1cfa9482-c6f9-4a13-9958-42542c1fd756/mhubai_workflow/04ca2438-9a92-4e60-9519-056fca645468/call-ai_combine_seg/shard-3/ai_combination_archive.tar.lz4",
    "dicom_sr_CodeValues_lst": [
     "41216001",
     "279706003",
     "399384005"
    ],
    "dicom_sr_CodingSchemeDesignator_lst": [
     "SCT",
     "SCT",
     "SCT"
    ],
    "dicom_sr_codeMeaning_lst": [
     "Prostatic_structure",
     "Structure_of_peripheral_glandular_zone_of_prostate_(body_structure)",
     "Structure_of_transition_zone_of_prostate_(body_structure)"
    ]
   },
   "start_time": "2024-09-10T04:38:17.840556",
   "version": "2.6.0"
  }
 },
 "nbformat": 4,
 "nbformat_minor": 5
}
