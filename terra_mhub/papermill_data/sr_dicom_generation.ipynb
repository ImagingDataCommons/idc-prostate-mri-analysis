{
 "cells": [
  {
   "cell_type": "markdown",
   "metadata": {
    "id": "BA-Lmt-oAWjy"
   },
   "source": [
    "# Setup"
   ]
  },
  {
   "cell_type": "code",
   "execution_count": 111,
   "metadata": {
    "id": "u6IZUFle7apI"
   },
   "outputs": [],
   "source": [
    "# !apt-get install lz4"
   ]
  },
  {
   "cell_type": "code",
   "execution_count": 112,
   "metadata": {
    "id": "1O9UNZct7e_9"
   },
   "outputs": [],
   "source": [
    "# %%capture\n",
    "# !pip install --upgrade duckdb papermill s5cmd dcm2niix pyplastimatch pyradiomics \\\n",
    "# highdicom pydicom seg-metrics idc-index itk SimpleITK pyaml"
   ]
  },
  {
   "cell_type": "code",
   "execution_count": 113,
   "metadata": {
    "id": "qLB3dBkB7c6t"
   },
   "outputs": [],
   "source": [
    "# %%capture\n",
    "# from pyplastimatch.utils.install import install_precompiled_binaries\n",
    "# install_precompiled_binaries()"
   ]
  },
  {
   "cell_type": "code",
   "execution_count": 114,
   "metadata": {
    "id": "jYGs93hb7cQJ"
   },
   "outputs": [],
   "source": [
    "# dcmqi_release_url = \"https://github.com/QIICR/dcmqi/releases/download/v1.3.4/dcmqi-1.3.4-linux.tar.gz\"\n",
    "# dcmqi_download_path = \"dcmqi-1.3.4-linux.tar.gz\"\n",
    "# dcmqi_path = \"dcmqi-1.3.4-linux\"\n",
    "# !wget -O $dcmqi_download_path $dcmqi_release_url\\\n",
    "# && tar -xvf $dcmqi_download_path\\\n",
    "# && mv $dcmqi_path/bin/* /bin\\\n",
    "# && rm -r $dcmqi_download_path $dcmqi_path"
   ]
  },
  {
   "cell_type": "code",
   "execution_count": 115,
   "metadata": {
    "id": "3Z6QNy1l7ZES"
   },
   "outputs": [],
   "source": [
    "# Imports\n",
    "\n",
    "import os\n",
    "import json\n",
    "import glob\n",
    "\n",
    "import numpy as np\n",
    "\n",
    "import shutil\n",
    "\n",
    "import pyplastimatch as pypla\n",
    "\n",
    "import math\n",
    "import pandas as pd\n",
    "import SimpleITK as sitk\n",
    "\n",
    "from os.path import abspath\n",
    "\n",
    "import pydicom\n",
    "# Packages for the structured report\n",
    "\n",
    "import highdicom\n",
    "\n",
    "from pathlib import Path\n",
    "\n",
    "import highdicom as hd\n",
    "\n",
    "from pydicom.uid import generate_uid\n",
    "from pydicom.filereader import dcmread\n",
    "from pydicom.sr.codedict import codes\n",
    "\n",
    "from idc_index import index\n",
    "client = index.IDCClient()"
   ]
  },
  {
   "cell_type": "markdown",
   "metadata": {
    "id": "yJLRHiDh-7J_"
   },
   "source": [
    "# Global Variables\n"
   ]
  },
  {
   "cell_type": "code",
   "execution_count": 116,
   "metadata": {
    "id": "NEmPsqHP7qTZ",
    "tags": [
     "parameters"
    ]
   },
   "outputs": [],
   "source": [
    "#absolute path output\n",
    "OUTPUT_PATH = \"\"#\"radiomics_task\"#\"\"\n",
    "#input MHUB zip file\n",
    "SEG_OUTPUT = \"\"#\"/content/radiomics_idc_output.tar.lz4\"#\"\"\n",
    "#segments parameters\n",
    "dicom_sr_CodeValues_lst = []#[\"41216001\"]\n",
    "dicom_sr_codeMeaning_lst = []#[\"Prostate\"]\n",
    "dicom_sr_CodingSchemeDesignator_lst = []#[\"SCT\"]"
   ]
  },
  {
   "cell_type": "code",
   "execution_count": 117,
   "metadata": {
    "id": "R-Z5W8mf6ACn"
   },
   "outputs": [],
   "source": [
    "SEG_OUTPUT_UNZIP = os.path.join(OUTPUT_PATH, \"seg_unzip\")\n",
    "\n",
    "seg_base_folder = os.path.join(OUTPUT_PATH, \"seg_objects\")\n",
    "\n",
    "seg_nii_folder = os.path.join(seg_base_folder, \"nii\")\n",
    "seg_nii_resampled_folder = os.path.join(seg_base_folder, \"nii_resampled\")\n",
    "seg_nii_resampled_renamed_folder = os.path.join(seg_base_folder, \"nii_resampled_renamed\")\n",
    "seg_sr_dicom_folder = os.path.join(seg_base_folder, \"dicom_sr\")\n",
    "seg_sr_json_dicom_folder = os.path.join(seg_base_folder, \"dicom_sr_json\")\n",
    "\n",
    "#IDC EVALUATION DATA\n",
    "## Image\n",
    "IDC_IMAGE_DICOM = os.path.join(OUTPUT_PATH, \"idc_image_data/dicom\")\n",
    "IDC_IMAGE_NII = os.path.join(OUTPUT_PATH, \"idc_image_data/nii\")"
   ]
  },
  {
   "cell_type": "code",
   "execution_count": 118,
   "metadata": {
    "id": "asVnhb-VqSEs"
   },
   "outputs": [],
   "source": [
    "def setup_folders():\n",
    "  \"\"\"\n",
    "  creates environment data and results folder, first deletes current ones and then creates new ones\n",
    "  \"\"\"\n",
    "  for folder_setup in [OUTPUT_PATH, SEG_OUTPUT_UNZIP, seg_base_folder,\n",
    "                       seg_nii_folder, seg_nii_resampled_folder,\n",
    "                       seg_sr_dicom_folder, seg_sr_json_dicom_folder,\n",
    "                       IDC_IMAGE_DICOM, IDC_IMAGE_NII]:\n",
    "    !rm -rf $folder_setup\n",
    "    !mkdir -p $folder_setup"
   ]
  },
  {
   "cell_type": "code",
   "execution_count": 119,
   "metadata": {
    "id": "xKAchJCdqSEs"
   },
   "outputs": [],
   "source": [
    "setup_folders()"
   ]
  },
  {
   "cell_type": "markdown",
   "metadata": {
    "id": "BwqI2QIHoJiq"
   },
   "source": [
    "# Utility functions"
   ]
  },
  {
   "cell_type": "markdown",
   "metadata": {
    "id": "EtveZiW5oMRY"
   },
   "source": [
    "## Conversion DICOM <---> NII"
   ]
  },
  {
   "cell_type": "code",
   "execution_count": 120,
   "metadata": {
    "id": "2ig8O6X2oXRc"
   },
   "outputs": [],
   "source": [
    "def convert_image_dcm_to_nii(input_path, output_path_root, prefix=\"\", format=\"nii\"):\n",
    "\t\"\"\"\n",
    "\tConversion of DICOM MR data to NIFTI using dcm2niix\n",
    "\tinput_path : str, folder containing DICOM instances .dcm\n",
    "\toutput_path_root : str, output folder\n",
    "\tprefix : str, prefix for output file name\n",
    "\t\"\"\"\n",
    "\tif not os.path.exists(output_path_root):\n",
    "\t\t!mkdir -p $output_path_root\n",
    "\t!dcm2niix -z y -m y -f %i_{prefix} -o $output_path_root $input_path"
   ]
  },
  {
   "cell_type": "markdown",
   "metadata": {
    "id": "px_GC146oRLV"
   },
   "source": [
    "## Resampling"
   ]
  },
  {
   "cell_type": "code",
   "execution_count": 121,
   "metadata": {
    "id": "UnidOuJ9sxJl"
   },
   "outputs": [],
   "source": [
    "def resample_preds(input_path_nnunet_preds=\"\", input_path_t2_idc=\"\", output_path=\"\"):\n",
    "\t\"\"\"\n",
    "\tResampling of nnunet_preds to reference MR T2 volumes used as input image\n",
    "\tinput_path_nnunet_preds : str, folder containing nnunet preds\n",
    "\tinput_path_t2_idc : str, folder containing NIFTI IDC MR T2 volumes\n",
    "\toutput_path : str, folder output\n",
    "\t\"\"\"\n",
    "\tfor pred_path in sorted(glob.glob(os.path.join(input_path_nnunet_preds, \"*.nii.gz\"))):\n",
    "\t\tprint(f\"pred path : {pred_path}\")\n",
    "\t\tresample_args_to_t2_origin = {\"input\" : pred_path,#change to pred path if no largest_component_retrieval necessary\n",
    "\t\t\t\t\t\t\t\t\t\t\t\t\t\"output\" : os.path.join(output_path,\n",
    "\t\t\t\t\t\t\t\t\t\t\t\t\t\t\t\t\t\t\t\t\t\t\t\t\tf\"{pred_path.split('/')[-1][:-7]}.nii.gz\"),\n",
    "\t\t\t\t\t\t\t\t\t\t\t\t\t\"fixed\" : input_path_t2_idc,\n",
    "\t\t\t\t\t\t\t\t\t\t\t\t\t\"interpolation\" : \"nn\"}\n",
    "\n",
    "\t\tpypla.resample(verbose = False, **resample_args_to_t2_origin)\n",
    "\t\tprint()"
   ]
  },
  {
   "cell_type": "markdown",
   "metadata": {
    "id": "R9XGazYp8QKq"
   },
   "source": [
    "## Combine segs"
   ]
  },
  {
   "cell_type": "code",
   "execution_count": 122,
   "metadata": {
    "id": "DQ00_GHx8Rye"
   },
   "outputs": [],
   "source": [
    "def add_segments_json(input_json, segmentAttributesProstate_lst):\n",
    "\tassert os.path.exists(input_json)\n",
    "\tinp_json = json.load(open(input_json)).copy()\n",
    "\tprint(inp_json[\"segmentAttributes\"])\n",
    "\tprint(type(inp_json[\"segmentAttributes\"]))\n",
    "\ttemp_lst = inp_json[\"segmentAttributes\"].copy()\n",
    "\ttemp_lst.append(segmentAttributesProstate_lst)\n",
    "\tinp_json[\"segmentAttributes\"] = temp_lst\n",
    "\tprint(inp_json[\"segmentAttributes\"])\n",
    "\n",
    "\treturn inp_json"
   ]
  },
  {
   "cell_type": "code",
   "execution_count": 123,
   "metadata": {
    "id": "YJiQmS3thjBh"
   },
   "outputs": [],
   "source": [
    "def retrieve_meta_df_from_json(meta_json_path):\n",
    "\tout_segment_list = []\n",
    "\tjson_dic = json.load(open(meta_json_path))\n",
    "\tfor segment_iter in json_dic[\"segmentAttributes\"]:\n",
    "\t\ttemp_dic = {}\n",
    "\t\ttemp_dic = segment_iter\n",
    "\t\tout_segment_list.append(temp_dic[0])\n",
    "\tout_df = pd.DataFrame.from_dict(out_segment_list)\n",
    "\tdf_SegmentedPropertyTypeCodeSequence = pd.json_normalize(out_df['SegmentedPropertyTypeCodeSequence']).rename(columns={'CodeMeaning': 'FindingSite_CodeMeaning',\n",
    "\t\t\t\t\t\t\t\t\t\t\t\t\t\t\t\t\t\t\t\t\t\t\t\t\t\t\t\t\t\t\t\t\t\t\t\t\t\t\t\t\t\t\t\t\t\t\t\t\t\t\t\t\t\t\t\t\t\t\t\t'CodeValue':'FindingSite_CodeValue',\n",
    "\t\t\t\t\t\t\t\t\t\t\t\t\t\t\t\t\t\t\t\t\t\t\t\t\t\t\t\t\t\t\t\t\t\t\t\t\t\t\t\t\t\t\t\t\t\t\t\t\t\t\t\t\t\t\t\t\t\t\t\t'CodingSchemeDesignator': 'FindingSite_CodingSchemeDesignator'})\n",
    "\tdf_SegmentedPropertyCategoryCodeSequence = pd.json_normalize(out_df['SegmentedPropertyCategoryCodeSequence']).rename(columns={'CodeMeaning': 'Finding_CodeMeaning',\n",
    "\t\t\t\t\t\t\t\t\t\t\t\t\t\t\t\t\t\t\t\t\t\t\t\t\t\t\t\t\t\t\t\t\t\t\t\t\t\t\t\t\t\t\t\t\t\t\t\t\t\t\t\t\t\t\t\t\t\t\t\t'CodeValue':'Finding_CodeValue',\n",
    "\t\t\t\t\t\t\t\t\t\t\t\t\t\t\t\t\t\t\t\t\t\t\t\t\t\t\t\t\t\t\t\t\t\t\t\t\t\t\t\t\t\t\t\t\t\t\t\t\t\t\t\t\t\t\t\t\t\t\t\t'CodingSchemeDesignator': 'Finding_CodingSchemeDesignator'})\n",
    "\tdf_columns_lst = list(out_df.columns.values)\n",
    "\tcols_to_retrieve = []\n",
    "\tfor col_test in [\"SegmentAlgorithmName\",\"SegmentAlgorithmType\",\n",
    "\t\t\t\t\t\t\t\t\t \"SegmentDescription\",\"SegmentLabel\"]:\n",
    "\t\tif col_test in df_columns_lst:\n",
    "\t\t\t\tcols_to_retrieve.append(col_test)\n",
    "\t\telse:\n",
    "\t\t\tpass\n",
    "\tdf_final = df_SegmentedPropertyTypeCodeSequence.join(df_SegmentedPropertyCategoryCodeSequence).join(out_df[[\"labelID\"]\\\n",
    "\t\t+ cols_to_retrieve])\n",
    "\tdf_final[\"segment\"] = df_final[\"FindingSite_CodeMeaning\"]\n",
    "\tdf_final[\"SeriesDescription\"] = json_dic[\"SeriesDescription\"]\n",
    "\tdf_final[\"SeriesNumber\"] = json_dic[\"SeriesNumber\"]\n",
    "\tdf_final[\"BodyPartExamined\"] = json_dic[\"BodyPartExamined\"]\n",
    "\tdf_final = df_final.reset_index().drop(columns=[\"index\"])\n",
    "\treturn df_final"
   ]
  },
  {
   "cell_type": "code",
   "execution_count": 124,
   "metadata": {
    "id": "Rr5ELJhV_qtn"
   },
   "outputs": [],
   "source": [
    "def generateProstateDcmqiMetadata(labelID, SegmentAlgorithmType,\n",
    "\t\t\t\t\t\t\t\t\t\t\t\t\t\t\t\t\tSegmentAlgorithmName,\n",
    "\t\t\t\t\t\t\t\t\t\t\t\t\t\t\t\t\tSegmentLabel,\n",
    "\t\t\t\t\t\t\t\t\t\t\t\t\t\t\t\t\tSegmentDescription,\n",
    "\t\t\t\t\t\t\t\t\t\t\t\t\t\t\t\t\tSegmentedPropertyCategoryCodeSequenceCodeValue,\n",
    "\t\t\t\t\t\t\t\t\t\t\t\t\t\t\t\t\tSegmentedPropertyCategoryCodeSequenceCodingSchemeDesignator,\n",
    "\t\t\t\t\t\t\t\t\t\t\t\t\t\t\t\t\tSegmentedPropertyCategoryCodeSequenceCodeMeaning,\n",
    "\t\t\t\t\t\t\t\t\t\t\t\t\t\t\t\t\tSegmentedPropertyTypeCodeSequenceCodeValue,\n",
    "\t\t\t\t\t\t\t\t\t\t\t\t\t\t\t\t\tSegmentedPropertyTypeCodeSequenceCodingSchemeDesignator,\n",
    "\t\t\t\t\t\t\t\t\t\t\t\t\t\t\t\t\tSegmentedPropertyTypeCodeSequenceCodeMeaning,\n",
    "\t\t\t\t\t\t\t\t\t\t\t\t\t\t\t\t\trecommendedDisplayRGBValue):\n",
    "\tout_lst = []\n",
    "\tif SegmentAlgorithmName is not None:\n",
    "\t\tout_lst.append({\"SegmentAlgorithmName\" : SegmentAlgorithmName,\n",
    "\t\t\t\t\t\t\t\t\t\t\"SegmentAlgorithmType\" : SegmentAlgorithmType,\n",
    "\t\t\t\t\t\t\t\t\t\t\"SegmentLabel\" : SegmentLabel,\n",
    "\t\t\t\t\t\t\t\t\t\t\"SegmentDescription\" : SegmentDescription,\n",
    "\t\t\t\t\t\t\t\t\t\t\"SegmentedPropertyCategoryCodeSequence\" : {\n",
    "\t\t\t\t\t\t\t\t\t\t\t\"CodeMeaning\" : SegmentedPropertyCategoryCodeSequenceCodeMeaning,\n",
    "\t\t\t\t\t\t\t\t\t\t\t\"CodeValue\" : SegmentedPropertyCategoryCodeSequenceCodeValue,\n",
    "\t\t\t\t\t\t\t\t\t\t\t\"CodingSchemeDesignator\" : SegmentedPropertyCategoryCodeSequenceCodingSchemeDesignator,\n",
    "\t\t\t\t\t\t\t\t\t\t},\n",
    "\t\t\t\t\t\t\t\t\t\t\"SegmentedPropertyTypeCodeSequence\" : {\n",
    "\t\t\t\t\t\t\t\t\t\t\t\t\"CodeMeaning\" : SegmentedPropertyTypeCodeSequenceCodeMeaning,\n",
    "\t\t\t\t\t\t\t\t\t\t\t\t\"CodeValue\" : SegmentedPropertyTypeCodeSequenceCodeValue,\n",
    "\t\t\t\t\t\t\t\t\t\t\t\t\"CodingSchemeDesignator\" : SegmentedPropertyTypeCodeSequenceCodingSchemeDesignator,\n",
    "\t\t\t\t\t\t\t\t\t\t},\n",
    "\t\t\t\t\t\t\t\t\t\t\"labelID\" : int(labelID),\n",
    "\t\t\t\t\t\t\t\t\t\t\"recommendedDisplayRGBValue\" : [int(x) for x in recommendedDisplayRGBValue]})\n",
    "\telse:\n",
    "\t\tout_lst.append({\"SegmentAlgorithmType\" : SegmentAlgorithmType,\n",
    "\t\t\t\t\t\t\t\t\t\t\"SegmentLabel\" : SegmentLabel,\n",
    "\t\t\t\t\t\t\t\t\t\t\"SegmentDescription\" : SegmentDescription,\n",
    "\t\t\t\t\t\t\t\t\t\t\"SegmentedPropertyCategoryCodeSequence\" : {\n",
    "\t\t\t\t\t\t\t\t\t\t\t\"CodeMeaning\" : SegmentedPropertyCategoryCodeSequenceCodeMeaning,\n",
    "\t\t\t\t\t\t\t\t\t\t\t\"CodeValue\" : SegmentedPropertyCategoryCodeSequenceCodeValue,\n",
    "\t\t\t\t\t\t\t\t\t\t\t\"CodingSchemeDesignator\" : SegmentedPropertyCategoryCodeSequenceCodingSchemeDesignator,\n",
    "\t\t\t\t\t\t\t\t\t\t},\n",
    "\t\t\t\t\t\t\t\t\t\t\"SegmentedPropertyTypeCodeSequence\" : {\n",
    "\t\t\t\t\t\t\t\t\t\t\t\t\"CodeMeaning\" : SegmentedPropertyTypeCodeSequenceCodeMeaning,\n",
    "\t\t\t\t\t\t\t\t\t\t\t\t\"CodeValue\" : SegmentedPropertyTypeCodeSequenceCodeValue,\n",
    "\t\t\t\t\t\t\t\t\t\t\t\t\"CodingSchemeDesignator\" : SegmentedPropertyTypeCodeSequenceCodingSchemeDesignator,\n",
    "\t\t\t\t\t\t\t\t\t\t},\n",
    "\t\t\t\t\t\t\t\t\t\t\"labelID\" : int(labelID),\n",
    "\t\t\t\t\t\t\t\t\t\t\"recommendedDisplayRGBValue\" : [int(x) for x in recommendedDisplayRGBValue]})\n",
    "\treturn out_lst"
   ]
  },
  {
   "cell_type": "code",
   "execution_count": 125,
   "metadata": {
    "id": "YrLX0e5Zfee0"
   },
   "outputs": [],
   "source": [
    "def combine_ind_seg(input_nii_folder, output_file_path):\n",
    "\tassert os.path.exists(input_nii_folder)\n",
    "\tout_arr = np.zeros_like(sitk.GetArrayFromImage(sitk.ReadImage(glob.glob(os.path.join(input_nii_folder, \"*.nii.gz\"))[0])))\n",
    "\tfor segment_processed in sorted(glob.glob(os.path.join(input_nii_folder, \"*.nii.gz\"))):\n",
    "\t\tout_arr += sitk.GetArrayFromImage(sitk.ReadImage(segment_processed))\n",
    "\tres_img = sitk.GetImageFromArray(out_arr)\n",
    "\tres_img.CopyInformation(sitk.ReadImage(glob.glob(os.path.join(input_nii_folder, \"*.nii.gz\"))[0]))\n",
    "\t# Save output segment\n",
    "\tsitk.WriteImage(res_img, output_file_path)"
   ]
  },
  {
   "cell_type": "markdown",
   "metadata": {
    "id": "F8OVkwlCheZF"
   },
   "source": [
    "## DICOM metadata"
   ]
  },
  {
   "cell_type": "code",
   "execution_count": 126,
   "metadata": {
    "id": "JYDCNNkQ0f8l"
   },
   "outputs": [],
   "source": [
    "def retrieve_image_serieUID_dcm_seg(inp_dicom_seg):\n",
    "  return str(pydicom.dcmread(inp_dicom_seg).ReferencedSeriesSequence[0].SeriesInstanceUID)"
   ]
  },
  {
   "cell_type": "code",
   "execution_count": 127,
   "metadata": {
    "id": "7edaoyfjDN-n"
   },
   "outputs": [],
   "source": [
    "def get_tag_pydicom(path_dcm_file : str, tag_name : str):\n",
    "  dataset = pydicom.dcmread(path_dcm_file)\n",
    "  return dataset[tag_name]"
   ]
  },
  {
   "cell_type": "code",
   "execution_count": 128,
   "metadata": {
    "id": "uF1Ia7wRhel1"
   },
   "outputs": [],
   "source": [
    "def retrieve_meta_df_from_json(meta_json_path):\n",
    "  out_segment_list = []\n",
    "  json_dic = json.load(open(meta_json_path))\n",
    "  for segment_iter in json_dic[\"segmentAttributes\"]:\n",
    "    temp_dic = {}\n",
    "    temp_dic = segment_iter\n",
    "    out_segment_list.append(temp_dic[0])\n",
    "  out_df = pd.DataFrame.from_dict(out_segment_list)\n",
    "  df_SegmentedPropertyTypeCodeSequence = pd.json_normalize(out_df['SegmentedPropertyTypeCodeSequence']).rename(columns={'CodeMeaning': 'FindingSite_CodeMeaning',\n",
    "                                                                                                                        'CodeValue':'FindingSite_CodeValue',\n",
    "                                                                                                                        'CodingSchemeDesignator': 'FindingSite_CodingSchemeDesignator'})\n",
    "  df_SegmentedPropertyCategoryCodeSequence = pd.json_normalize(out_df['SegmentedPropertyCategoryCodeSequence']).rename(columns={'CodeMeaning': 'Finding_CodeMeaning',\n",
    "                                                                                                                        'CodeValue':'Finding_CodeValue',\n",
    "                                                                                                                        'CodingSchemeDesignator': 'Finding_CodingSchemeDesignator'})\n",
    "  df_columns_lst = list(out_df.columns.values)\n",
    "  cols_to_retrieve = []\n",
    "  for col_test in [\"SegmentAlgorithmName\",\"SegmentAlgorithmType\",\n",
    "                   \"SegmentDescription\",\"SegmentLabel\"]:\n",
    "    if col_test in df_columns_lst:\n",
    "        cols_to_retrieve.append(col_test)\n",
    "    else:\n",
    "      pass\n",
    "  df_final = df_SegmentedPropertyTypeCodeSequence.join(df_SegmentedPropertyCategoryCodeSequence).join(out_df[[\"labelID\"]\\\n",
    "    + cols_to_retrieve])\n",
    "  df_final[\"segment\"] = df_final[\"FindingSite_CodeMeaning\"]\n",
    "  df_final[\"SeriesDescription\"] = json_dic[\"SeriesDescription\"]\n",
    "  df_final[\"SeriesNumber\"] = json_dic[\"SeriesNumber\"]\n",
    "  df_final[\"BodyPartExamined\"] = json_dic[\"BodyPartExamined\"]\n",
    "  df_final = df_final.reset_index().drop(columns=[\"index\"])\n",
    "  return df_final"
   ]
  },
  {
   "cell_type": "code",
   "execution_count": 129,
   "metadata": {
    "id": "TrBEPp9chel2"
   },
   "outputs": [],
   "source": [
    "def generateProstateDcmqiMetadata(labelID, SegmentAlgorithmType,\n",
    "                                  SegmentAlgorithmName,\n",
    "                                  SegmentLabel,\n",
    "                                  SegmentDescription,\n",
    "                                  SegmentedPropertyCategoryCodeSequenceCodeValue,\n",
    "                                  SegmentedPropertyCategoryCodeSequenceCodingSchemeDesignator,\n",
    "                                  SegmentedPropertyCategoryCodeSequenceCodeMeaning,\n",
    "                                  SegmentedPropertyTypeCodeSequenceCodeValue,\n",
    "                                  SegmentedPropertyTypeCodeSequenceCodingSchemeDesignator,\n",
    "                                  SegmentedPropertyTypeCodeSequenceCodeMeaning,\n",
    "                                  recommendedDisplayRGBValue):\n",
    "  out_lst = []\n",
    "  if SegmentAlgorithmName is not None:\n",
    "    out_lst.append({\"SegmentAlgorithmName\" : SegmentAlgorithmName,\n",
    "                    \"SegmentAlgorithmType\" : SegmentAlgorithmType,\n",
    "                    \"SegmentLabel\" : SegmentLabel,\n",
    "                    \"SegmentDescription\" : SegmentDescription,\n",
    "                    \"SegmentedPropertyCategoryCodeSequence\" : {\n",
    "                      \"CodeMeaning\" : SegmentedPropertyCategoryCodeSequenceCodeMeaning,\n",
    "                      \"CodeValue\" : SegmentedPropertyCategoryCodeSequenceCodeValue,\n",
    "                      \"CodingSchemeDesignator\" : SegmentedPropertyCategoryCodeSequenceCodingSchemeDesignator,\n",
    "                    },\n",
    "                    \"SegmentedPropertyTypeCodeSequence\" : {\n",
    "                        \"CodeMeaning\" : SegmentedPropertyTypeCodeSequenceCodeMeaning,\n",
    "                        \"CodeValue\" : SegmentedPropertyTypeCodeSequenceCodeValue,\n",
    "                        \"CodingSchemeDesignator\" : SegmentedPropertyTypeCodeSequenceCodingSchemeDesignator,\n",
    "                    },\n",
    "                    \"labelID\" : int(labelID),\n",
    "                    \"recommendedDisplayRGBValue\" : [int(x) for x in recommendedDisplayRGBValue]})\n",
    "  else:\n",
    "    out_lst.append({\"SegmentAlgorithmType\" : SegmentAlgorithmType,\n",
    "                    \"SegmentLabel\" : SegmentLabel,\n",
    "                    \"SegmentDescription\" : SegmentDescription,\n",
    "                    \"SegmentedPropertyCategoryCodeSequence\" : {\n",
    "                      \"CodeMeaning\" : SegmentedPropertyCategoryCodeSequenceCodeMeaning,\n",
    "                      \"CodeValue\" : SegmentedPropertyCategoryCodeSequenceCodeValue,\n",
    "                      \"CodingSchemeDesignator\" : SegmentedPropertyCategoryCodeSequenceCodingSchemeDesignator,\n",
    "                    },\n",
    "                    \"SegmentedPropertyTypeCodeSequence\" : {\n",
    "                        \"CodeMeaning\" : SegmentedPropertyTypeCodeSequenceCodeMeaning,\n",
    "                        \"CodeValue\" : SegmentedPropertyTypeCodeSequenceCodeValue,\n",
    "                        \"CodingSchemeDesignator\" : SegmentedPropertyTypeCodeSequenceCodingSchemeDesignator,\n",
    "                    },\n",
    "                    \"labelID\" : int(labelID),\n",
    "                    \"recommendedDisplayRGBValue\" : [int(x) for x in recommendedDisplayRGBValue]})\n",
    "  return out_lst"
   ]
  },
  {
   "cell_type": "code",
   "execution_count": 130,
   "metadata": {
    "id": "k2A4GD4E9xk5"
   },
   "outputs": [],
   "source": [
    "def add_segments_json(input_json, segmentAttributesProstate_lst):\n",
    "  assert os.path.exists(input_json)\n",
    "  inp_json = json.load(open(input_json)).copy()\n",
    "  print(inp_json[\"segmentAttributes\"])\n",
    "  print(type(inp_json[\"segmentAttributes\"]))\n",
    "  temp_lst = inp_json[\"segmentAttributes\"].copy()\n",
    "  temp_lst.append(segmentAttributesProstate_lst)\n",
    "  inp_json[\"segmentAttributes\"] = temp_lst\n",
    "  print(inp_json[\"segmentAttributes\"])\n",
    "\n",
    "  return inp_json"
   ]
  },
  {
   "cell_type": "markdown",
   "metadata": {
    "id": "afpYRBR2p0Ri"
   },
   "source": [
    "## SR reports creation"
   ]
  },
  {
   "cell_type": "code",
   "execution_count": 131,
   "metadata": {
    "id": "UpPtxw3hbfwj"
   },
   "outputs": [],
   "source": [
    "def get_label_and_names_from_metadata_json(dicomseg_json):\n",
    "\n",
    "  \"\"\"Returns two lists containing the label values and the corresponding\n",
    "     CodeMeaning values\n",
    "\n",
    "  Inputs:\n",
    "    dicomseg_json : metajson file\n",
    "\n",
    "  Outputs:\n",
    "    label_values  : label values from the metajson file\n",
    "    label_names   : the corresponding CodeMeaning values\n",
    "\n",
    "  \"\"\"\n",
    "\n",
    "  f = open(dicomseg_json)\n",
    "  meta_json = json.load(f)\n",
    "\n",
    "  print(meta_json)\n",
    "\n",
    "  num_regions = len(meta_json['segmentAttributes'][0])\n",
    "  print ('num_regions: ' + str(num_regions))\n",
    "\n",
    "  label_values = []\n",
    "  label_names = []\n",
    "  for n in range(0,num_regions):\n",
    "    # label_values.append(n)\n",
    "    label_value = meta_json['segmentAttributes'][0][n]['labelID']\n",
    "    label_name = meta_json['segmentAttributes'][0][n]['SegmentedPropertyTypeCodeSequence']['CodeMeaning']\n",
    "    label_values.append(label_value)\n",
    "    label_names.append(label_name)\n",
    "\n",
    "  return label_values, label_names"
   ]
  },
  {
   "cell_type": "code",
   "execution_count": 132,
   "metadata": {
    "id": "-cWhVN_zbjBy"
   },
   "outputs": [],
   "source": [
    "def split_nii(input_file, output_directory, label_names):\n",
    "\n",
    "  \"\"\"Function to split a single multilabel nii into individual nii files. Used\n",
    "     for pyradiomics feature extraction.\n",
    "\n",
    "  Inputs:\n",
    "    input_file       : input multi-label nii file\n",
    "    output_directory : where to save the individual nii segments\n",
    "    label_names      : the names of the labels that correspond to the order of\n",
    "                       the values in the nii input_file\n",
    "\n",
    "  Outputs:\n",
    "    saves the individual nii files to the output_directory\n",
    "\n",
    "  \"\"\"\n",
    "\n",
    "  if not os.path.isdir(output_directory):\n",
    "    os.mkdir(output_directory)\n",
    "\n",
    "  # save with the values in the files\n",
    "  nii = nib.load(input_file)\n",
    "  header = nii.header\n",
    "  img = nii.get_fdata()\n",
    "  unique_labels = list(np.unique(img))\n",
    "  unique_labels.remove(0) # remove the background\n",
    "\n",
    "  # split and save\n",
    "  num_labels = len(unique_labels)\n",
    "  for n in range(0,num_labels):\n",
    "    ind = np.where(img==unique_labels[n])\n",
    "    vol = np.zeros((img.shape))\n",
    "    vol[ind] = 1\n",
    "    new_img = nib.Nifti1Image(vol, nii.affine, nii.header)\n",
    "    output_filename = os.path.join(output_directory, label_names[n] + '.nii.gz')\n",
    "    nib.save(new_img, output_filename)\n",
    "\n",
    "  return"
   ]
  },
  {
   "cell_type": "code",
   "execution_count": 133,
   "metadata": {
    "id": "UYDxAx7sbbPu"
   },
   "outputs": [],
   "source": [
    "def compute_pyradiomics_3D_features(ct_nifti_path,\n",
    "                                    label_values,\n",
    "                                    label_names,\n",
    "                                    split_pred_nifti_path,\n",
    "                                    nnunet_shape_features_code_mapping_df):\n",
    "\n",
    "  \"\"\"Function to compute pyradiomics 3D features for each label in a nifti file.\n",
    "\n",
    "  Inputs:\n",
    "    ct_nifti_path            : the CT nifti file\n",
    "    label_values             : the label value for each of the segments from the json file\n",
    "    label_names              : the corresponding label name for each of the segments\n",
    "    split_pred_nifti_path    : where to save the individual nii segments needed\n",
    "                               for pyradiomics\n",
    "    nnunet_shape_features_code_mapping_df : the df where we will obtain the\n",
    "                                            list of the shape features to\n",
    "                                            compute\n",
    "\n",
    "  Outputs:\n",
    "    Writes the features_csv_path_nnunet to disk.\n",
    "  \"\"\"\n",
    "\n",
    "  # Get the names of the features from the nnunet_shape_features_code_mapping_df\n",
    "  shape_features = list(nnunet_shape_features_code_mapping_df['shape_feature'].values)\n",
    "\n",
    "  # Instantiate the extractor and modify the settings to keep the 3D shape features\n",
    "  extractor = featureextractor.RadiomicsFeatureExtractor(correctMask=True, geometryTolerance=float(1e-4))\n",
    "  extractor.settings['minimumROIDimensions'] = 3\n",
    "  extractor.disableAllFeatures()\n",
    "  extractor.enableFeaturesByName(shape=shape_features)\n",
    "\n",
    "  # Calculate features for each label and create a dataframe\n",
    "  num_labels = len(label_names)#len([f for f in os.listdir(split_pred_nifti_path) if f.endswith('.nii.gz')])\n",
    "  df_list = []\n",
    "  for n in range(0,num_labels):\n",
    "    mask_path = os.path.join(split_pred_nifti_path, label_names[n] + '.nii.gz')\n",
    "    # Run the extractor\n",
    "    print(f\"ct nifti path : {ct_nifti_path}\")\n",
    "    print(f\" mask path : {mask_path}\")\n",
    "    result = extractor.execute(ct_nifti_path, mask_path) # dictionary\n",
    "    # keep only the features we want\n",
    "    # Get the corresponding label number -- all might not be present\n",
    "    corresponding_label_value = label_values[label_names.index(label_names[n])]\n",
    "    dict_keep = {'ReferencedSegment': int(corresponding_label_value),\n",
    "                 'label_name': label_names[n]}\n",
    "    keys_keep = [f for f in result.keys() if 'original_shape' in f]\n",
    "    # Just keep the feature keys we want\n",
    "    dict_keep_new_values = {key_keep: result[key_keep] for key_keep in keys_keep}\n",
    "    dict_keep.update(dict_keep_new_values)\n",
    "    df1 = pd.DataFrame([dict_keep])\n",
    "    # change values of columns to remove original_shape_\n",
    "    df1.columns = df1.columns.str.replace('original_shape_', '')\n",
    "    # Append to the ReferencedSegment and label_name df\n",
    "    df_list.append(df1)\n",
    "\n",
    "  # concat all label features\n",
    "  df = pd.concat(df_list)\n",
    "\n",
    "  return df"
   ]
  },
  {
   "cell_type": "code",
   "execution_count": 134,
   "metadata": {
    "id": "citIHr-gboSM"
   },
   "outputs": [],
   "source": [
    "def order_dicom_files_image_position(dcm_directory):\n",
    "  \"\"\"\n",
    "  Orders the dicom files according to image position and orientation.\n",
    "\n",
    "  Arguments:\n",
    "    dcm_directory : input directory of dcm files to put in order\n",
    "\n",
    "  Outputs:\n",
    "    files_sorted   : dcm files in sorted order\n",
    "    sop_all_sorted : the SOPInstanceUIDs in sorted order\n",
    "    pos_all_sorted : the image position in sorted order\n",
    "\n",
    "  \"\"\"\n",
    "  files = [os.path.join(dcm_directory,f) for f in os.listdir(dcm_directory)]\n",
    "\n",
    "  num_files = len(files)\n",
    "\n",
    "  pos_all = []\n",
    "  sop_all = []\n",
    "\n",
    "  for n in range(0,num_files):\n",
    "    # read dcm file\n",
    "    filename = files[n]\n",
    "    ds = dcmread(filename)\n",
    "\n",
    "    # get ImageOrientation (0020, 0037)\n",
    "    # ImageOrientation = ds['0x0020','0x0037'].value\n",
    "    ImageOrientation = ds.ImageOrientationPatient\n",
    "\n",
    "    # get ImagePositionPatient (0020, 0032)\n",
    "    # ImagePositionPatient = ds['0x0020','0x0032'].value\n",
    "    ImagePositionPatient = ds.ImagePositionPatient\n",
    "\n",
    "    # calculate z value\n",
    "    x_vector = ImageOrientation[0:3]\n",
    "    y_vector = ImageOrientation[3:]\n",
    "    z_vector = np.cross(x_vector,y_vector)\n",
    "\n",
    "    # multiple z_vector by ImagePositionPatient\n",
    "    pos = np.dot(z_vector,ImagePositionPatient)\n",
    "    pos_all.append(pos)\n",
    "\n",
    "    # get the SOPInstanceUID\n",
    "    # sop = ds['0x0008', '0x0018'].value\n",
    "    sop = ds.SOPInstanceUID\n",
    "    sop_all.append(sop)\n",
    "\n",
    "\n",
    "  #----- order the SOPInstanceUID/files by z value ----#\n",
    "\n",
    "  sorted_ind = np.argsort(pos_all)\n",
    "  pos_all_sorted = np.array(pos_all)[sorted_ind.astype(int)]\n",
    "  sop_all_sorted = np.array(sop_all)[sorted_ind.astype(int)]\n",
    "  files_sorted = np.array(files)[sorted_ind.astype(int)]\n",
    "\n",
    "  return files_sorted, sop_all_sorted, pos_all_sorted"
   ]
  },
  {
   "cell_type": "code",
   "execution_count": 135,
   "metadata": {
    "id": "qTuhUJ1Wbt0X"
   },
   "outputs": [],
   "source": [
    "def create_structured_report_metajson_for_shape_features(SeriesInstanceUID,\n",
    "                                                         SOPInstanceUID_seg,\n",
    "                                                         seg_file,\n",
    "                                                         dcm_directory,\n",
    "                                                         segments_code_mapping_df,\n",
    "                                                         shape_features_code_mapping_df,\n",
    "                                                         df_features,\n",
    "                                                         SegmentAlgorithmName\n",
    "                                                         ):\n",
    "\n",
    "  \"\"\"Function that creates the metajson necessary for the creation of a\n",
    "  structured report from a pandas dataframe of label names and features for\n",
    "  each.\n",
    "\n",
    "  Inputs:\n",
    "    SeriesInstanceUID               : SeriesInstanceUID of the corresponding CT\n",
    "                                      file\n",
    "    SOPInstanceUID_seg              : SOPInstanceUID of the corresponding SEG file\n",
    "    seg_file                        : filename of SEG DCM file\n",
    "    dcm_directory                   : ct directory that will be sorted in\n",
    "                                      terms of axial ordering according to the\n",
    "                                      ImagePositionPatient and ImageOrientation\n",
    "                                      fields\n",
    "    segments_code_mapping_df        : dataframe that holds the names of the\n",
    "                                      segments and the associated code values etc.\n",
    "    shape_features_code_mapping_df  : dataframe that holds the names of the\n",
    "                                      features and the associated code values etc.\n",
    "    df_features                     : a pandas dataframe holding the segments and a\n",
    "                                      set of 3D shape features for each\n",
    "    SegmentAlgorithmName            : the name of the algorithm used to create the\n",
    "                                      segmentations - e.g. '3d_fullres_tta_nnUnet'\n",
    "\n",
    "  Outputs:\n",
    "    Returns the metajson for the structured report that will then be used by\n",
    "    dcmqi tid1500writer to create a structured report\n",
    "  \"\"\"\n",
    "\n",
    "  # --- Get the version number for the pyradiomics package --- #\n",
    "\n",
    "  pyradiomics_version_number = str(radiomics.__version__)\n",
    "\n",
    "  # --- Sort the dcm files first according to --- #\n",
    "  # --- ImagePositionPatient and ImageOrientation --- #\n",
    "\n",
    "  files_sorted, sop_all_sorted, pos_all_sorted = order_dicom_files_image_position(dcm_directory)\n",
    "  files_sorted = [os.path.basename(f) for f in files_sorted]\n",
    "\n",
    "  # --- Create the header for the json --- #\n",
    "\n",
    "  inputMetadata = {}\n",
    "  inputMetadata[\"@schema\"]= \"https://raw.githubusercontent.com/qiicr/dcmqi/master/doc/schemas/sr-tid1500-schema.json#\"\n",
    "  # inputMetadata[\"SeriesDescription\"] = \"Measurements\"\n",
    "  inputMetadata[\"SeriesDescription\"] = SegmentAlgorithmName + '_' + \"Measurements\"\n",
    "  inputMetadata[\"SeriesNumber\"] = \"1001\"\n",
    "  inputMetadata[\"InstanceNumber\"] = \"1\"\n",
    "\n",
    "  inputMetadata[\"compositeContext\"] = [abspath(seg_file)] # not full path\n",
    "\n",
    "  inputMetadata[\"imageLibrary\"] = files_sorted # not full path\n",
    "\n",
    "  # inputMetadata[\"observerContext\"] = {\n",
    "  #                                     \"ObserverType\": \"PERSON\",\n",
    "  #                                     \"PersonObserverName\": \"Reader1\"\n",
    "  #                                   }\n",
    "  # inputMetadata[\"observerContext\"] = {\n",
    "  #                     \"ObserverType\": \"DEVICE\",\n",
    "  #                     \"DeviceObserverName\": \"pyradiomics\",\n",
    "  #                     \"DeviceObserverModelName\": \"v3.0.1\"\n",
    "  #                   }\n",
    "  inputMetadata[\"observerContext\"] = {\n",
    "                      \"ObserverType\": \"DEVICE\",\n",
    "                      \"DeviceObserverName\": \"pyradiomics\",\n",
    "                      \"DeviceObserverModelName\": pyradiomics_version_number\n",
    "                    }\n",
    "\n",
    "  inputMetadata[\"VerificationFlag\"]  = \"UNVERIFIED\"\n",
    "  inputMetadata[\"CompletionFlag\"] =  \"COMPLETE\"\n",
    "  inputMetadata[\"activitySession\"] = \"1\"\n",
    "  inputMetadata[\"timePoint\"] = \"1\"\n",
    "\n",
    "  # ------------------------------------------------------------------------- #\n",
    "  # --- Create the measurement_dict for each segment - holds all features --- #\n",
    "\n",
    "  measurement = []\n",
    "\n",
    "  # --- Now create the dict for all features and all segments --- #\n",
    "\n",
    "  # --- Loop over the number of segments --- #\n",
    "\n",
    "  # number of rows in the df_features\n",
    "  num_segments = df_features.shape[0]\n",
    "\n",
    "  # Array of dictionaries - one dictionary for each segment\n",
    "  measurement_across_segments_combined = []\n",
    "\n",
    "  for segment_id in range(0,num_segments):\n",
    "\n",
    "    ReferencedSegment = int(df_features['ReferencedSegment'].values[segment_id])\n",
    "    FindingSite = df_features['label_name'].values[segment_id]\n",
    "\n",
    "    print('segment_id: ' + str(segment_id))\n",
    "    print('ReferencedSegment: ' + str(ReferencedSegment))\n",
    "    print('FindingSite: ' + str(FindingSite))\n",
    "\n",
    "    # --- Create the dict for the Measurements group --- #\n",
    "    TrackingIdentifier = \"Measurements group \" + str(ReferencedSegment)\n",
    "\n",
    "    segment_row = segments_code_mapping_df[segments_code_mapping_df[\"segment\"] == FindingSite]\n",
    "    # print(segment_row)\n",
    "\n",
    "    my_dict = {\n",
    "      \"TrackingIdentifier\": str(TrackingIdentifier),\n",
    "      \"ReferencedSegment\": int(ReferencedSegment),\n",
    "      \"SourceSeriesForImageSegmentation\": str(SeriesInstanceUID),\n",
    "      \"segmentationSOPInstanceUID\": str(SOPInstanceUID_seg),\n",
    "      \"Finding\": {\n",
    "        \"CodeValue\": \"113343008\",\n",
    "        \"CodingSchemeDesignator\": \"SCT\",\n",
    "        \"CodeMeaning\": \"Organ\"\n",
    "      },\n",
    "      \"FindingSite\": {\n",
    "        \"CodeValue\": str(segment_row[\"FindingSite_CodeValue\"].values[0]),\n",
    "        \"CodingSchemeDesignator\": str(segment_row[\"FindingSite_CodingSchemeDesignator\"].values[0]),\n",
    "        \"CodeMeaning\": str(segment_row[\"FindingSite_CodeMeaning\"].values[0])\n",
    "      }\n",
    "    }\n",
    "\n",
    "    measurement = []\n",
    "    # number of features - number of columns in df_features - 2 (label_name and ReferencedSegment)\n",
    "    num_values = len(df_features.columns)-2\n",
    "\n",
    "    feature_list = df_features.columns[2:] # remove first two\n",
    "\n",
    "\n",
    "    # For each measurement per region segment\n",
    "    for n in range(0,num_values):\n",
    "      measurement_dict = {}\n",
    "      row = df_features.loc[df_features['label_name'] == FindingSite]\n",
    "      feature_row = shape_features_code_mapping_df.loc[shape_features_code_mapping_df[\"shape_feature\"] == feature_list[n]]\n",
    "      value = str(np.round(row[feature_list[n]].values[0],3))\n",
    "      measurement_dict[\"value\"] = value\n",
    "      measurement_dict[\"quantity\"] = {}\n",
    "      measurement_dict[\"quantity\"][\"CodeValue\"] = str(feature_row[\"quantity_CodeValue\"].values[0])\n",
    "      measurement_dict[\"quantity\"][\"CodingSchemeDesignator\"] = str(feature_row[\"quantity_CodingSchemeDesignator\"].values[0])\n",
    "      measurement_dict[\"quantity\"][\"CodeMeaning\"] = str(feature_row[\"quantity_CodeMeaning\"].values[0])\n",
    "      measurement_dict[\"units\"] = {}\n",
    "      measurement_dict[\"units\"][\"CodeValue\"] = str(feature_row[\"units_CodeValue\"].values[0])\n",
    "      measurement_dict[\"units\"][\"CodingSchemeDesignator\"] = str(feature_row[\"units_CodingSchemeDesignator\"].values[0])\n",
    "      measurement_dict[\"units\"][\"CodeMeaning\"] = str(feature_row[\"units_CodeMeaning\"].values[0])\n",
    "      measurement_dict[\"measurementAlgorithmIdentification\"] = {}\n",
    "      measurement_dict[\"measurementAlgorithmIdentification\"][\"AlgorithmName\"] = \"pyradiomics\"\n",
    "      measurement_dict[\"measurementAlgorithmIdentification\"][\"AlgorithmVersion\"] = str(pyradiomics_version_number)\n",
    "      measurement.append(measurement_dict)\n",
    "\n",
    "    measurement_combined_dict = {}\n",
    "    measurement_combined_dict['measurementItems'] = measurement # measurement is an array of dictionaries\n",
    "\n",
    "    output_dict_one_segment = {**my_dict, **measurement_combined_dict}\n",
    "\n",
    "    # append to array for all segments\n",
    "\n",
    "    measurement_across_segments_combined.append(output_dict_one_segment)\n",
    "\n",
    "  # --- Add the measurement data --- #\n",
    "\n",
    "  inputMetadata[\"Measurements\"] = {}\n",
    "  inputMetadata[\"Measurements\"] = measurement_across_segments_combined\n",
    "\n",
    "  return inputMetadata"
   ]
  },
  {
   "cell_type": "code",
   "execution_count": 136,
   "metadata": {
    "id": "aDkhtHqTbBZx"
   },
   "outputs": [],
   "source": [
    "def save_structured_report_for_shape_features_idc_seg(SeriesInstanceUID,\n",
    "                                              label_values,\n",
    "                                              label_names,\n",
    "                                              SOPInstanceUID_seg,\n",
    "                                              pred_dicomseg_path,\n",
    "                                              dicomseg_json_path,\n",
    "                                              dcm_directory,\n",
    "                                              split_pred_nii_path,\n",
    "                                              ct_nifti_path,\n",
    "                                              segments_code_mapping_df,\n",
    "                                              shape_features_code_mapping_df,\n",
    "                                              sr_json_path,\n",
    "                                              sr_path,\n",
    "                                              SegmentAlgorithmName\n",
    "                                              ):\n",
    "\n",
    "  \"\"\" This function creates the SR necessary for the nnUNet shape features\n",
    "\n",
    "  Inputs:\n",
    "  SeriesInstanceUID               : SeriesInstanceUID of the corresponding CT\n",
    "                                    file\n",
    "  SOPInstanceUID_seg              : SOPInstanceUID of the corresponding SEG file\n",
    "  pred_dicomseg_path              : filename of DICOM SEG file\n",
    "  dicomseg_json_path              : json file for DICOM SEG file\n",
    "  dcm_directory                   : list of ct files that will be sorted in\n",
    "                                    terms of axial ordering according to the\n",
    "                                    ImagePositionPatient and ImageOrientation\n",
    "                                    fields\n",
    "  nnunet_base_path                : path to hold the split nifti files\n",
    "  ct_nifti_path                   : filename for CT nifti file\n",
    "  segments_code_mapping_df        : dataframe that holds the names of the\n",
    "                                    segments and the associated code values etc.\n",
    "  shape_features_code_mapping_df  : dataframe that holds the names of the\n",
    "                                    features and the associated code values etc.\n",
    "  sr_json_path                    : the path that the metajson for the SR for\n",
    "                                    the 3D shape features will be saved\n",
    "  sr_path                         : the path that the SR for the 3D shape\n",
    "                                    features will be saved\n",
    "  SegmentAlgorithmName            : the name of the algorithm used to create the\n",
    "                                    segmentations - e.g. '3d_fullres_tta_nnUnet'\n",
    "\n",
    "  Outputs:\n",
    "    Returns the metajson for the structured report that will then be used by\n",
    "    dcmqi tid1500writer to create a structured report\n",
    "\n",
    "  \"\"\"\n",
    "\n",
    "  # --- get label values and names from metajson file --- #\n",
    "  label_values, label_names = label_values, label_names#get_label_and_names_from_metadata_json(dicomseg_json_path)\n",
    "\n",
    "  df_features = compute_pyradiomics_3D_features(ct_nifti_path,\n",
    "                                                label_values,\n",
    "                                                label_names,\n",
    "                                                split_pred_nii_path,\n",
    "                                                nnunet_shape_features_code_mapping_df)\n",
    "  print ('created df_features')\n",
    "\n",
    "  # --- upload csv file to bucket --- #\n",
    "  # !$s5cmd_path --endpoint-url https://storage.googleapis.com cp $pred_features_csv_path $gs_uri_features_csv_file\n",
    "\n",
    "  # remove nii files after saving out pyradiomics results\n",
    "  !rm $split_pred_nii_path/*\n",
    "  # remove csv\n",
    "  # !rm $pred_features_csv_path\n",
    "\n",
    "  # --- Create the final metadata for the SR --- #\n",
    "  inputMetadata = create_structured_report_metajson_for_shape_features(SeriesInstanceUID,\n",
    "                                                                       SOPInstanceUID_seg,\n",
    "                                                                       pred_dicomseg_path,\n",
    "                                                                       dcm_directory,\n",
    "                                                                       segments_code_mapping_df,\n",
    "                                                                       nnunet_shape_features_code_mapping_df,\n",
    "                                                                       df_features,\n",
    "                                                                       SegmentAlgorithmName)\n",
    "\n",
    "  print ('created SR json for shape features')\n",
    "\n",
    "  # --- Write out json --- #\n",
    "\n",
    "  with open(sr_json_path, 'w') as f:\n",
    "    json.dump(inputMetadata, f, indent=2)\n",
    "  print ('wrote out json for shape features')\n",
    "\n",
    "  # --- Save the SR for nnUNet shape features --- #\n",
    "  inputImageLibraryDirectory = dcm_directory\n",
    "  outputDICOM = sr_path\n",
    "  # the name of the folder where the seg files are located\n",
    "  inputCompositeContextDirectory = os.path.basename(pred_dicomseg_path) # might need to check this\n",
    "  inputMetadata_json = sr_json_path\n",
    "\n",
    "  print ('inputImageLibraryDirectory: ' + str(inputImageLibraryDirectory))\n",
    "  print ('outputDICOM: ' + str(outputDICOM))\n",
    "  print ('inputCompositeContextDirectory: ' + str(inputCompositeContextDirectory))\n",
    "  print ('inputMetadata_json: ' + str(inputMetadata_json))\n",
    "  !tid1500writer --inputImageLibraryDirectory $inputImageLibraryDirectory \\\n",
    "                --outputDICOM $outputDICOM  \\\n",
    "                --inputCompositeContextDirectory $inputCompositeContextDirectory \\\n",
    "                --inputMetadata $inputMetadata_json\n",
    "  print ('wrote out SR for shape features')\n",
    "\n",
    "  return"
   ]
  },
  {
   "cell_type": "markdown",
   "metadata": {
    "id": "l1oiPWf94zzP"
   },
   "source": [
    "# Imports"
   ]
  },
  {
   "cell_type": "code",
   "execution_count": 137,
   "metadata": {
    "id": "VZDJNMuf41eQ"
   },
   "outputs": [],
   "source": [
    "# Packages for the structured report\n",
    "import radiomics\n",
    "from radiomics import featureextractor\n",
    "\n",
    "import highdicom\n",
    "\n",
    "from pathlib import Path\n",
    "\n",
    "import highdicom as hd\n",
    "\n",
    "from pydicom.uid import generate_uid\n",
    "from pydicom.filereader import dcmread\n",
    "from pydicom.sr.codedict import codes\n",
    "\n",
    "from highdicom.sr.content import (\n",
    "    FindingSite,\n",
    "    ImageRegion,\n",
    "    ImageRegion3D,\n",
    "    SourceImageForRegion,\n",
    "    SourceImageForMeasurement,\n",
    "    SourceImageForMeasurementGroup\n",
    ")\n",
    "from highdicom.sr.enum import GraphicTypeValues3D\n",
    "from highdicom.sr.enum import GraphicTypeValues\n",
    "from highdicom.sr.sop import Comprehensive3DSR, ComprehensiveSR\n",
    "from highdicom.sr.templates import (\n",
    "    DeviceObserverIdentifyingAttributes,\n",
    "    Measurement,\n",
    "    MeasurementProperties,\n",
    "    MeasurementReport,\n",
    "    MeasurementsAndQualitativeEvaluations,\n",
    "    ObservationContext,\n",
    "    ObserverContext,\n",
    "    PersonObserverIdentifyingAttributes,\n",
    "    PlanarROIMeasurementsAndQualitativeEvaluations,\n",
    "    RelationshipTypeValues,\n",
    "    TrackingIdentifier,\n",
    "    QualitativeEvaluation,\n",
    "    ImageLibrary,\n",
    "    ImageLibraryEntryDescriptors\n",
    ")\n",
    "from highdicom.sr.value_types import (\n",
    "    CodedConcept,\n",
    "    CodeContentItem,\n",
    ")\n",
    "\n",
    "import logging\n",
    "logger = logging.getLogger(\"highdicom.sr.sop\")\n",
    "logger.setLevel(logging.INFO)"
   ]
  },
  {
   "cell_type": "markdown",
   "metadata": {
    "id": "HoZxJH-m7Raq"
   },
   "source": [
    "# Input setup"
   ]
  },
  {
   "cell_type": "code",
   "execution_count": 138,
   "metadata": {
    "colab": {
     "base_uri": "https://localhost:8080/"
    },
    "id": "lMdEh-YI-KZC",
    "outputId": "13016dff-e4a7-4313-fe99-b245ce2acc6e"
   },
   "outputs": [
    {
     "name": "stdout",
     "output_type": "stream",
     "text": [
      "idc_prostate_gen/\n",
      "idc_prostate_gen/output_nii_combined/\n",
      "idc_prostate_gen/output_nii_combined/1.3.6.1.4.1.14519.5.2.1.232435338427484273565021170934926902671/\n",
      "idc_prostate_gen/output_nii_combined/1.3.6.1.4.1.14519.5.2.1.232435338427484273565021170934926902671/meta.json\n",
      "idc_prostate_gen/output_nii_combined/1.3.6.1.4.1.14519.5.2.1.232435338427484273565021170934926902671/1.nii.gz\n",
      "idc_prostate_gen/output_nii_combined_resampled_dicom/\n",
      "idc_prostate_gen/output_nii_combined_resampled_dicom/1.3.6.1.4.1.14519.5.2.1.232435338427484273565021170934926902671/\n",
      "idc_prostate_gen/output_nii_combined_resampled_dicom/1.3.6.1.4.1.14519.5.2.1.232435338427484273565021170934926902671/3f23933e-9f1a-4341-af96-199160be823d.dcm\n"
     ]
    }
   ],
   "source": [
    "!lz4 -dc < $SEG_OUTPUT | tar xvf - -C $SEG_OUTPUT_UNZIP"
   ]
  },
  {
   "cell_type": "markdown",
   "metadata": {
    "id": "UgEitHxVwZsY"
   },
   "source": [
    "Move archive AI/IDC DICOM SEG to input folders"
   ]
  },
  {
   "cell_type": "code",
   "execution_count": 139,
   "metadata": {
    "id": "Y0XiiD6RvZ2-"
   },
   "outputs": [],
   "source": [
    "# #move AI SEGS\n",
    "# for input_path_lst in [glob.glob(os.path.join(EVAL_SEG_OUTPUT_UNZIP,\n",
    "#                                           \"**\",\n",
    "#                                           \"ai_dicom_seg\",\n",
    "#                                           \"**\",\n",
    "#                                           \"*.dcm\"), recursive=True)]:\n",
    "#   print(input_path_lst)\n",
    "#   for path_seg in input_path_lst:\n",
    "#     serieUID_image = retrieve_image_serieUID_dcm_seg(path_seg)\n",
    "#     !cp $path_seg {os.path.join(ai_dicom_folder, serieUID_image+\"_\"+path_seg.split('/')[-1])}\n",
    "# #move IDC SEGS\n",
    "# for input_path_lst in [\n",
    "#                    glob.glob(os.path.join(EVAL_SEG_OUTPUT_UNZIP,\n",
    "#                                           \"**\",\n",
    "#                                           \"idc_dicom_seg\",\n",
    "#                                           \"**\",\n",
    "#                                           \"*.dcm\"), recursive=True)]:\n",
    "#   print(input_path_lst)\n",
    "#   for path_seg in input_path_lst:\n",
    "#     serieUID_image = retrieve_image_serieUID_dcm_seg(path_seg)\n",
    "#     !cp $path_seg {os.path.join(idc_dicom_folder, serieUID_image+\"_\"+path_seg.split('/')[-1])}\n",
    "\n",
    "\n",
    "# #copy eval csv and output eval ipynb to archive folder\n",
    "# path_eval_csv = glob.glob(os.path.join(EVAL_SEG_OUTPUT_UNZIP, \"**\", \"output_eval.csv\"), recursive=True)[0]\n",
    "# path_eval_output_ipynb = glob.glob(os.path.join(EVAL_SEG_OUTPUT_UNZIP, \"**\", \"*output.ipynb\"), recursive=True)[0]\n",
    "# !cp $path_eval_csv {os.path.join(OUTPUT_PATH, path_eval_csv.split('/')[-1])}\n",
    "# !cp $path_eval_output_ipynb {os.path.join(OUTPUT_PATH, path_eval_output_ipynb.split('/')[-1])}"
   ]
  },
  {
   "cell_type": "code",
   "execution_count": 140,
   "metadata": {
    "id": "9C3UtE0ULpUy"
   },
   "outputs": [],
   "source": [
    "# import yaml\n",
    "# parameters_dict = dict(\n",
    "#     dicom_ai_seg_folder = \"/content/output_data\",\n",
    "#     segmentCodeValue_lst = [\"41216001\"],\n",
    "#     segmentCodeingSchemeDesignator_lst = [\"SCT\"])\n",
    "# with open('parameters.yaml', 'w') as outfile:\n",
    "#     yaml.dump(parameters_dict, outfile, default_flow_style=False)\n",
    "# setup_folders()\n",
    "# !papermill /content/papermill_mhub_bamf_prostate_prostate_mr_us_biopsy_sr_reports_generation.ipynb \\\n",
    "# /content/papermill_mhub_bamf_prostate_prostate_mr_us_biopsy_sr_reports_generation-output.ipynb -f parameters.yaml"
   ]
  },
  {
   "cell_type": "code",
   "execution_count": 141,
   "metadata": {
    "colab": {
     "base_uri": "https://localhost:8080/"
    },
    "id": "DW5KA4062_R6",
    "outputId": "52a38f08-889f-4179-f2a5-7b7ab19f51b6"
   },
   "outputs": [
    {
     "name": "stdout",
     "output_type": "stream",
     "text": [
      "--2024-09-05 19:10:29--  https://raw.githubusercontent.com/ImagingDataCommons/ai_medima_misc/main/nnunet/data/nnunet_shape_features_code_mapping.csv\n",
      "Resolving raw.githubusercontent.com (raw.githubusercontent.com)... 185.199.109.133, 185.199.110.133, 185.199.111.133, ...\n",
      "Connecting to raw.githubusercontent.com (raw.githubusercontent.com)|185.199.109.133|:443... connected.\n",
      "HTTP request sent, awaiting response... 200 OK\n",
      "Length: 1053 (1.0K) [text/plain]\n",
      "Saving to: ‘nnunet_shape_features_code_mapping.csv’\n",
      "\n",
      "nnunet_shape_featur 100%[===================>]   1.03K  --.-KB/s    in 0s      \n",
      "\n",
      "Last-modified header missing -- time-stamps turned off.\n",
      "2024-09-05 19:10:29 (58.5 MB/s) - ‘nnunet_shape_features_code_mapping.csv’ saved [1053/1053]\n",
      "\n"
     ]
    }
   ],
   "source": [
    "#nnunet code mapping\n",
    "import pandas as pd\n",
    "#radiomics df\n",
    "!wget -N https://raw.githubusercontent.com/ImagingDataCommons/ai_medima_misc/main/nnunet/data/nnunet_shape_features_code_mapping.csv\n",
    "nnunet_shape_features_code_mapping_df = pd.read_csv(\"nnunet_shape_features_code_mapping.csv\")\n",
    "idc_seg_segments_code_mapping_df = pd.DataFrame.from_dict({'segment': ['Prostatic structure'],\n",
    "                                                          'Finding_CodingSchemeDesignator': ['SCT'], 'Finding_CodeValue' : ['123037004'],\n",
    "                                                           'Finding_CodeMeaning' : ['Body structure'],\n",
    "                                                          'FindingSite_CodingSchemeDesignator' : ['SCT'],\n",
    "                                                           'FindingSite_CodeValue' : ['41216001'],\n",
    "                                                           'FindingSite_CodeMeaning' : ['Prostatic structure']})#, 'Peripheral zone of the prostate', 'Transition zone of the prostate']})"
   ]
  },
  {
   "cell_type": "markdown",
   "metadata": {
    "id": "LPxKm_2W9Cmq"
   },
   "source": [
    "# Radiomics computation\n",
    "\n"
   ]
  },
  {
   "cell_type": "code",
   "execution_count": 142,
   "metadata": {
    "id": "QMwwYjiNY1uT"
   },
   "outputs": [],
   "source": [
    "seg_dicom_objects = glob.glob(os.path.join(SEG_OUTPUT_UNZIP, \"**\",\n",
    "                                         \"*.dcm\"), recursive=True)\n",
    "assert os.path.exists(seg_dicom_objects[0])"
   ]
  },
  {
   "cell_type": "code",
   "execution_count": 144,
   "metadata": {
    "colab": {
     "base_uri": "https://localhost:8080/"
    },
    "id": "137k0EnnKBt0",
    "outputId": "2bd91d99-a4e3-420f-88cb-88599105eb4d"
   },
   "outputs": [
    {
     "name": "stdout",
     "output_type": "stream",
     "text": [
      "serieUID image referenced : 1.3.6.1.4.1.14519.5.2.1.232435338427484273565021170934926902671\n",
      "dcmqi repository URL: https://github.com/QIICR/dcmqi revision: d88b025 tag: v1.3.4\n",
      "Loading DICOM SEG file radiomics_task/seg_unzip/idc_prostate_gen/output_nii_combined_resampled_dicom/1.3.6.1.4.1.14519.5.2.1.232435338427484273565021170934926902671/3f23933e-9f1a-4341-af96-199160be823d.dcm\n",
      "Row direction: -1 -4.897e-12 0\n",
      "Col direction: 4.897e-12 -1 0\n",
      "Z direction: 0 0 1\n",
      "Total frames: 28\n",
      "Total frames with unique IPP: 28\n",
      "Total overlapping frames: 0\n",
      "Origin: [76.2999, 115.748, 32.3253]\n",
      "Slice extent: 40.5\n",
      "Slice spacing: 1.5\n",
      "Will not merge segments: Splitting segments into 1 groups\n",
      "Writing itk image to radiomics_task/seg_objects/nii/1.3.6.1.4.1.14519.5.2.1.232435338427484273565021170934926902671/1.nii.gz ... done\n"
     ]
    },
    {
     "name": "stderr",
     "output_type": "stream",
     "text": [
      "Downloading data: 100%|█████████▉| 8.08M/8.08M [00:00<00:00, 15.9MB/s]\n"
     ]
    },
    {
     "name": "stdout",
     "output_type": "stream",
     "text": [
      "Chris Rorden's dcm2niiX version v1.0.20220505  GCC11.4.0 x86-64 (64-bit Linux)\n",
      "Found 60 DICOM file(s)\n",
      "Convert 60 DICOM as radiomics_task/idc_image_data/nii/1.3.6.1.4.1.14519.5.2.1.232435338427484273565021170934926902671/Prostate-MRI-US-Biopsy-1009_1.3.6.1.4.1.14519.5.2.1.232435338427484273565021170934926902671 (256x256x60x1)\n",
      "Conversion required 1.034516 seconds (1.024509 for core code).\n",
      "radiomics_task/seg_objects/nii/1.3.6.1.4.1.14519.5.2.1.232435338427484273565021170934926902671/1.nii.gz\n"
     ]
    },
    {
     "name": "stderr",
     "output_type": "stream",
     "text": [
      "INFO:radiomics.featureextractor:No valid config parameter, using defaults: {'minimumROIDimensions': 2, 'minimumROISize': None, 'normalize': False, 'normalizeScale': 1, 'removeOutliers': None, 'resampledPixelSpacing': None, 'interpolator': 'sitkBSpline', 'preCrop': False, 'padDistance': 5, 'distances': [1], 'force2D': False, 'force2Ddimension': 0, 'resegmentRange': None, 'label': 1, 'additionalInfo': True}\n",
      "INFO:radiomics.featureextractor:Enabled image types: {'Original': {}}\n",
      "INFO:radiomics.featureextractor:Enabled features: {'firstorder': [], 'glcm': [], 'gldm': [], 'glrlm': [], 'glszm': [], 'ngtdm': [], 'shape': []}\n",
      "INFO:radiomics.featureextractor:Applying custom setting overrides: {'correctMask': True, 'geometryTolerance': 0.0001}\n",
      "INFO:radiomics.featureextractor:Calculating features with label: 1\n",
      "INFO:radiomics.featureextractor:Loading image and mask\n"
     ]
    },
    {
     "name": "stdout",
     "output_type": "stream",
     "text": [
      "ct nifti path : /content/radiomics_task/idc_image_data/nii/1.3.6.1.4.1.14519.5.2.1.232435338427484273565021170934926902671/Prostate-MRI-US-Biopsy-1009_1.3.6.1.4.1.14519.5.2.1.232435338427484273565021170934926902671.nii.gz\n",
      " mask path : /content/radiomics_task/seg_objects/nii_resampled_renamed/1.3.6.1.4.1.14519.5.2.1.232435338427484273565021170934926902671/Prostate.nii.gz\n"
     ]
    },
    {
     "name": "stderr",
     "output_type": "stream",
     "text": [
      "INFO:radiomics.featureextractor:Computing shape\n",
      "Feature Compactness1 is deprecated, use with caution!\n",
      "WARNING:radiomics.shape:Feature Compactness1 is deprecated, use with caution!\n",
      "Feature Compactness2 is deprecated, use with caution!\n",
      "WARNING:radiomics.shape:Feature Compactness2 is deprecated, use with caution!\n",
      "Feature SphericalDisproportion is deprecated, use with caution!\n",
      "WARNING:radiomics.shape:Feature SphericalDisproportion is deprecated, use with caution!\n",
      "INFO:radiomics.featureextractor:Adding image type \"Original\" with custom settings: {}\n",
      "INFO:radiomics.featureextractor:Calculating features for original image\n"
     ]
    },
    {
     "name": "stdout",
     "output_type": "stream",
     "text": [
      "created df_features\n",
      "segment_id: 0\n",
      "ReferencedSegment: 1\n",
      "FindingSite: Prostate\n",
      "created SR json for shape features\n",
      "wrote out json for shape features\n",
      "inputImageLibraryDirectory: /content/radiomics_task/idc_image_data/dicom/1.3.6.1.4.1.14519.5.2.1.232435338427484273565021170934926902671/prostate_mri_us_biopsy/Prostate-MRI-US-Biopsy-1009/1.3.6.1.4.1.14519.5.2.1.208519745711386985148515509381757813785/MR_1.3.6.1.4.1.14519.5.2.1.232435338427484273565021170934926902671\n",
      "outputDICOM: /content/radiomics_task/seg_objects/dicom_sr/1.3.6.1.4.1.14519.5.2.1.232435338427484273565021170934926902671/1.3.6.1.4.1.14519.5.2.1.232435338427484273565021170934926902671_SR.dcm\n",
      "inputCompositeContextDirectory: 3f23933e-9f1a-4341-af96-199160be823d.dcm\n",
      "inputMetadata_json: /content/radiomics_task/seg_objects/dicom_sr_json/1.3.6.1.4.1.14519.5.2.1.232435338427484273565021170934926902671/1.3.6.1.4.1.14519.5.2.1.232435338427484273565021170934926902671_SR.json\n",
      "dcmqi repository URL: https://github.com/QIICR/dcmqi revision: d88b025 tag: v1.3.4\n",
      "Total measurement groups: 1\n",
      "Adding to compositeContext: /content/radiomics_task/seg_unzip/idc_prostate_gen/output_nii_combined_resampled_dicom/1.3.6.1.4.1.14519.5.2.1.232435338427484273565021170934926902671/3f23933e-9f1a-4341-af96-199160be823d.dcm\n",
      "Composite Context has been initialized\n",
      "SR saved!\n",
      "wrote out SR for shape features\n",
      "\n",
      "\n"
     ]
    }
   ],
   "source": [
    "for serieUID_path in seg_dicom_objects:\n",
    "  try:\n",
    "    #convert AI SEG DICOM object to NIFTI SEG\n",
    "    serieUID_image = str(pydicom.dcmread(serieUID_path).ReferencedSeriesSequence[0].SeriesInstanceUID)\n",
    "    print(f\"serieUID image referenced : {serieUID_image}\")\n",
    "    !mkdir -p {os.path.join(seg_nii_folder, serieUID_image)}\n",
    "    assert os.path.exists(serieUID_path)\n",
    "    !segimage2itkimage --inputDICOM $serieUID_path \\\n",
    "    --outputDirectory {os.path.join(seg_nii_folder, serieUID_image)} --outputType nii\n",
    "    #download IDC reference image for downstream resampling\n",
    "    out_image_dicom = os.path.join(IDC_IMAGE_DICOM, serieUID_image)\n",
    "    !rm -rf $out_image_dicom\n",
    "    !mkdir -p $out_image_dicom\n",
    "    client.download_from_selection(seriesInstanceUID=list([serieUID_image]),\n",
    "                                                downloadDir=out_image_dicom,)\n",
    "    #convert idc reference image to NIFTI\n",
    "    out_image_nii = os.path.join(IDC_IMAGE_NII, serieUID_image)\n",
    "    !rm -rf $out_image_nii\n",
    "    !mkdir -p $out_image_nii\n",
    "    !dcm2niix -z y -m y -f %i_{serieUID_image} -o $out_image_nii $out_image_dicom\n",
    "    ref_image_nii_path = glob.glob(os.path.join(out_image_nii, '*.nii.gz'))[0]\n",
    "    #resample AI NIFTI SEG object to the reference image space\n",
    "    output_serie_resampled = os.path.join(seg_nii_resampled_folder, serieUID_image)\n",
    "    !rm -rf $output_serie_resampled\n",
    "    !mkdir -p $output_serie_resampled\n",
    "    for ai_segment_path in glob.glob(os.path.join(seg_nii_folder, serieUID_image, \"*.nii.gz\")):\n",
    "      print(ai_segment_path)\n",
    "      out_segment_path = os.path.join(output_serie_resampled, ai_segment_path.split('/')[-1])\n",
    "      # !plastimatch resample --input $ai_segment_path \\\n",
    "      # --fixed $ref_image_nii_path --output $out_segment_path --interpolation nn\n",
    "      resample_args = {\"input\" : ai_segment_path,#change to pred path if no largest_component_retrieval necessary\n",
    "                            \"output\" : out_segment_path,\n",
    "                            \"fixed\" : ref_image_nii_path,\n",
    "                            \"interpolation\" : \"nn\"}\n",
    "      pypla.resample(verbose = False, **resample_args)\n",
    "    #compute radiomics\n",
    "    ##get parameters for radiomics computation\n",
    "    SeriesInstanceUID = serieUID_image # image reference serieUID\n",
    "    SOPInstanceUID = get_tag_pydicom(serieUID_path, \"SOPInstanceUID\").value #SOPInstanceUID of AI DICOM SEG\n",
    "    ct_nifti_path = abspath(glob.glob(f\"{out_image_nii}/*.nii.gz\")[0])\n",
    "    ct_nifti_path = abspath(ct_nifti_path)\n",
    "    pred_dicomseg_path = serieUID_path\n",
    "    dicomseg_json_path = abspath(glob.glob(os.path.join(seg_nii_folder, serieUID_image, \"meta.json\"))[0])\n",
    "    mhub_ai_meta_df = retrieve_meta_df_from_json(dicomseg_json_path)\n",
    "    dcm_directory = abspath(\"/\".join(glob.glob(os.path.join(out_image_dicom, \"**/*.dcm\"), recursive=True)[0].split(\"/\")[:-1]))\n",
    "    segments_code_mapping_df = mhub_ai_meta_df#idc_seg_segments_code_mapping_df\n",
    "    shape_features_code_mapping_df = nnunet_shape_features_code_mapping_df\n",
    "    mhub_serieUID_sr_path = abspath(os.path.join(seg_sr_dicom_folder, serieUID_image))\n",
    "    mhub_serieUID_sr_json_path = abspath(os.path.join(seg_sr_json_dicom_folder, serieUID_image))\n",
    "    !mkdir -p $mhub_serieUID_sr_path\n",
    "    !mkdir -p $mhub_serieUID_sr_json_path\n",
    "    sr_json_path = abspath(os.path.join(mhub_serieUID_sr_json_path, serieUID_image+\"_SR.json\"))\n",
    "    sr_path = abspath(os.path.join(mhub_serieUID_sr_path, serieUID_image+\"_SR.dcm\"))\n",
    "    SegmentAlgorithmName = str(mhub_ai_meta_df.SegmentAlgorithmName.unique()[0])\n",
    "    label_values_lst = []\n",
    "    label_names_lst = []\n",
    "    for analyzed_segmentCodeValue,analyzed_segmentCodingSchemeDesignator \\\n",
    "    in zip(dicom_sr_CodeValues_lst, dicom_sr_CodingSchemeDesignator_lst):\n",
    "      label_values_lst.append(int(mhub_ai_meta_df[(mhub_ai_meta_df.FindingSite_CodeValue \\\n",
    "                                                  == str(analyzed_segmentCodeValue))\\\n",
    "                                                  &(mhub_ai_meta_df.FindingSite_CodingSchemeDesignator\\\n",
    "                                                    == str(analyzed_segmentCodingSchemeDesignator))].labelID.unique()[0]))\n",
    "      label_names_lst.append(str(mhub_ai_meta_df[(mhub_ai_meta_df.FindingSite_CodeValue \\\n",
    "                                                == str(analyzed_segmentCodeValue))\\\n",
    "                                                &(mhub_ai_meta_df.FindingSite_CodingSchemeDesignator\\\n",
    "                                                    == str(analyzed_segmentCodingSchemeDesignator))].FindingSite_CodeMeaning.unique()[0]))\n",
    "    label_values = label_values_lst\n",
    "    label_names = label_names_lst\n",
    "    #rename dcmqi seg output by segmentCodeMeaning for SR computation\n",
    "    out_serieUID_renamed_path = os.path.join(seg_nii_resampled_renamed_folder, serieUID_image)\n",
    "    !rm -rf $out_serieUID_renamed_path && mkdir -p $out_serieUID_renamed_path\n",
    "    for segment_dcmqi_path in glob.glob(f\"{output_serie_resampled}/*nii.gz\"):\n",
    "      segment_name = str(mhub_ai_meta_df[mhub_ai_meta_df.labelID == \\\n",
    "                                    int(segment_dcmqi_path.split(\"/\")[-1][:-7])].FindingSite_CodeMeaning.unique()[0])\n",
    "      shutil.copy(segment_dcmqi_path, os.path.join(out_serieUID_renamed_path, f\"{segment_name}.nii.gz\"))\n",
    "    split_pred_nii_path = abspath(out_serieUID_renamed_path)\n",
    "    nnunet_features_metajson = save_structured_report_for_shape_features_idc_seg(SeriesInstanceUID=SeriesInstanceUID,\n",
    "                                                                      SOPInstanceUID_seg=SOPInstanceUID,\n",
    "                                                                      label_values=label_values,\n",
    "                                                                      label_names = label_names,\n",
    "                                                                      pred_dicomseg_path=pred_dicomseg_path,\n",
    "                                                                      dicomseg_json_path=dicomseg_json_path,\n",
    "                                                                      dcm_directory=dcm_directory,\n",
    "                                                                      split_pred_nii_path=split_pred_nii_path,\n",
    "                                                                      ct_nifti_path=ct_nifti_path,\n",
    "                                                                      segments_code_mapping_df=segments_code_mapping_df,\n",
    "                                                                      shape_features_code_mapping_df=shape_features_code_mapping_df,\n",
    "                                                                      sr_json_path=sr_json_path,\n",
    "                                                                      sr_path=sr_path,\n",
    "                                                                      SegmentAlgorithmName=SegmentAlgorithmName)\n",
    "    print(\"\\n\")\n",
    "  except:\n",
    "    print(f\"Computation of SR DICOM did not work for {serieUID_path}\")\n"
   ]
  },
  {
   "cell_type": "code",
   "execution_count": 145,
   "metadata": {
    "id": "vPz040f4cxy1"
   },
   "outputs": [],
   "source": [
    "# # Compress output data and move it to Cromwell root directory\n",
    "# !tar -C /content/radiomics_task -cvf - seg_annotations | lz4 > radiomics_output.tar.lz4"
   ]
  }
 ],
 "metadata": {
  "celltoolbar": "Tags",
  "colab": {
   "collapsed_sections": [
    "BwqI2QIHoJiq",
    "EtveZiW5oMRY",
    "px_GC146oRLV",
    "F8OVkwlCheZF",
    "afpYRBR2p0Ri",
    "l1oiPWf94zzP"
   ],
   "gpuType": "T4",
   "machine_shape": "hm",
   "provenance": []
  },
  "kernelspec": {
   "display_name": "Python 3 (ipykernel)",
   "language": "python",
   "name": "python3"
  },
  "language_info": {
   "codemirror_mode": {
    "name": "ipython",
    "version": 3
   },
   "file_extension": ".py",
   "mimetype": "text/x-python",
   "name": "python",
   "nbconvert_exporter": "python",
   "pygments_lexer": "ipython3",
   "version": "3.11.5"
  }
 },
 "nbformat": 4,
 "nbformat_minor": 1
}
