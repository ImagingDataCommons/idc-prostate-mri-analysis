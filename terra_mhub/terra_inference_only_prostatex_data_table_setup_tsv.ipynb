{
  "nbformat": 4,
  "nbformat_minor": 0,
  "metadata": {
    "colab": {
      "provenance": [],
      "gpuType": "T4",
      "machine_shape": "hm"
    },
    "kernelspec": {
      "name": "python3",
      "display_name": "Python 3"
    },
    "language_info": {
      "name": "python"
    },
    "widgets": {
      "application/vnd.jupyter.widget-state+json": {
        "4e89073d0dac483b9283bf8c33b148bb": {
          "model_module": "@jupyter-widgets/controls",
          "model_name": "HBoxModel",
          "model_module_version": "1.5.0",
          "state": {
            "_dom_classes": [],
            "_model_module": "@jupyter-widgets/controls",
            "_model_module_version": "1.5.0",
            "_model_name": "HBoxModel",
            "_view_count": null,
            "_view_module": "@jupyter-widgets/controls",
            "_view_module_version": "1.5.0",
            "_view_name": "HBoxView",
            "box_style": "",
            "children": [
              "IPY_MODEL_67d38e582bc240f69734d277f2c9a46f",
              "IPY_MODEL_7cba9d16cdfd4e4db85cc41fd9118c9d",
              "IPY_MODEL_9a05e3266a074959a143c03f21c26f8c"
            ],
            "layout": "IPY_MODEL_664ae0ca352d40e3a87cf0f22a90cd62"
          }
        },
        "67d38e582bc240f69734d277f2c9a46f": {
          "model_module": "@jupyter-widgets/controls",
          "model_name": "HTMLModel",
          "model_module_version": "1.5.0",
          "state": {
            "_dom_classes": [],
            "_model_module": "@jupyter-widgets/controls",
            "_model_module_version": "1.5.0",
            "_model_name": "HTMLModel",
            "_view_count": null,
            "_view_module": "@jupyter-widgets/controls",
            "_view_module_version": "1.5.0",
            "_view_name": "HTMLView",
            "description": "",
            "description_tooltip": null,
            "layout": "IPY_MODEL_bc9e9f96628544fe8d119cd0465ebfce",
            "placeholder": "​",
            "style": "IPY_MODEL_e3784d619ca24c73b8139efcafa72dcd",
            "value": "Job ID a33a6d19-10c3-4c69-945e-b760d6df3f08 successfully executed: 100%"
          }
        },
        "7cba9d16cdfd4e4db85cc41fd9118c9d": {
          "model_module": "@jupyter-widgets/controls",
          "model_name": "FloatProgressModel",
          "model_module_version": "1.5.0",
          "state": {
            "_dom_classes": [],
            "_model_module": "@jupyter-widgets/controls",
            "_model_module_version": "1.5.0",
            "_model_name": "FloatProgressModel",
            "_view_count": null,
            "_view_module": "@jupyter-widgets/controls",
            "_view_module_version": "1.5.0",
            "_view_name": "ProgressView",
            "bar_style": "success",
            "description": "",
            "description_tooltip": null,
            "layout": "IPY_MODEL_53d8faab7cd34c9f94a94a5975b406ee",
            "max": 1,
            "min": 0,
            "orientation": "horizontal",
            "style": "IPY_MODEL_086851c6bb574018abeadfadab156e38",
            "value": 1
          }
        },
        "9a05e3266a074959a143c03f21c26f8c": {
          "model_module": "@jupyter-widgets/controls",
          "model_name": "HTMLModel",
          "model_module_version": "1.5.0",
          "state": {
            "_dom_classes": [],
            "_model_module": "@jupyter-widgets/controls",
            "_model_module_version": "1.5.0",
            "_model_name": "HTMLModel",
            "_view_count": null,
            "_view_module": "@jupyter-widgets/controls",
            "_view_module_version": "1.5.0",
            "_view_name": "HTMLView",
            "description": "",
            "description_tooltip": null,
            "layout": "IPY_MODEL_b7bd089fde5c40faaef4e8893122ab64",
            "placeholder": "​",
            "style": "IPY_MODEL_dfe6f55ca03840ccbb2302c6be44f409",
            "value": ""
          }
        },
        "664ae0ca352d40e3a87cf0f22a90cd62": {
          "model_module": "@jupyter-widgets/base",
          "model_name": "LayoutModel",
          "model_module_version": "1.2.0",
          "state": {
            "_model_module": "@jupyter-widgets/base",
            "_model_module_version": "1.2.0",
            "_model_name": "LayoutModel",
            "_view_count": null,
            "_view_module": "@jupyter-widgets/base",
            "_view_module_version": "1.2.0",
            "_view_name": "LayoutView",
            "align_content": null,
            "align_items": null,
            "align_self": null,
            "border": null,
            "bottom": null,
            "display": null,
            "flex": null,
            "flex_flow": null,
            "grid_area": null,
            "grid_auto_columns": null,
            "grid_auto_flow": null,
            "grid_auto_rows": null,
            "grid_column": null,
            "grid_gap": null,
            "grid_row": null,
            "grid_template_areas": null,
            "grid_template_columns": null,
            "grid_template_rows": null,
            "height": null,
            "justify_content": null,
            "justify_items": null,
            "left": null,
            "margin": null,
            "max_height": null,
            "max_width": null,
            "min_height": null,
            "min_width": null,
            "object_fit": null,
            "object_position": null,
            "order": null,
            "overflow": null,
            "overflow_x": null,
            "overflow_y": null,
            "padding": null,
            "right": null,
            "top": null,
            "visibility": null,
            "width": null
          }
        },
        "bc9e9f96628544fe8d119cd0465ebfce": {
          "model_module": "@jupyter-widgets/base",
          "model_name": "LayoutModel",
          "model_module_version": "1.2.0",
          "state": {
            "_model_module": "@jupyter-widgets/base",
            "_model_module_version": "1.2.0",
            "_model_name": "LayoutModel",
            "_view_count": null,
            "_view_module": "@jupyter-widgets/base",
            "_view_module_version": "1.2.0",
            "_view_name": "LayoutView",
            "align_content": null,
            "align_items": null,
            "align_self": null,
            "border": null,
            "bottom": null,
            "display": null,
            "flex": null,
            "flex_flow": null,
            "grid_area": null,
            "grid_auto_columns": null,
            "grid_auto_flow": null,
            "grid_auto_rows": null,
            "grid_column": null,
            "grid_gap": null,
            "grid_row": null,
            "grid_template_areas": null,
            "grid_template_columns": null,
            "grid_template_rows": null,
            "height": null,
            "justify_content": null,
            "justify_items": null,
            "left": null,
            "margin": null,
            "max_height": null,
            "max_width": null,
            "min_height": null,
            "min_width": null,
            "object_fit": null,
            "object_position": null,
            "order": null,
            "overflow": null,
            "overflow_x": null,
            "overflow_y": null,
            "padding": null,
            "right": null,
            "top": null,
            "visibility": null,
            "width": null
          }
        },
        "e3784d619ca24c73b8139efcafa72dcd": {
          "model_module": "@jupyter-widgets/controls",
          "model_name": "DescriptionStyleModel",
          "model_module_version": "1.5.0",
          "state": {
            "_model_module": "@jupyter-widgets/controls",
            "_model_module_version": "1.5.0",
            "_model_name": "DescriptionStyleModel",
            "_view_count": null,
            "_view_module": "@jupyter-widgets/base",
            "_view_module_version": "1.2.0",
            "_view_name": "StyleView",
            "description_width": ""
          }
        },
        "53d8faab7cd34c9f94a94a5975b406ee": {
          "model_module": "@jupyter-widgets/base",
          "model_name": "LayoutModel",
          "model_module_version": "1.2.0",
          "state": {
            "_model_module": "@jupyter-widgets/base",
            "_model_module_version": "1.2.0",
            "_model_name": "LayoutModel",
            "_view_count": null,
            "_view_module": "@jupyter-widgets/base",
            "_view_module_version": "1.2.0",
            "_view_name": "LayoutView",
            "align_content": null,
            "align_items": null,
            "align_self": null,
            "border": null,
            "bottom": null,
            "display": null,
            "flex": null,
            "flex_flow": null,
            "grid_area": null,
            "grid_auto_columns": null,
            "grid_auto_flow": null,
            "grid_auto_rows": null,
            "grid_column": null,
            "grid_gap": null,
            "grid_row": null,
            "grid_template_areas": null,
            "grid_template_columns": null,
            "grid_template_rows": null,
            "height": null,
            "justify_content": null,
            "justify_items": null,
            "left": null,
            "margin": null,
            "max_height": null,
            "max_width": null,
            "min_height": null,
            "min_width": null,
            "object_fit": null,
            "object_position": null,
            "order": null,
            "overflow": null,
            "overflow_x": null,
            "overflow_y": null,
            "padding": null,
            "right": null,
            "top": null,
            "visibility": null,
            "width": null
          }
        },
        "086851c6bb574018abeadfadab156e38": {
          "model_module": "@jupyter-widgets/controls",
          "model_name": "ProgressStyleModel",
          "model_module_version": "1.5.0",
          "state": {
            "_model_module": "@jupyter-widgets/controls",
            "_model_module_version": "1.5.0",
            "_model_name": "ProgressStyleModel",
            "_view_count": null,
            "_view_module": "@jupyter-widgets/base",
            "_view_module_version": "1.2.0",
            "_view_name": "StyleView",
            "bar_color": null,
            "description_width": ""
          }
        },
        "b7bd089fde5c40faaef4e8893122ab64": {
          "model_module": "@jupyter-widgets/base",
          "model_name": "LayoutModel",
          "model_module_version": "1.2.0",
          "state": {
            "_model_module": "@jupyter-widgets/base",
            "_model_module_version": "1.2.0",
            "_model_name": "LayoutModel",
            "_view_count": null,
            "_view_module": "@jupyter-widgets/base",
            "_view_module_version": "1.2.0",
            "_view_name": "LayoutView",
            "align_content": null,
            "align_items": null,
            "align_self": null,
            "border": null,
            "bottom": null,
            "display": null,
            "flex": null,
            "flex_flow": null,
            "grid_area": null,
            "grid_auto_columns": null,
            "grid_auto_flow": null,
            "grid_auto_rows": null,
            "grid_column": null,
            "grid_gap": null,
            "grid_row": null,
            "grid_template_areas": null,
            "grid_template_columns": null,
            "grid_template_rows": null,
            "height": null,
            "justify_content": null,
            "justify_items": null,
            "left": null,
            "margin": null,
            "max_height": null,
            "max_width": null,
            "min_height": null,
            "min_width": null,
            "object_fit": null,
            "object_position": null,
            "order": null,
            "overflow": null,
            "overflow_x": null,
            "overflow_y": null,
            "padding": null,
            "right": null,
            "top": null,
            "visibility": null,
            "width": null
          }
        },
        "dfe6f55ca03840ccbb2302c6be44f409": {
          "model_module": "@jupyter-widgets/controls",
          "model_name": "DescriptionStyleModel",
          "model_module_version": "1.5.0",
          "state": {
            "_model_module": "@jupyter-widgets/controls",
            "_model_module_version": "1.5.0",
            "_model_name": "DescriptionStyleModel",
            "_view_count": null,
            "_view_module": "@jupyter-widgets/base",
            "_view_module_version": "1.2.0",
            "_view_name": "StyleView",
            "description_width": ""
          }
        },
        "a01662298f9245eb983707486e0a8971": {
          "model_module": "@jupyter-widgets/controls",
          "model_name": "HBoxModel",
          "model_module_version": "1.5.0",
          "state": {
            "_dom_classes": [],
            "_model_module": "@jupyter-widgets/controls",
            "_model_module_version": "1.5.0",
            "_model_name": "HBoxModel",
            "_view_count": null,
            "_view_module": "@jupyter-widgets/controls",
            "_view_module_version": "1.5.0",
            "_view_name": "HBoxView",
            "box_style": "",
            "children": [
              "IPY_MODEL_a337025c4a39463e9173291484e26b76",
              "IPY_MODEL_4b01546dec524a78bb2941ac8f710b94",
              "IPY_MODEL_15bd56847ee9499c938bd63e81059220"
            ],
            "layout": "IPY_MODEL_9dd8357c86974d6f8c334f895c0d16dc"
          }
        },
        "a337025c4a39463e9173291484e26b76": {
          "model_module": "@jupyter-widgets/controls",
          "model_name": "HTMLModel",
          "model_module_version": "1.5.0",
          "state": {
            "_dom_classes": [],
            "_model_module": "@jupyter-widgets/controls",
            "_model_module_version": "1.5.0",
            "_model_name": "HTMLModel",
            "_view_count": null,
            "_view_module": "@jupyter-widgets/controls",
            "_view_module_version": "1.5.0",
            "_view_name": "HTMLView",
            "description": "",
            "description_tooltip": null,
            "layout": "IPY_MODEL_fe13b962448d48fcaee9326b8a19ad9c",
            "placeholder": "​",
            "style": "IPY_MODEL_6488d1d8d66d4877a9142cebd8e26ecc",
            "value": "Downloading: 100%"
          }
        },
        "4b01546dec524a78bb2941ac8f710b94": {
          "model_module": "@jupyter-widgets/controls",
          "model_name": "FloatProgressModel",
          "model_module_version": "1.5.0",
          "state": {
            "_dom_classes": [],
            "_model_module": "@jupyter-widgets/controls",
            "_model_module_version": "1.5.0",
            "_model_name": "FloatProgressModel",
            "_view_count": null,
            "_view_module": "@jupyter-widgets/controls",
            "_view_module_version": "1.5.0",
            "_view_name": "ProgressView",
            "bar_style": "success",
            "description": "",
            "description_tooltip": null,
            "layout": "IPY_MODEL_d851f95f08fe4434bda417d6056d233a",
            "max": 431,
            "min": 0,
            "orientation": "horizontal",
            "style": "IPY_MODEL_960153fff5e14e99a9198f000290a587",
            "value": 431
          }
        },
        "15bd56847ee9499c938bd63e81059220": {
          "model_module": "@jupyter-widgets/controls",
          "model_name": "HTMLModel",
          "model_module_version": "1.5.0",
          "state": {
            "_dom_classes": [],
            "_model_module": "@jupyter-widgets/controls",
            "_model_module_version": "1.5.0",
            "_model_name": "HTMLModel",
            "_view_count": null,
            "_view_module": "@jupyter-widgets/controls",
            "_view_module_version": "1.5.0",
            "_view_name": "HTMLView",
            "description": "",
            "description_tooltip": null,
            "layout": "IPY_MODEL_73e6412fb6a24096bbb5a37f805f5be4",
            "placeholder": "​",
            "style": "IPY_MODEL_7290c21676e94f9b87fca2e16acc46e7",
            "value": ""
          }
        },
        "9dd8357c86974d6f8c334f895c0d16dc": {
          "model_module": "@jupyter-widgets/base",
          "model_name": "LayoutModel",
          "model_module_version": "1.2.0",
          "state": {
            "_model_module": "@jupyter-widgets/base",
            "_model_module_version": "1.2.0",
            "_model_name": "LayoutModel",
            "_view_count": null,
            "_view_module": "@jupyter-widgets/base",
            "_view_module_version": "1.2.0",
            "_view_name": "LayoutView",
            "align_content": null,
            "align_items": null,
            "align_self": null,
            "border": null,
            "bottom": null,
            "display": null,
            "flex": null,
            "flex_flow": null,
            "grid_area": null,
            "grid_auto_columns": null,
            "grid_auto_flow": null,
            "grid_auto_rows": null,
            "grid_column": null,
            "grid_gap": null,
            "grid_row": null,
            "grid_template_areas": null,
            "grid_template_columns": null,
            "grid_template_rows": null,
            "height": null,
            "justify_content": null,
            "justify_items": null,
            "left": null,
            "margin": null,
            "max_height": null,
            "max_width": null,
            "min_height": null,
            "min_width": null,
            "object_fit": null,
            "object_position": null,
            "order": null,
            "overflow": null,
            "overflow_x": null,
            "overflow_y": null,
            "padding": null,
            "right": null,
            "top": null,
            "visibility": null,
            "width": null
          }
        },
        "fe13b962448d48fcaee9326b8a19ad9c": {
          "model_module": "@jupyter-widgets/base",
          "model_name": "LayoutModel",
          "model_module_version": "1.2.0",
          "state": {
            "_model_module": "@jupyter-widgets/base",
            "_model_module_version": "1.2.0",
            "_model_name": "LayoutModel",
            "_view_count": null,
            "_view_module": "@jupyter-widgets/base",
            "_view_module_version": "1.2.0",
            "_view_name": "LayoutView",
            "align_content": null,
            "align_items": null,
            "align_self": null,
            "border": null,
            "bottom": null,
            "display": null,
            "flex": null,
            "flex_flow": null,
            "grid_area": null,
            "grid_auto_columns": null,
            "grid_auto_flow": null,
            "grid_auto_rows": null,
            "grid_column": null,
            "grid_gap": null,
            "grid_row": null,
            "grid_template_areas": null,
            "grid_template_columns": null,
            "grid_template_rows": null,
            "height": null,
            "justify_content": null,
            "justify_items": null,
            "left": null,
            "margin": null,
            "max_height": null,
            "max_width": null,
            "min_height": null,
            "min_width": null,
            "object_fit": null,
            "object_position": null,
            "order": null,
            "overflow": null,
            "overflow_x": null,
            "overflow_y": null,
            "padding": null,
            "right": null,
            "top": null,
            "visibility": null,
            "width": null
          }
        },
        "6488d1d8d66d4877a9142cebd8e26ecc": {
          "model_module": "@jupyter-widgets/controls",
          "model_name": "DescriptionStyleModel",
          "model_module_version": "1.5.0",
          "state": {
            "_model_module": "@jupyter-widgets/controls",
            "_model_module_version": "1.5.0",
            "_model_name": "DescriptionStyleModel",
            "_view_count": null,
            "_view_module": "@jupyter-widgets/base",
            "_view_module_version": "1.2.0",
            "_view_name": "StyleView",
            "description_width": ""
          }
        },
        "d851f95f08fe4434bda417d6056d233a": {
          "model_module": "@jupyter-widgets/base",
          "model_name": "LayoutModel",
          "model_module_version": "1.2.0",
          "state": {
            "_model_module": "@jupyter-widgets/base",
            "_model_module_version": "1.2.0",
            "_model_name": "LayoutModel",
            "_view_count": null,
            "_view_module": "@jupyter-widgets/base",
            "_view_module_version": "1.2.0",
            "_view_name": "LayoutView",
            "align_content": null,
            "align_items": null,
            "align_self": null,
            "border": null,
            "bottom": null,
            "display": null,
            "flex": null,
            "flex_flow": null,
            "grid_area": null,
            "grid_auto_columns": null,
            "grid_auto_flow": null,
            "grid_auto_rows": null,
            "grid_column": null,
            "grid_gap": null,
            "grid_row": null,
            "grid_template_areas": null,
            "grid_template_columns": null,
            "grid_template_rows": null,
            "height": null,
            "justify_content": null,
            "justify_items": null,
            "left": null,
            "margin": null,
            "max_height": null,
            "max_width": null,
            "min_height": null,
            "min_width": null,
            "object_fit": null,
            "object_position": null,
            "order": null,
            "overflow": null,
            "overflow_x": null,
            "overflow_y": null,
            "padding": null,
            "right": null,
            "top": null,
            "visibility": null,
            "width": null
          }
        },
        "960153fff5e14e99a9198f000290a587": {
          "model_module": "@jupyter-widgets/controls",
          "model_name": "ProgressStyleModel",
          "model_module_version": "1.5.0",
          "state": {
            "_model_module": "@jupyter-widgets/controls",
            "_model_module_version": "1.5.0",
            "_model_name": "ProgressStyleModel",
            "_view_count": null,
            "_view_module": "@jupyter-widgets/base",
            "_view_module_version": "1.2.0",
            "_view_name": "StyleView",
            "bar_color": null,
            "description_width": ""
          }
        },
        "73e6412fb6a24096bbb5a37f805f5be4": {
          "model_module": "@jupyter-widgets/base",
          "model_name": "LayoutModel",
          "model_module_version": "1.2.0",
          "state": {
            "_model_module": "@jupyter-widgets/base",
            "_model_module_version": "1.2.0",
            "_model_name": "LayoutModel",
            "_view_count": null,
            "_view_module": "@jupyter-widgets/base",
            "_view_module_version": "1.2.0",
            "_view_name": "LayoutView",
            "align_content": null,
            "align_items": null,
            "align_self": null,
            "border": null,
            "bottom": null,
            "display": null,
            "flex": null,
            "flex_flow": null,
            "grid_area": null,
            "grid_auto_columns": null,
            "grid_auto_flow": null,
            "grid_auto_rows": null,
            "grid_column": null,
            "grid_gap": null,
            "grid_row": null,
            "grid_template_areas": null,
            "grid_template_columns": null,
            "grid_template_rows": null,
            "height": null,
            "justify_content": null,
            "justify_items": null,
            "left": null,
            "margin": null,
            "max_height": null,
            "max_width": null,
            "min_height": null,
            "min_width": null,
            "object_fit": null,
            "object_position": null,
            "order": null,
            "overflow": null,
            "overflow_x": null,
            "overflow_y": null,
            "padding": null,
            "right": null,
            "top": null,
            "visibility": null,
            "width": null
          }
        },
        "7290c21676e94f9b87fca2e16acc46e7": {
          "model_module": "@jupyter-widgets/controls",
          "model_name": "DescriptionStyleModel",
          "model_module_version": "1.5.0",
          "state": {
            "_model_module": "@jupyter-widgets/controls",
            "_model_module_version": "1.5.0",
            "_model_name": "DescriptionStyleModel",
            "_view_count": null,
            "_view_module": "@jupyter-widgets/base",
            "_view_module_version": "1.2.0",
            "_view_name": "StyleView",
            "description_width": ""
          }
        }
      }
    }
  },
  "cells": [
    {
      "cell_type": "markdown",
      "source": [
        "# Env setup and google auth"
      ],
      "metadata": {
        "id": "gSlU9R0H9C-F"
      }
    },
    {
      "cell_type": "code",
      "source": [
        "from google.colab import auth\n",
        "auth.authenticate_user()"
      ],
      "metadata": {
        "id": "A1Dli2cuauoF"
      },
      "execution_count": null,
      "outputs": []
    },
    {
      "cell_type": "code",
      "source": [
        "!apt-get install lz4"
      ],
      "metadata": {
        "id": "xN_sIp5Daxcn",
        "colab": {
          "base_uri": "https://localhost:8080/"
        },
        "outputId": "e2981b90-b2be-4957-ab2e-b251b97babce"
      },
      "execution_count": null,
      "outputs": [
        {
          "output_type": "stream",
          "name": "stdout",
          "text": [
            "Reading package lists... Done\n",
            "Building dependency tree... Done\n",
            "Reading state information... Done\n",
            "The following NEW packages will be installed:\n",
            "  lz4\n",
            "0 upgraded, 1 newly installed, 0 to remove and 49 not upgraded.\n",
            "Need to get 90.0 kB of archives.\n",
            "After this operation, 236 kB of additional disk space will be used.\n",
            "Get:1 http://archive.ubuntu.com/ubuntu jammy/main amd64 lz4 amd64 1.9.3-2build2 [90.0 kB]\n",
            "Fetched 90.0 kB in 0s (183 kB/s)\n",
            "Selecting previously unselected package lz4.\n",
            "(Reading database ... 123622 files and directories currently installed.)\n",
            "Preparing to unpack .../lz4_1.9.3-2build2_amd64.deb ...\n",
            "Unpacking lz4 (1.9.3-2build2) ...\n",
            "Setting up lz4 (1.9.3-2build2) ...\n",
            "Processing triggers for man-db (2.10.2-1) ...\n"
          ]
        }
      ]
    },
    {
      "cell_type": "code",
      "source": [
        "!pip install pyyaml s5cmd pydicom"
      ],
      "metadata": {
        "id": "cDSss6JAdTFQ",
        "colab": {
          "base_uri": "https://localhost:8080/"
        },
        "outputId": "4392d3cc-12a6-45c4-8660-f7cea87eee7a"
      },
      "execution_count": null,
      "outputs": [
        {
          "output_type": "stream",
          "name": "stdout",
          "text": [
            "Requirement already satisfied: pyyaml in /usr/local/lib/python3.10/dist-packages (6.0.2)\n",
            "Collecting s5cmd\n",
            "  Downloading s5cmd-0.2.0-py3-none-manylinux_2_5_x86_64.manylinux1_x86_64.manylinux_2_17_x86_64.manylinux2014_x86_64.whl.metadata (5.7 kB)\n",
            "Collecting pydicom\n",
            "  Downloading pydicom-3.0.1-py3-none-any.whl.metadata (9.4 kB)\n",
            "Downloading s5cmd-0.2.0-py3-none-manylinux_2_5_x86_64.manylinux1_x86_64.manylinux_2_17_x86_64.manylinux2014_x86_64.whl (4.7 MB)\n",
            "\u001b[2K   \u001b[90m━━━━━━━━━━━━━━━━━━━━━━━━━━━━━━━━━━━━━━━━\u001b[0m \u001b[32m4.7/4.7 MB\u001b[0m \u001b[31m63.0 MB/s\u001b[0m eta \u001b[36m0:00:00\u001b[0m\n",
            "\u001b[?25hDownloading pydicom-3.0.1-py3-none-any.whl (2.4 MB)\n",
            "\u001b[2K   \u001b[90m━━━━━━━━━━━━━━━━━━━━━━━━━━━━━━━━━━━━━━━━\u001b[0m \u001b[32m2.4/2.4 MB\u001b[0m \u001b[31m59.6 MB/s\u001b[0m eta \u001b[36m0:00:00\u001b[0m\n",
            "\u001b[?25hInstalling collected packages: s5cmd, pydicom\n",
            "Successfully installed pydicom-3.0.1 s5cmd-0.2.0\n"
          ]
        }
      ]
    },
    {
      "cell_type": "markdown",
      "source": [
        "# Python imports"
      ],
      "metadata": {
        "id": "j8Xi8X0u9J7_"
      }
    },
    {
      "cell_type": "code",
      "source": [
        "import os\n",
        "import glob\n",
        "import yaml\n",
        "import math\n",
        "import pandas as pd\n",
        "import json"
      ],
      "metadata": {
        "id": "cWiNKEKPrQdx"
      },
      "execution_count": null,
      "outputs": []
    },
    {
      "cell_type": "markdown",
      "source": [
        "# Global variables"
      ],
      "metadata": {
        "id": "WlNU2BhoEOmz"
      }
    },
    {
      "cell_type": "markdown",
      "source": [
        "## Terra data table default column scheme"
      ],
      "metadata": {
        "id": "SkRQD7VHERPp"
      }
    },
    {
      "cell_type": "code",
      "source": [
        "terra_data_columns = [\"default_id\",\n",
        "#OUTPUT ARCHIVE FILES -- leave empty, terra will fill these values\n",
        "'mhubCompressedOutputFile',\n",
        "'radsAiCompressedOutputFile',\n",
        "'finalCompressedOutputFile',\n",
        "#Resampling scheme\n",
        "'res_scheme_format',\n",
        "#Combination -- which DICOM values characterize whole prostate gland?\n",
        "'dicomCodeValuesProstate_lst',\n",
        "'dicomCodeMeaningProstate_lst',\n",
        "'dicomCodingSchemeDesignatorProstate_lst',\n",
        "#Radiomics\n",
        "##AI -- which AI SEGs segments to compute radiomics into SR DICOM?\n",
        "'dicomSrAiCodeValues_lst',\n",
        "'dicomSrAiCodeMeaning_lst',\n",
        "'dicomSrAiCodingSchemeDesignator_lst',\n",
        "#MHUB -- models to run inferene from, and associated config files\n",
        "'mhub_model_name_lst',\n",
        "'mhubai_custom_config_lst',\n",
        "'mhubaiCustomSegmentAlgorithmName_lst',#custom SegmentAlgorithm lists for each mhub run model, define as ['','','','] if not desired\n",
        "#IDC serieUIDs parameters -- which (images,idc_seg_experts) from IDC to run\n",
        "'collection_id',\n",
        "'seriesInstanceUIDs',\n",
        "'adcSeriesInstanceUIDs']"
      ],
      "metadata": {
        "id": "vRfLu4YvETp-"
      },
      "execution_count": null,
      "outputs": []
    },
    {
      "cell_type": "markdown",
      "source": [
        "## Terra parameters per collection basis"
      ],
      "metadata": {
        "id": "PGk4Om6tGf6u"
      }
    },
    {
      "cell_type": "markdown",
      "source": [
        "### ProstateX"
      ],
      "metadata": {
        "id": "nzCJTiRuGmao"
      }
    },
    {
      "cell_type": "code",
      "source": [
        "terra_table_id_prostatex_inference_only = \"terra_mhub_prostatex_inference_only\"\n",
        "terra_prostatex_zonal_only_values = [json.dumps(\"\"),#mhubCompressedOutputFile\n",
        "    json.dumps(\"\"),#radsAiCompressedOutputFile\n",
        "    json.dumps(\"\"),#finalCompressedOutputFile\n",
        "    # json.dumps(\"nii\"),#res_scheme_format\n",
        "    \"nii\",\n",
        "    json.dumps([\"41216001\", \"T-9200B\"]),#dicomCodeValuesProstate_lst\n",
        "    json.dumps([\"Prostatic_structure\", \"Prostate\"]),#dicomCodeMeaningProstate_lst\n",
        "    json.dumps([\"SCT\", \"SRT\"]),#dicomCodingSchemeDesignatorProstate_lst\n",
        "    json.dumps([\"41216001\", \"279706003\", \"399384005\"]),#dicomSrAiCodeValues_lst\n",
        "    json.dumps([\"Prostatic_structure\",\n",
        "              \"Structure_of_peripheral_glandular_zone_of_prostate_(body_structure)\",\n",
        "              \"Structure_of_transition_zone_of_prostate_(body_structure)\"]),#dicomSrAiCodeMeaning_lst\n",
        "    json.dumps([\"SCT\", \"SCT\", \"SCT\"]),#dicomSrAiCodingSchemeDesignator_lst\n",
        "    json.dumps([\"bamf_nnunet_mr_prostate\", \"nnunet_prostate_task24\",\n",
        "                \"monai_prostate158\", \"nnunet_prostate_zonal_task05\"]),#mhub_model_name_lst\n",
        "    json.dumps([\"default\", \"default\",\n",
        "                \"default\", \"default\"]),#mhubai_custom_config_lst,\n",
        "    json.dumps([\"bamf_nnunet_mr_prostate\", \"nnunet_prostate_task24\",\n",
        "                  \"monai_prostate158\", \"nnunet_prostate_zonal_task05\"]),#mhubaiCustomSegmentAlgorithmName_lst\n",
        "    json.dumps(\"prostatex_inference_only\"),\n",
        "    # json.dumps(idc_seg_batch),#idcSegSeriesInstanceUIDs\n",
        "    # json.dumps(\"\"),#idcAddSegSeriesInstanceUIDs\n",
        "    # json.dumps(image_seg_batch),#t2_seriesInstanceUIDs\n",
        "    # json.dumps(image_adc_seg_batch),#adc_seriesInstanceUIDs\n",
        "    ]"
      ],
      "metadata": {
        "id": "mcZO3kRhXEpC"
      },
      "execution_count": null,
      "outputs": []
    },
    {
      "cell_type": "markdown",
      "source": [
        "# Function to build terra data table"
      ],
      "metadata": {
        "id": "4mfxDh_eEtk5"
      }
    },
    {
      "cell_type": "code",
      "source": [
        "def build_data_table(idc_data_df,#idc dataframe containing T2 analyzed images serieUIDs and associated adc and expert seg seriesInstanceUIDs\n",
        "                     terra_col_scheme_lst, #terra data table column scheme\n",
        "                     terra_table_id, #every terra data table needs an id, such as 'PLACEHOLDER_id'\n",
        "                     terra_col_values_lst, #values associated to the column scheme\n",
        "                     idcSegColName,#t2 image df column name\n",
        "                     t2ImageColName,#adc image df column name\n",
        "                     adcImageColName,#idc expert seg df column name\n",
        "                     idcSegColNameAdd=None#idc expert seg second set df column name\n",
        "                     ):\n",
        "\n",
        "  # Set the number of rows per file\n",
        "  series_per_batch = 12\n",
        "\n",
        "  # Calculate the number of files needed\n",
        "  num_files = math.ceil(len(idc_data_df) / series_per_batch)\n",
        "\n",
        "  # Split the dataframe into multiple dataframes\n",
        "  dfs = [idc_data_df[i*series_per_batch:(i+1)*series_per_batch] for i in range(num_files)]\n",
        "\n",
        "  # Create a new column name for the batch_id column\n",
        "  batch_id_column = f'entity:{terra_table_id}_id'\n",
        "\n",
        "  # Initialize an empty DataFrame to store the batch information\n",
        "  out_batch_df = pd.DataFrame(columns=[batch_id_column]+terra_col_scheme_lst[1:])#first index is id\n",
        "\n",
        "  idc_seg_lst = []\n",
        "  image_seg_lst = []\n",
        "  image_adc_seg_lst = []\n",
        "  if idcSegColNameAdd is not None:#idc data df contains a col name with second set of expert SEG\n",
        "    idc_seg_add_lst = []\n",
        "    for batch_df in dfs:\n",
        "      idc_seg_lst.append(list(batch_df[idcSegColName].values))\n",
        "      idc_seg_add_lst.append(list(batch_df[idcSegColNameAdd].values))\n",
        "      image_seg_lst.append(list(batch_df[t2ImageColName].values))\n",
        "      image_adc_seg_lst.append(list(batch_df[adcImageColName].values))\n",
        "    idx=0\n",
        "    for image_seg_batch, idc_seg_batch, idc_seg_add_batch, image_adc_seg_batch in zip(image_seg_lst,idc_seg_lst, idc_seg_add_lst, image_adc_seg_lst):\n",
        "      out_batch_df.loc[idx] = [int(idx)] + terra_col_values_lst + [json.dumps(idc_seg_batch),\n",
        "          json.dumps(idc_seg_add_batch),\n",
        "          json.dumps(image_seg_batch),\n",
        "          json.dumps(image_adc_seg_batch)]\n",
        "      idx+=1\n",
        "    return out_batch_df\n",
        "  else:#no second set of EXPERT SEG\n",
        "    if idcSegColName is not None:\n",
        "      for batch_df in dfs:\n",
        "        idc_seg_lst.append(list(batch_df[idcSegColName].values))\n",
        "        image_seg_lst.append(list(batch_df[t2ImageColName].values))\n",
        "        image_adc_seg_lst.append(list(batch_df[adcImageColName].values))\n",
        "      idx=0\n",
        "      for image_seg_batch, idc_seg_batch, image_adc_seg_batch in zip(image_seg_lst, idc_seg_lst, image_adc_seg_lst):\n",
        "        out_batch_df.loc[idx] = [int(idx)] + terra_col_values_lst + [json.dumps(idc_seg_batch),\n",
        "            json.dumps(\"\"),\n",
        "            json.dumps(image_seg_batch),\n",
        "            json.dumps(image_adc_seg_batch)]\n",
        "        idx+=1\n",
        "    else:#no first set of EXPERT SEG\n",
        "      for batch_df in dfs:\n",
        "        # idc_seg_lst.append(list(batch_df[idcSegColName].values))\n",
        "        image_seg_lst.append(list(batch_df[t2ImageColName].values))\n",
        "        image_adc_seg_lst.append(list(batch_df[adcImageColName].values))\n",
        "      idx=0\n",
        "      for image_seg_batch, image_adc_seg_batch in zip(image_seg_lst, image_adc_seg_lst):\n",
        "        out_batch_df.loc[idx] = [int(idx)] + terra_col_values_lst + [json.dumps(image_seg_batch),\n",
        "            json.dumps(image_adc_seg_batch)]\n",
        "        idx+=1\n",
        "    return out_batch_df"
      ],
      "metadata": {
        "id": "fecM-orfEvOf"
      },
      "execution_count": null,
      "outputs": []
    },
    {
      "cell_type": "markdown",
      "source": [
        "# Query IDC data\n",
        "\n",
        "Now that the model environment is set up, it's time to download some data.\n",
        "\n",
        "For our study, we are interested in retrieving, within individual studies and for one T2 image, one ADC image."
      ],
      "metadata": {
        "id": "YVvbdlAO8_g6"
      }
    },
    {
      "cell_type": "markdown",
      "source": [
        "Let's query all T2W images from ProstateX from the same studies we did evaluation on. This subset of images will be used to study volume repeatability across one study."
      ],
      "metadata": {
        "id": "uOWnKG2ewIhO"
      }
    },
    {
      "cell_type": "code",
      "source": [
        "%%bigquery cohort_prostatex_inference_df --project idc-sandbox-003\n",
        "WITH\n",
        "  t2_series AS(\n",
        "  SELECT\n",
        "    DISTINCT dc_all.SeriesInstanceUID,\n",
        "    dc_all.StudyInstanceUID,\n",
        "    dc_all.PatientID\n",
        "  FROM\n",
        "    `bigquery-public-data.idc_current.dicom_all` AS dc_all\n",
        "  WHERE\n",
        "    dc_all.collection_id = 'prostatex'\n",
        "    AND dc_all.Modality = 'MR'\n",
        "    AND LOWER(dc_all.SeriesDescription) LIKE '%t2_tse_tra%'\n",
        "  ORDER BY\n",
        "    PatientID),\n",
        "  adc_series AS(\n",
        "  SELECT\n",
        "    dc_adc.StudyInstanceUID,\n",
        "    ARRAY_AGG(dc_adc.SeriesInstanceUID\n",
        "    ORDER BY\n",
        "      dc_adc.SeriesDate, dc_adc.SeriesTime DESC\n",
        "    LIMIT\n",
        "      1)[SAFE_OFFSET(0)] AS SeriesInstanceUID,\n",
        "  FROM\n",
        "    `bigquery-public-data.idc_current.dicom_all` AS dc_adc\n",
        "  JOIN\n",
        "    t2_series\n",
        "  ON\n",
        "    dc_adc.StudyInstanceUID = t2_series.StudyInstanceUID\n",
        "  WHERE\n",
        "    LOWER(dc_adc.SeriesDescription) LIKE '%adc%'\n",
        "    AND collection_id = \"prostatex\"\n",
        "  GROUP BY\n",
        "    dc_adc.StudyInstanceUID),\n",
        "  concat_t2_adc_series AS(\n",
        "  SELECT\n",
        "    t2_series.SeriesInstanceUID AS t2_serieUID,\n",
        "    adc_series.SeriesInstanceUID AS adc_serieUID,\n",
        "    t2_series.StudyInstanceUID\n",
        "  FROM\n",
        "    t2_series\n",
        "  INNER JOIN\n",
        "    adc_series\n",
        "  ON\n",
        "    t2_series.StudyInstanceUID = adc_series.StudyInstanceUID),\n",
        "  t2_with_seg AS (\n",
        "  SELECT\n",
        "    concat_t2_adc_series.t2_serieUID,\n",
        "    concat_t2_adc_series.adc_serieUID,\n",
        "    concat_t2_adc_series.StudyInstanceUID,\n",
        "  FROM\n",
        "    concat_t2_adc_series)\n",
        "SELECT\n",
        "  DISTINCT dc_all.SeriesInstanceUID as t2_serieUID,\n",
        "  t2_with_seg.adc_serieUID,\n",
        "  dc_all.StudyInstanceUID,\n",
        "  \"\" AS expert_zonal_prostate_serieUID,\n",
        "  \"\" AS expert_zonal_prostate_image_serieUID,\n",
        "  \"\" AS expert_zonal_prostate_studyUID\n",
        "FROM\n",
        "  `bigquery-public-data.idc_current.dicom_all` AS dc_all\n",
        "INNER JOIN\n",
        "  t2_with_seg\n",
        "ON\n",
        "  dc_all.StudyInstanceUID = t2_with_seg.StudyInstanceUID\n",
        "WHERE\n",
        "  dc_all.collection_id = 'prostatex'\n",
        "  AND dc_all.Modality = 'MR'\n",
        "  AND LOWER(dc_all.SeriesDescription) LIKE '%t2_tse_tra%'"
      ],
      "metadata": {
        "id": "stzgItorpsqZ",
        "colab": {
          "base_uri": "https://localhost:8080/",
          "height": 81,
          "referenced_widgets": [
            "4e89073d0dac483b9283bf8c33b148bb",
            "67d38e582bc240f69734d277f2c9a46f",
            "7cba9d16cdfd4e4db85cc41fd9118c9d",
            "9a05e3266a074959a143c03f21c26f8c",
            "664ae0ca352d40e3a87cf0f22a90cd62",
            "bc9e9f96628544fe8d119cd0465ebfce",
            "e3784d619ca24c73b8139efcafa72dcd",
            "53d8faab7cd34c9f94a94a5975b406ee",
            "086851c6bb574018abeadfadab156e38",
            "b7bd089fde5c40faaef4e8893122ab64",
            "dfe6f55ca03840ccbb2302c6be44f409",
            "a01662298f9245eb983707486e0a8971",
            "a337025c4a39463e9173291484e26b76",
            "4b01546dec524a78bb2941ac8f710b94",
            "15bd56847ee9499c938bd63e81059220",
            "9dd8357c86974d6f8c334f895c0d16dc",
            "fe13b962448d48fcaee9326b8a19ad9c",
            "6488d1d8d66d4877a9142cebd8e26ecc",
            "d851f95f08fe4434bda417d6056d233a",
            "960153fff5e14e99a9198f000290a587",
            "73e6412fb6a24096bbb5a37f805f5be4",
            "7290c21676e94f9b87fca2e16acc46e7"
          ]
        },
        "outputId": "4830ea71-9ae0-4943-9e6b-b205dec684bf"
      },
      "execution_count": null,
      "outputs": [
        {
          "output_type": "display_data",
          "data": {
            "text/plain": [
              "Query is running:   0%|          |"
            ],
            "application/vnd.jupyter.widget-view+json": {
              "version_major": 2,
              "version_minor": 0,
              "model_id": "4e89073d0dac483b9283bf8c33b148bb"
            }
          },
          "metadata": {}
        },
        {
          "output_type": "display_data",
          "data": {
            "text/plain": [
              "Downloading:   0%|          |"
            ],
            "application/vnd.jupyter.widget-view+json": {
              "version_major": 2,
              "version_minor": 0,
              "model_id": "a01662298f9245eb983707486e0a8971"
            }
          },
          "metadata": {}
        }
      ]
    },
    {
      "cell_type": "markdown",
      "source": [
        "# Generate .tsv terra data tables per collection basis"
      ],
      "metadata": {
        "id": "m5h1qydP9nAi"
      }
    },
    {
      "cell_type": "markdown",
      "source": [
        "## ProstateX"
      ],
      "metadata": {
        "id": "wk-p7DCS9xD5"
      }
    },
    {
      "cell_type": "markdown",
      "source": [
        "## QIN-Prostate-Repeatability"
      ],
      "metadata": {
        "id": "R1Xc7ekP9zS7"
      }
    },
    {
      "cell_type": "code",
      "source": [
        "terra_prostatex_inference_df = build_data_table(idc_data_df=cohort_prostatex_inference_df,\n",
        "  terra_col_scheme_lst=terra_data_columns,\n",
        "  terra_table_id=terra_table_id_prostatex_inference_only,\n",
        "  terra_col_values_lst=terra_prostatex_zonal_only_values,\n",
        "  t2ImageColName=\"t2_serieUID\",\n",
        "  adcImageColName=\"adc_serieUID\",\n",
        "  idcSegColName=None,\n",
        "  idcSegColNameAdd=None)"
      ],
      "metadata": {
        "id": "fB2QVFOMYhGL"
      },
      "execution_count": null,
      "outputs": []
    },
    {
      "cell_type": "code",
      "source": [
        "terra_prostatex_inference_df.to_csv(\"terra_prostatex_inference_only.tsv\", sep=\"\\t\", index=None)"
      ],
      "metadata": {
        "id": "YnVnyF5tduD1"
      },
      "execution_count": null,
      "outputs": []
    }
  ]
}