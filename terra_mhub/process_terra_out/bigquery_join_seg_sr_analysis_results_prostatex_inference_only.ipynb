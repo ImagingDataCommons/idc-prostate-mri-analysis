{
  "nbformat": 4,
  "nbformat_minor": 0,
  "metadata": {
    "colab": {
      "provenance": [],
      "toc_visible": true
    },
    "kernelspec": {
      "name": "python3",
      "display_name": "Python 3"
    },
    "language_info": {
      "name": "python"
    }
  },
  "cells": [
    {
      "cell_type": "code",
      "source": [
        "# !pip install pandas_gbq"
      ],
      "metadata": {
        "id": "qCj7OJCX3JWq"
      },
      "execution_count": null,
      "outputs": []
    },
    {
      "cell_type": "code",
      "execution_count": null,
      "metadata": {
        "id": "26fmqQrUYsPp"
      },
      "outputs": [],
      "source": [
        "import os\n",
        "import pandas as pd\n",
        "# import pandas_gbq"
      ]
    },
    {
      "cell_type": "code",
      "source": [
        "from google.colab import auth\n",
        "auth.authenticate_user()"
      ],
      "metadata": {
        "id": "nyKq7_4FY_kZ"
      },
      "execution_count": null,
      "outputs": []
    },
    {
      "cell_type": "code",
      "source": [
        "from google.cloud import bigquery"
      ],
      "metadata": {
        "id": "s7qr7FFcqEDe"
      },
      "execution_count": null,
      "outputs": []
    },
    {
      "cell_type": "markdown",
      "source": [
        "## GCP/GCS variables definition"
      ],
      "metadata": {
        "id": "8HVcPy54RrNF"
      }
    },
    {
      "cell_type": "code",
      "source": [
        "#@title Global parameters\n",
        "project_id = \"idc-sandbox-003\" #@param{type:\"string\"}\n",
        "location=\"us\" #@param{type:\"string\"}\n",
        "\n",
        "#used for construction viewer urls\n",
        "dicom_dataset_id = \"prostate_seg_terra_prostatex_inf_only_mhub_dataset\" #@param{type:\"string\"}\n",
        "ai_dicom_seg_store=\"aiDicomSegDicomStore\" #@param{type:\"string\"}"
      ],
      "metadata": {
        "id": "SK-Nfi6CePM_"
      },
      "execution_count": null,
      "outputs": []
    },
    {
      "cell_type": "code",
      "source": [
        "#@title BigQuery\n",
        "bq_dataset_id = \"prostate_seg_terra_mhub_v3_prostatex_inf_only\" #@param{type:\"string\"}\n",
        "\n",
        "#raw DICOM metadata tables extracted from DICOM stores\n",
        "bq_ai_dicom_seg = \"ai_dicom_seg_table\" #@param{type:\"string\"}\n",
        "bq_ai_dicom_sr = \"ai_dicom_sr_table\" #@param{type:\"string\"}\n",
        "#AI tables\n",
        "bq_processed_ai_dicom_seg = \"ai_processed_dicom_seg_table\" #@param{type:\"string\"}\n",
        "bq_processed_ai_dicom_meas_grps_sr = \"ai_processed_measurement_groups_sr_table\" #@param{type:\"string\"}\n",
        "bq_processed_ai_dicom_quant_meas_sr = \"ai_processed_quantitative_measurements_sr_table\" #@param{type:\"string\"}\n",
        "bq_processed_ai_joined_all = \"ai_processed_seg_sr_eval_results_table\"\n",
        "\n",
        "#everything joined together, IDC/AI/Eval SEG/SR\n",
        "bq_processed_final_table = f\"{project_id}.{bq_dataset_id}.final_table\""
      ],
      "metadata": {
        "id": "XscDm9PN8khb"
      },
      "execution_count": null,
      "outputs": []
    },
    {
      "cell_type": "code",
      "source": [
        "ai_bigquery_params = {\n",
        "  \"inp_seg_table\": f\"`{project_id}.{bq_dataset_id}.{bq_ai_dicom_seg}`\",\n",
        "  \"out_seg_table_id\": f\"{project_id}.{bq_dataset_id}.{bq_processed_ai_dicom_seg}\",\n",
        "  \"out_seg_table\": f\"`{project_id}.{bq_dataset_id}.{bq_processed_ai_dicom_seg}`\",\n",
        "  \"inp_sr_table\": f\"{project_id}.{bq_dataset_id}.{bq_ai_dicom_sr}\",\n",
        "  \"out_table_id_measurement_groups\": f\"{project_id}.{bq_dataset_id}.{bq_processed_ai_dicom_meas_grps_sr}\",\n",
        "  \"out_table_measurement_groups\": f\"`{project_id}.{bq_dataset_id}.{bq_processed_ai_dicom_meas_grps_sr}`\",\n",
        "  \"out_table_id_quantitative_measurements\": f\"{project_id}.{bq_dataset_id}.{bq_processed_ai_dicom_quant_meas_sr}\",\n",
        "  \"out_table_quantitative_measurements\": f\"`{project_id}.{bq_dataset_id}.{bq_processed_ai_dicom_quant_meas_sr}`\",\n",
        "  \"out_table_id_joined_all\": f\"{project_id}.{bq_dataset_id}.{bq_processed_ai_joined_all}\",\n",
        "  \"out_table_joined_all\": f\"`{project_id}.{bq_dataset_id}.{bq_processed_ai_joined_all}`\"\n",
        "  }"
      ],
      "metadata": {
        "id": "Lqt46kquaVsn"
      },
      "execution_count": null,
      "outputs": []
    },
    {
      "cell_type": "code",
      "source": [
        "# Construct a BigQuery client object.\n",
        "client = bigquery.Client(project=project_id)"
      ],
      "metadata": {
        "id": "4kc-lhB3qIZu"
      },
      "execution_count": null,
      "outputs": []
    },
    {
      "cell_type": "markdown",
      "source": [
        "# Functions for processing"
      ],
      "metadata": {
        "id": "uCd_EcUY2MDc"
      }
    },
    {
      "cell_type": "markdown",
      "source": [
        "## DICOM SEG processing"
      ],
      "metadata": {
        "id": "kcjKpQXG2OwF"
      }
    },
    {
      "cell_type": "code",
      "source": [
        "def process_dicom_seg(inp_dicom_raw_table):\n",
        "  query = f\"\"\"\n",
        "  WITH\n",
        "    segmentations AS (\n",
        "    WITH\n",
        "      segs AS (\n",
        "      SELECT\n",
        "        PatientID,\n",
        "        StudyInstanceUID,\n",
        "        SeriesInstanceUID,\n",
        "        SOPInstanceUID,\n",
        "        FrameOfReferenceUID,\n",
        "        SegmentSequence\n",
        "      FROM\n",
        "        {inp_dicom_raw_table}\n",
        "      WHERE\n",
        "        # more reliable than Modality = \"SEG\"\n",
        "        SOPClassUID = '1.2.840.10008.5.1.4.1.1.66.4')\n",
        "    SELECT\n",
        "      PatientID,\n",
        "      StudyInstanceUID,\n",
        "      SeriesInstanceUID,\n",
        "      SOPInstanceUID,\n",
        "      FrameOfReferenceUID,\n",
        "\n",
        "      CASE ARRAY_LENGTH(unnested.SegmentedPropertyCategoryCodeSequence)\n",
        "        WHEN 0 THEN NULL\n",
        "      ELSE\n",
        "      unnested.SegmentedPropertyCategoryCodeSequence [\n",
        "    OFFSET\n",
        "      (0)]\n",
        "    END\n",
        "      AS SegmentedPropertyCategory,\n",
        "      CASE ARRAY_LENGTH(unnested.SegmentedPropertyTypeCodeSequence)\n",
        "        WHEN 0 THEN NULL\n",
        "      ELSE\n",
        "      unnested.SegmentedPropertyTypeCodeSequence [\n",
        "    OFFSET\n",
        "      (0)]\n",
        "    END\n",
        "      AS SegmentedPropertyType,\n",
        "      unnested.SegmentAlgorithmType,\n",
        "      unnested.SegmentAlgorithmName,\n",
        "      unnested.SegmentNumber,\n",
        "    FROM\n",
        "      segs\n",
        "    CROSS JOIN\n",
        "      UNNEST(SegmentSequence) AS unnested),\n",
        "    sampled_sops AS (\n",
        "    SELECT\n",
        "      SOPInstanceUID AS seg_SOPInstanceUID,\n",
        "      ReferencedSeriesSequence[SAFE_OFFSET(0)].ReferencedInstanceSequence[SAFE_OFFSET(0)].ReferencedSOPInstanceUID AS rss_one\n",
        "    FROM\n",
        "      {inp_dicom_raw_table}\n",
        "    WHERE\n",
        "      Modality=\"SEG\"\n",
        "      AND SOPClassUID = '1.2.840.10008.5.1.4.1.1.66.4'),\n",
        "    coalesced_ref AS (\n",
        "    SELECT\n",
        "      *,\n",
        "      rss_one AS referenced_sop\n",
        "    FROM\n",
        "      sampled_sops)\n",
        "  SELECT\n",
        "    segmentations.*,\n",
        "    dicom_all.SeriesInstanceUID AS segmented_SeriesInstanceUID\n",
        "  FROM\n",
        "    coalesced_ref\n",
        "  JOIN\n",
        "    `bigquery-public-data.idc_current.dicom_all` AS dicom_all\n",
        "  ON\n",
        "    coalesced_ref.referenced_sop = dicom_all.SOPInstanceUID\n",
        "  RIGHT JOIN\n",
        "    segmentations\n",
        "  ON\n",
        "    segmentations.SOPInstanceUID = coalesced_ref.seg_SOPInstanceUID\n",
        "  \"\"\"\n",
        "  job_config = bigquery.QueryJobConfig(\n",
        "      query_parameters=[]\n",
        "  )\n",
        "  query_job = client.query(query, job_config=job_config)\n",
        "  print(query_job)\n",
        "  return query_job.to_dataframe()"
      ],
      "metadata": {
        "id": "fZX2Xzn2rHYr"
      },
      "execution_count": null,
      "outputs": []
    },
    {
      "cell_type": "markdown",
      "source": [
        "## DICOM SR processing"
      ],
      "metadata": {
        "id": "EKZyfVkf2SiD"
      }
    },
    {
      "cell_type": "code",
      "source": [
        "def process_dicom_sr_measurement_groups(inp_dicom_raw_table):\n",
        "  query = f\"\"\"\n",
        "  WITH\n",
        "  measurementGroups AS (\n",
        "  WITH\n",
        "    contentSequenceLevel1 AS (\n",
        "    WITH\n",
        "      structuredReports AS (\n",
        "      SELECT\n",
        "        PatientID,\n",
        "        SOPInstanceUID,\n",
        "        SeriesDescription,\n",
        "        ContentSequence\n",
        "      FROM\n",
        "        {inp_dicom_raw_table}\n",
        "      WHERE\n",
        "        ( SOPClassUID = \"1.2.840.10008.5.1.4.1.1.88.11\"\n",
        "          OR SOPClassUID = \"1.2.840.10008.5.1.4.1.1.88.22\"\n",
        "          OR SOPClassUID = \"1.2.840.10008.5.1.4.1.1.88.33\"\n",
        "          OR SOPClassUID = \"1.2.840.10008.5.1.4.1.1.88.34\"\n",
        "          OR SOPClassUID = \"1.2.840.10008.5.1.4.1.1.88.35\" )\n",
        "        AND ARRAY_LENGTH(ContentTemplateSequence) <> 0\n",
        "        AND ContentTemplateSequence [\n",
        "      OFFSET\n",
        "        (0)].TemplateIdentifier = \"1500\"\n",
        "        AND ContentTemplateSequence [\n",
        "      OFFSET\n",
        "        (0)].MappingResource = \"DCMR\" )\n",
        "    SELECT\n",
        "      PatientID,\n",
        "      SOPInstanceUID,\n",
        "      SeriesDescription,\n",
        "      contentSequence\n",
        "    FROM\n",
        "      structuredReports\n",
        "    CROSS JOIN\n",
        "      UNNEST(ContentSequence) AS contentSequence )\n",
        "  SELECT\n",
        "    PatientID,\n",
        "    SOPInstanceUID,\n",
        "    SeriesDescription,\n",
        "    contentSequence,\n",
        "    measurementGroup_number\n",
        "  FROM\n",
        "    contentSequenceLevel1\n",
        "  CROSS JOIN\n",
        "    UNNEST (contentSequence.ContentSequence) AS contentSequence\n",
        "  WITH\n",
        "  OFFSET\n",
        "    AS measurementGroup_number\n",
        "  WHERE\n",
        "    contentSequence.ValueType = \"CONTAINER\"\n",
        "    AND contentSequence.ConceptNameCodeSequence [\n",
        "  OFFSET\n",
        "    (0)].CodeMeaning = \"Measurement Group\" ),\n",
        "  measurementGroups_withTrackingID AS (\n",
        "  SELECT\n",
        "    SOPInstanceUID,\n",
        "    PatientID,\n",
        "    SeriesDescription,\n",
        "    measurementGroup_number,\n",
        "    unnestedContentSequence.TextValue AS trackingIdentifier,\n",
        "    measurementGroups.contentSequence\n",
        "  FROM\n",
        "    measurementGroups\n",
        "  CROSS JOIN\n",
        "    UNNEST(contentSequence.ContentSequence) AS unnestedContentSequence\n",
        "  WHERE\n",
        "    unnestedContentSequence.ValueType = \"TEXT\"\n",
        "    AND ( unnestedContentSequence.ConceptNameCodeSequence [\n",
        "    OFFSET\n",
        "      (0)].CodeValue = \"112039\"\n",
        "      AND unnestedContentSequence.ConceptNameCodeSequence [\n",
        "    OFFSET\n",
        "      (0)].CodingSchemeDesignator = \"DCM\" ) ),\n",
        "  measurementGroups_withTrackingUID AS (\n",
        "  SELECT\n",
        "    SOPInstanceUID,\n",
        "    measurementGroup_number,\n",
        "    unnestedContentSequence.UID AS trackingUniqueIdentifier\n",
        "  FROM\n",
        "    measurementGroups\n",
        "  CROSS JOIN\n",
        "    UNNEST(contentSequence.ContentSequence) AS unnestedContentSequence\n",
        "  WHERE\n",
        "    unnestedContentSequence.ValueType = \"UIDREF\"\n",
        "    AND ( unnestedContentSequence.ConceptNameCodeSequence [\n",
        "    OFFSET\n",
        "      (0)].CodeValue = \"112040\"\n",
        "      AND unnestedContentSequence.ConceptNameCodeSequence [\n",
        "    OFFSET\n",
        "      (0)].CodingSchemeDesignator = \"DCM\" ) ),\n",
        "  measurementGroups_withSegmentation AS (\n",
        "  SELECT\n",
        "    SOPInstanceUID,\n",
        "    measurementGroup_number,\n",
        "    unnestedContentSequence.ReferencedSOPSequence[\n",
        "  OFFSET\n",
        "    (0)].ReferencedSOPInstanceUID AS segmentationInstanceUID,\n",
        "    unnestedContentSequence.ReferencedSOPSequence[\n",
        "  OFFSET\n",
        "    (0)].ReferencedSegmentNumber AS segmentationSegmentNumber\n",
        "  FROM\n",
        "    measurementGroups\n",
        "  CROSS JOIN\n",
        "    UNNEST(contentSequence.ContentSequence) AS unnestedContentSequence\n",
        "  WHERE\n",
        "    unnestedContentSequence.ValueType = \"IMAGE\"\n",
        "    AND unnestedContentSequence.ReferencedSOPSequence[\n",
        "  OFFSET\n",
        "    (0)].ReferencedSOPClassUID = \"1.2.840.10008.5.1.4.1.1.66.4\" ),\n",
        "  measurementGroups_withSourceSeries AS (\n",
        "  SELECT\n",
        "    SOPInstanceUID,\n",
        "    measurementGroup_number,\n",
        "    unnestedContentSequence.UID AS sourceSegmentedSeriesUID\n",
        "  FROM\n",
        "    measurementGroups\n",
        "  CROSS JOIN\n",
        "    UNNEST(contentSequence.ContentSequence) AS unnestedContentSequence\n",
        "  WHERE\n",
        "    unnestedContentSequence.ValueType = \"UIDREF\"\n",
        "    AND ( unnestedContentSequence.ConceptNameCodeSequence [\n",
        "    OFFSET\n",
        "      (0)].CodeValue = \"121232\"\n",
        "      AND unnestedContentSequence.ConceptNameCodeSequence [\n",
        "    OFFSET\n",
        "      (0)].CodingSchemeDesignator = \"DCM\" ) ),\n",
        "  measurementGroups_withFinding AS (\n",
        "  SELECT\n",
        "    SOPInstanceUID,\n",
        "    measurementGroup_number,\n",
        "    unnestedContentSequence.ConceptCodeSequence [\n",
        "  OFFSET\n",
        "    (0)] AS finding\n",
        "  FROM\n",
        "    measurementGroups\n",
        "  CROSS JOIN\n",
        "    UNNEST(contentSequence.ContentSequence) AS unnestedContentSequence\n",
        "  WHERE\n",
        "    unnestedContentSequence.ValueType = \"CODE\"\n",
        "    AND ( unnestedContentSequence.ConceptNameCodeSequence [\n",
        "    OFFSET\n",
        "      (0)].CodeValue = \"121071\"\n",
        "      AND unnestedContentSequence.ConceptNameCodeSequence [\n",
        "    OFFSET\n",
        "      (0)].CodingSchemeDesignator = \"DCM\" ) ),\n",
        "  measurementGroups_withFindingSite AS (\n",
        "  SELECT\n",
        "    SOPInstanceUID,\n",
        "    measurementGroup_number,\n",
        "    unnestedContentSequence.ConceptCodeSequence [\n",
        "  OFFSET\n",
        "    (0)] AS findingSite\n",
        "  FROM\n",
        "    measurementGroups\n",
        "  CROSS JOIN\n",
        "    UNNEST(contentSequence.ContentSequence) AS unnestedContentSequence\n",
        "  WHERE\n",
        "    unnestedContentSequence.ValueType = \"CODE\"\n",
        "\t  AND ( (unnestedContentSequence.ConceptNameCodeSequence [\n",
        "\tOFFSET\n",
        "\t  (0)].CodeValue = \"G-C0E3\"\n",
        "\t  AND unnestedContentSequence.ConceptNameCodeSequence [\n",
        "\tOFFSET\n",
        "\t  (0)].CodingSchemeDesignator = \"SRT\" ) OR\n",
        "\t\t   (unnestedContentSequence.ConceptNameCodeSequence [\n",
        "\tOFFSET\n",
        "\t  (0)].CodeValue = \"363698007\"\n",
        "\t  AND unnestedContentSequence.ConceptNameCodeSequence [\n",
        "\tOFFSET\n",
        "\t  (0)].CodingSchemeDesignator = \"SCT\" ) ) )\n",
        "\n",
        "SELECT\n",
        "  mWithUID.SOPInstanceUID,\n",
        "  mWithUID.measurementGroup_number,\n",
        "  mWithUID.trackingUniqueIdentifier,\n",
        "  mWithID.trackingIdentifier,\n",
        "  mWithID.PatientID,\n",
        "  mWithID.SeriesDescription,\n",
        "  mWithFinding.finding,\n",
        "  mWithFindingSite.findingSite,\n",
        "  mWithSourceSeries.sourceSegmentedSeriesUID,\n",
        "  mWithSegmentation.segmentationInstanceUID,\n",
        "  mWithSegmentation.segmentationSegmentNumber,\n",
        "  mWithID.contentSequence\n",
        "FROM\n",
        "  measurementGroups_withTrackingUID AS mWithUID\n",
        "JOIN\n",
        "  measurementGroups_withTrackingID AS mWithID\n",
        "  ---\n",
        "ON\n",
        "  mWithID.SOPInstanceUID = mWithUID.SOPInstanceUID\n",
        "  AND mWithID.measurementGroup_number = mWithUID.measurementGroup_number\n",
        "JOIN\n",
        "  measurementGroups_withFinding AS mWithFinding\n",
        "ON\n",
        "  mWithID.SOPInstanceUID = mWithFinding.SOPInstanceUID\n",
        "  AND mWithID.measurementGroup_number = mWithFinding.measurementGroup_number\n",
        "JOIN\n",
        "  measurementGroups_withFindingSite AS mWithFindingSite\n",
        "ON\n",
        "  mWithID.SOPInstanceUID = mWithFindingSite.SOPInstanceUID\n",
        "  AND mWithID.measurementGroup_number = mWithFindingSite.measurementGroup_number\n",
        "JOIN\n",
        "  measurementGroups_withSourceSeries AS mWithSourceSeries\n",
        "ON\n",
        "  mWithID.SOPInstanceUID = mWithSourceSeries.SOPInstanceUID\n",
        "  AND mWithID.measurementGroup_number = mWithSourceSeries.measurementGroup_number\n",
        "JOIN\n",
        "  measurementGroups_withSegmentation AS mWithSegmentation\n",
        "ON\n",
        "  mWithID.SOPInstanceUID = mWithSegmentation.SOPInstanceUID\n",
        "  AND mWithID.measurementGroup_number = mWithSegmentation.measurementGroup_number\n",
        "  ---\n",
        "ORDER BY\n",
        "  trackingUniqueIdentifier\n",
        "  \"\"\"\n",
        "  job_config = bigquery.QueryJobConfig(\n",
        "      query_parameters=[]\n",
        "  )\n",
        "  query_job = client.query(query, job_config=job_config)\n",
        "  print(query_job)\n",
        "  return query_job.to_dataframe()"
      ],
      "metadata": {
        "id": "Ee0E14JzraSL"
      },
      "execution_count": null,
      "outputs": []
    },
    {
      "cell_type": "code",
      "source": [
        "def process_dicom_sr_quantitative_measurements(inp_dicom_raw_table):\n",
        "  query = f\"\"\"\n",
        "  WITH\n",
        "    ---\n",
        "    contentSequenceLevel3numeric AS (\n",
        "    SELECT\n",
        "      PatientID,\n",
        "      SOPInstanceUID,\n",
        "    SeriesDescription,\n",
        "      measurementGroup_number,\n",
        "      segmentationInstanceUID,\n",
        "      segmentationSegmentNumber,\n",
        "      sourceSegmentedSeriesUID,\n",
        "      trackingIdentifier,\n",
        "      trackingUniqueIdentifier,\n",
        "      contentSequence.ConceptNameCodeSequence [\n",
        "    SAFE_OFFSET\n",
        "      (0)] AS ConceptNameCodeSequence,\n",
        "      contentSequence.MeasuredValueSequence [\n",
        "    SAFE_OFFSET\n",
        "      (0)] AS MeasuredValueSequence,\n",
        "      contentSequence.MeasuredValueSequence [\n",
        "    SAFE_OFFSET\n",
        "      (0)].MeasurementUnitsCodeSequence [\n",
        "    SAFE_OFFSET\n",
        "      (0)] AS MeasurementUnits,\n",
        "      contentSequence.ContentSequence\n",
        "    FROM\n",
        "      {inp_dicom_raw_table}\n",
        "    CROSS JOIN\n",
        "      UNNEST (contentSequence.ContentSequence) AS contentSequence\n",
        "    WHERE\n",
        "      contentSequence.ValueType = \"NUM\" ),\n",
        "    ---\n",
        "    contentSequenceLevel3codes AS (\n",
        "    SELECT\n",
        "      PatientID,\n",
        "      SOPInstanceUID,\n",
        "    SeriesDescription,\n",
        "      measurementGroup_number,\n",
        "      segmentationInstanceUID,\n",
        "      segmentationSegmentNumber,\n",
        "      sourceSegmentedSeriesUID,\n",
        "      trackingIdentifier,\n",
        "      trackingUniqueIdentifier,\n",
        "      contentSequence.ConceptNameCodeSequence [\n",
        "    SAFE_OFFSET\n",
        "      (0)] AS ConceptNameCodeSequence,\n",
        "      contentSequence.ConceptCodeSequence [\n",
        "    SAFE_OFFSET\n",
        "      (0)] AS ConceptCodeSequence\n",
        "    FROM\n",
        "      {inp_dicom_raw_table}\n",
        "    CROSS JOIN\n",
        "      UNNEST (contentSequence.ContentSequence) AS contentSequence\n",
        "    WHERE\n",
        "      contentSequence.ValueType = \"CODE\" ),\n",
        "    ---\n",
        "    contentSequenceLevel3uidrefs AS (\n",
        "    SELECT\n",
        "      contentSequence.ConceptNameCodeSequence [\n",
        "    SAFE_OFFSET\n",
        "      (0)] AS ConceptNameCodeSequence,\n",
        "      contentSequence.ConceptCodeSequence [\n",
        "    SAFE_OFFSET\n",
        "      (0)] AS ConceptCodeSequence,\n",
        "      measurementGroup_number\n",
        "    FROM\n",
        "      {inp_dicom_raw_table}\n",
        "    CROSS JOIN\n",
        "      UNNEST (contentSequence.ContentSequence) AS contentSequence\n",
        "    WHERE\n",
        "      contentSequence.ValueType = \"UIDREF\"\n",
        "      AND ConceptCodeSequence [\n",
        "    SAFE_OFFSET\n",
        "      (0)].CodeMeaning = \"Tracking Unique Identifier\" ),\n",
        "    ---\n",
        "    findings AS (\n",
        "    SELECT\n",
        "      PatientID,\n",
        "      SOPInstanceUID,\n",
        "    SeriesDescription,\n",
        "      ConceptCodeSequence AS finding,\n",
        "      measurementGroup_number,\n",
        "      segmentationInstanceUID,\n",
        "      segmentationSegmentNumber,\n",
        "      sourceSegmentedSeriesUID,\n",
        "      trackingIdentifier,\n",
        "      trackingUniqueIdentifier,\n",
        "    FROM\n",
        "      contentSequenceLevel3codes\n",
        "    WHERE\n",
        "      ConceptNameCodeSequence.CodeValue = \"121071\"\n",
        "      AND ConceptNameCodeSequence.CodingSchemeDesignator = \"DCM\" ),\n",
        "    ---\n",
        "    findingSites AS (\n",
        "    SELECT\n",
        "      PatientID,\n",
        "      SOPInstanceUID,\n",
        "    SeriesDescription,\n",
        "      ConceptCodeSequence AS findingSite,\n",
        "      measurementGroup_number\n",
        "    FROM\n",
        "      contentSequenceLevel3codes\n",
        "    WHERE\n",
        "      (ConceptNameCodeSequence.CodeValue = \"G-C0E3\"\n",
        "      AND ConceptNameCodeSequence.CodingSchemeDesignator = \"SRT\" ) OR\n",
        "      (ConceptNameCodeSequence.CodeValue = \"363698007\"\n",
        "      AND ConceptNameCodeSequence.CodingSchemeDesignator = \"SCT\" ) ),\n",
        "    ---\n",
        "    findingsAndFindingSites AS (\n",
        "    SELECT\n",
        "      findings.PatientID,\n",
        "      findings.SOPInstanceUID,\n",
        "    findings.SeriesDescription,\n",
        "      findings.finding,\n",
        "      findingSites.findingSite,\n",
        "      findingSites.measurementGroup_number,\n",
        "      findings.segmentationInstanceUID,\n",
        "      findings.segmentationSegmentNumber,\n",
        "      findings.sourceSegmentedSeriesUID,\n",
        "      findings.trackingIdentifier,\n",
        "      findings.trackingUniqueIdentifier\n",
        "    FROM\n",
        "      findings\n",
        "    JOIN\n",
        "      findingSites\n",
        "    ON\n",
        "      findings.SOPInstanceUID = findingSites.SOPInstanceUID\n",
        "      AND findings.measurementGroup_number = findingSites.measurementGroup_number ) ---\n",
        "    # correctness check: the below should result in 11 rows (this is how many segments/measurement\n",
        "      # groups are there for each QIN-HEADNCK-01-0139 segmentation\n",
        "      #SELECT\n",
        "      #  *\n",
        "      #FROM\n",
        "      #  findingsAndFindingSites\n",
        "      #WHERE\n",
        "      #  SOPInstanceUID = \"1.2.276.0.7230010.3.1.4.8323329.18336.1440004659.731760\"\n",
        "      ---\n",
        "    SELECT\n",
        "      contentSequenceLevel3numeric.PatientID,\n",
        "      contentSequenceLevel3numeric.SOPInstanceUID,\n",
        "    contentSequenceLevel3numeric.SeriesDescription,\n",
        "      contentSequenceLevel3numeric.measurementGroup_number,\n",
        "      findingsAndFindingSites.segmentationInstanceUID,\n",
        "      findingsAndFindingSites.segmentationSegmentNumber,\n",
        "      findingsAndFindingSites.sourceSegmentedSeriesUID,\n",
        "      findingsAndFindingSites.trackingIdentifier,\n",
        "      findingsAndFindingSites.trackingUniqueIdentifier,\n",
        "      contentSequenceLevel3numeric.ConceptNameCodeSequence AS Quantity,\n",
        "\n",
        "      SAFE_CAST( contentSequenceLevel3numeric.MeasuredValueSequence.NumericValue [\n",
        "      SAFE_OFFSET\n",
        "        (0)] AS NUMERIC ) AS Value,\n",
        "      contentSequenceLevel3numeric.MeasurementUnits AS Units,\n",
        "      findingsAndFindingSites.finding,\n",
        "      findingsAndFindingSites.findingSite\n",
        "    FROM\n",
        "      contentSequenceLevel3numeric\n",
        "    JOIN\n",
        "      findingsAndFindingSites\n",
        "    ON\n",
        "      contentSequenceLevel3numeric.SOPInstanceUID = findingsAndFindingSites.SOPInstanceUID\n",
        "      AND contentSequenceLevel3numeric.measurementGroup_number = findingsAndFindingSites.measurementGroup_number ---\n",
        "      # correctness check: for this patient, there should be 12 rows: 4 segmented nodules, with 3 numeric evaluations for each\n",
        "      #WHERE\n",
        "      #  contentSequenceLevel3numeric.PatientID = \"LIDC-IDRI-0001\"\n",
        "      ---\n",
        "      # correctness check: for this specific instance, there should be 238 rows (11 segments)\n",
        "      #WHERE\n",
        "      #  contentSequenceLevel3numeric.SOPInstanceUID = \"1.2.276.0.7230010.3.1.4.8323329.18336.1440004659.731760\"\n",
        "      #where contentSequenceLevel3numeric.PatientID LIKE \"%QIN%\"\n",
        "    \"\"\"\n",
        "  job_config = bigquery.QueryJobConfig(\n",
        "      query_parameters=[]\n",
        "  )\n",
        "  query_job = client.query(query, job_config=job_config)\n",
        "  print(query_job)\n",
        "  return query_job.to_dataframe()"
      ],
      "metadata": {
        "id": "yRhPltarsoOn"
      },
      "execution_count": null,
      "outputs": []
    },
    {
      "cell_type": "markdown",
      "source": [
        "## Combine AI SEG+SR data with quantitative eval results"
      ],
      "metadata": {
        "id": "bzdyQp4bGJjd"
      }
    },
    {
      "cell_type": "code",
      "source": [
        "def process_combine_ai_seg_sr_dicom_all_quant_results(inp_seg_table,\n",
        "                                            inp_sr_quant_meas_table):\n",
        "  query = f\"\"\"\n",
        "  WITH\n",
        "    temp_result AS (\n",
        "    SELECT\n",
        "      measurements.* EXCEPT(PatientID, SOPInstanceUID),\n",
        "      segmentations.* EXCEPT(PatientID, SOPInstanceUID),\n",
        "      measurements.SOPInstanceUID as measurements_SOPInstanceUID,\n",
        "      segmentations.SOPInstanceUID as segmentations_SOPInstanceUID,\n",
        "      dicom_all.collection_id AS collection_id,\n",
        "      dicom_all.* EXCEPT(collection_id)\n",
        "    FROM\n",
        "      {inp_sr_quant_meas_table} AS measurements\n",
        "    RIGHT JOIN\n",
        "      {inp_seg_table} AS segmentations\n",
        "    ON\n",
        "      measurements.segmentationInstanceUID = segmentations.SOPInstanceUID\n",
        "      AND measurements.segmentationSegmentNumber[SAFE_OFFSET(0)] = segmentations.SegmentNumber\n",
        "    JOIN (\n",
        "      SELECT\n",
        "        SeriesInstanceUID as image_SeriesInstanceUID,\n",
        "        ANY_VALUE(collection_id) AS collection_id,\n",
        "        ANY_VALUE(ROUND(CAST(PixelSpacing[SAFE_OFFSET(0)] AS FLOAT64),2)) AS image_PixelSpacingX,\n",
        "        ANY_VALUE(ROUND(CAST(PixelSpacing[SAFE_OFFSET(1)] AS FLOAT64),2)) AS image_PixelSpacingY,\n",
        "        ANY_VALUE(ROUND(CAST(SliceThickness AS FLOAT64), 2)) as image_SliceThickness,\n",
        "        ANY_VALUE(ARRAY_TO_STRING(ImageOrientationPatient, \",\")) as image_OrientationPatient,\n",
        "        ANY_VALUE(SequenceName) as image_SequenceName,\n",
        "        ANY_VALUE(MagneticFieldStrength) AS image_MagneticFieldStrength,\n",
        "        ANY_VALUE(RepetitionTime) AS image_RepetitionTime,\n",
        "        ANY_VALUE(EchoTrainLength) as image_EchoTrainLength,\n",
        "        ANY_VALUE(EchoNumbers) as image_EchoNumbers,\n",
        "        ANY_VALUE(EchoPulseSequence) as image_EchoPulseSequence,\n",
        "        ANY_VALUE(EchoPlanarPulseSequence) as image_EchoPlanarPulseSequence,\n",
        "        ANY_VALUE(FieldOfViewDimensions) as image_FieldOfViewDimensions,\n",
        "        ANY_VALUE(FieldOfViewShape) as image_FieldOfViewShape,\n",
        "        ANY_VALUE(ReceiveCoilType) as image_ReceiveCoilType,\n",
        "        ANY_VALUE(ReceiveCoilName) as image_ReceiveCoilName,\n",
        "        ANY_VALUE(GradientOutputType) as image_GradientOutputType,\n",
        "        -- ANY_VALUE(SpacingBetweenSlices) as image_SpacingBetweenSlices,\n",
        "        ANY_VALUE(FrequencyCorrection) as image_FrequencyCorrection,\n",
        "        -- ANY_VALUE(Excitat)\n",
        "        -- ANY_VALUE(Contrast)\n",
        "        ANY_VALUE(CAST(FlipAngle  AS FLOAT64)) as image_FlipAngle,\n",
        "        ANY_VALUE(EchoTime) as image_EchoTime,\n",
        "        ANY_VALUE(InversionTime) as image_InversionTime,\n",
        "        ANY_VALUE(SeriesDate) as image_SeriesDate,\n",
        "        ANY_VALUE(StudyDate) as image_StudyDate,\n",
        "        ANY_VALUE(SeriesTime) as image_SeriesTime,\n",
        "        ANY_VALUE(StudyTime) as image_StudyTime,\n",
        "        ANY_VALUE(SeriesDescription) as image_SeriesDescription,\n",
        "        ANY_VALUE(StudyDescription) as image_StudyDescription,\n",
        "        ANY_VALUE(SpacingBetweenSlices) as image_SpacingBetweenSlices,\n",
        "        ANY_VALUE(Manufacturer) as image_Manufacturer,\n",
        "        ANY_VALUE(ManufacturerModelName) as image_ManufacturerModelName,\n",
        "        ANY_VALUE(PatientID) as image_PatientID,\n",
        "        CAST(ANY_VALUE(ARRAY_REVERSE(SPLIT(PatientID, \"-\"))[SAFE_OFFSET(0)]) AS STRING) as image_caseID\n",
        "      FROM\n",
        "        `bigquery-public-data.idc_current.dicom_all`\n",
        "      GROUP BY\n",
        "        SeriesInstanceUID) AS dicom_all\n",
        "    ON\n",
        "      segmentations.segmented_SeriesInstanceUID = dicom_all.image_SeriesInstanceUID)\n",
        "  SELECT\n",
        "    temp_result.* EXCEPT(image_caseID),\n",
        "    CAST(temp_result.image_caseID AS INT64) as image_caseID\n",
        "    -- temp_result.segmentAlgorithmName,\n",
        "    -- temp_result.SegmentedPropertyType.CodeMeaning,\n",
        "    -- temp_result.collection_id,\n",
        "    -- COUNT(DISTINCT(temp_result.segmented_SeriesInstanceUID)) as count_results_per_segmented_SerieUID\n",
        "  FROM\n",
        "    temp_result\n",
        "  -- WHERE\n",
        "  --   REGEXP_CONTAINS(image_caseID, r\"^[A-Za-z]+$\")\n",
        "  -- GROUP BY temp_result.segmentAlgorithmName, temp_result.SegmentedPropertyType.CodeMeaning, temp_result.collection_id\n",
        "  \"\"\"\n",
        "  job_config = bigquery.QueryJobConfig(\n",
        "      query_parameters=[]\n",
        "  )\n",
        "  query_job = client.query(query, job_config=job_config)\n",
        "  print(query_job)\n",
        "  return query_job.to_dataframe()"
      ],
      "metadata": {
        "id": "quY8Yj8sMR9o"
      },
      "execution_count": null,
      "outputs": []
    },
    {
      "cell_type": "markdown",
      "source": [
        "# Set GCP project id"
      ],
      "metadata": {
        "id": "Ba_FcIG9VDbV"
      }
    },
    {
      "cell_type": "code",
      "source": [
        "!gcloud config set project {project_id}"
      ],
      "metadata": {
        "colab": {
          "base_uri": "https://localhost:8080/"
        },
        "id": "LJsyvhTXPOL1",
        "outputId": "2f91d215-9a81-400b-dffc-d1aed5df2b3f"
      },
      "execution_count": null,
      "outputs": [
        {
          "output_type": "stream",
          "name": "stdout",
          "text": [
            "Updated property [core/project].\n"
          ]
        }
      ]
    },
    {
      "cell_type": "code",
      "source": [
        "# path_bq_table=f\"{bq_dataset_id}.{bq_quant_eval}\"\n",
        "# path_csv=\"quantEvalResults.csv\"\n",
        "# !bq load --source_format=CSV --project_id=$project_id \\\n",
        "# --autodetect=true $path_bq_table $path_csv"
      ],
      "metadata": {
        "id": "iVzpd-3aanpi"
      },
      "execution_count": null,
      "outputs": []
    },
    {
      "cell_type": "markdown",
      "source": [
        "# Process AI DICOM SEG"
      ],
      "metadata": {
        "id": "Z8uAWwMjxvZO"
      }
    },
    {
      "cell_type": "code",
      "source": [
        "for in_param in [ai_bigquery_params]:\n",
        "  print(f\"in_param :\")\n",
        "  for key,val in in_param.items():\n",
        "    print(f\"key : {key}\")\n",
        "    print(f\"val : {val}\")\n",
        "    print(\"...\")\n",
        "  tempOutDf = process_dicom_seg(in_param['inp_seg_table'])\n",
        "  out_table_id = in_param['out_seg_table_id']\n",
        "  client.delete_table(out_table_id, not_found_ok=True)  # Make an API request.\n",
        "  job = client.load_table_from_dataframe(tempOutDf, out_table_id)"
      ],
      "metadata": {
        "colab": {
          "base_uri": "https://localhost:8080/"
        },
        "id": "xmwo0T5D2CmX",
        "outputId": "0e585bb4-b22f-47e7-d0ea-3eb2b33b2387"
      },
      "execution_count": null,
      "outputs": [
        {
          "output_type": "stream",
          "name": "stdout",
          "text": [
            "in_param :\n",
            "key : inp_seg_table\n",
            "val : `idc-sandbox-003.prostate_seg_terra_mhub_v3_prostatex_inf_only.ai_dicom_seg_table`\n",
            "...\n",
            "key : out_seg_table_id\n",
            "val : idc-sandbox-003.prostate_seg_terra_mhub_v3_prostatex_inf_only.ai_processed_dicom_seg_table\n",
            "...\n",
            "key : out_seg_table\n",
            "val : `idc-sandbox-003.prostate_seg_terra_mhub_v3_prostatex_inf_only.ai_processed_dicom_seg_table`\n",
            "...\n",
            "key : inp_sr_table\n",
            "val : idc-sandbox-003.prostate_seg_terra_mhub_v3_prostatex_inf_only.ai_dicom_sr_table\n",
            "...\n",
            "key : out_table_id_measurement_groups\n",
            "val : idc-sandbox-003.prostate_seg_terra_mhub_v3_prostatex_inf_only.ai_processed_measurement_groups_sr_table\n",
            "...\n",
            "key : out_table_measurement_groups\n",
            "val : `idc-sandbox-003.prostate_seg_terra_mhub_v3_prostatex_inf_only.ai_processed_measurement_groups_sr_table`\n",
            "...\n",
            "key : out_table_id_quantitative_measurements\n",
            "val : idc-sandbox-003.prostate_seg_terra_mhub_v3_prostatex_inf_only.ai_processed_quantitative_measurements_sr_table\n",
            "...\n",
            "key : out_table_quantitative_measurements\n",
            "val : `idc-sandbox-003.prostate_seg_terra_mhub_v3_prostatex_inf_only.ai_processed_quantitative_measurements_sr_table`\n",
            "...\n",
            "key : out_table_id_joined_all\n",
            "val : idc-sandbox-003.prostate_seg_terra_mhub_v3_prostatex_inf_only.ai_processed_seg_sr_eval_results_table\n",
            "...\n",
            "key : out_table_joined_all\n",
            "val : `idc-sandbox-003.prostate_seg_terra_mhub_v3_prostatex_inf_only.ai_processed_seg_sr_eval_results_table`\n",
            "...\n",
            "QueryJob<project=idc-sandbox-003, location=US, id=9d0327d1-02db-4464-9cdc-c9196a35f098>\n"
          ]
        },
        {
          "output_type": "stream",
          "name": "stderr",
          "text": [
            "/usr/local/lib/python3.10/dist-packages/google/cloud/bigquery/_pandas_helpers.py:570: UserWarning: Pyarrow could not determine the type of columns: SegmentedPropertyCategory, SegmentedPropertyType.\n",
            "  warnings.warn(\n"
          ]
        }
      ]
    },
    {
      "cell_type": "markdown",
      "source": [
        "# Process AI DICOM SR"
      ],
      "metadata": {
        "id": "w2HG-x5c9FTU"
      }
    },
    {
      "cell_type": "markdown",
      "source": [
        "## Generate measurement groups tables"
      ],
      "metadata": {
        "id": "wOZ9PTM2DoOf"
      }
    },
    {
      "cell_type": "code",
      "source": [
        "for in_param in [ai_bigquery_params]:\n",
        "  print(f\"in_param :\")\n",
        "  for key,val in in_param.items():\n",
        "    print(f\"key : {key}\")\n",
        "    print(f\"val : {val}\")\n",
        "    print(\"...\")\n",
        "  #get measurement_groups\n",
        "  tempOutDf = process_dicom_sr_measurement_groups(in_param['inp_sr_table'])\n",
        "  out_table_id = in_param['out_table_id_measurement_groups']\n",
        "  client.delete_table(out_table_id, not_found_ok=True)  # Make an API request.\n",
        "  job = client.load_table_from_dataframe(tempOutDf, out_table_id)"
      ],
      "metadata": {
        "colab": {
          "base_uri": "https://localhost:8080/"
        },
        "outputId": "d2d1b52f-83d4-433d-f83d-6e2f0cbbb3f6",
        "id": "m2kmz1yS9FTU"
      },
      "execution_count": null,
      "outputs": [
        {
          "output_type": "stream",
          "name": "stdout",
          "text": [
            "in_param :\n",
            "key : inp_seg_table\n",
            "val : `idc-sandbox-003.prostate_seg_terra_mhub_v3_prostatex_inf_only.ai_dicom_seg_table`\n",
            "...\n",
            "key : out_seg_table_id\n",
            "val : idc-sandbox-003.prostate_seg_terra_mhub_v3_prostatex_inf_only.ai_processed_dicom_seg_table\n",
            "...\n",
            "key : out_seg_table\n",
            "val : `idc-sandbox-003.prostate_seg_terra_mhub_v3_prostatex_inf_only.ai_processed_dicom_seg_table`\n",
            "...\n",
            "key : inp_sr_table\n",
            "val : idc-sandbox-003.prostate_seg_terra_mhub_v3_prostatex_inf_only.ai_dicom_sr_table\n",
            "...\n",
            "key : out_table_id_measurement_groups\n",
            "val : idc-sandbox-003.prostate_seg_terra_mhub_v3_prostatex_inf_only.ai_processed_measurement_groups_sr_table\n",
            "...\n",
            "key : out_table_measurement_groups\n",
            "val : `idc-sandbox-003.prostate_seg_terra_mhub_v3_prostatex_inf_only.ai_processed_measurement_groups_sr_table`\n",
            "...\n",
            "key : out_table_id_quantitative_measurements\n",
            "val : idc-sandbox-003.prostate_seg_terra_mhub_v3_prostatex_inf_only.ai_processed_quantitative_measurements_sr_table\n",
            "...\n",
            "key : out_table_quantitative_measurements\n",
            "val : `idc-sandbox-003.prostate_seg_terra_mhub_v3_prostatex_inf_only.ai_processed_quantitative_measurements_sr_table`\n",
            "...\n",
            "key : out_table_id_joined_all\n",
            "val : idc-sandbox-003.prostate_seg_terra_mhub_v3_prostatex_inf_only.ai_processed_seg_sr_eval_results_table\n",
            "...\n",
            "key : out_table_joined_all\n",
            "val : `idc-sandbox-003.prostate_seg_terra_mhub_v3_prostatex_inf_only.ai_processed_seg_sr_eval_results_table`\n",
            "...\n",
            "QueryJob<project=idc-sandbox-003, location=US, id=2674dd14-8483-4ae1-8e0c-e2e0541f86fd>\n"
          ]
        },
        {
          "output_type": "stream",
          "name": "stderr",
          "text": [
            "/usr/local/lib/python3.10/dist-packages/google/cloud/bigquery/_pandas_helpers.py:570: UserWarning: Pyarrow could not determine the type of columns: finding, findingSite, contentSequence.\n",
            "  warnings.warn(\n"
          ]
        }
      ]
    },
    {
      "cell_type": "markdown",
      "source": [
        "## Generate quantitative measurements tables"
      ],
      "metadata": {
        "id": "XoH9PdFeDrUH"
      }
    },
    {
      "cell_type": "code",
      "source": [
        "for in_param in [ai_bigquery_params]:\n",
        "  print(f\"in_param :\")\n",
        "  for key,val in in_param.items():\n",
        "    print(f\"key : {key}\")\n",
        "    print(f\"val : {val}\")\n",
        "    print(\"...\")\n",
        "  #get quantitative_measurements\n",
        "  tempOutDf = process_dicom_sr_quantitative_measurements(in_param['out_table_measurement_groups'])\n",
        "  out_table_id = in_param['out_table_id_quantitative_measurements']\n",
        "  client.delete_table(out_table_id, not_found_ok=True)  # Make an API request.\n",
        "  job = client.load_table_from_dataframe(tempOutDf, out_table_id)\n",
        "  print(\"\\n\")"
      ],
      "metadata": {
        "colab": {
          "base_uri": "https://localhost:8080/"
        },
        "id": "Z7N6zSBoDlw8",
        "outputId": "953b39c9-9f3a-4afc-d44f-3cf27442f45c"
      },
      "execution_count": null,
      "outputs": [
        {
          "output_type": "stream",
          "name": "stdout",
          "text": [
            "in_param :\n",
            "key : inp_seg_table\n",
            "val : `idc-sandbox-003.prostate_seg_terra_mhub_v3_prostatex_inf_only.ai_dicom_seg_table`\n",
            "...\n",
            "key : out_seg_table_id\n",
            "val : idc-sandbox-003.prostate_seg_terra_mhub_v3_prostatex_inf_only.ai_processed_dicom_seg_table\n",
            "...\n",
            "key : out_seg_table\n",
            "val : `idc-sandbox-003.prostate_seg_terra_mhub_v3_prostatex_inf_only.ai_processed_dicom_seg_table`\n",
            "...\n",
            "key : inp_sr_table\n",
            "val : idc-sandbox-003.prostate_seg_terra_mhub_v3_prostatex_inf_only.ai_dicom_sr_table\n",
            "...\n",
            "key : out_table_id_measurement_groups\n",
            "val : idc-sandbox-003.prostate_seg_terra_mhub_v3_prostatex_inf_only.ai_processed_measurement_groups_sr_table\n",
            "...\n",
            "key : out_table_measurement_groups\n",
            "val : `idc-sandbox-003.prostate_seg_terra_mhub_v3_prostatex_inf_only.ai_processed_measurement_groups_sr_table`\n",
            "...\n",
            "key : out_table_id_quantitative_measurements\n",
            "val : idc-sandbox-003.prostate_seg_terra_mhub_v3_prostatex_inf_only.ai_processed_quantitative_measurements_sr_table\n",
            "...\n",
            "key : out_table_quantitative_measurements\n",
            "val : `idc-sandbox-003.prostate_seg_terra_mhub_v3_prostatex_inf_only.ai_processed_quantitative_measurements_sr_table`\n",
            "...\n",
            "key : out_table_id_joined_all\n",
            "val : idc-sandbox-003.prostate_seg_terra_mhub_v3_prostatex_inf_only.ai_processed_seg_sr_eval_results_table\n",
            "...\n",
            "key : out_table_joined_all\n",
            "val : `idc-sandbox-003.prostate_seg_terra_mhub_v3_prostatex_inf_only.ai_processed_seg_sr_eval_results_table`\n",
            "...\n",
            "QueryJob<project=idc-sandbox-003, location=US, id=42377ef6-85bf-4daf-a59d-9c34f35219e6>\n"
          ]
        },
        {
          "output_type": "stream",
          "name": "stderr",
          "text": [
            "/usr/local/lib/python3.10/dist-packages/google/cloud/bigquery/_pandas_helpers.py:570: UserWarning: Pyarrow could not determine the type of columns: Quantity, Units, finding, findingSite.\n",
            "  warnings.warn(\n"
          ]
        },
        {
          "output_type": "stream",
          "name": "stdout",
          "text": [
            "\n",
            "\n"
          ]
        }
      ]
    },
    {
      "cell_type": "markdown",
      "source": [
        "# JOIN AI SEG/SR"
      ],
      "metadata": {
        "id": "FrTpdU-oEFvD"
      }
    },
    {
      "cell_type": "markdown",
      "source": [
        "## AI"
      ],
      "metadata": {
        "id": "DIcGwjk_gCrw"
      }
    },
    {
      "cell_type": "code",
      "source": [
        "tempOutDf = process_combine_ai_seg_sr_dicom_all_quant_results(inp_seg_table=ai_bigquery_params['out_seg_table'],\n",
        "                                          inp_sr_quant_meas_table=ai_bigquery_params['out_table_quantitative_measurements'])\n",
        "out_table_id = ai_bigquery_params['out_table_id_joined_all']\n",
        "client.delete_table(out_table_id, not_found_ok=True)  # Make an API request.\n",
        "job = client.load_table_from_dataframe(tempOutDf, out_table_id)"
      ],
      "metadata": {
        "colab": {
          "base_uri": "https://localhost:8080/"
        },
        "id": "5JdNP4UCPCaJ",
        "outputId": "c84897db-88ea-43a3-f88c-db6622b50fb0"
      },
      "execution_count": null,
      "outputs": [
        {
          "output_type": "stream",
          "name": "stdout",
          "text": [
            "QueryJob<project=idc-sandbox-003, location=US, id=4dc161b8-0d17-449a-aea3-90059212bd72>\n"
          ]
        },
        {
          "output_type": "stream",
          "name": "stderr",
          "text": [
            "/usr/local/lib/python3.10/dist-packages/google/cloud/bigquery/_pandas_helpers.py:570: UserWarning: Pyarrow could not determine the type of columns: Quantity, Units, finding, findingSite, SegmentedPropertyCategory, SegmentedPropertyType, image_EchoPulseSequence, image_EchoPlanarPulseSequence, image_FieldOfViewDimensions, image_FieldOfViewShape, image_ReceiveCoilType, image_ReceiveCoilName, image_GradientOutputType, image_FrequencyCorrection, image_InversionTime.\n",
            "  warnings.warn(\n"
          ]
        }
      ]
    }
  ]
}