{
  "nbformat": 4,
  "nbformat_minor": 0,
  "metadata": {
    "colab": {
      "provenance": [],
      "toc_visible": true
    },
    "kernelspec": {
      "name": "python3",
      "display_name": "Python 3"
    },
    "language_info": {
      "name": "python"
    }
  },
  "cells": [
    {
      "cell_type": "code",
      "source": [
        "# !pip install pandas_gbq"
      ],
      "metadata": {
        "id": "qCj7OJCX3JWq"
      },
      "execution_count": null,
      "outputs": []
    },
    {
      "cell_type": "code",
      "execution_count": null,
      "metadata": {
        "id": "26fmqQrUYsPp"
      },
      "outputs": [],
      "source": [
        "import os\n",
        "import pandas as pd\n",
        "# import pandas_gbq"
      ]
    },
    {
      "cell_type": "code",
      "source": [
        "from google.colab import auth\n",
        "auth.authenticate_user()"
      ],
      "metadata": {
        "id": "nyKq7_4FY_kZ"
      },
      "execution_count": null,
      "outputs": []
    },
    {
      "cell_type": "code",
      "source": [
        "from google.cloud import bigquery"
      ],
      "metadata": {
        "id": "s7qr7FFcqEDe"
      },
      "execution_count": null,
      "outputs": []
    },
    {
      "cell_type": "markdown",
      "source": [
        "## GCP/GCS variables definition"
      ],
      "metadata": {
        "id": "8HVcPy54RrNF"
      }
    },
    {
      "cell_type": "code",
      "source": [
        "#@title Global parameters\n",
        "project_id = \"idc-sandbox-003\" #@param{type:\"string\"}\n",
        "location=\"us\" #@param{type:\"string\"}\n",
        "\n",
        "#used for construction viewer urls\n",
        "dicom_dataset_id = \"prostate_seg_terra_mhub_v3_sitk_res_dataset\" #@param{type:\"string\"}\n",
        "ai_dicom_seg_store=\"aiDicomSegDicomStore\" #@param{type:\"string\"}"
      ],
      "metadata": {
        "id": "SK-Nfi6CePM_"
      },
      "execution_count": null,
      "outputs": []
    },
    {
      "cell_type": "code",
      "source": [
        "#@title BigQuery\n",
        "bq_dataset_id = \"prostate_seg_terra_mhub_v3_sitk_res\" #@param{type:\"string\"}\n",
        "\n",
        "#raw DICOM metadata tables extracted from DICOM stores\n",
        "bq_ai_dicom_seg = \"ai_dicom_seg_table\" #@param{type:\"string\"}\n",
        "bq_ai_dicom_sr = \"ai_dicom_sr_table\" #@param{type:\"string\"}\n",
        "bq_idc_dicom_seg = \"idc_dicom_seg_table\" #@param{type:\"string\"}\n",
        "bq_idc_dicom_sr = \"idc_dicom_sr_table\" #@param{type:\"string\"}\n",
        "bq_quant_eval_id = \"quantitative_results_table\" #@param{type:\"string\"}\n",
        "\n",
        "#AI tables\n",
        "bq_processed_ai_dicom_seg = \"ai_processed_dicom_seg_table\" #@param{type:\"string\"}\n",
        "bq_processed_ai_dicom_meas_grps_sr = \"ai_processed_measurement_groups_sr_table\" #@param{type:\"string\"}\n",
        "bq_processed_ai_dicom_quant_meas_sr = \"ai_processed_quantitative_measurements_sr_table\" #@param{type:\"string\"}\n",
        "bq_processed_ai_joined_all = \"ai_processed_seg_sr_eval_results_table\"\n",
        "\n",
        "#IDC expert tables\n",
        "bq_processed_idc_dicom_seg = \"idc_processed_dicom_seg_table\" #@param{type:\"string\"}\n",
        "bq_processed_idc_dicom_meas_grps_sr = \"idc_processed_measurement_groups_sr_table\" #@param{type:\"string\"}\n",
        "bq_processed_idc_dicom_quant_meas_sr = \"idc_processed_quantitative_measurements_sr_table\"\n",
        "bq_processed_idc_joined_all = \"idc_processed_seg_sr_eval_results_table\"\n",
        "\n",
        "#everything joined together, IDC/AI/Eval SEG/SR\n",
        "bq_processed_final_table = f\"{project_id}.{bq_dataset_id}.final_table\""
      ],
      "metadata": {
        "id": "XscDm9PN8khb"
      },
      "execution_count": null,
      "outputs": []
    },
    {
      "cell_type": "code",
      "source": [
        "ai_bigquery_params = {\n",
        "  \"inp_seg_table\": f\"`{project_id}.{bq_dataset_id}.{bq_ai_dicom_seg}`\",\n",
        "  \"out_seg_table_id\": f\"{project_id}.{bq_dataset_id}.{bq_processed_ai_dicom_seg}\",\n",
        "  \"out_seg_table\": f\"`{project_id}.{bq_dataset_id}.{bq_processed_ai_dicom_seg}`\",\n",
        "  \"inp_sr_table\": f\"{project_id}.{bq_dataset_id}.{bq_ai_dicom_sr}\",\n",
        "  \"out_table_id_measurement_groups\": f\"{project_id}.{bq_dataset_id}.{bq_processed_ai_dicom_meas_grps_sr}\",\n",
        "  \"out_table_measurement_groups\": f\"`{project_id}.{bq_dataset_id}.{bq_processed_ai_dicom_meas_grps_sr}`\",\n",
        "  \"out_table_id_quantitative_measurements\": f\"{project_id}.{bq_dataset_id}.{bq_processed_ai_dicom_quant_meas_sr}\",\n",
        "  \"out_table_quantitative_measurements\": f\"`{project_id}.{bq_dataset_id}.{bq_processed_ai_dicom_quant_meas_sr}`\",\n",
        "  \"out_table_id_joined_all\": f\"{project_id}.{bq_dataset_id}.{bq_processed_ai_joined_all}\",\n",
        "  \"out_table_joined_all\": f\"`{project_id}.{bq_dataset_id}.{bq_processed_ai_joined_all}`\",\n",
        "  \"quant_eval_table\": f\"`{project_id}.{bq_dataset_id}.{bq_quant_eval_id}`\"\n",
        "  }\n",
        "\n",
        "idc_expert_bigquery_params = {\n",
        "  \"inp_seg_table\": f\"{project_id}.{bq_dataset_id}.{bq_idc_dicom_seg}\",\n",
        "  \"out_seg_table_id\": f\"{project_id}.{bq_dataset_id}.{bq_processed_idc_dicom_seg}\",\n",
        "  \"out_seg_table\": f\"`{project_id}.{bq_dataset_id}.{bq_processed_idc_dicom_seg}`\",\n",
        "  \"inp_sr_table\": f\"{project_id}.{bq_dataset_id}.{bq_idc_dicom_sr}\",\n",
        "  \"out_table_id_measurement_groups\": f\"{project_id}.{bq_dataset_id}.{bq_processed_idc_dicom_meas_grps_sr}\",\n",
        "  \"out_table_measurement_groups\": f\"`{project_id}.{bq_dataset_id}.{bq_processed_idc_dicom_meas_grps_sr}`\",\n",
        "  \"out_table_id_quantitative_measurements\": f\"{project_id}.{bq_dataset_id}.{bq_processed_idc_dicom_quant_meas_sr}\",\n",
        "  \"out_table_quantitative_measurements\": f\"`{project_id}.{bq_dataset_id}.{bq_processed_idc_dicom_quant_meas_sr}`\",\n",
        "  \"out_table_id_joined_all\": f\"{project_id}.{bq_dataset_id}.{bq_processed_idc_joined_all}\",\n",
        "  \"out_table_joined_all\": f\"`{project_id}.{bq_dataset_id}.{bq_processed_idc_joined_all}`\",\n",
        "  \"quant_eval_table\": f\"`{project_id}.{bq_dataset_id}.{bq_quant_eval_id}`\"\n",
        "  }"
      ],
      "metadata": {
        "id": "Lqt46kquaVsn"
      },
      "execution_count": null,
      "outputs": []
    },
    {
      "cell_type": "code",
      "source": [
        "# Construct a BigQuery client object.\n",
        "client = bigquery.Client(project=project_id)"
      ],
      "metadata": {
        "id": "4kc-lhB3qIZu"
      },
      "execution_count": null,
      "outputs": []
    },
    {
      "cell_type": "markdown",
      "source": [
        "# Functions for processing"
      ],
      "metadata": {
        "id": "uCd_EcUY2MDc"
      }
    },
    {
      "cell_type": "markdown",
      "source": [
        "## DICOM SEG processing"
      ],
      "metadata": {
        "id": "kcjKpQXG2OwF"
      }
    },
    {
      "cell_type": "code",
      "source": [
        "def process_dicom_seg(inp_dicom_raw_table):\n",
        "  query = f\"\"\"\n",
        "  WITH\n",
        "    segmentations AS (\n",
        "    WITH\n",
        "      segs AS (\n",
        "      SELECT\n",
        "        PatientID,\n",
        "        StudyInstanceUID,\n",
        "        SeriesInstanceUID,\n",
        "        SOPInstanceUID,\n",
        "        FrameOfReferenceUID,\n",
        "        SegmentSequence\n",
        "      FROM\n",
        "        {inp_dicom_raw_table}\n",
        "      WHERE\n",
        "        # more reliable than Modality = \"SEG\"\n",
        "        SOPClassUID = '1.2.840.10008.5.1.4.1.1.66.4')\n",
        "    SELECT\n",
        "      PatientID,\n",
        "      StudyInstanceUID,\n",
        "      SeriesInstanceUID,\n",
        "      SOPInstanceUID,\n",
        "      FrameOfReferenceUID,\n",
        "\n",
        "      CASE ARRAY_LENGTH(unnested.SegmentedPropertyCategoryCodeSequence)\n",
        "        WHEN 0 THEN NULL\n",
        "      ELSE\n",
        "      unnested.SegmentedPropertyCategoryCodeSequence [\n",
        "    OFFSET\n",
        "      (0)]\n",
        "    END\n",
        "      AS SegmentedPropertyCategory,\n",
        "      CASE ARRAY_LENGTH(unnested.SegmentedPropertyTypeCodeSequence)\n",
        "        WHEN 0 THEN NULL\n",
        "      ELSE\n",
        "      unnested.SegmentedPropertyTypeCodeSequence [\n",
        "    OFFSET\n",
        "      (0)]\n",
        "    END\n",
        "      AS SegmentedPropertyType,\n",
        "      unnested.SegmentAlgorithmType,\n",
        "      unnested.SegmentAlgorithmName,\n",
        "      unnested.SegmentNumber,\n",
        "    FROM\n",
        "      segs\n",
        "    CROSS JOIN\n",
        "      UNNEST(SegmentSequence) AS unnested),\n",
        "    sampled_sops AS (\n",
        "    SELECT\n",
        "      SOPInstanceUID AS seg_SOPInstanceUID,\n",
        "      ReferencedSeriesSequence[SAFE_OFFSET(0)].ReferencedInstanceSequence[SAFE_OFFSET(0)].ReferencedSOPInstanceUID AS rss_one\n",
        "    FROM\n",
        "      {inp_dicom_raw_table}\n",
        "    WHERE\n",
        "      Modality=\"SEG\"\n",
        "      AND SOPClassUID = '1.2.840.10008.5.1.4.1.1.66.4'),\n",
        "    coalesced_ref AS (\n",
        "    SELECT\n",
        "      *,\n",
        "      rss_one AS referenced_sop\n",
        "    FROM\n",
        "      sampled_sops)\n",
        "  SELECT\n",
        "    segmentations.*,\n",
        "    dicom_all.SeriesInstanceUID AS segmented_SeriesInstanceUID\n",
        "  FROM\n",
        "    coalesced_ref\n",
        "  JOIN\n",
        "    `bigquery-public-data.idc_current.dicom_all` AS dicom_all\n",
        "  ON\n",
        "    coalesced_ref.referenced_sop = dicom_all.SOPInstanceUID\n",
        "  RIGHT JOIN\n",
        "    segmentations\n",
        "  ON\n",
        "    segmentations.SOPInstanceUID = coalesced_ref.seg_SOPInstanceUID\n",
        "  \"\"\"\n",
        "  job_config = bigquery.QueryJobConfig(\n",
        "      query_parameters=[]\n",
        "  )\n",
        "  query_job = client.query(query, job_config=job_config)\n",
        "  print(query_job)\n",
        "  return query_job.to_dataframe()"
      ],
      "metadata": {
        "id": "fZX2Xzn2rHYr"
      },
      "execution_count": null,
      "outputs": []
    },
    {
      "cell_type": "markdown",
      "source": [
        "## DICOM SR processing"
      ],
      "metadata": {
        "id": "EKZyfVkf2SiD"
      }
    },
    {
      "cell_type": "code",
      "source": [
        "def process_dicom_sr_measurement_groups(inp_dicom_raw_table):\n",
        "  query = f\"\"\"\n",
        "  WITH\n",
        "  measurementGroups AS (\n",
        "  WITH\n",
        "    contentSequenceLevel1 AS (\n",
        "    WITH\n",
        "      structuredReports AS (\n",
        "      SELECT\n",
        "        PatientID,\n",
        "        SOPInstanceUID,\n",
        "        SeriesDescription,\n",
        "        ContentSequence\n",
        "      FROM\n",
        "        {inp_dicom_raw_table}\n",
        "      WHERE\n",
        "        ( SOPClassUID = \"1.2.840.10008.5.1.4.1.1.88.11\"\n",
        "          OR SOPClassUID = \"1.2.840.10008.5.1.4.1.1.88.22\"\n",
        "          OR SOPClassUID = \"1.2.840.10008.5.1.4.1.1.88.33\"\n",
        "          OR SOPClassUID = \"1.2.840.10008.5.1.4.1.1.88.34\"\n",
        "          OR SOPClassUID = \"1.2.840.10008.5.1.4.1.1.88.35\" )\n",
        "        AND ARRAY_LENGTH(ContentTemplateSequence) <> 0\n",
        "        AND ContentTemplateSequence [\n",
        "      OFFSET\n",
        "        (0)].TemplateIdentifier = \"1500\"\n",
        "        AND ContentTemplateSequence [\n",
        "      OFFSET\n",
        "        (0)].MappingResource = \"DCMR\" )\n",
        "    SELECT\n",
        "      PatientID,\n",
        "      SOPInstanceUID,\n",
        "      SeriesDescription,\n",
        "      contentSequence\n",
        "    FROM\n",
        "      structuredReports\n",
        "    CROSS JOIN\n",
        "      UNNEST(ContentSequence) AS contentSequence )\n",
        "  SELECT\n",
        "    PatientID,\n",
        "    SOPInstanceUID,\n",
        "    SeriesDescription,\n",
        "    contentSequence,\n",
        "    measurementGroup_number\n",
        "  FROM\n",
        "    contentSequenceLevel1\n",
        "  CROSS JOIN\n",
        "    UNNEST (contentSequence.ContentSequence) AS contentSequence\n",
        "  WITH\n",
        "  OFFSET\n",
        "    AS measurementGroup_number\n",
        "  WHERE\n",
        "    contentSequence.ValueType = \"CONTAINER\"\n",
        "    AND contentSequence.ConceptNameCodeSequence [\n",
        "  OFFSET\n",
        "    (0)].CodeMeaning = \"Measurement Group\" ),\n",
        "  measurementGroups_withTrackingID AS (\n",
        "  SELECT\n",
        "    SOPInstanceUID,\n",
        "    PatientID,\n",
        "    SeriesDescription,\n",
        "    measurementGroup_number,\n",
        "    unnestedContentSequence.TextValue AS trackingIdentifier,\n",
        "    measurementGroups.contentSequence\n",
        "  FROM\n",
        "    measurementGroups\n",
        "  CROSS JOIN\n",
        "    UNNEST(contentSequence.ContentSequence) AS unnestedContentSequence\n",
        "  WHERE\n",
        "    unnestedContentSequence.ValueType = \"TEXT\"\n",
        "    AND ( unnestedContentSequence.ConceptNameCodeSequence [\n",
        "    OFFSET\n",
        "      (0)].CodeValue = \"112039\"\n",
        "      AND unnestedContentSequence.ConceptNameCodeSequence [\n",
        "    OFFSET\n",
        "      (0)].CodingSchemeDesignator = \"DCM\" ) ),\n",
        "  measurementGroups_withTrackingUID AS (\n",
        "  SELECT\n",
        "    SOPInstanceUID,\n",
        "    measurementGroup_number,\n",
        "    unnestedContentSequence.UID AS trackingUniqueIdentifier\n",
        "  FROM\n",
        "    measurementGroups\n",
        "  CROSS JOIN\n",
        "    UNNEST(contentSequence.ContentSequence) AS unnestedContentSequence\n",
        "  WHERE\n",
        "    unnestedContentSequence.ValueType = \"UIDREF\"\n",
        "    AND ( unnestedContentSequence.ConceptNameCodeSequence [\n",
        "    OFFSET\n",
        "      (0)].CodeValue = \"112040\"\n",
        "      AND unnestedContentSequence.ConceptNameCodeSequence [\n",
        "    OFFSET\n",
        "      (0)].CodingSchemeDesignator = \"DCM\" ) ),\n",
        "  measurementGroups_withSegmentation AS (\n",
        "  SELECT\n",
        "    SOPInstanceUID,\n",
        "    measurementGroup_number,\n",
        "    unnestedContentSequence.ReferencedSOPSequence[\n",
        "  OFFSET\n",
        "    (0)].ReferencedSOPInstanceUID AS segmentationInstanceUID,\n",
        "    unnestedContentSequence.ReferencedSOPSequence[\n",
        "  OFFSET\n",
        "    (0)].ReferencedSegmentNumber AS segmentationSegmentNumber\n",
        "  FROM\n",
        "    measurementGroups\n",
        "  CROSS JOIN\n",
        "    UNNEST(contentSequence.ContentSequence) AS unnestedContentSequence\n",
        "  WHERE\n",
        "    unnestedContentSequence.ValueType = \"IMAGE\"\n",
        "    AND unnestedContentSequence.ReferencedSOPSequence[\n",
        "  OFFSET\n",
        "    (0)].ReferencedSOPClassUID = \"1.2.840.10008.5.1.4.1.1.66.4\" ),\n",
        "  measurementGroups_withSourceSeries AS (\n",
        "  SELECT\n",
        "    SOPInstanceUID,\n",
        "    measurementGroup_number,\n",
        "    unnestedContentSequence.UID AS sourceSegmentedSeriesUID\n",
        "  FROM\n",
        "    measurementGroups\n",
        "  CROSS JOIN\n",
        "    UNNEST(contentSequence.ContentSequence) AS unnestedContentSequence\n",
        "  WHERE\n",
        "    unnestedContentSequence.ValueType = \"UIDREF\"\n",
        "    AND ( unnestedContentSequence.ConceptNameCodeSequence [\n",
        "    OFFSET\n",
        "      (0)].CodeValue = \"121232\"\n",
        "      AND unnestedContentSequence.ConceptNameCodeSequence [\n",
        "    OFFSET\n",
        "      (0)].CodingSchemeDesignator = \"DCM\" ) ),\n",
        "  measurementGroups_withFinding AS (\n",
        "  SELECT\n",
        "    SOPInstanceUID,\n",
        "    measurementGroup_number,\n",
        "    unnestedContentSequence.ConceptCodeSequence [\n",
        "  OFFSET\n",
        "    (0)] AS finding\n",
        "  FROM\n",
        "    measurementGroups\n",
        "  CROSS JOIN\n",
        "    UNNEST(contentSequence.ContentSequence) AS unnestedContentSequence\n",
        "  WHERE\n",
        "    unnestedContentSequence.ValueType = \"CODE\"\n",
        "    AND ( unnestedContentSequence.ConceptNameCodeSequence [\n",
        "    OFFSET\n",
        "      (0)].CodeValue = \"121071\"\n",
        "      AND unnestedContentSequence.ConceptNameCodeSequence [\n",
        "    OFFSET\n",
        "      (0)].CodingSchemeDesignator = \"DCM\" ) ),\n",
        "  measurementGroups_withFindingSite AS (\n",
        "  SELECT\n",
        "    SOPInstanceUID,\n",
        "    measurementGroup_number,\n",
        "    unnestedContentSequence.ConceptCodeSequence [\n",
        "  OFFSET\n",
        "    (0)] AS findingSite\n",
        "  FROM\n",
        "    measurementGroups\n",
        "  CROSS JOIN\n",
        "    UNNEST(contentSequence.ContentSequence) AS unnestedContentSequence\n",
        "  WHERE\n",
        "    unnestedContentSequence.ValueType = \"CODE\"\n",
        "\t  AND ( (unnestedContentSequence.ConceptNameCodeSequence [\n",
        "\tOFFSET\n",
        "\t  (0)].CodeValue = \"G-C0E3\"\n",
        "\t  AND unnestedContentSequence.ConceptNameCodeSequence [\n",
        "\tOFFSET\n",
        "\t  (0)].CodingSchemeDesignator = \"SRT\" ) OR\n",
        "\t\t   (unnestedContentSequence.ConceptNameCodeSequence [\n",
        "\tOFFSET\n",
        "\t  (0)].CodeValue = \"363698007\"\n",
        "\t  AND unnestedContentSequence.ConceptNameCodeSequence [\n",
        "\tOFFSET\n",
        "\t  (0)].CodingSchemeDesignator = \"SCT\" ) ) )\n",
        "\n",
        "SELECT\n",
        "  mWithUID.SOPInstanceUID,\n",
        "  mWithUID.measurementGroup_number,\n",
        "  mWithUID.trackingUniqueIdentifier,\n",
        "  mWithID.trackingIdentifier,\n",
        "  mWithID.PatientID,\n",
        "  mWithID.SeriesDescription,\n",
        "  mWithFinding.finding,\n",
        "  mWithFindingSite.findingSite,\n",
        "  mWithSourceSeries.sourceSegmentedSeriesUID,\n",
        "  mWithSegmentation.segmentationInstanceUID,\n",
        "  mWithSegmentation.segmentationSegmentNumber,\n",
        "  mWithID.contentSequence\n",
        "FROM\n",
        "  measurementGroups_withTrackingUID AS mWithUID\n",
        "JOIN\n",
        "  measurementGroups_withTrackingID AS mWithID\n",
        "  ---\n",
        "ON\n",
        "  mWithID.SOPInstanceUID = mWithUID.SOPInstanceUID\n",
        "  AND mWithID.measurementGroup_number = mWithUID.measurementGroup_number\n",
        "JOIN\n",
        "  measurementGroups_withFinding AS mWithFinding\n",
        "ON\n",
        "  mWithID.SOPInstanceUID = mWithFinding.SOPInstanceUID\n",
        "  AND mWithID.measurementGroup_number = mWithFinding.measurementGroup_number\n",
        "JOIN\n",
        "  measurementGroups_withFindingSite AS mWithFindingSite\n",
        "ON\n",
        "  mWithID.SOPInstanceUID = mWithFindingSite.SOPInstanceUID\n",
        "  AND mWithID.measurementGroup_number = mWithFindingSite.measurementGroup_number\n",
        "JOIN\n",
        "  measurementGroups_withSourceSeries AS mWithSourceSeries\n",
        "ON\n",
        "  mWithID.SOPInstanceUID = mWithSourceSeries.SOPInstanceUID\n",
        "  AND mWithID.measurementGroup_number = mWithSourceSeries.measurementGroup_number\n",
        "JOIN\n",
        "  measurementGroups_withSegmentation AS mWithSegmentation\n",
        "ON\n",
        "  mWithID.SOPInstanceUID = mWithSegmentation.SOPInstanceUID\n",
        "  AND mWithID.measurementGroup_number = mWithSegmentation.measurementGroup_number\n",
        "  ---\n",
        "ORDER BY\n",
        "  trackingUniqueIdentifier\n",
        "  \"\"\"\n",
        "  job_config = bigquery.QueryJobConfig(\n",
        "      query_parameters=[]\n",
        "  )\n",
        "  query_job = client.query(query, job_config=job_config)\n",
        "  print(query_job)\n",
        "  return query_job.to_dataframe()"
      ],
      "metadata": {
        "id": "Ee0E14JzraSL"
      },
      "execution_count": null,
      "outputs": []
    },
    {
      "cell_type": "code",
      "source": [
        "def process_dicom_sr_quantitative_measurements(inp_dicom_raw_table):\n",
        "  query = f\"\"\"\n",
        "  WITH\n",
        "    ---\n",
        "    contentSequenceLevel3numeric AS (\n",
        "    SELECT\n",
        "      PatientID,\n",
        "      SOPInstanceUID,\n",
        "    SeriesDescription,\n",
        "      measurementGroup_number,\n",
        "      segmentationInstanceUID,\n",
        "      segmentationSegmentNumber,\n",
        "      sourceSegmentedSeriesUID,\n",
        "      trackingIdentifier,\n",
        "      trackingUniqueIdentifier,\n",
        "      contentSequence.ConceptNameCodeSequence [\n",
        "    SAFE_OFFSET\n",
        "      (0)] AS ConceptNameCodeSequence,\n",
        "      contentSequence.MeasuredValueSequence [\n",
        "    SAFE_OFFSET\n",
        "      (0)] AS MeasuredValueSequence,\n",
        "      contentSequence.MeasuredValueSequence [\n",
        "    SAFE_OFFSET\n",
        "      (0)].MeasurementUnitsCodeSequence [\n",
        "    SAFE_OFFSET\n",
        "      (0)] AS MeasurementUnits,\n",
        "      contentSequence.ContentSequence\n",
        "    FROM\n",
        "      {inp_dicom_raw_table}\n",
        "    CROSS JOIN\n",
        "      UNNEST (contentSequence.ContentSequence) AS contentSequence\n",
        "    WHERE\n",
        "      contentSequence.ValueType = \"NUM\" ),\n",
        "    ---\n",
        "    contentSequenceLevel3codes AS (\n",
        "    SELECT\n",
        "      PatientID,\n",
        "      SOPInstanceUID,\n",
        "    SeriesDescription,\n",
        "      measurementGroup_number,\n",
        "      segmentationInstanceUID,\n",
        "      segmentationSegmentNumber,\n",
        "      sourceSegmentedSeriesUID,\n",
        "      trackingIdentifier,\n",
        "      trackingUniqueIdentifier,\n",
        "      contentSequence.ConceptNameCodeSequence [\n",
        "    SAFE_OFFSET\n",
        "      (0)] AS ConceptNameCodeSequence,\n",
        "      contentSequence.ConceptCodeSequence [\n",
        "    SAFE_OFFSET\n",
        "      (0)] AS ConceptCodeSequence\n",
        "    FROM\n",
        "      {inp_dicom_raw_table}\n",
        "    CROSS JOIN\n",
        "      UNNEST (contentSequence.ContentSequence) AS contentSequence\n",
        "    WHERE\n",
        "      contentSequence.ValueType = \"CODE\" ),\n",
        "    ---\n",
        "    contentSequenceLevel3uidrefs AS (\n",
        "    SELECT\n",
        "      contentSequence.ConceptNameCodeSequence [\n",
        "    SAFE_OFFSET\n",
        "      (0)] AS ConceptNameCodeSequence,\n",
        "      contentSequence.ConceptCodeSequence [\n",
        "    SAFE_OFFSET\n",
        "      (0)] AS ConceptCodeSequence,\n",
        "      measurementGroup_number\n",
        "    FROM\n",
        "      {inp_dicom_raw_table}\n",
        "    CROSS JOIN\n",
        "      UNNEST (contentSequence.ContentSequence) AS contentSequence\n",
        "    WHERE\n",
        "      contentSequence.ValueType = \"UIDREF\"\n",
        "      AND ConceptCodeSequence [\n",
        "    SAFE_OFFSET\n",
        "      (0)].CodeMeaning = \"Tracking Unique Identifier\" ),\n",
        "    ---\n",
        "    findings AS (\n",
        "    SELECT\n",
        "      PatientID,\n",
        "      SOPInstanceUID,\n",
        "    SeriesDescription,\n",
        "      ConceptCodeSequence AS finding,\n",
        "      measurementGroup_number,\n",
        "      segmentationInstanceUID,\n",
        "      segmentationSegmentNumber,\n",
        "      sourceSegmentedSeriesUID,\n",
        "      trackingIdentifier,\n",
        "      trackingUniqueIdentifier,\n",
        "    FROM\n",
        "      contentSequenceLevel3codes\n",
        "    WHERE\n",
        "      ConceptNameCodeSequence.CodeValue = \"121071\"\n",
        "      AND ConceptNameCodeSequence.CodingSchemeDesignator = \"DCM\" ),\n",
        "    ---\n",
        "    findingSites AS (\n",
        "    SELECT\n",
        "      PatientID,\n",
        "      SOPInstanceUID,\n",
        "    SeriesDescription,\n",
        "      ConceptCodeSequence AS findingSite,\n",
        "      measurementGroup_number\n",
        "    FROM\n",
        "      contentSequenceLevel3codes\n",
        "    WHERE\n",
        "      (ConceptNameCodeSequence.CodeValue = \"G-C0E3\"\n",
        "      AND ConceptNameCodeSequence.CodingSchemeDesignator = \"SRT\" ) OR\n",
        "      (ConceptNameCodeSequence.CodeValue = \"363698007\"\n",
        "      AND ConceptNameCodeSequence.CodingSchemeDesignator = \"SCT\" ) ),\n",
        "    ---\n",
        "    findingsAndFindingSites AS (\n",
        "    SELECT\n",
        "      findings.PatientID,\n",
        "      findings.SOPInstanceUID,\n",
        "    findings.SeriesDescription,\n",
        "      findings.finding,\n",
        "      findingSites.findingSite,\n",
        "      findingSites.measurementGroup_number,\n",
        "      findings.segmentationInstanceUID,\n",
        "      findings.segmentationSegmentNumber,\n",
        "      findings.sourceSegmentedSeriesUID,\n",
        "      findings.trackingIdentifier,\n",
        "      findings.trackingUniqueIdentifier\n",
        "    FROM\n",
        "      findings\n",
        "    JOIN\n",
        "      findingSites\n",
        "    ON\n",
        "      findings.SOPInstanceUID = findingSites.SOPInstanceUID\n",
        "      AND findings.measurementGroup_number = findingSites.measurementGroup_number ) ---\n",
        "    # correctness check: the below should result in 11 rows (this is how many segments/measurement\n",
        "      # groups are there for each QIN-HEADNCK-01-0139 segmentation\n",
        "      #SELECT\n",
        "      #  *\n",
        "      #FROM\n",
        "      #  findingsAndFindingSites\n",
        "      #WHERE\n",
        "      #  SOPInstanceUID = \"1.2.276.0.7230010.3.1.4.8323329.18336.1440004659.731760\"\n",
        "      ---\n",
        "    SELECT\n",
        "      contentSequenceLevel3numeric.PatientID,\n",
        "      contentSequenceLevel3numeric.SOPInstanceUID,\n",
        "    contentSequenceLevel3numeric.SeriesDescription,\n",
        "      contentSequenceLevel3numeric.measurementGroup_number,\n",
        "      findingsAndFindingSites.segmentationInstanceUID,\n",
        "      findingsAndFindingSites.segmentationSegmentNumber,\n",
        "      findingsAndFindingSites.sourceSegmentedSeriesUID,\n",
        "      findingsAndFindingSites.trackingIdentifier,\n",
        "      findingsAndFindingSites.trackingUniqueIdentifier,\n",
        "      contentSequenceLevel3numeric.ConceptNameCodeSequence AS Quantity,\n",
        "\n",
        "      SAFE_CAST( contentSequenceLevel3numeric.MeasuredValueSequence.NumericValue [\n",
        "      SAFE_OFFSET\n",
        "        (0)] AS NUMERIC ) AS Value,\n",
        "      contentSequenceLevel3numeric.MeasurementUnits AS Units,\n",
        "      findingsAndFindingSites.finding,\n",
        "      findingsAndFindingSites.findingSite\n",
        "    FROM\n",
        "      contentSequenceLevel3numeric\n",
        "    JOIN\n",
        "      findingsAndFindingSites\n",
        "    ON\n",
        "      contentSequenceLevel3numeric.SOPInstanceUID = findingsAndFindingSites.SOPInstanceUID\n",
        "      AND contentSequenceLevel3numeric.measurementGroup_number = findingsAndFindingSites.measurementGroup_number ---\n",
        "      # correctness check: for this patient, there should be 12 rows: 4 segmented nodules, with 3 numeric evaluations for each\n",
        "      #WHERE\n",
        "      #  contentSequenceLevel3numeric.PatientID = \"LIDC-IDRI-0001\"\n",
        "      ---\n",
        "      # correctness check: for this specific instance, there should be 238 rows (11 segments)\n",
        "      #WHERE\n",
        "      #  contentSequenceLevel3numeric.SOPInstanceUID = \"1.2.276.0.7230010.3.1.4.8323329.18336.1440004659.731760\"\n",
        "      #where contentSequenceLevel3numeric.PatientID LIKE \"%QIN%\"\n",
        "    \"\"\"\n",
        "  job_config = bigquery.QueryJobConfig(\n",
        "      query_parameters=[]\n",
        "  )\n",
        "  query_job = client.query(query, job_config=job_config)\n",
        "  print(query_job)\n",
        "  return query_job.to_dataframe()"
      ],
      "metadata": {
        "id": "yRhPltarsoOn"
      },
      "execution_count": null,
      "outputs": []
    },
    {
      "cell_type": "markdown",
      "source": [
        "## Combine AI SEG+SR data with quantitative eval results"
      ],
      "metadata": {
        "id": "bzdyQp4bGJjd"
      }
    },
    {
      "cell_type": "code",
      "source": [
        "def process_combine_ai_seg_sr_dicom_all_quant_results(inp_seg_table,\n",
        "                                            inp_sr_quant_meas_table,\n",
        "                                            inp_eval_table):\n",
        "  query = f\"\"\"\n",
        "  WITH\n",
        "    temp_result AS (\n",
        "    SELECT\n",
        "      measurements.* EXCEPT(PatientID, SOPInstanceUID),\n",
        "      segmentations.* EXCEPT(PatientID, SOPInstanceUID),\n",
        "      measurements.SOPInstanceUID as measurements_SOPInstanceUID,\n",
        "      segmentations.SOPInstanceUID as segmentations_SOPInstanceUID,\n",
        "      metrics.*,\n",
        "      dicom_all.collection_id AS collection_id,\n",
        "      dicom_all.* EXCEPT(collection_id)\n",
        "    FROM\n",
        "      {inp_sr_quant_meas_table} AS measurements\n",
        "    RIGHT JOIN\n",
        "      {inp_seg_table} AS segmentations\n",
        "    ON\n",
        "      measurements.segmentationInstanceUID = segmentations.SOPInstanceUID\n",
        "      AND measurements.segmentationSegmentNumber[SAFE_OFFSET(0)] = segmentations.SegmentNumber\n",
        "    JOIN (\n",
        "      SELECT\n",
        "        SeriesInstanceUID as image_SeriesInstanceUID,\n",
        "        ANY_VALUE(collection_id) AS collection_id,\n",
        "        ANY_VALUE(ROUND(CAST(PixelSpacing[SAFE_OFFSET(0)] AS FLOAT64),2)) AS image_PixelSpacingX,\n",
        "        ANY_VALUE(ROUND(CAST(PixelSpacing[SAFE_OFFSET(1)] AS FLOAT64),2)) AS image_PixelSpacingY,\n",
        "        ANY_VALUE(ROUND(CAST(SliceThickness AS FLOAT64), 2)) as image_SliceThickness,\n",
        "        ANY_VALUE(ARRAY_TO_STRING(ImageOrientationPatient, \",\")) as image_OrientationPatient,\n",
        "        ANY_VALUE(SequenceName) as image_SequenceName,\n",
        "        ANY_VALUE(MagneticFieldStrength) AS image_MagneticFieldStrength,\n",
        "        ANY_VALUE(RepetitionTime) AS image_RepetitionTime,\n",
        "        ANY_VALUE(EchoTrainLength) as image_EchoTrainLength,\n",
        "        ANY_VALUE(EchoNumbers) as image_EchoNumbers,\n",
        "        ANY_VALUE(EchoPulseSequence) as image_EchoPulseSequence,\n",
        "        ANY_VALUE(EchoPlanarPulseSequence) as image_EchoPlanarPulseSequence,\n",
        "        ANY_VALUE(FieldOfViewDimensions) as image_FieldOfViewDimensions,\n",
        "        ANY_VALUE(FieldOfViewShape) as image_FieldOfViewShape,\n",
        "        ANY_VALUE(ReceiveCoilType) as image_ReceiveCoilType,\n",
        "        ANY_VALUE(ReceiveCoilName) as image_ReceiveCoilName,\n",
        "        ANY_VALUE(GradientOutputType) as image_GradientOutputType,\n",
        "        -- ANY_VALUE(SpacingBetweenSlices) as image_SpacingBetweenSlices,\n",
        "        ANY_VALUE(FrequencyCorrection) as image_FrequencyCorrection,\n",
        "        -- ANY_VALUE(Excitat)\n",
        "        -- ANY_VALUE(Contrast)\n",
        "        ANY_VALUE(CAST(FlipAngle  AS FLOAT64)) as image_FlipAngle,\n",
        "        ANY_VALUE(EchoTime) as image_EchoTime,\n",
        "        ANY_VALUE(InversionTime) as image_InversionTime,\n",
        "        ANY_VALUE(SeriesDate) as image_SeriesDate,\n",
        "        ANY_VALUE(StudyDate) as image_StudyDate,\n",
        "        ANY_VALUE(SeriesDescription) as image_SeriesDescription,\n",
        "        ANY_VALUE(StudyDescription) as image_StudyDescription,\n",
        "        ANY_VALUE(SpacingBetweenSlices) as image_SpacingBetweenSlices,\n",
        "        ANY_VALUE(Manufacturer) as image_Manufacturer,\n",
        "        ANY_VALUE(ManufacturerModelName) as image_ManufacturerModelName,\n",
        "        ANY_VALUE(PatientID) as image_PatientID,\n",
        "        CAST(ANY_VALUE(ARRAY_REVERSE(SPLIT(PatientID, \"-\"))[SAFE_OFFSET(0)]) AS STRING) as image_caseID\n",
        "      FROM\n",
        "        `bigquery-public-data.idc_current.dicom_all`\n",
        "      GROUP BY\n",
        "        SeriesInstanceUID) AS dicom_all\n",
        "    ON\n",
        "      segmentations.segmented_SeriesInstanceUID = dicom_all.image_SeriesInstanceUID\n",
        "    RIGHT JOIN\n",
        "      {inp_eval_table} AS metrics\n",
        "    ON\n",
        "      metrics.ai_seg_serieUID = segmentations.SeriesInstanceUID\n",
        "      AND metrics.aiSegmentNumber = segmentations.SegmentNumber)\n",
        "  SELECT\n",
        "    temp_result.* EXCEPT(image_caseID),\n",
        "    CAST(temp_result.image_caseID AS INT64) as image_caseID\n",
        "    -- temp_result.segmentAlgorithmName,\n",
        "    -- temp_result.SegmentedPropertyType.CodeMeaning,\n",
        "    -- temp_result.collection_id,\n",
        "    -- COUNT(DISTINCT(temp_result.segmented_SeriesInstanceUID)) as count_results_per_segmented_SerieUID\n",
        "  FROM\n",
        "    temp_result\n",
        "  -- WHERE\n",
        "  --   REGEXP_CONTAINS(image_caseID, r\"^[A-Za-z]+$\")\n",
        "  -- GROUP BY temp_result.segmentAlgorithmName, temp_result.SegmentedPropertyType.CodeMeaning, temp_result.collection_id\n",
        "  \"\"\"\n",
        "  job_config = bigquery.QueryJobConfig(\n",
        "      query_parameters=[]\n",
        "  )\n",
        "  query_job = client.query(query, job_config=job_config)\n",
        "  print(query_job)\n",
        "  return query_job.to_dataframe()"
      ],
      "metadata": {
        "id": "quY8Yj8sMR9o"
      },
      "execution_count": null,
      "outputs": []
    },
    {
      "cell_type": "markdown",
      "source": [
        "## Combine IDC SEG+SR data with quantitative eval results"
      ],
      "metadata": {
        "id": "Uk3zkQEDep4I"
      }
    },
    {
      "cell_type": "code",
      "source": [
        "def process_combine_idc_seg_sr_dicom_all_quant_results(inp_seg_table,\n",
        "                                            inp_sr_quant_meas_table,\n",
        "                                            inp_eval_table):\n",
        "  query = f\"\"\"\n",
        "WITH\n",
        "    temp_result AS (\n",
        "    SELECT\n",
        "      measurements.* EXCEPT(PatientID, SOPInstanceUID),\n",
        "      segmentations.* EXCEPT(PatientID, SOPInstanceUID),\n",
        "      measurements.SOPInstanceUID as measurements_SOPInstanceUID,\n",
        "      segmentations.SOPInstanceUID as segmentations_SOPInstanceUID,\n",
        "      metrics.*,\n",
        "      dicom_all.collection_id AS collection_id,\n",
        "      dicom_all.* EXCEPT(collection_id)\n",
        "    FROM\n",
        "      {inp_sr_quant_meas_table} AS measurements\n",
        "    RIGHT JOIN\n",
        "      {inp_seg_table} AS segmentations\n",
        "    ON\n",
        "      measurements.segmentationInstanceUID = segmentations.SOPInstanceUID\n",
        "      AND measurements.segmentationSegmentNumber[SAFE_OFFSET(0)] = segmentations.SegmentNumber\n",
        "    JOIN (\n",
        "      SELECT\n",
        "        SeriesInstanceUID as image_SeriesInstanceUID,\n",
        "        ANY_VALUE(collection_id) AS collection_id,\n",
        "        ANY_VALUE(ROUND(CAST(PixelSpacing[SAFE_OFFSET(0)] AS FLOAT64),2)) AS image_PixelSpacingX,\n",
        "        ANY_VALUE(ROUND(CAST(PixelSpacing[SAFE_OFFSET(1)] AS FLOAT64),2)) AS image_PixelSpacingY,\n",
        "        ANY_VALUE(ROUND(CAST(SliceThickness AS FLOAT64), 2)) as image_SliceThickness,\n",
        "        ANY_VALUE(ARRAY_TO_STRING(ImageOrientationPatient, \",\")) as image_OrientationPatient,\n",
        "        ANY_VALUE(SequenceName) as image_SequenceName,\n",
        "        ANY_VALUE(MagneticFieldStrength) AS image_MagneticFieldStrength,\n",
        "        ANY_VALUE(RepetitionTime) AS image_RepetitionTime,\n",
        "        ANY_VALUE(EchoTrainLength) as image_EchoTrainLength,\n",
        "        ANY_VALUE(EchoNumbers) as image_EchoNumbers,\n",
        "        ANY_VALUE(EchoPulseSequence) as image_EchoPulseSequence,\n",
        "        ANY_VALUE(EchoPlanarPulseSequence) as image_EchoPlanarPulseSequence,\n",
        "        ANY_VALUE(FieldOfViewDimensions) as image_FieldOfViewDimensions,\n",
        "        ANY_VALUE(FieldOfViewShape) as image_FieldOfViewShape,\n",
        "        ANY_VALUE(ReceiveCoilType) as image_ReceiveCoilType,\n",
        "        ANY_VALUE(ReceiveCoilName) as image_ReceiveCoilName,\n",
        "        ANY_VALUE(GradientOutputType) as image_GradientOutputType,\n",
        "        -- ANY_VALUE(SpacingBetweenSlices) as image_SpacingBetweenSlices,\n",
        "        ANY_VALUE(FrequencyCorrection) as image_FrequencyCorrection,\n",
        "        -- ANY_VALUE(Excitat)\n",
        "        -- ANY_VALUE(Contrast)\n",
        "        ANY_VALUE(CAST(FlipAngle  AS FLOAT64)) as image_FlipAngle,\n",
        "        ANY_VALUE(EchoTime) as image_EchoTime,\n",
        "        ANY_VALUE(InversionTime) as image_InversionTime,\n",
        "        ANY_VALUE(SeriesDate) as image_SeriesDate,\n",
        "        ANY_VALUE(StudyDate) as image_StudyDate,\n",
        "        ANY_VALUE(SeriesDescription) as image_SeriesDescription,\n",
        "        ANY_VALUE(StudyDescription) as image_StudyDescription,\n",
        "        ANY_VALUE(SpacingBetweenSlices) as image_SpacingBetweenSlices,\n",
        "        ANY_VALUE(Manufacturer) as image_Manufacturer,\n",
        "        ANY_VALUE(ManufacturerModelName) as image_ManufacturerModelName,\n",
        "        ANY_VALUE(PatientID) as image_PatientID,\n",
        "        CAST(ANY_VALUE(ARRAY_REVERSE(SPLIT(PatientID, \"-\"))[SAFE_OFFSET(0)]) AS STRING) as image_caseID\n",
        "      FROM\n",
        "        `bigquery-public-data.idc_current.dicom_all`\n",
        "      GROUP BY\n",
        "        SeriesInstanceUID) AS dicom_all\n",
        "    ON\n",
        "      segmentations.segmented_SeriesInstanceUID = dicom_all.image_SeriesInstanceUID\n",
        "    RIGHT JOIN\n",
        "      {inp_eval_table} AS metrics\n",
        "    ON\n",
        "      metrics.idc_seg_serieUID = segmentations.SeriesInstanceUID\n",
        "      AND metrics.idcSegmentNumber = segmentations.SegmentNumber)\n",
        "  SELECT\n",
        "    temp_result.* EXCEPT(image_caseID),\n",
        "    CAST(temp_result.image_caseID AS INT64) as image_caseID\n",
        "    -- temp_result.segmentAlgorithmName,\n",
        "    -- temp_result.SegmentedPropertyType.CodeMeaning,\n",
        "    -- temp_result.collection_id,\n",
        "    -- COUNT(DISTINCT(temp_result.segmented_SeriesInstanceUID)) as count_results_per_segmented_SerieUID\n",
        "  FROM\n",
        "    temp_result\n",
        "  -- WHERE\n",
        "  --   REGEXP_CONTAINS(image_caseID, r\"^[A-Za-z]+$\")\n",
        "  -- GROUP BY temp_result.segmentAlgorithmName, temp_result.SegmentedPropertyType.CodeMeaning, temp_result.collection_id\n",
        "  \"\"\"\n",
        "  job_config = bigquery.QueryJobConfig(\n",
        "      query_parameters=[]\n",
        "  )\n",
        "  query_job = client.query(query, job_config=job_config)\n",
        "  print(query_job)\n",
        "  return query_job.to_dataframe()"
      ],
      "metadata": {
        "id": "mZXmjXwPep4P"
      },
      "execution_count": null,
      "outputs": []
    },
    {
      "cell_type": "markdown",
      "source": [
        "One row of the final table will contain information about 1 segment for one case, with information about the idc experts and quantitative results, alongside prostate segment volume for IDC expert SEG and AI SEG"
      ],
      "metadata": {
        "id": "2hXKLXFqGReH"
      }
    },
    {
      "cell_type": "markdown",
      "source": [
        "## Combine AI/IDC DICOM metadata and evaluation results"
      ],
      "metadata": {
        "id": "sxAYHAkUY-Zv"
      }
    },
    {
      "cell_type": "code",
      "source": [
        "def combine_ai_idc_all(inp_ai_table,\n",
        "                       inp_idc_table):\n",
        "  query = f\"\"\"\n",
        "    SELECT\n",
        "    -- ai_sr_seg_table.*,\n",
        "    -- expert_sr_seg_table.*\n",
        "  ai_sr_seg_table.segmentationInstanceUID,\n",
        "  ai_sr_seg_table.sourceSegmentedSeriesUID,\n",
        "  expert_sr_seg_table.Quantity.CodeMeaning as expert_QuantityCodeMeaning,\n",
        "  expert_sr_seg_table.Quantity.CodeValue as expert_QuantityCodeValue,\n",
        "  expert_sr_seg_table.Value as expert_Value,\n",
        "  expert_sr_seg_table.Units.CodeValue as expert_UnitsCodeValue,\n",
        "  expert_sr_seg_table.Units.CodeMeaning as expert_UnitsCodeMeaning,\n",
        "  expert_sr_seg_table.findingSite.CodeValue as expert_findingSiteCodeValue,\n",
        "  expert_sr_seg_table.findingSite.CodeMeaning as expert_findingSiteCodeMeaning,\n",
        "  ai_sr_seg_table.Quantity.CodeMeaning as ai_QuantityCodeMeaning,\n",
        "  ai_sr_seg_table.Quantity.CodeValue as ai_QuantityCodeValue,\n",
        "  ai_sr_seg_table.Quantity.CodingSchemeDesignator as ai_QuantityCodingSchemeDesignator,\n",
        "  ai_sr_seg_table.Value as ai_Value,\n",
        "  ai_sr_seg_table.Units.CodeValue as ai_UnitsCodeValue,\n",
        "  ai_sr_seg_table.Units.CodeMeaning as ai_UnitsCodeMeaning,\n",
        "  ai_sr_seg_table.findingSite.CodeValue as ai_findingSiteCodeValue,\n",
        "  ai_sr_seg_table.findingSite.CodeMeaning as ai_findingSiteCodeMeaning,\n",
        "  ai_sr_seg_table.StudyInstanceUID,\n",
        "  ai_sr_seg_table.SeriesInstanceUID,\n",
        "  ai_sr_seg_table.SegmentedPropertyCategory.CodeValue as SegmentedPropertyCategoryCodeValue,\n",
        "  ai_sr_seg_table.SegmentedPropertyCategory.CodeMeaning as SegmentedPropertyCategoryCodeMeaning,\n",
        "  ai_sr_seg_table.SegmentedPropertyType.CodeValue as SegmentedPropertyTypeCodeValue,\n",
        "  ai_sr_seg_table.SegmentedPropertyType.CodeMeaning as SegmentedPropertyTypeCodeMeaning,\n",
        "  ai_sr_seg_table.SegmentAlgorithmType,\n",
        "  ai_sr_seg_table.SegmentAlgorithmName,\n",
        "  ai_sr_seg_table.SegmentNumber,\n",
        "  ai_sr_seg_table.segmented_SeriesInstanceUID,\n",
        "  expert_sr_seg_table.measurements_SOPInstanceUID as expert_measurements_SOPInstanceUID,\n",
        "  expert_sr_seg_table.segmentations_SOPInstanceUID as segmentation_SOPInstanceUID,\n",
        "  ai_sr_seg_table.refSerieUID,\n",
        "  ai_sr_seg_table.ai_seg_serieUID,\n",
        "  ai_sr_seg_table.idc_seg_serieUID,\n",
        "  ai_sr_seg_table.aiSegmentNumber,\n",
        "  ai_sr_seg_table.idcSegmentNumber,\n",
        "  ai_sr_seg_table.idcSegmentCodeMeaning,\n",
        "  ai_sr_seg_table.aiSegmentCodeMeaning,\n",
        "  ai_sr_seg_table.aiSegmentCodeValue,\n",
        "  ai_sr_seg_table.idcSegmentCodeValue,\n",
        "  ai_sr_seg_table.aiSegmentCodingScheme,\n",
        "  ai_sr_seg_table.idcSegmentCodingScheme,\n",
        "  ai_sr_seg_table.dsc,\n",
        "  ai_sr_seg_table.hsdff,\n",
        "  ai_sr_seg_table.hsdff_95,\n",
        "  ai_sr_seg_table.tp,\n",
        "  ai_sr_seg_table.fp,\n",
        "  ai_sr_seg_table.tn,\n",
        "  ai_sr_seg_table.fn,\n",
        "  ai_sr_seg_table.asd,\n",
        "  ai_sr_seg_table.collection_id,\n",
        "  ai_sr_seg_table.image_SeriesInstanceUID,\n",
        "  CONCAT(CAST(ai_sr_seg_table.image_PixelSpacingX AS STRING), ',',\n",
        "  CAST(ai_sr_seg_table.image_PixelSpacingX AS STRING)) as image_PixelSpacing,\n",
        "  ai_sr_seg_table.image_SliceThickness,\n",
        "  ai_sr_seg_table.image_MagneticFieldStrength,\n",
        "  ai_sr_seg_table.image_SeriesDate,\n",
        "  ai_sr_seg_table.image_StudyDate,\n",
        "  ai_sr_seg_table.image_StudyDescription,\n",
        "  ai_sr_seg_table.image_StudyDescription,\n",
        "  ai_sr_seg_table.image_Manufacturer,\n",
        "  ai_sr_seg_table.image_ManufacturerModelName,\n",
        "  ai_sr_seg_table.image_PatientID,\n",
        "FROM\n",
        "  {inp_ai_table} as ai_sr_seg_table\n",
        "RIGHT JOIN {inp_idc_table} as expert_sr_seg_table\n",
        "ON\n",
        "  ai_sr_seg_table.idc_seg_serieUID = expert_sr_seg_table.idc_seg_serieUID\n",
        "AND\n",
        "  ai_sr_seg_table.ai_seg_serieUID = expert_sr_seg_table.ai_seg_serieUID\n",
        "AND ai_sr_seg_table.aiSegmentNumber  = expert_sr_seg_table.aiSegmentNumber\n",
        "AND ai_sr_seg_table.idcSegmentNumber  = expert_sr_seg_table.idcSegmentNumber\n",
        "AND ai_sr_seg_table.aiSegmentCodeValue  = expert_sr_seg_table.aiSegmentCodeValue\n",
        "AND ai_sr_seg_table.idcSegmentCodeValue  = expert_sr_seg_table.idcSegmentCodeValue\n",
        "WHERE\n",
        "  expert_sr_seg_table.Quantity.CodeMeaning IN UNNEST([\"Volume of Mesh\", NULL])\n",
        "AND\n",
        "  ai_sr_seg_table.Quantity.CodeMeaning  IN UNNEST([\"Volume of Mesh\", NULL])\n",
        " -- ai_sr_seg_table.Quantity.CodeMeaning IS NULL #IFNULL(ai_sr_seg_table.Quantity.CodeMeaning, 'empty') = 'empty')\n",
        "  \"\"\"\n",
        "  job_config = bigquery.QueryJobConfig(\n",
        "      query_parameters=[]\n",
        "  )\n",
        "  query_job = client.query(query, job_config=job_config)\n",
        "  print(query_job)\n",
        "  return query_job.to_dataframe()"
      ],
      "metadata": {
        "id": "Z_S6h-_ZZEKa"
      },
      "execution_count": null,
      "outputs": []
    },
    {
      "cell_type": "markdown",
      "source": [
        "# Set GCP project id"
      ],
      "metadata": {
        "id": "Ba_FcIG9VDbV"
      }
    },
    {
      "cell_type": "code",
      "source": [
        "!gcloud config set project {project_id}"
      ],
      "metadata": {
        "colab": {
          "base_uri": "https://localhost:8080/"
        },
        "id": "LJsyvhTXPOL1",
        "outputId": "05c2b95d-07e0-48f0-bd08-3862f23bbc69"
      },
      "execution_count": null,
      "outputs": [
        {
          "output_type": "stream",
          "name": "stdout",
          "text": [
            "Updated property [core/project].\n"
          ]
        }
      ]
    },
    {
      "cell_type": "code",
      "source": [
        "# path_bq_table=f\"{bq_dataset_id}.{bq_quant_eval}\"\n",
        "# path_csv=\"quantEvalResults.csv\"\n",
        "# !bq load --source_format=CSV --project_id=$project_id \\\n",
        "# --autodetect=true $path_bq_table $path_csv"
      ],
      "metadata": {
        "id": "iVzpd-3aanpi"
      },
      "execution_count": null,
      "outputs": []
    },
    {
      "cell_type": "markdown",
      "source": [
        "# Process AI/IDC DICOM SEG"
      ],
      "metadata": {
        "id": "Z8uAWwMjxvZO"
      }
    },
    {
      "cell_type": "code",
      "source": [
        "for in_param in [ai_bigquery_params, idc_expert_bigquery_params]:\n",
        "  print(f\"in_param :\")\n",
        "  for key,val in in_param.items():\n",
        "    print(f\"key : {key}\")\n",
        "    print(f\"val : {val}\")\n",
        "    print(\"...\")\n",
        "  tempOutDf = process_dicom_seg(in_param['inp_seg_table'])\n",
        "  out_table_id = in_param['out_seg_table_id']\n",
        "  client.delete_table(out_table_id, not_found_ok=True)  # Make an API request.\n",
        "  job = client.load_table_from_dataframe(tempOutDf, out_table_id)"
      ],
      "metadata": {
        "colab": {
          "base_uri": "https://localhost:8080/"
        },
        "id": "xmwo0T5D2CmX",
        "outputId": "ea085603-d78a-4012-ecd4-219030248b56"
      },
      "execution_count": null,
      "outputs": [
        {
          "output_type": "stream",
          "name": "stdout",
          "text": [
            "in_param :\n",
            "key : inp_seg_table\n",
            "val : `idc-sandbox-003.prostate_seg_terra_mhub_v3_sitk_res.ai_dicom_seg_table`\n",
            "...\n",
            "key : out_seg_table_id\n",
            "val : idc-sandbox-003.prostate_seg_terra_mhub_v3_sitk_res.ai_processed_dicom_seg_table\n",
            "...\n",
            "key : out_seg_table\n",
            "val : `idc-sandbox-003.prostate_seg_terra_mhub_v3_sitk_res.ai_processed_dicom_seg_table`\n",
            "...\n",
            "key : inp_sr_table\n",
            "val : idc-sandbox-003.prostate_seg_terra_mhub_v3_sitk_res.ai_dicom_sr_table\n",
            "...\n",
            "key : out_table_id_measurement_groups\n",
            "val : idc-sandbox-003.prostate_seg_terra_mhub_v3_sitk_res.ai_processed_measurement_groups_sr_table\n",
            "...\n",
            "key : out_table_measurement_groups\n",
            "val : `idc-sandbox-003.prostate_seg_terra_mhub_v3_sitk_res.ai_processed_measurement_groups_sr_table`\n",
            "...\n",
            "key : out_table_id_quantitative_measurements\n",
            "val : idc-sandbox-003.prostate_seg_terra_mhub_v3_sitk_res.ai_processed_quantitative_measurements_sr_table\n",
            "...\n",
            "key : out_table_quantitative_measurements\n",
            "val : `idc-sandbox-003.prostate_seg_terra_mhub_v3_sitk_res.ai_processed_quantitative_measurements_sr_table`\n",
            "...\n",
            "key : out_table_id_joined_all\n",
            "val : idc-sandbox-003.prostate_seg_terra_mhub_v3_sitk_res.ai_processed_seg_sr_eval_results_table\n",
            "...\n",
            "key : out_table_joined_all\n",
            "val : `idc-sandbox-003.prostate_seg_terra_mhub_v3_sitk_res.ai_processed_seg_sr_eval_results_table`\n",
            "...\n",
            "key : quant_eval_table\n",
            "val : `idc-sandbox-003.prostate_seg_terra_mhub_v3_sitk_res.quantitative_results_table`\n",
            "...\n",
            "QueryJob<project=idc-sandbox-003, location=US, id=001742ce-9bd8-4301-9c4a-849eb105ae48>\n"
          ]
        },
        {
          "output_type": "stream",
          "name": "stderr",
          "text": [
            "/usr/local/lib/python3.10/dist-packages/google/cloud/bigquery/_pandas_helpers.py:570: UserWarning: Pyarrow could not determine the type of columns: SegmentedPropertyCategory, SegmentedPropertyType.\n",
            "  warnings.warn(\n"
          ]
        },
        {
          "output_type": "stream",
          "name": "stdout",
          "text": [
            "in_param :\n",
            "key : inp_seg_table\n",
            "val : idc-sandbox-003.prostate_seg_terra_mhub_v3_sitk_res.idc_dicom_seg_table\n",
            "...\n",
            "key : out_seg_table_id\n",
            "val : idc-sandbox-003.prostate_seg_terra_mhub_v3_sitk_res.idc_processed_dicom_seg_table\n",
            "...\n",
            "key : out_seg_table\n",
            "val : `idc-sandbox-003.prostate_seg_terra_mhub_v3_sitk_res.idc_processed_dicom_seg_table`\n",
            "...\n",
            "key : inp_sr_table\n",
            "val : idc-sandbox-003.prostate_seg_terra_mhub_v3_sitk_res.idc_dicom_sr_table\n",
            "...\n",
            "key : out_table_id_measurement_groups\n",
            "val : idc-sandbox-003.prostate_seg_terra_mhub_v3_sitk_res.idc_processed_measurement_groups_sr_table\n",
            "...\n",
            "key : out_table_measurement_groups\n",
            "val : `idc-sandbox-003.prostate_seg_terra_mhub_v3_sitk_res.idc_processed_measurement_groups_sr_table`\n",
            "...\n",
            "key : out_table_id_quantitative_measurements\n",
            "val : idc-sandbox-003.prostate_seg_terra_mhub_v3_sitk_res.idc_processed_quantitative_measurements_sr_table\n",
            "...\n",
            "key : out_table_quantitative_measurements\n",
            "val : `idc-sandbox-003.prostate_seg_terra_mhub_v3_sitk_res.idc_processed_quantitative_measurements_sr_table`\n",
            "...\n",
            "key : out_table_id_joined_all\n",
            "val : idc-sandbox-003.prostate_seg_terra_mhub_v3_sitk_res.idc_processed_seg_sr_eval_results_table\n",
            "...\n",
            "key : out_table_joined_all\n",
            "val : `idc-sandbox-003.prostate_seg_terra_mhub_v3_sitk_res.idc_processed_seg_sr_eval_results_table`\n",
            "...\n",
            "key : quant_eval_table\n",
            "val : `idc-sandbox-003.prostate_seg_terra_mhub_v3_sitk_res.quantitative_results_table`\n",
            "...\n",
            "QueryJob<project=idc-sandbox-003, location=US, id=7568c29b-2d28-4f39-9d1c-2b2e963ee795>\n"
          ]
        },
        {
          "output_type": "stream",
          "name": "stderr",
          "text": [
            "/usr/local/lib/python3.10/dist-packages/google/cloud/bigquery/_pandas_helpers.py:570: UserWarning: Pyarrow could not determine the type of columns: SegmentedPropertyCategory, SegmentedPropertyType.\n",
            "  warnings.warn(\n"
          ]
        }
      ]
    },
    {
      "cell_type": "markdown",
      "source": [
        "# Process AI/IDC DICOM SR"
      ],
      "metadata": {
        "id": "w2HG-x5c9FTU"
      }
    },
    {
      "cell_type": "markdown",
      "source": [
        "## Generate measurement groups tables"
      ],
      "metadata": {
        "id": "wOZ9PTM2DoOf"
      }
    },
    {
      "cell_type": "code",
      "source": [
        "for in_param in [ai_bigquery_params, idc_expert_bigquery_params]:\n",
        "  print(f\"in_param :\")\n",
        "  for key,val in in_param.items():\n",
        "    print(f\"key : {key}\")\n",
        "    print(f\"val : {val}\")\n",
        "    print(\"...\")\n",
        "  #get measurement_groups\n",
        "  tempOutDf = process_dicom_sr_measurement_groups(in_param['inp_sr_table'])\n",
        "  out_table_id = in_param['out_table_id_measurement_groups']\n",
        "  client.delete_table(out_table_id, not_found_ok=True)  # Make an API request.\n",
        "  job = client.load_table_from_dataframe(tempOutDf, out_table_id)"
      ],
      "metadata": {
        "colab": {
          "base_uri": "https://localhost:8080/"
        },
        "outputId": "c560c4fa-fbe0-4b14-a057-f3436cd9fed5",
        "id": "m2kmz1yS9FTU"
      },
      "execution_count": null,
      "outputs": [
        {
          "output_type": "stream",
          "name": "stdout",
          "text": [
            "in_param :\n",
            "key : inp_seg_table\n",
            "val : `idc-sandbox-003.prostate_seg_terra_mhub_v3_sitk_res.ai_dicom_seg_table`\n",
            "...\n",
            "key : out_seg_table_id\n",
            "val : idc-sandbox-003.prostate_seg_terra_mhub_v3_sitk_res.ai_processed_dicom_seg_table\n",
            "...\n",
            "key : out_seg_table\n",
            "val : `idc-sandbox-003.prostate_seg_terra_mhub_v3_sitk_res.ai_processed_dicom_seg_table`\n",
            "...\n",
            "key : inp_sr_table\n",
            "val : idc-sandbox-003.prostate_seg_terra_mhub_v3_sitk_res.ai_dicom_sr_table\n",
            "...\n",
            "key : out_table_id_measurement_groups\n",
            "val : idc-sandbox-003.prostate_seg_terra_mhub_v3_sitk_res.ai_processed_measurement_groups_sr_table\n",
            "...\n",
            "key : out_table_measurement_groups\n",
            "val : `idc-sandbox-003.prostate_seg_terra_mhub_v3_sitk_res.ai_processed_measurement_groups_sr_table`\n",
            "...\n",
            "key : out_table_id_quantitative_measurements\n",
            "val : idc-sandbox-003.prostate_seg_terra_mhub_v3_sitk_res.ai_processed_quantitative_measurements_sr_table\n",
            "...\n",
            "key : out_table_quantitative_measurements\n",
            "val : `idc-sandbox-003.prostate_seg_terra_mhub_v3_sitk_res.ai_processed_quantitative_measurements_sr_table`\n",
            "...\n",
            "key : out_table_id_joined_all\n",
            "val : idc-sandbox-003.prostate_seg_terra_mhub_v3_sitk_res.ai_processed_seg_sr_eval_results_table\n",
            "...\n",
            "key : out_table_joined_all\n",
            "val : `idc-sandbox-003.prostate_seg_terra_mhub_v3_sitk_res.ai_processed_seg_sr_eval_results_table`\n",
            "...\n",
            "key : quant_eval_table\n",
            "val : `idc-sandbox-003.prostate_seg_terra_mhub_v3_sitk_res.quantitative_results_table`\n",
            "...\n",
            "QueryJob<project=idc-sandbox-003, location=US, id=d154d833-2bfb-42d7-9851-e08873bceece>\n"
          ]
        },
        {
          "output_type": "stream",
          "name": "stderr",
          "text": [
            "/usr/local/lib/python3.10/dist-packages/google/cloud/bigquery/_pandas_helpers.py:570: UserWarning: Pyarrow could not determine the type of columns: finding, findingSite, contentSequence.\n",
            "  warnings.warn(\n"
          ]
        },
        {
          "output_type": "stream",
          "name": "stdout",
          "text": [
            "in_param :\n",
            "key : inp_seg_table\n",
            "val : idc-sandbox-003.prostate_seg_terra_mhub_v3_sitk_res.idc_dicom_seg_table\n",
            "...\n",
            "key : out_seg_table_id\n",
            "val : idc-sandbox-003.prostate_seg_terra_mhub_v3_sitk_res.idc_processed_dicom_seg_table\n",
            "...\n",
            "key : out_seg_table\n",
            "val : `idc-sandbox-003.prostate_seg_terra_mhub_v3_sitk_res.idc_processed_dicom_seg_table`\n",
            "...\n",
            "key : inp_sr_table\n",
            "val : idc-sandbox-003.prostate_seg_terra_mhub_v3_sitk_res.idc_dicom_sr_table\n",
            "...\n",
            "key : out_table_id_measurement_groups\n",
            "val : idc-sandbox-003.prostate_seg_terra_mhub_v3_sitk_res.idc_processed_measurement_groups_sr_table\n",
            "...\n",
            "key : out_table_measurement_groups\n",
            "val : `idc-sandbox-003.prostate_seg_terra_mhub_v3_sitk_res.idc_processed_measurement_groups_sr_table`\n",
            "...\n",
            "key : out_table_id_quantitative_measurements\n",
            "val : idc-sandbox-003.prostate_seg_terra_mhub_v3_sitk_res.idc_processed_quantitative_measurements_sr_table\n",
            "...\n",
            "key : out_table_quantitative_measurements\n",
            "val : `idc-sandbox-003.prostate_seg_terra_mhub_v3_sitk_res.idc_processed_quantitative_measurements_sr_table`\n",
            "...\n",
            "key : out_table_id_joined_all\n",
            "val : idc-sandbox-003.prostate_seg_terra_mhub_v3_sitk_res.idc_processed_seg_sr_eval_results_table\n",
            "...\n",
            "key : out_table_joined_all\n",
            "val : `idc-sandbox-003.prostate_seg_terra_mhub_v3_sitk_res.idc_processed_seg_sr_eval_results_table`\n",
            "...\n",
            "key : quant_eval_table\n",
            "val : `idc-sandbox-003.prostate_seg_terra_mhub_v3_sitk_res.quantitative_results_table`\n",
            "...\n",
            "QueryJob<project=idc-sandbox-003, location=US, id=d316008b-1b54-4173-b98f-de5f40049add>\n"
          ]
        },
        {
          "output_type": "stream",
          "name": "stderr",
          "text": [
            "/usr/local/lib/python3.10/dist-packages/google/cloud/bigquery/_pandas_helpers.py:570: UserWarning: Pyarrow could not determine the type of columns: finding, findingSite, contentSequence.\n",
            "  warnings.warn(\n"
          ]
        }
      ]
    },
    {
      "cell_type": "markdown",
      "source": [
        "## Generate quantitative measurements tables"
      ],
      "metadata": {
        "id": "XoH9PdFeDrUH"
      }
    },
    {
      "cell_type": "code",
      "source": [
        "for in_param in [ai_bigquery_params, idc_expert_bigquery_params]:\n",
        "  print(f\"in_param :\")\n",
        "  for key,val in in_param.items():\n",
        "    print(f\"key : {key}\")\n",
        "    print(f\"val : {val}\")\n",
        "    print(\"...\")\n",
        "  #get quantitative_measurements\n",
        "  tempOutDf = process_dicom_sr_quantitative_measurements(in_param['out_table_measurement_groups'])\n",
        "  out_table_id = in_param['out_table_id_quantitative_measurements']\n",
        "  client.delete_table(out_table_id, not_found_ok=True)  # Make an API request.\n",
        "  job = client.load_table_from_dataframe(tempOutDf, out_table_id)\n",
        "  print(\"\\n\")"
      ],
      "metadata": {
        "colab": {
          "base_uri": "https://localhost:8080/"
        },
        "id": "Z7N6zSBoDlw8",
        "outputId": "40b858ca-8fcd-457c-df8f-b27aa1a4a0fa"
      },
      "execution_count": null,
      "outputs": [
        {
          "output_type": "stream",
          "name": "stdout",
          "text": [
            "in_param :\n",
            "key : inp_seg_table\n",
            "val : `idc-sandbox-003.prostate_seg_terra_mhub_v3_sitk_res.ai_dicom_seg_table`\n",
            "...\n",
            "key : out_seg_table_id\n",
            "val : idc-sandbox-003.prostate_seg_terra_mhub_v3_sitk_res.ai_processed_dicom_seg_table\n",
            "...\n",
            "key : out_seg_table\n",
            "val : `idc-sandbox-003.prostate_seg_terra_mhub_v3_sitk_res.ai_processed_dicom_seg_table`\n",
            "...\n",
            "key : inp_sr_table\n",
            "val : idc-sandbox-003.prostate_seg_terra_mhub_v3_sitk_res.ai_dicom_sr_table\n",
            "...\n",
            "key : out_table_id_measurement_groups\n",
            "val : idc-sandbox-003.prostate_seg_terra_mhub_v3_sitk_res.ai_processed_measurement_groups_sr_table\n",
            "...\n",
            "key : out_table_measurement_groups\n",
            "val : `idc-sandbox-003.prostate_seg_terra_mhub_v3_sitk_res.ai_processed_measurement_groups_sr_table`\n",
            "...\n",
            "key : out_table_id_quantitative_measurements\n",
            "val : idc-sandbox-003.prostate_seg_terra_mhub_v3_sitk_res.ai_processed_quantitative_measurements_sr_table\n",
            "...\n",
            "key : out_table_quantitative_measurements\n",
            "val : `idc-sandbox-003.prostate_seg_terra_mhub_v3_sitk_res.ai_processed_quantitative_measurements_sr_table`\n",
            "...\n",
            "key : out_table_id_joined_all\n",
            "val : idc-sandbox-003.prostate_seg_terra_mhub_v3_sitk_res.ai_processed_seg_sr_eval_results_table\n",
            "...\n",
            "key : out_table_joined_all\n",
            "val : `idc-sandbox-003.prostate_seg_terra_mhub_v3_sitk_res.ai_processed_seg_sr_eval_results_table`\n",
            "...\n",
            "key : quant_eval_table\n",
            "val : `idc-sandbox-003.prostate_seg_terra_mhub_v3_sitk_res.quantitative_results_table`\n",
            "...\n",
            "QueryJob<project=idc-sandbox-003, location=US, id=22197103-6d19-40b8-86ee-e9673eee922b>\n"
          ]
        },
        {
          "output_type": "stream",
          "name": "stderr",
          "text": [
            "/usr/local/lib/python3.10/dist-packages/google/cloud/bigquery/_pandas_helpers.py:570: UserWarning: Pyarrow could not determine the type of columns: Quantity, Units, finding, findingSite.\n",
            "  warnings.warn(\n"
          ]
        },
        {
          "output_type": "stream",
          "name": "stdout",
          "text": [
            "\n",
            "\n",
            "in_param :\n",
            "key : inp_seg_table\n",
            "val : idc-sandbox-003.prostate_seg_terra_mhub_v3_sitk_res.idc_dicom_seg_table\n",
            "...\n",
            "key : out_seg_table_id\n",
            "val : idc-sandbox-003.prostate_seg_terra_mhub_v3_sitk_res.idc_processed_dicom_seg_table\n",
            "...\n",
            "key : out_seg_table\n",
            "val : `idc-sandbox-003.prostate_seg_terra_mhub_v3_sitk_res.idc_processed_dicom_seg_table`\n",
            "...\n",
            "key : inp_sr_table\n",
            "val : idc-sandbox-003.prostate_seg_terra_mhub_v3_sitk_res.idc_dicom_sr_table\n",
            "...\n",
            "key : out_table_id_measurement_groups\n",
            "val : idc-sandbox-003.prostate_seg_terra_mhub_v3_sitk_res.idc_processed_measurement_groups_sr_table\n",
            "...\n",
            "key : out_table_measurement_groups\n",
            "val : `idc-sandbox-003.prostate_seg_terra_mhub_v3_sitk_res.idc_processed_measurement_groups_sr_table`\n",
            "...\n",
            "key : out_table_id_quantitative_measurements\n",
            "val : idc-sandbox-003.prostate_seg_terra_mhub_v3_sitk_res.idc_processed_quantitative_measurements_sr_table\n",
            "...\n",
            "key : out_table_quantitative_measurements\n",
            "val : `idc-sandbox-003.prostate_seg_terra_mhub_v3_sitk_res.idc_processed_quantitative_measurements_sr_table`\n",
            "...\n",
            "key : out_table_id_joined_all\n",
            "val : idc-sandbox-003.prostate_seg_terra_mhub_v3_sitk_res.idc_processed_seg_sr_eval_results_table\n",
            "...\n",
            "key : out_table_joined_all\n",
            "val : `idc-sandbox-003.prostate_seg_terra_mhub_v3_sitk_res.idc_processed_seg_sr_eval_results_table`\n",
            "...\n",
            "key : quant_eval_table\n",
            "val : `idc-sandbox-003.prostate_seg_terra_mhub_v3_sitk_res.quantitative_results_table`\n",
            "...\n",
            "QueryJob<project=idc-sandbox-003, location=US, id=50e7d024-6779-4701-8134-dac8b11ecd3e>\n"
          ]
        },
        {
          "output_type": "stream",
          "name": "stderr",
          "text": [
            "/usr/local/lib/python3.10/dist-packages/google/cloud/bigquery/_pandas_helpers.py:570: UserWarning: Pyarrow could not determine the type of columns: Quantity, Units, finding, findingSite.\n",
            "  warnings.warn(\n"
          ]
        },
        {
          "output_type": "stream",
          "name": "stdout",
          "text": [
            "\n",
            "\n"
          ]
        }
      ]
    },
    {
      "cell_type": "markdown",
      "source": [
        "# JOIN AI IDC SEG/SR, dicom_all and quantitative evaluation results, then the same process for IDC expert objects"
      ],
      "metadata": {
        "id": "FrTpdU-oEFvD"
      }
    },
    {
      "cell_type": "markdown",
      "source": [
        "## AI"
      ],
      "metadata": {
        "id": "DIcGwjk_gCrw"
      }
    },
    {
      "cell_type": "code",
      "source": [
        "tempOutDf = process_combine_ai_seg_sr_dicom_all_quant_results(inp_seg_table=ai_bigquery_params['out_seg_table'],\n",
        "                                          inp_sr_quant_meas_table=ai_bigquery_params['out_table_quantitative_measurements'],\n",
        "                                          inp_eval_table=ai_bigquery_params['quant_eval_table'])\n",
        "out_table_id = ai_bigquery_params['out_table_id_joined_all']\n",
        "client.delete_table(out_table_id, not_found_ok=True)  # Make an API request.\n",
        "job = client.load_table_from_dataframe(tempOutDf, out_table_id)"
      ],
      "metadata": {
        "colab": {
          "base_uri": "https://localhost:8080/"
        },
        "id": "5JdNP4UCPCaJ",
        "outputId": "acb7ff33-e093-4649-85c7-8d41bb222d35"
      },
      "execution_count": null,
      "outputs": [
        {
          "output_type": "stream",
          "name": "stdout",
          "text": [
            "QueryJob<project=idc-sandbox-003, location=US, id=d94b0d47-8abd-4fde-8efe-45578580e9cf>\n"
          ]
        },
        {
          "output_type": "stream",
          "name": "stderr",
          "text": [
            "/usr/local/lib/python3.10/dist-packages/google/cloud/bigquery/_pandas_helpers.py:570: UserWarning: Pyarrow could not determine the type of columns: Quantity, Units, finding, findingSite, SegmentedPropertyCategory, SegmentedPropertyType, image_EchoPulseSequence, image_EchoPlanarPulseSequence, image_FieldOfViewDimensions, image_FieldOfViewShape, image_ReceiveCoilType, image_GradientOutputType, image_FrequencyCorrection.\n",
            "  warnings.warn(\n"
          ]
        }
      ]
    },
    {
      "cell_type": "markdown",
      "source": [
        "## IDC"
      ],
      "metadata": {
        "id": "FAzmv50ngEZW"
      }
    },
    {
      "cell_type": "code",
      "source": [
        "#get quantitative_measurements\n",
        "tempOutDf = process_combine_idc_seg_sr_dicom_all_quant_results(inp_seg_table=idc_expert_bigquery_params['out_seg_table'],\n",
        "                                          inp_sr_quant_meas_table=idc_expert_bigquery_params['out_table_quantitative_measurements'],\n",
        "                                          inp_eval_table=idc_expert_bigquery_params['quant_eval_table'])\n",
        "out_table_id = idc_expert_bigquery_params['out_table_id_joined_all']\n",
        "client.delete_table(out_table_id, not_found_ok=True)  # Make an API request.\n",
        "job = client.load_table_from_dataframe(tempOutDf, out_table_id)"
      ],
      "metadata": {
        "colab": {
          "base_uri": "https://localhost:8080/"
        },
        "id": "EN3WIR7XgLzo",
        "outputId": "4d61e718-95b2-419c-e561-9ec85310013f"
      },
      "execution_count": null,
      "outputs": [
        {
          "output_type": "stream",
          "name": "stdout",
          "text": [
            "QueryJob<project=idc-sandbox-003, location=US, id=db695015-78e5-4b38-8b88-3525d7de84e2>\n"
          ]
        },
        {
          "output_type": "stream",
          "name": "stderr",
          "text": [
            "/usr/local/lib/python3.10/dist-packages/google/cloud/bigquery/_pandas_helpers.py:570: UserWarning: Pyarrow could not determine the type of columns: Quantity, Units, finding, findingSite, SegmentedPropertyCategory, SegmentedPropertyType, image_EchoPulseSequence, image_EchoPlanarPulseSequence, image_FieldOfViewDimensions, image_FieldOfViewShape, image_ReceiveCoilType, image_GradientOutputType, image_FrequencyCorrection.\n",
            "  warnings.warn(\n"
          ]
        }
      ]
    },
    {
      "cell_type": "markdown",
      "source": [
        "# Combine IDC and AI results together"
      ],
      "metadata": {
        "id": "bjS0LmvsZRK3"
      }
    },
    {
      "cell_type": "code",
      "source": [
        "ai_bigquery_params['out_table_joined_all']"
      ],
      "metadata": {
        "colab": {
          "base_uri": "https://localhost:8080/",
          "height": 53
        },
        "id": "zv8vVi-7vVSm",
        "outputId": "7f680d4a-e20c-4d0e-c3f4-6da418254f51"
      },
      "execution_count": null,
      "outputs": [
        {
          "output_type": "execute_result",
          "data": {
            "text/plain": [
              "'`idc-sandbox-003.prostate_seg_terra_mhub_v3_sitk_res.ai_processed_seg_sr_eval_results_table`'"
            ],
            "application/vnd.google.colaboratory.intrinsic+json": {
              "type": "string"
            }
          },
          "metadata": {},
          "execution_count": 22
        }
      ]
    },
    {
      "cell_type": "code",
      "source": [
        "idc_expert_bigquery_params['out_table_joined_all']"
      ],
      "metadata": {
        "colab": {
          "base_uri": "https://localhost:8080/",
          "height": 53
        },
        "id": "zeUqvbxgvSr3",
        "outputId": "3d9fb098-b9f9-4d11-a4d3-39e81a9e224e"
      },
      "execution_count": null,
      "outputs": [
        {
          "output_type": "execute_result",
          "data": {
            "text/plain": [
              "'`idc-sandbox-003.prostate_seg_terra_mhub_v3_sitk_res.idc_processed_seg_sr_eval_results_table`'"
            ],
            "application/vnd.google.colaboratory.intrinsic+json": {
              "type": "string"
            }
          },
          "metadata": {},
          "execution_count": 23
        }
      ]
    },
    {
      "cell_type": "markdown",
      "source": [
        "If the cell below fails, run again."
      ],
      "metadata": {
        "id": "xlzq95dkqH7J"
      }
    },
    {
      "cell_type": "code",
      "source": [
        "tempOutDf = combine_ai_idc_all(ai_bigquery_params['out_table_joined_all'],\n",
        "                       idc_expert_bigquery_params['out_table_joined_all'])\n",
        "out_table_id = bq_processed_final_table\n",
        "client.delete_table(out_table_id, not_found_ok=True)  # Make an API request.\n",
        "job = client.load_table_from_dataframe(tempOutDf, out_table_id)"
      ],
      "metadata": {
        "colab": {
          "base_uri": "https://localhost:8080/"
        },
        "id": "OGNjIKzcZelI",
        "outputId": "936157a5-158b-47d3-fdc1-f48bbf0bd260"
      },
      "execution_count": null,
      "outputs": [
        {
          "output_type": "stream",
          "name": "stdout",
          "text": [
            "QueryJob<project=idc-sandbox-003, location=US, id=7c2d472a-d747-4439-806d-299e77a3c512>\n"
          ]
        }
      ]
    }
  ]
}