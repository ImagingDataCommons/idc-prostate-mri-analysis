{
  "nbformat": 4,
  "nbformat_minor": 0,
  "metadata": {
    "colab": {
      "provenance": [],
      "collapsed_sections": [
        "AHsmij93e9wS"
      ],
      "machine_shape": "hm",
      "toc_visible": true
    },
    "kernelspec": {
      "name": "python3",
      "display_name": "Python 3"
    },
    "language_info": {
      "name": "python"
    },
    "gpuClass": "standard"
  },
  "cells": [
    {
      "cell_type": "markdown",
      "source": [
        "# Radiology paper figures"
      ],
      "metadata": {
        "id": "AHsmij93e9wS"
      }
    },
    {
      "cell_type": "code",
      "source": [
        "from IPython.display import Javascript"
      ],
      "metadata": {
        "id": "zv9E6Zbqjndv"
      },
      "execution_count": 1,
      "outputs": []
    },
    {
      "cell_type": "code",
      "metadata": {
        "id": "hIwGFUjTxstQ"
      },
      "source": [
        "# %%js\n",
        "\n",
        "# for (rule of document.styleSheets[0].cssRules){\n",
        "#   if (rule.selectorText=='body') break\n",
        "# }\n",
        "# rule.style.fontSize = '200px'\n",
        "# // alert(rule.style.fontSize)\n",
        "# element.innerHTML = \"Hello\""
      ],
      "execution_count": 2,
      "outputs": []
    },
    {
      "cell_type": "code",
      "metadata": {
        "id": "YWmA_tP_wpYY"
      },
      "source": [
        "# def increase_font():\n",
        "#   from IPython.display import Javascript\n",
        "#   display(Javascript('''\n",
        "#   for (rule of document.styleSheets[0].cssRules){\n",
        "#     if (rule.selectorText=='body') {\n",
        "#       rule.style.fontSize = '30px'\n",
        "#       break\n",
        "#     }\n",
        "#   }\n",
        "#   '''))"
      ],
      "execution_count": 3,
      "outputs": []
    },
    {
      "cell_type": "code",
      "metadata": {
        "id": "C0X3rMu3zyKE"
      },
      "source": [
        "# # set it to run in every cell\n",
        "# get_ipython().events.register('pre_run_cell', increase_font)\n",
        "# # disable\n",
        "# # get_ipython().events.unregister('pre_run_cell', increase_font)"
      ],
      "execution_count": 4,
      "outputs": []
    },
    {
      "cell_type": "markdown",
      "source": [
        "# Imports"
      ],
      "metadata": {
        "id": "4fTmSAzf0M_R"
      }
    },
    {
      "cell_type": "code",
      "source": [
        "import plotly.graph_objects as go\n",
        "import plotly.express as px\n",
        "import colorcet as cc\n",
        "import os\n",
        "import plotly.io as pio\n",
        "import pandas as pd\n",
        "from google.cloud import bigquery\n",
        "import numpy as np\n",
        "import datetime\n",
        "import seaborn as sns\n",
        "import colorcet as cc\n",
        "\n",
        "from bokeh.models import ColumnDataSource, OpenURL, TapTool\n",
        "from bokeh.plotting import figure, output_file, show\n",
        "from bokeh.io import output_notebook\n",
        "from bokeh.colors import RGB\n",
        "from bokeh.transform import jitter\n",
        "\n",
        "from bokeh.models import HoverTool, PanTool, WheelZoomTool, BoxZoomTool, ResetTool, TapTool\n",
        "from bokeh.models import Legend, LegendItem\n",
        "\n",
        "from bokeh.palettes import brewer\n",
        "\n",
        "from bokeh.layouts import row\n",
        "\n",
        "from bokeh.io import export_png\n",
        "from bokeh.io.export import get_screenshot_as_png\n",
        "\n",
        "output_notebook()"
      ],
      "metadata": {
        "id": "IUm_QoHy0OfP"
      },
      "execution_count": 5,
      "outputs": []
    },
    {
      "cell_type": "markdown",
      "source": [
        "# Custom functions"
      ],
      "metadata": {
        "id": "5qJouHeJRnEW"
      }
    },
    {
      "cell_type": "code",
      "source": [
        "def calculate_time_index(row, df_input, studyDateColName=\"StudyDate\"): #assumes only two studies per PatientID\n",
        "  other_study_time = df_input[(df_input[\"PatientID\"] == row[\"PatientID\"])\n",
        "    & (df_input[\"StudyInstanceUID\"] != row[\"StudyInstanceUID\"])][studyDateColName].values[0]\n",
        "  if row[studyDateColName] < other_study_time:\n",
        "    return \"T0\"\n",
        "  elif row[studyDateColName] > other_study_time:\n",
        "    return \"T1\"\n",
        "  else:\n",
        "    return \"T\""
      ],
      "metadata": {
        "id": "2WIJOvpksQuG"
      },
      "execution_count": 6,
      "outputs": []
    },
    {
      "cell_type": "markdown",
      "source": [
        "# Import BigQuery evaluation results into dfs and combine with DICOM metdata/radiomics"
      ],
      "metadata": {
        "id": "CpjCJbVm-1A7"
      }
    },
    {
      "cell_type": "code",
      "source": [
        "#collections\n",
        "prostatex_name = \"ProstateX(n=345)\"\n",
        "qin_prost_rep_name = \"QIN-PROST-REP(n=30)\"\n",
        "mri_us_biopsy_name = \"MRI-US-BIOPSY(n=1017)\""
      ],
      "metadata": {
        "id": "zyOty1u7SaD0"
      },
      "execution_count": 7,
      "outputs": []
    },
    {
      "cell_type": "markdown",
      "source": [
        "### Import ProstateX segmentation results of SOTA methods"
      ],
      "metadata": {
        "id": "E1OkIXUrCZAI"
      }
    },
    {
      "cell_type": "markdown",
      "source": [
        "#### Method 1 --- nnUNet whole prostate"
      ],
      "metadata": {
        "id": "MqIOavNCDma7"
      }
    },
    {
      "cell_type": "code",
      "source": [
        "!wget -O prostatex_model1_preds_eval.csv https://raw.githubusercontent.com/ccosmin97/idc-prostate-mri-analysis/main/prostate_segmentation_notebooks/model1/results_csv/prostatex_model1_preds_eval.csv\n",
        "prostatex_method1_df = pd.read_csv(\"prostatex_model1_preds_eval.csv\")"
      ],
      "metadata": {
        "colab": {
          "base_uri": "https://localhost:8080/"
        },
        "id": "eIVAS5ccEaN3",
        "outputId": "e7f34685-cf61-41ea-c97a-5ced0c669b59"
      },
      "execution_count": 8,
      "outputs": [
        {
          "output_type": "stream",
          "name": "stdout",
          "text": [
            "--2023-06-28 03:59:12--  https://raw.githubusercontent.com/ccosmin97/idc-prostate-mri-analysis/main/prostate_segmentation_notebooks/model1/results_csv/prostatex_model1_preds_eval.csv\n",
            "Resolving raw.githubusercontent.com (raw.githubusercontent.com)... 185.199.108.133, 185.199.109.133, 185.199.110.133, ...\n",
            "Connecting to raw.githubusercontent.com (raw.githubusercontent.com)|185.199.108.133|:443... connected.\n",
            "HTTP request sent, awaiting response... 200 OK\n",
            "Length: 7605 (7.4K) [text/plain]\n",
            "Saving to: ‘prostatex_model1_preds_eval.csv’\n",
            "\n",
            "prostatex_model1_pr 100%[===================>]   7.43K  --.-KB/s    in 0s      \n",
            "\n",
            "2023-06-28 03:59:13 (76.0 MB/s) - ‘prostatex_model1_preds_eval.csv’ saved [7605/7605]\n",
            "\n"
          ]
        }
      ]
    },
    {
      "cell_type": "code",
      "source": [
        "prostatex_method1_df[\"collection\"] = prostatex_method1_df.apply(lambda x : prostatex_name, axis=1)\n",
        "prostatex_method1_df[\"method\"] = prostatex_method1_df.apply(lambda x : \"method1-nnUNet-whole prostate segmentation\" ,axis=1)\n",
        "prostatex_method1_df = prostatex_method1_df[['RefSerieUID', 'collection', 'method', 'dice_score', 'hsdff', 'hsdff_95', 'asd', 'regions']]\n",
        "prostatex_method1_df = prostatex_method1_df.reset_index(drop=True)"
      ],
      "metadata": {
        "id": "vnVd4H-RDqF5"
      },
      "execution_count": 9,
      "outputs": []
    },
    {
      "cell_type": "markdown",
      "source": [
        "dcm metadata"
      ],
      "metadata": {
        "id": "HhHLrrbuY7jD"
      }
    },
    {
      "cell_type": "code",
      "source": [
        "!wget -O prostatex_model1_dcm_metadata.csv https://raw.githubusercontent.com/ccosmin97/idc-prostate-mri-analysis/main/prostate_segmentation_notebooks/model1/results_csv/prostatex_model1_dcm_metadata.csv\n",
        "prostatex_method1_dcm_df = pd.read_csv(\"prostatex_model1_dcm_metadata.csv\")"
      ],
      "metadata": {
        "colab": {
          "base_uri": "https://localhost:8080/"
        },
        "id": "A_BzG0FYFESg",
        "outputId": "a1e1238f-0a6e-4f0b-ac63-e7072d8a9765"
      },
      "execution_count": 10,
      "outputs": [
        {
          "output_type": "stream",
          "name": "stdout",
          "text": [
            "--2023-06-28 03:59:13--  https://raw.githubusercontent.com/ccosmin97/idc-prostate-mri-analysis/main/prostate_segmentation_notebooks/model1/results_csv/prostatex_model1_dcm_metadata.csv\n",
            "Resolving raw.githubusercontent.com (raw.githubusercontent.com)... 185.199.108.133, 185.199.109.133, 185.199.110.133, ...\n",
            "Connecting to raw.githubusercontent.com (raw.githubusercontent.com)|185.199.108.133|:443... connected.\n",
            "HTTP request sent, awaiting response... 200 OK\n",
            "Length: 10949 (11K) [text/plain]\n",
            "Saving to: ‘prostatex_model1_dcm_metadata.csv’\n",
            "\n",
            "prostatex_model1_dc 100%[===================>]  10.69K  --.-KB/s    in 0s      \n",
            "\n",
            "2023-06-28 03:59:13 (89.7 MB/s) - ‘prostatex_model1_dcm_metadata.csv’ saved [10949/10949]\n",
            "\n"
          ]
        }
      ]
    },
    {
      "cell_type": "code",
      "source": [
        "prostatex_method1_dcm_df = prostatex_method1_dcm_df[['RefSerieUID',\n",
        "                                                           \"StudyDate\", \"StudyTime\",\n",
        "                                                           \"PatientID\", \"StudyInstanceUID\"]]"
      ],
      "metadata": {
        "id": "TCBM1yGPWalH"
      },
      "execution_count": 11,
      "outputs": []
    },
    {
      "cell_type": "code",
      "source": [
        "prostatex_method1_df = prostatex_method1_df.merge(prostatex_method1_dcm_df, on='RefSerieUID', how='left')\n",
        "prostatex_method1_df = prostatex_method1_df.reset_index(drop=True)\n",
        "prostatex_method1_df = prostatex_method1_df.sort_values(by=['PatientID'],\n",
        "                                                                  ascending=True)"
      ],
      "metadata": {
        "id": "k7b1-RdjXqV7"
      },
      "execution_count": 12,
      "outputs": []
    },
    {
      "cell_type": "markdown",
      "source": [
        "### Import QIN-Prostate-Repeatability segmentation results of SOTA methods"
      ],
      "metadata": {
        "id": "VHX5ORSWJqJw"
      }
    },
    {
      "cell_type": "markdown",
      "source": [
        "#### Method 1 --- nnUNet whole prostate"
      ],
      "metadata": {
        "id": "D5l8sDlpJyWD"
      }
    },
    {
      "cell_type": "code",
      "source": [
        "!wget -O qin_model1_preds_prostate_eval.csv https://raw.githubusercontent.com/ccosmin97/idc-prostate-mri-analysis/main/prostate_segmentation_notebooks/model1/results_csv/qin_model1_preds_prostate_eval.csv\n",
        "qin_prost_rep_method1_df = pd.read_csv(\"qin_model1_preds_prostate_eval.csv\")"
      ],
      "metadata": {
        "colab": {
          "base_uri": "https://localhost:8080/"
        },
        "id": "ELaN7tG3FZKR",
        "outputId": "afae8b4b-bd35-4a85-c02a-5d8ebefde1d6"
      },
      "execution_count": 13,
      "outputs": [
        {
          "output_type": "stream",
          "name": "stdout",
          "text": [
            "--2023-06-28 03:59:13--  https://raw.githubusercontent.com/ccosmin97/idc-prostate-mri-analysis/main/prostate_segmentation_notebooks/model1/results_csv/qin_model1_preds_prostate_eval.csv\n",
            "Resolving raw.githubusercontent.com (raw.githubusercontent.com)... 185.199.111.133, 185.199.108.133, 185.199.110.133, ...\n",
            "Connecting to raw.githubusercontent.com (raw.githubusercontent.com)|185.199.111.133|:443... connected.\n",
            "HTTP request sent, awaiting response... 200 OK\n",
            "Length: 4325 (4.2K) [text/plain]\n",
            "Saving to: ‘qin_model1_preds_prostate_eval.csv’\n",
            "\n",
            "qin_model1_preds_pr 100%[===================>]   4.22K  --.-KB/s    in 0s      \n",
            "\n",
            "2023-06-28 03:59:13 (42.6 MB/s) - ‘qin_model1_preds_prostate_eval.csv’ saved [4325/4325]\n",
            "\n"
          ]
        }
      ]
    },
    {
      "cell_type": "code",
      "source": [
        "qin_prost_rep_method1_df[\"collection\"] = qin_prost_rep_method1_df.apply(lambda x : qin_prost_rep_name ,axis=1)\n",
        "qin_prost_rep_method1_df[\"method\"] = qin_prost_rep_method1_df.apply(lambda x : \"method1-nnUNet-whole prostate segmentation\" ,axis=1)\n",
        "qin_prost_rep_method1_df = qin_prost_rep_method1_df[['RefSerieUID', 'collection', 'method', 'dice_score', 'hsdff', 'hsdff_95', 'asd', 'regions']]\n",
        "qin_prost_rep_method1_df = qin_prost_rep_method1_df.reset_index(drop=True)"
      ],
      "metadata": {
        "id": "awASt1DZJyWD"
      },
      "execution_count": 14,
      "outputs": []
    },
    {
      "cell_type": "code",
      "source": [
        "!wget -O qin_model1_dcm_metadata.csv https://raw.githubusercontent.com/ccosmin97/idc-prostate-mri-analysis/main/prostate_segmentation_notebooks/model1/results_csv/qin_model1_dcm_metadata.csv\n",
        "qin_prost_rep_method1_dcm_df = pd.read_csv(\"qin_model1_dcm_metadata.csv\")"
      ],
      "metadata": {
        "colab": {
          "base_uri": "https://localhost:8080/"
        },
        "id": "jmY4RNSyF7tF",
        "outputId": "201c86f7-7b07-474b-c61c-4454e6ee0ee6"
      },
      "execution_count": 15,
      "outputs": [
        {
          "output_type": "stream",
          "name": "stdout",
          "text": [
            "--2023-06-28 03:59:13--  https://raw.githubusercontent.com/ccosmin97/idc-prostate-mri-analysis/main/prostate_segmentation_notebooks/model1/results_csv/qin_model1_dcm_metadata.csv\n",
            "Resolving raw.githubusercontent.com (raw.githubusercontent.com)... 185.199.108.133, 185.199.109.133, 185.199.110.133, ...\n",
            "Connecting to raw.githubusercontent.com (raw.githubusercontent.com)|185.199.108.133|:443... connected.\n",
            "HTTP request sent, awaiting response... 200 OK\n",
            "Length: 5009 (4.9K) [text/plain]\n",
            "Saving to: ‘qin_model1_dcm_metadata.csv’\n",
            "\n",
            "qin_model1_dcm_meta 100%[===================>]   4.89K  --.-KB/s    in 0s      \n",
            "\n",
            "2023-06-28 03:59:14 (48.7 MB/s) - ‘qin_model1_dcm_metadata.csv’ saved [5009/5009]\n",
            "\n"
          ]
        }
      ]
    },
    {
      "cell_type": "code",
      "source": [
        "qin_prost_rep_method1_dcm_df = qin_prost_rep_method1_dcm_df[['RefSerieUID',\n",
        "                                                           \"StudyDate\", \"StudyTime\",\n",
        "                                                           \"PatientID\", \"StudyInstanceUID\"]]"
      ],
      "metadata": {
        "id": "HzleRlTBzMbk"
      },
      "execution_count": 16,
      "outputs": []
    },
    {
      "cell_type": "code",
      "source": [
        "qin_prost_rep_method1_df = qin_prost_rep_method1_df.merge(qin_prost_rep_method1_dcm_df, on='RefSerieUID', how='left')\n",
        "qin_prost_rep_method1_df = qin_prost_rep_method1_df.reset_index(drop=True)\n",
        "qin_prost_rep_method1_df = qin_prost_rep_method1_df.sort_values(by=['PatientID'],\n",
        "                                                                  ascending=True)"
      ],
      "metadata": {
        "id": "2F2soTD9uAH1"
      },
      "execution_count": 17,
      "outputs": []
    },
    {
      "cell_type": "markdown",
      "source": [
        "### Import MRI-US-BIOPSY segmentation results of SOTA methods"
      ],
      "metadata": {
        "id": "-QPGFQtSM99T"
      }
    },
    {
      "cell_type": "markdown",
      "source": [
        "#### Method 1 -- nnUNet whole prostate"
      ],
      "metadata": {
        "id": "c75bqGaJNEt4"
      }
    },
    {
      "cell_type": "code",
      "source": [
        "!wget -O mri_us_biopsy_evaluation_nnunet_prostate.csv https://raw.githubusercontent.com/ccosmin97/idc-prostate-mri-analysis/main/prostate_segmentation_notebooks/model1/results_csv/mri_us_biopsy_evaluation_nnunet_prostate.csv\n",
        "mri_us_biopsy_method1_prostate_df = pd.read_csv(\"mri_us_biopsy_evaluation_nnunet_prostate.csv\")"
      ],
      "metadata": {
        "colab": {
          "base_uri": "https://localhost:8080/"
        },
        "id": "7ms6TAAhGLjy",
        "outputId": "9704e055-6b44-419a-8954-7feb99860735"
      },
      "execution_count": 18,
      "outputs": [
        {
          "output_type": "stream",
          "name": "stdout",
          "text": [
            "--2023-06-28 03:59:14--  https://raw.githubusercontent.com/ccosmin97/idc-prostate-mri-analysis/main/prostate_segmentation_notebooks/model1/results_csv/mri_us_biopsy_evaluation_nnunet_prostate.csv\n",
            "Resolving raw.githubusercontent.com (raw.githubusercontent.com)... 185.199.110.133, 185.199.111.133, 185.199.108.133, ...\n",
            "Connecting to raw.githubusercontent.com (raw.githubusercontent.com)|185.199.110.133|:443... connected.\n",
            "HTTP request sent, awaiting response... 200 OK\n",
            "Length: 110446 (108K) [text/plain]\n",
            "Saving to: ‘mri_us_biopsy_evaluation_nnunet_prostate.csv’\n",
            "\n",
            "mri_us_biopsy_evalu 100%[===================>] 107.86K  --.-KB/s    in 0.009s  \n",
            "\n",
            "2023-06-28 03:59:14 (11.9 MB/s) - ‘mri_us_biopsy_evaluation_nnunet_prostate.csv’ saved [110446/110446]\n",
            "\n"
          ]
        }
      ]
    },
    {
      "cell_type": "code",
      "source": [
        "mri_us_biopsy_method1_prostate_df[\"collection\"] = mri_us_biopsy_method1_prostate_df.apply(lambda x : mri_us_biopsy_name ,axis=1)\n",
        "mri_us_biopsy_method1_prostate_df[\"method\"] = mri_us_biopsy_method1_prostate_df.apply(lambda x : \"method1-nnUNet-whole prostate segmentation\" ,axis=1)\n",
        "mri_us_biopsy_method1_prostate_df[\"regions\"] = mri_us_biopsy_method1_prostate_df.apply(lambda x : \"Prostate\" ,axis=1)\n",
        "mri_us_biopsy_method1_prostate_df = mri_us_biopsy_method1_prostate_df[['RefSerieUID', 'collection', 'method', 'dice_score', 'hsdff', 'hsdff_95', 'asd', 'regions']]\n",
        "mri_us_biopsy_method1_prostate_df = mri_us_biopsy_method1_prostate_df.reset_index(drop=True)"
      ],
      "metadata": {
        "id": "eYqYoiW2NCkg"
      },
      "execution_count": 19,
      "outputs": []
    },
    {
      "cell_type": "code",
      "source": [
        "!wget -O mri_us_biopsy_model1_dcm_metadata.csv https://raw.githubusercontent.com/ccosmin97/idc-prostate-mri-analysis/main/prostate_segmentation_notebooks/model1/results_csv/mri_us_biopsy_model1_dcm_metadata.csv\n",
        "mri_us_biopsy_method1_dcm_df = pd.read_csv(\"mri_us_biopsy_model1_dcm_metadata.csv\")"
      ],
      "metadata": {
        "colab": {
          "base_uri": "https://localhost:8080/"
        },
        "id": "_7P3A75GGbHQ",
        "outputId": "67bf4834-3d3e-4c60-d244-1737a4824dcf"
      },
      "execution_count": 20,
      "outputs": [
        {
          "output_type": "stream",
          "name": "stdout",
          "text": [
            "--2023-06-28 03:59:14--  https://raw.githubusercontent.com/ccosmin97/idc-prostate-mri-analysis/main/prostate_segmentation_notebooks/model1/results_csv/mri_us_biopsy_model1_dcm_metadata.csv\n",
            "Resolving raw.githubusercontent.com (raw.githubusercontent.com)... 185.199.110.133, 185.199.111.133, 185.199.108.133, ...\n",
            "Connecting to raw.githubusercontent.com (raw.githubusercontent.com)|185.199.110.133|:443... connected.\n",
            "HTTP request sent, awaiting response... 200 OK\n",
            "Length: 178421 (174K) [text/plain]\n",
            "Saving to: ‘mri_us_biopsy_model1_dcm_metadata.csv’\n",
            "\n",
            "mri_us_biopsy_model 100%[===================>] 174.24K  --.-KB/s    in 0.009s  \n",
            "\n",
            "2023-06-28 03:59:14 (19.8 MB/s) - ‘mri_us_biopsy_model1_dcm_metadata.csv’ saved [178421/178421]\n",
            "\n"
          ]
        }
      ]
    },
    {
      "cell_type": "code",
      "source": [
        "mri_us_biopsy_method1_dcm_df = mri_us_biopsy_method1_dcm_df[['RefSerieUID',\n",
        "                                                           \"StudyDate\", \"StudyTime\",\n",
        "                                                           \"PatientID\", \"StudyInstanceUID\"]]"
      ],
      "metadata": {
        "id": "8GyhylUa1j33"
      },
      "execution_count": 21,
      "outputs": []
    },
    {
      "cell_type": "code",
      "source": [
        "mri_us_biopsy_method1_prostate_df = mri_us_biopsy_method1_prostate_df.merge(mri_us_biopsy_method1_dcm_df, on='RefSerieUID', how='left')\n",
        "mri_us_biopsy_method1_prostate_df = mri_us_biopsy_method1_prostate_df.reset_index(drop=True)\n",
        "mri_us_biopsy_method1_prostate_df = mri_us_biopsy_method1_prostate_df.sort_values(by=['PatientID'],\n",
        "                                                                  ascending=True)"
      ],
      "metadata": {
        "id": "2oT2w1mB7Uq6"
      },
      "execution_count": 22,
      "outputs": []
    },
    {
      "cell_type": "markdown",
      "source": [
        "## Combine dfs"
      ],
      "metadata": {
        "id": "PQNZ7HcAORCq"
      }
    },
    {
      "cell_type": "code",
      "source": [
        "df_all = pd.concat([prostatex_method1_df,\n",
        "                    qin_prost_rep_method1_df,\n",
        "                    mri_us_biopsy_method1_prostate_df])"
      ],
      "metadata": {
        "id": "TE04acpUOjXv"
      },
      "execution_count": 23,
      "outputs": []
    },
    {
      "cell_type": "markdown",
      "source": [
        "## Repeatability imports and combinations"
      ],
      "metadata": {
        "id": "qU92IpHQ_NH-"
      }
    },
    {
      "cell_type": "markdown",
      "source": [
        "### Import radiomics features and combine with dcm+quant seg eval resuls(dsc,hsdff,...)"
      ],
      "metadata": {
        "id": "u5s9sCaHAKWe"
      }
    },
    {
      "cell_type": "markdown",
      "source": [
        "Method 1 : nnUNet whole prostate region segmentation"
      ],
      "metadata": {
        "id": "oGWr3w2OAKWj"
      }
    },
    {
      "cell_type": "code",
      "source": [
        "!wget -O qin_model1_preds_prostate_radiomics.csv https://raw.githubusercontent.com/ccosmin97/idc-prostate-mri-analysis/main/prostate_segmentation_notebooks/model1/results_csv/qin_model1_preds_prostate_radiomics.csv\n",
        "qin_prost_rep_method1_rad_df = pd.read_csv(\"qin_model1_preds_prostate_radiomics.csv\")"
      ],
      "metadata": {
        "colab": {
          "base_uri": "https://localhost:8080/"
        },
        "id": "r7LfzfhaIE27",
        "outputId": "ad106976-5ac7-45c3-b0b2-90e245493db2"
      },
      "execution_count": 24,
      "outputs": [
        {
          "output_type": "stream",
          "name": "stdout",
          "text": [
            "--2023-06-28 03:59:14--  https://raw.githubusercontent.com/ccosmin97/idc-prostate-mri-analysis/main/prostate_segmentation_notebooks/model1/results_csv/qin_model1_preds_prostate_radiomics.csv\n",
            "Resolving raw.githubusercontent.com (raw.githubusercontent.com)... 185.199.110.133, 185.199.109.133, 185.199.111.133, ...\n",
            "Connecting to raw.githubusercontent.com (raw.githubusercontent.com)|185.199.110.133|:443... connected.\n",
            "HTTP request sent, awaiting response... 200 OK\n",
            "Length: 4849 (4.7K) [text/plain]\n",
            "Saving to: ‘qin_model1_preds_prostate_radiomics.csv’\n",
            "\n",
            "qin_model1_preds_pr 100%[===================>]   4.74K  --.-KB/s    in 0s      \n",
            "\n",
            "2023-06-28 03:59:14 (65.5 MB/s) - ‘qin_model1_preds_prostate_radiomics.csv’ saved [4849/4849]\n",
            "\n"
          ]
        }
      ]
    },
    {
      "cell_type": "code",
      "source": [
        "qin_prost_rep_method1_rad_df = qin_prost_rep_method1_rad_df[['RefSerieUID', \"VoxelVolume\",\n",
        "                                                             \"MeshVolume\", \"Sphericity\"]]\n",
        "qin_prost_rep_method1_combined_all_df = qin_prost_rep_method1_df.merge(qin_prost_rep_method1_rad_df, on='RefSerieUID', how='left')\n",
        "\n",
        "qin_prost_rep_method1_combined_all_df['time_index'] = qin_prost_rep_method1_combined_all_df.apply(calculate_time_index,\n",
        "                                    args = (qin_prost_rep_method1_combined_all_df, \"StudyDate\", ), axis=1)\n",
        "qin_prost_rep_method1_combined_all_df[\"PID\"] = qin_prost_rep_method1_combined_all_df.apply(lambda x: \"PID_\"\\\n",
        "                                                               +x[\"PatientID\"].split('-')[1]\\\n",
        "                             +\"_\"+x[\"time_index\"], axis=1)\n",
        "qin_prost_rep_method1_combined_all_df = qin_prost_rep_method1_combined_all_df.sort_values(by=['PID'], ascending=True)\n",
        "qin_prost_rep_method1_combined_all_df = qin_prost_rep_method1_combined_all_df.reset_index(drop=True)"
      ],
      "metadata": {
        "id": "F-Wjlh32AKWj"
      },
      "execution_count": 25,
      "outputs": []
    },
    {
      "cell_type": "code",
      "source": [
        "!wget -O qin_prost_rep_idc_rad.csv https://raw.githubusercontent.com/ccosmin97/idc-prostate-mri-analysis/main/prostate_segmentation_notebooks/model1/results_csv/qin_prost_rep_idc_rad.csv\n",
        "qin_prost_rep_idc_rad_df = pd.read_csv(\"qin_prost_rep_idc_rad.csv\")"
      ],
      "metadata": {
        "colab": {
          "base_uri": "https://localhost:8080/"
        },
        "id": "_pA__GTdIzj4",
        "outputId": "2b0d4b62-af1e-49bb-ecf0-298f15cec736"
      },
      "execution_count": 26,
      "outputs": [
        {
          "output_type": "stream",
          "name": "stdout",
          "text": [
            "--2023-06-28 03:59:14--  https://raw.githubusercontent.com/ccosmin97/idc-prostate-mri-analysis/main/prostate_segmentation_notebooks/model1/results_csv/qin_prost_rep_idc_rad.csv\n",
            "Resolving raw.githubusercontent.com (raw.githubusercontent.com)... 185.199.110.133, 185.199.111.133, 185.199.108.133, ...\n",
            "Connecting to raw.githubusercontent.com (raw.githubusercontent.com)|185.199.110.133|:443... connected.\n",
            "HTTP request sent, awaiting response... 200 OK\n",
            "Length: 15116 (15K) [text/plain]\n",
            "Saving to: ‘qin_prost_rep_idc_rad.csv’\n",
            "\n",
            "qin_prost_rep_idc_r 100%[===================>]  14.76K  --.-KB/s    in 0s      \n",
            "\n",
            "2023-06-28 03:59:15 (83.7 MB/s) - ‘qin_prost_rep_idc_rad.csv’ saved [15116/15116]\n",
            "\n"
          ]
        }
      ]
    },
    {
      "cell_type": "markdown",
      "source": [
        "### Get IDC radiomics measurements for qin prostate repeatability collection"
      ],
      "metadata": {
        "id": "63LJkN-aZIEU"
      }
    },
    {
      "cell_type": "code",
      "source": [
        "qin_prost_rep_idc_rad_df['time_index'] = qin_prost_rep_idc_rad_df.apply(calculate_time_index,\n",
        "                                    args = (qin_prost_rep_idc_rad_df, \"StudyDate\", ), axis=1)\n",
        "qin_prost_rep_idc_rad_df[\"PID\"] = qin_prost_rep_idc_rad_df.apply(lambda x: \"PID_\"\\\n",
        "                                                               +x[\"PatientID\"].split('-')[1]\\\n",
        "                             +\"_\"+x[\"time_index\"], axis=1)"
      ],
      "metadata": {
        "id": "GNyZG0cCZRZp"
      },
      "execution_count": 27,
      "outputs": []
    },
    {
      "cell_type": "markdown",
      "source": [
        "# Figures"
      ],
      "metadata": {
        "id": "3rK9SMJyCJXE"
      }
    },
    {
      "cell_type": "code",
      "source": [
        "import seaborn as sns\n",
        "import matplotlib.pyplot as plt\n",
        "import os\n",
        "import pandas as pd\n",
        "import glob\n",
        "import numpy as np"
      ],
      "metadata": {
        "id": "iXiZ7aRvCbb9"
      },
      "execution_count": 28,
      "outputs": []
    },
    {
      "cell_type": "code",
      "source": [
        "fig1_df = df_all.copy()\n",
        "fig1_df['method'] = ['-'.join(x.split(\"\\n\")) for x in  fig1_df['method']]\n",
        "my_pal = sns.color_palette(cc.glasbey, n_colors=len(fig1_df.method.unique()))\n",
        "sns.set_style(\"whitegrid\")\n",
        "sns.set_context(\"notebook\")"
      ],
      "metadata": {
        "id": "CZe2A1MSnjOx"
      },
      "execution_count": 29,
      "outputs": []
    },
    {
      "cell_type": "markdown",
      "source": [
        "## **Figure 2 : Evaluation results on NCI IDC public collections grouped by SOTA methods**"
      ],
      "metadata": {
        "id": "sIlMHoujL7A3"
      }
    },
    {
      "cell_type": "code",
      "source": [
        "fig2_df = df_all.copy()\n",
        "fig2_df['method'] = ['\\n'.join(x.split(\"-\")) for x in  fig2_df['method']]\n",
        "my_pal = sns.color_palette(cc.glasbey, n_colors=len(fig2_df.collection.unique()))\n",
        "sns.set_style(\"whitegrid\")\n",
        "sns.set_context(\"notebook\")"
      ],
      "metadata": {
        "id": "HBTQPkGltH0u"
      },
      "execution_count": 30,
      "outputs": []
    },
    {
      "cell_type": "code",
      "source": [
        "fig2_grid_prostate_df = pd.concat([prostatex_method1_df,#])\n",
        "                                  #  , prostatex_method2_prostate_df, prostatex_method3_prostate_df,\n",
        "                    qin_prost_rep_method1_df,# qin_prost_rep_method2_prostate_df, qin_prost_rep_method3_prostate_df,\n",
        "                    mri_us_biopsy_method1_prostate_df])#, mri_us_biopsy_method3_prostate_df])\n",
        "fig2_grid_prostate_df['method'] = ['\\n'.join(x.split(\"-\")[0:2]) for x in  fig2_grid_prostate_df['method']]\n",
        "fig2_grid_prostate_df[\"collection\"] = fig2_grid_prostate_df[\"collection\"].apply(lambda x : \"ProstateX(n=66)\" if 'ProstateX' in x else x)\n",
        "fig2_grid_prostate_df[\"collection\"] = ['\\n'.join(x.split(\"(\")[0:1]) for x in  fig2_grid_prostate_df['collection']]\n",
        "fig2_grid_prostate_df[\"collection\"] = [\"QIN-Prostate-Repeatability\" if \"QIN\" in x else x for x in  fig2_grid_prostate_df['collection']]\n",
        "fig2_grid_prostate_df = fig2_grid_prostate_df.rename(columns={\"dice_score\": \"Dice Similarity Coefficient\", \"collection\" : \"Collection\"}, errors=\"raise\")\n",
        "# fig2_grid_prostate_df.rename(columns={\"ProstateX(n=345)\": \"ProstateX(n=66)\"}, errors=\"raise\")\n",
        "my_pal = sns.color_palette(cc.glasbey, n_colors=len(fig2_grid_prostate_df.Collection.unique()))\n",
        "sns.set_style(\"whitegrid\")\n",
        "sns.set_context(\"poster\")"
      ],
      "metadata": {
        "id": "pMT3828nwaTt"
      },
      "execution_count": 31,
      "outputs": []
    },
    {
      "cell_type": "code",
      "source": [
        "fig2_grid_prostate_df.columns"
      ],
      "metadata": {
        "colab": {
          "base_uri": "https://localhost:8080/"
        },
        "id": "R6X869BJE4Em",
        "outputId": "11200660-88de-477e-aec7-b70e674f295a"
      },
      "execution_count": 32,
      "outputs": [
        {
          "output_type": "execute_result",
          "data": {
            "text/plain": [
              "Index(['RefSerieUID', 'Collection', 'method', 'Dice Similarity Coefficient',\n",
              "       'hsdff', 'hsdff_95', 'asd', 'regions', 'StudyDate', 'StudyTime',\n",
              "       'PatientID', 'StudyInstanceUID'],\n",
              "      dtype='object')"
            ]
          },
          "metadata": {},
          "execution_count": 32
        }
      ]
    },
    {
      "cell_type": "code",
      "source": [
        "display(Javascript('''google.colab.output.setIframeHeight(0, true, {maxHeight: 40000})'''))\n",
        "fig, axes = plt.subplots(1, 1, figsize=(10, 8))\n",
        "fig.suptitle('Evaluation results : Box plots of dice score results of Whole Prostate AI model on NCI IDC public collections')\n",
        "sns.set_style(\"whitegrid\")\n",
        "sns.set_context(\"notebook\", font_scale=1)\n",
        "# plt.rcParams.update({'font.size': 2})\n",
        "# Dice Score\n",
        "dsc_plot = sns.boxplot(#ax=axes[0, 0],\n",
        "                       x=\"Collection\", y=\"Dice Similarity Coefficient\",\n",
        "            hue=\"Collection\", palette=my_pal,\n",
        "            data=fig2_grid_prostate_df, dodge=False)#.set(title='Dice score')\n",
        "#place legend outside top right corner of plot\n",
        "sns.move_legend(dsc_plot, \"upper right\", bbox_to_anchor=(0.3, 0.224))# Average surface distance\n",
        "dsc_plot.tick_params(labelsize=12)\n",
        "plt.tight_layout()\n",
        "plt.show()"
      ],
      "metadata": {
        "id": "6wX2xysWwaT0",
        "colab": {
          "base_uri": "https://localhost:8080/",
          "height": 795
        },
        "outputId": "370e90d7-f6e3-4080-e968-9b3ad844585f"
      },
      "execution_count": 33,
      "outputs": [
        {
          "output_type": "display_data",
          "data": {
            "text/plain": [
              "<IPython.core.display.Javascript object>"
            ],
            "application/javascript": [
              "google.colab.output.setIframeHeight(0, true, {maxHeight: 40000})"
            ]
          },
          "metadata": {}
        },
        {
          "output_type": "display_data",
          "data": {
            "text/plain": [
              "<Figure size 1000x800 with 1 Axes>"
            ],
            "image/png": "[encoded data removed]"
          },
          "metadata": {}
        }
      ]
    },
    {
      "cell_type": "markdown",
      "source": [
        "## **Figure 1 : QIN-Prostate-Repeatability : Comparison of prostate zones VoxelVolume for AI segmentations and ground-truth delineations between repeated examinations**"
      ],
      "metadata": {
        "id": "Ad59X1J0CNQy"
      }
    },
    {
      "cell_type": "markdown",
      "source": [
        "### Whole prostate -- model1 figure"
      ],
      "metadata": {
        "id": "Mo0rQBtzCYDn"
      }
    },
    {
      "cell_type": "code",
      "source": [
        "# scatter plot using plotly\n",
        "pio.templates[\"custom_nnUNet\"] = go.layout.Template(layout=go.Layout(colorway=['#8b0000']))\n",
        "pio.templates.default = 'custom_nnUNet'\n",
        "temp_df = qin_prost_rep_method1_combined_all_df.sort_values(by=\"PID\").copy()\n",
        "temp_df[\"PID\"] = temp_df[\"PID\"].apply(lambda x : \"_\".join(x.split(\"_\")[1:]))\n",
        "x_ticks_formatted = list(temp_df[\"PID\"].apply(lambda x : \"        \"+x.split(\"_\")[0][-2:]).values)\n",
        "x_ticks_formatted = [x if idx % 2 == 0 else \"\" for idx, x in enumerate(x_ticks_formatted)]\n",
        "temp_df[\"VoxelVolume\"] = temp_df.VoxelVolume.apply(lambda x : x/1000)#convert to mL\n",
        "# temp_df['PID'] = ['\\n'.join(x.split(\"_\")) for x in  temp_df['PID']]\n",
        "fig_ai = px.line(temp_df,\n",
        "             x = \"PID\",\n",
        "             y=\"VoxelVolume\",\n",
        "             color=\"PatientID\",\n",
        "             hover_data=[\"PatientID\", \"time_index\", \"StudyInstanceUID\", \"StudyDate\", \"StudyTime\"],\n",
        "              markers=True,\n",
        "              width=1100, height=400)\n",
        "# initializing showlegend to \"False\"\n",
        "fig_ai.update_layout(showlegend=True, font=dict(size=10), legend_title=\"\",\n",
        "                     legend=dict(\n",
        "                      font=dict(size= 9)))\n",
        "fig_ai.update_xaxes(tickangle=0, ticktext=x_ticks_formatted,\n",
        "                        tickvals=list(temp_df[\"PID\"].values))\n",
        "fig_ai.update_traces(showlegend=True)\n",
        "for idx, trace in enumerate(fig_ai['data']):\n",
        "  # if idx % 2 == 0 :\n",
        "  trace[\"name\"] = \"AI\"\n",
        "  # else:\n",
        "    # trace[\"name\"] = \"AI segmentations\"\n",
        "# set showlegend property by name of trace\n",
        "for idx, trace in enumerate(fig_ai['data']):\n",
        "    if idx > 0: trace['showlegend'] = False\n",
        "\n",
        "fig_ai.show()"
      ],
      "metadata": {
        "id": "PWYTvXDCCYDn",
        "colab": {
          "base_uri": "https://localhost:8080/",
          "height": 417
        },
        "outputId": "b7ddb75f-7268-46d0-86bc-1a8585290872"
      },
      "execution_count": 34,
      "outputs": [
        {
          "output_type": "display_data",
          "data": {
            "text/html": [
              "<html>\n",
              "<head><meta charset=\"utf-8\" /></head>\n",
              "<body>\n",
              "    <div>            <script src=\"https://cdnjs.cloudflare.com/ajax/libs/mathjax/2.7.5/MathJax.js?config=TeX-AMS-MML_SVG\"></script><script type=\"text/javascript\">if (window.MathJax && window.MathJax.Hub && window.MathJax.Hub.Config) {window.MathJax.Hub.Config({SVG: {font: \"STIX-Web\"}});}</script>                <script type=\"text/javascript\">window.PlotlyConfig = {MathJaxConfig: 'local'};</script>\n",
              "        <script src=\"https://cdn.plot.ly/plotly-2.18.2.min.js\"></script>                <div id=\"d65fd219-4107-4f83-8cfa-ccf48fcccec5\" class=\"plotly-graph-div\" style=\"height:400px; width:1100px;\"></div>            <script type=\"text/javascript\">                                    window.PLOTLYENV=window.PLOTLYENV || {};                                    if (document.getElementById(\"d65fd219-4107-4f83-8cfa-ccf48fcccec5\")) {                    Plotly.newPlot(                        \"d65fd219-4107-4f83-8cfa-ccf48fcccec5\",                        [{\"customdata\":[[\"PCAMPMRI-00001\",\"T0\",\"1.3.6.1.4.1.14519.5.2.1.3671.4754.121472087445374646718121301133\",\"1994-06-20\",\"09:27:15\"],[\"PCAMPMRI-00001\",\"T1\",\"1.3.6.1.4.1.14519.5.2.1.3671.4754.288848219213026850354055725664\",\"1994-07-02\",\"13:25:31\"]],\"hovertemplate\":\"PatientID=%{customdata[0]}<br>PID=%{x}<br>VoxelVolume=%{y}<br>time_index=%{customdata[1]}<br>StudyInstanceUID=%{customdata[2]}<br>StudyDate=%{customdata[3]}<br>StudyTime=%{customdata[4]}<extra></extra>\",\"legendgroup\":\"PCAMPMRI-00001\",\"line\":{\"color\":\"#8b0000\",\"dash\":\"solid\"},\"marker\":{\"symbol\":\"circle\"},\"mode\":\"lines+markers\",\"name\":\"AI\",\"orientation\":\"v\",\"showlegend\":true,\"x\":[\"00001_T0\",\"00001_T1\"],\"xaxis\":\"x\",\"y\":[36.21533203125,34.14745323558015],\"yaxis\":\"y\",\"type\":\"scatter\"},{\"customdata\":[[\"PCAMPMRI-00002\",\"T0\",\"1.3.6.1.4.1.14519.5.2.1.3671.4754.304001015100152820571364796240\",\"1994-07-09\",\"12:17:16\"],[\"PCAMPMRI-00002\",\"T1\",\"1.3.6.1.4.1.14519.5.2.1.3671.4754.568383070573576760578239627478\",\"1994-07-23\",\"13:21:16\"]],\"hovertemplate\":\"PatientID=%{customdata[0]}<br>PID=%{x}<br>VoxelVolume=%{y}<br>time_index=%{customdata[1]}<br>StudyInstanceUID=%{customdata[2]}<br>StudyDate=%{customdata[3]}<br>StudyTime=%{customdata[4]}<extra></extra>\",\"legendgroup\":\"PCAMPMRI-00002\",\"line\":{\"color\":\"#8b0000\",\"dash\":\"solid\"},\"marker\":{\"symbol\":\"circle\"},\"mode\":\"lines+markers\",\"name\":\"AI\",\"orientation\":\"v\",\"showlegend\":false,\"x\":[\"00002_T0\",\"00002_T1\"],\"xaxis\":\"x\",\"y\":[36.56220703125,36.2443359375],\"yaxis\":\"y\",\"type\":\"scatter\"},{\"customdata\":[[\"PCAMPMRI-00003\",\"T0\",\"1.3.6.1.4.1.14519.5.2.1.3671.4754.162322077241419864654545266845\",\"1994-08-11\",\"14:12:33\"],[\"PCAMPMRI-00003\",\"T1\",\"1.3.6.1.4.1.14519.5.2.1.3671.4754.263464522348816475234793721892\",\"1994-08-25\",\"11:39:59\"]],\"hovertemplate\":\"PatientID=%{customdata[0]}<br>PID=%{x}<br>VoxelVolume=%{y}<br>time_index=%{customdata[1]}<br>StudyInstanceUID=%{customdata[2]}<br>StudyDate=%{customdata[3]}<br>StudyTime=%{customdata[4]}<extra></extra>\",\"legendgroup\":\"PCAMPMRI-00003\",\"line\":{\"color\":\"#8b0000\",\"dash\":\"solid\"},\"marker\":{\"symbol\":\"circle\"},\"mode\":\"lines+markers\",\"name\":\"AI\",\"orientation\":\"v\",\"showlegend\":false,\"x\":[\"00003_T0\",\"00003_T1\"],\"xaxis\":\"x\",\"y\":[25.299736308306457,25.9494140625],\"yaxis\":\"y\",\"type\":\"scatter\"},{\"customdata\":[[\"PCAMPMRI-00004\",\"T0\",\"1.3.6.1.4.1.14519.5.2.1.3671.4754.394942238206951812120962051099\",\"1994-09-03\",\"10:41:20\"],[\"PCAMPMRI-00004\",\"T1\",\"1.3.6.1.4.1.14519.5.2.1.3671.4754.204078048920967920419177848890\",\"1994-09-12\",\"14:43:38\"]],\"hovertemplate\":\"PatientID=%{customdata[0]}<br>PID=%{x}<br>VoxelVolume=%{y}<br>time_index=%{customdata[1]}<br>StudyInstanceUID=%{customdata[2]}<br>StudyDate=%{customdata[3]}<br>StudyTime=%{customdata[4]}<extra></extra>\",\"legendgroup\":\"PCAMPMRI-00004\",\"line\":{\"color\":\"#8b0000\",\"dash\":\"solid\"},\"marker\":{\"symbol\":\"circle\"},\"mode\":\"lines+markers\",\"name\":\"AI\",\"orientation\":\"v\",\"showlegend\":false,\"x\":[\"00004_T0\",\"00004_T1\"],\"xaxis\":\"x\",\"y\":[25.60341796875,28.53515625],\"yaxis\":\"y\",\"type\":\"scatter\"},{\"customdata\":[[\"PCAMPMRI-00005\",\"T0\",\"1.3.6.1.4.1.14519.5.2.1.3671.4754.240823776621155108064488841063\",\"1994-09-10\",\"10:19:27\"],[\"PCAMPMRI-00005\",\"T1\",\"1.3.6.1.4.1.14519.5.2.1.3671.4754.233298968565250099224990877587\",\"1994-09-17\",\"11:56:24\"]],\"hovertemplate\":\"PatientID=%{customdata[0]}<br>PID=%{x}<br>VoxelVolume=%{y}<br>time_index=%{customdata[1]}<br>StudyInstanceUID=%{customdata[2]}<br>StudyDate=%{customdata[3]}<br>StudyTime=%{customdata[4]}<extra></extra>\",\"legendgroup\":\"PCAMPMRI-00005\",\"line\":{\"color\":\"#8b0000\",\"dash\":\"solid\"},\"marker\":{\"symbol\":\"circle\"},\"mode\":\"lines+markers\",\"name\":\"AI\",\"orientation\":\"v\",\"showlegend\":false,\"x\":[\"00005_T0\",\"00005_T1\"],\"xaxis\":\"x\",\"y\":[92.79188769729808,90.47783203125],\"yaxis\":\"y\",\"type\":\"scatter\"},{\"customdata\":[[\"PCAMPMRI-00006\",\"T0\",\"1.3.6.1.4.1.14519.5.2.1.3671.4754.287814201869490350714498330797\",\"1994-09-24\",\"13:21:34\"],[\"PCAMPMRI-00006\",\"T1\",\"1.3.6.1.4.1.14519.5.2.1.3671.4754.133806669697115873569905534398\",\"1994-10-01\",\"13:35:34\"]],\"hovertemplate\":\"PatientID=%{customdata[0]}<br>PID=%{x}<br>VoxelVolume=%{y}<br>time_index=%{customdata[1]}<br>StudyInstanceUID=%{customdata[2]}<br>StudyDate=%{customdata[3]}<br>StudyTime=%{customdata[4]}<extra></extra>\",\"legendgroup\":\"PCAMPMRI-00006\",\"line\":{\"color\":\"#8b0000\",\"dash\":\"solid\"},\"marker\":{\"symbol\":\"circle\"},\"mode\":\"lines+markers\",\"name\":\"AI\",\"orientation\":\"v\",\"showlegend\":false,\"x\":[\"00006_T0\",\"00006_T1\"],\"xaxis\":\"x\",\"y\":[65.53037109375,65.1817790582351],\"yaxis\":\"y\",\"type\":\"scatter\"},{\"customdata\":[[\"PCAMPMRI-00007\",\"T0\",\"1.3.6.1.4.1.14519.5.2.1.3671.4754.240243858523310211919840278205\",\"1994-10-01\",\"10:35:06\"],[\"PCAMPMRI-00007\",\"T1\",\"1.3.6.1.4.1.14519.5.2.1.3671.4754.962865348146140991373362412648\",\"1994-10-08\",\"11:39:10\"]],\"hovertemplate\":\"PatientID=%{customdata[0]}<br>PID=%{x}<br>VoxelVolume=%{y}<br>time_index=%{customdata[1]}<br>StudyInstanceUID=%{customdata[2]}<br>StudyDate=%{customdata[3]}<br>StudyTime=%{customdata[4]}<extra></extra>\",\"legendgroup\":\"PCAMPMRI-00007\",\"line\":{\"color\":\"#8b0000\",\"dash\":\"solid\"},\"marker\":{\"symbol\":\"circle\"},\"mode\":\"lines+markers\",\"name\":\"AI\",\"orientation\":\"v\",\"showlegend\":false,\"x\":[\"00007_T0\",\"00007_T1\"],\"xaxis\":\"x\",\"y\":[36.3938305275049,36.673373669805],\"yaxis\":\"y\",\"type\":\"scatter\"},{\"customdata\":[[\"PCAMPMRI-00008\",\"T0\",\"1.3.6.1.4.1.14519.5.2.1.3671.4754.173585825705285812758858023242\",\"1995-06-17\",\"11:13:35\"],[\"PCAMPMRI-00008\",\"T1\",\"1.3.6.1.4.1.14519.5.2.1.3671.4754.266963586071007736606548226859\",\"1995-07-01\",\"13:11:06\"]],\"hovertemplate\":\"PatientID=%{customdata[0]}<br>PID=%{x}<br>VoxelVolume=%{y}<br>time_index=%{customdata[1]}<br>StudyInstanceUID=%{customdata[2]}<br>StudyDate=%{customdata[3]}<br>StudyTime=%{customdata[4]}<extra></extra>\",\"legendgroup\":\"PCAMPMRI-00008\",\"line\":{\"color\":\"#8b0000\",\"dash\":\"solid\"},\"marker\":{\"symbol\":\"circle\"},\"mode\":\"lines+markers\",\"name\":\"AI\",\"orientation\":\"v\",\"showlegend\":false,\"x\":[\"00008_T0\",\"00008_T1\"],\"xaxis\":\"x\",\"y\":[65.72983166557586,65.39051509541424],\"yaxis\":\"y\",\"type\":\"scatter\"},{\"customdata\":[[\"PCAMPMRI-00009\",\"T0\",\"1.3.6.1.4.1.14519.5.2.1.3671.4754.864607788085827202303582199118\",\"1995-07-01\",\"14:27:21\"],[\"PCAMPMRI-00009\",\"T1\",\"1.3.6.1.4.1.14519.5.2.1.3671.4754.181478254003851548055481596513\",\"1995-07-08\",\"16:34:40\"]],\"hovertemplate\":\"PatientID=%{customdata[0]}<br>PID=%{x}<br>VoxelVolume=%{y}<br>time_index=%{customdata[1]}<br>StudyInstanceUID=%{customdata[2]}<br>StudyDate=%{customdata[3]}<br>StudyTime=%{customdata[4]}<extra></extra>\",\"legendgroup\":\"PCAMPMRI-00009\",\"line\":{\"color\":\"#8b0000\",\"dash\":\"solid\"},\"marker\":{\"symbol\":\"circle\"},\"mode\":\"lines+markers\",\"name\":\"AI\",\"orientation\":\"v\",\"showlegend\":false,\"x\":[\"00009_T0\",\"00009_T1\"],\"xaxis\":\"x\",\"y\":[109.18877591039849,111.64352331041879],\"yaxis\":\"y\",\"type\":\"scatter\"},{\"customdata\":[[\"PCAMPMRI-00010\",\"T0\",\"1.3.6.1.4.1.14519.5.2.1.3671.4754.217251077299095981018478951589\",\"1995-07-06\",\"11:06:56\"],[\"PCAMPMRI-00010\",\"T1\",\"1.3.6.1.4.1.14519.5.2.1.3671.4754.318227959935022390930294557376\",\"1995-07-09\",\"15:04:41\"]],\"hovertemplate\":\"PatientID=%{customdata[0]}<br>PID=%{x}<br>VoxelVolume=%{y}<br>time_index=%{customdata[1]}<br>StudyInstanceUID=%{customdata[2]}<br>StudyDate=%{customdata[3]}<br>StudyTime=%{customdata[4]}<extra></extra>\",\"legendgroup\":\"PCAMPMRI-00010\",\"line\":{\"color\":\"#8b0000\",\"dash\":\"solid\"},\"marker\":{\"symbol\":\"circle\"},\"mode\":\"lines+markers\",\"name\":\"AI\",\"orientation\":\"v\",\"showlegend\":false,\"x\":[\"00010_T0\",\"00010_T1\"],\"xaxis\":\"x\",\"y\":[47.19038005069384,45.70806109422842],\"yaxis\":\"y\",\"type\":\"scatter\"},{\"customdata\":[[\"PCAMPMRI-00011\",\"T0\",\"1.3.6.1.4.1.14519.5.2.1.3671.4754.131608903441424620949571415524\",\"1995-08-26\",\"16:18:17\"],[\"PCAMPMRI-00011\",\"T1\",\"1.3.6.1.4.1.14519.5.2.1.3671.4754.117496148504386222592571043379\",\"1995-09-08\",\"16:04:30\"]],\"hovertemplate\":\"PatientID=%{customdata[0]}<br>PID=%{x}<br>VoxelVolume=%{y}<br>time_index=%{customdata[1]}<br>StudyInstanceUID=%{customdata[2]}<br>StudyDate=%{customdata[3]}<br>StudyTime=%{customdata[4]}<extra></extra>\",\"legendgroup\":\"PCAMPMRI-00011\",\"line\":{\"color\":\"#8b0000\",\"dash\":\"solid\"},\"marker\":{\"symbol\":\"circle\"},\"mode\":\"lines+markers\",\"name\":\"AI\",\"orientation\":\"v\",\"showlegend\":false,\"x\":[\"00011_T0\",\"00011_T1\"],\"xaxis\":\"x\",\"y\":[32.2123135318873,34.87766219557766],\"yaxis\":\"y\",\"type\":\"scatter\"},{\"customdata\":[[\"PCAMPMRI-00012\",\"T0\",\"1.3.6.1.4.1.14519.5.2.1.3671.4754.298665348758363466150039312520\",\"1995-12-15\",\"13:14:45\"],[\"PCAMPMRI-00012\",\"T1\",\"1.3.6.1.4.1.14519.5.2.1.3671.4754.264231410930579591639987629694\",\"1995-12-23\",\"11:37:57\"]],\"hovertemplate\":\"PatientID=%{customdata[0]}<br>PID=%{x}<br>VoxelVolume=%{y}<br>time_index=%{customdata[1]}<br>StudyInstanceUID=%{customdata[2]}<br>StudyDate=%{customdata[3]}<br>StudyTime=%{customdata[4]}<extra></extra>\",\"legendgroup\":\"PCAMPMRI-00012\",\"line\":{\"color\":\"#8b0000\",\"dash\":\"solid\"},\"marker\":{\"symbol\":\"circle\"},\"mode\":\"lines+markers\",\"name\":\"AI\",\"orientation\":\"v\",\"showlegend\":false,\"x\":[\"00012_T0\",\"00012_T1\"],\"xaxis\":\"x\",\"y\":[101.51556465146264,102.91233502007697],\"yaxis\":\"y\",\"type\":\"scatter\"},{\"customdata\":[[\"PCAMPMRI-00013\",\"T0\",\"1.3.6.1.4.1.14519.5.2.1.3671.4754.211895462561589970837377570121\",\"1996-02-22\",\"15:23:46\"],[\"PCAMPMRI-00013\",\"T1\",\"1.3.6.1.4.1.14519.5.2.1.3671.4754.245461598867316286839568962369\",\"1996-03-07\",\"16:34:49\"]],\"hovertemplate\":\"PatientID=%{customdata[0]}<br>PID=%{x}<br>VoxelVolume=%{y}<br>time_index=%{customdata[1]}<br>StudyInstanceUID=%{customdata[2]}<br>StudyDate=%{customdata[3]}<br>StudyTime=%{customdata[4]}<extra></extra>\",\"legendgroup\":\"PCAMPMRI-00013\",\"line\":{\"color\":\"#8b0000\",\"dash\":\"solid\"},\"marker\":{\"symbol\":\"circle\"},\"mode\":\"lines+markers\",\"name\":\"AI\",\"orientation\":\"v\",\"showlegend\":false,\"x\":[\"00013_T0\",\"00013_T1\"],\"xaxis\":\"x\",\"y\":[32.877338884574726,32.22617920514756],\"yaxis\":\"y\",\"type\":\"scatter\"},{\"customdata\":[[\"PCAMPMRI-00014\",\"T0\",\"1.3.6.1.4.1.14519.5.2.1.3671.4754.288453744990673175783381845880\",\"1996-03-16\",\"13:07:27\"],[\"PCAMPMRI-00014\",\"T1\",\"1.3.6.1.4.1.14519.5.2.1.3671.4754.194890890650697728529329442454\",\"1996-03-24\",\"16:25:49\"]],\"hovertemplate\":\"PatientID=%{customdata[0]}<br>PID=%{x}<br>VoxelVolume=%{y}<br>time_index=%{customdata[1]}<br>StudyInstanceUID=%{customdata[2]}<br>StudyDate=%{customdata[3]}<br>StudyTime=%{customdata[4]}<extra></extra>\",\"legendgroup\":\"PCAMPMRI-00014\",\"line\":{\"color\":\"#8b0000\",\"dash\":\"solid\"},\"marker\":{\"symbol\":\"circle\"},\"mode\":\"lines+markers\",\"name\":\"AI\",\"orientation\":\"v\",\"showlegend\":false,\"x\":[\"00014_T0\",\"00014_T1\"],\"xaxis\":\"x\",\"y\":[33.18814298963809,38.14656007080452],\"yaxis\":\"y\",\"type\":\"scatter\"},{\"customdata\":[[\"PCAMPMRI-00015\",\"T0\",\"1.3.6.1.4.1.14519.5.2.1.3671.4754.182983245842036631781777324507\",\"1996-05-02\",\"11:15:55\"],[\"PCAMPMRI-00015\",\"T1\",\"1.3.6.1.4.1.14519.5.2.1.3671.4754.431678793261759442965045820561\",\"1996-05-16\",\"11:48:12\"]],\"hovertemplate\":\"PatientID=%{customdata[0]}<br>PID=%{x}<br>VoxelVolume=%{y}<br>time_index=%{customdata[1]}<br>StudyInstanceUID=%{customdata[2]}<br>StudyDate=%{customdata[3]}<br>StudyTime=%{customdata[4]}<extra></extra>\",\"legendgroup\":\"PCAMPMRI-00015\",\"line\":{\"color\":\"#8b0000\",\"dash\":\"solid\"},\"marker\":{\"symbol\":\"circle\"},\"mode\":\"lines+markers\",\"name\":\"AI\",\"orientation\":\"v\",\"showlegend\":false,\"x\":[\"00015_T0\",\"00015_T1\"],\"xaxis\":\"x\",\"y\":[74.63237874809641,69.17660471150046],\"yaxis\":\"y\",\"type\":\"scatter\"}],                        {\"template\":{\"layout\":{\"colorway\":[\"#8b0000\"]}},\"xaxis\":{\"anchor\":\"y\",\"domain\":[0.0,1.0],\"title\":{\"text\":\"PID\"},\"tickangle\":0,\"ticktext\":[\"        01\",\"\",\"        02\",\"\",\"        03\",\"\",\"        04\",\"\",\"        05\",\"\",\"        06\",\"\",\"        07\",\"\",\"        08\",\"\",\"        09\",\"\",\"        10\",\"\",\"        11\",\"\",\"        12\",\"\",\"        13\",\"\",\"        14\",\"\",\"        15\",\"\"],\"tickvals\":[\"00001_T0\",\"00001_T1\",\"00002_T0\",\"00002_T1\",\"00003_T0\",\"00003_T1\",\"00004_T0\",\"00004_T1\",\"00005_T0\",\"00005_T1\",\"00006_T0\",\"00006_T1\",\"00007_T0\",\"00007_T1\",\"00008_T0\",\"00008_T1\",\"00009_T0\",\"00009_T1\",\"00010_T0\",\"00010_T1\",\"00011_T0\",\"00011_T1\",\"00012_T0\",\"00012_T1\",\"00013_T0\",\"00013_T1\",\"00014_T0\",\"00014_T1\",\"00015_T0\",\"00015_T1\"]},\"yaxis\":{\"anchor\":\"x\",\"domain\":[0.0,1.0],\"title\":{\"text\":\"VoxelVolume\"}},\"legend\":{\"title\":{\"text\":\"\"},\"tracegroupgap\":0,\"font\":{\"size\":9}},\"margin\":{\"t\":60},\"height\":400,\"width\":1100,\"font\":{\"size\":10},\"showlegend\":true},                        {\"responsive\": true}                    ).then(function(){\n",
              "                            \n",
              "var gd = document.getElementById('d65fd219-4107-4f83-8cfa-ccf48fcccec5');\n",
              "var x = new MutationObserver(function (mutations, observer) {{\n",
              "        var display = window.getComputedStyle(gd).display;\n",
              "        if (!display || display === 'none') {{\n",
              "            console.log([gd, 'removed!']);\n",
              "            Plotly.purge(gd);\n",
              "            observer.disconnect();\n",
              "        }}\n",
              "}});\n",
              "\n",
              "// Listen for the removal of the full notebook cells\n",
              "var notebookContainer = gd.closest('#notebook-container');\n",
              "if (notebookContainer) {{\n",
              "    x.observe(notebookContainer, {childList: true});\n",
              "}}\n",
              "\n",
              "// Listen for the clearing of the current output cell\n",
              "var outputEl = gd.closest('.output');\n",
              "if (outputEl) {{\n",
              "    x.observe(outputEl, {childList: true});\n",
              "}}\n",
              "\n",
              "                        })                };                            </script>        </div>\n",
              "</body>\n",
              "</html>"
            ]
          },
          "metadata": {}
        }
      ]
    },
    {
      "cell_type": "markdown",
      "source": [
        "### QIN whole prostate expert figure"
      ],
      "metadata": {
        "id": "O8WEbmoZewOE"
      }
    },
    {
      "cell_type": "code",
      "source": [
        "# scatter plot using plotly\n",
        "#00FF0\n",
        "pio.templates[\"custom_gt_idc\"] = go.layout.Template(layout=go.Layout(colorway=['#00008b']))\n",
        "pio.templates.default = 'custom_gt_idc'\n",
        "temp_df = qin_prost_rep_idc_rad_df[qin_prost_rep_idc_rad_df[\"trackingIdentifier\"] == 'WholeGland measurements'].sort_values(by=\"PID\")\n",
        "temp_df[\"PID\"] = temp_df[\"PID\"].apply(lambda x : \"_\".join(x.split(\"_\")[1:]))\n",
        "x_ticks_formatted = list(temp_df[\"PID\"].apply(lambda x : \"        \"+x.split(\"_\")[0][-2:]).values)\n",
        "x_ticks_formatted = [x if idx % 2 == 0 else \"\" for idx, x in enumerate(x_ticks_formatted)]\n",
        "temp_df[\"VoxelVolume\"] = temp_df.VoxelVolume.apply(lambda x : x/1000)#convert to mL\n",
        "fig_gt_idc = px.line(temp_df,\n",
        "             x = \"PID\",\n",
        "             y=\"VoxelVolume\",\n",
        "            #  points=\"all\",\n",
        "             color=\"PatientID\",\n",
        "             hover_data=[\"PatientID\", \"time_index\", \"StudyInstanceUID\", \"StudyDate\", \"StudyTime\"],\n",
        "              markers=True,\n",
        "              width=1100, height=400)\n",
        "\n",
        "# initializing showlegend to \"False\"\n",
        "fig_gt_idc.update_layout(showlegend=True, font=dict(size=12))\n",
        "fig_gt_idc.update_layout(showlegend=True, font=dict(size=10), legend_title=\"\",\n",
        "                     legend=dict(\n",
        "                      font=dict(size= 9)))\n",
        "fig_gt_idc.update_xaxes(tickangle=0, ticktext=x_ticks_formatted,\n",
        "                        tickvals=list(temp_df[\"PID\"].values))\n",
        "for idx, trace in enumerate(fig_gt_idc['data']):\n",
        "  # if idx % 2 == 0 :\n",
        "  trace[\"name\"] = \"Expert\"\n",
        "  # else:\n",
        "    # trace[\"name\"] = \"AI segmentations\"\n",
        "# set showlegend property by name of trace\n",
        "for idx, trace in enumerate(fig_gt_idc['data']):\n",
        "    if idx > 0: trace['showlegend'] = False\n",
        "fig_gt_idc.show()"
      ],
      "metadata": {
        "id": "lEJLTFu2CYDn",
        "colab": {
          "base_uri": "https://localhost:8080/",
          "height": 417
        },
        "outputId": "36853691-a6cd-41ea-fa98-bad82fd29050"
      },
      "execution_count": 35,
      "outputs": [
        {
          "output_type": "display_data",
          "data": {
            "text/html": [
              "<html>\n",
              "<head><meta charset=\"utf-8\" /></head>\n",
              "<body>\n",
              "    <div>            <script src=\"https://cdnjs.cloudflare.com/ajax/libs/mathjax/2.7.5/MathJax.js?config=TeX-AMS-MML_SVG\"></script><script type=\"text/javascript\">if (window.MathJax && window.MathJax.Hub && window.MathJax.Hub.Config) {window.MathJax.Hub.Config({SVG: {font: \"STIX-Web\"}});}</script>                <script type=\"text/javascript\">window.PlotlyConfig = {MathJaxConfig: 'local'};</script>\n",
              "        <script src=\"https://cdn.plot.ly/plotly-2.18.2.min.js\"></script>                <div id=\"1d5f0beb-7f43-464f-8bbe-df215681e6ed\" class=\"plotly-graph-div\" style=\"height:400px; width:1100px;\"></div>            <script type=\"text/javascript\">                                    window.PLOTLYENV=window.PLOTLYENV || {};                                    if (document.getElementById(\"1d5f0beb-7f43-464f-8bbe-df215681e6ed\")) {                    Plotly.newPlot(                        \"1d5f0beb-7f43-464f-8bbe-df215681e6ed\",                        [{\"customdata\":[[\"PCAMPMRI-00001\",\"T0\",\"1.3.6.1.4.1.14519.5.2.1.3671.4754.121472087445374646718121301133\",\"1994-06-20\",\"09:27:15\"],[\"PCAMPMRI-00001\",\"T1\",\"1.3.6.1.4.1.14519.5.2.1.3671.4754.288848219213026850354055725664\",\"1994-07-02\",\"13:25:31\"]],\"hovertemplate\":\"PatientID=%{customdata[0]}<br>PID=%{x}<br>VoxelVolume=%{y}<br>time_index=%{customdata[1]}<br>StudyInstanceUID=%{customdata[2]}<br>StudyDate=%{customdata[3]}<br>StudyTime=%{customdata[4]}<extra></extra>\",\"legendgroup\":\"PCAMPMRI-00001\",\"line\":{\"color\":\"#00008b\",\"dash\":\"solid\"},\"marker\":{\"symbol\":\"circle\"},\"mode\":\"lines+markers\",\"name\":\"Expert\",\"orientation\":\"v\",\"showlegend\":true,\"x\":[\"00001_T0\",\"00001_T1\"],\"xaxis\":\"x\",\"y\":[27.737589173477,23.925199359257],\"yaxis\":\"y\",\"type\":\"scatter\"},{\"customdata\":[[\"PCAMPMRI-00002\",\"T0\",\"1.3.6.1.4.1.14519.5.2.1.3671.4754.304001015100152820571364796240\",\"1994-07-09\",\"12:17:16\"],[\"PCAMPMRI-00002\",\"T1\",\"1.3.6.1.4.1.14519.5.2.1.3671.4754.568383070573576760578239627478\",\"1994-07-23\",\"13:21:16\"]],\"hovertemplate\":\"PatientID=%{customdata[0]}<br>PID=%{x}<br>VoxelVolume=%{y}<br>time_index=%{customdata[1]}<br>StudyInstanceUID=%{customdata[2]}<br>StudyDate=%{customdata[3]}<br>StudyTime=%{customdata[4]}<extra></extra>\",\"legendgroup\":\"PCAMPMRI-00002\",\"line\":{\"color\":\"#00008b\",\"dash\":\"solid\"},\"marker\":{\"symbol\":\"circle\"},\"mode\":\"lines+markers\",\"name\":\"Expert\",\"orientation\":\"v\",\"showlegend\":false,\"x\":[\"00002_T0\",\"00002_T1\"],\"xaxis\":\"x\",\"y\":[32.57185904801,29.796566052918998],\"yaxis\":\"y\",\"type\":\"scatter\"},{\"customdata\":[[\"PCAMPMRI-00003\",\"T0\",\"1.3.6.1.4.1.14519.5.2.1.3671.4754.162322077241419864654545266845\",\"1994-08-11\",\"14:12:33\"],[\"PCAMPMRI-00003\",\"T1\",\"1.3.6.1.4.1.14519.5.2.1.3671.4754.263464522348816475234793721892\",\"1994-08-25\",\"11:39:59\"]],\"hovertemplate\":\"PatientID=%{customdata[0]}<br>PID=%{x}<br>VoxelVolume=%{y}<br>time_index=%{customdata[1]}<br>StudyInstanceUID=%{customdata[2]}<br>StudyDate=%{customdata[3]}<br>StudyTime=%{customdata[4]}<extra></extra>\",\"legendgroup\":\"PCAMPMRI-00003\",\"line\":{\"color\":\"#00008b\",\"dash\":\"solid\"},\"marker\":{\"symbol\":\"circle\"},\"mode\":\"lines+markers\",\"name\":\"Expert\",\"orientation\":\"v\",\"showlegend\":false,\"x\":[\"00003_T0\",\"00003_T1\"],\"xaxis\":\"x\",\"y\":[19.066116089816997,19.534912042922],\"yaxis\":\"y\",\"type\":\"scatter\"},{\"customdata\":[[\"PCAMPMRI-00004\",\"T0\",\"1.3.6.1.4.1.14519.5.2.1.3671.4754.394942238206951812120962051099\",\"1994-09-03\",\"10:41:20\"],[\"PCAMPMRI-00004\",\"T1\",\"1.3.6.1.4.1.14519.5.2.1.3671.4754.204078048920967920419177848890\",\"1994-09-12\",\"14:43:38\"]],\"hovertemplate\":\"PatientID=%{customdata[0]}<br>PID=%{x}<br>VoxelVolume=%{y}<br>time_index=%{customdata[1]}<br>StudyInstanceUID=%{customdata[2]}<br>StudyDate=%{customdata[3]}<br>StudyTime=%{customdata[4]}<extra></extra>\",\"legendgroup\":\"PCAMPMRI-00004\",\"line\":{\"color\":\"#00008b\",\"dash\":\"solid\"},\"marker\":{\"symbol\":\"circle\"},\"mode\":\"lines+markers\",\"name\":\"Expert\",\"orientation\":\"v\",\"showlegend\":false,\"x\":[\"00004_T0\",\"00004_T1\"],\"xaxis\":\"x\",\"y\":[22.2740765323,19.645225721246998],\"yaxis\":\"y\",\"type\":\"scatter\"},{\"customdata\":[[\"PCAMPMRI-00005\",\"T0\",\"1.3.6.1.4.1.14519.5.2.1.3671.4754.240823776621155108064488841063\",\"1994-09-10\",\"10:19:27\"],[\"PCAMPMRI-00005\",\"T1\",\"1.3.6.1.4.1.14519.5.2.1.3671.4754.233298968565250099224990877587\",\"1994-09-17\",\"11:56:24\"]],\"hovertemplate\":\"PatientID=%{customdata[0]}<br>PID=%{x}<br>VoxelVolume=%{y}<br>time_index=%{customdata[1]}<br>StudyInstanceUID=%{customdata[2]}<br>StudyDate=%{customdata[3]}<br>StudyTime=%{customdata[4]}<extra></extra>\",\"legendgroup\":\"PCAMPMRI-00005\",\"line\":{\"color\":\"#00008b\",\"dash\":\"solid\"},\"marker\":{\"symbol\":\"circle\"},\"mode\":\"lines+markers\",\"name\":\"Expert\",\"orientation\":\"v\",\"showlegend\":false,\"x\":[\"00005_T0\",\"00005_T1\"],\"xaxis\":\"x\",\"y\":[86.065075373575,61.309569480864],\"yaxis\":\"y\",\"type\":\"scatter\"},{\"customdata\":[[\"PCAMPMRI-00006\",\"T0\",\"1.3.6.1.4.1.14519.5.2.1.3671.4754.287814201869490350714498330797\",\"1994-09-24\",\"13:21:34\"],[\"PCAMPMRI-00006\",\"T1\",\"1.3.6.1.4.1.14519.5.2.1.3671.4754.133806669697115873569905534398\",\"1994-10-01\",\"13:35:34\"]],\"hovertemplate\":\"PatientID=%{customdata[0]}<br>PID=%{x}<br>VoxelVolume=%{y}<br>time_index=%{customdata[1]}<br>StudyInstanceUID=%{customdata[2]}<br>StudyDate=%{customdata[3]}<br>StudyTime=%{customdata[4]}<extra></extra>\",\"legendgroup\":\"PCAMPMRI-00006\",\"line\":{\"color\":\"#00008b\",\"dash\":\"solid\"},\"marker\":{\"symbol\":\"circle\"},\"mode\":\"lines+markers\",\"name\":\"Expert\",\"orientation\":\"v\",\"showlegend\":false,\"x\":[\"00006_T0\",\"00006_T1\"],\"xaxis\":\"x\",\"y\":[60.132610932225,56.97723415764],\"yaxis\":\"y\",\"type\":\"scatter\"},{\"customdata\":[[\"PCAMPMRI-00007\",\"T0\",\"1.3.6.1.4.1.14519.5.2.1.3671.4754.240243858523310211919840278205\",\"1994-10-01\",\"10:35:06\"],[\"PCAMPMRI-00007\",\"T1\",\"1.3.6.1.4.1.14519.5.2.1.3671.4754.962865348146140991373362412648\",\"1994-10-08\",\"11:39:10\"]],\"hovertemplate\":\"PatientID=%{customdata[0]}<br>PID=%{x}<br>VoxelVolume=%{y}<br>time_index=%{customdata[1]}<br>StudyInstanceUID=%{customdata[2]}<br>StudyDate=%{customdata[3]}<br>StudyTime=%{customdata[4]}<extra></extra>\",\"legendgroup\":\"PCAMPMRI-00007\",\"line\":{\"color\":\"#00008b\",\"dash\":\"solid\"},\"marker\":{\"symbol\":\"circle\"},\"mode\":\"lines+markers\",\"name\":\"Expert\",\"orientation\":\"v\",\"showlegend\":false,\"x\":[\"00007_T0\",\"00007_T1\"],\"xaxis\":\"x\",\"y\":[29.735513073649,28.350266456325],\"yaxis\":\"y\",\"type\":\"scatter\"},{\"customdata\":[[\"PCAMPMRI-00008\",\"T0\",\"1.3.6.1.4.1.14519.5.2.1.3671.4754.173585825705285812758858023242\",\"1995-06-17\",\"11:13:35\"],[\"PCAMPMRI-00008\",\"T1\",\"1.3.6.1.4.1.14519.5.2.1.3671.4754.266963586071007736606548226859\",\"1995-07-01\",\"13:11:06\"]],\"hovertemplate\":\"PatientID=%{customdata[0]}<br>PID=%{x}<br>VoxelVolume=%{y}<br>time_index=%{customdata[1]}<br>StudyInstanceUID=%{customdata[2]}<br>StudyDate=%{customdata[3]}<br>StudyTime=%{customdata[4]}<extra></extra>\",\"legendgroup\":\"PCAMPMRI-00008\",\"line\":{\"color\":\"#00008b\",\"dash\":\"solid\"},\"marker\":{\"symbol\":\"circle\"},\"mode\":\"lines+markers\",\"name\":\"Expert\",\"orientation\":\"v\",\"showlegend\":false,\"x\":[\"00008_T0\",\"00008_T1\"],\"xaxis\":\"x\",\"y\":[53.61810859648,64.514696521222],\"yaxis\":\"y\",\"type\":\"scatter\"},{\"customdata\":[[\"PCAMPMRI-00009\",\"T0\",\"1.3.6.1.4.1.14519.5.2.1.3671.4754.864607788085827202303582199118\",\"1995-07-01\",\"14:27:21\"],[\"PCAMPMRI-00009\",\"T1\",\"1.3.6.1.4.1.14519.5.2.1.3671.4754.181478254003851548055481596513\",\"1995-07-08\",\"16:34:40\"]],\"hovertemplate\":\"PatientID=%{customdata[0]}<br>PID=%{x}<br>VoxelVolume=%{y}<br>time_index=%{customdata[1]}<br>StudyInstanceUID=%{customdata[2]}<br>StudyDate=%{customdata[3]}<br>StudyTime=%{customdata[4]}<extra></extra>\",\"legendgroup\":\"PCAMPMRI-00009\",\"line\":{\"color\":\"#00008b\",\"dash\":\"solid\"},\"marker\":{\"symbol\":\"circle\"},\"mode\":\"lines+markers\",\"name\":\"Expert\",\"orientation\":\"v\",\"showlegend\":false,\"x\":[\"00009_T0\",\"00009_T1\"],\"xaxis\":\"x\",\"y\":[97.074554630215,115.93473324539899],\"yaxis\":\"y\",\"type\":\"scatter\"},{\"customdata\":[[\"PCAMPMRI-00010\",\"T0\",\"1.3.6.1.4.1.14519.5.2.1.3671.4754.217251077299095981018478951589\",\"1995-07-06\",\"11:06:56\"],[\"PCAMPMRI-00010\",\"T1\",\"1.3.6.1.4.1.14519.5.2.1.3671.4754.318227959935022390930294557376\",\"1995-07-09\",\"15:04:41\"]],\"hovertemplate\":\"PatientID=%{customdata[0]}<br>PID=%{x}<br>VoxelVolume=%{y}<br>time_index=%{customdata[1]}<br>StudyInstanceUID=%{customdata[2]}<br>StudyDate=%{customdata[3]}<br>StudyTime=%{customdata[4]}<extra></extra>\",\"legendgroup\":\"PCAMPMRI-00010\",\"line\":{\"color\":\"#00008b\",\"dash\":\"solid\"},\"marker\":{\"symbol\":\"circle\"},\"mode\":\"lines+markers\",\"name\":\"Expert\",\"orientation\":\"v\",\"showlegend\":false,\"x\":[\"00010_T0\",\"00010_T1\"],\"xaxis\":\"x\",\"y\":[43.041272136957,33.729712340446],\"yaxis\":\"y\",\"type\":\"scatter\"},{\"customdata\":[[\"PCAMPMRI-00011\",\"T0\",\"1.3.6.1.4.1.14519.5.2.1.3671.4754.131608903441424620949571415524\",\"1995-08-26\",\"16:18:17\"],[\"PCAMPMRI-00011\",\"T1\",\"1.3.6.1.4.1.14519.5.2.1.3671.4754.117496148504386222592571043379\",\"1995-09-08\",\"16:04:30\"]],\"hovertemplate\":\"PatientID=%{customdata[0]}<br>PID=%{x}<br>VoxelVolume=%{y}<br>time_index=%{customdata[1]}<br>StudyInstanceUID=%{customdata[2]}<br>StudyDate=%{customdata[3]}<br>StudyTime=%{customdata[4]}<extra></extra>\",\"legendgroup\":\"PCAMPMRI-00011\",\"line\":{\"color\":\"#00008b\",\"dash\":\"solid\"},\"marker\":{\"symbol\":\"circle\"},\"mode\":\"lines+markers\",\"name\":\"Expert\",\"orientation\":\"v\",\"showlegend\":false,\"x\":[\"00011_T0\",\"00011_T1\"],\"xaxis\":\"x\",\"y\":[25.593657635602998,26.857522752292],\"yaxis\":\"y\",\"type\":\"scatter\"},{\"customdata\":[[\"PCAMPMRI-00012\",\"T0\",\"1.3.6.1.4.1.14519.5.2.1.3671.4754.298665348758363466150039312520\",\"1995-12-15\",\"13:14:45\"],[\"PCAMPMRI-00012\",\"T1\",\"1.3.6.1.4.1.14519.5.2.1.3671.4754.264231410930579591639987629694\",\"1995-12-23\",\"11:37:57\"]],\"hovertemplate\":\"PatientID=%{customdata[0]}<br>PID=%{x}<br>VoxelVolume=%{y}<br>time_index=%{customdata[1]}<br>StudyInstanceUID=%{customdata[2]}<br>StudyDate=%{customdata[3]}<br>StudyTime=%{customdata[4]}<extra></extra>\",\"legendgroup\":\"PCAMPMRI-00012\",\"line\":{\"color\":\"#00008b\",\"dash\":\"solid\"},\"marker\":{\"symbol\":\"circle\"},\"mode\":\"lines+markers\",\"name\":\"Expert\",\"orientation\":\"v\",\"showlegend\":false,\"x\":[\"00012_T0\",\"00012_T1\"],\"xaxis\":\"x\",\"y\":[94.589734000702,95.346710206598],\"yaxis\":\"y\",\"type\":\"scatter\"},{\"customdata\":[[\"PCAMPMRI-00013\",\"T0\",\"1.3.6.1.4.1.14519.5.2.1.3671.4754.211895462561589970837377570121\",\"1996-02-22\",\"15:23:46\"],[\"PCAMPMRI-00013\",\"T1\",\"1.3.6.1.4.1.14519.5.2.1.3671.4754.245461598867316286839568962369\",\"1996-03-07\",\"16:34:49\"]],\"hovertemplate\":\"PatientID=%{customdata[0]}<br>PID=%{x}<br>VoxelVolume=%{y}<br>time_index=%{customdata[1]}<br>StudyInstanceUID=%{customdata[2]}<br>StudyDate=%{customdata[3]}<br>StudyTime=%{customdata[4]}<extra></extra>\",\"legendgroup\":\"PCAMPMRI-00013\",\"line\":{\"color\":\"#00008b\",\"dash\":\"solid\"},\"marker\":{\"symbol\":\"circle\"},\"mode\":\"lines+markers\",\"name\":\"Expert\",\"orientation\":\"v\",\"showlegend\":false,\"x\":[\"00013_T0\",\"00013_T1\"],\"xaxis\":\"x\",\"y\":[24.997369639222,25.136010410657],\"yaxis\":\"y\",\"type\":\"scatter\"},{\"customdata\":[[\"PCAMPMRI-00014\",\"T0\",\"1.3.6.1.4.1.14519.5.2.1.3671.4754.288453744990673175783381845880\",\"1996-03-16\",\"13:07:27\"],[\"PCAMPMRI-00014\",\"T1\",\"1.3.6.1.4.1.14519.5.2.1.3671.4754.194890890650697728529329442454\",\"1996-03-24\",\"16:25:49\"]],\"hovertemplate\":\"PatientID=%{customdata[0]}<br>PID=%{x}<br>VoxelVolume=%{y}<br>time_index=%{customdata[1]}<br>StudyInstanceUID=%{customdata[2]}<br>StudyDate=%{customdata[3]}<br>StudyTime=%{customdata[4]}<extra></extra>\",\"legendgroup\":\"PCAMPMRI-00014\",\"line\":{\"color\":\"#00008b\",\"dash\":\"solid\"},\"marker\":{\"symbol\":\"circle\"},\"mode\":\"lines+markers\",\"name\":\"Expert\",\"orientation\":\"v\",\"showlegend\":false,\"x\":[\"00014_T0\",\"00014_T1\"],\"xaxis\":\"x\",\"y\":[24.570574924076002,22.554998488463],\"yaxis\":\"y\",\"type\":\"scatter\"},{\"customdata\":[[\"PCAMPMRI-00015\",\"T0\",\"1.3.6.1.4.1.14519.5.2.1.3671.4754.182983245842036631781777324507\",\"1996-05-02\",\"11:15:55\"],[\"PCAMPMRI-00015\",\"T1\",\"1.3.6.1.4.1.14519.5.2.1.3671.4754.431678793261759442965045820561\",\"1996-05-16\",\"11:48:12\"]],\"hovertemplate\":\"PatientID=%{customdata[0]}<br>PID=%{x}<br>VoxelVolume=%{y}<br>time_index=%{customdata[1]}<br>StudyInstanceUID=%{customdata[2]}<br>StudyDate=%{customdata[3]}<br>StudyTime=%{customdata[4]}<extra></extra>\",\"legendgroup\":\"PCAMPMRI-00015\",\"line\":{\"color\":\"#00008b\",\"dash\":\"solid\"},\"marker\":{\"symbol\":\"circle\"},\"mode\":\"lines+markers\",\"name\":\"Expert\",\"orientation\":\"v\",\"showlegend\":false,\"x\":[\"00015_T0\",\"00015_T1\"],\"xaxis\":\"x\",\"y\":[67.536905219706,62.493163302244994],\"yaxis\":\"y\",\"type\":\"scatter\"}],                        {\"template\":{\"layout\":{\"colorway\":[\"#00008b\"]}},\"xaxis\":{\"anchor\":\"y\",\"domain\":[0.0,1.0],\"title\":{\"text\":\"PID\"},\"tickangle\":0,\"ticktext\":[\"        01\",\"\",\"        02\",\"\",\"        03\",\"\",\"        04\",\"\",\"        05\",\"\",\"        06\",\"\",\"        07\",\"\",\"        08\",\"\",\"        09\",\"\",\"        10\",\"\",\"        11\",\"\",\"        12\",\"\",\"        13\",\"\",\"        14\",\"\",\"        15\",\"\"],\"tickvals\":[\"00001_T0\",\"00001_T1\",\"00002_T0\",\"00002_T1\",\"00003_T0\",\"00003_T1\",\"00004_T0\",\"00004_T1\",\"00005_T0\",\"00005_T1\",\"00006_T0\",\"00006_T1\",\"00007_T0\",\"00007_T1\",\"00008_T0\",\"00008_T1\",\"00009_T0\",\"00009_T1\",\"00010_T0\",\"00010_T1\",\"00011_T0\",\"00011_T1\",\"00012_T0\",\"00012_T1\",\"00013_T0\",\"00013_T1\",\"00014_T0\",\"00014_T1\",\"00015_T0\",\"00015_T1\"]},\"yaxis\":{\"anchor\":\"x\",\"domain\":[0.0,1.0],\"title\":{\"text\":\"VoxelVolume\"}},\"legend\":{\"title\":{\"text\":\"\"},\"tracegroupgap\":0,\"font\":{\"size\":9}},\"margin\":{\"t\":60},\"height\":400,\"width\":1100,\"font\":{\"size\":10},\"showlegend\":true},                        {\"responsive\": true}                    ).then(function(){\n",
              "                            \n",
              "var gd = document.getElementById('1d5f0beb-7f43-464f-8bbe-df215681e6ed');\n",
              "var x = new MutationObserver(function (mutations, observer) {{\n",
              "        var display = window.getComputedStyle(gd).display;\n",
              "        if (!display || display === 'none') {{\n",
              "            console.log([gd, 'removed!']);\n",
              "            Plotly.purge(gd);\n",
              "            observer.disconnect();\n",
              "        }}\n",
              "}});\n",
              "\n",
              "// Listen for the removal of the full notebook cells\n",
              "var notebookContainer = gd.closest('#notebook-container');\n",
              "if (notebookContainer) {{\n",
              "    x.observe(notebookContainer, {childList: true});\n",
              "}}\n",
              "\n",
              "// Listen for the clearing of the current output cell\n",
              "var outputEl = gd.closest('.output');\n",
              "if (outputEl) {{\n",
              "    x.observe(outputEl, {childList: true});\n",
              "}}\n",
              "\n",
              "                        })                };                            </script>        </div>\n",
              "</body>\n",
              "</html>"
            ]
          },
          "metadata": {}
        }
      ]
    },
    {
      "cell_type": "markdown",
      "source": [
        "### Combined"
      ],
      "metadata": {
        "id": "gDmSh3grfZqC"
      }
    },
    {
      "cell_type": "code",
      "source": [
        "#rename gt_cols\n",
        "# merged_df_gt_idc.columns = 'idc_' + merged_df_gt_idc.columns.values\n",
        "# merged_combined_df_idc = merged_df_nnuNet.merge(merged_df_gt_idc, left_on='PID', right_on='idc_PID', suffixes=(False, False))\n",
        "#legend idc\n",
        "fig = go.Figure(data = fig_gt_idc.data + fig_ai.data)\n",
        "fig.update_layout(showlegend=True)\n",
        "fig.update_xaxes(tickangle=0, ticktext=x_ticks_formatted,\n",
        "                        tickvals=list(temp_df[\"PID\"].values))\n",
        "fig.update_layout(\n",
        "                  width=1100, height=400,\n",
        "                  title='QIN-Prostate-REPEATABILITY collection, repeatability study of volume between AI and expert whole prostate segmentations',\n",
        "                  xaxis_title=\"CaseID\",\n",
        "                  yaxis_title=\"Volume, mL\",\n",
        "                  font=dict(size=10),\n",
        "                  font_color=\"black\")\n",
        "fig.update_layout(margin=dict(l=80, r=80, t=80, b=80))\n",
        "fig.update_layout(legend=dict(orientation = \"v\", yanchor=\"top\",y=1,xanchor=\"right\", x=1))\n",
        "fig.show()\n",
        "# fig.write_image(\"repeat_whole_prostate.png\")"
      ],
      "metadata": {
        "id": "avkhIdU7CYDo",
        "colab": {
          "base_uri": "https://localhost:8080/",
          "height": 417
        },
        "outputId": "40107ac3-a819-4e8e-bf76-38361182e7ca"
      },
      "execution_count": 36,
      "outputs": [
        {
          "output_type": "display_data",
          "data": {
            "text/html": [
              "<html>\n",
              "<head><meta charset=\"utf-8\" /></head>\n",
              "<body>\n",
              "    <div>            <script src=\"https://cdnjs.cloudflare.com/ajax/libs/mathjax/2.7.5/MathJax.js?config=TeX-AMS-MML_SVG\"></script><script type=\"text/javascript\">if (window.MathJax && window.MathJax.Hub && window.MathJax.Hub.Config) {window.MathJax.Hub.Config({SVG: {font: \"STIX-Web\"}});}</script>                <script type=\"text/javascript\">window.PlotlyConfig = {MathJaxConfig: 'local'};</script>\n",
              "        <script src=\"https://cdn.plot.ly/plotly-2.18.2.min.js\"></script>                <div id=\"57447df7-2a47-4a9b-aa00-4cfedd050953\" class=\"plotly-graph-div\" style=\"height:400px; width:1100px;\"></div>            <script type=\"text/javascript\">                                    window.PLOTLYENV=window.PLOTLYENV || {};                                    if (document.getElementById(\"57447df7-2a47-4a9b-aa00-4cfedd050953\")) {                    Plotly.newPlot(                        \"57447df7-2a47-4a9b-aa00-4cfedd050953\",                        [{\"customdata\":[[\"PCAMPMRI-00001\",\"T0\",\"1.3.6.1.4.1.14519.5.2.1.3671.4754.121472087445374646718121301133\",\"1994-06-20\",\"09:27:15\"],[\"PCAMPMRI-00001\",\"T1\",\"1.3.6.1.4.1.14519.5.2.1.3671.4754.288848219213026850354055725664\",\"1994-07-02\",\"13:25:31\"]],\"hovertemplate\":\"PatientID=%{customdata[0]}<br>PID=%{x}<br>VoxelVolume=%{y}<br>time_index=%{customdata[1]}<br>StudyInstanceUID=%{customdata[2]}<br>StudyDate=%{customdata[3]}<br>StudyTime=%{customdata[4]}<extra></extra>\",\"legendgroup\":\"PCAMPMRI-00001\",\"line\":{\"color\":\"#00008b\",\"dash\":\"solid\"},\"marker\":{\"symbol\":\"circle\"},\"mode\":\"lines+markers\",\"name\":\"Expert\",\"orientation\":\"v\",\"showlegend\":true,\"x\":[\"00001_T0\",\"00001_T1\"],\"xaxis\":\"x\",\"y\":[27.737589173477,23.925199359257],\"yaxis\":\"y\",\"type\":\"scatter\"},{\"customdata\":[[\"PCAMPMRI-00002\",\"T0\",\"1.3.6.1.4.1.14519.5.2.1.3671.4754.304001015100152820571364796240\",\"1994-07-09\",\"12:17:16\"],[\"PCAMPMRI-00002\",\"T1\",\"1.3.6.1.4.1.14519.5.2.1.3671.4754.568383070573576760578239627478\",\"1994-07-23\",\"13:21:16\"]],\"hovertemplate\":\"PatientID=%{customdata[0]}<br>PID=%{x}<br>VoxelVolume=%{y}<br>time_index=%{customdata[1]}<br>StudyInstanceUID=%{customdata[2]}<br>StudyDate=%{customdata[3]}<br>StudyTime=%{customdata[4]}<extra></extra>\",\"legendgroup\":\"PCAMPMRI-00002\",\"line\":{\"color\":\"#00008b\",\"dash\":\"solid\"},\"marker\":{\"symbol\":\"circle\"},\"mode\":\"lines+markers\",\"name\":\"Expert\",\"orientation\":\"v\",\"showlegend\":false,\"x\":[\"00002_T0\",\"00002_T1\"],\"xaxis\":\"x\",\"y\":[32.57185904801,29.796566052918998],\"yaxis\":\"y\",\"type\":\"scatter\"},{\"customdata\":[[\"PCAMPMRI-00003\",\"T0\",\"1.3.6.1.4.1.14519.5.2.1.3671.4754.162322077241419864654545266845\",\"1994-08-11\",\"14:12:33\"],[\"PCAMPMRI-00003\",\"T1\",\"1.3.6.1.4.1.14519.5.2.1.3671.4754.263464522348816475234793721892\",\"1994-08-25\",\"11:39:59\"]],\"hovertemplate\":\"PatientID=%{customdata[0]}<br>PID=%{x}<br>VoxelVolume=%{y}<br>time_index=%{customdata[1]}<br>StudyInstanceUID=%{customdata[2]}<br>StudyDate=%{customdata[3]}<br>StudyTime=%{customdata[4]}<extra></extra>\",\"legendgroup\":\"PCAMPMRI-00003\",\"line\":{\"color\":\"#00008b\",\"dash\":\"solid\"},\"marker\":{\"symbol\":\"circle\"},\"mode\":\"lines+markers\",\"name\":\"Expert\",\"orientation\":\"v\",\"showlegend\":false,\"x\":[\"00003_T0\",\"00003_T1\"],\"xaxis\":\"x\",\"y\":[19.066116089816997,19.534912042922],\"yaxis\":\"y\",\"type\":\"scatter\"},{\"customdata\":[[\"PCAMPMRI-00004\",\"T0\",\"1.3.6.1.4.1.14519.5.2.1.3671.4754.394942238206951812120962051099\",\"1994-09-03\",\"10:41:20\"],[\"PCAMPMRI-00004\",\"T1\",\"1.3.6.1.4.1.14519.5.2.1.3671.4754.204078048920967920419177848890\",\"1994-09-12\",\"14:43:38\"]],\"hovertemplate\":\"PatientID=%{customdata[0]}<br>PID=%{x}<br>VoxelVolume=%{y}<br>time_index=%{customdata[1]}<br>StudyInstanceUID=%{customdata[2]}<br>StudyDate=%{customdata[3]}<br>StudyTime=%{customdata[4]}<extra></extra>\",\"legendgroup\":\"PCAMPMRI-00004\",\"line\":{\"color\":\"#00008b\",\"dash\":\"solid\"},\"marker\":{\"symbol\":\"circle\"},\"mode\":\"lines+markers\",\"name\":\"Expert\",\"orientation\":\"v\",\"showlegend\":false,\"x\":[\"00004_T0\",\"00004_T1\"],\"xaxis\":\"x\",\"y\":[22.2740765323,19.645225721246998],\"yaxis\":\"y\",\"type\":\"scatter\"},{\"customdata\":[[\"PCAMPMRI-00005\",\"T0\",\"1.3.6.1.4.1.14519.5.2.1.3671.4754.240823776621155108064488841063\",\"1994-09-10\",\"10:19:27\"],[\"PCAMPMRI-00005\",\"T1\",\"1.3.6.1.4.1.14519.5.2.1.3671.4754.233298968565250099224990877587\",\"1994-09-17\",\"11:56:24\"]],\"hovertemplate\":\"PatientID=%{customdata[0]}<br>PID=%{x}<br>VoxelVolume=%{y}<br>time_index=%{customdata[1]}<br>StudyInstanceUID=%{customdata[2]}<br>StudyDate=%{customdata[3]}<br>StudyTime=%{customdata[4]}<extra></extra>\",\"legendgroup\":\"PCAMPMRI-00005\",\"line\":{\"color\":\"#00008b\",\"dash\":\"solid\"},\"marker\":{\"symbol\":\"circle\"},\"mode\":\"lines+markers\",\"name\":\"Expert\",\"orientation\":\"v\",\"showlegend\":false,\"x\":[\"00005_T0\",\"00005_T1\"],\"xaxis\":\"x\",\"y\":[86.065075373575,61.309569480864],\"yaxis\":\"y\",\"type\":\"scatter\"},{\"customdata\":[[\"PCAMPMRI-00006\",\"T0\",\"1.3.6.1.4.1.14519.5.2.1.3671.4754.287814201869490350714498330797\",\"1994-09-24\",\"13:21:34\"],[\"PCAMPMRI-00006\",\"T1\",\"1.3.6.1.4.1.14519.5.2.1.3671.4754.133806669697115873569905534398\",\"1994-10-01\",\"13:35:34\"]],\"hovertemplate\":\"PatientID=%{customdata[0]}<br>PID=%{x}<br>VoxelVolume=%{y}<br>time_index=%{customdata[1]}<br>StudyInstanceUID=%{customdata[2]}<br>StudyDate=%{customdata[3]}<br>StudyTime=%{customdata[4]}<extra></extra>\",\"legendgroup\":\"PCAMPMRI-00006\",\"line\":{\"color\":\"#00008b\",\"dash\":\"solid\"},\"marker\":{\"symbol\":\"circle\"},\"mode\":\"lines+markers\",\"name\":\"Expert\",\"orientation\":\"v\",\"showlegend\":false,\"x\":[\"00006_T0\",\"00006_T1\"],\"xaxis\":\"x\",\"y\":[60.132610932225,56.97723415764],\"yaxis\":\"y\",\"type\":\"scatter\"},{\"customdata\":[[\"PCAMPMRI-00007\",\"T0\",\"1.3.6.1.4.1.14519.5.2.1.3671.4754.240243858523310211919840278205\",\"1994-10-01\",\"10:35:06\"],[\"PCAMPMRI-00007\",\"T1\",\"1.3.6.1.4.1.14519.5.2.1.3671.4754.962865348146140991373362412648\",\"1994-10-08\",\"11:39:10\"]],\"hovertemplate\":\"PatientID=%{customdata[0]}<br>PID=%{x}<br>VoxelVolume=%{y}<br>time_index=%{customdata[1]}<br>StudyInstanceUID=%{customdata[2]}<br>StudyDate=%{customdata[3]}<br>StudyTime=%{customdata[4]}<extra></extra>\",\"legendgroup\":\"PCAMPMRI-00007\",\"line\":{\"color\":\"#00008b\",\"dash\":\"solid\"},\"marker\":{\"symbol\":\"circle\"},\"mode\":\"lines+markers\",\"name\":\"Expert\",\"orientation\":\"v\",\"showlegend\":false,\"x\":[\"00007_T0\",\"00007_T1\"],\"xaxis\":\"x\",\"y\":[29.735513073649,28.350266456325],\"yaxis\":\"y\",\"type\":\"scatter\"},{\"customdata\":[[\"PCAMPMRI-00008\",\"T0\",\"1.3.6.1.4.1.14519.5.2.1.3671.4754.173585825705285812758858023242\",\"1995-06-17\",\"11:13:35\"],[\"PCAMPMRI-00008\",\"T1\",\"1.3.6.1.4.1.14519.5.2.1.3671.4754.266963586071007736606548226859\",\"1995-07-01\",\"13:11:06\"]],\"hovertemplate\":\"PatientID=%{customdata[0]}<br>PID=%{x}<br>VoxelVolume=%{y}<br>time_index=%{customdata[1]}<br>StudyInstanceUID=%{customdata[2]}<br>StudyDate=%{customdata[3]}<br>StudyTime=%{customdata[4]}<extra></extra>\",\"legendgroup\":\"PCAMPMRI-00008\",\"line\":{\"color\":\"#00008b\",\"dash\":\"solid\"},\"marker\":{\"symbol\":\"circle\"},\"mode\":\"lines+markers\",\"name\":\"Expert\",\"orientation\":\"v\",\"showlegend\":false,\"x\":[\"00008_T0\",\"00008_T1\"],\"xaxis\":\"x\",\"y\":[53.61810859648,64.514696521222],\"yaxis\":\"y\",\"type\":\"scatter\"},{\"customdata\":[[\"PCAMPMRI-00009\",\"T0\",\"1.3.6.1.4.1.14519.5.2.1.3671.4754.864607788085827202303582199118\",\"1995-07-01\",\"14:27:21\"],[\"PCAMPMRI-00009\",\"T1\",\"1.3.6.1.4.1.14519.5.2.1.3671.4754.181478254003851548055481596513\",\"1995-07-08\",\"16:34:40\"]],\"hovertemplate\":\"PatientID=%{customdata[0]}<br>PID=%{x}<br>VoxelVolume=%{y}<br>time_index=%{customdata[1]}<br>StudyInstanceUID=%{customdata[2]}<br>StudyDate=%{customdata[3]}<br>StudyTime=%{customdata[4]}<extra></extra>\",\"legendgroup\":\"PCAMPMRI-00009\",\"line\":{\"color\":\"#00008b\",\"dash\":\"solid\"},\"marker\":{\"symbol\":\"circle\"},\"mode\":\"lines+markers\",\"name\":\"Expert\",\"orientation\":\"v\",\"showlegend\":false,\"x\":[\"00009_T0\",\"00009_T1\"],\"xaxis\":\"x\",\"y\":[97.074554630215,115.93473324539899],\"yaxis\":\"y\",\"type\":\"scatter\"},{\"customdata\":[[\"PCAMPMRI-00010\",\"T0\",\"1.3.6.1.4.1.14519.5.2.1.3671.4754.217251077299095981018478951589\",\"1995-07-06\",\"11:06:56\"],[\"PCAMPMRI-00010\",\"T1\",\"1.3.6.1.4.1.14519.5.2.1.3671.4754.318227959935022390930294557376\",\"1995-07-09\",\"15:04:41\"]],\"hovertemplate\":\"PatientID=%{customdata[0]}<br>PID=%{x}<br>VoxelVolume=%{y}<br>time_index=%{customdata[1]}<br>StudyInstanceUID=%{customdata[2]}<br>StudyDate=%{customdata[3]}<br>StudyTime=%{customdata[4]}<extra></extra>\",\"legendgroup\":\"PCAMPMRI-00010\",\"line\":{\"color\":\"#00008b\",\"dash\":\"solid\"},\"marker\":{\"symbol\":\"circle\"},\"mode\":\"lines+markers\",\"name\":\"Expert\",\"orientation\":\"v\",\"showlegend\":false,\"x\":[\"00010_T0\",\"00010_T1\"],\"xaxis\":\"x\",\"y\":[43.041272136957,33.729712340446],\"yaxis\":\"y\",\"type\":\"scatter\"},{\"customdata\":[[\"PCAMPMRI-00011\",\"T0\",\"1.3.6.1.4.1.14519.5.2.1.3671.4754.131608903441424620949571415524\",\"1995-08-26\",\"16:18:17\"],[\"PCAMPMRI-00011\",\"T1\",\"1.3.6.1.4.1.14519.5.2.1.3671.4754.117496148504386222592571043379\",\"1995-09-08\",\"16:04:30\"]],\"hovertemplate\":\"PatientID=%{customdata[0]}<br>PID=%{x}<br>VoxelVolume=%{y}<br>time_index=%{customdata[1]}<br>StudyInstanceUID=%{customdata[2]}<br>StudyDate=%{customdata[3]}<br>StudyTime=%{customdata[4]}<extra></extra>\",\"legendgroup\":\"PCAMPMRI-00011\",\"line\":{\"color\":\"#00008b\",\"dash\":\"solid\"},\"marker\":{\"symbol\":\"circle\"},\"mode\":\"lines+markers\",\"name\":\"Expert\",\"orientation\":\"v\",\"showlegend\":false,\"x\":[\"00011_T0\",\"00011_T1\"],\"xaxis\":\"x\",\"y\":[25.593657635602998,26.857522752292],\"yaxis\":\"y\",\"type\":\"scatter\"},{\"customdata\":[[\"PCAMPMRI-00012\",\"T0\",\"1.3.6.1.4.1.14519.5.2.1.3671.4754.298665348758363466150039312520\",\"1995-12-15\",\"13:14:45\"],[\"PCAMPMRI-00012\",\"T1\",\"1.3.6.1.4.1.14519.5.2.1.3671.4754.264231410930579591639987629694\",\"1995-12-23\",\"11:37:57\"]],\"hovertemplate\":\"PatientID=%{customdata[0]}<br>PID=%{x}<br>VoxelVolume=%{y}<br>time_index=%{customdata[1]}<br>StudyInstanceUID=%{customdata[2]}<br>StudyDate=%{customdata[3]}<br>StudyTime=%{customdata[4]}<extra></extra>\",\"legendgroup\":\"PCAMPMRI-00012\",\"line\":{\"color\":\"#00008b\",\"dash\":\"solid\"},\"marker\":{\"symbol\":\"circle\"},\"mode\":\"lines+markers\",\"name\":\"Expert\",\"orientation\":\"v\",\"showlegend\":false,\"x\":[\"00012_T0\",\"00012_T1\"],\"xaxis\":\"x\",\"y\":[94.589734000702,95.346710206598],\"yaxis\":\"y\",\"type\":\"scatter\"},{\"customdata\":[[\"PCAMPMRI-00013\",\"T0\",\"1.3.6.1.4.1.14519.5.2.1.3671.4754.211895462561589970837377570121\",\"1996-02-22\",\"15:23:46\"],[\"PCAMPMRI-00013\",\"T1\",\"1.3.6.1.4.1.14519.5.2.1.3671.4754.245461598867316286839568962369\",\"1996-03-07\",\"16:34:49\"]],\"hovertemplate\":\"PatientID=%{customdata[0]}<br>PID=%{x}<br>VoxelVolume=%{y}<br>time_index=%{customdata[1]}<br>StudyInstanceUID=%{customdata[2]}<br>StudyDate=%{customdata[3]}<br>StudyTime=%{customdata[4]}<extra></extra>\",\"legendgroup\":\"PCAMPMRI-00013\",\"line\":{\"color\":\"#00008b\",\"dash\":\"solid\"},\"marker\":{\"symbol\":\"circle\"},\"mode\":\"lines+markers\",\"name\":\"Expert\",\"orientation\":\"v\",\"showlegend\":false,\"x\":[\"00013_T0\",\"00013_T1\"],\"xaxis\":\"x\",\"y\":[24.997369639222,25.136010410657],\"yaxis\":\"y\",\"type\":\"scatter\"},{\"customdata\":[[\"PCAMPMRI-00014\",\"T0\",\"1.3.6.1.4.1.14519.5.2.1.3671.4754.288453744990673175783381845880\",\"1996-03-16\",\"13:07:27\"],[\"PCAMPMRI-00014\",\"T1\",\"1.3.6.1.4.1.14519.5.2.1.3671.4754.194890890650697728529329442454\",\"1996-03-24\",\"16:25:49\"]],\"hovertemplate\":\"PatientID=%{customdata[0]}<br>PID=%{x}<br>VoxelVolume=%{y}<br>time_index=%{customdata[1]}<br>StudyInstanceUID=%{customdata[2]}<br>StudyDate=%{customdata[3]}<br>StudyTime=%{customdata[4]}<extra></extra>\",\"legendgroup\":\"PCAMPMRI-00014\",\"line\":{\"color\":\"#00008b\",\"dash\":\"solid\"},\"marker\":{\"symbol\":\"circle\"},\"mode\":\"lines+markers\",\"name\":\"Expert\",\"orientation\":\"v\",\"showlegend\":false,\"x\":[\"00014_T0\",\"00014_T1\"],\"xaxis\":\"x\",\"y\":[24.570574924076002,22.554998488463],\"yaxis\":\"y\",\"type\":\"scatter\"},{\"customdata\":[[\"PCAMPMRI-00015\",\"T0\",\"1.3.6.1.4.1.14519.5.2.1.3671.4754.182983245842036631781777324507\",\"1996-05-02\",\"11:15:55\"],[\"PCAMPMRI-00015\",\"T1\",\"1.3.6.1.4.1.14519.5.2.1.3671.4754.431678793261759442965045820561\",\"1996-05-16\",\"11:48:12\"]],\"hovertemplate\":\"PatientID=%{customdata[0]}<br>PID=%{x}<br>VoxelVolume=%{y}<br>time_index=%{customdata[1]}<br>StudyInstanceUID=%{customdata[2]}<br>StudyDate=%{customdata[3]}<br>StudyTime=%{customdata[4]}<extra></extra>\",\"legendgroup\":\"PCAMPMRI-00015\",\"line\":{\"color\":\"#00008b\",\"dash\":\"solid\"},\"marker\":{\"symbol\":\"circle\"},\"mode\":\"lines+markers\",\"name\":\"Expert\",\"orientation\":\"v\",\"showlegend\":false,\"x\":[\"00015_T0\",\"00015_T1\"],\"xaxis\":\"x\",\"y\":[67.536905219706,62.493163302244994],\"yaxis\":\"y\",\"type\":\"scatter\"},{\"customdata\":[[\"PCAMPMRI-00001\",\"T0\",\"1.3.6.1.4.1.14519.5.2.1.3671.4754.121472087445374646718121301133\",\"1994-06-20\",\"09:27:15\"],[\"PCAMPMRI-00001\",\"T1\",\"1.3.6.1.4.1.14519.5.2.1.3671.4754.288848219213026850354055725664\",\"1994-07-02\",\"13:25:31\"]],\"hovertemplate\":\"PatientID=%{customdata[0]}<br>PID=%{x}<br>VoxelVolume=%{y}<br>time_index=%{customdata[1]}<br>StudyInstanceUID=%{customdata[2]}<br>StudyDate=%{customdata[3]}<br>StudyTime=%{customdata[4]}<extra></extra>\",\"legendgroup\":\"PCAMPMRI-00001\",\"line\":{\"color\":\"#8b0000\",\"dash\":\"solid\"},\"marker\":{\"symbol\":\"circle\"},\"mode\":\"lines+markers\",\"name\":\"AI\",\"orientation\":\"v\",\"showlegend\":true,\"x\":[\"00001_T0\",\"00001_T1\"],\"xaxis\":\"x\",\"y\":[36.21533203125,34.14745323558015],\"yaxis\":\"y\",\"type\":\"scatter\"},{\"customdata\":[[\"PCAMPMRI-00002\",\"T0\",\"1.3.6.1.4.1.14519.5.2.1.3671.4754.304001015100152820571364796240\",\"1994-07-09\",\"12:17:16\"],[\"PCAMPMRI-00002\",\"T1\",\"1.3.6.1.4.1.14519.5.2.1.3671.4754.568383070573576760578239627478\",\"1994-07-23\",\"13:21:16\"]],\"hovertemplate\":\"PatientID=%{customdata[0]}<br>PID=%{x}<br>VoxelVolume=%{y}<br>time_index=%{customdata[1]}<br>StudyInstanceUID=%{customdata[2]}<br>StudyDate=%{customdata[3]}<br>StudyTime=%{customdata[4]}<extra></extra>\",\"legendgroup\":\"PCAMPMRI-00002\",\"line\":{\"color\":\"#8b0000\",\"dash\":\"solid\"},\"marker\":{\"symbol\":\"circle\"},\"mode\":\"lines+markers\",\"name\":\"AI\",\"orientation\":\"v\",\"showlegend\":false,\"x\":[\"00002_T0\",\"00002_T1\"],\"xaxis\":\"x\",\"y\":[36.56220703125,36.2443359375],\"yaxis\":\"y\",\"type\":\"scatter\"},{\"customdata\":[[\"PCAMPMRI-00003\",\"T0\",\"1.3.6.1.4.1.14519.5.2.1.3671.4754.162322077241419864654545266845\",\"1994-08-11\",\"14:12:33\"],[\"PCAMPMRI-00003\",\"T1\",\"1.3.6.1.4.1.14519.5.2.1.3671.4754.263464522348816475234793721892\",\"1994-08-25\",\"11:39:59\"]],\"hovertemplate\":\"PatientID=%{customdata[0]}<br>PID=%{x}<br>VoxelVolume=%{y}<br>time_index=%{customdata[1]}<br>StudyInstanceUID=%{customdata[2]}<br>StudyDate=%{customdata[3]}<br>StudyTime=%{customdata[4]}<extra></extra>\",\"legendgroup\":\"PCAMPMRI-00003\",\"line\":{\"color\":\"#8b0000\",\"dash\":\"solid\"},\"marker\":{\"symbol\":\"circle\"},\"mode\":\"lines+markers\",\"name\":\"AI\",\"orientation\":\"v\",\"showlegend\":false,\"x\":[\"00003_T0\",\"00003_T1\"],\"xaxis\":\"x\",\"y\":[25.299736308306457,25.9494140625],\"yaxis\":\"y\",\"type\":\"scatter\"},{\"customdata\":[[\"PCAMPMRI-00004\",\"T0\",\"1.3.6.1.4.1.14519.5.2.1.3671.4754.394942238206951812120962051099\",\"1994-09-03\",\"10:41:20\"],[\"PCAMPMRI-00004\",\"T1\",\"1.3.6.1.4.1.14519.5.2.1.3671.4754.204078048920967920419177848890\",\"1994-09-12\",\"14:43:38\"]],\"hovertemplate\":\"PatientID=%{customdata[0]}<br>PID=%{x}<br>VoxelVolume=%{y}<br>time_index=%{customdata[1]}<br>StudyInstanceUID=%{customdata[2]}<br>StudyDate=%{customdata[3]}<br>StudyTime=%{customdata[4]}<extra></extra>\",\"legendgroup\":\"PCAMPMRI-00004\",\"line\":{\"color\":\"#8b0000\",\"dash\":\"solid\"},\"marker\":{\"symbol\":\"circle\"},\"mode\":\"lines+markers\",\"name\":\"AI\",\"orientation\":\"v\",\"showlegend\":false,\"x\":[\"00004_T0\",\"00004_T1\"],\"xaxis\":\"x\",\"y\":[25.60341796875,28.53515625],\"yaxis\":\"y\",\"type\":\"scatter\"},{\"customdata\":[[\"PCAMPMRI-00005\",\"T0\",\"1.3.6.1.4.1.14519.5.2.1.3671.4754.240823776621155108064488841063\",\"1994-09-10\",\"10:19:27\"],[\"PCAMPMRI-00005\",\"T1\",\"1.3.6.1.4.1.14519.5.2.1.3671.4754.233298968565250099224990877587\",\"1994-09-17\",\"11:56:24\"]],\"hovertemplate\":\"PatientID=%{customdata[0]}<br>PID=%{x}<br>VoxelVolume=%{y}<br>time_index=%{customdata[1]}<br>StudyInstanceUID=%{customdata[2]}<br>StudyDate=%{customdata[3]}<br>StudyTime=%{customdata[4]}<extra></extra>\",\"legendgroup\":\"PCAMPMRI-00005\",\"line\":{\"color\":\"#8b0000\",\"dash\":\"solid\"},\"marker\":{\"symbol\":\"circle\"},\"mode\":\"lines+markers\",\"name\":\"AI\",\"orientation\":\"v\",\"showlegend\":false,\"x\":[\"00005_T0\",\"00005_T1\"],\"xaxis\":\"x\",\"y\":[92.79188769729808,90.47783203125],\"yaxis\":\"y\",\"type\":\"scatter\"},{\"customdata\":[[\"PCAMPMRI-00006\",\"T0\",\"1.3.6.1.4.1.14519.5.2.1.3671.4754.287814201869490350714498330797\",\"1994-09-24\",\"13:21:34\"],[\"PCAMPMRI-00006\",\"T1\",\"1.3.6.1.4.1.14519.5.2.1.3671.4754.133806669697115873569905534398\",\"1994-10-01\",\"13:35:34\"]],\"hovertemplate\":\"PatientID=%{customdata[0]}<br>PID=%{x}<br>VoxelVolume=%{y}<br>time_index=%{customdata[1]}<br>StudyInstanceUID=%{customdata[2]}<br>StudyDate=%{customdata[3]}<br>StudyTime=%{customdata[4]}<extra></extra>\",\"legendgroup\":\"PCAMPMRI-00006\",\"line\":{\"color\":\"#8b0000\",\"dash\":\"solid\"},\"marker\":{\"symbol\":\"circle\"},\"mode\":\"lines+markers\",\"name\":\"AI\",\"orientation\":\"v\",\"showlegend\":false,\"x\":[\"00006_T0\",\"00006_T1\"],\"xaxis\":\"x\",\"y\":[65.53037109375,65.1817790582351],\"yaxis\":\"y\",\"type\":\"scatter\"},{\"customdata\":[[\"PCAMPMRI-00007\",\"T0\",\"1.3.6.1.4.1.14519.5.2.1.3671.4754.240243858523310211919840278205\",\"1994-10-01\",\"10:35:06\"],[\"PCAMPMRI-00007\",\"T1\",\"1.3.6.1.4.1.14519.5.2.1.3671.4754.962865348146140991373362412648\",\"1994-10-08\",\"11:39:10\"]],\"hovertemplate\":\"PatientID=%{customdata[0]}<br>PID=%{x}<br>VoxelVolume=%{y}<br>time_index=%{customdata[1]}<br>StudyInstanceUID=%{customdata[2]}<br>StudyDate=%{customdata[3]}<br>StudyTime=%{customdata[4]}<extra></extra>\",\"legendgroup\":\"PCAMPMRI-00007\",\"line\":{\"color\":\"#8b0000\",\"dash\":\"solid\"},\"marker\":{\"symbol\":\"circle\"},\"mode\":\"lines+markers\",\"name\":\"AI\",\"orientation\":\"v\",\"showlegend\":false,\"x\":[\"00007_T0\",\"00007_T1\"],\"xaxis\":\"x\",\"y\":[36.3938305275049,36.673373669805],\"yaxis\":\"y\",\"type\":\"scatter\"},{\"customdata\":[[\"PCAMPMRI-00008\",\"T0\",\"1.3.6.1.4.1.14519.5.2.1.3671.4754.173585825705285812758858023242\",\"1995-06-17\",\"11:13:35\"],[\"PCAMPMRI-00008\",\"T1\",\"1.3.6.1.4.1.14519.5.2.1.3671.4754.266963586071007736606548226859\",\"1995-07-01\",\"13:11:06\"]],\"hovertemplate\":\"PatientID=%{customdata[0]}<br>PID=%{x}<br>VoxelVolume=%{y}<br>time_index=%{customdata[1]}<br>StudyInstanceUID=%{customdata[2]}<br>StudyDate=%{customdata[3]}<br>StudyTime=%{customdata[4]}<extra></extra>\",\"legendgroup\":\"PCAMPMRI-00008\",\"line\":{\"color\":\"#8b0000\",\"dash\":\"solid\"},\"marker\":{\"symbol\":\"circle\"},\"mode\":\"lines+markers\",\"name\":\"AI\",\"orientation\":\"v\",\"showlegend\":false,\"x\":[\"00008_T0\",\"00008_T1\"],\"xaxis\":\"x\",\"y\":[65.72983166557586,65.39051509541424],\"yaxis\":\"y\",\"type\":\"scatter\"},{\"customdata\":[[\"PCAMPMRI-00009\",\"T0\",\"1.3.6.1.4.1.14519.5.2.1.3671.4754.864607788085827202303582199118\",\"1995-07-01\",\"14:27:21\"],[\"PCAMPMRI-00009\",\"T1\",\"1.3.6.1.4.1.14519.5.2.1.3671.4754.181478254003851548055481596513\",\"1995-07-08\",\"16:34:40\"]],\"hovertemplate\":\"PatientID=%{customdata[0]}<br>PID=%{x}<br>VoxelVolume=%{y}<br>time_index=%{customdata[1]}<br>StudyInstanceUID=%{customdata[2]}<br>StudyDate=%{customdata[3]}<br>StudyTime=%{customdata[4]}<extra></extra>\",\"legendgroup\":\"PCAMPMRI-00009\",\"line\":{\"color\":\"#8b0000\",\"dash\":\"solid\"},\"marker\":{\"symbol\":\"circle\"},\"mode\":\"lines+markers\",\"name\":\"AI\",\"orientation\":\"v\",\"showlegend\":false,\"x\":[\"00009_T0\",\"00009_T1\"],\"xaxis\":\"x\",\"y\":[109.18877591039849,111.64352331041879],\"yaxis\":\"y\",\"type\":\"scatter\"},{\"customdata\":[[\"PCAMPMRI-00010\",\"T0\",\"1.3.6.1.4.1.14519.5.2.1.3671.4754.217251077299095981018478951589\",\"1995-07-06\",\"11:06:56\"],[\"PCAMPMRI-00010\",\"T1\",\"1.3.6.1.4.1.14519.5.2.1.3671.4754.318227959935022390930294557376\",\"1995-07-09\",\"15:04:41\"]],\"hovertemplate\":\"PatientID=%{customdata[0]}<br>PID=%{x}<br>VoxelVolume=%{y}<br>time_index=%{customdata[1]}<br>StudyInstanceUID=%{customdata[2]}<br>StudyDate=%{customdata[3]}<br>StudyTime=%{customdata[4]}<extra></extra>\",\"legendgroup\":\"PCAMPMRI-00010\",\"line\":{\"color\":\"#8b0000\",\"dash\":\"solid\"},\"marker\":{\"symbol\":\"circle\"},\"mode\":\"lines+markers\",\"name\":\"AI\",\"orientation\":\"v\",\"showlegend\":false,\"x\":[\"00010_T0\",\"00010_T1\"],\"xaxis\":\"x\",\"y\":[47.19038005069384,45.70806109422842],\"yaxis\":\"y\",\"type\":\"scatter\"},{\"customdata\":[[\"PCAMPMRI-00011\",\"T0\",\"1.3.6.1.4.1.14519.5.2.1.3671.4754.131608903441424620949571415524\",\"1995-08-26\",\"16:18:17\"],[\"PCAMPMRI-00011\",\"T1\",\"1.3.6.1.4.1.14519.5.2.1.3671.4754.117496148504386222592571043379\",\"1995-09-08\",\"16:04:30\"]],\"hovertemplate\":\"PatientID=%{customdata[0]}<br>PID=%{x}<br>VoxelVolume=%{y}<br>time_index=%{customdata[1]}<br>StudyInstanceUID=%{customdata[2]}<br>StudyDate=%{customdata[3]}<br>StudyTime=%{customdata[4]}<extra></extra>\",\"legendgroup\":\"PCAMPMRI-00011\",\"line\":{\"color\":\"#8b0000\",\"dash\":\"solid\"},\"marker\":{\"symbol\":\"circle\"},\"mode\":\"lines+markers\",\"name\":\"AI\",\"orientation\":\"v\",\"showlegend\":false,\"x\":[\"00011_T0\",\"00011_T1\"],\"xaxis\":\"x\",\"y\":[32.2123135318873,34.87766219557766],\"yaxis\":\"y\",\"type\":\"scatter\"},{\"customdata\":[[\"PCAMPMRI-00012\",\"T0\",\"1.3.6.1.4.1.14519.5.2.1.3671.4754.298665348758363466150039312520\",\"1995-12-15\",\"13:14:45\"],[\"PCAMPMRI-00012\",\"T1\",\"1.3.6.1.4.1.14519.5.2.1.3671.4754.264231410930579591639987629694\",\"1995-12-23\",\"11:37:57\"]],\"hovertemplate\":\"PatientID=%{customdata[0]}<br>PID=%{x}<br>VoxelVolume=%{y}<br>time_index=%{customdata[1]}<br>StudyInstanceUID=%{customdata[2]}<br>StudyDate=%{customdata[3]}<br>StudyTime=%{customdata[4]}<extra></extra>\",\"legendgroup\":\"PCAMPMRI-00012\",\"line\":{\"color\":\"#8b0000\",\"dash\":\"solid\"},\"marker\":{\"symbol\":\"circle\"},\"mode\":\"lines+markers\",\"name\":\"AI\",\"orientation\":\"v\",\"showlegend\":false,\"x\":[\"00012_T0\",\"00012_T1\"],\"xaxis\":\"x\",\"y\":[101.51556465146264,102.91233502007697],\"yaxis\":\"y\",\"type\":\"scatter\"},{\"customdata\":[[\"PCAMPMRI-00013\",\"T0\",\"1.3.6.1.4.1.14519.5.2.1.3671.4754.211895462561589970837377570121\",\"1996-02-22\",\"15:23:46\"],[\"PCAMPMRI-00013\",\"T1\",\"1.3.6.1.4.1.14519.5.2.1.3671.4754.245461598867316286839568962369\",\"1996-03-07\",\"16:34:49\"]],\"hovertemplate\":\"PatientID=%{customdata[0]}<br>PID=%{x}<br>VoxelVolume=%{y}<br>time_index=%{customdata[1]}<br>StudyInstanceUID=%{customdata[2]}<br>StudyDate=%{customdata[3]}<br>StudyTime=%{customdata[4]}<extra></extra>\",\"legendgroup\":\"PCAMPMRI-00013\",\"line\":{\"color\":\"#8b0000\",\"dash\":\"solid\"},\"marker\":{\"symbol\":\"circle\"},\"mode\":\"lines+markers\",\"name\":\"AI\",\"orientation\":\"v\",\"showlegend\":false,\"x\":[\"00013_T0\",\"00013_T1\"],\"xaxis\":\"x\",\"y\":[32.877338884574726,32.22617920514756],\"yaxis\":\"y\",\"type\":\"scatter\"},{\"customdata\":[[\"PCAMPMRI-00014\",\"T0\",\"1.3.6.1.4.1.14519.5.2.1.3671.4754.288453744990673175783381845880\",\"1996-03-16\",\"13:07:27\"],[\"PCAMPMRI-00014\",\"T1\",\"1.3.6.1.4.1.14519.5.2.1.3671.4754.194890890650697728529329442454\",\"1996-03-24\",\"16:25:49\"]],\"hovertemplate\":\"PatientID=%{customdata[0]}<br>PID=%{x}<br>VoxelVolume=%{y}<br>time_index=%{customdata[1]}<br>StudyInstanceUID=%{customdata[2]}<br>StudyDate=%{customdata[3]}<br>StudyTime=%{customdata[4]}<extra></extra>\",\"legendgroup\":\"PCAMPMRI-00014\",\"line\":{\"color\":\"#8b0000\",\"dash\":\"solid\"},\"marker\":{\"symbol\":\"circle\"},\"mode\":\"lines+markers\",\"name\":\"AI\",\"orientation\":\"v\",\"showlegend\":false,\"x\":[\"00014_T0\",\"00014_T1\"],\"xaxis\":\"x\",\"y\":[33.18814298963809,38.14656007080452],\"yaxis\":\"y\",\"type\":\"scatter\"},{\"customdata\":[[\"PCAMPMRI-00015\",\"T0\",\"1.3.6.1.4.1.14519.5.2.1.3671.4754.182983245842036631781777324507\",\"1996-05-02\",\"11:15:55\"],[\"PCAMPMRI-00015\",\"T1\",\"1.3.6.1.4.1.14519.5.2.1.3671.4754.431678793261759442965045820561\",\"1996-05-16\",\"11:48:12\"]],\"hovertemplate\":\"PatientID=%{customdata[0]}<br>PID=%{x}<br>VoxelVolume=%{y}<br>time_index=%{customdata[1]}<br>StudyInstanceUID=%{customdata[2]}<br>StudyDate=%{customdata[3]}<br>StudyTime=%{customdata[4]}<extra></extra>\",\"legendgroup\":\"PCAMPMRI-00015\",\"line\":{\"color\":\"#8b0000\",\"dash\":\"solid\"},\"marker\":{\"symbol\":\"circle\"},\"mode\":\"lines+markers\",\"name\":\"AI\",\"orientation\":\"v\",\"showlegend\":false,\"x\":[\"00015_T0\",\"00015_T1\"],\"xaxis\":\"x\",\"y\":[74.63237874809641,69.17660471150046],\"yaxis\":\"y\",\"type\":\"scatter\"}],                        {\"template\":{\"layout\":{\"colorway\":[\"#00008b\"]}},\"showlegend\":true,\"xaxis\":{\"tickangle\":0,\"ticktext\":[\"        01\",\"\",\"        02\",\"\",\"        03\",\"\",\"        04\",\"\",\"        05\",\"\",\"        06\",\"\",\"        07\",\"\",\"        08\",\"\",\"        09\",\"\",\"        10\",\"\",\"        11\",\"\",\"        12\",\"\",\"        13\",\"\",\"        14\",\"\",\"        15\",\"\"],\"tickvals\":[\"00001_T0\",\"00001_T1\",\"00002_T0\",\"00002_T1\",\"00003_T0\",\"00003_T1\",\"00004_T0\",\"00004_T1\",\"00005_T0\",\"00005_T1\",\"00006_T0\",\"00006_T1\",\"00007_T0\",\"00007_T1\",\"00008_T0\",\"00008_T1\",\"00009_T0\",\"00009_T1\",\"00010_T0\",\"00010_T1\",\"00011_T0\",\"00011_T1\",\"00012_T0\",\"00012_T1\",\"00013_T0\",\"00013_T1\",\"00014_T0\",\"00014_T1\",\"00015_T0\",\"00015_T1\"],\"title\":{\"text\":\"CaseID\"}},\"font\":{\"size\":10,\"color\":\"black\"},\"width\":1100,\"height\":400,\"title\":{\"text\":\"QIN-Prostate-REPEATABILITY collection, repeatability study of volume between AI and expert whole prostate segmentations\"},\"yaxis\":{\"title\":{\"text\":\"Volume, mL\"}},\"margin\":{\"l\":80,\"r\":80,\"t\":80,\"b\":80},\"legend\":{\"orientation\":\"v\",\"yanchor\":\"top\",\"y\":1,\"xanchor\":\"right\",\"x\":1}},                        {\"responsive\": true}                    ).then(function(){\n",
              "                            \n",
              "var gd = document.getElementById('57447df7-2a47-4a9b-aa00-4cfedd050953');\n",
              "var x = new MutationObserver(function (mutations, observer) {{\n",
              "        var display = window.getComputedStyle(gd).display;\n",
              "        if (!display || display === 'none') {{\n",
              "            console.log([gd, 'removed!']);\n",
              "            Plotly.purge(gd);\n",
              "            observer.disconnect();\n",
              "        }}\n",
              "}});\n",
              "\n",
              "// Listen for the removal of the full notebook cells\n",
              "var notebookContainer = gd.closest('#notebook-container');\n",
              "if (notebookContainer) {{\n",
              "    x.observe(notebookContainer, {childList: true});\n",
              "}}\n",
              "\n",
              "// Listen for the clearing of the current output cell\n",
              "var outputEl = gd.closest('.output');\n",
              "if (outputEl) {{\n",
              "    x.observe(outputEl, {childList: true});\n",
              "}}\n",
              "\n",
              "                        })                };                            </script>        </div>\n",
              "</body>\n",
              "</html>"
            ]
          },
          "metadata": {}
        }
      ]
    }
  ]
}