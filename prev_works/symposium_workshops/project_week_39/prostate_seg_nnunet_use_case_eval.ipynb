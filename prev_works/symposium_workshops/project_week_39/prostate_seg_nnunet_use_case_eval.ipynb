{
  "cells": [
    {
      "cell_type": "markdown",
      "metadata": {
        "id": "view-in-github",
        "colab_type": "text"
      },
      "source": [
        "<a href=\"https://colab.research.google.com/github/ccosmin97/idc-prostate-mri-analysis/blob/main/project_week_39/prostate_seg_nnunet_use_case_eval.ipynb\" target=\"_parent\"><img src=\"https://colab.research.google.com/assets/colab-badge.svg\" alt=\"Open In Colab\"/></a>"
      ]
    },
    {
      "cell_type": "markdown",
      "metadata": {
        "id": "WnbkuvxW0Ntp"
      },
      "source": [
        "# nnUNet eval : Prostate segmentation on IDC collection\n",
        "*   Training datasets : [ProstateX(n=30), QIN-Prostate-Repeatability(n=15)]()\n",
        "*   Goal : Evaluation of a pre-trained on IDC data nnUNet whole prostate segmentation model on IDC test data, single modality T2W MRI input"
      ]
    },
    {
      "cell_type": "markdown",
      "metadata": {
        "id": "I7JJ4plOh9di"
      },
      "source": [
        "Pre-trained whole prostate gland model on IDC data is for showcase only, fold0 was trained on 150 epochs and fold1 on less than 100 epochs, standard training for nnUNet involves training for 5 folds, find the best configuration and do ensemble inference with the 5 folds trained.\n",
        "\n",
        "Please refer to [nnUNet documentation](https://github.com/MIC-DKFZ/nnUNet/blob/master/documentation/how_to_use_nnunet.md) for mentioned steps above."
      ]
    },
    {
      "cell_type": "markdown",
      "metadata": {
        "id": "hYHTAtTsUgdB"
      },
      "source": [
        "# Global variables"
      ]
    },
    {
      "cell_type": "markdown",
      "metadata": {
        "id": "uMtYZyHU7pIq"
      },
      "source": [
        "## Global paths"
      ]
    },
    {
      "cell_type": "code",
      "execution_count": null,
      "metadata": {
        "id": "ZC_bUbUTUgBs"
      },
      "outputs": [],
      "source": [
        "import os\n",
        "\n",
        "#qin_prostate_repeatibility\n",
        "os.environ[\"idc_root\"] = os.path.join(os.getcwd(), \"idc\")\n",
        "#prostatex\n",
        "os.environ[\"idc_root_prostatex_dicom\"] = os.path.join(os.environ[\"idc_root\"], \"prostatex\", \"dicom\")\n",
        "os.environ[\"idc_root_prostatex_seg_dicom\"] = os.path.join(os.environ[\"idc_root\"], \"prostatex\", \"seg_dicom\")\n",
        "os.environ[\"idc_root_prostatex_nii\"] = os.path.join(os.environ[\"idc_root\"], \"prostatex\", \"nii\")\n",
        "os.environ[\"idc_root_prostatex_nrrd\"] = os.path.join(os.environ[\"idc_root\"], \"prostatex\", \"nrrd\")\n",
        "os.environ[\"idc_root_prostatex_seg_nii\"] = os.path.join(os.environ[\"idc_root\"], \"prostatex\", \"seg_nii\")\n",
        "os.environ[\"idc_root_prostatex_seg_nii_processed\"] = os.path.join(os.environ[\"idc_root\"], \"prostatex\", \"seg_nii_processed\")\n",
        "#qin prostate repeatability\n",
        "os.environ[\"idc_root_qin_dicom\"] = os.path.join(os.environ[\"idc_root\"], \"qin\", \"dicom\")\n",
        "os.environ[\"idc_root_qin_seg_dicom\"] = os.path.join(os.environ[\"idc_root\"], \"qin\", \"seg_dicom\")\n",
        "os.environ[\"idc_root_qin_nii\"] = os.path.join(os.environ[\"idc_root\"], \"qin\", \"nii\")\n",
        "os.environ[\"idc_root_qin_nrrd\"] = os.path.join(os.environ[\"idc_root\"], \"qin\", \"nrrd\")\n",
        "os.environ[\"idc_root_qin_seg_nii\"] = os.path.join(os.environ[\"idc_root\"], \"qin\", \"seg_nii\")\n",
        "os.environ[\"idc_root_qin_seg_nii_processed\"] = os.path.join(os.environ[\"idc_root\"], \"qin\", \"seg_nii_processed\")\n",
        "#nnunet\n",
        "os.environ[\"nnUNet\"] =  os.path.join(os.getcwd(), \"nnUNet\")\n",
        "os.environ[\"nnUNet_preprocessed\"] =  os.path.join(os.environ[\"nnUNet\"], \"nnUNet_preprocessed\")\n",
        "os.environ[\"nnUNet_seg_preprocessed\"] =  os.path.join(os.environ[\"nnUNet\"], \"nnUNet_seg_preprocessed\")\n",
        "# os.environ['nnUNet_raw'] = \"./\"#\"/content/nnUNet/data/nnUNet_raw/nnUNet_raw_data\"\n",
        "os.environ['nnUNet_results'] = os.path.join(os.environ[\"nnUNet\"], \"pre_trained_models\")\n",
        "os.environ[\"RESULTS_FOLDER\"] =  os.path.join(os.environ[\"nnUNet\"], \"results\") #\"/content/nnUNet/output//content/nnUNet/output/nnunet_preds\"\n",
        "os.environ[\"RESULTS_FOLDER_FOLD0\"] =  os.path.join(os.environ[\"nnUNet\"], \"results\", 'fold0') #\"/content/nnUNet/output//content/nnUNet/output/nnunet_preds\"\n",
        "os.environ[\"RESULTS_FOLDER_FOLD1\"] =  os.path.join(os.environ[\"nnUNet\"], \"results\", 'fold1') #\"/content/nnUNet/output//content/nnUNet/output/nnunet_preds\"\n",
        "#path where model pre-trained weights are stored\n",
        "#misc\n",
        "os.environ[\"IDC_Downloads\"] = os.path.join(os.getcwd(), \"IDC_DL\")\n",
        "os.environ[\"IDC_Downloads_Sorted\"] = os.path.join(os.getcwd(), \"IDC_DL_Sorted\")\n",
        "os.environ[\"IDC_SEG_Downloads\"] = os.path.join(os.getcwd(), \"IDC_SEG_DL\")\n",
        "os.environ[\"IDC_Downloads_SEG_Sorted\"] = os.path.join(os.getcwd(), \"IDC_SEG_DL_Sorted\")\n",
        "\n",
        "os.environ[\"logs\"] = os.path.join(os.getcwd(), \"logs\")\n",
        "\n",
        "#create dirs for specific folders names\n",
        "for key, path in os.environ.items():\n",
        "  check_patterns = [True for el in [\"idc_root\", \"nnunet\", \"IDC\", \"nnUNet\", \"logs\", \"RESULTS_FOLDER\"] if el in key]\n",
        "  if True in check_patterns:\n",
        "    !mkdir -p $path"
      ]
    },
    {
      "cell_type": "markdown",
      "metadata": {
        "id": "TZALQu_dnyFq"
      },
      "source": [
        "# Custom functions"
      ]
    },
    {
      "cell_type": "code",
      "execution_count": null,
      "metadata": {
        "id": "ktGZHfJDU983"
      },
      "outputs": [],
      "source": [
        "def change_seg_labelID(input_path_nii, output_path, labelID : int):\n",
        "  # Starting with SimpleITK\n",
        "  img_pred = sitk.ReadImage(input_path_nii)\n",
        "  npy_pred = sitk.GetArrayFromImage(img_pred)\n",
        "  # Custom Python code working on a numpy array.\n",
        "  npy_pred[npy_pred != 0] = labelID\n",
        "  npy_pred[npy_pred !=labelID] = 0\n",
        "  # Converting back to SimpleITK (assumes we didn't move the image in space as we copy the information from the original)\n",
        "  res_img = sitk.GetImageFromArray(npy_pred)\n",
        "  res_img.CopyInformation(img_pred)\n",
        "  # Save output\n",
        "  sitk.WriteImage(res_img, output_path)"
      ]
    },
    {
      "cell_type": "code",
      "execution_count": null,
      "metadata": {
        "id": "eQaKHmuQcJ6c"
      },
      "outputs": [],
      "source": [
        "def parse_json_dcmqi(json_path):\n",
        "  out_dic = {}\n",
        "  data = json.load(open(json_path))\n",
        "  for segment_dic_arr in data[\"segmentAttributes\"]:\n",
        "    dic_in = segment_dic_arr[0]\n",
        "    out_dic[dic_in[\"SegmentedPropertyTypeCodeSequence\"][\"CodeMeaning\"]] \\\n",
        "    = dic_in[\"labelID\"]\n",
        "  return out_dic"
      ]
    },
    {
      "cell_type": "code",
      "execution_count": null,
      "metadata": {
        "id": "mO8obSX4YvMA"
      },
      "outputs": [],
      "source": [
        "def download_idc_data_serie_uid_seg(idc_df, out_folder, out_folder_sorted, out_folder_collection):\n",
        "  # save the list of GCS URLs into a file\n",
        "  selection_manifest = os.path.join(out_folder, \"idc_manifest.txt\")\n",
        "  idc_df[\"gcs_url\"].to_csv(selection_manifest, header=False, index=False)\n",
        "  # !s5cmd --no-sign-request --endpoint-url https://storage.googleapis.com run $selection_manifest\n",
        "  out_gsutil = out_folder+\"/\"\n",
        "  !cat {selection_manifest} | gsutil -m cp -Ir $out_gsutil\n",
        "  !python dicomsort/dicomsort.py -k -u $out_folder {out_folder_sorted}/%PatientID/%StudyInstanceUID/%SeriesInstanceUID/%SOPInstanceUID.dcm\n",
        "  in_mv = out_folder_sorted+'/*'\n",
        "  !mv $in_mv $out_folder_collection\n",
        "  return idc_df"
      ]
    },
    {
      "cell_type": "code",
      "execution_count": null,
      "metadata": {
        "id": "ADnWwCO22Dpt"
      },
      "outputs": [],
      "source": [
        "def convert_image_dcm_to_nrrd(input_path, output_path_root, target_format=\"nii\", prefix=\"\"):\n",
        "  if not os.path.exists(output_path_root):\n",
        "    !mkdir -p $output_path_root\n",
        "  !dcm2niix -z y -m y -f %i_{prefix} -o $output_path_root $input_path"
      ]
    },
    {
      "cell_type": "code",
      "execution_count": null,
      "metadata": {
        "id": "Pabz_xHTFzxs"
      },
      "outputs": [],
      "source": [
        "def convert_seg_to_nii(input_path, output_path):\n",
        "  if not os.path.exists(output_path):\n",
        "    !mkdir -p $output_path\n",
        "\n",
        "  print(f'input path : {input_path}')\n",
        "  print(f'output_path : {output_path}')\n",
        "  !segimage2itkimage --inputDICOM $input_path --outputDirectory $output_path \\\n",
        "  --outputType nii"
      ]
    },
    {
      "cell_type": "code",
      "execution_count": null,
      "metadata": {
        "id": "HO2dWXPBF3Sf"
      },
      "outputs": [],
      "source": [
        "def convert_dcm_sorted(input_path,output_path, idc_df):\n",
        "  # path_dicom = os.environ[\"qin_prostate_rep_dicom\"]\n",
        "  for serie_folder in sorted(glob.glob(os.path.join(input_path, \"**\", \"**\", \"*\"))):#, recursive = True):\n",
        "    path_serie_dcm_lst = glob.glob(os.path.join(serie_folder, \"*.dcm\"))\n",
        "    modality = idc_df[idc_df[\"SeriesInstanceUID\"] == path_serie_dcm_lst[0].split('/')[-2]][\"Modality\"].iloc[0]#'SEG' if pydicom.dcmread(path_serie_dcm_lst[0]).Modality == \"SEG\" else \"MR\"\n",
        "    seriesInstanceUID = serie_folder.split(\"/\")[-1]\n",
        "    studyInstanceUID = serie_folder.split(\"/\")[-2]\n",
        "    patientID = serie_folder.split(\"/\")[-3]\n",
        "    print(f\"Serie processed : {serie_folder}\")\n",
        "    print(f\"SeriesDescription : {pydicom.read_file(glob.glob(os.path.join(serie_folder, '*.dcm'))[0]).SeriesDescription}\")\n",
        "    print(f\"Modality : {pydicom.read_file(glob.glob(os.path.join(serie_folder, '*.dcm'))[0]).Modality}\")\n",
        "    #convert to nii\n",
        "    convert_image_dcm_to_nrrd(input_path=serie_folder,\n",
        "                           output_path_root=output_path,\n",
        "                           prefix=f\"{seriesInstanceUID}\")"
      ]
    },
    {
      "cell_type": "code",
      "execution_count": null,
      "metadata": {
        "id": "Fj5E_8qrGcjP"
      },
      "outputs": [],
      "source": [
        "def download_idc_data_serie_uid(idc_df, out_folder, out_folder_sorted,\n",
        "                                out_folder_collection, out_folder_collection_nii):\n",
        "  selection_manifest = os.path.join(out_folder, \"idc_manifest.txt\")\n",
        "  idc_df[\"gcs_url\"].to_csv(selection_manifest, header=False, index=False)\n",
        "  # !s5cmd --no-sign-request --endpoint-url https://storage.googleapis.com run $selection_manifest\n",
        "  out_gsutil = out_folder+\"/\"\n",
        "  !cat {selection_manifest} | gsutil -m cp -Ir $out_gsutil\n",
        "  !python dicomsort/dicomsort.py -k -u $out_folder {out_folder_sorted}/%PatientID/%StudyInstanceUID/%SeriesInstanceUID/%SOPInstanceUID.dcm\n",
        "  #  \\{os.environ[\"IDC_Downloads_Sorted\"]}\n",
        "  # !rm -rf {os.environ[\"qin_prostate_rep_dicom\"]+\"/*\"}\n",
        "  !mv {out_folder_sorted}/* {out_folder_collection}/\n",
        "  convert_dcm_sorted(input_path=out_folder_collection,\n",
        "                  output_path=out_folder_collection_nii, idc_df=idc_df)\n",
        "  return idc_df"
      ]
    },
    {
      "cell_type": "code",
      "execution_count": null,
      "metadata": {
        "id": "nfxSP-K6GpFD"
      },
      "outputs": [],
      "source": [
        "def reformat_image_nnunet(in_folder, out_folder_nnunet):\n",
        "  #reformats images to correct format,\n",
        "  #from global path to nnunet folder==nnUNet preprocessed\n",
        "  for mr_vol in glob.glob(os.path.join(in_folder, f\"*.nii.gz\")):\n",
        "    serieUID = mr_vol.split('/')[-1].split(\"_\")[1].replace(\".nii.gz\",\"\")#.split(\".\")[0]\n",
        "    patientID = mr_vol.split('/')[-1].split(\"_\")[0]\n",
        "    nnunet_idx = \"0000\" #if \"T2\" in mr_vol.split('/')[-2] else \"0001\"#0000 for T2 and 0001 for ADC\n",
        "    nnunet_path = os.path.join(out_folder_nnunet,#os.environ[\"nnUNet_preprocessed\"],\n",
        "                                \"_\".join([patientID, serieUID, nnunet_idx]) + \".nii.gz\")\n",
        "    !cp $mr_vol $nnunet_path"
      ]
    },
    {
      "cell_type": "markdown",
      "source": [
        "Dataframe based quantitative metrics computation"
      ],
      "metadata": {
        "id": "gWIgCJTv2ve8"
      }
    },
    {
      "cell_type": "code",
      "source": [
        "def compute_dice(pred_path, gt_path):\n",
        "  #computation of dice score\n",
        "  out_plast = !plastimatch dice --dice $gt_path $pred_path\n",
        "  dice_score = [el[1] for el in out_plast.fields() if \"DICE\" in el[0]][0]#formatting by plastimatch dice output, retrieve of DSC\n",
        "  return float(dice_score)"
      ],
      "metadata": {
        "id": "KDV_5w-1hYzw"
      },
      "execution_count": null,
      "outputs": []
    },
    {
      "cell_type": "code",
      "source": [
        "def compute_hsdff(pred_path, gt_path):\n",
        "  #computation of dice score\n",
        "  out_plast = !plastimatch dice --hausdorff $gt_path $pred_path\n",
        "  hsdff = [el[5] for el in out_plast.fields() if \"Percent\" in el[0] and \"distance\" in el[3]][0]#formatting by plastimatch hsdff output, retrieve of hsdff\n",
        "  return float(hsdff)"
      ],
      "metadata": {
        "id": "OVyNQP9Cb2tu"
      },
      "execution_count": null,
      "outputs": []
    },
    {
      "cell_type": "code",
      "source": [
        "def compute_hsdff_regular(pred_path, gt_path):\n",
        "  #computation of dice score\n",
        "  out_plast = !plastimatch dice --hausdorff $gt_path $pred_path\n",
        "  hsdff = [el[3] for el in out_plast.fields() if \"Hausdorff\" in el[0] and \"distance\" in el[1]][0]#formatting by plastimatch hsdff output, retrieve of hsdff\n",
        "  return float(hsdff)"
      ],
      "metadata": {
        "id": "OSy98b7zmxaB"
      },
      "execution_count": null,
      "outputs": []
    },
    {
      "cell_type": "code",
      "source": [
        "def compute_avg_surface_dist(pred_path, gt_path):\n",
        "  return asd(result=sitk.GetArrayFromImage(sitk.ReadImage(pred_path)), \\\n",
        "             reference=sitk.GetArrayFromImage(sitk.ReadImage(gt_path)))"
      ],
      "metadata": {
        "id": "NtmROiLxPb7i"
      },
      "execution_count": null,
      "outputs": []
    },
    {
      "cell_type": "markdown",
      "metadata": {
        "id": "Db4ansTyzqZ1"
      },
      "source": [
        "# GOOGLE Auth login"
      ]
    },
    {
      "cell_type": "markdown",
      "metadata": {
        "id": "a8GPDXZW00j5"
      },
      "source": [
        "##Colab"
      ]
    },
    {
      "cell_type": "code",
      "execution_count": null,
      "metadata": {
        "id": "XSg6W2HXzsoG"
      },
      "outputs": [],
      "source": [
        "#colab\n",
        "from google.colab import auth\n",
        "auth.authenticate_user()"
      ]
    },
    {
      "cell_type": "markdown",
      "metadata": {
        "id": "y1ZYYVPHz_xm"
      },
      "source": [
        "# Setup GCP Project ID"
      ]
    },
    {
      "cell_type": "code",
      "execution_count": null,
      "metadata": {
        "id": "g1EN9Dnz0CU4"
      },
      "outputs": [],
      "source": [
        "project_id = \"idc-sandbox-003\"\n",
        "os.environ[\"GCP_PROJECT_ID\"] = project_id\n",
        "from google.cloud import bigquery\n",
        "bq_client = bigquery.Client(os.environ[\"GCP_PROJECT_ID\"])"
      ]
    },
    {
      "cell_type": "markdown",
      "metadata": {
        "id": "eRtmCas7dT6D"
      },
      "source": [
        "# Setup of the Colab VM\n",
        "\n",
        "\n",
        "\n",
        "In the following cells we will confirm you have a GPU before doing anything else, and will install and import all the Python dependencies.\n",
        "\n",
        "The main python packages we need to install are:\n",
        "* `nnunetv2` - which is the [codebase for the nn-UNet framework](https://github.com/MIC-DKFZ/nnUNet) we are going to be using for the segmentation step"
      ]
    },
    {
      "cell_type": "markdown",
      "metadata": {
        "id": "zLvysANUArnm"
      },
      "source": [
        "## GPU checks"
      ]
    },
    {
      "cell_type": "code",
      "execution_count": null,
      "metadata": {
        "id": "Pf2j172mddvK"
      },
      "outputs": [],
      "source": [
        "# check wether the Colab Instance was correctly initialized with a GPU instance\n",
        "gpu_list = !nvidia-smi --list-gpus\n",
        "\n",
        "has_gpu = False if \"failed\" in gpu_list[0] else True\n",
        "\n",
        "if not has_gpu:\n",
        "  print(\"Your Colab VM does not have a GPU - check \\\"Runtime > Change runtime type\\\"\")"
      ]
    },
    {
      "cell_type": "code",
      "execution_count": null,
      "metadata": {
        "colab": {
          "base_uri": "https://localhost:8080/"
        },
        "id": "kL6xCvo3eKQ0",
        "outputId": "eb420480-e9f1-464d-d1bd-27d3743802ca"
      },
      "outputs": [
        {
          "output_type": "stream",
          "name": "stdout",
          "text": [
            "Fri Jun 30 16:21:18 2023       \n",
            "+-----------------------------------------------------------------------------+\n",
            "| NVIDIA-SMI 525.85.12    Driver Version: 525.85.12    CUDA Version: 12.0     |\n",
            "|-------------------------------+----------------------+----------------------+\n",
            "| GPU  Name        Persistence-M| Bus-Id        Disp.A | Volatile Uncorr. ECC |\n",
            "| Fan  Temp  Perf  Pwr:Usage/Cap|         Memory-Usage | GPU-Util  Compute M. |\n",
            "|                               |                      |               MIG M. |\n",
            "|===============================+======================+======================|\n",
            "|   0  Tesla T4            Off  | 00000000:00:04.0 Off |                    0 |\n",
            "| N/A   40C    P8     9W /  70W |      0MiB / 15360MiB |      0%      Default |\n",
            "|                               |                      |                  N/A |\n",
            "+-------------------------------+----------------------+----------------------+\n",
            "                                                                               \n",
            "+-----------------------------------------------------------------------------+\n",
            "| Processes:                                                                  |\n",
            "|  GPU   GI   CI        PID   Type   Process name                  GPU Memory |\n",
            "|        ID   ID                                                   Usage      |\n",
            "|=============================================================================|\n",
            "|  No running processes found                                                 |\n",
            "+-----------------------------------------------------------------------------+\n"
          ]
        }
      ],
      "source": [
        "# check which model of GPU the notebook is equipped with - a Tesla K80 or T4\n",
        "# T4 is the best performing on the two - and can about half the GPU processing time\n",
        "\n",
        "!nvidia-smi"
      ]
    },
    {
      "cell_type": "markdown",
      "metadata": {
        "id": "40E3HnI5A0SX"
      },
      "source": [
        "## Install command-line tools\n",
        "\n",
        "\n",
        "[Plastimatch](https://plastimatch.org/index.html) is considered to be the swiss army knife of medical images processing: we will use it to convert DICOM (CT, RTSTRUCT) series to NRRD files - but it can be used for a multitude of other tasks, such as registration, resampling, cropping, and computing statistics to name a few. Plastimatch is also available as a 3DSlicer plug-in and can be used directly from the Slicer GUI.\n",
        "\n",
        "For the sake of clarity and simplicity, we will call Plastimatch from a very simple [Python wrapper](https://github.com/denbonte/pyplastimatch) written for the occasion (unfortunately, Plastimatch does not provide an official one)."
      ]
    },
    {
      "cell_type": "code",
      "execution_count": null,
      "metadata": {
        "id": "ZZL6-ByHA7XY"
      },
      "outputs": [],
      "source": [
        "%%capture\n",
        "!sudo apt update\n",
        "\n",
        "!sudo apt install plastimatch"
      ]
    },
    {
      "cell_type": "code",
      "execution_count": null,
      "metadata": {
        "colab": {
          "base_uri": "https://localhost:8080/"
        },
        "id": "LMovHnKgBEfC",
        "outputId": "e84de646-fe88-4d31-ea76-8fc7e8b5ab4d"
      },
      "outputs": [
        {
          "output_type": "stream",
          "name": "stdout",
          "text": [
            "plastimatch version 1.8.0\n"
          ]
        }
      ],
      "source": [
        "!echo $(plastimatch --version)"
      ]
    },
    {
      "cell_type": "markdown",
      "metadata": {
        "id": "K_8zlhmdo0HD"
      },
      "source": [
        "[dcmqi](https://github.com/QIICR/dcmqi) is an open source library that can help with the conversion between imaging research formats and the standard DICOM representation for image analysis results. More specifically, you can use dcmqi convert DICOM Segmentation objects (DICOM SEG) into research formats, such as NIfTI and NRRD."
      ]
    },
    {
      "cell_type": "code",
      "execution_count": null,
      "metadata": {
        "id": "KAkmz4jApGh8"
      },
      "outputs": [],
      "source": [
        "%%capture\n",
        "!wget https://github.com/QIICR/dcmqi/releases/download/v1.2.5/dcmqi-1.2.5-linux.tar.gz\n",
        "!tar zxvf dcmqi-1.2.5-linux.tar.gz\n",
        "!cp dcmqi-1.2.5-linux/bin/* /usr/local/bin/"
      ]
    },
    {
      "cell_type": "markdown",
      "metadata": {
        "id": "fFRWendbBH72"
      },
      "source": [
        "Finally, we are going to install [Subversion](https://subversion.apache.org/), a tool that will allow us to clone GitHub repositories only partially (to save time and space)."
      ]
    },
    {
      "cell_type": "code",
      "execution_count": null,
      "metadata": {
        "id": "YBEJRe-2BKah"
      },
      "outputs": [],
      "source": [
        "%%capture\n",
        "\n",
        "!sudo apt install subversion"
      ]
    },
    {
      "cell_type": "code",
      "execution_count": null,
      "metadata": {
        "colab": {
          "base_uri": "https://localhost:8080/"
        },
        "id": "WI1_BixWBN1O",
        "outputId": "b7484f18-bffe-4974-b034-828979404aff"
      },
      "outputs": [
        {
          "output_type": "stream",
          "name": "stdout",
          "text": [
            "svn, version 1.13.0 (r1867053) compiled May 12 2022, 20:47:08 on x86_64-pc-linux-gnu\n"
          ]
        }
      ],
      "source": [
        "!echo $(svn --version | head -n 2)"
      ]
    },
    {
      "cell_type": "markdown",
      "metadata": {
        "id": "0Ev-JlpCAuMs"
      },
      "source": [
        "## Install Python packages"
      ]
    },
    {
      "cell_type": "code",
      "execution_count": null,
      "metadata": {
        "id": "7XMzq-8nRvKd"
      },
      "outputs": [],
      "source": [
        "%%capture\n",
        "!pip install nnunetv2\n",
        "!pip install pydicom\n",
        "!pip install nibabel\n",
        "!pip install dcm2niix\n",
        "!pip install SimpleITK\n",
        "!pip install medpy\n",
        "!pip install seaborn"
      ]
    },
    {
      "cell_type": "markdown",
      "metadata": {
        "id": "M8AhddtCJwdZ"
      },
      "source": [
        "s5cmd setup"
      ]
    },
    {
      "cell_type": "code",
      "execution_count": null,
      "metadata": {
        "id": "N4z9_l3UJyUP"
      },
      "outputs": [],
      "source": [
        "!wget https://github.com/peak/s5cmd/releases/download/v2.1.0-beta.1/s5cmd_2.1.0-beta.1_Linux-64bit.tar.gz\n",
        "!tar zxvf s5cmd_2.1.0-beta.1_Linux-64bit.tar.gz\n",
        "!cp ./s5cmd /usr/local/bin/"
      ]
    },
    {
      "cell_type": "markdown",
      "metadata": {
        "id": "BP1tahM9tzlm"
      },
      "source": [
        "Next we set up few things to help with visualization of the segmentations later."
      ]
    },
    {
      "cell_type": "code",
      "execution_count": null,
      "metadata": {
        "id": "cURjj8rzAa2L"
      },
      "outputs": [],
      "source": [
        "import os\n",
        "import sys\n",
        "import shutil\n",
        "import csv\n",
        "import random\n",
        "\n",
        "import os\n",
        "import glob\n",
        "import json\n",
        "\n",
        "import json\n",
        "import pprint\n",
        "import numpy as np\n",
        "import pandas as pd\n",
        "\n",
        "import pydicom\n",
        "import SimpleITK as sitk\n",
        "# import random\n",
        "from random import sample\n",
        "from medpy.metric.binary import asd\n",
        "import seaborn as sns\n",
        "import matplotlib.pyplot as plt"
      ]
    },
    {
      "cell_type": "code",
      "execution_count": null,
      "metadata": {
        "id": "UrAh2kjqb2Be"
      },
      "outputs": [],
      "source": [
        "# PyPlastimatch - python wrapper for Plastimatch (and interactive notebook visualisation)\n",
        "!svn checkout https://github.com/AIM-Harvard/pyplastimatch/trunk/pyplastimatch pyplastimatch"
      ]
    },
    {
      "cell_type": "code",
      "execution_count": null,
      "metadata": {
        "id": "GsePTNBmM9sw"
      },
      "outputs": [],
      "source": [
        "# dicomsort is the pythong package that can sort DICOM files into\n",
        "# folder organization based on user-specified DICOM attributes\n",
        "!git clone https://github.com/pieper/dicomsort.git"
      ]
    },
    {
      "cell_type": "code",
      "execution_count": null,
      "metadata": {
        "id": "0s9aRassGOQ_"
      },
      "outputs": [],
      "source": [
        "from pyplastimatch import pyplastimatch as pypla\n",
        "from pyplastimatch.utils import viz as viz_utils\n",
        "from pyplastimatch.utils import data as data_utils"
      ]
    },
    {
      "cell_type": "markdown",
      "metadata": {
        "id": "9oCWNinLetXU"
      },
      "source": [
        "# Prepare IDC test data for ProstateX and QIN collections"
      ]
    },
    {
      "cell_type": "markdown",
      "source": [
        "Download train data series so we omit them during evaluation process -- add to github"
      ],
      "metadata": {
        "id": "X3Cf_5XaJqZO"
      }
    },
    {
      "cell_type": "code",
      "source": [
        "# !gsutil -m cp -r gs://pw_39/nnunet_result/filenames_labelsTr.txt .\n",
        "!wget -O filenames_labelsTr.txt https://raw.githubusercontent.com/ccosmin97/idc-prostate-mri-analysis/main/project_week_39/filenames_labelsTr.txt"
      ],
      "metadata": {
        "colab": {
          "base_uri": "https://localhost:8080/"
        },
        "id": "tmzsvWGOJ9nu",
        "outputId": "a3101605-8cc0-4e26-fb2d-b10ef24e8817"
      },
      "execution_count": null,
      "outputs": [
        {
          "output_type": "stream",
          "name": "stdout",
          "text": [
            "--2023-06-30 17:39:16--  https://raw.githubusercontent.com/ccosmin97/idc-prostate-mri-analysis/main/project_week_39/filenames_labelsTr.txt\n",
            "Resolving raw.githubusercontent.com (raw.githubusercontent.com)... 185.199.108.133, 185.199.109.133, 185.199.110.133, ...\n",
            "Connecting to raw.githubusercontent.com (raw.githubusercontent.com)|185.199.108.133|:443... connected.\n",
            "HTTP request sent, awaiting response... 200 OK\n",
            "Length: 3915 (3.8K) [text/plain]\n",
            "Saving to: ‘filenames_labelsTr.txt’\n",
            "\n",
            "filenames_labelsTr. 100%[===================>]   3.82K  --.-KB/s    in 0s      \n",
            "\n",
            "2023-06-30 17:39:16 (86.0 MB/s) - ‘filenames_labelsTr.txt’ saved [3915/3915]\n",
            "\n"
          ]
        }
      ]
    },
    {
      "cell_type": "code",
      "source": [
        "train_cases_df = pd.read_csv(\"filenames_labelsTr.txt\", sep=' ', header=None, names=[\"seg_filename\"])\n",
        "train_cases_df[\"PatientID\"] = train_cases_df.seg_filename.apply(lambda x : x.split('_')[0])\n",
        "train_cases_df[\"T2SerieUID\"] = train_cases_df.seg_filename.apply(lambda x : x.split('_')[1].replace(\".nii.gz\", \"\"))\n",
        "train_cases_df.sample(10).head()"
      ],
      "metadata": {
        "colab": {
          "base_uri": "https://localhost:8080/",
          "height": 206
        },
        "id": "eCuzsPACNteJ",
        "outputId": "986e1e98-5e4a-49dd-a206-01ec4a2ece17"
      },
      "execution_count": null,
      "outputs": [
        {
          "output_type": "execute_result",
          "data": {
            "text/plain": [
              "                                         seg_filename       PatientID  \\\n",
              "24  ProstateX-0094_1.3.6.1.4.1.14519.5.2.1.7311.51...  ProstateX-0094   \n",
              "16  ProstateX-0015_1.3.6.1.4.1.14519.5.2.1.7311.51...  ProstateX-0015   \n",
              "11  PCAMPMRI-00012_1.3.6.1.4.1.14519.5.2.1.3671.47...  PCAMPMRI-00012   \n",
              "10  PCAMPMRI-00011_1.3.6.1.4.1.14519.5.2.1.3671.47...  PCAMPMRI-00011   \n",
              "33  ProstateX-0176_1.3.6.1.4.1.14519.5.2.1.7311.51...  ProstateX-0176   \n",
              "\n",
              "                                           T2SerieUID  \n",
              "24  1.3.6.1.4.1.14519.5.2.1.7311.5101.178750617003...  \n",
              "16  1.3.6.1.4.1.14519.5.2.1.7311.5101.287403883614...  \n",
              "11  1.3.6.1.4.1.14519.5.2.1.3671.4754.112304063989...  \n",
              "10  1.3.6.1.4.1.14519.5.2.1.3671.4754.212083125906...  \n",
              "33  1.3.6.1.4.1.14519.5.2.1.7311.5101.666342438883...  "
            ],
            "text/html": [
              "\n",
              "  <div id=\"df-eac49491-6be5-41a2-8449-7ce029564329\">\n",
              "    <div class=\"colab-df-container\">\n",
              "      <div>\n",
              "<style scoped>\n",
              "    .dataframe tbody tr th:only-of-type {\n",
              "        vertical-align: middle;\n",
              "    }\n",
              "\n",
              "    .dataframe tbody tr th {\n",
              "        vertical-align: top;\n",
              "    }\n",
              "\n",
              "    .dataframe thead th {\n",
              "        text-align: right;\n",
              "    }\n",
              "</style>\n",
              "<table border=\"1\" class=\"dataframe\">\n",
              "  <thead>\n",
              "    <tr style=\"text-align: right;\">\n",
              "      <th></th>\n",
              "      <th>seg_filename</th>\n",
              "      <th>PatientID</th>\n",
              "      <th>T2SerieUID</th>\n",
              "    </tr>\n",
              "  </thead>\n",
              "  <tbody>\n",
              "    <tr>\n",
              "      <th>24</th>\n",
              "      <td>ProstateX-0094_1.3.6.1.4.1.14519.5.2.1.7311.51...</td>\n",
              "      <td>ProstateX-0094</td>\n",
              "      <td>1.3.6.1.4.1.14519.5.2.1.7311.5101.178750617003...</td>\n",
              "    </tr>\n",
              "    <tr>\n",
              "      <th>16</th>\n",
              "      <td>ProstateX-0015_1.3.6.1.4.1.14519.5.2.1.7311.51...</td>\n",
              "      <td>ProstateX-0015</td>\n",
              "      <td>1.3.6.1.4.1.14519.5.2.1.7311.5101.287403883614...</td>\n",
              "    </tr>\n",
              "    <tr>\n",
              "      <th>11</th>\n",
              "      <td>PCAMPMRI-00012_1.3.6.1.4.1.14519.5.2.1.3671.47...</td>\n",
              "      <td>PCAMPMRI-00012</td>\n",
              "      <td>1.3.6.1.4.1.14519.5.2.1.3671.4754.112304063989...</td>\n",
              "    </tr>\n",
              "    <tr>\n",
              "      <th>10</th>\n",
              "      <td>PCAMPMRI-00011_1.3.6.1.4.1.14519.5.2.1.3671.47...</td>\n",
              "      <td>PCAMPMRI-00011</td>\n",
              "      <td>1.3.6.1.4.1.14519.5.2.1.3671.4754.212083125906...</td>\n",
              "    </tr>\n",
              "    <tr>\n",
              "      <th>33</th>\n",
              "      <td>ProstateX-0176_1.3.6.1.4.1.14519.5.2.1.7311.51...</td>\n",
              "      <td>ProstateX-0176</td>\n",
              "      <td>1.3.6.1.4.1.14519.5.2.1.7311.5101.666342438883...</td>\n",
              "    </tr>\n",
              "  </tbody>\n",
              "</table>\n",
              "</div>\n",
              "      <button class=\"colab-df-convert\" onclick=\"convertToInteractive('df-eac49491-6be5-41a2-8449-7ce029564329')\"\n",
              "              title=\"Convert this dataframe to an interactive table.\"\n",
              "              style=\"display:none;\">\n",
              "        \n",
              "  <svg xmlns=\"http://www.w3.org/2000/svg\" height=\"24px\"viewBox=\"0 0 24 24\"\n",
              "       width=\"24px\">\n",
              "    <path d=\"M0 0h24v24H0V0z\" fill=\"none\"/>\n",
              "    <path d=\"M18.56 5.44l.94 2.06.94-2.06 2.06-.94-2.06-.94-.94-2.06-.94 2.06-2.06.94zm-11 1L8.5 8.5l.94-2.06 2.06-.94-2.06-.94L8.5 2.5l-.94 2.06-2.06.94zm10 10l.94 2.06.94-2.06 2.06-.94-2.06-.94-.94-2.06-.94 2.06-2.06.94z\"/><path d=\"M17.41 7.96l-1.37-1.37c-.4-.4-.92-.59-1.43-.59-.52 0-1.04.2-1.43.59L10.3 9.45l-7.72 7.72c-.78.78-.78 2.05 0 2.83L4 21.41c.39.39.9.59 1.41.59.51 0 1.02-.2 1.41-.59l7.78-7.78 2.81-2.81c.8-.78.8-2.07 0-2.86zM5.41 20L4 18.59l7.72-7.72 1.47 1.35L5.41 20z\"/>\n",
              "  </svg>\n",
              "      </button>\n",
              "      \n",
              "  <style>\n",
              "    .colab-df-container {\n",
              "      display:flex;\n",
              "      flex-wrap:wrap;\n",
              "      gap: 12px;\n",
              "    }\n",
              "\n",
              "    .colab-df-convert {\n",
              "      background-color: #E8F0FE;\n",
              "      border: none;\n",
              "      border-radius: 50%;\n",
              "      cursor: pointer;\n",
              "      display: none;\n",
              "      fill: #1967D2;\n",
              "      height: 32px;\n",
              "      padding: 0 0 0 0;\n",
              "      width: 32px;\n",
              "    }\n",
              "\n",
              "    .colab-df-convert:hover {\n",
              "      background-color: #E2EBFA;\n",
              "      box-shadow: 0px 1px 2px rgba(60, 64, 67, 0.3), 0px 1px 3px 1px rgba(60, 64, 67, 0.15);\n",
              "      fill: #174EA6;\n",
              "    }\n",
              "\n",
              "    [theme=dark] .colab-df-convert {\n",
              "      background-color: #3B4455;\n",
              "      fill: #D2E3FC;\n",
              "    }\n",
              "\n",
              "    [theme=dark] .colab-df-convert:hover {\n",
              "      background-color: #434B5C;\n",
              "      box-shadow: 0px 1px 3px 1px rgba(0, 0, 0, 0.15);\n",
              "      filter: drop-shadow(0px 1px 2px rgba(0, 0, 0, 0.3));\n",
              "      fill: #FFFFFF;\n",
              "    }\n",
              "  </style>\n",
              "\n",
              "      <script>\n",
              "        const buttonEl =\n",
              "          document.querySelector('#df-eac49491-6be5-41a2-8449-7ce029564329 button.colab-df-convert');\n",
              "        buttonEl.style.display =\n",
              "          google.colab.kernel.accessAllowed ? 'block' : 'none';\n",
              "\n",
              "        async function convertToInteractive(key) {\n",
              "          const element = document.querySelector('#df-eac49491-6be5-41a2-8449-7ce029564329');\n",
              "          const dataTable =\n",
              "            await google.colab.kernel.invokeFunction('convertToInteractive',\n",
              "                                                     [key], {});\n",
              "          if (!dataTable) return;\n",
              "\n",
              "          const docLinkHtml = 'Like what you see? Visit the ' +\n",
              "            '<a target=\"_blank\" href=https://colab.research.google.com/notebooks/data_table.ipynb>data table notebook</a>'\n",
              "            + ' to learn more about interactive tables.';\n",
              "          element.innerHTML = '';\n",
              "          dataTable['output_type'] = 'display_data';\n",
              "          await google.colab.output.renderOutput(dataTable, element);\n",
              "          const docLink = document.createElement('div');\n",
              "          docLink.innerHTML = docLinkHtml;\n",
              "          element.appendChild(docLink);\n",
              "        }\n",
              "      </script>\n",
              "    </div>\n",
              "  </div>\n",
              "  "
            ]
          },
          "metadata": {},
          "execution_count": 114
        }
      ]
    },
    {
      "cell_type": "code",
      "source": [
        "refSerieUID_qin_lst = list(train_cases_df[train_cases_df[\"PatientID\"].str.contains(\"PCAMPMRI\")].T2SerieUID.unique())\n",
        "refSerieUID_prostatex_lst = list(train_cases_df[train_cases_df[\"PatientID\"].str.contains(\"ProstateX\")].T2SerieUID.unique())"
      ],
      "metadata": {
        "id": "Y-pyhEq5leMp"
      },
      "execution_count": null,
      "outputs": []
    },
    {
      "cell_type": "code",
      "source": [
        "len(refSerieUID_prostatex_lst)"
      ],
      "metadata": {
        "colab": {
          "base_uri": "https://localhost:8080/"
        },
        "id": "8bi0LkZdT5iH",
        "outputId": "342d8d6a-c9cd-45e7-a163-9b82764e54d1"
      },
      "execution_count": null,
      "outputs": [
        {
          "output_type": "execute_result",
          "data": {
            "text/plain": [
              "30"
            ]
          },
          "metadata": {},
          "execution_count": 34
        }
      ]
    },
    {
      "cell_type": "markdown",
      "metadata": {
        "id": "FAS7hVjVjDIq"
      },
      "source": [
        "## ProstateX"
      ]
    },
    {
      "cell_type": "markdown",
      "metadata": {
        "id": "-6F9knTRLPYf"
      },
      "source": [
        "Select T2W images that have whole prostate segmentations"
      ]
    },
    {
      "cell_type": "code",
      "execution_count": null,
      "metadata": {
        "id": "RgyrGJmvaTM1"
      },
      "outputs": [],
      "source": [
        "selection_query = f\"\"\"\n",
        "  -- get all prostatex segmentations objects\n",
        "WITH\n",
        "  prostatex_seg AS (\n",
        "  SELECT\n",
        "    DISTINCT(dc_all_seg.ReferencedSeriesSequence[SAFE_OFFSET(0)].SeriesInstanceUID) AS RefSerieUID\n",
        "  FROM\n",
        "    `bigquery-public-data.idc_v14.dicom_all` as dc_all_seg\n",
        "  LEFT JOIN UNNEST(SegmentSequence) ss\n",
        "  LEFT JOIN UNNEST(ss.SegmentedPropertyTypeCodeSequence) ssSptcs\n",
        "  WHERE\n",
        "    collection_id = 'prostatex'\n",
        "  AND\n",
        "    ssSptcs.CodeMeaning = 'Prostate')\n",
        "SELECT\n",
        "  dc_all.*\n",
        "FROM\n",
        "  `bigquery-public-data.idc_v14.dicom_all` AS dc_all\n",
        "JOIN\n",
        "  prostatex_seg\n",
        "ON\n",
        "  dc_all.SeriesInstanceUID = prostatex_seg.RefSerieUID\n",
        "WHERE\n",
        "  dc_all.collection_id = 'prostatex'\n",
        "  AND dc_all.Modality = 'MR'\n",
        "  AND SeriesInstanceUID NOT IN UNNEST({refSerieUID_prostatex_lst})\n",
        "  AND LOWER(dc_all.SeriesDescription) LIKE '%t2%'\n",
        "  \"\"\"\n",
        "selection_result = bq_client.query(selection_query)\n",
        "selection_prostatex_df_serieUID = selection_result.result().to_dataframe()"
      ]
    },
    {
      "cell_type": "markdown",
      "metadata": {
        "id": "8ojqp1csJ4In"
      },
      "source": [
        "SEG"
      ]
    },
    {
      "cell_type": "markdown",
      "metadata": {
        "id": "_B6hdeXNuivL"
      },
      "source": [
        "Select SEG of reference T2W's images"
      ]
    },
    {
      "cell_type": "code",
      "execution_count": null,
      "metadata": {
        "id": "c17NHYgAJ48r"
      },
      "outputs": [],
      "source": [
        "from google.cloud import bigquery\n",
        "selection_query = f\"\"\"\n",
        "SELECT\n",
        "  dc_all.*,\n",
        "  dc_all.ReferencedSeriesSequence[SAFE_OFFSET(0)].SeriesInstanceUID as RefSerieUID\n",
        "FROM\n",
        "  `bigquery-public-data.idc_v14.dicom_all` AS dc_all\n",
        "LEFT JOIN UNNEST(SegmentSequence) ss\n",
        "LEFT JOIN UNNEST(ss.SegmentedPropertyTypeCodeSequence) ssSptcs\n",
        "WHERE\n",
        "  ReferencedSeriesSequence[SAFE_OFFSET(0)].SeriesInstanceUID NOT IN UNNEST({refSerieUID_prostatex_lst})\n",
        "AND Modality='SEG'\n",
        "AND collection_id = 'prostatex'\n",
        "AND ssSptcs.CodeMeaning = 'Prostate'\n",
        "\"\"\" %refSerieUID_prostatex_lst\n",
        "selection_result = bq_client.query(selection_query)\n",
        "selection_t2_seg_prostatex_refSerieUID_df = selection_result.result().to_dataframe()"
      ]
    },
    {
      "cell_type": "markdown",
      "metadata": {
        "id": "8ytKVRAqje-3"
      },
      "source": [
        "## QIN collection"
      ]
    },
    {
      "cell_type": "markdown",
      "metadata": {
        "id": "vZ7j4LCRQDGK"
      },
      "source": [
        "T2W"
      ]
    },
    {
      "cell_type": "code",
      "execution_count": null,
      "metadata": {
        "id": "OPifK5aYQUqu"
      },
      "outputs": [],
      "source": [
        "selection_query = f\"\"\"\n",
        "  -- get all prostatex segmentations objects\n",
        "WITH\n",
        "  prostatex_seg AS (\n",
        "  SELECT\n",
        "    DISTINCT(dc_all_seg.ReferencedSeriesSequence[SAFE_OFFSET(0)].SeriesInstanceUID) AS RefSerieUID\n",
        "  FROM\n",
        "    `bigquery-public-data.idc_v14.dicom_all` as dc_all_seg\n",
        "  LEFT JOIN UNNEST(SegmentSequence) ss\n",
        "  LEFT JOIN UNNEST(ss.SegmentedPropertyTypeCodeSequence) ssSptcs\n",
        "  WHERE\n",
        "    collection_id = 'qin_prostate_repeatability'\n",
        "  AND\n",
        "    ssSptcs.CodeMeaning = 'Prostate')\n",
        "SELECT\n",
        "  dc_all.*\n",
        "FROM\n",
        "  `bigquery-public-data.idc_v14.dicom_all` AS dc_all\n",
        "JOIN\n",
        "  prostatex_seg\n",
        "ON\n",
        "  dc_all.SeriesInstanceUID = prostatex_seg.RefSerieUID\n",
        "WHERE\n",
        "  dc_all.collection_id = 'qin_prostate_repeatability'\n",
        "  AND dc_all.Modality = 'MR'\n",
        "  AND dc_all.SeriesDescription LIKE '%T2 Weighted Axial%'\n",
        "  AND SeriesInstanceUID NOT IN UNNEST({refSerieUID_qin_lst})\"\"\"\n",
        "selection_result = bq_client.query(selection_query)\n",
        "selection_qin_df = selection_result.result().to_dataframe()"
      ]
    },
    {
      "cell_type": "markdown",
      "metadata": {
        "id": "qATcCFGN5UBW"
      },
      "source": [
        "SEG"
      ]
    },
    {
      "cell_type": "code",
      "execution_count": null,
      "metadata": {
        "id": "YXAwuR9Cje-3"
      },
      "outputs": [],
      "source": [
        "selection_query = f\"\"\"\n",
        "SELECT\n",
        "  dc_all.*,\n",
        "  dc_all.ReferencedSeriesSequence[SAFE_OFFSET(0)].SeriesInstanceUID as RefSerieUID\n",
        "FROM\n",
        "  `bigquery-public-data.idc_v14.dicom_all` AS dc_all\n",
        "LEFT JOIN UNNEST(SegmentSequence) ss\n",
        "LEFT JOIN UNNEST(ss.SegmentedPropertyTypeCodeSequence) ssSptcs\n",
        "WHERE\n",
        "  ReferencedSeriesSequence[SAFE_OFFSET(0)].SeriesInstanceUID NOT IN UNNEST({refSerieUID_qin_lst})\n",
        "AND Modality='SEG'\n",
        "AND collection_id = 'qin_prostate_repeatability'\n",
        "AND ssSptcs.CodeMeaning = 'Prostate' \"\"\"\n",
        "selection_result = bq_client.query(selection_query)\n",
        "selection_qin_seg_df = selection_result.result().to_dataframe()"
      ]
    },
    {
      "cell_type": "markdown",
      "metadata": {
        "id": "dH4jo3Ym2HIs"
      },
      "source": [
        "## Download IDC data"
      ]
    },
    {
      "cell_type": "markdown",
      "metadata": {
        "id": "lS0e8C-QBu-x"
      },
      "source": [
        "https://learn.canceridc.dev/data/downloading-data"
      ]
    },
    {
      "cell_type": "code",
      "execution_count": null,
      "metadata": {
        "id": "cnB-9M2uOqd6"
      },
      "outputs": [],
      "source": [
        "def reset_folders():\n",
        "  for key, path in os.environ.items():\n",
        "    check_patterns = [True for el in [\"idc_root\", \"IDC_Downloads\", \"IDC_Downloads_Sorted\", \"IDC\"] if el in key]\n",
        "    if True in check_patterns:\n",
        "      !rm -rf $path\n",
        "      !mkdir -p $path\n",
        "  !rm /content/nnUNet/output/preds/*.nii.gz"
      ]
    },
    {
      "cell_type": "markdown",
      "metadata": {
        "id": "_qXN4s6y2Km1"
      },
      "source": [
        "### ProstateX"
      ]
    },
    {
      "cell_type": "code",
      "execution_count": null,
      "metadata": {
        "id": "Y0xZKG_tOpqr"
      },
      "outputs": [],
      "source": [
        "#whole process\n",
        "# let's make sure the download folder is clean, in case you ran this cell earlier\n",
        "# for a different dataset\n",
        "for serieUID_current in selection_prostatex_df_serieUID.SeriesInstanceUID.unique():\n",
        "  #reset processing folders\n",
        "  reset_folders()\n",
        "  #download idc data\n",
        "  idc_df = download_idc_data_serie_uid(idc_df=selection_prostatex_df_serieUID[selection_prostatex_df_serieUID.SeriesInstanceUID \\\n",
        "                                                           == serieUID_current],\n",
        "                                                           out_folder=os.environ[\"IDC_Downloads\"],\n",
        "                                       out_folder_sorted=os.environ[\"IDC_Downloads_Sorted\"],\n",
        "                                       out_folder_collection=os.environ[\"idc_root_prostatex_dicom\"],\n",
        "                                       out_folder_collection_nii=os.environ[\"idc_root_prostatex_nii\"])\n",
        "  ##reformat idc input data\n",
        "  reformat_image_nnunet(in_folder=os.environ[\"idc_root_prostatex_nii\"],\n",
        "                        out_folder_nnunet=os.environ[\"nnUNet_preprocessed\"])\n",
        "  ##SEG objects for corresponding T2W reference image\n",
        "  #download DICOM seg objects\n",
        "  idc_seg_df = download_idc_data_serie_uid_seg(idc_df=selection_t2_seg_prostatex_refSerieUID_df[selection_t2_seg_prostatex_refSerieUID_df.RefSerieUID \\\n",
        "                                                           == serieUID_current],\n",
        "                                                           out_folder=os.environ[\"IDC_SEG_Downloads\"],\n",
        "                                       out_folder_sorted=os.environ[\"IDC_Downloads_SEG_Sorted\"],\n",
        "                                       out_folder_collection=os.environ[\"idc_root_prostatex_seg_dicom\"])\n",
        "  #Convert SEG DICOM to NIFTI\n",
        "  convert_seg_to_nii(input_path=glob.glob(os.path.join(os.environ[\"idc_root_prostatex_seg_dicom\"],\n",
        "                                                       \"**\", \"*.dcm\"), recursive=True)[0],\n",
        "                     output_path=os.environ[\"idc_root_prostatex_seg_nii\"])\n",
        "  idc_dic = parse_json_dcmqi(glob.glob(os.path.join(os.environ[\"idc_root_prostatex_seg_nii\"], \\\n",
        "                                        \"**\", \"*.json\"), recursive=True)[0])\n",
        "  path_seg_prostate_nii = glob.glob(os.path.join(os.environ[\"idc_root_prostatex_seg_nii\"],\n",
        "                                                 f\"{idc_dic['Prostate']}.nii.gz\"))[0]\n",
        "  #change labelID to 1 -- uniform across all collection\n",
        "  change_seg_labelID(path_seg_prostate_nii,\n",
        "                     os.path.join(os.environ[\"idc_root_prostatex_seg_nii_processed\"],\n",
        "                                  path_seg_prostate_nii.split(\"/\")[-1]), labelID=1)\n",
        "  ref_t2_path = glob.glob(os.path.join(os.environ[\"nnUNet_preprocessed\"],\n",
        "  f\"{idc_seg_df.PatientID.unique()[0]}_{idc_seg_df.RefSerieUID.unique()[0]}*.nii.gz\"), recursive=True)[0]\n",
        "  ##resample and reformat idc seg data\n",
        "  out_path_seg_res = os.path.join(os.environ[\"nnUNet_seg_preprocessed\"],\n",
        "                                  f\"{idc_seg_df.PatientID.unique()[0]}_{idc_seg_df.RefSerieUID.unique()[0]}.nii.gz\")\n",
        "  resample_args_to_t2_origin = {\"input\" : os.path.join(os.environ[\"idc_root_prostatex_seg_nii_processed\"],\n",
        "                                  path_seg_prostate_nii.split(\"/\")[-1]),\n",
        "                        \"output\" : out_path_seg_res,\n",
        "                        \"fixed\" : ref_t2_path,\n",
        "                        \"interpolation\" : \"nn\"}\n",
        "  pypla.resample(verbose = True, **resample_args_to_t2_origin)\n",
        "  # !cp -r {os.environ[\"idc_root_prostatex_seg_nii_resampled\"]}/*.nii.gz {os.environ[\"nnUNet_seg_preprocessed\"]}/"
      ]
    },
    {
      "cell_type": "markdown",
      "metadata": {
        "id": "IquMs_VB2MKQ"
      },
      "source": [
        "### QIN"
      ]
    },
    {
      "cell_type": "code",
      "execution_count": null,
      "metadata": {
        "id": "oC4Q06aP5m5K"
      },
      "outputs": [],
      "source": [
        "#whole process\n",
        "# let's make sure the download folder is clean, in case you ran this cell earlier\n",
        "# for a different dataset\n",
        "for serieUID_current in selection_qin_df.SeriesInstanceUID.unique():\n",
        "  #reset processing folders\n",
        "  reset_folders()\n",
        "  #download idc data\n",
        "  idc_df = download_idc_data_serie_uid(idc_df=selection_qin_df[selection_qin_df.SeriesInstanceUID \\\n",
        "                                                           == serieUID_current],\n",
        "                                                           out_folder=os.environ[\"IDC_Downloads\"],\n",
        "                                       out_folder_sorted=os.environ[\"IDC_Downloads_Sorted\"],\n",
        "                                       out_folder_collection=os.environ[\"idc_root_qin_dicom\"],\n",
        "                                       out_folder_collection_nii=os.environ[\"idc_root_qin_nii\"])\n",
        "  ##reformat idc input data\n",
        "  reformat_image_nnunet(in_folder=os.environ[\"idc_root_qin_nii\"],\n",
        "                        out_folder_nnunet=os.environ[\"nnUNet_preprocessed\"])\n",
        "  ##SEG objects for corresponding T2W reference image\n",
        "  idc_seg_df = download_idc_data_serie_uid_seg(idc_df=selection_qin_seg_df[selection_qin_seg_df.RefSerieUID \\\n",
        "                                                           == serieUID_current],\n",
        "                                                           out_folder=os.environ[\"IDC_SEG_Downloads\"],\n",
        "                                       out_folder_sorted=os.environ[\"IDC_Downloads_SEG_Sorted\"],\n",
        "                                       out_folder_collection=os.environ[\"idc_root_qin_seg_dicom\"])\n",
        "  convert_seg_to_nii(input_path=glob.glob(os.path.join(os.environ[\"idc_root_qin_seg_dicom\"],\n",
        "                                                       \"**\", \"*.dcm\"), recursive=True)[0],\n",
        "                     output_path=os.environ[\"idc_root_qin_seg_nii\"])\n",
        "  idc_dic = parse_json_dcmqi(glob.glob(os.path.join(os.environ[\"idc_root_qin_seg_nii\"], \\\n",
        "                                        \"**\", \"*.json\"), recursive=True)[0])\n",
        "  path_seg_prostate_nii = glob.glob(os.path.join(os.environ[\"idc_root_qin_seg_nii\"],\n",
        "                                                 f\"{idc_dic['Prostate']}.nii.gz\"))[0]\n",
        "  #change labelID to 1 -- uniform across all collection\n",
        "  change_seg_labelID(path_seg_prostate_nii,\n",
        "                     os.path.join(os.environ[\"idc_root_qin_seg_nii_processed\"],\n",
        "                                  path_seg_prostate_nii.split(\"/\")[-1]), labelID=1)\n",
        "  ref_t2_path = glob.glob(os.path.join(os.environ[\"nnUNet_preprocessed\"],\n",
        "  f\"{idc_seg_df.PatientID.unique()[0]}_{idc_seg_df.RefSerieUID.unique()[0]}*.nii.gz\"), recursive=True)[0]\n",
        "  out_path_seg_res = os.path.join(os.environ[\"nnUNet_seg_preprocessed\"],\n",
        "                                  f\"{idc_seg_df.PatientID.unique()[0]}_{idc_seg_df.RefSerieUID.unique()[0]}.nii.gz\")\n",
        "  resample_args_to_t2_origin = {\"input\" : os.path.join(os.environ[\"idc_root_qin_seg_nii_processed\"],\n",
        "                                  path_seg_prostate_nii.split(\"/\")[-1]),\n",
        "                        \"output\" : out_path_seg_res,\n",
        "                        \"fixed\" : ref_t2_path,\n",
        "                        \"interpolation\" : \"nn\"}\n",
        "  pypla.resample(verbose = True, **resample_args_to_t2_origin)"
      ]
    },
    {
      "cell_type": "markdown",
      "metadata": {
        "id": "6SDKMlfk2N2w"
      },
      "source": [
        "### Prostate MRI US Biopsy"
      ]
    },
    {
      "cell_type": "markdown",
      "metadata": {
        "id": "zoTLHl08yyxJ"
      },
      "source": [
        "# NNUNET EVAL"
      ]
    },
    {
      "cell_type": "markdown",
      "metadata": {
        "id": "EB5S_JQ5y5M9"
      },
      "source": [
        "## Paths and folder creating"
      ]
    },
    {
      "cell_type": "markdown",
      "source": [
        "Path to model and install"
      ],
      "metadata": {
        "id": "ct78SND0oGBL"
      }
    },
    {
      "cell_type": "markdown",
      "source": [
        "Pre-trained model upload to google drive"
      ],
      "metadata": {
        "id": "XowySRQeWe6m"
      }
    },
    {
      "cell_type": "code",
      "source": [
        "seg_model_url = \"https://www.dropbox.com/scl/fi/dts193nps4fp1ue1qrcgw/Dataset999_ProstateIDC.zip?dl=0&rlkey=j39xp2s0imrprnq34d7exybz2\"\n",
        "!wget --load-cookies /tmp/cookies.txt \"https://docs.google.com/uc?export=download&confirm=$(wget --quiet --save-cookies /tmp/cookies.txt --keep-session-cookies --no-check-certificate 'https://docs.google.com/uc?export=download&id=1N3z6RhP4rjkojsh1y1w5F1vkaLfov2uT' -O- | sed -rn 's/.*confirm=([0-9A-Za-z_]+).*/\\1\\n/p')&id=1N3z6RhP4rjkojsh1y1w5F1vkaLfov2uT\" -O model.zip && rm -rf /tmp/cookies.txt\n",
        "!unzip -d {os.environ['nnUNet_results']}/ model.zip"
      ],
      "metadata": {
        "id": "S2QdRVutveYF"
      },
      "execution_count": null,
      "outputs": []
    },
    {
      "cell_type": "markdown",
      "source": [
        "## Inference using nnUNet pre-trained models"
      ],
      "metadata": {
        "id": "G6-B9rpVVzA1"
      }
    },
    {
      "cell_type": "markdown",
      "source": [
        "Only two folds were trained, standard procedure for nnUNet is 5 fold cross validation training, this is for demonstration purposes"
      ],
      "metadata": {
        "id": "bFT7ev0QWjZg"
      }
    },
    {
      "cell_type": "markdown",
      "source": [
        "Fold 0 prediction"
      ],
      "metadata": {
        "id": "UAY__-6rFKL7"
      }
    },
    {
      "cell_type": "code",
      "execution_count": null,
      "metadata": {
        "id": "kLrQavry9_y3"
      },
      "outputs": [],
      "source": [
        "!nnUNetv2_predict -i {os.environ[\"nnUNet_preprocessed\"]} \\\n",
        "                -o {os.environ[\"RESULTS_FOLDER_FOLD0\"]} \\\n",
        "                -d 999 -c 3d_fullres \\\n",
        "                --save_probabilities -f 0 -chk checkpoint_best.pth --verbose"
      ]
    },
    {
      "cell_type": "markdown",
      "source": [
        "Fold 1 prediction"
      ],
      "metadata": {
        "id": "TQQBVjvbFMgU"
      }
    },
    {
      "cell_type": "code",
      "source": [
        "!nnUNetv2_predict -i {os.environ[\"nnUNet_preprocessed\"]} \\\n",
        "                -o {os.environ[\"RESULTS_FOLDER_FOLD1\"]} \\\n",
        "                -d 999 -c 3d_fullres \\\n",
        "                --save_probabilities -f 1 -chk checkpoint_best.pth --verbose"
      ],
      "metadata": {
        "id": "C0bYCTBwFOKD"
      },
      "execution_count": null,
      "outputs": []
    },
    {
      "cell_type": "markdown",
      "metadata": {
        "id": "Awlf8_yEve-O"
      },
      "source": [
        "## Evaluation"
      ]
    },
    {
      "cell_type": "code",
      "source": [
        "df_results = pd.DataFrame()"
      ],
      "metadata": {
        "id": "GjJHXx_3kxR2"
      },
      "execution_count": null,
      "outputs": []
    },
    {
      "cell_type": "markdown",
      "source": [
        "Fold 0"
      ],
      "metadata": {
        "id": "n4P2aFCvNDxR"
      }
    },
    {
      "cell_type": "code",
      "source": [
        "#whole process\n",
        "for caseID_current in glob.glob(os.path.join(os.environ[\"RESULTS_FOLDER_FOLD0\"], \"*.nii.gz\")):#not_processed_RefSerieUID\n",
        "  #reset processing folders\n",
        "  #get caseID\n",
        "  caseID = caseID_current.split(\"/\")[-1][:-7]\n",
        "  print(f\"caseID processed : {caseID} ...\")\n",
        "  #find ref T2 volume\n",
        "  t2_path = glob.glob(os.path.join(os.environ[\"nnUNet_preprocessed\"], f\"*{caseID}*.nii.gz\"))[0]\n",
        "  #find expert SEG T2 volume\n",
        "  t2_seg_expert_path = glob.glob(os.path.join(os.environ[\"nnUNet_seg_preprocessed\"], f\"*{caseID}*.nii.gz\"))[0]\n",
        "  dict_case = {\"RefSerieUID\": serieUID_current, \"dice_score\": compute_dice(caseID_current, t2_seg_expert_path), \\\n",
        "        \"hsdff\" : compute_hsdff_regular(caseID_current, t2_seg_expert_path), \\\n",
        "        \"hsdff_95\" : compute_hsdff(caseID_current, t2_seg_expert_path), \\\n",
        "        \"asd\" : compute_avg_surface_dist(caseID_current, t2_seg_expert_path),\\\n",
        "        \"regions\" : \"Prostate\",\n",
        "        \"fold\" : \"0\",\n",
        "        \"caseID\" : caseID}\n",
        "  df_results = pd.concat([df_results, pd.DataFrame([dict_case])], ignore_index=True)\n",
        "  print(\"Done! \\n\")"
      ],
      "metadata": {
        "id": "d6Jhev_Skpyq"
      },
      "execution_count": null,
      "outputs": []
    },
    {
      "cell_type": "markdown",
      "source": [
        "Fold 1"
      ],
      "metadata": {
        "id": "XA_VFKwMNI-a"
      }
    },
    {
      "cell_type": "code",
      "source": [
        "#whole process\n",
        "for caseID_current in glob.glob(os.path.join(os.environ[\"RESULTS_FOLDER_FOLD1\"], \"*.nii.gz\")):#not_processed_RefSerieUID\n",
        "  # get caseID\n",
        "  caseID = caseID_current.split(\"/\")[-1][:-7]\n",
        "  print(f\"caseID processed : {caseID} ...\")\n",
        "  #find ref T2 volume\n",
        "  t2_path = glob.glob(os.path.join(os.environ[\"nnUNet_preprocessed\"], f\"*{caseID}*.nii.gz\"))[0]\n",
        "  #find expert SEG T2 volume\n",
        "  t2_seg_expert_path = glob.glob(os.path.join(os.environ[\"nnUNet_seg_preprocessed\"], f\"*{caseID}*.nii.gz\"))[0]\n",
        "  dict_case = {\"RefSerieUID\": serieUID_current, \"dice_score\": compute_dice(caseID_current, t2_seg_expert_path), \\\n",
        "        \"hsdff\" : compute_hsdff_regular(caseID_current, t2_seg_expert_path), \\\n",
        "        \"hsdff_95\" : compute_hsdff(caseID_current, t2_seg_expert_path), \\\n",
        "        \"asd\" : compute_avg_surface_dist(caseID_current, t2_seg_expert_path),\\\n",
        "        \"regions\" : \"Prostate\",\n",
        "        \"fold\" : \"1\",\n",
        "        \"caseID\" : caseID}\n",
        "  df_results = pd.concat([df_results, pd.DataFrame([dict_case])], ignore_index=True)\n",
        "  print(\"Done! \\n\")"
      ],
      "metadata": {
        "id": "VnG0GPv2NK7G"
      },
      "execution_count": null,
      "outputs": []
    },
    {
      "cell_type": "code",
      "source": [
        "df_results.sample(3).head()"
      ],
      "metadata": {
        "colab": {
          "base_uri": "https://localhost:8080/",
          "height": 187
        },
        "id": "B8USWnDFJ5oi",
        "outputId": "8b95e580-d226-4ff7-8ba1-93f1d36c9072"
      },
      "execution_count": null,
      "outputs": [
        {
          "output_type": "execute_result",
          "data": {
            "text/plain": [
              "                                          RefSerieUID  dice_score     hsdff  \\\n",
              "15  1.3.6.1.4.1.14519.5.2.1.3671.4754.105976129314...    0.957285  4.358899   \n",
              "22  1.3.6.1.4.1.14519.5.2.1.3671.4754.105976129314...    0.940552  5.625000   \n",
              "79  1.3.6.1.4.1.14519.5.2.1.3671.4754.105976129314...    0.936606  4.500000   \n",
              "\n",
              "    hsdff_95       asd   regions fold  \\\n",
              "15  0.250000  0.402593  Prostate    0   \n",
              "22  0.562500  0.794228  Prostate    0   \n",
              "79  0.790569  0.721460  Prostate    1   \n",
              "\n",
              "                                               caseID  \n",
              "15  ProstateX-0066_1.3.6.1.4.1.14519.5.2.1.7311.51...  \n",
              "22  ProstateX-0265_1.3.6.1.4.1.14519.5.2.1.7310.51...  \n",
              "79  ProstateX-0007_1.3.6.1.4.1.14519.5.2.1.7311.51...  "
            ],
            "text/html": [
              "\n",
              "  <div id=\"df-b7642919-de2a-4012-9eb3-398d7aa1bdcb\">\n",
              "    <div class=\"colab-df-container\">\n",
              "      <div>\n",
              "<style scoped>\n",
              "    .dataframe tbody tr th:only-of-type {\n",
              "        vertical-align: middle;\n",
              "    }\n",
              "\n",
              "    .dataframe tbody tr th {\n",
              "        vertical-align: top;\n",
              "    }\n",
              "\n",
              "    .dataframe thead th {\n",
              "        text-align: right;\n",
              "    }\n",
              "</style>\n",
              "<table border=\"1\" class=\"dataframe\">\n",
              "  <thead>\n",
              "    <tr style=\"text-align: right;\">\n",
              "      <th></th>\n",
              "      <th>RefSerieUID</th>\n",
              "      <th>dice_score</th>\n",
              "      <th>hsdff</th>\n",
              "      <th>hsdff_95</th>\n",
              "      <th>asd</th>\n",
              "      <th>regions</th>\n",
              "      <th>fold</th>\n",
              "      <th>caseID</th>\n",
              "    </tr>\n",
              "  </thead>\n",
              "  <tbody>\n",
              "    <tr>\n",
              "      <th>15</th>\n",
              "      <td>1.3.6.1.4.1.14519.5.2.1.3671.4754.105976129314...</td>\n",
              "      <td>0.957285</td>\n",
              "      <td>4.358899</td>\n",
              "      <td>0.250000</td>\n",
              "      <td>0.402593</td>\n",
              "      <td>Prostate</td>\n",
              "      <td>0</td>\n",
              "      <td>ProstateX-0066_1.3.6.1.4.1.14519.5.2.1.7311.51...</td>\n",
              "    </tr>\n",
              "    <tr>\n",
              "      <th>22</th>\n",
              "      <td>1.3.6.1.4.1.14519.5.2.1.3671.4754.105976129314...</td>\n",
              "      <td>0.940552</td>\n",
              "      <td>5.625000</td>\n",
              "      <td>0.562500</td>\n",
              "      <td>0.794228</td>\n",
              "      <td>Prostate</td>\n",
              "      <td>0</td>\n",
              "      <td>ProstateX-0265_1.3.6.1.4.1.14519.5.2.1.7310.51...</td>\n",
              "    </tr>\n",
              "    <tr>\n",
              "      <th>79</th>\n",
              "      <td>1.3.6.1.4.1.14519.5.2.1.3671.4754.105976129314...</td>\n",
              "      <td>0.936606</td>\n",
              "      <td>4.500000</td>\n",
              "      <td>0.790569</td>\n",
              "      <td>0.721460</td>\n",
              "      <td>Prostate</td>\n",
              "      <td>1</td>\n",
              "      <td>ProstateX-0007_1.3.6.1.4.1.14519.5.2.1.7311.51...</td>\n",
              "    </tr>\n",
              "  </tbody>\n",
              "</table>\n",
              "</div>\n",
              "      <button class=\"colab-df-convert\" onclick=\"convertToInteractive('df-b7642919-de2a-4012-9eb3-398d7aa1bdcb')\"\n",
              "              title=\"Convert this dataframe to an interactive table.\"\n",
              "              style=\"display:none;\">\n",
              "        \n",
              "  <svg xmlns=\"http://www.w3.org/2000/svg\" height=\"24px\"viewBox=\"0 0 24 24\"\n",
              "       width=\"24px\">\n",
              "    <path d=\"M0 0h24v24H0V0z\" fill=\"none\"/>\n",
              "    <path d=\"M18.56 5.44l.94 2.06.94-2.06 2.06-.94-2.06-.94-.94-2.06-.94 2.06-2.06.94zm-11 1L8.5 8.5l.94-2.06 2.06-.94-2.06-.94L8.5 2.5l-.94 2.06-2.06.94zm10 10l.94 2.06.94-2.06 2.06-.94-2.06-.94-.94-2.06-.94 2.06-2.06.94z\"/><path d=\"M17.41 7.96l-1.37-1.37c-.4-.4-.92-.59-1.43-.59-.52 0-1.04.2-1.43.59L10.3 9.45l-7.72 7.72c-.78.78-.78 2.05 0 2.83L4 21.41c.39.39.9.59 1.41.59.51 0 1.02-.2 1.41-.59l7.78-7.78 2.81-2.81c.8-.78.8-2.07 0-2.86zM5.41 20L4 18.59l7.72-7.72 1.47 1.35L5.41 20z\"/>\n",
              "  </svg>\n",
              "      </button>\n",
              "      \n",
              "  <style>\n",
              "    .colab-df-container {\n",
              "      display:flex;\n",
              "      flex-wrap:wrap;\n",
              "      gap: 12px;\n",
              "    }\n",
              "\n",
              "    .colab-df-convert {\n",
              "      background-color: #E8F0FE;\n",
              "      border: none;\n",
              "      border-radius: 50%;\n",
              "      cursor: pointer;\n",
              "      display: none;\n",
              "      fill: #1967D2;\n",
              "      height: 32px;\n",
              "      padding: 0 0 0 0;\n",
              "      width: 32px;\n",
              "    }\n",
              "\n",
              "    .colab-df-convert:hover {\n",
              "      background-color: #E2EBFA;\n",
              "      box-shadow: 0px 1px 2px rgba(60, 64, 67, 0.3), 0px 1px 3px 1px rgba(60, 64, 67, 0.15);\n",
              "      fill: #174EA6;\n",
              "    }\n",
              "\n",
              "    [theme=dark] .colab-df-convert {\n",
              "      background-color: #3B4455;\n",
              "      fill: #D2E3FC;\n",
              "    }\n",
              "\n",
              "    [theme=dark] .colab-df-convert:hover {\n",
              "      background-color: #434B5C;\n",
              "      box-shadow: 0px 1px 3px 1px rgba(0, 0, 0, 0.15);\n",
              "      filter: drop-shadow(0px 1px 2px rgba(0, 0, 0, 0.3));\n",
              "      fill: #FFFFFF;\n",
              "    }\n",
              "  </style>\n",
              "\n",
              "      <script>\n",
              "        const buttonEl =\n",
              "          document.querySelector('#df-b7642919-de2a-4012-9eb3-398d7aa1bdcb button.colab-df-convert');\n",
              "        buttonEl.style.display =\n",
              "          google.colab.kernel.accessAllowed ? 'block' : 'none';\n",
              "\n",
              "        async function convertToInteractive(key) {\n",
              "          const element = document.querySelector('#df-b7642919-de2a-4012-9eb3-398d7aa1bdcb');\n",
              "          const dataTable =\n",
              "            await google.colab.kernel.invokeFunction('convertToInteractive',\n",
              "                                                     [key], {});\n",
              "          if (!dataTable) return;\n",
              "\n",
              "          const docLinkHtml = 'Like what you see? Visit the ' +\n",
              "            '<a target=\"_blank\" href=https://colab.research.google.com/notebooks/data_table.ipynb>data table notebook</a>'\n",
              "            + ' to learn more about interactive tables.';\n",
              "          element.innerHTML = '';\n",
              "          dataTable['output_type'] = 'display_data';\n",
              "          await google.colab.output.renderOutput(dataTable, element);\n",
              "          const docLink = document.createElement('div');\n",
              "          docLink.innerHTML = docLinkHtml;\n",
              "          element.appendChild(docLink);\n",
              "        }\n",
              "      </script>\n",
              "    </div>\n",
              "  </div>\n",
              "  "
            ]
          },
          "metadata": {},
          "execution_count": 112
        }
      ]
    },
    {
      "cell_type": "markdown",
      "source": [
        "Plot dice score results"
      ],
      "metadata": {
        "id": "D5kzJb6QMbJN"
      }
    },
    {
      "cell_type": "code",
      "source": [
        "sns.set(rc={'figure.figsize':(15.7,8.27)})\n",
        "sns.violinplot(x=df_results[\"fold\"],\n",
        "               y=df_results[\"dice_score\"], dodge=False,\n",
        "               hue=df_results[\"fold\"]).set(title=\"Dice score of nnUNet pre-trained model on IDC data, per model fold, on in-domain IDC test data\")\n",
        "plt.show()"
      ],
      "metadata": {
        "colab": {
          "base_uri": "https://localhost:8080/",
          "height": 648
        },
        "id": "LXU1xEloMK4s",
        "outputId": "6e2cbbf3-b89a-4a5a-aaa9-e99e00fab1c9"
      },
      "execution_count": null,
      "outputs": [
        {
          "output_type": "display_data",
          "data": {
            "text/plain": [
              "<Figure size 1570x827 with 1 Axes>"
            ],
            "image/png": "[encoded data removed]"
          },
          "metadata": {}
        }
      ]
    },
    {
      "cell_type": "markdown",
      "source": [
        "Hausdorff distance(95%) results"
      ],
      "metadata": {
        "id": "9FPMVBUKPd_9"
      }
    },
    {
      "cell_type": "code",
      "source": [
        "sns.set(rc={'figure.figsize':(15.7,8.27)})\n",
        "sns.violinplot(x=df_results[\"fold\"],\n",
        "               y=df_results[\"hsdff_95\"], dodge=False,\n",
        "               hue=df_results[\"fold\"]).set(title=\"hausdorff distance(95%) results of nnUNet pre-trained model on IDC data, per model fold, on in-domain IDC test data\")\n",
        "plt.show()"
      ],
      "metadata": {
        "colab": {
          "base_uri": "https://localhost:8080/",
          "height": 655
        },
        "id": "rZ32r4m7PhgJ",
        "outputId": "f6274db5-380d-4268-e4eb-7d320f5e2f04"
      },
      "execution_count": null,
      "outputs": [
        {
          "output_type": "display_data",
          "data": {
            "text/plain": [
              "<Figure size 1570x827 with 1 Axes>"
            ],
            "image/png": "[encoded data removed]"
          },
          "metadata": {}
        }
      ]
    },
    {
      "cell_type": "markdown",
      "source": [
        "Average surface distance results"
      ],
      "metadata": {
        "id": "KuauQAX0PpoD"
      }
    },
    {
      "cell_type": "code",
      "source": [
        "sns.set(rc={'figure.figsize':(15.7,8.27)})\n",
        "sns.violinplot(x=df_results[\"fold\"],\n",
        "               y=df_results[\"asd\"], dodge=False,\n",
        "               hue=df_results[\"fold\"]).set(title=\"Average surface distance results of nnUNet pre-trained model on IDC data, per model fold, on in-domain IDC test data\")\n",
        "plt.show()"
      ],
      "metadata": {
        "colab": {
          "base_uri": "https://localhost:8080/",
          "height": 655
        },
        "id": "LuA0q7bbPpoD",
        "outputId": "ed9b0c4d-e074-4437-e750-e6144857e351"
      },
      "execution_count": null,
      "outputs": [
        {
          "output_type": "display_data",
          "data": {
            "text/plain": [
              "<Figure size 1570x827 with 1 Axes>"
            ],
            "image/png": "[encoded data removed]"
          },
          "metadata": {}
        }
      ]
    }
  ],
  "metadata": {
    "accelerator": "GPU",
    "colab": {
      "machine_shape": "hm",
      "provenance": [],
      "toc_visible": true,
      "authorship_tag": "ABX9TyNyDXxTHg9KPvqDfGbWUnDA",
      "include_colab_link": true
    },
    "kernelspec": {
      "display_name": "Python 3",
      "name": "python3"
    },
    "language_info": {
      "name": "python"
    }
  },
  "nbformat": 4,
  "nbformat_minor": 0
}