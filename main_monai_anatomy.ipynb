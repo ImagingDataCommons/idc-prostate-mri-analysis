{
  "nbformat": 4,
  "nbformat_minor": 0,
  "metadata": {
    "colab": {
      "provenance": [],
      "authorship_tag": "ABX9TyPXkstb7UDJ4NMNRJUgrxoj",
      "include_colab_link": true
    },
    "kernelspec": {
      "name": "python3",
      "display_name": "Python 3"
    },
    "language_info": {
      "name": "python"
    },
    "accelerator": "GPU",
    "gpuClass": "standard"
  },
  "cells": [
    {
      "cell_type": "markdown",
      "metadata": {
        "id": "view-in-github",
        "colab_type": "text"
      },
      "source": [
        "<a href=\"https://colab.research.google.com/github/ccosmin97/idc-prostate-mri-analysis/blob/main/main_monai_anatomy.ipynb\" target=\"_parent\"><img src=\"https://colab.research.google.com/assets/colab-badge.svg\" alt=\"Open In Colab\"/></a>"
      ]
    },
    {
      "cell_type": "markdown",
      "source": [
        "# Setup -- Restart runtime after execution"
      ],
      "metadata": {
        "id": "BsVFBNAVtcv9"
      }
    },
    {
      "cell_type": "code",
      "source": [
        "!pip install simpleitk\n",
        "!pip install -U \"monai[all]\" pyyaml munch pandas"
      ],
      "metadata": {
        "id": "gLJvsUzw8CPj"
      },
      "execution_count": null,
      "outputs": []
    },
    {
      "cell_type": "code",
      "source": [
        "%%capture\n",
        "!sudo apt update\n",
        "!sudo apt install plastimatch\n",
        "!sudo apt install subversion\n",
        "# PyPlastimatch - paython wrapper for Plastimatch (and interactive notebook visualisation)\n",
        "!svn checkout https://github.com/AIM-Harvard/pyplastimatch/trunk/pyplastimatch pyplastimatch"
      ],
      "metadata": {
        "id": "PLAz0irAo9sO"
      },
      "execution_count": null,
      "outputs": []
    },
    {
      "cell_type": "code",
      "source": [
        "!pip install protobuf==3.9.2\n",
        "!pip install grpcio\n",
        "!pip install grpcio-tools\n",
        "!pip install google-cloud-bigquery\n",
        "!pip install pydicom\n",
        "!pip install nibabel\n",
        "!pip install dcm2niix"
      ],
      "metadata": {
        "id": "vndgSnLYuEbc"
      },
      "execution_count": null,
      "outputs": []
    },
    {
      "cell_type": "code",
      "source": [
        "%%capture\n",
        "!sudo apt install subversion"
      ],
      "metadata": {
        "id": "ZAf3CR7XSckU"
      },
      "execution_count": null,
      "outputs": []
    },
    {
      "cell_type": "code",
      "execution_count": null,
      "metadata": {
        "id": "Z-nklfPd0zsW",
        "colab": {
          "base_uri": "https://localhost:8080/"
        },
        "outputId": "4642c214-51e0-4a6e-faeb-93166278799f"
      },
      "outputs": [
        {
          "output_type": "stream",
          "name": "stdout",
          "text": [
            "Cloning into 'dicomsort'...\n",
            "remote: Enumerating objects: 130, done.\u001b[K\n",
            "remote: Counting objects: 100% (4/4), done.\u001b[K\n",
            "remote: Compressing objects: 100% (4/4), done.\u001b[K\n",
            "remote: Total 130 (delta 0), reused 1 (delta 0), pack-reused 126\u001b[K\n",
            "Receiving objects: 100% (130/130), 44.12 KiB | 2.10 MiB/s, done.\n",
            "Resolving deltas: 100% (63/63), done.\n"
          ]
        }
      ],
      "source": [
        "# dicomsort is the pythong package that can sort DICOM files into\n",
        "# folder organization based on user-specified DICOM attributes\n",
        "!git clone https://github.com/pieper/dicomsort.git"
      ]
    },
    {
      "cell_type": "code",
      "source": [
        "%%capture\n",
        "!wget https://github.com/QIICR/dcmqi/releases/download/v1.2.5/dcmqi-1.2.5-linux.tar.gz \n",
        "!tar zxvf dcmqi-1.2.5-linux.tar.gz\n",
        "!cp dcmqi-1.2.5-linux/bin/* /usr/local/bin/"
      ],
      "metadata": {
        "id": "N94H1SsZS_fT"
      },
      "execution_count": null,
      "outputs": []
    },
    {
      "cell_type": "code",
      "source": [
        "!pip install 'itkwidgets>=1.0a16'"
      ],
      "metadata": {
        "id": "HGW6Mjhzp4qs"
      },
      "execution_count": null,
      "outputs": []
    },
    {
      "cell_type": "markdown",
      "source": [
        "# Monai setup and imports"
      ],
      "metadata": {
        "id": "lcN1DsBl4NRE"
      }
    },
    {
      "cell_type": "markdown",
      "source": [
        "Download monai bundle from github"
      ],
      "metadata": {
        "id": "tpLO_5VIcQjo"
      }
    },
    {
      "cell_type": "code",
      "source": [
        "!svn checkout https://github.com/Project-MONAI/model-zoo/trunk/models/prostate_mri_anatomy monai_prostate158/"
      ],
      "metadata": {
        "id": "BHehn4isPGrb"
      },
      "execution_count": null,
      "outputs": []
    },
    {
      "cell_type": "markdown",
      "source": [
        "Imports"
      ],
      "metadata": {
        "id": "sDm_rg-FcT2i"
      }
    },
    {
      "cell_type": "code",
      "source": [
        "from pyplastimatch import pyplastimatch as pypla\n",
        "from pyplastimatch.utils import viz as viz_utils\n",
        "from pyplastimatch.utils import data as data_utils\n",
        "import nibabel as nib\n",
        "import numpy as np\n",
        "import pydicom\n",
        "import glob\n",
        "import pandas as pd\n",
        "import nibabel as nib\n",
        "import numpy as np\n",
        "import glob\n",
        "import os\n",
        "import json"
      ],
      "metadata": {
        "id": "rgdz9rbOODDE"
      },
      "execution_count": null,
      "outputs": []
    },
    {
      "cell_type": "markdown",
      "source": [
        "# CUSTOM FUNCTIONS"
      ],
      "metadata": {
        "id": "1fxJSj_60zsX"
      }
    },
    {
      "cell_type": "markdown",
      "source": [
        "Functions designed to retrieve segments information and resampling for evaluation only"
      ],
      "metadata": {
        "id": "K0H3Td6dcYLg"
      }
    },
    {
      "cell_type": "code",
      "source": [
        "def getLabelID_from_json(input_json, codeMeaning):#, codeValue):\n",
        "  #json obtained from dcmqi conversion to nifti\n",
        "  #get labelID corresponding to wanted codeMeaning string value \n",
        "  dic_dcm = json.load(open(input_json))\n",
        "  for index, seg in enumerate(dic_dcm['segmentAttributes']):\n",
        "    code_mean = seg[0].get('SegmentedPropertyTypeCodeSequence').get('CodeMeaning')\n",
        "    if code_mean == codeMeaning:\n",
        "      return seg[0].get('labelID')\n",
        "    else:\n",
        "      pass\n",
        "  return None"
      ],
      "metadata": {
        "id": "2YCh8evP0zsX"
      },
      "execution_count": null,
      "outputs": []
    },
    {
      "cell_type": "code",
      "source": [
        "def change_labelID(labelID : int, nii_file : str, output_path_dir : str):\n",
        "  #change labelID for nifti \n",
        "  #for further computation of dice score between reference segment and monai prediction\n",
        "  nii = nib.load(nii_file)\n",
        "  header = nii.header \n",
        "  img = nii.get_fdata() \n",
        "  ind = np.where(img!=0)\n",
        "  vol = np.zeros((img.shape))\n",
        "  vol[ind] = labelID\n",
        "  new_img = nib.Nifti1Image(vol, nii.affine, nii.header)\n",
        "  output_filename = os.path.join(output_path_dir, nii_file.split('/')[-1])#save in output dir + filename \n",
        "  nib.save(new_img, output_filename)"
      ],
      "metadata": {
        "id": "YZCHwcNsODDF"
      },
      "execution_count": null,
      "outputs": []
    },
    {
      "cell_type": "markdown",
      "source": [
        "Dataframe pre-processing functions"
      ],
      "metadata": {
        "id": "VHhCfZgndRDt"
      }
    },
    {
      "cell_type": "code",
      "source": [
        "def resample_label(row, col_label, col_image, out_folder_root):\n",
        "  #intended use with dataframe\n",
        "  #plastimatch resampling of reference segment with reference CT volume\n",
        "  out_nii = os.path.join(out_folder_root, row[col_label].split('/')[-1])\n",
        "  resample_args = {\"input\" : row[col_label],\n",
        "                   \"output\" : out_nii,\n",
        "                   \"fixed\" : row[col_image],\n",
        "                   \"interpolation\" : \"nn\"}\n",
        "  pypla.resample(verbose = True, **resample_args)\n",
        "  return out_nii"
      ],
      "metadata": {
        "id": "lC-mj2l8i-4Y"
      },
      "execution_count": null,
      "outputs": []
    },
    {
      "cell_type": "code",
      "source": [
        "def extract_pz_monai(row, col_label, out_folder_root):\n",
        "  #this bundle outputs two segments per nifti file \n",
        "  #extraction of peripheral zone segment\n",
        "  out_nii = os.path.join(out_folder_root, row[col_label].split('/')[-1])\n",
        "  nii_file = nib.load(row[col_label])\n",
        "  nii_header = nii_file.header\n",
        "  nii_data = nii_file.get_fdata()\n",
        "  nii_data[np.where(nii_data != 2)] = 0\n",
        "  nii_data[np.where(nii_data == 2)] = 1 #get pz label id from monai\n",
        "  out_img = nib.Nifti1Image(nii_data, nii_file.affine, nii_file.header)\n",
        "  nib.save(out_img, out_nii)\n",
        "  return out_nii"
      ],
      "metadata": {
        "id": "iSTPGOj3RhFj"
      },
      "execution_count": null,
      "outputs": []
    },
    {
      "cell_type": "code",
      "source": [
        "def compute_dice(row, col_pred, col_gt):\n",
        "  #computation of dice score\n",
        "  out_plast = !plastimatch dice --dice {row[col_gt]} {row[col_pred]}\n",
        "  dice_score = [el[1] for el in out_plast.fields() if \"DICE\" in el[0]][0]#formatting by plastimatch dice output, retrieve of DSC\n",
        "  return float(dice_score)"
      ],
      "metadata": {
        "id": "KDV_5w-1hYzw"
      },
      "execution_count": null,
      "outputs": []
    },
    {
      "cell_type": "code",
      "source": [
        "def add_ohif_url(row, datastore='test_datastore', \n",
        "                 dataset='prostate-seg', app='fir-idc-prostate-ohif.web.app', \n",
        "                 project='idc-sandbox-003', location='us-central1'):\n",
        "    studyUID = row['StudyInstanceUID']\n",
        "    return f'https://{app}/viewer/{studyUID}!secondGoogleServer=/projects/{project}/locations/{location}/datasets/{dataset}/dicomStores/{datastore}'"
      ],
      "metadata": {
        "id": "4xrw8jJRlAOK"
      },
      "execution_count": null,
      "outputs": []
    },
    {
      "cell_type": "markdown",
      "source": [
        "# Setup of IDC data"
      ],
      "metadata": {
        "id": "SInyLthPbj6K"
      }
    },
    {
      "cell_type": "markdown",
      "source": [
        "Colab imports"
      ],
      "metadata": {
        "id": "U8qUz2L_dVwd"
      }
    },
    {
      "cell_type": "code",
      "source": [
        "#colab \n",
        "from google.colab import auth\n",
        "from scipy import ndimage\n",
        "auth.authenticate_user()"
      ],
      "metadata": {
        "id": "yJ5FhUDcLTng"
      },
      "execution_count": null,
      "outputs": []
    },
    {
      "cell_type": "markdown",
      "source": [
        "Setup of GCP project ID"
      ],
      "metadata": {
        "id": "Y4qPXLpadXot"
      }
    },
    {
      "cell_type": "code",
      "source": [
        "project_id = \"idc-sandbox-003\"\n",
        "# os.environ[\"GCP_PROJECT_ID\"] = project_id"
      ],
      "metadata": {
        "id": "Ti7evK9nLXLa"
      },
      "execution_count": null,
      "outputs": []
    },
    {
      "cell_type": "markdown",
      "metadata": {
        "id": "ItDuO2zOODDB"
      },
      "source": [
        "## Data selection, downloading and structuring\n",
        "\n",
        "We want to select here the collection named qin-prostate repeatibility, and more particularly the two timepoints per patient ID for further analysis."
      ]
    },
    {
      "cell_type": "markdown",
      "source": [
        "Query by SeriesInstanceUID and collection and get corresponding segmentation objects"
      ],
      "metadata": {
        "id": "Yizmsfi8Qb95"
      }
    },
    {
      "cell_type": "code",
      "source": [
        "SeriesInstanceUID_lst = [\"1.3.6.1.4.1.14519.5.2.1.3671.4754.105976129314091491952445656147\"]"
      ],
      "metadata": {
        "id": "73qN95t1z56H"
      },
      "execution_count": null,
      "outputs": []
    },
    {
      "cell_type": "code",
      "source": [
        "from google.cloud import bigquery\n",
        "bq_client = bigquery.Client(project_id)\n",
        "selection_query = f\"\"\"\n",
        "WITH\n",
        "# studies that have mr volumes\n",
        "mr_studies AS(\n",
        "  SELECT\n",
        "    dicom_all_mr.SOPInstanceUID as SOPInstanceUID, \n",
        "    dicom_all_mr.StudyInstanceUID as StudyInstanceUID,\n",
        "    dicom_all_mr.SeriesInstanceUID as SeriesInstanceUID,\n",
        "    '' AS segPropertyTypeCodeMeaning, \n",
        "    '' AS segPropertyCategoryCodeMeaning,\n",
        "    (SELECT SeriesInstanceUID FROM UNNEST(dicom_all_mr.ReferencedSeriesSequence)) AS RefSerieUID \n",
        "  FROM\n",
        "    `bigquery-public-data.idc_current.dicom_all` as dicom_all_mr\n",
        "  WHERE\n",
        "    collection_id = 'qin_prostate_repeatability'\n",
        "    AND SeriesInstanceUID IN UNNEST(%s)),\n",
        "\n",
        "# studies that have segmentations for the whole prostate\n",
        "seg_studies AS (\n",
        "SELECT\n",
        "  dicom_all_seg.SOPInstanceUID as SOPInstanceUID,\n",
        "  dicom_all_seg.StudyInstanceUID as StudyInstanceUID,\n",
        "  segmentations.SegmentedPropertyType.CodeMeaning as segPropertyTypeCodeMeaning,\n",
        "  segmentations.SegmentedPropertyCategory.CodeMeaning as segPropertyCategoryCodeMeaning,\n",
        "  (SELECT SeriesInstanceUID FROM UNNEST(dicom_all_seg.ReferencedSeriesSequence)) AS RefSerieUID\n",
        "\n",
        "FROM\n",
        "  `bigquery-public-data.idc_current.dicom_all` AS dicom_all_seg\n",
        "JOIN\n",
        "  `bigquery-public-data.idc_current.segmentations` AS segmentations\n",
        "ON\n",
        "  dicom_all_seg.SOPInstanceUID = segmentations.SOPInstanceUID\n",
        "WHERE\n",
        "  collection_id = \"qin_prostate_repeatability\"\n",
        "AND \n",
        "  REGEXP_CONTAINS(segmentations.SegmentedPropertyType.CodeMeaning, r\".*Peripheral zone.*\")\n",
        "AND \n",
        "  segmentations.SegmentedPropertyCategory.CodeMeaning = 'Anatomical Structure'),\n",
        "\n",
        "union_mr_seg AS(\n",
        "  SELECT\n",
        "    seg_studies.SOPInstanceUID, \n",
        "    seg_studies.segPropertyTypeCodeMeaning, \n",
        "    seg_studies.segPropertyCategoryCodeMeaning, \n",
        "  FROM \n",
        "    seg_studies\n",
        "  JOIN\n",
        "    mr_studies\n",
        "  ON\n",
        "    seg_studies.RefSerieUID = mr_studies.SeriesInstanceUID\n",
        "  UNION ALL\n",
        "    SELECT\n",
        "    mr_studies.SOPInstanceUID, \n",
        "    mr_studies.segPropertyTypeCodeMeaning, \n",
        "    mr_studies.segPropertyCategoryCodeMeaning, \n",
        "  FROM \n",
        "    mr_studies)\n",
        "\n",
        "SELECT \n",
        "  DISTINCT(dc_all.SOPInstanceUID),\n",
        "  dc_all.gcs_url,\n",
        "  dc_all.SeriesInstanceUID, \n",
        "  dc_all.StudyInstanceUID,  \n",
        "  dc_all.PatientID,\n",
        "  dc_all.Modality, \n",
        "  dc_all.SeriesDescription,\n",
        "  union_mr_seg.segPropertyTypeCodeMeaning,\n",
        "  union_mr_seg.segPropertyCategoryCodeMeaning,\n",
        "  (SELECT SeriesInstanceUID FROM UNNEST(dc_all.ReferencedSeriesSequence)) AS RefSerieUID \n",
        "FROM \n",
        "  `bigquery-public-data.idc_v10.dicom_all` as dc_all\n",
        "INNER JOIN\n",
        "  union_mr_seg\n",
        "ON \n",
        "  dc_all.SOPInstanceUID = union_mr_seg.SOPInstanceUID\"\"\" % (SeriesInstanceUID_lst)\n",
        "\n",
        "\n",
        "selection_result = bq_client.query(selection_query)\n",
        "selection_df = selection_result.result().to_dataframe()"
      ],
      "metadata": {
        "id": "EJI9UA22QfJB"
      },
      "execution_count": null,
      "outputs": []
    },
    {
      "cell_type": "markdown",
      "source": [
        "Query by collection filling seriesdescription patterns and certain modality"
      ],
      "metadata": {
        "id": "-kxhBsHIOYv4"
      }
    },
    {
      "cell_type": "code",
      "execution_count": null,
      "metadata": {
        "id": "WofwneHQODDB"
      },
      "outputs": [],
      "source": [
        "# from google.cloud import bigquery\n",
        "# bq_client = bigquery.Client(\"idc-sandbox-003\")\n",
        "# selection_query = f\"\"\"\n",
        "# WITH\n",
        "# # studies that have mr volumes\n",
        "# mr_studies AS(\n",
        "#   SELECT\n",
        "#     dicom_all_mr.SOPInstanceUID as SOPInstanceUID, \n",
        "#     dicom_all_mr.StudyInstanceUID as StudyInstanceUID,\n",
        "#     dicom_all_mr.SeriesInstanceUID as SeriesInstanceUID,\n",
        "#     '' AS segPropertyTypeCodeMeaning, \n",
        "#     '' AS segPropertyCategoryCodeMeaning,\n",
        "#     (SELECT SeriesInstanceUID FROM UNNEST(dicom_all_mr.ReferencedSeriesSequence)) AS RefSerieUID \n",
        "#   FROM\n",
        "#     `bigquery-public-data.idc_current.dicom_all` as dicom_all_mr\n",
        "#   WHERE\n",
        "#     Modality = 'MR'\n",
        "#     AND collection_id = 'qin_prostate_repeatability'\n",
        "#     AND  REGEXP_CONTAINS(SeriesDescription, r\".*T2 Weighted Axial.*\")),\n",
        "# -- ),\n",
        "\n",
        " \n",
        "# # studies that have segmentations for the whole prostate\n",
        "# seg_studies AS (\n",
        "# SELECT\n",
        "#   dicom_all_seg.SOPInstanceUID as SOPInstanceUID,\n",
        "#   dicom_all_seg.StudyInstanceUID as StudyInstanceUID,\n",
        "#   segmentations.SegmentedPropertyType.CodeMeaning as segPropertyTypeCodeMeaning,\n",
        "#   segmentations.SegmentedPropertyCategory.CodeMeaning as segPropertyCategoryCodeMeaning,\n",
        "#   (SELECT SeriesInstanceUID FROM UNNEST(dicom_all_seg.ReferencedSeriesSequence)) AS RefSerieUID\n",
        "\n",
        "# FROM\n",
        "#   `bigquery-public-data.idc_current.dicom_all` AS dicom_all_seg\n",
        "# JOIN\n",
        "#   `bigquery-public-data.idc_current.segmentations` AS segmentations\n",
        "# ON\n",
        "#   dicom_all_seg.SOPInstanceUID = segmentations.SOPInstanceUID\n",
        "# WHERE\n",
        "#   collection_id = \"qin_prostate_repeatability\"\n",
        "# AND \n",
        "#   REGEXP_CONTAINS(segmentations.SegmentedPropertyType.CodeMeaning, r\".*Peripheral zone.*\")\n",
        "# AND \n",
        "#   segmentations.SegmentedPropertyCategory.CodeMeaning = 'Anatomical Structure'),\n",
        "\n",
        "# union_mr_seg AS(\n",
        "#   SELECT\n",
        "#     seg_studies.SOPInstanceUID, \n",
        "#     seg_studies.segPropertyTypeCodeMeaning, \n",
        "#     seg_studies.segPropertyCategoryCodeMeaning, \n",
        "#   FROM \n",
        "#     seg_studies\n",
        "#   JOIN\n",
        "#     mr_studies\n",
        "#   ON\n",
        "#     seg_studies.RefSerieUID = mr_studies.SeriesInstanceUID\n",
        "#   UNION ALL\n",
        "#     SELECT\n",
        "#     mr_studies.SOPInstanceUID, \n",
        "#     mr_studies.segPropertyTypeCodeMeaning, \n",
        "#     mr_studies.segPropertyCategoryCodeMeaning, \n",
        "#   FROM \n",
        "#     mr_studies)\n",
        "\n",
        "# SELECT \n",
        "#   DISTINCT(dc_all.SOPInstanceUID),\n",
        "#   dc_all.gcs_url,\n",
        "#   dc_all.SeriesInstanceUID, \n",
        "#   dc_all.StudyInstanceUID,  \n",
        "#   dc_all.PatientID,\n",
        "#   dc_all.Modality, \n",
        "#   dc_all.SeriesDescription,\n",
        "#   union_mr_seg.segPropertyTypeCodeMeaning,\n",
        "#   union_mr_seg.segPropertyCategoryCodeMeaning,\n",
        "#   (SELECT SeriesInstanceUID FROM UNNEST(dc_all.ReferencedSeriesSequence)) AS RefSerieUID \n",
        "# FROM \n",
        "#   `bigquery-public-data.idc_v10.dicom_all` as dc_all\n",
        "# INNER JOIN\n",
        "#   union_mr_seg\n",
        "# ON \n",
        "#   dc_all.SOPInstanceUID = union_mr_seg.SOPInstanceUID\"\"\" \n",
        "\n",
        "# selection_result = bq_client.query(selection_query)\n",
        "# selection_df = selection_result.result().to_dataframe()\n"
      ]
    },
    {
      "cell_type": "code",
      "source": [
        "selection_df.head(5)"
      ],
      "metadata": {
        "colab": {
          "base_uri": "https://localhost:8080/"
        },
        "outputId": "757c15ee-4859-4f71-c086-5c0a05e84ed2",
        "id": "YWOz--muODDB"
      },
      "execution_count": null,
      "outputs": [
        {
          "output_type": "execute_result",
          "data": {
            "text/plain": [
              "                                      SOPInstanceUID  \\\n",
              "0  1.3.6.1.4.1.14519.5.2.1.3671.4754.912876150654...   \n",
              "1  1.3.6.1.4.1.14519.5.2.1.3671.4754.223090850152...   \n",
              "2  1.3.6.1.4.1.14519.5.2.1.3671.4754.304718505192...   \n",
              "3  1.3.6.1.4.1.14519.5.2.1.3671.4754.235221964656...   \n",
              "4  1.3.6.1.4.1.14519.5.2.1.3671.4754.256365810328...   \n",
              "\n",
              "                                             gcs_url  \\\n",
              "0  gs://public-datasets-idc/f667774a-05b8-4d1f-b4...   \n",
              "1  gs://public-datasets-idc/f4b5bf23-26d8-4270-87...   \n",
              "2  gs://public-datasets-idc/0823955c-0a10-405d-91...   \n",
              "3  gs://public-datasets-idc/36da713a-bc0c-4da6-98...   \n",
              "4  gs://public-datasets-idc/8ec541c3-7059-44db-81...   \n",
              "\n",
              "                                   SeriesInstanceUID  \\\n",
              "0  1.3.6.1.4.1.14519.5.2.1.3671.4754.105976129314...   \n",
              "1  1.3.6.1.4.1.14519.5.2.1.3671.4754.105976129314...   \n",
              "2  1.3.6.1.4.1.14519.5.2.1.3671.4754.105976129314...   \n",
              "3  1.3.6.1.4.1.14519.5.2.1.3671.4754.105976129314...   \n",
              "4  1.3.6.1.4.1.14519.5.2.1.3671.4754.105976129314...   \n",
              "\n",
              "                                    StudyInstanceUID       PatientID Modality  \\\n",
              "0  1.3.6.1.4.1.14519.5.2.1.3671.4754.318227959935...  PCAMPMRI-00010       MR   \n",
              "1  1.3.6.1.4.1.14519.5.2.1.3671.4754.318227959935...  PCAMPMRI-00010       MR   \n",
              "2  1.3.6.1.4.1.14519.5.2.1.3671.4754.318227959935...  PCAMPMRI-00010       MR   \n",
              "3  1.3.6.1.4.1.14519.5.2.1.3671.4754.318227959935...  PCAMPMRI-00010       MR   \n",
              "4  1.3.6.1.4.1.14519.5.2.1.3671.4754.318227959935...  PCAMPMRI-00010       MR   \n",
              "\n",
              "   SeriesDescription segPropertyTypeCodeMeaning  \\\n",
              "0  T2 Weighted Axial                              \n",
              "1  T2 Weighted Axial                              \n",
              "2  T2 Weighted Axial                              \n",
              "3  T2 Weighted Axial                              \n",
              "4  T2 Weighted Axial                              \n",
              "\n",
              "  segPropertyCategoryCodeMeaning RefSerieUID  \n",
              "0                                       None  \n",
              "1                                       None  \n",
              "2                                       None  \n",
              "3                                       None  \n",
              "4                                       None  "
            ],
            "text/html": [
              "\n",
              "  <div id=\"df-042195c7-d6fc-43da-8777-191ef1f35c2d\">\n",
              "    <div class=\"colab-df-container\">\n",
              "      <div>\n",
              "<style scoped>\n",
              "    .dataframe tbody tr th:only-of-type {\n",
              "        vertical-align: middle;\n",
              "    }\n",
              "\n",
              "    .dataframe tbody tr th {\n",
              "        vertical-align: top;\n",
              "    }\n",
              "\n",
              "    .dataframe thead th {\n",
              "        text-align: right;\n",
              "    }\n",
              "</style>\n",
              "<table border=\"1\" class=\"dataframe\">\n",
              "  <thead>\n",
              "    <tr style=\"text-align: right;\">\n",
              "      <th></th>\n",
              "      <th>SOPInstanceUID</th>\n",
              "      <th>gcs_url</th>\n",
              "      <th>SeriesInstanceUID</th>\n",
              "      <th>StudyInstanceUID</th>\n",
              "      <th>PatientID</th>\n",
              "      <th>Modality</th>\n",
              "      <th>SeriesDescription</th>\n",
              "      <th>segPropertyTypeCodeMeaning</th>\n",
              "      <th>segPropertyCategoryCodeMeaning</th>\n",
              "      <th>RefSerieUID</th>\n",
              "    </tr>\n",
              "  </thead>\n",
              "  <tbody>\n",
              "    <tr>\n",
              "      <th>0</th>\n",
              "      <td>1.3.6.1.4.1.14519.5.2.1.3671.4754.912876150654...</td>\n",
              "      <td>gs://public-datasets-idc/f667774a-05b8-4d1f-b4...</td>\n",
              "      <td>1.3.6.1.4.1.14519.5.2.1.3671.4754.105976129314...</td>\n",
              "      <td>1.3.6.1.4.1.14519.5.2.1.3671.4754.318227959935...</td>\n",
              "      <td>PCAMPMRI-00010</td>\n",
              "      <td>MR</td>\n",
              "      <td>T2 Weighted Axial</td>\n",
              "      <td></td>\n",
              "      <td></td>\n",
              "      <td>None</td>\n",
              "    </tr>\n",
              "    <tr>\n",
              "      <th>1</th>\n",
              "      <td>1.3.6.1.4.1.14519.5.2.1.3671.4754.223090850152...</td>\n",
              "      <td>gs://public-datasets-idc/f4b5bf23-26d8-4270-87...</td>\n",
              "      <td>1.3.6.1.4.1.14519.5.2.1.3671.4754.105976129314...</td>\n",
              "      <td>1.3.6.1.4.1.14519.5.2.1.3671.4754.318227959935...</td>\n",
              "      <td>PCAMPMRI-00010</td>\n",
              "      <td>MR</td>\n",
              "      <td>T2 Weighted Axial</td>\n",
              "      <td></td>\n",
              "      <td></td>\n",
              "      <td>None</td>\n",
              "    </tr>\n",
              "    <tr>\n",
              "      <th>2</th>\n",
              "      <td>1.3.6.1.4.1.14519.5.2.1.3671.4754.304718505192...</td>\n",
              "      <td>gs://public-datasets-idc/0823955c-0a10-405d-91...</td>\n",
              "      <td>1.3.6.1.4.1.14519.5.2.1.3671.4754.105976129314...</td>\n",
              "      <td>1.3.6.1.4.1.14519.5.2.1.3671.4754.318227959935...</td>\n",
              "      <td>PCAMPMRI-00010</td>\n",
              "      <td>MR</td>\n",
              "      <td>T2 Weighted Axial</td>\n",
              "      <td></td>\n",
              "      <td></td>\n",
              "      <td>None</td>\n",
              "    </tr>\n",
              "    <tr>\n",
              "      <th>3</th>\n",
              "      <td>1.3.6.1.4.1.14519.5.2.1.3671.4754.235221964656...</td>\n",
              "      <td>gs://public-datasets-idc/36da713a-bc0c-4da6-98...</td>\n",
              "      <td>1.3.6.1.4.1.14519.5.2.1.3671.4754.105976129314...</td>\n",
              "      <td>1.3.6.1.4.1.14519.5.2.1.3671.4754.318227959935...</td>\n",
              "      <td>PCAMPMRI-00010</td>\n",
              "      <td>MR</td>\n",
              "      <td>T2 Weighted Axial</td>\n",
              "      <td></td>\n",
              "      <td></td>\n",
              "      <td>None</td>\n",
              "    </tr>\n",
              "    <tr>\n",
              "      <th>4</th>\n",
              "      <td>1.3.6.1.4.1.14519.5.2.1.3671.4754.256365810328...</td>\n",
              "      <td>gs://public-datasets-idc/8ec541c3-7059-44db-81...</td>\n",
              "      <td>1.3.6.1.4.1.14519.5.2.1.3671.4754.105976129314...</td>\n",
              "      <td>1.3.6.1.4.1.14519.5.2.1.3671.4754.318227959935...</td>\n",
              "      <td>PCAMPMRI-00010</td>\n",
              "      <td>MR</td>\n",
              "      <td>T2 Weighted Axial</td>\n",
              "      <td></td>\n",
              "      <td></td>\n",
              "      <td>None</td>\n",
              "    </tr>\n",
              "  </tbody>\n",
              "</table>\n",
              "</div>\n",
              "      <button class=\"colab-df-convert\" onclick=\"convertToInteractive('df-042195c7-d6fc-43da-8777-191ef1f35c2d')\"\n",
              "              title=\"Convert this dataframe to an interactive table.\"\n",
              "              style=\"display:none;\">\n",
              "        \n",
              "  <svg xmlns=\"http://www.w3.org/2000/svg\" height=\"24px\"viewBox=\"0 0 24 24\"\n",
              "       width=\"24px\">\n",
              "    <path d=\"M0 0h24v24H0V0z\" fill=\"none\"/>\n",
              "    <path d=\"M18.56 5.44l.94 2.06.94-2.06 2.06-.94-2.06-.94-.94-2.06-.94 2.06-2.06.94zm-11 1L8.5 8.5l.94-2.06 2.06-.94-2.06-.94L8.5 2.5l-.94 2.06-2.06.94zm10 10l.94 2.06.94-2.06 2.06-.94-2.06-.94-.94-2.06-.94 2.06-2.06.94z\"/><path d=\"M17.41 7.96l-1.37-1.37c-.4-.4-.92-.59-1.43-.59-.52 0-1.04.2-1.43.59L10.3 9.45l-7.72 7.72c-.78.78-.78 2.05 0 2.83L4 21.41c.39.39.9.59 1.41.59.51 0 1.02-.2 1.41-.59l7.78-7.78 2.81-2.81c.8-.78.8-2.07 0-2.86zM5.41 20L4 18.59l7.72-7.72 1.47 1.35L5.41 20z\"/>\n",
              "  </svg>\n",
              "      </button>\n",
              "      \n",
              "  <style>\n",
              "    .colab-df-container {\n",
              "      display:flex;\n",
              "      flex-wrap:wrap;\n",
              "      gap: 12px;\n",
              "    }\n",
              "\n",
              "    .colab-df-convert {\n",
              "      background-color: #E8F0FE;\n",
              "      border: none;\n",
              "      border-radius: 50%;\n",
              "      cursor: pointer;\n",
              "      display: none;\n",
              "      fill: #1967D2;\n",
              "      height: 32px;\n",
              "      padding: 0 0 0 0;\n",
              "      width: 32px;\n",
              "    }\n",
              "\n",
              "    .colab-df-convert:hover {\n",
              "      background-color: #E2EBFA;\n",
              "      box-shadow: 0px 1px 2px rgba(60, 64, 67, 0.3), 0px 1px 3px 1px rgba(60, 64, 67, 0.15);\n",
              "      fill: #174EA6;\n",
              "    }\n",
              "\n",
              "    [theme=dark] .colab-df-convert {\n",
              "      background-color: #3B4455;\n",
              "      fill: #D2E3FC;\n",
              "    }\n",
              "\n",
              "    [theme=dark] .colab-df-convert:hover {\n",
              "      background-color: #434B5C;\n",
              "      box-shadow: 0px 1px 3px 1px rgba(0, 0, 0, 0.15);\n",
              "      filter: drop-shadow(0px 1px 2px rgba(0, 0, 0, 0.3));\n",
              "      fill: #FFFFFF;\n",
              "    }\n",
              "  </style>\n",
              "\n",
              "      <script>\n",
              "        const buttonEl =\n",
              "          document.querySelector('#df-042195c7-d6fc-43da-8777-191ef1f35c2d button.colab-df-convert');\n",
              "        buttonEl.style.display =\n",
              "          google.colab.kernel.accessAllowed ? 'block' : 'none';\n",
              "\n",
              "        async function convertToInteractive(key) {\n",
              "          const element = document.querySelector('#df-042195c7-d6fc-43da-8777-191ef1f35c2d');\n",
              "          const dataTable =\n",
              "            await google.colab.kernel.invokeFunction('convertToInteractive',\n",
              "                                                     [key], {});\n",
              "          if (!dataTable) return;\n",
              "\n",
              "          const docLinkHtml = 'Like what you see? Visit the ' +\n",
              "            '<a target=\"_blank\" href=https://colab.research.google.com/notebooks/data_table.ipynb>data table notebook</a>'\n",
              "            + ' to learn more about interactive tables.';\n",
              "          element.innerHTML = '';\n",
              "          dataTable['output_type'] = 'display_data';\n",
              "          await google.colab.output.renderOutput(dataTable, element);\n",
              "          const docLink = document.createElement('div');\n",
              "          docLink.innerHTML = docLinkHtml;\n",
              "          element.appendChild(docLink);\n",
              "        }\n",
              "      </script>\n",
              "    </div>\n",
              "  </div>\n",
              "  "
            ]
          },
          "metadata": {},
          "execution_count": 13
        }
      ]
    },
    {
      "cell_type": "code",
      "source": [
        "selection_df.info()"
      ],
      "metadata": {
        "colab": {
          "base_uri": "https://localhost:8080/"
        },
        "id": "bEgJdM7yd70C",
        "outputId": "7a783d0e-b8fd-43d3-d2d6-a7721ceab44a"
      },
      "execution_count": null,
      "outputs": [
        {
          "output_type": "stream",
          "name": "stdout",
          "text": [
            "<class 'pandas.core.frame.DataFrame'>\n",
            "RangeIndex: 31 entries, 0 to 30\n",
            "Data columns (total 10 columns):\n",
            " #   Column                          Non-Null Count  Dtype \n",
            "---  ------                          --------------  ----- \n",
            " 0   SOPInstanceUID                  31 non-null     object\n",
            " 1   gcs_url                         31 non-null     object\n",
            " 2   SeriesInstanceUID               31 non-null     object\n",
            " 3   StudyInstanceUID                31 non-null     object\n",
            " 4   PatientID                       31 non-null     object\n",
            " 5   Modality                        31 non-null     object\n",
            " 6   SeriesDescription               31 non-null     object\n",
            " 7   segPropertyTypeCodeMeaning      31 non-null     object\n",
            " 8   segPropertyCategoryCodeMeaning  31 non-null     object\n",
            " 9   RefSerieUID                     1 non-null      object\n",
            "dtypes: object(10)\n",
            "memory usage: 2.5+ KB\n"
          ]
        }
      ]
    },
    {
      "cell_type": "code",
      "source": [
        "print(f\"Number of Studies selected :{len(selection_df.StudyInstanceUID.unique())}\")\n",
        "print(f\"Number of Series selected : {len(selection_df.SeriesInstanceUID.unique())}\")\n",
        "print(f\"Unique modalities selected : {selection_df.Modality.unique()}\")\n",
        "print(f\"Unique SeriesDescription selected : {selection_df.SeriesDescription.unique()}\")"
      ],
      "metadata": {
        "colab": {
          "base_uri": "https://localhost:8080/"
        },
        "outputId": "2fff3255-b6c5-44b5-e6a2-625482726412",
        "id": "grkt5weuODDB"
      },
      "execution_count": null,
      "outputs": [
        {
          "output_type": "stream",
          "name": "stdout",
          "text": [
            "Number of Studies selected :1\n",
            "Number of Series selected : 2\n",
            "Unique modalities selected : ['MR' 'SEG']\n",
            "Unique SeriesDescription selected : ['T2 Weighted Axial' 'T2 Weighted Axial Segmentations']\n"
          ]
        }
      ]
    },
    {
      "cell_type": "code",
      "execution_count": null,
      "metadata": {
        "colab": {
          "base_uri": "https://localhost:8080/"
        },
        "outputId": "97920f9a-f50e-4498-dad5-cdd6e2ba35e7",
        "id": "0p4QzougODDD"
      },
      "outputs": [
        {
          "output_type": "execute_result",
          "data": {
            "text/plain": [
              "array(['PCAMPMRI-00010'], dtype=object)"
            ]
          },
          "metadata": {},
          "execution_count": 16
        }
      ],
      "source": [
        "selection_df.PatientID.unique()"
      ]
    },
    {
      "cell_type": "markdown",
      "metadata": {
        "id": "2vS4zwcaODDD"
      },
      "source": [
        "### Download IDC Data from gcs urls"
      ]
    },
    {
      "cell_type": "markdown",
      "source": [
        "Create output folder for downloads"
      ],
      "metadata": {
        "id": "xcLMaGUzeAp8"
      }
    },
    {
      "cell_type": "code",
      "source": [
        "!mkdir -p IDC_Downloads"
      ],
      "metadata": {
        "id": "7X6vZLkLODDD"
      },
      "execution_count": null,
      "outputs": []
    },
    {
      "cell_type": "markdown",
      "source": [
        "Creation of manifest and saving of the list of GCS URLs into a file\n"
      ],
      "metadata": {
        "id": "ao10QMRMeE70"
      }
    },
    {
      "cell_type": "code",
      "execution_count": null,
      "metadata": {
        "id": "osSJqMmsODDD"
      },
      "outputs": [],
      "source": [
        "selection_manifest = os.path.join(\"IDC_Downloads\", \"idc_manifest.txt\")\n",
        "selection_df[\"gcs_url\"].to_csv(selection_manifest, header=False, index=False)"
      ]
    },
    {
      "cell_type": "code",
      "execution_count": null,
      "metadata": {
        "colab": {
          "base_uri": "https://localhost:8080/"
        },
        "outputId": "7646b456-9d21-41de-a593-d4d0caaaf3fa",
        "id": "VWYEcCLcODDD"
      },
      "outputs": [
        {
          "output_type": "stream",
          "name": "stdout",
          "text": [
            "     31      31    2046\n"
          ]
        }
      ],
      "source": [
        "# confirm the resulting manifest has as many lines as the number of rows in the\n",
        "# dataframe we initialized earlier\n",
        "!cat {selection_manifest} |wc"
      ]
    },
    {
      "cell_type": "markdown",
      "source": [
        "let's make sure the download folder is clean, in case you ran this cell earlier for a different dataset"
      ],
      "metadata": {
        "id": "iru620l7eOjv"
      }
    },
    {
      "cell_type": "code",
      "execution_count": null,
      "metadata": {
        "id": "k7H9pSkVODDD"
      },
      "outputs": [],
      "source": [
        "!rm -rf {os.environ[\"IDC_Downloads\"]+\"/*.dcm\"}"
      ]
    },
    {
      "cell_type": "code",
      "execution_count": null,
      "metadata": {
        "id": "M8Ww_hvFODDD"
      },
      "outputs": [],
      "source": [
        "# download is this simple!\n",
        "\n",
        "!cat {selection_manifest} | gsutil -m cp -I IDC_Downloads"
      ]
    },
    {
      "cell_type": "markdown",
      "metadata": {
        "id": "5pLGWGo6ODDE"
      },
      "source": [
        "To facilitate preparation of the data, we will sort the downloaded files into the PatientID/StudyInstanceUID/SeriesInstanceUID hierarchy."
      ]
    },
    {
      "cell_type": "code",
      "source": [
        "!mkdir -p IDC_Downloads_Sorted"
      ],
      "metadata": {
        "id": "ox6HW2WyODDE"
      },
      "execution_count": null,
      "outputs": []
    },
    {
      "cell_type": "code",
      "execution_count": null,
      "metadata": {
        "colab": {
          "base_uri": "https://localhost:8080/"
        },
        "outputId": "4cd31f70-b8ac-4f1f-92d9-ea12dc6f94cf",
        "id": "YDEIIBmrODDE"
      },
      "outputs": [
        {
          "output_type": "stream",
          "name": "stdout",
          "text": [
            "\r  0% 0/32 [00:00<?, ?it/s]\r 25% 8/32 [00:00<00:00, 65.34it/s]\r100% 32/32 [00:00<00:00, 181.79it/s]\n",
            "Files sorted\n"
          ]
        }
      ],
      "source": [
        "!python dicomsort/dicomsort.py -k -u IDC_Downloads IDC_Downloads_Sorted/%PatientID/%StudyInstanceUID/%SeriesInstanceUID/%SOPInstanceUID.dcm"
      ]
    },
    {
      "cell_type": "markdown",
      "metadata": {
        "id": "elAyQEA-ODDE"
      },
      "source": [
        "Move the sorted data into the right place"
      ]
    },
    {
      "cell_type": "code",
      "source": [
        "#final sorted IDC DCM data output folder\n",
        "!mkdir -p dcm_data"
      ],
      "metadata": {
        "id": "otDj4m_YODDE"
      },
      "execution_count": null,
      "outputs": []
    },
    {
      "cell_type": "code",
      "execution_count": null,
      "metadata": {
        "id": "MxN4m9OxODDE"
      },
      "outputs": [],
      "source": [
        "!rm -rf dcm_data/* && mv IDC_Downloads_Sorted/* dcm_data/"
      ]
    },
    {
      "cell_type": "markdown",
      "source": [
        "Conversion of IDC DCM data to NIFTI format"
      ],
      "metadata": {
        "id": "OauXaqUreZj4"
      }
    },
    {
      "cell_type": "code",
      "source": [
        "!rm -rf nifti_idc\n",
        "!mkdir -p nifti_idc"
      ],
      "metadata": {
        "id": "mC84nnndODDE"
      },
      "execution_count": null,
      "outputs": []
    },
    {
      "cell_type": "code",
      "source": [
        "for study in sorted(glob.glob(os.path.join(\"dcm_data\", \"*\", \"*\"))): #studies in IDC DCM data folder : patID/study/serie/...\n",
        "  !mkdir -p nifti_idc/{study.split('/')[-1]}#creation of output folder\n",
        "  series_lst = sorted(glob.glob(os.path.join(study, \"*\")))#series list in study folder\n",
        "  for serie in series_lst:#iterate list of series for each study\n",
        "    if pydicom.dcmread(glob.glob(os.path.join(serie,\"*\"))[0]).Modality == \"SEG\": #seg dcm file based on modality tag / \n",
        "      print(f\"seg dcm {serie}\")\n",
        "      #conversion to nifti using platimatch\n",
        "      path_file_dcm_seg = glob.glob(serie+\"/*.dcm\")[0]#absolute path of dcm seg file\n",
        "      !mkdir -p nifti_idc/{study.split('/')[-1]} #creation of output path\n",
        "      !segimage2itkimage --inputDICOM $path_file_dcm_seg --outputDirectory nifti_idc/{study.split('/')[-1]} --outputType nii #conversion to nifti using plastimatch wrapper tool\n",
        "    elif pydicom.dcmread(glob.glob(os.path.join(serie,\"*\"))[0]).Modality == \"MR\": #T2 volume\n",
        "      print(\"image serie\")\n",
        "      print(serie)\n",
        "      !mkdir -p nifti_idc/{study.split('/')[-1]} #absolute path of dcm CT file\n",
        "      !dcm2niix -z y -m y -o  nifti_idc/{study.split('/')[-1]}/ $serie #conversion of T2 volume to nifti using dcm2niix tool\n",
        "    print()"
      ],
      "metadata": {
        "colab": {
          "base_uri": "https://localhost:8080/"
        },
        "outputId": "239bb336-75f0-4144-ec42-77f547996bd6",
        "id": "pxDkLC3VODDE"
      },
      "execution_count": null,
      "outputs": [
        {
          "output_type": "stream",
          "name": "stdout",
          "text": [
            "seg dcm dcm_data/PCAMPMRI-00010/1.3.6.1.4.1.14519.5.2.1.3671.4754.318227959935022390930294557376/1.2.276.0.7230010.3.1.3.1426846371.7872.1513205171.131\n",
            "dcmqi repository URL: git@github.com:QIICR/dcmqi.git revision: 1153738 tag: v1.2.5\n",
            "W: CodeValue (0008,0100) empty in CodeSequenceMacro (type 1C)\n",
            "Row direction: 0.999066 0.0430724 -0.00344915\n",
            "Col direction: -0.0427834 0.997223 0.0609655\n",
            "Z direction: 0.0060655 -0.060761 0.998134\n",
            "Total frames: 120\n",
            "Total frames with unique IPP: 30\n",
            "Total overlapping frames: 30\n",
            "Origin: [-86.4606, -39.8495, -148.412]\n",
            "\n",
            "image serie\n",
            "dcm_data/PCAMPMRI-00010/1.3.6.1.4.1.14519.5.2.1.3671.4754.318227959935022390930294557376/1.3.6.1.4.1.14519.5.2.1.3671.4754.105976129314091491952445656147\n",
            "Chris Rorden's dcm2niiX version v1.0.20220505  GCC9.4.0 x86-64 (64-bit Linux)\n",
            "Found 30 DICOM file(s)\n",
            "Convert 30 DICOM as nifti_idc/1.3.6.1.4.1.14519.5.2.1.3671.4754.318227959935022390930294557376/1.3.6.1.4.1.14519.5.2.1.3671.4754.105976129314091491952445656147_Prostate_With_e-coil_C-_19950709150441_6 (512x512x30x1)\n",
            "Conversion required 1.145453 seconds (1.139435 for core code).\n",
            "\n"
          ]
        }
      ]
    },
    {
      "cell_type": "markdown",
      "source": [
        "### Preprocessing : Take whole prostate segment -- change labelID to 1 and resample to reference T2 image"
      ],
      "metadata": {
        "id": "6bz-zWReODDE"
      }
    },
    {
      "cell_type": "markdown",
      "source": [
        "Creation of output folders"
      ],
      "metadata": {
        "id": "2XmTxlz4fS-n"
      }
    },
    {
      "cell_type": "code",
      "source": [
        "!rm -rf test_data_idc\n",
        "!mkdir test_data_idc"
      ],
      "metadata": {
        "id": "NUmR1A8tODDF"
      },
      "execution_count": null,
      "outputs": []
    },
    {
      "cell_type": "markdown",
      "source": [
        "Init of output dataframe for monai bundle inference"
      ],
      "metadata": {
        "id": "vzHT9kj9f2yX"
      }
    },
    {
      "cell_type": "code",
      "source": [
        "test_df = pd.DataFrame(columns=[\"t2\", \"t2_label\"])"
      ],
      "metadata": {
        "id": "16l2hQSxODDF"
      },
      "execution_count": null,
      "outputs": []
    },
    {
      "cell_type": "markdown",
      "source": [
        "Preprocessing happens below\n",
        "\n",
        "\n",
        "\n",
        "1.   Get peripheral zone ground-truth IDC segment from nifti idc data -- individuals nifti segments with metadata.json, cf. dcmqi \n",
        "2.   Resample of segmentation nifti files to reference T2 volume\n",
        "3.   ensure labelID = 1 for nifti ground-truth segments of peripheral zone  \n",
        "\n"
      ],
      "metadata": {
        "id": "9wDjIu0af8U5"
      }
    },
    {
      "cell_type": "code",
      "source": [
        "for json_meta in sorted(glob.glob(os.path.join(\"/content/nifti_idc\", \"*\", \"*meta.json\"))):\n",
        "  print(json_meta)# dcmqi metadata.json\n",
        "  codeMeaningProstate = \"Prostate\"\n",
        "  codeMeaningPZ = \"Peripheral zone of the prostate\"\n",
        "  labelIDPz = getLabelID_from_json(json_meta, codeMeaning=codeMeaningPZ)#labelID corresponding to peripheral zone, could be 1.nii.gz or 2.nii.gz,..\n",
        "  studyUID = json_meta.split('/')[-2]#retrieve studyUID from absolute path\n",
        "  nii_pz = glob.glob(f\"{'/'.join(json_meta.split('/')[:-1])}/{labelIDPz}.nii.gz\")[0]#absolute path of PZ IDC GT segment\n",
        "  nii_lst = glob.glob(os.path.join('/'.join(json_meta.split('/')[:-1]), \"*.nii.gz\"))#absolute path of nii files corresping to study\n",
        "  t2_image = [nii_file for nii_file in nii_lst if len(nii_file.split('/')[-1]) > 20][0]#quick hack to retrieve t2 image, better solution use metadata stored in dfs\n",
        "  print(t2_image)\n",
        "  print()\n",
        "  #same for pz\n",
        "  out_pz_nii = f\"{t2_image.split('/')[-1][:-7]}_pz.nii.gz\"#name of pz nifti file\n",
        "  out_pz_nii_path = os.path.join(\"test_data_idc\", out_pz_nii)#absolute path\n",
        "  resample_args = {\"input\" : nii_pz,\n",
        "                   \"output\" : out_pz_nii_path,\n",
        "                   \"fixed\" : t2_image,\n",
        "                   \"interpolation\" : \"nn\"}\n",
        "  #resample to t2 mod based on study -- not uniform across studies\n",
        "  pypla.resample(verbose = True, **resample_args)#resampling of pz idc segment to T2 ref volume\n",
        "  out_t2_image_path = os.path.join('test_data_idc', t2_image.split('/')[-1])\n",
        "  !cp $t2_image $out_t2_image_path #copy CT volume to test_data for monai bundle inference\n",
        "  test_df = test_df.append({\"t2\" : out_t2_image_path.split('/')[-1], \n",
        "                            \"t2_label\" : out_pz_nii}, ignore_index=True)#append t2, t2_label to dataframe used further for monai bundle inference\n",
        "  change_labelID(1, out_pz_nii_path, '/'.join(out_pz_nii_path.split('/')[:-1]))#change labelID to 1"
      ],
      "metadata": {
        "colab": {
          "base_uri": "https://localhost:8080/"
        },
        "outputId": "77d8fcac-a0f6-4f9f-d720-5dc36db2b9a0",
        "id": "JVMOrlPBODDH"
      },
      "execution_count": null,
      "outputs": [
        {
          "output_type": "stream",
          "name": "stdout",
          "text": [
            "/content/nifti_idc/1.3.6.1.4.1.14519.5.2.1.3671.4754.318227959935022390930294557376/meta.json\n",
            "/content/nifti_idc/1.3.6.1.4.1.14519.5.2.1.3671.4754.318227959935022390930294557376/1.3.6.1.4.1.14519.5.2.1.3671.4754.105976129314091491952445656147_Prostate_With_e-coil_C-_19950709150441_6.nii.gz\n",
            "\n",
            "\n",
            "Running 'plastimatch resample' with the specified arguments:\n",
            "  --input /content/nifti_idc/1.3.6.1.4.1.14519.5.2.1.3671.4754.318227959935022390930294557376/2.nii.gz\n",
            "  --output test_data_idc/1.3.6.1.4.1.14519.5.2.1.3671.4754.105976129314091491952445656147_Prostate_With_e-coil_C-_19950709150441_6_pz.nii.gz\n",
            "  --fixed /content/nifti_idc/1.3.6.1.4.1.14519.5.2.1.3671.4754.318227959935022390930294557376/1.3.6.1.4.1.14519.5.2.1.3671.4754.105976129314091491952445656147_Prostate_With_e-coil_C-_19950709150441_6.nii.gz\n",
            "  --interpolation nn\n",
            "... Done.\n"
          ]
        },
        {
          "output_type": "stream",
          "name": "stderr",
          "text": [
            "<ipython-input-30-fe7569fcc23f>:23: FutureWarning: The frame.append method is deprecated and will be removed from pandas in a future version. Use pandas.concat instead.\n",
            "  test_df = test_df.append({\"t2\" : out_t2_image_path.split('/')[-1],\n"
          ]
        }
      ]
    },
    {
      "cell_type": "code",
      "source": [
        "test_df.info()"
      ],
      "metadata": {
        "colab": {
          "base_uri": "https://localhost:8080/"
        },
        "outputId": "d4328b1d-8c50-4d0d-ad37-e90d0f9083db",
        "id": "5L5jTzB0ODDI"
      },
      "execution_count": null,
      "outputs": [
        {
          "output_type": "stream",
          "name": "stdout",
          "text": [
            "<class 'pandas.core.frame.DataFrame'>\n",
            "RangeIndex: 1 entries, 0 to 0\n",
            "Data columns (total 2 columns):\n",
            " #   Column    Non-Null Count  Dtype \n",
            "---  ------    --------------  ----- \n",
            " 0   t2        1 non-null      object\n",
            " 1   t2_label  1 non-null      object\n",
            "dtypes: object(2)\n",
            "memory usage: 144.0+ bytes\n"
          ]
        }
      ]
    },
    {
      "cell_type": "code",
      "source": [
        "test_df.head()"
      ],
      "metadata": {
        "colab": {
          "base_uri": "https://localhost:8080/"
        },
        "outputId": "314c1de2-0b81-4ad8-b3bc-0cf0ec8484dd",
        "id": "KKZ1eofPODDI"
      },
      "execution_count": null,
      "outputs": [
        {
          "output_type": "execute_result",
          "data": {
            "text/plain": [
              "                                                  t2  \\\n",
              "0  1.3.6.1.4.1.14519.5.2.1.3671.4754.105976129314...   \n",
              "\n",
              "                                            t2_label  \n",
              "0  1.3.6.1.4.1.14519.5.2.1.3671.4754.105976129314...  "
            ],
            "text/html": [
              "\n",
              "  <div id=\"df-a0ddd310-c391-497c-93c9-1e93af3e0424\">\n",
              "    <div class=\"colab-df-container\">\n",
              "      <div>\n",
              "<style scoped>\n",
              "    .dataframe tbody tr th:only-of-type {\n",
              "        vertical-align: middle;\n",
              "    }\n",
              "\n",
              "    .dataframe tbody tr th {\n",
              "        vertical-align: top;\n",
              "    }\n",
              "\n",
              "    .dataframe thead th {\n",
              "        text-align: right;\n",
              "    }\n",
              "</style>\n",
              "<table border=\"1\" class=\"dataframe\">\n",
              "  <thead>\n",
              "    <tr style=\"text-align: right;\">\n",
              "      <th></th>\n",
              "      <th>t2</th>\n",
              "      <th>t2_label</th>\n",
              "    </tr>\n",
              "  </thead>\n",
              "  <tbody>\n",
              "    <tr>\n",
              "      <th>0</th>\n",
              "      <td>1.3.6.1.4.1.14519.5.2.1.3671.4754.105976129314...</td>\n",
              "      <td>1.3.6.1.4.1.14519.5.2.1.3671.4754.105976129314...</td>\n",
              "    </tr>\n",
              "  </tbody>\n",
              "</table>\n",
              "</div>\n",
              "      <button class=\"colab-df-convert\" onclick=\"convertToInteractive('df-a0ddd310-c391-497c-93c9-1e93af3e0424')\"\n",
              "              title=\"Convert this dataframe to an interactive table.\"\n",
              "              style=\"display:none;\">\n",
              "        \n",
              "  <svg xmlns=\"http://www.w3.org/2000/svg\" height=\"24px\"viewBox=\"0 0 24 24\"\n",
              "       width=\"24px\">\n",
              "    <path d=\"M0 0h24v24H0V0z\" fill=\"none\"/>\n",
              "    <path d=\"M18.56 5.44l.94 2.06.94-2.06 2.06-.94-2.06-.94-.94-2.06-.94 2.06-2.06.94zm-11 1L8.5 8.5l.94-2.06 2.06-.94-2.06-.94L8.5 2.5l-.94 2.06-2.06.94zm10 10l.94 2.06.94-2.06 2.06-.94-2.06-.94-.94-2.06-.94 2.06-2.06.94z\"/><path d=\"M17.41 7.96l-1.37-1.37c-.4-.4-.92-.59-1.43-.59-.52 0-1.04.2-1.43.59L10.3 9.45l-7.72 7.72c-.78.78-.78 2.05 0 2.83L4 21.41c.39.39.9.59 1.41.59.51 0 1.02-.2 1.41-.59l7.78-7.78 2.81-2.81c.8-.78.8-2.07 0-2.86zM5.41 20L4 18.59l7.72-7.72 1.47 1.35L5.41 20z\"/>\n",
              "  </svg>\n",
              "      </button>\n",
              "      \n",
              "  <style>\n",
              "    .colab-df-container {\n",
              "      display:flex;\n",
              "      flex-wrap:wrap;\n",
              "      gap: 12px;\n",
              "    }\n",
              "\n",
              "    .colab-df-convert {\n",
              "      background-color: #E8F0FE;\n",
              "      border: none;\n",
              "      border-radius: 50%;\n",
              "      cursor: pointer;\n",
              "      display: none;\n",
              "      fill: #1967D2;\n",
              "      height: 32px;\n",
              "      padding: 0 0 0 0;\n",
              "      width: 32px;\n",
              "    }\n",
              "\n",
              "    .colab-df-convert:hover {\n",
              "      background-color: #E2EBFA;\n",
              "      box-shadow: 0px 1px 2px rgba(60, 64, 67, 0.3), 0px 1px 3px 1px rgba(60, 64, 67, 0.15);\n",
              "      fill: #174EA6;\n",
              "    }\n",
              "\n",
              "    [theme=dark] .colab-df-convert {\n",
              "      background-color: #3B4455;\n",
              "      fill: #D2E3FC;\n",
              "    }\n",
              "\n",
              "    [theme=dark] .colab-df-convert:hover {\n",
              "      background-color: #434B5C;\n",
              "      box-shadow: 0px 1px 3px 1px rgba(0, 0, 0, 0.15);\n",
              "      filter: drop-shadow(0px 1px 2px rgba(0, 0, 0, 0.3));\n",
              "      fill: #FFFFFF;\n",
              "    }\n",
              "  </style>\n",
              "\n",
              "      <script>\n",
              "        const buttonEl =\n",
              "          document.querySelector('#df-a0ddd310-c391-497c-93c9-1e93af3e0424 button.colab-df-convert');\n",
              "        buttonEl.style.display =\n",
              "          google.colab.kernel.accessAllowed ? 'block' : 'none';\n",
              "\n",
              "        async function convertToInteractive(key) {\n",
              "          const element = document.querySelector('#df-a0ddd310-c391-497c-93c9-1e93af3e0424');\n",
              "          const dataTable =\n",
              "            await google.colab.kernel.invokeFunction('convertToInteractive',\n",
              "                                                     [key], {});\n",
              "          if (!dataTable) return;\n",
              "\n",
              "          const docLinkHtml = 'Like what you see? Visit the ' +\n",
              "            '<a target=\"_blank\" href=https://colab.research.google.com/notebooks/data_table.ipynb>data table notebook</a>'\n",
              "            + ' to learn more about interactive tables.';\n",
              "          element.innerHTML = '';\n",
              "          dataTable['output_type'] = 'display_data';\n",
              "          await google.colab.output.renderOutput(dataTable, element);\n",
              "          const docLink = document.createElement('div');\n",
              "          docLink.innerHTML = docLinkHtml;\n",
              "          element.appendChild(docLink);\n",
              "        }\n",
              "      </script>\n",
              "    </div>\n",
              "  </div>\n",
              "  "
            ]
          },
          "metadata": {},
          "execution_count": 32
        }
      ]
    },
    {
      "cell_type": "markdown",
      "source": [
        "### Upload to google buckets -- monai prepared data\n",
        "\n",
        "Used for preparation of IDC data -- not useful for inference "
      ],
      "metadata": {
        "id": "RYjxtpaDODDI"
      }
    },
    {
      "cell_type": "markdown",
      "source": [
        "upload idc dcm data to bucket"
      ],
      "metadata": {
        "id": "IttbPE2ZfdCQ"
      }
    },
    {
      "cell_type": "code",
      "source": [
        "# !gsutil cp -r /content/test_data_idc gs://prostate-seg-monai/"
      ],
      "metadata": {
        "id": "cMVljD53ODDI"
      },
      "execution_count": null,
      "outputs": []
    },
    {
      "cell_type": "markdown",
      "source": [
        "upload monai metadata for t2 and t2 label paths"
      ],
      "metadata": {
        "id": "Zuei6ppmff6p"
      }
    },
    {
      "cell_type": "code",
      "source": [
        "# test_df.to_csv(\"test.csv\")\n",
        "# !gsutil cp  /content/test.csv gs://prostate-seg-monai/"
      ],
      "metadata": {
        "id": "Wp8_TEmqODDI"
      },
      "execution_count": null,
      "outputs": []
    },
    {
      "cell_type": "markdown",
      "source": [
        "copy idc prepared data to local workspace ready for monai bundle inference"
      ],
      "metadata": {
        "id": "QyLdLgaBfm6j"
      }
    },
    {
      "cell_type": "code",
      "source": [
        "# !gsutil cp -r gs://prostate-seg-monai/test_data_idc/* {os.environ[\"monai_workspace_dataset\"]}/\n",
        "# !gsutil cp -r gs://prostate-seg-monai/test.csv {os.environ[\"monai_workspace_dataset\"]}/"
      ],
      "metadata": {
        "id": "S4Qd6LmZIk8a"
      },
      "execution_count": null,
      "outputs": []
    },
    {
      "cell_type": "markdown",
      "source": [
        "# Run Monai inference"
      ],
      "metadata": {
        "id": "RuoaVb1Fzeeq"
      }
    },
    {
      "cell_type": "markdown",
      "source": [
        "## Setup of working directory for evalutation"
      ],
      "metadata": {
        "id": "crlbOe069qnD"
      }
    },
    {
      "cell_type": "code",
      "source": [
        "os.environ[\"monai_workspace\"] = \"monai_workspace\"\n",
        "os.environ[\"monai_workspace_eval\"] = os.path.join(os.environ[\"monai_workspace\"], \"eval/\")\n",
        "os.environ[\"monai_workspace_dataset\"] = os.path.join(os.environ[\"monai_workspace\"], \"dataset/\")\n",
        "os.environ[\"monai_workspace_model_dir\"] = os.path.join(os.environ[\"monai_workspace\"], \"models\")\n",
        "os.environ[\"monai_workspace_model_path\"] = os.path.join(os.environ[\"monai_workspace\"], \"models\", \"anatomy.pt\")"
      ],
      "metadata": {
        "id": "3Ov9CLFE9_JV"
      },
      "execution_count": null,
      "outputs": []
    },
    {
      "cell_type": "code",
      "source": [
        "!mkdir -p {os.environ[\"monai_workspace\"]}\n",
        "!mkdir -p {os.environ[\"monai_workspace_eval\"]}\n",
        "!mkdir -p {os.environ[\"monai_workspace_dataset\"]}\n",
        "!mkdir -p {os.environ[\"monai_workspace_model_dir\"]}"
      ],
      "metadata": {
        "id": "Vote_JKY93vT"
      },
      "execution_count": null,
      "outputs": []
    },
    {
      "cell_type": "markdown",
      "source": [
        "Copy/Downloads\n",
        "\n",
        "\n",
        "\n",
        "*   Copy of inference.json from monai bundle to custom workspace\n",
        "*   Download of anatomy.pt weights from zenodo\n",
        "\n"
      ],
      "metadata": {
        "id": "ciOxkWsshl2S"
      }
    },
    {
      "cell_type": "code",
      "source": [
        "!cp /content/monai_prostate158/configs/inference.json {os.environ[\"monai_workspace\"]}/inference.json\n",
        "!wget https://zenodo.org/record/7040585/files/anatomy.pt?download=1 -O {os.environ[\"monai_workspace_model_dir\"]}/anatomy.pt"
      ],
      "metadata": {
        "colab": {
          "base_uri": "https://localhost:8080/"
        },
        "id": "kXU4Nw47905V",
        "outputId": "002044a6-6ab7-4c3f-d367-19105af4cdbd"
      },
      "execution_count": null,
      "outputs": [
        {
          "output_type": "stream",
          "name": "stdout",
          "text": [
            "--2023-01-17 21:31:30--  https://zenodo.org/record/7040585/files/anatomy.pt?download=1\n",
            "Resolving zenodo.org (zenodo.org)... 188.185.124.72\n",
            "Connecting to zenodo.org (zenodo.org)|188.185.124.72|:443... connected.\n",
            "HTTP request sent, awaiting response... 200 OK\n",
            "Length: 152810901 (146M) [application/octet-stream]\n",
            "Saving to: ‘monai_workspace/models/anatomy.pt’\n",
            "\n",
            "monai_workspace/mod 100%[===================>] 145.73M  28.5MB/s    in 5.8s    \n",
            "\n",
            "2023-01-17 21:31:38 (25.2 MB/s) - ‘monai_workspace/models/anatomy.pt’ saved [152810901/152810901]\n",
            "\n"
          ]
        }
      ]
    },
    {
      "cell_type": "markdown",
      "source": [
        "Copy idc data and metadata csv to monai workspace "
      ],
      "metadata": {
        "id": "ss8UinEgXE6h"
      }
    },
    {
      "cell_type": "code",
      "source": [
        "!cp -r test_data_idc/* {os.environ[\"monai_workspace_dataset\"]}/\n",
        "test_df.to_csv(os.path.join(os.environ[\"monai_workspace_dataset\"], \"test.csv\"))"
      ],
      "metadata": {
        "id": "jRIua5J9XM2c"
      },
      "execution_count": null,
      "outputs": []
    },
    {
      "cell_type": "markdown",
      "source": [
        "Setup of inference.json parameters"
      ],
      "metadata": {
        "id": "oMwzuvQnh9bc"
      }
    },
    {
      "cell_type": "code",
      "source": [
        "inference_json = json.load(open(os.environ[\"monai_workspace\"]+\"/inference.json\"))\n",
        "#setup variables\n",
        "inference_json[\"bundle_root\"] = os.environ[\"monai_workspace\"]\n",
        "inference_json[\"output_dir\"] = os.environ[\"monai_workspace_eval\"]\n",
        "inference_json[\"dataset_dir\"] = os.environ[\"monai_workspace_dataset\"]\n",
        "inference_json[\"handlers\"][0][\"load_path\"] = os.environ[\"monai_workspace_model_path\"]\n",
        "inference_json[\"datalist\"] = \"$list(@dataset_dir + pd.read_csv(@dataset_dir + 'test.csv').t2)\""
      ],
      "metadata": {
        "id": "XD-BOU6v-79-"
      },
      "execution_count": null,
      "outputs": []
    },
    {
      "cell_type": "markdown",
      "source": [
        "Overriding of inference.json to local workspace"
      ],
      "metadata": {
        "id": "Euy1QBsgiBq1"
      }
    },
    {
      "cell_type": "code",
      "source": [
        "with open('/content/monai_workspace/inference.json', 'w') as fp:\n",
        "    json.dump(inference_json, fp)"
      ],
      "metadata": {
        "id": "9KcMdEHGb_AD"
      },
      "execution_count": null,
      "outputs": []
    },
    {
      "cell_type": "markdown",
      "source": [
        "## Inference"
      ],
      "metadata": {
        "id": "aUIxAQUpTwln"
      }
    },
    {
      "cell_type": "markdown",
      "source": [
        "Initialize monai configParser and import inference.json"
      ],
      "metadata": {
        "id": "F7wDSKKOiGlg"
      }
    },
    {
      "cell_type": "code",
      "source": [
        "from monai.bundle import ConfigParser, run\n",
        "config = ConfigParser()\n",
        "config.read_config(\"/content/monai_workspace/inference.json\")"
      ],
      "metadata": {
        "id": "vPIg6Db1QVZu"
      },
      "execution_count": null,
      "outputs": []
    },
    {
      "cell_type": "markdown",
      "source": [
        "Inference using monai bundle -- metadata.json provided from monai bundle, no change needed"
      ],
      "metadata": {
        "id": "kYAgsVT0iL2b"
      }
    },
    {
      "cell_type": "code",
      "source": [
        "!python -m monai.bundle run evaluating --meta_file /content/monai_prostate158/configs/metadata.json --config_file /content/monai_workspace/inference.json"
      ],
      "metadata": {
        "id": "G3gNEg1OlhAo",
        "colab": {
          "base_uri": "https://localhost:8080/"
        },
        "outputId": "45344124-db05-4e43-b05a-21f23b1166cf"
      },
      "execution_count": null,
      "outputs": [
        {
          "output_type": "stream",
          "name": "stdout",
          "text": [
            "2023-01-17 21:32:16,393 - INFO - --- input summary of monai.bundle.scripts.run ---\n",
            "2023-01-17 21:32:16,393 - INFO - > runner_id: 'evaluating'\n",
            "2023-01-17 21:32:16,393 - INFO - > meta_file: '/content/monai_prostate158/configs/metadata.json'\n",
            "2023-01-17 21:32:16,393 - INFO - > config_file: '/content/monai_workspace/inference.json'\n",
            "2023-01-17 21:32:16,393 - INFO - ---\n",
            "\n",
            "\n",
            "This DataLoader will create 4 worker processes in total. Our suggested max number of worker in current system is 2, which is smaller than what this DataLoader is going to create. Please be aware that excessive worker creation might get DataLoader running slow or even freeze, lower the worker number to avoid potential slowness/freeze if necessary.\n",
            "2023-01-17 21:32:22,029 - Engine run resuming from iteration 0, epoch 0 until 1 epochs\n",
            "2023-01-17 21:32:22,146 - Restored all variables from monai_workspace/models/anatomy.pt\n",
            "2023-01-17 21:32:45,003 INFO image_writer.py:194 - writing: monai_workspace/eval/1.3.6.1.4.1.14519.5.2.1.3671.4754.105976129314091491952445656147_Prostate_With_e-coil_C-_19950709150441_6/1.3.6.1.4.1.14519.5.2.1.3671.4754.105976129314091491952445656147_Prostate_With_e-coil_C-_19950709150441_6_trans.nii.gz\n",
            "2023-01-17 21:32:45,401 - Epoch[1] Complete. Time taken: 00:00:23.138\n",
            "2023-01-17 21:32:45,401 - Engine run complete. Time taken: 00:00:23.372\n",
            "[null, null]\n"
          ]
        }
      ]
    },
    {
      "cell_type": "markdown",
      "source": [
        "# Evaluation of monai data"
      ],
      "metadata": {
        "id": "_vHx5QXyz9Gs"
      }
    },
    {
      "cell_type": "markdown",
      "source": [
        "Setup folders for evaluation"
      ],
      "metadata": {
        "id": "0aXJSI8Xa3nA"
      }
    },
    {
      "cell_type": "code",
      "source": [
        "!mkdir -p data_resampled\n",
        "!mkdir -p data_resampled/images\n",
        "!mkdir -p data_resampled/ground_truth\n",
        "!mkdir -p data_resampled/monai_preds\n",
        "!mkdir -p data_resampled/monai_preds_pz"
      ],
      "metadata": {
        "id": "MCpPMRSbfAWS"
      },
      "execution_count": null,
      "outputs": []
    },
    {
      "cell_type": "markdown",
      "source": [
        "## Build up dataframe with added colums : \n",
        "\n",
        "\n",
        "1.   t2\n",
        "2.   t2_label_pz\n",
        "3.   t2_label_prostate\n",
        "4.   monai_pz\n"
      ],
      "metadata": {
        "id": "0a5b7k3Fz_5i"
      }
    },
    {
      "cell_type": "code",
      "source": [
        "eval_df = pd.read_csv('/content/monai_workspace/dataset/test.csv', index_col=0)"
      ],
      "metadata": {
        "id": "XEsrOC3ne_Kp"
      },
      "execution_count": null,
      "outputs": []
    },
    {
      "cell_type": "code",
      "source": [
        "eval_df.head()"
      ],
      "metadata": {
        "colab": {
          "base_uri": "https://localhost:8080/",
          "height": 81
        },
        "id": "aBzzD6XJfbJH",
        "outputId": "b1de4221-f5a2-4158-d2ea-1191510692af"
      },
      "execution_count": null,
      "outputs": [
        {
          "output_type": "execute_result",
          "data": {
            "text/plain": [
              "                                                  t2  \\\n",
              "0  1.3.6.1.4.1.14519.5.2.1.3671.4754.105976129314...   \n",
              "\n",
              "                                            t2_label  \n",
              "0  1.3.6.1.4.1.14519.5.2.1.3671.4754.105976129314...  "
            ],
            "text/html": [
              "\n",
              "  <div id=\"df-00afc64b-12a1-4b5e-8c34-ba979aedcf9d\">\n",
              "    <div class=\"colab-df-container\">\n",
              "      <div>\n",
              "<style scoped>\n",
              "    .dataframe tbody tr th:only-of-type {\n",
              "        vertical-align: middle;\n",
              "    }\n",
              "\n",
              "    .dataframe tbody tr th {\n",
              "        vertical-align: top;\n",
              "    }\n",
              "\n",
              "    .dataframe thead th {\n",
              "        text-align: right;\n",
              "    }\n",
              "</style>\n",
              "<table border=\"1\" class=\"dataframe\">\n",
              "  <thead>\n",
              "    <tr style=\"text-align: right;\">\n",
              "      <th></th>\n",
              "      <th>t2</th>\n",
              "      <th>t2_label</th>\n",
              "    </tr>\n",
              "  </thead>\n",
              "  <tbody>\n",
              "    <tr>\n",
              "      <th>0</th>\n",
              "      <td>1.3.6.1.4.1.14519.5.2.1.3671.4754.105976129314...</td>\n",
              "      <td>1.3.6.1.4.1.14519.5.2.1.3671.4754.105976129314...</td>\n",
              "    </tr>\n",
              "  </tbody>\n",
              "</table>\n",
              "</div>\n",
              "      <button class=\"colab-df-convert\" onclick=\"convertToInteractive('df-00afc64b-12a1-4b5e-8c34-ba979aedcf9d')\"\n",
              "              title=\"Convert this dataframe to an interactive table.\"\n",
              "              style=\"display:none;\">\n",
              "        \n",
              "  <svg xmlns=\"http://www.w3.org/2000/svg\" height=\"24px\"viewBox=\"0 0 24 24\"\n",
              "       width=\"24px\">\n",
              "    <path d=\"M0 0h24v24H0V0z\" fill=\"none\"/>\n",
              "    <path d=\"M18.56 5.44l.94 2.06.94-2.06 2.06-.94-2.06-.94-.94-2.06-.94 2.06-2.06.94zm-11 1L8.5 8.5l.94-2.06 2.06-.94-2.06-.94L8.5 2.5l-.94 2.06-2.06.94zm10 10l.94 2.06.94-2.06 2.06-.94-2.06-.94-.94-2.06-.94 2.06-2.06.94z\"/><path d=\"M17.41 7.96l-1.37-1.37c-.4-.4-.92-.59-1.43-.59-.52 0-1.04.2-1.43.59L10.3 9.45l-7.72 7.72c-.78.78-.78 2.05 0 2.83L4 21.41c.39.39.9.59 1.41.59.51 0 1.02-.2 1.41-.59l7.78-7.78 2.81-2.81c.8-.78.8-2.07 0-2.86zM5.41 20L4 18.59l7.72-7.72 1.47 1.35L5.41 20z\"/>\n",
              "  </svg>\n",
              "      </button>\n",
              "      \n",
              "  <style>\n",
              "    .colab-df-container {\n",
              "      display:flex;\n",
              "      flex-wrap:wrap;\n",
              "      gap: 12px;\n",
              "    }\n",
              "\n",
              "    .colab-df-convert {\n",
              "      background-color: #E8F0FE;\n",
              "      border: none;\n",
              "      border-radius: 50%;\n",
              "      cursor: pointer;\n",
              "      display: none;\n",
              "      fill: #1967D2;\n",
              "      height: 32px;\n",
              "      padding: 0 0 0 0;\n",
              "      width: 32px;\n",
              "    }\n",
              "\n",
              "    .colab-df-convert:hover {\n",
              "      background-color: #E2EBFA;\n",
              "      box-shadow: 0px 1px 2px rgba(60, 64, 67, 0.3), 0px 1px 3px 1px rgba(60, 64, 67, 0.15);\n",
              "      fill: #174EA6;\n",
              "    }\n",
              "\n",
              "    [theme=dark] .colab-df-convert {\n",
              "      background-color: #3B4455;\n",
              "      fill: #D2E3FC;\n",
              "    }\n",
              "\n",
              "    [theme=dark] .colab-df-convert:hover {\n",
              "      background-color: #434B5C;\n",
              "      box-shadow: 0px 1px 3px 1px rgba(0, 0, 0, 0.15);\n",
              "      filter: drop-shadow(0px 1px 2px rgba(0, 0, 0, 0.3));\n",
              "      fill: #FFFFFF;\n",
              "    }\n",
              "  </style>\n",
              "\n",
              "      <script>\n",
              "        const buttonEl =\n",
              "          document.querySelector('#df-00afc64b-12a1-4b5e-8c34-ba979aedcf9d button.colab-df-convert');\n",
              "        buttonEl.style.display =\n",
              "          google.colab.kernel.accessAllowed ? 'block' : 'none';\n",
              "\n",
              "        async function convertToInteractive(key) {\n",
              "          const element = document.querySelector('#df-00afc64b-12a1-4b5e-8c34-ba979aedcf9d');\n",
              "          const dataTable =\n",
              "            await google.colab.kernel.invokeFunction('convertToInteractive',\n",
              "                                                     [key], {});\n",
              "          if (!dataTable) return;\n",
              "\n",
              "          const docLinkHtml = 'Like what you see? Visit the ' +\n",
              "            '<a target=\"_blank\" href=https://colab.research.google.com/notebooks/data_table.ipynb>data table notebook</a>'\n",
              "            + ' to learn more about interactive tables.';\n",
              "          element.innerHTML = '';\n",
              "          dataTable['output_type'] = 'display_data';\n",
              "          await google.colab.output.renderOutput(dataTable, element);\n",
              "          const docLink = document.createElement('div');\n",
              "          docLink.innerHTML = docLinkHtml;\n",
              "          element.appendChild(docLink);\n",
              "        }\n",
              "      </script>\n",
              "    </div>\n",
              "  </div>\n",
              "  "
            ]
          },
          "metadata": {},
          "execution_count": 47
        }
      ]
    },
    {
      "cell_type": "markdown",
      "source": [
        "Add additional columns to dataframe for evaluation \n",
        "\n",
        "\n",
        "\n",
        "1.   monai_pred : absolute paths of monai predictions\n",
        "2.   t2 : paths of t2 volumes in local workspace\n",
        "3.   t2_label : paths of t2 peripheral zone absolute paths in local workspace\n",
        "4.   monai_pred_resampled : monai preds resampled to T2 volume\n",
        "5.   monai_pred_resampled_pz : extraction of PZ segment from resampled monai prediction\n",
        "6.   dice_score_pz : dice_score between t2_label and monai_preds_resampled_pz\n",
        "\n"
      ],
      "metadata": {
        "id": "urI2SOkpiT0f"
      }
    },
    {
      "cell_type": "code",
      "source": [
        "eval_df[\"monai_pred\"]= eval_df.t2.apply(lambda x : glob.glob(f\"/content/monai_workspace/eval/**/{x[:-7]}_trans.nii.gz\", recursive=True)[0])\n",
        "eval_df[\"t2\"]= eval_df.t2.apply(lambda x : \"/content/monai_workspace/dataset/\"+x)\n",
        "eval_df[\"t2_label\"]= eval_df.t2_label.apply(lambda x : \"/content/monai_workspace/dataset/\"+x)"
      ],
      "metadata": {
        "id": "CJPbBaL0e93A"
      },
      "execution_count": null,
      "outputs": []
    },
    {
      "cell_type": "markdown",
      "source": [
        "Resampling of monai preds in reference of T2 volume "
      ],
      "metadata": {
        "id": "P6QdhRoXjM24"
      }
    },
    {
      "cell_type": "code",
      "source": [
        "eval_df[\"monai_pred_resampled\"] = eval_df.apply(resample_label, axis = 1,\n",
        "                    args = [\"monai_pred\", \"t2\", \"data_resampled/monai_preds/\"])"
      ],
      "metadata": {
        "colab": {
          "base_uri": "https://localhost:8080/"
        },
        "id": "lhL5qAR7j58D",
        "outputId": "4bc68481-da19-459c-e5c1-052b25285405"
      },
      "execution_count": null,
      "outputs": [
        {
          "output_type": "stream",
          "name": "stdout",
          "text": [
            "\n",
            "Running 'plastimatch resample' with the specified arguments:\n",
            "  --input /content/monai_workspace/eval/1.3.6.1.4.1.14519.5.2.1.3671.4754.105976129314091491952445656147_Prostate_With_e-coil_C-_19950709150441_6/1.3.6.1.4.1.14519.5.2.1.3671.4754.105976129314091491952445656147_Prostate_With_e-coil_C-_19950709150441_6_trans.nii.gz\n",
            "  --output data_resampled/monai_preds/1.3.6.1.4.1.14519.5.2.1.3671.4754.105976129314091491952445656147_Prostate_With_e-coil_C-_19950709150441_6_trans.nii.gz\n",
            "  --fixed /content/monai_workspace/dataset/1.3.6.1.4.1.14519.5.2.1.3671.4754.105976129314091491952445656147_Prostate_With_e-coil_C-_19950709150441_6.nii.gz\n",
            "  --interpolation nn\n",
            "... Done.\n"
          ]
        }
      ]
    },
    {
      "cell_type": "code",
      "source": [
        "eval_df[\"monai_pred_resampled_pz\"] = eval_df.apply(extract_pz_monai, axis = 1,\n",
        "                    args = [\"monai_pred_resampled\", \"data_resampled/monai_preds_pz\"])"
      ],
      "metadata": {
        "id": "EvJHoZ5gRfVj"
      },
      "execution_count": null,
      "outputs": []
    },
    {
      "cell_type": "code",
      "source": [
        "eval_df[\"dice_score_pz\"] = eval_df.apply(compute_dice, axis=1,\n",
        "                                         args= [\"monai_pred_resampled_pz\", \"t2_label\"])"
      ],
      "metadata": {
        "id": "4l8pBhjzkuEr"
      },
      "execution_count": null,
      "outputs": []
    },
    {
      "cell_type": "code",
      "source": [
        "eval_df[[\"monai_pred_resampled\", \"dice_score_pz\"]].head(60)"
      ],
      "metadata": {
        "colab": {
          "base_uri": "https://localhost:8080/",
          "height": 81
        },
        "id": "3xMJGgT8hysB",
        "outputId": "9b4171c4-2cca-4dbf-904a-c34abb9d80d2"
      },
      "execution_count": null,
      "outputs": [
        {
          "output_type": "execute_result",
          "data": {
            "text/plain": [
              "                                monai_pred_resampled  dice_score_pz\n",
              "0  data_resampled/monai_preds/1.3.6.1.4.1.14519.5...       0.573206"
            ],
            "text/html": [
              "\n",
              "  <div id=\"df-4a023f8e-cf1b-4824-9177-cd53aa3c031f\">\n",
              "    <div class=\"colab-df-container\">\n",
              "      <div>\n",
              "<style scoped>\n",
              "    .dataframe tbody tr th:only-of-type {\n",
              "        vertical-align: middle;\n",
              "    }\n",
              "\n",
              "    .dataframe tbody tr th {\n",
              "        vertical-align: top;\n",
              "    }\n",
              "\n",
              "    .dataframe thead th {\n",
              "        text-align: right;\n",
              "    }\n",
              "</style>\n",
              "<table border=\"1\" class=\"dataframe\">\n",
              "  <thead>\n",
              "    <tr style=\"text-align: right;\">\n",
              "      <th></th>\n",
              "      <th>monai_pred_resampled</th>\n",
              "      <th>dice_score_pz</th>\n",
              "    </tr>\n",
              "  </thead>\n",
              "  <tbody>\n",
              "    <tr>\n",
              "      <th>0</th>\n",
              "      <td>data_resampled/monai_preds/1.3.6.1.4.1.14519.5...</td>\n",
              "      <td>0.573206</td>\n",
              "    </tr>\n",
              "  </tbody>\n",
              "</table>\n",
              "</div>\n",
              "      <button class=\"colab-df-convert\" onclick=\"convertToInteractive('df-4a023f8e-cf1b-4824-9177-cd53aa3c031f')\"\n",
              "              title=\"Convert this dataframe to an interactive table.\"\n",
              "              style=\"display:none;\">\n",
              "        \n",
              "  <svg xmlns=\"http://www.w3.org/2000/svg\" height=\"24px\"viewBox=\"0 0 24 24\"\n",
              "       width=\"24px\">\n",
              "    <path d=\"M0 0h24v24H0V0z\" fill=\"none\"/>\n",
              "    <path d=\"M18.56 5.44l.94 2.06.94-2.06 2.06-.94-2.06-.94-.94-2.06-.94 2.06-2.06.94zm-11 1L8.5 8.5l.94-2.06 2.06-.94-2.06-.94L8.5 2.5l-.94 2.06-2.06.94zm10 10l.94 2.06.94-2.06 2.06-.94-2.06-.94-.94-2.06-.94 2.06-2.06.94z\"/><path d=\"M17.41 7.96l-1.37-1.37c-.4-.4-.92-.59-1.43-.59-.52 0-1.04.2-1.43.59L10.3 9.45l-7.72 7.72c-.78.78-.78 2.05 0 2.83L4 21.41c.39.39.9.59 1.41.59.51 0 1.02-.2 1.41-.59l7.78-7.78 2.81-2.81c.8-.78.8-2.07 0-2.86zM5.41 20L4 18.59l7.72-7.72 1.47 1.35L5.41 20z\"/>\n",
              "  </svg>\n",
              "      </button>\n",
              "      \n",
              "  <style>\n",
              "    .colab-df-container {\n",
              "      display:flex;\n",
              "      flex-wrap:wrap;\n",
              "      gap: 12px;\n",
              "    }\n",
              "\n",
              "    .colab-df-convert {\n",
              "      background-color: #E8F0FE;\n",
              "      border: none;\n",
              "      border-radius: 50%;\n",
              "      cursor: pointer;\n",
              "      display: none;\n",
              "      fill: #1967D2;\n",
              "      height: 32px;\n",
              "      padding: 0 0 0 0;\n",
              "      width: 32px;\n",
              "    }\n",
              "\n",
              "    .colab-df-convert:hover {\n",
              "      background-color: #E2EBFA;\n",
              "      box-shadow: 0px 1px 2px rgba(60, 64, 67, 0.3), 0px 1px 3px 1px rgba(60, 64, 67, 0.15);\n",
              "      fill: #174EA6;\n",
              "    }\n",
              "\n",
              "    [theme=dark] .colab-df-convert {\n",
              "      background-color: #3B4455;\n",
              "      fill: #D2E3FC;\n",
              "    }\n",
              "\n",
              "    [theme=dark] .colab-df-convert:hover {\n",
              "      background-color: #434B5C;\n",
              "      box-shadow: 0px 1px 3px 1px rgba(0, 0, 0, 0.15);\n",
              "      filter: drop-shadow(0px 1px 2px rgba(0, 0, 0, 0.3));\n",
              "      fill: #FFFFFF;\n",
              "    }\n",
              "  </style>\n",
              "\n",
              "      <script>\n",
              "        const buttonEl =\n",
              "          document.querySelector('#df-4a023f8e-cf1b-4824-9177-cd53aa3c031f button.colab-df-convert');\n",
              "        buttonEl.style.display =\n",
              "          google.colab.kernel.accessAllowed ? 'block' : 'none';\n",
              "\n",
              "        async function convertToInteractive(key) {\n",
              "          const element = document.querySelector('#df-4a023f8e-cf1b-4824-9177-cd53aa3c031f');\n",
              "          const dataTable =\n",
              "            await google.colab.kernel.invokeFunction('convertToInteractive',\n",
              "                                                     [key], {});\n",
              "          if (!dataTable) return;\n",
              "\n",
              "          const docLinkHtml = 'Like what you see? Visit the ' +\n",
              "            '<a target=\"_blank\" href=https://colab.research.google.com/notebooks/data_table.ipynb>data table notebook</a>'\n",
              "            + ' to learn more about interactive tables.';\n",
              "          element.innerHTML = '';\n",
              "          dataTable['output_type'] = 'display_data';\n",
              "          await google.colab.output.renderOutput(dataTable, element);\n",
              "          const docLink = document.createElement('div');\n",
              "          docLink.innerHTML = docLinkHtml;\n",
              "          element.appendChild(docLink);\n",
              "        }\n",
              "      </script>\n",
              "    </div>\n",
              "  </div>\n",
              "  "
            ]
          },
          "metadata": {},
          "execution_count": 53
        }
      ]
    },
    {
      "cell_type": "markdown",
      "source": [
        "Average of dice_score"
      ],
      "metadata": {
        "id": "R5ly34qXjkBm"
      }
    },
    {
      "cell_type": "code",
      "source": [
        "np.mean(eval_df[\"dice_score_pz\"].values)"
      ],
      "metadata": {
        "colab": {
          "base_uri": "https://localhost:8080/"
        },
        "id": "UuMgtwLy4C8i",
        "outputId": "8d1a5f8b-e4fe-430f-e85c-791faf9ed724"
      },
      "execution_count": null,
      "outputs": [
        {
          "output_type": "execute_result",
          "data": {
            "text/plain": [
              "0.573206"
            ]
          },
          "metadata": {},
          "execution_count": 54
        }
      ]
    },
    {
      "cell_type": "markdown",
      "source": [
        "Boxplot of dice_score"
      ],
      "metadata": {
        "id": "wqa1Yr7_jmO8"
      }
    },
    {
      "cell_type": "code",
      "source": [
        "import seaborn as sns\n",
        "sns.boxplot(x=[\"data\"] * len(eval_df), y=\"dice_score_pz\", data=eval_df)"
      ],
      "metadata": {
        "colab": {
          "base_uri": "https://localhost:8080/",
          "height": 282
        },
        "id": "_8vTaiLB6YCn",
        "outputId": "1062d0fb-3ce6-41ae-efab-709db7c62139"
      },
      "execution_count": null,
      "outputs": [
        {
          "output_type": "execute_result",
          "data": {
            "text/plain": [
              "<matplotlib.axes._subplots.AxesSubplot at 0x7f25419dafa0>"
            ]
          },
          "metadata": {},
          "execution_count": 55
        },
        {
          "output_type": "display_data",
          "data": {
            "text/plain": [
              "<Figure size 432x288 with 1 Axes>"
            ],
            "image/png": "[encoded data removed]"
          },
          "metadata": {
            "needs_background": "light"
          }
        }
      ]
    },
    {
      "cell_type": "code",
      "source": [
        "eval_df"
      ],
      "metadata": {
        "colab": {
          "base_uri": "https://localhost:8080/",
          "height": 161
        },
        "id": "yLDLfmeqqJSy",
        "outputId": "8d6795d5-c1c0-434b-ac00-40421486edbb"
      },
      "execution_count": null,
      "outputs": [
        {
          "output_type": "execute_result",
          "data": {
            "text/plain": [
              "                                                  t2  \\\n",
              "0  /content/monai_workspace/dataset/1.3.6.1.4.1.1...   \n",
              "\n",
              "                                            t2_label  \\\n",
              "0  /content/monai_workspace/dataset/1.3.6.1.4.1.1...   \n",
              "\n",
              "                                          monai_pred  \\\n",
              "0  /content/monai_workspace/eval/1.3.6.1.4.1.1451...   \n",
              "\n",
              "                                monai_pred_resampled  \\\n",
              "0  data_resampled/monai_preds/1.3.6.1.4.1.14519.5...   \n",
              "\n",
              "                             monai_pred_resampled_pz  dice_score_pz  \n",
              "0  data_resampled/monai_preds_pz/1.3.6.1.4.1.1451...       0.573206  "
            ],
            "text/html": [
              "\n",
              "  <div id=\"df-e9bbed8a-01b0-439a-bb2a-0c6950484fb7\">\n",
              "    <div class=\"colab-df-container\">\n",
              "      <div>\n",
              "<style scoped>\n",
              "    .dataframe tbody tr th:only-of-type {\n",
              "        vertical-align: middle;\n",
              "    }\n",
              "\n",
              "    .dataframe tbody tr th {\n",
              "        vertical-align: top;\n",
              "    }\n",
              "\n",
              "    .dataframe thead th {\n",
              "        text-align: right;\n",
              "    }\n",
              "</style>\n",
              "<table border=\"1\" class=\"dataframe\">\n",
              "  <thead>\n",
              "    <tr style=\"text-align: right;\">\n",
              "      <th></th>\n",
              "      <th>t2</th>\n",
              "      <th>t2_label</th>\n",
              "      <th>monai_pred</th>\n",
              "      <th>monai_pred_resampled</th>\n",
              "      <th>monai_pred_resampled_pz</th>\n",
              "      <th>dice_score_pz</th>\n",
              "    </tr>\n",
              "  </thead>\n",
              "  <tbody>\n",
              "    <tr>\n",
              "      <th>0</th>\n",
              "      <td>/content/monai_workspace/dataset/1.3.6.1.4.1.1...</td>\n",
              "      <td>/content/monai_workspace/dataset/1.3.6.1.4.1.1...</td>\n",
              "      <td>/content/monai_workspace/eval/1.3.6.1.4.1.1451...</td>\n",
              "      <td>data_resampled/monai_preds/1.3.6.1.4.1.14519.5...</td>\n",
              "      <td>data_resampled/monai_preds_pz/1.3.6.1.4.1.1451...</td>\n",
              "      <td>0.573206</td>\n",
              "    </tr>\n",
              "  </tbody>\n",
              "</table>\n",
              "</div>\n",
              "      <button class=\"colab-df-convert\" onclick=\"convertToInteractive('df-e9bbed8a-01b0-439a-bb2a-0c6950484fb7')\"\n",
              "              title=\"Convert this dataframe to an interactive table.\"\n",
              "              style=\"display:none;\">\n",
              "        \n",
              "  <svg xmlns=\"http://www.w3.org/2000/svg\" height=\"24px\"viewBox=\"0 0 24 24\"\n",
              "       width=\"24px\">\n",
              "    <path d=\"M0 0h24v24H0V0z\" fill=\"none\"/>\n",
              "    <path d=\"M18.56 5.44l.94 2.06.94-2.06 2.06-.94-2.06-.94-.94-2.06-.94 2.06-2.06.94zm-11 1L8.5 8.5l.94-2.06 2.06-.94-2.06-.94L8.5 2.5l-.94 2.06-2.06.94zm10 10l.94 2.06.94-2.06 2.06-.94-2.06-.94-.94-2.06-.94 2.06-2.06.94z\"/><path d=\"M17.41 7.96l-1.37-1.37c-.4-.4-.92-.59-1.43-.59-.52 0-1.04.2-1.43.59L10.3 9.45l-7.72 7.72c-.78.78-.78 2.05 0 2.83L4 21.41c.39.39.9.59 1.41.59.51 0 1.02-.2 1.41-.59l7.78-7.78 2.81-2.81c.8-.78.8-2.07 0-2.86zM5.41 20L4 18.59l7.72-7.72 1.47 1.35L5.41 20z\"/>\n",
              "  </svg>\n",
              "      </button>\n",
              "      \n",
              "  <style>\n",
              "    .colab-df-container {\n",
              "      display:flex;\n",
              "      flex-wrap:wrap;\n",
              "      gap: 12px;\n",
              "    }\n",
              "\n",
              "    .colab-df-convert {\n",
              "      background-color: #E8F0FE;\n",
              "      border: none;\n",
              "      border-radius: 50%;\n",
              "      cursor: pointer;\n",
              "      display: none;\n",
              "      fill: #1967D2;\n",
              "      height: 32px;\n",
              "      padding: 0 0 0 0;\n",
              "      width: 32px;\n",
              "    }\n",
              "\n",
              "    .colab-df-convert:hover {\n",
              "      background-color: #E2EBFA;\n",
              "      box-shadow: 0px 1px 2px rgba(60, 64, 67, 0.3), 0px 1px 3px 1px rgba(60, 64, 67, 0.15);\n",
              "      fill: #174EA6;\n",
              "    }\n",
              "\n",
              "    [theme=dark] .colab-df-convert {\n",
              "      background-color: #3B4455;\n",
              "      fill: #D2E3FC;\n",
              "    }\n",
              "\n",
              "    [theme=dark] .colab-df-convert:hover {\n",
              "      background-color: #434B5C;\n",
              "      box-shadow: 0px 1px 3px 1px rgba(0, 0, 0, 0.15);\n",
              "      filter: drop-shadow(0px 1px 2px rgba(0, 0, 0, 0.3));\n",
              "      fill: #FFFFFF;\n",
              "    }\n",
              "  </style>\n",
              "\n",
              "      <script>\n",
              "        const buttonEl =\n",
              "          document.querySelector('#df-e9bbed8a-01b0-439a-bb2a-0c6950484fb7 button.colab-df-convert');\n",
              "        buttonEl.style.display =\n",
              "          google.colab.kernel.accessAllowed ? 'block' : 'none';\n",
              "\n",
              "        async function convertToInteractive(key) {\n",
              "          const element = document.querySelector('#df-e9bbed8a-01b0-439a-bb2a-0c6950484fb7');\n",
              "          const dataTable =\n",
              "            await google.colab.kernel.invokeFunction('convertToInteractive',\n",
              "                                                     [key], {});\n",
              "          if (!dataTable) return;\n",
              "\n",
              "          const docLinkHtml = 'Like what you see? Visit the ' +\n",
              "            '<a target=\"_blank\" href=https://colab.research.google.com/notebooks/data_table.ipynb>data table notebook</a>'\n",
              "            + ' to learn more about interactive tables.';\n",
              "          element.innerHTML = '';\n",
              "          dataTable['output_type'] = 'display_data';\n",
              "          await google.colab.output.renderOutput(dataTable, element);\n",
              "          const docLink = document.createElement('div');\n",
              "          docLink.innerHTML = docLinkHtml;\n",
              "          element.appendChild(docLink);\n",
              "        }\n",
              "      </script>\n",
              "    </div>\n",
              "  </div>\n",
              "  "
            ]
          },
          "metadata": {},
          "execution_count": 61
        }
      ]
    },
    {
      "cell_type": "markdown",
      "source": [
        "ITK Widget visualization"
      ],
      "metadata": {
        "id": "lij7F8mhpxmn"
      }
    },
    {
      "cell_type": "code",
      "source": [
        "import SimpleITK as sitk\n",
        "import numpy as np\n",
        "import itk\n",
        "\n",
        "t2_label = sitk.GetArrayFromImage(sitk.ReadImage(list(eval_df.monai_pred_resampled.values)[0]))\n",
        "t2 = sitk.GetArrayFromImage(sitk.ReadImage(list(eval_df.t2.values)[0]))"
      ],
      "metadata": {
        "id": "U9dARBplqo53"
      },
      "execution_count": null,
      "outputs": []
    },
    {
      "cell_type": "code",
      "source": [
        "view?"
      ],
      "metadata": {
        "id": "x2NtrylfqXDc"
      },
      "execution_count": null,
      "outputs": []
    },
    {
      "cell_type": "code",
      "source": [
        "from itkwidgets import view\n",
        "# view(image=t2, label_image=t2_label)\n",
        "image = itk.imread(list(eval_df.t2.values)[0])\n",
        "label = itk.imread(list(eval_df.t2_label.values)[0])\n",
        "view(image, label_image=label)\n",
        "# view(image=t2[:, :, :] * 255, gradient_opacity=0.6)"
      ],
      "metadata": {
        "id": "YnfClO7Gpz7z"
      },
      "execution_count": null,
      "outputs": []
    },
    {
      "cell_type": "markdown",
      "source": [
        "# Upload of monai preds to dicom store and ohif integration"
      ],
      "metadata": {
        "id": "fP4Y6oFj0B4F"
      }
    },
    {
      "cell_type": "markdown",
      "source": [
        "Creation of output folder"
      ],
      "metadata": {
        "id": "NuEgTjzglT_W"
      }
    },
    {
      "cell_type": "code",
      "source": [
        "!mkdir -p data_resampled/dcm_monai_preds"
      ],
      "metadata": {
        "id": "3U0dwsXQlTa6"
      },
      "execution_count": null,
      "outputs": []
    },
    {
      "cell_type": "markdown",
      "source": [
        "### Conversion to dcm of monai predictions"
      ],
      "metadata": {
        "id": "zDyGF5Uc0B4G"
      }
    },
    {
      "cell_type": "code",
      "source": [
        "# this will usually take between one and five minutes (but can sometimes take up to eight)\n",
        "seg_whole_prostate_json = \"https://www.dropbox.com/s/y11eg3ek4gu8p4i/seg-example_multiple_segments_single_input_file.json?dl=0\"\n",
        "seg_dcm_metadata_json_file = \"pred_metadata.json\"\n",
        "!wget -O $seg_dcm_metadata_json_file $seg_whole_prostate_json"
      ],
      "metadata": {
        "colab": {
          "base_uri": "https://localhost:8080/"
        },
        "id": "tlRNEFIZ387z",
        "outputId": "99388a47-19ab-4c3b-a89e-ff5ee47800ad"
      },
      "execution_count": null,
      "outputs": [
        {
          "output_type": "stream",
          "name": "stdout",
          "text": [
            "--2023-01-17 21:33:29--  https://www.dropbox.com/s/y11eg3ek4gu8p4i/seg-example_multiple_segments_single_input_file.json?dl=0\n",
            "Resolving www.dropbox.com (www.dropbox.com)... 162.125.6.18, 2620:100:601c:18::a27d:612\n",
            "Connecting to www.dropbox.com (www.dropbox.com)|162.125.6.18|:443... connected.\n",
            "HTTP request sent, awaiting response... 302 Found\n",
            "Location: /s/raw/y11eg3ek4gu8p4i/seg-example_multiple_segments_single_input_file.json [following]\n",
            "--2023-01-17 21:33:29--  https://www.dropbox.com/s/raw/y11eg3ek4gu8p4i/seg-example_multiple_segments_single_input_file.json\n",
            "Reusing existing connection to www.dropbox.com:443.\n",
            "HTTP request sent, awaiting response... 302 Found\n",
            "Location: https://uc55e3c05f0f3567e78e5a6366f5.dl.dropboxusercontent.com/cd/0/inline/B0x30EWEBwlsoE4AvKfDRELvqc2CQxW43bkTcpGM88gBIaRwzmxGOd4ye1uPyl4MYsKglzA6eFQYUzl760za_J3Jy0ynh_X9Xi0KKu5-RD622q1ShNXEiGWyaJvo3tB_jVoSRH_iya0PdmtQ7HGj3ySdSAcBRFff-l2ELNaiZlO6QA/file# [following]\n",
            "--2023-01-17 21:33:29--  https://uc55e3c05f0f3567e78e5a6366f5.dl.dropboxusercontent.com/cd/0/inline/B0x30EWEBwlsoE4AvKfDRELvqc2CQxW43bkTcpGM88gBIaRwzmxGOd4ye1uPyl4MYsKglzA6eFQYUzl760za_J3Jy0ynh_X9Xi0KKu5-RD622q1ShNXEiGWyaJvo3tB_jVoSRH_iya0PdmtQ7HGj3ySdSAcBRFff-l2ELNaiZlO6QA/file\n",
            "Resolving uc55e3c05f0f3567e78e5a6366f5.dl.dropboxusercontent.com (uc55e3c05f0f3567e78e5a6366f5.dl.dropboxusercontent.com)... 162.125.6.15, 2620:100:6019:15::a27d:40f\n",
            "Connecting to uc55e3c05f0f3567e78e5a6366f5.dl.dropboxusercontent.com (uc55e3c05f0f3567e78e5a6366f5.dl.dropboxusercontent.com)|162.125.6.15|:443... connected.\n",
            "HTTP request sent, awaiting response... 200 OK\n",
            "Length: 1799 (1.8K) [text/plain]\n",
            "Saving to: ‘pred_metadata.json’\n",
            "\n",
            "pred_metadata.json  100%[===================>]   1.76K  --.-KB/s    in 0s      \n",
            "\n",
            "2023-01-17 21:33:30 (338 MB/s) - ‘pred_metadata.json’ saved [1799/1799]\n",
            "\n"
          ]
        }
      ]
    },
    {
      "cell_type": "markdown",
      "source": [
        "Conversion of monai preds to DCM"
      ],
      "metadata": {
        "id": "QcoWnZ95lYd-"
      }
    },
    {
      "cell_type": "code",
      "source": [
        "for nii_seg_pred in glob.glob(os.path.join(\"/content/data_resampled/monai_preds\", '*.nii.gz')):\n",
        "  serieUID_pred = nii_seg_pred.split('/')[-1].split('_')[0]\n",
        "  t2_dcm_folder = glob.glob(os.path.join(\"/content/dcm_data\", \"**\", \"**\", serieUID_pred))[0]\n",
        "  print(t2_dcm_folder)\n",
        "  print()\n",
        "  # #find seg dcm file\n",
        "  # # find nii seg folder == preds resampled\n",
        "  assert os.path.exists(t2_dcm_folder)\n",
        "  print('\\nConverting...')\n",
        "  print(f'pred monai procssed : {nii_seg_pred}')\n",
        "  print(f't2_dcm_folder : {t2_dcm_folder}')\n",
        "  output_path = os.path.join(\"data_resampled/dcm_monai_preds\", '_'.join([nii_seg_pred.split('/')[-1][:-7]])+'.dcm')\n",
        "  # #find gt seg dcm file == orginal idc dcm files\n",
        "  # #convert nii pred to dcm\n",
        "  !itkimage2segimage --inputImageList $nii_seg_pred \\\n",
        "  --inputDICOMDirectory  $t2_dcm_folder \\\n",
        "  --inputMetadata  $seg_dcm_metadata_json_file \\\n",
        "  --outputDICOM $output_path \n",
        "  print(\"Done!\")"
      ],
      "metadata": {
        "id": "QaJBKXlm0B4G"
      },
      "execution_count": null,
      "outputs": []
    },
    {
      "cell_type": "markdown",
      "metadata": {
        "id": "rI2BLQ8dqIwW"
      },
      "source": [
        "## EXPORT TO OHIF "
      ]
    },
    {
      "cell_type": "markdown",
      "source": [
        "OHIF viewer already deployed\n",
        "\n",
        "https://tinyurl.com/idc-ohif-gcp"
      ],
      "metadata": {
        "id": "p2QXTPtH9LxQ"
      }
    },
    {
      "cell_type": "markdown",
      "source": [
        "### Upload to GCP Bucket"
      ],
      "metadata": {
        "id": "fSjb3EdukS3t"
      }
    },
    {
      "cell_type": "markdown",
      "metadata": {
        "id": "L4c_etIu47pg"
      },
      "source": [
        "#### User input "
      ]
    },
    {
      "cell_type": "markdown",
      "metadata": {
        "id": "-g93SM9gAFiX"
      },
      "source": [
        "Set these values. "
      ]
    },
    {
      "cell_type": "code",
      "execution_count": null,
      "metadata": {
        "id": "3Kk0d3lMmDp3"
      },
      "outputs": [],
      "source": [
        "project_name = 'idc-sandbox-003'\n",
        "location_id = 'us-central1'\n",
        "my_dataset = 'prostate-seg'\n",
        "my_datastore = 'pz_tz_monai_2ServersIDC'"
      ]
    },
    {
      "cell_type": "code",
      "source": [
        "!gsutil -m cp /content/data_resampled/dcm_monai_preds/* gs://prostate-seg-use-case/monai-prostate158/preds/"
      ],
      "metadata": {
        "id": "n7sfNRR48G2s"
      },
      "execution_count": null,
      "outputs": []
    },
    {
      "cell_type": "code",
      "source": [
        "!gsutil -m cp -r /content/dcm_data/* gs://prostate-seg-use-case/monai-prostate158/input_data/"
      ],
      "metadata": {
        "id": "7W-2-1By8av8"
      },
      "execution_count": null,
      "outputs": []
    },
    {
      "cell_type": "markdown",
      "source": [
        "## Upload to dicom store"
      ],
      "metadata": {
        "id": "MJjACm6YRYj2"
      }
    },
    {
      "cell_type": "code",
      "execution_count": null,
      "metadata": {
        "colab": {
          "base_uri": "https://localhost:8080/"
        },
        "id": "5PMos8NSU5v5",
        "outputId": "7e36ae76-b688-4d4d-ffec-0a96235f284e"
      },
      "outputs": [
        {
          "output_type": "stream",
          "name": "stdout",
          "text": [
            "Request issued for: [pz_tz_monai_prostate158_2ServersIDC]\n",
            "name: projects/idc-sandbox-003/locations/us-central1/datasets/prostate-seg/dicomStores/pz_tz_monai_prostate158_2ServersIDC\n"
          ]
        }
      ],
      "source": [
        "!gcloud healthcare dicom-stores import gcs pz_tz_monai_prostate158_2ServersIDC \\\n",
        "                                            --dataset=prostate-seg \\\n",
        "                                            --location=us-central1 \\\n",
        "                                            --project=idc-sandbox-003 \\\n",
        "                                            --gcs-uri=gs://prostate-seg-use-case/monai-prostate158/preds/**.dcm"
      ]
    },
    {
      "cell_type": "markdown",
      "source": [
        "## Write to Big Query table"
      ],
      "metadata": {
        "id": "wNgZhCppRcYp"
      }
    },
    {
      "cell_type": "code",
      "source": [
        "eval_df[\"ohif_url\"] = eval_df.apply(add_ohif_url, args = [\"pz_tz_monai_prostate158_2ServersIDC\", \"prostate-seg\", \"fir-idc-prostate-ohif.web.app\", \"idc-sandbox-003\", \"us-central1\"], axis=1)\n",
        "eval_df[\"cloud_storage_path\"] = eval_df.apply(lambda x : \"/prostate-seg-use-case/monai-prostate158/preds/\", axis=1)"
      ],
      "metadata": {
        "id": "-PVUw1OZk3YP"
      },
      "execution_count": null,
      "outputs": []
    },
    {
      "cell_type": "code",
      "source": [
        "# Construct a BigQuery client object.\n",
        "bq_client = bigquery.Client(\"idc-sandbox-003\")\n",
        "table_id = \"idc-sandbox-003.prostate_mri_anatomy_monai.pz_segment\"#prostatex.whole_prostate_dcm_no_gt_final\"\n",
        "\n",
        "job = bq_client.load_table_from_dataframe(\n",
        "    eval_df, table_id\n",
        ")  # Make an API request.\n",
        "job.result()  # Wait for the job to complete.\n",
        "\n",
        "table = bq_client.get_table(table_id)  # Make an API request.\n",
        "print(\n",
        "    \"Loaded {} rows and {} columns to {}\".format(\n",
        "        table.num_rows, len(table.schema), table_id\n",
        "    )\n",
        ")"
      ],
      "metadata": {
        "colab": {
          "base_uri": "https://localhost:8080/"
        },
        "id": "SS1ZfbcZaI3N",
        "outputId": "5c8822b8-23f8-4382-c573-28cf4df881b5"
      },
      "execution_count": null,
      "outputs": [
        {
          "output_type": "stream",
          "name": "stderr",
          "text": [
            "/usr/local/lib/python3.7/dist-packages/google/cloud/bigquery/_pandas_helpers.py:275: UserWarning: Unable to determine type of column 'ReferencedSeriesInstanceUID'.\n",
            "  warnings.warn(u\"Unable to determine type of column '{}'.\".format(column))\n"
          ]
        },
        {
          "output_type": "stream",
          "name": "stdout",
          "text": [
            "Loaded 281 rows and 15 columns to idc-sandbox-003.prostatex.whole_prostate_dcm_no_gt_final\n"
          ]
        }
      ]
    },
    {
      "cell_type": "code",
      "source": [],
      "metadata": {
        "id": "zvx67e3c8aUn"
      },
      "execution_count": null,
      "outputs": []
    }
  ]
}