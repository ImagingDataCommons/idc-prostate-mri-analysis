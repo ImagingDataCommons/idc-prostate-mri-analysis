{
  "nbformat": 4,
  "nbformat_minor": 0,
  "metadata": {
    "colab": {
      "provenance": [],
      "collapsed_sections": [
        "BsVFBNAVtcv9",
        "L4c_etIu47pg"
      ],
      "authorship_tag": "ABX9TyN5Wa2j2xDHCKc+FSiHTvp9",
      "include_colab_link": true
    },
    "kernelspec": {
      "name": "python3",
      "display_name": "Python 3"
    },
    "language_info": {
      "name": "python"
    },
    "accelerator": "GPU",
    "gpuClass": "standard"
  },
  "cells": [
    {
      "cell_type": "markdown",
      "metadata": {
        "id": "view-in-github",
        "colab_type": "text"
      },
      "source": [
        "<a href=\"https://colab.research.google.com/github/ccosmin97/idc-prostate-mri-analysis/blob/main/main_monai_anatomy.ipynb\" target=\"_parent\"><img src=\"https://colab.research.google.com/assets/colab-badge.svg\" alt=\"Open In Colab\"/></a>"
      ]
    },
    {
      "cell_type": "markdown",
      "source": [
        "# Setup -- Restart runtime after execution"
      ],
      "metadata": {
        "id": "BsVFBNAVtcv9"
      }
    },
    {
      "cell_type": "code",
      "source": [
        "!pip install simpleitk\n",
        "!pip install -U \"monai[all]\" pyyaml munch pandas"
      ],
      "metadata": {
        "colab": {
          "base_uri": "https://localhost:8080/"
        },
        "id": "gLJvsUzw8CPj",
        "outputId": "a679367a-92c2-4325-baf7-962d9880b084"
      },
      "execution_count": null,
      "outputs": [
        {
          "output_type": "stream",
          "name": "stdout",
          "text": [
            "Looking in indexes: https://pypi.org/simple, https://us-python.pkg.dev/colab-wheels/public/simple/\n",
            "Collecting simpleitk\n",
            "  Downloading SimpleITK-2.2.1-cp38-cp38-manylinux_2_17_x86_64.manylinux2014_x86_64.whl (52.7 MB)\n",
            "\u001b[2K     \u001b[90m━━━━━━━━━━━━━━━━━━━━━━━━━━━━━━━━━━━━━━━━\u001b[0m \u001b[32m52.7/52.7 MB\u001b[0m \u001b[31m9.9 MB/s\u001b[0m eta \u001b[36m0:00:00\u001b[0m\n",
            "\u001b[?25hInstalling collected packages: simpleitk\n",
            "Successfully installed simpleitk-2.2.1\n",
            "Looking in indexes: https://pypi.org/simple, https://us-python.pkg.dev/colab-wheels/public/simple/\n",
            "Collecting monai[all]\n",
            "  Downloading monai-1.1.0-202212191849-py3-none-any.whl (1.2 MB)\n",
            "\u001b[2K     \u001b[90m━━━━━━━━━━━━━━━━━━━━━━━━━━━━━━━━━━━━━━━━\u001b[0m \u001b[32m1.2/1.2 MB\u001b[0m \u001b[31m11.6 MB/s\u001b[0m eta \u001b[36m0:00:00\u001b[0m\n",
            "\u001b[?25hRequirement already satisfied: pyyaml in /usr/local/lib/python3.8/dist-packages (6.0)\n",
            "Collecting munch\n",
            "  Downloading munch-2.5.0-py2.py3-none-any.whl (10 kB)\n",
            "Requirement already satisfied: pandas in /usr/local/lib/python3.8/dist-packages (1.3.5)\n",
            "Collecting pandas\n",
            "  Downloading pandas-1.5.2-cp38-cp38-manylinux_2_17_x86_64.manylinux2014_x86_64.whl (12.2 MB)\n",
            "\u001b[2K     \u001b[90m━━━━━━━━━━━━━━━━━━━━━━━━━━━━━━━━━━━━━━━━\u001b[0m \u001b[32m12.2/12.2 MB\u001b[0m \u001b[31m30.0 MB/s\u001b[0m eta \u001b[36m0:00:00\u001b[0m\n",
            "\u001b[?25hRequirement already satisfied: numpy>=1.17 in /usr/local/lib/python3.8/dist-packages (from monai[all]) (1.21.6)\n",
            "Requirement already satisfied: torch>=1.8 in /usr/local/lib/python3.8/dist-packages (from monai[all]) (1.13.1+cu116)\n",
            "Collecting pydicom\n",
            "  Downloading pydicom-2.3.1-py3-none-any.whl (2.0 MB)\n",
            "\u001b[2K     \u001b[90m━━━━━━━━━━━━━━━━━━━━━━━━━━━━━━━━━━━━━━━━\u001b[0m \u001b[32m2.0/2.0 MB\u001b[0m \u001b[31m29.4 MB/s\u001b[0m eta \u001b[36m0:00:00\u001b[0m\n",
            "\u001b[?25hCollecting pynrrd\n",
            "  Downloading pynrrd-1.0.0-py2.py3-none-any.whl (19 kB)\n",
            "Requirement already satisfied: nibabel in /usr/local/lib/python3.8/dist-packages (from monai[all]) (3.0.2)\n",
            "Requirement already satisfied: tifffile in /usr/local/lib/python3.8/dist-packages (from monai[all]) (2022.10.10)\n",
            "Requirement already satisfied: tqdm>=4.47.0 in /usr/local/lib/python3.8/dist-packages (from monai[all]) (4.64.1)\n",
            "Collecting imagecodecs\n",
            "  Downloading imagecodecs-2022.12.24-cp38-cp38-manylinux_2_17_x86_64.manylinux2014_x86_64.whl (36.4 MB)\n",
            "\u001b[2K     \u001b[90m━━━━━━━━━━━━━━━━━━━━━━━━━━━━━━━━━━━━━━━━\u001b[0m \u001b[32m36.4/36.4 MB\u001b[0m \u001b[31m15.1 MB/s\u001b[0m eta \u001b[36m0:00:00\u001b[0m\n",
            "\u001b[?25hCollecting pytorch-ignite==0.4.10\n",
            "  Downloading pytorch_ignite-0.4.10-py3-none-any.whl (264 kB)\n",
            "\u001b[2K     \u001b[90m━━━━━━━━━━━━━━━━━━━━━━━━━━━━━━━━━━━━━━\u001b[0m \u001b[32m264.1/264.1 KB\u001b[0m \u001b[31m13.2 MB/s\u001b[0m eta \u001b[36m0:00:00\u001b[0m\n",
            "\u001b[?25hRequirement already satisfied: tensorboard in /usr/local/lib/python3.8/dist-packages (from monai[all]) (2.9.1)\n",
            "Collecting itk>=5.2\n",
            "  Downloading itk-5.3.0-cp38-cp38-manylinux_2_28_x86_64.whl (8.3 kB)\n",
            "Collecting einops\n",
            "  Downloading einops-0.6.0-py3-none-any.whl (41 kB)\n",
            "\u001b[2K     \u001b[90m━━━━━━━━━━━━━━━━━━━━━━━━━━━━━━━━━━━━━━━━\u001b[0m \u001b[32m41.6/41.6 KB\u001b[0m \u001b[31m6.0 MB/s\u001b[0m eta \u001b[36m0:00:00\u001b[0m\n",
            "\u001b[?25hRequirement already satisfied: pillow in /usr/local/lib/python3.8/dist-packages (from monai[all]) (7.1.2)\n",
            "Collecting optuna\n",
            "  Downloading optuna-3.1.0-py3-none-any.whl (365 kB)\n",
            "\u001b[2K     \u001b[90m━━━━━━━━━━━━━━━━━━━━━━━━━━━━━━━━━━━━━━\u001b[0m \u001b[32m365.3/365.3 KB\u001b[0m \u001b[31m44.0 MB/s\u001b[0m eta \u001b[36m0:00:00\u001b[0m\n",
            "\u001b[?25hCollecting openslide-python==1.1.2\n",
            "  Downloading openslide-python-1.1.2.tar.gz (316 kB)\n",
            "\u001b[2K     \u001b[90m━━━━━━━━━━━━━━━━━━━━━━━━━━━━━━━━━━━━━━\u001b[0m \u001b[32m316.6/316.6 KB\u001b[0m \u001b[31m38.9 MB/s\u001b[0m eta \u001b[36m0:00:00\u001b[0m\n",
            "\u001b[?25h  Preparing metadata (setup.py) ... \u001b[?25l\u001b[?25hdone\n",
            "Collecting cucim>=22.8.1\n",
            "  Downloading cucim-22.12.0-py3-none-manylinux2014_x86_64.whl (8.6 MB)\n",
            "\u001b[2K     \u001b[90m━━━━━━━━━━━━━━━━━━━━━━━━━━━━━━━━━━━━━━━━\u001b[0m \u001b[32m8.6/8.6 MB\u001b[0m \u001b[31m108.6 MB/s\u001b[0m eta \u001b[36m0:00:00\u001b[0m\n",
            "\u001b[?25hRequirement already satisfied: lmdb in /usr/local/lib/python3.8/dist-packages (from monai[all]) (0.99)\n",
            "Collecting nni\n",
            "  Downloading nni-2.10-py3-none-manylinux1_x86_64.whl (56.0 MB)\n",
            "\u001b[2K     \u001b[90m━━━━━━━━━━━━━━━━━━━━━━━━━━━━━━━━━━━━━━━━\u001b[0m \u001b[32m56.0/56.0 MB\u001b[0m \u001b[31m13.4 MB/s\u001b[0m eta \u001b[36m0:00:00\u001b[0m\n",
            "\u001b[?25hCollecting ninja\n",
            "  Downloading ninja-1.11.1-py2.py3-none-manylinux_2_12_x86_64.manylinux2010_x86_64.whl (145 kB)\n",
            "\u001b[2K     \u001b[90m━━━━━━━━━━━━━━━━━━━━━━━━━━━━━━━━━━━━━━\u001b[0m \u001b[32m146.0/146.0 KB\u001b[0m \u001b[31m20.5 MB/s\u001b[0m eta \u001b[36m0:00:00\u001b[0m\n",
            "\u001b[?25hRequirement already satisfied: gdown>=4.4.0 in /usr/local/lib/python3.8/dist-packages (from monai[all]) (4.4.0)\n",
            "Requirement already satisfied: scikit-image>=0.14.2 in /usr/local/lib/python3.8/dist-packages (from monai[all]) (0.18.3)\n",
            "Collecting transformers<4.22\n",
            "  Downloading transformers-4.21.3-py3-none-any.whl (4.7 MB)\n",
            "\u001b[2K     \u001b[90m━━━━━━━━━━━━━━━━━━━━━━━━━━━━━━━━━━━━━━━━\u001b[0m \u001b[32m4.7/4.7 MB\u001b[0m \u001b[31m85.9 MB/s\u001b[0m eta \u001b[36m0:00:00\u001b[0m\n",
            "\u001b[?25hRequirement already satisfied: h5py in /usr/local/lib/python3.8/dist-packages (from monai[all]) (3.1.0)\n",
            "Collecting mlflow\n",
            "  Downloading mlflow-2.1.1-py3-none-any.whl (16.7 MB)\n",
            "\u001b[2K     \u001b[90m━━━━━━━━━━━━━━━━━━━━━━━━━━━━━━━━━━━━━━━━\u001b[0m \u001b[32m16.7/16.7 MB\u001b[0m \u001b[31m91.9 MB/s\u001b[0m eta \u001b[36m0:00:00\u001b[0m\n",
            "\u001b[?25hCollecting tensorboardX\n",
            "  Downloading tensorboardX-2.5.1-py2.py3-none-any.whl (125 kB)\n",
            "\u001b[2K     \u001b[90m━━━━━━━━━━━━━━━━━━━━━━━━━━━━━━━━━━━━━━\u001b[0m \u001b[32m125.4/125.4 KB\u001b[0m \u001b[31m18.8 MB/s\u001b[0m eta \u001b[36m0:00:00\u001b[0m\n",
            "\u001b[?25hCollecting fire\n",
            "  Downloading fire-0.5.0.tar.gz (88 kB)\n",
            "\u001b[2K     \u001b[90m━━━━━━━━━━━━━━━━━━━━━━━━━━━━━━━━━━━━━━━━\u001b[0m \u001b[32m88.3/88.3 KB\u001b[0m \u001b[31m12.8 MB/s\u001b[0m eta \u001b[36m0:00:00\u001b[0m\n",
            "\u001b[?25h  Preparing metadata (setup.py) ... \u001b[?25l\u001b[?25hdone\n",
            "Requirement already satisfied: psutil in /usr/local/lib/python3.8/dist-packages (from monai[all]) (5.4.8)\n",
            "Requirement already satisfied: matplotlib in /usr/local/lib/python3.8/dist-packages (from monai[all]) (3.2.2)\n",
            "Requirement already satisfied: torchvision in /usr/local/lib/python3.8/dist-packages (from monai[all]) (0.14.1+cu116)\n",
            "Requirement already satisfied: jsonschema in /usr/local/lib/python3.8/dist-packages (from monai[all]) (4.3.3)\n",
            "Requirement already satisfied: packaging in /usr/local/lib/python3.8/dist-packages (from pytorch-ignite==0.4.10->monai[all]) (21.3)\n",
            "Requirement already satisfied: six in /usr/local/lib/python3.8/dist-packages (from munch) (1.15.0)\n",
            "Requirement already satisfied: python-dateutil>=2.8.1 in /usr/local/lib/python3.8/dist-packages (from pandas) (2.8.2)\n",
            "Requirement already satisfied: pytz>=2020.1 in /usr/local/lib/python3.8/dist-packages (from pandas) (2022.7)\n",
            "Requirement already satisfied: click in /usr/local/lib/python3.8/dist-packages (from cucim>=22.8.1->monai[all]) (7.1.2)\n",
            "Requirement already satisfied: requests[socks] in /usr/local/lib/python3.8/dist-packages (from gdown>=4.4.0->monai[all]) (2.25.1)\n",
            "Requirement already satisfied: filelock in /usr/local/lib/python3.8/dist-packages (from gdown>=4.4.0->monai[all]) (3.9.0)\n",
            "Requirement already satisfied: beautifulsoup4 in /usr/local/lib/python3.8/dist-packages (from gdown>=4.4.0->monai[all]) (4.6.3)\n",
            "Collecting itk-io==5.3.0\n",
            "  Downloading itk_io-5.3.0-cp38-cp38-manylinux_2_28_x86_64.whl (25.6 MB)\n",
            "\u001b[2K     \u001b[90m━━━━━━━━━━━━━━━━━━━━━━━━━━━━━━━━━━━━━━━━\u001b[0m \u001b[32m25.6/25.6 MB\u001b[0m \u001b[31m64.8 MB/s\u001b[0m eta \u001b[36m0:00:00\u001b[0m\n",
            "\u001b[?25hCollecting itk-numerics==5.3.0\n",
            "  Downloading itk_numerics-5.3.0-cp38-cp38-manylinux_2_28_x86_64.whl (58.8 MB)\n",
            "\u001b[2K     \u001b[90m━━━━━━━━━━━━━━━━━━━━━━━━━━━━━━━━━━━━━━━━\u001b[0m \u001b[32m58.8/58.8 MB\u001b[0m \u001b[31m14.6 MB/s\u001b[0m eta \u001b[36m0:00:00\u001b[0m\n",
            "\u001b[?25hCollecting itk-segmentation==5.3.0\n",
            "  Downloading itk_segmentation-5.3.0-cp38-cp38-manylinux_2_28_x86_64.whl (16.5 MB)\n",
            "\u001b[2K     \u001b[90m━━━━━━━━━━━━━━━━━━━━━━━━━━━━━━━━━━━━━━━━\u001b[0m \u001b[32m16.5/16.5 MB\u001b[0m \u001b[31m87.2 MB/s\u001b[0m eta \u001b[36m0:00:00\u001b[0m\n",
            "\u001b[?25hCollecting itk-filtering==5.3.0\n",
            "  Downloading itk_filtering-5.3.0-cp38-cp38-manylinux_2_28_x86_64.whl (73.5 MB)\n",
            "\u001b[2K     \u001b[90m━━━━━━━━━━━━━━━━━━━━━━━━━━━━━━━━━━━━━━━━\u001b[0m \u001b[32m73.5/73.5 MB\u001b[0m \u001b[31m13.4 MB/s\u001b[0m eta \u001b[36m0:00:00\u001b[0m\n",
            "\u001b[?25hCollecting itk-core==5.3.0\n",
            "  Downloading itk_core-5.3.0-cp38-cp38-manylinux_2_28_x86_64.whl (81.2 MB)\n",
            "\u001b[2K     \u001b[90m━━━━━━━━━━━━━━━━━━━━━━━━━━━━━━━━━━━━━━━━\u001b[0m \u001b[32m81.2/81.2 MB\u001b[0m \u001b[31m12.4 MB/s\u001b[0m eta \u001b[36m0:00:00\u001b[0m\n",
            "\u001b[?25hCollecting itk-registration==5.3.0\n",
            "  Downloading itk_registration-5.3.0-cp38-cp38-manylinux_2_28_x86_64.whl (26.6 MB)\n",
            "\u001b[2K     \u001b[90m━━━━━━━━━━━━━━━━━━━━━━━━━━━━━━━━━━━━━━━━\u001b[0m \u001b[32m26.6/26.6 MB\u001b[0m \u001b[31m48.8 MB/s\u001b[0m eta \u001b[36m0:00:00\u001b[0m\n",
            "\u001b[?25hRequirement already satisfied: PyWavelets>=1.1.1 in /usr/local/lib/python3.8/dist-packages (from scikit-image>=0.14.2->monai[all]) (1.4.1)\n",
            "Requirement already satisfied: imageio>=2.3.0 in /usr/local/lib/python3.8/dist-packages (from scikit-image>=0.14.2->monai[all]) (2.9.0)\n",
            "Requirement already satisfied: networkx>=2.0 in /usr/local/lib/python3.8/dist-packages (from scikit-image>=0.14.2->monai[all]) (3.0)\n",
            "Requirement already satisfied: scipy>=1.0.1 in /usr/local/lib/python3.8/dist-packages (from scikit-image>=0.14.2->monai[all]) (1.7.3)\n",
            "Requirement already satisfied: pyparsing!=2.0.4,!=2.1.2,!=2.1.6,>=2.0.1 in /usr/local/lib/python3.8/dist-packages (from matplotlib->monai[all]) (3.0.9)\n",
            "Requirement already satisfied: cycler>=0.10 in /usr/local/lib/python3.8/dist-packages (from matplotlib->monai[all]) (0.11.0)\n",
            "Requirement already satisfied: kiwisolver>=1.0.1 in /usr/local/lib/python3.8/dist-packages (from matplotlib->monai[all]) (1.4.4)\n",
            "Requirement already satisfied: typing-extensions in /usr/local/lib/python3.8/dist-packages (from torch>=1.8->monai[all]) (4.4.0)\n",
            "Collecting tokenizers!=0.11.3,<0.13,>=0.11.1\n",
            "  Downloading tokenizers-0.12.1-cp38-cp38-manylinux_2_12_x86_64.manylinux2010_x86_64.whl (6.6 MB)\n",
            "\u001b[2K     \u001b[90m━━━━━━━━━━━━━━━━━━━━━━━━━━━━━━━━━━━━━━━━\u001b[0m \u001b[32m6.6/6.6 MB\u001b[0m \u001b[31m92.0 MB/s\u001b[0m eta \u001b[36m0:00:00\u001b[0m\n",
            "\u001b[?25hCollecting huggingface-hub<1.0,>=0.1.0\n",
            "  Downloading huggingface_hub-0.11.1-py3-none-any.whl (182 kB)\n",
            "\u001b[2K     \u001b[90m━━━━━━━━━━━━━━━━━━━━━━━━━━━━━━━━━━━━━━\u001b[0m \u001b[32m182.4/182.4 KB\u001b[0m \u001b[31m22.8 MB/s\u001b[0m eta \u001b[36m0:00:00\u001b[0m\n",
            "\u001b[?25hRequirement already satisfied: regex!=2019.12.17 in /usr/local/lib/python3.8/dist-packages (from transformers<4.22->monai[all]) (2022.6.2)\n",
            "Requirement already satisfied: termcolor in /usr/local/lib/python3.8/dist-packages (from fire->monai[all]) (2.2.0)\n",
            "Requirement already satisfied: importlib-resources>=1.4.0 in /usr/local/lib/python3.8/dist-packages (from jsonschema->monai[all]) (5.10.2)\n",
            "Requirement already satisfied: attrs>=17.4.0 in /usr/local/lib/python3.8/dist-packages (from jsonschema->monai[all]) (22.2.0)\n",
            "Requirement already satisfied: pyrsistent!=0.17.0,!=0.17.1,!=0.17.2,>=0.14.0 in /usr/local/lib/python3.8/dist-packages (from jsonschema->monai[all]) (0.19.3)\n",
            "Collecting gitpython<4,>=2.1.0\n",
            "  Downloading GitPython-3.1.30-py3-none-any.whl (184 kB)\n",
            "\u001b[2K     \u001b[90m━━━━━━━━━━━━━━━━━━━━━━━━━━━━━━━━━━━━━━\u001b[0m \u001b[32m184.0/184.0 KB\u001b[0m \u001b[31m27.0 MB/s\u001b[0m eta \u001b[36m0:00:00\u001b[0m\n",
            "\u001b[?25hRequirement already satisfied: cloudpickle<3 in /usr/local/lib/python3.8/dist-packages (from mlflow->monai[all]) (2.2.0)\n",
            "Requirement already satisfied: sqlparse<1,>=0.4.0 in /usr/local/lib/python3.8/dist-packages (from mlflow->monai[all]) (0.4.3)\n",
            "Requirement already satisfied: pyarrow<11,>=4.0.0 in /usr/local/lib/python3.8/dist-packages (from mlflow->monai[all]) (9.0.0)\n",
            "Requirement already satisfied: sqlalchemy<2,>=1.4.0 in /usr/local/lib/python3.8/dist-packages (from mlflow->monai[all]) (1.4.46)\n",
            "Requirement already satisfied: Flask<3 in /usr/local/lib/python3.8/dist-packages (from mlflow->monai[all]) (1.1.4)\n",
            "Requirement already satisfied: entrypoints<1 in /usr/local/lib/python3.8/dist-packages (from mlflow->monai[all]) (0.4)\n",
            "Collecting alembic<2\n",
            "  Downloading alembic-1.9.2-py3-none-any.whl (210 kB)\n",
            "\u001b[2K     \u001b[90m━━━━━━━━━━━━━━━━━━━━━━━━━━━━━━━━━━━━━━\u001b[0m \u001b[32m210.6/210.6 KB\u001b[0m \u001b[31m27.1 MB/s\u001b[0m eta \u001b[36m0:00:00\u001b[0m\n",
            "\u001b[?25hCollecting shap<1,>=0.40\n",
            "  Downloading shap-0.41.0-cp38-cp38-manylinux_2_12_x86_64.manylinux2010_x86_64.whl (575 kB)\n",
            "\u001b[2K     \u001b[90m━━━━━━━━━━━━━━━━━━━━━━━━━━━━━━━━━━━━━━\u001b[0m \u001b[32m575.9/575.9 KB\u001b[0m \u001b[31m58.0 MB/s\u001b[0m eta \u001b[36m0:00:00\u001b[0m\n",
            "\u001b[?25hCollecting databricks-cli<1,>=0.8.7\n",
            "  Downloading databricks-cli-0.17.4.tar.gz (82 kB)\n",
            "\u001b[2K     \u001b[90m━━━━━━━━━━━━━━━━━━━━━━━━━━━━━━━━━━━━━━━━\u001b[0m \u001b[32m82.3/82.3 KB\u001b[0m \u001b[31m14.3 MB/s\u001b[0m eta \u001b[36m0:00:00\u001b[0m\n",
            "\u001b[?25h  Preparing metadata (setup.py) ... \u001b[?25l\u001b[?25hdone\n",
            "Collecting docker<7,>=4.0.0\n",
            "  Downloading docker-6.0.1-py3-none-any.whl (147 kB)\n",
            "\u001b[2K     \u001b[90m━━━━━━━━━━━━━━━━━━━━━━━━━━━━━━━━━━━━━━\u001b[0m \u001b[32m147.5/147.5 KB\u001b[0m \u001b[31m19.6 MB/s\u001b[0m eta \u001b[36m0:00:00\u001b[0m\n",
            "\u001b[?25hRequirement already satisfied: protobuf<5,>=3.12.0 in /usr/local/lib/python3.8/dist-packages (from mlflow->monai[all]) (3.19.6)\n",
            "Requirement already satisfied: markdown<4,>=3.3 in /usr/local/lib/python3.8/dist-packages (from mlflow->monai[all]) (3.4.1)\n",
            "Requirement already satisfied: Jinja2<4,>=2.11 in /usr/local/lib/python3.8/dist-packages (from mlflow->monai[all]) (2.11.3)\n",
            "Requirement already satisfied: scikit-learn<2 in /usr/local/lib/python3.8/dist-packages (from mlflow->monai[all]) (1.0.2)\n",
            "Collecting importlib-metadata!=4.7.0,<6,>=3.7.0\n",
            "  Downloading importlib_metadata-5.2.0-py3-none-any.whl (21 kB)\n",
            "Collecting gunicorn<21\n",
            "  Downloading gunicorn-20.1.0-py3-none-any.whl (79 kB)\n",
            "\u001b[2K     \u001b[90m━━━━━━━━━━━━━━━━━━━━━━━━━━━━━━━━━━━━━━━━\u001b[0m \u001b[32m79.5/79.5 KB\u001b[0m \u001b[31m11.0 MB/s\u001b[0m eta \u001b[36m0:00:00\u001b[0m\n",
            "\u001b[?25hCollecting querystring-parser<2\n",
            "  Downloading querystring_parser-1.2.4-py2.py3-none-any.whl (7.9 kB)\n",
            "Collecting json-tricks>=3.15.5\n",
            "  Downloading json_tricks-3.16.1-py2.py3-none-any.whl (27 kB)\n",
            "Collecting websockets>=10.1\n",
            "  Downloading websockets-10.4-cp38-cp38-manylinux_2_5_x86_64.manylinux1_x86_64.manylinux_2_17_x86_64.manylinux2014_x86_64.whl (106 kB)\n",
            "\u001b[2K     \u001b[90m━━━━━━━━━━━━━━━━━━━━━━━━━━━━━━━━━━━━━━\u001b[0m \u001b[32m107.0/107.0 KB\u001b[0m \u001b[31m15.7 MB/s\u001b[0m eta \u001b[36m0:00:00\u001b[0m\n",
            "\u001b[?25hCollecting responses\n",
            "  Downloading responses-0.22.0-py3-none-any.whl (51 kB)\n",
            "\u001b[2K     \u001b[90m━━━━━━━━━━━━━━━━━━━━━━━━━━━━━━━━━━━━━━━━\u001b[0m \u001b[32m51.1/51.1 KB\u001b[0m \u001b[31m7.3 MB/s\u001b[0m eta \u001b[36m0:00:00\u001b[0m\n",
            "\u001b[?25hRequirement already satisfied: prettytable in /usr/local/lib/python3.8/dist-packages (from nni->monai[all]) (3.6.0)\n",
            "Collecting schema\n",
            "  Downloading schema-0.7.5-py2.py3-none-any.whl (17 kB)\n",
            "Collecting PythonWebHDFS\n",
            "  Downloading PythonWebHDFS-0.2.3-py3-none-any.whl (10 kB)\n",
            "Requirement already satisfied: astor in /usr/local/lib/python3.8/dist-packages (from nni->monai[all]) (0.8.1)\n",
            "Collecting colorama\n",
            "  Downloading colorama-0.4.6-py2.py3-none-any.whl (25 kB)\n",
            "Requirement already satisfied: typeguard in /usr/local/lib/python3.8/dist-packages (from nni->monai[all]) (2.7.1)\n",
            "Collecting cmaes>=0.9.1\n",
            "  Downloading cmaes-0.9.1-py3-none-any.whl (21 kB)\n",
            "Collecting colorlog\n",
            "  Downloading colorlog-6.7.0-py2.py3-none-any.whl (11 kB)\n",
            "Collecting nptyping\n",
            "  Downloading nptyping-2.4.1-py3-none-any.whl (36 kB)\n",
            "Requirement already satisfied: grpcio>=1.24.3 in /usr/local/lib/python3.8/dist-packages (from tensorboard->monai[all]) (1.51.1)\n",
            "Requirement already satisfied: google-auth-oauthlib<0.5,>=0.4.1 in /usr/local/lib/python3.8/dist-packages (from tensorboard->monai[all]) (0.4.6)\n",
            "Requirement already satisfied: tensorboard-data-server<0.7.0,>=0.6.0 in /usr/local/lib/python3.8/dist-packages (from tensorboard->monai[all]) (0.6.1)\n",
            "Requirement already satisfied: tensorboard-plugin-wit>=1.6.0 in /usr/local/lib/python3.8/dist-packages (from tensorboard->monai[all]) (1.8.1)\n",
            "Requirement already satisfied: setuptools>=41.0.0 in /usr/local/lib/python3.8/dist-packages (from tensorboard->monai[all]) (57.4.0)\n",
            "Requirement already satisfied: werkzeug>=1.0.1 in /usr/local/lib/python3.8/dist-packages (from tensorboard->monai[all]) (1.0.1)\n",
            "Requirement already satisfied: google-auth<3,>=1.6.3 in /usr/local/lib/python3.8/dist-packages (from tensorboard->monai[all]) (2.16.0)\n",
            "Requirement already satisfied: absl-py>=0.4 in /usr/local/lib/python3.8/dist-packages (from tensorboard->monai[all]) (1.3.0)\n",
            "Requirement already satisfied: wheel>=0.26 in /usr/local/lib/python3.8/dist-packages (from tensorboard->monai[all]) (0.38.4)\n",
            "Collecting Mako\n",
            "  Downloading Mako-1.2.4-py3-none-any.whl (78 kB)\n",
            "\u001b[2K     \u001b[90m━━━━━━━━━━━━━━━━━━━━━━━━━━━━━━━━━━━━━━━━\u001b[0m \u001b[32m78.7/78.7 KB\u001b[0m \u001b[31m12.3 MB/s\u001b[0m eta \u001b[36m0:00:00\u001b[0m\n",
            "\u001b[?25hCollecting pyjwt>=1.7.0\n",
            "  Downloading PyJWT-2.6.0-py3-none-any.whl (20 kB)\n",
            "Requirement already satisfied: oauthlib>=3.1.0 in /usr/local/lib/python3.8/dist-packages (from databricks-cli<1,>=0.8.7->mlflow->monai[all]) (3.2.2)\n",
            "Requirement already satisfied: tabulate>=0.7.7 in /usr/local/lib/python3.8/dist-packages (from databricks-cli<1,>=0.8.7->mlflow->monai[all]) (0.8.10)\n",
            "Collecting websocket-client>=0.32.0\n",
            "  Downloading websocket_client-1.4.2-py3-none-any.whl (55 kB)\n",
            "\u001b[2K     \u001b[90m━━━━━━━━━━━━━━━━━━━━━━━━━━━━━━━━━━━━━━━━\u001b[0m \u001b[32m55.3/55.3 KB\u001b[0m \u001b[31m8.5 MB/s\u001b[0m eta \u001b[36m0:00:00\u001b[0m\n",
            "\u001b[?25hCollecting urllib3>=1.26.0\n",
            "  Downloading urllib3-1.26.14-py2.py3-none-any.whl (140 kB)\n",
            "\u001b[2K     \u001b[90m━━━━━━━━━━━━━━━━━━━━━━━━━━━━━━━━━━━━━━\u001b[0m \u001b[32m140.6/140.6 KB\u001b[0m \u001b[31m19.9 MB/s\u001b[0m eta \u001b[36m0:00:00\u001b[0m\n",
            "\u001b[?25hCollecting requests\n",
            "  Downloading requests-2.28.2-py3-none-any.whl (62 kB)\n",
            "\u001b[2K     \u001b[90m━━━━━━━━━━━━━━━━━━━━━━━━━━━━━━━━━━━━━━━━\u001b[0m \u001b[32m62.8/62.8 KB\u001b[0m \u001b[31m8.9 MB/s\u001b[0m eta \u001b[36m0:00:00\u001b[0m\n",
            "\u001b[?25hRequirement already satisfied: itsdangerous<2.0,>=0.24 in /usr/local/lib/python3.8/dist-packages (from Flask<3->mlflow->monai[all]) (1.1.0)\n",
            "Collecting gitdb<5,>=4.0.1\n",
            "  Downloading gitdb-4.0.10-py3-none-any.whl (62 kB)\n",
            "\u001b[2K     \u001b[90m━━━━━━━━━━━━━━━━━━━━━━━━━━━━━━━━━━━━━━━━\u001b[0m \u001b[32m62.7/62.7 KB\u001b[0m \u001b[31m8.9 MB/s\u001b[0m eta \u001b[36m0:00:00\u001b[0m\n",
            "\u001b[?25hRequirement already satisfied: pyasn1-modules>=0.2.1 in /usr/local/lib/python3.8/dist-packages (from google-auth<3,>=1.6.3->tensorboard->monai[all]) (0.2.8)\n",
            "Requirement already satisfied: rsa<5,>=3.1.4 in /usr/local/lib/python3.8/dist-packages (from google-auth<3,>=1.6.3->tensorboard->monai[all]) (4.9)\n",
            "Requirement already satisfied: cachetools<6.0,>=2.0.0 in /usr/local/lib/python3.8/dist-packages (from google-auth<3,>=1.6.3->tensorboard->monai[all]) (5.2.1)\n",
            "Requirement already satisfied: requests-oauthlib>=0.7.0 in /usr/local/lib/python3.8/dist-packages (from google-auth-oauthlib<0.5,>=0.4.1->tensorboard->monai[all]) (1.3.1)\n",
            "Requirement already satisfied: zipp>=0.5 in /usr/local/lib/python3.8/dist-packages (from importlib-metadata!=4.7.0,<6,>=3.7.0->mlflow->monai[all]) (3.11.0)\n",
            "Requirement already satisfied: MarkupSafe>=0.23 in /usr/local/lib/python3.8/dist-packages (from Jinja2<4,>=2.11->mlflow->monai[all]) (2.0.1)\n",
            "Requirement already satisfied: certifi>=2017.4.17 in /usr/local/lib/python3.8/dist-packages (from requests->transformers<4.22->monai[all]) (2022.12.7)\n",
            "Requirement already satisfied: idna<4,>=2.5 in /usr/local/lib/python3.8/dist-packages (from requests->transformers<4.22->monai[all]) (2.10)\n",
            "Requirement already satisfied: charset-normalizer<4,>=2 in /usr/local/lib/python3.8/dist-packages (from requests->transformers<4.22->monai[all]) (2.1.1)\n",
            "Requirement already satisfied: threadpoolctl>=2.0.0 in /usr/local/lib/python3.8/dist-packages (from scikit-learn<2->mlflow->monai[all]) (3.1.0)\n",
            "Requirement already satisfied: joblib>=0.11 in /usr/local/lib/python3.8/dist-packages (from scikit-learn<2->mlflow->monai[all]) (1.2.0)\n",
            "Collecting slicer==0.0.7\n",
            "  Downloading slicer-0.0.7-py3-none-any.whl (14 kB)\n",
            "Requirement already satisfied: numba in /usr/local/lib/python3.8/dist-packages (from shap<1,>=0.40->mlflow->monai[all]) (0.56.4)\n",
            "Requirement already satisfied: greenlet!=0.4.17 in /usr/local/lib/python3.8/dist-packages (from sqlalchemy<2,>=1.4.0->mlflow->monai[all]) (2.0.1)\n",
            "Requirement already satisfied: wcwidth in /usr/local/lib/python3.8/dist-packages (from prettytable->nni->monai[all]) (0.2.5)\n",
            "Collecting simplejson\n",
            "  Downloading simplejson-3.18.1-cp38-cp38-manylinux_2_5_x86_64.manylinux1_x86_64.manylinux_2_17_x86_64.manylinux2014_x86_64.whl (135 kB)\n",
            "\u001b[2K     \u001b[90m━━━━━━━━━━━━━━━━━━━━━━━━━━━━━━━━━━━━━━\u001b[0m \u001b[32m135.5/135.5 KB\u001b[0m \u001b[31m19.8 MB/s\u001b[0m eta \u001b[36m0:00:00\u001b[0m\n",
            "\u001b[?25hRequirement already satisfied: PySocks!=1.5.7,>=1.5.6 in /usr/local/lib/python3.8/dist-packages (from requests->transformers<4.22->monai[all]) (1.7.1)\n",
            "Requirement already satisfied: toml in /usr/local/lib/python3.8/dist-packages (from responses->nni->monai[all]) (0.10.2)\n",
            "Collecting types-toml\n",
            "  Downloading types_toml-0.10.8.1-py3-none-any.whl (4.5 kB)\n",
            "Requirement already satisfied: contextlib2>=0.5.5 in /usr/local/lib/python3.8/dist-packages (from schema->nni->monai[all]) (0.5.5)\n",
            "Collecting smmap<6,>=3.0.1\n",
            "  Downloading smmap-5.0.0-py3-none-any.whl (24 kB)\n",
            "Requirement already satisfied: pyasn1<0.5.0,>=0.4.6 in /usr/local/lib/python3.8/dist-packages (from pyasn1-modules>=0.2.1->google-auth<3,>=1.6.3->tensorboard->monai[all]) (0.4.8)\n",
            "Requirement already satisfied: llvmlite<0.40,>=0.39.0dev0 in /usr/local/lib/python3.8/dist-packages (from numba->shap<1,>=0.40->mlflow->monai[all]) (0.39.1)\n",
            "Building wheels for collected packages: openslide-python, fire, databricks-cli\n",
            "  Building wheel for openslide-python (setup.py) ... \u001b[?25l\u001b[?25hdone\n",
            "  Created wheel for openslide-python: filename=openslide_python-1.1.2-cp38-cp38-linux_x86_64.whl size=27179 sha256=5f1fb2798fdbeb8a46259302ed8b73aae159eeb8a2792470fb43c0cdd09614d8\n",
            "  Stored in directory: /root/.cache/pip/wheels/54/f7/99/15df0aea11eefca84d990052a0133ead40443e8abe22d18a11\n",
            "  Building wheel for fire (setup.py) ... \u001b[?25l\u001b[?25hdone\n",
            "  Created wheel for fire: filename=fire-0.5.0-py2.py3-none-any.whl size=116949 sha256=3ed654832074ed1b6250eea2cf58e40df459ec930beb0b470aca85fc94a90e34\n",
            "  Stored in directory: /root/.cache/pip/wheels/5b/eb/43/7295e71293b218ddfd627f935229bf54af9018add7fbb5aac6\n",
            "  Building wheel for databricks-cli (setup.py) ... \u001b[?25l\u001b[?25hdone\n",
            "  Created wheel for databricks-cli: filename=databricks_cli-0.17.4-py3-none-any.whl size=142894 sha256=6399ede683d8d72b7df200f34813fa93f3f04ea067e8f7caf5fc6570e74d477e\n",
            "  Stored in directory: /root/.cache/pip/wheels/48/7c/6e/4bf2c1748c7ecf994ca951591de81674ed6bf633e1e337d873\n",
            "Successfully built openslide-python fire databricks-cli\n",
            "Installing collected packages: types-toml, tokenizers, ninja, json-tricks, websockets, websocket-client, urllib3, tensorboardX, smmap, slicer, simplejson, schema, querystring-parser, pyjwt, pydicom, openslide-python, nptyping, munch, Mako, itk-core, importlib-metadata, imagecodecs, gunicorn, fire, einops, cucim, colorlog, colorama, cmaes, requests, pytorch-ignite, pynrrd, pandas, monai, itk-numerics, itk-io, gitdb, alembic, shap, responses, PythonWebHDFS, optuna, itk-filtering, huggingface-hub, gitpython, docker, databricks-cli, transformers, nni, mlflow, itk-segmentation, itk-registration, itk\n",
            "  Attempting uninstall: urllib3\n",
            "    Found existing installation: urllib3 1.24.3\n",
            "    Uninstalling urllib3-1.24.3:\n",
            "      Successfully uninstalled urllib3-1.24.3\n",
            "  Attempting uninstall: importlib-metadata\n",
            "    Found existing installation: importlib-metadata 6.0.0\n",
            "    Uninstalling importlib-metadata-6.0.0:\n",
            "      Successfully uninstalled importlib-metadata-6.0.0\n",
            "  Attempting uninstall: requests\n",
            "    Found existing installation: requests 2.25.1\n",
            "    Uninstalling requests-2.25.1:\n",
            "      Successfully uninstalled requests-2.25.1\n",
            "  Attempting uninstall: pandas\n",
            "    Found existing installation: pandas 1.3.5\n",
            "    Uninstalling pandas-1.3.5:\n",
            "      Successfully uninstalled pandas-1.3.5\n",
            "Successfully installed Mako-1.2.4 PythonWebHDFS-0.2.3 alembic-1.9.2 cmaes-0.9.1 colorama-0.4.6 colorlog-6.7.0 cucim-22.12.0 databricks-cli-0.17.4 docker-6.0.1 einops-0.6.0 fire-0.5.0 gitdb-4.0.10 gitpython-3.1.30 gunicorn-20.1.0 huggingface-hub-0.11.1 imagecodecs-2022.12.24 importlib-metadata-5.2.0 itk-5.3.0 itk-core-5.3.0 itk-filtering-5.3.0 itk-io-5.3.0 itk-numerics-5.3.0 itk-registration-5.3.0 itk-segmentation-5.3.0 json-tricks-3.16.1 mlflow-2.1.1 monai-1.1.0 munch-2.5.0 ninja-1.11.1 nni-2.10 nptyping-2.4.1 openslide-python-1.1.2 optuna-3.1.0 pandas-1.5.2 pydicom-2.3.1 pyjwt-2.6.0 pynrrd-1.0.0 pytorch-ignite-0.4.10 querystring-parser-1.2.4 requests-2.28.2 responses-0.22.0 schema-0.7.5 shap-0.41.0 simplejson-3.18.1 slicer-0.0.7 smmap-5.0.0 tensorboardX-2.5.1 tokenizers-0.12.1 transformers-4.21.3 types-toml-0.10.8.1 urllib3-1.26.14 websocket-client-1.4.2 websockets-10.4\n"
          ]
        }
      ]
    },
    {
      "cell_type": "code",
      "source": [
        "%%capture\n",
        "!sudo apt update\n",
        "!sudo apt install plastimatch\n",
        "!sudo apt install subversion\n",
        "# PyPlastimatch - paython wrapper for Plastimatch (and interactive notebook visualisation)\n",
        "!svn checkout https://github.com/AIM-Harvard/pyplastimatch/trunk/pyplastimatch pyplastimatch"
      ],
      "metadata": {
        "id": "PLAz0irAo9sO"
      },
      "execution_count": null,
      "outputs": []
    },
    {
      "cell_type": "code",
      "source": [
        "!pip install protobuf==3.9.2\n",
        "!pip install grpcio\n",
        "!pip install grpcio-tools\n",
        "!pip install google-cloud-bigquery\n",
        "!pip install pydicom\n",
        "!pip install nibabel\n",
        "!pip install dcm2niix"
      ],
      "metadata": {
        "id": "vndgSnLYuEbc",
        "colab": {
          "base_uri": "https://localhost:8080/"
        },
        "outputId": "0e0879c5-7de4-4fa4-879a-f2fa17432faf"
      },
      "execution_count": null,
      "outputs": [
        {
          "output_type": "stream",
          "name": "stdout",
          "text": [
            "Looking in indexes: https://pypi.org/simple, https://us-python.pkg.dev/colab-wheels/public/simple/\n",
            "Collecting protobuf==3.9.2\n",
            "  Downloading protobuf-3.9.2-py2.py3-none-any.whl (431 kB)\n",
            "\u001b[2K     \u001b[90m━━━━━━━━━━━━━━━━━━━━━━━━━━━━━━━━━━━━━━━\u001b[0m \u001b[32m431.5/431.5 KB\u001b[0m \u001b[31m8.7 MB/s\u001b[0m eta \u001b[36m0:00:00\u001b[0m\n",
            "\u001b[?25hRequirement already satisfied: six>=1.9 in /usr/local/lib/python3.8/dist-packages (from protobuf==3.9.2) (1.15.0)\n",
            "Requirement already satisfied: setuptools in /usr/local/lib/python3.8/dist-packages (from protobuf==3.9.2) (57.4.0)\n",
            "Installing collected packages: protobuf\n",
            "  Attempting uninstall: protobuf\n",
            "    Found existing installation: protobuf 3.19.6\n",
            "    Uninstalling protobuf-3.19.6:\n",
            "      Successfully uninstalled protobuf-3.19.6\n",
            "\u001b[31mERROR: pip's dependency resolver does not currently take into account all the packages that are installed. This behaviour is the source of the following dependency conflicts.\n",
            "tensorflow-metadata 1.12.0 requires protobuf<4,>=3.13, but you have protobuf 3.9.2 which is incompatible.\n",
            "tensorflow-datasets 4.8.1 requires protobuf>=3.12.2, but you have protobuf 3.9.2 which is incompatible.\n",
            "proto-plus 1.22.2 requires protobuf<5.0.0dev,>=3.19.0, but you have protobuf 3.9.2 which is incompatible.\n",
            "mlflow 2.1.1 requires protobuf<5,>=3.12.0, but you have protobuf 3.9.2 which is incompatible.\n",
            "grpcio-status 1.48.2 requires protobuf>=3.12.0, but you have protobuf 3.9.2 which is incompatible.\n",
            "googleapis-common-protos 1.58.0 requires protobuf!=3.20.0,!=3.20.1,!=4.21.1,!=4.21.2,!=4.21.3,!=4.21.4,!=4.21.5,<5.0.0dev,>=3.19.5, but you have protobuf 3.9.2 which is incompatible.\n",
            "google-cloud-translate 3.8.4 requires protobuf!=3.20.0,!=3.20.1,!=4.21.0,!=4.21.1,!=4.21.2,!=4.21.3,!=4.21.4,!=4.21.5,<5.0.0dev,>=3.19.5, but you have protobuf 3.9.2 which is incompatible.\n",
            "google-cloud-language 2.6.1 requires protobuf!=3.20.0,!=3.20.1,!=4.21.0,!=4.21.1,!=4.21.2,!=4.21.3,!=4.21.4,!=4.21.5,<5.0.0dev,>=3.19.5, but you have protobuf 3.9.2 which is incompatible.\n",
            "google-cloud-firestore 2.7.3 requires protobuf!=3.20.0,!=3.20.1,!=4.21.0,!=4.21.1,!=4.21.2,!=4.21.3,!=4.21.4,!=4.21.5,<5.0.0dev,>=3.19.5, but you have protobuf 3.9.2 which is incompatible.\n",
            "google-cloud-datastore 2.11.1 requires protobuf!=3.20.0,!=3.20.1,!=4.21.0,!=4.21.1,!=4.21.2,!=4.21.3,!=4.21.4,!=4.21.5,<5.0.0dev,>=3.19.5, but you have protobuf 3.9.2 which is incompatible.\n",
            "google-cloud-bigquery 3.4.1 requires protobuf!=3.20.0,!=3.20.1,!=4.21.0,!=4.21.1,!=4.21.2,!=4.21.3,!=4.21.4,!=4.21.5,<5.0.0dev,>=3.19.5, but you have protobuf 3.9.2 which is incompatible.\n",
            "google-cloud-bigquery-storage 2.17.0 requires protobuf!=3.20.0,!=3.20.1,!=4.21.0,!=4.21.1,!=4.21.2,!=4.21.3,!=4.21.4,!=4.21.5,<5.0.0dev,>=3.19.5, but you have protobuf 3.9.2 which is incompatible.\n",
            "google-api-core 2.11.0 requires protobuf!=3.20.0,!=3.20.1,!=4.21.0,!=4.21.1,!=4.21.2,!=4.21.3,!=4.21.4,!=4.21.5,<5.0.0dev,>=3.19.5, but you have protobuf 3.9.2 which is incompatible.\u001b[0m\u001b[31m\n",
            "\u001b[0mSuccessfully installed protobuf-3.9.2\n",
            "Looking in indexes: https://pypi.org/simple, https://us-python.pkg.dev/colab-wheels/public/simple/\n",
            "Requirement already satisfied: grpcio in /usr/local/lib/python3.8/dist-packages (1.51.1)\n",
            "Looking in indexes: https://pypi.org/simple, https://us-python.pkg.dev/colab-wheels/public/simple/\n",
            "Collecting grpcio-tools\n",
            "  Downloading grpcio_tools-1.51.1-cp38-cp38-manylinux_2_17_x86_64.manylinux2014_x86_64.whl (2.4 MB)\n",
            "\u001b[2K     \u001b[90m━━━━━━━━━━━━━━━━━━━━━━━━━━━━━━━━━━━━━━━━\u001b[0m \u001b[32m2.4/2.4 MB\u001b[0m \u001b[31m27.0 MB/s\u001b[0m eta \u001b[36m0:00:00\u001b[0m\n",
            "\u001b[?25hRequirement already satisfied: setuptools in /usr/local/lib/python3.8/dist-packages (from grpcio-tools) (57.4.0)\n",
            "Requirement already satisfied: grpcio>=1.51.1 in /usr/local/lib/python3.8/dist-packages (from grpcio-tools) (1.51.1)\n",
            "Collecting protobuf<5.0dev,>=4.21.6\n",
            "  Downloading protobuf-4.21.12-cp37-abi3-manylinux2014_x86_64.whl (409 kB)\n",
            "\u001b[2K     \u001b[90m━━━━━━━━━━━━━━━━━━━━━━━━━━━━━━━━━━━━━━\u001b[0m \u001b[32m409.8/409.8 KB\u001b[0m \u001b[31m47.5 MB/s\u001b[0m eta \u001b[36m0:00:00\u001b[0m\n",
            "\u001b[?25hInstalling collected packages: protobuf, grpcio-tools\n",
            "  Attempting uninstall: protobuf\n",
            "    Found existing installation: protobuf 3.9.2\n",
            "    Uninstalling protobuf-3.9.2:\n",
            "      Successfully uninstalled protobuf-3.9.2\n",
            "\u001b[31mERROR: pip's dependency resolver does not currently take into account all the packages that are installed. This behaviour is the source of the following dependency conflicts.\n",
            "tensorflow 2.9.2 requires protobuf<3.20,>=3.9.2, but you have protobuf 4.21.12 which is incompatible.\n",
            "tensorflow-metadata 1.12.0 requires protobuf<4,>=3.13, but you have protobuf 4.21.12 which is incompatible.\n",
            "tensorboardx 2.5.1 requires protobuf<=3.20.1,>=3.8.0, but you have protobuf 4.21.12 which is incompatible.\n",
            "tensorboard 2.9.1 requires protobuf<3.20,>=3.9.2, but you have protobuf 4.21.12 which is incompatible.\u001b[0m\u001b[31m\n",
            "\u001b[0mSuccessfully installed grpcio-tools-1.51.1 protobuf-4.21.12\n",
            "Looking in indexes: https://pypi.org/simple, https://us-python.pkg.dev/colab-wheels/public/simple/\n",
            "Requirement already satisfied: google-cloud-bigquery in /usr/local/lib/python3.8/dist-packages (3.4.1)\n",
            "Requirement already satisfied: python-dateutil<3.0dev,>=2.7.2 in /usr/local/lib/python3.8/dist-packages (from google-cloud-bigquery) (2.8.2)\n",
            "Requirement already satisfied: google-api-core[grpc]!=2.0.*,!=2.1.*,!=2.2.*,!=2.3.0,<3.0.0dev,>=1.31.5 in /usr/local/lib/python3.8/dist-packages (from google-cloud-bigquery) (2.11.0)\n",
            "Requirement already satisfied: google-resumable-media<3.0dev,>=0.6.0 in /usr/local/lib/python3.8/dist-packages (from google-cloud-bigquery) (2.4.0)\n",
            "Requirement already satisfied: protobuf!=3.20.0,!=3.20.1,!=4.21.0,!=4.21.1,!=4.21.2,!=4.21.3,!=4.21.4,!=4.21.5,<5.0.0dev,>=3.19.5 in /usr/local/lib/python3.8/dist-packages (from google-cloud-bigquery) (4.21.12)\n",
            "Requirement already satisfied: requests<3.0.0dev,>=2.21.0 in /usr/local/lib/python3.8/dist-packages (from google-cloud-bigquery) (2.28.2)\n",
            "Requirement already satisfied: grpcio<2.0dev,>=1.47.0 in /usr/local/lib/python3.8/dist-packages (from google-cloud-bigquery) (1.51.1)\n",
            "Requirement already satisfied: proto-plus<2.0.0dev,>=1.15.0 in /usr/local/lib/python3.8/dist-packages (from google-cloud-bigquery) (1.22.2)\n",
            "Requirement already satisfied: packaging<22.0.0dev,>=14.3 in /usr/local/lib/python3.8/dist-packages (from google-cloud-bigquery) (21.3)\n",
            "Requirement already satisfied: google-cloud-core<3.0.0dev,>=1.4.1 in /usr/local/lib/python3.8/dist-packages (from google-cloud-bigquery) (2.3.2)\n",
            "Requirement already satisfied: google-auth<3.0dev,>=2.14.1 in /usr/local/lib/python3.8/dist-packages (from google-api-core[grpc]!=2.0.*,!=2.1.*,!=2.2.*,!=2.3.0,<3.0.0dev,>=1.31.5->google-cloud-bigquery) (2.16.0)\n",
            "Requirement already satisfied: googleapis-common-protos<2.0dev,>=1.56.2 in /usr/local/lib/python3.8/dist-packages (from google-api-core[grpc]!=2.0.*,!=2.1.*,!=2.2.*,!=2.3.0,<3.0.0dev,>=1.31.5->google-cloud-bigquery) (1.58.0)\n",
            "Requirement already satisfied: grpcio-status<2.0dev,>=1.33.2 in /usr/local/lib/python3.8/dist-packages (from google-api-core[grpc]!=2.0.*,!=2.1.*,!=2.2.*,!=2.3.0,<3.0.0dev,>=1.31.5->google-cloud-bigquery) (1.48.2)\n",
            "Requirement already satisfied: google-crc32c<2.0dev,>=1.0 in /usr/local/lib/python3.8/dist-packages (from google-resumable-media<3.0dev,>=0.6.0->google-cloud-bigquery) (1.5.0)\n",
            "Requirement already satisfied: pyparsing!=3.0.5,>=2.0.2 in /usr/local/lib/python3.8/dist-packages (from packaging<22.0.0dev,>=14.3->google-cloud-bigquery) (3.0.9)\n",
            "Requirement already satisfied: six>=1.5 in /usr/local/lib/python3.8/dist-packages (from python-dateutil<3.0dev,>=2.7.2->google-cloud-bigquery) (1.15.0)\n",
            "Requirement already satisfied: charset-normalizer<4,>=2 in /usr/local/lib/python3.8/dist-packages (from requests<3.0.0dev,>=2.21.0->google-cloud-bigquery) (2.1.1)\n",
            "Requirement already satisfied: idna<4,>=2.5 in /usr/local/lib/python3.8/dist-packages (from requests<3.0.0dev,>=2.21.0->google-cloud-bigquery) (2.10)\n",
            "Requirement already satisfied: certifi>=2017.4.17 in /usr/local/lib/python3.8/dist-packages (from requests<3.0.0dev,>=2.21.0->google-cloud-bigquery) (2022.12.7)\n",
            "Requirement already satisfied: urllib3<1.27,>=1.21.1 in /usr/local/lib/python3.8/dist-packages (from requests<3.0.0dev,>=2.21.0->google-cloud-bigquery) (1.26.14)\n",
            "Requirement already satisfied: cachetools<6.0,>=2.0.0 in /usr/local/lib/python3.8/dist-packages (from google-auth<3.0dev,>=2.14.1->google-api-core[grpc]!=2.0.*,!=2.1.*,!=2.2.*,!=2.3.0,<3.0.0dev,>=1.31.5->google-cloud-bigquery) (5.2.1)\n",
            "Requirement already satisfied: pyasn1-modules>=0.2.1 in /usr/local/lib/python3.8/dist-packages (from google-auth<3.0dev,>=2.14.1->google-api-core[grpc]!=2.0.*,!=2.1.*,!=2.2.*,!=2.3.0,<3.0.0dev,>=1.31.5->google-cloud-bigquery) (0.2.8)\n",
            "Requirement already satisfied: rsa<5,>=3.1.4 in /usr/local/lib/python3.8/dist-packages (from google-auth<3.0dev,>=2.14.1->google-api-core[grpc]!=2.0.*,!=2.1.*,!=2.2.*,!=2.3.0,<3.0.0dev,>=1.31.5->google-cloud-bigquery) (4.9)\n",
            "Requirement already satisfied: pyasn1<0.5.0,>=0.4.6 in /usr/local/lib/python3.8/dist-packages (from pyasn1-modules>=0.2.1->google-auth<3.0dev,>=2.14.1->google-api-core[grpc]!=2.0.*,!=2.1.*,!=2.2.*,!=2.3.0,<3.0.0dev,>=1.31.5->google-cloud-bigquery) (0.4.8)\n",
            "Looking in indexes: https://pypi.org/simple, https://us-python.pkg.dev/colab-wheels/public/simple/\n",
            "Requirement already satisfied: pydicom in /usr/local/lib/python3.8/dist-packages (2.3.1)\n",
            "Looking in indexes: https://pypi.org/simple, https://us-python.pkg.dev/colab-wheels/public/simple/\n",
            "Requirement already satisfied: nibabel in /usr/local/lib/python3.8/dist-packages (3.0.2)\n",
            "Requirement already satisfied: numpy>=1.12 in /usr/local/lib/python3.8/dist-packages (from nibabel) (1.21.6)\n",
            "Looking in indexes: https://pypi.org/simple, https://us-python.pkg.dev/colab-wheels/public/simple/\n",
            "Collecting dcm2niix\n",
            "  Downloading dcm2niix-1.0.20220715.tar.gz (451 kB)\n",
            "\u001b[2K     \u001b[90m━━━━━━━━━━━━━━━━━━━━━━━━━━━━━━━━━━━━━━━\u001b[0m \u001b[32m451.4/451.4 KB\u001b[0m \u001b[31m9.4 MB/s\u001b[0m eta \u001b[36m0:00:00\u001b[0m\n",
            "\u001b[?25h  Installing build dependencies ... \u001b[?25l\u001b[?25hdone\n",
            "  Getting requirements to build wheel ... \u001b[?25l\u001b[?25hdone\n",
            "  Preparing metadata (pyproject.toml) ... \u001b[?25l\u001b[?25hdone\n",
            "Collecting miutil[web]\n",
            "  Downloading miutil-0.10.1-py2.py3-none-any.whl (18 kB)\n",
            "Requirement already satisfied: tqdm>=4.40.0 in /usr/local/lib/python3.8/dist-packages (from miutil[web]->dcm2niix) (4.64.1)\n",
            "Requirement already satisfied: requests in /usr/local/lib/python3.8/dist-packages (from miutil[web]->dcm2niix) (2.28.2)\n",
            "Requirement already satisfied: certifi>=2017.4.17 in /usr/local/lib/python3.8/dist-packages (from requests->miutil[web]->dcm2niix) (2022.12.7)\n",
            "Requirement already satisfied: idna<4,>=2.5 in /usr/local/lib/python3.8/dist-packages (from requests->miutil[web]->dcm2niix) (2.10)\n",
            "Requirement already satisfied: urllib3<1.27,>=1.21.1 in /usr/local/lib/python3.8/dist-packages (from requests->miutil[web]->dcm2niix) (1.26.14)\n",
            "Requirement already satisfied: charset-normalizer<4,>=2 in /usr/local/lib/python3.8/dist-packages (from requests->miutil[web]->dcm2niix) (2.1.1)\n",
            "Building wheels for collected packages: dcm2niix\n",
            "  Building wheel for dcm2niix (pyproject.toml) ... \u001b[?25l\u001b[?25hdone\n",
            "  Created wheel for dcm2niix: filename=dcm2niix-1.0.20220715-cp38-cp38-linux_x86_64.whl size=576100 sha256=e9f196692f87834a3a5c3203e28802b8c369892960bf91edf49f93c59c647b9f\n",
            "  Stored in directory: /root/.cache/pip/wheels/6e/ad/be/de4334a6bec64465e158e35614ccbff0fbd9080f684c1daace\n",
            "Successfully built dcm2niix\n",
            "Installing collected packages: miutil, dcm2niix\n",
            "Successfully installed dcm2niix-1.0.20220715 miutil-0.10.1\n"
          ]
        }
      ]
    },
    {
      "cell_type": "code",
      "source": [
        "%%capture\n",
        "!sudo apt install subversion"
      ],
      "metadata": {
        "id": "ZAf3CR7XSckU"
      },
      "execution_count": null,
      "outputs": []
    },
    {
      "cell_type": "code",
      "execution_count": null,
      "metadata": {
        "id": "Z-nklfPd0zsW",
        "colab": {
          "base_uri": "https://localhost:8080/"
        },
        "outputId": "4642c214-51e0-4a6e-faeb-93166278799f"
      },
      "outputs": [
        {
          "output_type": "stream",
          "name": "stdout",
          "text": [
            "Cloning into 'dicomsort'...\n",
            "remote: Enumerating objects: 130, done.\u001b[K\n",
            "remote: Counting objects: 100% (4/4), done.\u001b[K\n",
            "remote: Compressing objects: 100% (4/4), done.\u001b[K\n",
            "remote: Total 130 (delta 0), reused 1 (delta 0), pack-reused 126\u001b[K\n",
            "Receiving objects: 100% (130/130), 44.12 KiB | 2.10 MiB/s, done.\n",
            "Resolving deltas: 100% (63/63), done.\n"
          ]
        }
      ],
      "source": [
        "# dicomsort is the pythong package that can sort DICOM files into\n",
        "# folder organization based on user-specified DICOM attributes\n",
        "!git clone https://github.com/pieper/dicomsort.git"
      ]
    },
    {
      "cell_type": "code",
      "source": [
        "%%capture\n",
        "!wget https://github.com/QIICR/dcmqi/releases/download/v1.2.5/dcmqi-1.2.5-linux.tar.gz \n",
        "!tar zxvf dcmqi-1.2.5-linux.tar.gz\n",
        "!cp dcmqi-1.2.5-linux/bin/* /usr/local/bin/"
      ],
      "metadata": {
        "id": "N94H1SsZS_fT"
      },
      "execution_count": null,
      "outputs": []
    },
    {
      "cell_type": "code",
      "source": [
        "!pip install 'itkwidgets>=1.0a16'"
      ],
      "metadata": {
        "colab": {
          "base_uri": "https://localhost:8080/"
        },
        "id": "HGW6Mjhzp4qs",
        "outputId": "e05a60b6-5aa9-47d0-9a24-d45239828930"
      },
      "execution_count": null,
      "outputs": [
        {
          "output_type": "stream",
          "name": "stdout",
          "text": [
            "Looking in indexes: https://pypi.org/simple, https://us-python.pkg.dev/colab-wheels/public/simple/\n",
            "Collecting itkwidgets>=1.0a16\n",
            "  Downloading itkwidgets-1.0a21-py3-none-any.whl (24 kB)\n",
            "Collecting numcodecs\n",
            "  Downloading numcodecs-0.11.0-cp38-cp38-manylinux_2_17_x86_64.manylinux2014_x86_64.whl (6.7 MB)\n",
            "\u001b[2K     \u001b[90m━━━━━━━━━━━━━━━━━━━━━━━━━━━━━━━━━━━━━━━━\u001b[0m \u001b[32m6.7/6.7 MB\u001b[0m \u001b[31m37.9 MB/s\u001b[0m eta \u001b[36m0:00:00\u001b[0m\n",
            "\u001b[?25hCollecting imjoy-utils>=0.1.2\n",
            "  Downloading imjoy_utils-0.1.2-py3-none-any.whl (5.3 kB)\n",
            "Collecting zarr\n",
            "  Downloading zarr-2.13.6-py3-none-any.whl (193 kB)\n",
            "\u001b[2K     \u001b[90m━━━━━━━━━━━━━━━━━━━━━━━━━━━━━━━━━━━━━━\u001b[0m \u001b[32m193.0/193.0 KB\u001b[0m \u001b[31m22.9 MB/s\u001b[0m eta \u001b[36m0:00:00\u001b[0m\n",
            "\u001b[?25hCollecting itkwasm>=1.0b1\n",
            "  Downloading itkwasm-1.0b1-py3-none-any.whl (7.0 kB)\n",
            "Collecting imjoy-rpc>=0.5.16\n",
            "  Downloading imjoy_rpc-0.5.16-py3-none-any.whl (58 kB)\n",
            "\u001b[2K     \u001b[90m━━━━━━━━━━━━━━━━━━━━━━━━━━━━━━━━━━━━━━━━\u001b[0m \u001b[32m58.1/58.1 KB\u001b[0m \u001b[31m7.2 MB/s\u001b[0m eta \u001b[36m0:00:00\u001b[0m\n",
            "\u001b[?25hCollecting ngff-zarr[dask-image]>=0.1.6\n",
            "  Downloading ngff_zarr-0.1.6-py3-none-any.whl (13 kB)\n",
            "Requirement already satisfied: websockets in /usr/local/lib/python3.8/dist-packages (from imjoy-rpc>=0.5.16->itkwidgets>=1.0a16) (10.4)\n",
            "Collecting shortuuid>=1.0.8\n",
            "  Downloading shortuuid-1.0.11-py3-none-any.whl (10 kB)\n",
            "Requirement already satisfied: msgpack>=1.0.2 in /usr/local/lib/python3.8/dist-packages (from imjoy-rpc>=0.5.16->itkwidgets>=1.0a16) (1.0.4)\n",
            "Requirement already satisfied: numpy in /usr/local/lib/python3.8/dist-packages (from itkwasm>=1.0b1->itkwidgets>=1.0a16) (1.21.6)\n",
            "Requirement already satisfied: typing-extensions in /usr/local/lib/python3.8/dist-packages (from ngff-zarr[dask-image]>=0.1.6->itkwidgets>=1.0a16) (4.4.0)\n",
            "Requirement already satisfied: dask[array] in /usr/local/lib/python3.8/dist-packages (from ngff-zarr[dask-image]>=0.1.6->itkwidgets>=1.0a16) (2022.2.1)\n",
            "Collecting dask-image\n",
            "  Downloading dask-image-2022.9.0.tar.gz (82 kB)\n",
            "\u001b[2K     \u001b[90m━━━━━━━━━━━━━━━━━━━━━━━━━━━━━━━━━━━━━━━━\u001b[0m \u001b[32m82.7/82.7 KB\u001b[0m \u001b[31m11.7 MB/s\u001b[0m eta \u001b[36m0:00:00\u001b[0m\n",
            "\u001b[?25h  Preparing metadata (setup.py) ... \u001b[?25l\u001b[?25hdone\n",
            "Requirement already satisfied: entrypoints in /usr/local/lib/python3.8/dist-packages (from numcodecs->itkwidgets>=1.0a16) (0.4)\n",
            "Collecting asciitree\n",
            "  Downloading asciitree-0.3.3.tar.gz (4.0 kB)\n",
            "  Preparing metadata (setup.py) ... \u001b[?25l\u001b[?25hdone\n",
            "Collecting fasteners\n",
            "  Downloading fasteners-0.18-py3-none-any.whl (18 kB)\n",
            "Requirement already satisfied: scipy>=0.19.1 in /usr/local/lib/python3.8/dist-packages (from dask-image->ngff-zarr[dask-image]>=0.1.6->itkwidgets>=1.0a16) (1.7.3)\n",
            "Collecting pims>=0.4.1\n",
            "  Downloading PIMS-0.6.1.tar.gz (86 kB)\n",
            "\u001b[2K     \u001b[90m━━━━━━━━━━━━━━━━━━━━━━━━━━━━━━━━━━━━━━━━\u001b[0m \u001b[32m86.0/86.0 KB\u001b[0m \u001b[31m13.6 MB/s\u001b[0m eta \u001b[36m0:00:00\u001b[0m\n",
            "\u001b[?25h  Preparing metadata (setup.py) ... \u001b[?25l\u001b[?25hdone\n",
            "Requirement already satisfied: pyyaml>=5.3.1 in /usr/local/lib/python3.8/dist-packages (from dask[array]->ngff-zarr[dask-image]>=0.1.6->itkwidgets>=1.0a16) (6.0)\n",
            "Requirement already satisfied: partd>=0.3.10 in /usr/local/lib/python3.8/dist-packages (from dask[array]->ngff-zarr[dask-image]>=0.1.6->itkwidgets>=1.0a16) (1.3.0)\n",
            "Requirement already satisfied: fsspec>=0.6.0 in /usr/local/lib/python3.8/dist-packages (from dask[array]->ngff-zarr[dask-image]>=0.1.6->itkwidgets>=1.0a16) (2022.11.0)\n",
            "Requirement already satisfied: packaging>=20.0 in /usr/local/lib/python3.8/dist-packages (from dask[array]->ngff-zarr[dask-image]>=0.1.6->itkwidgets>=1.0a16) (21.3)\n",
            "Requirement already satisfied: cloudpickle>=1.1.1 in /usr/local/lib/python3.8/dist-packages (from dask[array]->ngff-zarr[dask-image]>=0.1.6->itkwidgets>=1.0a16) (2.2.0)\n",
            "Requirement already satisfied: toolz>=0.8.2 in /usr/local/lib/python3.8/dist-packages (from dask[array]->ngff-zarr[dask-image]>=0.1.6->itkwidgets>=1.0a16) (0.12.0)\n",
            "Requirement already satisfied: pyparsing!=3.0.5,>=2.0.2 in /usr/local/lib/python3.8/dist-packages (from packaging>=20.0->dask[array]->ngff-zarr[dask-image]>=0.1.6->itkwidgets>=1.0a16) (3.0.9)\n",
            "Requirement already satisfied: locket in /usr/local/lib/python3.8/dist-packages (from partd>=0.3.10->dask[array]->ngff-zarr[dask-image]>=0.1.6->itkwidgets>=1.0a16) (1.0.0)\n",
            "Requirement already satisfied: imageio in /usr/local/lib/python3.8/dist-packages (from pims>=0.4.1->dask-image->ngff-zarr[dask-image]>=0.1.6->itkwidgets>=1.0a16) (2.9.0)\n",
            "Collecting slicerator>=0.9.8\n",
            "  Downloading slicerator-1.1.0-py3-none-any.whl (10 kB)\n",
            "Requirement already satisfied: pillow in /usr/local/lib/python3.8/dist-packages (from imageio->pims>=0.4.1->dask-image->ngff-zarr[dask-image]>=0.1.6->itkwidgets>=1.0a16) (7.1.2)\n",
            "Building wheels for collected packages: asciitree, dask-image, pims\n",
            "  Building wheel for asciitree (setup.py) ... \u001b[?25l\u001b[?25hdone\n",
            "  Created wheel for asciitree: filename=asciitree-0.3.3-py3-none-any.whl size=5050 sha256=d8d63ad8b8417eeb73d04c4dc888dd847f55adc39b375de5d478e745502cd16b\n",
            "  Stored in directory: /root/.cache/pip/wheels/a3/d7/75/19cd0d2a893cad4bb0b2b16dd572ad2916d19c0d5ee9612511\n",
            "  Building wheel for dask-image (setup.py) ... \u001b[?25l\u001b[?25hdone\n",
            "  Created wheel for dask-image: filename=dask_image-2022.9.0-py2.py3-none-any.whl size=41053 sha256=c7dbf446e4a21f04eba0b6f18e575ec40c9bc32029464e8568dcfac7932fe8b3\n",
            "  Stored in directory: /root/.cache/pip/wheels/1c/4e/15/f3d866f4869ff1a86d2b7fa532056f0e94fdab2448be7bd51c\n",
            "  Building wheel for pims (setup.py) ... \u001b[?25l\u001b[?25hdone\n",
            "  Created wheel for pims: filename=PIMS-0.6.1-py3-none-any.whl size=82635 sha256=d09310ef402d2ce0b4746ed23bad45306a4cc820050b8f4375d3fe874f19763a\n",
            "  Stored in directory: /root/.cache/pip/wheels/5c/bd/a9/9cede777cb4fcdd2ba712cdb0d0c9082aba544322eb5ad7af1\n",
            "Successfully built asciitree dask-image pims\n",
            "Installing collected packages: slicerator, asciitree, shortuuid, numcodecs, itkwasm, imjoy-utils, fasteners, zarr, pims, imjoy-rpc, ngff-zarr, dask-image, itkwidgets\n",
            "Successfully installed asciitree-0.3.3 dask-image-2022.9.0 fasteners-0.18 imjoy-rpc-0.5.16 imjoy-utils-0.1.2 itkwasm-1.0b1 itkwidgets-1.0a21 ngff-zarr-0.1.6 numcodecs-0.11.0 pims-0.6.1 shortuuid-1.0.11 slicerator-1.1.0 zarr-2.13.6\n"
          ]
        }
      ]
    },
    {
      "cell_type": "markdown",
      "source": [
        "# Monai setup and imports"
      ],
      "metadata": {
        "id": "lcN1DsBl4NRE"
      }
    },
    {
      "cell_type": "markdown",
      "source": [
        "Download monai bundle from github"
      ],
      "metadata": {
        "id": "tpLO_5VIcQjo"
      }
    },
    {
      "cell_type": "code",
      "source": [
        "# !svn checkout  https://github.com/AIM-Harvard/pyplastimatch/trunk/pyplastimatch\n",
        "!svn checkout https://github.com/Project-MONAI/model-zoo/trunk/models/prostate_mri_anatomy monai_prostate158/"
      ],
      "metadata": {
        "colab": {
          "base_uri": "https://localhost:8080/"
        },
        "id": "BHehn4isPGrb",
        "outputId": "ffdbfaf8-c640-4e42-b2ab-fdfcc2c825bf"
      },
      "execution_count": null,
      "outputs": [
        {
          "output_type": "stream",
          "name": "stdout",
          "text": [
            "A    monai_prostate158/LICENSE\n",
            "A    monai_prostate158/configs\n",
            "A    monai_prostate158/configs/inference.json\n",
            "A    monai_prostate158/configs/logging.conf\n",
            "A    monai_prostate158/configs/metadata.json\n",
            "A    monai_prostate158/configs/train.json\n",
            "A    monai_prostate158/docs\n",
            "A    monai_prostate158/docs/README.md\n",
            "A    monai_prostate158/large_files.yaml\n",
            "A    monai_prostate158/scripts\n",
            "A    monai_prostate158/scripts/center_crop.py\n",
            "Checked out revision 320.\n"
          ]
        }
      ]
    },
    {
      "cell_type": "markdown",
      "source": [
        "Imports"
      ],
      "metadata": {
        "id": "sDm_rg-FcT2i"
      }
    },
    {
      "cell_type": "code",
      "source": [
        "from pyplastimatch import pyplastimatch as pypla\n",
        "from pyplastimatch.utils import viz as viz_utils\n",
        "from pyplastimatch.utils import data as data_utils\n",
        "import nibabel as nib\n",
        "import numpy as np\n",
        "import pydicom\n",
        "import glob\n",
        "import pandas as pd\n",
        "import nibabel as nib\n",
        "import numpy as np\n",
        "import glob\n",
        "import os\n",
        "import json"
      ],
      "metadata": {
        "id": "rgdz9rbOODDE"
      },
      "execution_count": null,
      "outputs": []
    },
    {
      "cell_type": "markdown",
      "source": [
        "# CUSTOM FUNCTIONS"
      ],
      "metadata": {
        "id": "1fxJSj_60zsX"
      }
    },
    {
      "cell_type": "markdown",
      "source": [
        "Functions designed to retrieve segments information and resampling for evaluation only"
      ],
      "metadata": {
        "id": "K0H3Td6dcYLg"
      }
    },
    {
      "cell_type": "code",
      "source": [
        "def getLabelID_from_json(input_json, codeMeaning):#, codeValue):\n",
        "  #json obtained from dcmqi conversion to nifti\n",
        "  #get labelID corresponding to wanted codeMeaning string value \n",
        "  dic_dcm = json.load(open(input_json))\n",
        "  for index, seg in enumerate(dic_dcm['segmentAttributes']):\n",
        "    code_mean = seg[0].get('SegmentedPropertyTypeCodeSequence').get('CodeMeaning')\n",
        "    if code_mean == codeMeaning:\n",
        "      return seg[0].get('labelID')\n",
        "    else:\n",
        "      pass\n",
        "  return None"
      ],
      "metadata": {
        "id": "2YCh8evP0zsX"
      },
      "execution_count": null,
      "outputs": []
    },
    {
      "cell_type": "code",
      "source": [
        "def change_labelID(labelID : int, nii_file : str, output_path_dir : str):\n",
        "  #change labelID for nifti \n",
        "  #for further computation of dice score between reference segment and monai prediction\n",
        "  nii = nib.load(nii_file)\n",
        "  header = nii.header \n",
        "  img = nii.get_fdata() \n",
        "  ind = np.where(img!=0)\n",
        "  vol = np.zeros((img.shape))\n",
        "  vol[ind] = labelID\n",
        "  new_img = nib.Nifti1Image(vol, nii.affine, nii.header)\n",
        "  output_filename = os.path.join(output_path_dir, nii_file.split('/')[-1])#save in output dir + filename \n",
        "  nib.save(new_img, output_filename)"
      ],
      "metadata": {
        "id": "YZCHwcNsODDF"
      },
      "execution_count": null,
      "outputs": []
    },
    {
      "cell_type": "markdown",
      "source": [
        "Dataframe pre-processing functions"
      ],
      "metadata": {
        "id": "VHhCfZgndRDt"
      }
    },
    {
      "cell_type": "code",
      "source": [
        "def resample_label(row, col_label, col_image, out_folder_root):\n",
        "  #intended use with dataframe\n",
        "  #plastimatch resampling of reference segment with reference CT volume\n",
        "  out_nii = os.path.join(out_folder_root, row[col_label].split('/')[-1])\n",
        "  resample_args = {\"input\" : row[col_label],\n",
        "                   \"output\" : out_nii,\n",
        "                   \"fixed\" : row[col_image],\n",
        "                   \"interpolation\" : \"nn\"}\n",
        "  pypla.resample(verbose = True, **resample_args)\n",
        "  return out_nii"
      ],
      "metadata": {
        "id": "lC-mj2l8i-4Y"
      },
      "execution_count": null,
      "outputs": []
    },
    {
      "cell_type": "code",
      "source": [
        "def extract_pz_monai(row, col_label, out_folder_root):\n",
        "  #this bundle outputs two segments per nifti file \n",
        "  #extraction of peripheral zone segment\n",
        "  out_nii = os.path.join(out_folder_root, row[col_label].split('/')[-1])\n",
        "  nii_file = nib.load(row[col_label])\n",
        "  nii_header = nii_file.header\n",
        "  nii_data = nii_file.get_fdata()\n",
        "  nii_data[np.where(nii_data != 2)] = 0\n",
        "  nii_data[np.where(nii_data == 2)] = 1 #get pz label id from monai\n",
        "  out_img = nib.Nifti1Image(nii_data, nii_file.affine, nii_file.header)\n",
        "  nib.save(out_img, out_nii)\n",
        "  return out_nii"
      ],
      "metadata": {
        "id": "iSTPGOj3RhFj"
      },
      "execution_count": null,
      "outputs": []
    },
    {
      "cell_type": "code",
      "source": [
        "def compute_dice(row, col_pred, col_gt):\n",
        "  #computation of dice score\n",
        "  out_plast = !plastimatch dice --dice {row[col_gt]} {row[col_pred]}\n",
        "  dice_score = [el[1] for el in out_plast.fields() if \"DICE\" in el[0]][0]#formatting by plastimatch dice output, retrieve of DSC\n",
        "  return float(dice_score)"
      ],
      "metadata": {
        "id": "KDV_5w-1hYzw"
      },
      "execution_count": null,
      "outputs": []
    },
    {
      "cell_type": "code",
      "source": [
        "def add_ohif_url(row, datastore='test_datastore', \n",
        "                 dataset='prostate-seg', app='fir-idc-prostate-ohif.web.app', \n",
        "                 project='idc-sandbox-003', location='us-central1'):\n",
        "    studyUID = row['StudyInstanceUID']\n",
        "    return f'https://{app}/viewer/{studyUID}!secondGoogleServer=/projects/{project}/locations/{location}/datasets/{dataset}/dicomStores/{datastore}'"
      ],
      "metadata": {
        "id": "4xrw8jJRlAOK"
      },
      "execution_count": null,
      "outputs": []
    },
    {
      "cell_type": "markdown",
      "source": [
        "# Setup of IDC data"
      ],
      "metadata": {
        "id": "SInyLthPbj6K"
      }
    },
    {
      "cell_type": "markdown",
      "source": [
        "Colab imports"
      ],
      "metadata": {
        "id": "U8qUz2L_dVwd"
      }
    },
    {
      "cell_type": "code",
      "source": [
        "#colab \n",
        "from google.colab import auth\n",
        "from scipy import ndimage\n",
        "auth.authenticate_user()"
      ],
      "metadata": {
        "id": "yJ5FhUDcLTng"
      },
      "execution_count": null,
      "outputs": []
    },
    {
      "cell_type": "markdown",
      "source": [
        "Setup of GCP project ID"
      ],
      "metadata": {
        "id": "Y4qPXLpadXot"
      }
    },
    {
      "cell_type": "code",
      "source": [
        "project_id = \"idc-sandbox-003\"\n",
        "# os.environ[\"GCP_PROJECT_ID\"] = project_id"
      ],
      "metadata": {
        "id": "Ti7evK9nLXLa"
      },
      "execution_count": null,
      "outputs": []
    },
    {
      "cell_type": "markdown",
      "metadata": {
        "id": "ItDuO2zOODDB"
      },
      "source": [
        "## Data selection, downloading and structuring\n",
        "\n",
        "We want to select here the collection named qin-prostate repeatibility, and more particularly the two timepoints per patient ID for further analysis."
      ]
    },
    {
      "cell_type": "markdown",
      "source": [
        "Query by SeriesInstanceUID and collection and get corresponding segmentation objects"
      ],
      "metadata": {
        "id": "Yizmsfi8Qb95"
      }
    },
    {
      "cell_type": "code",
      "source": [
        "SeriesInstanceUID_lst = [\"1.3.6.1.4.1.14519.5.2.1.3671.4754.105976129314091491952445656147\"]"
      ],
      "metadata": {
        "id": "73qN95t1z56H"
      },
      "execution_count": null,
      "outputs": []
    },
    {
      "cell_type": "code",
      "source": [
        "from google.cloud import bigquery\n",
        "bq_client = bigquery.Client(project_id)\n",
        "selection_query = f\"\"\"\n",
        "WITH\n",
        "# studies that have mr volumes\n",
        "mr_studies AS(\n",
        "  SELECT\n",
        "    dicom_all_mr.SOPInstanceUID as SOPInstanceUID, \n",
        "    dicom_all_mr.StudyInstanceUID as StudyInstanceUID,\n",
        "    dicom_all_mr.SeriesInstanceUID as SeriesInstanceUID,\n",
        "    '' AS segPropertyTypeCodeMeaning, \n",
        "    '' AS segPropertyCategoryCodeMeaning,\n",
        "    (SELECT SeriesInstanceUID FROM UNNEST(dicom_all_mr.ReferencedSeriesSequence)) AS RefSerieUID \n",
        "  FROM\n",
        "    `bigquery-public-data.idc_current.dicom_all` as dicom_all_mr\n",
        "  WHERE\n",
        "    collection_id = 'qin_prostate_repeatability'\n",
        "    AND SeriesInstanceUID IN UNNEST(%s)),\n",
        "\n",
        "# studies that have segmentations for the whole prostate\n",
        "seg_studies AS (\n",
        "SELECT\n",
        "  dicom_all_seg.SOPInstanceUID as SOPInstanceUID,\n",
        "  dicom_all_seg.StudyInstanceUID as StudyInstanceUID,\n",
        "  segmentations.SegmentedPropertyType.CodeMeaning as segPropertyTypeCodeMeaning,\n",
        "  segmentations.SegmentedPropertyCategory.CodeMeaning as segPropertyCategoryCodeMeaning,\n",
        "  (SELECT SeriesInstanceUID FROM UNNEST(dicom_all_seg.ReferencedSeriesSequence)) AS RefSerieUID\n",
        "\n",
        "FROM\n",
        "  `bigquery-public-data.idc_current.dicom_all` AS dicom_all_seg\n",
        "JOIN\n",
        "  `bigquery-public-data.idc_current.segmentations` AS segmentations\n",
        "ON\n",
        "  dicom_all_seg.SOPInstanceUID = segmentations.SOPInstanceUID\n",
        "WHERE\n",
        "  collection_id = \"qin_prostate_repeatability\"\n",
        "AND \n",
        "  REGEXP_CONTAINS(segmentations.SegmentedPropertyType.CodeMeaning, r\".*Peripheral zone.*\")\n",
        "AND \n",
        "  segmentations.SegmentedPropertyCategory.CodeMeaning = 'Anatomical Structure'),\n",
        "\n",
        "union_mr_seg AS(\n",
        "  SELECT\n",
        "    seg_studies.SOPInstanceUID, \n",
        "    seg_studies.segPropertyTypeCodeMeaning, \n",
        "    seg_studies.segPropertyCategoryCodeMeaning, \n",
        "  FROM \n",
        "    seg_studies\n",
        "  JOIN\n",
        "    mr_studies\n",
        "  ON\n",
        "    seg_studies.RefSerieUID = mr_studies.SeriesInstanceUID\n",
        "  UNION ALL\n",
        "    SELECT\n",
        "    mr_studies.SOPInstanceUID, \n",
        "    mr_studies.segPropertyTypeCodeMeaning, \n",
        "    mr_studies.segPropertyCategoryCodeMeaning, \n",
        "  FROM \n",
        "    mr_studies)\n",
        "\n",
        "SELECT \n",
        "  DISTINCT(dc_all.SOPInstanceUID),\n",
        "  dc_all.gcs_url,\n",
        "  dc_all.SeriesInstanceUID, \n",
        "  dc_all.StudyInstanceUID,  \n",
        "  dc_all.PatientID,\n",
        "  dc_all.Modality, \n",
        "  dc_all.SeriesDescription,\n",
        "  union_mr_seg.segPropertyTypeCodeMeaning,\n",
        "  union_mr_seg.segPropertyCategoryCodeMeaning,\n",
        "  (SELECT SeriesInstanceUID FROM UNNEST(dc_all.ReferencedSeriesSequence)) AS RefSerieUID \n",
        "FROM \n",
        "  `bigquery-public-data.idc_v10.dicom_all` as dc_all\n",
        "INNER JOIN\n",
        "  union_mr_seg\n",
        "ON \n",
        "  dc_all.SOPInstanceUID = union_mr_seg.SOPInstanceUID\"\"\" % (SeriesInstanceUID_lst)\n",
        "\n",
        "\n",
        "selection_result = bq_client.query(selection_query)\n",
        "selection_df = selection_result.result().to_dataframe()"
      ],
      "metadata": {
        "id": "EJI9UA22QfJB"
      },
      "execution_count": null,
      "outputs": []
    },
    {
      "cell_type": "markdown",
      "source": [
        "Query by collection filling seriesdescription patterns and certain modality"
      ],
      "metadata": {
        "id": "-kxhBsHIOYv4"
      }
    },
    {
      "cell_type": "code",
      "execution_count": null,
      "metadata": {
        "id": "WofwneHQODDB"
      },
      "outputs": [],
      "source": [
        "# from google.cloud import bigquery\n",
        "# bq_client = bigquery.Client(\"idc-sandbox-003\")\n",
        "# selection_query = f\"\"\"\n",
        "# WITH\n",
        "# # studies that have mr volumes\n",
        "# mr_studies AS(\n",
        "#   SELECT\n",
        "#     dicom_all_mr.SOPInstanceUID as SOPInstanceUID, \n",
        "#     dicom_all_mr.StudyInstanceUID as StudyInstanceUID,\n",
        "#     dicom_all_mr.SeriesInstanceUID as SeriesInstanceUID,\n",
        "#     '' AS segPropertyTypeCodeMeaning, \n",
        "#     '' AS segPropertyCategoryCodeMeaning,\n",
        "#     (SELECT SeriesInstanceUID FROM UNNEST(dicom_all_mr.ReferencedSeriesSequence)) AS RefSerieUID \n",
        "#   FROM\n",
        "#     `bigquery-public-data.idc_current.dicom_all` as dicom_all_mr\n",
        "#   WHERE\n",
        "#     Modality = 'MR'\n",
        "#     AND collection_id = 'qin_prostate_repeatability'\n",
        "#     AND  REGEXP_CONTAINS(SeriesDescription, r\".*T2 Weighted Axial.*\")),\n",
        "# -- ),\n",
        "\n",
        " \n",
        "# # studies that have segmentations for the whole prostate\n",
        "# seg_studies AS (\n",
        "# SELECT\n",
        "#   dicom_all_seg.SOPInstanceUID as SOPInstanceUID,\n",
        "#   dicom_all_seg.StudyInstanceUID as StudyInstanceUID,\n",
        "#   segmentations.SegmentedPropertyType.CodeMeaning as segPropertyTypeCodeMeaning,\n",
        "#   segmentations.SegmentedPropertyCategory.CodeMeaning as segPropertyCategoryCodeMeaning,\n",
        "#   (SELECT SeriesInstanceUID FROM UNNEST(dicom_all_seg.ReferencedSeriesSequence)) AS RefSerieUID\n",
        "\n",
        "# FROM\n",
        "#   `bigquery-public-data.idc_current.dicom_all` AS dicom_all_seg\n",
        "# JOIN\n",
        "#   `bigquery-public-data.idc_current.segmentations` AS segmentations\n",
        "# ON\n",
        "#   dicom_all_seg.SOPInstanceUID = segmentations.SOPInstanceUID\n",
        "# WHERE\n",
        "#   collection_id = \"qin_prostate_repeatability\"\n",
        "# AND \n",
        "#   REGEXP_CONTAINS(segmentations.SegmentedPropertyType.CodeMeaning, r\".*Peripheral zone.*\")\n",
        "# AND \n",
        "#   segmentations.SegmentedPropertyCategory.CodeMeaning = 'Anatomical Structure'),\n",
        "\n",
        "# union_mr_seg AS(\n",
        "#   SELECT\n",
        "#     seg_studies.SOPInstanceUID, \n",
        "#     seg_studies.segPropertyTypeCodeMeaning, \n",
        "#     seg_studies.segPropertyCategoryCodeMeaning, \n",
        "#   FROM \n",
        "#     seg_studies\n",
        "#   JOIN\n",
        "#     mr_studies\n",
        "#   ON\n",
        "#     seg_studies.RefSerieUID = mr_studies.SeriesInstanceUID\n",
        "#   UNION ALL\n",
        "#     SELECT\n",
        "#     mr_studies.SOPInstanceUID, \n",
        "#     mr_studies.segPropertyTypeCodeMeaning, \n",
        "#     mr_studies.segPropertyCategoryCodeMeaning, \n",
        "#   FROM \n",
        "#     mr_studies)\n",
        "\n",
        "# SELECT \n",
        "#   DISTINCT(dc_all.SOPInstanceUID),\n",
        "#   dc_all.gcs_url,\n",
        "#   dc_all.SeriesInstanceUID, \n",
        "#   dc_all.StudyInstanceUID,  \n",
        "#   dc_all.PatientID,\n",
        "#   dc_all.Modality, \n",
        "#   dc_all.SeriesDescription,\n",
        "#   union_mr_seg.segPropertyTypeCodeMeaning,\n",
        "#   union_mr_seg.segPropertyCategoryCodeMeaning,\n",
        "#   (SELECT SeriesInstanceUID FROM UNNEST(dc_all.ReferencedSeriesSequence)) AS RefSerieUID \n",
        "# FROM \n",
        "#   `bigquery-public-data.idc_v10.dicom_all` as dc_all\n",
        "# INNER JOIN\n",
        "#   union_mr_seg\n",
        "# ON \n",
        "#   dc_all.SOPInstanceUID = union_mr_seg.SOPInstanceUID\"\"\" \n",
        "\n",
        "# selection_result = bq_client.query(selection_query)\n",
        "# selection_df = selection_result.result().to_dataframe()\n"
      ]
    },
    {
      "cell_type": "code",
      "source": [
        "selection_df.head(5)"
      ],
      "metadata": {
        "colab": {
          "base_uri": "https://localhost:8080/"
        },
        "outputId": "757c15ee-4859-4f71-c086-5c0a05e84ed2",
        "id": "YWOz--muODDB"
      },
      "execution_count": null,
      "outputs": [
        {
          "output_type": "execute_result",
          "data": {
            "text/plain": [
              "                                      SOPInstanceUID  \\\n",
              "0  1.3.6.1.4.1.14519.5.2.1.3671.4754.912876150654...   \n",
              "1  1.3.6.1.4.1.14519.5.2.1.3671.4754.223090850152...   \n",
              "2  1.3.6.1.4.1.14519.5.2.1.3671.4754.304718505192...   \n",
              "3  1.3.6.1.4.1.14519.5.2.1.3671.4754.235221964656...   \n",
              "4  1.3.6.1.4.1.14519.5.2.1.3671.4754.256365810328...   \n",
              "\n",
              "                                             gcs_url  \\\n",
              "0  gs://public-datasets-idc/f667774a-05b8-4d1f-b4...   \n",
              "1  gs://public-datasets-idc/f4b5bf23-26d8-4270-87...   \n",
              "2  gs://public-datasets-idc/0823955c-0a10-405d-91...   \n",
              "3  gs://public-datasets-idc/36da713a-bc0c-4da6-98...   \n",
              "4  gs://public-datasets-idc/8ec541c3-7059-44db-81...   \n",
              "\n",
              "                                   SeriesInstanceUID  \\\n",
              "0  1.3.6.1.4.1.14519.5.2.1.3671.4754.105976129314...   \n",
              "1  1.3.6.1.4.1.14519.5.2.1.3671.4754.105976129314...   \n",
              "2  1.3.6.1.4.1.14519.5.2.1.3671.4754.105976129314...   \n",
              "3  1.3.6.1.4.1.14519.5.2.1.3671.4754.105976129314...   \n",
              "4  1.3.6.1.4.1.14519.5.2.1.3671.4754.105976129314...   \n",
              "\n",
              "                                    StudyInstanceUID       PatientID Modality  \\\n",
              "0  1.3.6.1.4.1.14519.5.2.1.3671.4754.318227959935...  PCAMPMRI-00010       MR   \n",
              "1  1.3.6.1.4.1.14519.5.2.1.3671.4754.318227959935...  PCAMPMRI-00010       MR   \n",
              "2  1.3.6.1.4.1.14519.5.2.1.3671.4754.318227959935...  PCAMPMRI-00010       MR   \n",
              "3  1.3.6.1.4.1.14519.5.2.1.3671.4754.318227959935...  PCAMPMRI-00010       MR   \n",
              "4  1.3.6.1.4.1.14519.5.2.1.3671.4754.318227959935...  PCAMPMRI-00010       MR   \n",
              "\n",
              "   SeriesDescription segPropertyTypeCodeMeaning  \\\n",
              "0  T2 Weighted Axial                              \n",
              "1  T2 Weighted Axial                              \n",
              "2  T2 Weighted Axial                              \n",
              "3  T2 Weighted Axial                              \n",
              "4  T2 Weighted Axial                              \n",
              "\n",
              "  segPropertyCategoryCodeMeaning RefSerieUID  \n",
              "0                                       None  \n",
              "1                                       None  \n",
              "2                                       None  \n",
              "3                                       None  \n",
              "4                                       None  "
            ],
            "text/html": [
              "\n",
              "  <div id=\"df-042195c7-d6fc-43da-8777-191ef1f35c2d\">\n",
              "    <div class=\"colab-df-container\">\n",
              "      <div>\n",
              "<style scoped>\n",
              "    .dataframe tbody tr th:only-of-type {\n",
              "        vertical-align: middle;\n",
              "    }\n",
              "\n",
              "    .dataframe tbody tr th {\n",
              "        vertical-align: top;\n",
              "    }\n",
              "\n",
              "    .dataframe thead th {\n",
              "        text-align: right;\n",
              "    }\n",
              "</style>\n",
              "<table border=\"1\" class=\"dataframe\">\n",
              "  <thead>\n",
              "    <tr style=\"text-align: right;\">\n",
              "      <th></th>\n",
              "      <th>SOPInstanceUID</th>\n",
              "      <th>gcs_url</th>\n",
              "      <th>SeriesInstanceUID</th>\n",
              "      <th>StudyInstanceUID</th>\n",
              "      <th>PatientID</th>\n",
              "      <th>Modality</th>\n",
              "      <th>SeriesDescription</th>\n",
              "      <th>segPropertyTypeCodeMeaning</th>\n",
              "      <th>segPropertyCategoryCodeMeaning</th>\n",
              "      <th>RefSerieUID</th>\n",
              "    </tr>\n",
              "  </thead>\n",
              "  <tbody>\n",
              "    <tr>\n",
              "      <th>0</th>\n",
              "      <td>1.3.6.1.4.1.14519.5.2.1.3671.4754.912876150654...</td>\n",
              "      <td>gs://public-datasets-idc/f667774a-05b8-4d1f-b4...</td>\n",
              "      <td>1.3.6.1.4.1.14519.5.2.1.3671.4754.105976129314...</td>\n",
              "      <td>1.3.6.1.4.1.14519.5.2.1.3671.4754.318227959935...</td>\n",
              "      <td>PCAMPMRI-00010</td>\n",
              "      <td>MR</td>\n",
              "      <td>T2 Weighted Axial</td>\n",
              "      <td></td>\n",
              "      <td></td>\n",
              "      <td>None</td>\n",
              "    </tr>\n",
              "    <tr>\n",
              "      <th>1</th>\n",
              "      <td>1.3.6.1.4.1.14519.5.2.1.3671.4754.223090850152...</td>\n",
              "      <td>gs://public-datasets-idc/f4b5bf23-26d8-4270-87...</td>\n",
              "      <td>1.3.6.1.4.1.14519.5.2.1.3671.4754.105976129314...</td>\n",
              "      <td>1.3.6.1.4.1.14519.5.2.1.3671.4754.318227959935...</td>\n",
              "      <td>PCAMPMRI-00010</td>\n",
              "      <td>MR</td>\n",
              "      <td>T2 Weighted Axial</td>\n",
              "      <td></td>\n",
              "      <td></td>\n",
              "      <td>None</td>\n",
              "    </tr>\n",
              "    <tr>\n",
              "      <th>2</th>\n",
              "      <td>1.3.6.1.4.1.14519.5.2.1.3671.4754.304718505192...</td>\n",
              "      <td>gs://public-datasets-idc/0823955c-0a10-405d-91...</td>\n",
              "      <td>1.3.6.1.4.1.14519.5.2.1.3671.4754.105976129314...</td>\n",
              "      <td>1.3.6.1.4.1.14519.5.2.1.3671.4754.318227959935...</td>\n",
              "      <td>PCAMPMRI-00010</td>\n",
              "      <td>MR</td>\n",
              "      <td>T2 Weighted Axial</td>\n",
              "      <td></td>\n",
              "      <td></td>\n",
              "      <td>None</td>\n",
              "    </tr>\n",
              "    <tr>\n",
              "      <th>3</th>\n",
              "      <td>1.3.6.1.4.1.14519.5.2.1.3671.4754.235221964656...</td>\n",
              "      <td>gs://public-datasets-idc/36da713a-bc0c-4da6-98...</td>\n",
              "      <td>1.3.6.1.4.1.14519.5.2.1.3671.4754.105976129314...</td>\n",
              "      <td>1.3.6.1.4.1.14519.5.2.1.3671.4754.318227959935...</td>\n",
              "      <td>PCAMPMRI-00010</td>\n",
              "      <td>MR</td>\n",
              "      <td>T2 Weighted Axial</td>\n",
              "      <td></td>\n",
              "      <td></td>\n",
              "      <td>None</td>\n",
              "    </tr>\n",
              "    <tr>\n",
              "      <th>4</th>\n",
              "      <td>1.3.6.1.4.1.14519.5.2.1.3671.4754.256365810328...</td>\n",
              "      <td>gs://public-datasets-idc/8ec541c3-7059-44db-81...</td>\n",
              "      <td>1.3.6.1.4.1.14519.5.2.1.3671.4754.105976129314...</td>\n",
              "      <td>1.3.6.1.4.1.14519.5.2.1.3671.4754.318227959935...</td>\n",
              "      <td>PCAMPMRI-00010</td>\n",
              "      <td>MR</td>\n",
              "      <td>T2 Weighted Axial</td>\n",
              "      <td></td>\n",
              "      <td></td>\n",
              "      <td>None</td>\n",
              "    </tr>\n",
              "  </tbody>\n",
              "</table>\n",
              "</div>\n",
              "      <button class=\"colab-df-convert\" onclick=\"convertToInteractive('df-042195c7-d6fc-43da-8777-191ef1f35c2d')\"\n",
              "              title=\"Convert this dataframe to an interactive table.\"\n",
              "              style=\"display:none;\">\n",
              "        \n",
              "  <svg xmlns=\"http://www.w3.org/2000/svg\" height=\"24px\"viewBox=\"0 0 24 24\"\n",
              "       width=\"24px\">\n",
              "    <path d=\"M0 0h24v24H0V0z\" fill=\"none\"/>\n",
              "    <path d=\"M18.56 5.44l.94 2.06.94-2.06 2.06-.94-2.06-.94-.94-2.06-.94 2.06-2.06.94zm-11 1L8.5 8.5l.94-2.06 2.06-.94-2.06-.94L8.5 2.5l-.94 2.06-2.06.94zm10 10l.94 2.06.94-2.06 2.06-.94-2.06-.94-.94-2.06-.94 2.06-2.06.94z\"/><path d=\"M17.41 7.96l-1.37-1.37c-.4-.4-.92-.59-1.43-.59-.52 0-1.04.2-1.43.59L10.3 9.45l-7.72 7.72c-.78.78-.78 2.05 0 2.83L4 21.41c.39.39.9.59 1.41.59.51 0 1.02-.2 1.41-.59l7.78-7.78 2.81-2.81c.8-.78.8-2.07 0-2.86zM5.41 20L4 18.59l7.72-7.72 1.47 1.35L5.41 20z\"/>\n",
              "  </svg>\n",
              "      </button>\n",
              "      \n",
              "  <style>\n",
              "    .colab-df-container {\n",
              "      display:flex;\n",
              "      flex-wrap:wrap;\n",
              "      gap: 12px;\n",
              "    }\n",
              "\n",
              "    .colab-df-convert {\n",
              "      background-color: #E8F0FE;\n",
              "      border: none;\n",
              "      border-radius: 50%;\n",
              "      cursor: pointer;\n",
              "      display: none;\n",
              "      fill: #1967D2;\n",
              "      height: 32px;\n",
              "      padding: 0 0 0 0;\n",
              "      width: 32px;\n",
              "    }\n",
              "\n",
              "    .colab-df-convert:hover {\n",
              "      background-color: #E2EBFA;\n",
              "      box-shadow: 0px 1px 2px rgba(60, 64, 67, 0.3), 0px 1px 3px 1px rgba(60, 64, 67, 0.15);\n",
              "      fill: #174EA6;\n",
              "    }\n",
              "\n",
              "    [theme=dark] .colab-df-convert {\n",
              "      background-color: #3B4455;\n",
              "      fill: #D2E3FC;\n",
              "    }\n",
              "\n",
              "    [theme=dark] .colab-df-convert:hover {\n",
              "      background-color: #434B5C;\n",
              "      box-shadow: 0px 1px 3px 1px rgba(0, 0, 0, 0.15);\n",
              "      filter: drop-shadow(0px 1px 2px rgba(0, 0, 0, 0.3));\n",
              "      fill: #FFFFFF;\n",
              "    }\n",
              "  </style>\n",
              "\n",
              "      <script>\n",
              "        const buttonEl =\n",
              "          document.querySelector('#df-042195c7-d6fc-43da-8777-191ef1f35c2d button.colab-df-convert');\n",
              "        buttonEl.style.display =\n",
              "          google.colab.kernel.accessAllowed ? 'block' : 'none';\n",
              "\n",
              "        async function convertToInteractive(key) {\n",
              "          const element = document.querySelector('#df-042195c7-d6fc-43da-8777-191ef1f35c2d');\n",
              "          const dataTable =\n",
              "            await google.colab.kernel.invokeFunction('convertToInteractive',\n",
              "                                                     [key], {});\n",
              "          if (!dataTable) return;\n",
              "\n",
              "          const docLinkHtml = 'Like what you see? Visit the ' +\n",
              "            '<a target=\"_blank\" href=https://colab.research.google.com/notebooks/data_table.ipynb>data table notebook</a>'\n",
              "            + ' to learn more about interactive tables.';\n",
              "          element.innerHTML = '';\n",
              "          dataTable['output_type'] = 'display_data';\n",
              "          await google.colab.output.renderOutput(dataTable, element);\n",
              "          const docLink = document.createElement('div');\n",
              "          docLink.innerHTML = docLinkHtml;\n",
              "          element.appendChild(docLink);\n",
              "        }\n",
              "      </script>\n",
              "    </div>\n",
              "  </div>\n",
              "  "
            ]
          },
          "metadata": {},
          "execution_count": 13
        }
      ]
    },
    {
      "cell_type": "code",
      "source": [
        "selection_df.info()"
      ],
      "metadata": {
        "colab": {
          "base_uri": "https://localhost:8080/"
        },
        "id": "bEgJdM7yd70C",
        "outputId": "7a783d0e-b8fd-43d3-d2d6-a7721ceab44a"
      },
      "execution_count": null,
      "outputs": [
        {
          "output_type": "stream",
          "name": "stdout",
          "text": [
            "<class 'pandas.core.frame.DataFrame'>\n",
            "RangeIndex: 31 entries, 0 to 30\n",
            "Data columns (total 10 columns):\n",
            " #   Column                          Non-Null Count  Dtype \n",
            "---  ------                          --------------  ----- \n",
            " 0   SOPInstanceUID                  31 non-null     object\n",
            " 1   gcs_url                         31 non-null     object\n",
            " 2   SeriesInstanceUID               31 non-null     object\n",
            " 3   StudyInstanceUID                31 non-null     object\n",
            " 4   PatientID                       31 non-null     object\n",
            " 5   Modality                        31 non-null     object\n",
            " 6   SeriesDescription               31 non-null     object\n",
            " 7   segPropertyTypeCodeMeaning      31 non-null     object\n",
            " 8   segPropertyCategoryCodeMeaning  31 non-null     object\n",
            " 9   RefSerieUID                     1 non-null      object\n",
            "dtypes: object(10)\n",
            "memory usage: 2.5+ KB\n"
          ]
        }
      ]
    },
    {
      "cell_type": "code",
      "source": [
        "print(f\"Number of Studies selected :{len(selection_df.StudyInstanceUID.unique())}\")\n",
        "print(f\"Number of Series selected : {len(selection_df.SeriesInstanceUID.unique())}\")\n",
        "print(f\"Unique modalities selected : {selection_df.Modality.unique()}\")\n",
        "print(f\"Unique SeriesDescription selected : {selection_df.SeriesDescription.unique()}\")"
      ],
      "metadata": {
        "colab": {
          "base_uri": "https://localhost:8080/"
        },
        "outputId": "2fff3255-b6c5-44b5-e6a2-625482726412",
        "id": "grkt5weuODDB"
      },
      "execution_count": null,
      "outputs": [
        {
          "output_type": "stream",
          "name": "stdout",
          "text": [
            "Number of Studies selected :1\n",
            "Number of Series selected : 2\n",
            "Unique modalities selected : ['MR' 'SEG']\n",
            "Unique SeriesDescription selected : ['T2 Weighted Axial' 'T2 Weighted Axial Segmentations']\n"
          ]
        }
      ]
    },
    {
      "cell_type": "code",
      "execution_count": null,
      "metadata": {
        "colab": {
          "base_uri": "https://localhost:8080/"
        },
        "outputId": "97920f9a-f50e-4498-dad5-cdd6e2ba35e7",
        "id": "0p4QzougODDD"
      },
      "outputs": [
        {
          "output_type": "execute_result",
          "data": {
            "text/plain": [
              "array(['PCAMPMRI-00010'], dtype=object)"
            ]
          },
          "metadata": {},
          "execution_count": 16
        }
      ],
      "source": [
        "selection_df.PatientID.unique()"
      ]
    },
    {
      "cell_type": "markdown",
      "metadata": {
        "id": "2vS4zwcaODDD"
      },
      "source": [
        "### Download IDC Data from gcs urls"
      ]
    },
    {
      "cell_type": "markdown",
      "source": [
        "Create output folder for downloads"
      ],
      "metadata": {
        "id": "xcLMaGUzeAp8"
      }
    },
    {
      "cell_type": "code",
      "source": [
        "!mkdir -p IDC_Downloads"
      ],
      "metadata": {
        "id": "7X6vZLkLODDD"
      },
      "execution_count": null,
      "outputs": []
    },
    {
      "cell_type": "markdown",
      "source": [
        "Creation of manifest and saving of the list of GCS URLs into a file\n"
      ],
      "metadata": {
        "id": "ao10QMRMeE70"
      }
    },
    {
      "cell_type": "code",
      "execution_count": null,
      "metadata": {
        "id": "osSJqMmsODDD"
      },
      "outputs": [],
      "source": [
        "selection_manifest = os.path.join(\"IDC_Downloads\", \"idc_manifest.txt\")\n",
        "selection_df[\"gcs_url\"].to_csv(selection_manifest, header=False, index=False)"
      ]
    },
    {
      "cell_type": "code",
      "execution_count": null,
      "metadata": {
        "colab": {
          "base_uri": "https://localhost:8080/"
        },
        "outputId": "7646b456-9d21-41de-a593-d4d0caaaf3fa",
        "id": "VWYEcCLcODDD"
      },
      "outputs": [
        {
          "output_type": "stream",
          "name": "stdout",
          "text": [
            "     31      31    2046\n"
          ]
        }
      ],
      "source": [
        "# confirm the resulting manifest has as many lines as the number of rows in the\n",
        "# dataframe we initialized earlier\n",
        "!cat {selection_manifest} |wc"
      ]
    },
    {
      "cell_type": "markdown",
      "source": [
        "let's make sure the download folder is clean, in case you ran this cell earlier for a different dataset"
      ],
      "metadata": {
        "id": "iru620l7eOjv"
      }
    },
    {
      "cell_type": "code",
      "execution_count": null,
      "metadata": {
        "id": "k7H9pSkVODDD"
      },
      "outputs": [],
      "source": [
        "!rm -rf {os.environ[\"IDC_Downloads\"]+\"/*.dcm\"}"
      ]
    },
    {
      "cell_type": "code",
      "execution_count": null,
      "metadata": {
        "colab": {
          "base_uri": "https://localhost:8080/"
        },
        "outputId": "84c25714-e86a-4d18-871e-511952b591a5",
        "id": "M8Ww_hvFODDD"
      },
      "outputs": [
        {
          "output_type": "stream",
          "name": "stdout",
          "text": [
            "Copying gs://public-datasets-idc/f667774a-05b8-4d1f-b472-49dd3e0bdfc9.dcm...\n",
            "/ [0 files][    0.0 B/515.2 KiB]                                                \rCopying gs://public-datasets-idc/f4b5bf23-26d8-4270-8782-45f319383adc.dcm...\n",
            "/ [0 files][    0.0 B/  1.0 MiB]                                                \rCopying gs://public-datasets-idc/0823955c-0a10-405d-9177-4b39c07b0a75.dcm...\n",
            "Copying gs://public-datasets-idc/36da713a-bc0c-4da6-9882-9f8e488b6dac.dcm...\n",
            "Copying gs://public-datasets-idc/8ec541c3-7059-44db-815a-23c28abe36bc.dcm...\n",
            "Copying gs://public-datasets-idc/f626712a-2ad3-42e6-9048-68c35c3ed821.dcm...\n",
            "Copying gs://public-datasets-idc/a3c0440e-b2e3-436d-b713-f7a4d8ffdb4e.dcm...\n",
            "Copying gs://public-datasets-idc/1d4c42ca-d683-4c86-b188-2e8f49b9d94c.dcm...\n",
            "Copying gs://public-datasets-idc/5f7b2bd2-333e-46f8-b869-fcb70e29fcaf.dcm...\n",
            "Copying gs://public-datasets-idc/3e47c0eb-9a40-4f28-b787-e73f57bc2297.dcm...\n",
            "Copying gs://public-datasets-idc/7254b704-9074-41e1-b3c4-fc6babb5f65a.dcm...\n",
            "Copying gs://public-datasets-idc/51fdf382-38ea-46cf-8c52-14fb561bb839.dcm...\n",
            "Copying gs://public-datasets-idc/f670565f-f1a7-4596-ab87-0bf99d9211cb.dcm...\n",
            "Copying gs://public-datasets-idc/0a0f8327-962c-4ad7-9e99-c851e463b9b8.dcm...\n",
            "Copying gs://public-datasets-idc/41f960ef-66dc-4f09-a7a3-b7c5a23c0b18.dcm...\n",
            "Copying gs://public-datasets-idc/502bf65e-a8ea-4044-8141-054355beac65.dcm...\n",
            "Copying gs://public-datasets-idc/72d49b6b-ed71-493a-a720-cd8a21f662d2.dcm...\n",
            "Copying gs://public-datasets-idc/0bb4e38c-b8ef-4098-a442-8047d0742515.dcm...\n",
            "Copying gs://public-datasets-idc/56866f5f-1d17-48ed-8ed3-5218adc662b5.dcm...\n",
            "Copying gs://public-datasets-idc/003b0008-6560-49a4-86ad-9655ac6f71fa.dcm...\n",
            "Copying gs://public-datasets-idc/e94f4c14-c4ff-4eef-b126-e22fb4ac96cc.dcm...\n",
            "Copying gs://public-datasets-idc/b9fb43ff-28d8-4d60-980c-f4bb8de7618f.dcm...\n",
            "Copying gs://public-datasets-idc/6f075b10-a00b-44e1-9248-73b70681e097.dcm...\n",
            "Copying gs://public-datasets-idc/7fe3c59e-1cd3-4e17-bc99-951682e76a3b.dcm...\n",
            "Copying gs://public-datasets-idc/ca8ff1ff-846f-43ea-9fd0-172da4abc8e9.dcm...\n",
            "Copying gs://public-datasets-idc/318ee265-71ef-482d-92c2-9b6dab2094f7.dcm...\n",
            "Copying gs://public-datasets-idc/6b20267d-2a5c-44e4-906f-c28273c25cef.dcm...\n",
            "Copying gs://public-datasets-idc/7d8b8777-e615-41af-a792-9a61ba1c8775.dcm...\n",
            "Copying gs://public-datasets-idc/8bfe31ad-7498-4a89-9104-bf362f3a25bf.dcm...\n",
            "Copying gs://public-datasets-idc/72fbfaaa-e159-4201-b3a6-cfe51cb11ba7.dcm...\n",
            "Copying gs://public-datasets-idc/db7a806c-87e7-4721-b7bf-ecb03b143479.dcm...\n",
            "\\ [31/31 files][ 18.9 MiB/ 18.9 MiB] 100% Done                                  \n",
            "Operation completed over 31 objects/18.9 MiB.                                    \n"
          ]
        }
      ],
      "source": [
        "# download is this simple!\n",
        "\n",
        "!cat {selection_manifest} | gsutil -m cp -I IDC_Downloads"
      ]
    },
    {
      "cell_type": "markdown",
      "metadata": {
        "id": "5pLGWGo6ODDE"
      },
      "source": [
        "To facilitate preparation of the data, we will sort the downloaded files into the PatientID/StudyInstanceUID/SeriesInstanceUID hierarchy."
      ]
    },
    {
      "cell_type": "code",
      "source": [
        "!mkdir -p IDC_Downloads_Sorted"
      ],
      "metadata": {
        "id": "ox6HW2WyODDE"
      },
      "execution_count": null,
      "outputs": []
    },
    {
      "cell_type": "code",
      "execution_count": null,
      "metadata": {
        "colab": {
          "base_uri": "https://localhost:8080/"
        },
        "outputId": "4cd31f70-b8ac-4f1f-92d9-ea12dc6f94cf",
        "id": "YDEIIBmrODDE"
      },
      "outputs": [
        {
          "output_type": "stream",
          "name": "stdout",
          "text": [
            "\r  0% 0/32 [00:00<?, ?it/s]\r 25% 8/32 [00:00<00:00, 65.34it/s]\r100% 32/32 [00:00<00:00, 181.79it/s]\n",
            "Files sorted\n"
          ]
        }
      ],
      "source": [
        "!python dicomsort/dicomsort.py -k -u IDC_Downloads IDC_Downloads_Sorted/%PatientID/%StudyInstanceUID/%SeriesInstanceUID/%SOPInstanceUID.dcm"
      ]
    },
    {
      "cell_type": "markdown",
      "metadata": {
        "id": "elAyQEA-ODDE"
      },
      "source": [
        "Move the sorted data into the right place"
      ]
    },
    {
      "cell_type": "code",
      "source": [
        "#final sorted IDC DCM data output folder\n",
        "!mkdir -p dcm_data"
      ],
      "metadata": {
        "id": "otDj4m_YODDE"
      },
      "execution_count": null,
      "outputs": []
    },
    {
      "cell_type": "code",
      "execution_count": null,
      "metadata": {
        "id": "MxN4m9OxODDE"
      },
      "outputs": [],
      "source": [
        "!rm -rf dcm_data/* && mv IDC_Downloads_Sorted/* dcm_data/"
      ]
    },
    {
      "cell_type": "markdown",
      "source": [
        "Conversion of IDC DCM data to NIFTI format"
      ],
      "metadata": {
        "id": "OauXaqUreZj4"
      }
    },
    {
      "cell_type": "code",
      "source": [
        "!rm -rf nifti_idc\n",
        "!mkdir -p nifti_idc"
      ],
      "metadata": {
        "id": "mC84nnndODDE"
      },
      "execution_count": null,
      "outputs": []
    },
    {
      "cell_type": "code",
      "source": [
        "for study in sorted(glob.glob(os.path.join(\"dcm_data\", \"*\", \"*\"))): #studies in IDC DCM data folder : patID/study/serie/...\n",
        "  !mkdir -p nifti_idc/{study.split('/')[-1]}#creation of output folder\n",
        "  series_lst = sorted(glob.glob(os.path.join(study, \"*\")))#series list in study folder\n",
        "  for serie in series_lst:#iterate list of series for each study\n",
        "    if pydicom.dcmread(glob.glob(os.path.join(serie,\"*\"))[0]).Modality == \"SEG\": #seg dcm file based on modality tag / \n",
        "      print(f\"seg dcm {serie}\")\n",
        "      #conversion to nifti using platimatch\n",
        "      path_file_dcm_seg = glob.glob(serie+\"/*.dcm\")[0]#absolute path of dcm seg file\n",
        "      !mkdir -p nifti_idc/{study.split('/')[-1]} #creation of output path\n",
        "      !segimage2itkimage --inputDICOM $path_file_dcm_seg --outputDirectory nifti_idc/{study.split('/')[-1]} --outputType nii #conversion to nifti using plastimatch wrapper tool\n",
        "    elif pydicom.dcmread(glob.glob(os.path.join(serie,\"*\"))[0]).Modality == \"MR\": #T2 volume\n",
        "      print(\"image serie\")\n",
        "      print(serie)\n",
        "      !mkdir -p nifti_idc/{study.split('/')[-1]} #absolute path of dcm CT file\n",
        "      !dcm2niix -z y -m y -o  nifti_idc/{study.split('/')[-1]}/ $serie #conversion of T2 volume to nifti using dcm2niix tool\n",
        "    print()"
      ],
      "metadata": {
        "colab": {
          "base_uri": "https://localhost:8080/"
        },
        "outputId": "239bb336-75f0-4144-ec42-77f547996bd6",
        "id": "pxDkLC3VODDE"
      },
      "execution_count": null,
      "outputs": [
        {
          "output_type": "stream",
          "name": "stdout",
          "text": [
            "seg dcm dcm_data/PCAMPMRI-00010/1.3.6.1.4.1.14519.5.2.1.3671.4754.318227959935022390930294557376/1.2.276.0.7230010.3.1.3.1426846371.7872.1513205171.131\n",
            "dcmqi repository URL: git@github.com:QIICR/dcmqi.git revision: 1153738 tag: v1.2.5\n",
            "W: CodeValue (0008,0100) empty in CodeSequenceMacro (type 1C)\n",
            "Row direction: 0.999066 0.0430724 -0.00344915\n",
            "Col direction: -0.0427834 0.997223 0.0609655\n",
            "Z direction: 0.0060655 -0.060761 0.998134\n",
            "Total frames: 120\n",
            "Total frames with unique IPP: 30\n",
            "Total overlapping frames: 30\n",
            "Origin: [-86.4606, -39.8495, -148.412]\n",
            "\n",
            "image serie\n",
            "dcm_data/PCAMPMRI-00010/1.3.6.1.4.1.14519.5.2.1.3671.4754.318227959935022390930294557376/1.3.6.1.4.1.14519.5.2.1.3671.4754.105976129314091491952445656147\n",
            "Chris Rorden's dcm2niiX version v1.0.20220505  GCC9.4.0 x86-64 (64-bit Linux)\n",
            "Found 30 DICOM file(s)\n",
            "Convert 30 DICOM as nifti_idc/1.3.6.1.4.1.14519.5.2.1.3671.4754.318227959935022390930294557376/1.3.6.1.4.1.14519.5.2.1.3671.4754.105976129314091491952445656147_Prostate_With_e-coil_C-_19950709150441_6 (512x512x30x1)\n",
            "Conversion required 1.145453 seconds (1.139435 for core code).\n",
            "\n"
          ]
        }
      ]
    },
    {
      "cell_type": "markdown",
      "source": [
        "### Preprocessing : Take whole prostate segment -- change labelID to 1 and resample to reference T2 image"
      ],
      "metadata": {
        "id": "6bz-zWReODDE"
      }
    },
    {
      "cell_type": "markdown",
      "source": [
        "Creation of output folders"
      ],
      "metadata": {
        "id": "2XmTxlz4fS-n"
      }
    },
    {
      "cell_type": "code",
      "source": [
        "!rm -rf test_data_idc\n",
        "!mkdir test_data_idc"
      ],
      "metadata": {
        "id": "NUmR1A8tODDF"
      },
      "execution_count": null,
      "outputs": []
    },
    {
      "cell_type": "markdown",
      "source": [
        "Init of output dataframe for monai bundle inference"
      ],
      "metadata": {
        "id": "vzHT9kj9f2yX"
      }
    },
    {
      "cell_type": "code",
      "source": [
        "test_df = pd.DataFrame(columns=[\"t2\", \"t2_label\"])"
      ],
      "metadata": {
        "id": "16l2hQSxODDF"
      },
      "execution_count": null,
      "outputs": []
    },
    {
      "cell_type": "markdown",
      "source": [
        "Preprocessing happens below\n",
        "\n",
        "\n",
        "\n",
        "1.   Get peripheral zone ground-truth IDC segment from nifti idc data -- individuals nifti segments with metadata.json, cf. dcmqi \n",
        "2.   Resample of segmentation nifti files to reference T2 volume\n",
        "3.   ensure labelID = 1 for nifti ground-truth segments of peripheral zone  \n",
        "\n"
      ],
      "metadata": {
        "id": "9wDjIu0af8U5"
      }
    },
    {
      "cell_type": "code",
      "source": [
        "for json_meta in sorted(glob.glob(os.path.join(\"/content/nifti_idc\", \"*\", \"*meta.json\"))):\n",
        "  print(json_meta)# dcmqi metadata.json\n",
        "  codeMeaningProstate = \"Prostate\"\n",
        "  codeMeaningPZ = \"Peripheral zone of the prostate\"\n",
        "  labelIDPz = getLabelID_from_json(json_meta, codeMeaning=codeMeaningPZ)#labelID corresponding to peripheral zone, could be 1.nii.gz or 2.nii.gz,..\n",
        "  studyUID = json_meta.split('/')[-2]#retrieve studyUID from absolute path\n",
        "  nii_pz = glob.glob(f\"{'/'.join(json_meta.split('/')[:-1])}/{labelIDPz}.nii.gz\")[0]#absolute path of PZ IDC GT segment\n",
        "  nii_lst = glob.glob(os.path.join('/'.join(json_meta.split('/')[:-1]), \"*.nii.gz\"))#absolute path of nii files corresping to study\n",
        "  t2_image = [nii_file for nii_file in nii_lst if len(nii_file.split('/')[-1]) > 20][0]#quick hack to retrieve t2 image, better solution use metadata stored in dfs\n",
        "  print(t2_image)\n",
        "  print()\n",
        "  #same for pz\n",
        "  out_pz_nii = f\"{t2_image.split('/')[-1][:-7]}_pz.nii.gz\"#name of pz nifti file\n",
        "  out_pz_nii_path = os.path.join(\"test_data_idc\", out_pz_nii)#absolute path\n",
        "  resample_args = {\"input\" : nii_pz,\n",
        "                   \"output\" : out_pz_nii_path,\n",
        "                   \"fixed\" : t2_image,\n",
        "                   \"interpolation\" : \"nn\"}\n",
        "  #resample to t2 mod based on study -- not uniform across studies\n",
        "  pypla.resample(verbose = True, **resample_args)#resampling of pz idc segment to T2 ref volume\n",
        "  out_t2_image_path = os.path.join('test_data_idc', t2_image.split('/')[-1])\n",
        "  !cp $t2_image $out_t2_image_path #copy CT volume to test_data for monai bundle inference\n",
        "  test_df = test_df.append({\"t2\" : out_t2_image_path.split('/')[-1], \n",
        "                            \"t2_label\" : out_pz_nii}, ignore_index=True)#append t2, t2_label to dataframe used further for monai bundle inference\n",
        "  change_labelID(1, out_pz_nii_path, '/'.join(out_pz_nii_path.split('/')[:-1]))#change labelID to 1"
      ],
      "metadata": {
        "colab": {
          "base_uri": "https://localhost:8080/"
        },
        "outputId": "77d8fcac-a0f6-4f9f-d720-5dc36db2b9a0",
        "id": "JVMOrlPBODDH"
      },
      "execution_count": null,
      "outputs": [
        {
          "output_type": "stream",
          "name": "stdout",
          "text": [
            "/content/nifti_idc/1.3.6.1.4.1.14519.5.2.1.3671.4754.318227959935022390930294557376/meta.json\n",
            "/content/nifti_idc/1.3.6.1.4.1.14519.5.2.1.3671.4754.318227959935022390930294557376/1.3.6.1.4.1.14519.5.2.1.3671.4754.105976129314091491952445656147_Prostate_With_e-coil_C-_19950709150441_6.nii.gz\n",
            "\n",
            "\n",
            "Running 'plastimatch resample' with the specified arguments:\n",
            "  --input /content/nifti_idc/1.3.6.1.4.1.14519.5.2.1.3671.4754.318227959935022390930294557376/2.nii.gz\n",
            "  --output test_data_idc/1.3.6.1.4.1.14519.5.2.1.3671.4754.105976129314091491952445656147_Prostate_With_e-coil_C-_19950709150441_6_pz.nii.gz\n",
            "  --fixed /content/nifti_idc/1.3.6.1.4.1.14519.5.2.1.3671.4754.318227959935022390930294557376/1.3.6.1.4.1.14519.5.2.1.3671.4754.105976129314091491952445656147_Prostate_With_e-coil_C-_19950709150441_6.nii.gz\n",
            "  --interpolation nn\n",
            "... Done.\n"
          ]
        },
        {
          "output_type": "stream",
          "name": "stderr",
          "text": [
            "<ipython-input-30-fe7569fcc23f>:23: FutureWarning: The frame.append method is deprecated and will be removed from pandas in a future version. Use pandas.concat instead.\n",
            "  test_df = test_df.append({\"t2\" : out_t2_image_path.split('/')[-1],\n"
          ]
        }
      ]
    },
    {
      "cell_type": "code",
      "source": [
        "test_df.info()"
      ],
      "metadata": {
        "colab": {
          "base_uri": "https://localhost:8080/"
        },
        "outputId": "d4328b1d-8c50-4d0d-ad37-e90d0f9083db",
        "id": "5L5jTzB0ODDI"
      },
      "execution_count": null,
      "outputs": [
        {
          "output_type": "stream",
          "name": "stdout",
          "text": [
            "<class 'pandas.core.frame.DataFrame'>\n",
            "RangeIndex: 1 entries, 0 to 0\n",
            "Data columns (total 2 columns):\n",
            " #   Column    Non-Null Count  Dtype \n",
            "---  ------    --------------  ----- \n",
            " 0   t2        1 non-null      object\n",
            " 1   t2_label  1 non-null      object\n",
            "dtypes: object(2)\n",
            "memory usage: 144.0+ bytes\n"
          ]
        }
      ]
    },
    {
      "cell_type": "code",
      "source": [
        "test_df.head()"
      ],
      "metadata": {
        "colab": {
          "base_uri": "https://localhost:8080/"
        },
        "outputId": "314c1de2-0b81-4ad8-b3bc-0cf0ec8484dd",
        "id": "KKZ1eofPODDI"
      },
      "execution_count": null,
      "outputs": [
        {
          "output_type": "execute_result",
          "data": {
            "text/plain": [
              "                                                  t2  \\\n",
              "0  1.3.6.1.4.1.14519.5.2.1.3671.4754.105976129314...   \n",
              "\n",
              "                                            t2_label  \n",
              "0  1.3.6.1.4.1.14519.5.2.1.3671.4754.105976129314...  "
            ],
            "text/html": [
              "\n",
              "  <div id=\"df-a0ddd310-c391-497c-93c9-1e93af3e0424\">\n",
              "    <div class=\"colab-df-container\">\n",
              "      <div>\n",
              "<style scoped>\n",
              "    .dataframe tbody tr th:only-of-type {\n",
              "        vertical-align: middle;\n",
              "    }\n",
              "\n",
              "    .dataframe tbody tr th {\n",
              "        vertical-align: top;\n",
              "    }\n",
              "\n",
              "    .dataframe thead th {\n",
              "        text-align: right;\n",
              "    }\n",
              "</style>\n",
              "<table border=\"1\" class=\"dataframe\">\n",
              "  <thead>\n",
              "    <tr style=\"text-align: right;\">\n",
              "      <th></th>\n",
              "      <th>t2</th>\n",
              "      <th>t2_label</th>\n",
              "    </tr>\n",
              "  </thead>\n",
              "  <tbody>\n",
              "    <tr>\n",
              "      <th>0</th>\n",
              "      <td>1.3.6.1.4.1.14519.5.2.1.3671.4754.105976129314...</td>\n",
              "      <td>1.3.6.1.4.1.14519.5.2.1.3671.4754.105976129314...</td>\n",
              "    </tr>\n",
              "  </tbody>\n",
              "</table>\n",
              "</div>\n",
              "      <button class=\"colab-df-convert\" onclick=\"convertToInteractive('df-a0ddd310-c391-497c-93c9-1e93af3e0424')\"\n",
              "              title=\"Convert this dataframe to an interactive table.\"\n",
              "              style=\"display:none;\">\n",
              "        \n",
              "  <svg xmlns=\"http://www.w3.org/2000/svg\" height=\"24px\"viewBox=\"0 0 24 24\"\n",
              "       width=\"24px\">\n",
              "    <path d=\"M0 0h24v24H0V0z\" fill=\"none\"/>\n",
              "    <path d=\"M18.56 5.44l.94 2.06.94-2.06 2.06-.94-2.06-.94-.94-2.06-.94 2.06-2.06.94zm-11 1L8.5 8.5l.94-2.06 2.06-.94-2.06-.94L8.5 2.5l-.94 2.06-2.06.94zm10 10l.94 2.06.94-2.06 2.06-.94-2.06-.94-.94-2.06-.94 2.06-2.06.94z\"/><path d=\"M17.41 7.96l-1.37-1.37c-.4-.4-.92-.59-1.43-.59-.52 0-1.04.2-1.43.59L10.3 9.45l-7.72 7.72c-.78.78-.78 2.05 0 2.83L4 21.41c.39.39.9.59 1.41.59.51 0 1.02-.2 1.41-.59l7.78-7.78 2.81-2.81c.8-.78.8-2.07 0-2.86zM5.41 20L4 18.59l7.72-7.72 1.47 1.35L5.41 20z\"/>\n",
              "  </svg>\n",
              "      </button>\n",
              "      \n",
              "  <style>\n",
              "    .colab-df-container {\n",
              "      display:flex;\n",
              "      flex-wrap:wrap;\n",
              "      gap: 12px;\n",
              "    }\n",
              "\n",
              "    .colab-df-convert {\n",
              "      background-color: #E8F0FE;\n",
              "      border: none;\n",
              "      border-radius: 50%;\n",
              "      cursor: pointer;\n",
              "      display: none;\n",
              "      fill: #1967D2;\n",
              "      height: 32px;\n",
              "      padding: 0 0 0 0;\n",
              "      width: 32px;\n",
              "    }\n",
              "\n",
              "    .colab-df-convert:hover {\n",
              "      background-color: #E2EBFA;\n",
              "      box-shadow: 0px 1px 2px rgba(60, 64, 67, 0.3), 0px 1px 3px 1px rgba(60, 64, 67, 0.15);\n",
              "      fill: #174EA6;\n",
              "    }\n",
              "\n",
              "    [theme=dark] .colab-df-convert {\n",
              "      background-color: #3B4455;\n",
              "      fill: #D2E3FC;\n",
              "    }\n",
              "\n",
              "    [theme=dark] .colab-df-convert:hover {\n",
              "      background-color: #434B5C;\n",
              "      box-shadow: 0px 1px 3px 1px rgba(0, 0, 0, 0.15);\n",
              "      filter: drop-shadow(0px 1px 2px rgba(0, 0, 0, 0.3));\n",
              "      fill: #FFFFFF;\n",
              "    }\n",
              "  </style>\n",
              "\n",
              "      <script>\n",
              "        const buttonEl =\n",
              "          document.querySelector('#df-a0ddd310-c391-497c-93c9-1e93af3e0424 button.colab-df-convert');\n",
              "        buttonEl.style.display =\n",
              "          google.colab.kernel.accessAllowed ? 'block' : 'none';\n",
              "\n",
              "        async function convertToInteractive(key) {\n",
              "          const element = document.querySelector('#df-a0ddd310-c391-497c-93c9-1e93af3e0424');\n",
              "          const dataTable =\n",
              "            await google.colab.kernel.invokeFunction('convertToInteractive',\n",
              "                                                     [key], {});\n",
              "          if (!dataTable) return;\n",
              "\n",
              "          const docLinkHtml = 'Like what you see? Visit the ' +\n",
              "            '<a target=\"_blank\" href=https://colab.research.google.com/notebooks/data_table.ipynb>data table notebook</a>'\n",
              "            + ' to learn more about interactive tables.';\n",
              "          element.innerHTML = '';\n",
              "          dataTable['output_type'] = 'display_data';\n",
              "          await google.colab.output.renderOutput(dataTable, element);\n",
              "          const docLink = document.createElement('div');\n",
              "          docLink.innerHTML = docLinkHtml;\n",
              "          element.appendChild(docLink);\n",
              "        }\n",
              "      </script>\n",
              "    </div>\n",
              "  </div>\n",
              "  "
            ]
          },
          "metadata": {},
          "execution_count": 32
        }
      ]
    },
    {
      "cell_type": "markdown",
      "source": [
        "### Upload to google buckets -- monai prepared data\n",
        "\n",
        "Used for preparation of IDC data -- not useful for inference "
      ],
      "metadata": {
        "id": "RYjxtpaDODDI"
      }
    },
    {
      "cell_type": "markdown",
      "source": [
        "upload idc dcm data to bucket"
      ],
      "metadata": {
        "id": "IttbPE2ZfdCQ"
      }
    },
    {
      "cell_type": "code",
      "source": [
        "# !gsutil cp -r /content/test_data_idc gs://prostate-seg-monai/"
      ],
      "metadata": {
        "id": "cMVljD53ODDI"
      },
      "execution_count": null,
      "outputs": []
    },
    {
      "cell_type": "markdown",
      "source": [
        "upload monai metadata for t2 and t2 label paths"
      ],
      "metadata": {
        "id": "Zuei6ppmff6p"
      }
    },
    {
      "cell_type": "code",
      "source": [
        "# test_df.to_csv(\"test.csv\")\n",
        "# !gsutil cp  /content/test.csv gs://prostate-seg-monai/"
      ],
      "metadata": {
        "id": "Wp8_TEmqODDI"
      },
      "execution_count": null,
      "outputs": []
    },
    {
      "cell_type": "markdown",
      "source": [
        "copy idc prepared data to local workspace ready for monai bundle inference"
      ],
      "metadata": {
        "id": "QyLdLgaBfm6j"
      }
    },
    {
      "cell_type": "code",
      "source": [
        "# !gsutil cp -r gs://prostate-seg-monai/test_data_idc/* {os.environ[\"monai_workspace_dataset\"]}/\n",
        "# !gsutil cp -r gs://prostate-seg-monai/test.csv {os.environ[\"monai_workspace_dataset\"]}/"
      ],
      "metadata": {
        "id": "S4Qd6LmZIk8a"
      },
      "execution_count": null,
      "outputs": []
    },
    {
      "cell_type": "markdown",
      "source": [
        "# Run Monai inference"
      ],
      "metadata": {
        "id": "RuoaVb1Fzeeq"
      }
    },
    {
      "cell_type": "markdown",
      "source": [
        "## Setup of working directory for evalutation"
      ],
      "metadata": {
        "id": "crlbOe069qnD"
      }
    },
    {
      "cell_type": "code",
      "source": [
        "os.environ[\"monai_workspace\"] = \"monai_workspace\"\n",
        "os.environ[\"monai_workspace_eval\"] = os.path.join(os.environ[\"monai_workspace\"], \"eval/\")\n",
        "os.environ[\"monai_workspace_dataset\"] = os.path.join(os.environ[\"monai_workspace\"], \"dataset/\")\n",
        "os.environ[\"monai_workspace_model_dir\"] = os.path.join(os.environ[\"monai_workspace\"], \"models\")\n",
        "os.environ[\"monai_workspace_model_path\"] = os.path.join(os.environ[\"monai_workspace\"], \"models\", \"anatomy.pt\")"
      ],
      "metadata": {
        "id": "3Ov9CLFE9_JV"
      },
      "execution_count": null,
      "outputs": []
    },
    {
      "cell_type": "code",
      "source": [
        "!mkdir -p {os.environ[\"monai_workspace\"]}\n",
        "!mkdir -p {os.environ[\"monai_workspace_eval\"]}\n",
        "!mkdir -p {os.environ[\"monai_workspace_dataset\"]}\n",
        "!mkdir -p {os.environ[\"monai_workspace_model_dir\"]}"
      ],
      "metadata": {
        "id": "Vote_JKY93vT"
      },
      "execution_count": null,
      "outputs": []
    },
    {
      "cell_type": "markdown",
      "source": [
        "Copy/Downloads\n",
        "\n",
        "\n",
        "\n",
        "*   Copy of inference.json from monai bundle to custom workspace\n",
        "*   Download of anatomy.pt weights from zenodo\n",
        "\n"
      ],
      "metadata": {
        "id": "ciOxkWsshl2S"
      }
    },
    {
      "cell_type": "code",
      "source": [
        "!cp /content/monai_prostate158/configs/inference.json {os.environ[\"monai_workspace\"]}/inference.json\n",
        "!wget https://zenodo.org/record/7040585/files/anatomy.pt?download=1 -O {os.environ[\"monai_workspace_model_dir\"]}/anatomy.pt"
      ],
      "metadata": {
        "colab": {
          "base_uri": "https://localhost:8080/"
        },
        "id": "kXU4Nw47905V",
        "outputId": "002044a6-6ab7-4c3f-d367-19105af4cdbd"
      },
      "execution_count": null,
      "outputs": [
        {
          "output_type": "stream",
          "name": "stdout",
          "text": [
            "--2023-01-17 21:31:30--  https://zenodo.org/record/7040585/files/anatomy.pt?download=1\n",
            "Resolving zenodo.org (zenodo.org)... 188.185.124.72\n",
            "Connecting to zenodo.org (zenodo.org)|188.185.124.72|:443... connected.\n",
            "HTTP request sent, awaiting response... 200 OK\n",
            "Length: 152810901 (146M) [application/octet-stream]\n",
            "Saving to: ‘monai_workspace/models/anatomy.pt’\n",
            "\n",
            "monai_workspace/mod 100%[===================>] 145.73M  28.5MB/s    in 5.8s    \n",
            "\n",
            "2023-01-17 21:31:38 (25.2 MB/s) - ‘monai_workspace/models/anatomy.pt’ saved [152810901/152810901]\n",
            "\n"
          ]
        }
      ]
    },
    {
      "cell_type": "markdown",
      "source": [
        "Copy idc data and metadata csv to monai workspace "
      ],
      "metadata": {
        "id": "ss8UinEgXE6h"
      }
    },
    {
      "cell_type": "code",
      "source": [
        "!cp -r test_data_idc/* {os.environ[\"monai_workspace_dataset\"]}/\n",
        "test_df.to_csv(os.path.join(os.environ[\"monai_workspace_dataset\"], \"test.csv\"))"
      ],
      "metadata": {
        "id": "jRIua5J9XM2c"
      },
      "execution_count": null,
      "outputs": []
    },
    {
      "cell_type": "markdown",
      "source": [
        "Setup of inference.json parameters"
      ],
      "metadata": {
        "id": "oMwzuvQnh9bc"
      }
    },
    {
      "cell_type": "code",
      "source": [
        "inference_json = json.load(open(os.environ[\"monai_workspace\"]+\"/inference.json\"))\n",
        "#setup variables\n",
        "inference_json[\"bundle_root\"] = os.environ[\"monai_workspace\"]\n",
        "inference_json[\"output_dir\"] = os.environ[\"monai_workspace_eval\"]\n",
        "inference_json[\"dataset_dir\"] = os.environ[\"monai_workspace_dataset\"]\n",
        "inference_json[\"handlers\"][0][\"load_path\"] = os.environ[\"monai_workspace_model_path\"]\n",
        "inference_json[\"datalist\"] = \"$list(@dataset_dir + pd.read_csv(@dataset_dir + 'test.csv').t2)\""
      ],
      "metadata": {
        "id": "XD-BOU6v-79-"
      },
      "execution_count": null,
      "outputs": []
    },
    {
      "cell_type": "markdown",
      "source": [
        "Overriding of inference.json to local workspace"
      ],
      "metadata": {
        "id": "Euy1QBsgiBq1"
      }
    },
    {
      "cell_type": "code",
      "source": [
        "with open('/content/monai_workspace/inference.json', 'w') as fp:\n",
        "    json.dump(inference_json, fp)"
      ],
      "metadata": {
        "id": "9KcMdEHGb_AD"
      },
      "execution_count": null,
      "outputs": []
    },
    {
      "cell_type": "markdown",
      "source": [
        "## Inference"
      ],
      "metadata": {
        "id": "aUIxAQUpTwln"
      }
    },
    {
      "cell_type": "markdown",
      "source": [
        "Initialize monai configParser and import inference.json"
      ],
      "metadata": {
        "id": "F7wDSKKOiGlg"
      }
    },
    {
      "cell_type": "code",
      "source": [
        "from monai.bundle import ConfigParser, run\n",
        "config = ConfigParser()\n",
        "config.read_config(\"/content/monai_workspace/inference.json\")"
      ],
      "metadata": {
        "id": "vPIg6Db1QVZu"
      },
      "execution_count": null,
      "outputs": []
    },
    {
      "cell_type": "markdown",
      "source": [
        "Inference using monai bundle -- metadata.json provided from monai bundle, no change needed"
      ],
      "metadata": {
        "id": "kYAgsVT0iL2b"
      }
    },
    {
      "cell_type": "code",
      "source": [
        "!python -m monai.bundle run evaluating --meta_file /content/monai_prostate158/configs/metadata.json --config_file /content/monai_workspace/inference.json"
      ],
      "metadata": {
        "id": "G3gNEg1OlhAo",
        "colab": {
          "base_uri": "https://localhost:8080/"
        },
        "outputId": "45344124-db05-4e43-b05a-21f23b1166cf"
      },
      "execution_count": null,
      "outputs": [
        {
          "output_type": "stream",
          "name": "stdout",
          "text": [
            "2023-01-17 21:32:16,393 - INFO - --- input summary of monai.bundle.scripts.run ---\n",
            "2023-01-17 21:32:16,393 - INFO - > runner_id: 'evaluating'\n",
            "2023-01-17 21:32:16,393 - INFO - > meta_file: '/content/monai_prostate158/configs/metadata.json'\n",
            "2023-01-17 21:32:16,393 - INFO - > config_file: '/content/monai_workspace/inference.json'\n",
            "2023-01-17 21:32:16,393 - INFO - ---\n",
            "\n",
            "\n",
            "This DataLoader will create 4 worker processes in total. Our suggested max number of worker in current system is 2, which is smaller than what this DataLoader is going to create. Please be aware that excessive worker creation might get DataLoader running slow or even freeze, lower the worker number to avoid potential slowness/freeze if necessary.\n",
            "2023-01-17 21:32:22,029 - Engine run resuming from iteration 0, epoch 0 until 1 epochs\n",
            "2023-01-17 21:32:22,146 - Restored all variables from monai_workspace/models/anatomy.pt\n",
            "2023-01-17 21:32:45,003 INFO image_writer.py:194 - writing: monai_workspace/eval/1.3.6.1.4.1.14519.5.2.1.3671.4754.105976129314091491952445656147_Prostate_With_e-coil_C-_19950709150441_6/1.3.6.1.4.1.14519.5.2.1.3671.4754.105976129314091491952445656147_Prostate_With_e-coil_C-_19950709150441_6_trans.nii.gz\n",
            "2023-01-17 21:32:45,401 - Epoch[1] Complete. Time taken: 00:00:23.138\n",
            "2023-01-17 21:32:45,401 - Engine run complete. Time taken: 00:00:23.372\n",
            "[null, null]\n"
          ]
        }
      ]
    },
    {
      "cell_type": "markdown",
      "source": [
        "# Evaluation of monai data"
      ],
      "metadata": {
        "id": "_vHx5QXyz9Gs"
      }
    },
    {
      "cell_type": "markdown",
      "source": [
        "Setup folders for evaluation"
      ],
      "metadata": {
        "id": "0aXJSI8Xa3nA"
      }
    },
    {
      "cell_type": "code",
      "source": [
        "!mkdir -p data_resampled\n",
        "!mkdir -p data_resampled/images\n",
        "!mkdir -p data_resampled/ground_truth\n",
        "!mkdir -p data_resampled/monai_preds\n",
        "!mkdir -p data_resampled/monai_preds_pz"
      ],
      "metadata": {
        "id": "MCpPMRSbfAWS"
      },
      "execution_count": null,
      "outputs": []
    },
    {
      "cell_type": "markdown",
      "source": [
        "## Build up dataframe with added colums : \n",
        "\n",
        "\n",
        "1.   t2\n",
        "2.   t2_label_pz\n",
        "3.   t2_label_prostate\n",
        "4.   monai_pz\n"
      ],
      "metadata": {
        "id": "0a5b7k3Fz_5i"
      }
    },
    {
      "cell_type": "code",
      "source": [
        "eval_df = pd.read_csv('/content/monai_workspace/dataset/test.csv', index_col=0)"
      ],
      "metadata": {
        "id": "XEsrOC3ne_Kp"
      },
      "execution_count": null,
      "outputs": []
    },
    {
      "cell_type": "code",
      "source": [
        "eval_df.head()"
      ],
      "metadata": {
        "colab": {
          "base_uri": "https://localhost:8080/",
          "height": 81
        },
        "id": "aBzzD6XJfbJH",
        "outputId": "b1de4221-f5a2-4158-d2ea-1191510692af"
      },
      "execution_count": null,
      "outputs": [
        {
          "output_type": "execute_result",
          "data": {
            "text/plain": [
              "                                                  t2  \\\n",
              "0  1.3.6.1.4.1.14519.5.2.1.3671.4754.105976129314...   \n",
              "\n",
              "                                            t2_label  \n",
              "0  1.3.6.1.4.1.14519.5.2.1.3671.4754.105976129314...  "
            ],
            "text/html": [
              "\n",
              "  <div id=\"df-00afc64b-12a1-4b5e-8c34-ba979aedcf9d\">\n",
              "    <div class=\"colab-df-container\">\n",
              "      <div>\n",
              "<style scoped>\n",
              "    .dataframe tbody tr th:only-of-type {\n",
              "        vertical-align: middle;\n",
              "    }\n",
              "\n",
              "    .dataframe tbody tr th {\n",
              "        vertical-align: top;\n",
              "    }\n",
              "\n",
              "    .dataframe thead th {\n",
              "        text-align: right;\n",
              "    }\n",
              "</style>\n",
              "<table border=\"1\" class=\"dataframe\">\n",
              "  <thead>\n",
              "    <tr style=\"text-align: right;\">\n",
              "      <th></th>\n",
              "      <th>t2</th>\n",
              "      <th>t2_label</th>\n",
              "    </tr>\n",
              "  </thead>\n",
              "  <tbody>\n",
              "    <tr>\n",
              "      <th>0</th>\n",
              "      <td>1.3.6.1.4.1.14519.5.2.1.3671.4754.105976129314...</td>\n",
              "      <td>1.3.6.1.4.1.14519.5.2.1.3671.4754.105976129314...</td>\n",
              "    </tr>\n",
              "  </tbody>\n",
              "</table>\n",
              "</div>\n",
              "      <button class=\"colab-df-convert\" onclick=\"convertToInteractive('df-00afc64b-12a1-4b5e-8c34-ba979aedcf9d')\"\n",
              "              title=\"Convert this dataframe to an interactive table.\"\n",
              "              style=\"display:none;\">\n",
              "        \n",
              "  <svg xmlns=\"http://www.w3.org/2000/svg\" height=\"24px\"viewBox=\"0 0 24 24\"\n",
              "       width=\"24px\">\n",
              "    <path d=\"M0 0h24v24H0V0z\" fill=\"none\"/>\n",
              "    <path d=\"M18.56 5.44l.94 2.06.94-2.06 2.06-.94-2.06-.94-.94-2.06-.94 2.06-2.06.94zm-11 1L8.5 8.5l.94-2.06 2.06-.94-2.06-.94L8.5 2.5l-.94 2.06-2.06.94zm10 10l.94 2.06.94-2.06 2.06-.94-2.06-.94-.94-2.06-.94 2.06-2.06.94z\"/><path d=\"M17.41 7.96l-1.37-1.37c-.4-.4-.92-.59-1.43-.59-.52 0-1.04.2-1.43.59L10.3 9.45l-7.72 7.72c-.78.78-.78 2.05 0 2.83L4 21.41c.39.39.9.59 1.41.59.51 0 1.02-.2 1.41-.59l7.78-7.78 2.81-2.81c.8-.78.8-2.07 0-2.86zM5.41 20L4 18.59l7.72-7.72 1.47 1.35L5.41 20z\"/>\n",
              "  </svg>\n",
              "      </button>\n",
              "      \n",
              "  <style>\n",
              "    .colab-df-container {\n",
              "      display:flex;\n",
              "      flex-wrap:wrap;\n",
              "      gap: 12px;\n",
              "    }\n",
              "\n",
              "    .colab-df-convert {\n",
              "      background-color: #E8F0FE;\n",
              "      border: none;\n",
              "      border-radius: 50%;\n",
              "      cursor: pointer;\n",
              "      display: none;\n",
              "      fill: #1967D2;\n",
              "      height: 32px;\n",
              "      padding: 0 0 0 0;\n",
              "      width: 32px;\n",
              "    }\n",
              "\n",
              "    .colab-df-convert:hover {\n",
              "      background-color: #E2EBFA;\n",
              "      box-shadow: 0px 1px 2px rgba(60, 64, 67, 0.3), 0px 1px 3px 1px rgba(60, 64, 67, 0.15);\n",
              "      fill: #174EA6;\n",
              "    }\n",
              "\n",
              "    [theme=dark] .colab-df-convert {\n",
              "      background-color: #3B4455;\n",
              "      fill: #D2E3FC;\n",
              "    }\n",
              "\n",
              "    [theme=dark] .colab-df-convert:hover {\n",
              "      background-color: #434B5C;\n",
              "      box-shadow: 0px 1px 3px 1px rgba(0, 0, 0, 0.15);\n",
              "      filter: drop-shadow(0px 1px 2px rgba(0, 0, 0, 0.3));\n",
              "      fill: #FFFFFF;\n",
              "    }\n",
              "  </style>\n",
              "\n",
              "      <script>\n",
              "        const buttonEl =\n",
              "          document.querySelector('#df-00afc64b-12a1-4b5e-8c34-ba979aedcf9d button.colab-df-convert');\n",
              "        buttonEl.style.display =\n",
              "          google.colab.kernel.accessAllowed ? 'block' : 'none';\n",
              "\n",
              "        async function convertToInteractive(key) {\n",
              "          const element = document.querySelector('#df-00afc64b-12a1-4b5e-8c34-ba979aedcf9d');\n",
              "          const dataTable =\n",
              "            await google.colab.kernel.invokeFunction('convertToInteractive',\n",
              "                                                     [key], {});\n",
              "          if (!dataTable) return;\n",
              "\n",
              "          const docLinkHtml = 'Like what you see? Visit the ' +\n",
              "            '<a target=\"_blank\" href=https://colab.research.google.com/notebooks/data_table.ipynb>data table notebook</a>'\n",
              "            + ' to learn more about interactive tables.';\n",
              "          element.innerHTML = '';\n",
              "          dataTable['output_type'] = 'display_data';\n",
              "          await google.colab.output.renderOutput(dataTable, element);\n",
              "          const docLink = document.createElement('div');\n",
              "          docLink.innerHTML = docLinkHtml;\n",
              "          element.appendChild(docLink);\n",
              "        }\n",
              "      </script>\n",
              "    </div>\n",
              "  </div>\n",
              "  "
            ]
          },
          "metadata": {},
          "execution_count": 47
        }
      ]
    },
    {
      "cell_type": "markdown",
      "source": [
        "Add additional columns to dataframe for evaluation \n",
        "\n",
        "\n",
        "\n",
        "1.   monai_pred : absolute paths of monai predictions\n",
        "2.   t2 : paths of t2 volumes in local workspace\n",
        "3.   t2_label : paths of t2 peripheral zone absolute paths in local workspace\n",
        "4.   monai_pred_resampled : monai preds resampled to T2 volume\n",
        "5.   monai_pred_resampled_pz : extraction of PZ segment from resampled monai prediction\n",
        "6.   dice_score_pz : dice_score between t2_label and monai_preds_resampled_pz\n",
        "\n"
      ],
      "metadata": {
        "id": "urI2SOkpiT0f"
      }
    },
    {
      "cell_type": "code",
      "source": [
        "eval_df[\"monai_pred\"]= eval_df.t2.apply(lambda x : glob.glob(f\"/content/monai_workspace/eval/**/{x[:-7]}_trans.nii.gz\", recursive=True)[0])\n",
        "eval_df[\"t2\"]= eval_df.t2.apply(lambda x : \"/content/monai_workspace/dataset/\"+x)\n",
        "eval_df[\"t2_label\"]= eval_df.t2_label.apply(lambda x : \"/content/monai_workspace/dataset/\"+x)"
      ],
      "metadata": {
        "id": "CJPbBaL0e93A"
      },
      "execution_count": null,
      "outputs": []
    },
    {
      "cell_type": "markdown",
      "source": [
        "Resampling of monai preds in reference of T2 volume "
      ],
      "metadata": {
        "id": "P6QdhRoXjM24"
      }
    },
    {
      "cell_type": "code",
      "source": [
        "eval_df[\"monai_pred_resampled\"] = eval_df.apply(resample_label, axis = 1,\n",
        "                    args = [\"monai_pred\", \"t2\", \"data_resampled/monai_preds/\"])"
      ],
      "metadata": {
        "colab": {
          "base_uri": "https://localhost:8080/"
        },
        "id": "lhL5qAR7j58D",
        "outputId": "4bc68481-da19-459c-e5c1-052b25285405"
      },
      "execution_count": null,
      "outputs": [
        {
          "output_type": "stream",
          "name": "stdout",
          "text": [
            "\n",
            "Running 'plastimatch resample' with the specified arguments:\n",
            "  --input /content/monai_workspace/eval/1.3.6.1.4.1.14519.5.2.1.3671.4754.105976129314091491952445656147_Prostate_With_e-coil_C-_19950709150441_6/1.3.6.1.4.1.14519.5.2.1.3671.4754.105976129314091491952445656147_Prostate_With_e-coil_C-_19950709150441_6_trans.nii.gz\n",
            "  --output data_resampled/monai_preds/1.3.6.1.4.1.14519.5.2.1.3671.4754.105976129314091491952445656147_Prostate_With_e-coil_C-_19950709150441_6_trans.nii.gz\n",
            "  --fixed /content/monai_workspace/dataset/1.3.6.1.4.1.14519.5.2.1.3671.4754.105976129314091491952445656147_Prostate_With_e-coil_C-_19950709150441_6.nii.gz\n",
            "  --interpolation nn\n",
            "... Done.\n"
          ]
        }
      ]
    },
    {
      "cell_type": "code",
      "source": [
        "eval_df[\"monai_pred_resampled_pz\"] = eval_df.apply(extract_pz_monai, axis = 1,\n",
        "                    args = [\"monai_pred_resampled\", \"data_resampled/monai_preds_pz\"])"
      ],
      "metadata": {
        "id": "EvJHoZ5gRfVj"
      },
      "execution_count": null,
      "outputs": []
    },
    {
      "cell_type": "code",
      "source": [
        "eval_df[\"dice_score_pz\"] = eval_df.apply(compute_dice, axis=1,\n",
        "                                         args= [\"monai_pred_resampled_pz\", \"t2_label\"])"
      ],
      "metadata": {
        "id": "4l8pBhjzkuEr"
      },
      "execution_count": null,
      "outputs": []
    },
    {
      "cell_type": "code",
      "source": [
        "eval_df[[\"monai_pred_resampled\", \"dice_score_pz\"]].head(60)"
      ],
      "metadata": {
        "colab": {
          "base_uri": "https://localhost:8080/",
          "height": 81
        },
        "id": "3xMJGgT8hysB",
        "outputId": "9b4171c4-2cca-4dbf-904a-c34abb9d80d2"
      },
      "execution_count": null,
      "outputs": [
        {
          "output_type": "execute_result",
          "data": {
            "text/plain": [
              "                                monai_pred_resampled  dice_score_pz\n",
              "0  data_resampled/monai_preds/1.3.6.1.4.1.14519.5...       0.573206"
            ],
            "text/html": [
              "\n",
              "  <div id=\"df-4a023f8e-cf1b-4824-9177-cd53aa3c031f\">\n",
              "    <div class=\"colab-df-container\">\n",
              "      <div>\n",
              "<style scoped>\n",
              "    .dataframe tbody tr th:only-of-type {\n",
              "        vertical-align: middle;\n",
              "    }\n",
              "\n",
              "    .dataframe tbody tr th {\n",
              "        vertical-align: top;\n",
              "    }\n",
              "\n",
              "    .dataframe thead th {\n",
              "        text-align: right;\n",
              "    }\n",
              "</style>\n",
              "<table border=\"1\" class=\"dataframe\">\n",
              "  <thead>\n",
              "    <tr style=\"text-align: right;\">\n",
              "      <th></th>\n",
              "      <th>monai_pred_resampled</th>\n",
              "      <th>dice_score_pz</th>\n",
              "    </tr>\n",
              "  </thead>\n",
              "  <tbody>\n",
              "    <tr>\n",
              "      <th>0</th>\n",
              "      <td>data_resampled/monai_preds/1.3.6.1.4.1.14519.5...</td>\n",
              "      <td>0.573206</td>\n",
              "    </tr>\n",
              "  </tbody>\n",
              "</table>\n",
              "</div>\n",
              "      <button class=\"colab-df-convert\" onclick=\"convertToInteractive('df-4a023f8e-cf1b-4824-9177-cd53aa3c031f')\"\n",
              "              title=\"Convert this dataframe to an interactive table.\"\n",
              "              style=\"display:none;\">\n",
              "        \n",
              "  <svg xmlns=\"http://www.w3.org/2000/svg\" height=\"24px\"viewBox=\"0 0 24 24\"\n",
              "       width=\"24px\">\n",
              "    <path d=\"M0 0h24v24H0V0z\" fill=\"none\"/>\n",
              "    <path d=\"M18.56 5.44l.94 2.06.94-2.06 2.06-.94-2.06-.94-.94-2.06-.94 2.06-2.06.94zm-11 1L8.5 8.5l.94-2.06 2.06-.94-2.06-.94L8.5 2.5l-.94 2.06-2.06.94zm10 10l.94 2.06.94-2.06 2.06-.94-2.06-.94-.94-2.06-.94 2.06-2.06.94z\"/><path d=\"M17.41 7.96l-1.37-1.37c-.4-.4-.92-.59-1.43-.59-.52 0-1.04.2-1.43.59L10.3 9.45l-7.72 7.72c-.78.78-.78 2.05 0 2.83L4 21.41c.39.39.9.59 1.41.59.51 0 1.02-.2 1.41-.59l7.78-7.78 2.81-2.81c.8-.78.8-2.07 0-2.86zM5.41 20L4 18.59l7.72-7.72 1.47 1.35L5.41 20z\"/>\n",
              "  </svg>\n",
              "      </button>\n",
              "      \n",
              "  <style>\n",
              "    .colab-df-container {\n",
              "      display:flex;\n",
              "      flex-wrap:wrap;\n",
              "      gap: 12px;\n",
              "    }\n",
              "\n",
              "    .colab-df-convert {\n",
              "      background-color: #E8F0FE;\n",
              "      border: none;\n",
              "      border-radius: 50%;\n",
              "      cursor: pointer;\n",
              "      display: none;\n",
              "      fill: #1967D2;\n",
              "      height: 32px;\n",
              "      padding: 0 0 0 0;\n",
              "      width: 32px;\n",
              "    }\n",
              "\n",
              "    .colab-df-convert:hover {\n",
              "      background-color: #E2EBFA;\n",
              "      box-shadow: 0px 1px 2px rgba(60, 64, 67, 0.3), 0px 1px 3px 1px rgba(60, 64, 67, 0.15);\n",
              "      fill: #174EA6;\n",
              "    }\n",
              "\n",
              "    [theme=dark] .colab-df-convert {\n",
              "      background-color: #3B4455;\n",
              "      fill: #D2E3FC;\n",
              "    }\n",
              "\n",
              "    [theme=dark] .colab-df-convert:hover {\n",
              "      background-color: #434B5C;\n",
              "      box-shadow: 0px 1px 3px 1px rgba(0, 0, 0, 0.15);\n",
              "      filter: drop-shadow(0px 1px 2px rgba(0, 0, 0, 0.3));\n",
              "      fill: #FFFFFF;\n",
              "    }\n",
              "  </style>\n",
              "\n",
              "      <script>\n",
              "        const buttonEl =\n",
              "          document.querySelector('#df-4a023f8e-cf1b-4824-9177-cd53aa3c031f button.colab-df-convert');\n",
              "        buttonEl.style.display =\n",
              "          google.colab.kernel.accessAllowed ? 'block' : 'none';\n",
              "\n",
              "        async function convertToInteractive(key) {\n",
              "          const element = document.querySelector('#df-4a023f8e-cf1b-4824-9177-cd53aa3c031f');\n",
              "          const dataTable =\n",
              "            await google.colab.kernel.invokeFunction('convertToInteractive',\n",
              "                                                     [key], {});\n",
              "          if (!dataTable) return;\n",
              "\n",
              "          const docLinkHtml = 'Like what you see? Visit the ' +\n",
              "            '<a target=\"_blank\" href=https://colab.research.google.com/notebooks/data_table.ipynb>data table notebook</a>'\n",
              "            + ' to learn more about interactive tables.';\n",
              "          element.innerHTML = '';\n",
              "          dataTable['output_type'] = 'display_data';\n",
              "          await google.colab.output.renderOutput(dataTable, element);\n",
              "          const docLink = document.createElement('div');\n",
              "          docLink.innerHTML = docLinkHtml;\n",
              "          element.appendChild(docLink);\n",
              "        }\n",
              "      </script>\n",
              "    </div>\n",
              "  </div>\n",
              "  "
            ]
          },
          "metadata": {},
          "execution_count": 53
        }
      ]
    },
    {
      "cell_type": "markdown",
      "source": [
        "Average of dice_score"
      ],
      "metadata": {
        "id": "R5ly34qXjkBm"
      }
    },
    {
      "cell_type": "code",
      "source": [
        "np.mean(eval_df[\"dice_score_pz\"].values)"
      ],
      "metadata": {
        "colab": {
          "base_uri": "https://localhost:8080/"
        },
        "id": "UuMgtwLy4C8i",
        "outputId": "8d1a5f8b-e4fe-430f-e85c-791faf9ed724"
      },
      "execution_count": null,
      "outputs": [
        {
          "output_type": "execute_result",
          "data": {
            "text/plain": [
              "0.573206"
            ]
          },
          "metadata": {},
          "execution_count": 54
        }
      ]
    },
    {
      "cell_type": "markdown",
      "source": [
        "Boxplot of dice_score"
      ],
      "metadata": {
        "id": "wqa1Yr7_jmO8"
      }
    },
    {
      "cell_type": "code",
      "source": [
        "import seaborn as sns\n",
        "sns.boxplot(x=[\"data\"] * len(eval_df), y=\"dice_score_pz\", data=eval_df)"
      ],
      "metadata": {
        "colab": {
          "base_uri": "https://localhost:8080/",
          "height": 282
        },
        "id": "_8vTaiLB6YCn",
        "outputId": "1062d0fb-3ce6-41ae-efab-709db7c62139"
      },
      "execution_count": null,
      "outputs": [
        {
          "output_type": "execute_result",
          "data": {
            "text/plain": [
              "<matplotlib.axes._subplots.AxesSubplot at 0x7f25419dafa0>"
            ]
          },
          "metadata": {},
          "execution_count": 55
        },
        {
          "output_type": "display_data",
          "data": {
            "text/plain": [
              "<Figure size 432x288 with 1 Axes>"
            ],
            "image/png": "[encoded data removed]"
          },
          "metadata": {
            "needs_background": "light"
          }
        }
      ]
    },
    {
      "cell_type": "code",
      "source": [
        "eval_df"
      ],
      "metadata": {
        "colab": {
          "base_uri": "https://localhost:8080/",
          "height": 161
        },
        "id": "yLDLfmeqqJSy",
        "outputId": "8d6795d5-c1c0-434b-ac00-40421486edbb"
      },
      "execution_count": null,
      "outputs": [
        {
          "output_type": "execute_result",
          "data": {
            "text/plain": [
              "                                                  t2  \\\n",
              "0  /content/monai_workspace/dataset/1.3.6.1.4.1.1...   \n",
              "\n",
              "                                            t2_label  \\\n",
              "0  /content/monai_workspace/dataset/1.3.6.1.4.1.1...   \n",
              "\n",
              "                                          monai_pred  \\\n",
              "0  /content/monai_workspace/eval/1.3.6.1.4.1.1451...   \n",
              "\n",
              "                                monai_pred_resampled  \\\n",
              "0  data_resampled/monai_preds/1.3.6.1.4.1.14519.5...   \n",
              "\n",
              "                             monai_pred_resampled_pz  dice_score_pz  \n",
              "0  data_resampled/monai_preds_pz/1.3.6.1.4.1.1451...       0.573206  "
            ],
            "text/html": [
              "\n",
              "  <div id=\"df-e9bbed8a-01b0-439a-bb2a-0c6950484fb7\">\n",
              "    <div class=\"colab-df-container\">\n",
              "      <div>\n",
              "<style scoped>\n",
              "    .dataframe tbody tr th:only-of-type {\n",
              "        vertical-align: middle;\n",
              "    }\n",
              "\n",
              "    .dataframe tbody tr th {\n",
              "        vertical-align: top;\n",
              "    }\n",
              "\n",
              "    .dataframe thead th {\n",
              "        text-align: right;\n",
              "    }\n",
              "</style>\n",
              "<table border=\"1\" class=\"dataframe\">\n",
              "  <thead>\n",
              "    <tr style=\"text-align: right;\">\n",
              "      <th></th>\n",
              "      <th>t2</th>\n",
              "      <th>t2_label</th>\n",
              "      <th>monai_pred</th>\n",
              "      <th>monai_pred_resampled</th>\n",
              "      <th>monai_pred_resampled_pz</th>\n",
              "      <th>dice_score_pz</th>\n",
              "    </tr>\n",
              "  </thead>\n",
              "  <tbody>\n",
              "    <tr>\n",
              "      <th>0</th>\n",
              "      <td>/content/monai_workspace/dataset/1.3.6.1.4.1.1...</td>\n",
              "      <td>/content/monai_workspace/dataset/1.3.6.1.4.1.1...</td>\n",
              "      <td>/content/monai_workspace/eval/1.3.6.1.4.1.1451...</td>\n",
              "      <td>data_resampled/monai_preds/1.3.6.1.4.1.14519.5...</td>\n",
              "      <td>data_resampled/monai_preds_pz/1.3.6.1.4.1.1451...</td>\n",
              "      <td>0.573206</td>\n",
              "    </tr>\n",
              "  </tbody>\n",
              "</table>\n",
              "</div>\n",
              "      <button class=\"colab-df-convert\" onclick=\"convertToInteractive('df-e9bbed8a-01b0-439a-bb2a-0c6950484fb7')\"\n",
              "              title=\"Convert this dataframe to an interactive table.\"\n",
              "              style=\"display:none;\">\n",
              "        \n",
              "  <svg xmlns=\"http://www.w3.org/2000/svg\" height=\"24px\"viewBox=\"0 0 24 24\"\n",
              "       width=\"24px\">\n",
              "    <path d=\"M0 0h24v24H0V0z\" fill=\"none\"/>\n",
              "    <path d=\"M18.56 5.44l.94 2.06.94-2.06 2.06-.94-2.06-.94-.94-2.06-.94 2.06-2.06.94zm-11 1L8.5 8.5l.94-2.06 2.06-.94-2.06-.94L8.5 2.5l-.94 2.06-2.06.94zm10 10l.94 2.06.94-2.06 2.06-.94-2.06-.94-.94-2.06-.94 2.06-2.06.94z\"/><path d=\"M17.41 7.96l-1.37-1.37c-.4-.4-.92-.59-1.43-.59-.52 0-1.04.2-1.43.59L10.3 9.45l-7.72 7.72c-.78.78-.78 2.05 0 2.83L4 21.41c.39.39.9.59 1.41.59.51 0 1.02-.2 1.41-.59l7.78-7.78 2.81-2.81c.8-.78.8-2.07 0-2.86zM5.41 20L4 18.59l7.72-7.72 1.47 1.35L5.41 20z\"/>\n",
              "  </svg>\n",
              "      </button>\n",
              "      \n",
              "  <style>\n",
              "    .colab-df-container {\n",
              "      display:flex;\n",
              "      flex-wrap:wrap;\n",
              "      gap: 12px;\n",
              "    }\n",
              "\n",
              "    .colab-df-convert {\n",
              "      background-color: #E8F0FE;\n",
              "      border: none;\n",
              "      border-radius: 50%;\n",
              "      cursor: pointer;\n",
              "      display: none;\n",
              "      fill: #1967D2;\n",
              "      height: 32px;\n",
              "      padding: 0 0 0 0;\n",
              "      width: 32px;\n",
              "    }\n",
              "\n",
              "    .colab-df-convert:hover {\n",
              "      background-color: #E2EBFA;\n",
              "      box-shadow: 0px 1px 2px rgba(60, 64, 67, 0.3), 0px 1px 3px 1px rgba(60, 64, 67, 0.15);\n",
              "      fill: #174EA6;\n",
              "    }\n",
              "\n",
              "    [theme=dark] .colab-df-convert {\n",
              "      background-color: #3B4455;\n",
              "      fill: #D2E3FC;\n",
              "    }\n",
              "\n",
              "    [theme=dark] .colab-df-convert:hover {\n",
              "      background-color: #434B5C;\n",
              "      box-shadow: 0px 1px 3px 1px rgba(0, 0, 0, 0.15);\n",
              "      filter: drop-shadow(0px 1px 2px rgba(0, 0, 0, 0.3));\n",
              "      fill: #FFFFFF;\n",
              "    }\n",
              "  </style>\n",
              "\n",
              "      <script>\n",
              "        const buttonEl =\n",
              "          document.querySelector('#df-e9bbed8a-01b0-439a-bb2a-0c6950484fb7 button.colab-df-convert');\n",
              "        buttonEl.style.display =\n",
              "          google.colab.kernel.accessAllowed ? 'block' : 'none';\n",
              "\n",
              "        async function convertToInteractive(key) {\n",
              "          const element = document.querySelector('#df-e9bbed8a-01b0-439a-bb2a-0c6950484fb7');\n",
              "          const dataTable =\n",
              "            await google.colab.kernel.invokeFunction('convertToInteractive',\n",
              "                                                     [key], {});\n",
              "          if (!dataTable) return;\n",
              "\n",
              "          const docLinkHtml = 'Like what you see? Visit the ' +\n",
              "            '<a target=\"_blank\" href=https://colab.research.google.com/notebooks/data_table.ipynb>data table notebook</a>'\n",
              "            + ' to learn more about interactive tables.';\n",
              "          element.innerHTML = '';\n",
              "          dataTable['output_type'] = 'display_data';\n",
              "          await google.colab.output.renderOutput(dataTable, element);\n",
              "          const docLink = document.createElement('div');\n",
              "          docLink.innerHTML = docLinkHtml;\n",
              "          element.appendChild(docLink);\n",
              "        }\n",
              "      </script>\n",
              "    </div>\n",
              "  </div>\n",
              "  "
            ]
          },
          "metadata": {},
          "execution_count": 61
        }
      ]
    },
    {
      "cell_type": "markdown",
      "source": [
        "ITK Widget visualization"
      ],
      "metadata": {
        "id": "lij7F8mhpxmn"
      }
    },
    {
      "cell_type": "code",
      "source": [
        "import SimpleITK as sitk\n",
        "import numpy as np\n",
        "import itk\n",
        "\n",
        "t2_label = sitk.GetArrayFromImage(sitk.ReadImage(list(eval_df.monai_pred_resampled.values)[0]))\n",
        "t2 = sitk.GetArrayFromImage(sitk.ReadImage(list(eval_df.t2.values)[0]))"
      ],
      "metadata": {
        "id": "U9dARBplqo53"
      },
      "execution_count": null,
      "outputs": []
    },
    {
      "cell_type": "code",
      "source": [
        "view?"
      ],
      "metadata": {
        "id": "x2NtrylfqXDc"
      },
      "execution_count": null,
      "outputs": []
    },
    {
      "cell_type": "code",
      "source": [
        "from itkwidgets import view\n",
        "# view(image=t2, label_image=t2_label)\n",
        "image = itk.imread(list(eval_df.t2.values)[0])\n",
        "label = itk.imread(list(eval_df.t2_label.values)[0])\n",
        "view(image, label_image=label)\n",
        "# view(image=t2[:, :, :] * 255, gradient_opacity=0.6)"
      ],
      "metadata": {
        "colab": {
          "base_uri": "https://localhost:8080/",
          "height": 584
        },
        "id": "YnfClO7Gpz7z",
        "outputId": "a05cde9d-e8c6-44fb-d9ca-8390479d9316"
      },
      "execution_count": null,
      "outputs": [
        {
          "output_type": "display_data",
          "data": {
            "text/plain": [
              "<IPython.core.display.HTML object>"
            ],
            "text/html": [
              "\n",
              "                <img id=\"screenshot_plugin_window_undefined0fha71673994448235\" src=data:image/png;base64,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>\n",
              "                <script type=\"text/javascript\">\n",
              "                    var image = document.getElementById(\"screenshot_plugin_window_undefined0fha71673994448235\");\n",
              "                    image.src = \"data:image/png;base64,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\";\n",
              "                    var viewer = document.getElementById(\"plugin_window_undefined0fha71673994448235\");\n",
              "                    // Hide the static image if the Viewer is visible\n",
              "                    image.style.display = viewer ? \"none\" : \"block\";\n",
              "                </script>\n",
              "            "
            ]
          },
          "metadata": {}
        },
        {
          "output_type": "display_data",
          "data": {
            "text/plain": [
              "<IPython.core.display.HTML object>"
            ],
            "text/html": [
              "<script src=\"https://lib.imjoy.io/imjoy-loader.js\"></script>\n",
              "<script>\n",
              "  function randId() {\n",
              "    return Math.random()\n",
              "      .toString(36)\n",
              "      .substr(2, 10);\n",
              "  }\n",
              "\n",
              "  class MessageEmitter {\n",
              "    constructor(debug) {\n",
              "      this._event_handlers = {};\n",
              "      this._once_handlers = {};\n",
              "      this._debug = debug;\n",
              "    }\n",
              "    emit() {\n",
              "      throw new Error(\"emit is not implemented\");\n",
              "    }\n",
              "    on(event, handler) {\n",
              "      if (!this._event_handlers[event]) {\n",
              "        this._event_handlers[event] = [];\n",
              "      }\n",
              "      this._event_handlers[event].push(handler);\n",
              "    }\n",
              "    once(event, handler) {\n",
              "      handler.___event_run_once = true;\n",
              "      this.on(event, handler);\n",
              "    }\n",
              "    off(event, handler) {\n",
              "      if (!event && !handler) {\n",
              "        // remove all events handlers\n",
              "        this._event_handlers = {};\n",
              "      } else if (event && !handler) {\n",
              "        // remove all hanlders for the event\n",
              "        if (this._event_handlers[event]) this._event_handlers[event] = [];\n",
              "      } else {\n",
              "        // remove a specific handler\n",
              "        if (this._event_handlers[event]) {\n",
              "          const idx = this._event_handlers[event].indexOf(handler);\n",
              "          if (idx >= 0) {\n",
              "            this._event_handlers[event].splice(idx, 1);\n",
              "          }\n",
              "        }\n",
              "      }\n",
              "    }\n",
              "    _fire(event, data) {\n",
              "      if (this._event_handlers[event]) {\n",
              "        var i = this._event_handlers[event].length;\n",
              "        while (i--) {\n",
              "          const handler = this._event_handlers[event][i];\n",
              "          try {\n",
              "            handler(data);\n",
              "          } catch (e) {\n",
              "            console.error(e);\n",
              "          } finally {\n",
              "            if (handler.___event_run_once) {\n",
              "              this._event_handlers[event].splice(i, 1);\n",
              "            }\n",
              "          }\n",
              "        }\n",
              "      } else {\n",
              "        if (this._debug) {\n",
              "          console.warn(\"unhandled event\", event, data);\n",
              "        }\n",
              "      }\n",
              "    }\n",
              "  }\n",
              "\n",
              "  class Connection extends MessageEmitter {\n",
              "    constructor(config) {\n",
              "      super(config && config.debug);\n",
              "      google.colab.kernel.comms.open('imjoy_rpc', {}).then((comm) => {\n",
              "        setTimeout(async () => {\n",
              "          for await (const msg of comm.messages) {\n",
              "            const data = msg.data;\n",
              "            const buffer_paths = data.__buffer_paths__ || [];\n",
              "            delete data.__buffer_paths__;\n",
              "            put_buffers(data, buffer_paths, msg.buffers || []);\n",
              "            if (data.type === \"log\" || data.type === \"info\") {\n",
              "              console.log(data.message);\n",
              "            } else if (data.type === \"error\") {\n",
              "              console.error(data.message);\n",
              "            } else {\n",
              "              if (data.peer_id) {\n",
              "                this._peer_id = data.peer_id\n",
              "              }\n",
              "              this._fire(data.type, data);\n",
              "            }\n",
              "          }\n",
              "        }, 0)\n",
              "        this.comm = comm;\n",
              "      }).catch((e) => {\n",
              "        console.error(\"failed to connect to imjoy plugin\")\n",
              "        document.getElementById('loading').style.display = 'none';\n",
              "        document.getElementById('app').parentNode.innerHTML =\n",
              "          \"Execute this cell again to see the ImJoy plugin\";\n",
              "      })\n",
              "    }\n",
              "    connect() {}\n",
              "    disconnect() {}\n",
              "    emit(data) {\n",
              "      data.peer_id = this._peer_id;\n",
              "      const split = remove_buffers(data);\n",
              "      split.state.__buffer_paths__ = split.buffer_paths;\n",
              "      this.comm.send(split.state, {\n",
              "        buffers: split.buffers\n",
              "      });\n",
              "    }\n",
              "  };\n",
              "\n",
              "  function isSerializable(object) {\n",
              "    return typeof object === \"object\" && object && object.toJSON;\n",
              "  }\n",
              "\n",
              "  function isObject(value) {\n",
              "    return value && typeof value === \"object\" && value.constructor === Object;\n",
              "  }\n",
              "\n",
              "  // pub_buffers and remove_buffers are taken from\n",
              "  // https://github.com/jupyter-widgets/ipywidgets/blob/master/packages/base/src/utils.ts\n",
              "  // Author: IPython Development Team\n",
              "  // License: BSD\n",
              "  function put_buffers(state, buffer_paths, buffers) {\n",
              "    buffers = buffers.map(b => {\n",
              "      if (b instanceof DataView) {\n",
              "        return b.buffer;\n",
              "      } else {\n",
              "        return b instanceof ArrayBuffer ? b : b.buffer;\n",
              "      }\n",
              "    });\n",
              "    for (let i = 0; i < buffer_paths.length; i++) {\n",
              "      const buffer_path = buffer_paths[i];\n",
              "      // say we want to set state[x][y][z] = buffers[i]\n",
              "      let obj = state;\n",
              "      // we first get obj = state[x][y]\n",
              "      for (let j = 0; j < buffer_path.length - 1; j++) {\n",
              "        obj = obj[buffer_path[j]];\n",
              "      }\n",
              "      // and then set: obj[z] = buffers[i]\n",
              "      obj[buffer_path[buffer_path.length - 1]] = buffers[i];\n",
              "    }\n",
              "  }\n",
              "\n",
              "  /**\n",
              "   * The inverse of put_buffers, return an objects with the new state where all buffers(ArrayBuffer)\n",
              "   * are removed. If a buffer is a member of an object, that object is cloned, and the key removed. If a buffer\n",
              "   * is an element of an array, that array is cloned, and the element is set to null.\n",
              "   * See put_buffers for the meaning of buffer_paths\n",
              "   * Returns an object with the new state (.state) an array with paths to the buffers (.buffer_paths),\n",
              "   * and the buffers associated to those paths (.buffers).\n",
              "   */\n",
              "  function remove_buffers(state) {\n",
              "    const buffers = [];\n",
              "    const buffer_paths = [];\n",
              "    // if we need to remove an object from a list, we need to clone that list, otherwise we may modify\n",
              "    // the internal state of the widget model\n",
              "    // however, we do not want to clone everything, for performance\n",
              "    function remove(obj, path) {\n",
              "      if (isSerializable(obj)) {\n",
              "        // We need to get the JSON form of the object before recursing.\n",
              "        // See https://developer.mozilla.org/en-US/docs/Web/JavaScript/Reference/Global_Objects/JSON/stringify#toJSON()_behavior\n",
              "        obj = obj.toJSON();\n",
              "      }\n",
              "      if (Array.isArray(obj)) {\n",
              "        let is_cloned = false;\n",
              "        for (let i = 0; i < obj.length; i++) {\n",
              "          const value = obj[i];\n",
              "          if (value) {\n",
              "            if (value instanceof ArrayBuffer || ArrayBuffer.isView(value)) {\n",
              "              if (!is_cloned) {\n",
              "                obj = obj.slice();\n",
              "                is_cloned = true;\n",
              "              }\n",
              "              buffers.push(ArrayBuffer.isView(value) ? value.buffer : value);\n",
              "              buffer_paths.push(path.concat([i]));\n",
              "              // easier to just keep the array, but clear the entry, otherwise we have to think\n",
              "              // about array length, much easier this way\n",
              "              obj[i] = null;\n",
              "            } else {\n",
              "              const new_value = remove(value, path.concat([i]));\n",
              "              // only assigned when the value changes, we may serialize objects that don't support assignment\n",
              "              if (new_value !== value) {\n",
              "                if (!is_cloned) {\n",
              "                  obj = obj.slice();\n",
              "                  is_cloned = true;\n",
              "                }\n",
              "                obj[i] = new_value;\n",
              "              }\n",
              "            }\n",
              "          }\n",
              "        }\n",
              "      } else if (isObject(obj)) {\n",
              "        for (const key in obj) {\n",
              "          let is_cloned = false;\n",
              "          if (Object.prototype.hasOwnProperty.call(obj, key)) {\n",
              "            const value = obj[key];\n",
              "            if (value) {\n",
              "              if (value instanceof ArrayBuffer || ArrayBuffer.isView(value)) {\n",
              "                if (!is_cloned) {\n",
              "                  obj = {\n",
              "                    ...obj\n",
              "                  };\n",
              "                  is_cloned = true;\n",
              "                }\n",
              "                buffers.push(ArrayBuffer.isView(value) ? value.buffer : value);\n",
              "                buffer_paths.push(path.concat([key]));\n",
              "                delete obj[key]; // for objects/dicts we just delete them\n",
              "              } else {\n",
              "                const new_value = remove(value, path.concat([key]));\n",
              "                // only assigned when the value changes, we may serialize objects that don't support assignment\n",
              "                if (new_value !== value) {\n",
              "                  if (!is_cloned) {\n",
              "                    obj = {\n",
              "                      ...obj\n",
              "                    };\n",
              "                    is_cloned = true;\n",
              "                  }\n",
              "                  obj[key] = new_value;\n",
              "                }\n",
              "              }\n",
              "            }\n",
              "          }\n",
              "        }\n",
              "      }\n",
              "      return obj;\n",
              "    }\n",
              "    const new_state = remove(state, []);\n",
              "    return {\n",
              "      state: new_state,\n",
              "      buffers: buffers,\n",
              "      buffer_paths: buffer_paths\n",
              "    };\n",
              "  }\n",
              "\n",
              "  document.getElementById('init-loader').style.display = 'block';\n",
              "  loadImJoyBasicApp({\n",
              "    version: '0.13.74',\n",
              "    process_url_query: true,\n",
              "    show_window_title: false,\n",
              "    show_progress_bar: true,\n",
              "    show_loader: true,\n",
              "    show_empty_window: true,\n",
              "    menu_style: {\n",
              "      position: \"absolute\",\n",
              "      right: 0,\n",
              "      top: \"4px\"\n",
              "    },\n",
              "    window_style: {\n",
              "      width: '100%',\n",
              "      height: '100%'\n",
              "    },\n",
              "    main_container: null,\n",
              "    menu_container: \"menu-container\",\n",
              "    window_manager_container: \"window-container\",\n",
              "    imjoy_api: {\n",
              "      alert(plugin, msg) {\n",
              "        window.imjoyApp.showSnackbar(msg);\n",
              "      },\n",
              "    } // override some imjoy API functions here\n",
              "  }).then(async app => {\n",
              "    window.imjoyApp = app;\n",
              "    makeResizable();\n",
              "    // get the api object from the root plugin\n",
              "    const api = app.imjoy.api;\n",
              "    const connection = new Connection()\n",
              "    const plugin = await app.imjoy.pm\n",
              "      .connectPlugin(connection)\n",
              "\n",
              "    const container = document.getElementById('window-container');\n",
              "    container.style.height = '500px';\n",
              "\n",
              "    try {\n",
              "      if (plugin.api.setup) {\n",
              "        await plugin.api.setup()\n",
              "\n",
              "      }\n",
              "    } catch (e) {\n",
              "      console.error(e)\n",
              "    } finally {\n",
              "      document.getElementById('init-loader').style.display = 'none';\n",
              "    }\n",
              "    if (plugin.api.run) {\n",
              "      await plugin.api.run({\n",
              "        config: {},\n",
              "        data: {}\n",
              "      });\n",
              "    }\n",
              "\n",
              "    app.addMenuItem({\n",
              "      label: \"▶️ Run\",\n",
              "      async callback() {\n",
              "        await plugin.api.run({\n",
              "          config: {},\n",
              "          data: {}\n",
              "        });\n",
              "      }\n",
              "    })\n",
              "\n",
              "  });\n",
              "\n",
              "  function makeResizable() {\n",
              "    const element = document.getElementById('window-container');\n",
              "    //create box in bottom-left\n",
              "    const resizer = document.createElement('div');\n",
              "    resizer.style.width = '40px';\n",
              "    resizer.style.height = '3px';\n",
              "    resizer.style.background = '#80808061';\n",
              "    resizer.style.position = 'fixed';\n",
              "    resizer.style.left = \"50%\";\n",
              "    resizer.style.cursor = 'row-resize';\n",
              "    //Append Child to Element\n",
              "    element.parentNode.appendChild(resizer);\n",
              "    //box function onmousemove\n",
              "    resizer.addEventListener('mousedown', initResize, false);\n",
              "\n",
              "    //Window funtion mousemove & mouseup\n",
              "    function initResize(e) {\n",
              "      window.addEventListener('mousemove', Resize, false);\n",
              "      window.addEventListener('mouseup', stopResize, false);\n",
              "    }\n",
              "    //resize the element\n",
              "    function Resize(e) {\n",
              "      // element.style.width = (e.clientX - element.offsetLeft) + 'px';\n",
              "      element.style.height = (e.clientY - element.offsetTop) + 'px';\n",
              "    }\n",
              "    //on mouseup remove windows functions mousemove & mouseup\n",
              "    function stopResize(e) {\n",
              "      window.removeEventListener('mousemove', Resize, false);\n",
              "      window.removeEventListener('mouseup', stopResize, false);\n",
              "    }\n",
              "  }\n",
              "</script>\n",
              "<div class=\"loader\" id=\"loading\"></div>\n",
              "<div id=\"window-container\" style=\"z-index: 100;\"></div>\n",
              "<div id=\"menu-container\" style=\"z-index: 200\"></div>\n",
              "<div class=\"imjoy-loader\" style=\"display:none;\" id=\"init-loader\"></div>"
            ]
          },
          "metadata": {}
        },
        {
          "output_type": "display_data",
          "data": {
            "text/plain": [
              "<IPython.core.display.HTML object>"
            ],
            "text/html": [
              "<div id=\"f243578c-0d85-46ea-9f85-9d39420982c6\"></div>"
            ]
          },
          "metadata": {}
        },
        {
          "output_type": "execute_result",
          "data": {
            "text/plain": [
              "<itkwidgets.viewer.Viewer at 0x7f252babfdf0>"
            ]
          },
          "metadata": {},
          "execution_count": 89
        }
      ]
    },
    {
      "cell_type": "markdown",
      "source": [
        "# Upload of monai preds to dicom store and ohif integration"
      ],
      "metadata": {
        "id": "fP4Y6oFj0B4F"
      }
    },
    {
      "cell_type": "markdown",
      "source": [
        "Creation of output folder"
      ],
      "metadata": {
        "id": "NuEgTjzglT_W"
      }
    },
    {
      "cell_type": "code",
      "source": [
        "!mkdir -p data_resampled/dcm_monai_preds"
      ],
      "metadata": {
        "id": "3U0dwsXQlTa6"
      },
      "execution_count": null,
      "outputs": []
    },
    {
      "cell_type": "markdown",
      "source": [
        "### Conversion to dcm of monai predictions"
      ],
      "metadata": {
        "id": "zDyGF5Uc0B4G"
      }
    },
    {
      "cell_type": "code",
      "source": [
        "# this will usually take between one and five minutes (but can sometimes take up to eight)\n",
        "seg_whole_prostate_json = \"https://www.dropbox.com/s/y11eg3ek4gu8p4i/seg-example_multiple_segments_single_input_file.json?dl=0\"\n",
        "seg_dcm_metadata_json_file = \"pred_metadata.json\"\n",
        "!wget -O $seg_dcm_metadata_json_file $seg_whole_prostate_json"
      ],
      "metadata": {
        "colab": {
          "base_uri": "https://localhost:8080/"
        },
        "id": "tlRNEFIZ387z",
        "outputId": "99388a47-19ab-4c3b-a89e-ff5ee47800ad"
      },
      "execution_count": null,
      "outputs": [
        {
          "output_type": "stream",
          "name": "stdout",
          "text": [
            "--2023-01-17 21:33:29--  https://www.dropbox.com/s/y11eg3ek4gu8p4i/seg-example_multiple_segments_single_input_file.json?dl=0\n",
            "Resolving www.dropbox.com (www.dropbox.com)... 162.125.6.18, 2620:100:601c:18::a27d:612\n",
            "Connecting to www.dropbox.com (www.dropbox.com)|162.125.6.18|:443... connected.\n",
            "HTTP request sent, awaiting response... 302 Found\n",
            "Location: /s/raw/y11eg3ek4gu8p4i/seg-example_multiple_segments_single_input_file.json [following]\n",
            "--2023-01-17 21:33:29--  https://www.dropbox.com/s/raw/y11eg3ek4gu8p4i/seg-example_multiple_segments_single_input_file.json\n",
            "Reusing existing connection to www.dropbox.com:443.\n",
            "HTTP request sent, awaiting response... 302 Found\n",
            "Location: https://uc55e3c05f0f3567e78e5a6366f5.dl.dropboxusercontent.com/cd/0/inline/B0x30EWEBwlsoE4AvKfDRELvqc2CQxW43bkTcpGM88gBIaRwzmxGOd4ye1uPyl4MYsKglzA6eFQYUzl760za_J3Jy0ynh_X9Xi0KKu5-RD622q1ShNXEiGWyaJvo3tB_jVoSRH_iya0PdmtQ7HGj3ySdSAcBRFff-l2ELNaiZlO6QA/file# [following]\n",
            "--2023-01-17 21:33:29--  https://uc55e3c05f0f3567e78e5a6366f5.dl.dropboxusercontent.com/cd/0/inline/B0x30EWEBwlsoE4AvKfDRELvqc2CQxW43bkTcpGM88gBIaRwzmxGOd4ye1uPyl4MYsKglzA6eFQYUzl760za_J3Jy0ynh_X9Xi0KKu5-RD622q1ShNXEiGWyaJvo3tB_jVoSRH_iya0PdmtQ7HGj3ySdSAcBRFff-l2ELNaiZlO6QA/file\n",
            "Resolving uc55e3c05f0f3567e78e5a6366f5.dl.dropboxusercontent.com (uc55e3c05f0f3567e78e5a6366f5.dl.dropboxusercontent.com)... 162.125.6.15, 2620:100:6019:15::a27d:40f\n",
            "Connecting to uc55e3c05f0f3567e78e5a6366f5.dl.dropboxusercontent.com (uc55e3c05f0f3567e78e5a6366f5.dl.dropboxusercontent.com)|162.125.6.15|:443... connected.\n",
            "HTTP request sent, awaiting response... 200 OK\n",
            "Length: 1799 (1.8K) [text/plain]\n",
            "Saving to: ‘pred_metadata.json’\n",
            "\n",
            "pred_metadata.json  100%[===================>]   1.76K  --.-KB/s    in 0s      \n",
            "\n",
            "2023-01-17 21:33:30 (338 MB/s) - ‘pred_metadata.json’ saved [1799/1799]\n",
            "\n"
          ]
        }
      ]
    },
    {
      "cell_type": "markdown",
      "source": [
        "Conversion of monai preds to DCM"
      ],
      "metadata": {
        "id": "QcoWnZ95lYd-"
      }
    },
    {
      "cell_type": "code",
      "source": [
        "for nii_seg_pred in glob.glob(os.path.join(\"/content/data_resampled/monai_preds\", '*.nii.gz')):\n",
        "  serieUID_pred = nii_seg_pred.split('/')[-1].split('_')[0]\n",
        "  t2_dcm_folder = glob.glob(os.path.join(\"/content/dcm_data\", \"**\", \"**\", serieUID_pred))[0]\n",
        "  print(t2_dcm_folder)\n",
        "  print()\n",
        "  # #find seg dcm file\n",
        "  # # find nii seg folder == preds resampled\n",
        "  assert os.path.exists(t2_dcm_folder)\n",
        "  print('\\nConverting...')\n",
        "  print(f'pred monai procssed : {nii_seg_pred}')\n",
        "  print(f't2_dcm_folder : {t2_dcm_folder}')\n",
        "  output_path = os.path.join(\"data_resampled/dcm_monai_preds\", '_'.join([nii_seg_pred.split('/')[-1][:-7]])+'.dcm')\n",
        "  # #find gt seg dcm file == orginal idc dcm files\n",
        "  # #convert nii pred to dcm\n",
        "  !itkimage2segimage --inputImageList $nii_seg_pred \\\n",
        "  --inputDICOMDirectory  $t2_dcm_folder \\\n",
        "  --inputMetadata  $seg_dcm_metadata_json_file \\\n",
        "  --outputDICOM $output_path \n",
        "  print(\"Done!\")"
      ],
      "metadata": {
        "id": "QaJBKXlm0B4G",
        "colab": {
          "base_uri": "https://localhost:8080/"
        },
        "outputId": "96f97375-cbf4-482a-c095-abf85c9f894f"
      },
      "execution_count": null,
      "outputs": [
        {
          "output_type": "stream",
          "name": "stdout",
          "text": [
            "/content/dcm_data/PCAMPMRI-00010/1.3.6.1.4.1.14519.5.2.1.3671.4754.318227959935022390930294557376/1.3.6.1.4.1.14519.5.2.1.3671.4754.105976129314091491952445656147\n",
            "\n",
            "\n",
            "Converting...\n",
            "pred monai procssed : /content/data_resampled/monai_preds/1.3.6.1.4.1.14519.5.2.1.3671.4754.105976129314091491952445656147_Prostate_With_e-coil_C-_19950709150441_6_trans.nii.gz\n",
            "t2_dcm_folder : /content/dcm_data/PCAMPMRI-00010/1.3.6.1.4.1.14519.5.2.1.3671.4754.318227959935022390930294557376/1.3.6.1.4.1.14519.5.2.1.3671.4754.105976129314091491952445656147\n",
            "dcmqi repository URL: git@github.com:QIICR/dcmqi.git revision: 1153738 tag: v1.2.5\n",
            "Loaded segmentation from /content/data_resampled/monai_preds/1.3.6.1.4.1.14519.5.2.1.3671.4754.105976129314091491952445656147_Prostate_With_e-coil_C-_19950709150441_6_trans.nii.gz\n",
            "Searching recursively /content/dcm_data/PCAMPMRI-00010/1.3.6.1.4.1.14519.5.2.1.3671.4754.318227959935022390930294557376/1.3.6.1.4.1.14519.5.2.1.3671.4754.105976129314091491952445656147 for DICOM files\n",
            "W: CodeValue (0008,0100) empty in CodeSequenceMacro (type 1C)\n",
            "SOPInstanceUID1.3.6.1.4.1.14519.5.2.1.3671.4754.263410667396924922618086533624 mapped\n",
            "SOPInstanceUID1.3.6.1.4.1.14519.5.2.1.3671.4754.315950975439888792069806740187 mapped\n",
            "SOPInstanceUID1.3.6.1.4.1.14519.5.2.1.3671.4754.304718505192436178135338808996 mapped\n",
            "SOPInstanceUID1.3.6.1.4.1.14519.5.2.1.3671.4754.235221964656940627020218349819 mapped\n",
            "SOPInstanceUID1.3.6.1.4.1.14519.5.2.1.3671.4754.138847798224187040549435189158 mapped\n",
            "SOPInstanceUID1.3.6.1.4.1.14519.5.2.1.3671.4754.140801598839214419284572257799 mapped\n",
            "SOPInstanceUID1.3.6.1.4.1.14519.5.2.1.3671.4754.263325703761221224903902388507 mapped\n",
            "SOPInstanceUID1.3.6.1.4.1.14519.5.2.1.3671.4754.214290588321642539525275710202 mapped\n",
            "SOPInstanceUID1.3.6.1.4.1.14519.5.2.1.3671.4754.912876150654338723133303880496 mapped\n",
            "SOPInstanceUID1.3.6.1.4.1.14519.5.2.1.3671.4754.322923025911292687032886104335 mapped\n",
            "SOPInstanceUID1.3.6.1.4.1.14519.5.2.1.3671.4754.263392088929117172842664547534 mapped\n",
            "SOPInstanceUID1.3.6.1.4.1.14519.5.2.1.3671.4754.755500367262047377573174038554 mapped\n",
            "SOPInstanceUID1.3.6.1.4.1.14519.5.2.1.3671.4754.212118472599196846587652612533 mapped\n",
            "SOPInstanceUID1.3.6.1.4.1.14519.5.2.1.3671.4754.165650871225518190660510595378 mapped\n",
            "SOPInstanceUID1.3.6.1.4.1.14519.5.2.1.3671.4754.215674986583098771161321434862 mapped\n",
            "SOPInstanceUID1.3.6.1.4.1.14519.5.2.1.3671.4754.191200263650357380863315367635 mapped\n",
            "SOPInstanceUID1.3.6.1.4.1.14519.5.2.1.3671.4754.306822031996156316692027713505 mapped\n",
            "SOPInstanceUID1.3.6.1.4.1.14519.5.2.1.3671.4754.730752544235202375176887433722 mapped\n",
            "SOPInstanceUID1.3.6.1.4.1.14519.5.2.1.3671.4754.223090850152152236851552216093 mapped\n",
            "SOPInstanceUID1.3.6.1.4.1.14519.5.2.1.3671.4754.319524717920040263961232181875 mapped\n",
            "SOPInstanceUID1.3.6.1.4.1.14519.5.2.1.3671.4754.306082302566003268681264310193 mapped\n",
            "SOPInstanceUID1.3.6.1.4.1.14519.5.2.1.3671.4754.267761894215459574793513662676 mapped\n",
            "SOPInstanceUID1.3.6.1.4.1.14519.5.2.1.3671.4754.282682149246157013439062139859 mapped\n",
            "SOPInstanceUID1.3.6.1.4.1.14519.5.2.1.3671.4754.107853286470846561211143815609 mapped\n",
            "SOPInstanceUID1.3.6.1.4.1.14519.5.2.1.3671.4754.294578272183255143833994108899 mapped\n",
            "SOPInstanceUID1.3.6.1.4.1.14519.5.2.1.3671.4754.204257496647415631146637484250 mapped\n",
            "SOPInstanceUID1.3.6.1.4.1.14519.5.2.1.3671.4754.426534932169877795827717522126 mapped\n",
            "SOPInstanceUID1.3.6.1.4.1.14519.5.2.1.3671.4754.325415806840950880691490668851 mapped\n",
            "SOPInstanceUID1.3.6.1.4.1.14519.5.2.1.3671.4754.145129594714750762192814430063 mapped\n",
            "SOPInstanceUID1.3.6.1.4.1.14519.5.2.1.3671.4754.256365810328605161390258089593 mapped\n",
            "30 of 30 slices mapped to source DICOM images\n",
            "Found 3 label(s)\n",
            "Processing label 1\n",
            "Total non-empty slices that will be encoded in SEG for label 1 is 30\n",
            " (inclusive from 0 to 30)\n",
            "Added source image item\n",
            "Added source image item\n",
            "Added source image item\n",
            "Added source image item\n",
            "Added source image item\n",
            "Added source image item\n",
            "Added source image item\n",
            "Added source image item\n",
            "Added source image item\n",
            "Added source image item\n",
            "Added source image item\n",
            "Added source image item\n",
            "Added source image item\n",
            "Added source image item\n",
            "Added source image item\n",
            "Added source image item\n",
            "Added source image item\n",
            "Added source image item\n",
            "Added source image item\n",
            "Added source image item\n",
            "Added source image item\n",
            "Added source image item\n",
            "Added source image item\n",
            "Added source image item\n",
            "Added source image item\n",
            "Added source image item\n",
            "Added source image item\n",
            "Added source image item\n",
            "Added source image item\n",
            "Added source image item\n",
            "Processing label 2\n",
            "Total non-empty slices that will be encoded in SEG for label 2 is 30\n",
            " (inclusive from 0 to 30)\n",
            "Added source image item\n",
            "Added source image item\n",
            "Added source image item\n",
            "Added source image item\n",
            "Added source image item\n",
            "Added source image item\n",
            "Added source image item\n",
            "Added source image item\n",
            "Added source image item\n",
            "Added source image item\n",
            "Added source image item\n",
            "Added source image item\n",
            "Added source image item\n",
            "Added source image item\n",
            "Added source image item\n",
            "Added source image item\n",
            "Added source image item\n",
            "Added source image item\n",
            "Added source image item\n",
            "Added source image item\n",
            "Added source image item\n",
            "Added source image item\n",
            "Added source image item\n",
            "Added source image item\n",
            "Added source image item\n",
            "Added source image item\n",
            "Added source image item\n",
            "Added source image item\n",
            "Added source image item\n",
            "Added source image item\n",
            "Saved segmentation as data_resampled/dcm_monai_preds/1.3.6.1.4.1.14519.5.2.1.3671.4754.105976129314091491952445656147_Prostate_With_e-coil_C-_19950709150441_6_trans.dcm\n",
            "Done!\n"
          ]
        }
      ]
    },
    {
      "cell_type": "markdown",
      "metadata": {
        "id": "rI2BLQ8dqIwW"
      },
      "source": [
        "## EXPORT TO OHIF "
      ]
    },
    {
      "cell_type": "markdown",
      "source": [
        "OHIF viewer already deployed\n",
        "\n",
        "https://tinyurl.com/idc-ohif-gcp"
      ],
      "metadata": {
        "id": "p2QXTPtH9LxQ"
      }
    },
    {
      "cell_type": "markdown",
      "source": [
        "### Upload to GCP Bucket"
      ],
      "metadata": {
        "id": "fSjb3EdukS3t"
      }
    },
    {
      "cell_type": "markdown",
      "metadata": {
        "id": "L4c_etIu47pg"
      },
      "source": [
        "#### User input "
      ]
    },
    {
      "cell_type": "markdown",
      "metadata": {
        "id": "-g93SM9gAFiX"
      },
      "source": [
        "Set these values. "
      ]
    },
    {
      "cell_type": "code",
      "execution_count": null,
      "metadata": {
        "id": "3Kk0d3lMmDp3"
      },
      "outputs": [],
      "source": [
        "project_name = 'idc-sandbox-003'\n",
        "location_id = 'us-central1'\n",
        "my_dataset = 'prostate-seg'\n",
        "my_datastore = 'pz_tz_monai_2ServersIDC'"
      ]
    },
    {
      "cell_type": "code",
      "source": [
        "!gsutil -m cp /content/data_resampled/dcm_monai_preds/* gs://prostate-seg-use-case/monai-prostate158/preds/"
      ],
      "metadata": {
        "colab": {
          "base_uri": "https://localhost:8080/"
        },
        "id": "n7sfNRR48G2s",
        "outputId": "38ebe85e-93b5-4526-bf43-797e102c0716"
      },
      "execution_count": null,
      "outputs": [
        {
          "output_type": "stream",
          "name": "stdout",
          "text": [
            "Copying file:///content/data_resampled/dcm_monai_preds/1.3.6.1.4.1.14519.5.2.1.3671.4754.105976129314091491952445656147_Prostate_With_e-coil_C-_19950709150441_6_trans.dcm [Content-Type=application/dicom]...\n",
            "/ [0/30 files][    0.0 B/ 56.8 MiB]   0% Done                                   \rCopying file:///content/data_resampled/dcm_monai_preds/1.3.6.1.4.1.14519.5.2.1.3671.4754.155463265953508142920250222172_Prostate_With_e-coil_C-_19960324162549_5_trans.dcm [Content-Type=application/dicom]...\n",
            "/ [0/30 files][    0.0 B/ 56.8 MiB]   0% Done                                   \rCopying file:///content/data_resampled/dcm_monai_preds/1.3.6.1.4.1.14519.5.2.1.3671.4754.124813816937601110554342446480_PROSTATE_DCE_2013_19940924132134_8_trans.dcm [Content-Type=application/dicom]...\n",
            "Copying file:///content/data_resampled/dcm_monai_preds/1.3.6.1.4.1.14519.5.2.1.3671.4754.112304063989226412927473616890_Prostate_With_e-coil_C-_19951223113757_4_trans.dcm [Content-Type=application/dicom]...\n",
            "/ [0/30 files][    0.0 B/ 56.8 MiB]   0% Done                                   \r/ [0/30 files][    0.0 B/ 56.8 MiB]   0% Done                                   \rCopying file:///content/data_resampled/dcm_monai_preds/1.3.6.1.4.1.14519.5.2.1.3671.4754.165941479363091869002475812419_PROSTATE_DCE_2013_19940811141233_5_trans.dcm [Content-Type=application/dicom]...\n",
            "Copying file:///content/data_resampled/dcm_monai_preds/1.3.6.1.4.1.14519.5.2.1.3671.4754.117459950571016749056636056931_Prostate_With_e-coil_C-_19950701142721_5_trans.dcm [Content-Type=application/dicom]...\n",
            "/ [0/30 files][    0.0 B/ 56.8 MiB]   0% Done                                   \r/ [0/30 files][    0.0 B/ 56.8 MiB]   0% Done                                   \rCopying file:///content/data_resampled/dcm_monai_preds/1.3.6.1.4.1.14519.5.2.1.3671.4754.130390636778604536980897019189_Prostate_With_e-coil_C-_19960222152346_5_trans.dcm [Content-Type=application/dicom]...\n",
            "/ [0/30 files][    0.0 B/ 56.8 MiB]   0% Done                                   \rCopying file:///content/data_resampled/dcm_monai_preds/1.3.6.1.4.1.14519.5.2.1.3671.4754.159133597250698591956627534407_PROSTATE_DCE_2013_19940903104120_8_trans.dcm [Content-Type=application/dicom]...\n",
            "/ [0/30 files][    0.0 B/ 56.8 MiB]   0% Done                                   \rCopying file:///content/data_resampled/dcm_monai_preds/1.3.6.1.4.1.14519.5.2.1.3671.4754.191214456779267394167353214845_PROSTATE_DCE_2013_19940709121716_7_trans.dcm [Content-Type=application/dicom]...\n",
            "Copying file:///content/data_resampled/dcm_monai_preds/1.3.6.1.4.1.14519.5.2.1.3671.4754.192331874422392619419648373709_Prostate_With_e-coil_C-_19950708163440_4_trans.dcm [Content-Type=application/dicom]...\n",
            "Copying file:///content/data_resampled/dcm_monai_preds/1.3.6.1.4.1.14519.5.2.1.3671.4754.212056086412825832650405216150_GEM_Prostate_DWI_Focus_19960502111555_6_trans.dcm [Content-Type=application/dicom]...\n",
            "Copying file:///content/data_resampled/dcm_monai_preds/1.3.6.1.4.1.14519.5.2.1.3671.4754.212083125906384321957172108223_Prostate_With_e-coil_C-_19950826161817_8_trans.dcm [Content-Type=application/dicom]...\n",
            "Copying file:///content/data_resampled/dcm_monai_preds/1.3.6.1.4.1.14519.5.2.1.3671.4754.230497515093449653192531406300_Prostate_With_e-coil_C-_19951215131445_4_trans.dcm [Content-Type=application/dicom]...\n",
            "Copying file:///content/data_resampled/dcm_monai_preds/1.3.6.1.4.1.14519.5.2.1.3671.4754.218938411300600171613807256501_Prostate_With_e-coil_C-_19950706110656_4_trans.dcm [Content-Type=application/dicom]...\n",
            "Copying file:///content/data_resampled/dcm_monai_preds/1.3.6.1.4.1.14519.5.2.1.3671.4754.242851658965322332393259472017_PROSTATE_DCE_2013_19940912144338_6_trans.dcm [Content-Type=application/dicom]...\n",
            "Copying file:///content/data_resampled/dcm_monai_preds/1.3.6.1.4.1.14519.5.2.1.3671.4754.251062001905949495873517695182_PROSTATE_DCE_2013_19941001103506_5_trans.dcm [Content-Type=application/dicom]...\n",
            "Copying file:///content/data_resampled/dcm_monai_preds/1.3.6.1.4.1.14519.5.2.1.3671.4754.286942517091753799015309738287_PROSTATE_DCE_2013_19940910101927_5_trans.dcm [Content-Type=application/dicom]...\n",
            "Copying file:///content/data_resampled/dcm_monai_preds/1.3.6.1.4.1.14519.5.2.1.3671.4754.289381776301402611413405156513_Prostate_With_e-coil_C-_19950617111335_4_trans.dcm [Content-Type=application/dicom]...\n",
            "Copying file:///content/data_resampled/dcm_monai_preds/1.3.6.1.4.1.14519.5.2.1.3671.4754.300394189684830993064983395096_Prostate_With_e-coil_C-_19960307163449_5_trans.dcm [Content-Type=application/dicom]...\n",
            "Copying file:///content/data_resampled/dcm_monai_preds/1.3.6.1.4.1.14519.5.2.1.3671.4754.322350301601580056579486694857_PROSTATE_DCE_2013_19940723132116_7_trans.dcm [Content-Type=application/dicom]...\n",
            "Copying file:///content/data_resampled/dcm_monai_preds/1.3.6.1.4.1.14519.5.2.1.3671.4754.325025234684823400088057259802_PROSTATE_DCE_2013_19940825113959_3_trans.dcm [Content-Type=application/dicom]...\n",
            "Copying file:///content/data_resampled/dcm_monai_preds/1.3.6.1.4.1.14519.5.2.1.3671.4754.330595492110314365252888110460_PROSTATE_DCE_2013_19941001133534_6_trans.dcm [Content-Type=application/dicom]...\n",
            "Copying file:///content/data_resampled/dcm_monai_preds/1.3.6.1.4.1.14519.5.2.1.3671.4754.330807155674174304012309699936_PROSTATE_DCE_2012_19941008113910_5_trans.dcm [Content-Type=application/dicom]...\n",
            "Copying file:///content/data_resampled/dcm_monai_preds/1.3.6.1.4.1.14519.5.2.1.3671.4754.331664318047739623745747449088_Prostate_With_e-coil_C-_19950701131106_4_trans.dcm [Content-Type=application/dicom]...\n",
            "Copying file:///content/data_resampled/dcm_monai_preds/1.3.6.1.4.1.14519.5.2.1.3671.4754.609837242670719860929372097937_PROSTATE_DCE_2012_19940702132531_5_trans.dcm [Content-Type=application/dicom]...\n",
            "Copying file:///content/data_resampled/dcm_monai_preds/1.3.6.1.4.1.14519.5.2.1.3671.4754.338491148696735703564376647888_Prostate_With_e-coil_C-_19950908160430_4_trans.dcm [Content-Type=application/dicom]...\n",
            "Copying file:///content/data_resampled/dcm_monai_preds/1.3.6.1.4.1.14519.5.2.1.3671.4754.614440195550629594157279113517_PROSTATE_DCE_2013_19940917115624_3_trans.dcm [Content-Type=application/dicom]...\n",
            "Copying file:///content/data_resampled/dcm_monai_preds/1.3.6.1.4.1.14519.5.2.1.3671.4754.621341845114918594203879249474_GEM_Prostate_DWI_Focus_19960516114812_7_trans.dcm [Content-Type=application/dicom]...\n",
            "Copying file:///content/data_resampled/dcm_monai_preds/1.3.6.1.4.1.14519.5.2.1.3671.4754.983460207615355998147518323000_PROSTATE_DCE_2012_19940620092715_6_trans.dcm [Content-Type=application/dicom]...\n",
            "Copying file:///content/data_resampled/dcm_monai_preds/1.3.6.1.4.1.14519.5.2.1.3671.4754.654327272206188613770270554127_Prostate_With_e-coil_C-_19960316130727_5_trans.dcm [Content-Type=application/dicom]...\n",
            "| [30/30 files][ 56.8 MiB/ 56.8 MiB] 100% Done                                  \n",
            "Operation completed over 30 objects/56.8 MiB.                                    \n"
          ]
        }
      ]
    },
    {
      "cell_type": "code",
      "source": [
        "!gsutil -m cp -r /content/dcm_data/* gs://prostate-seg-use-case/monai-prostate158/input_data/"
      ],
      "metadata": {
        "colab": {
          "base_uri": "https://localhost:8080/"
        },
        "id": "7W-2-1By8av8",
        "outputId": "67ab1db7-0f7f-4a5e-9abd-4f066523e4d4"
      },
      "execution_count": null,
      "outputs": [
        {
          "output_type": "stream",
          "name": "stdout",
          "text": [
            "Copying file:///content/dcm_data/PCAMPMRI-00001/1.3.6.1.4.1.14519.5.2.1.3671.4754.288848219213026850354055725664/1.3.6.1.4.1.14519.5.2.1.3671.4754.609837242670719860929372097937/1.3.6.1.4.1.14519.5.2.1.3671.4754.753259569424779415387122262863.dcm [Content-Type=application/dicom]...\n",
            "/ [0 files][    0.0 B/357.6 MiB]                                                \rCopying file:///content/dcm_data/PCAMPMRI-00001/1.3.6.1.4.1.14519.5.2.1.3671.4754.288848219213026850354055725664/1.3.6.1.4.1.14519.5.2.1.3671.4754.609837242670719860929372097937/1.3.6.1.4.1.14519.5.2.1.3671.4754.102727114215410694052029340104.dcm [Content-Type=application/dicom]...\n",
            "/ [0 files][    0.0 B/416.5 MiB]                                                \rCopying file:///content/dcm_data/PCAMPMRI-00001/1.3.6.1.4.1.14519.5.2.1.3671.4754.288848219213026850354055725664/1.3.6.1.4.1.14519.5.2.1.3671.4754.609837242670719860929372097937/1.3.6.1.4.1.14519.5.2.1.3671.4754.220042253870385134153448717262.dcm [Content-Type=application/dicom]...\n",
            "/ [0 files][    0.0 B/416.5 MiB]                                                \rCopying file:///content/dcm_data/PCAMPMRI-00001/1.3.6.1.4.1.14519.5.2.1.3671.4754.288848219213026850354055725664/1.3.6.1.4.1.14519.5.2.1.3671.4754.609837242670719860929372097937/1.3.6.1.4.1.14519.5.2.1.3671.4754.168520664577311697407117225810.dcm [Content-Type=application/dicom]...\n",
            "/ [0 files][    0.0 B/416.5 MiB]                                                \rCopying file:///content/dcm_data/PCAMPMRI-00001/1.3.6.1.4.1.14519.5.2.1.3671.4754.288848219213026850354055725664/1.3.6.1.4.1.14519.5.2.1.3671.4754.609837242670719860929372097937/1.3.6.1.4.1.14519.5.2.1.3671.4754.300318639736294609557413888677.dcm [Content-Type=application/dicom]...\n",
            "/ [0 files][    0.0 B/416.5 MiB]                                                \rCopying file:///content/dcm_data/PCAMPMRI-00001/1.3.6.1.4.1.14519.5.2.1.3671.4754.288848219213026850354055725664/1.3.6.1.4.1.14519.5.2.1.3671.4754.609837242670719860929372097937/1.3.6.1.4.1.14519.5.2.1.3671.4754.840386635709165892843184094259.dcm [Content-Type=application/dicom]...\n",
            "/ [0/920 files][    0.0 B/543.8 MiB]   0% Done                                  \rCopying file:///content/dcm_data/PCAMPMRI-00001/1.3.6.1.4.1.14519.5.2.1.3671.4754.288848219213026850354055725664/1.3.6.1.4.1.14519.5.2.1.3671.4754.609837242670719860929372097937/1.3.6.1.4.1.14519.5.2.1.3671.4754.598587413292704504408076269487.dcm [Content-Type=application/dicom]...\n",
            "/ [0/920 files][    0.0 B/543.8 MiB]   0% Done                                  \rCopying file:///content/dcm_data/PCAMPMRI-00001/1.3.6.1.4.1.14519.5.2.1.3671.4754.288848219213026850354055725664/1.3.6.1.4.1.14519.5.2.1.3671.4754.609837242670719860929372097937/1.3.6.1.4.1.14519.5.2.1.3671.4754.370600917744857953104224456287.dcm [Content-Type=application/dicom]...\n",
            "/ [0/920 files][    0.0 B/543.8 MiB]   0% Done                                  \rCopying file:///content/dcm_data/PCAMPMRI-00001/1.3.6.1.4.1.14519.5.2.1.3671.4754.288848219213026850354055725664/1.3.6.1.4.1.14519.5.2.1.3671.4754.609837242670719860929372097937/1.3.6.1.4.1.14519.5.2.1.3671.4754.252914712899276640518217423577.dcm [Content-Type=application/dicom]...\n",
            "Copying file:///content/dcm_data/PCAMPMRI-00001/1.3.6.1.4.1.14519.5.2.1.3671.4754.288848219213026850354055725664/1.3.6.1.4.1.14519.5.2.1.3671.4754.609837242670719860929372097937/1.3.6.1.4.1.14519.5.2.1.3671.4754.266727509613528232945770718969.dcm [Content-Type=application/dicom]...\n",
            "Copying file:///content/dcm_data/PCAMPMRI-00001/1.3.6.1.4.1.14519.5.2.1.3671.4754.288848219213026850354055725664/1.3.6.1.4.1.14519.5.2.1.3671.4754.609837242670719860929372097937/1.3.6.1.4.1.14519.5.2.1.3671.4754.255410104656685650647180997402.dcm [Content-Type=application/dicom]...\n",
            "Copying file:///content/dcm_data/PCAMPMRI-00001/1.3.6.1.4.1.14519.5.2.1.3671.4754.288848219213026850354055725664/1.3.6.1.4.1.14519.5.2.1.3671.4754.609837242670719860929372097937/1.3.6.1.4.1.14519.5.2.1.3671.4754.140511340608757101067796036202.dcm [Content-Type=application/dicom]...\n",
            "Copying file:///content/dcm_data/PCAMPMRI-00001/1.3.6.1.4.1.14519.5.2.1.3671.4754.288848219213026850354055725664/1.3.6.1.4.1.14519.5.2.1.3671.4754.609837242670719860929372097937/1.3.6.1.4.1.14519.5.2.1.3671.4754.338160967063476434497904829861.dcm [Content-Type=application/dicom]...\n",
            "Copying file:///content/dcm_data/PCAMPMRI-00001/1.3.6.1.4.1.14519.5.2.1.3671.4754.288848219213026850354055725664/1.3.6.1.4.1.14519.5.2.1.3671.4754.609837242670719860929372097937/1.3.6.1.4.1.14519.5.2.1.3671.4754.250800096068928862740572968817.dcm [Content-Type=application/dicom]...\n",
            "Copying file:///content/dcm_data/PCAMPMRI-00001/1.3.6.1.4.1.14519.5.2.1.3671.4754.288848219213026850354055725664/1.3.6.1.4.1.14519.5.2.1.3671.4754.609837242670719860929372097937/1.3.6.1.4.1.14519.5.2.1.3671.4754.432859016322506707145731514397.dcm [Content-Type=application/dicom]...\n",
            "Copying file:///content/dcm_data/PCAMPMRI-00001/1.3.6.1.4.1.14519.5.2.1.3671.4754.288848219213026850354055725664/1.3.6.1.4.1.14519.5.2.1.3671.4754.609837242670719860929372097937/1.3.6.1.4.1.14519.5.2.1.3671.4754.219148701289432668293054265157.dcm [Content-Type=application/dicom]...\n",
            "Copying file:///content/dcm_data/PCAMPMRI-00001/1.3.6.1.4.1.14519.5.2.1.3671.4754.288848219213026850354055725664/1.3.6.1.4.1.14519.5.2.1.3671.4754.609837242670719860929372097937/1.3.6.1.4.1.14519.5.2.1.3671.4754.650851159399636799689709628127.dcm [Content-Type=application/dicom]...\n",
            "Copying file:///content/dcm_data/PCAMPMRI-00001/1.3.6.1.4.1.14519.5.2.1.3671.4754.288848219213026850354055725664/1.3.6.1.4.1.14519.5.2.1.3671.4754.609837242670719860929372097937/1.3.6.1.4.1.14519.5.2.1.3671.4754.166364614768977416090332156086.dcm [Content-Type=application/dicom]...\n",
            "Copying file:///content/dcm_data/PCAMPMRI-00001/1.3.6.1.4.1.14519.5.2.1.3671.4754.288848219213026850354055725664/1.3.6.1.4.1.14519.5.2.1.3671.4754.609837242670719860929372097937/1.3.6.1.4.1.14519.5.2.1.3671.4754.234005764628884352118002258140.dcm [Content-Type=application/dicom]...\n",
            "Copying file:///content/dcm_data/PCAMPMRI-00001/1.3.6.1.4.1.14519.5.2.1.3671.4754.288848219213026850354055725664/1.3.6.1.4.1.14519.5.2.1.3671.4754.609837242670719860929372097937/1.3.6.1.4.1.14519.5.2.1.3671.4754.169197782275231858817177810027.dcm [Content-Type=application/dicom]...\n",
            "Copying file:///content/dcm_data/PCAMPMRI-00001/1.3.6.1.4.1.14519.5.2.1.3671.4754.288848219213026850354055725664/1.3.6.1.4.1.14519.5.2.1.3671.4754.609837242670719860929372097937/1.3.6.1.4.1.14519.5.2.1.3671.4754.170409110881652491108721605872.dcm [Content-Type=application/dicom]...\n",
            "Copying file:///content/dcm_data/PCAMPMRI-00001/1.3.6.1.4.1.14519.5.2.1.3671.4754.288848219213026850354055725664/1.3.6.1.4.1.14519.5.2.1.3671.4754.609837242670719860929372097937/1.3.6.1.4.1.14519.5.2.1.3671.4754.178563015192742719586050241117.dcm [Content-Type=application/dicom]...\n",
            "Copying file:///content/dcm_data/PCAMPMRI-00001/1.3.6.1.4.1.14519.5.2.1.3671.4754.288848219213026850354055725664/1.3.6.1.4.1.14519.5.2.1.3671.4754.609837242670719860929372097937/1.3.6.1.4.1.14519.5.2.1.3671.4754.257739760068990036396587269085.dcm [Content-Type=application/dicom]...\n",
            "Copying file:///content/dcm_data/PCAMPMRI-00001/1.3.6.1.4.1.14519.5.2.1.3671.4754.288848219213026850354055725664/1.3.6.1.4.1.14519.5.2.1.3671.4754.609837242670719860929372097937/1.3.6.1.4.1.14519.5.2.1.3671.4754.231560032905308337369997984911.dcm [Content-Type=application/dicom]...\n",
            "Copying file:///content/dcm_data/PCAMPMRI-00001/1.3.6.1.4.1.14519.5.2.1.3671.4754.288848219213026850354055725664/1.3.6.1.4.1.14519.5.2.1.3671.4754.609837242670719860929372097937/1.3.6.1.4.1.14519.5.2.1.3671.4754.151879636361673875803790939300.dcm [Content-Type=application/dicom]...\n",
            "Copying file:///content/dcm_data/PCAMPMRI-00001/1.3.6.1.4.1.14519.5.2.1.3671.4754.288848219213026850354055725664/1.3.6.1.4.1.14519.5.2.1.3671.4754.609837242670719860929372097937/1.3.6.1.4.1.14519.5.2.1.3671.4754.133925432174031796188829065503.dcm [Content-Type=application/dicom]...\n",
            "Copying file:///content/dcm_data/PCAMPMRI-00001/1.3.6.1.4.1.14519.5.2.1.3671.4754.288848219213026850354055725664/1.3.6.1.4.1.14519.5.2.1.3671.4754.609837242670719860929372097937/1.3.6.1.4.1.14519.5.2.1.3671.4754.310127538711364381115869277939.dcm [Content-Type=application/dicom]...\n",
            "Copying file:///content/dcm_data/PCAMPMRI-00001/1.3.6.1.4.1.14519.5.2.1.3671.4754.288848219213026850354055725664/1.3.6.1.4.1.14519.5.2.1.3671.4754.609837242670719860929372097937/1.3.6.1.4.1.14519.5.2.1.3671.4754.202688372960262998549607649543.dcm [Content-Type=application/dicom]...\n",
            "Copying file:///content/dcm_data/PCAMPMRI-00001/1.3.6.1.4.1.14519.5.2.1.3671.4754.288848219213026850354055725664/1.3.6.1.4.1.14519.5.2.1.3671.4754.609837242670719860929372097937/1.3.6.1.4.1.14519.5.2.1.3671.4754.955146985669859835371998205638.dcm [Content-Type=application/dicom]...\n",
            "Copying file:///content/dcm_data/PCAMPMRI-00001/1.3.6.1.4.1.14519.5.2.1.3671.4754.288848219213026850354055725664/1.2.276.0.7230010.3.1.3.1426846371.20024.1513205119.698/1.2.276.0.7230010.3.1.4.1426846371.20024.1513205119.699.dcm [Content-Type=application/dicom]...\n",
            "Copying file:///content/dcm_data/PCAMPMRI-00001/1.3.6.1.4.1.14519.5.2.1.3671.4754.288848219213026850354055725664/1.3.6.1.4.1.14519.5.2.1.3671.4754.609837242670719860929372097937/1.3.6.1.4.1.14519.5.2.1.3671.4754.665705848964842677956816859295.dcm [Content-Type=application/dicom]...\n",
            "Copying file:///content/dcm_data/PCAMPMRI-00001/1.3.6.1.4.1.14519.5.2.1.3671.4754.121472087445374646718121301133/1.2.276.0.7230010.3.1.3.1426846371.5332.1513205117.172/1.2.276.0.7230010.3.1.4.1426846371.5332.1513205117.173.dcm [Content-Type=application/dicom]...\n",
            "Copying file:///content/dcm_data/PCAMPMRI-00001/1.3.6.1.4.1.14519.5.2.1.3671.4754.121472087445374646718121301133/1.3.6.1.4.1.14519.5.2.1.3671.4754.983460207615355998147518323000/1.3.6.1.4.1.14519.5.2.1.3671.4754.146931740605573602758711743306.dcm [Content-Type=application/dicom]...\n",
            "Copying file:///content/dcm_data/PCAMPMRI-00001/1.3.6.1.4.1.14519.5.2.1.3671.4754.121472087445374646718121301133/1.3.6.1.4.1.14519.5.2.1.3671.4754.983460207615355998147518323000/1.3.6.1.4.1.14519.5.2.1.3671.4754.323635028032727491962444721407.dcm [Content-Type=application/dicom]...\n",
            "Copying file:///content/dcm_data/PCAMPMRI-00001/1.3.6.1.4.1.14519.5.2.1.3671.4754.121472087445374646718121301133/1.3.6.1.4.1.14519.5.2.1.3671.4754.983460207615355998147518323000/1.3.6.1.4.1.14519.5.2.1.3671.4754.124517689176005682796013848840.dcm [Content-Type=application/dicom]...\n",
            "Copying file:///content/dcm_data/PCAMPMRI-00001/1.3.6.1.4.1.14519.5.2.1.3671.4754.121472087445374646718121301133/1.3.6.1.4.1.14519.5.2.1.3671.4754.983460207615355998147518323000/1.3.6.1.4.1.14519.5.2.1.3671.4754.102262714390154775173492953015.dcm [Content-Type=application/dicom]...\n",
            "Copying file:///content/dcm_data/PCAMPMRI-00001/1.3.6.1.4.1.14519.5.2.1.3671.4754.121472087445374646718121301133/1.3.6.1.4.1.14519.5.2.1.3671.4754.983460207615355998147518323000/1.3.6.1.4.1.14519.5.2.1.3671.4754.205399306859210859255791540697.dcm [Content-Type=application/dicom]...\n",
            "Copying file:///content/dcm_data/PCAMPMRI-00001/1.3.6.1.4.1.14519.5.2.1.3671.4754.121472087445374646718121301133/1.3.6.1.4.1.14519.5.2.1.3671.4754.983460207615355998147518323000/1.3.6.1.4.1.14519.5.2.1.3671.4754.804972394905065129132724559964.dcm [Content-Type=application/dicom]...\n",
            "Copying file:///content/dcm_data/PCAMPMRI-00001/1.3.6.1.4.1.14519.5.2.1.3671.4754.121472087445374646718121301133/1.3.6.1.4.1.14519.5.2.1.3671.4754.983460207615355998147518323000/1.3.6.1.4.1.14519.5.2.1.3671.4754.254960034737343348671148406833.dcm [Content-Type=application/dicom]...\n",
            "Copying file:///content/dcm_data/PCAMPMRI-00001/1.3.6.1.4.1.14519.5.2.1.3671.4754.121472087445374646718121301133/1.3.6.1.4.1.14519.5.2.1.3671.4754.983460207615355998147518323000/1.3.6.1.4.1.14519.5.2.1.3671.4754.930933385664517206603114704398.dcm [Content-Type=application/dicom]...\n",
            "Copying file:///content/dcm_data/PCAMPMRI-00001/1.3.6.1.4.1.14519.5.2.1.3671.4754.121472087445374646718121301133/1.3.6.1.4.1.14519.5.2.1.3671.4754.983460207615355998147518323000/1.3.6.1.4.1.14519.5.2.1.3671.4754.275181060076602038198221384517.dcm [Content-Type=application/dicom]...\n",
            "Copying file:///content/dcm_data/PCAMPMRI-00001/1.3.6.1.4.1.14519.5.2.1.3671.4754.121472087445374646718121301133/1.3.6.1.4.1.14519.5.2.1.3671.4754.983460207615355998147518323000/1.3.6.1.4.1.14519.5.2.1.3671.4754.173570404570545621365710002464.dcm [Content-Type=application/dicom]...\n",
            "Copying file:///content/dcm_data/PCAMPMRI-00001/1.3.6.1.4.1.14519.5.2.1.3671.4754.121472087445374646718121301133/1.3.6.1.4.1.14519.5.2.1.3671.4754.983460207615355998147518323000/1.3.6.1.4.1.14519.5.2.1.3671.4754.234099190370968803440792942327.dcm [Content-Type=application/dicom]...\n",
            "Copying file:///content/dcm_data/PCAMPMRI-00001/1.3.6.1.4.1.14519.5.2.1.3671.4754.121472087445374646718121301133/1.3.6.1.4.1.14519.5.2.1.3671.4754.983460207615355998147518323000/1.3.6.1.4.1.14519.5.2.1.3671.4754.202494613059032009585102781597.dcm [Content-Type=application/dicom]...\n",
            "Copying file:///content/dcm_data/PCAMPMRI-00001/1.3.6.1.4.1.14519.5.2.1.3671.4754.121472087445374646718121301133/1.3.6.1.4.1.14519.5.2.1.3671.4754.983460207615355998147518323000/1.3.6.1.4.1.14519.5.2.1.3671.4754.114727488339173336591371708019.dcm [Content-Type=application/dicom]...\n",
            "Copying file:///content/dcm_data/PCAMPMRI-00001/1.3.6.1.4.1.14519.5.2.1.3671.4754.121472087445374646718121301133/1.3.6.1.4.1.14519.5.2.1.3671.4754.983460207615355998147518323000/1.3.6.1.4.1.14519.5.2.1.3671.4754.335532418035634233759896726109.dcm [Content-Type=application/dicom]...\n",
            "Copying file:///content/dcm_data/PCAMPMRI-00001/1.3.6.1.4.1.14519.5.2.1.3671.4754.121472087445374646718121301133/1.3.6.1.4.1.14519.5.2.1.3671.4754.983460207615355998147518323000/1.3.6.1.4.1.14519.5.2.1.3671.4754.244248172659267891966281192503.dcm [Content-Type=application/dicom]...\n",
            "Copying file:///content/dcm_data/PCAMPMRI-00001/1.3.6.1.4.1.14519.5.2.1.3671.4754.121472087445374646718121301133/1.3.6.1.4.1.14519.5.2.1.3671.4754.983460207615355998147518323000/1.3.6.1.4.1.14519.5.2.1.3671.4754.111944565729013971858552641756.dcm [Content-Type=application/dicom]...\n",
            "Copying file:///content/dcm_data/PCAMPMRI-00001/1.3.6.1.4.1.14519.5.2.1.3671.4754.121472087445374646718121301133/1.3.6.1.4.1.14519.5.2.1.3671.4754.983460207615355998147518323000/1.3.6.1.4.1.14519.5.2.1.3671.4754.865235512901470183173110951239.dcm [Content-Type=application/dicom]...\n",
            "Copying file:///content/dcm_data/PCAMPMRI-00001/1.3.6.1.4.1.14519.5.2.1.3671.4754.121472087445374646718121301133/1.3.6.1.4.1.14519.5.2.1.3671.4754.983460207615355998147518323000/1.3.6.1.4.1.14519.5.2.1.3671.4754.216515214382467651968860197185.dcm [Content-Type=application/dicom]...\n",
            "Copying file:///content/dcm_data/PCAMPMRI-00001/1.3.6.1.4.1.14519.5.2.1.3671.4754.121472087445374646718121301133/1.3.6.1.4.1.14519.5.2.1.3671.4754.983460207615355998147518323000/1.3.6.1.4.1.14519.5.2.1.3671.4754.112715110305155018140773787341.dcm [Content-Type=application/dicom]...\n",
            "Copying file:///content/dcm_data/PCAMPMRI-00001/1.3.6.1.4.1.14519.5.2.1.3671.4754.121472087445374646718121301133/1.3.6.1.4.1.14519.5.2.1.3671.4754.983460207615355998147518323000/1.3.6.1.4.1.14519.5.2.1.3671.4754.173881019020587048944426379290.dcm [Content-Type=application/dicom]...\n",
            "Copying file:///content/dcm_data/PCAMPMRI-00001/1.3.6.1.4.1.14519.5.2.1.3671.4754.121472087445374646718121301133/1.3.6.1.4.1.14519.5.2.1.3671.4754.983460207615355998147518323000/1.3.6.1.4.1.14519.5.2.1.3671.4754.272005318345463092118133339208.dcm [Content-Type=application/dicom]...\n",
            "Copying file:///content/dcm_data/PCAMPMRI-00001/1.3.6.1.4.1.14519.5.2.1.3671.4754.121472087445374646718121301133/1.3.6.1.4.1.14519.5.2.1.3671.4754.983460207615355998147518323000/1.3.6.1.4.1.14519.5.2.1.3671.4754.175525639768651212943826030037.dcm [Content-Type=application/dicom]...\n",
            "Copying file:///content/dcm_data/PCAMPMRI-00001/1.3.6.1.4.1.14519.5.2.1.3671.4754.121472087445374646718121301133/1.3.6.1.4.1.14519.5.2.1.3671.4754.983460207615355998147518323000/1.3.6.1.4.1.14519.5.2.1.3671.4754.306811591313253539542991920905.dcm [Content-Type=application/dicom]...\n",
            "Copying file:///content/dcm_data/PCAMPMRI-00001/1.3.6.1.4.1.14519.5.2.1.3671.4754.121472087445374646718121301133/1.3.6.1.4.1.14519.5.2.1.3671.4754.983460207615355998147518323000/1.3.6.1.4.1.14519.5.2.1.3671.4754.475509408015860173109437026004.dcm [Content-Type=application/dicom]...\n",
            "Copying file:///content/dcm_data/PCAMPMRI-00001/1.3.6.1.4.1.14519.5.2.1.3671.4754.121472087445374646718121301133/1.3.6.1.4.1.14519.5.2.1.3671.4754.983460207615355998147518323000/1.3.6.1.4.1.14519.5.2.1.3671.4754.236304709030328087112162192448.dcm [Content-Type=application/dicom]...\n",
            "Copying file:///content/dcm_data/PCAMPMRI-00001/1.3.6.1.4.1.14519.5.2.1.3671.4754.121472087445374646718121301133/1.3.6.1.4.1.14519.5.2.1.3671.4754.983460207615355998147518323000/1.3.6.1.4.1.14519.5.2.1.3671.4754.323078414195256567193456463711.dcm [Content-Type=application/dicom]...\n",
            "Copying file:///content/dcm_data/PCAMPMRI-00001/1.3.6.1.4.1.14519.5.2.1.3671.4754.121472087445374646718121301133/1.3.6.1.4.1.14519.5.2.1.3671.4754.983460207615355998147518323000/1.3.6.1.4.1.14519.5.2.1.3671.4754.228909513899643415277584602808.dcm [Content-Type=application/dicom]...\n",
            "Copying file:///content/dcm_data/PCAMPMRI-00001/1.3.6.1.4.1.14519.5.2.1.3671.4754.121472087445374646718121301133/1.3.6.1.4.1.14519.5.2.1.3671.4754.983460207615355998147518323000/1.3.6.1.4.1.14519.5.2.1.3671.4754.117887203364520469602086552121.dcm [Content-Type=application/dicom]...\n",
            "Copying file:///content/dcm_data/PCAMPMRI-00001/1.3.6.1.4.1.14519.5.2.1.3671.4754.121472087445374646718121301133/1.3.6.1.4.1.14519.5.2.1.3671.4754.983460207615355998147518323000/1.3.6.1.4.1.14519.5.2.1.3671.4754.261148815609621567043784188339.dcm [Content-Type=application/dicom]...\n",
            "Copying file:///content/dcm_data/PCAMPMRI-00001/1.3.6.1.4.1.14519.5.2.1.3671.4754.121472087445374646718121301133/1.3.6.1.4.1.14519.5.2.1.3671.4754.983460207615355998147518323000/1.3.6.1.4.1.14519.5.2.1.3671.4754.206096690426891083128758390177.dcm [Content-Type=application/dicom]...\n",
            "Copying file:///content/dcm_data/PCAMPMRI-00002/1.3.6.1.4.1.14519.5.2.1.3671.4754.568383070573576760578239627478/1.3.6.1.4.1.14519.5.2.1.3671.4754.322350301601580056579486694857/1.3.6.1.4.1.14519.5.2.1.3671.4754.329464055909590452569841843420.dcm [Content-Type=application/dicom]...\n",
            "Copying file:///content/dcm_data/PCAMPMRI-00002/1.3.6.1.4.1.14519.5.2.1.3671.4754.568383070573576760578239627478/1.3.6.1.4.1.14519.5.2.1.3671.4754.322350301601580056579486694857/1.3.6.1.4.1.14519.5.2.1.3671.4754.209263814938746656735539840019.dcm [Content-Type=application/dicom]...\n",
            "Copying file:///content/dcm_data/PCAMPMRI-00002/1.3.6.1.4.1.14519.5.2.1.3671.4754.568383070573576760578239627478/1.3.6.1.4.1.14519.5.2.1.3671.4754.322350301601580056579486694857/1.3.6.1.4.1.14519.5.2.1.3671.4754.207874771492766988772347177025.dcm [Content-Type=application/dicom]...\n",
            "Copying file:///content/dcm_data/PCAMPMRI-00002/1.3.6.1.4.1.14519.5.2.1.3671.4754.568383070573576760578239627478/1.3.6.1.4.1.14519.5.2.1.3671.4754.322350301601580056579486694857/1.3.6.1.4.1.14519.5.2.1.3671.4754.181906821606195799658203014520.dcm [Content-Type=application/dicom]...\n",
            "Copying file:///content/dcm_data/PCAMPMRI-00002/1.3.6.1.4.1.14519.5.2.1.3671.4754.568383070573576760578239627478/1.3.6.1.4.1.14519.5.2.1.3671.4754.322350301601580056579486694857/1.3.6.1.4.1.14519.5.2.1.3671.4754.276493640993533230262399388972.dcm [Content-Type=application/dicom]...\n",
            "Copying file:///content/dcm_data/PCAMPMRI-00002/1.3.6.1.4.1.14519.5.2.1.3671.4754.568383070573576760578239627478/1.3.6.1.4.1.14519.5.2.1.3671.4754.322350301601580056579486694857/1.3.6.1.4.1.14519.5.2.1.3671.4754.186159355270392122960632438105.dcm [Content-Type=application/dicom]...\n",
            "Copying file:///content/dcm_data/PCAMPMRI-00002/1.3.6.1.4.1.14519.5.2.1.3671.4754.568383070573576760578239627478/1.3.6.1.4.1.14519.5.2.1.3671.4754.322350301601580056579486694857/1.3.6.1.4.1.14519.5.2.1.3671.4754.243100977162457152155778146672.dcm [Content-Type=application/dicom]...\n",
            "Copying file:///content/dcm_data/PCAMPMRI-00002/1.3.6.1.4.1.14519.5.2.1.3671.4754.568383070573576760578239627478/1.3.6.1.4.1.14519.5.2.1.3671.4754.322350301601580056579486694857/1.3.6.1.4.1.14519.5.2.1.3671.4754.160103028061820012082017307659.dcm [Content-Type=application/dicom]...\n",
            "Copying file:///content/dcm_data/PCAMPMRI-00002/1.3.6.1.4.1.14519.5.2.1.3671.4754.568383070573576760578239627478/1.3.6.1.4.1.14519.5.2.1.3671.4754.322350301601580056579486694857/1.3.6.1.4.1.14519.5.2.1.3671.4754.737606148054142248672285843188.dcm [Content-Type=application/dicom]...\n",
            "Copying file:///content/dcm_data/PCAMPMRI-00002/1.3.6.1.4.1.14519.5.2.1.3671.4754.568383070573576760578239627478/1.3.6.1.4.1.14519.5.2.1.3671.4754.322350301601580056579486694857/1.3.6.1.4.1.14519.5.2.1.3671.4754.263582127767747578896939476676.dcm [Content-Type=application/dicom]...\n",
            "Copying file:///content/dcm_data/PCAMPMRI-00002/1.3.6.1.4.1.14519.5.2.1.3671.4754.568383070573576760578239627478/1.3.6.1.4.1.14519.5.2.1.3671.4754.322350301601580056579486694857/1.3.6.1.4.1.14519.5.2.1.3671.4754.133924958971887306046992990990.dcm [Content-Type=application/dicom]...\n",
            "Copying file:///content/dcm_data/PCAMPMRI-00002/1.3.6.1.4.1.14519.5.2.1.3671.4754.568383070573576760578239627478/1.3.6.1.4.1.14519.5.2.1.3671.4754.322350301601580056579486694857/1.3.6.1.4.1.14519.5.2.1.3671.4754.332611355991118178733812661468.dcm [Content-Type=application/dicom]...\n",
            "Copying file:///content/dcm_data/PCAMPMRI-00002/1.3.6.1.4.1.14519.5.2.1.3671.4754.568383070573576760578239627478/1.3.6.1.4.1.14519.5.2.1.3671.4754.322350301601580056579486694857/1.3.6.1.4.1.14519.5.2.1.3671.4754.320707150064041883194935656486.dcm [Content-Type=application/dicom]...\n",
            "Copying file:///content/dcm_data/PCAMPMRI-00002/1.3.6.1.4.1.14519.5.2.1.3671.4754.568383070573576760578239627478/1.3.6.1.4.1.14519.5.2.1.3671.4754.322350301601580056579486694857/1.3.6.1.4.1.14519.5.2.1.3671.4754.135082865440094198960523140620.dcm [Content-Type=application/dicom]...\n",
            "Copying file:///content/dcm_data/PCAMPMRI-00002/1.3.6.1.4.1.14519.5.2.1.3671.4754.568383070573576760578239627478/1.3.6.1.4.1.14519.5.2.1.3671.4754.322350301601580056579486694857/1.3.6.1.4.1.14519.5.2.1.3671.4754.198560659858765645502358920394.dcm [Content-Type=application/dicom]...\n",
            "Copying file:///content/dcm_data/PCAMPMRI-00002/1.3.6.1.4.1.14519.5.2.1.3671.4754.568383070573576760578239627478/1.3.6.1.4.1.14519.5.2.1.3671.4754.322350301601580056579486694857/1.3.6.1.4.1.14519.5.2.1.3671.4754.147442471948042005328988196787.dcm [Content-Type=application/dicom]...\n",
            "Copying file:///content/dcm_data/PCAMPMRI-00002/1.3.6.1.4.1.14519.5.2.1.3671.4754.568383070573576760578239627478/1.3.6.1.4.1.14519.5.2.1.3671.4754.322350301601580056579486694857/1.3.6.1.4.1.14519.5.2.1.3671.4754.971253895201323892518785523376.dcm [Content-Type=application/dicom]...\n",
            "Copying file:///content/dcm_data/PCAMPMRI-00002/1.3.6.1.4.1.14519.5.2.1.3671.4754.568383070573576760578239627478/1.3.6.1.4.1.14519.5.2.1.3671.4754.322350301601580056579486694857/1.3.6.1.4.1.14519.5.2.1.3671.4754.277930658931270163735757968058.dcm [Content-Type=application/dicom]...\n",
            "Copying file:///content/dcm_data/PCAMPMRI-00002/1.3.6.1.4.1.14519.5.2.1.3671.4754.568383070573576760578239627478/1.3.6.1.4.1.14519.5.2.1.3671.4754.322350301601580056579486694857/1.3.6.1.4.1.14519.5.2.1.3671.4754.795414240269780764799327323275.dcm [Content-Type=application/dicom]...\n",
            "Copying file:///content/dcm_data/PCAMPMRI-00002/1.3.6.1.4.1.14519.5.2.1.3671.4754.568383070573576760578239627478/1.3.6.1.4.1.14519.5.2.1.3671.4754.322350301601580056579486694857/1.3.6.1.4.1.14519.5.2.1.3671.4754.198333148394891034173484345106.dcm [Content-Type=application/dicom]...\n",
            "Copying file:///content/dcm_data/PCAMPMRI-00002/1.3.6.1.4.1.14519.5.2.1.3671.4754.568383070573576760578239627478/1.3.6.1.4.1.14519.5.2.1.3671.4754.322350301601580056579486694857/1.3.6.1.4.1.14519.5.2.1.3671.4754.239781769139783853378411860836.dcm [Content-Type=application/dicom]...\n",
            "Copying file:///content/dcm_data/PCAMPMRI-00002/1.3.6.1.4.1.14519.5.2.1.3671.4754.568383070573576760578239627478/1.3.6.1.4.1.14519.5.2.1.3671.4754.322350301601580056579486694857/1.3.6.1.4.1.14519.5.2.1.3671.4754.287496876126543653230952829570.dcm [Content-Type=application/dicom]...\n",
            "Copying file:///content/dcm_data/PCAMPMRI-00002/1.3.6.1.4.1.14519.5.2.1.3671.4754.568383070573576760578239627478/1.3.6.1.4.1.14519.5.2.1.3671.4754.322350301601580056579486694857/1.3.6.1.4.1.14519.5.2.1.3671.4754.234136640680954933936775605843.dcm [Content-Type=application/dicom]...\n",
            "Copying file:///content/dcm_data/PCAMPMRI-00002/1.3.6.1.4.1.14519.5.2.1.3671.4754.568383070573576760578239627478/1.3.6.1.4.1.14519.5.2.1.3671.4754.322350301601580056579486694857/1.3.6.1.4.1.14519.5.2.1.3671.4754.781951793135105242519635122338.dcm [Content-Type=application/dicom]...\n",
            "Copying file:///content/dcm_data/PCAMPMRI-00002/1.3.6.1.4.1.14519.5.2.1.3671.4754.568383070573576760578239627478/1.3.6.1.4.1.14519.5.2.1.3671.4754.322350301601580056579486694857/1.3.6.1.4.1.14519.5.2.1.3671.4754.181340338335467515120187522044.dcm [Content-Type=application/dicom]...\n",
            "Copying file:///content/dcm_data/PCAMPMRI-00002/1.3.6.1.4.1.14519.5.2.1.3671.4754.568383070573576760578239627478/1.3.6.1.4.1.14519.5.2.1.3671.4754.322350301601580056579486694857/1.3.6.1.4.1.14519.5.2.1.3671.4754.170784273229215280572479236515.dcm [Content-Type=application/dicom]...\n",
            "Copying file:///content/dcm_data/PCAMPMRI-00002/1.3.6.1.4.1.14519.5.2.1.3671.4754.568383070573576760578239627478/1.3.6.1.4.1.14519.5.2.1.3671.4754.322350301601580056579486694857/1.3.6.1.4.1.14519.5.2.1.3671.4754.199230718465519084853138418587.dcm [Content-Type=application/dicom]...\n",
            "Copying file:///content/dcm_data/PCAMPMRI-00002/1.3.6.1.4.1.14519.5.2.1.3671.4754.568383070573576760578239627478/1.3.6.1.4.1.14519.5.2.1.3671.4754.322350301601580056579486694857/1.3.6.1.4.1.14519.5.2.1.3671.4754.175635620371421179286864389819.dcm [Content-Type=application/dicom]...\n",
            "Copying file:///content/dcm_data/PCAMPMRI-00002/1.3.6.1.4.1.14519.5.2.1.3671.4754.568383070573576760578239627478/1.3.6.1.4.1.14519.5.2.1.3671.4754.322350301601580056579486694857/1.3.6.1.4.1.14519.5.2.1.3671.4754.147527437722063709282981987777.dcm [Content-Type=application/dicom]...\n",
            "Copying file:///content/dcm_data/PCAMPMRI-00002/1.3.6.1.4.1.14519.5.2.1.3671.4754.568383070573576760578239627478/1.2.276.0.7230010.3.1.3.1426846371.6496.1513205125.610/1.2.276.0.7230010.3.1.4.1426846371.6496.1513205125.611.dcm [Content-Type=application/dicom]...\n",
            "Copying file:///content/dcm_data/PCAMPMRI-00002/1.3.6.1.4.1.14519.5.2.1.3671.4754.568383070573576760578239627478/1.3.6.1.4.1.14519.5.2.1.3671.4754.322350301601580056579486694857/1.3.6.1.4.1.14519.5.2.1.3671.4754.305409884412042661891072587252.dcm [Content-Type=application/dicom]...\n",
            "Copying file:///content/dcm_data/PCAMPMRI-00002/1.3.6.1.4.1.14519.5.2.1.3671.4754.304001015100152820571364796240/1.3.6.1.4.1.14519.5.2.1.3671.4754.191214456779267394167353214845/1.3.6.1.4.1.14519.5.2.1.3671.4754.592558560790285041392345457506.dcm [Content-Type=application/dicom]...\n",
            "Copying file:///content/dcm_data/PCAMPMRI-00002/1.3.6.1.4.1.14519.5.2.1.3671.4754.304001015100152820571364796240/1.3.6.1.4.1.14519.5.2.1.3671.4754.191214456779267394167353214845/1.3.6.1.4.1.14519.5.2.1.3671.4754.164224822725715001742308167222.dcm [Content-Type=application/dicom]...\n",
            "Copying file:///content/dcm_data/PCAMPMRI-00002/1.3.6.1.4.1.14519.5.2.1.3671.4754.304001015100152820571364796240/1.3.6.1.4.1.14519.5.2.1.3671.4754.191214456779267394167353214845/1.3.6.1.4.1.14519.5.2.1.3671.4754.199578962175953937800412639984.dcm [Content-Type=application/dicom]...\n",
            "Copying file:///content/dcm_data/PCAMPMRI-00002/1.3.6.1.4.1.14519.5.2.1.3671.4754.304001015100152820571364796240/1.3.6.1.4.1.14519.5.2.1.3671.4754.191214456779267394167353214845/1.3.6.1.4.1.14519.5.2.1.3671.4754.182566665529149927277399985705.dcm [Content-Type=application/dicom]...\n",
            "Copying file:///content/dcm_data/PCAMPMRI-00002/1.3.6.1.4.1.14519.5.2.1.3671.4754.304001015100152820571364796240/1.3.6.1.4.1.14519.5.2.1.3671.4754.191214456779267394167353214845/1.3.6.1.4.1.14519.5.2.1.3671.4754.211967648371609862521419479833.dcm [Content-Type=application/dicom]...\n",
            "Copying file:///content/dcm_data/PCAMPMRI-00002/1.3.6.1.4.1.14519.5.2.1.3671.4754.304001015100152820571364796240/1.3.6.1.4.1.14519.5.2.1.3671.4754.191214456779267394167353214845/1.3.6.1.4.1.14519.5.2.1.3671.4754.199042783239499334202813997396.dcm [Content-Type=application/dicom]...\n",
            "Copying file:///content/dcm_data/PCAMPMRI-00002/1.3.6.1.4.1.14519.5.2.1.3671.4754.304001015100152820571364796240/1.3.6.1.4.1.14519.5.2.1.3671.4754.191214456779267394167353214845/1.3.6.1.4.1.14519.5.2.1.3671.4754.177565848434825642662566090380.dcm [Content-Type=application/dicom]...\n",
            "Copying file:///content/dcm_data/PCAMPMRI-00002/1.3.6.1.4.1.14519.5.2.1.3671.4754.304001015100152820571364796240/1.3.6.1.4.1.14519.5.2.1.3671.4754.191214456779267394167353214845/1.3.6.1.4.1.14519.5.2.1.3671.4754.849149063665016913732699604412.dcm [Content-Type=application/dicom]...\n",
            "Copying file:///content/dcm_data/PCAMPMRI-00002/1.3.6.1.4.1.14519.5.2.1.3671.4754.304001015100152820571364796240/1.3.6.1.4.1.14519.5.2.1.3671.4754.191214456779267394167353214845/1.3.6.1.4.1.14519.5.2.1.3671.4754.241926193366891293633910819487.dcm [Content-Type=application/dicom]...\n",
            "Copying file:///content/dcm_data/PCAMPMRI-00002/1.3.6.1.4.1.14519.5.2.1.3671.4754.304001015100152820571364796240/1.3.6.1.4.1.14519.5.2.1.3671.4754.191214456779267394167353214845/1.3.6.1.4.1.14519.5.2.1.3671.4754.257744523066514193043168331999.dcm [Content-Type=application/dicom]...\n",
            "Copying file:///content/dcm_data/PCAMPMRI-00002/1.3.6.1.4.1.14519.5.2.1.3671.4754.304001015100152820571364796240/1.3.6.1.4.1.14519.5.2.1.3671.4754.191214456779267394167353214845/1.3.6.1.4.1.14519.5.2.1.3671.4754.165737412147944738179987679377.dcm [Content-Type=application/dicom]...\n",
            "Copying file:///content/dcm_data/PCAMPMRI-00002/1.3.6.1.4.1.14519.5.2.1.3671.4754.304001015100152820571364796240/1.3.6.1.4.1.14519.5.2.1.3671.4754.191214456779267394167353214845/1.3.6.1.4.1.14519.5.2.1.3671.4754.911176798887616897657063201628.dcm [Content-Type=application/dicom]...\n",
            "Copying file:///content/dcm_data/PCAMPMRI-00002/1.3.6.1.4.1.14519.5.2.1.3671.4754.304001015100152820571364796240/1.3.6.1.4.1.14519.5.2.1.3671.4754.191214456779267394167353214845/1.3.6.1.4.1.14519.5.2.1.3671.4754.222224438596079720944141173423.dcm [Content-Type=application/dicom]...\n",
            "Copying file:///content/dcm_data/PCAMPMRI-00002/1.3.6.1.4.1.14519.5.2.1.3671.4754.304001015100152820571364796240/1.3.6.1.4.1.14519.5.2.1.3671.4754.191214456779267394167353214845/1.3.6.1.4.1.14519.5.2.1.3671.4754.300979027905903579470470273307.dcm [Content-Type=application/dicom]...\n",
            "Copying file:///content/dcm_data/PCAMPMRI-00002/1.3.6.1.4.1.14519.5.2.1.3671.4754.304001015100152820571364796240/1.3.6.1.4.1.14519.5.2.1.3671.4754.191214456779267394167353214845/1.3.6.1.4.1.14519.5.2.1.3671.4754.246755682574668842017239276245.dcm [Content-Type=application/dicom]...\n",
            "Copying file:///content/dcm_data/PCAMPMRI-00002/1.3.6.1.4.1.14519.5.2.1.3671.4754.304001015100152820571364796240/1.3.6.1.4.1.14519.5.2.1.3671.4754.191214456779267394167353214845/1.3.6.1.4.1.14519.5.2.1.3671.4754.247162356566114140934348283955.dcm [Content-Type=application/dicom]...\n",
            "Copying file:///content/dcm_data/PCAMPMRI-00002/1.3.6.1.4.1.14519.5.2.1.3671.4754.304001015100152820571364796240/1.3.6.1.4.1.14519.5.2.1.3671.4754.191214456779267394167353214845/1.3.6.1.4.1.14519.5.2.1.3671.4754.238703381667019388342258362186.dcm [Content-Type=application/dicom]...\n",
            "Copying file:///content/dcm_data/PCAMPMRI-00002/1.3.6.1.4.1.14519.5.2.1.3671.4754.304001015100152820571364796240/1.3.6.1.4.1.14519.5.2.1.3671.4754.191214456779267394167353214845/1.3.6.1.4.1.14519.5.2.1.3671.4754.876772754160818437325115492652.dcm [Content-Type=application/dicom]...\n",
            "Copying file:///content/dcm_data/PCAMPMRI-00002/1.3.6.1.4.1.14519.5.2.1.3671.4754.304001015100152820571364796240/1.3.6.1.4.1.14519.5.2.1.3671.4754.191214456779267394167353214845/1.3.6.1.4.1.14519.5.2.1.3671.4754.327153346131485773241375738963.dcm [Content-Type=application/dicom]...\n",
            "Copying file:///content/dcm_data/PCAMPMRI-00002/1.3.6.1.4.1.14519.5.2.1.3671.4754.304001015100152820571364796240/1.3.6.1.4.1.14519.5.2.1.3671.4754.191214456779267394167353214845/1.3.6.1.4.1.14519.5.2.1.3671.4754.116015478569519819650072785793.dcm [Content-Type=application/dicom]...\n",
            "Copying file:///content/dcm_data/PCAMPMRI-00002/1.3.6.1.4.1.14519.5.2.1.3671.4754.304001015100152820571364796240/1.3.6.1.4.1.14519.5.2.1.3671.4754.191214456779267394167353214845/1.3.6.1.4.1.14519.5.2.1.3671.4754.220135279819899128547281910325.dcm [Content-Type=application/dicom]...\n",
            "Copying file:///content/dcm_data/PCAMPMRI-00002/1.3.6.1.4.1.14519.5.2.1.3671.4754.304001015100152820571364796240/1.3.6.1.4.1.14519.5.2.1.3671.4754.191214456779267394167353214845/1.3.6.1.4.1.14519.5.2.1.3671.4754.163967826831392474938575219494.dcm [Content-Type=application/dicom]...\n",
            "Copying file:///content/dcm_data/PCAMPMRI-00002/1.3.6.1.4.1.14519.5.2.1.3671.4754.304001015100152820571364796240/1.3.6.1.4.1.14519.5.2.1.3671.4754.191214456779267394167353214845/1.3.6.1.4.1.14519.5.2.1.3671.4754.152206649564056445447126569146.dcm [Content-Type=application/dicom]...\n",
            "Copying file:///content/dcm_data/PCAMPMRI-00002/1.3.6.1.4.1.14519.5.2.1.3671.4754.304001015100152820571364796240/1.3.6.1.4.1.14519.5.2.1.3671.4754.191214456779267394167353214845/1.3.6.1.4.1.14519.5.2.1.3671.4754.113359650371011080143906224336.dcm [Content-Type=application/dicom]...\n",
            "Copying file:///content/dcm_data/PCAMPMRI-00002/1.3.6.1.4.1.14519.5.2.1.3671.4754.304001015100152820571364796240/1.3.6.1.4.1.14519.5.2.1.3671.4754.191214456779267394167353214845/1.3.6.1.4.1.14519.5.2.1.3671.4754.276569659139627630468803852437.dcm [Content-Type=application/dicom]...\n",
            "Copying file:///content/dcm_data/PCAMPMRI-00002/1.3.6.1.4.1.14519.5.2.1.3671.4754.304001015100152820571364796240/1.3.6.1.4.1.14519.5.2.1.3671.4754.191214456779267394167353214845/1.3.6.1.4.1.14519.5.2.1.3671.4754.547503967371151245115426992824.dcm [Content-Type=application/dicom]...\n",
            "Copying file:///content/dcm_data/PCAMPMRI-00002/1.3.6.1.4.1.14519.5.2.1.3671.4754.304001015100152820571364796240/1.3.6.1.4.1.14519.5.2.1.3671.4754.191214456779267394167353214845/1.3.6.1.4.1.14519.5.2.1.3671.4754.326428483669184072484519027031.dcm [Content-Type=application/dicom]...\n",
            "Copying file:///content/dcm_data/PCAMPMRI-00002/1.3.6.1.4.1.14519.5.2.1.3671.4754.304001015100152820571364796240/1.3.6.1.4.1.14519.5.2.1.3671.4754.191214456779267394167353214845/1.3.6.1.4.1.14519.5.2.1.3671.4754.119901701957521023923747211883.dcm [Content-Type=application/dicom]...\n",
            "Copying file:///content/dcm_data/PCAMPMRI-00002/1.3.6.1.4.1.14519.5.2.1.3671.4754.304001015100152820571364796240/1.3.6.1.4.1.14519.5.2.1.3671.4754.191214456779267394167353214845/1.3.6.1.4.1.14519.5.2.1.3671.4754.501058577987678023460402680598.dcm [Content-Type=application/dicom]...\n",
            "Copying file:///content/dcm_data/PCAMPMRI-00002/1.3.6.1.4.1.14519.5.2.1.3671.4754.304001015100152820571364796240/1.3.6.1.4.1.14519.5.2.1.3671.4754.191214456779267394167353214845/1.3.6.1.4.1.14519.5.2.1.3671.4754.559677922805812079711672690281.dcm [Content-Type=application/dicom]...\n",
            "Copying file:///content/dcm_data/PCAMPMRI-00002/1.3.6.1.4.1.14519.5.2.1.3671.4754.304001015100152820571364796240/1.2.276.0.7230010.3.1.3.1426846371.15020.1513205123.52/1.2.276.0.7230010.3.1.4.1426846371.15020.1513205123.53.dcm [Content-Type=application/dicom]...\n",
            "Copying file:///content/dcm_data/PCAMPMRI-00003/1.3.6.1.4.1.14519.5.2.1.3671.4754.162322077241419864654545266845/1.3.6.1.4.1.14519.5.2.1.3671.4754.165941479363091869002475812419/1.3.6.1.4.1.14519.5.2.1.3671.4754.112238133887171353177474655924.dcm [Content-Type=application/dicom]...\n",
            "Copying file:///content/dcm_data/PCAMPMRI-00003/1.3.6.1.4.1.14519.5.2.1.3671.4754.162322077241419864654545266845/1.3.6.1.4.1.14519.5.2.1.3671.4754.165941479363091869002475812419/1.3.6.1.4.1.14519.5.2.1.3671.4754.266757773615564724328466404245.dcm [Content-Type=application/dicom]...\n",
            "Copying file:///content/dcm_data/PCAMPMRI-00003/1.3.6.1.4.1.14519.5.2.1.3671.4754.162322077241419864654545266845/1.3.6.1.4.1.14519.5.2.1.3671.4754.165941479363091869002475812419/1.3.6.1.4.1.14519.5.2.1.3671.4754.173942856461151294209955452804.dcm [Content-Type=application/dicom]...\n",
            "Copying file:///content/dcm_data/PCAMPMRI-00003/1.3.6.1.4.1.14519.5.2.1.3671.4754.162322077241419864654545266845/1.3.6.1.4.1.14519.5.2.1.3671.4754.165941479363091869002475812419/1.3.6.1.4.1.14519.5.2.1.3671.4754.518726510674492747955500664567.dcm [Content-Type=application/dicom]...\n",
            "Copying file:///content/dcm_data/PCAMPMRI-00003/1.3.6.1.4.1.14519.5.2.1.3671.4754.162322077241419864654545266845/1.3.6.1.4.1.14519.5.2.1.3671.4754.165941479363091869002475812419/1.3.6.1.4.1.14519.5.2.1.3671.4754.100165068464266285086841310345.dcm [Content-Type=application/dicom]...\n",
            "Copying file:///content/dcm_data/PCAMPMRI-00003/1.3.6.1.4.1.14519.5.2.1.3671.4754.162322077241419864654545266845/1.3.6.1.4.1.14519.5.2.1.3671.4754.165941479363091869002475812419/1.3.6.1.4.1.14519.5.2.1.3671.4754.155446640498718003430826719810.dcm [Content-Type=application/dicom]...\n",
            "Copying file:///content/dcm_data/PCAMPMRI-00003/1.3.6.1.4.1.14519.5.2.1.3671.4754.162322077241419864654545266845/1.3.6.1.4.1.14519.5.2.1.3671.4754.165941479363091869002475812419/1.3.6.1.4.1.14519.5.2.1.3671.4754.268002131836610540395165779977.dcm [Content-Type=application/dicom]...\n",
            "Copying file:///content/dcm_data/PCAMPMRI-00003/1.3.6.1.4.1.14519.5.2.1.3671.4754.162322077241419864654545266845/1.3.6.1.4.1.14519.5.2.1.3671.4754.165941479363091869002475812419/1.3.6.1.4.1.14519.5.2.1.3671.4754.239499427228625166381682671154.dcm [Content-Type=application/dicom]...\n",
            "Copying file:///content/dcm_data/PCAMPMRI-00003/1.3.6.1.4.1.14519.5.2.1.3671.4754.162322077241419864654545266845/1.3.6.1.4.1.14519.5.2.1.3671.4754.165941479363091869002475812419/1.3.6.1.4.1.14519.5.2.1.3671.4754.191869188193025309293126301886.dcm [Content-Type=application/dicom]...\n",
            "Copying file:///content/dcm_data/PCAMPMRI-00003/1.3.6.1.4.1.14519.5.2.1.3671.4754.162322077241419864654545266845/1.3.6.1.4.1.14519.5.2.1.3671.4754.165941479363091869002475812419/1.3.6.1.4.1.14519.5.2.1.3671.4754.727281738416127185010980949175.dcm [Content-Type=application/dicom]...\n",
            "Copying file:///content/dcm_data/PCAMPMRI-00003/1.3.6.1.4.1.14519.5.2.1.3671.4754.162322077241419864654545266845/1.3.6.1.4.1.14519.5.2.1.3671.4754.165941479363091869002475812419/1.3.6.1.4.1.14519.5.2.1.3671.4754.744545346875230710562305723111.dcm [Content-Type=application/dicom]...\n",
            "Copying file:///content/dcm_data/PCAMPMRI-00003/1.3.6.1.4.1.14519.5.2.1.3671.4754.162322077241419864654545266845/1.3.6.1.4.1.14519.5.2.1.3671.4754.165941479363091869002475812419/1.3.6.1.4.1.14519.5.2.1.3671.4754.136853673300636100084824564755.dcm [Content-Type=application/dicom]...\n",
            "Copying file:///content/dcm_data/PCAMPMRI-00003/1.3.6.1.4.1.14519.5.2.1.3671.4754.162322077241419864654545266845/1.3.6.1.4.1.14519.5.2.1.3671.4754.165941479363091869002475812419/1.3.6.1.4.1.14519.5.2.1.3671.4754.323995730445362242995087371768.dcm [Content-Type=application/dicom]...\n",
            "Copying file:///content/dcm_data/PCAMPMRI-00003/1.3.6.1.4.1.14519.5.2.1.3671.4754.162322077241419864654545266845/1.3.6.1.4.1.14519.5.2.1.3671.4754.165941479363091869002475812419/1.3.6.1.4.1.14519.5.2.1.3671.4754.242877588125565737806889167245.dcm [Content-Type=application/dicom]...\n",
            "Copying file:///content/dcm_data/PCAMPMRI-00003/1.3.6.1.4.1.14519.5.2.1.3671.4754.162322077241419864654545266845/1.3.6.1.4.1.14519.5.2.1.3671.4754.165941479363091869002475812419/1.3.6.1.4.1.14519.5.2.1.3671.4754.673117188065527460445731666179.dcm [Content-Type=application/dicom]...\n",
            "Copying file:///content/dcm_data/PCAMPMRI-00003/1.3.6.1.4.1.14519.5.2.1.3671.4754.162322077241419864654545266845/1.3.6.1.4.1.14519.5.2.1.3671.4754.165941479363091869002475812419/1.3.6.1.4.1.14519.5.2.1.3671.4754.244234462477607928188882741452.dcm [Content-Type=application/dicom]...\n",
            "Copying file:///content/dcm_data/PCAMPMRI-00003/1.3.6.1.4.1.14519.5.2.1.3671.4754.162322077241419864654545266845/1.3.6.1.4.1.14519.5.2.1.3671.4754.165941479363091869002475812419/1.3.6.1.4.1.14519.5.2.1.3671.4754.261830331510534509118184174072.dcm [Content-Type=application/dicom]...\n",
            "Copying file:///content/dcm_data/PCAMPMRI-00003/1.3.6.1.4.1.14519.5.2.1.3671.4754.162322077241419864654545266845/1.3.6.1.4.1.14519.5.2.1.3671.4754.165941479363091869002475812419/1.3.6.1.4.1.14519.5.2.1.3671.4754.978087335058434026528477380594.dcm [Content-Type=application/dicom]...\n",
            "Copying file:///content/dcm_data/PCAMPMRI-00003/1.3.6.1.4.1.14519.5.2.1.3671.4754.162322077241419864654545266845/1.3.6.1.4.1.14519.5.2.1.3671.4754.165941479363091869002475812419/1.3.6.1.4.1.14519.5.2.1.3671.4754.213839354625747760050074874720.dcm [Content-Type=application/dicom]...\n",
            "Copying file:///content/dcm_data/PCAMPMRI-00003/1.3.6.1.4.1.14519.5.2.1.3671.4754.162322077241419864654545266845/1.3.6.1.4.1.14519.5.2.1.3671.4754.165941479363091869002475812419/1.3.6.1.4.1.14519.5.2.1.3671.4754.119300735065878202674092971205.dcm [Content-Type=application/dicom]...\n",
            "Copying file:///content/dcm_data/PCAMPMRI-00003/1.3.6.1.4.1.14519.5.2.1.3671.4754.162322077241419864654545266845/1.3.6.1.4.1.14519.5.2.1.3671.4754.165941479363091869002475812419/1.3.6.1.4.1.14519.5.2.1.3671.4754.288689548764288881958144940028.dcm [Content-Type=application/dicom]...\n",
            "Copying file:///content/dcm_data/PCAMPMRI-00003/1.3.6.1.4.1.14519.5.2.1.3671.4754.162322077241419864654545266845/1.3.6.1.4.1.14519.5.2.1.3671.4754.165941479363091869002475812419/1.3.6.1.4.1.14519.5.2.1.3671.4754.185205075445282018526039419087.dcm [Content-Type=application/dicom]...\n",
            "Copying file:///content/dcm_data/PCAMPMRI-00003/1.3.6.1.4.1.14519.5.2.1.3671.4754.162322077241419864654545266845/1.3.6.1.4.1.14519.5.2.1.3671.4754.165941479363091869002475812419/1.3.6.1.4.1.14519.5.2.1.3671.4754.298201210425497233456084622538.dcm [Content-Type=application/dicom]...\n",
            "Copying file:///content/dcm_data/PCAMPMRI-00003/1.3.6.1.4.1.14519.5.2.1.3671.4754.162322077241419864654545266845/1.3.6.1.4.1.14519.5.2.1.3671.4754.165941479363091869002475812419/1.3.6.1.4.1.14519.5.2.1.3671.4754.947225803882645051438090984523.dcm [Content-Type=application/dicom]...\n",
            "Copying file:///content/dcm_data/PCAMPMRI-00003/1.3.6.1.4.1.14519.5.2.1.3671.4754.162322077241419864654545266845/1.3.6.1.4.1.14519.5.2.1.3671.4754.165941479363091869002475812419/1.3.6.1.4.1.14519.5.2.1.3671.4754.162850838343386434729166706126.dcm [Content-Type=application/dicom]...\n",
            "Copying file:///content/dcm_data/PCAMPMRI-00003/1.3.6.1.4.1.14519.5.2.1.3671.4754.162322077241419864654545266845/1.3.6.1.4.1.14519.5.2.1.3671.4754.165941479363091869002475812419/1.3.6.1.4.1.14519.5.2.1.3671.4754.256011529773465746047980387391.dcm [Content-Type=application/dicom]...\n",
            "Copying file:///content/dcm_data/PCAMPMRI-00003/1.3.6.1.4.1.14519.5.2.1.3671.4754.162322077241419864654545266845/1.3.6.1.4.1.14519.5.2.1.3671.4754.165941479363091869002475812419/1.3.6.1.4.1.14519.5.2.1.3671.4754.113247142789721787569760116480.dcm [Content-Type=application/dicom]...\n",
            "Copying file:///content/dcm_data/PCAMPMRI-00003/1.3.6.1.4.1.14519.5.2.1.3671.4754.162322077241419864654545266845/1.3.6.1.4.1.14519.5.2.1.3671.4754.165941479363091869002475812419/1.3.6.1.4.1.14519.5.2.1.3671.4754.242594266871554105038299506978.dcm [Content-Type=application/dicom]...\n",
            "Copying file:///content/dcm_data/PCAMPMRI-00003/1.3.6.1.4.1.14519.5.2.1.3671.4754.162322077241419864654545266845/1.3.6.1.4.1.14519.5.2.1.3671.4754.165941479363091869002475812419/1.3.6.1.4.1.14519.5.2.1.3671.4754.295602873052022351027112769420.dcm [Content-Type=application/dicom]...\n",
            "Copying file:///content/dcm_data/PCAMPMRI-00003/1.3.6.1.4.1.14519.5.2.1.3671.4754.162322077241419864654545266845/1.3.6.1.4.1.14519.5.2.1.3671.4754.165941479363091869002475812419/1.3.6.1.4.1.14519.5.2.1.3671.4754.218180757722251444487079686688.dcm [Content-Type=application/dicom]...\n",
            "Copying file:///content/dcm_data/PCAMPMRI-00003/1.3.6.1.4.1.14519.5.2.1.3671.4754.162322077241419864654545266845/1.2.276.0.7230010.3.1.3.1426846371.13172.1513205127.503/1.2.276.0.7230010.3.1.4.1426846371.13172.1513205127.504.dcm [Content-Type=application/dicom]...\n",
            "Copying file:///content/dcm_data/PCAMPMRI-00003/1.3.6.1.4.1.14519.5.2.1.3671.4754.263464522348816475234793721892/1.2.276.0.7230010.3.1.3.1426846371.1952.1513205130.86/1.2.276.0.7230010.3.1.4.1426846371.1952.1513205130.87.dcm [Content-Type=application/dicom]...\n",
            "Copying file:///content/dcm_data/PCAMPMRI-00003/1.3.6.1.4.1.14519.5.2.1.3671.4754.263464522348816475234793721892/1.3.6.1.4.1.14519.5.2.1.3671.4754.325025234684823400088057259802/1.3.6.1.4.1.14519.5.2.1.3671.4754.914709327180489913422420882718.dcm [Content-Type=application/dicom]...\n",
            "Copying file:///content/dcm_data/PCAMPMRI-00003/1.3.6.1.4.1.14519.5.2.1.3671.4754.263464522348816475234793721892/1.3.6.1.4.1.14519.5.2.1.3671.4754.325025234684823400088057259802/1.3.6.1.4.1.14519.5.2.1.3671.4754.743260479307609920364583686504.dcm [Content-Type=application/dicom]...\n",
            "Copying file:///content/dcm_data/PCAMPMRI-00003/1.3.6.1.4.1.14519.5.2.1.3671.4754.263464522348816475234793721892/1.3.6.1.4.1.14519.5.2.1.3671.4754.325025234684823400088057259802/1.3.6.1.4.1.14519.5.2.1.3671.4754.258550079799178763392114442420.dcm [Content-Type=application/dicom]...\n",
            "Copying file:///content/dcm_data/PCAMPMRI-00003/1.3.6.1.4.1.14519.5.2.1.3671.4754.263464522348816475234793721892/1.3.6.1.4.1.14519.5.2.1.3671.4754.325025234684823400088057259802/1.3.6.1.4.1.14519.5.2.1.3671.4754.972659871358426803830992442878.dcm [Content-Type=application/dicom]...\n",
            "Copying file:///content/dcm_data/PCAMPMRI-00003/1.3.6.1.4.1.14519.5.2.1.3671.4754.263464522348816475234793721892/1.3.6.1.4.1.14519.5.2.1.3671.4754.325025234684823400088057259802/1.3.6.1.4.1.14519.5.2.1.3671.4754.283935074503420069821582743993.dcm [Content-Type=application/dicom]...\n",
            "Copying file:///content/dcm_data/PCAMPMRI-00003/1.3.6.1.4.1.14519.5.2.1.3671.4754.263464522348816475234793721892/1.3.6.1.4.1.14519.5.2.1.3671.4754.325025234684823400088057259802/1.3.6.1.4.1.14519.5.2.1.3671.4754.109813894969827272893077722709.dcm [Content-Type=application/dicom]...\n",
            "Copying file:///content/dcm_data/PCAMPMRI-00003/1.3.6.1.4.1.14519.5.2.1.3671.4754.263464522348816475234793721892/1.3.6.1.4.1.14519.5.2.1.3671.4754.325025234684823400088057259802/1.3.6.1.4.1.14519.5.2.1.3671.4754.214890481182090661296880503562.dcm [Content-Type=application/dicom]...\n",
            "Copying file:///content/dcm_data/PCAMPMRI-00003/1.3.6.1.4.1.14519.5.2.1.3671.4754.263464522348816475234793721892/1.3.6.1.4.1.14519.5.2.1.3671.4754.325025234684823400088057259802/1.3.6.1.4.1.14519.5.2.1.3671.4754.701920472538428361527149618170.dcm [Content-Type=application/dicom]...\n",
            "Copying file:///content/dcm_data/PCAMPMRI-00003/1.3.6.1.4.1.14519.5.2.1.3671.4754.263464522348816475234793721892/1.3.6.1.4.1.14519.5.2.1.3671.4754.325025234684823400088057259802/1.3.6.1.4.1.14519.5.2.1.3671.4754.164197497677366025565606919805.dcm [Content-Type=application/dicom]...\n",
            "Copying file:///content/dcm_data/PCAMPMRI-00003/1.3.6.1.4.1.14519.5.2.1.3671.4754.263464522348816475234793721892/1.3.6.1.4.1.14519.5.2.1.3671.4754.325025234684823400088057259802/1.3.6.1.4.1.14519.5.2.1.3671.4754.188273080866127583594893494396.dcm [Content-Type=application/dicom]...\n",
            "Copying file:///content/dcm_data/PCAMPMRI-00003/1.3.6.1.4.1.14519.5.2.1.3671.4754.263464522348816475234793721892/1.3.6.1.4.1.14519.5.2.1.3671.4754.325025234684823400088057259802/1.3.6.1.4.1.14519.5.2.1.3671.4754.130950797409799970889167557146.dcm [Content-Type=application/dicom]...\n",
            "Copying file:///content/dcm_data/PCAMPMRI-00003/1.3.6.1.4.1.14519.5.2.1.3671.4754.263464522348816475234793721892/1.3.6.1.4.1.14519.5.2.1.3671.4754.325025234684823400088057259802/1.3.6.1.4.1.14519.5.2.1.3671.4754.302735418908297975313018937842.dcm [Content-Type=application/dicom]...\n",
            "Copying file:///content/dcm_data/PCAMPMRI-00003/1.3.6.1.4.1.14519.5.2.1.3671.4754.263464522348816475234793721892/1.3.6.1.4.1.14519.5.2.1.3671.4754.325025234684823400088057259802/1.3.6.1.4.1.14519.5.2.1.3671.4754.215636442634734139487275949281.dcm [Content-Type=application/dicom]...\n",
            "Copying file:///content/dcm_data/PCAMPMRI-00003/1.3.6.1.4.1.14519.5.2.1.3671.4754.263464522348816475234793721892/1.3.6.1.4.1.14519.5.2.1.3671.4754.325025234684823400088057259802/1.3.6.1.4.1.14519.5.2.1.3671.4754.219687191522734033300685696437.dcm [Content-Type=application/dicom]...\n",
            "Copying file:///content/dcm_data/PCAMPMRI-00003/1.3.6.1.4.1.14519.5.2.1.3671.4754.263464522348816475234793721892/1.3.6.1.4.1.14519.5.2.1.3671.4754.325025234684823400088057259802/1.3.6.1.4.1.14519.5.2.1.3671.4754.569327047765827097245834737571.dcm [Content-Type=application/dicom]...\n",
            "Copying file:///content/dcm_data/PCAMPMRI-00003/1.3.6.1.4.1.14519.5.2.1.3671.4754.263464522348816475234793721892/1.3.6.1.4.1.14519.5.2.1.3671.4754.325025234684823400088057259802/1.3.6.1.4.1.14519.5.2.1.3671.4754.249590178965902363991216430460.dcm [Content-Type=application/dicom]...\n",
            "Copying file:///content/dcm_data/PCAMPMRI-00003/1.3.6.1.4.1.14519.5.2.1.3671.4754.263464522348816475234793721892/1.3.6.1.4.1.14519.5.2.1.3671.4754.325025234684823400088057259802/1.3.6.1.4.1.14519.5.2.1.3671.4754.226474995847526115241733700809.dcm [Content-Type=application/dicom]...\n",
            "Copying file:///content/dcm_data/PCAMPMRI-00003/1.3.6.1.4.1.14519.5.2.1.3671.4754.263464522348816475234793721892/1.3.6.1.4.1.14519.5.2.1.3671.4754.325025234684823400088057259802/1.3.6.1.4.1.14519.5.2.1.3671.4754.269057644760483096754688288114.dcm [Content-Type=application/dicom]...\n",
            "Copying file:///content/dcm_data/PCAMPMRI-00003/1.3.6.1.4.1.14519.5.2.1.3671.4754.263464522348816475234793721892/1.3.6.1.4.1.14519.5.2.1.3671.4754.325025234684823400088057259802/1.3.6.1.4.1.14519.5.2.1.3671.4754.220838356603961408127473077323.dcm [Content-Type=application/dicom]...\n",
            "Copying file:///content/dcm_data/PCAMPMRI-00003/1.3.6.1.4.1.14519.5.2.1.3671.4754.263464522348816475234793721892/1.3.6.1.4.1.14519.5.2.1.3671.4754.325025234684823400088057259802/1.3.6.1.4.1.14519.5.2.1.3671.4754.450449045724652550083054136360.dcm [Content-Type=application/dicom]...\n",
            "Copying file:///content/dcm_data/PCAMPMRI-00003/1.3.6.1.4.1.14519.5.2.1.3671.4754.263464522348816475234793721892/1.3.6.1.4.1.14519.5.2.1.3671.4754.325025234684823400088057259802/1.3.6.1.4.1.14519.5.2.1.3671.4754.228525069254636487758875657030.dcm [Content-Type=application/dicom]...\n",
            "Copying file:///content/dcm_data/PCAMPMRI-00003/1.3.6.1.4.1.14519.5.2.1.3671.4754.263464522348816475234793721892/1.3.6.1.4.1.14519.5.2.1.3671.4754.325025234684823400088057259802/1.3.6.1.4.1.14519.5.2.1.3671.4754.393269551540438248689090244962.dcm [Content-Type=application/dicom]...\n",
            "Copying file:///content/dcm_data/PCAMPMRI-00003/1.3.6.1.4.1.14519.5.2.1.3671.4754.263464522348816475234793721892/1.3.6.1.4.1.14519.5.2.1.3671.4754.325025234684823400088057259802/1.3.6.1.4.1.14519.5.2.1.3671.4754.159077803238342771731415742182.dcm [Content-Type=application/dicom]...\n",
            "Copying file:///content/dcm_data/PCAMPMRI-00003/1.3.6.1.4.1.14519.5.2.1.3671.4754.263464522348816475234793721892/1.3.6.1.4.1.14519.5.2.1.3671.4754.325025234684823400088057259802/1.3.6.1.4.1.14519.5.2.1.3671.4754.470225171697712413916901749034.dcm [Content-Type=application/dicom]...\n",
            "Copying file:///content/dcm_data/PCAMPMRI-00003/1.3.6.1.4.1.14519.5.2.1.3671.4754.263464522348816475234793721892/1.3.6.1.4.1.14519.5.2.1.3671.4754.325025234684823400088057259802/1.3.6.1.4.1.14519.5.2.1.3671.4754.285705220795974170013260368457.dcm [Content-Type=application/dicom]...\n",
            "Copying file:///content/dcm_data/PCAMPMRI-00003/1.3.6.1.4.1.14519.5.2.1.3671.4754.263464522348816475234793721892/1.3.6.1.4.1.14519.5.2.1.3671.4754.325025234684823400088057259802/1.3.6.1.4.1.14519.5.2.1.3671.4754.178783017575019733426544441458.dcm [Content-Type=application/dicom]...\n",
            "Copying file:///content/dcm_data/PCAMPMRI-00003/1.3.6.1.4.1.14519.5.2.1.3671.4754.263464522348816475234793721892/1.3.6.1.4.1.14519.5.2.1.3671.4754.325025234684823400088057259802/1.3.6.1.4.1.14519.5.2.1.3671.4754.906360505458708323519069163795.dcm [Content-Type=application/dicom]...\n",
            "Copying file:///content/dcm_data/PCAMPMRI-00003/1.3.6.1.4.1.14519.5.2.1.3671.4754.263464522348816475234793721892/1.3.6.1.4.1.14519.5.2.1.3671.4754.325025234684823400088057259802/1.3.6.1.4.1.14519.5.2.1.3671.4754.179839166290850843906324668112.dcm [Content-Type=application/dicom]...\n",
            "Copying file:///content/dcm_data/PCAMPMRI-00003/1.3.6.1.4.1.14519.5.2.1.3671.4754.263464522348816475234793721892/1.3.6.1.4.1.14519.5.2.1.3671.4754.325025234684823400088057259802/1.3.6.1.4.1.14519.5.2.1.3671.4754.107174429242725419765017132073.dcm [Content-Type=application/dicom]...\n",
            "Copying file:///content/dcm_data/PCAMPMRI-00003/1.3.6.1.4.1.14519.5.2.1.3671.4754.263464522348816475234793721892/1.3.6.1.4.1.14519.5.2.1.3671.4754.325025234684823400088057259802/1.3.6.1.4.1.14519.5.2.1.3671.4754.260687377947141406890789886271.dcm [Content-Type=application/dicom]...\n",
            "Copying file:///content/dcm_data/PCAMPMRI-00003/1.3.6.1.4.1.14519.5.2.1.3671.4754.263464522348816475234793721892/1.3.6.1.4.1.14519.5.2.1.3671.4754.325025234684823400088057259802/1.3.6.1.4.1.14519.5.2.1.3671.4754.198147233915948573998673908005.dcm [Content-Type=application/dicom]...\n",
            "Copying file:///content/dcm_data/PCAMPMRI-00004/1.3.6.1.4.1.14519.5.2.1.3671.4754.204078048920967920419177848890/1.3.6.1.4.1.14519.5.2.1.3671.4754.242851658965322332393259472017/1.3.6.1.4.1.14519.5.2.1.3671.4754.229002460075623846174249556068.dcm [Content-Type=application/dicom]...\n",
            "Copying file:///content/dcm_data/PCAMPMRI-00003/1.3.6.1.4.1.14519.5.2.1.3671.4754.263464522348816475234793721892/1.3.6.1.4.1.14519.5.2.1.3671.4754.325025234684823400088057259802/1.3.6.1.4.1.14519.5.2.1.3671.4754.298444596734790227810969896164.dcm [Content-Type=application/dicom]...\n",
            "Copying file:///content/dcm_data/PCAMPMRI-00004/1.3.6.1.4.1.14519.5.2.1.3671.4754.204078048920967920419177848890/1.3.6.1.4.1.14519.5.2.1.3671.4754.242851658965322332393259472017/1.3.6.1.4.1.14519.5.2.1.3671.4754.654380202783531061475660922006.dcm [Content-Type=application/dicom]...\n",
            "Copying file:///content/dcm_data/PCAMPMRI-00004/1.3.6.1.4.1.14519.5.2.1.3671.4754.204078048920967920419177848890/1.3.6.1.4.1.14519.5.2.1.3671.4754.242851658965322332393259472017/1.3.6.1.4.1.14519.5.2.1.3671.4754.378227769986021837595712083756.dcm [Content-Type=application/dicom]...\n",
            "Copying file:///content/dcm_data/PCAMPMRI-00004/1.3.6.1.4.1.14519.5.2.1.3671.4754.204078048920967920419177848890/1.3.6.1.4.1.14519.5.2.1.3671.4754.242851658965322332393259472017/1.3.6.1.4.1.14519.5.2.1.3671.4754.575479762286836599553851423228.dcm [Content-Type=application/dicom]...\n",
            "Copying file:///content/dcm_data/PCAMPMRI-00004/1.3.6.1.4.1.14519.5.2.1.3671.4754.204078048920967920419177848890/1.3.6.1.4.1.14519.5.2.1.3671.4754.242851658965322332393259472017/1.3.6.1.4.1.14519.5.2.1.3671.4754.212668916961172395483302936234.dcm [Content-Type=application/dicom]...\n",
            "Copying file:///content/dcm_data/PCAMPMRI-00004/1.3.6.1.4.1.14519.5.2.1.3671.4754.204078048920967920419177848890/1.3.6.1.4.1.14519.5.2.1.3671.4754.242851658965322332393259472017/1.3.6.1.4.1.14519.5.2.1.3671.4754.725734771933408122951435867635.dcm [Content-Type=application/dicom]...\n",
            "Copying file:///content/dcm_data/PCAMPMRI-00004/1.3.6.1.4.1.14519.5.2.1.3671.4754.204078048920967920419177848890/1.3.6.1.4.1.14519.5.2.1.3671.4754.242851658965322332393259472017/1.3.6.1.4.1.14519.5.2.1.3671.4754.199389045743223364290703590533.dcm [Content-Type=application/dicom]...\n",
            "Copying file:///content/dcm_data/PCAMPMRI-00004/1.3.6.1.4.1.14519.5.2.1.3671.4754.204078048920967920419177848890/1.3.6.1.4.1.14519.5.2.1.3671.4754.242851658965322332393259472017/1.3.6.1.4.1.14519.5.2.1.3671.4754.245194506958095230939589785227.dcm [Content-Type=application/dicom]...\n",
            "Copying file:///content/dcm_data/PCAMPMRI-00004/1.3.6.1.4.1.14519.5.2.1.3671.4754.204078048920967920419177848890/1.3.6.1.4.1.14519.5.2.1.3671.4754.242851658965322332393259472017/1.3.6.1.4.1.14519.5.2.1.3671.4754.292592452594143513033594391941.dcm [Content-Type=application/dicom]...\n",
            "Copying file:///content/dcm_data/PCAMPMRI-00004/1.3.6.1.4.1.14519.5.2.1.3671.4754.204078048920967920419177848890/1.3.6.1.4.1.14519.5.2.1.3671.4754.242851658965322332393259472017/1.3.6.1.4.1.14519.5.2.1.3671.4754.145903227414994344053943125020.dcm [Content-Type=application/dicom]...\n",
            "Copying file:///content/dcm_data/PCAMPMRI-00004/1.3.6.1.4.1.14519.5.2.1.3671.4754.204078048920967920419177848890/1.3.6.1.4.1.14519.5.2.1.3671.4754.242851658965322332393259472017/1.3.6.1.4.1.14519.5.2.1.3671.4754.182327733420175490097977929781.dcm [Content-Type=application/dicom]...\n",
            "Copying file:///content/dcm_data/PCAMPMRI-00004/1.3.6.1.4.1.14519.5.2.1.3671.4754.204078048920967920419177848890/1.3.6.1.4.1.14519.5.2.1.3671.4754.242851658965322332393259472017/1.3.6.1.4.1.14519.5.2.1.3671.4754.313950559294103247511878334933.dcm [Content-Type=application/dicom]...\n",
            "Copying file:///content/dcm_data/PCAMPMRI-00004/1.3.6.1.4.1.14519.5.2.1.3671.4754.204078048920967920419177848890/1.3.6.1.4.1.14519.5.2.1.3671.4754.242851658965322332393259472017/1.3.6.1.4.1.14519.5.2.1.3671.4754.407869626150886158435496430672.dcm [Content-Type=application/dicom]...\n",
            "Copying file:///content/dcm_data/PCAMPMRI-00004/1.3.6.1.4.1.14519.5.2.1.3671.4754.204078048920967920419177848890/1.3.6.1.4.1.14519.5.2.1.3671.4754.242851658965322332393259472017/1.3.6.1.4.1.14519.5.2.1.3671.4754.210658190769380751839705629346.dcm [Content-Type=application/dicom]...\n",
            "Copying file:///content/dcm_data/PCAMPMRI-00004/1.3.6.1.4.1.14519.5.2.1.3671.4754.204078048920967920419177848890/1.3.6.1.4.1.14519.5.2.1.3671.4754.242851658965322332393259472017/1.3.6.1.4.1.14519.5.2.1.3671.4754.219250129592504717478071561282.dcm [Content-Type=application/dicom]...\n",
            "Copying file:///content/dcm_data/PCAMPMRI-00004/1.3.6.1.4.1.14519.5.2.1.3671.4754.204078048920967920419177848890/1.3.6.1.4.1.14519.5.2.1.3671.4754.242851658965322332393259472017/1.3.6.1.4.1.14519.5.2.1.3671.4754.458510799492126551922223333746.dcm [Content-Type=application/dicom]...\n",
            "Copying file:///content/dcm_data/PCAMPMRI-00004/1.3.6.1.4.1.14519.5.2.1.3671.4754.204078048920967920419177848890/1.3.6.1.4.1.14519.5.2.1.3671.4754.242851658965322332393259472017/1.3.6.1.4.1.14519.5.2.1.3671.4754.172868994861530341225704828818.dcm [Content-Type=application/dicom]...\n",
            "Copying file:///content/dcm_data/PCAMPMRI-00004/1.3.6.1.4.1.14519.5.2.1.3671.4754.204078048920967920419177848890/1.3.6.1.4.1.14519.5.2.1.3671.4754.242851658965322332393259472017/1.3.6.1.4.1.14519.5.2.1.3671.4754.168115320894009291528219762658.dcm [Content-Type=application/dicom]...\n",
            "Copying file:///content/dcm_data/PCAMPMRI-00004/1.3.6.1.4.1.14519.5.2.1.3671.4754.204078048920967920419177848890/1.3.6.1.4.1.14519.5.2.1.3671.4754.242851658965322332393259472017/1.3.6.1.4.1.14519.5.2.1.3671.4754.130267705173127934278954822670.dcm [Content-Type=application/dicom]...\n",
            "Copying file:///content/dcm_data/PCAMPMRI-00004/1.3.6.1.4.1.14519.5.2.1.3671.4754.204078048920967920419177848890/1.3.6.1.4.1.14519.5.2.1.3671.4754.242851658965322332393259472017/1.3.6.1.4.1.14519.5.2.1.3671.4754.519098196985462056798852634242.dcm [Content-Type=application/dicom]...\n",
            "Copying file:///content/dcm_data/PCAMPMRI-00004/1.3.6.1.4.1.14519.5.2.1.3671.4754.204078048920967920419177848890/1.3.6.1.4.1.14519.5.2.1.3671.4754.242851658965322332393259472017/1.3.6.1.4.1.14519.5.2.1.3671.4754.199998569268371372244133211474.dcm [Content-Type=application/dicom]...\n",
            "Copying file:///content/dcm_data/PCAMPMRI-00004/1.3.6.1.4.1.14519.5.2.1.3671.4754.204078048920967920419177848890/1.3.6.1.4.1.14519.5.2.1.3671.4754.242851658965322332393259472017/1.3.6.1.4.1.14519.5.2.1.3671.4754.309166620261710617126106866915.dcm [Content-Type=application/dicom]...\n",
            "Copying file:///content/dcm_data/PCAMPMRI-00004/1.3.6.1.4.1.14519.5.2.1.3671.4754.204078048920967920419177848890/1.3.6.1.4.1.14519.5.2.1.3671.4754.242851658965322332393259472017/1.3.6.1.4.1.14519.5.2.1.3671.4754.220731530232032681383859498168.dcm [Content-Type=application/dicom]...\n",
            "Copying file:///content/dcm_data/PCAMPMRI-00004/1.3.6.1.4.1.14519.5.2.1.3671.4754.204078048920967920419177848890/1.3.6.1.4.1.14519.5.2.1.3671.4754.242851658965322332393259472017/1.3.6.1.4.1.14519.5.2.1.3671.4754.142489047246140815819057144987.dcm [Content-Type=application/dicom]...\n",
            "Copying file:///content/dcm_data/PCAMPMRI-00004/1.3.6.1.4.1.14519.5.2.1.3671.4754.204078048920967920419177848890/1.3.6.1.4.1.14519.5.2.1.3671.4754.242851658965322332393259472017/1.3.6.1.4.1.14519.5.2.1.3671.4754.928385983397811791883374555030.dcm [Content-Type=application/dicom]...\n",
            "Copying file:///content/dcm_data/PCAMPMRI-00004/1.3.6.1.4.1.14519.5.2.1.3671.4754.204078048920967920419177848890/1.3.6.1.4.1.14519.5.2.1.3671.4754.242851658965322332393259472017/1.3.6.1.4.1.14519.5.2.1.3671.4754.128738122252794490821387149737.dcm [Content-Type=application/dicom]...\n",
            "Copying file:///content/dcm_data/PCAMPMRI-00004/1.3.6.1.4.1.14519.5.2.1.3671.4754.204078048920967920419177848890/1.3.6.1.4.1.14519.5.2.1.3671.4754.242851658965322332393259472017/1.3.6.1.4.1.14519.5.2.1.3671.4754.263586067223691616635240249947.dcm [Content-Type=application/dicom]...\n",
            "Copying file:///content/dcm_data/PCAMPMRI-00004/1.3.6.1.4.1.14519.5.2.1.3671.4754.204078048920967920419177848890/1.3.6.1.4.1.14519.5.2.1.3671.4754.242851658965322332393259472017/1.3.6.1.4.1.14519.5.2.1.3671.4754.729606136084873822507052972168.dcm [Content-Type=application/dicom]...\n",
            "Copying file:///content/dcm_data/PCAMPMRI-00004/1.3.6.1.4.1.14519.5.2.1.3671.4754.204078048920967920419177848890/1.3.6.1.4.1.14519.5.2.1.3671.4754.242851658965322332393259472017/1.3.6.1.4.1.14519.5.2.1.3671.4754.451441950384611431064932929931.dcm [Content-Type=application/dicom]...\n",
            "Copying file:///content/dcm_data/PCAMPMRI-00004/1.3.6.1.4.1.14519.5.2.1.3671.4754.204078048920967920419177848890/1.3.6.1.4.1.14519.5.2.1.3671.4754.242851658965322332393259472017/1.3.6.1.4.1.14519.5.2.1.3671.4754.135222498468141770103051331870.dcm [Content-Type=application/dicom]...\n",
            "Copying file:///content/dcm_data/PCAMPMRI-00004/1.3.6.1.4.1.14519.5.2.1.3671.4754.204078048920967920419177848890/1.3.6.1.4.1.14519.5.2.1.3671.4754.242851658965322332393259472017/1.3.6.1.4.1.14519.5.2.1.3671.4754.164402970266611103654909633366.dcm [Content-Type=application/dicom]...\n",
            "Copying file:///content/dcm_data/PCAMPMRI-00004/1.3.6.1.4.1.14519.5.2.1.3671.4754.204078048920967920419177848890/1.3.6.1.4.1.14519.5.2.1.3671.4754.242851658965322332393259472017/1.3.6.1.4.1.14519.5.2.1.3671.4754.447392176538942640792376355320.dcm [Content-Type=application/dicom]...\n",
            "Copying file:///content/dcm_data/PCAMPMRI-00004/1.3.6.1.4.1.14519.5.2.1.3671.4754.204078048920967920419177848890/1.2.276.0.7230010.3.1.3.1426846371.10580.1513205134.955/1.2.276.0.7230010.3.1.4.1426846371.10580.1513205134.956.dcm [Content-Type=application/dicom]...\n",
            "Copying file:///content/dcm_data/PCAMPMRI-00004/1.3.6.1.4.1.14519.5.2.1.3671.4754.394942238206951812120962051099/1.2.276.0.7230010.3.1.3.1426846371.688.1513205133.72/1.2.276.0.7230010.3.1.4.1426846371.688.1513205133.73.dcm [Content-Type=application/dicom]...\n",
            "Copying file:///content/dcm_data/PCAMPMRI-00004/1.3.6.1.4.1.14519.5.2.1.3671.4754.394942238206951812120962051099/1.3.6.1.4.1.14519.5.2.1.3671.4754.159133597250698591956627534407/1.3.6.1.4.1.14519.5.2.1.3671.4754.526137409161048213407053243618.dcm [Content-Type=application/dicom]...\n",
            "Copying file:///content/dcm_data/PCAMPMRI-00004/1.3.6.1.4.1.14519.5.2.1.3671.4754.394942238206951812120962051099/1.3.6.1.4.1.14519.5.2.1.3671.4754.159133597250698591956627534407/1.3.6.1.4.1.14519.5.2.1.3671.4754.275801526723280381238361442710.dcm [Content-Type=application/dicom]...\n",
            "Copying file:///content/dcm_data/PCAMPMRI-00004/1.3.6.1.4.1.14519.5.2.1.3671.4754.394942238206951812120962051099/1.3.6.1.4.1.14519.5.2.1.3671.4754.159133597250698591956627534407/1.3.6.1.4.1.14519.5.2.1.3671.4754.323623484312229290133625298726.dcm [Content-Type=application/dicom]...\n",
            "Copying file:///content/dcm_data/PCAMPMRI-00004/1.3.6.1.4.1.14519.5.2.1.3671.4754.394942238206951812120962051099/1.3.6.1.4.1.14519.5.2.1.3671.4754.159133597250698591956627534407/1.3.6.1.4.1.14519.5.2.1.3671.4754.327372887400692653786360853280.dcm [Content-Type=application/dicom]...\n",
            "Copying file:///content/dcm_data/PCAMPMRI-00004/1.3.6.1.4.1.14519.5.2.1.3671.4754.394942238206951812120962051099/1.3.6.1.4.1.14519.5.2.1.3671.4754.159133597250698591956627534407/1.3.6.1.4.1.14519.5.2.1.3671.4754.559752845862548851500589198729.dcm [Content-Type=application/dicom]...\n",
            "Copying file:///content/dcm_data/PCAMPMRI-00004/1.3.6.1.4.1.14519.5.2.1.3671.4754.394942238206951812120962051099/1.3.6.1.4.1.14519.5.2.1.3671.4754.159133597250698591956627534407/1.3.6.1.4.1.14519.5.2.1.3671.4754.196883229574017917451728328719.dcm [Content-Type=application/dicom]...\n",
            "Copying file:///content/dcm_data/PCAMPMRI-00004/1.3.6.1.4.1.14519.5.2.1.3671.4754.394942238206951812120962051099/1.3.6.1.4.1.14519.5.2.1.3671.4754.159133597250698591956627534407/1.3.6.1.4.1.14519.5.2.1.3671.4754.135018397597815546440741794579.dcm [Content-Type=application/dicom]...\n",
            "Copying file:///content/dcm_data/PCAMPMRI-00004/1.3.6.1.4.1.14519.5.2.1.3671.4754.394942238206951812120962051099/1.3.6.1.4.1.14519.5.2.1.3671.4754.159133597250698591956627534407/1.3.6.1.4.1.14519.5.2.1.3671.4754.966279644352050510100095402037.dcm [Content-Type=application/dicom]...\n",
            "Copying file:///content/dcm_data/PCAMPMRI-00004/1.3.6.1.4.1.14519.5.2.1.3671.4754.394942238206951812120962051099/1.3.6.1.4.1.14519.5.2.1.3671.4754.159133597250698591956627534407/1.3.6.1.4.1.14519.5.2.1.3671.4754.476665439692776522085802840818.dcm [Content-Type=application/dicom]...\n",
            "Copying file:///content/dcm_data/PCAMPMRI-00004/1.3.6.1.4.1.14519.5.2.1.3671.4754.394942238206951812120962051099/1.3.6.1.4.1.14519.5.2.1.3671.4754.159133597250698591956627534407/1.3.6.1.4.1.14519.5.2.1.3671.4754.734895660717277091443259418181.dcm [Content-Type=application/dicom]...\n",
            "Copying file:///content/dcm_data/PCAMPMRI-00004/1.3.6.1.4.1.14519.5.2.1.3671.4754.394942238206951812120962051099/1.3.6.1.4.1.14519.5.2.1.3671.4754.159133597250698591956627534407/1.3.6.1.4.1.14519.5.2.1.3671.4754.845328686388325113824745675556.dcm [Content-Type=application/dicom]...\n",
            "Copying file:///content/dcm_data/PCAMPMRI-00004/1.3.6.1.4.1.14519.5.2.1.3671.4754.394942238206951812120962051099/1.3.6.1.4.1.14519.5.2.1.3671.4754.159133597250698591956627534407/1.3.6.1.4.1.14519.5.2.1.3671.4754.668061278978873717266648803168.dcm [Content-Type=application/dicom]...\n",
            "Copying file:///content/dcm_data/PCAMPMRI-00004/1.3.6.1.4.1.14519.5.2.1.3671.4754.394942238206951812120962051099/1.3.6.1.4.1.14519.5.2.1.3671.4754.159133597250698591956627534407/1.3.6.1.4.1.14519.5.2.1.3671.4754.111506798647877885954901332562.dcm [Content-Type=application/dicom]...\n",
            "Copying file:///content/dcm_data/PCAMPMRI-00004/1.3.6.1.4.1.14519.5.2.1.3671.4754.394942238206951812120962051099/1.3.6.1.4.1.14519.5.2.1.3671.4754.159133597250698591956627534407/1.3.6.1.4.1.14519.5.2.1.3671.4754.278919564646609395355755810549.dcm [Content-Type=application/dicom]...\n",
            "Copying file:///content/dcm_data/PCAMPMRI-00004/1.3.6.1.4.1.14519.5.2.1.3671.4754.394942238206951812120962051099/1.3.6.1.4.1.14519.5.2.1.3671.4754.159133597250698591956627534407/1.3.6.1.4.1.14519.5.2.1.3671.4754.798580962954174092114915823427.dcm [Content-Type=application/dicom]...\n",
            "Copying file:///content/dcm_data/PCAMPMRI-00004/1.3.6.1.4.1.14519.5.2.1.3671.4754.394942238206951812120962051099/1.3.6.1.4.1.14519.5.2.1.3671.4754.159133597250698591956627534407/1.3.6.1.4.1.14519.5.2.1.3671.4754.276240128662971539484447197970.dcm [Content-Type=application/dicom]...\n",
            "Copying file:///content/dcm_data/PCAMPMRI-00004/1.3.6.1.4.1.14519.5.2.1.3671.4754.394942238206951812120962051099/1.3.6.1.4.1.14519.5.2.1.3671.4754.159133597250698591956627534407/1.3.6.1.4.1.14519.5.2.1.3671.4754.186999889620642026296742447726.dcm [Content-Type=application/dicom]...\n",
            "Copying file:///content/dcm_data/PCAMPMRI-00004/1.3.6.1.4.1.14519.5.2.1.3671.4754.394942238206951812120962051099/1.3.6.1.4.1.14519.5.2.1.3671.4754.159133597250698591956627534407/1.3.6.1.4.1.14519.5.2.1.3671.4754.495257999226179871886001149215.dcm [Content-Type=application/dicom]...\n",
            "Copying file:///content/dcm_data/PCAMPMRI-00004/1.3.6.1.4.1.14519.5.2.1.3671.4754.394942238206951812120962051099/1.3.6.1.4.1.14519.5.2.1.3671.4754.159133597250698591956627534407/1.3.6.1.4.1.14519.5.2.1.3671.4754.213691232382097902432578479631.dcm [Content-Type=application/dicom]...\n",
            "Copying file:///content/dcm_data/PCAMPMRI-00004/1.3.6.1.4.1.14519.5.2.1.3671.4754.394942238206951812120962051099/1.3.6.1.4.1.14519.5.2.1.3671.4754.159133597250698591956627534407/1.3.6.1.4.1.14519.5.2.1.3671.4754.216222015999764044439978656493.dcm [Content-Type=application/dicom]...\n",
            "Copying file:///content/dcm_data/PCAMPMRI-00004/1.3.6.1.4.1.14519.5.2.1.3671.4754.394942238206951812120962051099/1.3.6.1.4.1.14519.5.2.1.3671.4754.159133597250698591956627534407/1.3.6.1.4.1.14519.5.2.1.3671.4754.162807812023218508667439725185.dcm [Content-Type=application/dicom]...\n",
            "Copying file:///content/dcm_data/PCAMPMRI-00004/1.3.6.1.4.1.14519.5.2.1.3671.4754.394942238206951812120962051099/1.3.6.1.4.1.14519.5.2.1.3671.4754.159133597250698591956627534407/1.3.6.1.4.1.14519.5.2.1.3671.4754.295531342056781413263801613484.dcm [Content-Type=application/dicom]...\n",
            "Copying file:///content/dcm_data/PCAMPMRI-00004/1.3.6.1.4.1.14519.5.2.1.3671.4754.394942238206951812120962051099/1.3.6.1.4.1.14519.5.2.1.3671.4754.159133597250698591956627534407/1.3.6.1.4.1.14519.5.2.1.3671.4754.175359116844649772032325444208.dcm [Content-Type=application/dicom]...\n",
            "Copying file:///content/dcm_data/PCAMPMRI-00004/1.3.6.1.4.1.14519.5.2.1.3671.4754.394942238206951812120962051099/1.3.6.1.4.1.14519.5.2.1.3671.4754.159133597250698591956627534407/1.3.6.1.4.1.14519.5.2.1.3671.4754.943403711262431689289373464043.dcm [Content-Type=application/dicom]...\n",
            "Copying file:///content/dcm_data/PCAMPMRI-00004/1.3.6.1.4.1.14519.5.2.1.3671.4754.394942238206951812120962051099/1.3.6.1.4.1.14519.5.2.1.3671.4754.159133597250698591956627534407/1.3.6.1.4.1.14519.5.2.1.3671.4754.120388125858977547655710815922.dcm [Content-Type=application/dicom]...\n",
            "Copying file:///content/dcm_data/PCAMPMRI-00004/1.3.6.1.4.1.14519.5.2.1.3671.4754.394942238206951812120962051099/1.3.6.1.4.1.14519.5.2.1.3671.4754.159133597250698591956627534407/1.3.6.1.4.1.14519.5.2.1.3671.4754.132548829062132241100101082071.dcm [Content-Type=application/dicom]...\n",
            "Copying file:///content/dcm_data/PCAMPMRI-00004/1.3.6.1.4.1.14519.5.2.1.3671.4754.394942238206951812120962051099/1.3.6.1.4.1.14519.5.2.1.3671.4754.159133597250698591956627534407/1.3.6.1.4.1.14519.5.2.1.3671.4754.273284303769670432950784536237.dcm [Content-Type=application/dicom]...\n",
            "Copying file:///content/dcm_data/PCAMPMRI-00004/1.3.6.1.4.1.14519.5.2.1.3671.4754.394942238206951812120962051099/1.3.6.1.4.1.14519.5.2.1.3671.4754.159133597250698591956627534407/1.3.6.1.4.1.14519.5.2.1.3671.4754.289906443283533464708488523572.dcm [Content-Type=application/dicom]...\n",
            "Copying file:///content/dcm_data/PCAMPMRI-00004/1.3.6.1.4.1.14519.5.2.1.3671.4754.394942238206951812120962051099/1.3.6.1.4.1.14519.5.2.1.3671.4754.159133597250698591956627534407/1.3.6.1.4.1.14519.5.2.1.3671.4754.321662466402424647131124933233.dcm [Content-Type=application/dicom]...\n",
            "Copying file:///content/dcm_data/PCAMPMRI-00004/1.3.6.1.4.1.14519.5.2.1.3671.4754.394942238206951812120962051099/1.3.6.1.4.1.14519.5.2.1.3671.4754.159133597250698591956627534407/1.3.6.1.4.1.14519.5.2.1.3671.4754.157883163640495930809406679998.dcm [Content-Type=application/dicom]...\n",
            "Copying file:///content/dcm_data/PCAMPMRI-00005/1.3.6.1.4.1.14519.5.2.1.3671.4754.240823776621155108064488841063/1.2.276.0.7230010.3.1.3.1426846371.7040.1513205137.187/1.2.276.0.7230010.3.1.4.1426846371.7040.1513205137.188.dcm [Content-Type=application/dicom]...\n",
            "Copying file:///content/dcm_data/PCAMPMRI-00005/1.3.6.1.4.1.14519.5.2.1.3671.4754.240823776621155108064488841063/1.3.6.1.4.1.14519.5.2.1.3671.4754.286942517091753799015309738287/1.3.6.1.4.1.14519.5.2.1.3671.4754.211440337815203977801885365045.dcm [Content-Type=application/dicom]...\n",
            "Copying file:///content/dcm_data/PCAMPMRI-00005/1.3.6.1.4.1.14519.5.2.1.3671.4754.240823776621155108064488841063/1.3.6.1.4.1.14519.5.2.1.3671.4754.286942517091753799015309738287/1.3.6.1.4.1.14519.5.2.1.3671.4754.199588036699194512163591093462.dcm [Content-Type=application/dicom]...\n",
            "Copying file:///content/dcm_data/PCAMPMRI-00005/1.3.6.1.4.1.14519.5.2.1.3671.4754.240823776621155108064488841063/1.3.6.1.4.1.14519.5.2.1.3671.4754.286942517091753799015309738287/1.3.6.1.4.1.14519.5.2.1.3671.4754.320971360892466857865857480975.dcm [Content-Type=application/dicom]...\n",
            "Copying file:///content/dcm_data/PCAMPMRI-00005/1.3.6.1.4.1.14519.5.2.1.3671.4754.240823776621155108064488841063/1.3.6.1.4.1.14519.5.2.1.3671.4754.286942517091753799015309738287/1.3.6.1.4.1.14519.5.2.1.3671.4754.334267493942444054580295792765.dcm [Content-Type=application/dicom]...\n",
            "Copying file:///content/dcm_data/PCAMPMRI-00005/1.3.6.1.4.1.14519.5.2.1.3671.4754.240823776621155108064488841063/1.3.6.1.4.1.14519.5.2.1.3671.4754.286942517091753799015309738287/1.3.6.1.4.1.14519.5.2.1.3671.4754.233936569379894457266245692911.dcm [Content-Type=application/dicom]...\n",
            "Copying file:///content/dcm_data/PCAMPMRI-00005/1.3.6.1.4.1.14519.5.2.1.3671.4754.240823776621155108064488841063/1.3.6.1.4.1.14519.5.2.1.3671.4754.286942517091753799015309738287/1.3.6.1.4.1.14519.5.2.1.3671.4754.276554742482100304398205227177.dcm [Content-Type=application/dicom]...\n",
            "Copying file:///content/dcm_data/PCAMPMRI-00005/1.3.6.1.4.1.14519.5.2.1.3671.4754.240823776621155108064488841063/1.3.6.1.4.1.14519.5.2.1.3671.4754.286942517091753799015309738287/1.3.6.1.4.1.14519.5.2.1.3671.4754.223522500011507308376713101344.dcm [Content-Type=application/dicom]...\n",
            "Copying file:///content/dcm_data/PCAMPMRI-00005/1.3.6.1.4.1.14519.5.2.1.3671.4754.240823776621155108064488841063/1.3.6.1.4.1.14519.5.2.1.3671.4754.286942517091753799015309738287/1.3.6.1.4.1.14519.5.2.1.3671.4754.134272735233633850274493335578.dcm [Content-Type=application/dicom]...\n",
            "Copying file:///content/dcm_data/PCAMPMRI-00005/1.3.6.1.4.1.14519.5.2.1.3671.4754.240823776621155108064488841063/1.3.6.1.4.1.14519.5.2.1.3671.4754.286942517091753799015309738287/1.3.6.1.4.1.14519.5.2.1.3671.4754.182754751222031591133340076756.dcm [Content-Type=application/dicom]...\n",
            "Copying file:///content/dcm_data/PCAMPMRI-00005/1.3.6.1.4.1.14519.5.2.1.3671.4754.240823776621155108064488841063/1.3.6.1.4.1.14519.5.2.1.3671.4754.286942517091753799015309738287/1.3.6.1.4.1.14519.5.2.1.3671.4754.185376914979527171201097433417.dcm [Content-Type=application/dicom]...\n",
            "Copying file:///content/dcm_data/PCAMPMRI-00005/1.3.6.1.4.1.14519.5.2.1.3671.4754.240823776621155108064488841063/1.3.6.1.4.1.14519.5.2.1.3671.4754.286942517091753799015309738287/1.3.6.1.4.1.14519.5.2.1.3671.4754.230074678554361544081503663844.dcm [Content-Type=application/dicom]...\n",
            "Copying file:///content/dcm_data/PCAMPMRI-00005/1.3.6.1.4.1.14519.5.2.1.3671.4754.240823776621155108064488841063/1.3.6.1.4.1.14519.5.2.1.3671.4754.286942517091753799015309738287/1.3.6.1.4.1.14519.5.2.1.3671.4754.207691731576893163528082440150.dcm [Content-Type=application/dicom]...\n",
            "Copying file:///content/dcm_data/PCAMPMRI-00005/1.3.6.1.4.1.14519.5.2.1.3671.4754.240823776621155108064488841063/1.3.6.1.4.1.14519.5.2.1.3671.4754.286942517091753799015309738287/1.3.6.1.4.1.14519.5.2.1.3671.4754.287229837214513499910932942445.dcm [Content-Type=application/dicom]...\n",
            "Copying file:///content/dcm_data/PCAMPMRI-00005/1.3.6.1.4.1.14519.5.2.1.3671.4754.240823776621155108064488841063/1.3.6.1.4.1.14519.5.2.1.3671.4754.286942517091753799015309738287/1.3.6.1.4.1.14519.5.2.1.3671.4754.277246006603845370955745878688.dcm [Content-Type=application/dicom]...\n",
            "Copying file:///content/dcm_data/PCAMPMRI-00005/1.3.6.1.4.1.14519.5.2.1.3671.4754.240823776621155108064488841063/1.3.6.1.4.1.14519.5.2.1.3671.4754.286942517091753799015309738287/1.3.6.1.4.1.14519.5.2.1.3671.4754.144156018785729991466168226308.dcm [Content-Type=application/dicom]...\n",
            "Copying file:///content/dcm_data/PCAMPMRI-00005/1.3.6.1.4.1.14519.5.2.1.3671.4754.240823776621155108064488841063/1.3.6.1.4.1.14519.5.2.1.3671.4754.286942517091753799015309738287/1.3.6.1.4.1.14519.5.2.1.3671.4754.203582188961666360716090677441.dcm [Content-Type=application/dicom]...\n",
            "Copying file:///content/dcm_data/PCAMPMRI-00005/1.3.6.1.4.1.14519.5.2.1.3671.4754.240823776621155108064488841063/1.3.6.1.4.1.14519.5.2.1.3671.4754.286942517091753799015309738287/1.3.6.1.4.1.14519.5.2.1.3671.4754.335844195147733302793826168844.dcm [Content-Type=application/dicom]...\n",
            "Copying file:///content/dcm_data/PCAMPMRI-00005/1.3.6.1.4.1.14519.5.2.1.3671.4754.240823776621155108064488841063/1.3.6.1.4.1.14519.5.2.1.3671.4754.286942517091753799015309738287/1.3.6.1.4.1.14519.5.2.1.3671.4754.338543670893784303420427327661.dcm [Content-Type=application/dicom]...\n",
            "Copying file:///content/dcm_data/PCAMPMRI-00005/1.3.6.1.4.1.14519.5.2.1.3671.4754.240823776621155108064488841063/1.3.6.1.4.1.14519.5.2.1.3671.4754.286942517091753799015309738287/1.3.6.1.4.1.14519.5.2.1.3671.4754.273248073848853909811943448003.dcm [Content-Type=application/dicom]...\n",
            "Copying file:///content/dcm_data/PCAMPMRI-00005/1.3.6.1.4.1.14519.5.2.1.3671.4754.240823776621155108064488841063/1.3.6.1.4.1.14519.5.2.1.3671.4754.286942517091753799015309738287/1.3.6.1.4.1.14519.5.2.1.3671.4754.146390039515965146916364537017.dcm [Content-Type=application/dicom]...\n",
            "Copying file:///content/dcm_data/PCAMPMRI-00005/1.3.6.1.4.1.14519.5.2.1.3671.4754.240823776621155108064488841063/1.3.6.1.4.1.14519.5.2.1.3671.4754.286942517091753799015309738287/1.3.6.1.4.1.14519.5.2.1.3671.4754.196801948159349723229920461588.dcm [Content-Type=application/dicom]...\n",
            "Copying file:///content/dcm_data/PCAMPMRI-00005/1.3.6.1.4.1.14519.5.2.1.3671.4754.240823776621155108064488841063/1.3.6.1.4.1.14519.5.2.1.3671.4754.286942517091753799015309738287/1.3.6.1.4.1.14519.5.2.1.3671.4754.106296647928798200875045691637.dcm [Content-Type=application/dicom]...\n",
            "Copying file:///content/dcm_data/PCAMPMRI-00005/1.3.6.1.4.1.14519.5.2.1.3671.4754.240823776621155108064488841063/1.3.6.1.4.1.14519.5.2.1.3671.4754.286942517091753799015309738287/1.3.6.1.4.1.14519.5.2.1.3671.4754.235275128182185263520868163298.dcm [Content-Type=application/dicom]...\n",
            "Copying file:///content/dcm_data/PCAMPMRI-00005/1.3.6.1.4.1.14519.5.2.1.3671.4754.240823776621155108064488841063/1.3.6.1.4.1.14519.5.2.1.3671.4754.286942517091753799015309738287/1.3.6.1.4.1.14519.5.2.1.3671.4754.294831843765207676290045818229.dcm [Content-Type=application/dicom]...\n",
            "Copying file:///content/dcm_data/PCAMPMRI-00005/1.3.6.1.4.1.14519.5.2.1.3671.4754.240823776621155108064488841063/1.3.6.1.4.1.14519.5.2.1.3671.4754.286942517091753799015309738287/1.3.6.1.4.1.14519.5.2.1.3671.4754.379668240356726784184474663497.dcm [Content-Type=application/dicom]...\n",
            "Copying file:///content/dcm_data/PCAMPMRI-00005/1.3.6.1.4.1.14519.5.2.1.3671.4754.240823776621155108064488841063/1.3.6.1.4.1.14519.5.2.1.3671.4754.286942517091753799015309738287/1.3.6.1.4.1.14519.5.2.1.3671.4754.250276549728631330018013887849.dcm [Content-Type=application/dicom]...\n",
            "Copying file:///content/dcm_data/PCAMPMRI-00005/1.3.6.1.4.1.14519.5.2.1.3671.4754.240823776621155108064488841063/1.3.6.1.4.1.14519.5.2.1.3671.4754.286942517091753799015309738287/1.3.6.1.4.1.14519.5.2.1.3671.4754.287612341220952257058836324839.dcm [Content-Type=application/dicom]...\n",
            "Copying file:///content/dcm_data/PCAMPMRI-00005/1.3.6.1.4.1.14519.5.2.1.3671.4754.240823776621155108064488841063/1.3.6.1.4.1.14519.5.2.1.3671.4754.286942517091753799015309738287/1.3.6.1.4.1.14519.5.2.1.3671.4754.381024669807275210814344461523.dcm [Content-Type=application/dicom]...\n",
            "Copying file:///content/dcm_data/PCAMPMRI-00005/1.3.6.1.4.1.14519.5.2.1.3671.4754.240823776621155108064488841063/1.3.6.1.4.1.14519.5.2.1.3671.4754.286942517091753799015309738287/1.3.6.1.4.1.14519.5.2.1.3671.4754.185461798454235153903071847514.dcm [Content-Type=application/dicom]...\n",
            "Copying file:///content/dcm_data/PCAMPMRI-00005/1.3.6.1.4.1.14519.5.2.1.3671.4754.240823776621155108064488841063/1.3.6.1.4.1.14519.5.2.1.3671.4754.286942517091753799015309738287/1.3.6.1.4.1.14519.5.2.1.3671.4754.247933803227101339165202686497.dcm [Content-Type=application/dicom]...\n",
            "Copying file:///content/dcm_data/PCAMPMRI-00005/1.3.6.1.4.1.14519.5.2.1.3671.4754.240823776621155108064488841063/1.3.6.1.4.1.14519.5.2.1.3671.4754.286942517091753799015309738287/1.3.6.1.4.1.14519.5.2.1.3671.4754.572530675237591523185044492842.dcm [Content-Type=application/dicom]...\n",
            "Copying file:///content/dcm_data/PCAMPMRI-00005/1.3.6.1.4.1.14519.5.2.1.3671.4754.240823776621155108064488841063/1.3.6.1.4.1.14519.5.2.1.3671.4754.286942517091753799015309738287/1.3.6.1.4.1.14519.5.2.1.3671.4754.256338043833809611032433248033.dcm [Content-Type=application/dicom]...\n",
            "Copying file:///content/dcm_data/PCAMPMRI-00005/1.3.6.1.4.1.14519.5.2.1.3671.4754.233298968565250099224990877587/1.2.276.0.7230010.3.1.3.1426846371.14696.1513205139.448/1.2.276.0.7230010.3.1.4.1426846371.14696.1513205139.449.dcm [Content-Type=application/dicom]...\n",
            "Copying file:///content/dcm_data/PCAMPMRI-00005/1.3.6.1.4.1.14519.5.2.1.3671.4754.233298968565250099224990877587/1.3.6.1.4.1.14519.5.2.1.3671.4754.614440195550629594157279113517/1.3.6.1.4.1.14519.5.2.1.3671.4754.126108681133327273517946488029.dcm [Content-Type=application/dicom]...\n",
            "Copying file:///content/dcm_data/PCAMPMRI-00005/1.3.6.1.4.1.14519.5.2.1.3671.4754.233298968565250099224990877587/1.3.6.1.4.1.14519.5.2.1.3671.4754.614440195550629594157279113517/1.3.6.1.4.1.14519.5.2.1.3671.4754.378478672741149720721726347751.dcm [Content-Type=application/dicom]...\n",
            "Copying file:///content/dcm_data/PCAMPMRI-00005/1.3.6.1.4.1.14519.5.2.1.3671.4754.233298968565250099224990877587/1.3.6.1.4.1.14519.5.2.1.3671.4754.614440195550629594157279113517/1.3.6.1.4.1.14519.5.2.1.3671.4754.259415135650991298518397616383.dcm [Content-Type=application/dicom]...\n",
            "Copying file:///content/dcm_data/PCAMPMRI-00005/1.3.6.1.4.1.14519.5.2.1.3671.4754.233298968565250099224990877587/1.3.6.1.4.1.14519.5.2.1.3671.4754.614440195550629594157279113517/1.3.6.1.4.1.14519.5.2.1.3671.4754.231123866509639610500662563733.dcm [Content-Type=application/dicom]...\n",
            "Copying file:///content/dcm_data/PCAMPMRI-00005/1.3.6.1.4.1.14519.5.2.1.3671.4754.233298968565250099224990877587/1.3.6.1.4.1.14519.5.2.1.3671.4754.614440195550629594157279113517/1.3.6.1.4.1.14519.5.2.1.3671.4754.236055041686940307472210875531.dcm [Content-Type=application/dicom]...\n",
            "Copying file:///content/dcm_data/PCAMPMRI-00005/1.3.6.1.4.1.14519.5.2.1.3671.4754.233298968565250099224990877587/1.3.6.1.4.1.14519.5.2.1.3671.4754.614440195550629594157279113517/1.3.6.1.4.1.14519.5.2.1.3671.4754.278575035681611658332751381715.dcm [Content-Type=application/dicom]...\n",
            "Copying file:///content/dcm_data/PCAMPMRI-00005/1.3.6.1.4.1.14519.5.2.1.3671.4754.233298968565250099224990877587/1.3.6.1.4.1.14519.5.2.1.3671.4754.614440195550629594157279113517/1.3.6.1.4.1.14519.5.2.1.3671.4754.262743028092216846818000877805.dcm [Content-Type=application/dicom]...\n",
            "Copying file:///content/dcm_data/PCAMPMRI-00005/1.3.6.1.4.1.14519.5.2.1.3671.4754.233298968565250099224990877587/1.3.6.1.4.1.14519.5.2.1.3671.4754.614440195550629594157279113517/1.3.6.1.4.1.14519.5.2.1.3671.4754.206423937992666413386591537434.dcm [Content-Type=application/dicom]...\n",
            "Copying file:///content/dcm_data/PCAMPMRI-00005/1.3.6.1.4.1.14519.5.2.1.3671.4754.233298968565250099224990877587/1.3.6.1.4.1.14519.5.2.1.3671.4754.614440195550629594157279113517/1.3.6.1.4.1.14519.5.2.1.3671.4754.105866409138419152180616214992.dcm [Content-Type=application/dicom]...\n",
            "Copying file:///content/dcm_data/PCAMPMRI-00005/1.3.6.1.4.1.14519.5.2.1.3671.4754.233298968565250099224990877587/1.3.6.1.4.1.14519.5.2.1.3671.4754.614440195550629594157279113517/1.3.6.1.4.1.14519.5.2.1.3671.4754.133305879828160025121714686263.dcm [Content-Type=application/dicom]...\n",
            "Copying file:///content/dcm_data/PCAMPMRI-00005/1.3.6.1.4.1.14519.5.2.1.3671.4754.233298968565250099224990877587/1.3.6.1.4.1.14519.5.2.1.3671.4754.614440195550629594157279113517/1.3.6.1.4.1.14519.5.2.1.3671.4754.212918956203761656838643424070.dcm [Content-Type=application/dicom]...\n",
            "Copying file:///content/dcm_data/PCAMPMRI-00005/1.3.6.1.4.1.14519.5.2.1.3671.4754.233298968565250099224990877587/1.3.6.1.4.1.14519.5.2.1.3671.4754.614440195550629594157279113517/1.3.6.1.4.1.14519.5.2.1.3671.4754.131131568087861619483129363701.dcm [Content-Type=application/dicom]...\n",
            "Copying file:///content/dcm_data/PCAMPMRI-00005/1.3.6.1.4.1.14519.5.2.1.3671.4754.233298968565250099224990877587/1.3.6.1.4.1.14519.5.2.1.3671.4754.614440195550629594157279113517/1.3.6.1.4.1.14519.5.2.1.3671.4754.264312556742454485628315235932.dcm [Content-Type=application/dicom]...\n",
            "Copying file:///content/dcm_data/PCAMPMRI-00005/1.3.6.1.4.1.14519.5.2.1.3671.4754.233298968565250099224990877587/1.3.6.1.4.1.14519.5.2.1.3671.4754.614440195550629594157279113517/1.3.6.1.4.1.14519.5.2.1.3671.4754.129307761952666273566098120051.dcm [Content-Type=application/dicom]...\n",
            "Copying file:///content/dcm_data/PCAMPMRI-00005/1.3.6.1.4.1.14519.5.2.1.3671.4754.233298968565250099224990877587/1.3.6.1.4.1.14519.5.2.1.3671.4754.614440195550629594157279113517/1.3.6.1.4.1.14519.5.2.1.3671.4754.161070087456364188836360224311.dcm [Content-Type=application/dicom]...\n",
            "Copying file:///content/dcm_data/PCAMPMRI-00005/1.3.6.1.4.1.14519.5.2.1.3671.4754.233298968565250099224990877587/1.3.6.1.4.1.14519.5.2.1.3671.4754.614440195550629594157279113517/1.3.6.1.4.1.14519.5.2.1.3671.4754.298413695553626976473645366455.dcm [Content-Type=application/dicom]...\n",
            "Copying file:///content/dcm_data/PCAMPMRI-00005/1.3.6.1.4.1.14519.5.2.1.3671.4754.233298968565250099224990877587/1.3.6.1.4.1.14519.5.2.1.3671.4754.614440195550629594157279113517/1.3.6.1.4.1.14519.5.2.1.3671.4754.313780782020017502886795942839.dcm [Content-Type=application/dicom]...\n",
            "Copying file:///content/dcm_data/PCAMPMRI-00005/1.3.6.1.4.1.14519.5.2.1.3671.4754.233298968565250099224990877587/1.3.6.1.4.1.14519.5.2.1.3671.4754.614440195550629594157279113517/1.3.6.1.4.1.14519.5.2.1.3671.4754.952618637707203225519207268400.dcm [Content-Type=application/dicom]...\n",
            "Copying file:///content/dcm_data/PCAMPMRI-00005/1.3.6.1.4.1.14519.5.2.1.3671.4754.233298968565250099224990877587/1.3.6.1.4.1.14519.5.2.1.3671.4754.614440195550629594157279113517/1.3.6.1.4.1.14519.5.2.1.3671.4754.396122038613192312418843193542.dcm [Content-Type=application/dicom]...\n",
            "Copying file:///content/dcm_data/PCAMPMRI-00005/1.3.6.1.4.1.14519.5.2.1.3671.4754.233298968565250099224990877587/1.3.6.1.4.1.14519.5.2.1.3671.4754.614440195550629594157279113517/1.3.6.1.4.1.14519.5.2.1.3671.4754.228005523520851023230453929395.dcm [Content-Type=application/dicom]...\n",
            "Copying file:///content/dcm_data/PCAMPMRI-00005/1.3.6.1.4.1.14519.5.2.1.3671.4754.233298968565250099224990877587/1.3.6.1.4.1.14519.5.2.1.3671.4754.614440195550629594157279113517/1.3.6.1.4.1.14519.5.2.1.3671.4754.296402772811652489218216727992.dcm [Content-Type=application/dicom]...\n",
            "Copying file:///content/dcm_data/PCAMPMRI-00005/1.3.6.1.4.1.14519.5.2.1.3671.4754.233298968565250099224990877587/1.3.6.1.4.1.14519.5.2.1.3671.4754.614440195550629594157279113517/1.3.6.1.4.1.14519.5.2.1.3671.4754.171898996733308443079732187808.dcm [Content-Type=application/dicom]...\n",
            "Copying file:///content/dcm_data/PCAMPMRI-00005/1.3.6.1.4.1.14519.5.2.1.3671.4754.233298968565250099224990877587/1.3.6.1.4.1.14519.5.2.1.3671.4754.614440195550629594157279113517/1.3.6.1.4.1.14519.5.2.1.3671.4754.128755224026140306338257873788.dcm [Content-Type=application/dicom]...\n",
            "Copying file:///content/dcm_data/PCAMPMRI-00005/1.3.6.1.4.1.14519.5.2.1.3671.4754.233298968565250099224990877587/1.3.6.1.4.1.14519.5.2.1.3671.4754.614440195550629594157279113517/1.3.6.1.4.1.14519.5.2.1.3671.4754.241117131160596141453292867650.dcm [Content-Type=application/dicom]...\n",
            "Copying file:///content/dcm_data/PCAMPMRI-00005/1.3.6.1.4.1.14519.5.2.1.3671.4754.233298968565250099224990877587/1.3.6.1.4.1.14519.5.2.1.3671.4754.614440195550629594157279113517/1.3.6.1.4.1.14519.5.2.1.3671.4754.333856511715701096762001328628.dcm [Content-Type=application/dicom]...\n",
            "Copying file:///content/dcm_data/PCAMPMRI-00005/1.3.6.1.4.1.14519.5.2.1.3671.4754.233298968565250099224990877587/1.3.6.1.4.1.14519.5.2.1.3671.4754.614440195550629594157279113517/1.3.6.1.4.1.14519.5.2.1.3671.4754.328171247853495880468532298833.dcm [Content-Type=application/dicom]...\n",
            "Copying file:///content/dcm_data/PCAMPMRI-00005/1.3.6.1.4.1.14519.5.2.1.3671.4754.233298968565250099224990877587/1.3.6.1.4.1.14519.5.2.1.3671.4754.614440195550629594157279113517/1.3.6.1.4.1.14519.5.2.1.3671.4754.170389818307618091574237431713.dcm [Content-Type=application/dicom]...\n",
            "Copying file:///content/dcm_data/PCAMPMRI-00005/1.3.6.1.4.1.14519.5.2.1.3671.4754.233298968565250099224990877587/1.3.6.1.4.1.14519.5.2.1.3671.4754.614440195550629594157279113517/1.3.6.1.4.1.14519.5.2.1.3671.4754.202508947515921366430235313386.dcm [Content-Type=application/dicom]...\n",
            "Copying file:///content/dcm_data/PCAMPMRI-00005/1.3.6.1.4.1.14519.5.2.1.3671.4754.233298968565250099224990877587/1.3.6.1.4.1.14519.5.2.1.3671.4754.614440195550629594157279113517/1.3.6.1.4.1.14519.5.2.1.3671.4754.140472398863669555473794930021.dcm [Content-Type=application/dicom]...\n",
            "Copying file:///content/dcm_data/PCAMPMRI-00005/1.3.6.1.4.1.14519.5.2.1.3671.4754.233298968565250099224990877587/1.3.6.1.4.1.14519.5.2.1.3671.4754.614440195550629594157279113517/1.3.6.1.4.1.14519.5.2.1.3671.4754.954733687908048199984082707884.dcm [Content-Type=application/dicom]...\n",
            "Copying file:///content/dcm_data/PCAMPMRI-00005/1.3.6.1.4.1.14519.5.2.1.3671.4754.233298968565250099224990877587/1.3.6.1.4.1.14519.5.2.1.3671.4754.614440195550629594157279113517/1.3.6.1.4.1.14519.5.2.1.3671.4754.769603427049169710163512412471.dcm [Content-Type=application/dicom]...\n",
            "Copying file:///content/dcm_data/PCAMPMRI-00005/1.3.6.1.4.1.14519.5.2.1.3671.4754.233298968565250099224990877587/1.3.6.1.4.1.14519.5.2.1.3671.4754.614440195550629594157279113517/1.3.6.1.4.1.14519.5.2.1.3671.4754.133999352964831285765799396066.dcm [Content-Type=application/dicom]...\n",
            "Copying file:///content/dcm_data/PCAMPMRI-00005/1.3.6.1.4.1.14519.5.2.1.3671.4754.233298968565250099224990877587/1.3.6.1.4.1.14519.5.2.1.3671.4754.614440195550629594157279113517/1.3.6.1.4.1.14519.5.2.1.3671.4754.200830497300907687834813725161.dcm [Content-Type=application/dicom]...\n",
            "Copying file:///content/dcm_data/PCAMPMRI-00005/1.3.6.1.4.1.14519.5.2.1.3671.4754.233298968565250099224990877587/1.3.6.1.4.1.14519.5.2.1.3671.4754.614440195550629594157279113517/1.3.6.1.4.1.14519.5.2.1.3671.4754.202235566553261266828138662241.dcm [Content-Type=application/dicom]...\n",
            "Copying file:///content/dcm_data/PCAMPMRI-00006/1.3.6.1.4.1.14519.5.2.1.3671.4754.287814201869490350714498330797/1.3.6.1.4.1.14519.5.2.1.3671.4754.124813816937601110554342446480/1.3.6.1.4.1.14519.5.2.1.3671.4754.137007209906909377513518745555.dcm [Content-Type=application/dicom]...\n",
            "Copying file:///content/dcm_data/PCAMPMRI-00006/1.3.6.1.4.1.14519.5.2.1.3671.4754.287814201869490350714498330797/1.3.6.1.4.1.14519.5.2.1.3671.4754.124813816937601110554342446480/1.3.6.1.4.1.14519.5.2.1.3671.4754.129340196072187422776274203960.dcm [Content-Type=application/dicom]...\n",
            "Copying file:///content/dcm_data/PCAMPMRI-00006/1.3.6.1.4.1.14519.5.2.1.3671.4754.287814201869490350714498330797/1.3.6.1.4.1.14519.5.2.1.3671.4754.124813816937601110554342446480/1.3.6.1.4.1.14519.5.2.1.3671.4754.189690029370632045711016084532.dcm [Content-Type=application/dicom]...\n",
            "Copying file:///content/dcm_data/PCAMPMRI-00006/1.3.6.1.4.1.14519.5.2.1.3671.4754.287814201869490350714498330797/1.3.6.1.4.1.14519.5.2.1.3671.4754.124813816937601110554342446480/1.3.6.1.4.1.14519.5.2.1.3671.4754.160262306103372072346972681704.dcm [Content-Type=application/dicom]...\n",
            "Copying file:///content/dcm_data/PCAMPMRI-00006/1.3.6.1.4.1.14519.5.2.1.3671.4754.287814201869490350714498330797/1.3.6.1.4.1.14519.5.2.1.3671.4754.124813816937601110554342446480/1.3.6.1.4.1.14519.5.2.1.3671.4754.303031770435993493402216269973.dcm [Content-Type=application/dicom]...\n",
            "Copying file:///content/dcm_data/PCAMPMRI-00006/1.3.6.1.4.1.14519.5.2.1.3671.4754.287814201869490350714498330797/1.3.6.1.4.1.14519.5.2.1.3671.4754.124813816937601110554342446480/1.3.6.1.4.1.14519.5.2.1.3671.4754.113374588623320697860707459380.dcm [Content-Type=application/dicom]...\n",
            "Copying file:///content/dcm_data/PCAMPMRI-00006/1.3.6.1.4.1.14519.5.2.1.3671.4754.287814201869490350714498330797/1.3.6.1.4.1.14519.5.2.1.3671.4754.124813816937601110554342446480/1.3.6.1.4.1.14519.5.2.1.3671.4754.326498669775758650937526315757.dcm [Content-Type=application/dicom]...\n",
            "Copying file:///content/dcm_data/PCAMPMRI-00006/1.3.6.1.4.1.14519.5.2.1.3671.4754.287814201869490350714498330797/1.3.6.1.4.1.14519.5.2.1.3671.4754.124813816937601110554342446480/1.3.6.1.4.1.14519.5.2.1.3671.4754.218546959779757988759577342378.dcm [Content-Type=application/dicom]...\n",
            "Copying file:///content/dcm_data/PCAMPMRI-00006/1.3.6.1.4.1.14519.5.2.1.3671.4754.287814201869490350714498330797/1.3.6.1.4.1.14519.5.2.1.3671.4754.124813816937601110554342446480/1.3.6.1.4.1.14519.5.2.1.3671.4754.570712353813300880117337234736.dcm [Content-Type=application/dicom]...\n",
            "Copying file:///content/dcm_data/PCAMPMRI-00006/1.3.6.1.4.1.14519.5.2.1.3671.4754.287814201869490350714498330797/1.3.6.1.4.1.14519.5.2.1.3671.4754.124813816937601110554342446480/1.3.6.1.4.1.14519.5.2.1.3671.4754.186914671392695197456302899501.dcm [Content-Type=application/dicom]...\n",
            "Copying file:///content/dcm_data/PCAMPMRI-00006/1.3.6.1.4.1.14519.5.2.1.3671.4754.287814201869490350714498330797/1.3.6.1.4.1.14519.5.2.1.3671.4754.124813816937601110554342446480/1.3.6.1.4.1.14519.5.2.1.3671.4754.257696254222819510997469601926.dcm [Content-Type=application/dicom]...\n",
            "Copying file:///content/dcm_data/PCAMPMRI-00006/1.3.6.1.4.1.14519.5.2.1.3671.4754.287814201869490350714498330797/1.3.6.1.4.1.14519.5.2.1.3671.4754.124813816937601110554342446480/1.3.6.1.4.1.14519.5.2.1.3671.4754.277286790468448978492162723876.dcm [Content-Type=application/dicom]...\n",
            "Copying file:///content/dcm_data/PCAMPMRI-00006/1.3.6.1.4.1.14519.5.2.1.3671.4754.287814201869490350714498330797/1.3.6.1.4.1.14519.5.2.1.3671.4754.124813816937601110554342446480/1.3.6.1.4.1.14519.5.2.1.3671.4754.220309436491053692298569862177.dcm [Content-Type=application/dicom]...\n",
            "Copying file:///content/dcm_data/PCAMPMRI-00006/1.3.6.1.4.1.14519.5.2.1.3671.4754.287814201869490350714498330797/1.3.6.1.4.1.14519.5.2.1.3671.4754.124813816937601110554342446480/1.3.6.1.4.1.14519.5.2.1.3671.4754.273240553232246514042619174515.dcm [Content-Type=application/dicom]...\n",
            "Copying file:///content/dcm_data/PCAMPMRI-00006/1.3.6.1.4.1.14519.5.2.1.3671.4754.287814201869490350714498330797/1.3.6.1.4.1.14519.5.2.1.3671.4754.124813816937601110554342446480/1.3.6.1.4.1.14519.5.2.1.3671.4754.167295443524527387120834626739.dcm [Content-Type=application/dicom]...\n",
            "Copying file:///content/dcm_data/PCAMPMRI-00006/1.3.6.1.4.1.14519.5.2.1.3671.4754.287814201869490350714498330797/1.3.6.1.4.1.14519.5.2.1.3671.4754.124813816937601110554342446480/1.3.6.1.4.1.14519.5.2.1.3671.4754.206201869056721848930358144099.dcm [Content-Type=application/dicom]...\n",
            "Copying file:///content/dcm_data/PCAMPMRI-00006/1.3.6.1.4.1.14519.5.2.1.3671.4754.287814201869490350714498330797/1.3.6.1.4.1.14519.5.2.1.3671.4754.124813816937601110554342446480/1.3.6.1.4.1.14519.5.2.1.3671.4754.210587772025738245457979760039.dcm [Content-Type=application/dicom]...\n",
            "Copying file:///content/dcm_data/PCAMPMRI-00006/1.3.6.1.4.1.14519.5.2.1.3671.4754.287814201869490350714498330797/1.3.6.1.4.1.14519.5.2.1.3671.4754.124813816937601110554342446480/1.3.6.1.4.1.14519.5.2.1.3671.4754.333720110620500675889782006452.dcm [Content-Type=application/dicom]...\n",
            "Copying file:///content/dcm_data/PCAMPMRI-00006/1.3.6.1.4.1.14519.5.2.1.3671.4754.287814201869490350714498330797/1.3.6.1.4.1.14519.5.2.1.3671.4754.124813816937601110554342446480/1.3.6.1.4.1.14519.5.2.1.3671.4754.735682385664604203782535412457.dcm [Content-Type=application/dicom]...\n",
            "Copying file:///content/dcm_data/PCAMPMRI-00006/1.3.6.1.4.1.14519.5.2.1.3671.4754.287814201869490350714498330797/1.3.6.1.4.1.14519.5.2.1.3671.4754.124813816937601110554342446480/1.3.6.1.4.1.14519.5.2.1.3671.4754.178719232473343855868511409763.dcm [Content-Type=application/dicom]...\n",
            "Copying file:///content/dcm_data/PCAMPMRI-00006/1.3.6.1.4.1.14519.5.2.1.3671.4754.287814201869490350714498330797/1.3.6.1.4.1.14519.5.2.1.3671.4754.124813816937601110554342446480/1.3.6.1.4.1.14519.5.2.1.3671.4754.301782389809554799910630350659.dcm [Content-Type=application/dicom]...\n",
            "Copying file:///content/dcm_data/PCAMPMRI-00006/1.3.6.1.4.1.14519.5.2.1.3671.4754.287814201869490350714498330797/1.3.6.1.4.1.14519.5.2.1.3671.4754.124813816937601110554342446480/1.3.6.1.4.1.14519.5.2.1.3671.4754.447413652400468909410385262955.dcm [Content-Type=application/dicom]...\n",
            "Copying file:///content/dcm_data/PCAMPMRI-00006/1.3.6.1.4.1.14519.5.2.1.3671.4754.287814201869490350714498330797/1.3.6.1.4.1.14519.5.2.1.3671.4754.124813816937601110554342446480/1.3.6.1.4.1.14519.5.2.1.3671.4754.547054099949479671341024928308.dcm [Content-Type=application/dicom]...\n",
            "Copying file:///content/dcm_data/PCAMPMRI-00006/1.3.6.1.4.1.14519.5.2.1.3671.4754.287814201869490350714498330797/1.3.6.1.4.1.14519.5.2.1.3671.4754.124813816937601110554342446480/1.3.6.1.4.1.14519.5.2.1.3671.4754.148157642378408154095210675634.dcm [Content-Type=application/dicom]...\n",
            "Copying file:///content/dcm_data/PCAMPMRI-00006/1.3.6.1.4.1.14519.5.2.1.3671.4754.287814201869490350714498330797/1.3.6.1.4.1.14519.5.2.1.3671.4754.124813816937601110554342446480/1.3.6.1.4.1.14519.5.2.1.3671.4754.945446335115061371123736813002.dcm [Content-Type=application/dicom]...\n",
            "Copying file:///content/dcm_data/PCAMPMRI-00006/1.3.6.1.4.1.14519.5.2.1.3671.4754.287814201869490350714498330797/1.3.6.1.4.1.14519.5.2.1.3671.4754.124813816937601110554342446480/1.3.6.1.4.1.14519.5.2.1.3671.4754.106651732420289279321552988263.dcm [Content-Type=application/dicom]...\n",
            "Copying file:///content/dcm_data/PCAMPMRI-00006/1.3.6.1.4.1.14519.5.2.1.3671.4754.287814201869490350714498330797/1.3.6.1.4.1.14519.5.2.1.3671.4754.124813816937601110554342446480/1.3.6.1.4.1.14519.5.2.1.3671.4754.532302821930243618564565413703.dcm [Content-Type=application/dicom]...\n",
            "Copying file:///content/dcm_data/PCAMPMRI-00006/1.3.6.1.4.1.14519.5.2.1.3671.4754.287814201869490350714498330797/1.3.6.1.4.1.14519.5.2.1.3671.4754.124813816937601110554342446480/1.3.6.1.4.1.14519.5.2.1.3671.4754.922064462901219899307118042898.dcm [Content-Type=application/dicom]...\n",
            "Copying file:///content/dcm_data/PCAMPMRI-00006/1.3.6.1.4.1.14519.5.2.1.3671.4754.287814201869490350714498330797/1.3.6.1.4.1.14519.5.2.1.3671.4754.124813816937601110554342446480/1.3.6.1.4.1.14519.5.2.1.3671.4754.281556140757699415215541859543.dcm [Content-Type=application/dicom]...\n",
            "Copying file:///content/dcm_data/PCAMPMRI-00006/1.3.6.1.4.1.14519.5.2.1.3671.4754.287814201869490350714498330797/1.3.6.1.4.1.14519.5.2.1.3671.4754.124813816937601110554342446480/1.3.6.1.4.1.14519.5.2.1.3671.4754.168964503688952983895501194788.dcm [Content-Type=application/dicom]...\n",
            "Copying file:///content/dcm_data/PCAMPMRI-00006/1.3.6.1.4.1.14519.5.2.1.3671.4754.287814201869490350714498330797/1.3.6.1.4.1.14519.5.2.1.3671.4754.124813816937601110554342446480/1.3.6.1.4.1.14519.5.2.1.3671.4754.226145895906412371801497931524.dcm [Content-Type=application/dicom]...\n",
            "Copying file:///content/dcm_data/PCAMPMRI-00006/1.3.6.1.4.1.14519.5.2.1.3671.4754.287814201869490350714498330797/1.3.6.1.4.1.14519.5.2.1.3671.4754.124813816937601110554342446480/1.3.6.1.4.1.14519.5.2.1.3671.4754.314897629572007066816343046558.dcm [Content-Type=application/dicom]...\n",
            "Copying file:///content/dcm_data/PCAMPMRI-00006/1.3.6.1.4.1.14519.5.2.1.3671.4754.287814201869490350714498330797/1.3.6.1.4.1.14519.5.2.1.3671.4754.124813816937601110554342446480/1.3.6.1.4.1.14519.5.2.1.3671.4754.224882171352685380429852704506.dcm [Content-Type=application/dicom]...\n",
            "Copying file:///content/dcm_data/PCAMPMRI-00006/1.3.6.1.4.1.14519.5.2.1.3671.4754.287814201869490350714498330797/1.3.6.1.4.1.14519.5.2.1.3671.4754.124813816937601110554342446480/1.3.6.1.4.1.14519.5.2.1.3671.4754.298228647870388030544825675692.dcm [Content-Type=application/dicom]...\n",
            "Copying file:///content/dcm_data/PCAMPMRI-00006/1.3.6.1.4.1.14519.5.2.1.3671.4754.287814201869490350714498330797/1.2.276.0.7230010.3.1.3.1426846371.15788.1513205142.615/1.2.276.0.7230010.3.1.4.1426846371.15788.1513205142.616.dcm [Content-Type=application/dicom]...\n",
            "Copying file:///content/dcm_data/PCAMPMRI-00006/1.3.6.1.4.1.14519.5.2.1.3671.4754.133806669697115873569905534398/1.3.6.1.4.1.14519.5.2.1.3671.4754.330595492110314365252888110460/1.3.6.1.4.1.14519.5.2.1.3671.4754.220464105378528490118372781887.dcm [Content-Type=application/dicom]...\n",
            "Copying file:///content/dcm_data/PCAMPMRI-00006/1.3.6.1.4.1.14519.5.2.1.3671.4754.133806669697115873569905534398/1.3.6.1.4.1.14519.5.2.1.3671.4754.330595492110314365252888110460/1.3.6.1.4.1.14519.5.2.1.3671.4754.376198748729947890338314343719.dcm [Content-Type=application/dicom]...\n",
            "Copying file:///content/dcm_data/PCAMPMRI-00006/1.3.6.1.4.1.14519.5.2.1.3671.4754.133806669697115873569905534398/1.3.6.1.4.1.14519.5.2.1.3671.4754.330595492110314365252888110460/1.3.6.1.4.1.14519.5.2.1.3671.4754.309336990899986147624940018335.dcm [Content-Type=application/dicom]...\n",
            "Copying file:///content/dcm_data/PCAMPMRI-00006/1.3.6.1.4.1.14519.5.2.1.3671.4754.133806669697115873569905534398/1.3.6.1.4.1.14519.5.2.1.3671.4754.330595492110314365252888110460/1.3.6.1.4.1.14519.5.2.1.3671.4754.679551222306380697602667746627.dcm [Content-Type=application/dicom]...\n",
            "Copying file:///content/dcm_data/PCAMPMRI-00006/1.3.6.1.4.1.14519.5.2.1.3671.4754.133806669697115873569905534398/1.3.6.1.4.1.14519.5.2.1.3671.4754.330595492110314365252888110460/1.3.6.1.4.1.14519.5.2.1.3671.4754.122818020128148862360097470210.dcm [Content-Type=application/dicom]...\n",
            "Copying file:///content/dcm_data/PCAMPMRI-00006/1.3.6.1.4.1.14519.5.2.1.3671.4754.133806669697115873569905534398/1.3.6.1.4.1.14519.5.2.1.3671.4754.330595492110314365252888110460/1.3.6.1.4.1.14519.5.2.1.3671.4754.167835429821195546309919053543.dcm [Content-Type=application/dicom]...\n",
            "Copying file:///content/dcm_data/PCAMPMRI-00006/1.3.6.1.4.1.14519.5.2.1.3671.4754.133806669697115873569905534398/1.3.6.1.4.1.14519.5.2.1.3671.4754.330595492110314365252888110460/1.3.6.1.4.1.14519.5.2.1.3671.4754.163133369234620671499610425193.dcm [Content-Type=application/dicom]...\n",
            "Copying file:///content/dcm_data/PCAMPMRI-00006/1.3.6.1.4.1.14519.5.2.1.3671.4754.133806669697115873569905534398/1.3.6.1.4.1.14519.5.2.1.3671.4754.330595492110314365252888110460/1.3.6.1.4.1.14519.5.2.1.3671.4754.304914135367325188729508563955.dcm [Content-Type=application/dicom]...\n",
            "Copying file:///content/dcm_data/PCAMPMRI-00006/1.3.6.1.4.1.14519.5.2.1.3671.4754.133806669697115873569905534398/1.3.6.1.4.1.14519.5.2.1.3671.4754.330595492110314365252888110460/1.3.6.1.4.1.14519.5.2.1.3671.4754.324497258732977122882843081545.dcm [Content-Type=application/dicom]...\n",
            "Copying file:///content/dcm_data/PCAMPMRI-00006/1.3.6.1.4.1.14519.5.2.1.3671.4754.133806669697115873569905534398/1.3.6.1.4.1.14519.5.2.1.3671.4754.330595492110314365252888110460/1.3.6.1.4.1.14519.5.2.1.3671.4754.249485648511144998028488753595.dcm [Content-Type=application/dicom]...\n",
            "Copying file:///content/dcm_data/PCAMPMRI-00006/1.3.6.1.4.1.14519.5.2.1.3671.4754.133806669697115873569905534398/1.3.6.1.4.1.14519.5.2.1.3671.4754.330595492110314365252888110460/1.3.6.1.4.1.14519.5.2.1.3671.4754.951433942805097643812105331068.dcm [Content-Type=application/dicom]...\n",
            "Copying file:///content/dcm_data/PCAMPMRI-00006/1.3.6.1.4.1.14519.5.2.1.3671.4754.133806669697115873569905534398/1.3.6.1.4.1.14519.5.2.1.3671.4754.330595492110314365252888110460/1.3.6.1.4.1.14519.5.2.1.3671.4754.338415639381912574249236872168.dcm [Content-Type=application/dicom]...\n",
            "Copying file:///content/dcm_data/PCAMPMRI-00006/1.3.6.1.4.1.14519.5.2.1.3671.4754.133806669697115873569905534398/1.3.6.1.4.1.14519.5.2.1.3671.4754.330595492110314365252888110460/1.3.6.1.4.1.14519.5.2.1.3671.4754.282109296954570044859460966327.dcm [Content-Type=application/dicom]...\n",
            "Copying file:///content/dcm_data/PCAMPMRI-00006/1.3.6.1.4.1.14519.5.2.1.3671.4754.133806669697115873569905534398/1.3.6.1.4.1.14519.5.2.1.3671.4754.330595492110314365252888110460/1.3.6.1.4.1.14519.5.2.1.3671.4754.128225439805353871203278546541.dcm [Content-Type=application/dicom]...\n",
            "Copying file:///content/dcm_data/PCAMPMRI-00006/1.3.6.1.4.1.14519.5.2.1.3671.4754.133806669697115873569905534398/1.3.6.1.4.1.14519.5.2.1.3671.4754.330595492110314365252888110460/1.3.6.1.4.1.14519.5.2.1.3671.4754.270770930907202021629660167073.dcm [Content-Type=application/dicom]...\n",
            "Copying file:///content/dcm_data/PCAMPMRI-00006/1.3.6.1.4.1.14519.5.2.1.3671.4754.133806669697115873569905534398/1.3.6.1.4.1.14519.5.2.1.3671.4754.330595492110314365252888110460/1.3.6.1.4.1.14519.5.2.1.3671.4754.276369051705572479939229885875.dcm [Content-Type=application/dicom]...\n",
            "Copying file:///content/dcm_data/PCAMPMRI-00006/1.3.6.1.4.1.14519.5.2.1.3671.4754.133806669697115873569905534398/1.3.6.1.4.1.14519.5.2.1.3671.4754.330595492110314365252888110460/1.3.6.1.4.1.14519.5.2.1.3671.4754.196993237280402889808070051446.dcm [Content-Type=application/dicom]...\n",
            "Copying file:///content/dcm_data/PCAMPMRI-00006/1.3.6.1.4.1.14519.5.2.1.3671.4754.133806669697115873569905534398/1.3.6.1.4.1.14519.5.2.1.3671.4754.330595492110314365252888110460/1.3.6.1.4.1.14519.5.2.1.3671.4754.169262860446525360131833212992.dcm [Content-Type=application/dicom]...\n",
            "Copying file:///content/dcm_data/PCAMPMRI-00006/1.3.6.1.4.1.14519.5.2.1.3671.4754.133806669697115873569905534398/1.3.6.1.4.1.14519.5.2.1.3671.4754.330595492110314365252888110460/1.3.6.1.4.1.14519.5.2.1.3671.4754.309601097968713455251537109103.dcm [Content-Type=application/dicom]...\n",
            "Copying file:///content/dcm_data/PCAMPMRI-00006/1.3.6.1.4.1.14519.5.2.1.3671.4754.133806669697115873569905534398/1.3.6.1.4.1.14519.5.2.1.3671.4754.330595492110314365252888110460/1.3.6.1.4.1.14519.5.2.1.3671.4754.322937075238208500477712995956.dcm [Content-Type=application/dicom]...\n",
            "Copying file:///content/dcm_data/PCAMPMRI-00006/1.3.6.1.4.1.14519.5.2.1.3671.4754.133806669697115873569905534398/1.3.6.1.4.1.14519.5.2.1.3671.4754.330595492110314365252888110460/1.3.6.1.4.1.14519.5.2.1.3671.4754.119524733781261737765754989384.dcm [Content-Type=application/dicom]...\n",
            "Copying file:///content/dcm_data/PCAMPMRI-00006/1.3.6.1.4.1.14519.5.2.1.3671.4754.133806669697115873569905534398/1.3.6.1.4.1.14519.5.2.1.3671.4754.330595492110314365252888110460/1.3.6.1.4.1.14519.5.2.1.3671.4754.955990644600710108351755482853.dcm [Content-Type=application/dicom]...\n",
            "Copying file:///content/dcm_data/PCAMPMRI-00006/1.3.6.1.4.1.14519.5.2.1.3671.4754.133806669697115873569905534398/1.3.6.1.4.1.14519.5.2.1.3671.4754.330595492110314365252888110460/1.3.6.1.4.1.14519.5.2.1.3671.4754.125699614737596688671892893285.dcm [Content-Type=application/dicom]...\n",
            "Copying file:///content/dcm_data/PCAMPMRI-00006/1.3.6.1.4.1.14519.5.2.1.3671.4754.133806669697115873569905534398/1.3.6.1.4.1.14519.5.2.1.3671.4754.330595492110314365252888110460/1.3.6.1.4.1.14519.5.2.1.3671.4754.336630365200494788209480883931.dcm [Content-Type=application/dicom]...\n",
            "Copying file:///content/dcm_data/PCAMPMRI-00006/1.3.6.1.4.1.14519.5.2.1.3671.4754.133806669697115873569905534398/1.3.6.1.4.1.14519.5.2.1.3671.4754.330595492110314365252888110460/1.3.6.1.4.1.14519.5.2.1.3671.4754.180947770502362730847438150016.dcm [Content-Type=application/dicom]...\n",
            "Copying file:///content/dcm_data/PCAMPMRI-00006/1.3.6.1.4.1.14519.5.2.1.3671.4754.133806669697115873569905534398/1.3.6.1.4.1.14519.5.2.1.3671.4754.330595492110314365252888110460/1.3.6.1.4.1.14519.5.2.1.3671.4754.124427424402176137485886167078.dcm [Content-Type=application/dicom]...\n",
            "Copying file:///content/dcm_data/PCAMPMRI-00006/1.3.6.1.4.1.14519.5.2.1.3671.4754.133806669697115873569905534398/1.3.6.1.4.1.14519.5.2.1.3671.4754.330595492110314365252888110460/1.3.6.1.4.1.14519.5.2.1.3671.4754.223281002037390649085372534681.dcm [Content-Type=application/dicom]...\n",
            "Copying file:///content/dcm_data/PCAMPMRI-00006/1.3.6.1.4.1.14519.5.2.1.3671.4754.133806669697115873569905534398/1.3.6.1.4.1.14519.5.2.1.3671.4754.330595492110314365252888110460/1.3.6.1.4.1.14519.5.2.1.3671.4754.160113946877244624764639601354.dcm [Content-Type=application/dicom]...\n",
            "Copying file:///content/dcm_data/PCAMPMRI-00006/1.3.6.1.4.1.14519.5.2.1.3671.4754.133806669697115873569905534398/1.3.6.1.4.1.14519.5.2.1.3671.4754.330595492110314365252888110460/1.3.6.1.4.1.14519.5.2.1.3671.4754.326810502321785651656403566583.dcm [Content-Type=application/dicom]...\n",
            "Copying file:///content/dcm_data/PCAMPMRI-00006/1.3.6.1.4.1.14519.5.2.1.3671.4754.133806669697115873569905534398/1.3.6.1.4.1.14519.5.2.1.3671.4754.330595492110314365252888110460/1.3.6.1.4.1.14519.5.2.1.3671.4754.381057597978785830893617614711.dcm [Content-Type=application/dicom]...\n",
            "Copying file:///content/dcm_data/PCAMPMRI-00006/1.3.6.1.4.1.14519.5.2.1.3671.4754.133806669697115873569905534398/1.3.6.1.4.1.14519.5.2.1.3671.4754.330595492110314365252888110460/1.3.6.1.4.1.14519.5.2.1.3671.4754.214870736476379368701619693525.dcm [Content-Type=application/dicom]...\n",
            "Copying file:///content/dcm_data/PCAMPMRI-00006/1.3.6.1.4.1.14519.5.2.1.3671.4754.133806669697115873569905534398/1.3.6.1.4.1.14519.5.2.1.3671.4754.330595492110314365252888110460/1.3.6.1.4.1.14519.5.2.1.3671.4754.121123396143464621926247652228.dcm [Content-Type=application/dicom]...\n",
            "Copying file:///content/dcm_data/PCAMPMRI-00006/1.3.6.1.4.1.14519.5.2.1.3671.4754.133806669697115873569905534398/1.3.6.1.4.1.14519.5.2.1.3671.4754.330595492110314365252888110460/1.3.6.1.4.1.14519.5.2.1.3671.4754.142313970834075762959125047535.dcm [Content-Type=application/dicom]...\n",
            "Copying file:///content/dcm_data/PCAMPMRI-00006/1.3.6.1.4.1.14519.5.2.1.3671.4754.133806669697115873569905534398/1.3.6.1.4.1.14519.5.2.1.3671.4754.330595492110314365252888110460/1.3.6.1.4.1.14519.5.2.1.3671.4754.111950508732551965491859475039.dcm [Content-Type=application/dicom]...\n",
            "Copying file:///content/dcm_data/PCAMPMRI-00006/1.3.6.1.4.1.14519.5.2.1.3671.4754.133806669697115873569905534398/1.3.6.1.4.1.14519.5.2.1.3671.4754.330595492110314365252888110460/1.3.6.1.4.1.14519.5.2.1.3671.4754.240623839705908438697733647621.dcm [Content-Type=application/dicom]...\n",
            "Copying file:///content/dcm_data/PCAMPMRI-00006/1.3.6.1.4.1.14519.5.2.1.3671.4754.133806669697115873569905534398/1.3.6.1.4.1.14519.5.2.1.3671.4754.330595492110314365252888110460/1.3.6.1.4.1.14519.5.2.1.3671.4754.704726745195070123750550808030.dcm [Content-Type=application/dicom]...\n",
            "Copying file:///content/dcm_data/PCAMPMRI-00006/1.3.6.1.4.1.14519.5.2.1.3671.4754.133806669697115873569905534398/1.2.276.0.7230010.3.1.3.1426846371.2776.1513205144.321/1.2.276.0.7230010.3.1.4.1426846371.2776.1513205144.322.dcm [Content-Type=application/dicom]...\n",
            "Copying file:///content/dcm_data/PCAMPMRI-00007/1.3.6.1.4.1.14519.5.2.1.3671.4754.240243858523310211919840278205/1.2.276.0.7230010.3.1.3.1426846371.11036.1513205146.731/1.2.276.0.7230010.3.1.4.1426846371.11036.1513205146.732.dcm [Content-Type=application/dicom]...\n",
            "Copying file:///content/dcm_data/PCAMPMRI-00007/1.3.6.1.4.1.14519.5.2.1.3671.4754.240243858523310211919840278205/1.3.6.1.4.1.14519.5.2.1.3671.4754.251062001905949495873517695182/1.3.6.1.4.1.14519.5.2.1.3671.4754.405165413871825201753564332264.dcm [Content-Type=application/dicom]...\n",
            "Copying file:///content/dcm_data/PCAMPMRI-00007/1.3.6.1.4.1.14519.5.2.1.3671.4754.240243858523310211919840278205/1.3.6.1.4.1.14519.5.2.1.3671.4754.251062001905949495873517695182/1.3.6.1.4.1.14519.5.2.1.3671.4754.528132672965170985287617570802.dcm [Content-Type=application/dicom]...\n",
            "Copying file:///content/dcm_data/PCAMPMRI-00007/1.3.6.1.4.1.14519.5.2.1.3671.4754.240243858523310211919840278205/1.3.6.1.4.1.14519.5.2.1.3671.4754.251062001905949495873517695182/1.3.6.1.4.1.14519.5.2.1.3671.4754.173323154411865737269537239759.dcm [Content-Type=application/dicom]...\n",
            "Copying file:///content/dcm_data/PCAMPMRI-00007/1.3.6.1.4.1.14519.5.2.1.3671.4754.240243858523310211919840278205/1.3.6.1.4.1.14519.5.2.1.3671.4754.251062001905949495873517695182/1.3.6.1.4.1.14519.5.2.1.3671.4754.174831443491878209895913703358.dcm [Content-Type=application/dicom]...\n",
            "Copying file:///content/dcm_data/PCAMPMRI-00007/1.3.6.1.4.1.14519.5.2.1.3671.4754.240243858523310211919840278205/1.3.6.1.4.1.14519.5.2.1.3671.4754.251062001905949495873517695182/1.3.6.1.4.1.14519.5.2.1.3671.4754.146426577994941610470918261052.dcm [Content-Type=application/dicom]...\n",
            "Copying file:///content/dcm_data/PCAMPMRI-00007/1.3.6.1.4.1.14519.5.2.1.3671.4754.240243858523310211919840278205/1.3.6.1.4.1.14519.5.2.1.3671.4754.251062001905949495873517695182/1.3.6.1.4.1.14519.5.2.1.3671.4754.193000871341950085407028103247.dcm [Content-Type=application/dicom]...\n",
            "Copying file:///content/dcm_data/PCAMPMRI-00007/1.3.6.1.4.1.14519.5.2.1.3671.4754.240243858523310211919840278205/1.3.6.1.4.1.14519.5.2.1.3671.4754.251062001905949495873517695182/1.3.6.1.4.1.14519.5.2.1.3671.4754.256010531905986876130141566213.dcm [Content-Type=application/dicom]...\n",
            "Copying file:///content/dcm_data/PCAMPMRI-00007/1.3.6.1.4.1.14519.5.2.1.3671.4754.240243858523310211919840278205/1.3.6.1.4.1.14519.5.2.1.3671.4754.251062001905949495873517695182/1.3.6.1.4.1.14519.5.2.1.3671.4754.137069293220377215996848940584.dcm [Content-Type=application/dicom]...\n",
            "Copying file:///content/dcm_data/PCAMPMRI-00007/1.3.6.1.4.1.14519.5.2.1.3671.4754.240243858523310211919840278205/1.3.6.1.4.1.14519.5.2.1.3671.4754.251062001905949495873517695182/1.3.6.1.4.1.14519.5.2.1.3671.4754.279432093434914170552544104260.dcm [Content-Type=application/dicom]...\n",
            "Copying file:///content/dcm_data/PCAMPMRI-00007/1.3.6.1.4.1.14519.5.2.1.3671.4754.240243858523310211919840278205/1.3.6.1.4.1.14519.5.2.1.3671.4754.251062001905949495873517695182/1.3.6.1.4.1.14519.5.2.1.3671.4754.230454427048821195809922647736.dcm [Content-Type=application/dicom]...\n",
            "Copying file:///content/dcm_data/PCAMPMRI-00007/1.3.6.1.4.1.14519.5.2.1.3671.4754.240243858523310211919840278205/1.3.6.1.4.1.14519.5.2.1.3671.4754.251062001905949495873517695182/1.3.6.1.4.1.14519.5.2.1.3671.4754.300142704708750439262734996073.dcm [Content-Type=application/dicom]...\n",
            "Copying file:///content/dcm_data/PCAMPMRI-00007/1.3.6.1.4.1.14519.5.2.1.3671.4754.240243858523310211919840278205/1.3.6.1.4.1.14519.5.2.1.3671.4754.251062001905949495873517695182/1.3.6.1.4.1.14519.5.2.1.3671.4754.144267023548666774434580707975.dcm [Content-Type=application/dicom]...\n",
            "Copying file:///content/dcm_data/PCAMPMRI-00007/1.3.6.1.4.1.14519.5.2.1.3671.4754.240243858523310211919840278205/1.3.6.1.4.1.14519.5.2.1.3671.4754.251062001905949495873517695182/1.3.6.1.4.1.14519.5.2.1.3671.4754.234285390634967850402305879516.dcm [Content-Type=application/dicom]...\n",
            "Copying file:///content/dcm_data/PCAMPMRI-00007/1.3.6.1.4.1.14519.5.2.1.3671.4754.240243858523310211919840278205/1.3.6.1.4.1.14519.5.2.1.3671.4754.251062001905949495873517695182/1.3.6.1.4.1.14519.5.2.1.3671.4754.181298611934781272985009493945.dcm [Content-Type=application/dicom]...\n",
            "Copying file:///content/dcm_data/PCAMPMRI-00007/1.3.6.1.4.1.14519.5.2.1.3671.4754.240243858523310211919840278205/1.3.6.1.4.1.14519.5.2.1.3671.4754.251062001905949495873517695182/1.3.6.1.4.1.14519.5.2.1.3671.4754.526978431804817806029678644017.dcm [Content-Type=application/dicom]...\n",
            "Copying file:///content/dcm_data/PCAMPMRI-00007/1.3.6.1.4.1.14519.5.2.1.3671.4754.240243858523310211919840278205/1.3.6.1.4.1.14519.5.2.1.3671.4754.251062001905949495873517695182/1.3.6.1.4.1.14519.5.2.1.3671.4754.187597824953690652150570931407.dcm [Content-Type=application/dicom]...\n",
            "Copying file:///content/dcm_data/PCAMPMRI-00007/1.3.6.1.4.1.14519.5.2.1.3671.4754.240243858523310211919840278205/1.3.6.1.4.1.14519.5.2.1.3671.4754.251062001905949495873517695182/1.3.6.1.4.1.14519.5.2.1.3671.4754.264916879210420314196090428352.dcm [Content-Type=application/dicom]...\n",
            "Copying file:///content/dcm_data/PCAMPMRI-00007/1.3.6.1.4.1.14519.5.2.1.3671.4754.240243858523310211919840278205/1.3.6.1.4.1.14519.5.2.1.3671.4754.251062001905949495873517695182/1.3.6.1.4.1.14519.5.2.1.3671.4754.132394958782888144524547882659.dcm [Content-Type=application/dicom]...\n",
            "Copying file:///content/dcm_data/PCAMPMRI-00007/1.3.6.1.4.1.14519.5.2.1.3671.4754.240243858523310211919840278205/1.3.6.1.4.1.14519.5.2.1.3671.4754.251062001905949495873517695182/1.3.6.1.4.1.14519.5.2.1.3671.4754.334760506535834370150797171540.dcm [Content-Type=application/dicom]...\n",
            "Copying file:///content/dcm_data/PCAMPMRI-00007/1.3.6.1.4.1.14519.5.2.1.3671.4754.240243858523310211919840278205/1.3.6.1.4.1.14519.5.2.1.3671.4754.251062001905949495873517695182/1.3.6.1.4.1.14519.5.2.1.3671.4754.280228579988188919504376925931.dcm [Content-Type=application/dicom]...\n",
            "Copying file:///content/dcm_data/PCAMPMRI-00007/1.3.6.1.4.1.14519.5.2.1.3671.4754.240243858523310211919840278205/1.3.6.1.4.1.14519.5.2.1.3671.4754.251062001905949495873517695182/1.3.6.1.4.1.14519.5.2.1.3671.4754.194561557493685454440824766596.dcm [Content-Type=application/dicom]...\n",
            "Copying file:///content/dcm_data/PCAMPMRI-00007/1.3.6.1.4.1.14519.5.2.1.3671.4754.240243858523310211919840278205/1.3.6.1.4.1.14519.5.2.1.3671.4754.251062001905949495873517695182/1.3.6.1.4.1.14519.5.2.1.3671.4754.338287943537452843917766329580.dcm [Content-Type=application/dicom]...\n",
            "Copying file:///content/dcm_data/PCAMPMRI-00007/1.3.6.1.4.1.14519.5.2.1.3671.4754.240243858523310211919840278205/1.3.6.1.4.1.14519.5.2.1.3671.4754.251062001905949495873517695182/1.3.6.1.4.1.14519.5.2.1.3671.4754.177139372960164507682964187247.dcm [Content-Type=application/dicom]...\n",
            "Copying file:///content/dcm_data/PCAMPMRI-00007/1.3.6.1.4.1.14519.5.2.1.3671.4754.240243858523310211919840278205/1.3.6.1.4.1.14519.5.2.1.3671.4754.251062001905949495873517695182/1.3.6.1.4.1.14519.5.2.1.3671.4754.103900719657355642105324172658.dcm [Content-Type=application/dicom]...\n",
            "Copying file:///content/dcm_data/PCAMPMRI-00007/1.3.6.1.4.1.14519.5.2.1.3671.4754.240243858523310211919840278205/1.3.6.1.4.1.14519.5.2.1.3671.4754.251062001905949495873517695182/1.3.6.1.4.1.14519.5.2.1.3671.4754.283055841678648197428272115880.dcm [Content-Type=application/dicom]...\n",
            "Copying file:///content/dcm_data/PCAMPMRI-00007/1.3.6.1.4.1.14519.5.2.1.3671.4754.240243858523310211919840278205/1.3.6.1.4.1.14519.5.2.1.3671.4754.251062001905949495873517695182/1.3.6.1.4.1.14519.5.2.1.3671.4754.125510038749324440619835638299.dcm [Content-Type=application/dicom]...\n",
            "Copying file:///content/dcm_data/PCAMPMRI-00007/1.3.6.1.4.1.14519.5.2.1.3671.4754.240243858523310211919840278205/1.3.6.1.4.1.14519.5.2.1.3671.4754.251062001905949495873517695182/1.3.6.1.4.1.14519.5.2.1.3671.4754.282227750755331666025264384776.dcm [Content-Type=application/dicom]...\n",
            "Copying file:///content/dcm_data/PCAMPMRI-00007/1.3.6.1.4.1.14519.5.2.1.3671.4754.240243858523310211919840278205/1.3.6.1.4.1.14519.5.2.1.3671.4754.251062001905949495873517695182/1.3.6.1.4.1.14519.5.2.1.3671.4754.232172330041178731551409008476.dcm [Content-Type=application/dicom]...\n",
            "Copying file:///content/dcm_data/PCAMPMRI-00007/1.3.6.1.4.1.14519.5.2.1.3671.4754.240243858523310211919840278205/1.3.6.1.4.1.14519.5.2.1.3671.4754.251062001905949495873517695182/1.3.6.1.4.1.14519.5.2.1.3671.4754.100679863324341082182472061033.dcm [Content-Type=application/dicom]...\n",
            "Copying file:///content/dcm_data/PCAMPMRI-00007/1.3.6.1.4.1.14519.5.2.1.3671.4754.240243858523310211919840278205/1.3.6.1.4.1.14519.5.2.1.3671.4754.251062001905949495873517695182/1.3.6.1.4.1.14519.5.2.1.3671.4754.168875968803545651439259311531.dcm [Content-Type=application/dicom]...\n",
            "Copying file:///content/dcm_data/PCAMPMRI-00007/1.3.6.1.4.1.14519.5.2.1.3671.4754.240243858523310211919840278205/1.3.6.1.4.1.14519.5.2.1.3671.4754.251062001905949495873517695182/1.3.6.1.4.1.14519.5.2.1.3671.4754.150795997592618195453810584087.dcm [Content-Type=application/dicom]...\n",
            "Copying file:///content/dcm_data/PCAMPMRI-00007/1.3.6.1.4.1.14519.5.2.1.3671.4754.240243858523310211919840278205/1.3.6.1.4.1.14519.5.2.1.3671.4754.251062001905949495873517695182/1.3.6.1.4.1.14519.5.2.1.3671.4754.841899380994226096256376401012.dcm [Content-Type=application/dicom]...\n",
            "Copying file:///content/dcm_data/PCAMPMRI-00007/1.3.6.1.4.1.14519.5.2.1.3671.4754.962865348146140991373362412648/1.3.6.1.4.1.14519.5.2.1.3671.4754.330807155674174304012309699936/1.3.6.1.4.1.14519.5.2.1.3671.4754.206445060713006357804751420097.dcm [Content-Type=application/dicom]...\n",
            "Copying file:///content/dcm_data/PCAMPMRI-00007/1.3.6.1.4.1.14519.5.2.1.3671.4754.962865348146140991373362412648/1.3.6.1.4.1.14519.5.2.1.3671.4754.330807155674174304012309699936/1.3.6.1.4.1.14519.5.2.1.3671.4754.103688096538122678300270888560.dcm [Content-Type=application/dicom]...\n",
            "Copying file:///content/dcm_data/PCAMPMRI-00007/1.3.6.1.4.1.14519.5.2.1.3671.4754.962865348146140991373362412648/1.3.6.1.4.1.14519.5.2.1.3671.4754.330807155674174304012309699936/1.3.6.1.4.1.14519.5.2.1.3671.4754.198504360696065106187433487495.dcm [Content-Type=application/dicom]...\n",
            "Copying file:///content/dcm_data/PCAMPMRI-00007/1.3.6.1.4.1.14519.5.2.1.3671.4754.962865348146140991373362412648/1.3.6.1.4.1.14519.5.2.1.3671.4754.330807155674174304012309699936/1.3.6.1.4.1.14519.5.2.1.3671.4754.185616230065056400370605559896.dcm [Content-Type=application/dicom]...\n",
            "Copying file:///content/dcm_data/PCAMPMRI-00007/1.3.6.1.4.1.14519.5.2.1.3671.4754.962865348146140991373362412648/1.3.6.1.4.1.14519.5.2.1.3671.4754.330807155674174304012309699936/1.3.6.1.4.1.14519.5.2.1.3671.4754.199296776077299642347009338996.dcm [Content-Type=application/dicom]...\n",
            "Copying file:///content/dcm_data/PCAMPMRI-00007/1.3.6.1.4.1.14519.5.2.1.3671.4754.962865348146140991373362412648/1.3.6.1.4.1.14519.5.2.1.3671.4754.330807155674174304012309699936/1.3.6.1.4.1.14519.5.2.1.3671.4754.336469780736937198229647047524.dcm [Content-Type=application/dicom]...\n",
            "Copying file:///content/dcm_data/PCAMPMRI-00007/1.3.6.1.4.1.14519.5.2.1.3671.4754.962865348146140991373362412648/1.3.6.1.4.1.14519.5.2.1.3671.4754.330807155674174304012309699936/1.3.6.1.4.1.14519.5.2.1.3671.4754.142025498958905529708066376878.dcm [Content-Type=application/dicom]...\n",
            "Copying file:///content/dcm_data/PCAMPMRI-00007/1.3.6.1.4.1.14519.5.2.1.3671.4754.962865348146140991373362412648/1.3.6.1.4.1.14519.5.2.1.3671.4754.330807155674174304012309699936/1.3.6.1.4.1.14519.5.2.1.3671.4754.345034594562928837224864826912.dcm [Content-Type=application/dicom]...\n",
            "Copying file:///content/dcm_data/PCAMPMRI-00007/1.3.6.1.4.1.14519.5.2.1.3671.4754.962865348146140991373362412648/1.3.6.1.4.1.14519.5.2.1.3671.4754.330807155674174304012309699936/1.3.6.1.4.1.14519.5.2.1.3671.4754.185800883861362488183196340200.dcm [Content-Type=application/dicom]...\n",
            "Copying file:///content/dcm_data/PCAMPMRI-00007/1.3.6.1.4.1.14519.5.2.1.3671.4754.962865348146140991373362412648/1.3.6.1.4.1.14519.5.2.1.3671.4754.330807155674174304012309699936/1.3.6.1.4.1.14519.5.2.1.3671.4754.120582234154181092938198014730.dcm [Content-Type=application/dicom]...\n",
            "Copying file:///content/dcm_data/PCAMPMRI-00007/1.3.6.1.4.1.14519.5.2.1.3671.4754.962865348146140991373362412648/1.3.6.1.4.1.14519.5.2.1.3671.4754.330807155674174304012309699936/1.3.6.1.4.1.14519.5.2.1.3671.4754.321585027980650347490784340150.dcm [Content-Type=application/dicom]...\n",
            "Copying file:///content/dcm_data/PCAMPMRI-00007/1.3.6.1.4.1.14519.5.2.1.3671.4754.962865348146140991373362412648/1.3.6.1.4.1.14519.5.2.1.3671.4754.330807155674174304012309699936/1.3.6.1.4.1.14519.5.2.1.3671.4754.308027140480537869835692253826.dcm [Content-Type=application/dicom]...\n",
            "Copying file:///content/dcm_data/PCAMPMRI-00007/1.3.6.1.4.1.14519.5.2.1.3671.4754.962865348146140991373362412648/1.3.6.1.4.1.14519.5.2.1.3671.4754.330807155674174304012309699936/1.3.6.1.4.1.14519.5.2.1.3671.4754.556991203369676359696758487816.dcm [Content-Type=application/dicom]...\n",
            "Copying file:///content/dcm_data/PCAMPMRI-00007/1.3.6.1.4.1.14519.5.2.1.3671.4754.962865348146140991373362412648/1.3.6.1.4.1.14519.5.2.1.3671.4754.330807155674174304012309699936/1.3.6.1.4.1.14519.5.2.1.3671.4754.138156517245823887151856637969.dcm [Content-Type=application/dicom]...\n",
            "Copying file:///content/dcm_data/PCAMPMRI-00007/1.3.6.1.4.1.14519.5.2.1.3671.4754.962865348146140991373362412648/1.3.6.1.4.1.14519.5.2.1.3671.4754.330807155674174304012309699936/1.3.6.1.4.1.14519.5.2.1.3671.4754.115468310496457922075134276709.dcm [Content-Type=application/dicom]...\n",
            "Copying file:///content/dcm_data/PCAMPMRI-00007/1.3.6.1.4.1.14519.5.2.1.3671.4754.962865348146140991373362412648/1.3.6.1.4.1.14519.5.2.1.3671.4754.330807155674174304012309699936/1.3.6.1.4.1.14519.5.2.1.3671.4754.492681626124695211179509692116.dcm [Content-Type=application/dicom]...\n",
            "Copying file:///content/dcm_data/PCAMPMRI-00007/1.3.6.1.4.1.14519.5.2.1.3671.4754.962865348146140991373362412648/1.3.6.1.4.1.14519.5.2.1.3671.4754.330807155674174304012309699936/1.3.6.1.4.1.14519.5.2.1.3671.4754.677264100325159590527270860523.dcm [Content-Type=application/dicom]...\n",
            "Copying file:///content/dcm_data/PCAMPMRI-00007/1.3.6.1.4.1.14519.5.2.1.3671.4754.962865348146140991373362412648/1.3.6.1.4.1.14519.5.2.1.3671.4754.330807155674174304012309699936/1.3.6.1.4.1.14519.5.2.1.3671.4754.419322767929342923473470344493.dcm [Content-Type=application/dicom]...\n",
            "Copying file:///content/dcm_data/PCAMPMRI-00007/1.3.6.1.4.1.14519.5.2.1.3671.4754.962865348146140991373362412648/1.3.6.1.4.1.14519.5.2.1.3671.4754.330807155674174304012309699936/1.3.6.1.4.1.14519.5.2.1.3671.4754.835931381869963572251041974065.dcm [Content-Type=application/dicom]...\n",
            "Copying file:///content/dcm_data/PCAMPMRI-00007/1.3.6.1.4.1.14519.5.2.1.3671.4754.962865348146140991373362412648/1.3.6.1.4.1.14519.5.2.1.3671.4754.330807155674174304012309699936/1.3.6.1.4.1.14519.5.2.1.3671.4754.228564420788640680199782640302.dcm [Content-Type=application/dicom]...\n",
            "Copying file:///content/dcm_data/PCAMPMRI-00007/1.3.6.1.4.1.14519.5.2.1.3671.4754.962865348146140991373362412648/1.3.6.1.4.1.14519.5.2.1.3671.4754.330807155674174304012309699936/1.3.6.1.4.1.14519.5.2.1.3671.4754.337117142514063364344602328010.dcm [Content-Type=application/dicom]...\n",
            "Copying file:///content/dcm_data/PCAMPMRI-00007/1.3.6.1.4.1.14519.5.2.1.3671.4754.962865348146140991373362412648/1.3.6.1.4.1.14519.5.2.1.3671.4754.330807155674174304012309699936/1.3.6.1.4.1.14519.5.2.1.3671.4754.281236594062278712569443317196.dcm [Content-Type=application/dicom]...\n",
            "Copying file:///content/dcm_data/PCAMPMRI-00007/1.3.6.1.4.1.14519.5.2.1.3671.4754.962865348146140991373362412648/1.3.6.1.4.1.14519.5.2.1.3671.4754.330807155674174304012309699936/1.3.6.1.4.1.14519.5.2.1.3671.4754.189285780131856683996521785908.dcm [Content-Type=application/dicom]...\n",
            "Copying file:///content/dcm_data/PCAMPMRI-00007/1.3.6.1.4.1.14519.5.2.1.3671.4754.962865348146140991373362412648/1.3.6.1.4.1.14519.5.2.1.3671.4754.330807155674174304012309699936/1.3.6.1.4.1.14519.5.2.1.3671.4754.153387357530838092738319301951.dcm [Content-Type=application/dicom]...\n",
            "Copying file:///content/dcm_data/PCAMPMRI-00007/1.3.6.1.4.1.14519.5.2.1.3671.4754.962865348146140991373362412648/1.3.6.1.4.1.14519.5.2.1.3671.4754.330807155674174304012309699936/1.3.6.1.4.1.14519.5.2.1.3671.4754.146296889906316807380264881010.dcm [Content-Type=application/dicom]...\n",
            "Copying file:///content/dcm_data/PCAMPMRI-00007/1.3.6.1.4.1.14519.5.2.1.3671.4754.962865348146140991373362412648/1.3.6.1.4.1.14519.5.2.1.3671.4754.330807155674174304012309699936/1.3.6.1.4.1.14519.5.2.1.3671.4754.296085675468713272215862711772.dcm [Content-Type=application/dicom]...\n",
            "Copying file:///content/dcm_data/PCAMPMRI-00007/1.3.6.1.4.1.14519.5.2.1.3671.4754.962865348146140991373362412648/1.3.6.1.4.1.14519.5.2.1.3671.4754.330807155674174304012309699936/1.3.6.1.4.1.14519.5.2.1.3671.4754.908598500763464111200763080880.dcm [Content-Type=application/dicom]...\n",
            "Copying file:///content/dcm_data/PCAMPMRI-00007/1.3.6.1.4.1.14519.5.2.1.3671.4754.962865348146140991373362412648/1.3.6.1.4.1.14519.5.2.1.3671.4754.330807155674174304012309699936/1.3.6.1.4.1.14519.5.2.1.3671.4754.885727965674300917229535459015.dcm [Content-Type=application/dicom]...\n",
            "Copying file:///content/dcm_data/PCAMPMRI-00007/1.3.6.1.4.1.14519.5.2.1.3671.4754.962865348146140991373362412648/1.3.6.1.4.1.14519.5.2.1.3671.4754.330807155674174304012309699936/1.3.6.1.4.1.14519.5.2.1.3671.4754.242043054547938412940101919128.dcm [Content-Type=application/dicom]...\n",
            "Copying file:///content/dcm_data/PCAMPMRI-00007/1.3.6.1.4.1.14519.5.2.1.3671.4754.962865348146140991373362412648/1.3.6.1.4.1.14519.5.2.1.3671.4754.330807155674174304012309699936/1.3.6.1.4.1.14519.5.2.1.3671.4754.222761149488717199417649525424.dcm [Content-Type=application/dicom]...\n",
            "Copying file:///content/dcm_data/PCAMPMRI-00007/1.3.6.1.4.1.14519.5.2.1.3671.4754.962865348146140991373362412648/1.2.276.0.7230010.3.1.3.1426846371.20336.1513205149.477/1.2.276.0.7230010.3.1.4.1426846371.20336.1513205149.478.dcm [Content-Type=application/dicom]...\n",
            "Copying file:///content/dcm_data/PCAMPMRI-00008/1.3.6.1.4.1.14519.5.2.1.3671.4754.173585825705285812758858023242/1.2.276.0.7230010.3.1.3.1426846371.18472.1513205152.717/1.2.276.0.7230010.3.1.4.1426846371.18472.1513205152.718.dcm [Content-Type=application/dicom]...\n",
            "Copying file:///content/dcm_data/PCAMPMRI-00008/1.3.6.1.4.1.14519.5.2.1.3671.4754.173585825705285812758858023242/1.3.6.1.4.1.14519.5.2.1.3671.4754.289381776301402611413405156513/1.3.6.1.4.1.14519.5.2.1.3671.4754.297956809758481497139233259583.dcm [Content-Type=application/dicom]...\n",
            "Copying file:///content/dcm_data/PCAMPMRI-00008/1.3.6.1.4.1.14519.5.2.1.3671.4754.173585825705285812758858023242/1.3.6.1.4.1.14519.5.2.1.3671.4754.289381776301402611413405156513/1.3.6.1.4.1.14519.5.2.1.3671.4754.121053579431625042681353210182.dcm [Content-Type=application/dicom]...\n",
            "Copying file:///content/dcm_data/PCAMPMRI-00008/1.3.6.1.4.1.14519.5.2.1.3671.4754.173585825705285812758858023242/1.3.6.1.4.1.14519.5.2.1.3671.4754.289381776301402611413405156513/1.3.6.1.4.1.14519.5.2.1.3671.4754.978113028531070827505971883770.dcm [Content-Type=application/dicom]...\n",
            "Copying file:///content/dcm_data/PCAMPMRI-00008/1.3.6.1.4.1.14519.5.2.1.3671.4754.173585825705285812758858023242/1.3.6.1.4.1.14519.5.2.1.3671.4754.289381776301402611413405156513/1.3.6.1.4.1.14519.5.2.1.3671.4754.165121115456003070409379883158.dcm [Content-Type=application/dicom]...\n",
            "Copying file:///content/dcm_data/PCAMPMRI-00008/1.3.6.1.4.1.14519.5.2.1.3671.4754.173585825705285812758858023242/1.3.6.1.4.1.14519.5.2.1.3671.4754.289381776301402611413405156513/1.3.6.1.4.1.14519.5.2.1.3671.4754.155702392190768390624670211675.dcm [Content-Type=application/dicom]...\n",
            "Copying file:///content/dcm_data/PCAMPMRI-00008/1.3.6.1.4.1.14519.5.2.1.3671.4754.173585825705285812758858023242/1.3.6.1.4.1.14519.5.2.1.3671.4754.289381776301402611413405156513/1.3.6.1.4.1.14519.5.2.1.3671.4754.218110400584169350830262198435.dcm [Content-Type=application/dicom]...\n",
            "Copying file:///content/dcm_data/PCAMPMRI-00008/1.3.6.1.4.1.14519.5.2.1.3671.4754.173585825705285812758858023242/1.3.6.1.4.1.14519.5.2.1.3671.4754.289381776301402611413405156513/1.3.6.1.4.1.14519.5.2.1.3671.4754.678177856247060423839169090018.dcm [Content-Type=application/dicom]...\n",
            "Copying file:///content/dcm_data/PCAMPMRI-00008/1.3.6.1.4.1.14519.5.2.1.3671.4754.173585825705285812758858023242/1.3.6.1.4.1.14519.5.2.1.3671.4754.289381776301402611413405156513/1.3.6.1.4.1.14519.5.2.1.3671.4754.313943464290777835527155104947.dcm [Content-Type=application/dicom]...\n",
            "Copying file:///content/dcm_data/PCAMPMRI-00008/1.3.6.1.4.1.14519.5.2.1.3671.4754.173585825705285812758858023242/1.3.6.1.4.1.14519.5.2.1.3671.4754.289381776301402611413405156513/1.3.6.1.4.1.14519.5.2.1.3671.4754.255005513182990151075067215951.dcm [Content-Type=application/dicom]...\n",
            "Copying file:///content/dcm_data/PCAMPMRI-00008/1.3.6.1.4.1.14519.5.2.1.3671.4754.173585825705285812758858023242/1.3.6.1.4.1.14519.5.2.1.3671.4754.289381776301402611413405156513/1.3.6.1.4.1.14519.5.2.1.3671.4754.166239737731104001929054931863.dcm [Content-Type=application/dicom]...\n",
            "Copying file:///content/dcm_data/PCAMPMRI-00008/1.3.6.1.4.1.14519.5.2.1.3671.4754.173585825705285812758858023242/1.3.6.1.4.1.14519.5.2.1.3671.4754.289381776301402611413405156513/1.3.6.1.4.1.14519.5.2.1.3671.4754.307828843562810823078991813157.dcm [Content-Type=application/dicom]...\n",
            "Copying file:///content/dcm_data/PCAMPMRI-00008/1.3.6.1.4.1.14519.5.2.1.3671.4754.173585825705285812758858023242/1.3.6.1.4.1.14519.5.2.1.3671.4754.289381776301402611413405156513/1.3.6.1.4.1.14519.5.2.1.3671.4754.220906730266777189483243120310.dcm [Content-Type=application/dicom]...\n",
            "Copying file:///content/dcm_data/PCAMPMRI-00008/1.3.6.1.4.1.14519.5.2.1.3671.4754.173585825705285812758858023242/1.3.6.1.4.1.14519.5.2.1.3671.4754.289381776301402611413405156513/1.3.6.1.4.1.14519.5.2.1.3671.4754.204567726731596049463253980376.dcm [Content-Type=application/dicom]...\n",
            "Copying file:///content/dcm_data/PCAMPMRI-00008/1.3.6.1.4.1.14519.5.2.1.3671.4754.173585825705285812758858023242/1.3.6.1.4.1.14519.5.2.1.3671.4754.289381776301402611413405156513/1.3.6.1.4.1.14519.5.2.1.3671.4754.260940775170969181516628026391.dcm [Content-Type=application/dicom]...\n",
            "Copying file:///content/dcm_data/PCAMPMRI-00008/1.3.6.1.4.1.14519.5.2.1.3671.4754.173585825705285812758858023242/1.3.6.1.4.1.14519.5.2.1.3671.4754.289381776301402611413405156513/1.3.6.1.4.1.14519.5.2.1.3671.4754.338809006168544702026912333481.dcm [Content-Type=application/dicom]...\n",
            "Copying file:///content/dcm_data/PCAMPMRI-00008/1.3.6.1.4.1.14519.5.2.1.3671.4754.173585825705285812758858023242/1.3.6.1.4.1.14519.5.2.1.3671.4754.289381776301402611413405156513/1.3.6.1.4.1.14519.5.2.1.3671.4754.333706131919343607869425597742.dcm [Content-Type=application/dicom]...\n",
            "Copying file:///content/dcm_data/PCAMPMRI-00008/1.3.6.1.4.1.14519.5.2.1.3671.4754.173585825705285812758858023242/1.3.6.1.4.1.14519.5.2.1.3671.4754.289381776301402611413405156513/1.3.6.1.4.1.14519.5.2.1.3671.4754.839960033392489901451147998266.dcm [Content-Type=application/dicom]...\n",
            "Copying file:///content/dcm_data/PCAMPMRI-00008/1.3.6.1.4.1.14519.5.2.1.3671.4754.173585825705285812758858023242/1.3.6.1.4.1.14519.5.2.1.3671.4754.289381776301402611413405156513/1.3.6.1.4.1.14519.5.2.1.3671.4754.281195038593783536938059327840.dcm [Content-Type=application/dicom]...\n",
            "Copying file:///content/dcm_data/PCAMPMRI-00008/1.3.6.1.4.1.14519.5.2.1.3671.4754.173585825705285812758858023242/1.3.6.1.4.1.14519.5.2.1.3671.4754.289381776301402611413405156513/1.3.6.1.4.1.14519.5.2.1.3671.4754.182770541190318181312640140941.dcm [Content-Type=application/dicom]...\n",
            "Copying file:///content/dcm_data/PCAMPMRI-00008/1.3.6.1.4.1.14519.5.2.1.3671.4754.173585825705285812758858023242/1.3.6.1.4.1.14519.5.2.1.3671.4754.289381776301402611413405156513/1.3.6.1.4.1.14519.5.2.1.3671.4754.140534350456109585918833826616.dcm [Content-Type=application/dicom]...\n",
            "Copying file:///content/dcm_data/PCAMPMRI-00008/1.3.6.1.4.1.14519.5.2.1.3671.4754.173585825705285812758858023242/1.3.6.1.4.1.14519.5.2.1.3671.4754.289381776301402611413405156513/1.3.6.1.4.1.14519.5.2.1.3671.4754.146579464805267561098524180183.dcm [Content-Type=application/dicom]...\n",
            "Copying file:///content/dcm_data/PCAMPMRI-00008/1.3.6.1.4.1.14519.5.2.1.3671.4754.173585825705285812758858023242/1.3.6.1.4.1.14519.5.2.1.3671.4754.289381776301402611413405156513/1.3.6.1.4.1.14519.5.2.1.3671.4754.206903534848316559196377986682.dcm [Content-Type=application/dicom]...\n",
            "Copying file:///content/dcm_data/PCAMPMRI-00008/1.3.6.1.4.1.14519.5.2.1.3671.4754.173585825705285812758858023242/1.3.6.1.4.1.14519.5.2.1.3671.4754.289381776301402611413405156513/1.3.6.1.4.1.14519.5.2.1.3671.4754.171226451665007088850588829910.dcm [Content-Type=application/dicom]...\n",
            "Copying file:///content/dcm_data/PCAMPMRI-00008/1.3.6.1.4.1.14519.5.2.1.3671.4754.173585825705285812758858023242/1.3.6.1.4.1.14519.5.2.1.3671.4754.289381776301402611413405156513/1.3.6.1.4.1.14519.5.2.1.3671.4754.387728184565642285908339572778.dcm [Content-Type=application/dicom]...\n",
            "Copying file:///content/dcm_data/PCAMPMRI-00008/1.3.6.1.4.1.14519.5.2.1.3671.4754.173585825705285812758858023242/1.3.6.1.4.1.14519.5.2.1.3671.4754.289381776301402611413405156513/1.3.6.1.4.1.14519.5.2.1.3671.4754.173630571871683520647224433124.dcm [Content-Type=application/dicom]...\n",
            "Copying file:///content/dcm_data/PCAMPMRI-00008/1.3.6.1.4.1.14519.5.2.1.3671.4754.173585825705285812758858023242/1.3.6.1.4.1.14519.5.2.1.3671.4754.289381776301402611413405156513/1.3.6.1.4.1.14519.5.2.1.3671.4754.414760831683139162451797240965.dcm [Content-Type=application/dicom]...\n",
            "Copying file:///content/dcm_data/PCAMPMRI-00008/1.3.6.1.4.1.14519.5.2.1.3671.4754.266963586071007736606548226859/1.3.6.1.4.1.14519.5.2.1.3671.4754.331664318047739623745747449088/1.3.6.1.4.1.14519.5.2.1.3671.4754.230145321111297147201090035304.dcm [Content-Type=application/dicom]...\n",
            "Copying file:///content/dcm_data/PCAMPMRI-00008/1.3.6.1.4.1.14519.5.2.1.3671.4754.266963586071007736606548226859/1.3.6.1.4.1.14519.5.2.1.3671.4754.331664318047739623745747449088/1.3.6.1.4.1.14519.5.2.1.3671.4754.113854999231591807555044817382.dcm [Content-Type=application/dicom]...\n",
            "Copying file:///content/dcm_data/PCAMPMRI-00008/1.3.6.1.4.1.14519.5.2.1.3671.4754.266963586071007736606548226859/1.3.6.1.4.1.14519.5.2.1.3671.4754.331664318047739623745747449088/1.3.6.1.4.1.14519.5.2.1.3671.4754.180071580624279700552021035306.dcm [Content-Type=application/dicom]...\n",
            "Copying file:///content/dcm_data/PCAMPMRI-00008/1.3.6.1.4.1.14519.5.2.1.3671.4754.266963586071007736606548226859/1.3.6.1.4.1.14519.5.2.1.3671.4754.331664318047739623745747449088/1.3.6.1.4.1.14519.5.2.1.3671.4754.758157956122632424688209487524.dcm [Content-Type=application/dicom]...\n",
            "Copying file:///content/dcm_data/PCAMPMRI-00008/1.3.6.1.4.1.14519.5.2.1.3671.4754.266963586071007736606548226859/1.3.6.1.4.1.14519.5.2.1.3671.4754.331664318047739623745747449088/1.3.6.1.4.1.14519.5.2.1.3671.4754.215683215734255506407742534528.dcm [Content-Type=application/dicom]...\n",
            "Copying file:///content/dcm_data/PCAMPMRI-00008/1.3.6.1.4.1.14519.5.2.1.3671.4754.266963586071007736606548226859/1.3.6.1.4.1.14519.5.2.1.3671.4754.331664318047739623745747449088/1.3.6.1.4.1.14519.5.2.1.3671.4754.274357035218772929060927216750.dcm [Content-Type=application/dicom]...\n",
            "Copying file:///content/dcm_data/PCAMPMRI-00008/1.3.6.1.4.1.14519.5.2.1.3671.4754.266963586071007736606548226859/1.3.6.1.4.1.14519.5.2.1.3671.4754.331664318047739623745747449088/1.3.6.1.4.1.14519.5.2.1.3671.4754.473966077566427805306654918437.dcm [Content-Type=application/dicom]...\n",
            "Copying file:///content/dcm_data/PCAMPMRI-00008/1.3.6.1.4.1.14519.5.2.1.3671.4754.266963586071007736606548226859/1.3.6.1.4.1.14519.5.2.1.3671.4754.331664318047739623745747449088/1.3.6.1.4.1.14519.5.2.1.3671.4754.275854821155679975857429695695.dcm [Content-Type=application/dicom]...\n",
            "Copying file:///content/dcm_data/PCAMPMRI-00008/1.3.6.1.4.1.14519.5.2.1.3671.4754.266963586071007736606548226859/1.3.6.1.4.1.14519.5.2.1.3671.4754.331664318047739623745747449088/1.3.6.1.4.1.14519.5.2.1.3671.4754.967383242635245720766746803746.dcm [Content-Type=application/dicom]...\n",
            "Copying file:///content/dcm_data/PCAMPMRI-00008/1.3.6.1.4.1.14519.5.2.1.3671.4754.266963586071007736606548226859/1.3.6.1.4.1.14519.5.2.1.3671.4754.331664318047739623745747449088/1.3.6.1.4.1.14519.5.2.1.3671.4754.177768695524276058625851623548.dcm [Content-Type=application/dicom]...\n",
            "Copying file:///content/dcm_data/PCAMPMRI-00008/1.3.6.1.4.1.14519.5.2.1.3671.4754.266963586071007736606548226859/1.3.6.1.4.1.14519.5.2.1.3671.4754.331664318047739623745747449088/1.3.6.1.4.1.14519.5.2.1.3671.4754.456921282829649463409721562096.dcm [Content-Type=application/dicom]...\n",
            "Copying file:///content/dcm_data/PCAMPMRI-00008/1.3.6.1.4.1.14519.5.2.1.3671.4754.266963586071007736606548226859/1.3.6.1.4.1.14519.5.2.1.3671.4754.331664318047739623745747449088/1.3.6.1.4.1.14519.5.2.1.3671.4754.921384050090162948045795102013.dcm [Content-Type=application/dicom]...\n",
            "Copying file:///content/dcm_data/PCAMPMRI-00008/1.3.6.1.4.1.14519.5.2.1.3671.4754.266963586071007736606548226859/1.3.6.1.4.1.14519.5.2.1.3671.4754.331664318047739623745747449088/1.3.6.1.4.1.14519.5.2.1.3671.4754.247527698655663367499736931044.dcm [Content-Type=application/dicom]...\n",
            "Copying file:///content/dcm_data/PCAMPMRI-00008/1.3.6.1.4.1.14519.5.2.1.3671.4754.266963586071007736606548226859/1.3.6.1.4.1.14519.5.2.1.3671.4754.331664318047739623745747449088/1.3.6.1.4.1.14519.5.2.1.3671.4754.107487926758579202787990358233.dcm [Content-Type=application/dicom]...\n",
            "Copying file:///content/dcm_data/PCAMPMRI-00008/1.3.6.1.4.1.14519.5.2.1.3671.4754.266963586071007736606548226859/1.3.6.1.4.1.14519.5.2.1.3671.4754.331664318047739623745747449088/1.3.6.1.4.1.14519.5.2.1.3671.4754.530487292809010588790642643650.dcm [Content-Type=application/dicom]...\n",
            "Copying file:///content/dcm_data/PCAMPMRI-00008/1.3.6.1.4.1.14519.5.2.1.3671.4754.266963586071007736606548226859/1.3.6.1.4.1.14519.5.2.1.3671.4754.331664318047739623745747449088/1.3.6.1.4.1.14519.5.2.1.3671.4754.221269673520935944306051561052.dcm [Content-Type=application/dicom]...\n",
            "Copying file:///content/dcm_data/PCAMPMRI-00008/1.3.6.1.4.1.14519.5.2.1.3671.4754.266963586071007736606548226859/1.3.6.1.4.1.14519.5.2.1.3671.4754.331664318047739623745747449088/1.3.6.1.4.1.14519.5.2.1.3671.4754.331353088862516968366074305495.dcm [Content-Type=application/dicom]...\n",
            "Copying file:///content/dcm_data/PCAMPMRI-00008/1.3.6.1.4.1.14519.5.2.1.3671.4754.266963586071007736606548226859/1.3.6.1.4.1.14519.5.2.1.3671.4754.331664318047739623745747449088/1.3.6.1.4.1.14519.5.2.1.3671.4754.266772741376353169869361255803.dcm [Content-Type=application/dicom]...\n",
            "Copying file:///content/dcm_data/PCAMPMRI-00008/1.3.6.1.4.1.14519.5.2.1.3671.4754.266963586071007736606548226859/1.3.6.1.4.1.14519.5.2.1.3671.4754.331664318047739623745747449088/1.3.6.1.4.1.14519.5.2.1.3671.4754.263034672219866504368375620299.dcm [Content-Type=application/dicom]...\n",
            "Copying file:///content/dcm_data/PCAMPMRI-00008/1.3.6.1.4.1.14519.5.2.1.3671.4754.266963586071007736606548226859/1.3.6.1.4.1.14519.5.2.1.3671.4754.331664318047739623745747449088/1.3.6.1.4.1.14519.5.2.1.3671.4754.137749608428899575192851317052.dcm [Content-Type=application/dicom]...\n",
            "Copying file:///content/dcm_data/PCAMPMRI-00008/1.3.6.1.4.1.14519.5.2.1.3671.4754.266963586071007736606548226859/1.3.6.1.4.1.14519.5.2.1.3671.4754.331664318047739623745747449088/1.3.6.1.4.1.14519.5.2.1.3671.4754.209835116424598721188860004732.dcm [Content-Type=application/dicom]...\n",
            "Copying file:///content/dcm_data/PCAMPMRI-00008/1.3.6.1.4.1.14519.5.2.1.3671.4754.266963586071007736606548226859/1.3.6.1.4.1.14519.5.2.1.3671.4754.331664318047739623745747449088/1.3.6.1.4.1.14519.5.2.1.3671.4754.132296692098021626980210231673.dcm [Content-Type=application/dicom]...\n",
            "Copying file:///content/dcm_data/PCAMPMRI-00008/1.3.6.1.4.1.14519.5.2.1.3671.4754.266963586071007736606548226859/1.3.6.1.4.1.14519.5.2.1.3671.4754.331664318047739623745747449088/1.3.6.1.4.1.14519.5.2.1.3671.4754.220270698456074514695892343910.dcm [Content-Type=application/dicom]...\n",
            "Copying file:///content/dcm_data/PCAMPMRI-00008/1.3.6.1.4.1.14519.5.2.1.3671.4754.266963586071007736606548226859/1.3.6.1.4.1.14519.5.2.1.3671.4754.331664318047739623745747449088/1.3.6.1.4.1.14519.5.2.1.3671.4754.256613496557084776994518498237.dcm [Content-Type=application/dicom]...\n",
            "Copying file:///content/dcm_data/PCAMPMRI-00008/1.3.6.1.4.1.14519.5.2.1.3671.4754.266963586071007736606548226859/1.3.6.1.4.1.14519.5.2.1.3671.4754.331664318047739623745747449088/1.3.6.1.4.1.14519.5.2.1.3671.4754.858769323904964937494175458062.dcm [Content-Type=application/dicom]...\n",
            "Copying file:///content/dcm_data/PCAMPMRI-00008/1.3.6.1.4.1.14519.5.2.1.3671.4754.266963586071007736606548226859/1.3.6.1.4.1.14519.5.2.1.3671.4754.331664318047739623745747449088/1.3.6.1.4.1.14519.5.2.1.3671.4754.240602630878484292535468507538.dcm [Content-Type=application/dicom]...\n",
            "Copying file:///content/dcm_data/PCAMPMRI-00008/1.3.6.1.4.1.14519.5.2.1.3671.4754.266963586071007736606548226859/1.2.276.0.7230010.3.1.3.1426846371.13540.1513205155.899/1.2.276.0.7230010.3.1.4.1426846371.13540.1513205155.900.dcm [Content-Type=application/dicom]...\n",
            "Copying file:///content/dcm_data/PCAMPMRI-00009/1.3.6.1.4.1.14519.5.2.1.3671.4754.864607788085827202303582199118/1.2.276.0.7230010.3.1.3.1426846371.13920.1513205159.361/1.2.276.0.7230010.3.1.4.1426846371.13920.1513205159.362.dcm [Content-Type=application/dicom]...\n",
            "Copying file:///content/dcm_data/PCAMPMRI-00009/1.3.6.1.4.1.14519.5.2.1.3671.4754.864607788085827202303582199118/1.3.6.1.4.1.14519.5.2.1.3671.4754.117459950571016749056636056931/1.3.6.1.4.1.14519.5.2.1.3671.4754.172143821726959477554477870191.dcm [Content-Type=application/dicom]...\n",
            "Copying file:///content/dcm_data/PCAMPMRI-00009/1.3.6.1.4.1.14519.5.2.1.3671.4754.864607788085827202303582199118/1.3.6.1.4.1.14519.5.2.1.3671.4754.117459950571016749056636056931/1.3.6.1.4.1.14519.5.2.1.3671.4754.275324188118589540123523357143.dcm [Content-Type=application/dicom]...\n",
            "Copying file:///content/dcm_data/PCAMPMRI-00009/1.3.6.1.4.1.14519.5.2.1.3671.4754.864607788085827202303582199118/1.3.6.1.4.1.14519.5.2.1.3671.4754.117459950571016749056636056931/1.3.6.1.4.1.14519.5.2.1.3671.4754.199486121730863033200983400992.dcm [Content-Type=application/dicom]...\n",
            "Copying file:///content/dcm_data/PCAMPMRI-00009/1.3.6.1.4.1.14519.5.2.1.3671.4754.864607788085827202303582199118/1.3.6.1.4.1.14519.5.2.1.3671.4754.117459950571016749056636056931/1.3.6.1.4.1.14519.5.2.1.3671.4754.231078127966862186086097096607.dcm [Content-Type=application/dicom]...\n",
            "Copying file:///content/dcm_data/PCAMPMRI-00009/1.3.6.1.4.1.14519.5.2.1.3671.4754.864607788085827202303582199118/1.3.6.1.4.1.14519.5.2.1.3671.4754.117459950571016749056636056931/1.3.6.1.4.1.14519.5.2.1.3671.4754.222785343093867318405322900676.dcm [Content-Type=application/dicom]...\n",
            "Copying file:///content/dcm_data/PCAMPMRI-00009/1.3.6.1.4.1.14519.5.2.1.3671.4754.864607788085827202303582199118/1.3.6.1.4.1.14519.5.2.1.3671.4754.117459950571016749056636056931/1.3.6.1.4.1.14519.5.2.1.3671.4754.148725911017970739580640926473.dcm [Content-Type=application/dicom]...\n",
            "Copying file:///content/dcm_data/PCAMPMRI-00009/1.3.6.1.4.1.14519.5.2.1.3671.4754.864607788085827202303582199118/1.3.6.1.4.1.14519.5.2.1.3671.4754.117459950571016749056636056931/1.3.6.1.4.1.14519.5.2.1.3671.4754.193568413001617644739553143847.dcm [Content-Type=application/dicom]...\n",
            "Copying file:///content/dcm_data/PCAMPMRI-00009/1.3.6.1.4.1.14519.5.2.1.3671.4754.864607788085827202303582199118/1.3.6.1.4.1.14519.5.2.1.3671.4754.117459950571016749056636056931/1.3.6.1.4.1.14519.5.2.1.3671.4754.331491917994053323965850966547.dcm [Content-Type=application/dicom]...\n",
            "Copying file:///content/dcm_data/PCAMPMRI-00009/1.3.6.1.4.1.14519.5.2.1.3671.4754.864607788085827202303582199118/1.3.6.1.4.1.14519.5.2.1.3671.4754.117459950571016749056636056931/1.3.6.1.4.1.14519.5.2.1.3671.4754.180132609473444421012595048214.dcm [Content-Type=application/dicom]...\n",
            "Copying file:///content/dcm_data/PCAMPMRI-00009/1.3.6.1.4.1.14519.5.2.1.3671.4754.864607788085827202303582199118/1.3.6.1.4.1.14519.5.2.1.3671.4754.117459950571016749056636056931/1.3.6.1.4.1.14519.5.2.1.3671.4754.266135050397429503991809833035.dcm [Content-Type=application/dicom]...\n",
            "Copying file:///content/dcm_data/PCAMPMRI-00009/1.3.6.1.4.1.14519.5.2.1.3671.4754.864607788085827202303582199118/1.3.6.1.4.1.14519.5.2.1.3671.4754.117459950571016749056636056931/1.3.6.1.4.1.14519.5.2.1.3671.4754.922907128837057603688542758059.dcm [Content-Type=application/dicom]...\n",
            "Copying file:///content/dcm_data/PCAMPMRI-00009/1.3.6.1.4.1.14519.5.2.1.3671.4754.864607788085827202303582199118/1.3.6.1.4.1.14519.5.2.1.3671.4754.117459950571016749056636056931/1.3.6.1.4.1.14519.5.2.1.3671.4754.227083594612264525207697527633.dcm [Content-Type=application/dicom]...\n",
            "Copying file:///content/dcm_data/PCAMPMRI-00009/1.3.6.1.4.1.14519.5.2.1.3671.4754.864607788085827202303582199118/1.3.6.1.4.1.14519.5.2.1.3671.4754.117459950571016749056636056931/1.3.6.1.4.1.14519.5.2.1.3671.4754.128449295341366338140199099120.dcm [Content-Type=application/dicom]...\n",
            "Copying file:///content/dcm_data/PCAMPMRI-00009/1.3.6.1.4.1.14519.5.2.1.3671.4754.864607788085827202303582199118/1.3.6.1.4.1.14519.5.2.1.3671.4754.117459950571016749056636056931/1.3.6.1.4.1.14519.5.2.1.3671.4754.162499697955242042384660219595.dcm [Content-Type=application/dicom]...\n",
            "Copying file:///content/dcm_data/PCAMPMRI-00009/1.3.6.1.4.1.14519.5.2.1.3671.4754.864607788085827202303582199118/1.3.6.1.4.1.14519.5.2.1.3671.4754.117459950571016749056636056931/1.3.6.1.4.1.14519.5.2.1.3671.4754.243588696254027340635856837334.dcm [Content-Type=application/dicom]...\n",
            "Copying file:///content/dcm_data/PCAMPMRI-00009/1.3.6.1.4.1.14519.5.2.1.3671.4754.864607788085827202303582199118/1.3.6.1.4.1.14519.5.2.1.3671.4754.117459950571016749056636056931/1.3.6.1.4.1.14519.5.2.1.3671.4754.656395030200245435535533271597.dcm [Content-Type=application/dicom]...\n",
            "Copying file:///content/dcm_data/PCAMPMRI-00009/1.3.6.1.4.1.14519.5.2.1.3671.4754.864607788085827202303582199118/1.3.6.1.4.1.14519.5.2.1.3671.4754.117459950571016749056636056931/1.3.6.1.4.1.14519.5.2.1.3671.4754.811698539145633072290859296093.dcm [Content-Type=application/dicom]...\n",
            "Copying file:///content/dcm_data/PCAMPMRI-00009/1.3.6.1.4.1.14519.5.2.1.3671.4754.864607788085827202303582199118/1.3.6.1.4.1.14519.5.2.1.3671.4754.117459950571016749056636056931/1.3.6.1.4.1.14519.5.2.1.3671.4754.318983191497174936500100087433.dcm [Content-Type=application/dicom]...\n",
            "Copying file:///content/dcm_data/PCAMPMRI-00009/1.3.6.1.4.1.14519.5.2.1.3671.4754.864607788085827202303582199118/1.3.6.1.4.1.14519.5.2.1.3671.4754.117459950571016749056636056931/1.3.6.1.4.1.14519.5.2.1.3671.4754.285348398480601770617818911790.dcm [Content-Type=application/dicom]...\n",
            "Copying file:///content/dcm_data/PCAMPMRI-00009/1.3.6.1.4.1.14519.5.2.1.3671.4754.864607788085827202303582199118/1.3.6.1.4.1.14519.5.2.1.3671.4754.117459950571016749056636056931/1.3.6.1.4.1.14519.5.2.1.3671.4754.513233431768747872143495704922.dcm [Content-Type=application/dicom]...\n",
            "Copying file:///content/dcm_data/PCAMPMRI-00009/1.3.6.1.4.1.14519.5.2.1.3671.4754.864607788085827202303582199118/1.3.6.1.4.1.14519.5.2.1.3671.4754.117459950571016749056636056931/1.3.6.1.4.1.14519.5.2.1.3671.4754.298054850858214796035737399413.dcm [Content-Type=application/dicom]...\n",
            "Copying file:///content/dcm_data/PCAMPMRI-00009/1.3.6.1.4.1.14519.5.2.1.3671.4754.864607788085827202303582199118/1.3.6.1.4.1.14519.5.2.1.3671.4754.117459950571016749056636056931/1.3.6.1.4.1.14519.5.2.1.3671.4754.302945985358048203610831724232.dcm [Content-Type=application/dicom]...\n",
            "Copying file:///content/dcm_data/PCAMPMRI-00009/1.3.6.1.4.1.14519.5.2.1.3671.4754.864607788085827202303582199118/1.3.6.1.4.1.14519.5.2.1.3671.4754.117459950571016749056636056931/1.3.6.1.4.1.14519.5.2.1.3671.4754.199347662535155830569958057548.dcm [Content-Type=application/dicom]...\n",
            "Copying file:///content/dcm_data/PCAMPMRI-00009/1.3.6.1.4.1.14519.5.2.1.3671.4754.864607788085827202303582199118/1.3.6.1.4.1.14519.5.2.1.3671.4754.117459950571016749056636056931/1.3.6.1.4.1.14519.5.2.1.3671.4754.287838800071570601952513184577.dcm [Content-Type=application/dicom]...\n",
            "Copying file:///content/dcm_data/PCAMPMRI-00009/1.3.6.1.4.1.14519.5.2.1.3671.4754.864607788085827202303582199118/1.3.6.1.4.1.14519.5.2.1.3671.4754.117459950571016749056636056931/1.3.6.1.4.1.14519.5.2.1.3671.4754.158773178750466348235545639119.dcm [Content-Type=application/dicom]...\n",
            "Copying file:///content/dcm_data/PCAMPMRI-00009/1.3.6.1.4.1.14519.5.2.1.3671.4754.864607788085827202303582199118/1.3.6.1.4.1.14519.5.2.1.3671.4754.117459950571016749056636056931/1.3.6.1.4.1.14519.5.2.1.3671.4754.301840191913548056610942412806.dcm [Content-Type=application/dicom]...\n",
            "Copying file:///content/dcm_data/PCAMPMRI-00009/1.3.6.1.4.1.14519.5.2.1.3671.4754.864607788085827202303582199118/1.3.6.1.4.1.14519.5.2.1.3671.4754.117459950571016749056636056931/1.3.6.1.4.1.14519.5.2.1.3671.4754.291737763305580364271749584895.dcm [Content-Type=application/dicom]...\n",
            "Copying file:///content/dcm_data/PCAMPMRI-00009/1.3.6.1.4.1.14519.5.2.1.3671.4754.864607788085827202303582199118/1.3.6.1.4.1.14519.5.2.1.3671.4754.117459950571016749056636056931/1.3.6.1.4.1.14519.5.2.1.3671.4754.346645717295365545761337077974.dcm [Content-Type=application/dicom]...\n",
            "Copying file:///content/dcm_data/PCAMPMRI-00009/1.3.6.1.4.1.14519.5.2.1.3671.4754.181478254003851548055481596513/1.3.6.1.4.1.14519.5.2.1.3671.4754.192331874422392619419648373709/1.3.6.1.4.1.14519.5.2.1.3671.4754.189469990338165404862483904226.dcm [Content-Type=application/dicom]...\n",
            "Copying file:///content/dcm_data/PCAMPMRI-00009/1.3.6.1.4.1.14519.5.2.1.3671.4754.181478254003851548055481596513/1.3.6.1.4.1.14519.5.2.1.3671.4754.192331874422392619419648373709/1.3.6.1.4.1.14519.5.2.1.3671.4754.145149157331155392797873405996.dcm [Content-Type=application/dicom]...\n",
            "Copying file:///content/dcm_data/PCAMPMRI-00009/1.3.6.1.4.1.14519.5.2.1.3671.4754.181478254003851548055481596513/1.3.6.1.4.1.14519.5.2.1.3671.4754.192331874422392619419648373709/1.3.6.1.4.1.14519.5.2.1.3671.4754.676905689060591302477546443559.dcm [Content-Type=application/dicom]...\n",
            "Copying file:///content/dcm_data/PCAMPMRI-00009/1.3.6.1.4.1.14519.5.2.1.3671.4754.181478254003851548055481596513/1.3.6.1.4.1.14519.5.2.1.3671.4754.192331874422392619419648373709/1.3.6.1.4.1.14519.5.2.1.3671.4754.338816261206619059124039626580.dcm [Content-Type=application/dicom]...\n",
            "Copying file:///content/dcm_data/PCAMPMRI-00009/1.3.6.1.4.1.14519.5.2.1.3671.4754.181478254003851548055481596513/1.3.6.1.4.1.14519.5.2.1.3671.4754.192331874422392619419648373709/1.3.6.1.4.1.14519.5.2.1.3671.4754.798984407742659052964346598919.dcm [Content-Type=application/dicom]...\n",
            "Copying file:///content/dcm_data/PCAMPMRI-00009/1.3.6.1.4.1.14519.5.2.1.3671.4754.181478254003851548055481596513/1.3.6.1.4.1.14519.5.2.1.3671.4754.192331874422392619419648373709/1.3.6.1.4.1.14519.5.2.1.3671.4754.521009756313600791368305557230.dcm [Content-Type=application/dicom]...\n",
            "Copying file:///content/dcm_data/PCAMPMRI-00009/1.3.6.1.4.1.14519.5.2.1.3671.4754.181478254003851548055481596513/1.3.6.1.4.1.14519.5.2.1.3671.4754.192331874422392619419648373709/1.3.6.1.4.1.14519.5.2.1.3671.4754.122059579651918323350927428424.dcm [Content-Type=application/dicom]...\n",
            "Copying file:///content/dcm_data/PCAMPMRI-00009/1.3.6.1.4.1.14519.5.2.1.3671.4754.181478254003851548055481596513/1.3.6.1.4.1.14519.5.2.1.3671.4754.192331874422392619419648373709/1.3.6.1.4.1.14519.5.2.1.3671.4754.118519673406361670096648535690.dcm [Content-Type=application/dicom]...\n",
            "Copying file:///content/dcm_data/PCAMPMRI-00009/1.3.6.1.4.1.14519.5.2.1.3671.4754.181478254003851548055481596513/1.3.6.1.4.1.14519.5.2.1.3671.4754.192331874422392619419648373709/1.3.6.1.4.1.14519.5.2.1.3671.4754.143694237559944757115157331033.dcm [Content-Type=application/dicom]...\n",
            "Copying file:///content/dcm_data/PCAMPMRI-00009/1.3.6.1.4.1.14519.5.2.1.3671.4754.181478254003851548055481596513/1.3.6.1.4.1.14519.5.2.1.3671.4754.192331874422392619419648373709/1.3.6.1.4.1.14519.5.2.1.3671.4754.225870974432162376162124717431.dcm [Content-Type=application/dicom]...\n",
            "Copying file:///content/dcm_data/PCAMPMRI-00009/1.3.6.1.4.1.14519.5.2.1.3671.4754.181478254003851548055481596513/1.3.6.1.4.1.14519.5.2.1.3671.4754.192331874422392619419648373709/1.3.6.1.4.1.14519.5.2.1.3671.4754.240417681409847609436753616752.dcm [Content-Type=application/dicom]...\n",
            "Copying file:///content/dcm_data/PCAMPMRI-00009/1.3.6.1.4.1.14519.5.2.1.3671.4754.181478254003851548055481596513/1.3.6.1.4.1.14519.5.2.1.3671.4754.192331874422392619419648373709/1.3.6.1.4.1.14519.5.2.1.3671.4754.184081369215185909353336631450.dcm [Content-Type=application/dicom]...\n",
            "Copying file:///content/dcm_data/PCAMPMRI-00009/1.3.6.1.4.1.14519.5.2.1.3671.4754.181478254003851548055481596513/1.3.6.1.4.1.14519.5.2.1.3671.4754.192331874422392619419648373709/1.3.6.1.4.1.14519.5.2.1.3671.4754.321039636260553899808405000412.dcm [Content-Type=application/dicom]...\n",
            "Copying file:///content/dcm_data/PCAMPMRI-00009/1.3.6.1.4.1.14519.5.2.1.3671.4754.181478254003851548055481596513/1.3.6.1.4.1.14519.5.2.1.3671.4754.192331874422392619419648373709/1.3.6.1.4.1.14519.5.2.1.3671.4754.246947167434353713485641516923.dcm [Content-Type=application/dicom]...\n",
            "Copying file:///content/dcm_data/PCAMPMRI-00009/1.3.6.1.4.1.14519.5.2.1.3671.4754.181478254003851548055481596513/1.3.6.1.4.1.14519.5.2.1.3671.4754.192331874422392619419648373709/1.3.6.1.4.1.14519.5.2.1.3671.4754.310234995943762329401443141880.dcm [Content-Type=application/dicom]...\n",
            "Copying file:///content/dcm_data/PCAMPMRI-00009/1.3.6.1.4.1.14519.5.2.1.3671.4754.181478254003851548055481596513/1.3.6.1.4.1.14519.5.2.1.3671.4754.192331874422392619419648373709/1.3.6.1.4.1.14519.5.2.1.3671.4754.205915540283275780910125077614.dcm [Content-Type=application/dicom]...\n",
            "Copying file:///content/dcm_data/PCAMPMRI-00009/1.3.6.1.4.1.14519.5.2.1.3671.4754.181478254003851548055481596513/1.3.6.1.4.1.14519.5.2.1.3671.4754.192331874422392619419648373709/1.3.6.1.4.1.14519.5.2.1.3671.4754.323578192315462252977411785157.dcm [Content-Type=application/dicom]...\n",
            "Copying file:///content/dcm_data/PCAMPMRI-00009/1.3.6.1.4.1.14519.5.2.1.3671.4754.181478254003851548055481596513/1.3.6.1.4.1.14519.5.2.1.3671.4754.192331874422392619419648373709/1.3.6.1.4.1.14519.5.2.1.3671.4754.214210819786715974645503759715.dcm [Content-Type=application/dicom]...\n",
            "Copying file:///content/dcm_data/PCAMPMRI-00009/1.3.6.1.4.1.14519.5.2.1.3671.4754.181478254003851548055481596513/1.3.6.1.4.1.14519.5.2.1.3671.4754.192331874422392619419648373709/1.3.6.1.4.1.14519.5.2.1.3671.4754.311661018769638802292444525478.dcm [Content-Type=application/dicom]...\n",
            "Copying file:///content/dcm_data/PCAMPMRI-00009/1.3.6.1.4.1.14519.5.2.1.3671.4754.181478254003851548055481596513/1.3.6.1.4.1.14519.5.2.1.3671.4754.192331874422392619419648373709/1.3.6.1.4.1.14519.5.2.1.3671.4754.285241785891360794225890743288.dcm [Content-Type=application/dicom]...\n",
            "Copying file:///content/dcm_data/PCAMPMRI-00009/1.3.6.1.4.1.14519.5.2.1.3671.4754.181478254003851548055481596513/1.3.6.1.4.1.14519.5.2.1.3671.4754.192331874422392619419648373709/1.3.6.1.4.1.14519.5.2.1.3671.4754.200868070957977979618540158197.dcm [Content-Type=application/dicom]...\n",
            "Copying file:///content/dcm_data/PCAMPMRI-00009/1.3.6.1.4.1.14519.5.2.1.3671.4754.181478254003851548055481596513/1.3.6.1.4.1.14519.5.2.1.3671.4754.192331874422392619419648373709/1.3.6.1.4.1.14519.5.2.1.3671.4754.203766290416685800117712330457.dcm [Content-Type=application/dicom]...\n",
            "Copying file:///content/dcm_data/PCAMPMRI-00009/1.3.6.1.4.1.14519.5.2.1.3671.4754.181478254003851548055481596513/1.3.6.1.4.1.14519.5.2.1.3671.4754.192331874422392619419648373709/1.3.6.1.4.1.14519.5.2.1.3671.4754.170465328217698721418634417164.dcm [Content-Type=application/dicom]...\n",
            "Copying file:///content/dcm_data/PCAMPMRI-00009/1.3.6.1.4.1.14519.5.2.1.3671.4754.181478254003851548055481596513/1.3.6.1.4.1.14519.5.2.1.3671.4754.192331874422392619419648373709/1.3.6.1.4.1.14519.5.2.1.3671.4754.210822688364349407343535351408.dcm [Content-Type=application/dicom]...\n",
            "Copying file:///content/dcm_data/PCAMPMRI-00009/1.3.6.1.4.1.14519.5.2.1.3671.4754.181478254003851548055481596513/1.3.6.1.4.1.14519.5.2.1.3671.4754.192331874422392619419648373709/1.3.6.1.4.1.14519.5.2.1.3671.4754.227530428636454742338658066165.dcm [Content-Type=application/dicom]...\n",
            "Copying file:///content/dcm_data/PCAMPMRI-00009/1.3.6.1.4.1.14519.5.2.1.3671.4754.181478254003851548055481596513/1.3.6.1.4.1.14519.5.2.1.3671.4754.192331874422392619419648373709/1.3.6.1.4.1.14519.5.2.1.3671.4754.762019986414113186589032844315.dcm [Content-Type=application/dicom]...\n",
            "Copying file:///content/dcm_data/PCAMPMRI-00009/1.3.6.1.4.1.14519.5.2.1.3671.4754.181478254003851548055481596513/1.3.6.1.4.1.14519.5.2.1.3671.4754.192331874422392619419648373709/1.3.6.1.4.1.14519.5.2.1.3671.4754.182944405776668760706380886906.dcm [Content-Type=application/dicom]...\n",
            "Copying file:///content/dcm_data/PCAMPMRI-00009/1.3.6.1.4.1.14519.5.2.1.3671.4754.181478254003851548055481596513/1.3.6.1.4.1.14519.5.2.1.3671.4754.192331874422392619419648373709/1.3.6.1.4.1.14519.5.2.1.3671.4754.123396969268668559948256926000.dcm [Content-Type=application/dicom]...\n",
            "Copying file:///content/dcm_data/PCAMPMRI-00009/1.3.6.1.4.1.14519.5.2.1.3671.4754.181478254003851548055481596513/1.2.276.0.7230010.3.1.3.1426846371.17328.1513205163.152/1.2.276.0.7230010.3.1.4.1426846371.17328.1513205163.153.dcm [Content-Type=application/dicom]...\n",
            "Copying file:///content/dcm_data/PCAMPMRI-00010/1.3.6.1.4.1.14519.5.2.1.3671.4754.217251077299095981018478951589/1.3.6.1.4.1.14519.5.2.1.3671.4754.218938411300600171613807256501/1.3.6.1.4.1.14519.5.2.1.3671.4754.261207364672166442508905919699.dcm [Content-Type=application/dicom]...\n",
            "Copying file:///content/dcm_data/PCAMPMRI-00010/1.3.6.1.4.1.14519.5.2.1.3671.4754.217251077299095981018478951589/1.3.6.1.4.1.14519.5.2.1.3671.4754.218938411300600171613807256501/1.3.6.1.4.1.14519.5.2.1.3671.4754.192875007077049529526993197574.dcm [Content-Type=application/dicom]...\n",
            "Copying file:///content/dcm_data/PCAMPMRI-00010/1.3.6.1.4.1.14519.5.2.1.3671.4754.217251077299095981018478951589/1.3.6.1.4.1.14519.5.2.1.3671.4754.218938411300600171613807256501/1.3.6.1.4.1.14519.5.2.1.3671.4754.183087852968160097220882393327.dcm [Content-Type=application/dicom]...\n",
            "Copying file:///content/dcm_data/PCAMPMRI-00010/1.3.6.1.4.1.14519.5.2.1.3671.4754.217251077299095981018478951589/1.3.6.1.4.1.14519.5.2.1.3671.4754.218938411300600171613807256501/1.3.6.1.4.1.14519.5.2.1.3671.4754.321870096289915672618443203229.dcm [Content-Type=application/dicom]...\n",
            "Copying file:///content/dcm_data/PCAMPMRI-00010/1.3.6.1.4.1.14519.5.2.1.3671.4754.217251077299095981018478951589/1.3.6.1.4.1.14519.5.2.1.3671.4754.218938411300600171613807256501/1.3.6.1.4.1.14519.5.2.1.3671.4754.451221588821690566443729157389.dcm [Content-Type=application/dicom]...\n",
            "Copying file:///content/dcm_data/PCAMPMRI-00010/1.3.6.1.4.1.14519.5.2.1.3671.4754.217251077299095981018478951589/1.3.6.1.4.1.14519.5.2.1.3671.4754.218938411300600171613807256501/1.3.6.1.4.1.14519.5.2.1.3671.4754.198027014233087842331121294797.dcm [Content-Type=application/dicom]...\n",
            "Copying file:///content/dcm_data/PCAMPMRI-00010/1.3.6.1.4.1.14519.5.2.1.3671.4754.217251077299095981018478951589/1.3.6.1.4.1.14519.5.2.1.3671.4754.218938411300600171613807256501/1.3.6.1.4.1.14519.5.2.1.3671.4754.208088172937147032455723858054.dcm [Content-Type=application/dicom]...\n",
            "Copying file:///content/dcm_data/PCAMPMRI-00010/1.3.6.1.4.1.14519.5.2.1.3671.4754.217251077299095981018478951589/1.3.6.1.4.1.14519.5.2.1.3671.4754.218938411300600171613807256501/1.3.6.1.4.1.14519.5.2.1.3671.4754.301548560592655696719043808843.dcm [Content-Type=application/dicom]...\n",
            "Copying file:///content/dcm_data/PCAMPMRI-00010/1.3.6.1.4.1.14519.5.2.1.3671.4754.217251077299095981018478951589/1.3.6.1.4.1.14519.5.2.1.3671.4754.218938411300600171613807256501/1.3.6.1.4.1.14519.5.2.1.3671.4754.194646205973183927288746404670.dcm [Content-Type=application/dicom]...\n",
            "Copying file:///content/dcm_data/PCAMPMRI-00010/1.3.6.1.4.1.14519.5.2.1.3671.4754.217251077299095981018478951589/1.3.6.1.4.1.14519.5.2.1.3671.4754.218938411300600171613807256501/1.3.6.1.4.1.14519.5.2.1.3671.4754.150976191288952910574614108498.dcm [Content-Type=application/dicom]...\n",
            "Copying file:///content/dcm_data/PCAMPMRI-00010/1.3.6.1.4.1.14519.5.2.1.3671.4754.217251077299095981018478951589/1.3.6.1.4.1.14519.5.2.1.3671.4754.218938411300600171613807256501/1.3.6.1.4.1.14519.5.2.1.3671.4754.888500097936437446644660767440.dcm [Content-Type=application/dicom]...\n",
            "Copying file:///content/dcm_data/PCAMPMRI-00010/1.3.6.1.4.1.14519.5.2.1.3671.4754.217251077299095981018478951589/1.3.6.1.4.1.14519.5.2.1.3671.4754.218938411300600171613807256501/1.3.6.1.4.1.14519.5.2.1.3671.4754.402532358509331905334831232601.dcm [Content-Type=application/dicom]...\n",
            "Copying file:///content/dcm_data/PCAMPMRI-00010/1.3.6.1.4.1.14519.5.2.1.3671.4754.217251077299095981018478951589/1.3.6.1.4.1.14519.5.2.1.3671.4754.218938411300600171613807256501/1.3.6.1.4.1.14519.5.2.1.3671.4754.416633881004747624685044252753.dcm [Content-Type=application/dicom]...\n",
            "Copying file:///content/dcm_data/PCAMPMRI-00010/1.3.6.1.4.1.14519.5.2.1.3671.4754.217251077299095981018478951589/1.3.6.1.4.1.14519.5.2.1.3671.4754.218938411300600171613807256501/1.3.6.1.4.1.14519.5.2.1.3671.4754.178978114973954133720107739833.dcm [Content-Type=application/dicom]...\n",
            "Copying file:///content/dcm_data/PCAMPMRI-00010/1.3.6.1.4.1.14519.5.2.1.3671.4754.217251077299095981018478951589/1.3.6.1.4.1.14519.5.2.1.3671.4754.218938411300600171613807256501/1.3.6.1.4.1.14519.5.2.1.3671.4754.207798298451227253102264103839.dcm [Content-Type=application/dicom]...\n",
            "Copying file:///content/dcm_data/PCAMPMRI-00010/1.3.6.1.4.1.14519.5.2.1.3671.4754.217251077299095981018478951589/1.3.6.1.4.1.14519.5.2.1.3671.4754.218938411300600171613807256501/1.3.6.1.4.1.14519.5.2.1.3671.4754.234641540962669962025097516468.dcm [Content-Type=application/dicom]...\n",
            "Copying file:///content/dcm_data/PCAMPMRI-00010/1.3.6.1.4.1.14519.5.2.1.3671.4754.217251077299095981018478951589/1.3.6.1.4.1.14519.5.2.1.3671.4754.218938411300600171613807256501/1.3.6.1.4.1.14519.5.2.1.3671.4754.275735407265773227704726282468.dcm [Content-Type=application/dicom]...\n",
            "Copying file:///content/dcm_data/PCAMPMRI-00010/1.3.6.1.4.1.14519.5.2.1.3671.4754.217251077299095981018478951589/1.3.6.1.4.1.14519.5.2.1.3671.4754.218938411300600171613807256501/1.3.6.1.4.1.14519.5.2.1.3671.4754.921499945113563530927532505858.dcm [Content-Type=application/dicom]...\n",
            "Copying file:///content/dcm_data/PCAMPMRI-00010/1.3.6.1.4.1.14519.5.2.1.3671.4754.217251077299095981018478951589/1.3.6.1.4.1.14519.5.2.1.3671.4754.218938411300600171613807256501/1.3.6.1.4.1.14519.5.2.1.3671.4754.198174623486122646647527891329.dcm [Content-Type=application/dicom]...\n",
            "Copying file:///content/dcm_data/PCAMPMRI-00010/1.3.6.1.4.1.14519.5.2.1.3671.4754.217251077299095981018478951589/1.3.6.1.4.1.14519.5.2.1.3671.4754.218938411300600171613807256501/1.3.6.1.4.1.14519.5.2.1.3671.4754.193539593820130889961405268548.dcm [Content-Type=application/dicom]...\n",
            "Copying file:///content/dcm_data/PCAMPMRI-00010/1.3.6.1.4.1.14519.5.2.1.3671.4754.217251077299095981018478951589/1.3.6.1.4.1.14519.5.2.1.3671.4754.218938411300600171613807256501/1.3.6.1.4.1.14519.5.2.1.3671.4754.143892523471833060169451136820.dcm [Content-Type=application/dicom]...\n",
            "Copying file:///content/dcm_data/PCAMPMRI-00010/1.3.6.1.4.1.14519.5.2.1.3671.4754.217251077299095981018478951589/1.3.6.1.4.1.14519.5.2.1.3671.4754.218938411300600171613807256501/1.3.6.1.4.1.14519.5.2.1.3671.4754.327590932469792649604296716400.dcm [Content-Type=application/dicom]...\n",
            "Copying file:///content/dcm_data/PCAMPMRI-00010/1.3.6.1.4.1.14519.5.2.1.3671.4754.217251077299095981018478951589/1.3.6.1.4.1.14519.5.2.1.3671.4754.218938411300600171613807256501/1.3.6.1.4.1.14519.5.2.1.3671.4754.887543852775469958132013502259.dcm [Content-Type=application/dicom]...\n",
            "Copying file:///content/dcm_data/PCAMPMRI-00010/1.3.6.1.4.1.14519.5.2.1.3671.4754.217251077299095981018478951589/1.3.6.1.4.1.14519.5.2.1.3671.4754.218938411300600171613807256501/1.3.6.1.4.1.14519.5.2.1.3671.4754.316340860531831215290625427972.dcm [Content-Type=application/dicom]...\n",
            "Copying file:///content/dcm_data/PCAMPMRI-00010/1.3.6.1.4.1.14519.5.2.1.3671.4754.217251077299095981018478951589/1.3.6.1.4.1.14519.5.2.1.3671.4754.218938411300600171613807256501/1.3.6.1.4.1.14519.5.2.1.3671.4754.211124127300738955350245406534.dcm [Content-Type=application/dicom]...\n",
            "Copying file:///content/dcm_data/PCAMPMRI-00010/1.3.6.1.4.1.14519.5.2.1.3671.4754.217251077299095981018478951589/1.3.6.1.4.1.14519.5.2.1.3671.4754.218938411300600171613807256501/1.3.6.1.4.1.14519.5.2.1.3671.4754.117987905063827652846815470985.dcm [Content-Type=application/dicom]...\n",
            "Copying file:///content/dcm_data/PCAMPMRI-00010/1.3.6.1.4.1.14519.5.2.1.3671.4754.217251077299095981018478951589/1.3.6.1.4.1.14519.5.2.1.3671.4754.218938411300600171613807256501/1.3.6.1.4.1.14519.5.2.1.3671.4754.271650273290667694027631933316.dcm [Content-Type=application/dicom]...\n",
            "Copying file:///content/dcm_data/PCAMPMRI-00010/1.3.6.1.4.1.14519.5.2.1.3671.4754.217251077299095981018478951589/1.3.6.1.4.1.14519.5.2.1.3671.4754.218938411300600171613807256501/1.3.6.1.4.1.14519.5.2.1.3671.4754.889249380398316775866239181431.dcm [Content-Type=application/dicom]...\n",
            "Copying file:///content/dcm_data/PCAMPMRI-00010/1.3.6.1.4.1.14519.5.2.1.3671.4754.217251077299095981018478951589/1.2.276.0.7230010.3.1.3.1426846371.4124.1513205167.5/1.2.276.0.7230010.3.1.4.1426846371.4124.1513205167.6.dcm [Content-Type=application/dicom]...\n",
            "Copying file:///content/dcm_data/PCAMPMRI-00010/1.3.6.1.4.1.14519.5.2.1.3671.4754.318227959935022390930294557376/1.2.276.0.7230010.3.1.3.1426846371.7872.1513205171.131/1.2.276.0.7230010.3.1.4.1426846371.7872.1513205171.132.dcm [Content-Type=application/dicom]...\n",
            "Copying file:///content/dcm_data/PCAMPMRI-00010/1.3.6.1.4.1.14519.5.2.1.3671.4754.318227959935022390930294557376/1.3.6.1.4.1.14519.5.2.1.3671.4754.105976129314091491952445656147/1.3.6.1.4.1.14519.5.2.1.3671.4754.256365810328605161390258089593.dcm [Content-Type=application/dicom]...\n",
            "Copying file:///content/dcm_data/PCAMPMRI-00010/1.3.6.1.4.1.14519.5.2.1.3671.4754.318227959935022390930294557376/1.3.6.1.4.1.14519.5.2.1.3671.4754.105976129314091491952445656147/1.3.6.1.4.1.14519.5.2.1.3671.4754.263325703761221224903902388507.dcm [Content-Type=application/dicom]...\n",
            "Copying file:///content/dcm_data/PCAMPMRI-00010/1.3.6.1.4.1.14519.5.2.1.3671.4754.318227959935022390930294557376/1.3.6.1.4.1.14519.5.2.1.3671.4754.105976129314091491952445656147/1.3.6.1.4.1.14519.5.2.1.3671.4754.322923025911292687032886104335.dcm [Content-Type=application/dicom]...\n",
            "Copying file:///content/dcm_data/PCAMPMRI-00010/1.3.6.1.4.1.14519.5.2.1.3671.4754.318227959935022390930294557376/1.3.6.1.4.1.14519.5.2.1.3671.4754.105976129314091491952445656147/1.3.6.1.4.1.14519.5.2.1.3671.4754.191200263650357380863315367635.dcm [Content-Type=application/dicom]...\n",
            "Copying file:///content/dcm_data/PCAMPMRI-00010/1.3.6.1.4.1.14519.5.2.1.3671.4754.318227959935022390930294557376/1.3.6.1.4.1.14519.5.2.1.3671.4754.105976129314091491952445656147/1.3.6.1.4.1.14519.5.2.1.3671.4754.145129594714750762192814430063.dcm [Content-Type=application/dicom]...\n",
            "Copying file:///content/dcm_data/PCAMPMRI-00010/1.3.6.1.4.1.14519.5.2.1.3671.4754.318227959935022390930294557376/1.3.6.1.4.1.14519.5.2.1.3671.4754.105976129314091491952445656147/1.3.6.1.4.1.14519.5.2.1.3671.4754.730752544235202375176887433722.dcm [Content-Type=application/dicom]...\n",
            "Copying file:///content/dcm_data/PCAMPMRI-00010/1.3.6.1.4.1.14519.5.2.1.3671.4754.318227959935022390930294557376/1.3.6.1.4.1.14519.5.2.1.3671.4754.105976129314091491952445656147/1.3.6.1.4.1.14519.5.2.1.3671.4754.212118472599196846587652612533.dcm [Content-Type=application/dicom]...\n",
            "Copying file:///content/dcm_data/PCAMPMRI-00010/1.3.6.1.4.1.14519.5.2.1.3671.4754.318227959935022390930294557376/1.3.6.1.4.1.14519.5.2.1.3671.4754.105976129314091491952445656147/1.3.6.1.4.1.14519.5.2.1.3671.4754.235221964656940627020218349819.dcm [Content-Type=application/dicom]...\n",
            "Copying file:///content/dcm_data/PCAMPMRI-00010/1.3.6.1.4.1.14519.5.2.1.3671.4754.318227959935022390930294557376/1.3.6.1.4.1.14519.5.2.1.3671.4754.105976129314091491952445656147/1.3.6.1.4.1.14519.5.2.1.3671.4754.267761894215459574793513662676.dcm [Content-Type=application/dicom]...\n",
            "Copying file:///content/dcm_data/PCAMPMRI-00010/1.3.6.1.4.1.14519.5.2.1.3671.4754.318227959935022390930294557376/1.3.6.1.4.1.14519.5.2.1.3671.4754.105976129314091491952445656147/1.3.6.1.4.1.14519.5.2.1.3671.4754.204257496647415631146637484250.dcm [Content-Type=application/dicom]...\n",
            "Copying file:///content/dcm_data/PCAMPMRI-00010/1.3.6.1.4.1.14519.5.2.1.3671.4754.318227959935022390930294557376/1.3.6.1.4.1.14519.5.2.1.3671.4754.105976129314091491952445656147/1.3.6.1.4.1.14519.5.2.1.3671.4754.755500367262047377573174038554.dcm [Content-Type=application/dicom]...\n",
            "Copying file:///content/dcm_data/PCAMPMRI-00010/1.3.6.1.4.1.14519.5.2.1.3671.4754.318227959935022390930294557376/1.3.6.1.4.1.14519.5.2.1.3671.4754.105976129314091491952445656147/1.3.6.1.4.1.14519.5.2.1.3671.4754.140801598839214419284572257799.dcm [Content-Type=application/dicom]...\n",
            "Copying file:///content/dcm_data/PCAMPMRI-00010/1.3.6.1.4.1.14519.5.2.1.3671.4754.318227959935022390930294557376/1.3.6.1.4.1.14519.5.2.1.3671.4754.105976129314091491952445656147/1.3.6.1.4.1.14519.5.2.1.3671.4754.325415806840950880691490668851.dcm [Content-Type=application/dicom]...\n",
            "Copying file:///content/dcm_data/PCAMPMRI-00010/1.3.6.1.4.1.14519.5.2.1.3671.4754.318227959935022390930294557376/1.3.6.1.4.1.14519.5.2.1.3671.4754.105976129314091491952445656147/1.3.6.1.4.1.14519.5.2.1.3671.4754.426534932169877795827717522126.dcm [Content-Type=application/dicom]...\n",
            "Copying file:///content/dcm_data/PCAMPMRI-00010/1.3.6.1.4.1.14519.5.2.1.3671.4754.318227959935022390930294557376/1.3.6.1.4.1.14519.5.2.1.3671.4754.105976129314091491952445656147/1.3.6.1.4.1.14519.5.2.1.3671.4754.107853286470846561211143815609.dcm [Content-Type=application/dicom]...\n",
            "Copying file:///content/dcm_data/PCAMPMRI-00010/1.3.6.1.4.1.14519.5.2.1.3671.4754.318227959935022390930294557376/1.3.6.1.4.1.14519.5.2.1.3671.4754.105976129314091491952445656147/1.3.6.1.4.1.14519.5.2.1.3671.4754.282682149246157013439062139859.dcm [Content-Type=application/dicom]...\n",
            "Copying file:///content/dcm_data/PCAMPMRI-00010/1.3.6.1.4.1.14519.5.2.1.3671.4754.318227959935022390930294557376/1.3.6.1.4.1.14519.5.2.1.3671.4754.105976129314091491952445656147/1.3.6.1.4.1.14519.5.2.1.3671.4754.215674986583098771161321434862.dcm [Content-Type=application/dicom]...\n",
            "Copying file:///content/dcm_data/PCAMPMRI-00010/1.3.6.1.4.1.14519.5.2.1.3671.4754.318227959935022390930294557376/1.3.6.1.4.1.14519.5.2.1.3671.4754.105976129314091491952445656147/1.3.6.1.4.1.14519.5.2.1.3671.4754.306822031996156316692027713505.dcm [Content-Type=application/dicom]...\n",
            "Copying file:///content/dcm_data/PCAMPMRI-00010/1.3.6.1.4.1.14519.5.2.1.3671.4754.318227959935022390930294557376/1.3.6.1.4.1.14519.5.2.1.3671.4754.105976129314091491952445656147/1.3.6.1.4.1.14519.5.2.1.3671.4754.165650871225518190660510595378.dcm [Content-Type=application/dicom]...\n",
            "Copying file:///content/dcm_data/PCAMPMRI-00010/1.3.6.1.4.1.14519.5.2.1.3671.4754.318227959935022390930294557376/1.3.6.1.4.1.14519.5.2.1.3671.4754.105976129314091491952445656147/1.3.6.1.4.1.14519.5.2.1.3671.4754.306082302566003268681264310193.dcm [Content-Type=application/dicom]...\n",
            "Copying file:///content/dcm_data/PCAMPMRI-00010/1.3.6.1.4.1.14519.5.2.1.3671.4754.318227959935022390930294557376/1.3.6.1.4.1.14519.5.2.1.3671.4754.105976129314091491952445656147/1.3.6.1.4.1.14519.5.2.1.3671.4754.263392088929117172842664547534.dcm [Content-Type=application/dicom]...\n",
            "Copying file:///content/dcm_data/PCAMPMRI-00010/1.3.6.1.4.1.14519.5.2.1.3671.4754.318227959935022390930294557376/1.3.6.1.4.1.14519.5.2.1.3671.4754.105976129314091491952445656147/1.3.6.1.4.1.14519.5.2.1.3671.4754.315950975439888792069806740187.dcm [Content-Type=application/dicom]...\n",
            "Copying file:///content/dcm_data/PCAMPMRI-00010/1.3.6.1.4.1.14519.5.2.1.3671.4754.318227959935022390930294557376/1.3.6.1.4.1.14519.5.2.1.3671.4754.105976129314091491952445656147/1.3.6.1.4.1.14519.5.2.1.3671.4754.294578272183255143833994108899.dcm [Content-Type=application/dicom]...\n",
            "Copying file:///content/dcm_data/PCAMPMRI-00010/1.3.6.1.4.1.14519.5.2.1.3671.4754.318227959935022390930294557376/1.3.6.1.4.1.14519.5.2.1.3671.4754.105976129314091491952445656147/1.3.6.1.4.1.14519.5.2.1.3671.4754.304718505192436178135338808996.dcm [Content-Type=application/dicom]...\n",
            "Copying file:///content/dcm_data/PCAMPMRI-00010/1.3.6.1.4.1.14519.5.2.1.3671.4754.318227959935022390930294557376/1.3.6.1.4.1.14519.5.2.1.3671.4754.105976129314091491952445656147/1.3.6.1.4.1.14519.5.2.1.3671.4754.912876150654338723133303880496.dcm [Content-Type=application/dicom]...\n",
            "Copying file:///content/dcm_data/PCAMPMRI-00010/1.3.6.1.4.1.14519.5.2.1.3671.4754.318227959935022390930294557376/1.3.6.1.4.1.14519.5.2.1.3671.4754.105976129314091491952445656147/1.3.6.1.4.1.14519.5.2.1.3671.4754.138847798224187040549435189158.dcm [Content-Type=application/dicom]...\n",
            "Copying file:///content/dcm_data/PCAMPMRI-00010/1.3.6.1.4.1.14519.5.2.1.3671.4754.318227959935022390930294557376/1.3.6.1.4.1.14519.5.2.1.3671.4754.105976129314091491952445656147/1.3.6.1.4.1.14519.5.2.1.3671.4754.214290588321642539525275710202.dcm [Content-Type=application/dicom]...\n",
            "Copying file:///content/dcm_data/PCAMPMRI-00010/1.3.6.1.4.1.14519.5.2.1.3671.4754.318227959935022390930294557376/1.3.6.1.4.1.14519.5.2.1.3671.4754.105976129314091491952445656147/1.3.6.1.4.1.14519.5.2.1.3671.4754.319524717920040263961232181875.dcm [Content-Type=application/dicom]...\n",
            "Copying file:///content/dcm_data/PCAMPMRI-00010/1.3.6.1.4.1.14519.5.2.1.3671.4754.318227959935022390930294557376/1.3.6.1.4.1.14519.5.2.1.3671.4754.105976129314091491952445656147/1.3.6.1.4.1.14519.5.2.1.3671.4754.223090850152152236851552216093.dcm [Content-Type=application/dicom]...\n",
            "Copying file:///content/dcm_data/PCAMPMRI-00010/1.3.6.1.4.1.14519.5.2.1.3671.4754.318227959935022390930294557376/1.3.6.1.4.1.14519.5.2.1.3671.4754.105976129314091491952445656147/1.3.6.1.4.1.14519.5.2.1.3671.4754.263410667396924922618086533624.dcm [Content-Type=application/dicom]...\n",
            "Copying file:///content/dcm_data/PCAMPMRI-00011/1.3.6.1.4.1.14519.5.2.1.3671.4754.117496148504386222592571043379/1.2.276.0.7230010.3.1.3.1426846371.6348.1513205178.148/1.2.276.0.7230010.3.1.4.1426846371.6348.1513205178.149.dcm [Content-Type=application/dicom]...\n",
            "Copying file:///content/dcm_data/PCAMPMRI-00011/1.3.6.1.4.1.14519.5.2.1.3671.4754.117496148504386222592571043379/1.3.6.1.4.1.14519.5.2.1.3671.4754.338491148696735703564376647888/1.3.6.1.4.1.14519.5.2.1.3671.4754.126071141611546975383971185455.dcm [Content-Type=application/dicom]...\n",
            "Copying file:///content/dcm_data/PCAMPMRI-00011/1.3.6.1.4.1.14519.5.2.1.3671.4754.117496148504386222592571043379/1.3.6.1.4.1.14519.5.2.1.3671.4754.338491148696735703564376647888/1.3.6.1.4.1.14519.5.2.1.3671.4754.146699168201640553524968973972.dcm [Content-Type=application/dicom]...\n",
            "Copying file:///content/dcm_data/PCAMPMRI-00011/1.3.6.1.4.1.14519.5.2.1.3671.4754.117496148504386222592571043379/1.3.6.1.4.1.14519.5.2.1.3671.4754.338491148696735703564376647888/1.3.6.1.4.1.14519.5.2.1.3671.4754.182727387016798596806752465208.dcm [Content-Type=application/dicom]...\n",
            "Copying file:///content/dcm_data/PCAMPMRI-00011/1.3.6.1.4.1.14519.5.2.1.3671.4754.117496148504386222592571043379/1.3.6.1.4.1.14519.5.2.1.3671.4754.338491148696735703564376647888/1.3.6.1.4.1.14519.5.2.1.3671.4754.174204480342299965117419045924.dcm [Content-Type=application/dicom]...\n",
            "Copying file:///content/dcm_data/PCAMPMRI-00011/1.3.6.1.4.1.14519.5.2.1.3671.4754.117496148504386222592571043379/1.3.6.1.4.1.14519.5.2.1.3671.4754.338491148696735703564376647888/1.3.6.1.4.1.14519.5.2.1.3671.4754.273010148669443591664021435962.dcm [Content-Type=application/dicom]...\n",
            "Copying file:///content/dcm_data/PCAMPMRI-00011/1.3.6.1.4.1.14519.5.2.1.3671.4754.117496148504386222592571043379/1.3.6.1.4.1.14519.5.2.1.3671.4754.338491148696735703564376647888/1.3.6.1.4.1.14519.5.2.1.3671.4754.229185829185241893828753182699.dcm [Content-Type=application/dicom]...\n",
            "Copying file:///content/dcm_data/PCAMPMRI-00011/1.3.6.1.4.1.14519.5.2.1.3671.4754.117496148504386222592571043379/1.3.6.1.4.1.14519.5.2.1.3671.4754.338491148696735703564376647888/1.3.6.1.4.1.14519.5.2.1.3671.4754.282931264046142158355305156383.dcm [Content-Type=application/dicom]...\n",
            "Copying file:///content/dcm_data/PCAMPMRI-00011/1.3.6.1.4.1.14519.5.2.1.3671.4754.117496148504386222592571043379/1.3.6.1.4.1.14519.5.2.1.3671.4754.338491148696735703564376647888/1.3.6.1.4.1.14519.5.2.1.3671.4754.200266299066527587224241198926.dcm [Content-Type=application/dicom]...\n",
            "Copying file:///content/dcm_data/PCAMPMRI-00011/1.3.6.1.4.1.14519.5.2.1.3671.4754.117496148504386222592571043379/1.3.6.1.4.1.14519.5.2.1.3671.4754.338491148696735703564376647888/1.3.6.1.4.1.14519.5.2.1.3671.4754.538506086462723801373614470155.dcm [Content-Type=application/dicom]...\n",
            "Copying file:///content/dcm_data/PCAMPMRI-00011/1.3.6.1.4.1.14519.5.2.1.3671.4754.117496148504386222592571043379/1.3.6.1.4.1.14519.5.2.1.3671.4754.338491148696735703564376647888/1.3.6.1.4.1.14519.5.2.1.3671.4754.325574539662352554818922601227.dcm [Content-Type=application/dicom]...\n",
            "Copying file:///content/dcm_data/PCAMPMRI-00011/1.3.6.1.4.1.14519.5.2.1.3671.4754.117496148504386222592571043379/1.3.6.1.4.1.14519.5.2.1.3671.4754.338491148696735703564376647888/1.3.6.1.4.1.14519.5.2.1.3671.4754.185217921781980511878923973300.dcm [Content-Type=application/dicom]...\n",
            "Copying file:///content/dcm_data/PCAMPMRI-00011/1.3.6.1.4.1.14519.5.2.1.3671.4754.117496148504386222592571043379/1.3.6.1.4.1.14519.5.2.1.3671.4754.338491148696735703564376647888/1.3.6.1.4.1.14519.5.2.1.3671.4754.213642452277056093661379960094.dcm [Content-Type=application/dicom]...\n",
            "Copying file:///content/dcm_data/PCAMPMRI-00011/1.3.6.1.4.1.14519.5.2.1.3671.4754.117496148504386222592571043379/1.3.6.1.4.1.14519.5.2.1.3671.4754.338491148696735703564376647888/1.3.6.1.4.1.14519.5.2.1.3671.4754.145693002093198940776801833371.dcm [Content-Type=application/dicom]...\n",
            "Copying file:///content/dcm_data/PCAMPMRI-00011/1.3.6.1.4.1.14519.5.2.1.3671.4754.117496148504386222592571043379/1.3.6.1.4.1.14519.5.2.1.3671.4754.338491148696735703564376647888/1.3.6.1.4.1.14519.5.2.1.3671.4754.446568622093662804873585331694.dcm [Content-Type=application/dicom]...\n",
            "Copying file:///content/dcm_data/PCAMPMRI-00011/1.3.6.1.4.1.14519.5.2.1.3671.4754.117496148504386222592571043379/1.3.6.1.4.1.14519.5.2.1.3671.4754.338491148696735703564376647888/1.3.6.1.4.1.14519.5.2.1.3671.4754.289243135305640441273020241985.dcm [Content-Type=application/dicom]...\n",
            "Copying file:///content/dcm_data/PCAMPMRI-00011/1.3.6.1.4.1.14519.5.2.1.3671.4754.117496148504386222592571043379/1.3.6.1.4.1.14519.5.2.1.3671.4754.338491148696735703564376647888/1.3.6.1.4.1.14519.5.2.1.3671.4754.898212957728281060586263730895.dcm [Content-Type=application/dicom]...\n",
            "Copying file:///content/dcm_data/PCAMPMRI-00011/1.3.6.1.4.1.14519.5.2.1.3671.4754.117496148504386222592571043379/1.3.6.1.4.1.14519.5.2.1.3671.4754.338491148696735703564376647888/1.3.6.1.4.1.14519.5.2.1.3671.4754.118390030191495806255543342628.dcm [Content-Type=application/dicom]...\n",
            "Copying file:///content/dcm_data/PCAMPMRI-00011/1.3.6.1.4.1.14519.5.2.1.3671.4754.117496148504386222592571043379/1.3.6.1.4.1.14519.5.2.1.3671.4754.338491148696735703564376647888/1.3.6.1.4.1.14519.5.2.1.3671.4754.276919613180112017624068651639.dcm [Content-Type=application/dicom]...\n",
            "Copying file:///content/dcm_data/PCAMPMRI-00011/1.3.6.1.4.1.14519.5.2.1.3671.4754.117496148504386222592571043379/1.3.6.1.4.1.14519.5.2.1.3671.4754.338491148696735703564376647888/1.3.6.1.4.1.14519.5.2.1.3671.4754.719120220317087356355823710702.dcm [Content-Type=application/dicom]...\n",
            "Copying file:///content/dcm_data/PCAMPMRI-00011/1.3.6.1.4.1.14519.5.2.1.3671.4754.117496148504386222592571043379/1.3.6.1.4.1.14519.5.2.1.3671.4754.338491148696735703564376647888/1.3.6.1.4.1.14519.5.2.1.3671.4754.296503206874781354794777311682.dcm [Content-Type=application/dicom]...\n",
            "Copying file:///content/dcm_data/PCAMPMRI-00011/1.3.6.1.4.1.14519.5.2.1.3671.4754.117496148504386222592571043379/1.3.6.1.4.1.14519.5.2.1.3671.4754.338491148696735703564376647888/1.3.6.1.4.1.14519.5.2.1.3671.4754.338172268620634790874206602493.dcm [Content-Type=application/dicom]...\n",
            "Copying file:///content/dcm_data/PCAMPMRI-00011/1.3.6.1.4.1.14519.5.2.1.3671.4754.117496148504386222592571043379/1.3.6.1.4.1.14519.5.2.1.3671.4754.338491148696735703564376647888/1.3.6.1.4.1.14519.5.2.1.3671.4754.205286316157934190532971676431.dcm [Content-Type=application/dicom]...\n",
            "Copying file:///content/dcm_data/PCAMPMRI-00011/1.3.6.1.4.1.14519.5.2.1.3671.4754.117496148504386222592571043379/1.3.6.1.4.1.14519.5.2.1.3671.4754.338491148696735703564376647888/1.3.6.1.4.1.14519.5.2.1.3671.4754.299280920348546914521652805460.dcm [Content-Type=application/dicom]...\n",
            "Copying file:///content/dcm_data/PCAMPMRI-00011/1.3.6.1.4.1.14519.5.2.1.3671.4754.117496148504386222592571043379/1.3.6.1.4.1.14519.5.2.1.3671.4754.338491148696735703564376647888/1.3.6.1.4.1.14519.5.2.1.3671.4754.313917075733213287785486677213.dcm [Content-Type=application/dicom]...\n",
            "Copying file:///content/dcm_data/PCAMPMRI-00011/1.3.6.1.4.1.14519.5.2.1.3671.4754.117496148504386222592571043379/1.3.6.1.4.1.14519.5.2.1.3671.4754.338491148696735703564376647888/1.3.6.1.4.1.14519.5.2.1.3671.4754.268087626120016899998463193316.dcm [Content-Type=application/dicom]...\n",
            "Copying file:///content/dcm_data/PCAMPMRI-00011/1.3.6.1.4.1.14519.5.2.1.3671.4754.117496148504386222592571043379/1.3.6.1.4.1.14519.5.2.1.3671.4754.338491148696735703564376647888/1.3.6.1.4.1.14519.5.2.1.3671.4754.438630658418758749085750810237.dcm [Content-Type=application/dicom]...\n",
            "Copying file:///content/dcm_data/PCAMPMRI-00011/1.3.6.1.4.1.14519.5.2.1.3671.4754.117496148504386222592571043379/1.3.6.1.4.1.14519.5.2.1.3671.4754.338491148696735703564376647888/1.3.6.1.4.1.14519.5.2.1.3671.4754.185024424029195813543302637685.dcm [Content-Type=application/dicom]...\n",
            "Copying file:///content/dcm_data/PCAMPMRI-00011/1.3.6.1.4.1.14519.5.2.1.3671.4754.117496148504386222592571043379/1.3.6.1.4.1.14519.5.2.1.3671.4754.338491148696735703564376647888/1.3.6.1.4.1.14519.5.2.1.3671.4754.166870108431034158744724778747.dcm [Content-Type=application/dicom]...\n",
            "Copying file:///content/dcm_data/PCAMPMRI-00011/1.3.6.1.4.1.14519.5.2.1.3671.4754.131608903441424620949571415524/1.3.6.1.4.1.14519.5.2.1.3671.4754.212083125906384321957172108223/1.3.6.1.4.1.14519.5.2.1.3671.4754.195335317117008832810829309410.dcm [Content-Type=application/dicom]...\n",
            "Copying file:///content/dcm_data/PCAMPMRI-00011/1.3.6.1.4.1.14519.5.2.1.3671.4754.131608903441424620949571415524/1.3.6.1.4.1.14519.5.2.1.3671.4754.212083125906384321957172108223/1.3.6.1.4.1.14519.5.2.1.3671.4754.238544738880552239042428303552.dcm [Content-Type=application/dicom]...\n",
            "Copying file:///content/dcm_data/PCAMPMRI-00011/1.3.6.1.4.1.14519.5.2.1.3671.4754.131608903441424620949571415524/1.3.6.1.4.1.14519.5.2.1.3671.4754.212083125906384321957172108223/1.3.6.1.4.1.14519.5.2.1.3671.4754.331086178711305815501774904662.dcm [Content-Type=application/dicom]...\n",
            "Copying file:///content/dcm_data/PCAMPMRI-00011/1.3.6.1.4.1.14519.5.2.1.3671.4754.131608903441424620949571415524/1.3.6.1.4.1.14519.5.2.1.3671.4754.212083125906384321957172108223/1.3.6.1.4.1.14519.5.2.1.3671.4754.183366610511818532333675002801.dcm [Content-Type=application/dicom]...\n",
            "Copying file:///content/dcm_data/PCAMPMRI-00011/1.3.6.1.4.1.14519.5.2.1.3671.4754.131608903441424620949571415524/1.3.6.1.4.1.14519.5.2.1.3671.4754.212083125906384321957172108223/1.3.6.1.4.1.14519.5.2.1.3671.4754.368608551823553577042396067495.dcm [Content-Type=application/dicom]...\n",
            "Copying file:///content/dcm_data/PCAMPMRI-00011/1.3.6.1.4.1.14519.5.2.1.3671.4754.131608903441424620949571415524/1.3.6.1.4.1.14519.5.2.1.3671.4754.212083125906384321957172108223/1.3.6.1.4.1.14519.5.2.1.3671.4754.116121812054065742940494944281.dcm [Content-Type=application/dicom]...\n",
            "Copying file:///content/dcm_data/PCAMPMRI-00011/1.3.6.1.4.1.14519.5.2.1.3671.4754.131608903441424620949571415524/1.3.6.1.4.1.14519.5.2.1.3671.4754.212083125906384321957172108223/1.3.6.1.4.1.14519.5.2.1.3671.4754.715485128130001859343644785247.dcm [Content-Type=application/dicom]...\n",
            "Copying file:///content/dcm_data/PCAMPMRI-00011/1.3.6.1.4.1.14519.5.2.1.3671.4754.131608903441424620949571415524/1.3.6.1.4.1.14519.5.2.1.3671.4754.212083125906384321957172108223/1.3.6.1.4.1.14519.5.2.1.3671.4754.460262489730542258632270848885.dcm [Content-Type=application/dicom]...\n",
            "Copying file:///content/dcm_data/PCAMPMRI-00011/1.3.6.1.4.1.14519.5.2.1.3671.4754.131608903441424620949571415524/1.3.6.1.4.1.14519.5.2.1.3671.4754.212083125906384321957172108223/1.3.6.1.4.1.14519.5.2.1.3671.4754.230825707174103867145161291216.dcm [Content-Type=application/dicom]...\n",
            "Copying file:///content/dcm_data/PCAMPMRI-00011/1.3.6.1.4.1.14519.5.2.1.3671.4754.131608903441424620949571415524/1.3.6.1.4.1.14519.5.2.1.3671.4754.212083125906384321957172108223/1.3.6.1.4.1.14519.5.2.1.3671.4754.115152053905953498250972011251.dcm [Content-Type=application/dicom]...\n",
            "Copying file:///content/dcm_data/PCAMPMRI-00011/1.3.6.1.4.1.14519.5.2.1.3671.4754.131608903441424620949571415524/1.3.6.1.4.1.14519.5.2.1.3671.4754.212083125906384321957172108223/1.3.6.1.4.1.14519.5.2.1.3671.4754.222430210344221940461812916218.dcm [Content-Type=application/dicom]...\n",
            "Copying file:///content/dcm_data/PCAMPMRI-00011/1.3.6.1.4.1.14519.5.2.1.3671.4754.131608903441424620949571415524/1.3.6.1.4.1.14519.5.2.1.3671.4754.212083125906384321957172108223/1.3.6.1.4.1.14519.5.2.1.3671.4754.224634171104654013322629010729.dcm [Content-Type=application/dicom]...\n",
            "Copying file:///content/dcm_data/PCAMPMRI-00011/1.3.6.1.4.1.14519.5.2.1.3671.4754.131608903441424620949571415524/1.3.6.1.4.1.14519.5.2.1.3671.4754.212083125906384321957172108223/1.3.6.1.4.1.14519.5.2.1.3671.4754.192521505540027678732413163820.dcm [Content-Type=application/dicom]...\n",
            "Copying file:///content/dcm_data/PCAMPMRI-00011/1.3.6.1.4.1.14519.5.2.1.3671.4754.131608903441424620949571415524/1.3.6.1.4.1.14519.5.2.1.3671.4754.212083125906384321957172108223/1.3.6.1.4.1.14519.5.2.1.3671.4754.134369489605031559189945942780.dcm [Content-Type=application/dicom]...\n",
            "Copying file:///content/dcm_data/PCAMPMRI-00011/1.3.6.1.4.1.14519.5.2.1.3671.4754.131608903441424620949571415524/1.3.6.1.4.1.14519.5.2.1.3671.4754.212083125906384321957172108223/1.3.6.1.4.1.14519.5.2.1.3671.4754.335684863408018478498667136576.dcm [Content-Type=application/dicom]...\n",
            "Copying file:///content/dcm_data/PCAMPMRI-00011/1.3.6.1.4.1.14519.5.2.1.3671.4754.131608903441424620949571415524/1.3.6.1.4.1.14519.5.2.1.3671.4754.212083125906384321957172108223/1.3.6.1.4.1.14519.5.2.1.3671.4754.836378056768118916908039238862.dcm [Content-Type=application/dicom]...\n",
            "Copying file:///content/dcm_data/PCAMPMRI-00011/1.3.6.1.4.1.14519.5.2.1.3671.4754.131608903441424620949571415524/1.3.6.1.4.1.14519.5.2.1.3671.4754.212083125906384321957172108223/1.3.6.1.4.1.14519.5.2.1.3671.4754.273986924561663529302998459455.dcm [Content-Type=application/dicom]...\n",
            "Copying file:///content/dcm_data/PCAMPMRI-00011/1.3.6.1.4.1.14519.5.2.1.3671.4754.131608903441424620949571415524/1.3.6.1.4.1.14519.5.2.1.3671.4754.212083125906384321957172108223/1.3.6.1.4.1.14519.5.2.1.3671.4754.549529505259344541439023244874.dcm [Content-Type=application/dicom]...\n",
            "Copying file:///content/dcm_data/PCAMPMRI-00011/1.3.6.1.4.1.14519.5.2.1.3671.4754.131608903441424620949571415524/1.3.6.1.4.1.14519.5.2.1.3671.4754.212083125906384321957172108223/1.3.6.1.4.1.14519.5.2.1.3671.4754.171542177124864338303246288876.dcm [Content-Type=application/dicom]...\n",
            "Copying file:///content/dcm_data/PCAMPMRI-00011/1.3.6.1.4.1.14519.5.2.1.3671.4754.131608903441424620949571415524/1.3.6.1.4.1.14519.5.2.1.3671.4754.212083125906384321957172108223/1.3.6.1.4.1.14519.5.2.1.3671.4754.140494244147846136699326872329.dcm [Content-Type=application/dicom]...\n",
            "Copying file:///content/dcm_data/PCAMPMRI-00011/1.3.6.1.4.1.14519.5.2.1.3671.4754.131608903441424620949571415524/1.3.6.1.4.1.14519.5.2.1.3671.4754.212083125906384321957172108223/1.3.6.1.4.1.14519.5.2.1.3671.4754.221736398868740031720059234740.dcm [Content-Type=application/dicom]...\n",
            "Copying file:///content/dcm_data/PCAMPMRI-00011/1.3.6.1.4.1.14519.5.2.1.3671.4754.131608903441424620949571415524/1.3.6.1.4.1.14519.5.2.1.3671.4754.212083125906384321957172108223/1.3.6.1.4.1.14519.5.2.1.3671.4754.196925737323173438611690521338.dcm [Content-Type=application/dicom]...\n",
            "Copying file:///content/dcm_data/PCAMPMRI-00011/1.3.6.1.4.1.14519.5.2.1.3671.4754.131608903441424620949571415524/1.3.6.1.4.1.14519.5.2.1.3671.4754.212083125906384321957172108223/1.3.6.1.4.1.14519.5.2.1.3671.4754.212978868842877143677145644680.dcm [Content-Type=application/dicom]...\n",
            "Copying file:///content/dcm_data/PCAMPMRI-00011/1.3.6.1.4.1.14519.5.2.1.3671.4754.131608903441424620949571415524/1.3.6.1.4.1.14519.5.2.1.3671.4754.212083125906384321957172108223/1.3.6.1.4.1.14519.5.2.1.3671.4754.260833522787355222136972718541.dcm [Content-Type=application/dicom]...\n",
            "Copying file:///content/dcm_data/PCAMPMRI-00011/1.3.6.1.4.1.14519.5.2.1.3671.4754.131608903441424620949571415524/1.3.6.1.4.1.14519.5.2.1.3671.4754.212083125906384321957172108223/1.3.6.1.4.1.14519.5.2.1.3671.4754.314458385584748362692214209526.dcm [Content-Type=application/dicom]...\n",
            "Copying file:///content/dcm_data/PCAMPMRI-00011/1.3.6.1.4.1.14519.5.2.1.3671.4754.131608903441424620949571415524/1.3.6.1.4.1.14519.5.2.1.3671.4754.212083125906384321957172108223/1.3.6.1.4.1.14519.5.2.1.3671.4754.630312341246453214901630706289.dcm [Content-Type=application/dicom]...\n",
            "Copying file:///content/dcm_data/PCAMPMRI-00011/1.3.6.1.4.1.14519.5.2.1.3671.4754.131608903441424620949571415524/1.3.6.1.4.1.14519.5.2.1.3671.4754.212083125906384321957172108223/1.3.6.1.4.1.14519.5.2.1.3671.4754.170605705240603929514907552403.dcm [Content-Type=application/dicom]...\n",
            "Copying file:///content/dcm_data/PCAMPMRI-00011/1.3.6.1.4.1.14519.5.2.1.3671.4754.131608903441424620949571415524/1.3.6.1.4.1.14519.5.2.1.3671.4754.212083125906384321957172108223/1.3.6.1.4.1.14519.5.2.1.3671.4754.170431292156640898716115655168.dcm [Content-Type=application/dicom]...\n",
            "Copying file:///content/dcm_data/PCAMPMRI-00011/1.3.6.1.4.1.14519.5.2.1.3671.4754.131608903441424620949571415524/1.2.276.0.7230010.3.1.3.1426846371.13892.1513205175.497/1.2.276.0.7230010.3.1.4.1426846371.13892.1513205175.498.dcm [Content-Type=application/dicom]...\n",
            "Copying file:///content/dcm_data/PCAMPMRI-00012/1.3.6.1.4.1.14519.5.2.1.3671.4754.298665348758363466150039312520/1.2.276.0.7230010.3.1.3.1426846371.300.1513205181.722/1.2.276.0.7230010.3.1.4.1426846371.300.1513205181.723.dcm [Content-Type=application/dicom]...\n",
            "Copying file:///content/dcm_data/PCAMPMRI-00012/1.3.6.1.4.1.14519.5.2.1.3671.4754.298665348758363466150039312520/1.3.6.1.4.1.14519.5.2.1.3671.4754.230497515093449653192531406300/1.3.6.1.4.1.14519.5.2.1.3671.4754.244786595752739101536240124715.dcm [Content-Type=application/dicom]...\n",
            "Copying file:///content/dcm_data/PCAMPMRI-00012/1.3.6.1.4.1.14519.5.2.1.3671.4754.298665348758363466150039312520/1.3.6.1.4.1.14519.5.2.1.3671.4754.230497515093449653192531406300/1.3.6.1.4.1.14519.5.2.1.3671.4754.114320951926040404742149670007.dcm [Content-Type=application/dicom]...\n",
            "Copying file:///content/dcm_data/PCAMPMRI-00012/1.3.6.1.4.1.14519.5.2.1.3671.4754.298665348758363466150039312520/1.3.6.1.4.1.14519.5.2.1.3671.4754.230497515093449653192531406300/1.3.6.1.4.1.14519.5.2.1.3671.4754.168281097560052366874780176352.dcm [Content-Type=application/dicom]...\n",
            "Copying file:///content/dcm_data/PCAMPMRI-00012/1.3.6.1.4.1.14519.5.2.1.3671.4754.298665348758363466150039312520/1.3.6.1.4.1.14519.5.2.1.3671.4754.230497515093449653192531406300/1.3.6.1.4.1.14519.5.2.1.3671.4754.333621262489733439342751358677.dcm [Content-Type=application/dicom]...\n",
            "Copying file:///content/dcm_data/PCAMPMRI-00012/1.3.6.1.4.1.14519.5.2.1.3671.4754.298665348758363466150039312520/1.3.6.1.4.1.14519.5.2.1.3671.4754.230497515093449653192531406300/1.3.6.1.4.1.14519.5.2.1.3671.4754.173171433345982117481854613359.dcm [Content-Type=application/dicom]...\n",
            "Copying file:///content/dcm_data/PCAMPMRI-00012/1.3.6.1.4.1.14519.5.2.1.3671.4754.298665348758363466150039312520/1.3.6.1.4.1.14519.5.2.1.3671.4754.230497515093449653192531406300/1.3.6.1.4.1.14519.5.2.1.3671.4754.331664745394305222008883131429.dcm [Content-Type=application/dicom]...\n",
            "Copying file:///content/dcm_data/PCAMPMRI-00012/1.3.6.1.4.1.14519.5.2.1.3671.4754.298665348758363466150039312520/1.3.6.1.4.1.14519.5.2.1.3671.4754.230497515093449653192531406300/1.3.6.1.4.1.14519.5.2.1.3671.4754.286786498442166613529068377056.dcm [Content-Type=application/dicom]...\n",
            "Copying file:///content/dcm_data/PCAMPMRI-00012/1.3.6.1.4.1.14519.5.2.1.3671.4754.298665348758363466150039312520/1.3.6.1.4.1.14519.5.2.1.3671.4754.230497515093449653192531406300/1.3.6.1.4.1.14519.5.2.1.3671.4754.288822975650759626249238218204.dcm [Content-Type=application/dicom]...\n",
            "Copying file:///content/dcm_data/PCAMPMRI-00012/1.3.6.1.4.1.14519.5.2.1.3671.4754.298665348758363466150039312520/1.3.6.1.4.1.14519.5.2.1.3671.4754.230497515093449653192531406300/1.3.6.1.4.1.14519.5.2.1.3671.4754.711141231024009576278114321662.dcm [Content-Type=application/dicom]...\n",
            "Copying file:///content/dcm_data/PCAMPMRI-00012/1.3.6.1.4.1.14519.5.2.1.3671.4754.298665348758363466150039312520/1.3.6.1.4.1.14519.5.2.1.3671.4754.230497515093449653192531406300/1.3.6.1.4.1.14519.5.2.1.3671.4754.319325716707742552763175247864.dcm [Content-Type=application/dicom]...\n",
            "Copying file:///content/dcm_data/PCAMPMRI-00012/1.3.6.1.4.1.14519.5.2.1.3671.4754.298665348758363466150039312520/1.3.6.1.4.1.14519.5.2.1.3671.4754.230497515093449653192531406300/1.3.6.1.4.1.14519.5.2.1.3671.4754.173201846756602337868383625743.dcm [Content-Type=application/dicom]...\n",
            "Copying file:///content/dcm_data/PCAMPMRI-00012/1.3.6.1.4.1.14519.5.2.1.3671.4754.298665348758363466150039312520/1.3.6.1.4.1.14519.5.2.1.3671.4754.230497515093449653192531406300/1.3.6.1.4.1.14519.5.2.1.3671.4754.594855007837557073285892576016.dcm [Content-Type=application/dicom]...\n",
            "Copying file:///content/dcm_data/PCAMPMRI-00012/1.3.6.1.4.1.14519.5.2.1.3671.4754.298665348758363466150039312520/1.3.6.1.4.1.14519.5.2.1.3671.4754.230497515093449653192531406300/1.3.6.1.4.1.14519.5.2.1.3671.4754.111607773073566540559968042164.dcm [Content-Type=application/dicom]...\n",
            "Copying file:///content/dcm_data/PCAMPMRI-00012/1.3.6.1.4.1.14519.5.2.1.3671.4754.298665348758363466150039312520/1.3.6.1.4.1.14519.5.2.1.3671.4754.230497515093449653192531406300/1.3.6.1.4.1.14519.5.2.1.3671.4754.246814437995626900286557158155.dcm [Content-Type=application/dicom]...\n",
            "Copying file:///content/dcm_data/PCAMPMRI-00012/1.3.6.1.4.1.14519.5.2.1.3671.4754.298665348758363466150039312520/1.3.6.1.4.1.14519.5.2.1.3671.4754.230497515093449653192531406300/1.3.6.1.4.1.14519.5.2.1.3671.4754.144216038700076432578339403735.dcm [Content-Type=application/dicom]...\n",
            "Copying file:///content/dcm_data/PCAMPMRI-00012/1.3.6.1.4.1.14519.5.2.1.3671.4754.298665348758363466150039312520/1.3.6.1.4.1.14519.5.2.1.3671.4754.230497515093449653192531406300/1.3.6.1.4.1.14519.5.2.1.3671.4754.193774843835004830553088038738.dcm [Content-Type=application/dicom]...\n",
            "Copying file:///content/dcm_data/PCAMPMRI-00012/1.3.6.1.4.1.14519.5.2.1.3671.4754.298665348758363466150039312520/1.3.6.1.4.1.14519.5.2.1.3671.4754.230497515093449653192531406300/1.3.6.1.4.1.14519.5.2.1.3671.4754.290779023392514629038760119213.dcm [Content-Type=application/dicom]...\n",
            "Copying file:///content/dcm_data/PCAMPMRI-00012/1.3.6.1.4.1.14519.5.2.1.3671.4754.298665348758363466150039312520/1.3.6.1.4.1.14519.5.2.1.3671.4754.230497515093449653192531406300/1.3.6.1.4.1.14519.5.2.1.3671.4754.985111805251851362944617178989.dcm [Content-Type=application/dicom]...\n",
            "Copying file:///content/dcm_data/PCAMPMRI-00012/1.3.6.1.4.1.14519.5.2.1.3671.4754.298665348758363466150039312520/1.3.6.1.4.1.14519.5.2.1.3671.4754.230497515093449653192531406300/1.3.6.1.4.1.14519.5.2.1.3671.4754.170270905992483018200198813225.dcm [Content-Type=application/dicom]...\n",
            "Copying file:///content/dcm_data/PCAMPMRI-00012/1.3.6.1.4.1.14519.5.2.1.3671.4754.298665348758363466150039312520/1.3.6.1.4.1.14519.5.2.1.3671.4754.230497515093449653192531406300/1.3.6.1.4.1.14519.5.2.1.3671.4754.338015268515392026660020076586.dcm [Content-Type=application/dicom]...\n",
            "Copying file:///content/dcm_data/PCAMPMRI-00012/1.3.6.1.4.1.14519.5.2.1.3671.4754.298665348758363466150039312520/1.3.6.1.4.1.14519.5.2.1.3671.4754.230497515093449653192531406300/1.3.6.1.4.1.14519.5.2.1.3671.4754.267172189443494274057814020034.dcm [Content-Type=application/dicom]...\n",
            "Copying file:///content/dcm_data/PCAMPMRI-00012/1.3.6.1.4.1.14519.5.2.1.3671.4754.298665348758363466150039312520/1.3.6.1.4.1.14519.5.2.1.3671.4754.230497515093449653192531406300/1.3.6.1.4.1.14519.5.2.1.3671.4754.130121957554528710786784187281.dcm [Content-Type=application/dicom]...\n",
            "Copying file:///content/dcm_data/PCAMPMRI-00012/1.3.6.1.4.1.14519.5.2.1.3671.4754.298665348758363466150039312520/1.3.6.1.4.1.14519.5.2.1.3671.4754.230497515093449653192531406300/1.3.6.1.4.1.14519.5.2.1.3671.4754.565008242814875331894939642908.dcm [Content-Type=application/dicom]...\n",
            "Copying file:///content/dcm_data/PCAMPMRI-00012/1.3.6.1.4.1.14519.5.2.1.3671.4754.298665348758363466150039312520/1.3.6.1.4.1.14519.5.2.1.3671.4754.230497515093449653192531406300/1.3.6.1.4.1.14519.5.2.1.3671.4754.354761224866482411021224209316.dcm [Content-Type=application/dicom]...\n",
            "Copying file:///content/dcm_data/PCAMPMRI-00012/1.3.6.1.4.1.14519.5.2.1.3671.4754.298665348758363466150039312520/1.3.6.1.4.1.14519.5.2.1.3671.4754.230497515093449653192531406300/1.3.6.1.4.1.14519.5.2.1.3671.4754.167492371737444048811705920941.dcm [Content-Type=application/dicom]...\n",
            "Copying file:///content/dcm_data/PCAMPMRI-00012/1.3.6.1.4.1.14519.5.2.1.3671.4754.298665348758363466150039312520/1.3.6.1.4.1.14519.5.2.1.3671.4754.230497515093449653192531406300/1.3.6.1.4.1.14519.5.2.1.3671.4754.287316517016306172599224081224.dcm [Content-Type=application/dicom]...\n",
            "Copying file:///content/dcm_data/PCAMPMRI-00012/1.3.6.1.4.1.14519.5.2.1.3671.4754.298665348758363466150039312520/1.3.6.1.4.1.14519.5.2.1.3671.4754.230497515093449653192531406300/1.3.6.1.4.1.14519.5.2.1.3671.4754.128132761919041916076080403695.dcm [Content-Type=application/dicom]...\n",
            "Copying file:///content/dcm_data/PCAMPMRI-00012/1.3.6.1.4.1.14519.5.2.1.3671.4754.298665348758363466150039312520/1.3.6.1.4.1.14519.5.2.1.3671.4754.230497515093449653192531406300/1.3.6.1.4.1.14519.5.2.1.3671.4754.851967958821045711994424126010.dcm [Content-Type=application/dicom]...\n",
            "Copying file:///content/dcm_data/PCAMPMRI-00012/1.3.6.1.4.1.14519.5.2.1.3671.4754.298665348758363466150039312520/1.3.6.1.4.1.14519.5.2.1.3671.4754.230497515093449653192531406300/1.3.6.1.4.1.14519.5.2.1.3671.4754.211881024134826075980069623357.dcm [Content-Type=application/dicom]...\n",
            "Copying file:///content/dcm_data/PCAMPMRI-00012/1.3.6.1.4.1.14519.5.2.1.3671.4754.298665348758363466150039312520/1.3.6.1.4.1.14519.5.2.1.3671.4754.230497515093449653192531406300/1.3.6.1.4.1.14519.5.2.1.3671.4754.193623967629791175975179761601.dcm [Content-Type=application/dicom]...\n",
            "Copying file:///content/dcm_data/PCAMPMRI-00012/1.3.6.1.4.1.14519.5.2.1.3671.4754.264231410930579591639987629694/1.3.6.1.4.1.14519.5.2.1.3671.4754.112304063989226412927473616890/1.3.6.1.4.1.14519.5.2.1.3671.4754.975765664672161580056600576157.dcm [Content-Type=application/dicom]...\n",
            "Copying file:///content/dcm_data/PCAMPMRI-00012/1.3.6.1.4.1.14519.5.2.1.3671.4754.264231410930579591639987629694/1.3.6.1.4.1.14519.5.2.1.3671.4754.112304063989226412927473616890/1.3.6.1.4.1.14519.5.2.1.3671.4754.150169904075244143934158530151.dcm [Content-Type=application/dicom]...\n",
            "Copying file:///content/dcm_data/PCAMPMRI-00012/1.3.6.1.4.1.14519.5.2.1.3671.4754.264231410930579591639987629694/1.3.6.1.4.1.14519.5.2.1.3671.4754.112304063989226412927473616890/1.3.6.1.4.1.14519.5.2.1.3671.4754.136722587704692622839836463720.dcm [Content-Type=application/dicom]...\n",
            "Copying file:///content/dcm_data/PCAMPMRI-00012/1.3.6.1.4.1.14519.5.2.1.3671.4754.264231410930579591639987629694/1.3.6.1.4.1.14519.5.2.1.3671.4754.112304063989226412927473616890/1.3.6.1.4.1.14519.5.2.1.3671.4754.153638802209964527484954141499.dcm [Content-Type=application/dicom]...\n",
            "Copying file:///content/dcm_data/PCAMPMRI-00012/1.3.6.1.4.1.14519.5.2.1.3671.4754.264231410930579591639987629694/1.3.6.1.4.1.14519.5.2.1.3671.4754.112304063989226412927473616890/1.3.6.1.4.1.14519.5.2.1.3671.4754.202742656807994563573856891606.dcm [Content-Type=application/dicom]...\n",
            "Copying file:///content/dcm_data/PCAMPMRI-00012/1.3.6.1.4.1.14519.5.2.1.3671.4754.264231410930579591639987629694/1.3.6.1.4.1.14519.5.2.1.3671.4754.112304063989226412927473616890/1.3.6.1.4.1.14519.5.2.1.3671.4754.215579235545868609837534337612.dcm [Content-Type=application/dicom]...\n",
            "Copying file:///content/dcm_data/PCAMPMRI-00012/1.3.6.1.4.1.14519.5.2.1.3671.4754.264231410930579591639987629694/1.3.6.1.4.1.14519.5.2.1.3671.4754.112304063989226412927473616890/1.3.6.1.4.1.14519.5.2.1.3671.4754.162003369638360360535877783741.dcm [Content-Type=application/dicom]...\n",
            "Copying file:///content/dcm_data/PCAMPMRI-00012/1.3.6.1.4.1.14519.5.2.1.3671.4754.264231410930579591639987629694/1.3.6.1.4.1.14519.5.2.1.3671.4754.112304063989226412927473616890/1.3.6.1.4.1.14519.5.2.1.3671.4754.197681100081337224830906108090.dcm [Content-Type=application/dicom]...\n",
            "Copying file:///content/dcm_data/PCAMPMRI-00012/1.3.6.1.4.1.14519.5.2.1.3671.4754.264231410930579591639987629694/1.3.6.1.4.1.14519.5.2.1.3671.4754.112304063989226412927473616890/1.3.6.1.4.1.14519.5.2.1.3671.4754.207578521028897344342947853172.dcm [Content-Type=application/dicom]...\n",
            "Copying file:///content/dcm_data/PCAMPMRI-00012/1.3.6.1.4.1.14519.5.2.1.3671.4754.264231410930579591639987629694/1.3.6.1.4.1.14519.5.2.1.3671.4754.112304063989226412927473616890/1.3.6.1.4.1.14519.5.2.1.3671.4754.270959060857433759960454491545.dcm [Content-Type=application/dicom]...\n",
            "Copying file:///content/dcm_data/PCAMPMRI-00012/1.3.6.1.4.1.14519.5.2.1.3671.4754.264231410930579591639987629694/1.3.6.1.4.1.14519.5.2.1.3671.4754.112304063989226412927473616890/1.3.6.1.4.1.14519.5.2.1.3671.4754.738056589859466691462423413647.dcm [Content-Type=application/dicom]...\n",
            "Copying file:///content/dcm_data/PCAMPMRI-00012/1.3.6.1.4.1.14519.5.2.1.3671.4754.264231410930579591639987629694/1.3.6.1.4.1.14519.5.2.1.3671.4754.112304063989226412927473616890/1.3.6.1.4.1.14519.5.2.1.3671.4754.266848475335857478872786904243.dcm [Content-Type=application/dicom]...\n",
            "Copying file:///content/dcm_data/PCAMPMRI-00012/1.3.6.1.4.1.14519.5.2.1.3671.4754.264231410930579591639987629694/1.3.6.1.4.1.14519.5.2.1.3671.4754.112304063989226412927473616890/1.3.6.1.4.1.14519.5.2.1.3671.4754.352847769392122373663473724705.dcm [Content-Type=application/dicom]...\n",
            "Copying file:///content/dcm_data/PCAMPMRI-00012/1.3.6.1.4.1.14519.5.2.1.3671.4754.264231410930579591639987629694/1.3.6.1.4.1.14519.5.2.1.3671.4754.112304063989226412927473616890/1.3.6.1.4.1.14519.5.2.1.3671.4754.229436458756045584689432271954.dcm [Content-Type=application/dicom]...\n",
            "Copying file:///content/dcm_data/PCAMPMRI-00012/1.3.6.1.4.1.14519.5.2.1.3671.4754.264231410930579591639987629694/1.3.6.1.4.1.14519.5.2.1.3671.4754.112304063989226412927473616890/1.3.6.1.4.1.14519.5.2.1.3671.4754.208091108301479734443638008517.dcm [Content-Type=application/dicom]...\n",
            "Copying file:///content/dcm_data/PCAMPMRI-00012/1.3.6.1.4.1.14519.5.2.1.3671.4754.264231410930579591639987629694/1.3.6.1.4.1.14519.5.2.1.3671.4754.112304063989226412927473616890/1.3.6.1.4.1.14519.5.2.1.3671.4754.316728932250438641092756973919.dcm [Content-Type=application/dicom]...\n",
            "Copying file:///content/dcm_data/PCAMPMRI-00012/1.3.6.1.4.1.14519.5.2.1.3671.4754.264231410930579591639987629694/1.3.6.1.4.1.14519.5.2.1.3671.4754.112304063989226412927473616890/1.3.6.1.4.1.14519.5.2.1.3671.4754.258219108097836160380766096138.dcm [Content-Type=application/dicom]...\n",
            "Copying file:///content/dcm_data/PCAMPMRI-00012/1.3.6.1.4.1.14519.5.2.1.3671.4754.264231410930579591639987629694/1.3.6.1.4.1.14519.5.2.1.3671.4754.112304063989226412927473616890/1.3.6.1.4.1.14519.5.2.1.3671.4754.219590127233545174053165885830.dcm [Content-Type=application/dicom]...\n",
            "Copying file:///content/dcm_data/PCAMPMRI-00012/1.3.6.1.4.1.14519.5.2.1.3671.4754.264231410930579591639987629694/1.3.6.1.4.1.14519.5.2.1.3671.4754.112304063989226412927473616890/1.3.6.1.4.1.14519.5.2.1.3671.4754.913185801535900898650384477215.dcm [Content-Type=application/dicom]...\n",
            "Copying file:///content/dcm_data/PCAMPMRI-00012/1.3.6.1.4.1.14519.5.2.1.3671.4754.264231410930579591639987629694/1.3.6.1.4.1.14519.5.2.1.3671.4754.112304063989226412927473616890/1.3.6.1.4.1.14519.5.2.1.3671.4754.164266700819322572441561335334.dcm [Content-Type=application/dicom]...\n",
            "Copying file:///content/dcm_data/PCAMPMRI-00012/1.3.6.1.4.1.14519.5.2.1.3671.4754.264231410930579591639987629694/1.3.6.1.4.1.14519.5.2.1.3671.4754.112304063989226412927473616890/1.3.6.1.4.1.14519.5.2.1.3671.4754.295616134818545833188506585853.dcm [Content-Type=application/dicom]...\n",
            "Copying file:///content/dcm_data/PCAMPMRI-00012/1.3.6.1.4.1.14519.5.2.1.3671.4754.264231410930579591639987629694/1.3.6.1.4.1.14519.5.2.1.3671.4754.112304063989226412927473616890/1.3.6.1.4.1.14519.5.2.1.3671.4754.213334246498392629909217819595.dcm [Content-Type=application/dicom]...\n",
            "Copying file:///content/dcm_data/PCAMPMRI-00012/1.3.6.1.4.1.14519.5.2.1.3671.4754.264231410930579591639987629694/1.3.6.1.4.1.14519.5.2.1.3671.4754.112304063989226412927473616890/1.3.6.1.4.1.14519.5.2.1.3671.4754.518381962952797917559887386186.dcm [Content-Type=application/dicom]...\n",
            "Copying file:///content/dcm_data/PCAMPMRI-00012/1.3.6.1.4.1.14519.5.2.1.3671.4754.264231410930579591639987629694/1.3.6.1.4.1.14519.5.2.1.3671.4754.112304063989226412927473616890/1.3.6.1.4.1.14519.5.2.1.3671.4754.456520203415715766709849218759.dcm [Content-Type=application/dicom]...\n",
            "Copying file:///content/dcm_data/PCAMPMRI-00012/1.3.6.1.4.1.14519.5.2.1.3671.4754.264231410930579591639987629694/1.3.6.1.4.1.14519.5.2.1.3671.4754.112304063989226412927473616890/1.3.6.1.4.1.14519.5.2.1.3671.4754.352315277811903584162269090910.dcm [Content-Type=application/dicom]...\n",
            "Copying file:///content/dcm_data/PCAMPMRI-00012/1.3.6.1.4.1.14519.5.2.1.3671.4754.264231410930579591639987629694/1.3.6.1.4.1.14519.5.2.1.3671.4754.112304063989226412927473616890/1.3.6.1.4.1.14519.5.2.1.3671.4754.292333358665631416049718756018.dcm [Content-Type=application/dicom]...\n",
            "Copying file:///content/dcm_data/PCAMPMRI-00012/1.3.6.1.4.1.14519.5.2.1.3671.4754.264231410930579591639987629694/1.3.6.1.4.1.14519.5.2.1.3671.4754.112304063989226412927473616890/1.3.6.1.4.1.14519.5.2.1.3671.4754.313261269207849538026498297361.dcm [Content-Type=application/dicom]...\n",
            "Copying file:///content/dcm_data/PCAMPMRI-00012/1.3.6.1.4.1.14519.5.2.1.3671.4754.264231410930579591639987629694/1.3.6.1.4.1.14519.5.2.1.3671.4754.112304063989226412927473616890/1.3.6.1.4.1.14519.5.2.1.3671.4754.190585672772383302564165536695.dcm [Content-Type=application/dicom]...\n",
            "Copying file:///content/dcm_data/PCAMPMRI-00012/1.3.6.1.4.1.14519.5.2.1.3671.4754.264231410930579591639987629694/1.2.276.0.7230010.3.1.3.1426846371.11584.1513205186.239/1.2.276.0.7230010.3.1.4.1426846371.11584.1513205186.240.dcm [Content-Type=application/dicom]...\n",
            "Copying file:///content/dcm_data/PCAMPMRI-00013/1.3.6.1.4.1.14519.5.2.1.3671.4754.245461598867316286839568962369/1.3.6.1.4.1.14519.5.2.1.3671.4754.300394189684830993064983395096/1.3.6.1.4.1.14519.5.2.1.3671.4754.225836693497726222787464355902.dcm [Content-Type=application/dicom]...\n",
            "Copying file:///content/dcm_data/PCAMPMRI-00013/1.3.6.1.4.1.14519.5.2.1.3671.4754.245461598867316286839568962369/1.2.276.0.7230010.3.1.3.1426846371.2576.1513205194.141/1.2.276.0.7230010.3.1.4.1426846371.2576.1513205194.142.dcm [Content-Type=application/dicom]...\n",
            "Copying file:///content/dcm_data/PCAMPMRI-00013/1.3.6.1.4.1.14519.5.2.1.3671.4754.245461598867316286839568962369/1.3.6.1.4.1.14519.5.2.1.3671.4754.300394189684830993064983395096/1.3.6.1.4.1.14519.5.2.1.3671.4754.190274640973309756130606145379.dcm [Content-Type=application/dicom]...\n",
            "Copying file:///content/dcm_data/PCAMPMRI-00013/1.3.6.1.4.1.14519.5.2.1.3671.4754.245461598867316286839568962369/1.3.6.1.4.1.14519.5.2.1.3671.4754.300394189684830993064983395096/1.3.6.1.4.1.14519.5.2.1.3671.4754.220817660949046369036903467337.dcm [Content-Type=application/dicom]...\n",
            "Copying file:///content/dcm_data/PCAMPMRI-00013/1.3.6.1.4.1.14519.5.2.1.3671.4754.245461598867316286839568962369/1.3.6.1.4.1.14519.5.2.1.3671.4754.300394189684830993064983395096/1.3.6.1.4.1.14519.5.2.1.3671.4754.106832122547957082955294364623.dcm [Content-Type=application/dicom]...\n",
            "Copying file:///content/dcm_data/PCAMPMRI-00013/1.3.6.1.4.1.14519.5.2.1.3671.4754.245461598867316286839568962369/1.3.6.1.4.1.14519.5.2.1.3671.4754.300394189684830993064983395096/1.3.6.1.4.1.14519.5.2.1.3671.4754.161792225615710042219404374490.dcm [Content-Type=application/dicom]...\n",
            "Copying file:///content/dcm_data/PCAMPMRI-00013/1.3.6.1.4.1.14519.5.2.1.3671.4754.245461598867316286839568962369/1.3.6.1.4.1.14519.5.2.1.3671.4754.300394189684830993064983395096/1.3.6.1.4.1.14519.5.2.1.3671.4754.247733619622396785890633681557.dcm [Content-Type=application/dicom]...\n",
            "Copying file:///content/dcm_data/PCAMPMRI-00013/1.3.6.1.4.1.14519.5.2.1.3671.4754.245461598867316286839568962369/1.3.6.1.4.1.14519.5.2.1.3671.4754.300394189684830993064983395096/1.3.6.1.4.1.14519.5.2.1.3671.4754.290066102888692166951319233192.dcm [Content-Type=application/dicom]...\n",
            "Copying file:///content/dcm_data/PCAMPMRI-00013/1.3.6.1.4.1.14519.5.2.1.3671.4754.245461598867316286839568962369/1.3.6.1.4.1.14519.5.2.1.3671.4754.300394189684830993064983395096/1.3.6.1.4.1.14519.5.2.1.3671.4754.259277546901952775404032446615.dcm [Content-Type=application/dicom]...\n",
            "Copying file:///content/dcm_data/PCAMPMRI-00013/1.3.6.1.4.1.14519.5.2.1.3671.4754.245461598867316286839568962369/1.3.6.1.4.1.14519.5.2.1.3671.4754.300394189684830993064983395096/1.3.6.1.4.1.14519.5.2.1.3671.4754.103877092206682085484088786832.dcm [Content-Type=application/dicom]...\n",
            "Copying file:///content/dcm_data/PCAMPMRI-00013/1.3.6.1.4.1.14519.5.2.1.3671.4754.245461598867316286839568962369/1.3.6.1.4.1.14519.5.2.1.3671.4754.300394189684830993064983395096/1.3.6.1.4.1.14519.5.2.1.3671.4754.878127803566470165657229577300.dcm [Content-Type=application/dicom]...\n",
            "Copying file:///content/dcm_data/PCAMPMRI-00013/1.3.6.1.4.1.14519.5.2.1.3671.4754.245461598867316286839568962369/1.3.6.1.4.1.14519.5.2.1.3671.4754.300394189684830993064983395096/1.3.6.1.4.1.14519.5.2.1.3671.4754.160826718896836097766229959259.dcm [Content-Type=application/dicom]...\n",
            "Copying file:///content/dcm_data/PCAMPMRI-00013/1.3.6.1.4.1.14519.5.2.1.3671.4754.245461598867316286839568962369/1.3.6.1.4.1.14519.5.2.1.3671.4754.300394189684830993064983395096/1.3.6.1.4.1.14519.5.2.1.3671.4754.293488172057971720129371760770.dcm [Content-Type=application/dicom]...\n",
            "Copying file:///content/dcm_data/PCAMPMRI-00013/1.3.6.1.4.1.14519.5.2.1.3671.4754.245461598867316286839568962369/1.3.6.1.4.1.14519.5.2.1.3671.4754.300394189684830993064983395096/1.3.6.1.4.1.14519.5.2.1.3671.4754.338038597711073297130246099142.dcm [Content-Type=application/dicom]...\n",
            "Copying file:///content/dcm_data/PCAMPMRI-00013/1.3.6.1.4.1.14519.5.2.1.3671.4754.245461598867316286839568962369/1.3.6.1.4.1.14519.5.2.1.3671.4754.300394189684830993064983395096/1.3.6.1.4.1.14519.5.2.1.3671.4754.337760866264130561296511433528.dcm [Content-Type=application/dicom]...\n",
            "Copying file:///content/dcm_data/PCAMPMRI-00013/1.3.6.1.4.1.14519.5.2.1.3671.4754.245461598867316286839568962369/1.3.6.1.4.1.14519.5.2.1.3671.4754.300394189684830993064983395096/1.3.6.1.4.1.14519.5.2.1.3671.4754.196513526938051394629573067648.dcm [Content-Type=application/dicom]...\n",
            "Copying file:///content/dcm_data/PCAMPMRI-00013/1.3.6.1.4.1.14519.5.2.1.3671.4754.245461598867316286839568962369/1.3.6.1.4.1.14519.5.2.1.3671.4754.300394189684830993064983395096/1.3.6.1.4.1.14519.5.2.1.3671.4754.130998168653462287296111601185.dcm [Content-Type=application/dicom]...\n",
            "Copying file:///content/dcm_data/PCAMPMRI-00013/1.3.6.1.4.1.14519.5.2.1.3671.4754.245461598867316286839568962369/1.3.6.1.4.1.14519.5.2.1.3671.4754.300394189684830993064983395096/1.3.6.1.4.1.14519.5.2.1.3671.4754.488055671388957343974361139433.dcm [Content-Type=application/dicom]...\n",
            "Copying file:///content/dcm_data/PCAMPMRI-00013/1.3.6.1.4.1.14519.5.2.1.3671.4754.245461598867316286839568962369/1.3.6.1.4.1.14519.5.2.1.3671.4754.300394189684830993064983395096/1.3.6.1.4.1.14519.5.2.1.3671.4754.233551849913515369482636555110.dcm [Content-Type=application/dicom]...\n",
            "Copying file:///content/dcm_data/PCAMPMRI-00013/1.3.6.1.4.1.14519.5.2.1.3671.4754.245461598867316286839568962369/1.3.6.1.4.1.14519.5.2.1.3671.4754.300394189684830993064983395096/1.3.6.1.4.1.14519.5.2.1.3671.4754.269861171511297597254784649880.dcm [Content-Type=application/dicom]...\n",
            "Copying file:///content/dcm_data/PCAMPMRI-00013/1.3.6.1.4.1.14519.5.2.1.3671.4754.245461598867316286839568962369/1.3.6.1.4.1.14519.5.2.1.3671.4754.300394189684830993064983395096/1.3.6.1.4.1.14519.5.2.1.3671.4754.113269194265222516748552192705.dcm [Content-Type=application/dicom]...\n",
            "Copying file:///content/dcm_data/PCAMPMRI-00013/1.3.6.1.4.1.14519.5.2.1.3671.4754.245461598867316286839568962369/1.3.6.1.4.1.14519.5.2.1.3671.4754.300394189684830993064983395096/1.3.6.1.4.1.14519.5.2.1.3671.4754.222447294794094333823485956315.dcm [Content-Type=application/dicom]...\n",
            "Copying file:///content/dcm_data/PCAMPMRI-00013/1.3.6.1.4.1.14519.5.2.1.3671.4754.245461598867316286839568962369/1.3.6.1.4.1.14519.5.2.1.3671.4754.300394189684830993064983395096/1.3.6.1.4.1.14519.5.2.1.3671.4754.296435015014975774509228589837.dcm [Content-Type=application/dicom]...\n",
            "Copying file:///content/dcm_data/PCAMPMRI-00013/1.3.6.1.4.1.14519.5.2.1.3671.4754.245461598867316286839568962369/1.3.6.1.4.1.14519.5.2.1.3671.4754.300394189684830993064983395096/1.3.6.1.4.1.14519.5.2.1.3671.4754.321378109950379615789695315600.dcm [Content-Type=application/dicom]...\n",
            "Copying file:///content/dcm_data/PCAMPMRI-00013/1.3.6.1.4.1.14519.5.2.1.3671.4754.245461598867316286839568962369/1.3.6.1.4.1.14519.5.2.1.3671.4754.300394189684830993064983395096/1.3.6.1.4.1.14519.5.2.1.3671.4754.318719433298643027472525010254.dcm [Content-Type=application/dicom]...\n",
            "Copying file:///content/dcm_data/PCAMPMRI-00013/1.3.6.1.4.1.14519.5.2.1.3671.4754.245461598867316286839568962369/1.3.6.1.4.1.14519.5.2.1.3671.4754.300394189684830993064983395096/1.3.6.1.4.1.14519.5.2.1.3671.4754.279931230695865343723774417045.dcm [Content-Type=application/dicom]...\n",
            "Copying file:///content/dcm_data/PCAMPMRI-00013/1.3.6.1.4.1.14519.5.2.1.3671.4754.245461598867316286839568962369/1.3.6.1.4.1.14519.5.2.1.3671.4754.300394189684830993064983395096/1.3.6.1.4.1.14519.5.2.1.3671.4754.296085212871400870665560152485.dcm [Content-Type=application/dicom]...\n",
            "Copying file:///content/dcm_data/PCAMPMRI-00013/1.3.6.1.4.1.14519.5.2.1.3671.4754.245461598867316286839568962369/1.3.6.1.4.1.14519.5.2.1.3671.4754.300394189684830993064983395096/1.3.6.1.4.1.14519.5.2.1.3671.4754.249560391672506235903548039738.dcm [Content-Type=application/dicom]...\n",
            "Copying file:///content/dcm_data/PCAMPMRI-00013/1.3.6.1.4.1.14519.5.2.1.3671.4754.245461598867316286839568962369/1.3.6.1.4.1.14519.5.2.1.3671.4754.300394189684830993064983395096/1.3.6.1.4.1.14519.5.2.1.3671.4754.142954612201594988537001792955.dcm [Content-Type=application/dicom]...\n",
            "Copying file:///content/dcm_data/PCAMPMRI-00013/1.3.6.1.4.1.14519.5.2.1.3671.4754.211895462561589970837377570121/1.3.6.1.4.1.14519.5.2.1.3671.4754.130390636778604536980897019189/1.3.6.1.4.1.14519.5.2.1.3671.4754.166845418032312237267998138641.dcm [Content-Type=application/dicom]...\n",
            "Copying file:///content/dcm_data/PCAMPMRI-00013/1.3.6.1.4.1.14519.5.2.1.3671.4754.211895462561589970837377570121/1.3.6.1.4.1.14519.5.2.1.3671.4754.130390636778604536980897019189/1.3.6.1.4.1.14519.5.2.1.3671.4754.319820262421808194896540205794.dcm [Content-Type=application/dicom]...\n",
            "Copying file:///content/dcm_data/PCAMPMRI-00013/1.3.6.1.4.1.14519.5.2.1.3671.4754.211895462561589970837377570121/1.3.6.1.4.1.14519.5.2.1.3671.4754.130390636778604536980897019189/1.3.6.1.4.1.14519.5.2.1.3671.4754.231622162650177814927761362424.dcm [Content-Type=application/dicom]...\n",
            "Copying file:///content/dcm_data/PCAMPMRI-00013/1.3.6.1.4.1.14519.5.2.1.3671.4754.211895462561589970837377570121/1.3.6.1.4.1.14519.5.2.1.3671.4754.130390636778604536980897019189/1.3.6.1.4.1.14519.5.2.1.3671.4754.114834569367681537754075454575.dcm [Content-Type=application/dicom]...\n",
            "Copying file:///content/dcm_data/PCAMPMRI-00013/1.3.6.1.4.1.14519.5.2.1.3671.4754.211895462561589970837377570121/1.3.6.1.4.1.14519.5.2.1.3671.4754.130390636778604536980897019189/1.3.6.1.4.1.14519.5.2.1.3671.4754.373893598879550724664738398207.dcm [Content-Type=application/dicom]...\n",
            "Copying file:///content/dcm_data/PCAMPMRI-00013/1.3.6.1.4.1.14519.5.2.1.3671.4754.211895462561589970837377570121/1.3.6.1.4.1.14519.5.2.1.3671.4754.130390636778604536980897019189/1.3.6.1.4.1.14519.5.2.1.3671.4754.100960739801927129347990122418.dcm [Content-Type=application/dicom]...\n",
            "Copying file:///content/dcm_data/PCAMPMRI-00013/1.3.6.1.4.1.14519.5.2.1.3671.4754.211895462561589970837377570121/1.3.6.1.4.1.14519.5.2.1.3671.4754.130390636778604536980897019189/1.3.6.1.4.1.14519.5.2.1.3671.4754.413206955532055576876820219057.dcm [Content-Type=application/dicom]...\n",
            "Copying file:///content/dcm_data/PCAMPMRI-00013/1.3.6.1.4.1.14519.5.2.1.3671.4754.211895462561589970837377570121/1.3.6.1.4.1.14519.5.2.1.3671.4754.130390636778604536980897019189/1.3.6.1.4.1.14519.5.2.1.3671.4754.117957155025577830696338585077.dcm [Content-Type=application/dicom]...\n",
            "Copying file:///content/dcm_data/PCAMPMRI-00013/1.3.6.1.4.1.14519.5.2.1.3671.4754.211895462561589970837377570121/1.3.6.1.4.1.14519.5.2.1.3671.4754.130390636778604536980897019189/1.3.6.1.4.1.14519.5.2.1.3671.4754.702056586514352949913841815228.dcm [Content-Type=application/dicom]...\n",
            "Copying file:///content/dcm_data/PCAMPMRI-00013/1.3.6.1.4.1.14519.5.2.1.3671.4754.211895462561589970837377570121/1.3.6.1.4.1.14519.5.2.1.3671.4754.130390636778604536980897019189/1.3.6.1.4.1.14519.5.2.1.3671.4754.272718055117173761363998537519.dcm [Content-Type=application/dicom]...\n",
            "Copying file:///content/dcm_data/PCAMPMRI-00013/1.3.6.1.4.1.14519.5.2.1.3671.4754.211895462561589970837377570121/1.3.6.1.4.1.14519.5.2.1.3671.4754.130390636778604536980897019189/1.3.6.1.4.1.14519.5.2.1.3671.4754.329648864924777240545679299044.dcm [Content-Type=application/dicom]...\n",
            "Copying file:///content/dcm_data/PCAMPMRI-00013/1.3.6.1.4.1.14519.5.2.1.3671.4754.211895462561589970837377570121/1.3.6.1.4.1.14519.5.2.1.3671.4754.130390636778604536980897019189/1.3.6.1.4.1.14519.5.2.1.3671.4754.173596431075777034635707943445.dcm [Content-Type=application/dicom]...\n",
            "Copying file:///content/dcm_data/PCAMPMRI-00013/1.3.6.1.4.1.14519.5.2.1.3671.4754.211895462561589970837377570121/1.3.6.1.4.1.14519.5.2.1.3671.4754.130390636778604536980897019189/1.3.6.1.4.1.14519.5.2.1.3671.4754.336451364034050733346410201253.dcm [Content-Type=application/dicom]...\n",
            "Copying file:///content/dcm_data/PCAMPMRI-00013/1.3.6.1.4.1.14519.5.2.1.3671.4754.211895462561589970837377570121/1.3.6.1.4.1.14519.5.2.1.3671.4754.130390636778604536980897019189/1.3.6.1.4.1.14519.5.2.1.3671.4754.917298151351991184907384106899.dcm [Content-Type=application/dicom]...\n",
            "Copying file:///content/dcm_data/PCAMPMRI-00013/1.3.6.1.4.1.14519.5.2.1.3671.4754.211895462561589970837377570121/1.3.6.1.4.1.14519.5.2.1.3671.4754.130390636778604536980897019189/1.3.6.1.4.1.14519.5.2.1.3671.4754.899901307133068930378729978289.dcm [Content-Type=application/dicom]...\n",
            "Copying file:///content/dcm_data/PCAMPMRI-00013/1.3.6.1.4.1.14519.5.2.1.3671.4754.211895462561589970837377570121/1.3.6.1.4.1.14519.5.2.1.3671.4754.130390636778604536980897019189/1.3.6.1.4.1.14519.5.2.1.3671.4754.133006489538205913852600486701.dcm [Content-Type=application/dicom]...\n",
            "Copying file:///content/dcm_data/PCAMPMRI-00013/1.3.6.1.4.1.14519.5.2.1.3671.4754.211895462561589970837377570121/1.3.6.1.4.1.14519.5.2.1.3671.4754.130390636778604536980897019189/1.3.6.1.4.1.14519.5.2.1.3671.4754.291878383448024728269416924875.dcm [Content-Type=application/dicom]...\n",
            "Copying file:///content/dcm_data/PCAMPMRI-00013/1.3.6.1.4.1.14519.5.2.1.3671.4754.211895462561589970837377570121/1.3.6.1.4.1.14519.5.2.1.3671.4754.130390636778604536980897019189/1.3.6.1.4.1.14519.5.2.1.3671.4754.220597544239388405434446193868.dcm [Content-Type=application/dicom]...\n",
            "Copying file:///content/dcm_data/PCAMPMRI-00013/1.3.6.1.4.1.14519.5.2.1.3671.4754.211895462561589970837377570121/1.3.6.1.4.1.14519.5.2.1.3671.4754.130390636778604536980897019189/1.3.6.1.4.1.14519.5.2.1.3671.4754.276675383880016651076447592010.dcm [Content-Type=application/dicom]...\n",
            "Copying file:///content/dcm_data/PCAMPMRI-00013/1.3.6.1.4.1.14519.5.2.1.3671.4754.211895462561589970837377570121/1.3.6.1.4.1.14519.5.2.1.3671.4754.130390636778604536980897019189/1.3.6.1.4.1.14519.5.2.1.3671.4754.320313182796733548302889019953.dcm [Content-Type=application/dicom]...\n",
            "Copying file:///content/dcm_data/PCAMPMRI-00013/1.3.6.1.4.1.14519.5.2.1.3671.4754.211895462561589970837377570121/1.3.6.1.4.1.14519.5.2.1.3671.4754.130390636778604536980897019189/1.3.6.1.4.1.14519.5.2.1.3671.4754.290416624611487501556638883295.dcm [Content-Type=application/dicom]...\n",
            "Copying file:///content/dcm_data/PCAMPMRI-00013/1.3.6.1.4.1.14519.5.2.1.3671.4754.211895462561589970837377570121/1.3.6.1.4.1.14519.5.2.1.3671.4754.130390636778604536980897019189/1.3.6.1.4.1.14519.5.2.1.3671.4754.110057312816796962438210747195.dcm [Content-Type=application/dicom]...\n",
            "Copying file:///content/dcm_data/PCAMPMRI-00013/1.3.6.1.4.1.14519.5.2.1.3671.4754.211895462561589970837377570121/1.3.6.1.4.1.14519.5.2.1.3671.4754.130390636778604536980897019189/1.3.6.1.4.1.14519.5.2.1.3671.4754.355361742821222534710715758761.dcm [Content-Type=application/dicom]...\n",
            "Copying file:///content/dcm_data/PCAMPMRI-00013/1.3.6.1.4.1.14519.5.2.1.3671.4754.211895462561589970837377570121/1.3.6.1.4.1.14519.5.2.1.3671.4754.130390636778604536980897019189/1.3.6.1.4.1.14519.5.2.1.3671.4754.843146535234582587593538734484.dcm [Content-Type=application/dicom]...\n",
            "Copying file:///content/dcm_data/PCAMPMRI-00013/1.3.6.1.4.1.14519.5.2.1.3671.4754.211895462561589970837377570121/1.3.6.1.4.1.14519.5.2.1.3671.4754.130390636778604536980897019189/1.3.6.1.4.1.14519.5.2.1.3671.4754.249681968677855050290105545320.dcm [Content-Type=application/dicom]...\n",
            "Copying file:///content/dcm_data/PCAMPMRI-00013/1.3.6.1.4.1.14519.5.2.1.3671.4754.211895462561589970837377570121/1.3.6.1.4.1.14519.5.2.1.3671.4754.130390636778604536980897019189/1.3.6.1.4.1.14519.5.2.1.3671.4754.161869327870166308697052049480.dcm [Content-Type=application/dicom]...\n",
            "Copying file:///content/dcm_data/PCAMPMRI-00013/1.3.6.1.4.1.14519.5.2.1.3671.4754.211895462561589970837377570121/1.3.6.1.4.1.14519.5.2.1.3671.4754.130390636778604536980897019189/1.3.6.1.4.1.14519.5.2.1.3671.4754.317967587486027188734528986204.dcm [Content-Type=application/dicom]...\n",
            "Copying file:///content/dcm_data/PCAMPMRI-00013/1.3.6.1.4.1.14519.5.2.1.3671.4754.211895462561589970837377570121/1.3.6.1.4.1.14519.5.2.1.3671.4754.130390636778604536980897019189/1.3.6.1.4.1.14519.5.2.1.3671.4754.333909804746354072116570293937.dcm [Content-Type=application/dicom]...\n",
            "Copying file:///content/dcm_data/PCAMPMRI-00013/1.3.6.1.4.1.14519.5.2.1.3671.4754.211895462561589970837377570121/1.2.276.0.7230010.3.1.3.1426846371.13488.1513205190.132/1.2.276.0.7230010.3.1.4.1426846371.13488.1513205190.133.dcm [Content-Type=application/dicom]...\n",
            "Copying file:///content/dcm_data/PCAMPMRI-00014/1.3.6.1.4.1.14519.5.2.1.3671.4754.194890890650697728529329442454/1.2.276.0.7230010.3.1.3.1426846371.11304.1513205200.994/1.2.276.0.7230010.3.1.4.1426846371.11304.1513205200.995.dcm [Content-Type=application/dicom]...\n",
            "Copying file:///content/dcm_data/PCAMPMRI-00014/1.3.6.1.4.1.14519.5.2.1.3671.4754.194890890650697728529329442454/1.3.6.1.4.1.14519.5.2.1.3671.4754.155463265953508142920250222172/1.3.6.1.4.1.14519.5.2.1.3671.4754.977905434327527785014505363607.dcm [Content-Type=application/dicom]...\n",
            "Copying file:///content/dcm_data/PCAMPMRI-00014/1.3.6.1.4.1.14519.5.2.1.3671.4754.194890890650697728529329442454/1.3.6.1.4.1.14519.5.2.1.3671.4754.155463265953508142920250222172/1.3.6.1.4.1.14519.5.2.1.3671.4754.592562319222843894020944868999.dcm [Content-Type=application/dicom]...\n",
            "Copying file:///content/dcm_data/PCAMPMRI-00014/1.3.6.1.4.1.14519.5.2.1.3671.4754.194890890650697728529329442454/1.3.6.1.4.1.14519.5.2.1.3671.4754.155463265953508142920250222172/1.3.6.1.4.1.14519.5.2.1.3671.4754.224756733361199424966131992139.dcm [Content-Type=application/dicom]...\n",
            "Copying file:///content/dcm_data/PCAMPMRI-00014/1.3.6.1.4.1.14519.5.2.1.3671.4754.194890890650697728529329442454/1.3.6.1.4.1.14519.5.2.1.3671.4754.155463265953508142920250222172/1.3.6.1.4.1.14519.5.2.1.3671.4754.171270441948869649614302861426.dcm [Content-Type=application/dicom]...\n",
            "Copying file:///content/dcm_data/PCAMPMRI-00014/1.3.6.1.4.1.14519.5.2.1.3671.4754.194890890650697728529329442454/1.3.6.1.4.1.14519.5.2.1.3671.4754.155463265953508142920250222172/1.3.6.1.4.1.14519.5.2.1.3671.4754.318681048444635771963139267536.dcm [Content-Type=application/dicom]...\n",
            "Copying file:///content/dcm_data/PCAMPMRI-00014/1.3.6.1.4.1.14519.5.2.1.3671.4754.194890890650697728529329442454/1.3.6.1.4.1.14519.5.2.1.3671.4754.155463265953508142920250222172/1.3.6.1.4.1.14519.5.2.1.3671.4754.223175372153832499879573804239.dcm [Content-Type=application/dicom]...\n",
            "Copying file:///content/dcm_data/PCAMPMRI-00014/1.3.6.1.4.1.14519.5.2.1.3671.4754.194890890650697728529329442454/1.3.6.1.4.1.14519.5.2.1.3671.4754.155463265953508142920250222172/1.3.6.1.4.1.14519.5.2.1.3671.4754.217152957704232148543090642810.dcm [Content-Type=application/dicom]...\n",
            "Copying file:///content/dcm_data/PCAMPMRI-00014/1.3.6.1.4.1.14519.5.2.1.3671.4754.194890890650697728529329442454/1.3.6.1.4.1.14519.5.2.1.3671.4754.155463265953508142920250222172/1.3.6.1.4.1.14519.5.2.1.3671.4754.112668361349339872835752848034.dcm [Content-Type=application/dicom]...\n",
            "Copying file:///content/dcm_data/PCAMPMRI-00014/1.3.6.1.4.1.14519.5.2.1.3671.4754.194890890650697728529329442454/1.3.6.1.4.1.14519.5.2.1.3671.4754.155463265953508142920250222172/1.3.6.1.4.1.14519.5.2.1.3671.4754.202614284921370325061189349241.dcm [Content-Type=application/dicom]...\n",
            "Copying file:///content/dcm_data/PCAMPMRI-00014/1.3.6.1.4.1.14519.5.2.1.3671.4754.194890890650697728529329442454/1.3.6.1.4.1.14519.5.2.1.3671.4754.155463265953508142920250222172/1.3.6.1.4.1.14519.5.2.1.3671.4754.640076059720101854078942414925.dcm [Content-Type=application/dicom]...\n",
            "Copying file:///content/dcm_data/PCAMPMRI-00014/1.3.6.1.4.1.14519.5.2.1.3671.4754.194890890650697728529329442454/1.3.6.1.4.1.14519.5.2.1.3671.4754.155463265953508142920250222172/1.3.6.1.4.1.14519.5.2.1.3671.4754.323231352004868376015199393648.dcm [Content-Type=application/dicom]...\n",
            "Copying file:///content/dcm_data/PCAMPMRI-00014/1.3.6.1.4.1.14519.5.2.1.3671.4754.194890890650697728529329442454/1.3.6.1.4.1.14519.5.2.1.3671.4754.155463265953508142920250222172/1.3.6.1.4.1.14519.5.2.1.3671.4754.314978609746969492241191405376.dcm [Content-Type=application/dicom]...\n",
            "Copying file:///content/dcm_data/PCAMPMRI-00014/1.3.6.1.4.1.14519.5.2.1.3671.4754.194890890650697728529329442454/1.3.6.1.4.1.14519.5.2.1.3671.4754.155463265953508142920250222172/1.3.6.1.4.1.14519.5.2.1.3671.4754.152016564108833023391539768426.dcm [Content-Type=application/dicom]...\n",
            "Copying file:///content/dcm_data/PCAMPMRI-00014/1.3.6.1.4.1.14519.5.2.1.3671.4754.194890890650697728529329442454/1.3.6.1.4.1.14519.5.2.1.3671.4754.155463265953508142920250222172/1.3.6.1.4.1.14519.5.2.1.3671.4754.158196449783939526819144847899.dcm [Content-Type=application/dicom]...\n",
            "Copying file:///content/dcm_data/PCAMPMRI-00014/1.3.6.1.4.1.14519.5.2.1.3671.4754.194890890650697728529329442454/1.3.6.1.4.1.14519.5.2.1.3671.4754.155463265953508142920250222172/1.3.6.1.4.1.14519.5.2.1.3671.4754.193576943027024210366917498868.dcm [Content-Type=application/dicom]...\n",
            "Copying file:///content/dcm_data/PCAMPMRI-00014/1.3.6.1.4.1.14519.5.2.1.3671.4754.194890890650697728529329442454/1.3.6.1.4.1.14519.5.2.1.3671.4754.155463265953508142920250222172/1.3.6.1.4.1.14519.5.2.1.3671.4754.156510770709362038424994834116.dcm [Content-Type=application/dicom]...\n",
            "Copying file:///content/dcm_data/PCAMPMRI-00014/1.3.6.1.4.1.14519.5.2.1.3671.4754.194890890650697728529329442454/1.3.6.1.4.1.14519.5.2.1.3671.4754.155463265953508142920250222172/1.3.6.1.4.1.14519.5.2.1.3671.4754.218532589586586589139440459899.dcm [Content-Type=application/dicom]...\n",
            "Copying file:///content/dcm_data/PCAMPMRI-00014/1.3.6.1.4.1.14519.5.2.1.3671.4754.194890890650697728529329442454/1.3.6.1.4.1.14519.5.2.1.3671.4754.155463265953508142920250222172/1.3.6.1.4.1.14519.5.2.1.3671.4754.233979804959993502096422271624.dcm [Content-Type=application/dicom]...\n",
            "Copying file:///content/dcm_data/PCAMPMRI-00014/1.3.6.1.4.1.14519.5.2.1.3671.4754.194890890650697728529329442454/1.3.6.1.4.1.14519.5.2.1.3671.4754.155463265953508142920250222172/1.3.6.1.4.1.14519.5.2.1.3671.4754.323329798332189219800146418510.dcm [Content-Type=application/dicom]...\n",
            "Copying file:///content/dcm_data/PCAMPMRI-00014/1.3.6.1.4.1.14519.5.2.1.3671.4754.194890890650697728529329442454/1.3.6.1.4.1.14519.5.2.1.3671.4754.155463265953508142920250222172/1.3.6.1.4.1.14519.5.2.1.3671.4754.849243818779450227987497761974.dcm [Content-Type=application/dicom]...\n",
            "Copying file:///content/dcm_data/PCAMPMRI-00014/1.3.6.1.4.1.14519.5.2.1.3671.4754.194890890650697728529329442454/1.3.6.1.4.1.14519.5.2.1.3671.4754.155463265953508142920250222172/1.3.6.1.4.1.14519.5.2.1.3671.4754.822654367745677881478936076062.dcm [Content-Type=application/dicom]...\n",
            "Copying file:///content/dcm_data/PCAMPMRI-00014/1.3.6.1.4.1.14519.5.2.1.3671.4754.194890890650697728529329442454/1.3.6.1.4.1.14519.5.2.1.3671.4754.155463265953508142920250222172/1.3.6.1.4.1.14519.5.2.1.3671.4754.301684520766967835266894850675.dcm [Content-Type=application/dicom]...\n",
            "Copying file:///content/dcm_data/PCAMPMRI-00014/1.3.6.1.4.1.14519.5.2.1.3671.4754.194890890650697728529329442454/1.3.6.1.4.1.14519.5.2.1.3671.4754.155463265953508142920250222172/1.3.6.1.4.1.14519.5.2.1.3671.4754.326687408088314640699699749256.dcm [Content-Type=application/dicom]...\n",
            "Copying file:///content/dcm_data/PCAMPMRI-00014/1.3.6.1.4.1.14519.5.2.1.3671.4754.194890890650697728529329442454/1.3.6.1.4.1.14519.5.2.1.3671.4754.155463265953508142920250222172/1.3.6.1.4.1.14519.5.2.1.3671.4754.302017090949044371512642132714.dcm [Content-Type=application/dicom]...\n",
            "Copying file:///content/dcm_data/PCAMPMRI-00014/1.3.6.1.4.1.14519.5.2.1.3671.4754.194890890650697728529329442454/1.3.6.1.4.1.14519.5.2.1.3671.4754.155463265953508142920250222172/1.3.6.1.4.1.14519.5.2.1.3671.4754.538088655452981251704316296909.dcm [Content-Type=application/dicom]...\n",
            "Copying file:///content/dcm_data/PCAMPMRI-00014/1.3.6.1.4.1.14519.5.2.1.3671.4754.194890890650697728529329442454/1.3.6.1.4.1.14519.5.2.1.3671.4754.155463265953508142920250222172/1.3.6.1.4.1.14519.5.2.1.3671.4754.151097969497448380215431646985.dcm [Content-Type=application/dicom]...\n",
            "Copying file:///content/dcm_data/PCAMPMRI-00014/1.3.6.1.4.1.14519.5.2.1.3671.4754.194890890650697728529329442454/1.3.6.1.4.1.14519.5.2.1.3671.4754.155463265953508142920250222172/1.3.6.1.4.1.14519.5.2.1.3671.4754.241356036073545676114342459583.dcm [Content-Type=application/dicom]...\n",
            "Copying file:///content/dcm_data/PCAMPMRI-00014/1.3.6.1.4.1.14519.5.2.1.3671.4754.194890890650697728529329442454/1.3.6.1.4.1.14519.5.2.1.3671.4754.155463265953508142920250222172/1.3.6.1.4.1.14519.5.2.1.3671.4754.610623542675997896261765416383.dcm [Content-Type=application/dicom]...\n",
            "Copying file:///content/dcm_data/PCAMPMRI-00014/1.3.6.1.4.1.14519.5.2.1.3671.4754.288453744990673175783381845880/1.3.6.1.4.1.14519.5.2.1.3671.4754.654327272206188613770270554127/1.3.6.1.4.1.14519.5.2.1.3671.4754.129201554222293904282983918357.dcm [Content-Type=application/dicom]...\n",
            "Copying file:///content/dcm_data/PCAMPMRI-00014/1.3.6.1.4.1.14519.5.2.1.3671.4754.288453744990673175783381845880/1.3.6.1.4.1.14519.5.2.1.3671.4754.654327272206188613770270554127/1.3.6.1.4.1.14519.5.2.1.3671.4754.211064425239774081858566670880.dcm [Content-Type=application/dicom]...\n",
            "Copying file:///content/dcm_data/PCAMPMRI-00014/1.3.6.1.4.1.14519.5.2.1.3671.4754.288453744990673175783381845880/1.3.6.1.4.1.14519.5.2.1.3671.4754.654327272206188613770270554127/1.3.6.1.4.1.14519.5.2.1.3671.4754.322609591010549743110049821429.dcm [Content-Type=application/dicom]...\n",
            "Copying file:///content/dcm_data/PCAMPMRI-00014/1.3.6.1.4.1.14519.5.2.1.3671.4754.288453744990673175783381845880/1.3.6.1.4.1.14519.5.2.1.3671.4754.654327272206188613770270554127/1.3.6.1.4.1.14519.5.2.1.3671.4754.170849280209477404868843800305.dcm [Content-Type=application/dicom]...\n",
            "Copying file:///content/dcm_data/PCAMPMRI-00014/1.3.6.1.4.1.14519.5.2.1.3671.4754.288453744990673175783381845880/1.3.6.1.4.1.14519.5.2.1.3671.4754.654327272206188613770270554127/1.3.6.1.4.1.14519.5.2.1.3671.4754.324319484489043285380184522391.dcm [Content-Type=application/dicom]...\n",
            "Copying file:///content/dcm_data/PCAMPMRI-00014/1.3.6.1.4.1.14519.5.2.1.3671.4754.288453744990673175783381845880/1.3.6.1.4.1.14519.5.2.1.3671.4754.654327272206188613770270554127/1.3.6.1.4.1.14519.5.2.1.3671.4754.197438651995186386436034774345.dcm [Content-Type=application/dicom]...\n",
            "Copying file:///content/dcm_data/PCAMPMRI-00014/1.3.6.1.4.1.14519.5.2.1.3671.4754.288453744990673175783381845880/1.3.6.1.4.1.14519.5.2.1.3671.4754.654327272206188613770270554127/1.3.6.1.4.1.14519.5.2.1.3671.4754.147701723854914641979982233154.dcm [Content-Type=application/dicom]...\n",
            "Copying file:///content/dcm_data/PCAMPMRI-00014/1.3.6.1.4.1.14519.5.2.1.3671.4754.288453744990673175783381845880/1.3.6.1.4.1.14519.5.2.1.3671.4754.654327272206188613770270554127/1.3.6.1.4.1.14519.5.2.1.3671.4754.267375094938973089602534776597.dcm [Content-Type=application/dicom]...\n",
            "Copying file:///content/dcm_data/PCAMPMRI-00014/1.3.6.1.4.1.14519.5.2.1.3671.4754.288453744990673175783381845880/1.3.6.1.4.1.14519.5.2.1.3671.4754.654327272206188613770270554127/1.3.6.1.4.1.14519.5.2.1.3671.4754.454406008400806425946863555617.dcm [Content-Type=application/dicom]...\n",
            "Copying file:///content/dcm_data/PCAMPMRI-00014/1.3.6.1.4.1.14519.5.2.1.3671.4754.288453744990673175783381845880/1.3.6.1.4.1.14519.5.2.1.3671.4754.654327272206188613770270554127/1.3.6.1.4.1.14519.5.2.1.3671.4754.629412340157228598854814037030.dcm [Content-Type=application/dicom]...\n",
            "Copying file:///content/dcm_data/PCAMPMRI-00014/1.3.6.1.4.1.14519.5.2.1.3671.4754.288453744990673175783381845880/1.3.6.1.4.1.14519.5.2.1.3671.4754.654327272206188613770270554127/1.3.6.1.4.1.14519.5.2.1.3671.4754.304849838394673757007632483938.dcm [Content-Type=application/dicom]...\n",
            "Copying file:///content/dcm_data/PCAMPMRI-00014/1.3.6.1.4.1.14519.5.2.1.3671.4754.288453744990673175783381845880/1.3.6.1.4.1.14519.5.2.1.3671.4754.654327272206188613770270554127/1.3.6.1.4.1.14519.5.2.1.3671.4754.213595032407371108308005724867.dcm [Content-Type=application/dicom]...\n",
            "Copying file:///content/dcm_data/PCAMPMRI-00014/1.3.6.1.4.1.14519.5.2.1.3671.4754.288453744990673175783381845880/1.3.6.1.4.1.14519.5.2.1.3671.4754.654327272206188613770270554127/1.3.6.1.4.1.14519.5.2.1.3671.4754.233046255637880982200266591897.dcm [Content-Type=application/dicom]...\n",
            "Copying file:///content/dcm_data/PCAMPMRI-00014/1.3.6.1.4.1.14519.5.2.1.3671.4754.288453744990673175783381845880/1.3.6.1.4.1.14519.5.2.1.3671.4754.654327272206188613770270554127/1.3.6.1.4.1.14519.5.2.1.3671.4754.148939431254952407049536958755.dcm [Content-Type=application/dicom]...\n",
            "Copying file:///content/dcm_data/PCAMPMRI-00014/1.3.6.1.4.1.14519.5.2.1.3671.4754.288453744990673175783381845880/1.3.6.1.4.1.14519.5.2.1.3671.4754.654327272206188613770270554127/1.3.6.1.4.1.14519.5.2.1.3671.4754.287599438362701656348868453395.dcm [Content-Type=application/dicom]...\n",
            "Copying file:///content/dcm_data/PCAMPMRI-00014/1.3.6.1.4.1.14519.5.2.1.3671.4754.288453744990673175783381845880/1.3.6.1.4.1.14519.5.2.1.3671.4754.654327272206188613770270554127/1.3.6.1.4.1.14519.5.2.1.3671.4754.230435735169410579809515877218.dcm [Content-Type=application/dicom]...\n",
            "Copying file:///content/dcm_data/PCAMPMRI-00014/1.3.6.1.4.1.14519.5.2.1.3671.4754.288453744990673175783381845880/1.3.6.1.4.1.14519.5.2.1.3671.4754.654327272206188613770270554127/1.3.6.1.4.1.14519.5.2.1.3671.4754.327154121320917373426958936603.dcm [Content-Type=application/dicom]...\n",
            "Copying file:///content/dcm_data/PCAMPMRI-00014/1.3.6.1.4.1.14519.5.2.1.3671.4754.288453744990673175783381845880/1.3.6.1.4.1.14519.5.2.1.3671.4754.654327272206188613770270554127/1.3.6.1.4.1.14519.5.2.1.3671.4754.977716437434098663143847175828.dcm [Content-Type=application/dicom]...\n",
            "Copying file:///content/dcm_data/PCAMPMRI-00014/1.3.6.1.4.1.14519.5.2.1.3671.4754.288453744990673175783381845880/1.3.6.1.4.1.14519.5.2.1.3671.4754.654327272206188613770270554127/1.3.6.1.4.1.14519.5.2.1.3671.4754.336435471068889938508681277234.dcm [Content-Type=application/dicom]...\n",
            "Copying file:///content/dcm_data/PCAMPMRI-00014/1.3.6.1.4.1.14519.5.2.1.3671.4754.288453744990673175783381845880/1.3.6.1.4.1.14519.5.2.1.3671.4754.654327272206188613770270554127/1.3.6.1.4.1.14519.5.2.1.3671.4754.913516045750791447396162672354.dcm [Content-Type=application/dicom]...\n",
            "Copying file:///content/dcm_data/PCAMPMRI-00014/1.3.6.1.4.1.14519.5.2.1.3671.4754.288453744990673175783381845880/1.3.6.1.4.1.14519.5.2.1.3671.4754.654327272206188613770270554127/1.3.6.1.4.1.14519.5.2.1.3671.4754.136372695349190163255813816936.dcm [Content-Type=application/dicom]...\n",
            "Copying file:///content/dcm_data/PCAMPMRI-00014/1.3.6.1.4.1.14519.5.2.1.3671.4754.288453744990673175783381845880/1.3.6.1.4.1.14519.5.2.1.3671.4754.654327272206188613770270554127/1.3.6.1.4.1.14519.5.2.1.3671.4754.321895225184137767381819085539.dcm [Content-Type=application/dicom]...\n",
            "Copying file:///content/dcm_data/PCAMPMRI-00014/1.3.6.1.4.1.14519.5.2.1.3671.4754.288453744990673175783381845880/1.3.6.1.4.1.14519.5.2.1.3671.4754.654327272206188613770270554127/1.3.6.1.4.1.14519.5.2.1.3671.4754.305475255252007653424186659373.dcm [Content-Type=application/dicom]...\n",
            "Copying file:///content/dcm_data/PCAMPMRI-00014/1.3.6.1.4.1.14519.5.2.1.3671.4754.288453744990673175783381845880/1.3.6.1.4.1.14519.5.2.1.3671.4754.654327272206188613770270554127/1.3.6.1.4.1.14519.5.2.1.3671.4754.163573781376879503804909177242.dcm [Content-Type=application/dicom]...\n",
            "Copying file:///content/dcm_data/PCAMPMRI-00014/1.3.6.1.4.1.14519.5.2.1.3671.4754.288453744990673175783381845880/1.3.6.1.4.1.14519.5.2.1.3671.4754.654327272206188613770270554127/1.3.6.1.4.1.14519.5.2.1.3671.4754.164943374997507404793226012620.dcm [Content-Type=application/dicom]...\n",
            "Copying file:///content/dcm_data/PCAMPMRI-00014/1.3.6.1.4.1.14519.5.2.1.3671.4754.288453744990673175783381845880/1.3.6.1.4.1.14519.5.2.1.3671.4754.654327272206188613770270554127/1.3.6.1.4.1.14519.5.2.1.3671.4754.329988373550600574339220930171.dcm [Content-Type=application/dicom]...\n",
            "Copying file:///content/dcm_data/PCAMPMRI-00014/1.3.6.1.4.1.14519.5.2.1.3671.4754.288453744990673175783381845880/1.3.6.1.4.1.14519.5.2.1.3671.4754.654327272206188613770270554127/1.3.6.1.4.1.14519.5.2.1.3671.4754.469968099266483058547995726629.dcm [Content-Type=application/dicom]...\n",
            "Copying file:///content/dcm_data/PCAMPMRI-00014/1.3.6.1.4.1.14519.5.2.1.3671.4754.288453744990673175783381845880/1.3.6.1.4.1.14519.5.2.1.3671.4754.654327272206188613770270554127/1.3.6.1.4.1.14519.5.2.1.3671.4754.285060556653097073359641874921.dcm [Content-Type=application/dicom]...\n",
            "Copying file:///content/dcm_data/PCAMPMRI-00014/1.3.6.1.4.1.14519.5.2.1.3671.4754.288453744990673175783381845880/1.2.276.0.7230010.3.1.3.1426846371.9324.1513205197.742/1.2.276.0.7230010.3.1.4.1426846371.9324.1513205197.743.dcm [Content-Type=application/dicom]...\n",
            "Copying file:///content/dcm_data/PCAMPMRI-00015/1.3.6.1.4.1.14519.5.2.1.3671.4754.182983245842036631781777324507/1.2.276.0.7230010.3.1.3.1426846371.9904.1513205204.604/1.2.276.0.7230010.3.1.4.1426846371.9904.1513205204.605.dcm [Content-Type=application/dicom]...\n",
            "Copying file:///content/dcm_data/PCAMPMRI-00015/1.3.6.1.4.1.14519.5.2.1.3671.4754.182983245842036631781777324507/1.3.6.1.4.1.14519.5.2.1.3671.4754.212056086412825832650405216150/1.3.6.1.4.1.14519.5.2.1.3671.4754.173335211426363620684201258694.dcm [Content-Type=application/dicom]...\n",
            "Copying file:///content/dcm_data/PCAMPMRI-00015/1.3.6.1.4.1.14519.5.2.1.3671.4754.182983245842036631781777324507/1.3.6.1.4.1.14519.5.2.1.3671.4754.212056086412825832650405216150/1.3.6.1.4.1.14519.5.2.1.3671.4754.516402116644927068524230030623.dcm [Content-Type=application/dicom]...\n",
            "Copying file:///content/dcm_data/PCAMPMRI-00015/1.3.6.1.4.1.14519.5.2.1.3671.4754.182983245842036631781777324507/1.3.6.1.4.1.14519.5.2.1.3671.4754.212056086412825832650405216150/1.3.6.1.4.1.14519.5.2.1.3671.4754.801204651049382587033651886436.dcm [Content-Type=application/dicom]...\n",
            "Copying file:///content/dcm_data/PCAMPMRI-00015/1.3.6.1.4.1.14519.5.2.1.3671.4754.182983245842036631781777324507/1.3.6.1.4.1.14519.5.2.1.3671.4754.212056086412825832650405216150/1.3.6.1.4.1.14519.5.2.1.3671.4754.264283689375706549544990212242.dcm [Content-Type=application/dicom]...\n",
            "Copying file:///content/dcm_data/PCAMPMRI-00015/1.3.6.1.4.1.14519.5.2.1.3671.4754.182983245842036631781777324507/1.3.6.1.4.1.14519.5.2.1.3671.4754.212056086412825832650405216150/1.3.6.1.4.1.14519.5.2.1.3671.4754.283809938493229219652535001306.dcm [Content-Type=application/dicom]...\n",
            "Copying file:///content/dcm_data/PCAMPMRI-00015/1.3.6.1.4.1.14519.5.2.1.3671.4754.182983245842036631781777324507/1.3.6.1.4.1.14519.5.2.1.3671.4754.212056086412825832650405216150/1.3.6.1.4.1.14519.5.2.1.3671.4754.271353471538418331678610423056.dcm [Content-Type=application/dicom]...\n",
            "Copying file:///content/dcm_data/PCAMPMRI-00015/1.3.6.1.4.1.14519.5.2.1.3671.4754.182983245842036631781777324507/1.3.6.1.4.1.14519.5.2.1.3671.4754.212056086412825832650405216150/1.3.6.1.4.1.14519.5.2.1.3671.4754.181719362494785370041992761670.dcm [Content-Type=application/dicom]...\n",
            "Copying file:///content/dcm_data/PCAMPMRI-00015/1.3.6.1.4.1.14519.5.2.1.3671.4754.182983245842036631781777324507/1.3.6.1.4.1.14519.5.2.1.3671.4754.212056086412825832650405216150/1.3.6.1.4.1.14519.5.2.1.3671.4754.572887822592345962686801525460.dcm [Content-Type=application/dicom]...\n",
            "Copying file:///content/dcm_data/PCAMPMRI-00015/1.3.6.1.4.1.14519.5.2.1.3671.4754.182983245842036631781777324507/1.3.6.1.4.1.14519.5.2.1.3671.4754.212056086412825832650405216150/1.3.6.1.4.1.14519.5.2.1.3671.4754.330818958105132150268816333900.dcm [Content-Type=application/dicom]...\n",
            "Copying file:///content/dcm_data/PCAMPMRI-00015/1.3.6.1.4.1.14519.5.2.1.3671.4754.182983245842036631781777324507/1.3.6.1.4.1.14519.5.2.1.3671.4754.212056086412825832650405216150/1.3.6.1.4.1.14519.5.2.1.3671.4754.236927589984106290730253404160.dcm [Content-Type=application/dicom]...\n",
            "Copying file:///content/dcm_data/PCAMPMRI-00015/1.3.6.1.4.1.14519.5.2.1.3671.4754.182983245842036631781777324507/1.3.6.1.4.1.14519.5.2.1.3671.4754.212056086412825832650405216150/1.3.6.1.4.1.14519.5.2.1.3671.4754.174774150789314599385514377402.dcm [Content-Type=application/dicom]...\n",
            "Copying file:///content/dcm_data/PCAMPMRI-00015/1.3.6.1.4.1.14519.5.2.1.3671.4754.182983245842036631781777324507/1.3.6.1.4.1.14519.5.2.1.3671.4754.212056086412825832650405216150/1.3.6.1.4.1.14519.5.2.1.3671.4754.261978505499197982367267562015.dcm [Content-Type=application/dicom]...\n",
            "Copying file:///content/dcm_data/PCAMPMRI-00015/1.3.6.1.4.1.14519.5.2.1.3671.4754.182983245842036631781777324507/1.3.6.1.4.1.14519.5.2.1.3671.4754.212056086412825832650405216150/1.3.6.1.4.1.14519.5.2.1.3671.4754.185392616443358457360626384922.dcm [Content-Type=application/dicom]...\n",
            "Copying file:///content/dcm_data/PCAMPMRI-00015/1.3.6.1.4.1.14519.5.2.1.3671.4754.182983245842036631781777324507/1.3.6.1.4.1.14519.5.2.1.3671.4754.212056086412825832650405216150/1.3.6.1.4.1.14519.5.2.1.3671.4754.150412840152030624976649288729.dcm [Content-Type=application/dicom]...\n",
            "Copying file:///content/dcm_data/PCAMPMRI-00015/1.3.6.1.4.1.14519.5.2.1.3671.4754.182983245842036631781777324507/1.3.6.1.4.1.14519.5.2.1.3671.4754.212056086412825832650405216150/1.3.6.1.4.1.14519.5.2.1.3671.4754.244559086269408555568201641947.dcm [Content-Type=application/dicom]...\n",
            "Copying file:///content/dcm_data/PCAMPMRI-00015/1.3.6.1.4.1.14519.5.2.1.3671.4754.182983245842036631781777324507/1.3.6.1.4.1.14519.5.2.1.3671.4754.212056086412825832650405216150/1.3.6.1.4.1.14519.5.2.1.3671.4754.142153806317242476305998435716.dcm [Content-Type=application/dicom]...\n",
            "Copying file:///content/dcm_data/PCAMPMRI-00015/1.3.6.1.4.1.14519.5.2.1.3671.4754.182983245842036631781777324507/1.3.6.1.4.1.14519.5.2.1.3671.4754.212056086412825832650405216150/1.3.6.1.4.1.14519.5.2.1.3671.4754.142385071334231029542702592572.dcm [Content-Type=application/dicom]...\n",
            "Copying file:///content/dcm_data/PCAMPMRI-00015/1.3.6.1.4.1.14519.5.2.1.3671.4754.182983245842036631781777324507/1.3.6.1.4.1.14519.5.2.1.3671.4754.212056086412825832650405216150/1.3.6.1.4.1.14519.5.2.1.3671.4754.268320283778527620152555346670.dcm [Content-Type=application/dicom]...\n",
            "Copying file:///content/dcm_data/PCAMPMRI-00015/1.3.6.1.4.1.14519.5.2.1.3671.4754.182983245842036631781777324507/1.3.6.1.4.1.14519.5.2.1.3671.4754.212056086412825832650405216150/1.3.6.1.4.1.14519.5.2.1.3671.4754.223378388472835409926589462539.dcm [Content-Type=application/dicom]...\n",
            "Copying file:///content/dcm_data/PCAMPMRI-00015/1.3.6.1.4.1.14519.5.2.1.3671.4754.182983245842036631781777324507/1.3.6.1.4.1.14519.5.2.1.3671.4754.212056086412825832650405216150/1.3.6.1.4.1.14519.5.2.1.3671.4754.225595800187231348709147561916.dcm [Content-Type=application/dicom]...\n",
            "Copying file:///content/dcm_data/PCAMPMRI-00015/1.3.6.1.4.1.14519.5.2.1.3671.4754.182983245842036631781777324507/1.3.6.1.4.1.14519.5.2.1.3671.4754.212056086412825832650405216150/1.3.6.1.4.1.14519.5.2.1.3671.4754.495047548766853787201846981058.dcm [Content-Type=application/dicom]...\n",
            "Copying file:///content/dcm_data/PCAMPMRI-00015/1.3.6.1.4.1.14519.5.2.1.3671.4754.182983245842036631781777324507/1.3.6.1.4.1.14519.5.2.1.3671.4754.212056086412825832650405216150/1.3.6.1.4.1.14519.5.2.1.3671.4754.197758900485730584483857674557.dcm [Content-Type=application/dicom]...\n",
            "Copying file:///content/dcm_data/PCAMPMRI-00015/1.3.6.1.4.1.14519.5.2.1.3671.4754.182983245842036631781777324507/1.3.6.1.4.1.14519.5.2.1.3671.4754.212056086412825832650405216150/1.3.6.1.4.1.14519.5.2.1.3671.4754.207360571014562512846696728386.dcm [Content-Type=application/dicom]...\n",
            "Copying file:///content/dcm_data/PCAMPMRI-00015/1.3.6.1.4.1.14519.5.2.1.3671.4754.182983245842036631781777324507/1.3.6.1.4.1.14519.5.2.1.3671.4754.212056086412825832650405216150/1.3.6.1.4.1.14519.5.2.1.3671.4754.180249413208195869195502276906.dcm [Content-Type=application/dicom]...\n",
            "Copying file:///content/dcm_data/PCAMPMRI-00015/1.3.6.1.4.1.14519.5.2.1.3671.4754.182983245842036631781777324507/1.3.6.1.4.1.14519.5.2.1.3671.4754.212056086412825832650405216150/1.3.6.1.4.1.14519.5.2.1.3671.4754.191839481931152907230997922631.dcm [Content-Type=application/dicom]...\n",
            "Copying file:///content/dcm_data/PCAMPMRI-00015/1.3.6.1.4.1.14519.5.2.1.3671.4754.182983245842036631781777324507/1.3.6.1.4.1.14519.5.2.1.3671.4754.212056086412825832650405216150/1.3.6.1.4.1.14519.5.2.1.3671.4754.589637209944971865833790889232.dcm [Content-Type=application/dicom]...\n",
            "Copying file:///content/dcm_data/PCAMPMRI-00015/1.3.6.1.4.1.14519.5.2.1.3671.4754.182983245842036631781777324507/1.3.6.1.4.1.14519.5.2.1.3671.4754.212056086412825832650405216150/1.3.6.1.4.1.14519.5.2.1.3671.4754.291781963246457177240101774008.dcm [Content-Type=application/dicom]...\n",
            "Copying file:///content/dcm_data/PCAMPMRI-00015/1.3.6.1.4.1.14519.5.2.1.3671.4754.182983245842036631781777324507/1.3.6.1.4.1.14519.5.2.1.3671.4754.212056086412825832650405216150/1.3.6.1.4.1.14519.5.2.1.3671.4754.255164891854158487143992989185.dcm [Content-Type=application/dicom]...\n",
            "Copying file:///content/dcm_data/PCAMPMRI-00015/1.3.6.1.4.1.14519.5.2.1.3671.4754.431678793261759442965045820561/1.3.6.1.4.1.14519.5.2.1.3671.4754.621341845114918594203879249474/1.3.6.1.4.1.14519.5.2.1.3671.4754.237450633120237628518091023857.dcm [Content-Type=application/dicom]...\n",
            "Copying file:///content/dcm_data/PCAMPMRI-00015/1.3.6.1.4.1.14519.5.2.1.3671.4754.431678793261759442965045820561/1.3.6.1.4.1.14519.5.2.1.3671.4754.621341845114918594203879249474/1.3.6.1.4.1.14519.5.2.1.3671.4754.199976269483291115590731413022.dcm [Content-Type=application/dicom]...\n",
            "Copying file:///content/dcm_data/PCAMPMRI-00015/1.3.6.1.4.1.14519.5.2.1.3671.4754.431678793261759442965045820561/1.3.6.1.4.1.14519.5.2.1.3671.4754.621341845114918594203879249474/1.3.6.1.4.1.14519.5.2.1.3671.4754.286491419060518793394731883239.dcm [Content-Type=application/dicom]...\n",
            "Copying file:///content/dcm_data/PCAMPMRI-00015/1.3.6.1.4.1.14519.5.2.1.3671.4754.431678793261759442965045820561/1.3.6.1.4.1.14519.5.2.1.3671.4754.621341845114918594203879249474/1.3.6.1.4.1.14519.5.2.1.3671.4754.326425820262201439713871521332.dcm [Content-Type=application/dicom]...\n",
            "Copying file:///content/dcm_data/PCAMPMRI-00015/1.3.6.1.4.1.14519.5.2.1.3671.4754.431678793261759442965045820561/1.3.6.1.4.1.14519.5.2.1.3671.4754.621341845114918594203879249474/1.3.6.1.4.1.14519.5.2.1.3671.4754.270897498698983103147851373956.dcm [Content-Type=application/dicom]...\n",
            "Copying file:///content/dcm_data/PCAMPMRI-00015/1.3.6.1.4.1.14519.5.2.1.3671.4754.431678793261759442965045820561/1.3.6.1.4.1.14519.5.2.1.3671.4754.621341845114918594203879249474/1.3.6.1.4.1.14519.5.2.1.3671.4754.229825341728055421883337883309.dcm [Content-Type=application/dicom]...\n",
            "Copying file:///content/dcm_data/PCAMPMRI-00015/1.3.6.1.4.1.14519.5.2.1.3671.4754.431678793261759442965045820561/1.3.6.1.4.1.14519.5.2.1.3671.4754.621341845114918594203879249474/1.3.6.1.4.1.14519.5.2.1.3671.4754.259916359013717337124983023572.dcm [Content-Type=application/dicom]...\n",
            "Copying file:///content/dcm_data/PCAMPMRI-00015/1.3.6.1.4.1.14519.5.2.1.3671.4754.431678793261759442965045820561/1.3.6.1.4.1.14519.5.2.1.3671.4754.621341845114918594203879249474/1.3.6.1.4.1.14519.5.2.1.3671.4754.975046611514019820304418378952.dcm [Content-Type=application/dicom]...\n",
            "Copying file:///content/dcm_data/PCAMPMRI-00015/1.3.6.1.4.1.14519.5.2.1.3671.4754.431678793261759442965045820561/1.3.6.1.4.1.14519.5.2.1.3671.4754.621341845114918594203879249474/1.3.6.1.4.1.14519.5.2.1.3671.4754.930165939140902520753296263207.dcm [Content-Type=application/dicom]...\n",
            "Copying file:///content/dcm_data/PCAMPMRI-00015/1.3.6.1.4.1.14519.5.2.1.3671.4754.431678793261759442965045820561/1.3.6.1.4.1.14519.5.2.1.3671.4754.621341845114918594203879249474/1.3.6.1.4.1.14519.5.2.1.3671.4754.105044671932704216365566569821.dcm [Content-Type=application/dicom]...\n",
            "Copying file:///content/dcm_data/PCAMPMRI-00015/1.3.6.1.4.1.14519.5.2.1.3671.4754.431678793261759442965045820561/1.3.6.1.4.1.14519.5.2.1.3671.4754.621341845114918594203879249474/1.3.6.1.4.1.14519.5.2.1.3671.4754.165731824754816608168413524993.dcm [Content-Type=application/dicom]...\n",
            "Copying file:///content/dcm_data/PCAMPMRI-00015/1.3.6.1.4.1.14519.5.2.1.3671.4754.431678793261759442965045820561/1.3.6.1.4.1.14519.5.2.1.3671.4754.621341845114918594203879249474/1.3.6.1.4.1.14519.5.2.1.3671.4754.105777543336637650696598220362.dcm [Content-Type=application/dicom]...\n",
            "Copying file:///content/dcm_data/PCAMPMRI-00015/1.3.6.1.4.1.14519.5.2.1.3671.4754.431678793261759442965045820561/1.3.6.1.4.1.14519.5.2.1.3671.4754.621341845114918594203879249474/1.3.6.1.4.1.14519.5.2.1.3671.4754.255462727038875234764037090028.dcm [Content-Type=application/dicom]...\n",
            "Copying file:///content/dcm_data/PCAMPMRI-00015/1.3.6.1.4.1.14519.5.2.1.3671.4754.431678793261759442965045820561/1.3.6.1.4.1.14519.5.2.1.3671.4754.621341845114918594203879249474/1.3.6.1.4.1.14519.5.2.1.3671.4754.325823761558590024287223439002.dcm [Content-Type=application/dicom]...\n",
            "Copying file:///content/dcm_data/PCAMPMRI-00015/1.3.6.1.4.1.14519.5.2.1.3671.4754.431678793261759442965045820561/1.3.6.1.4.1.14519.5.2.1.3671.4754.621341845114918594203879249474/1.3.6.1.4.1.14519.5.2.1.3671.4754.334722178172475374274671571540.dcm [Content-Type=application/dicom]...\n",
            "Copying file:///content/dcm_data/PCAMPMRI-00015/1.3.6.1.4.1.14519.5.2.1.3671.4754.431678793261759442965045820561/1.3.6.1.4.1.14519.5.2.1.3671.4754.621341845114918594203879249474/1.3.6.1.4.1.14519.5.2.1.3671.4754.101369135516743137928569855581.dcm [Content-Type=application/dicom]...\n",
            "Copying file:///content/dcm_data/PCAMPMRI-00015/1.3.6.1.4.1.14519.5.2.1.3671.4754.431678793261759442965045820561/1.3.6.1.4.1.14519.5.2.1.3671.4754.621341845114918594203879249474/1.3.6.1.4.1.14519.5.2.1.3671.4754.842860952258723279966071493429.dcm [Content-Type=application/dicom]...\n",
            "Copying file:///content/dcm_data/PCAMPMRI-00015/1.3.6.1.4.1.14519.5.2.1.3671.4754.431678793261759442965045820561/1.3.6.1.4.1.14519.5.2.1.3671.4754.621341845114918594203879249474/1.3.6.1.4.1.14519.5.2.1.3671.4754.250994244000801682156993557521.dcm [Content-Type=application/dicom]...\n",
            "Copying file:///content/dcm_data/PCAMPMRI-00015/1.3.6.1.4.1.14519.5.2.1.3671.4754.431678793261759442965045820561/1.3.6.1.4.1.14519.5.2.1.3671.4754.621341845114918594203879249474/1.3.6.1.4.1.14519.5.2.1.3671.4754.112440297589281002613891210545.dcm [Content-Type=application/dicom]...\n",
            "Copying file:///content/dcm_data/PCAMPMRI-00015/1.3.6.1.4.1.14519.5.2.1.3671.4754.431678793261759442965045820561/1.3.6.1.4.1.14519.5.2.1.3671.4754.621341845114918594203879249474/1.3.6.1.4.1.14519.5.2.1.3671.4754.463448990898140182733886779661.dcm [Content-Type=application/dicom]...\n",
            "Copying file:///content/dcm_data/PCAMPMRI-00015/1.3.6.1.4.1.14519.5.2.1.3671.4754.431678793261759442965045820561/1.3.6.1.4.1.14519.5.2.1.3671.4754.621341845114918594203879249474/1.3.6.1.4.1.14519.5.2.1.3671.4754.154801324336044632377260837586.dcm [Content-Type=application/dicom]...\n",
            "Copying file:///content/dcm_data/PCAMPMRI-00015/1.3.6.1.4.1.14519.5.2.1.3671.4754.431678793261759442965045820561/1.3.6.1.4.1.14519.5.2.1.3671.4754.621341845114918594203879249474/1.3.6.1.4.1.14519.5.2.1.3671.4754.320593457946668693858775066364.dcm [Content-Type=application/dicom]...\n",
            "Copying file:///content/dcm_data/PCAMPMRI-00015/1.3.6.1.4.1.14519.5.2.1.3671.4754.431678793261759442965045820561/1.3.6.1.4.1.14519.5.2.1.3671.4754.621341845114918594203879249474/1.3.6.1.4.1.14519.5.2.1.3671.4754.114742130265607763417828615681.dcm [Content-Type=application/dicom]...\n",
            "Copying file:///content/dcm_data/PCAMPMRI-00015/1.3.6.1.4.1.14519.5.2.1.3671.4754.431678793261759442965045820561/1.3.6.1.4.1.14519.5.2.1.3671.4754.621341845114918594203879249474/1.3.6.1.4.1.14519.5.2.1.3671.4754.159247395173180027736044825456.dcm [Content-Type=application/dicom]...\n",
            "Copying file:///content/dcm_data/PCAMPMRI-00015/1.3.6.1.4.1.14519.5.2.1.3671.4754.431678793261759442965045820561/1.3.6.1.4.1.14519.5.2.1.3671.4754.621341845114918594203879249474/1.3.6.1.4.1.14519.5.2.1.3671.4754.267608844232788946921118033761.dcm [Content-Type=application/dicom]...\n",
            "Copying file:///content/dcm_data/PCAMPMRI-00015/1.3.6.1.4.1.14519.5.2.1.3671.4754.431678793261759442965045820561/1.3.6.1.4.1.14519.5.2.1.3671.4754.621341845114918594203879249474/1.3.6.1.4.1.14519.5.2.1.3671.4754.714825446287890146691551387418.dcm [Content-Type=application/dicom]...\n",
            "Copying file:///content/dcm_data/PCAMPMRI-00015/1.3.6.1.4.1.14519.5.2.1.3671.4754.431678793261759442965045820561/1.3.6.1.4.1.14519.5.2.1.3671.4754.621341845114918594203879249474/1.3.6.1.4.1.14519.5.2.1.3671.4754.263449546258676794263819483330.dcm [Content-Type=application/dicom]...\n",
            "Copying file:///content/dcm_data/PCAMPMRI-00015/1.3.6.1.4.1.14519.5.2.1.3671.4754.431678793261759442965045820561/1.3.6.1.4.1.14519.5.2.1.3671.4754.621341845114918594203879249474/1.3.6.1.4.1.14519.5.2.1.3671.4754.287230937472625192415928487987.dcm [Content-Type=application/dicom]...\n",
            "Copying file:///content/dcm_data/PCAMPMRI-00015/1.3.6.1.4.1.14519.5.2.1.3671.4754.431678793261759442965045820561/1.2.276.0.7230010.3.1.3.1426846371.10800.1513205209.120/1.2.276.0.7230010.3.1.4.1426846371.10800.1513205209.121.dcm [Content-Type=application/dicom]...\n",
            "/ [920/920 files][543.8 MiB/543.8 MiB] 100% Done  17.3 MiB/s ETA 00:00:00       \n",
            "Operation completed over 920 objects/543.8 MiB.                                  \n"
          ]
        }
      ]
    },
    {
      "cell_type": "markdown",
      "metadata": {
        "id": "fS1mdqAbFyxY"
      },
      "source": [
        "### GCP Healthcare steps "
      ]
    },
    {
      "cell_type": "markdown",
      "source": [
        "## Upload to dicom store"
      ],
      "metadata": {
        "id": "MJjACm6YRYj2"
      }
    },
    {
      "cell_type": "code",
      "execution_count": null,
      "metadata": {
        "colab": {
          "base_uri": "https://localhost:8080/"
        },
        "id": "5PMos8NSU5v5",
        "outputId": "7e36ae76-b688-4d4d-ffec-0a96235f284e"
      },
      "outputs": [
        {
          "output_type": "stream",
          "name": "stdout",
          "text": [
            "Request issued for: [pz_tz_monai_prostate158_2ServersIDC]\n",
            "name: projects/idc-sandbox-003/locations/us-central1/datasets/prostate-seg/dicomStores/pz_tz_monai_prostate158_2ServersIDC\n"
          ]
        }
      ],
      "source": [
        "!gcloud healthcare dicom-stores import gcs pz_tz_monai_prostate158_2ServersIDC \\\n",
        "                                            --dataset=prostate-seg \\\n",
        "                                            --location=us-central1 \\\n",
        "                                            --project=idc-sandbox-003 \\\n",
        "                                            --gcs-uri=gs://prostate-seg-use-case/monai-prostate158/preds/**.dcm"
      ]
    },
    {
      "cell_type": "markdown",
      "source": [
        "## Write to Big Query table"
      ],
      "metadata": {
        "id": "wNgZhCppRcYp"
      }
    },
    {
      "cell_type": "code",
      "source": [
        "eval_df[\"ohif_url\"] = eval_df.apply(add_ohif_url, args = [\"pz_tz_monai_prostate158_2ServersIDC\", \"prostate-seg\", \"fir-idc-prostate-ohif.web.app\", \"idc-sandbox-003\", \"us-central1\"], axis=1)\n",
        "eval_df[\"cloud_storage_path\"] = eval_df.apply(lambda x : \"/prostate-seg-use-case/monai-prostate158/preds/\", axis=1)"
      ],
      "metadata": {
        "id": "-PVUw1OZk3YP"
      },
      "execution_count": null,
      "outputs": []
    },
    {
      "cell_type": "code",
      "source": [
        "# Construct a BigQuery client object.\n",
        "bq_client = bigquery.Client(\"idc-sandbox-003\")\n",
        "table_id = \"idc-sandbox-003.prostate_mri_anatomy_monai.pz_segment\"#prostatex.whole_prostate_dcm_no_gt_final\"\n",
        "\n",
        "job = bq_client.load_table_from_dataframe(\n",
        "    eval_df, table_id\n",
        ")  # Make an API request.\n",
        "job.result()  # Wait for the job to complete.\n",
        "\n",
        "table = bq_client.get_table(table_id)  # Make an API request.\n",
        "print(\n",
        "    \"Loaded {} rows and {} columns to {}\".format(\n",
        "        table.num_rows, len(table.schema), table_id\n",
        "    )\n",
        ")"
      ],
      "metadata": {
        "colab": {
          "base_uri": "https://localhost:8080/"
        },
        "id": "SS1ZfbcZaI3N",
        "outputId": "5c8822b8-23f8-4382-c573-28cf4df881b5"
      },
      "execution_count": null,
      "outputs": [
        {
          "output_type": "stream",
          "name": "stderr",
          "text": [
            "/usr/local/lib/python3.7/dist-packages/google/cloud/bigquery/_pandas_helpers.py:275: UserWarning: Unable to determine type of column 'ReferencedSeriesInstanceUID'.\n",
            "  warnings.warn(u\"Unable to determine type of column '{}'.\".format(column))\n"
          ]
        },
        {
          "output_type": "stream",
          "name": "stdout",
          "text": [
            "Loaded 281 rows and 15 columns to idc-sandbox-003.prostatex.whole_prostate_dcm_no_gt_final\n"
          ]
        }
      ]
    },
    {
      "cell_type": "code",
      "source": [],
      "metadata": {
        "id": "zvx67e3c8aUn"
      },
      "execution_count": null,
      "outputs": []
    }
  ]
}